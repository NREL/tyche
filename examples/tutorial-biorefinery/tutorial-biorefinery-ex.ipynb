{
 "cells": [
  {
   "cell_type": "markdown",
   "metadata": {},
   "source": [
    "# Tutorial: Toy Biorefinery Example"
   ]
  },
  {
   "cell_type": "markdown",
   "metadata": {},
   "source": [
    "*All cells executed on tsv-to-csv branch, 4/5/2022*"
   ]
  },
  {
   "cell_type": "code",
   "execution_count": 1,
   "metadata": {},
   "outputs": [],
   "source": [
    "import os\n",
    "import sys\n",
    "sys.path.insert(1, os.path.abspath(\"../../src\"))\n",
    "import numpy             as np\n",
    "import matplotlib.pyplot as pl\n",
    "import pandas            as pd\n",
    "import seaborn           as sb\n",
    "import tyche             as ty"
   ]
  },
  {
   "cell_type": "markdown",
   "metadata": {},
   "source": [
    "## Design the technology model."
   ]
  },
  {
   "cell_type": "markdown",
   "metadata": {},
   "source": [
    "### Technology name."
   ]
  },
  {
   "cell_type": "markdown",
   "metadata": {},
   "source": [
    "Choose a unique name for the technology being modeled: **Biorefinery v1**\n",
    "\n",
    "Also choose a unique name for the default, reference, or base-case scenario: **Bioreference**"
   ]
  },
  {
   "cell_type": "markdown",
   "metadata": {},
   "source": [
    "### Dimensions and indices."
   ]
  },
  {
   "cell_type": "markdown",
   "metadata": {},
   "source": [
    "Decide which quantities will be tracked as indices in the model, and settle on their units of measurment and default values:\n",
    "1.  Types of capital costs\n",
    "    * Preprocessing\n",
    "    * Fermentation\n",
    "    * Conversion\n",
    "    * Separations\n",
    "    * Utilities\n",
    "2.  Types of fixed cost\n",
    "    * Rent\n",
    "    * Insurance\n",
    "3.  Inputs to the process\n",
    "    * Feedstock\n",
    "    * Natural gas\n",
    "4.  Outputs from the process\n",
    "    * Biofuel\n",
    "5.  Metrics\n",
    "    * Jobs (person-hours/gal biofuel)\n",
    "    * Fossil GHG (kg CO2-eq/gal biofuel)\n",
    "    * Total GHG (kg CO2-eq/gal biofuel)\n",
    "    * MFSP (USD/gal biofuel) - minimum fuel selling price\n",
    "6.  Parameters\n",
    "    * Fossil GHG (kg CO2-eq/year)\n",
    "    * Biogenic GHG (kg CO2-eq/year)\n",
    "    * Employment (person-hours/year)\n",
    "    * Preprocessing Capital Cost (USD/biorefinery)\n",
    "    * Fermentation Capital Cost (USD/biorefinery)\n",
    "    * Conversion Capital Cost (USD/biorefinery)\n",
    "    * Separations Capital Cost (USD/biorefinery)\n",
    "    * Utilities Capital Cost (USD/biorefinery)\n",
    "    * Rent (USD/year)\n",
    "    * Insurance (USD/year)\n",
    "    * Original Scale (unitless)\n",
    "    * Scaling Factor (unitless)\n",
    "    * Ideal Biofuel Yield (gal/metric ton)\n",
    "    * Discount Rate (unitless)\n",
    "    * Depreciation Period (year)\n",
    "    * Depreciation Period Utilities (year)\n",
    "    * Income Tax Rate (unitless)\n",
    "\n",
    "\n",
    "Note that in each category, the numeric indices for each item are numbered with integers starting from zero.\n",
    "\n",
    "See the [model](https://tyche.live/doc-src/formulation.html) and [database](https://tyche.live/doc-src/database.html) documentation for more details."
   ]
  },
  {
   "cell_type": "markdown",
   "metadata": {},
   "source": [
    "### Create the `indices` table."
   ]
  },
  {
   "cell_type": "markdown",
   "metadata": {},
   "source": [
    "Check to see that the data file reads correctly:"
   ]
  },
  {
   "cell_type": "code",
   "execution_count": 2,
   "metadata": {},
   "outputs": [
    {
     "data": {
      "text/html": [
       "<div>\n",
       "<style scoped>\n",
       "    .dataframe tbody tr th:only-of-type {\n",
       "        vertical-align: middle;\n",
       "    }\n",
       "\n",
       "    .dataframe tbody tr th {\n",
       "        vertical-align: top;\n",
       "    }\n",
       "\n",
       "    .dataframe thead th {\n",
       "        text-align: right;\n",
       "    }\n",
       "</style>\n",
       "<table border=\"1\" class=\"dataframe\">\n",
       "  <thead>\n",
       "    <tr style=\"text-align: right;\">\n",
       "      <th></th>\n",
       "      <th></th>\n",
       "      <th>Index</th>\n",
       "      <th>Offset</th>\n",
       "      <th>Description</th>\n",
       "      <th>Notes</th>\n",
       "    </tr>\n",
       "    <tr>\n",
       "      <th>Technology</th>\n",
       "      <th>Type</th>\n",
       "      <th></th>\n",
       "      <th></th>\n",
       "      <th></th>\n",
       "      <th></th>\n",
       "    </tr>\n",
       "  </thead>\n",
       "  <tbody>\n",
       "    <tr>\n",
       "      <th rowspan=\"31\" valign=\"top\">Biorefinery v1</th>\n",
       "      <th>Capital</th>\n",
       "      <td>Preprocessing</td>\n",
       "      <td>0</td>\n",
       "      <td>process area capital costs</td>\n",
       "      <td></td>\n",
       "    </tr>\n",
       "    <tr>\n",
       "      <th>Capital</th>\n",
       "      <td>Fermentation</td>\n",
       "      <td>1</td>\n",
       "      <td>process area capital costs</td>\n",
       "      <td></td>\n",
       "    </tr>\n",
       "    <tr>\n",
       "      <th>Capital</th>\n",
       "      <td>Conversion</td>\n",
       "      <td>2</td>\n",
       "      <td>process area capital costs</td>\n",
       "      <td></td>\n",
       "    </tr>\n",
       "    <tr>\n",
       "      <th>Capital</th>\n",
       "      <td>Separations</td>\n",
       "      <td>3</td>\n",
       "      <td>process area capital costs</td>\n",
       "      <td></td>\n",
       "    </tr>\n",
       "    <tr>\n",
       "      <th>Capital</th>\n",
       "      <td>Utilities</td>\n",
       "      <td>4</td>\n",
       "      <td>process area capital costs</td>\n",
       "      <td></td>\n",
       "    </tr>\n",
       "    <tr>\n",
       "      <th>Fixed</th>\n",
       "      <td>Rent</td>\n",
       "      <td>0</td>\n",
       "      <td></td>\n",
       "      <td></td>\n",
       "    </tr>\n",
       "    <tr>\n",
       "      <th>Fixed</th>\n",
       "      <td>Insurance</td>\n",
       "      <td>1</td>\n",
       "      <td></td>\n",
       "      <td></td>\n",
       "    </tr>\n",
       "    <tr>\n",
       "      <th>Input</th>\n",
       "      <td>Feedstock</td>\n",
       "      <td>0</td>\n",
       "      <td></td>\n",
       "      <td></td>\n",
       "    </tr>\n",
       "    <tr>\n",
       "      <th>Input</th>\n",
       "      <td>Natural Gas</td>\n",
       "      <td>1</td>\n",
       "      <td></td>\n",
       "      <td></td>\n",
       "    </tr>\n",
       "    <tr>\n",
       "      <th>Metric</th>\n",
       "      <td>Jobs</td>\n",
       "      <td>0</td>\n",
       "      <td>person-hours/gal biofuel</td>\n",
       "      <td></td>\n",
       "    </tr>\n",
       "    <tr>\n",
       "      <th>Metric</th>\n",
       "      <td>Fossil GHG</td>\n",
       "      <td>1</td>\n",
       "      <td>kg CO2-eq/gal biofuel</td>\n",
       "      <td></td>\n",
       "    </tr>\n",
       "    <tr>\n",
       "      <th>Metric</th>\n",
       "      <td>Total GHG</td>\n",
       "      <td>2</td>\n",
       "      <td>kg CO2-eq/gal biofuel</td>\n",
       "      <td></td>\n",
       "    </tr>\n",
       "    <tr>\n",
       "      <th>Metric</th>\n",
       "      <td>MFSP</td>\n",
       "      <td>3</td>\n",
       "      <td>USD/gal biofuel</td>\n",
       "      <td>minimum fuel selling price</td>\n",
       "    </tr>\n",
       "    <tr>\n",
       "      <th>Output</th>\n",
       "      <td>Biofuel</td>\n",
       "      <td>0</td>\n",
       "      <td></td>\n",
       "      <td></td>\n",
       "    </tr>\n",
       "    <tr>\n",
       "      <th>Technical Parameter</th>\n",
       "      <td>Fossil GHG</td>\n",
       "      <td>0</td>\n",
       "      <td>kg CO2-eq/year</td>\n",
       "      <td></td>\n",
       "    </tr>\n",
       "    <tr>\n",
       "      <th>Technical Parameter</th>\n",
       "      <td>Biogenic GHG</td>\n",
       "      <td>1</td>\n",
       "      <td>kg CO2-eq/year</td>\n",
       "      <td></td>\n",
       "    </tr>\n",
       "    <tr>\n",
       "      <th>Technical Parameter</th>\n",
       "      <td>Employment</td>\n",
       "      <td>2</td>\n",
       "      <td>person-hours/year</td>\n",
       "      <td></td>\n",
       "    </tr>\n",
       "    <tr>\n",
       "      <th>Technical Parameter</th>\n",
       "      <td>Preprocessing Capital Cost</td>\n",
       "      <td>3</td>\n",
       "      <td>USD/biorefinery</td>\n",
       "      <td></td>\n",
       "    </tr>\n",
       "    <tr>\n",
       "      <th>Technical Parameter</th>\n",
       "      <td>Fermentation Capital Cost</td>\n",
       "      <td>4</td>\n",
       "      <td>USD/biorefinery</td>\n",
       "      <td></td>\n",
       "    </tr>\n",
       "    <tr>\n",
       "      <th>Technical Parameter</th>\n",
       "      <td>Conversion Capital Cost</td>\n",
       "      <td>5</td>\n",
       "      <td>USD/biorefinery</td>\n",
       "      <td></td>\n",
       "    </tr>\n",
       "    <tr>\n",
       "      <th>Technical Parameter</th>\n",
       "      <td>Separations Capital Cost</td>\n",
       "      <td>6</td>\n",
       "      <td>USD/biorefinery</td>\n",
       "      <td></td>\n",
       "    </tr>\n",
       "    <tr>\n",
       "      <th>Technical Parameter</th>\n",
       "      <td>Utilities Capital Cost</td>\n",
       "      <td>7</td>\n",
       "      <td>USD/biorefinery</td>\n",
       "      <td></td>\n",
       "    </tr>\n",
       "    <tr>\n",
       "      <th>Technical Parameter</th>\n",
       "      <td>Rent</td>\n",
       "      <td>8</td>\n",
       "      <td>USD/year</td>\n",
       "      <td></td>\n",
       "    </tr>\n",
       "    <tr>\n",
       "      <th>Technical Parameter</th>\n",
       "      <td>Insurance</td>\n",
       "      <td>9</td>\n",
       "      <td>USD/year</td>\n",
       "      <td></td>\n",
       "    </tr>\n",
       "    <tr>\n",
       "      <th>Technical Parameter</th>\n",
       "      <td>Original Scale</td>\n",
       "      <td>10</td>\n",
       "      <td>unitless</td>\n",
       "      <td></td>\n",
       "    </tr>\n",
       "    <tr>\n",
       "      <th>Technical Parameter</th>\n",
       "      <td>Scaling Factor</td>\n",
       "      <td>11</td>\n",
       "      <td>unitless</td>\n",
       "      <td></td>\n",
       "    </tr>\n",
       "    <tr>\n",
       "      <th>Technical Parameter</th>\n",
       "      <td>Ideal Biofuel Yield</td>\n",
       "      <td>12</td>\n",
       "      <td>gal/metric ton</td>\n",
       "      <td></td>\n",
       "    </tr>\n",
       "    <tr>\n",
       "      <th>Technical Parameter</th>\n",
       "      <td>Discount Rate</td>\n",
       "      <td>13</td>\n",
       "      <td>unitless</td>\n",
       "      <td></td>\n",
       "    </tr>\n",
       "    <tr>\n",
       "      <th>Technical Parameter</th>\n",
       "      <td>Depreciation Period</td>\n",
       "      <td>14</td>\n",
       "      <td>year</td>\n",
       "      <td></td>\n",
       "    </tr>\n",
       "    <tr>\n",
       "      <th>Technical Parameter</th>\n",
       "      <td>Depreciation Period Utilities</td>\n",
       "      <td>15</td>\n",
       "      <td>year</td>\n",
       "      <td></td>\n",
       "    </tr>\n",
       "    <tr>\n",
       "      <th>Technical Parameter</th>\n",
       "      <td>Income Tax Rate</td>\n",
       "      <td>16</td>\n",
       "      <td>unitless</td>\n",
       "      <td></td>\n",
       "    </tr>\n",
       "  </tbody>\n",
       "</table>\n",
       "</div>"
      ],
      "text/plain": [
       "                                                            Index  Offset  \\\n",
       "Technology     Type                                                         \n",
       "Biorefinery v1 Capital                              Preprocessing       0   \n",
       "               Capital                               Fermentation       1   \n",
       "               Capital                                 Conversion       2   \n",
       "               Capital                                Separations       3   \n",
       "               Capital                                  Utilities       4   \n",
       "               Fixed                                         Rent       0   \n",
       "               Fixed                                    Insurance       1   \n",
       "               Input                                    Feedstock       0   \n",
       "               Input                                  Natural Gas       1   \n",
       "               Metric                                        Jobs       0   \n",
       "               Metric                                  Fossil GHG       1   \n",
       "               Metric                                   Total GHG       2   \n",
       "               Metric                                        MFSP       3   \n",
       "               Output                                     Biofuel       0   \n",
       "               Technical Parameter                     Fossil GHG       0   \n",
       "               Technical Parameter                   Biogenic GHG       1   \n",
       "               Technical Parameter                     Employment       2   \n",
       "               Technical Parameter     Preprocessing Capital Cost       3   \n",
       "               Technical Parameter      Fermentation Capital Cost       4   \n",
       "               Technical Parameter        Conversion Capital Cost       5   \n",
       "               Technical Parameter       Separations Capital Cost       6   \n",
       "               Technical Parameter         Utilities Capital Cost       7   \n",
       "               Technical Parameter                           Rent       8   \n",
       "               Technical Parameter                      Insurance       9   \n",
       "               Technical Parameter                 Original Scale      10   \n",
       "               Technical Parameter                 Scaling Factor      11   \n",
       "               Technical Parameter            Ideal Biofuel Yield      12   \n",
       "               Technical Parameter                  Discount Rate      13   \n",
       "               Technical Parameter            Depreciation Period      14   \n",
       "               Technical Parameter  Depreciation Period Utilities      15   \n",
       "               Technical Parameter                Income Tax Rate      16   \n",
       "\n",
       "                                                   Description  \\\n",
       "Technology     Type                                              \n",
       "Biorefinery v1 Capital              process area capital costs   \n",
       "               Capital              process area capital costs   \n",
       "               Capital              process area capital costs   \n",
       "               Capital              process area capital costs   \n",
       "               Capital              process area capital costs   \n",
       "               Fixed                                             \n",
       "               Fixed                                             \n",
       "               Input                                             \n",
       "               Input                                             \n",
       "               Metric                 person-hours/gal biofuel   \n",
       "               Metric                    kg CO2-eq/gal biofuel   \n",
       "               Metric                    kg CO2-eq/gal biofuel   \n",
       "               Metric                          USD/gal biofuel   \n",
       "               Output                                            \n",
       "               Technical Parameter              kg CO2-eq/year   \n",
       "               Technical Parameter              kg CO2-eq/year   \n",
       "               Technical Parameter           person-hours/year   \n",
       "               Technical Parameter             USD/biorefinery   \n",
       "               Technical Parameter             USD/biorefinery   \n",
       "               Technical Parameter             USD/biorefinery   \n",
       "               Technical Parameter             USD/biorefinery   \n",
       "               Technical Parameter             USD/biorefinery   \n",
       "               Technical Parameter                    USD/year   \n",
       "               Technical Parameter                    USD/year   \n",
       "               Technical Parameter                    unitless   \n",
       "               Technical Parameter                    unitless   \n",
       "               Technical Parameter              gal/metric ton   \n",
       "               Technical Parameter                    unitless   \n",
       "               Technical Parameter                        year   \n",
       "               Technical Parameter                        year   \n",
       "               Technical Parameter                    unitless   \n",
       "\n",
       "                                                         Notes  \n",
       "Technology     Type                                             \n",
       "Biorefinery v1 Capital                                          \n",
       "               Capital                                          \n",
       "               Capital                                          \n",
       "               Capital                                          \n",
       "               Capital                                          \n",
       "               Fixed                                            \n",
       "               Fixed                                            \n",
       "               Input                                            \n",
       "               Input                                            \n",
       "               Metric                                           \n",
       "               Metric                                           \n",
       "               Metric                                           \n",
       "               Metric               minimum fuel selling price  \n",
       "               Output                                           \n",
       "               Technical Parameter                              \n",
       "               Technical Parameter                              \n",
       "               Technical Parameter                              \n",
       "               Technical Parameter                              \n",
       "               Technical Parameter                              \n",
       "               Technical Parameter                              \n",
       "               Technical Parameter                              \n",
       "               Technical Parameter                              \n",
       "               Technical Parameter                              \n",
       "               Technical Parameter                              \n",
       "               Technical Parameter                              \n",
       "               Technical Parameter                              \n",
       "               Technical Parameter                              \n",
       "               Technical Parameter                              \n",
       "               Technical Parameter                              \n",
       "               Technical Parameter                              \n",
       "               Technical Parameter                              "
      ]
     },
     "execution_count": 2,
     "metadata": {},
     "output_type": "execute_result"
    }
   ],
   "source": [
    "my_designs = ty.Designs(\"data/biorefinery_v1/\")\n",
    "my_designs.indices.reset_index(\"Index\").sort_values([\"Type\", \"Offset\"])"
   ]
  },
  {
   "cell_type": "markdown",
   "metadata": {},
   "source": [
    "### Create the `results` table."
   ]
  },
  {
   "cell_type": "markdown",
   "metadata": {},
   "source": [
    "Check to see that the data file reads correctly:"
   ]
  },
  {
   "cell_type": "code",
   "execution_count": 3,
   "metadata": {},
   "outputs": [
    {
     "data": {
      "text/html": [
       "<div>\n",
       "<style scoped>\n",
       "    .dataframe tbody tr th:only-of-type {\n",
       "        vertical-align: middle;\n",
       "    }\n",
       "\n",
       "    .dataframe tbody tr th {\n",
       "        vertical-align: top;\n",
       "    }\n",
       "\n",
       "    .dataframe thead th {\n",
       "        text-align: right;\n",
       "    }\n",
       "</style>\n",
       "<table border=\"1\" class=\"dataframe\">\n",
       "  <thead>\n",
       "    <tr style=\"text-align: right;\">\n",
       "      <th></th>\n",
       "      <th></th>\n",
       "      <th></th>\n",
       "      <th>Units</th>\n",
       "      <th>Notes</th>\n",
       "    </tr>\n",
       "    <tr>\n",
       "      <th>Technology</th>\n",
       "      <th>Variable</th>\n",
       "      <th>Index</th>\n",
       "      <th></th>\n",
       "      <th></th>\n",
       "    </tr>\n",
       "  </thead>\n",
       "  <tbody>\n",
       "    <tr>\n",
       "      <th rowspan=\"6\" valign=\"top\">Biorefinery v1</th>\n",
       "      <th>Cost</th>\n",
       "      <th>Cost</th>\n",
       "      <td>USD/year</td>\n",
       "      <td></td>\n",
       "    </tr>\n",
       "    <tr>\n",
       "      <th rowspan=\"4\" valign=\"top\">Metric</th>\n",
       "      <th>Fossil GHG</th>\n",
       "      <td>kg CO2-eq/gal biofuel</td>\n",
       "      <td></td>\n",
       "    </tr>\n",
       "    <tr>\n",
       "      <th>Jobs</th>\n",
       "      <td>person-hours/gal biofuel</td>\n",
       "      <td></td>\n",
       "    </tr>\n",
       "    <tr>\n",
       "      <th>MFSP</th>\n",
       "      <td>USD/gal biofuel</td>\n",
       "      <td>minimum fuel selling price</td>\n",
       "    </tr>\n",
       "    <tr>\n",
       "      <th>Total GHG</th>\n",
       "      <td>kg CO2-eq/gal biofuel</td>\n",
       "      <td></td>\n",
       "    </tr>\n",
       "    <tr>\n",
       "      <th>Output</th>\n",
       "      <th>Biofuel</th>\n",
       "      <td>gal/year</td>\n",
       "      <td>average over expected biorefinery lifetime</td>\n",
       "    </tr>\n",
       "  </tbody>\n",
       "</table>\n",
       "</div>"
      ],
      "text/plain": [
       "                                                       Units  \\\n",
       "Technology     Variable Index                                  \n",
       "Biorefinery v1 Cost     Cost                        USD/year   \n",
       "               Metric   Fossil GHG     kg CO2-eq/gal biofuel   \n",
       "                        Jobs        person-hours/gal biofuel   \n",
       "                        MFSP                 USD/gal biofuel   \n",
       "                        Total GHG      kg CO2-eq/gal biofuel   \n",
       "               Output   Biofuel                     gal/year   \n",
       "\n",
       "                                                                         Notes  \n",
       "Technology     Variable Index                                                   \n",
       "Biorefinery v1 Cost     Cost                                                    \n",
       "               Metric   Fossil GHG                                              \n",
       "                        Jobs                                                    \n",
       "                        MFSP                        minimum fuel selling price  \n",
       "                        Total GHG                                               \n",
       "               Output   Biofuel     average over expected biorefinery lifetime  "
      ]
     },
     "execution_count": 3,
     "metadata": {},
     "output_type": "execute_result"
    }
   ],
   "source": [
    "my_designs.results"
   ]
  },
  {
   "cell_type": "markdown",
   "metadata": {},
   "source": [
    "### Create the `designs` table."
   ]
  },
  {
   "cell_type": "markdown",
   "metadata": {},
   "source": [
    "Check to see that the data file reads correctly:"
   ]
  },
  {
   "cell_type": "code",
   "execution_count": 4,
   "metadata": {},
   "outputs": [
    {
     "data": {
      "text/html": [
       "<div>\n",
       "<style scoped>\n",
       "    .dataframe tbody tr th:only-of-type {\n",
       "        vertical-align: middle;\n",
       "    }\n",
       "\n",
       "    .dataframe tbody tr th {\n",
       "        vertical-align: top;\n",
       "    }\n",
       "\n",
       "    .dataframe thead th {\n",
       "        text-align: right;\n",
       "    }\n",
       "</style>\n",
       "<table border=\"1\" class=\"dataframe\">\n",
       "  <thead>\n",
       "    <tr style=\"text-align: right;\">\n",
       "      <th></th>\n",
       "      <th></th>\n",
       "      <th>Variable</th>\n",
       "      <th>Index</th>\n",
       "      <th>Value</th>\n",
       "      <th>Units</th>\n",
       "      <th>Notes</th>\n",
       "    </tr>\n",
       "    <tr>\n",
       "      <th>Technology</th>\n",
       "      <th>Scenario</th>\n",
       "      <th></th>\n",
       "      <th></th>\n",
       "      <th></th>\n",
       "      <th></th>\n",
       "      <th></th>\n",
       "    </tr>\n",
       "  </thead>\n",
       "  <tbody>\n",
       "    <tr>\n",
       "      <th rowspan=\"11\" valign=\"top\">Biorefinery v1</th>\n",
       "      <th>Bioreference</th>\n",
       "      <td>Input</td>\n",
       "      <td>Feedstock</td>\n",
       "      <td>771750</td>\n",
       "      <td>metric ton/year</td>\n",
       "      <td>per one year of expected operations</td>\n",
       "    </tr>\n",
       "    <tr>\n",
       "      <th>Conversion 0</th>\n",
       "      <td>Input</td>\n",
       "      <td>Feedstock</td>\n",
       "      <td>771750</td>\n",
       "      <td>metric ton/year</td>\n",
       "      <td>per one year of expected operations</td>\n",
       "    </tr>\n",
       "    <tr>\n",
       "      <th>Conversion 1</th>\n",
       "      <td>Input</td>\n",
       "      <td>Feedstock</td>\n",
       "      <td>771750</td>\n",
       "      <td>metric ton/year</td>\n",
       "      <td>per one year of expected operations</td>\n",
       "    </tr>\n",
       "    <tr>\n",
       "      <th>Conversion 2</th>\n",
       "      <td>Input</td>\n",
       "      <td>Feedstock</td>\n",
       "      <td>771750</td>\n",
       "      <td>metric ton/year</td>\n",
       "      <td>per one year of expected operations</td>\n",
       "    </tr>\n",
       "    <tr>\n",
       "      <th>Fermentation 0</th>\n",
       "      <td>Input</td>\n",
       "      <td>Feedstock</td>\n",
       "      <td>771750</td>\n",
       "      <td>metric ton/year</td>\n",
       "      <td>per one year of expected operations</td>\n",
       "    </tr>\n",
       "    <tr>\n",
       "      <th>...</th>\n",
       "      <td>...</td>\n",
       "      <td>...</td>\n",
       "      <td>...</td>\n",
       "      <td>...</td>\n",
       "      <td>...</td>\n",
       "    </tr>\n",
       "    <tr>\n",
       "      <th>Preprocessing 1</th>\n",
       "      <td>Scale</td>\n",
       "      <td>Biorefinery</td>\n",
       "      <td>1</td>\n",
       "      <td>unitless</td>\n",
       "      <td></td>\n",
       "    </tr>\n",
       "    <tr>\n",
       "      <th>Preprocessing 2</th>\n",
       "      <td>Scale</td>\n",
       "      <td>Biorefinery</td>\n",
       "      <td>1</td>\n",
       "      <td>unitless</td>\n",
       "      <td></td>\n",
       "    </tr>\n",
       "    <tr>\n",
       "      <th>Separations 0</th>\n",
       "      <td>Scale</td>\n",
       "      <td>Biorefinery</td>\n",
       "      <td>1</td>\n",
       "      <td>unitless</td>\n",
       "      <td></td>\n",
       "    </tr>\n",
       "    <tr>\n",
       "      <th>Separations 1</th>\n",
       "      <td>Scale</td>\n",
       "      <td>Biorefinery</td>\n",
       "      <td>1</td>\n",
       "      <td>unitless</td>\n",
       "      <td></td>\n",
       "    </tr>\n",
       "    <tr>\n",
       "      <th>Separations 2</th>\n",
       "      <td>Scale</td>\n",
       "      <td>Biorefinery</td>\n",
       "      <td>1</td>\n",
       "      <td>unitless</td>\n",
       "      <td></td>\n",
       "    </tr>\n",
       "  </tbody>\n",
       "</table>\n",
       "<p>182 rows × 5 columns</p>\n",
       "</div>"
      ],
      "text/plain": [
       "                               Variable        Index   Value            Units  \\\n",
       "Technology     Scenario                                                         \n",
       "Biorefinery v1 Bioreference       Input    Feedstock  771750  metric ton/year   \n",
       "               Conversion 0       Input    Feedstock  771750  metric ton/year   \n",
       "               Conversion 1       Input    Feedstock  771750  metric ton/year   \n",
       "               Conversion 2       Input    Feedstock  771750  metric ton/year   \n",
       "               Fermentation 0     Input    Feedstock  771750  metric ton/year   \n",
       "...                                 ...          ...     ...              ...   \n",
       "               Preprocessing 1    Scale  Biorefinery       1         unitless   \n",
       "               Preprocessing 2    Scale  Biorefinery       1         unitless   \n",
       "               Separations 0      Scale  Biorefinery       1         unitless   \n",
       "               Separations 1      Scale  Biorefinery       1         unitless   \n",
       "               Separations 2      Scale  Biorefinery       1         unitless   \n",
       "\n",
       "                                                              Notes  \n",
       "Technology     Scenario                                              \n",
       "Biorefinery v1 Bioreference     per one year of expected operations  \n",
       "               Conversion 0     per one year of expected operations  \n",
       "               Conversion 1     per one year of expected operations  \n",
       "               Conversion 2     per one year of expected operations  \n",
       "               Fermentation 0   per one year of expected operations  \n",
       "...                                                             ...  \n",
       "               Preprocessing 1                                       \n",
       "               Preprocessing 2                                       \n",
       "               Separations 0                                         \n",
       "               Separations 1                                         \n",
       "               Separations 2                                         \n",
       "\n",
       "[182 rows x 5 columns]"
      ]
     },
     "execution_count": 4,
     "metadata": {},
     "output_type": "execute_result"
    }
   ],
   "source": [
    "my_designs.designs.reset_index([\"Variable\", \"Index\"]).sort_values([\"Variable\", \"Index\"])"
   ]
  },
  {
   "cell_type": "markdown",
   "metadata": {},
   "source": [
    "### Create the `parameters` table."
   ]
  },
  {
   "cell_type": "markdown",
   "metadata": {},
   "source": [
    "Check to see that the data file reads correctly:"
   ]
  },
  {
   "cell_type": "code",
   "execution_count": 5,
   "metadata": {},
   "outputs": [
    {
     "data": {
      "text/html": [
       "<div>\n",
       "<style scoped>\n",
       "    .dataframe tbody tr th:only-of-type {\n",
       "        vertical-align: middle;\n",
       "    }\n",
       "\n",
       "    .dataframe tbody tr th {\n",
       "        vertical-align: top;\n",
       "    }\n",
       "\n",
       "    .dataframe thead th {\n",
       "        text-align: right;\n",
       "    }\n",
       "</style>\n",
       "<table border=\"1\" class=\"dataframe\">\n",
       "  <thead>\n",
       "    <tr style=\"text-align: right;\">\n",
       "      <th></th>\n",
       "      <th></th>\n",
       "      <th>Parameter</th>\n",
       "      <th>Offset</th>\n",
       "      <th>Value</th>\n",
       "      <th>Units</th>\n",
       "      <th>Notes</th>\n",
       "    </tr>\n",
       "    <tr>\n",
       "      <th>Technology</th>\n",
       "      <th>Scenario</th>\n",
       "      <th></th>\n",
       "      <th></th>\n",
       "      <th></th>\n",
       "      <th></th>\n",
       "      <th></th>\n",
       "    </tr>\n",
       "  </thead>\n",
       "  <tbody>\n",
       "    <tr>\n",
       "      <th rowspan=\"11\" valign=\"top\">Biorefinery v1</th>\n",
       "      <th>Bioreference</th>\n",
       "      <td>Biogenic GHG</td>\n",
       "      <td>1</td>\n",
       "      <td>115762500</td>\n",
       "      <td>kg CO2-eq/year</td>\n",
       "      <td></td>\n",
       "    </tr>\n",
       "    <tr>\n",
       "      <th>Bioreference</th>\n",
       "      <td>Utilities Capital Cost</td>\n",
       "      <td>7</td>\n",
       "      <td>1250000</td>\n",
       "      <td>USD/biorefinery</td>\n",
       "      <td></td>\n",
       "    </tr>\n",
       "    <tr>\n",
       "      <th>Bioreference</th>\n",
       "      <td>Separations Capital Cost</td>\n",
       "      <td>6</td>\n",
       "      <td>50000000</td>\n",
       "      <td>USD/biorefinery</td>\n",
       "      <td></td>\n",
       "    </tr>\n",
       "    <tr>\n",
       "      <th>Bioreference</th>\n",
       "      <td>Scaling Factor</td>\n",
       "      <td>11</td>\n",
       "      <td>0.6</td>\n",
       "      <td>unitless</td>\n",
       "      <td></td>\n",
       "    </tr>\n",
       "    <tr>\n",
       "      <th>Bioreference</th>\n",
       "      <td>Rent</td>\n",
       "      <td>8</td>\n",
       "      <td>1000000</td>\n",
       "      <td>USD/year</td>\n",
       "      <td></td>\n",
       "    </tr>\n",
       "    <tr>\n",
       "      <th>...</th>\n",
       "      <td>...</td>\n",
       "      <td>...</td>\n",
       "      <td>...</td>\n",
       "      <td>...</td>\n",
       "      <td>...</td>\n",
       "    </tr>\n",
       "    <tr>\n",
       "      <th>Separations 2</th>\n",
       "      <td>Conversion Capital Cost</td>\n",
       "      <td>5</td>\n",
       "      <td>100000000</td>\n",
       "      <td>USD/biorefinery</td>\n",
       "      <td></td>\n",
       "    </tr>\n",
       "    <tr>\n",
       "      <th>Separations 2</th>\n",
       "      <td>Biogenic GHG</td>\n",
       "      <td>1</td>\n",
       "      <td>115762500</td>\n",
       "      <td>kg CO2-eq/year</td>\n",
       "      <td></td>\n",
       "    </tr>\n",
       "    <tr>\n",
       "      <th>Separations 2</th>\n",
       "      <td>Separations Capital Cost</td>\n",
       "      <td>6</td>\n",
       "      <td>45750000</td>\n",
       "      <td>USD/biorefinery</td>\n",
       "      <td></td>\n",
       "    </tr>\n",
       "    <tr>\n",
       "      <th>Separations 2</th>\n",
       "      <td>Fossil GHG</td>\n",
       "      <td>0</td>\n",
       "      <td>163201972.5</td>\n",
       "      <td>kg CO2-eq/year</td>\n",
       "      <td></td>\n",
       "    </tr>\n",
       "    <tr>\n",
       "      <th>Separations 2</th>\n",
       "      <td>Utilities Capital Cost</td>\n",
       "      <td>7</td>\n",
       "      <td>1250000</td>\n",
       "      <td>USD/biorefinery</td>\n",
       "      <td></td>\n",
       "    </tr>\n",
       "  </tbody>\n",
       "</table>\n",
       "<p>221 rows × 5 columns</p>\n",
       "</div>"
      ],
      "text/plain": [
       "                                             Parameter  Offset        Value  \\\n",
       "Technology     Scenario                                                       \n",
       "Biorefinery v1 Bioreference               Biogenic GHG       1    115762500   \n",
       "               Bioreference     Utilities Capital Cost       7      1250000   \n",
       "               Bioreference   Separations Capital Cost       6     50000000   \n",
       "               Bioreference             Scaling Factor      11          0.6   \n",
       "               Bioreference                       Rent       8      1000000   \n",
       "...                                                ...     ...          ...   \n",
       "               Separations 2   Conversion Capital Cost       5    100000000   \n",
       "               Separations 2              Biogenic GHG       1    115762500   \n",
       "               Separations 2  Separations Capital Cost       6     45750000   \n",
       "               Separations 2                Fossil GHG       0  163201972.5   \n",
       "               Separations 2    Utilities Capital Cost       7      1250000   \n",
       "\n",
       "                                        Units Notes  \n",
       "Technology     Scenario                              \n",
       "Biorefinery v1 Bioreference    kg CO2-eq/year        \n",
       "               Bioreference   USD/biorefinery        \n",
       "               Bioreference   USD/biorefinery        \n",
       "               Bioreference          unitless        \n",
       "               Bioreference          USD/year        \n",
       "...                                       ...   ...  \n",
       "               Separations 2  USD/biorefinery        \n",
       "               Separations 2   kg CO2-eq/year        \n",
       "               Separations 2  USD/biorefinery        \n",
       "               Separations 2   kg CO2-eq/year        \n",
       "               Separations 2  USD/biorefinery        \n",
       "\n",
       "[221 rows x 5 columns]"
      ]
     },
     "execution_count": 5,
     "metadata": {},
     "output_type": "execute_result"
    }
   ],
   "source": [
    "my_designs.parameters.reset_index(\"Parameter\").sort_values(\"Scenario\")"
   ]
  },
  {
   "cell_type": "markdown",
   "metadata": {},
   "source": [
    "## Implement the technology model."
   ]
  },
  {
   "cell_type": "markdown",
   "metadata": {},
   "source": [
    "The implementation of a technology model consists of a capital cost function, a fixed cost function, a production function, and a metrics function.\n",
    "\n",
    "See the [model](https://tyche.live/doc-src/formulation.html) documentation for more details."
   ]
  },
  {
   "cell_type": "markdown",
   "metadata": {},
   "source": [
    "The [src/technology/](../src/technology/) folder has examples of several technology models."
   ]
  },
  {
   "cell_type": "markdown",
   "metadata": {},
   "source": [
    "#### Capital cost function."
   ]
  },
  {
   "cell_type": "markdown",
   "metadata": {},
   "source": [
    "The capital cost function takes the scale of the operations and the array of technology parameters as arguments and it returns the capital costs for the technology."
   ]
  },
  {
   "cell_type": "code",
   "execution_count": 6,
   "metadata": {},
   "outputs": [],
   "source": [
    "def capital_cost(scale, parameter):\n",
    "    \"\"\"\n",
    "    Capital cost function.\n",
    "\n",
    "    Parameters\n",
    "    ----------\n",
    "    scale : float\n",
    "      The scale of operation.\n",
    "    parameter : array\n",
    "      The technological parameterization.\n",
    "\n",
    "    Returns\n",
    "    -------\n",
    "    @TODO update docstring\n",
    "    Total capital cost for one biorefinery (USD/biorefinery)\n",
    "    \"\"\"\n",
    "    # \"original\" biorefinery scale\n",
    "    o_scale = parameter[10]\n",
    "\n",
    "    # scaling factor for equipment costs\n",
    "    scale_factor = parameter[11]\n",
    "\n",
    "    pre = parameter[3] * (scale / o_scale) ** scale_factor\n",
    "    fer = parameter[4] * (scale / o_scale) ** scale_factor\n",
    "    con = parameter[5] * (scale / o_scale) ** scale_factor\n",
    "    sep = parameter[6] * (scale / o_scale) ** scale_factor\n",
    "    utl = parameter[7] * (scale / o_scale) ** scale_factor\n",
    "\n",
    "    return np.stack([pre, fer, con, sep, utl])"
   ]
  },
  {
   "cell_type": "markdown",
   "metadata": {},
   "source": [
    "Implement the capital cost function for your technology in the file [tutorial/my_technology.py](./)."
   ]
  },
  {
   "cell_type": "markdown",
   "metadata": {},
   "source": [
    "#### Fixed cost function."
   ]
  },
  {
   "cell_type": "markdown",
   "metadata": {},
   "source": [
    "The fixed cost function takes the scale of the operations and the array of technology parameters as arguments and it returns the fixed costs for the technology."
   ]
  },
  {
   "cell_type": "code",
   "execution_count": 7,
   "metadata": {},
   "outputs": [],
   "source": [
    "def fixed_cost(scale, parameter):\n",
    "    \"\"\"\n",
    "    Fixed cost function.\n",
    "\n",
    "    Parameters\n",
    "    ----------\n",
    "    scale : float [Unused]\n",
    "      The scale of operation.\n",
    "    parameter : array\n",
    "      The technological parameterization.\n",
    "\n",
    "    Returns\n",
    "    -------\n",
    "    total fixed costs for one biorefinery (USD/year)\n",
    "    \"\"\"\n",
    "    o_scale = parameter[10]\n",
    "\n",
    "    rnt = parameter[8] * (scale / o_scale)\n",
    "    ins = parameter[9] * (scale / o_scale)\n",
    "\n",
    "    return np.stack([rnt, ins])"
   ]
  },
  {
   "cell_type": "markdown",
   "metadata": {},
   "source": [
    "Implement the fixed cost function for your technology in the file [tutorial/my_technology.py](./)."
   ]
  },
  {
   "cell_type": "markdown",
   "metadata": {},
   "source": [
    "#### Production function."
   ]
  },
  {
   "cell_type": "markdown",
   "metadata": {},
   "source": [
    "The production function takes the scale of the operations, the capital costs, the lifetime, the fixed costs, and the array of technology parameters as arguments and it returns the production (outputs) for the technology."
   ]
  },
  {
   "cell_type": "code",
   "execution_count": 8,
   "metadata": {},
   "outputs": [],
   "source": [
    "def production(scale, capital, lifetime, fixed, input, parameter):\n",
    "    \"\"\"\n",
    "    Production function.\n",
    "\n",
    "    Parameters\n",
    "    ----------\n",
    "    scale : float\n",
    "      The scale of operation.\n",
    "    capital : array\n",
    "      Capital costs.\n",
    "    lifetime : float\n",
    "      Technology lifetime.\n",
    "    fixed : array\n",
    "      Fixed costs.\n",
    "    input : array\n",
    "      Input quantities.\n",
    "    parameter : array\n",
    "      The technological parameterization.\n",
    "\n",
    "    Returns\n",
    "    -------\n",
    "    output_raw\n",
    "        Ideal/theoretical production of each technology output: biofuel at\n",
    "        gals/year\n",
    "    \"\"\"\n",
    "\n",
    "    theor_yield = parameter[12]\n",
    "    feedstock = input[0] * scale\n",
    "\n",
    "    # theoretical biofuel yield w/out any efficiency losses\n",
    "    output_raw = theor_yield * feedstock\n",
    "\n",
    "    return np.stack([output_raw])"
   ]
  },
  {
   "cell_type": "markdown",
   "metadata": {},
   "source": [
    "Implement the production function for your technology in the file [tutorial/my_technology.py](./)."
   ]
  },
  {
   "cell_type": "markdown",
   "metadata": {},
   "source": [
    "#### Metric function."
   ]
  },
  {
   "cell_type": "markdown",
   "metadata": {},
   "source": [
    "The metric function takes information on costs, inputs, outputs, and parameters and it returns the metrics for the technology."
   ]
  },
  {
   "cell_type": "code",
   "execution_count": 9,
   "metadata": {},
   "outputs": [],
   "source": [
    "def metrics(scale, capital, lifetime, fixed, input_raw,\n",
    "            input, input_price, output_raw, output, cost, parameter):\n",
    "    \"\"\"\n",
    "    Metrics function.\n",
    "\n",
    "    Parameters\n",
    "    ----------\n",
    "    scale : float\n",
    "      The scale of operation. Unitless\n",
    "    capital : array\n",
    "      Capital costs. Units: USD/biorefinery\n",
    "    lifetime : float\n",
    "      Technology lifetime. Units: year\n",
    "    fixed : array\n",
    "      Fixed costs. Units: USD/year\n",
    "    input_raw : array\n",
    "      Raw input quantities (before losses). Units: metric ton feedstock/year\n",
    "    input : array\n",
    "      Input quantities. Units: metric ton feedstock/year\n",
    "    input_price : array\n",
    "        Array of input prices. Various units.\n",
    "    output_raw : array\n",
    "      Raw output quantities (before losses). Units: gal biofuel/year\n",
    "    output : array\n",
    "      Output quantities. Units: gal biofuel/year\n",
    "    cost : array\n",
    "      Costs.\n",
    "    parameter : array\n",
    "      The technological parameterization. Units vary; given in comments below\n",
    "    \"\"\"\n",
    "\n",
    "    # annual fossil GHG emissions, Units: kg CO2-eq/year\n",
    "    ghg_foss_ann = parameter[0]\n",
    "    # annual biogenic GHG emissions, Units: kg CO2-eq/year\n",
    "    ghg_bio_ann  = parameter[1]\n",
    "    # Annual person-hours required, Units: person-hours/year\n",
    "    emp_ann      = parameter[2]\n",
    "    # Preprocessing capital cost, Units: USD\n",
    "    pre_cap      = parameter[3]\n",
    "    # Fermentation capital cost, Units: USD\n",
    "    fer_cap      = parameter[4]\n",
    "    # Conversion capital cost, Units: USD\n",
    "    con_cap      = parameter[5]\n",
    "    # Separations capital cost, Units: USD\n",
    "    sep_cap      = parameter[6]\n",
    "    # Utilities capital cost, Units: USD\n",
    "    utl_cap      = parameter[7]\n",
    "    # Annual rent, Units: USD/year\n",
    "    rnt_ann      = parameter[8]\n",
    "    # Annual insurance, Units: USD/year\n",
    "    ins_ann      = parameter[9]\n",
    "    # Discount rate, Unitless\n",
    "    dr           = parameter[13]\n",
    "    # Depreciation period for all equipment except utilities, Units: years\n",
    "    dp           = parameter[14]\n",
    "    # Depreciation period for utilities, Units: years\n",
    "    dpu          = parameter[15]\n",
    "    # Income tax rate, Units: years\n",
    "    tr           = parameter[16]\n",
    "    # equipment lifetime\n",
    "    els          = lifetime[0]\n",
    "\n",
    "    # JOBS: person-hours/gal biofuel\n",
    "    # parameter[2] units: person-hours/year\n",
    "    # output units: gal biofuel/year\n",
    "    emp = emp_ann / output\n",
    "\n",
    "    # FOSSIL GHG: kg CO2-eq/gal biofuel\n",
    "    # parameter[0] units: kg CO2-eq/year\n",
    "    # output units: gal biofuel/year\n",
    "    ghg_foss = ghg_foss_ann / output\n",
    "\n",
    "    # TOTAL GHG: kg CO2-eq/gal biofuel\n",
    "    # parameter[0] and parameter[1] units: kg CO2-eq/year\n",
    "    # output units: gal biofuel/year\n",
    "    ghg_tot = (ghg_foss_ann + ghg_bio_ann) / output\n",
    "\n",
    "    # MINIMUM FUEL SELLING PRICE: USD/gal biofuel\n",
    "    # total project investment, Units: USD\n",
    "    # sum of all capital costs\n",
    "    tpi = pre_cap + fer_cap + con_cap + sep_cap + utl_cap\n",
    "\n",
    "    # depreciation costs, units: USD/year\n",
    "    dc = (pre_cap + fer_cap + con_cap + sep_cap) / dp + utl_cap / dpu\n",
    "\n",
    "    # operating costs, units: USD/year\n",
    "    oc = input_raw[0] * input_price[0] + input_raw[1] * input_price[1] + rnt_ann + ins_ann\n",
    "\n",
    "    # tpi discount factor, Units: unitless\n",
    "    df_tpi = (dr * (1 + dr) ** els) / ((1 + dr) ** els - 1)\n",
    "\n",
    "    # total revenue from biofuel sales, Units: USD/year\n",
    "    br = ((1 - tr) * oc - tr * dc + df_tpi * tpi) / (1 - tr)\n",
    "\n",
    "    # MFSP, Units: USD/gal biofuel\n",
    "    mfsp = br / output\n",
    "    \n",
    "    return np.stack([emp, ghg_foss, ghg_tot, mfsp])"
   ]
  },
  {
   "cell_type": "markdown",
   "metadata": {},
   "source": [
    "Implement the metrics function for your technology in the file [tutorial/my_technology.py](./)."
   ]
  },
  {
   "cell_type": "markdown",
   "metadata": {},
   "source": [
    "### Checking math in the metrics function"
   ]
  },
  {
   "cell_type": "code",
   "execution_count": 10,
   "metadata": {},
   "outputs": [
    {
     "data": {
      "text/plain": [
       "array([1.        , 1.        , 2.        , 3.84858553])"
      ]
     },
     "execution_count": 10,
     "metadata": {},
     "output_type": "execute_result"
    }
   ],
   "source": [
    "parameter_check = np.array([10.0, 10.0, 10.0,              # fossil GHG, bio GHG, employment\n",
    "                            10.0, 10.0, 10.0, 10.0, 10.0,  # capital costs\n",
    "                            5.0, 5.0,                      # fixed costs\n",
    "                            1.0, 1.0,                      # original scale, scaling factor\n",
    "                            1.0,                           # ideal biofuel yield\n",
    "                            0.1,                           # discount rate\n",
    "                            10.0, 10.0,                    # depreciation periods\n",
    "                            0.1])                          # income tax rate\n",
    "output_check = 10.0\n",
    "input_raw_check = np.array([10.0, 10.0])\n",
    "input_price_check=  np.array([1.0, 1.0])\n",
    "\n",
    "metrics(scale = 1.0,\n",
    "        capital = np.array([10.0, 10.0, 10.0, 10.0, 10.0]),\n",
    "        lifetime = np.array([10.0, 10.0, 10.0, 10.0, 10.0]),\n",
    "        fixed = np.array([5.0, 5.0]),\n",
    "        input_raw = input_raw_check,\n",
    "        input = input_raw_check,\n",
    "        input_price = input_price_check,\n",
    "        output_raw = output_check,\n",
    "        output = output_check,\n",
    "        cost = np.array([1.0]),\n",
    "        parameter = parameter_check)"
   ]
  },
  {
   "cell_type": "markdown",
   "metadata": {},
   "source": [
    "### Create the `functions` table."
   ]
  },
  {
   "cell_type": "markdown",
   "metadata": {},
   "source": [
    "Check to see that the data file reads correctly:"
   ]
  },
  {
   "cell_type": "code",
   "execution_count": 11,
   "metadata": {
    "scrolled": true
   },
   "outputs": [
    {
     "data": {
      "text/html": [
       "<div>\n",
       "<style scoped>\n",
       "    .dataframe tbody tr th:only-of-type {\n",
       "        vertical-align: middle;\n",
       "    }\n",
       "\n",
       "    .dataframe tbody tr th {\n",
       "        vertical-align: top;\n",
       "    }\n",
       "\n",
       "    .dataframe thead th {\n",
       "        text-align: right;\n",
       "    }\n",
       "</style>\n",
       "<table border=\"1\" class=\"dataframe\">\n",
       "  <thead>\n",
       "    <tr style=\"text-align: right;\">\n",
       "      <th></th>\n",
       "      <th>Style</th>\n",
       "      <th>Module</th>\n",
       "      <th>Capital</th>\n",
       "      <th>Fixed</th>\n",
       "      <th>Production</th>\n",
       "      <th>Metrics</th>\n",
       "      <th>Notes</th>\n",
       "    </tr>\n",
       "    <tr>\n",
       "      <th>Technology</th>\n",
       "      <th></th>\n",
       "      <th></th>\n",
       "      <th></th>\n",
       "      <th></th>\n",
       "      <th></th>\n",
       "      <th></th>\n",
       "      <th></th>\n",
       "    </tr>\n",
       "  </thead>\n",
       "  <tbody>\n",
       "    <tr>\n",
       "      <th>Biorefinery v1</th>\n",
       "      <td>numpy</td>\n",
       "      <td>biorefinery_v1</td>\n",
       "      <td>capital_cost</td>\n",
       "      <td>fixed_cost</td>\n",
       "      <td>production</td>\n",
       "      <td>metrics</td>\n",
       "      <td></td>\n",
       "    </tr>\n",
       "  </tbody>\n",
       "</table>\n",
       "</div>"
      ],
      "text/plain": [
       "                Style          Module       Capital       Fixed  Production  \\\n",
       "Technology                                                                    \n",
       "Biorefinery v1  numpy  biorefinery_v1  capital_cost  fixed_cost  production   \n",
       "\n",
       "                Metrics Notes  \n",
       "Technology                     \n",
       "Biorefinery v1  metrics        "
      ]
     },
     "execution_count": 11,
     "metadata": {},
     "output_type": "execute_result"
    }
   ],
   "source": [
    "my_designs.functions"
   ]
  },
  {
   "cell_type": "markdown",
   "metadata": {},
   "source": [
    "Check to see that the functions compile without errors."
   ]
  },
  {
   "cell_type": "code",
   "execution_count": 12,
   "metadata": {
    "scrolled": true
   },
   "outputs": [],
   "source": [
    "my_designs.compile()"
   ]
  },
  {
   "cell_type": "markdown",
   "metadata": {},
   "source": [
    "## Create investment for reference case."
   ]
  },
  {
   "cell_type": "markdown",
   "metadata": {},
   "source": [
    "### Create the `tranches` table."
   ]
  },
  {
   "cell_type": "markdown",
   "metadata": {},
   "source": [
    "Check to see that the data file reads correctly:"
   ]
  },
  {
   "cell_type": "code",
   "execution_count": 13,
   "metadata": {
    "scrolled": false
   },
   "outputs": [
    {
     "data": {
      "text/html": [
       "<div>\n",
       "<style scoped>\n",
       "    .dataframe tbody tr th:only-of-type {\n",
       "        vertical-align: middle;\n",
       "    }\n",
       "\n",
       "    .dataframe tbody tr th {\n",
       "        vertical-align: top;\n",
       "    }\n",
       "\n",
       "    .dataframe thead th {\n",
       "        text-align: right;\n",
       "    }\n",
       "</style>\n",
       "<table border=\"1\" class=\"dataframe\">\n",
       "  <thead>\n",
       "    <tr style=\"text-align: right;\">\n",
       "      <th></th>\n",
       "      <th></th>\n",
       "      <th></th>\n",
       "      <th>Amount</th>\n",
       "      <th>Notes</th>\n",
       "    </tr>\n",
       "    <tr>\n",
       "      <th>Category</th>\n",
       "      <th>Tranche</th>\n",
       "      <th>Scenario</th>\n",
       "      <th></th>\n",
       "      <th></th>\n",
       "    </tr>\n",
       "  </thead>\n",
       "  <tbody>\n",
       "    <tr>\n",
       "      <th rowspan=\"4\" valign=\"top\">Conversion</th>\n",
       "      <th>Conversion 0</th>\n",
       "      <th>Conversion 0</th>\n",
       "      <td>800000.0</td>\n",
       "      <td></td>\n",
       "    </tr>\n",
       "    <tr>\n",
       "      <th>Conversion 1</th>\n",
       "      <th>Conversion 1</th>\n",
       "      <td>2000000.0</td>\n",
       "      <td></td>\n",
       "    </tr>\n",
       "    <tr>\n",
       "      <th>Conversion 2</th>\n",
       "      <th>Conversion 2</th>\n",
       "      <td>2250000.0</td>\n",
       "      <td></td>\n",
       "    </tr>\n",
       "    <tr>\n",
       "      <th>Conversion Reference</th>\n",
       "      <th>Bioreference</th>\n",
       "      <td>0.0</td>\n",
       "      <td></td>\n",
       "    </tr>\n",
       "    <tr>\n",
       "      <th rowspan=\"4\" valign=\"top\">Fermentation</th>\n",
       "      <th>Fermentation 0</th>\n",
       "      <th>Fermentation 0</th>\n",
       "      <td>250000.0</td>\n",
       "      <td></td>\n",
       "    </tr>\n",
       "    <tr>\n",
       "      <th>Fermentation 1</th>\n",
       "      <th>Fermentation 1</th>\n",
       "      <td>400000.0</td>\n",
       "      <td></td>\n",
       "    </tr>\n",
       "    <tr>\n",
       "      <th>Fermentation 2</th>\n",
       "      <th>Fermentation 2</th>\n",
       "      <td>500000.0</td>\n",
       "      <td></td>\n",
       "    </tr>\n",
       "    <tr>\n",
       "      <th>Fermentation Reference</th>\n",
       "      <th>Bioreference</th>\n",
       "      <td>0.0</td>\n",
       "      <td></td>\n",
       "    </tr>\n",
       "    <tr>\n",
       "      <th rowspan=\"4\" valign=\"top\">Preprocessing</th>\n",
       "      <th>Preprocessing 0</th>\n",
       "      <th>Preprocessing 0</th>\n",
       "      <td>500000.0</td>\n",
       "      <td></td>\n",
       "    </tr>\n",
       "    <tr>\n",
       "      <th>Preprocessing 1</th>\n",
       "      <th>Preprocessing 1</th>\n",
       "      <td>1500000.0</td>\n",
       "      <td></td>\n",
       "    </tr>\n",
       "    <tr>\n",
       "      <th>Preprocessing 2</th>\n",
       "      <th>Preprocessing 2</th>\n",
       "      <td>1750000.0</td>\n",
       "      <td></td>\n",
       "    </tr>\n",
       "    <tr>\n",
       "      <th>Preprocessing Reference</th>\n",
       "      <th>Bioreference</th>\n",
       "      <td>0.0</td>\n",
       "      <td></td>\n",
       "    </tr>\n",
       "    <tr>\n",
       "      <th rowspan=\"4\" valign=\"top\">Separations</th>\n",
       "      <th>Separations 0</th>\n",
       "      <th>Separations 0</th>\n",
       "      <td>500000.0</td>\n",
       "      <td></td>\n",
       "    </tr>\n",
       "    <tr>\n",
       "      <th>Separations 1</th>\n",
       "      <th>Separations 1</th>\n",
       "      <td>2000000.0</td>\n",
       "      <td></td>\n",
       "    </tr>\n",
       "    <tr>\n",
       "      <th>Separations 2</th>\n",
       "      <th>Separations 2</th>\n",
       "      <td>4000000.0</td>\n",
       "      <td></td>\n",
       "    </tr>\n",
       "    <tr>\n",
       "      <th>Separations Reference</th>\n",
       "      <th>Bioreference</th>\n",
       "      <td>0.0</td>\n",
       "      <td></td>\n",
       "    </tr>\n",
       "  </tbody>\n",
       "</table>\n",
       "</div>"
      ],
      "text/plain": [
       "                                                          Amount Notes\n",
       "Category      Tranche                 Scenario                        \n",
       "Conversion    Conversion 0            Conversion 0      800000.0      \n",
       "              Conversion 1            Conversion 1     2000000.0      \n",
       "              Conversion 2            Conversion 2     2250000.0      \n",
       "              Conversion Reference    Bioreference           0.0      \n",
       "Fermentation  Fermentation 0          Fermentation 0    250000.0      \n",
       "              Fermentation 1          Fermentation 1    400000.0      \n",
       "              Fermentation 2          Fermentation 2    500000.0      \n",
       "              Fermentation Reference  Bioreference           0.0      \n",
       "Preprocessing Preprocessing 0         Preprocessing 0   500000.0      \n",
       "              Preprocessing 1         Preprocessing 1  1500000.0      \n",
       "              Preprocessing 2         Preprocessing 2  1750000.0      \n",
       "              Preprocessing Reference Bioreference           0.0      \n",
       "Separations   Separations 0           Separations 0     500000.0      \n",
       "              Separations 1           Separations 1    2000000.0      \n",
       "              Separations 2           Separations 2    4000000.0      \n",
       "              Separations Reference   Bioreference           0.0      "
      ]
     },
     "execution_count": 13,
     "metadata": {},
     "output_type": "execute_result"
    }
   ],
   "source": [
    "my_investments = ty.Investments(\"data/biorefinery_v1\")\n",
    "my_investments.tranches"
   ]
  },
  {
   "cell_type": "markdown",
   "metadata": {},
   "source": [
    "### Create the `investments` table."
   ]
  },
  {
   "cell_type": "markdown",
   "metadata": {},
   "source": [
    "Check to see that the data file reads correctly:"
   ]
  },
  {
   "cell_type": "code",
   "execution_count": 14,
   "metadata": {
    "scrolled": false
   },
   "outputs": [
    {
     "data": {
      "text/html": [
       "<div>\n",
       "<style scoped>\n",
       "    .dataframe tbody tr th:only-of-type {\n",
       "        vertical-align: middle;\n",
       "    }\n",
       "\n",
       "    .dataframe tbody tr th {\n",
       "        vertical-align: top;\n",
       "    }\n",
       "\n",
       "    .dataframe thead th {\n",
       "        text-align: right;\n",
       "    }\n",
       "</style>\n",
       "<table border=\"1\" class=\"dataframe\">\n",
       "  <thead>\n",
       "    <tr style=\"text-align: right;\">\n",
       "      <th></th>\n",
       "      <th></th>\n",
       "      <th></th>\n",
       "      <th>Notes</th>\n",
       "    </tr>\n",
       "    <tr>\n",
       "      <th>Investment</th>\n",
       "      <th>Category</th>\n",
       "      <th>Tranche</th>\n",
       "      <th></th>\n",
       "    </tr>\n",
       "  </thead>\n",
       "  <tbody>\n",
       "    <tr>\n",
       "      <th rowspan=\"4\" valign=\"top\">High R&amp;D</th>\n",
       "      <th>Conversion</th>\n",
       "      <th>Conversion 2</th>\n",
       "      <td></td>\n",
       "    </tr>\n",
       "    <tr>\n",
       "      <th>Fermentation</th>\n",
       "      <th>Fermentation 2</th>\n",
       "      <td></td>\n",
       "    </tr>\n",
       "    <tr>\n",
       "      <th>Preprocessing</th>\n",
       "      <th>Preprocessing 2</th>\n",
       "      <td></td>\n",
       "    </tr>\n",
       "    <tr>\n",
       "      <th>Separations</th>\n",
       "      <th>Separations 2</th>\n",
       "      <td></td>\n",
       "    </tr>\n",
       "    <tr>\n",
       "      <th rowspan=\"4\" valign=\"top\">Low R&amp;D</th>\n",
       "      <th>Conversion</th>\n",
       "      <th>Conversion 0</th>\n",
       "      <td></td>\n",
       "    </tr>\n",
       "    <tr>\n",
       "      <th>Fermentation</th>\n",
       "      <th>Fermentation 0</th>\n",
       "      <td></td>\n",
       "    </tr>\n",
       "    <tr>\n",
       "      <th>Preprocessing</th>\n",
       "      <th>Preprocessing 0</th>\n",
       "      <td></td>\n",
       "    </tr>\n",
       "    <tr>\n",
       "      <th>Separations</th>\n",
       "      <th>Separations 0</th>\n",
       "      <td></td>\n",
       "    </tr>\n",
       "    <tr>\n",
       "      <th rowspan=\"4\" valign=\"top\">Moderate R&amp;D</th>\n",
       "      <th>Conversion</th>\n",
       "      <th>Conversion 1</th>\n",
       "      <td></td>\n",
       "    </tr>\n",
       "    <tr>\n",
       "      <th>Fermentation</th>\n",
       "      <th>Fermentation 1</th>\n",
       "      <td></td>\n",
       "    </tr>\n",
       "    <tr>\n",
       "      <th>Preprocessing</th>\n",
       "      <th>Preprocessing 1</th>\n",
       "      <td></td>\n",
       "    </tr>\n",
       "    <tr>\n",
       "      <th>Separations</th>\n",
       "      <th>Separations 1</th>\n",
       "      <td></td>\n",
       "    </tr>\n",
       "    <tr>\n",
       "      <th rowspan=\"4\" valign=\"top\">No R&amp;D</th>\n",
       "      <th>Conversion</th>\n",
       "      <th>Conversion Reference</th>\n",
       "      <td></td>\n",
       "    </tr>\n",
       "    <tr>\n",
       "      <th>Fermentation</th>\n",
       "      <th>Fermentation Reference</th>\n",
       "      <td></td>\n",
       "    </tr>\n",
       "    <tr>\n",
       "      <th>Preprocessing</th>\n",
       "      <th>Preprocessing Reference</th>\n",
       "      <td></td>\n",
       "    </tr>\n",
       "    <tr>\n",
       "      <th>Separations</th>\n",
       "      <th>Separations Reference</th>\n",
       "      <td></td>\n",
       "    </tr>\n",
       "  </tbody>\n",
       "</table>\n",
       "</div>"
      ],
      "text/plain": [
       "                                                   Notes\n",
       "Investment   Category      Tranche                      \n",
       "High R&D     Conversion    Conversion 2                 \n",
       "             Fermentation  Fermentation 2               \n",
       "             Preprocessing Preprocessing 2              \n",
       "             Separations   Separations 2                \n",
       "Low R&D      Conversion    Conversion 0                 \n",
       "             Fermentation  Fermentation 0               \n",
       "             Preprocessing Preprocessing 0              \n",
       "             Separations   Separations 0                \n",
       "Moderate R&D Conversion    Conversion 1                 \n",
       "             Fermentation  Fermentation 1               \n",
       "             Preprocessing Preprocessing 1              \n",
       "             Separations   Separations 1                \n",
       "No R&D       Conversion    Conversion Reference         \n",
       "             Fermentation  Fermentation Reference       \n",
       "             Preprocessing Preprocessing Reference      \n",
       "             Separations   Separations Reference        "
      ]
     },
     "execution_count": 14,
     "metadata": {},
     "output_type": "execute_result"
    }
   ],
   "source": [
    "my_investments = ty.Investments(\"data/biorefinery_v1\")\n",
    "my_investments.investments"
   ]
  },
  {
   "cell_type": "markdown",
   "metadata": {},
   "source": [
    "## Test the optimization feasibility."
   ]
  },
  {
   "cell_type": "code",
   "execution_count": 15,
   "metadata": {},
   "outputs": [
    {
     "name": "stderr",
     "output_type": "stream",
     "text": [
      "/Users/tghosh/OneDrive - NREL/work_NREL/tyche/src/tyche/Investments.py:118: FutureWarning: Using the level keyword in DataFrame and Series aggregations is deprecated and will be removed in a future version. Use groupby instead. df.sum(level=1) should use df.groupby(level=1).sum().\n",
      "  amounts = self.investments.drop(\n",
      "/Users/tghosh/OneDrive - NREL/work_NREL/tyche/src/tyche/Designs.py:373: FutureWarning: The frame.append method is deprecated and will be removed from pandas in a future version. Use pandas.concat instead.\n",
      "  costs   = costs.append(  result.cost  )\n",
      "/Users/tghosh/OneDrive - NREL/work_NREL/tyche/src/tyche/Designs.py:374: FutureWarning: The frame.append method is deprecated and will be removed from pandas in a future version. Use pandas.concat instead.\n",
      "  outputs = outputs.append(result.output)\n",
      "/Users/tghosh/OneDrive - NREL/work_NREL/tyche/src/tyche/Designs.py:375: FutureWarning: The frame.append method is deprecated and will be removed from pandas in a future version. Use pandas.concat instead.\n",
      "  metrics = metrics.append(result.metric)\n",
      "/Users/tghosh/OneDrive - NREL/work_NREL/tyche/src/tyche/Designs.py:388: FutureWarning: The frame.append method is deprecated and will be removed from pandas in a future version. Use pandas.concat instead.\n",
      "  return organize(\"Cost\", costs).append(\n",
      "/Users/tghosh/OneDrive - NREL/work_NREL/tyche/src/tyche/Designs.py:388: FutureWarning: The frame.append method is deprecated and will be removed from pandas in a future version. Use pandas.concat instead.\n",
      "  return organize(\"Cost\", costs).append(\n",
      "/Users/tghosh/OneDrive - NREL/work_NREL/tyche/src/tyche/Investments.py:137: FutureWarning: Using the level keyword in DataFrame and Series aggregations is deprecated and will be removed in a future version. Use groupby instead. df.sum(level=1) should use df.groupby(level=1).sum().\n",
      "  summary = metrics.set_index(\n",
      "/Users/tghosh/OneDrive - NREL/work_NREL/tyche/src/tyche/Investments.py:81: FutureWarning: Using the level keyword in DataFrame and Series aggregations is deprecated and will be removed in a future version. Use groupby instead. df.sum(level=1) should use df.groupby(level=1).sum().\n",
      "  amounts = self.tranches.drop(\n"
     ]
    },
    {
     "name": "stdout",
     "output_type": "stream",
     "text": [
      "Evaluating Biorefinery v1\n",
      "Evaluating Biorefinery v1\n"
     ]
    },
    {
     "name": "stderr",
     "output_type": "stream",
     "text": [
      "/Users/tghosh/OneDrive - NREL/work_NREL/tyche/src/tyche/Designs.py:373: FutureWarning: The frame.append method is deprecated and will be removed from pandas in a future version. Use pandas.concat instead.\n",
      "  costs   = costs.append(  result.cost  )\n",
      "/Users/tghosh/OneDrive - NREL/work_NREL/tyche/src/tyche/Designs.py:374: FutureWarning: The frame.append method is deprecated and will be removed from pandas in a future version. Use pandas.concat instead.\n",
      "  outputs = outputs.append(result.output)\n",
      "/Users/tghosh/OneDrive - NREL/work_NREL/tyche/src/tyche/Designs.py:375: FutureWarning: The frame.append method is deprecated and will be removed from pandas in a future version. Use pandas.concat instead.\n",
      "  metrics = metrics.append(result.metric)\n",
      "/Users/tghosh/OneDrive - NREL/work_NREL/tyche/src/tyche/Designs.py:388: FutureWarning: The frame.append method is deprecated and will be removed from pandas in a future version. Use pandas.concat instead.\n",
      "  return organize(\"Cost\", costs).append(\n",
      "/Users/tghosh/OneDrive - NREL/work_NREL/tyche/src/tyche/Designs.py:388: FutureWarning: The frame.append method is deprecated and will be removed from pandas in a future version. Use pandas.concat instead.\n",
      "  return organize(\"Cost\", costs).append(\n",
      "/Users/tghosh/OneDrive - NREL/work_NREL/tyche/src/tyche/Investments.py:96: FutureWarning: Using the level keyword in DataFrame and Series aggregations is deprecated and will be removed in a future version. Use groupby instead. df.sum(level=1) should use df.groupby(level=1).sum().\n",
      "  summary = metrics.set_index(\n"
     ]
    }
   ],
   "source": [
    "my_designs = ty.Designs(\"data/biorefinery_v1\")\n",
    "my_investments = ty.Investments(\"data/biorefinery_v1\")\n",
    "my_designs.compile()\n",
    "investment_results = my_investments.evaluate_investments(my_designs, sample_count=50)\n",
    "tranche_results = my_investments.evaluate_tranches(my_designs, sample_count=50)"
   ]
  },
  {
   "cell_type": "code",
   "execution_count": 16,
   "metadata": {},
   "outputs": [],
   "source": [
    "evaluator = ty.Evaluator(my_investments.tranches, tranche_results.summary)"
   ]
  },
  {
   "cell_type": "code",
   "execution_count": 17,
   "metadata": {},
   "outputs": [],
   "source": [
    "_wide = evaluator.evaluate_corners_wide(np.mean).reset_index()"
   ]
  },
  {
   "cell_type": "code",
   "execution_count": 18,
   "metadata": {},
   "outputs": [
    {
     "data": {
      "text/html": [
       "<div>\n",
       "<style scoped>\n",
       "    .dataframe tbody tr th:only-of-type {\n",
       "        vertical-align: middle;\n",
       "    }\n",
       "\n",
       "    .dataframe tbody tr th {\n",
       "        vertical-align: top;\n",
       "    }\n",
       "\n",
       "    .dataframe thead th {\n",
       "        text-align: right;\n",
       "    }\n",
       "</style>\n",
       "<table border=\"1\" class=\"dataframe\">\n",
       "  <thead>\n",
       "    <tr style=\"text-align: right;\">\n",
       "      <th></th>\n",
       "      <th></th>\n",
       "      <th></th>\n",
       "      <th></th>\n",
       "      <th></th>\n",
       "      <th></th>\n",
       "      <th></th>\n",
       "      <th>Value</th>\n",
       "      <th>Units</th>\n",
       "    </tr>\n",
       "    <tr>\n",
       "      <th>Investment</th>\n",
       "      <th>Category</th>\n",
       "      <th>Tranche</th>\n",
       "      <th>Scenario</th>\n",
       "      <th>Sample</th>\n",
       "      <th>Technology</th>\n",
       "      <th>Index</th>\n",
       "      <th></th>\n",
       "      <th></th>\n",
       "    </tr>\n",
       "  </thead>\n",
       "  <tbody>\n",
       "    <tr>\n",
       "      <th rowspan=\"5\" valign=\"top\">No R&amp;D</th>\n",
       "      <th rowspan=\"5\" valign=\"top\">Conversion</th>\n",
       "      <th rowspan=\"5\" valign=\"top\">Conversion Reference</th>\n",
       "      <th rowspan=\"5\" valign=\"top\">Bioreference</th>\n",
       "      <th rowspan=\"4\" valign=\"top\">1</th>\n",
       "      <th rowspan=\"4\" valign=\"top\">Biorefinery v1</th>\n",
       "      <th>Fossil GHG</th>\n",
       "      <td>3.322701</td>\n",
       "      <td>kg CO2-eq/gal biofuel</td>\n",
       "    </tr>\n",
       "    <tr>\n",
       "      <th>Jobs</th>\n",
       "      <td>0.002067</td>\n",
       "      <td>person-hours/gal biofuel</td>\n",
       "    </tr>\n",
       "    <tr>\n",
       "      <th>MFSP</th>\n",
       "      <td>2.800958</td>\n",
       "      <td>USD/gal biofuel</td>\n",
       "    </tr>\n",
       "    <tr>\n",
       "      <th>Total GHG</th>\n",
       "      <td>5.696058</td>\n",
       "      <td>kg CO2-eq/gal biofuel</td>\n",
       "    </tr>\n",
       "    <tr>\n",
       "      <th>2</th>\n",
       "      <th>Biorefinery v1</th>\n",
       "      <th>Fossil GHG</th>\n",
       "      <td>3.322701</td>\n",
       "      <td>kg CO2-eq/gal biofuel</td>\n",
       "    </tr>\n",
       "    <tr>\n",
       "      <th>...</th>\n",
       "      <th>...</th>\n",
       "      <th>...</th>\n",
       "      <th>...</th>\n",
       "      <th>...</th>\n",
       "      <th>...</th>\n",
       "      <th>...</th>\n",
       "      <td>...</td>\n",
       "      <td>...</td>\n",
       "    </tr>\n",
       "    <tr>\n",
       "      <th rowspan=\"5\" valign=\"top\">High R&amp;D</th>\n",
       "      <th rowspan=\"5\" valign=\"top\">Separations</th>\n",
       "      <th rowspan=\"5\" valign=\"top\">Separations 2</th>\n",
       "      <th rowspan=\"5\" valign=\"top\">Separations 2</th>\n",
       "      <th>49</th>\n",
       "      <th>Biorefinery v1</th>\n",
       "      <th>Total GHG</th>\n",
       "      <td>5.418985</td>\n",
       "      <td>kg CO2-eq/gal biofuel</td>\n",
       "    </tr>\n",
       "    <tr>\n",
       "      <th rowspan=\"4\" valign=\"top\">50</th>\n",
       "      <th rowspan=\"4\" valign=\"top\">Biorefinery v1</th>\n",
       "      <th>Fossil GHG</th>\n",
       "      <td>2.247438</td>\n",
       "      <td>kg CO2-eq/gal biofuel</td>\n",
       "    </tr>\n",
       "    <tr>\n",
       "      <th>Jobs</th>\n",
       "      <td>0.001851</td>\n",
       "      <td>person-hours/gal biofuel</td>\n",
       "    </tr>\n",
       "    <tr>\n",
       "      <th>MFSP</th>\n",
       "      <td>1.853284</td>\n",
       "      <td>USD/gal biofuel</td>\n",
       "    </tr>\n",
       "    <tr>\n",
       "      <th>Total GHG</th>\n",
       "      <td>3.841592</td>\n",
       "      <td>kg CO2-eq/gal biofuel</td>\n",
       "    </tr>\n",
       "  </tbody>\n",
       "</table>\n",
       "<p>3200 rows × 2 columns</p>\n",
       "</div>"
      ],
      "text/plain": [
       "                                                                                               Value  \\\n",
       "Investment Category    Tranche              Scenario      Sample Technology     Index                  \n",
       "No R&D     Conversion  Conversion Reference Bioreference  1      Biorefinery v1 Fossil GHG  3.322701   \n",
       "                                                                                Jobs        0.002067   \n",
       "                                                                                MFSP        2.800958   \n",
       "                                                                                Total GHG   5.696058   \n",
       "                                                          2      Biorefinery v1 Fossil GHG  3.322701   \n",
       "...                                                                                              ...   \n",
       "High R&D   Separations Separations 2        Separations 2 49     Biorefinery v1 Total GHG   5.418985   \n",
       "                                                          50     Biorefinery v1 Fossil GHG  2.247438   \n",
       "                                                                                Jobs        0.001851   \n",
       "                                                                                MFSP        1.853284   \n",
       "                                                                                Total GHG   3.841592   \n",
       "\n",
       "                                                                                                               Units  \n",
       "Investment Category    Tranche              Scenario      Sample Technology     Index                                 \n",
       "No R&D     Conversion  Conversion Reference Bioreference  1      Biorefinery v1 Fossil GHG     kg CO2-eq/gal biofuel  \n",
       "                                                                                Jobs        person-hours/gal biofuel  \n",
       "                                                                                MFSP                 USD/gal biofuel  \n",
       "                                                                                Total GHG      kg CO2-eq/gal biofuel  \n",
       "                                                          2      Biorefinery v1 Fossil GHG     kg CO2-eq/gal biofuel  \n",
       "...                                                                                                              ...  \n",
       "High R&D   Separations Separations 2        Separations 2 49     Biorefinery v1 Total GHG      kg CO2-eq/gal biofuel  \n",
       "                                                          50     Biorefinery v1 Fossil GHG     kg CO2-eq/gal biofuel  \n",
       "                                                                                Jobs        person-hours/gal biofuel  \n",
       "                                                                                MFSP                 USD/gal biofuel  \n",
       "                                                                                Total GHG      kg CO2-eq/gal biofuel  \n",
       "\n",
       "[3200 rows x 2 columns]"
      ]
     },
     "execution_count": 18,
     "metadata": {},
     "output_type": "execute_result"
    }
   ],
   "source": [
    "investment_results.metrics"
   ]
  },
  {
   "cell_type": "code",
   "execution_count": 19,
   "metadata": {},
   "outputs": [
    {
     "data": {
      "image/png": "[encoded data removed]",
      "text/plain": [
       "<Figure size 432x288 with 1 Axes>"
      ]
     },
     "metadata": {
      "needs_background": "light"
     },
     "output_type": "display_data"
    }
   ],
   "source": [
    "g = sb.boxplot(\n",
    "    x=\"Investment\",\n",
    "    y=\"Value\",\n",
    "    data=investment_results.metrics.xs(\n",
    "        \"Total GHG\",\n",
    "        level=\"Index\"\n",
    "    ).groupby([\"Investment\", \"Sample\"]).aggregate(np.sum).reset_index()[[\"Investment\", \"Value\"]],\n",
    "    order=[\n",
    "        \"No R&D\"   ,\n",
    "        \"Low R&D\"  ,\n",
    "        \"Moderate R&D\",\n",
    "        \"High R&D\"  ,\n",
    "    ]\n",
    ")"
   ]
  },
  {
   "cell_type": "markdown",
   "metadata": {},
   "source": [
    "Now, use the optimization methods to explore the greatest potential reduction in MFSP under a variety of budget and metric constraints."
   ]
  },
  {
   "cell_type": "code",
   "execution_count": 20,
   "metadata": {},
   "outputs": [],
   "source": [
    "optimizer = ty.EpsilonConstraintOptimizer(evaluator)"
   ]
  },
  {
   "cell_type": "markdown",
   "metadata": {},
   "source": [
    "The `optimum_metrics` method does not need to be called, but it is useful to get an idea of the best possible metric values. Use the `sense` parameter (Dictionary format) to specify whether each metric should be minimized or maximized. If no `sense` is provided, all metrics are maximized.\n",
    "\n",
    "Note that the solutions provided by `optimum_metrics` are not likely to be the same as those found through the optimization methods. Applying budget constraints and/or metric constraints will change the optimal objective function value."
   ]
  },
  {
   "cell_type": "code",
   "execution_count": 21,
   "metadata": {},
   "outputs": [
    {
     "data": {
      "text/plain": [
       "Fossil GHG     7.893965\n",
       "Jobs           0.008266\n",
       "MFSP           6.464406\n",
       "Total GHG     13.477824\n",
       "Name: Value, dtype: float64"
      ]
     },
     "execution_count": 21,
     "metadata": {},
     "output_type": "execute_result"
    }
   ],
   "source": [
    "q = optimizer.optimum_metrics(verbose = 0,\n",
    "                             sense = {'Fossil GHG': 'min',\n",
    "                                     'Jobs': 'max',\n",
    "                                     'MFSP': 'min',\n",
    "                                     'Total GHG': 'min'})\n",
    "q"
   ]
  },
  {
   "cell_type": "markdown",
   "metadata": {},
   "source": [
    "Now use `opt_slsqp` to see what the lowest possible MFSP is with an budget of $3e8 and no constraints on where the budget is spent or on other metrics."
   ]
  },
  {
   "cell_type": "code",
   "execution_count": 22,
   "metadata": {},
   "outputs": [
    {
     "data": {
      "text/plain": [
       "'Optimization terminated successfully'"
      ]
     },
     "execution_count": 22,
     "metadata": {},
     "output_type": "execute_result"
    }
   ],
   "source": [
    "slsqp_result = optimizer.opt_slsqp(\n",
    "    \"MFSP\"                                                       ,\n",
    "    sense = 'min'                                                ,\n",
    "    total_amount = 3e8                                           ,\n",
    "    verbose      = 0                                             ,\n",
    ")\n",
    "slsqp_result[1]"
   ]
  },
  {
   "cell_type": "code",
   "execution_count": 23,
   "metadata": {},
   "outputs": [
    {
     "data": {
      "text/plain": [
       "Index\n",
       "Fossil GHG     7.925105\n",
       "Jobs            0.00602\n",
       "MFSP           6.464406\n",
       "Total GHG     13.490483\n",
       "Name: Value, dtype: object"
      ]
     },
     "execution_count": 23,
     "metadata": {},
     "output_type": "execute_result"
    }
   ],
   "source": [
    "slsqp_result[3]"
   ]
  },
  {
   "cell_type": "code",
   "execution_count": 24,
   "metadata": {},
   "outputs": [
    {
     "data": {
      "text/plain": [
       "Category\n",
       "Conversion       2250000.0\n",
       "Fermentation      500000.0\n",
       "Preprocessing    1750000.0\n",
       "Separations      4000000.0\n",
       "Name: Amount, dtype: float64"
      ]
     },
     "execution_count": 24,
     "metadata": {},
     "output_type": "execute_result"
    }
   ],
   "source": [
    "slsqp_result[2]"
   ]
  },
  {
   "cell_type": "code",
   "execution_count": 25,
   "metadata": {},
   "outputs": [
    {
     "data": {
      "text/plain": [
       "'Optimization terminated successfully.'"
      ]
     },
     "execution_count": 25,
     "metadata": {},
     "output_type": "execute_result"
    }
   ],
   "source": [
    "diffev_result = optimizer.opt_diffev(\n",
    "    \"MFSP\"                                                       ,\n",
    "    sense = 'min'                                                ,\n",
    "    total_amount = 3e8                                           ,\n",
    "    verbose      = 0                                             ,\n",
    ")\n",
    "diffev_result[1]"
   ]
  },
  {
   "cell_type": "code",
   "execution_count": 26,
   "metadata": {},
   "outputs": [
    {
     "data": {
      "text/plain": [
       "Index\n",
       "Fossil GHG     7.925097\n",
       "Jobs           0.006020\n",
       "MFSP           6.464438\n",
       "Total GHG     13.490496\n",
       "Name: Value, dtype: float64"
      ]
     },
     "execution_count": 26,
     "metadata": {},
     "output_type": "execute_result"
    }
   ],
   "source": [
    "diffev_result[3]"
   ]
  },
  {
   "cell_type": "code",
   "execution_count": 27,
   "metadata": {},
   "outputs": [
    {
     "data": {
      "text/plain": [
       "Category\n",
       "Conversion       2.249943e+06\n",
       "Fermentation     4.999853e+05\n",
       "Preprocessing    1.749725e+06\n",
       "Separations      3.999995e+06\n",
       "Name: Amount, dtype: float64"
      ]
     },
     "execution_count": 27,
     "metadata": {},
     "output_type": "execute_result"
    }
   ],
   "source": [
    "diffev_result[2]"
   ]
  },
  {
   "cell_type": "markdown",
   "metadata": {},
   "source": [
    "The SHGO optimizer is extremely slow. The calls are provided here for reference and should run without error, but will take 15+ minutes to complete."
   ]
  },
  {
   "cell_type": "code",
   "execution_count": 28,
   "metadata": {},
   "outputs": [],
   "source": [
    "#shgo_result = optimizer.opt_shgo(\n",
    "#    \"MFSP\"                                                       ,\n",
    "#    sense = 'min'                                                ,\n",
    "#    total_amount = 3e8                                           ,\n",
    "#    verbose      = 0                                             ,\n",
    "#)\n",
    "#shgo_result[1]"
   ]
  },
  {
   "cell_type": "code",
   "execution_count": 29,
   "metadata": {},
   "outputs": [],
   "source": [
    "#shgo_result[3]"
   ]
  },
  {
   "cell_type": "code",
   "execution_count": 30,
   "metadata": {},
   "outputs": [],
   "source": [
    "#shgo_result[2]"
   ]
  },
  {
   "cell_type": "markdown",
   "metadata": {},
   "source": [
    "We may also be interested in trade-offs between metrics. Now we can use `opt_slsqp` with the `eps_metric` parameter to again minimize MFSP, this time under both a budget constraint and an upper bound on the Total GHG emissions metric. From the `optimum_metric` results above, we know that the lowest possible value of Total GHG emissions is 13.66. We can use this information to decide on a reasonable upper bound for the constraint."
   ]
  },
  {
   "cell_type": "code",
   "execution_count": 31,
   "metadata": {},
   "outputs": [
    {
     "data": {
      "text/plain": [
       "'Iteration limit reached'"
      ]
     },
     "execution_count": 31,
     "metadata": {},
     "output_type": "execute_result"
    }
   ],
   "source": [
    "slsqp_result = optimizer.opt_slsqp(\n",
    "    \"MFSP\"                                                        ,\n",
    "    sense = 'min'                                                 ,\n",
    "    eps_metric = {'Total GHG': {'limit': 13.8, 'sense': 'upper'}} ,\n",
    "    total_amount = 3e8                                            ,\n",
    "    verbose      = 0                                              ,\n",
    ")\n",
    "slsqp_result[1]"
   ]
  },
  {
   "cell_type": "markdown",
   "metadata": {},
   "source": [
    "An Iteration limit reached message means that the optimizer was unable to converge to an optimal solution within the specified maximum number of iterations, which defaults to 50. We can increase the iteration limit and re-solve to see if an optimal solution can be found."
   ]
  },
  {
   "cell_type": "code",
   "execution_count": 32,
   "metadata": {},
   "outputs": [
    {
     "data": {
      "text/plain": [
       "'Positive directional derivative for linesearch'"
      ]
     },
     "execution_count": 32,
     "metadata": {},
     "output_type": "execute_result"
    }
   ],
   "source": [
    "slsqp_result = optimizer.opt_slsqp(\n",
    "    \"MFSP\"                                                        ,\n",
    "    sense = 'min'                                                 ,\n",
    "    eps_metric = {'Total GHG': {'limit': 13.8, 'sense': 'upper'}} ,\n",
    "    total_amount = 3e8                                            ,\n",
    "    maxiter = 200,\n",
    "    verbose      = 0                                              ,\n",
    ")\n",
    "slsqp_result[1]"
   ]
  },
  {
   "cell_type": "markdown",
   "metadata": {},
   "source": [
    "There is still no optimal solution, although if we look at the non-converged solution, we do see some improvement in Total GHG emissions and in MFSP."
   ]
  },
  {
   "cell_type": "code",
   "execution_count": 33,
   "metadata": {},
   "outputs": [
    {
     "data": {
      "text/plain": [
       "Index\n",
       "Fossil GHG     7.905455\n",
       "Jobs           0.006101\n",
       "MFSP           6.473227\n",
       "Total GHG     13.477824\n",
       "Name: Value, dtype: object"
      ]
     },
     "execution_count": 33,
     "metadata": {},
     "output_type": "execute_result"
    }
   ],
   "source": [
    "slsqp_result[3]"
   ]
  },
  {
   "cell_type": "code",
   "execution_count": 34,
   "metadata": {},
   "outputs": [
    {
     "data": {
      "text/plain": [
       "Category\n",
       "Conversion       2.250000e+06\n",
       "Fermentation     5.000000e+05\n",
       "Preprocessing    1.500000e+06\n",
       "Separations      4.000000e+06\n",
       "Name: Amount, dtype: float64"
      ]
     },
     "execution_count": 34,
     "metadata": {},
     "output_type": "execute_result"
    }
   ],
   "source": [
    "slsqp_result[2]"
   ]
  },
  {
   "cell_type": "markdown",
   "metadata": {},
   "source": [
    "Another option if an optimal solution is not quickly found is to alter the budget constraint, to see if additional funds will allow the metric constraint to be met."
   ]
  },
  {
   "cell_type": "code",
   "execution_count": 35,
   "metadata": {},
   "outputs": [
    {
     "data": {
      "text/plain": [
       "'Iteration limit reached'"
      ]
     },
     "execution_count": 35,
     "metadata": {},
     "output_type": "execute_result"
    }
   ],
   "source": [
    "slsqp_result = optimizer.opt_slsqp(\n",
    "    \"MFSP\"                                                        ,\n",
    "    sense = 'min'                                                 ,\n",
    "    eps_metric = {'Total GHG': {'limit': 13.8, 'sense': 'upper'}} ,\n",
    "    total_amount = 5e8                                            ,\n",
    "    maxiter = 200,\n",
    "    verbose      = 0                                              ,\n",
    ")\n",
    "slsqp_result[1]"
   ]
  },
  {
   "cell_type": "code",
   "execution_count": 36,
   "metadata": {},
   "outputs": [
    {
     "data": {
      "text/plain": [
       "Index\n",
       "Fossil GHG     7.905455\n",
       "Jobs           0.006101\n",
       "MFSP           6.473227\n",
       "Total GHG     13.477824\n",
       "Name: Value, dtype: object"
      ]
     },
     "execution_count": 36,
     "metadata": {},
     "output_type": "execute_result"
    }
   ],
   "source": [
    "slsqp_result[3]"
   ]
  },
  {
   "cell_type": "code",
   "execution_count": 37,
   "metadata": {},
   "outputs": [
    {
     "data": {
      "text/plain": [
       "Category\n",
       "Conversion       2.250000e+06\n",
       "Fermentation     5.000000e+05\n",
       "Preprocessing    1.500000e+06\n",
       "Separations      4.000000e+06\n",
       "Name: Amount, dtype: float64"
      ]
     },
     "execution_count": 37,
     "metadata": {},
     "output_type": "execute_result"
    }
   ],
   "source": [
    "slsqp_result[2]"
   ]
  },
  {
   "cell_type": "code",
   "execution_count": 38,
   "metadata": {},
   "outputs": [
    {
     "name": "stderr",
     "output_type": "stream",
     "text": [
      "/Users/tghosh/miniconda3/envs/tyche/lib/python3.8/site-packages/scipy/optimize/_differentialevolution.py:898: UserWarning: differential evolution didn't find a solution satisfying the constraints, attempting to polish from the least infeasible solution\n",
      "  warnings.warn(\"differential evolution didn't find a\"\n"
     ]
    },
    {
     "data": {
      "text/plain": [
       "48.86297917366028"
      ]
     },
     "execution_count": 38,
     "metadata": {},
     "output_type": "execute_result"
    }
   ],
   "source": [
    "diffev_eps_result = optimizer.opt_diffev(\n",
    "    \"MFSP\"                                                        ,\n",
    "    sense = 'min'                                                 ,\n",
    "    eps_metric = {'Total GHG': {'limit': 13.8, 'sense': 'upper'}} ,\n",
    "    total_amount = 3e8                                            ,\n",
    "    verbose      = 0                                              ,\n",
    ")\n",
    "diffev_eps_result[1]"
   ]
  },
  {
   "cell_type": "code",
   "execution_count": 39,
   "metadata": {},
   "outputs": [],
   "source": [
    "#shgo_eps_result = optimizer.opt_shgo(\n",
    "#    \"MFSP\"                                                        ,\n",
    "#    sense = 'min'                                                 ,\n",
    "#    eps_metric = {'Total GHG': {'limit': 13.8, 'sense': 'upper'}} ,\n",
    "#    total_amount = 3e8                                            ,\n",
    "#    verbose      = 0                                              ,\n",
    "#)\n",
    "#shgo_eps_result[1]"
   ]
  },
  {
   "cell_type": "code",
   "execution_count": 40,
   "metadata": {},
   "outputs": [
    {
     "name": "stdout",
     "output_type": "stream",
     "text": [
      "Getting and processing wide data at 0.0 s\n",
      "Data processed at 0.6 s\n",
      "Building MIP model at 0.6 s\n",
      "Creating 256 lambda variables at 1.0 s\n",
      "Creating 32640 binary variables and constraints at 1.0 s\n",
      "Creating total budget constraint at 1.8 s\n",
      "Creating category budget constraints at 1.8 s\n",
      "Defining metric constraints at 1.8 s\n",
      "Defining lambda convexity constraints at 1.8 s\n",
      "Defining binary convexity constraints at 1.8 s\n",
      "Defining objective function at 4.6 s\n",
      "Saving model at 4.6 s\n",
      "Optimizing at 4.7 s\n",
      "Welcome to the CBC MILP Solver \n",
      "Version: Trunk\n",
      "Build Date: Nov 15 2020 \n",
      "\n",
      "Starting solution of the Linear programming relaxation problem using Dual Simplex\n",
      "\n",
      "Coin0506I Presolve 32647 (0) rows, 32896 (0) columns and 131839 (0) elements\n",
      "Clp0014I Perturbing problem by 0.001% of 10.360347 - largest nonzero change 0.00018889365 ( 0.0083104569%) - largest zero change 5.5178081e-05\n",
      "Clp0006I 1755  Obj 6.4648464 Primal inf 1.0448214 (1)\n",
      "Clp0006I 3253  Obj 6.4648489 Primal inf 0.96858639 (1)\n",
      "Clp0006I 4657  Obj 6.4648507\n",
      "Clp0000I Optimal - objective value 6.4644057\n",
      "Clp0032I Optimal objective 6.464405653 - 4657 iterations time 2.332\n",
      "\n",
      "Starting MIP optimization\n",
      "Optimized at 23.6 s\n",
      "Calculating optimal investment values at 23.7 s\n",
      "Calculating optimal metric values at 23.7 s\n",
      "Optimal metric values calculated at 23.7 s\n"
     ]
    },
    {
     "name": "stderr",
     "output_type": "stream",
     "text": [
      "/Users/tghosh/OneDrive - NREL/work_NREL/tyche/src/tyche/EpsilonConstraints.py:1050: FutureWarning: The default dtype for empty Series will be 'object' instead of 'float64' in a future version. Specify a dtype explicitly to silence this warning.\n",
      "  y = pd.Series(None, name=\"Value\",\n"
     ]
    }
   ],
   "source": [
    "pwlinear_result = optimizer.opt_milp(\n",
    "    \"MFSP\",\n",
    "    sense='min',\n",
    "    total_amount = 3e8,\n",
    "    verbose = 2\n",
    ")"
   ]
  },
  {
   "cell_type": "code",
   "execution_count": 41,
   "metadata": {},
   "outputs": [
    {
     "data": {
      "text/plain": [
       "<OptimizationStatus.OPTIMAL: 0>"
      ]
     },
     "execution_count": 41,
     "metadata": {},
     "output_type": "execute_result"
    }
   ],
   "source": [
    "pwlinear_result.exit_message"
   ]
  },
  {
   "cell_type": "code",
   "execution_count": 42,
   "metadata": {},
   "outputs": [
    {
     "data": {
      "text/plain": [
       "Fossil GHG     7.925105\n",
       "Jobs           0.006020\n",
       "MFSP           6.464406\n",
       "Total GHG     13.490483\n",
       "Name: Value, dtype: float64"
      ]
     },
     "execution_count": 42,
     "metadata": {},
     "output_type": "execute_result"
    }
   ],
   "source": [
    "pwlinear_result.metrics"
   ]
  },
  {
   "cell_type": "code",
   "execution_count": 43,
   "metadata": {},
   "outputs": [
    {
     "data": {
      "text/plain": [
       "Category\n",
       "Conversion       2250000.0\n",
       "Fermentation      500000.0\n",
       "Preprocessing    1750000.0\n",
       "Separations      4000000.0\n",
       "Name: Amount, dtype: float64"
      ]
     },
     "execution_count": 43,
     "metadata": {},
     "output_type": "execute_result"
    }
   ],
   "source": [
    "pwlinear_result.amounts"
   ]
  },
  {
   "cell_type": "code",
   "execution_count": 44,
   "metadata": {},
   "outputs": [
    {
     "data": {
      "text/plain": [
       "18.84672713279724"
      ]
     },
     "execution_count": 44,
     "metadata": {},
     "output_type": "execute_result"
    }
   ],
   "source": [
    "pwlinear_result.solve_time"
   ]
  },
  {
   "cell_type": "code",
   "execution_count": 45,
   "metadata": {},
   "outputs": [
    {
     "name": "stdout",
     "output_type": "stream",
     "text": [
      "Getting and processing wide data at 0.0 s\n",
      "Data processed at 0.6 s\n",
      "Building MIP model at 0.6 s\n",
      "Creating 256 lambda variables at 0.6 s\n",
      "Creating 32640 binary variables and constraints at 0.6 s\n",
      "Creating total budget constraint at 1.4 s\n",
      "Creating category budget constraints at 1.5 s\n",
      "Defining metric constraints at 1.5 s\n",
      "Defining lambda convexity constraints at 1.5 s\n",
      "Defining binary convexity constraints at 1.5 s\n",
      "Defining objective function at 4.1 s\n",
      "Saving model at 4.1 s\n",
      "Optimizing at 4.2 s\n",
      "Cgl0005I 1 SOS with 32640 members\n",
      "Cgl0004I processed model has 32647 rows, 32896 columns (32640 integer (32640 of which binary)) and 131839 elements\n",
      "Coin3009W Conflict graph built in 2.694 seconds, density: 24.613%\n",
      "Cgl0015I Clique Strengthening extended 0 cliques, 0 were dominated\n",
      "Cbc0038I Initial state - 0 integers unsatisfied sum - 0\n",
      "Cbc0038I Solution found of 6.46441\n",
      "Cbc0038I Relaxing continuous gives 6.46441\n",
      "Cbc0038I Before mini branch and bound, 32640 integers at bound fixed and 256 continuous\n",
      "Cbc0038I Mini branch and bound did not improve solution (16.14 seconds)\n",
      "Cbc0038I After 16.17 seconds - Feasibility pump exiting with objective of 6.46441 - took 0.11 seconds\n",
      "Cbc0012I Integer solution of 6.4644057 found by feasibility pump after 0 iterations and 0 nodes (16.18 seconds)\n",
      "Cbc0001I Search completed - best objective 6.464405652648777, took 0 iterations and 0 nodes (16.22 seconds)\n",
      "Cbc0035I Maximum depth 0, 0 variables fixed on reduced cost\n",
      "Total time (CPU seconds):       16.16   (Wallclock seconds):       16.40\n",
      "\n",
      "Coin3007W ### CoinLpIO::is_invalid_name(): Name Eps_Const_Total GHG contains illegal character ' '\n",
      "Coin3007W ### CoinLpIO::are_invalid_names(): Invalid name: vnames[32645]: Eps_Const_Total GHG\n",
      "Coin3007W ### CoinLpIO::setLpDataRowAndColNames(): Invalid row names\n",
      "Use getPreviousNames() to get the old row names.\n",
      "Now using default row names.\n",
      "Starting solution of the Linear programming relaxation problem using Dual Simplex\n",
      "\n"
     ]
    }
   ],
   "source": [
    "pwlinear_eps_result = optimizer.opt_milp(\n",
    "    \"MFSP\",\n",
    "    sense='min',\n",
    "    eps_metric = {'Total GHG': {'limit': 14.0, 'sense': 'upper'}} ,\n",
    "    total_amount = 3e8,\n",
    "    verbose = 2\n",
    ")"
   ]
  },
  {
   "cell_type": "code",
   "execution_count": 46,
   "metadata": {},
   "outputs": [
    {
     "data": {
      "text/plain": [
       "<OptimizationStatus.INFEASIBLE: 1>"
      ]
     },
     "execution_count": 46,
     "metadata": {},
     "output_type": "execute_result"
    }
   ],
   "source": [
    "pwlinear_eps_result.exit_message"
   ]
  }
 ],
 "metadata": {
  "@webio": {
   "lastCommId": null,
   "lastKernelId": null
  },
  "kernelspec": {
   "display_name": "Python 3 (ipykernel)",
   "language": "python",
   "name": "python3"
  },
  "language_info": {
   "codemirror_mode": {
    "name": "ipython",
    "version": 3
   },
   "file_extension": ".py",
   "mimetype": "text/x-python",
   "name": "python",
   "nbconvert_exporter": "python",
   "pygments_lexer": "ipython3",
   "version": "3.8.12"
  }
 },
 "nbformat": 4,
 "nbformat_minor": 2
}
