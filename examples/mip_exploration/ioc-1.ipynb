{
 "cells": [
  {
   "cell_type": "markdown",
   "metadata": {},
   "source": [
    "# Interim Operational Capability 1"
   ]
  },
  {
   "cell_type": "markdown",
   "metadata": {},
   "source": [
    "## Set up."
   ]
  },
  {
   "cell_type": "markdown",
   "metadata": {},
   "source": [
    "### Import packages."
   ]
  },
  {
   "cell_type": "code",
   "execution_count": 1,
   "metadata": {},
   "outputs": [],
   "source": [
    "import os\n",
    "import sys\n",
    "sys.path.insert(0, os.path.abspath(\"../../src\"))"
   ]
  },
  {
   "cell_type": "code",
   "execution_count": 2,
   "metadata": {},
   "outputs": [],
   "source": [
    "import numpy             as np\n",
    "import matplotlib.pyplot as pl\n",
    "import pandas            as pd\n",
    "import seaborn           as sb\n",
    "import tyche             as ty\n",
    "\n",
    "from copy            import deepcopy\n",
    "from IPython.display import Image "
   ]
  },
  {
   "cell_type": "code",
   "execution_count": 3,
   "metadata": {},
   "outputs": [],
   "source": [
    "eere_color_lst = [\"#6ABC45\", \"#FFCB06\", \"#00A8DF\"]\n",
    "pl.rcParams['axes.prop_cycle'] = pl.cycler(color=eere_color_lst)"
   ]
  },
  {
   "cell_type": "markdown",
   "metadata": {},
   "source": [
    "## Load data."
   ]
  },
  {
   "cell_type": "markdown",
   "metadata": {},
   "source": [
    "### The data are stored in a set of tab-separated value files in a folder."
   ]
  },
  {
   "cell_type": "code",
   "execution_count": 4,
   "metadata": {},
   "outputs": [],
   "source": [
    "designs = ty.Designs(\"data\")"
   ]
  },
  {
   "cell_type": "code",
   "execution_count": 5,
   "metadata": {},
   "outputs": [],
   "source": [
    "investments = ty.Investments(\"data\")"
   ]
  },
  {
   "cell_type": "markdown",
   "metadata": {},
   "source": [
    "### Compile the production and metric functions for each technology in the dataset."
   ]
  },
  {
   "cell_type": "code",
   "execution_count": 6,
   "metadata": {},
   "outputs": [],
   "source": [
    "designs.compile()"
   ]
  },
  {
   "cell_type": "markdown",
   "metadata": {},
   "source": [
    "## Examine the input data."
   ]
  },
  {
   "cell_type": "markdown",
   "metadata": {},
   "source": [
    "### The `functions` table specifies where the Python code for each technology resides."
   ]
  },
  {
   "cell_type": "code",
   "execution_count": 7,
   "metadata": {},
   "outputs": [
    {
     "data": {
      "text/html": [
       "<div>\n",
       "<style scoped>\n",
       "    .dataframe tbody tr th:only-of-type {\n",
       "        vertical-align: middle;\n",
       "    }\n",
       "\n",
       "    .dataframe tbody tr th {\n",
       "        vertical-align: top;\n",
       "    }\n",
       "\n",
       "    .dataframe thead th {\n",
       "        text-align: right;\n",
       "    }\n",
       "</style>\n",
       "<table border=\"1\" class=\"dataframe\">\n",
       "  <thead>\n",
       "    <tr style=\"text-align: right;\">\n",
       "      <th></th>\n",
       "      <th>Style</th>\n",
       "      <th>Module</th>\n",
       "      <th>Capital</th>\n",
       "      <th>Fixed</th>\n",
       "      <th>Production</th>\n",
       "      <th>Metrics</th>\n",
       "      <th>Notes</th>\n",
       "    </tr>\n",
       "    <tr>\n",
       "      <th>Technology</th>\n",
       "      <th></th>\n",
       "      <th></th>\n",
       "      <th></th>\n",
       "      <th></th>\n",
       "      <th></th>\n",
       "      <th></th>\n",
       "      <th></th>\n",
       "    </tr>\n",
       "  </thead>\n",
       "  <tbody>\n",
       "    <tr>\n",
       "      <th>PV Generic</th>\n",
       "      <td>numpy</td>\n",
       "      <td>pv_residential_generic</td>\n",
       "      <td>capital_cost</td>\n",
       "      <td>fixed_cost</td>\n",
       "      <td>production</td>\n",
       "      <td>metrics</td>\n",
       "      <td>generic residential PV</td>\n",
       "    </tr>\n",
       "  </tbody>\n",
       "</table>\n",
       "</div>"
      ],
      "text/plain": [
       "            Style                  Module       Capital       Fixed  \\\n",
       "Technology                                                            \n",
       "PV Generic  numpy  pv_residential_generic  capital_cost  fixed_cost   \n",
       "\n",
       "            Production  Metrics                   Notes  \n",
       "Technology                                               \n",
       "PV Generic  production  metrics  generic residential PV  "
      ]
     },
     "execution_count": 7,
     "metadata": {},
     "output_type": "execute_result"
    }
   ],
   "source": [
    "designs.functions"
   ]
  },
  {
   "cell_type": "markdown",
   "metadata": {},
   "source": [
    "### The `indices` table defines the subscripts for variables."
   ]
  },
  {
   "cell_type": "code",
   "execution_count": 8,
   "metadata": {},
   "outputs": [],
   "source": [
    "designs.indices.drop(\"Offset\", axis = 1);"
   ]
  },
  {
   "cell_type": "markdown",
   "metadata": {},
   "source": [
    "### The `designs` table contains the cost, input, efficiency, and price data for a scenario."
   ]
  },
  {
   "cell_type": "code",
   "execution_count": 9,
   "metadata": {},
   "outputs": [],
   "source": [
    "designs.designs.xs(\"Reference\", level = \"Scenario\", drop_level = False);"
   ]
  },
  {
   "cell_type": "markdown",
   "metadata": {},
   "source": [
    "### The `parameters` table contains additional techno-economic parameters for each technology."
   ]
  },
  {
   "cell_type": "code",
   "execution_count": 10,
   "metadata": {},
   "outputs": [],
   "source": [
    "designs.parameters.drop(\"Offset\", axis = 1).xs(\"Reference\", level = \"Scenario\", drop_level = False);"
   ]
  },
  {
   "cell_type": "markdown",
   "metadata": {},
   "source": [
    "### The `results` table specifies the units of measure for results of computations."
   ]
  },
  {
   "cell_type": "code",
   "execution_count": 11,
   "metadata": {},
   "outputs": [],
   "source": [
    "designs.results;"
   ]
  },
  {
   "cell_type": "markdown",
   "metadata": {},
   "source": [
    "### The `tranches` table specifies multually exclusive possibilities for investments: only one `Tranch` may be selected for each `Category`."
   ]
  },
  {
   "cell_type": "code",
   "execution_count": 12,
   "metadata": {},
   "outputs": [
    {
     "data": {
      "text/html": [
       "<div>\n",
       "<style scoped>\n",
       "    .dataframe tbody tr th:only-of-type {\n",
       "        vertical-align: middle;\n",
       "    }\n",
       "\n",
       "    .dataframe tbody tr th {\n",
       "        vertical-align: top;\n",
       "    }\n",
       "\n",
       "    .dataframe thead th {\n",
       "        text-align: right;\n",
       "    }\n",
       "</style>\n",
       "<table border=\"1\" class=\"dataframe\">\n",
       "  <thead>\n",
       "    <tr style=\"text-align: right;\">\n",
       "      <th></th>\n",
       "      <th>Tranche</th>\n",
       "      <th>Scenario</th>\n",
       "      <th>Amount</th>\n",
       "      <th>Notes</th>\n",
       "    </tr>\n",
       "  </thead>\n",
       "  <tbody>\n",
       "    <tr>\n",
       "      <th>0</th>\n",
       "      <td>CIGS 0</td>\n",
       "      <td>CIGS 0</td>\n",
       "      <td>0.0</td>\n",
       "      <td></td>\n",
       "    </tr>\n",
       "    <tr>\n",
       "      <th>1</th>\n",
       "      <td>CIGS 1</td>\n",
       "      <td>CIGS 1</td>\n",
       "      <td>1500000.0</td>\n",
       "      <td></td>\n",
       "    </tr>\n",
       "    <tr>\n",
       "      <th>2</th>\n",
       "      <td>CIGS 2</td>\n",
       "      <td>CIGS 2</td>\n",
       "      <td>3000000.0</td>\n",
       "      <td></td>\n",
       "    </tr>\n",
       "  </tbody>\n",
       "</table>\n",
       "</div>"
      ],
      "text/plain": [
       "  Tranche Scenario     Amount Notes\n",
       "0  CIGS 0   CIGS 0        0.0      \n",
       "1  CIGS 1   CIGS 1  1500000.0      \n",
       "2  CIGS 2   CIGS 2  3000000.0      "
      ]
     },
     "execution_count": 12,
     "metadata": {},
     "output_type": "execute_result"
    }
   ],
   "source": [
    "investments.tranches.xs(\"CIGS\", level=\"Category\").reset_index()"
   ]
  },
  {
   "cell_type": "code",
   "execution_count": 13,
   "metadata": {},
   "outputs": [],
   "source": [
    "# investments.tranches.reset_index()"
   ]
  },
  {
   "cell_type": "code",
   "execution_count": 14,
   "metadata": {},
   "outputs": [],
   "source": [
    "data = investments.tranches.reset_index()\n",
    "# g = sb.FacetGrid(data, row=\"Category\")\n",
    "# g.map(sb.barplot, x=\"Amount\", y=\"Tranche\");\n",
    "# g.set_titles(\"\")\n",
    "# g.set(yticks=[], ylabel=\"\", xlabel=\"\", xticks=[])\n",
    "# g.despine(bottom=True, left=True)"
   ]
  },
  {
   "cell_type": "markdown",
   "metadata": {},
   "source": [
    "### The `investments` table bundles a consistent set of tranches (one per category) into an overall investment."
   ]
  },
  {
   "cell_type": "code",
   "execution_count": 15,
   "metadata": {},
   "outputs": [
    {
     "data": {
      "text/html": [
       "<div>\n",
       "<style scoped>\n",
       "    .dataframe tbody tr th:only-of-type {\n",
       "        vertical-align: middle;\n",
       "    }\n",
       "\n",
       "    .dataframe tbody tr th {\n",
       "        vertical-align: top;\n",
       "    }\n",
       "\n",
       "    .dataframe thead th {\n",
       "        text-align: right;\n",
       "    }\n",
       "</style>\n",
       "<table border=\"1\" class=\"dataframe\">\n",
       "  <thead>\n",
       "    <tr style=\"text-align: right;\">\n",
       "      <th></th>\n",
       "      <th></th>\n",
       "      <th></th>\n",
       "      <th>Notes</th>\n",
       "    </tr>\n",
       "    <tr>\n",
       "      <th>Investment</th>\n",
       "      <th>Category</th>\n",
       "      <th>Tranche</th>\n",
       "      <th></th>\n",
       "    </tr>\n",
       "  </thead>\n",
       "  <tbody>\n",
       "    <tr>\n",
       "      <th rowspan=\"8\" valign=\"top\">High R&amp;D</th>\n",
       "      <th>CIGS</th>\n",
       "      <th>CIGS 2</th>\n",
       "      <td></td>\n",
       "    </tr>\n",
       "    <tr>\n",
       "      <th>CdTe</th>\n",
       "      <th>CdTe 2</th>\n",
       "      <td></td>\n",
       "    </tr>\n",
       "    <tr>\n",
       "      <th>GaAs</th>\n",
       "      <th>GaAs 2</th>\n",
       "      <td></td>\n",
       "    </tr>\n",
       "    <tr>\n",
       "      <th>InGaP</th>\n",
       "      <th>InGaP 2</th>\n",
       "      <td></td>\n",
       "    </tr>\n",
       "    <tr>\n",
       "      <th>Perovskite</th>\n",
       "      <th>Perovskite 2</th>\n",
       "      <td></td>\n",
       "    </tr>\n",
       "    <tr>\n",
       "      <th>Polysilicon</th>\n",
       "      <th>Polysilicon 2</th>\n",
       "      <td></td>\n",
       "    </tr>\n",
       "    <tr>\n",
       "      <th>Power Electronics</th>\n",
       "      <th>Power Electronics 2</th>\n",
       "      <td></td>\n",
       "    </tr>\n",
       "    <tr>\n",
       "      <th>Soft Costs</th>\n",
       "      <th>Soft Costs 2</th>\n",
       "      <td></td>\n",
       "    </tr>\n",
       "    <tr>\n",
       "      <th rowspan=\"8\" valign=\"top\">Moderate R&amp;D</th>\n",
       "      <th>CIGS</th>\n",
       "      <th>CIGS 1</th>\n",
       "      <td></td>\n",
       "    </tr>\n",
       "    <tr>\n",
       "      <th>CdTe</th>\n",
       "      <th>CdTe 1</th>\n",
       "      <td></td>\n",
       "    </tr>\n",
       "    <tr>\n",
       "      <th>GaAs</th>\n",
       "      <th>GaAs 1</th>\n",
       "      <td></td>\n",
       "    </tr>\n",
       "    <tr>\n",
       "      <th>InGaP</th>\n",
       "      <th>InGaP 1</th>\n",
       "      <td></td>\n",
       "    </tr>\n",
       "    <tr>\n",
       "      <th>Perovskite</th>\n",
       "      <th>Perovskite 1</th>\n",
       "      <td></td>\n",
       "    </tr>\n",
       "    <tr>\n",
       "      <th>Polysilicon</th>\n",
       "      <th>Polysilicon 1</th>\n",
       "      <td></td>\n",
       "    </tr>\n",
       "    <tr>\n",
       "      <th>Power Electronics</th>\n",
       "      <th>Power Electronics 1</th>\n",
       "      <td></td>\n",
       "    </tr>\n",
       "    <tr>\n",
       "      <th>Soft Costs</th>\n",
       "      <th>Soft Costs 1</th>\n",
       "      <td></td>\n",
       "    </tr>\n",
       "    <tr>\n",
       "      <th rowspan=\"8\" valign=\"top\">No R&amp;D</th>\n",
       "      <th>CIGS</th>\n",
       "      <th>CIGS 0</th>\n",
       "      <td></td>\n",
       "    </tr>\n",
       "    <tr>\n",
       "      <th>CdTe</th>\n",
       "      <th>CdTe 0</th>\n",
       "      <td></td>\n",
       "    </tr>\n",
       "    <tr>\n",
       "      <th>GaAs</th>\n",
       "      <th>GaAs 0</th>\n",
       "      <td></td>\n",
       "    </tr>\n",
       "    <tr>\n",
       "      <th>InGaP</th>\n",
       "      <th>InGaP 0</th>\n",
       "      <td></td>\n",
       "    </tr>\n",
       "    <tr>\n",
       "      <th>Perovskite</th>\n",
       "      <th>Perovskite 0</th>\n",
       "      <td></td>\n",
       "    </tr>\n",
       "    <tr>\n",
       "      <th>Polysilicon</th>\n",
       "      <th>Polysilicon 0</th>\n",
       "      <td></td>\n",
       "    </tr>\n",
       "    <tr>\n",
       "      <th>Power Electronics</th>\n",
       "      <th>Power Electronics 0</th>\n",
       "      <td></td>\n",
       "    </tr>\n",
       "    <tr>\n",
       "      <th>Soft Costs</th>\n",
       "      <th>Soft Costs 0</th>\n",
       "      <td></td>\n",
       "    </tr>\n",
       "  </tbody>\n",
       "</table>\n",
       "</div>"
      ],
      "text/plain": [
       "                                                   Notes\n",
       "Investment   Category          Tranche                  \n",
       "High R&D     CIGS              CIGS 2                   \n",
       "             CdTe              CdTe 2                   \n",
       "             GaAs              GaAs 2                   \n",
       "             InGaP             InGaP 2                  \n",
       "             Perovskite        Perovskite 2             \n",
       "             Polysilicon       Polysilicon 2            \n",
       "             Power Electronics Power Electronics 2      \n",
       "             Soft Costs        Soft Costs 2             \n",
       "Moderate R&D CIGS              CIGS 1                   \n",
       "             CdTe              CdTe 1                   \n",
       "             GaAs              GaAs 1                   \n",
       "             InGaP             InGaP 1                  \n",
       "             Perovskite        Perovskite 1             \n",
       "             Polysilicon       Polysilicon 1            \n",
       "             Power Electronics Power Electronics 1      \n",
       "             Soft Costs        Soft Costs 1             \n",
       "No R&D       CIGS              CIGS 0                   \n",
       "             CdTe              CdTe 0                   \n",
       "             GaAs              GaAs 0                   \n",
       "             InGaP             InGaP 0                  \n",
       "             Perovskite        Perovskite 0             \n",
       "             Polysilicon       Polysilicon 0            \n",
       "             Power Electronics Power Electronics 0      \n",
       "             Soft Costs        Soft Costs 0             "
      ]
     },
     "execution_count": 15,
     "metadata": {},
     "output_type": "execute_result"
    }
   ],
   "source": [
    "investments.investments"
   ]
  },
  {
   "cell_type": "markdown",
   "metadata": {},
   "source": [
    "## Evaluate the scenarios in the dataset."
   ]
  },
  {
   "cell_type": "code",
   "execution_count": 16,
   "metadata": {
    "scrolled": false
   },
   "outputs": [
    {
     "name": "stdout",
     "output_type": "stream",
     "text": [
      "Evaluating PV Generic\n"
     ]
    },
    {
     "name": "stderr",
     "output_type": "stream",
     "text": [
      "/Users/tghosh/OneDrive - NREL/work_NREL/tyche/src/tyche/Designs.py:373: FutureWarning: The frame.append method is deprecated and will be removed from pandas in a future version. Use pandas.concat instead.\n",
      "  costs   = costs.append(  result.cost  )\n",
      "/Users/tghosh/OneDrive - NREL/work_NREL/tyche/src/tyche/Designs.py:374: FutureWarning: The frame.append method is deprecated and will be removed from pandas in a future version. Use pandas.concat instead.\n",
      "  outputs = outputs.append(result.output)\n",
      "/Users/tghosh/OneDrive - NREL/work_NREL/tyche/src/tyche/Designs.py:375: FutureWarning: The frame.append method is deprecated and will be removed from pandas in a future version. Use pandas.concat instead.\n",
      "  metrics = metrics.append(result.metric)\n",
      "/Users/tghosh/OneDrive - NREL/work_NREL/tyche/src/tyche/Designs.py:388: FutureWarning: The frame.append method is deprecated and will be removed from pandas in a future version. Use pandas.concat instead.\n",
      "  return organize(\"Cost\", costs).append(\n",
      "/Users/tghosh/OneDrive - NREL/work_NREL/tyche/src/tyche/Designs.py:388: FutureWarning: The frame.append method is deprecated and will be removed from pandas in a future version. Use pandas.concat instead.\n",
      "  return organize(\"Cost\", costs).append(\n"
     ]
    }
   ],
   "source": [
    "scenario_results = designs.evaluate_scenarios(sample_count=500)"
   ]
  },
  {
   "cell_type": "markdown",
   "metadata": {},
   "source": [
    "#### Format results as a pivot table."
   ]
  },
  {
   "cell_type": "code",
   "execution_count": 17,
   "metadata": {},
   "outputs": [
    {
     "data": {
      "text/html": [
       "<div>\n",
       "<style scoped>\n",
       "    .dataframe tbody tr th:only-of-type {\n",
       "        vertical-align: middle;\n",
       "    }\n",
       "\n",
       "    .dataframe tbody tr th {\n",
       "        vertical-align: top;\n",
       "    }\n",
       "\n",
       "    .dataframe thead tr th {\n",
       "        text-align: left;\n",
       "    }\n",
       "\n",
       "    .dataframe thead tr:last-of-type th {\n",
       "        text-align: right;\n",
       "    }\n",
       "</style>\n",
       "<table border=\"1\" class=\"dataframe\">\n",
       "  <thead>\n",
       "    <tr>\n",
       "      <th></th>\n",
       "      <th colspan=\"8\" halign=\"left\">Value</th>\n",
       "    </tr>\n",
       "    <tr>\n",
       "      <th>Index</th>\n",
       "      <th>Capital</th>\n",
       "      <th>Efficiency</th>\n",
       "      <th>GHG</th>\n",
       "      <th>Hazardous</th>\n",
       "      <th>LCOE</th>\n",
       "      <th>Lifetime</th>\n",
       "      <th>Strategic</th>\n",
       "      <th>Yield</th>\n",
       "    </tr>\n",
       "    <tr>\n",
       "      <th>Scenario</th>\n",
       "      <th></th>\n",
       "      <th></th>\n",
       "      <th></th>\n",
       "      <th></th>\n",
       "      <th></th>\n",
       "      <th></th>\n",
       "      <th></th>\n",
       "      <th></th>\n",
       "    </tr>\n",
       "  </thead>\n",
       "  <tbody>\n",
       "    <tr>\n",
       "      <th>CIGS 0</th>\n",
       "      <td>-7.914140e-01</td>\n",
       "      <td>0.234490</td>\n",
       "      <td>-0.000449</td>\n",
       "      <td>0.055660</td>\n",
       "      <td>-6.303185e-02</td>\n",
       "      <td>25.001261</td>\n",
       "      <td>0.013780</td>\n",
       "      <td>964.368121</td>\n",
       "    </tr>\n",
       "    <tr>\n",
       "      <th>CIGS 1</th>\n",
       "      <td>-2.046026e-01</td>\n",
       "      <td>0.265194</td>\n",
       "      <td>-0.000449</td>\n",
       "      <td>0.044868</td>\n",
       "      <td>-3.956447e-02</td>\n",
       "      <td>25.001241</td>\n",
       "      <td>0.011786</td>\n",
       "      <td>954.519051</td>\n",
       "    </tr>\n",
       "    <tr>\n",
       "      <th>CIGS 2</th>\n",
       "      <td>1.167327e-01</td>\n",
       "      <td>0.274802</td>\n",
       "      <td>-0.000449</td>\n",
       "      <td>0.037790</td>\n",
       "      <td>-2.122023e-02</td>\n",
       "      <td>25.001239</td>\n",
       "      <td>0.010502</td>\n",
       "      <td>996.402895</td>\n",
       "    </tr>\n",
       "    <tr>\n",
       "      <th>CdTe 0</th>\n",
       "      <td>-4.184828e-01</td>\n",
       "      <td>0.235708</td>\n",
       "      <td>-0.000449</td>\n",
       "      <td>0.053868</td>\n",
       "      <td>-1.307817e-02</td>\n",
       "      <td>25.001277</td>\n",
       "      <td>0.031516</td>\n",
       "      <td>1278.373839</td>\n",
       "    </tr>\n",
       "    <tr>\n",
       "      <th>CdTe 1</th>\n",
       "      <td>-1.004578e-01</td>\n",
       "      <td>0.255149</td>\n",
       "      <td>-0.000449</td>\n",
       "      <td>0.045861</td>\n",
       "      <td>-4.220559e-04</td>\n",
       "      <td>25.001216</td>\n",
       "      <td>0.025630</td>\n",
       "      <td>1318.045655</td>\n",
       "    </tr>\n",
       "    <tr>\n",
       "      <th>CdTe 2</th>\n",
       "      <td>2.545344e-01</td>\n",
       "      <td>0.285993</td>\n",
       "      <td>-0.000449</td>\n",
       "      <td>0.036811</td>\n",
       "      <td>1.221172e-02</td>\n",
       "      <td>25.001272</td>\n",
       "      <td>0.021599</td>\n",
       "      <td>1350.940636</td>\n",
       "    </tr>\n",
       "    <tr>\n",
       "      <th>GaAs 0</th>\n",
       "      <td>-2.386790e-01</td>\n",
       "      <td>0.312326</td>\n",
       "      <td>-0.000449</td>\n",
       "      <td>0.075730</td>\n",
       "      <td>-7.452435e-03</td>\n",
       "      <td>25.001239</td>\n",
       "      <td>0.007309</td>\n",
       "      <td>1278.376010</td>\n",
       "    </tr>\n",
       "    <tr>\n",
       "      <th>GaAs 1</th>\n",
       "      <td>-1.991668e-02</td>\n",
       "      <td>0.313097</td>\n",
       "      <td>-0.000449</td>\n",
       "      <td>0.074290</td>\n",
       "      <td>-3.436910e-04</td>\n",
       "      <td>25.001224</td>\n",
       "      <td>0.006242</td>\n",
       "      <td>1282.253209</td>\n",
       "    </tr>\n",
       "    <tr>\n",
       "      <th>GaAs 2</th>\n",
       "      <td>4.574208e-01</td>\n",
       "      <td>0.344527</td>\n",
       "      <td>-0.000449</td>\n",
       "      <td>0.066199</td>\n",
       "      <td>1.498595e-02</td>\n",
       "      <td>25.001249</td>\n",
       "      <td>0.004893</td>\n",
       "      <td>1290.109141</td>\n",
       "    </tr>\n",
       "    <tr>\n",
       "      <th>InGaP 0</th>\n",
       "      <td>3.854120e-01</td>\n",
       "      <td>0.403412</td>\n",
       "      <td>-0.000449</td>\n",
       "      <td>0.023552</td>\n",
       "      <td>-1.418796e-03</td>\n",
       "      <td>20.494996</td>\n",
       "      <td>0.003104</td>\n",
       "      <td>1310.585952</td>\n",
       "    </tr>\n",
       "    <tr>\n",
       "      <th>InGaP 1</th>\n",
       "      <td>7.392741e-01</td>\n",
       "      <td>0.410129</td>\n",
       "      <td>-0.000449</td>\n",
       "      <td>0.018450</td>\n",
       "      <td>1.252231e-02</td>\n",
       "      <td>20.499773</td>\n",
       "      <td>0.002373</td>\n",
       "      <td>1323.783409</td>\n",
       "    </tr>\n",
       "    <tr>\n",
       "      <th>InGaP 2</th>\n",
       "      <td>9.511129e-01</td>\n",
       "      <td>0.397467</td>\n",
       "      <td>-0.000449</td>\n",
       "      <td>0.018080</td>\n",
       "      <td>2.033633e-02</td>\n",
       "      <td>20.503123</td>\n",
       "      <td>0.002368</td>\n",
       "      <td>1323.760436</td>\n",
       "    </tr>\n",
       "    <tr>\n",
       "      <th>Perovskite 0</th>\n",
       "      <td>-1.130991e+00</td>\n",
       "      <td>0.180936</td>\n",
       "      <td>-0.000449</td>\n",
       "      <td>0.024961</td>\n",
       "      <td>-7.906012e-02</td>\n",
       "      <td>17.520894</td>\n",
       "      <td>0.007591</td>\n",
       "      <td>1335.716113</td>\n",
       "    </tr>\n",
       "    <tr>\n",
       "      <th>Perovskite 1</th>\n",
       "      <td>-3.772833e-01</td>\n",
       "      <td>0.225275</td>\n",
       "      <td>-0.000449</td>\n",
       "      <td>0.016942</td>\n",
       "      <td>-4.482175e-02</td>\n",
       "      <td>17.462312</td>\n",
       "      <td>0.005201</td>\n",
       "      <td>1359.410944</td>\n",
       "    </tr>\n",
       "    <tr>\n",
       "      <th>Perovskite 2</th>\n",
       "      <td>3.489765e-01</td>\n",
       "      <td>0.294862</td>\n",
       "      <td>-0.000449</td>\n",
       "      <td>0.008609</td>\n",
       "      <td>-1.425183e-02</td>\n",
       "      <td>17.442086</td>\n",
       "      <td>0.003634</td>\n",
       "      <td>1359.581384</td>\n",
       "    </tr>\n",
       "    <tr>\n",
       "      <th>Polysilicon 0</th>\n",
       "      <td>2.110367e-01</td>\n",
       "      <td>0.232240</td>\n",
       "      <td>-0.000449</td>\n",
       "      <td>0.247741</td>\n",
       "      <td>6.618544e-03</td>\n",
       "      <td>25.001261</td>\n",
       "      <td>0.000000</td>\n",
       "      <td>1278.378392</td>\n",
       "    </tr>\n",
       "    <tr>\n",
       "      <th>Polysilicon 1</th>\n",
       "      <td>3.381926e-01</td>\n",
       "      <td>0.245267</td>\n",
       "      <td>-0.000449</td>\n",
       "      <td>0.204492</td>\n",
       "      <td>1.175215e-02</td>\n",
       "      <td>25.001223</td>\n",
       "      <td>0.000000</td>\n",
       "      <td>1298.110240</td>\n",
       "    </tr>\n",
       "    <tr>\n",
       "      <th>Polysilicon 2</th>\n",
       "      <td>5.707059e-01</td>\n",
       "      <td>0.274359</td>\n",
       "      <td>-0.000449</td>\n",
       "      <td>0.150006</td>\n",
       "      <td>2.094638e-02</td>\n",
       "      <td>25.001246</td>\n",
       "      <td>0.000000</td>\n",
       "      <td>1338.142099</td>\n",
       "    </tr>\n",
       "    <tr>\n",
       "      <th>Power Electronics 1</th>\n",
       "      <td>2.941807e-01</td>\n",
       "      <td>0.233466</td>\n",
       "      <td>-0.000449</td>\n",
       "      <td>0.234613</td>\n",
       "      <td>1.292469e-02</td>\n",
       "      <td>25.001228</td>\n",
       "      <td>0.000000</td>\n",
       "      <td>1342.566307</td>\n",
       "    </tr>\n",
       "    <tr>\n",
       "      <th>Power Electronics 2</th>\n",
       "      <td>3.768324e-01</td>\n",
       "      <td>0.233655</td>\n",
       "      <td>-0.000449</td>\n",
       "      <td>0.227375</td>\n",
       "      <td>1.755159e-02</td>\n",
       "      <td>25.001269</td>\n",
       "      <td>0.000000</td>\n",
       "      <td>1384.531804</td>\n",
       "    </tr>\n",
       "    <tr>\n",
       "      <th>Reference</th>\n",
       "      <td>-4.304827e-07</td>\n",
       "      <td>0.208000</td>\n",
       "      <td>-0.000449</td>\n",
       "      <td>0.275327</td>\n",
       "      <td>-1.946058e-07</td>\n",
       "      <td>25.000000</td>\n",
       "      <td>0.000000</td>\n",
       "      <td>1278.202148</td>\n",
       "    </tr>\n",
       "    <tr>\n",
       "      <th>Soft Costs 1</th>\n",
       "      <td>3.020213e-01</td>\n",
       "      <td>0.232972</td>\n",
       "      <td>-0.000449</td>\n",
       "      <td>0.246855</td>\n",
       "      <td>9.464990e-03</td>\n",
       "      <td>25.001211</td>\n",
       "      <td>0.000000</td>\n",
       "      <td>1278.375997</td>\n",
       "    </tr>\n",
       "    <tr>\n",
       "      <th>Soft Costs 2</th>\n",
       "      <td>4.671757e-01</td>\n",
       "      <td>0.232885</td>\n",
       "      <td>-0.000449</td>\n",
       "      <td>0.247037</td>\n",
       "      <td>1.463249e-02</td>\n",
       "      <td>25.001260</td>\n",
       "      <td>0.000000</td>\n",
       "      <td>1278.375737</td>\n",
       "    </tr>\n",
       "  </tbody>\n",
       "</table>\n",
       "</div>"
      ],
      "text/plain": [
       "                            Value                                 \\\n",
       "Index                     Capital Efficiency       GHG Hazardous   \n",
       "Scenario                                                           \n",
       "CIGS 0              -7.914140e-01   0.234490 -0.000449  0.055660   \n",
       "CIGS 1              -2.046026e-01   0.265194 -0.000449  0.044868   \n",
       "CIGS 2               1.167327e-01   0.274802 -0.000449  0.037790   \n",
       "CdTe 0              -4.184828e-01   0.235708 -0.000449  0.053868   \n",
       "CdTe 1              -1.004578e-01   0.255149 -0.000449  0.045861   \n",
       "CdTe 2               2.545344e-01   0.285993 -0.000449  0.036811   \n",
       "GaAs 0              -2.386790e-01   0.312326 -0.000449  0.075730   \n",
       "GaAs 1              -1.991668e-02   0.313097 -0.000449  0.074290   \n",
       "GaAs 2               4.574208e-01   0.344527 -0.000449  0.066199   \n",
       "InGaP 0              3.854120e-01   0.403412 -0.000449  0.023552   \n",
       "InGaP 1              7.392741e-01   0.410129 -0.000449  0.018450   \n",
       "InGaP 2              9.511129e-01   0.397467 -0.000449  0.018080   \n",
       "Perovskite 0        -1.130991e+00   0.180936 -0.000449  0.024961   \n",
       "Perovskite 1        -3.772833e-01   0.225275 -0.000449  0.016942   \n",
       "Perovskite 2         3.489765e-01   0.294862 -0.000449  0.008609   \n",
       "Polysilicon 0        2.110367e-01   0.232240 -0.000449  0.247741   \n",
       "Polysilicon 1        3.381926e-01   0.245267 -0.000449  0.204492   \n",
       "Polysilicon 2        5.707059e-01   0.274359 -0.000449  0.150006   \n",
       "Power Electronics 1  2.941807e-01   0.233466 -0.000449  0.234613   \n",
       "Power Electronics 2  3.768324e-01   0.233655 -0.000449  0.227375   \n",
       "Reference           -4.304827e-07   0.208000 -0.000449  0.275327   \n",
       "Soft Costs 1         3.020213e-01   0.232972 -0.000449  0.246855   \n",
       "Soft Costs 2         4.671757e-01   0.232885 -0.000449  0.247037   \n",
       "\n",
       "                                                                     \n",
       "Index                        LCOE   Lifetime Strategic        Yield  \n",
       "Scenario                                                             \n",
       "CIGS 0              -6.303185e-02  25.001261  0.013780   964.368121  \n",
       "CIGS 1              -3.956447e-02  25.001241  0.011786   954.519051  \n",
       "CIGS 2              -2.122023e-02  25.001239  0.010502   996.402895  \n",
       "CdTe 0              -1.307817e-02  25.001277  0.031516  1278.373839  \n",
       "CdTe 1              -4.220559e-04  25.001216  0.025630  1318.045655  \n",
       "CdTe 2               1.221172e-02  25.001272  0.021599  1350.940636  \n",
       "GaAs 0              -7.452435e-03  25.001239  0.007309  1278.376010  \n",
       "GaAs 1              -3.436910e-04  25.001224  0.006242  1282.253209  \n",
       "GaAs 2               1.498595e-02  25.001249  0.004893  1290.109141  \n",
       "InGaP 0             -1.418796e-03  20.494996  0.003104  1310.585952  \n",
       "InGaP 1              1.252231e-02  20.499773  0.002373  1323.783409  \n",
       "InGaP 2              2.033633e-02  20.503123  0.002368  1323.760436  \n",
       "Perovskite 0        -7.906012e-02  17.520894  0.007591  1335.716113  \n",
       "Perovskite 1        -4.482175e-02  17.462312  0.005201  1359.410944  \n",
       "Perovskite 2        -1.425183e-02  17.442086  0.003634  1359.581384  \n",
       "Polysilicon 0        6.618544e-03  25.001261  0.000000  1278.378392  \n",
       "Polysilicon 1        1.175215e-02  25.001223  0.000000  1298.110240  \n",
       "Polysilicon 2        2.094638e-02  25.001246  0.000000  1338.142099  \n",
       "Power Electronics 1  1.292469e-02  25.001228  0.000000  1342.566307  \n",
       "Power Electronics 2  1.755159e-02  25.001269  0.000000  1384.531804  \n",
       "Reference           -1.946058e-07  25.000000  0.000000  1278.202148  \n",
       "Soft Costs 1         9.464990e-03  25.001211  0.000000  1278.375997  \n",
       "Soft Costs 2         1.463249e-02  25.001260  0.000000  1278.375737  "
      ]
     },
     "execution_count": 17,
     "metadata": {},
     "output_type": "execute_result"
    }
   ],
   "source": [
    "scenario_results.xs(\n",
    "    \"PV Generic\"\n",
    ").groupby(\n",
    "    [\"Scenario\", \"Variable\", \"Index\"]\n",
    ").aggregate(\n",
    "    np.mean\n",
    ").xs(\n",
    "    \"Metric\", level = 1\n",
    ").pivot_table(\n",
    "    index = \"Scenario\", columns = \"Index\"\n",
    ")"
   ]
  },
  {
   "cell_type": "markdown",
   "metadata": {},
   "source": [
    "#### Print the units for the columns."
   ]
  },
  {
   "cell_type": "code",
   "execution_count": 18,
   "metadata": {},
   "outputs": [
    {
     "data": {
      "text/html": [
       "<div>\n",
       "<style scoped>\n",
       "    .dataframe tbody tr th:only-of-type {\n",
       "        vertical-align: middle;\n",
       "    }\n",
       "\n",
       "    .dataframe tbody tr th {\n",
       "        vertical-align: top;\n",
       "    }\n",
       "\n",
       "    .dataframe thead th {\n",
       "        text-align: right;\n",
       "    }\n",
       "</style>\n",
       "<table border=\"1\" class=\"dataframe\">\n",
       "  <thead>\n",
       "    <tr style=\"text-align: right;\">\n",
       "      <th>Index</th>\n",
       "      <th>Capital</th>\n",
       "      <th>Efficiency</th>\n",
       "      <th>GHG</th>\n",
       "      <th>Hazardous</th>\n",
       "      <th>LCOE</th>\n",
       "      <th>Lifetime</th>\n",
       "      <th>Strategic</th>\n",
       "      <th>Yield</th>\n",
       "    </tr>\n",
       "  </thead>\n",
       "  <tbody>\n",
       "    <tr>\n",
       "      <th>Units</th>\n",
       "      <td>Œî$/Wdc</td>\n",
       "      <td>%/100</td>\n",
       "      <td>ŒîgCO2e/system</td>\n",
       "      <td>g/kWh</td>\n",
       "      <td>Œî$/kWh</td>\n",
       "      <td>yr</td>\n",
       "      <td>g/kWh</td>\n",
       "      <td>hr/yr</td>\n",
       "    </tr>\n",
       "    <tr>\n",
       "      <th>Notes</th>\n",
       "      <td></td>\n",
       "      <td></td>\n",
       "      <td></td>\n",
       "      <td></td>\n",
       "      <td></td>\n",
       "      <td></td>\n",
       "      <td></td>\n",
       "      <td></td>\n",
       "    </tr>\n",
       "  </tbody>\n",
       "</table>\n",
       "</div>"
      ],
      "text/plain": [
       "Index  Capital Efficiency             GHG Hazardous     LCOE Lifetime  \\\n",
       "Units  Œî$/Wdc      %/100  ŒîgCO2e/system     g/kWh  Œî$/kWh       yr   \n",
       "Notes                                                                   \n",
       "\n",
       "Index Strategic  Yield  \n",
       "Units     g/kWh  hr/yr  \n",
       "Notes                   "
      ]
     },
     "execution_count": 18,
     "metadata": {},
     "output_type": "execute_result"
    }
   ],
   "source": [
    "designs.results.loc[\"PV Generic\", \"Metric\"].transpose()"
   ]
  },
  {
   "cell_type": "markdown",
   "metadata": {},
   "source": [
    "### Save results."
   ]
  },
  {
   "cell_type": "code",
   "execution_count": 19,
   "metadata": {},
   "outputs": [],
   "source": [
    "scenario_results.to_csv(\"output/example-scenario.csv\")"
   ]
  },
  {
   "cell_type": "markdown",
   "metadata": {},
   "source": [
    "### Plot the results."
   ]
  },
  {
   "cell_type": "code",
   "execution_count": 20,
   "metadata": {},
   "outputs": [
    {
     "data": {
      "text/html": [
       "<div>\n",
       "<style scoped>\n",
       "    .dataframe tbody tr th:only-of-type {\n",
       "        vertical-align: middle;\n",
       "    }\n",
       "\n",
       "    .dataframe tbody tr th {\n",
       "        vertical-align: top;\n",
       "    }\n",
       "\n",
       "    .dataframe thead th {\n",
       "        text-align: right;\n",
       "    }\n",
       "</style>\n",
       "<table border=\"1\" class=\"dataframe\">\n",
       "  <thead>\n",
       "    <tr style=\"text-align: right;\">\n",
       "      <th></th>\n",
       "      <th></th>\n",
       "      <th></th>\n",
       "      <th>Amount</th>\n",
       "      <th>Notes</th>\n",
       "    </tr>\n",
       "    <tr>\n",
       "      <th>Category</th>\n",
       "      <th>Tranche</th>\n",
       "      <th>Scenario</th>\n",
       "      <th></th>\n",
       "      <th></th>\n",
       "    </tr>\n",
       "  </thead>\n",
       "  <tbody>\n",
       "    <tr>\n",
       "      <th rowspan=\"2\" valign=\"top\">CIGS</th>\n",
       "      <th>CIGS 0</th>\n",
       "      <th>CIGS 0</th>\n",
       "      <td>0.0</td>\n",
       "      <td></td>\n",
       "    </tr>\n",
       "    <tr>\n",
       "      <th>CIGS 1</th>\n",
       "      <th>CIGS 1</th>\n",
       "      <td>1500000.0</td>\n",
       "      <td></td>\n",
       "    </tr>\n",
       "  </tbody>\n",
       "</table>\n",
       "</div>"
      ],
      "text/plain": [
       "                              Amount Notes\n",
       "Category Tranche Scenario                 \n",
       "CIGS     CIGS 0  CIGS 0          0.0      \n",
       "         CIGS 1  CIGS 1    1500000.0      "
      ]
     },
     "metadata": {},
     "output_type": "display_data"
    },
    {
     "data": {
      "text/html": [
       "<div>\n",
       "<style scoped>\n",
       "    .dataframe tbody tr th:only-of-type {\n",
       "        vertical-align: middle;\n",
       "    }\n",
       "\n",
       "    .dataframe tbody tr th {\n",
       "        vertical-align: top;\n",
       "    }\n",
       "\n",
       "    .dataframe thead th {\n",
       "        text-align: right;\n",
       "    }\n",
       "</style>\n",
       "<table border=\"1\" class=\"dataframe\">\n",
       "  <thead>\n",
       "    <tr style=\"text-align: right;\">\n",
       "      <th></th>\n",
       "      <th></th>\n",
       "      <th></th>\n",
       "      <th></th>\n",
       "      <th></th>\n",
       "      <th>Value</th>\n",
       "      <th>Units</th>\n",
       "    </tr>\n",
       "    <tr>\n",
       "      <th>Technology</th>\n",
       "      <th>Scenario</th>\n",
       "      <th>Sample</th>\n",
       "      <th>Variable</th>\n",
       "      <th>Index</th>\n",
       "      <th></th>\n",
       "      <th></th>\n",
       "    </tr>\n",
       "  </thead>\n",
       "  <tbody>\n",
       "    <tr>\n",
       "      <th rowspan=\"2\" valign=\"top\">PV Generic</th>\n",
       "      <th rowspan=\"2\" valign=\"top\">CIGS 0</th>\n",
       "      <th rowspan=\"2\" valign=\"top\">1</th>\n",
       "      <th>Cost</th>\n",
       "      <th>Cost</th>\n",
       "      <td>29972.067325</td>\n",
       "      <td>$/system</td>\n",
       "    </tr>\n",
       "    <tr>\n",
       "      <th>Metric</th>\n",
       "      <th>Capital</th>\n",
       "      <td>-0.735565</td>\n",
       "      <td>Œî$/Wdc</td>\n",
       "    </tr>\n",
       "  </tbody>\n",
       "</table>\n",
       "</div>"
      ],
      "text/plain": [
       "                                                    Value     Units\n",
       "Technology Scenario Sample Variable Index                          \n",
       "PV Generic CIGS 0   1      Cost     Cost     29972.067325  $/system\n",
       "                           Metric   Capital     -0.735565   Œî$/Wdc"
      ]
     },
     "metadata": {},
     "output_type": "display_data"
    }
   ],
   "source": [
    "display(investments.tranches.head(2))\n",
    "display(scenario_results.head(2))"
   ]
  },
  {
   "cell_type": "code",
   "execution_count": 21,
   "metadata": {},
   "outputs": [
    {
     "data": {
      "text/plain": [
       "array(['CIGS', 'CdTe', 'GaAs', 'InGaP', 'Perovskite', 'Polysilicon',\n",
       "       'Power Electronics', 'Soft Costs'], dtype=object)"
      ]
     },
     "execution_count": 21,
     "metadata": {},
     "output_type": "execute_result"
    }
   ],
   "source": [
    "# https://stackoverflow.com/a/55262258 - move box plots closer together\n",
    "# a,b = ax.get_ylim()\n",
    "# ax.set_ylim(a+val, b-val)\n",
    "data_all = investments.tranches.join(scenario_results).reset_index()\n",
    "data_all[\"Category\"].unique()"
   ]
  },
  {
   "cell_type": "code",
   "execution_count": 22,
   "metadata": {},
   "outputs": [],
   "source": [
    "\n",
    "# val=1\n",
    "# sb.violinplot(x=\"Value\", y=\"Category\", hue=\"Tranche\", data=data)\n",
    "# sb.despine(offset=10, trim=True)\n",
    "# ax.set_ylim(-val, 1+val)\n",
    "# a,b = ax.get_ylim()\n",
    "# ax.set_ylim(a+val, b-val)\n",
    "# sb.kdeplot(x=\"Value\", hue=\"Tranche\", data=data, fill=True)\n",
    "# data[\"diff\"] = np.where(data[\"Scenario\"] != data[\"Tranche\"], True, False)\n",
    "# data[\"Tranche\"].unique()\n",
    "# data[]\n",
    "# scenario_results.xs(\n",
    "#     \"PV Generic\"\n",
    "# ).groupby(\n",
    "#     [\"Scenario\", \"Variable\", \"Index\"]\n",
    "# ).aggregate(\n",
    "#     np.mean\n",
    "# ).xs(\n",
    "#     \"Metric\", level = 1\n",
    "# )"
   ]
  },
  {
   "cell_type": "code",
   "execution_count": null,
   "metadata": {},
   "outputs": [],
   "source": []
  },
  {
   "cell_type": "code",
   "execution_count": 23,
   "metadata": {},
   "outputs": [],
   "source": [
    "# tips = sns.load_dataset(\"tips\")\n",
    "# ax = sns.violinplot(x=\"day\", y=\"total_bill\", hue=\"sex\",\n",
    "#                     data=tips, palette=\"Set2\", split=True,\n",
    "#                     scale=\"count\", inner=\"stick\",\n",
    "#                     scale_hue=False, bw=.2, width=2.5,\n",
    "#                     order=('Thur', 'Fri', '', 'Sat', '', 'Sun'))"
   ]
  },
  {
   "cell_type": "code",
   "execution_count": 24,
   "metadata": {},
   "outputs": [],
   "source": [
    "# df = pd.DataFrame(dict(x=np.repeat([0, 3, 5, 6], 10),\n",
    "#                        y=np.random.randn(40)))\n",
    "# sb.boxplot(x=\"x\", y=\"y\", data=df, order=np.arange(7))\n"
   ]
  },
  {
   "cell_type": "code",
   "execution_count": 25,
   "metadata": {},
   "outputs": [],
   "source": [
    "# # import seaborn as sns, matplotlib.pyplot as plt\n",
    "# scenario_list = ['None','Low','High']\n",
    "# # tips = sns.load_dataset(\"tips\")\n",
    "# ax = sb.violinplot(y=\"Scenario\", x=\"Value\",\n",
    "#                     data=data, palette=\"Set2\",\n",
    "#                     scale=\"count\",\n",
    "#                     bw=.2, width=2.5,\n",
    "#                     order=scenario_list)\n",
    "\n",
    "# # get rid of ticks for empty columns (levels)\n",
    "# ax.set_yticks([0,1,3])\n",
    "# ax.set_yticklabels(['Thur', 'Fri', 'Sat'])\n",
    "\n",
    "# pl.show()"
   ]
  },
  {
   "cell_type": "code",
   "execution_count": 26,
   "metadata": {},
   "outputs": [],
   "source": [
    "investment_level = {0: \"None\", 1: \"Low\", 2: \"High\"}\n",
    "\n",
    "def label(x, color, label):\n",
    "    ax = plt.gca()\n",
    "    ax.text(0, 0, label, fontweight=\"bold\",\n",
    "            ha=\"right\", va=\"center\", transform=ax.transAxes)\n",
    "\n",
    "LINEWIDTH = 2"
   ]
  },
  {
   "cell_type": "code",
   "execution_count": 27,
   "metadata": {},
   "outputs": [
    {
     "name": "stderr",
     "output_type": "stream",
     "text": [
      "/var/folders/sm/spdh5zkx26v6vh_fk8w7p8456l6sp0/T/ipykernel_93284/2646693674.py:4: FutureWarning: Passing lists as key for xs is deprecated and will be removed in a future version. Pass key as a tuple instead.\n",
      "  data = data.xs([\"Metric\",\"CIGS\"], level=[\"Variable\",\"Category\"]).reset_index()\n"
     ]
    },
    {
     "data": {
      "text/html": [
       "<div>\n",
       "<style scoped>\n",
       "    .dataframe tbody tr th:only-of-type {\n",
       "        vertical-align: middle;\n",
       "    }\n",
       "\n",
       "    .dataframe tbody tr th {\n",
       "        vertical-align: top;\n",
       "    }\n",
       "\n",
       "    .dataframe thead th {\n",
       "        text-align: right;\n",
       "    }\n",
       "</style>\n",
       "<table border=\"1\" class=\"dataframe\">\n",
       "  <thead>\n",
       "    <tr style=\"text-align: right;\">\n",
       "      <th></th>\n",
       "      <th>Scenario</th>\n",
       "      <th>Tranche</th>\n",
       "      <th>Technology</th>\n",
       "      <th>Sample</th>\n",
       "      <th>Index</th>\n",
       "      <th>Amount</th>\n",
       "      <th>Notes</th>\n",
       "      <th>Value</th>\n",
       "      <th>Units</th>\n",
       "    </tr>\n",
       "  </thead>\n",
       "  <tbody>\n",
       "    <tr>\n",
       "      <th>0</th>\n",
       "      <td>CIGS 0</td>\n",
       "      <td>CIGS 0</td>\n",
       "      <td>PV Generic</td>\n",
       "      <td>1</td>\n",
       "      <td>Capital</td>\n",
       "      <td>0.0</td>\n",
       "      <td></td>\n",
       "      <td>-0.735565</td>\n",
       "      <td>Œî$/Wdc</td>\n",
       "    </tr>\n",
       "    <tr>\n",
       "      <th>1</th>\n",
       "      <td>CIGS 0</td>\n",
       "      <td>CIGS 0</td>\n",
       "      <td>PV Generic</td>\n",
       "      <td>1</td>\n",
       "      <td>Efficiency</td>\n",
       "      <td>0.0</td>\n",
       "      <td></td>\n",
       "      <td>0.237303</td>\n",
       "      <td>%/100</td>\n",
       "    </tr>\n",
       "    <tr>\n",
       "      <th>2</th>\n",
       "      <td>CIGS 0</td>\n",
       "      <td>CIGS 0</td>\n",
       "      <td>PV Generic</td>\n",
       "      <td>1</td>\n",
       "      <td>Hazardous</td>\n",
       "      <td>0.0</td>\n",
       "      <td></td>\n",
       "      <td>0.058907</td>\n",
       "      <td>g/kWh</td>\n",
       "    </tr>\n",
       "    <tr>\n",
       "      <th>3</th>\n",
       "      <td>CIGS 0</td>\n",
       "      <td>CIGS 0</td>\n",
       "      <td>PV Generic</td>\n",
       "      <td>2</td>\n",
       "      <td>Capital</td>\n",
       "      <td>0.0</td>\n",
       "      <td></td>\n",
       "      <td>-0.704941</td>\n",
       "      <td>Œî$/Wdc</td>\n",
       "    </tr>\n",
       "    <tr>\n",
       "      <th>4</th>\n",
       "      <td>CIGS 0</td>\n",
       "      <td>CIGS 0</td>\n",
       "      <td>PV Generic</td>\n",
       "      <td>2</td>\n",
       "      <td>Efficiency</td>\n",
       "      <td>0.0</td>\n",
       "      <td></td>\n",
       "      <td>0.242831</td>\n",
       "      <td>%/100</td>\n",
       "    </tr>\n",
       "  </tbody>\n",
       "</table>\n",
       "</div>"
      ],
      "text/plain": [
       "  Scenario Tranche  Technology  Sample       Index  Amount Notes     Value  \\\n",
       "0   CIGS 0  CIGS 0  PV Generic       1     Capital     0.0       -0.735565   \n",
       "1   CIGS 0  CIGS 0  PV Generic       1  Efficiency     0.0        0.237303   \n",
       "2   CIGS 0  CIGS 0  PV Generic       1   Hazardous     0.0        0.058907   \n",
       "3   CIGS 0  CIGS 0  PV Generic       2     Capital     0.0       -0.704941   \n",
       "4   CIGS 0  CIGS 0  PV Generic       2  Efficiency     0.0        0.242831   \n",
       "\n",
       "     Units  \n",
       "0  Œî$/Wdc  \n",
       "1    %/100  \n",
       "2    g/kWh  \n",
       "3  Œî$/Wdc  \n",
       "4    %/100  "
      ]
     },
     "execution_count": 27,
     "metadata": {},
     "output_type": "execute_result"
    }
   ],
   "source": [
    "data = investments.tranches.join(scenario_results)\n",
    "# data = data[data.index.get_level_values(\"Index\").isin([\"Capital\", \"Efficiency\", \"Hazardous\", \"LCOE\", \"Strategic\", \"Yield\"])]\n",
    "data = data[data.index.get_level_values(\"Index\").isin([\"Capital\", \"Efficiency\", \"Hazardous\"])]\n",
    "data = data.xs([\"Metric\",\"CIGS\"], level=[\"Variable\",\"Category\"]).reset_index()\n",
    "data.head()"
   ]
  },
  {
   "cell_type": "code",
   "execution_count": 28,
   "metadata": {},
   "outputs": [
    {
     "data": {
      "text/plain": [
       "<seaborn.axisgrid.FacetGrid at 0x7fd3d783df40>"
      ]
     },
     "execution_count": 28,
     "metadata": {},
     "output_type": "execute_result"
    },
    {
     "data": {
      "image/png": "[encoded data removed]",
      "text/plain": [
       "<Figure size 1350x90 with 3 Axes>"
      ]
     },
     "metadata": {
      "needs_background": "light"
     },
     "output_type": "display_data"
    }
   ],
   "source": [
    "data_cigs = data[data['Scenario']=='CIGS 0']\n",
    "g = sb.FacetGrid(data_cigs, col=\"Index\", row=\"Scenario\", hue=\"Scenario\", sharex='col', sharey=False, aspect=5, height=1.25)\n",
    "g.map(sb.kdeplot, \"Value\",\n",
    "      bw_adjust=.5, clip_on=False,\n",
    "      fill=True, alpha=0.5, linewidth=LINEWIDTH)\n",
    "g.map(sb.kdeplot, \"Value\", clip_on=False, linewidth=LINEWIDTH, bw_adjust=.5)\n",
    "g.map(pl.axhline, y=0, linewidth=LINEWIDTH/4, clip_on=False)\n",
    "\n",
    "# Set the subplots to overlap\n",
    "\n",
    "# Remove axes details that don't play well with overlap\n",
    "g.set_titles(\"\")\n",
    "g.set(yticks=[])\n",
    "g.despine(bottom=True, left=True)"
   ]
  },
  {
   "cell_type": "code",
   "execution_count": 29,
   "metadata": {},
   "outputs": [
    {
     "data": {
      "text/html": [
       "<div>\n",
       "<style scoped>\n",
       "    .dataframe tbody tr th:only-of-type {\n",
       "        vertical-align: middle;\n",
       "    }\n",
       "\n",
       "    .dataframe tbody tr th {\n",
       "        vertical-align: top;\n",
       "    }\n",
       "\n",
       "    .dataframe thead th {\n",
       "        text-align: right;\n",
       "    }\n",
       "</style>\n",
       "<table border=\"1\" class=\"dataframe\">\n",
       "  <thead>\n",
       "    <tr style=\"text-align: right;\">\n",
       "      <th></th>\n",
       "      <th></th>\n",
       "      <th></th>\n",
       "      <th>Amount</th>\n",
       "      <th>Notes</th>\n",
       "    </tr>\n",
       "    <tr>\n",
       "      <th>Category</th>\n",
       "      <th>Tranche</th>\n",
       "      <th>Scenario</th>\n",
       "      <th></th>\n",
       "      <th></th>\n",
       "    </tr>\n",
       "  </thead>\n",
       "  <tbody>\n",
       "    <tr>\n",
       "      <th rowspan=\"2\" valign=\"top\">CIGS</th>\n",
       "      <th>CIGS 0</th>\n",
       "      <th>CIGS 0</th>\n",
       "      <td>0.0</td>\n",
       "      <td></td>\n",
       "    </tr>\n",
       "    <tr>\n",
       "      <th>CIGS 1</th>\n",
       "      <th>CIGS 1</th>\n",
       "      <td>1500000.0</td>\n",
       "      <td></td>\n",
       "    </tr>\n",
       "  </tbody>\n",
       "</table>\n",
       "</div>"
      ],
      "text/plain": [
       "                              Amount Notes\n",
       "Category Tranche Scenario                 \n",
       "CIGS     CIGS 0  CIGS 0          0.0      \n",
       "         CIGS 1  CIGS 1    1500000.0      "
      ]
     },
     "execution_count": 29,
     "metadata": {},
     "output_type": "execute_result"
    }
   ],
   "source": [
    "investments.tranches.head(2)"
   ]
  },
  {
   "cell_type": "code",
   "execution_count": 30,
   "metadata": {},
   "outputs": [
    {
     "data": {
      "text/html": [
       "<div>\n",
       "<style scoped>\n",
       "    .dataframe tbody tr th:only-of-type {\n",
       "        vertical-align: middle;\n",
       "    }\n",
       "\n",
       "    .dataframe tbody tr th {\n",
       "        vertical-align: top;\n",
       "    }\n",
       "\n",
       "    .dataframe thead th {\n",
       "        text-align: right;\n",
       "    }\n",
       "</style>\n",
       "<table border=\"1\" class=\"dataframe\">\n",
       "  <thead>\n",
       "    <tr style=\"text-align: right;\">\n",
       "      <th></th>\n",
       "      <th>Scenario</th>\n",
       "      <th>Category</th>\n",
       "      <th>Tranche</th>\n",
       "      <th>Sample</th>\n",
       "      <th>Index</th>\n",
       "      <th>Amount</th>\n",
       "      <th>Value</th>\n",
       "      <th>Units</th>\n",
       "    </tr>\n",
       "  </thead>\n",
       "  <tbody>\n",
       "    <tr>\n",
       "      <th>0</th>\n",
       "      <td>None</td>\n",
       "      <td>CIGS</td>\n",
       "      <td>CIGS 0</td>\n",
       "      <td>1</td>\n",
       "      <td>Capital</td>\n",
       "      <td>None</td>\n",
       "      <td>-0.735565</td>\n",
       "      <td>Œî$/Wdc</td>\n",
       "    </tr>\n",
       "    <tr>\n",
       "      <th>1</th>\n",
       "      <td>None</td>\n",
       "      <td>CIGS</td>\n",
       "      <td>CIGS 0</td>\n",
       "      <td>1</td>\n",
       "      <td>Efficiency</td>\n",
       "      <td>None</td>\n",
       "      <td>0.237303</td>\n",
       "      <td>%/100</td>\n",
       "    </tr>\n",
       "    <tr>\n",
       "      <th>2</th>\n",
       "      <td>None</td>\n",
       "      <td>CIGS</td>\n",
       "      <td>CIGS 0</td>\n",
       "      <td>1</td>\n",
       "      <td>Hazardous</td>\n",
       "      <td>None</td>\n",
       "      <td>0.058907</td>\n",
       "      <td>g/kWh</td>\n",
       "    </tr>\n",
       "    <tr>\n",
       "      <th>3</th>\n",
       "      <td>None</td>\n",
       "      <td>CIGS</td>\n",
       "      <td>CIGS 0</td>\n",
       "      <td>2</td>\n",
       "      <td>Capital</td>\n",
       "      <td>None</td>\n",
       "      <td>-0.704941</td>\n",
       "      <td>Œî$/Wdc</td>\n",
       "    </tr>\n",
       "    <tr>\n",
       "      <th>4</th>\n",
       "      <td>None</td>\n",
       "      <td>CIGS</td>\n",
       "      <td>CIGS 0</td>\n",
       "      <td>2</td>\n",
       "      <td>Efficiency</td>\n",
       "      <td>None</td>\n",
       "      <td>0.242831</td>\n",
       "      <td>%/100</td>\n",
       "    </tr>\n",
       "  </tbody>\n",
       "</table>\n",
       "</div>"
      ],
      "text/plain": [
       "  Scenario Category Tranche  Sample       Index Amount     Value    Units\n",
       "0     None     CIGS  CIGS 0       1     Capital   None -0.735565  Œî$/Wdc\n",
       "1     None     CIGS  CIGS 0       1  Efficiency   None  0.237303    %/100\n",
       "2     None     CIGS  CIGS 0       1   Hazardous   None  0.058907    g/kWh\n",
       "3     None     CIGS  CIGS 0       2     Capital   None -0.704941  Œî$/Wdc\n",
       "4     None     CIGS  CIGS 0       2  Efficiency   None  0.242831    %/100"
      ]
     },
     "execution_count": 30,
     "metadata": {},
     "output_type": "execute_result"
    }
   ],
   "source": [
    "index_list = list(scenario_results.reset_index()[\"Index\"].unique()[[1,2,4]])\n",
    "category_list = list(investments.tranches.reset_index()[\"Category\"].unique()[0:3])\n",
    "\n",
    "data_mi = investments.tranches.join(scenario_results)\n",
    "data_mi = data_mi[data_mi.index.get_level_values(\"Index\").isin(index_list)]\n",
    "data_mi = data_mi[data_mi.index.get_level_values(\"Category\").isin(category_list)]\n",
    "\n",
    "data = data_mi.xs(\"Metric\", level=\"Variable\").reset_index()\n",
    "data[\"Amount\"] = [investment_level[int(x[-1])] for x in data[\"Tranche\"]]\n",
    "\n",
    "data = data.drop([\"Technology\",\"Notes\"], axis=1)\n",
    "data[\"Scenario\"] = [investment_level[int(x[-1])] for x in data[\"Tranche\"]]\n",
    "data.head()"
   ]
  },
  {
   "cell_type": "code",
   "execution_count": 31,
   "metadata": {},
   "outputs": [
    {
     "name": "stderr",
     "output_type": "stream",
     "text": [
      "/var/folders/sm/spdh5zkx26v6vh_fk8w7p8456l6sp0/T/ipykernel_93284/708539299.py:1: FutureWarning: Passing lists as key for xs is deprecated and will be removed in a future version. Pass key as a tuple instead.\n",
      "  data1 = data_mi.xs([\"Metric\",index_list[0],category_list[0]], level=[\"Variable\",\"Index\",\"Category\"]).reset_index()\n"
     ]
    },
    {
     "data": {
      "text/html": [
       "<div>\n",
       "<style scoped>\n",
       "    .dataframe tbody tr th:only-of-type {\n",
       "        vertical-align: middle;\n",
       "    }\n",
       "\n",
       "    .dataframe tbody tr th {\n",
       "        vertical-align: top;\n",
       "    }\n",
       "\n",
       "    .dataframe thead th {\n",
       "        text-align: right;\n",
       "    }\n",
       "</style>\n",
       "<table border=\"1\" class=\"dataframe\">\n",
       "  <thead>\n",
       "    <tr style=\"text-align: right;\">\n",
       "      <th></th>\n",
       "      <th>Scenario</th>\n",
       "      <th>Tranche</th>\n",
       "      <th>Technology</th>\n",
       "      <th>Sample</th>\n",
       "      <th>Amount</th>\n",
       "      <th>Notes</th>\n",
       "      <th>Value</th>\n",
       "      <th>Units</th>\n",
       "    </tr>\n",
       "  </thead>\n",
       "  <tbody>\n",
       "    <tr>\n",
       "      <th>0</th>\n",
       "      <td>None</td>\n",
       "      <td>CIGS 0</td>\n",
       "      <td>PV Generic</td>\n",
       "      <td>1</td>\n",
       "      <td>0.0</td>\n",
       "      <td></td>\n",
       "      <td>-0.735565</td>\n",
       "      <td>Œî$/Wdc</td>\n",
       "    </tr>\n",
       "    <tr>\n",
       "      <th>1</th>\n",
       "      <td>None</td>\n",
       "      <td>CIGS 0</td>\n",
       "      <td>PV Generic</td>\n",
       "      <td>2</td>\n",
       "      <td>0.0</td>\n",
       "      <td></td>\n",
       "      <td>-0.704941</td>\n",
       "      <td>Œî$/Wdc</td>\n",
       "    </tr>\n",
       "    <tr>\n",
       "      <th>2</th>\n",
       "      <td>None</td>\n",
       "      <td>CIGS 0</td>\n",
       "      <td>PV Generic</td>\n",
       "      <td>3</td>\n",
       "      <td>0.0</td>\n",
       "      <td></td>\n",
       "      <td>-0.717196</td>\n",
       "      <td>Œî$/Wdc</td>\n",
       "    </tr>\n",
       "    <tr>\n",
       "      <th>3</th>\n",
       "      <td>None</td>\n",
       "      <td>CIGS 0</td>\n",
       "      <td>PV Generic</td>\n",
       "      <td>4</td>\n",
       "      <td>0.0</td>\n",
       "      <td></td>\n",
       "      <td>-0.587496</td>\n",
       "      <td>Œî$/Wdc</td>\n",
       "    </tr>\n",
       "    <tr>\n",
       "      <th>4</th>\n",
       "      <td>None</td>\n",
       "      <td>CIGS 0</td>\n",
       "      <td>PV Generic</td>\n",
       "      <td>5</td>\n",
       "      <td>0.0</td>\n",
       "      <td></td>\n",
       "      <td>-0.699905</td>\n",
       "      <td>Œî$/Wdc</td>\n",
       "    </tr>\n",
       "  </tbody>\n",
       "</table>\n",
       "</div>"
      ],
      "text/plain": [
       "  Scenario Tranche  Technology  Sample  Amount Notes     Value    Units\n",
       "0     None  CIGS 0  PV Generic       1     0.0       -0.735565  Œî$/Wdc\n",
       "1     None  CIGS 0  PV Generic       2     0.0       -0.704941  Œî$/Wdc\n",
       "2     None  CIGS 0  PV Generic       3     0.0       -0.717196  Œî$/Wdc\n",
       "3     None  CIGS 0  PV Generic       4     0.0       -0.587496  Œî$/Wdc\n",
       "4     None  CIGS 0  PV Generic       5     0.0       -0.699905  Œî$/Wdc"
      ]
     },
     "execution_count": 31,
     "metadata": {},
     "output_type": "execute_result"
    }
   ],
   "source": [
    "data1 = data_mi.xs([\"Metric\",index_list[0],category_list[0]], level=[\"Variable\",\"Index\",\"Category\"]).reset_index()\n",
    "data1[\"Scenario\"] = [investment_level[int(x[-1])] for x in data1[\"Tranche\"]]\n",
    "data1.head()"
   ]
  },
  {
   "cell_type": "code",
   "execution_count": 32,
   "metadata": {},
   "outputs": [
    {
     "data": {
      "image/png": "[encoded data removed]",
      "text/plain": [
       "<Figure size 432x288 with 1 Axes>"
      ]
     },
     "metadata": {
      "needs_background": "light"
     },
     "output_type": "display_data"
    }
   ],
   "source": [
    "scenario_list = [\"None\",\"Low\",\"High\"]\n",
    "WIDTH = 5\n",
    "\n",
    "ax = sb.violinplot(\n",
    "    data=data1,\n",
    "    x=\"Value\",\n",
    "    y=\"Scenario\",\n",
    "    # hue=\"Scenario\",\n",
    "    # row=\"Category\",\n",
    "    # col=\"Index\",\n",
    "    # kind=\"violin\",\n",
    "    # height=2,\n",
    "    # aspect=2,\n",
    "    # sharex='col',\n",
    "    # sharey='row',\n",
    "    order=[\"None\",\"Low\",\"High\"],\n",
    "    linewidth=LINEWIDTH*2,\n",
    "    split=True,\n",
    "    scale=\"count\",\n",
    "    width=WIDTH,\n",
    "    alpha=0.5,\n",
    "    # bw=0.2,\n",
    "    # color=\"b\",\n",
    "    # margin_titles=True,\n",
    ")\n",
    "\n",
    "alpha = 0.5\n",
    "for violin in ax.collections[::2]:\n",
    "    violin.set_alpha(alpha)\n",
    "    violin.set_edgecolor(violin.get_facecolor())\n",
    "\n",
    "ax.set_ylim(0-(WIDTH/2)*1.1,2+(WIDTH/2)*1.1)\n",
    "\n",
    "ax.grid()\n",
    "\n",
    "for ii, line in enumerate(ax.get_ygridlines()):\n",
    "    line.set_color(eere_color_lst[ii])"
   ]
  },
  {
   "cell_type": "code",
   "execution_count": 33,
   "metadata": {},
   "outputs": [
    {
     "name": "stdout",
     "output_type": "stream",
     "text": [
      "2 Œî$/Wdc\n",
      "2 %/100\n",
      "2 g/kWh\n"
     ]
    },
    {
     "data": {
      "image/png": "[encoded data removed]",
      "text/plain": [
       "<Figure size 864x432 with 9 Axes>"
      ]
     },
     "metadata": {
      "needs_background": "light"
     },
     "output_type": "display_data"
    }
   ],
   "source": [
    "category_list = list(data[\"Category\"].unique())\n",
    "index_list = data[[\"Index\",\"Units\"]].drop_duplicates().values.tolist()\n",
    "LINEWIDTH = 1\n",
    "\n",
    "g = sb.catplot(\n",
    "    data=data,\n",
    "    x=\"Value\",\n",
    "    y=\"Scenario\",\n",
    "    row=\"Category\",\n",
    "    col=\"Index\",\n",
    "    kind=\"violin\",\n",
    "    height=2,\n",
    "    aspect=2,\n",
    "    sharex='col',\n",
    "    sharey='row',\n",
    "    order=[\"None\",\"Low\",\"High\"],\n",
    "    linewidth=LINEWIDTH*2,\n",
    "    width=WIDTH,\n",
    "    # bw=0.2,\n",
    "    # color=\"b\",\n",
    "    # margin_titles=True,\n",
    ")\n",
    "\n",
    "for kk in range(len(data1[\"Scenario\"].unique())):\n",
    "    g.map(pl.axhline, y=kk, linewidth=LINEWIDTH, clip_on=False, color=eere_color_lst[kk])\n",
    "\n",
    "(g.set_titles(\"\")\n",
    "  .set_ylabels(\"\")\n",
    "  .set_xlabels(\"\")\n",
    "  .despine(\n",
    "      left=True,\n",
    "      bottom=True,\n",
    "  )\n",
    ")\n",
    "\n",
    "# g.fig.subplots_adjust(hspace=-0.75)\n",
    "alpha = 0.5\n",
    "\n",
    "ROW, COL = len(g.axes), len(g.axes[0])\n",
    "for ii, cat in zip(range(ROW), category_list):\n",
    "    for jj, idx in zip(range(COL), index_list):\n",
    "        if ii==0:   g.axes[0,jj].set_title(idx[0] + \"\\n(\" + idx[1] + \")\")\n",
    "        if ii==ROW-1:\n",
    "            print(ii,idx[1])\n",
    "            g.axes[ii,jj].set_xlabel(idx[1])\n",
    "        g.axes[ii,jj].set_ylim(0-(WIDTH/2)*1.1,2+(WIDTH/2)*1.1)\n",
    "\n",
    "        for violin in g.axes[ii,jj].collections[::2]:\n",
    "            violin.set_alpha(alpha)\n",
    "            violin.set_edgecolor(violin.get_facecolor())\n",
    "\n",
    "        # g.axes[ii,jj].set_yticks([0.5,1.0,1.5])\n",
    "    g.axes[ii,0].set_ylabel(cat)"
   ]
  },
  {
   "cell_type": "code",
   "execution_count": 34,
   "metadata": {},
   "outputs": [],
   "source": [
    "# def aggregate_over(ser, idx, statistic = np.mean):\n",
    "#     ser = ser.astype(\"float64\")\n",
    "#     idx_res = list(set(ser.index.names.copy()) - set(idx))\n",
    "#     return ser.groupby(idx_res).aggregate(statistic)"
   ]
  },
  {
   "cell_type": "code",
   "execution_count": 35,
   "metadata": {},
   "outputs": [
    {
     "data": {
      "text/plain": [
       "144.33727862198316"
      ]
     },
     "execution_count": 35,
     "metadata": {},
     "output_type": "execute_result"
    }
   ],
   "source": [
    "np.std(list(range(500)))"
   ]
  },
  {
   "cell_type": "code",
   "execution_count": 36,
   "metadata": {},
   "outputs": [],
   "source": [
    "def aggregate_over(df, idx, fun):\n",
    "    if \"Sample\" in data.columns:\n",
    "        df = df.drop(\"Sample\", axis=1)\n",
    "    \n",
    "    idx = list(set(data.columns) - set([\"Sample\",\"Value\"]))\n",
    "    df = df.groupby(idx).aggregate(fun)\n",
    "    return df.rename(columns={\"Value\": fun.__name__})"
   ]
  },
  {
   "cell_type": "code",
   "execution_count": null,
   "metadata": {
    "scrolled": false
   },
   "outputs": [
    {
     "name": "stderr",
     "output_type": "stream",
     "text": [
      "/Users/tghosh/miniconda3/envs/tyche/lib/python3.8/site-packages/seaborn/axisgrid.py:670: UserWarning: Using the boxplot function without specifying `order` is likely to produce an incorrect plot.\n",
      "  warnings.warn(warning)\n"
     ]
    }
   ],
   "source": [
    "g = sb.FacetGrid(\n",
    "    data = investments.tranches.join(scenario_results).xs(\"Metric\", level=\"Variable\").reset_index(),\n",
    "    row = \"Category\",\n",
    "    col = \"Index\",\n",
    "    sharex = False,\n",
    "    sharey = False,\n",
    ")\n",
    "g.map(\n",
    "    sb.boxplot,\n",
    "    \"Value\",\n",
    "    \"Tranche\",\n",
    ")"
   ]
  },
  {
   "cell_type": "markdown",
   "metadata": {},
   "source": [
    "## Evaluate the investments in the dataset."
   ]
  },
  {
   "cell_type": "code",
   "execution_count": null,
   "metadata": {},
   "outputs": [],
   "source": [
    "investment_results = investments.evaluate_investments(designs, sample_count=500)"
   ]
  },
  {
   "cell_type": "markdown",
   "metadata": {},
   "source": [
    "### Costs of investments."
   ]
  },
  {
   "cell_type": "code",
   "execution_count": null,
   "metadata": {},
   "outputs": [],
   "source": [
    "investment_results.amounts"
   ]
  },
  {
   "cell_type": "markdown",
   "metadata": {},
   "source": [
    "### Benefits of investments."
   ]
  },
  {
   "cell_type": "code",
   "execution_count": null,
   "metadata": {},
   "outputs": [],
   "source": [
    "investment_results.summary.set_index(\n",
    "    \"Units\", append = True\n",
    ").groupby(\n",
    "    [\"Investment\", \"Index\", \"Units\"]\n",
    ").aggregate(\n",
    "    np.mean\n",
    ").pivot_table(\n",
    "    index = [\"Index\", \"Units\"],\n",
    "    columns = \"Investment\",\n",
    ")"
   ]
  },
  {
   "cell_type": "markdown",
   "metadata": {},
   "source": [
    "### Save results."
   ]
  },
  {
   "cell_type": "code",
   "execution_count": null,
   "metadata": {},
   "outputs": [],
   "source": [
    "investment_results.amounts.to_csv(\"output/example-investment-amounts.csv\")"
   ]
  },
  {
   "cell_type": "code",
   "execution_count": null,
   "metadata": {},
   "outputs": [],
   "source": [
    "investment_results.metrics.to_csv(\"output/example-investment-metrics.csv\")"
   ]
  },
  {
   "cell_type": "markdown",
   "metadata": {},
   "source": [
    "### Plot the results."
   ]
  },
  {
   "cell_type": "code",
   "execution_count": null,
   "metadata": {},
   "outputs": [],
   "source": [
    "investment_results.summary"
   ]
  },
  {
   "cell_type": "code",
   "execution_count": null,
   "metadata": {},
   "outputs": [],
   "source": [
    "investment_results.summary"
   ]
  },
  {
   "cell_type": "code",
   "execution_count": null,
   "metadata": {},
   "outputs": [],
   "source": [
    "investment_results.summary[\n",
    "    investment_results.summary.index.get_level_values(\"Index\").isin([\"Capital\", \"Efficiency\", \"Hazardous\", \"LCOE\", \"Strategic\", \"Yield\"])\n",
    "]"
   ]
  },
  {
   "cell_type": "code",
   "execution_count": null,
   "metadata": {},
   "outputs": [],
   "source": []
  },
  {
   "cell_type": "code",
   "execution_count": null,
   "metadata": {},
   "outputs": [],
   "source": []
  }
 ],
 "metadata": {
  "kernelspec": {
   "display_name": "Python 3 (ipykernel)",
   "language": "python",
   "name": "python3"
  },
  "language_info": {
   "codemirror_mode": {
    "name": "ipython",
    "version": 3
   },
   "file_extension": ".py",
   "mimetype": "text/x-python",
   "name": "python",
   "nbconvert_exporter": "python",
   "pygments_lexer": "ipython3",
   "version": "3.8.12"
  }
 },
 "nbformat": 4,
 "nbformat_minor": 2
}
