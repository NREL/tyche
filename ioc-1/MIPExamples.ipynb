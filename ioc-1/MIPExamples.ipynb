{
 "cells": [
  {
   "cell_type": "markdown",
   "metadata": {},
   "source": [
    "The goal of this notebook is to take the generalized implementation in `MIPImplementation.ipynb` and apply it to several `tyche` technology examples to demonstrate functionality, problem size and complexity, and solution time and quality."
   ]
  },
  {
   "cell_type": "code",
   "execution_count": 7,
   "metadata": {},
   "outputs": [],
   "source": [
    "import os\n",
    "import sys\n",
    "sys.path.insert(0, os.path.abspath(\"../src\"))"
   ]
  },
  {
   "cell_type": "code",
   "execution_count": 8,
   "metadata": {},
   "outputs": [],
   "source": [
    "import numpy             as np\n",
    "import matplotlib.pyplot as pl\n",
    "import pandas            as pd\n",
    "import seaborn           as sb\n",
    "import tyche             as ty\n",
    "\n",
    "from copy            import deepcopy\n",
    "from IPython.display import Image "
   ]
  },
  {
   "cell_type": "code",
   "execution_count": 9,
   "metadata": {},
   "outputs": [],
   "source": [
    "import cProfile\n",
    "import timeit"
   ]
  },
  {
   "cell_type": "code",
   "execution_count": 10,
   "metadata": {},
   "outputs": [],
   "source": [
    "from mip import Model, MINIMIZE, MAXIMIZE, BINARY, xsum, OptimizationStatus\n",
    "from itertools import product, combinations\n",
    "from matplotlib.pyplot import hist"
   ]
  },
  {
   "cell_type": "markdown",
   "metadata": {},
   "source": [
    "# Example 1a: Photovoltaic Module Efficiency\n",
    "\n",
    "The data set is 8 x 8, with 8 investment categories (3 investment levels each) and 8 metrics of interest.\n",
    "\n",
    "In this example, module efficiency is optimized (maximized) with investments into polysilicon, power electronics, and soft costs, with a constraint on hazardous waste, a total budget constraint, and individual budget constraints on each investment category."
   ]
  },
  {
   "cell_type": "code",
   "execution_count": 11,
   "metadata": {},
   "outputs": [],
   "source": [
    "designs = ty.Designs(\"data\")\n",
    "investments = ty.Investments(\"data\")\n",
    "designs.compile()\n",
    "tranche_results = investments.evaluate_tranches(designs, sample_count=250)\n",
    "results = investments.tranches.join(tranche_results.summary)\n",
    "evaluator = ty.Evaluator(investments.tranches, tranche_results.summary)"
   ]
  },
  {
   "cell_type": "markdown",
   "metadata": {},
   "source": [
    "Get the wide-format interpolated elicitation data from the Tyche Evaluator and reset the multi-level index."
   ]
  },
  {
   "cell_type": "code",
   "execution_count": 12,
   "metadata": {},
   "outputs": [],
   "source": [
    "wide = evaluator.evaluate_corners_wide().reset_index()"
   ]
  },
  {
   "cell_type": "code",
   "execution_count": 13,
   "metadata": {
    "scrolled": true
   },
   "outputs": [
    {
     "data": {
      "text/html": [
       "<div>\n",
       "<style scoped>\n",
       "    .dataframe tbody tr th:only-of-type {\n",
       "        vertical-align: middle;\n",
       "    }\n",
       "\n",
       "    .dataframe tbody tr th {\n",
       "        vertical-align: top;\n",
       "    }\n",
       "\n",
       "    .dataframe thead th {\n",
       "        text-align: right;\n",
       "    }\n",
       "</style>\n",
       "<table border=\"1\" class=\"dataframe\">\n",
       "  <thead>\n",
       "    <tr style=\"text-align: right;\">\n",
       "      <th>Index</th>\n",
       "      <th>CIGS</th>\n",
       "      <th>CdTe</th>\n",
       "      <th>GaAs</th>\n",
       "      <th>InGaP</th>\n",
       "      <th>Perovskite</th>\n",
       "      <th>Polysilicon</th>\n",
       "      <th>Power Electronics</th>\n",
       "      <th>Soft Costs</th>\n",
       "      <th>Capital</th>\n",
       "      <th>Efficiency</th>\n",
       "      <th>GHG</th>\n",
       "      <th>Hazardous</th>\n",
       "      <th>LCOE</th>\n",
       "      <th>Lifetime</th>\n",
       "      <th>Strategic</th>\n",
       "      <th>Yield</th>\n",
       "    </tr>\n",
       "  </thead>\n",
       "  <tbody>\n",
       "    <tr>\n",
       "      <th>0</th>\n",
       "      <td>0.0</td>\n",
       "      <td>0.0</td>\n",
       "      <td>0.0</td>\n",
       "      <td>0.0</td>\n",
       "      <td>0.0</td>\n",
       "      <td>0.0</td>\n",
       "      <td>0.0</td>\n",
       "      <td>0.0</td>\n",
       "      <td>-1.524277</td>\n",
       "      <td>2.068825</td>\n",
       "      <td>-0.003592</td>\n",
       "      <td>0.973497</td>\n",
       "      <td>-0.142384</td>\n",
       "      <td>188.015072</td>\n",
       "      <td>0.062962</td>\n",
       "      <td>10007.738557</td>\n",
       "    </tr>\n",
       "    <tr>\n",
       "      <th>1</th>\n",
       "      <td>0.0</td>\n",
       "      <td>0.0</td>\n",
       "      <td>0.0</td>\n",
       "      <td>0.0</td>\n",
       "      <td>0.0</td>\n",
       "      <td>0.0</td>\n",
       "      <td>0.0</td>\n",
       "      <td>1000000.0</td>\n",
       "      <td>-1.434266</td>\n",
       "      <td>2.069227</td>\n",
       "      <td>-0.003592</td>\n",
       "      <td>0.973060</td>\n",
       "      <td>-0.139568</td>\n",
       "      <td>188.015137</td>\n",
       "      <td>0.062962</td>\n",
       "      <td>10007.733655</td>\n",
       "    </tr>\n",
       "    <tr>\n",
       "      <th>2</th>\n",
       "      <td>0.0</td>\n",
       "      <td>0.0</td>\n",
       "      <td>0.0</td>\n",
       "      <td>0.0</td>\n",
       "      <td>0.0</td>\n",
       "      <td>0.0</td>\n",
       "      <td>0.0</td>\n",
       "      <td>5000000.0</td>\n",
       "      <td>-1.285396</td>\n",
       "      <td>2.066859</td>\n",
       "      <td>-0.003592</td>\n",
       "      <td>0.975591</td>\n",
       "      <td>-0.134910</td>\n",
       "      <td>188.015112</td>\n",
       "      <td>0.062962</td>\n",
       "      <td>10007.735899</td>\n",
       "    </tr>\n",
       "    <tr>\n",
       "      <th>3</th>\n",
       "      <td>0.0</td>\n",
       "      <td>0.0</td>\n",
       "      <td>0.0</td>\n",
       "      <td>0.0</td>\n",
       "      <td>0.0</td>\n",
       "      <td>0.0</td>\n",
       "      <td>1000000.0</td>\n",
       "      <td>0.0</td>\n",
       "      <td>-1.443752</td>\n",
       "      <td>2.069791</td>\n",
       "      <td>-0.003592</td>\n",
       "      <td>0.960839</td>\n",
       "      <td>-0.136197</td>\n",
       "      <td>188.015053</td>\n",
       "      <td>0.062962</td>\n",
       "      <td>10071.337222</td>\n",
       "    </tr>\n",
       "    <tr>\n",
       "      <th>4</th>\n",
       "      <td>0.0</td>\n",
       "      <td>0.0</td>\n",
       "      <td>0.0</td>\n",
       "      <td>0.0</td>\n",
       "      <td>0.0</td>\n",
       "      <td>0.0</td>\n",
       "      <td>1000000.0</td>\n",
       "      <td>1000000.0</td>\n",
       "      <td>-1.353741</td>\n",
       "      <td>2.070193</td>\n",
       "      <td>-0.003592</td>\n",
       "      <td>0.960401</td>\n",
       "      <td>-0.133381</td>\n",
       "      <td>188.015118</td>\n",
       "      <td>0.062962</td>\n",
       "      <td>10071.332319</td>\n",
       "    </tr>\n",
       "    <tr>\n",
       "      <th>5</th>\n",
       "      <td>0.0</td>\n",
       "      <td>0.0</td>\n",
       "      <td>0.0</td>\n",
       "      <td>0.0</td>\n",
       "      <td>0.0</td>\n",
       "      <td>0.0</td>\n",
       "      <td>1000000.0</td>\n",
       "      <td>5000000.0</td>\n",
       "      <td>-1.204872</td>\n",
       "      <td>2.067825</td>\n",
       "      <td>-0.003592</td>\n",
       "      <td>0.962933</td>\n",
       "      <td>-0.128723</td>\n",
       "      <td>188.015093</td>\n",
       "      <td>0.062962</td>\n",
       "      <td>10071.334564</td>\n",
       "    </tr>\n",
       "    <tr>\n",
       "      <th>6</th>\n",
       "      <td>0.0</td>\n",
       "      <td>0.0</td>\n",
       "      <td>0.0</td>\n",
       "      <td>0.0</td>\n",
       "      <td>0.0</td>\n",
       "      <td>0.0</td>\n",
       "      <td>5000000.0</td>\n",
       "      <td>0.0</td>\n",
       "      <td>-1.369106</td>\n",
       "      <td>2.068808</td>\n",
       "      <td>-0.003592</td>\n",
       "      <td>0.954539</td>\n",
       "      <td>-0.131754</td>\n",
       "      <td>188.015042</td>\n",
       "      <td>0.062962</td>\n",
       "      <td>10114.225750</td>\n",
       "    </tr>\n",
       "    <tr>\n",
       "      <th>7</th>\n",
       "      <td>0.0</td>\n",
       "      <td>0.0</td>\n",
       "      <td>0.0</td>\n",
       "      <td>0.0</td>\n",
       "      <td>0.0</td>\n",
       "      <td>0.0</td>\n",
       "      <td>5000000.0</td>\n",
       "      <td>1000000.0</td>\n",
       "      <td>-1.279095</td>\n",
       "      <td>2.069210</td>\n",
       "      <td>-0.003592</td>\n",
       "      <td>0.954101</td>\n",
       "      <td>-0.128938</td>\n",
       "      <td>188.015107</td>\n",
       "      <td>0.062962</td>\n",
       "      <td>10114.220847</td>\n",
       "    </tr>\n",
       "    <tr>\n",
       "      <th>8</th>\n",
       "      <td>0.0</td>\n",
       "      <td>0.0</td>\n",
       "      <td>0.0</td>\n",
       "      <td>0.0</td>\n",
       "      <td>0.0</td>\n",
       "      <td>0.0</td>\n",
       "      <td>5000000.0</td>\n",
       "      <td>5000000.0</td>\n",
       "      <td>-1.130225</td>\n",
       "      <td>2.066842</td>\n",
       "      <td>-0.003592</td>\n",
       "      <td>0.956632</td>\n",
       "      <td>-0.124280</td>\n",
       "      <td>188.015082</td>\n",
       "      <td>0.062962</td>\n",
       "      <td>10114.223092</td>\n",
       "    </tr>\n",
       "    <tr>\n",
       "      <th>9</th>\n",
       "      <td>0.0</td>\n",
       "      <td>0.0</td>\n",
       "      <td>0.0</td>\n",
       "      <td>0.0</td>\n",
       "      <td>0.0</td>\n",
       "      <td>2500000.0</td>\n",
       "      <td>0.0</td>\n",
       "      <td>0.0</td>\n",
       "      <td>-1.407054</td>\n",
       "      <td>2.080544</td>\n",
       "      <td>-0.003592</td>\n",
       "      <td>0.931548</td>\n",
       "      <td>-0.137529</td>\n",
       "      <td>188.015092</td>\n",
       "      <td>0.062962</td>\n",
       "      <td>10027.966714</td>\n",
       "    </tr>\n",
       "    <tr>\n",
       "      <th>10</th>\n",
       "      <td>0.0</td>\n",
       "      <td>0.0</td>\n",
       "      <td>0.0</td>\n",
       "      <td>0.0</td>\n",
       "      <td>0.0</td>\n",
       "      <td>2500000.0</td>\n",
       "      <td>0.0</td>\n",
       "      <td>1000000.0</td>\n",
       "      <td>-1.317043</td>\n",
       "      <td>2.080946</td>\n",
       "      <td>-0.003592</td>\n",
       "      <td>0.931111</td>\n",
       "      <td>-0.134713</td>\n",
       "      <td>188.015157</td>\n",
       "      <td>0.062962</td>\n",
       "      <td>10027.961812</td>\n",
       "    </tr>\n",
       "    <tr>\n",
       "      <th>11</th>\n",
       "      <td>0.0</td>\n",
       "      <td>0.0</td>\n",
       "      <td>0.0</td>\n",
       "      <td>0.0</td>\n",
       "      <td>0.0</td>\n",
       "      <td>2500000.0</td>\n",
       "      <td>0.0</td>\n",
       "      <td>5000000.0</td>\n",
       "      <td>-1.168173</td>\n",
       "      <td>2.078578</td>\n",
       "      <td>-0.003592</td>\n",
       "      <td>0.933642</td>\n",
       "      <td>-0.130055</td>\n",
       "      <td>188.015132</td>\n",
       "      <td>0.062962</td>\n",
       "      <td>10027.964056</td>\n",
       "    </tr>\n",
       "    <tr>\n",
       "      <th>12</th>\n",
       "      <td>0.0</td>\n",
       "      <td>0.0</td>\n",
       "      <td>0.0</td>\n",
       "      <td>0.0</td>\n",
       "      <td>0.0</td>\n",
       "      <td>2500000.0</td>\n",
       "      <td>1000000.0</td>\n",
       "      <td>0.0</td>\n",
       "      <td>-1.326530</td>\n",
       "      <td>2.081510</td>\n",
       "      <td>-0.003592</td>\n",
       "      <td>0.918890</td>\n",
       "      <td>-0.131342</td>\n",
       "      <td>188.015073</td>\n",
       "      <td>0.062962</td>\n",
       "      <td>10091.565378</td>\n",
       "    </tr>\n",
       "    <tr>\n",
       "      <th>13</th>\n",
       "      <td>0.0</td>\n",
       "      <td>0.0</td>\n",
       "      <td>0.0</td>\n",
       "      <td>0.0</td>\n",
       "      <td>0.0</td>\n",
       "      <td>2500000.0</td>\n",
       "      <td>1000000.0</td>\n",
       "      <td>1000000.0</td>\n",
       "      <td>-1.236518</td>\n",
       "      <td>2.081912</td>\n",
       "      <td>-0.003592</td>\n",
       "      <td>0.918452</td>\n",
       "      <td>-0.128526</td>\n",
       "      <td>188.015138</td>\n",
       "      <td>0.062962</td>\n",
       "      <td>10091.560476</td>\n",
       "    </tr>\n",
       "    <tr>\n",
       "      <th>14</th>\n",
       "      <td>0.0</td>\n",
       "      <td>0.0</td>\n",
       "      <td>0.0</td>\n",
       "      <td>0.0</td>\n",
       "      <td>0.0</td>\n",
       "      <td>2500000.0</td>\n",
       "      <td>1000000.0</td>\n",
       "      <td>5000000.0</td>\n",
       "      <td>-1.087649</td>\n",
       "      <td>2.079544</td>\n",
       "      <td>-0.003592</td>\n",
       "      <td>0.920984</td>\n",
       "      <td>-0.123868</td>\n",
       "      <td>188.015113</td>\n",
       "      <td>0.062962</td>\n",
       "      <td>10091.562721</td>\n",
       "    </tr>\n",
       "    <tr>\n",
       "      <th>15</th>\n",
       "      <td>0.0</td>\n",
       "      <td>0.0</td>\n",
       "      <td>0.0</td>\n",
       "      <td>0.0</td>\n",
       "      <td>0.0</td>\n",
       "      <td>2500000.0</td>\n",
       "      <td>5000000.0</td>\n",
       "      <td>0.0</td>\n",
       "      <td>-1.251884</td>\n",
       "      <td>2.080527</td>\n",
       "      <td>-0.003592</td>\n",
       "      <td>0.912590</td>\n",
       "      <td>-0.126899</td>\n",
       "      <td>188.015062</td>\n",
       "      <td>0.062962</td>\n",
       "      <td>10134.453907</td>\n",
       "    </tr>\n",
       "    <tr>\n",
       "      <th>16</th>\n",
       "      <td>0.0</td>\n",
       "      <td>0.0</td>\n",
       "      <td>0.0</td>\n",
       "      <td>0.0</td>\n",
       "      <td>0.0</td>\n",
       "      <td>2500000.0</td>\n",
       "      <td>5000000.0</td>\n",
       "      <td>1000000.0</td>\n",
       "      <td>-1.161872</td>\n",
       "      <td>2.080929</td>\n",
       "      <td>-0.003592</td>\n",
       "      <td>0.912152</td>\n",
       "      <td>-0.124083</td>\n",
       "      <td>188.015127</td>\n",
       "      <td>0.062962</td>\n",
       "      <td>10134.449004</td>\n",
       "    </tr>\n",
       "    <tr>\n",
       "      <th>17</th>\n",
       "      <td>0.0</td>\n",
       "      <td>0.0</td>\n",
       "      <td>0.0</td>\n",
       "      <td>0.0</td>\n",
       "      <td>0.0</td>\n",
       "      <td>2500000.0</td>\n",
       "      <td>5000000.0</td>\n",
       "      <td>5000000.0</td>\n",
       "      <td>-1.013003</td>\n",
       "      <td>2.078561</td>\n",
       "      <td>-0.003592</td>\n",
       "      <td>0.914683</td>\n",
       "      <td>-0.119425</td>\n",
       "      <td>188.015102</td>\n",
       "      <td>0.062962</td>\n",
       "      <td>10134.451249</td>\n",
       "    </tr>\n",
       "    <tr>\n",
       "      <th>18</th>\n",
       "      <td>0.0</td>\n",
       "      <td>0.0</td>\n",
       "      <td>0.0</td>\n",
       "      <td>0.0</td>\n",
       "      <td>0.0</td>\n",
       "      <td>4500000.0</td>\n",
       "      <td>0.0</td>\n",
       "      <td>0.0</td>\n",
       "      <td>-1.166016</td>\n",
       "      <td>2.111130</td>\n",
       "      <td>-0.003592</td>\n",
       "      <td>0.876165</td>\n",
       "      <td>-0.128096</td>\n",
       "      <td>188.015077</td>\n",
       "      <td>0.062962</td>\n",
       "      <td>10067.739148</td>\n",
       "    </tr>\n",
       "    <tr>\n",
       "      <th>19</th>\n",
       "      <td>0.0</td>\n",
       "      <td>0.0</td>\n",
       "      <td>0.0</td>\n",
       "      <td>0.0</td>\n",
       "      <td>0.0</td>\n",
       "      <td>4500000.0</td>\n",
       "      <td>0.0</td>\n",
       "      <td>1000000.0</td>\n",
       "      <td>-1.076005</td>\n",
       "      <td>2.111532</td>\n",
       "      <td>-0.003592</td>\n",
       "      <td>0.875727</td>\n",
       "      <td>-0.125279</td>\n",
       "      <td>188.015142</td>\n",
       "      <td>0.062962</td>\n",
       "      <td>10067.734245</td>\n",
       "    </tr>\n",
       "    <tr>\n",
       "      <th>20</th>\n",
       "      <td>0.0</td>\n",
       "      <td>0.0</td>\n",
       "      <td>0.0</td>\n",
       "      <td>0.0</td>\n",
       "      <td>0.0</td>\n",
       "      <td>4500000.0</td>\n",
       "      <td>0.0</td>\n",
       "      <td>5000000.0</td>\n",
       "      <td>-0.927135</td>\n",
       "      <td>2.109164</td>\n",
       "      <td>-0.003592</td>\n",
       "      <td>0.878258</td>\n",
       "      <td>-0.120621</td>\n",
       "      <td>188.015117</td>\n",
       "      <td>0.062962</td>\n",
       "      <td>10067.736490</td>\n",
       "    </tr>\n",
       "    <tr>\n",
       "      <th>21</th>\n",
       "      <td>0.0</td>\n",
       "      <td>0.0</td>\n",
       "      <td>0.0</td>\n",
       "      <td>0.0</td>\n",
       "      <td>0.0</td>\n",
       "      <td>4500000.0</td>\n",
       "      <td>1000000.0</td>\n",
       "      <td>0.0</td>\n",
       "      <td>-1.085492</td>\n",
       "      <td>2.112096</td>\n",
       "      <td>-0.003592</td>\n",
       "      <td>0.863507</td>\n",
       "      <td>-0.121908</td>\n",
       "      <td>188.015058</td>\n",
       "      <td>0.062962</td>\n",
       "      <td>10131.337812</td>\n",
       "    </tr>\n",
       "    <tr>\n",
       "      <th>22</th>\n",
       "      <td>0.0</td>\n",
       "      <td>0.0</td>\n",
       "      <td>0.0</td>\n",
       "      <td>0.0</td>\n",
       "      <td>0.0</td>\n",
       "      <td>4500000.0</td>\n",
       "      <td>1000000.0</td>\n",
       "      <td>1000000.0</td>\n",
       "      <td>-0.995480</td>\n",
       "      <td>2.112498</td>\n",
       "      <td>-0.003592</td>\n",
       "      <td>0.863069</td>\n",
       "      <td>-0.119092</td>\n",
       "      <td>188.015123</td>\n",
       "      <td>0.062962</td>\n",
       "      <td>10131.332909</td>\n",
       "    </tr>\n",
       "    <tr>\n",
       "      <th>23</th>\n",
       "      <td>0.0</td>\n",
       "      <td>0.0</td>\n",
       "      <td>0.0</td>\n",
       "      <td>0.0</td>\n",
       "      <td>0.0</td>\n",
       "      <td>4500000.0</td>\n",
       "      <td>1000000.0</td>\n",
       "      <td>5000000.0</td>\n",
       "      <td>-0.846611</td>\n",
       "      <td>2.110131</td>\n",
       "      <td>-0.003592</td>\n",
       "      <td>0.865600</td>\n",
       "      <td>-0.114434</td>\n",
       "      <td>188.015098</td>\n",
       "      <td>0.062962</td>\n",
       "      <td>10131.335154</td>\n",
       "    </tr>\n",
       "    <tr>\n",
       "      <th>24</th>\n",
       "      <td>0.0</td>\n",
       "      <td>0.0</td>\n",
       "      <td>0.0</td>\n",
       "      <td>0.0</td>\n",
       "      <td>0.0</td>\n",
       "      <td>4500000.0</td>\n",
       "      <td>5000000.0</td>\n",
       "      <td>0.0</td>\n",
       "      <td>-1.010846</td>\n",
       "      <td>2.111114</td>\n",
       "      <td>-0.003592</td>\n",
       "      <td>0.857206</td>\n",
       "      <td>-0.117465</td>\n",
       "      <td>188.015047</td>\n",
       "      <td>0.062962</td>\n",
       "      <td>10174.226340</td>\n",
       "    </tr>\n",
       "    <tr>\n",
       "      <th>25</th>\n",
       "      <td>0.0</td>\n",
       "      <td>0.0</td>\n",
       "      <td>0.0</td>\n",
       "      <td>0.0</td>\n",
       "      <td>0.0</td>\n",
       "      <td>4500000.0</td>\n",
       "      <td>5000000.0</td>\n",
       "      <td>1000000.0</td>\n",
       "      <td>-0.920834</td>\n",
       "      <td>2.111516</td>\n",
       "      <td>-0.003592</td>\n",
       "      <td>0.856769</td>\n",
       "      <td>-0.114649</td>\n",
       "      <td>188.015112</td>\n",
       "      <td>0.062962</td>\n",
       "      <td>10174.221438</td>\n",
       "    </tr>\n",
       "  </tbody>\n",
       "</table>\n",
       "</div>"
      ],
      "text/plain": [
       "Index  CIGS  CdTe  GaAs  InGaP  Perovskite  Polysilicon  Power Electronics  \\\n",
       "0       0.0   0.0   0.0    0.0         0.0          0.0                0.0   \n",
       "1       0.0   0.0   0.0    0.0         0.0          0.0                0.0   \n",
       "2       0.0   0.0   0.0    0.0         0.0          0.0                0.0   \n",
       "3       0.0   0.0   0.0    0.0         0.0          0.0          1000000.0   \n",
       "4       0.0   0.0   0.0    0.0         0.0          0.0          1000000.0   \n",
       "5       0.0   0.0   0.0    0.0         0.0          0.0          1000000.0   \n",
       "6       0.0   0.0   0.0    0.0         0.0          0.0          5000000.0   \n",
       "7       0.0   0.0   0.0    0.0         0.0          0.0          5000000.0   \n",
       "8       0.0   0.0   0.0    0.0         0.0          0.0          5000000.0   \n",
       "9       0.0   0.0   0.0    0.0         0.0    2500000.0                0.0   \n",
       "10      0.0   0.0   0.0    0.0         0.0    2500000.0                0.0   \n",
       "11      0.0   0.0   0.0    0.0         0.0    2500000.0                0.0   \n",
       "12      0.0   0.0   0.0    0.0         0.0    2500000.0          1000000.0   \n",
       "13      0.0   0.0   0.0    0.0         0.0    2500000.0          1000000.0   \n",
       "14      0.0   0.0   0.0    0.0         0.0    2500000.0          1000000.0   \n",
       "15      0.0   0.0   0.0    0.0         0.0    2500000.0          5000000.0   \n",
       "16      0.0   0.0   0.0    0.0         0.0    2500000.0          5000000.0   \n",
       "17      0.0   0.0   0.0    0.0         0.0    2500000.0          5000000.0   \n",
       "18      0.0   0.0   0.0    0.0         0.0    4500000.0                0.0   \n",
       "19      0.0   0.0   0.0    0.0         0.0    4500000.0                0.0   \n",
       "20      0.0   0.0   0.0    0.0         0.0    4500000.0                0.0   \n",
       "21      0.0   0.0   0.0    0.0         0.0    4500000.0          1000000.0   \n",
       "22      0.0   0.0   0.0    0.0         0.0    4500000.0          1000000.0   \n",
       "23      0.0   0.0   0.0    0.0         0.0    4500000.0          1000000.0   \n",
       "24      0.0   0.0   0.0    0.0         0.0    4500000.0          5000000.0   \n",
       "25      0.0   0.0   0.0    0.0         0.0    4500000.0          5000000.0   \n",
       "\n",
       "Index  Soft Costs   Capital  Efficiency       GHG  Hazardous      LCOE  \\\n",
       "0             0.0 -1.524277    2.068825 -0.003592   0.973497 -0.142384   \n",
       "1       1000000.0 -1.434266    2.069227 -0.003592   0.973060 -0.139568   \n",
       "2       5000000.0 -1.285396    2.066859 -0.003592   0.975591 -0.134910   \n",
       "3             0.0 -1.443752    2.069791 -0.003592   0.960839 -0.136197   \n",
       "4       1000000.0 -1.353741    2.070193 -0.003592   0.960401 -0.133381   \n",
       "5       5000000.0 -1.204872    2.067825 -0.003592   0.962933 -0.128723   \n",
       "6             0.0 -1.369106    2.068808 -0.003592   0.954539 -0.131754   \n",
       "7       1000000.0 -1.279095    2.069210 -0.003592   0.954101 -0.128938   \n",
       "8       5000000.0 -1.130225    2.066842 -0.003592   0.956632 -0.124280   \n",
       "9             0.0 -1.407054    2.080544 -0.003592   0.931548 -0.137529   \n",
       "10      1000000.0 -1.317043    2.080946 -0.003592   0.931111 -0.134713   \n",
       "11      5000000.0 -1.168173    2.078578 -0.003592   0.933642 -0.130055   \n",
       "12            0.0 -1.326530    2.081510 -0.003592   0.918890 -0.131342   \n",
       "13      1000000.0 -1.236518    2.081912 -0.003592   0.918452 -0.128526   \n",
       "14      5000000.0 -1.087649    2.079544 -0.003592   0.920984 -0.123868   \n",
       "15            0.0 -1.251884    2.080527 -0.003592   0.912590 -0.126899   \n",
       "16      1000000.0 -1.161872    2.080929 -0.003592   0.912152 -0.124083   \n",
       "17      5000000.0 -1.013003    2.078561 -0.003592   0.914683 -0.119425   \n",
       "18            0.0 -1.166016    2.111130 -0.003592   0.876165 -0.128096   \n",
       "19      1000000.0 -1.076005    2.111532 -0.003592   0.875727 -0.125279   \n",
       "20      5000000.0 -0.927135    2.109164 -0.003592   0.878258 -0.120621   \n",
       "21            0.0 -1.085492    2.112096 -0.003592   0.863507 -0.121908   \n",
       "22      1000000.0 -0.995480    2.112498 -0.003592   0.863069 -0.119092   \n",
       "23      5000000.0 -0.846611    2.110131 -0.003592   0.865600 -0.114434   \n",
       "24            0.0 -1.010846    2.111114 -0.003592   0.857206 -0.117465   \n",
       "25      1000000.0 -0.920834    2.111516 -0.003592   0.856769 -0.114649   \n",
       "\n",
       "Index    Lifetime  Strategic         Yield  \n",
       "0      188.015072   0.062962  10007.738557  \n",
       "1      188.015137   0.062962  10007.733655  \n",
       "2      188.015112   0.062962  10007.735899  \n",
       "3      188.015053   0.062962  10071.337222  \n",
       "4      188.015118   0.062962  10071.332319  \n",
       "5      188.015093   0.062962  10071.334564  \n",
       "6      188.015042   0.062962  10114.225750  \n",
       "7      188.015107   0.062962  10114.220847  \n",
       "8      188.015082   0.062962  10114.223092  \n",
       "9      188.015092   0.062962  10027.966714  \n",
       "10     188.015157   0.062962  10027.961812  \n",
       "11     188.015132   0.062962  10027.964056  \n",
       "12     188.015073   0.062962  10091.565378  \n",
       "13     188.015138   0.062962  10091.560476  \n",
       "14     188.015113   0.062962  10091.562721  \n",
       "15     188.015062   0.062962  10134.453907  \n",
       "16     188.015127   0.062962  10134.449004  \n",
       "17     188.015102   0.062962  10134.451249  \n",
       "18     188.015077   0.062962  10067.739148  \n",
       "19     188.015142   0.062962  10067.734245  \n",
       "20     188.015117   0.062962  10067.736490  \n",
       "21     188.015058   0.062962  10131.337812  \n",
       "22     188.015123   0.062962  10131.332909  \n",
       "23     188.015098   0.062962  10131.335154  \n",
       "24     188.015047   0.062962  10174.226340  \n",
       "25     188.015112   0.062962  10174.221438  "
      ]
     },
     "execution_count": 13,
     "metadata": {},
     "output_type": "execute_result"
    }
   ],
   "source": [
    "wide.head(26)"
   ]
  },
  {
   "cell_type": "code",
   "execution_count": 14,
   "metadata": {},
   "outputs": [],
   "source": [
    "categories = ['Polysilicon', 'Power Electronics', 'Soft Costs']\n",
    "\n",
    "metric_obj = ['Efficiency']\n",
    "\n",
    "metric_constraint = ['Hazardous']"
   ]
  },
  {
   "cell_type": "markdown",
   "metadata": {},
   "source": [
    "Pull out the investment values and metric values from the data set."
   ]
  },
  {
   "cell_type": "code",
   "execution_count": 15,
   "metadata": {},
   "outputs": [],
   "source": [
    "# Investment levels = interval endpoints\n",
    "inv_levels = wide.loc[:26,categories].values.tolist()\n",
    "\n",
    "# Elicited metric values for objective function\n",
    "m = wide.loc[:26,metric_obj].values.tolist()\n",
    "\n",
    "# Elicited metric values for constraint\n",
    "const = wide.loc[:26, metric_constraint].values.tolist()\n",
    "\n",
    "# Number of endpoints\n",
    "I = len(inv_levels)"
   ]
  },
  {
   "cell_type": "code",
   "execution_count": 22,
   "metadata": {},
   "outputs": [
    {
     "data": {
      "text/plain": [
       "(array([5., 1., 3., 0., 0., 0., 1., 4., 1., 3., 0., 0., 3., 3., 3.]),\n",
       " array([0.85676857, 0.86469007, 0.87261156, 0.88053305, 0.88845455,\n",
       "        0.89637604, 0.90429754, 0.91221903, 0.92014053, 0.92806202,\n",
       "        0.93598352, 0.94390501, 0.9518265 , 0.959748  , 0.96766949,\n",
       "        0.97559099]),\n",
       " <BarContainer object of 15 artists>)"
      ]
     },
     "execution_count": 22,
     "metadata": {},
     "output_type": "execute_result"
    },
    {
     "data": {
      "image/png": "[encoded data removed]",
      "text/plain": [
       "<Figure size 432x288 with 1 Axes>"
      ]
     },
     "metadata": {
      "needs_background": "light"
     },
     "output_type": "display_data"
    }
   ],
   "source": [
    "hist(wide.loc[:26, metric_constraint], bins=15)"
   ]
  },
  {
   "cell_type": "markdown",
   "metadata": {},
   "source": [
    "Instantiate the MIP optimization problem."
   ]
  },
  {
   "cell_type": "code",
   "execution_count": 107,
   "metadata": {},
   "outputs": [],
   "source": [
    "example = Model(sense=MAXIMIZE)"
   ]
  },
  {
   "cell_type": "markdown",
   "metadata": {},
   "source": [
    "Create continuous $\\lambda$ variables with lower bound 0.0 and upper bound 1.0"
   ]
  },
  {
   "cell_type": "code",
   "execution_count": 108,
   "metadata": {},
   "outputs": [],
   "source": [
    "lmbd_vars = []\n",
    "\n",
    "for i in range(I):\n",
    "    lmbd_vars += [example.add_var(name='lmbd_' + str(i), lb=0.0, ub=1.0)]"
   ]
  },
  {
   "cell_type": "markdown",
   "metadata": {},
   "source": [
    "Create binary (integer) variables $y_{in_i}$ and constraints on $y$ and $\\lambda$ that restrict optimal solutions to the intervals between endpoints (elicited data)."
   ]
  },
  {
   "cell_type": "code",
   "execution_count": 109,
   "metadata": {},
   "outputs": [],
   "source": [
    "bin_vars = []\n",
    "bin_count = 0\n",
    "\n",
    "for i in range(I):\n",
    "    for j in range(i, I):\n",
    "        if j != i:\n",
    "            # create binary variable\n",
    "            bin_vars += [example.add_var(name='y_' + str(i) + str(j),\n",
    "                                         var_type=BINARY)]\n",
    "            # add binary/lambda variable constraint\n",
    "            example += bin_vars[bin_count] <= lmbd_vars[i] + lmbd_vars[j], 'Interval_Constraint_' + str(i) + str(j)\n",
    "            bin_count += 1"
   ]
  },
  {
   "cell_type": "markdown",
   "metadata": {},
   "source": [
    "Define upper bound for total budget constraint and per-category upper bounds."
   ]
  },
  {
   "cell_type": "code",
   "execution_count": 110,
   "metadata": {},
   "outputs": [],
   "source": [
    "B = 3000000.0\n",
    "max_amount = [3000000.0, 2300000.0, 3000000.0]\n",
    "const_amount = 0.95"
   ]
  },
  {
   "cell_type": "markdown",
   "metadata": {},
   "source": [
    "Create total budget constraint as a function of the $\\lambda$ variables and the elicited investment levels from the data set."
   ]
  },
  {
   "cell_type": "code",
   "execution_count": 111,
   "metadata": {},
   "outputs": [],
   "source": [
    "example += xsum(lmbd_vars[i] * inv_levels[i][j] \n",
    "                for i in range(I)\n",
    "                for j in range(len(inv_levels[i]))) <= B, 'Total_Budget'"
   ]
  },
  {
   "cell_type": "markdown",
   "metadata": {},
   "source": [
    "Create constraints for budget within each investment category."
   ]
  },
  {
   "cell_type": "code",
   "execution_count": 112,
   "metadata": {},
   "outputs": [],
   "source": [
    "for j in range(len(categories)):\n",
    "    example += xsum(lmbd_vars[i] * [el[j] for el in inv_levels][i] \n",
    "                    for i in range(I)) <= max_amount[j], 'Budget_for_' + categories[j].replace(' ', '')"
   ]
  },
  {
   "cell_type": "markdown",
   "metadata": {},
   "source": [
    "Create minimum-metric constraint on the lambda variables."
   ]
  },
  {
   "cell_type": "code",
   "execution_count": 113,
   "metadata": {},
   "outputs": [],
   "source": [
    "example += xsum(lmbd_vars[i] * const[i][0] for i in range(I)) <= const_amount"
   ]
  },
  {
   "cell_type": "markdown",
   "metadata": {},
   "source": [
    "Create two sets of constraints:\n",
    "* Convexity constraints on $\\lambda$ variables: the $\\lambda$s must sum to 1.\n",
    "* Constrain binary $y$ variables within each category such that the decision variables lie within exactly one interval."
   ]
  },
  {
   "cell_type": "code",
   "execution_count": 114,
   "metadata": {},
   "outputs": [],
   "source": [
    "example += sum(lmbd_vars) == 1, 'Lambda_Sum'"
   ]
  },
  {
   "cell_type": "markdown",
   "metadata": {},
   "source": [
    "The sum over all binary variables is constrained to be exactly 1 to restrict optimal solutions to the linear intervals between endpoints (elicited data)."
   ]
  },
  {
   "cell_type": "code",
   "execution_count": 115,
   "metadata": {},
   "outputs": [],
   "source": [
    "example += sum(bin_vars) == 1, 'Binary_Sum'"
   ]
  },
  {
   "cell_type": "markdown",
   "metadata": {},
   "source": [
    "Create objective function: Metric objective as a function of $\\lambda$s and elicited data."
   ]
  },
  {
   "cell_type": "code",
   "execution_count": 116,
   "metadata": {},
   "outputs": [],
   "source": [
    "example.objective = xsum(m[i][0] * lmbd_vars[i] for i in range(I))"
   ]
  },
  {
   "cell_type": "markdown",
   "metadata": {},
   "source": [
    "Save model to a `lp` file for manual examination (optional; un-comment to save)."
   ]
  },
  {
   "cell_type": "code",
   "execution_count": 20,
   "metadata": {},
   "outputs": [],
   "source": [
    "#example.write('example.lp')"
   ]
  },
  {
   "cell_type": "markdown",
   "metadata": {},
   "source": [
    "Optimize."
   ]
  },
  {
   "cell_type": "code",
   "execution_count": 117,
   "metadata": {},
   "outputs": [],
   "source": [
    "status = example.optimize()"
   ]
  },
  {
   "cell_type": "code",
   "execution_count": 118,
   "metadata": {},
   "outputs": [
    {
     "data": {
      "text/plain": [
       "<OptimizationStatus.OPTIMAL: 0>"
      ]
     },
     "execution_count": 118,
     "metadata": {},
     "output_type": "execute_result"
    }
   ],
   "source": [
    "status"
   ]
  },
  {
   "cell_type": "markdown",
   "metadata": {},
   "source": [
    "Print optimal objective function value, if a feasible solution was found, or an estimate for the objective function bound if no feasible solution was found."
   ]
  },
  {
   "cell_type": "code",
   "execution_count": 119,
   "metadata": {},
   "outputs": [
    {
     "name": "stdout",
     "output_type": "stream",
     "text": [
      "optimal objective function value:  2.0948990359828987\n"
     ]
    }
   ],
   "source": [
    "if status == OptimizationStatus.OPTIMAL:\n",
    "    print('optimal objective function value: ', example.objective_value)\n",
    "elif status == OptimizationStatus.NO_SOLUTION_FOUND:\n",
    "    print('objective function bound (estimate): ', example.objective_bound)\n",
    "else:\n",
    "    print('no solution found: ', status)"
   ]
  },
  {
   "cell_type": "markdown",
   "metadata": {},
   "source": [
    "Get the optimal $\\lambda$ and $y$ values. Store as separate lists and also print out."
   ]
  },
  {
   "cell_type": "code",
   "execution_count": 120,
   "metadata": {},
   "outputs": [
    {
     "name": "stdout",
     "output_type": "stream",
     "text": [
      "lmbd_0 : 0.33333333333333337\n",
      "lmbd_18 : 0.6666666666666666\n",
      "y_018 : 1.0\n"
     ]
    }
   ],
   "source": [
    "lmbd_opt = []\n",
    "y_opt = []\n",
    "\n",
    "for v in example.vars:\n",
    "    if 'lmbd' in v.name:\n",
    "        lmbd_opt += [v.x]\n",
    "    elif 'y' in v.name:\n",
    "        y_opt += [v.x]\n",
    "    if v.x > 1e-6:\n",
    "        print('{} : {}'.format(v.name, v.x))"
   ]
  },
  {
   "cell_type": "markdown",
   "metadata": {},
   "source": [
    "Calculate the optimal investment levels."
   ]
  },
  {
   "cell_type": "code",
   "execution_count": 121,
   "metadata": {},
   "outputs": [
    {
     "data": {
      "text/plain": [
       "{'Polysilicon': 3000000.0, 'Power Electronics': 0.0, 'Soft Costs': 0.0}"
      ]
     },
     "execution_count": 121,
     "metadata": {},
     "output_type": "execute_result"
    }
   ],
   "source": [
    "inv_levels_opt = {}\n",
    "\n",
    "for i in range(len(categories)):\n",
    "    inv_levels_opt[categories[i]] = sum([lmbd_opt[j] * [el[i] for el in inv_levels][j] \n",
    "                                         for j in range(len(lmbd_opt))])\n",
    "\n",
    "inv_levels_opt"
   ]
  },
  {
   "cell_type": "markdown",
   "metadata": {},
   "source": [
    "Calculate the optimal total investment."
   ]
  },
  {
   "cell_type": "code",
   "execution_count": 122,
   "metadata": {},
   "outputs": [
    {
     "data": {
      "text/plain": [
       "3000000.0"
      ]
     },
     "execution_count": 122,
     "metadata": {},
     "output_type": "execute_result"
    }
   ],
   "source": [
    "total_inv_levels_opt = sum(inv_levels_opt.values())\n",
    "total_inv_levels_opt"
   ]
  },
  {
   "cell_type": "markdown",
   "metadata": {},
   "source": [
    "# Example 1b: Photovoltaic Module [metric]"
   ]
  }
 ],
 "metadata": {
  "kernelspec": {
   "display_name": "Python 3",
   "language": "python",
   "name": "python3"
  },
  "language_info": {
   "codemirror_mode": {
    "name": "ipython",
    "version": 3
   },
   "file_extension": ".py",
   "mimetype": "text/x-python",
   "name": "python",
   "nbconvert_exporter": "python",
   "pygments_lexer": "ipython3",
   "version": "3.7.8"
  }
 },
 "nbformat": 4,
 "nbformat_minor": 4
}
