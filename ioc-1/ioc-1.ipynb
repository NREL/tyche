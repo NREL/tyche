{
 "cells": [
  {
   "cell_type": "markdown",
   "metadata": {},
   "source": [
    "# Interim Operational Capability 1"
   ]
  },
  {
   "cell_type": "markdown",
   "metadata": {},
   "source": [
    "## Set up."
   ]
  },
  {
   "cell_type": "markdown",
   "metadata": {},
   "source": [
    "### Import packages."
   ]
  },
  {
   "cell_type": "code",
   "execution_count": 1,
   "metadata": {},
   "outputs": [],
   "source": [
    "import os\n",
    "import sys\n",
    "sys.path.insert(0, os.path.abspath(\"../src\"))"
   ]
  },
  {
   "cell_type": "code",
   "execution_count": 2,
   "metadata": {},
   "outputs": [],
   "source": [
    "import numpy             as np\n",
    "import matplotlib.pyplot as pl\n",
    "import pandas            as pd\n",
    "import seaborn           as sb\n",
    "import tyche             as ty\n",
    "\n",
    "from copy            import deepcopy\n",
    "from IPython.display import Image "
   ]
  },
  {
   "cell_type": "markdown",
   "metadata": {},
   "source": [
    "## Load data."
   ]
  },
  {
   "cell_type": "markdown",
   "metadata": {},
   "source": [
    "### The data are stored in a set of tab-separated value files in a folder."
   ]
  },
  {
   "cell_type": "code",
   "execution_count": 39,
   "metadata": {},
   "outputs": [],
   "source": [
    "designs = ty.Designs(\"data\")"
   ]
  },
  {
   "cell_type": "code",
   "execution_count": 40,
   "metadata": {},
   "outputs": [],
   "source": [
    "investments = ty.Investments(\"data\")"
   ]
  },
  {
   "cell_type": "markdown",
   "metadata": {},
   "source": [
    "### Compile the production and metric functions for each technology in the dataset."
   ]
  },
  {
   "cell_type": "code",
   "execution_count": 41,
   "metadata": {},
   "outputs": [],
   "source": [
    "designs.compile()"
   ]
  },
  {
   "cell_type": "markdown",
   "metadata": {},
   "source": [
    "## Examine the data."
   ]
  },
  {
   "cell_type": "markdown",
   "metadata": {},
   "source": [
    "### The `functions` table specifies where the Python code for each technology resides."
   ]
  },
  {
   "cell_type": "code",
   "execution_count": 42,
   "metadata": {},
   "outputs": [
    {
     "data": {
      "text/html": [
       "<div>\n",
       "<style scoped>\n",
       "    .dataframe tbody tr th:only-of-type {\n",
       "        vertical-align: middle;\n",
       "    }\n",
       "\n",
       "    .dataframe tbody tr th {\n",
       "        vertical-align: top;\n",
       "    }\n",
       "\n",
       "    .dataframe thead th {\n",
       "        text-align: right;\n",
       "    }\n",
       "</style>\n",
       "<table border=\"1\" class=\"dataframe\">\n",
       "  <thead>\n",
       "    <tr style=\"text-align: right;\">\n",
       "      <th></th>\n",
       "      <th>Style</th>\n",
       "      <th>Module</th>\n",
       "      <th>Capital</th>\n",
       "      <th>Fixed</th>\n",
       "      <th>Production</th>\n",
       "      <th>Metrics</th>\n",
       "      <th>Notes</th>\n",
       "    </tr>\n",
       "    <tr>\n",
       "      <th>Technology</th>\n",
       "      <th></th>\n",
       "      <th></th>\n",
       "      <th></th>\n",
       "      <th></th>\n",
       "      <th></th>\n",
       "      <th></th>\n",
       "      <th></th>\n",
       "    </tr>\n",
       "  </thead>\n",
       "  <tbody>\n",
       "    <tr>\n",
       "      <th>PV Generic</th>\n",
       "      <td>numpy</td>\n",
       "      <td>pv_residential_generic</td>\n",
       "      <td>capital_cost</td>\n",
       "      <td>fixed_cost</td>\n",
       "      <td>production</td>\n",
       "      <td>metrics</td>\n",
       "      <td>generic residential PV</td>\n",
       "    </tr>\n",
       "  </tbody>\n",
       "</table>\n",
       "</div>"
      ],
      "text/plain": [
       "            Style                  Module       Capital       Fixed  \\\n",
       "Technology                                                            \n",
       "PV Generic  numpy  pv_residential_generic  capital_cost  fixed_cost   \n",
       "\n",
       "            Production  Metrics                   Notes  \n",
       "Technology                                               \n",
       "PV Generic  production  metrics  generic residential PV  "
      ]
     },
     "execution_count": 42,
     "metadata": {},
     "output_type": "execute_result"
    }
   ],
   "source": [
    "designs.functions"
   ]
  },
  {
   "cell_type": "markdown",
   "metadata": {},
   "source": [
    "### The `indices` table defines the subscripts for variables."
   ]
  },
  {
   "cell_type": "code",
   "execution_count": 43,
   "metadata": {},
   "outputs": [
    {
     "data": {
      "text/html": [
       "<div>\n",
       "<style scoped>\n",
       "    .dataframe tbody tr th:only-of-type {\n",
       "        vertical-align: middle;\n",
       "    }\n",
       "\n",
       "    .dataframe tbody tr th {\n",
       "        vertical-align: top;\n",
       "    }\n",
       "\n",
       "    .dataframe thead th {\n",
       "        text-align: right;\n",
       "    }\n",
       "</style>\n",
       "<table border=\"1\" class=\"dataframe\">\n",
       "  <thead>\n",
       "    <tr style=\"text-align: right;\">\n",
       "      <th></th>\n",
       "      <th></th>\n",
       "      <th></th>\n",
       "      <th>Description</th>\n",
       "      <th>Notes</th>\n",
       "    </tr>\n",
       "    <tr>\n",
       "      <th>Technology</th>\n",
       "      <th>Type</th>\n",
       "      <th>Index</th>\n",
       "      <th></th>\n",
       "      <th></th>\n",
       "    </tr>\n",
       "  </thead>\n",
       "  <tbody>\n",
       "    <tr>\n",
       "      <th rowspan=\"16\" valign=\"top\">PV Generic</th>\n",
       "      <th rowspan=\"3\" valign=\"top\">Capital</th>\n",
       "      <th>BoS</th>\n",
       "      <td>balance of system</td>\n",
       "      <td></td>\n",
       "    </tr>\n",
       "    <tr>\n",
       "      <th>Inverter</th>\n",
       "      <td>system inverters</td>\n",
       "      <td></td>\n",
       "    </tr>\n",
       "    <tr>\n",
       "      <th>Module</th>\n",
       "      <td>system module</td>\n",
       "      <td></td>\n",
       "    </tr>\n",
       "    <tr>\n",
       "      <th>Fixed</th>\n",
       "      <th>System</th>\n",
       "      <td>whole system</td>\n",
       "      <td></td>\n",
       "    </tr>\n",
       "    <tr>\n",
       "      <th>Input</th>\n",
       "      <th>Strategic</th>\n",
       "      <td>strategic materials</td>\n",
       "      <td></td>\n",
       "    </tr>\n",
       "    <tr>\n",
       "      <th rowspan=\"8\" valign=\"top\">Metric</th>\n",
       "      <th>Efficiency</th>\n",
       "      <td>module efficiency</td>\n",
       "      <td></td>\n",
       "    </tr>\n",
       "    <tr>\n",
       "      <th>GHG</th>\n",
       "      <td>greenouse gas offset</td>\n",
       "      <td></td>\n",
       "    </tr>\n",
       "    <tr>\n",
       "      <th>Hazardous</th>\n",
       "      <td>hazardous waste produced</td>\n",
       "      <td></td>\n",
       "    </tr>\n",
       "    <tr>\n",
       "      <th>LCOC</th>\n",
       "      <td>levelized cost of capacity</td>\n",
       "      <td></td>\n",
       "    </tr>\n",
       "    <tr>\n",
       "      <th>LCOE</th>\n",
       "      <td>levelized cost of energy</td>\n",
       "      <td></td>\n",
       "    </tr>\n",
       "    <tr>\n",
       "      <th>Lifetime</th>\n",
       "      <td>module lifetime</td>\n",
       "      <td></td>\n",
       "    </tr>\n",
       "    <tr>\n",
       "      <th>Strategic</th>\n",
       "      <td>strategic metal used</td>\n",
       "      <td></td>\n",
       "    </tr>\n",
       "    <tr>\n",
       "      <th>Yield</th>\n",
       "      <td>specific yield</td>\n",
       "      <td></td>\n",
       "    </tr>\n",
       "    <tr>\n",
       "      <th rowspan=\"3\" valign=\"top\">Output</th>\n",
       "      <th>Electricity</th>\n",
       "      <td>electricity generated</td>\n",
       "      <td></td>\n",
       "    </tr>\n",
       "    <tr>\n",
       "      <th>GHG</th>\n",
       "      <td>greenhouse gas offset</td>\n",
       "      <td></td>\n",
       "    </tr>\n",
       "    <tr>\n",
       "      <th>Hazardous</th>\n",
       "      <td>hazardous waste produced</td>\n",
       "      <td></td>\n",
       "    </tr>\n",
       "  </tbody>\n",
       "</table>\n",
       "</div>"
      ],
      "text/plain": [
       "                                               Description Notes\n",
       "Technology Type    Index                                        \n",
       "PV Generic Capital BoS                   balance of system      \n",
       "                   Inverter               system inverters      \n",
       "                   Module                    system module      \n",
       "           Fixed   System                     whole system      \n",
       "           Input   Strategic           strategic materials      \n",
       "           Metric  Efficiency            module efficiency      \n",
       "                   GHG                greenouse gas offset      \n",
       "                   Hazardous      hazardous waste produced      \n",
       "                   LCOC         levelized cost of capacity      \n",
       "                   LCOE           levelized cost of energy      \n",
       "                   Lifetime                module lifetime      \n",
       "                   Strategic          strategic metal used      \n",
       "                   Yield                    specific yield      \n",
       "           Output  Electricity       electricity generated      \n",
       "                   GHG               greenhouse gas offset      \n",
       "                   Hazardous      hazardous waste produced      "
      ]
     },
     "execution_count": 43,
     "metadata": {},
     "output_type": "execute_result"
    }
   ],
   "source": [
    "designs.indices.drop(\"Offset\", axis = 1)"
   ]
  },
  {
   "cell_type": "markdown",
   "metadata": {},
   "source": [
    "### The `designs` table contains the cost, input, efficiency, and price data for a scenario."
   ]
  },
  {
   "cell_type": "code",
   "execution_count": 44,
   "metadata": {},
   "outputs": [
    {
     "data": {
      "text/html": [
       "<div>\n",
       "<style scoped>\n",
       "    .dataframe tbody tr th:only-of-type {\n",
       "        vertical-align: middle;\n",
       "    }\n",
       "\n",
       "    .dataframe tbody tr th {\n",
       "        vertical-align: top;\n",
       "    }\n",
       "\n",
       "    .dataframe thead th {\n",
       "        text-align: right;\n",
       "    }\n",
       "</style>\n",
       "<table border=\"1\" class=\"dataframe\">\n",
       "  <thead>\n",
       "    <tr style=\"text-align: right;\">\n",
       "      <th></th>\n",
       "      <th></th>\n",
       "      <th></th>\n",
       "      <th></th>\n",
       "      <th>Value</th>\n",
       "      <th>Units</th>\n",
       "      <th>Notes</th>\n",
       "    </tr>\n",
       "    <tr>\n",
       "      <th>Technology</th>\n",
       "      <th>Scenario</th>\n",
       "      <th>Variable</th>\n",
       "      <th>Index</th>\n",
       "      <th></th>\n",
       "      <th></th>\n",
       "      <th></th>\n",
       "    </tr>\n",
       "  </thead>\n",
       "  <tbody>\n",
       "    <tr>\n",
       "      <th rowspan=\"26\" valign=\"top\">PV Generic</th>\n",
       "      <th rowspan=\"13\" valign=\"top\">Power Electronics</th>\n",
       "      <th>Input</th>\n",
       "      <th>Strategic</th>\n",
       "      <td>0</td>\n",
       "      <td>g/system</td>\n",
       "      <td>zero by default</td>\n",
       "    </tr>\n",
       "    <tr>\n",
       "      <th>Input efficiency</th>\n",
       "      <th>Strategic</th>\n",
       "      <td>1</td>\n",
       "      <td>%/100</td>\n",
       "      <td>no scaling</td>\n",
       "    </tr>\n",
       "    <tr>\n",
       "      <th>Input price</th>\n",
       "      <th>Stategic</th>\n",
       "      <td>0</td>\n",
       "      <td>$/g</td>\n",
       "      <td>zero by default</td>\n",
       "    </tr>\n",
       "    <tr>\n",
       "      <th rowspan=\"3\" valign=\"top\">Lifetime</th>\n",
       "      <th>BoS</th>\n",
       "      <td>1</td>\n",
       "      <td>system-lifetime</td>\n",
       "      <td>per-lifetime computations</td>\n",
       "    </tr>\n",
       "    <tr>\n",
       "      <th>Inverter</th>\n",
       "      <td>1</td>\n",
       "      <td>system-lifetime</td>\n",
       "      <td>per-lifetime computations</td>\n",
       "    </tr>\n",
       "    <tr>\n",
       "      <th>Module</th>\n",
       "      <td>1</td>\n",
       "      <td>system-lifetime</td>\n",
       "      <td>per-lifetime computations</td>\n",
       "    </tr>\n",
       "    <tr>\n",
       "      <th rowspan=\"3\" valign=\"top\">Output efficiency</th>\n",
       "      <th>Electricity</th>\n",
       "      <td>1</td>\n",
       "      <td>%/100</td>\n",
       "      <td>see parameter table for individual efficiencies</td>\n",
       "    </tr>\n",
       "    <tr>\n",
       "      <th>GHG</th>\n",
       "      <td>1</td>\n",
       "      <td>%/100</td>\n",
       "      <td>see parameter table for individual efficiencies</td>\n",
       "    </tr>\n",
       "    <tr>\n",
       "      <th>Hazardous</th>\n",
       "      <td>1</td>\n",
       "      <td>%/100</td>\n",
       "      <td>see parameter table for individual efficiencies</td>\n",
       "    </tr>\n",
       "    <tr>\n",
       "      <th rowspan=\"3\" valign=\"top\">Output price</th>\n",
       "      <th>Electricity</th>\n",
       "      <td>0</td>\n",
       "      <td>$/kWh</td>\n",
       "      <td>not tracking electricity price</td>\n",
       "    </tr>\n",
       "    <tr>\n",
       "      <th>GHG</th>\n",
       "      <td>0</td>\n",
       "      <td>$/gCO2e</td>\n",
       "      <td>not tracking hazardous waste</td>\n",
       "    </tr>\n",
       "    <tr>\n",
       "      <th>Hazardous</th>\n",
       "      <td>0</td>\n",
       "      <td>$/g</td>\n",
       "      <td>not tracking hazardous waste</td>\n",
       "    </tr>\n",
       "    <tr>\n",
       "      <th>Scale</th>\n",
       "      <th>NaN</th>\n",
       "      <td>1</td>\n",
       "      <td>system/system</td>\n",
       "      <td>no scaling</td>\n",
       "    </tr>\n",
       "    <tr>\n",
       "      <th rowspan=\"13\" valign=\"top\">Reference</th>\n",
       "      <th>Input</th>\n",
       "      <th>Strategic</th>\n",
       "      <td>0</td>\n",
       "      <td>g/system</td>\n",
       "      <td>zero by default</td>\n",
       "    </tr>\n",
       "    <tr>\n",
       "      <th>Input efficiency</th>\n",
       "      <th>Strategic</th>\n",
       "      <td>1</td>\n",
       "      <td>%/100</td>\n",
       "      <td>no scaling</td>\n",
       "    </tr>\n",
       "    <tr>\n",
       "      <th>Input price</th>\n",
       "      <th>Stategic</th>\n",
       "      <td>0</td>\n",
       "      <td>$/g</td>\n",
       "      <td>zero by default</td>\n",
       "    </tr>\n",
       "    <tr>\n",
       "      <th rowspan=\"3\" valign=\"top\">Lifetime</th>\n",
       "      <th>BoS</th>\n",
       "      <td>1</td>\n",
       "      <td>system-lifetime</td>\n",
       "      <td>per-lifetime computations</td>\n",
       "    </tr>\n",
       "    <tr>\n",
       "      <th>Inverter</th>\n",
       "      <td>1</td>\n",
       "      <td>system-lifetime</td>\n",
       "      <td>per-lifetime computations</td>\n",
       "    </tr>\n",
       "    <tr>\n",
       "      <th>Module</th>\n",
       "      <td>1</td>\n",
       "      <td>system-lifetime</td>\n",
       "      <td>per-lifetime computations</td>\n",
       "    </tr>\n",
       "    <tr>\n",
       "      <th rowspan=\"3\" valign=\"top\">Output efficiency</th>\n",
       "      <th>Electricity</th>\n",
       "      <td>1</td>\n",
       "      <td>%/100</td>\n",
       "      <td>see parameter table for individual efficiencies</td>\n",
       "    </tr>\n",
       "    <tr>\n",
       "      <th>GHG</th>\n",
       "      <td>1</td>\n",
       "      <td>%/100</td>\n",
       "      <td>see parameter table for individual efficiencies</td>\n",
       "    </tr>\n",
       "    <tr>\n",
       "      <th>Hazardous</th>\n",
       "      <td>1</td>\n",
       "      <td>%/100</td>\n",
       "      <td>see parameter table for individual efficiencies</td>\n",
       "    </tr>\n",
       "    <tr>\n",
       "      <th rowspan=\"3\" valign=\"top\">Output price</th>\n",
       "      <th>Electricity</th>\n",
       "      <td>0</td>\n",
       "      <td>$/kWh</td>\n",
       "      <td>not tracking electricity price</td>\n",
       "    </tr>\n",
       "    <tr>\n",
       "      <th>GHG</th>\n",
       "      <td>0</td>\n",
       "      <td>$/gCO2e</td>\n",
       "      <td>not tracking hazardous waste</td>\n",
       "    </tr>\n",
       "    <tr>\n",
       "      <th>Hazardous</th>\n",
       "      <td>0</td>\n",
       "      <td>$/g</td>\n",
       "      <td>not tracking hazardous waste</td>\n",
       "    </tr>\n",
       "    <tr>\n",
       "      <th>Scale</th>\n",
       "      <th>NaN</th>\n",
       "      <td>1</td>\n",
       "      <td>system/system</td>\n",
       "      <td>no scaling</td>\n",
       "    </tr>\n",
       "  </tbody>\n",
       "</table>\n",
       "</div>"
      ],
      "text/plain": [
       "                                                           Value  \\\n",
       "Technology Scenario          Variable          Index               \n",
       "PV Generic Power Electronics Input             Strategic       0   \n",
       "                             Input efficiency  Strategic       1   \n",
       "                             Input price       Stategic        0   \n",
       "                             Lifetime          BoS             1   \n",
       "                                               Inverter        1   \n",
       "                                               Module          1   \n",
       "                             Output efficiency Electricity     1   \n",
       "                                               GHG             1   \n",
       "                                               Hazardous       1   \n",
       "                             Output price      Electricity     0   \n",
       "                                               GHG             0   \n",
       "                                               Hazardous       0   \n",
       "                             Scale             NaN             1   \n",
       "           Reference         Input             Strategic       0   \n",
       "                             Input efficiency  Strategic       1   \n",
       "                             Input price       Stategic        0   \n",
       "                             Lifetime          BoS             1   \n",
       "                                               Inverter        1   \n",
       "                                               Module          1   \n",
       "                             Output efficiency Electricity     1   \n",
       "                                               GHG             1   \n",
       "                                               Hazardous       1   \n",
       "                             Output price      Electricity     0   \n",
       "                                               GHG             0   \n",
       "                                               Hazardous       0   \n",
       "                             Scale             NaN             1   \n",
       "\n",
       "                                                                      Units  \\\n",
       "Technology Scenario          Variable          Index                          \n",
       "PV Generic Power Electronics Input             Strategic           g/system   \n",
       "                             Input efficiency  Strategic              %/100   \n",
       "                             Input price       Stategic                 $/g   \n",
       "                             Lifetime          BoS          system-lifetime   \n",
       "                                               Inverter     system-lifetime   \n",
       "                                               Module       system-lifetime   \n",
       "                             Output efficiency Electricity            %/100   \n",
       "                                               GHG                    %/100   \n",
       "                                               Hazardous              %/100   \n",
       "                             Output price      Electricity            $/kWh   \n",
       "                                               GHG                  $/gCO2e   \n",
       "                                               Hazardous                $/g   \n",
       "                             Scale             NaN            system/system   \n",
       "           Reference         Input             Strategic           g/system   \n",
       "                             Input efficiency  Strategic              %/100   \n",
       "                             Input price       Stategic                 $/g   \n",
       "                             Lifetime          BoS          system-lifetime   \n",
       "                                               Inverter     system-lifetime   \n",
       "                                               Module       system-lifetime   \n",
       "                             Output efficiency Electricity            %/100   \n",
       "                                               GHG                    %/100   \n",
       "                                               Hazardous              %/100   \n",
       "                             Output price      Electricity            $/kWh   \n",
       "                                               GHG                  $/gCO2e   \n",
       "                                               Hazardous                $/g   \n",
       "                             Scale             NaN            system/system   \n",
       "\n",
       "                                                                                                      Notes  \n",
       "Technology Scenario          Variable          Index                                                         \n",
       "PV Generic Power Electronics Input             Strategic                                    zero by default  \n",
       "                             Input efficiency  Strategic                                         no scaling  \n",
       "                             Input price       Stategic                                     zero by default  \n",
       "                             Lifetime          BoS                                per-lifetime computations  \n",
       "                                               Inverter                           per-lifetime computations  \n",
       "                                               Module                             per-lifetime computations  \n",
       "                             Output efficiency Electricity  see parameter table for individual efficiencies  \n",
       "                                               GHG          see parameter table for individual efficiencies  \n",
       "                                               Hazardous    see parameter table for individual efficiencies  \n",
       "                             Output price      Electricity                   not tracking electricity price  \n",
       "                                               GHG                             not tracking hazardous waste  \n",
       "                                               Hazardous                       not tracking hazardous waste  \n",
       "                             Scale             NaN                                               no scaling  \n",
       "           Reference         Input             Strategic                                    zero by default  \n",
       "                             Input efficiency  Strategic                                         no scaling  \n",
       "                             Input price       Stategic                                     zero by default  \n",
       "                             Lifetime          BoS                                per-lifetime computations  \n",
       "                                               Inverter                           per-lifetime computations  \n",
       "                                               Module                             per-lifetime computations  \n",
       "                             Output efficiency Electricity  see parameter table for individual efficiencies  \n",
       "                                               GHG          see parameter table for individual efficiencies  \n",
       "                                               Hazardous    see parameter table for individual efficiencies  \n",
       "                             Output price      Electricity                   not tracking electricity price  \n",
       "                                               GHG                             not tracking hazardous waste  \n",
       "                                               Hazardous                       not tracking hazardous waste  \n",
       "                             Scale             NaN                                               no scaling  "
      ]
     },
     "execution_count": 44,
     "metadata": {},
     "output_type": "execute_result"
    }
   ],
   "source": [
    "designs.designs"
   ]
  },
  {
   "cell_type": "markdown",
   "metadata": {},
   "source": [
    "### The `parameters` table contains additional techno-economic parameters for each technology."
   ]
  },
  {
   "cell_type": "code",
   "execution_count": 45,
   "metadata": {},
   "outputs": [
    {
     "data": {
      "text/html": [
       "<div>\n",
       "<style scoped>\n",
       "    .dataframe tbody tr th:only-of-type {\n",
       "        vertical-align: middle;\n",
       "    }\n",
       "\n",
       "    .dataframe tbody tr th {\n",
       "        vertical-align: top;\n",
       "    }\n",
       "\n",
       "    .dataframe thead th {\n",
       "        text-align: right;\n",
       "    }\n",
       "</style>\n",
       "<table border=\"1\" class=\"dataframe\">\n",
       "  <thead>\n",
       "    <tr style=\"text-align: right;\">\n",
       "      <th></th>\n",
       "      <th></th>\n",
       "      <th></th>\n",
       "      <th>Value</th>\n",
       "      <th>Units</th>\n",
       "      <th>Notes</th>\n",
       "    </tr>\n",
       "    <tr>\n",
       "      <th>Technology</th>\n",
       "      <th>Scenario</th>\n",
       "      <th>Parameter</th>\n",
       "      <th></th>\n",
       "      <th></th>\n",
       "      <th></th>\n",
       "    </tr>\n",
       "  </thead>\n",
       "  <tbody>\n",
       "    <tr>\n",
       "      <th rowspan=\"48\" valign=\"top\">PV Generic</th>\n",
       "      <th rowspan=\"24\" valign=\"top\">Power Electronics</th>\n",
       "      <th>Benchmark LCOC</th>\n",
       "      <td>3392.154013</td>\n",
       "      <td>$/Wdc</td>\n",
       "      <td></td>\n",
       "    </tr>\n",
       "    <tr>\n",
       "      <th>Benchmark LCOE</th>\n",
       "      <td>0.106133</td>\n",
       "      <td>$/kWh</td>\n",
       "      <td></td>\n",
       "    </tr>\n",
       "    <tr>\n",
       "      <th>Customer Acquisition</th>\n",
       "      <td>st.triang(0.5, loc=2000, scale=0.2)</td>\n",
       "      <td>$/system</td>\n",
       "      <td>BCA</td>\n",
       "    </tr>\n",
       "    <tr>\n",
       "      <th>Direct Labor</th>\n",
       "      <td>st.triang(0.5, loc=2000, scale=0.2)</td>\n",
       "      <td>$/system</td>\n",
       "      <td>BLR</td>\n",
       "    </tr>\n",
       "    <tr>\n",
       "      <th>Discount Rate</th>\n",
       "      <td>0.07</td>\n",
       "      <td>1/year</td>\n",
       "      <td>DR</td>\n",
       "    </tr>\n",
       "    <tr>\n",
       "      <th>Greenhouse Gas Offset</th>\n",
       "      <td>-0.4490564e-3</td>\n",
       "      <td>gCO2e/kWh</td>\n",
       "      <td></td>\n",
       "    </tr>\n",
       "    <tr>\n",
       "      <th>Hardware Capital</th>\n",
       "      <td>st.triang(0.5, loc=80, scale=0.008)</td>\n",
       "      <td>$/m^2</td>\n",
       "      <td>BCC</td>\n",
       "    </tr>\n",
       "    <tr>\n",
       "      <th>Hazardous Waste Content</th>\n",
       "      <td>1830</td>\n",
       "      <td>g/m^2</td>\n",
       "      <td></td>\n",
       "    </tr>\n",
       "    <tr>\n",
       "      <th>Insolation</th>\n",
       "      <td>1000</td>\n",
       "      <td>W/m^2</td>\n",
       "      <td>INS</td>\n",
       "    </tr>\n",
       "    <tr>\n",
       "      <th>Installer Overhead &amp; Profit</th>\n",
       "      <td>st.triang(0.5, loc=0.35, scale=3.5e-5)</td>\n",
       "      <td>1</td>\n",
       "      <td>BOH</td>\n",
       "    </tr>\n",
       "    <tr>\n",
       "      <th>Inverter Capital</th>\n",
       "      <td>st.triang(0.5, loc=0.3, scale=3e-5)</td>\n",
       "      <td>$/W</td>\n",
       "      <td>ICC</td>\n",
       "    </tr>\n",
       "    <tr>\n",
       "      <th>Inverter Efficiency</th>\n",
       "      <td>st.triang(0.5, loc=0.9, scale=9e-5)</td>\n",
       "      <td>%/100</td>\n",
       "      <td>IEF</td>\n",
       "    </tr>\n",
       "    <tr>\n",
       "      <th>Inverter Lifetime</th>\n",
       "      <td>st.triang(0.5, loc=16, scale=0.0016)</td>\n",
       "      <td>yr</td>\n",
       "      <td>ILT</td>\n",
       "    </tr>\n",
       "    <tr>\n",
       "      <th>Inverter Replacement</th>\n",
       "      <td>st.triang(0.5, loc=0.5, scale=5e-5)</td>\n",
       "      <td>%/100</td>\n",
       "      <td>IRC</td>\n",
       "    </tr>\n",
       "    <tr>\n",
       "      <th>Location Capacity Factor</th>\n",
       "      <td>st.triang(0.5, loc=0.2, scale=2e-5)</td>\n",
       "      <td>%/100</td>\n",
       "      <td>MCF</td>\n",
       "    </tr>\n",
       "    <tr>\n",
       "      <th>Module Aperture</th>\n",
       "      <td>st.triang(0.5, loc=0.9, scale=9e-5)</td>\n",
       "      <td>%/100</td>\n",
       "      <td>MAP</td>\n",
       "    </tr>\n",
       "    <tr>\n",
       "      <th>Module Capital</th>\n",
       "      <td>st.triang(0.5, loc=110, scale=0.11)</td>\n",
       "      <td>$/m^2</td>\n",
       "      <td>MCC</td>\n",
       "    </tr>\n",
       "    <tr>\n",
       "      <th>Module Degradation</th>\n",
       "      <td>st.triang(0.5, loc=0.0075, scale=7.5e-7)</td>\n",
       "      <td>1/yr</td>\n",
       "      <td>MDR</td>\n",
       "    </tr>\n",
       "    <tr>\n",
       "      <th>Module Efficiency</th>\n",
       "      <td>st.triang(0.5, loc=0.16, scale=1.6e-5)</td>\n",
       "      <td>%/100</td>\n",
       "      <td>MEF</td>\n",
       "    </tr>\n",
       "    <tr>\n",
       "      <th>Module Lifetime</th>\n",
       "      <td>st.triang(0.5, loc=25, scale=0.0025)</td>\n",
       "      <td>yr</td>\n",
       "      <td>MLT</td>\n",
       "    </tr>\n",
       "    <tr>\n",
       "      <th>Module O&amp;M Fixed</th>\n",
       "      <td>st.triang(0.5, loc=20, scale=0.002)</td>\n",
       "      <td>$/kW/yr</td>\n",
       "      <td>MOM</td>\n",
       "    </tr>\n",
       "    <tr>\n",
       "      <th>Module Soiling Loss</th>\n",
       "      <td>st.triang(0.5, loc=0.05, scale=5e-6)</td>\n",
       "      <td>%/100</td>\n",
       "      <td>MSL</td>\n",
       "    </tr>\n",
       "    <tr>\n",
       "      <th>Permitting</th>\n",
       "      <td>st.triang(0.5, loc=600, scale=0.06)</td>\n",
       "      <td>$/system</td>\n",
       "      <td>BPR</td>\n",
       "    </tr>\n",
       "    <tr>\n",
       "      <th>System Size</th>\n",
       "      <td>36</td>\n",
       "      <td>m^2</td>\n",
       "      <td>SSZ</td>\n",
       "    </tr>\n",
       "    <tr>\n",
       "      <th rowspan=\"24\" valign=\"top\">Reference</th>\n",
       "      <th>Benchmark LCOC</th>\n",
       "      <td>0</td>\n",
       "      <td>$/Wdc</td>\n",
       "      <td></td>\n",
       "    </tr>\n",
       "    <tr>\n",
       "      <th>Benchmark LCOE</th>\n",
       "      <td>0</td>\n",
       "      <td>$/kWh</td>\n",
       "      <td></td>\n",
       "    </tr>\n",
       "    <tr>\n",
       "      <th>Customer Acquisition</th>\n",
       "      <td>2000</td>\n",
       "      <td>$/system</td>\n",
       "      <td>BCA</td>\n",
       "    </tr>\n",
       "    <tr>\n",
       "      <th>Direct Labor</th>\n",
       "      <td>2000</td>\n",
       "      <td>$/system</td>\n",
       "      <td>BLR</td>\n",
       "    </tr>\n",
       "    <tr>\n",
       "      <th>Discount Rate</th>\n",
       "      <td>0.07</td>\n",
       "      <td>1/year</td>\n",
       "      <td>DR</td>\n",
       "    </tr>\n",
       "    <tr>\n",
       "      <th>Greenhouse Gas Offset</th>\n",
       "      <td>-0.4490564e-3</td>\n",
       "      <td>gCO2e/kWh</td>\n",
       "      <td></td>\n",
       "    </tr>\n",
       "    <tr>\n",
       "      <th>Hardware Capital</th>\n",
       "      <td>80</td>\n",
       "      <td>$/m^2</td>\n",
       "      <td>BCC</td>\n",
       "    </tr>\n",
       "    <tr>\n",
       "      <th>Hazardous Waste Content</th>\n",
       "      <td>1830</td>\n",
       "      <td>g/m^2</td>\n",
       "      <td></td>\n",
       "    </tr>\n",
       "    <tr>\n",
       "      <th>Insolation</th>\n",
       "      <td>1000</td>\n",
       "      <td>W/m^2</td>\n",
       "      <td>INS</td>\n",
       "    </tr>\n",
       "    <tr>\n",
       "      <th>Installer Overhead &amp; Profit</th>\n",
       "      <td>0.35</td>\n",
       "      <td>1</td>\n",
       "      <td>BOH</td>\n",
       "    </tr>\n",
       "    <tr>\n",
       "      <th>Inverter Capital</th>\n",
       "      <td>0.3</td>\n",
       "      <td>$/W</td>\n",
       "      <td>ICC</td>\n",
       "    </tr>\n",
       "    <tr>\n",
       "      <th>Inverter Efficiency</th>\n",
       "      <td>0.9</td>\n",
       "      <td>%/100</td>\n",
       "      <td>IEF</td>\n",
       "    </tr>\n",
       "    <tr>\n",
       "      <th>Inverter Lifetime</th>\n",
       "      <td>16</td>\n",
       "      <td>yr</td>\n",
       "      <td>ILT</td>\n",
       "    </tr>\n",
       "    <tr>\n",
       "      <th>Inverter Replacement</th>\n",
       "      <td>0.5</td>\n",
       "      <td>%/100</td>\n",
       "      <td>IRC</td>\n",
       "    </tr>\n",
       "    <tr>\n",
       "      <th>Location Capacity Factor</th>\n",
       "      <td>0.2</td>\n",
       "      <td>%/100</td>\n",
       "      <td>MCF</td>\n",
       "    </tr>\n",
       "    <tr>\n",
       "      <th>Module Aperture</th>\n",
       "      <td>0.9</td>\n",
       "      <td>%/100</td>\n",
       "      <td>MAP</td>\n",
       "    </tr>\n",
       "    <tr>\n",
       "      <th>Module Capital</th>\n",
       "      <td>110</td>\n",
       "      <td>$/m^2</td>\n",
       "      <td>MCC</td>\n",
       "    </tr>\n",
       "    <tr>\n",
       "      <th>Module Degradation</th>\n",
       "      <td>0.0075</td>\n",
       "      <td>1/yr</td>\n",
       "      <td>MDR</td>\n",
       "    </tr>\n",
       "    <tr>\n",
       "      <th>Module Efficiency</th>\n",
       "      <td>0.16</td>\n",
       "      <td>%/100</td>\n",
       "      <td>MEF</td>\n",
       "    </tr>\n",
       "    <tr>\n",
       "      <th>Module Lifetime</th>\n",
       "      <td>25</td>\n",
       "      <td>yr</td>\n",
       "      <td>MLT</td>\n",
       "    </tr>\n",
       "    <tr>\n",
       "      <th>Module O&amp;M Fixed</th>\n",
       "      <td>20</td>\n",
       "      <td>$/kW/yr</td>\n",
       "      <td>MOM</td>\n",
       "    </tr>\n",
       "    <tr>\n",
       "      <th>Module Soiling Loss</th>\n",
       "      <td>0.05</td>\n",
       "      <td>%/100</td>\n",
       "      <td>MSL</td>\n",
       "    </tr>\n",
       "    <tr>\n",
       "      <th>Permitting</th>\n",
       "      <td>600</td>\n",
       "      <td>$/system</td>\n",
       "      <td>BPR</td>\n",
       "    </tr>\n",
       "    <tr>\n",
       "      <th>System Size</th>\n",
       "      <td>36</td>\n",
       "      <td>m^2</td>\n",
       "      <td>SSZ</td>\n",
       "    </tr>\n",
       "  </tbody>\n",
       "</table>\n",
       "</div>"
      ],
      "text/plain": [
       "                                                                                             Value  \\\n",
       "Technology Scenario          Parameter                                                               \n",
       "PV Generic Power Electronics Benchmark LCOC                                            3392.154013   \n",
       "                             Benchmark LCOE                                               0.106133   \n",
       "                             Customer Acquisition              st.triang(0.5, loc=2000, scale=0.2)   \n",
       "                             Direct Labor                      st.triang(0.5, loc=2000, scale=0.2)   \n",
       "                             Discount Rate                                                    0.07   \n",
       "                             Greenhouse Gas Offset                                   -0.4490564e-3   \n",
       "                             Hardware Capital                  st.triang(0.5, loc=80, scale=0.008)   \n",
       "                             Hazardous Waste Content                                          1830   \n",
       "                             Insolation                                                       1000   \n",
       "                             Installer Overhead & Profit    st.triang(0.5, loc=0.35, scale=3.5e-5)   \n",
       "                             Inverter Capital                  st.triang(0.5, loc=0.3, scale=3e-5)   \n",
       "                             Inverter Efficiency               st.triang(0.5, loc=0.9, scale=9e-5)   \n",
       "                             Inverter Lifetime                st.triang(0.5, loc=16, scale=0.0016)   \n",
       "                             Inverter Replacement              st.triang(0.5, loc=0.5, scale=5e-5)   \n",
       "                             Location Capacity Factor          st.triang(0.5, loc=0.2, scale=2e-5)   \n",
       "                             Module Aperture                   st.triang(0.5, loc=0.9, scale=9e-5)   \n",
       "                             Module Capital                    st.triang(0.5, loc=110, scale=0.11)   \n",
       "                             Module Degradation           st.triang(0.5, loc=0.0075, scale=7.5e-7)   \n",
       "                             Module Efficiency              st.triang(0.5, loc=0.16, scale=1.6e-5)   \n",
       "                             Module Lifetime                  st.triang(0.5, loc=25, scale=0.0025)   \n",
       "                             Module O&M Fixed                  st.triang(0.5, loc=20, scale=0.002)   \n",
       "                             Module Soiling Loss              st.triang(0.5, loc=0.05, scale=5e-6)   \n",
       "                             Permitting                        st.triang(0.5, loc=600, scale=0.06)   \n",
       "                             System Size                                                        36   \n",
       "           Reference         Benchmark LCOC                                                      0   \n",
       "                             Benchmark LCOE                                                      0   \n",
       "                             Customer Acquisition                                             2000   \n",
       "                             Direct Labor                                                     2000   \n",
       "                             Discount Rate                                                    0.07   \n",
       "                             Greenhouse Gas Offset                                   -0.4490564e-3   \n",
       "                             Hardware Capital                                                   80   \n",
       "                             Hazardous Waste Content                                          1830   \n",
       "                             Insolation                                                       1000   \n",
       "                             Installer Overhead & Profit                                      0.35   \n",
       "                             Inverter Capital                                                  0.3   \n",
       "                             Inverter Efficiency                                               0.9   \n",
       "                             Inverter Lifetime                                                  16   \n",
       "                             Inverter Replacement                                              0.5   \n",
       "                             Location Capacity Factor                                          0.2   \n",
       "                             Module Aperture                                                   0.9   \n",
       "                             Module Capital                                                    110   \n",
       "                             Module Degradation                                             0.0075   \n",
       "                             Module Efficiency                                                0.16   \n",
       "                             Module Lifetime                                                    25   \n",
       "                             Module O&M Fixed                                                   20   \n",
       "                             Module Soiling Loss                                              0.05   \n",
       "                             Permitting                                                        600   \n",
       "                             System Size                                                        36   \n",
       "\n",
       "                                                              Units Notes  \n",
       "Technology Scenario          Parameter                                     \n",
       "PV Generic Power Electronics Benchmark LCOC                   $/Wdc        \n",
       "                             Benchmark LCOE                   $/kWh        \n",
       "                             Customer Acquisition          $/system   BCA  \n",
       "                             Direct Labor                  $/system   BLR  \n",
       "                             Discount Rate                   1/year    DR  \n",
       "                             Greenhouse Gas Offset        gCO2e/kWh        \n",
       "                             Hardware Capital                 $/m^2   BCC  \n",
       "                             Hazardous Waste Content          g/m^2        \n",
       "                             Insolation                       W/m^2   INS  \n",
       "                             Installer Overhead & Profit          1   BOH  \n",
       "                             Inverter Capital                   $/W   ICC  \n",
       "                             Inverter Efficiency              %/100   IEF  \n",
       "                             Inverter Lifetime                   yr   ILT  \n",
       "                             Inverter Replacement             %/100   IRC  \n",
       "                             Location Capacity Factor         %/100   MCF  \n",
       "                             Module Aperture                  %/100   MAP  \n",
       "                             Module Capital                   $/m^2   MCC  \n",
       "                             Module Degradation                1/yr   MDR  \n",
       "                             Module Efficiency                %/100   MEF  \n",
       "                             Module Lifetime                     yr   MLT  \n",
       "                             Module O&M Fixed               $/kW/yr   MOM  \n",
       "                             Module Soiling Loss              %/100   MSL  \n",
       "                             Permitting                    $/system   BPR  \n",
       "                             System Size                        m^2   SSZ  \n",
       "           Reference         Benchmark LCOC                   $/Wdc        \n",
       "                             Benchmark LCOE                   $/kWh        \n",
       "                             Customer Acquisition          $/system   BCA  \n",
       "                             Direct Labor                  $/system   BLR  \n",
       "                             Discount Rate                   1/year    DR  \n",
       "                             Greenhouse Gas Offset        gCO2e/kWh        \n",
       "                             Hardware Capital                 $/m^2   BCC  \n",
       "                             Hazardous Waste Content          g/m^2        \n",
       "                             Insolation                       W/m^2   INS  \n",
       "                             Installer Overhead & Profit          1   BOH  \n",
       "                             Inverter Capital                   $/W   ICC  \n",
       "                             Inverter Efficiency              %/100   IEF  \n",
       "                             Inverter Lifetime                   yr   ILT  \n",
       "                             Inverter Replacement             %/100   IRC  \n",
       "                             Location Capacity Factor         %/100   MCF  \n",
       "                             Module Aperture                  %/100   MAP  \n",
       "                             Module Capital                   $/m^2   MCC  \n",
       "                             Module Degradation                1/yr   MDR  \n",
       "                             Module Efficiency                %/100   MEF  \n",
       "                             Module Lifetime                     yr   MLT  \n",
       "                             Module O&M Fixed               $/kW/yr   MOM  \n",
       "                             Module Soiling Loss              %/100   MSL  \n",
       "                             Permitting                    $/system   BPR  \n",
       "                             System Size                        m^2   SSZ  "
      ]
     },
     "execution_count": 45,
     "metadata": {},
     "output_type": "execute_result"
    }
   ],
   "source": [
    "designs.parameters.drop(\"Offset\", axis = 1)"
   ]
  },
  {
   "cell_type": "markdown",
   "metadata": {},
   "source": [
    "### The `results` table specifies the units of measure for results of computations."
   ]
  },
  {
   "cell_type": "code",
   "execution_count": 46,
   "metadata": {},
   "outputs": [
    {
     "data": {
      "text/html": [
       "<div>\n",
       "<style scoped>\n",
       "    .dataframe tbody tr th:only-of-type {\n",
       "        vertical-align: middle;\n",
       "    }\n",
       "\n",
       "    .dataframe tbody tr th {\n",
       "        vertical-align: top;\n",
       "    }\n",
       "\n",
       "    .dataframe thead th {\n",
       "        text-align: right;\n",
       "    }\n",
       "</style>\n",
       "<table border=\"1\" class=\"dataframe\">\n",
       "  <thead>\n",
       "    <tr style=\"text-align: right;\">\n",
       "      <th></th>\n",
       "      <th></th>\n",
       "      <th></th>\n",
       "      <th>Units</th>\n",
       "      <th>Notes</th>\n",
       "    </tr>\n",
       "    <tr>\n",
       "      <th>Technology</th>\n",
       "      <th>Variable</th>\n",
       "      <th>Index</th>\n",
       "      <th></th>\n",
       "      <th></th>\n",
       "    </tr>\n",
       "  </thead>\n",
       "  <tbody>\n",
       "    <tr>\n",
       "      <th rowspan=\"12\" valign=\"top\">PV Generic</th>\n",
       "      <th>Cost</th>\n",
       "      <th>Cost</th>\n",
       "      <td>$/system</td>\n",
       "      <td></td>\n",
       "    </tr>\n",
       "    <tr>\n",
       "      <th rowspan=\"8\" valign=\"top\">Metric</th>\n",
       "      <th>Efficiency</th>\n",
       "      <td>%/100</td>\n",
       "      <td></td>\n",
       "    </tr>\n",
       "    <tr>\n",
       "      <th>GHG</th>\n",
       "      <td>ΔgCO2e/system</td>\n",
       "      <td></td>\n",
       "    </tr>\n",
       "    <tr>\n",
       "      <th>Hazardous</th>\n",
       "      <td>g/kWh</td>\n",
       "      <td></td>\n",
       "    </tr>\n",
       "    <tr>\n",
       "      <th>LCOC</th>\n",
       "      <td>Δ$/Wdc</td>\n",
       "      <td></td>\n",
       "    </tr>\n",
       "    <tr>\n",
       "      <th>LCOE</th>\n",
       "      <td>Δ$/kWh</td>\n",
       "      <td></td>\n",
       "    </tr>\n",
       "    <tr>\n",
       "      <th>Lifetime</th>\n",
       "      <td>yr</td>\n",
       "      <td></td>\n",
       "    </tr>\n",
       "    <tr>\n",
       "      <th>Strategic</th>\n",
       "      <td>g/kWh</td>\n",
       "      <td></td>\n",
       "    </tr>\n",
       "    <tr>\n",
       "      <th>Yield</th>\n",
       "      <td>hr/yr</td>\n",
       "      <td></td>\n",
       "    </tr>\n",
       "    <tr>\n",
       "      <th rowspan=\"3\" valign=\"top\">Output</th>\n",
       "      <th>Electricity</th>\n",
       "      <td>kWh/system</td>\n",
       "      <td></td>\n",
       "    </tr>\n",
       "    <tr>\n",
       "      <th>GHG</th>\n",
       "      <td>ΔgCO2e/system</td>\n",
       "      <td></td>\n",
       "    </tr>\n",
       "    <tr>\n",
       "      <th>Hazardous</th>\n",
       "      <td>g/system</td>\n",
       "      <td></td>\n",
       "    </tr>\n",
       "  </tbody>\n",
       "</table>\n",
       "</div>"
      ],
      "text/plain": [
       "                                         Units Notes\n",
       "Technology Variable Index                           \n",
       "PV Generic Cost     Cost              $/system      \n",
       "           Metric   Efficiency           %/100      \n",
       "                    GHG          ΔgCO2e/system      \n",
       "                    Hazardous            g/kWh      \n",
       "                    LCOC                Δ$/Wdc      \n",
       "                    LCOE                Δ$/kWh      \n",
       "                    Lifetime                yr      \n",
       "                    Strategic            g/kWh      \n",
       "                    Yield                hr/yr      \n",
       "           Output   Electricity     kWh/system      \n",
       "                    GHG          ΔgCO2e/system      \n",
       "                    Hazardous         g/system      "
      ]
     },
     "execution_count": 46,
     "metadata": {},
     "output_type": "execute_result"
    }
   ],
   "source": [
    "designs.results"
   ]
  },
  {
   "cell_type": "markdown",
   "metadata": {},
   "source": [
    "### The `tranches` table specifies multually exclusive possibilities for investments: only one `Tranch` may be selected for each `Category`."
   ]
  },
  {
   "cell_type": "code",
   "execution_count": 47,
   "metadata": {},
   "outputs": [
    {
     "data": {
      "text/html": [
       "<div>\n",
       "<style scoped>\n",
       "    .dataframe tbody tr th:only-of-type {\n",
       "        vertical-align: middle;\n",
       "    }\n",
       "\n",
       "    .dataframe tbody tr th {\n",
       "        vertical-align: top;\n",
       "    }\n",
       "\n",
       "    .dataframe thead th {\n",
       "        text-align: right;\n",
       "    }\n",
       "</style>\n",
       "<table border=\"1\" class=\"dataframe\">\n",
       "  <thead>\n",
       "    <tr style=\"text-align: right;\">\n",
       "      <th></th>\n",
       "      <th></th>\n",
       "      <th></th>\n",
       "      <th>Amount</th>\n",
       "      <th>Notes</th>\n",
       "    </tr>\n",
       "    <tr>\n",
       "      <th>Category</th>\n",
       "      <th>Tranche</th>\n",
       "      <th>Scenario</th>\n",
       "      <th></th>\n",
       "      <th></th>\n",
       "    </tr>\n",
       "  </thead>\n",
       "  <tbody>\n",
       "  </tbody>\n",
       "</table>\n",
       "</div>"
      ],
      "text/plain": [
       "Empty DataFrame\n",
       "Columns: [Amount, Notes]\n",
       "Index: []"
      ]
     },
     "execution_count": 47,
     "metadata": {},
     "output_type": "execute_result"
    }
   ],
   "source": [
    "investments.tranches"
   ]
  },
  {
   "cell_type": "markdown",
   "metadata": {},
   "source": [
    "### The `investments` table bundles a consistent set of tranches (one per category) into an overall investment."
   ]
  },
  {
   "cell_type": "code",
   "execution_count": 48,
   "metadata": {},
   "outputs": [
    {
     "data": {
      "text/html": [
       "<div>\n",
       "<style scoped>\n",
       "    .dataframe tbody tr th:only-of-type {\n",
       "        vertical-align: middle;\n",
       "    }\n",
       "\n",
       "    .dataframe tbody tr th {\n",
       "        vertical-align: top;\n",
       "    }\n",
       "\n",
       "    .dataframe thead th {\n",
       "        text-align: right;\n",
       "    }\n",
       "</style>\n",
       "<table border=\"1\" class=\"dataframe\">\n",
       "  <thead>\n",
       "    <tr style=\"text-align: right;\">\n",
       "      <th></th>\n",
       "      <th></th>\n",
       "      <th></th>\n",
       "      <th>Notes</th>\n",
       "    </tr>\n",
       "    <tr>\n",
       "      <th>Investment</th>\n",
       "      <th>Category</th>\n",
       "      <th>Tranche</th>\n",
       "      <th></th>\n",
       "    </tr>\n",
       "  </thead>\n",
       "  <tbody>\n",
       "  </tbody>\n",
       "</table>\n",
       "</div>"
      ],
      "text/plain": [
       "Empty DataFrame\n",
       "Columns: [Notes]\n",
       "Index: []"
      ]
     },
     "execution_count": 48,
     "metadata": {},
     "output_type": "execute_result"
    }
   ],
   "source": [
    "investments.investments"
   ]
  },
  {
   "cell_type": "markdown",
   "metadata": {},
   "source": [
    "## Evaluate the scenarios in the dataset."
   ]
  },
  {
   "cell_type": "code",
   "execution_count": 49,
   "metadata": {
    "scrolled": false
   },
   "outputs": [],
   "source": [
    "scenario_results = designs.evaluate_scenarios(sample_count=50000)"
   ]
  },
  {
   "cell_type": "code",
   "execution_count": 50,
   "metadata": {},
   "outputs": [
    {
     "data": {
      "text/html": [
       "<div>\n",
       "<style scoped>\n",
       "    .dataframe tbody tr th:only-of-type {\n",
       "        vertical-align: middle;\n",
       "    }\n",
       "\n",
       "    .dataframe tbody tr th {\n",
       "        vertical-align: top;\n",
       "    }\n",
       "\n",
       "    .dataframe thead th {\n",
       "        text-align: right;\n",
       "    }\n",
       "</style>\n",
       "<table border=\"1\" class=\"dataframe\">\n",
       "  <thead>\n",
       "    <tr style=\"text-align: right;\">\n",
       "      <th></th>\n",
       "      <th></th>\n",
       "      <th></th>\n",
       "      <th></th>\n",
       "      <th>Value</th>\n",
       "    </tr>\n",
       "    <tr>\n",
       "      <th>Technology</th>\n",
       "      <th>Scenario</th>\n",
       "      <th>Variable</th>\n",
       "      <th>Index</th>\n",
       "      <th></th>\n",
       "    </tr>\n",
       "  </thead>\n",
       "  <tbody>\n",
       "    <tr>\n",
       "      <th rowspan=\"24\" valign=\"top\">PV Generic</th>\n",
       "      <th rowspan=\"12\" valign=\"top\">Power Electronics</th>\n",
       "      <th>Cost</th>\n",
       "      <th>Cost</th>\n",
       "      <td>19537.233485</td>\n",
       "    </tr>\n",
       "    <tr>\n",
       "      <th rowspan=\"8\" valign=\"top\">Metric</th>\n",
       "      <th>Efficiency</th>\n",
       "      <td>0.160010</td>\n",
       "    </tr>\n",
       "    <tr>\n",
       "      <th>GHG</th>\n",
       "      <td>-0.000449</td>\n",
       "    </tr>\n",
       "    <tr>\n",
       "      <th>Hazardous</th>\n",
       "      <td>0.357833</td>\n",
       "    </tr>\n",
       "    <tr>\n",
       "      <th>LCOC</th>\n",
       "      <td>0.488352</td>\n",
       "    </tr>\n",
       "    <tr>\n",
       "      <th>LCOE</th>\n",
       "      <td>0.000015</td>\n",
       "    </tr>\n",
       "    <tr>\n",
       "      <th>Lifetime</th>\n",
       "      <td>25.000984</td>\n",
       "    </tr>\n",
       "    <tr>\n",
       "      <th>Strategic</th>\n",
       "      <td>0.000000</td>\n",
       "    </tr>\n",
       "    <tr>\n",
       "      <th>Yield</th>\n",
       "      <td>1278.396540</td>\n",
       "    </tr>\n",
       "    <tr>\n",
       "      <th rowspan=\"3\" valign=\"top\">Output</th>\n",
       "      <th>Electricity</th>\n",
       "      <td>184108.029329</td>\n",
       "    </tr>\n",
       "    <tr>\n",
       "      <th>GHG</th>\n",
       "      <td>-82.674889</td>\n",
       "    </tr>\n",
       "    <tr>\n",
       "      <th>Hazardous</th>\n",
       "      <td>65880.000000</td>\n",
       "    </tr>\n",
       "    <tr>\n",
       "      <th rowspan=\"12\" valign=\"top\">Reference</th>\n",
       "      <th>Cost</th>\n",
       "      <th>Cost</th>\n",
       "      <td>19535.570462</td>\n",
       "    </tr>\n",
       "    <tr>\n",
       "      <th rowspan=\"8\" valign=\"top\">Metric</th>\n",
       "      <th>Efficiency</th>\n",
       "      <td>0.160000</td>\n",
       "    </tr>\n",
       "    <tr>\n",
       "      <th>GHG</th>\n",
       "      <td>-0.000449</td>\n",
       "    </tr>\n",
       "    <tr>\n",
       "      <th>Hazardous</th>\n",
       "      <td>0.357925</td>\n",
       "    </tr>\n",
       "    <tr>\n",
       "      <th>LCOC</th>\n",
       "      <td>-3391.592094</td>\n",
       "    </tr>\n",
       "    <tr>\n",
       "      <th>LCOE</th>\n",
       "      <td>-0.106136</td>\n",
       "    </tr>\n",
       "    <tr>\n",
       "      <th>Lifetime</th>\n",
       "      <td>25.000000</td>\n",
       "    </tr>\n",
       "    <tr>\n",
       "      <th>Strategic</th>\n",
       "      <td>0.000000</td>\n",
       "    </tr>\n",
       "    <tr>\n",
       "      <th>Yield</th>\n",
       "      <td>1278.202148</td>\n",
       "    </tr>\n",
       "    <tr>\n",
       "      <th rowspan=\"3\" valign=\"top\">Output</th>\n",
       "      <th>Electricity</th>\n",
       "      <td>184061.109358</td>\n",
       "    </tr>\n",
       "    <tr>\n",
       "      <th>GHG</th>\n",
       "      <td>-82.653819</td>\n",
       "    </tr>\n",
       "    <tr>\n",
       "      <th>Hazardous</th>\n",
       "      <td>65880.000000</td>\n",
       "    </tr>\n",
       "  </tbody>\n",
       "</table>\n",
       "</div>"
      ],
      "text/plain": [
       "                                                           Value\n",
       "Technology Scenario          Variable Index                     \n",
       "PV Generic Power Electronics Cost     Cost          19537.233485\n",
       "                             Metric   Efficiency        0.160010\n",
       "                                      GHG              -0.000449\n",
       "                                      Hazardous         0.357833\n",
       "                                      LCOC              0.488352\n",
       "                                      LCOE              0.000015\n",
       "                                      Lifetime         25.000984\n",
       "                                      Strategic         0.000000\n",
       "                                      Yield          1278.396540\n",
       "                             Output   Electricity  184108.029329\n",
       "                                      GHG             -82.674889\n",
       "                                      Hazardous     65880.000000\n",
       "           Reference         Cost     Cost          19535.570462\n",
       "                             Metric   Efficiency        0.160000\n",
       "                                      GHG              -0.000449\n",
       "                                      Hazardous         0.357925\n",
       "                                      LCOC          -3391.592094\n",
       "                                      LCOE             -0.106136\n",
       "                                      Lifetime         25.000000\n",
       "                                      Strategic         0.000000\n",
       "                                      Yield          1278.202148\n",
       "                             Output   Electricity  184061.109358\n",
       "                                      GHG             -82.653819\n",
       "                                      Hazardous     65880.000000"
      ]
     },
     "execution_count": 50,
     "metadata": {},
     "output_type": "execute_result"
    }
   ],
   "source": [
    "scenario_results.xs(1, level=\"Sample\", drop_level=False).groupby([\"Technology\", \"Scenario\", \"Variable\", \"Index\"]).aggregate(np.mean)"
   ]
  },
  {
   "cell_type": "markdown",
   "metadata": {},
   "source": [
    "### Save results."
   ]
  },
  {
   "cell_type": "code",
   "execution_count": null,
   "metadata": {},
   "outputs": [],
   "source": [
    "scenario_results.to_csv(\"output/example-scenario.csv\")"
   ]
  },
  {
   "cell_type": "markdown",
   "metadata": {},
   "source": [
    "### Plot GHG metric."
   ]
  },
  {
   "cell_type": "code",
   "execution_count": null,
   "metadata": {
    "scrolled": true
   },
   "outputs": [],
   "source": [
    "g = sb.boxplot(\n",
    "    x=\"Scenario\",\n",
    "    y=\"Value\",\n",
    "    data=scenario_results.xs(\n",
    "        [\"Metric\", \"GHG\"],\n",
    "        level=[\"Variable\", \"Index\"]\n",
    "    ).reset_index()[[\"Scenario\", \"Value\"]],\n",
    "    order=[\n",
    "        \"2015 Actual\"              ,\n",
    "        \"Module Slow Progress\"      ,\n",
    "        \"Module Moderate Progress\"  ,\n",
    "        \"Module Fast Progress\"      ,\n",
    "        \"Inverter Slow Progress\"    ,\n",
    "        \"Inverter Moderate Progress\",\n",
    "        \"Inverter Fast Progress\"    ,\n",
    "        \"BoS Slow Progress\"         ,\n",
    "        \"BoS Moderate Progress\"     ,\n",
    "        \"BoS Fast Progress\"         ,\n",
    "    ]\n",
    ")\n",
    "g.set(ylabel=\"GHG Reduction [gCO2e / system]\")\n",
    "g.set_xticklabels(g.get_xticklabels(), rotation=30);"
   ]
  },
  {
   "cell_type": "markdown",
   "metadata": {},
   "source": [
    "### Plot LCOE metric."
   ]
  },
  {
   "cell_type": "code",
   "execution_count": null,
   "metadata": {},
   "outputs": [],
   "source": [
    "g = sb.boxplot(\n",
    "    x=\"Scenario\",\n",
    "    y=\"Value\",\n",
    "    data=scenario_results.xs(\n",
    "        [\"Metric\", \"LCOE\"],\n",
    "        level=[\"Variable\", \"Index\"]\n",
    "    ).reset_index()[[\"Scenario\", \"Value\"]],\n",
    "    order=[\n",
    "        \"2015 Actual\"              ,\n",
    "        \"Module Slow Progress\"      ,\n",
    "        \"Module Moderate Progress\"  ,\n",
    "        \"Module Fast Progress\"      ,\n",
    "        \"Inverter Slow Progress\"    ,\n",
    "        \"Inverter Moderate Progress\",\n",
    "        \"Inverter Fast Progress\"    ,\n",
    "        \"BoS Slow Progress\"         ,\n",
    "        \"BoS Moderate Progress\"     ,\n",
    "        \"BoS Fast Progress\"         ,\n",
    "    ]\n",
    ")\n",
    "g.set(ylabel=\"LCOE Reduction [USD / kWh]\")\n",
    "g.set_xticklabels(g.get_xticklabels(), rotation=30);"
   ]
  },
  {
   "cell_type": "markdown",
   "metadata": {},
   "source": [
    "### Plot labor metric."
   ]
  },
  {
   "cell_type": "code",
   "execution_count": null,
   "metadata": {},
   "outputs": [],
   "source": [
    "g = sb.boxplot(\n",
    "    x=\"Scenario\",\n",
    "    y=\"Value\",\n",
    "    data=scenario_results.xs(\n",
    "        [\"Metric\", \"Labor\"],\n",
    "        level=[\"Variable\", \"Index\"]\n",
    "    ).reset_index()[[\"Scenario\", \"Value\"]],\n",
    "    order=[\n",
    "        \"2015 Actual\"              ,\n",
    "        \"Module Slow Progress\"      ,\n",
    "        \"Module Moderate Progress\"  ,\n",
    "        \"Module Fast Progress\"      ,\n",
    "        \"Inverter Slow Progress\"    ,\n",
    "        \"Inverter Moderate Progress\",\n",
    "        \"Inverter Fast Progress\"    ,\n",
    "        \"BoS Slow Progress\"         ,\n",
    "        \"BoS Moderate Progress\"     ,\n",
    "        \"BoS Fast Progress\"         ,\n",
    "    ]\n",
    ")\n",
    "g.set(ylabel=\"Labor Increase [USD / system]\")\n",
    "g.set_xticklabels(g.get_xticklabels(), rotation=15);"
   ]
  },
  {
   "cell_type": "markdown",
   "metadata": {},
   "source": [
    "## Evaluate the investments in the dataset."
   ]
  },
  {
   "cell_type": "code",
   "execution_count": null,
   "metadata": {},
   "outputs": [],
   "source": [
    "investment_results = investments.evaluate_investments(designs, sample_count=50)"
   ]
  },
  {
   "cell_type": "markdown",
   "metadata": {},
   "source": [
    "### Costs of investments."
   ]
  },
  {
   "cell_type": "code",
   "execution_count": null,
   "metadata": {},
   "outputs": [],
   "source": [
    "investment_results.amounts"
   ]
  },
  {
   "cell_type": "markdown",
   "metadata": {},
   "source": [
    "### Benefits of investments."
   ]
  },
  {
   "cell_type": "code",
   "execution_count": null,
   "metadata": {},
   "outputs": [],
   "source": [
    "investment_results.metrics.xs(1, level=\"Sample\", drop_level=False)"
   ]
  },
  {
   "cell_type": "code",
   "execution_count": null,
   "metadata": {},
   "outputs": [],
   "source": [
    "investment_results.summary.xs(1, level=\"Sample\", drop_level=False)"
   ]
  },
  {
   "cell_type": "markdown",
   "metadata": {},
   "source": [
    "### Save results."
   ]
  },
  {
   "cell_type": "code",
   "execution_count": null,
   "metadata": {},
   "outputs": [],
   "source": [
    "investment_results.amounts.to_csv(\"output/residential_pv_multiobjective/example-investment-amounts.csv\")"
   ]
  },
  {
   "cell_type": "code",
   "execution_count": null,
   "metadata": {},
   "outputs": [],
   "source": [
    "investment_results.metrics.to_csv(\"output/residential_pv_multiobjective/example-investment-metrics.csv\")"
   ]
  },
  {
   "cell_type": "markdown",
   "metadata": {},
   "source": [
    "### Plot GHG metric."
   ]
  },
  {
   "cell_type": "code",
   "execution_count": null,
   "metadata": {
    "scrolled": false
   },
   "outputs": [],
   "source": [
    "g = sb.boxplot(\n",
    "    x=\"Investment\",\n",
    "    y=\"Value\",\n",
    "    data=investment_results.metrics.xs(\n",
    "        \"GHG\",\n",
    "        level=\"Index\"\n",
    "    ).reset_index()[[\"Investment\", \"Value\"]],\n",
    "    order=[\n",
    "        \"Low R&D\"   ,\n",
    "        \"Medium R&D\",\n",
    "        \"High R&D\"  ,\n",
    "    ]\n",
    ")\n",
    "g.set(ylabel=\"GHG Reduction [gCO2e / system]\")\n",
    "g.set_xticklabels(g.get_xticklabels(), rotation=15);"
   ]
  },
  {
   "cell_type": "markdown",
   "metadata": {},
   "source": [
    "### Plot LCOE metric."
   ]
  },
  {
   "cell_type": "code",
   "execution_count": null,
   "metadata": {},
   "outputs": [],
   "source": [
    "g = sb.boxplot(\n",
    "    x=\"Investment\",\n",
    "    y=\"Value\",\n",
    "    data=investment_results.metrics.xs(\n",
    "        \"LCOE\",\n",
    "        level=\"Index\"\n",
    "    ).reset_index()[[\"Investment\", \"Value\"]],\n",
    "    order=[\n",
    "        \"Low R&D\"   ,\n",
    "        \"Medium R&D\",\n",
    "        \"High R&D\"  ,\n",
    "    ]\n",
    ")\n",
    "g.set(ylabel=\"LCOE Reduction [USD / kWh]\")\n",
    "g.set_xticklabels(g.get_xticklabels(), rotation=15);"
   ]
  },
  {
   "cell_type": "markdown",
   "metadata": {},
   "source": [
    "### Plot labor metric."
   ]
  },
  {
   "cell_type": "code",
   "execution_count": null,
   "metadata": {},
   "outputs": [],
   "source": [
    "g = sb.boxplot(\n",
    "    x=\"Investment\",\n",
    "    y=\"Value\",\n",
    "    data=investment_results.metrics.xs(\n",
    "        \"Labor\",\n",
    "        level=\"Index\"\n",
    "    ).reset_index()[[\"Investment\", \"Value\"]],\n",
    "    order=[\n",
    "        \"Low R&D\"   ,\n",
    "        \"Medium R&D\",\n",
    "        \"High R&D\"  ,\n",
    "    ]\n",
    ")\n",
    "g.set(ylabel=\"Labor Increase [USD / system]\")\n",
    "g.set_xticklabels(g.get_xticklabels(), rotation=15);"
   ]
  },
  {
   "cell_type": "markdown",
   "metadata": {},
   "source": [
    "## Multi-objective decision analysis."
   ]
  },
  {
   "cell_type": "markdown",
   "metadata": {},
   "source": [
    "### Compute costs and metrics for tranches."
   ]
  },
  {
   "cell_type": "markdown",
   "metadata": {},
   "source": [
    "Tranches are atomic units for building investment portfolios. Evaluate all of the tranches, so we can assemble them into investments (portfolios)."
   ]
  },
  {
   "cell_type": "code",
   "execution_count": null,
   "metadata": {},
   "outputs": [],
   "source": [
    "tranche_results = investments.evaluate_tranches(designs, sample_count=50)"
   ]
  },
  {
   "cell_type": "markdown",
   "metadata": {},
   "source": [
    "Display the cost of each tranche."
   ]
  },
  {
   "cell_type": "code",
   "execution_count": null,
   "metadata": {},
   "outputs": [],
   "source": [
    "tranche_results.amounts"
   ]
  },
  {
   "cell_type": "markdown",
   "metadata": {},
   "source": [
    "Display the metrics for each tranche."
   ]
  },
  {
   "cell_type": "code",
   "execution_count": null,
   "metadata": {},
   "outputs": [],
   "source": [
    "tranche_results.summary"
   ]
  },
  {
   "cell_type": "markdown",
   "metadata": {},
   "source": [
    "Save the results."
   ]
  },
  {
   "cell_type": "code",
   "execution_count": null,
   "metadata": {},
   "outputs": [],
   "source": [
    "tranche_results.amounts.to_csv(\"output/residential_pv_multiobjective/example-tranche-amounts.csv\")\n",
    "tranche_results.summary.to_csv(\"output/residential_pv_multiobjective/example-tranche-summary.csv\")"
   ]
  },
  {
   "cell_type": "markdown",
   "metadata": {},
   "source": [
    "### Fit a response surface to the results."
   ]
  },
  {
   "cell_type": "markdown",
   "metadata": {},
   "source": [
    "The response surface interpolates between the discrete set of cases provided in the expert elicitation. This allows us to study funding levels intermediate between those scenarios."
   ]
  },
  {
   "cell_type": "code",
   "execution_count": null,
   "metadata": {},
   "outputs": [],
   "source": [
    "evaluator = ty.Evaluator(investments.tranches, tranche_results.summary)"
   ]
  },
  {
   "cell_type": "markdown",
   "metadata": {},
   "source": [
    "Here are the categories of investment and the maximum amount that could be invested in each:"
   ]
  },
  {
   "cell_type": "code",
   "execution_count": null,
   "metadata": {},
   "outputs": [],
   "source": [
    "evaluator.max_amount"
   ]
  },
  {
   "cell_type": "markdown",
   "metadata": {},
   "source": [
    "Here are the metrics and their units of measure:"
   ]
  },
  {
   "cell_type": "code",
   "execution_count": null,
   "metadata": {},
   "outputs": [],
   "source": [
    "evaluator.units"
   ]
  },
  {
   "cell_type": "markdown",
   "metadata": {},
   "source": [
    "#### Example interpolation."
   ]
  },
  {
   "cell_type": "markdown",
   "metadata": {},
   "source": [
    "Let's evaluate the case where each category is invested in at half of its maximum amount."
   ]
  },
  {
   "cell_type": "code",
   "execution_count": null,
   "metadata": {},
   "outputs": [],
   "source": [
    "example_investments = evaluator.max_amount / 2\n",
    "example_investments"
   ]
  },
  {
   "cell_type": "code",
   "execution_count": null,
   "metadata": {},
   "outputs": [],
   "source": [
    "evaluator.evaluate(example_investments)"
   ]
  },
  {
   "cell_type": "markdown",
   "metadata": {},
   "source": [
    "Let's evaluate the mean instead of outputing the whole distribution."
   ]
  },
  {
   "cell_type": "code",
   "execution_count": null,
   "metadata": {},
   "outputs": [],
   "source": [
    "evaluator.evaluate_statistic(example_investments, np.mean)"
   ]
  },
  {
   "cell_type": "markdown",
   "metadata": {},
   "source": [
    "Here is the standard deviation:"
   ]
  },
  {
   "cell_type": "code",
   "execution_count": null,
   "metadata": {},
   "outputs": [],
   "source": [
    "evaluator.evaluate_statistic(example_investments, np.std)"
   ]
  },
  {
   "cell_type": "markdown",
   "metadata": {},
   "source": [
    "A risk-averse decision maker might be interested in the 10% percentile:"
   ]
  },
  {
   "cell_type": "code",
   "execution_count": null,
   "metadata": {},
   "outputs": [],
   "source": [
    "evaluator.evaluate_statistic(example_investments, lambda x: np.quantile(x, 0.1))"
   ]
  },
  {
   "cell_type": "markdown",
   "metadata": {},
   "source": [
    "### ε-Constraint multiobjective optimization"
   ]
  },
  {
   "cell_type": "code",
   "execution_count": null,
   "metadata": {},
   "outputs": [],
   "source": [
    "optimizer = ty.EpsilonConstraintOptimizer(evaluator)"
   ]
  },
  {
   "cell_type": "markdown",
   "metadata": {},
   "source": [
    "In order to meaningfully map the decision space, we need to know the maximum values for each of the metrics."
   ]
  },
  {
   "cell_type": "code",
   "execution_count": null,
   "metadata": {},
   "outputs": [],
   "source": [
    "metric_max = optimizer.max_metrics()\n",
    "metric_max"
   ]
  },
  {
   "cell_type": "markdown",
   "metadata": {},
   "source": [
    "#### Example optimization."
   ]
  },
  {
   "cell_type": "markdown",
   "metadata": {},
   "source": [
    "Limit spending to $3M."
   ]
  },
  {
   "cell_type": "code",
   "execution_count": null,
   "metadata": {},
   "outputs": [],
   "source": [
    "investment_max = 3e6"
   ]
  },
  {
   "cell_type": "markdown",
   "metadata": {},
   "source": [
    "Require that the GHG reduction be at least 40 gCO2e/system and that the Labor wages not decrease."
   ]
  },
  {
   "cell_type": "code",
   "execution_count": null,
   "metadata": {},
   "outputs": [],
   "source": [
    "metric_min = pd.Series([40, 0], name = \"Value\", index = [\"GHG\", \"Labor\"])\n",
    "metric_min"
   ]
  },
  {
   "cell_type": "markdown",
   "metadata": {},
   "source": [
    "Compute the ε-constrained maximum for the LCOE."
   ]
  },
  {
   "cell_type": "code",
   "execution_count": null,
   "metadata": {},
   "outputs": [],
   "source": [
    "optimum = optimizer.maximize(\n",
    "    \"LCOE\"                       ,\n",
    "    total_amount = investment_max,\n",
    "    min_metric   = metric_min    ,\n",
    "    statistic    = np.mean       ,\n",
    ")\n",
    "optimum.exit_message"
   ]
  },
  {
   "cell_type": "markdown",
   "metadata": {},
   "source": [
    "Here are the optimal spending levels:"
   ]
  },
  {
   "cell_type": "code",
   "execution_count": null,
   "metadata": {},
   "outputs": [],
   "source": [
    "np.round(optimum.amounts)"
   ]
  },
  {
   "cell_type": "markdown",
   "metadata": {},
   "source": [
    "Here are the three metrics at that optimum:"
   ]
  },
  {
   "cell_type": "code",
   "execution_count": null,
   "metadata": {},
   "outputs": [],
   "source": [
    "optimum.metrics"
   ]
  },
  {
   "cell_type": "markdown",
   "metadata": {},
   "source": [
    "*Thus, by putting all of the investment into Module R&D, we can expected to achieve a mean 3.75 ¢/kWh reduction in LCOE under the GHG and Labor constraints.*"
   ]
  },
  {
   "cell_type": "markdown",
   "metadata": {},
   "source": [
    "It turns out that there is no solution for these constraints if we evaluate the 10th percentile of the metrics, for a risk-averse decision maker."
   ]
  },
  {
   "cell_type": "code",
   "execution_count": null,
   "metadata": {},
   "outputs": [],
   "source": [
    "optimum = optimizer.maximize(\n",
    "    \"LCOE\"                       ,\n",
    "    total_amount = investment_max,\n",
    "    min_metric   = metric_min    ,\n",
    "    statistic    = lambda x: np.quantile(x, 0.1),\n",
    ")\n",
    "optimum.exit_message"
   ]
  },
  {
   "cell_type": "markdown",
   "metadata": {},
   "source": [
    "Let's try again, but with a less stringent set of constraints, only constraining GHG somewhat  but not Labor at all."
   ]
  },
  {
   "cell_type": "code",
   "execution_count": null,
   "metadata": {},
   "outputs": [],
   "source": [
    "optimum = optimizer.maximize(\n",
    "    \"LCOE\"                                                         ,\n",
    "    total_amount = investment_max                                  ,\n",
    "    min_metric   = pd.Series([30], name = \"Value\", index = [\"GHG\"]),\n",
    "    statistic    = lambda x: np.quantile(x, 0.1)                   ,\n",
    ")\n",
    "optimum.exit_message"
   ]
  },
  {
   "cell_type": "code",
   "execution_count": null,
   "metadata": {},
   "outputs": [],
   "source": [
    "np.round(optimum.amounts)"
   ]
  },
  {
   "cell_type": "code",
   "execution_count": null,
   "metadata": {},
   "outputs": [],
   "source": [
    "optimum.metrics"
   ]
  },
  {
   "cell_type": "markdown",
   "metadata": {},
   "source": [
    "### Pareto surfaces."
   ]
  },
  {
   "cell_type": "markdown",
   "metadata": {},
   "source": [
    "##### Metrics constrained by total investment."
   ]
  },
  {
   "cell_type": "code",
   "execution_count": null,
   "metadata": {},
   "outputs": [],
   "source": [
    "pareto_amounts = None\n",
    "for investment_max in np.arange(1e6, 9e6, 0.5e6):\n",
    "    metrics = optimizer.max_metrics(total_amount = investment_max)\n",
    "    pareto_amounts = pd.DataFrame(\n",
    "        [metrics.values]                                         ,\n",
    "        columns = metrics.index.values                           ,\n",
    "        index   = pd.Index([investment_max / 1e6], name = \"Investment [M$]\"),\n",
    "    ).append(pareto_amounts)\n",
    "pareto_amounts"
   ]
  },
  {
   "cell_type": "code",
   "execution_count": null,
   "metadata": {},
   "outputs": [],
   "source": [
    "sb.relplot(\n",
    "    x         = \"Investment [M$]\",\n",
    "    y         = \"Value\"          ,\n",
    "    col       = \"Metric\"         ,\n",
    "    kind      = \"line\"           ,\n",
    "    facet_kws = {'sharey': False},\n",
    "    data      = pareto_amounts.reset_index().melt(id_vars = \"Investment [M$]\", var_name = \"Metric\", value_name = \"Value\")\n",
    ")"
   ]
  },
  {
   "cell_type": "markdown",
   "metadata": {},
   "source": [
    "*We see that the LCOE metric saturates more slowly than the GHG and Labor ones.*"
   ]
  },
  {
   "cell_type": "markdown",
   "metadata": {},
   "source": [
    "##### GHG vs LCOE, constrained by total investment."
   ]
  },
  {
   "cell_type": "code",
   "execution_count": null,
   "metadata": {
    "scrolled": false
   },
   "outputs": [],
   "source": [
    "investment_max = 3\n",
    "pareto_ghg_lcoe = None\n",
    "for lcoe_min in 0.95 * np.arange(0.5, 0.9, 0.05) * pareto_amounts.loc[investment_max, \"LCOE\"]:\n",
    "    optimum = optimizer.maximize(\n",
    "        \"GHG\",\n",
    "        max_amount   = pd.Series([0.9e6, 3.0e6, 1.0e6], name = \"Amount\", index = [\"BoS R&D\", \"Inverter R&D\", \"Module R&D\"]),\n",
    "        total_amount = investment_max * 1e6                                 ,\n",
    "        min_metric   = pd.Series([lcoe_min], name = \"Value\", index = [\"LCOE\"]),\n",
    "    )\n",
    "    pareto_ghg_lcoe = pd.DataFrame(\n",
    "        [[investment_max, lcoe_min, optimum.metrics[\"LCOE\"], optimum.metrics[\"GHG\"], optimum.exit_message]],\n",
    "        columns = [\"Investment [M$]\", \"LCOE (min)\", \"LCOE\", \"GHG\", \"Result\"]                               ,\n",
    "    ).append(pareto_ghg_lcoe)\n",
    "pareto_ghg_lcoe = pareto_ghg_lcoe.set_index([\"Investment [M$]\", \"LCOE (min)\"])\n",
    "pareto_ghg_lcoe"
   ]
  },
  {
   "cell_type": "code",
   "execution_count": null,
   "metadata": {},
   "outputs": [],
   "source": [
    "sb.relplot(\n",
    "    x = \"LCOE\",\n",
    "    y = \"GHG\",\n",
    "    kind = \"scatter\",\n",
    "    data = pareto_ghg_lcoe#[pareto_ghg_lcoe.Result == \"Optimization terminated successfully.\"]\n",
    ")"
   ]
  },
  {
   "cell_type": "markdown",
   "metadata": {},
   "source": [
    "*The three types of investment are too decoupled to make an interesting pareto frontier, and we also need a better solver if we want to push to lower right.*"
   ]
  },
  {
   "cell_type": "markdown",
   "metadata": {},
   "source": [
    "## Run the interactive explorer for the decision space."
   ]
  },
  {
   "cell_type": "markdown",
   "metadata": {},
   "source": [
    "<font color=\"red\">Make sure the the `tk` package is installed on your machine.</font> Here is the Anaconda link: https://anaconda.org/anaconda/tk."
   ]
  },
  {
   "cell_type": "code",
   "execution_count": null,
   "metadata": {},
   "outputs": [],
   "source": [
    "w = ty.DecisionWindow(evaluator)\n",
    "w.mainloop()"
   ]
  },
  {
   "cell_type": "markdown",
   "metadata": {},
   "source": [
    "A new window should open that looks like the image below. Moving the sliders will cause a recomputation of the boxplots."
   ]
  },
  {
   "cell_type": "code",
   "execution_count": null,
   "metadata": {},
   "outputs": [],
   "source": [
    "Image(\"residential_pv_multiobjective_gui.png\")"
   ]
  }
 ],
 "metadata": {
  "kernelspec": {
   "display_name": "Python 3",
   "language": "python",
   "name": "python3"
  },
  "language_info": {
   "codemirror_mode": {
    "name": "ipython",
    "version": 3
   },
   "file_extension": ".py",
   "mimetype": "text/x-python",
   "name": "python",
   "nbconvert_exporter": "python",
   "pygments_lexer": "ipython3",
   "version": "3.7.6"
  }
 },
 "nbformat": 4,
 "nbformat_minor": 2
}
