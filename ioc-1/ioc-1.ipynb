{
 "cells": [
  {
   "cell_type": "markdown",
   "metadata": {},
   "source": [
    "# Interim Operational Capability 1"
   ]
  },
  {
   "cell_type": "markdown",
   "metadata": {},
   "source": [
    "## Set up."
   ]
  },
  {
   "cell_type": "markdown",
   "metadata": {},
   "source": [
    "### Import packages."
   ]
  },
  {
   "cell_type": "code",
   "execution_count": 1,
   "metadata": {},
   "outputs": [],
   "source": [
    "import os\n",
    "import sys\n",
    "sys.path.insert(0, os.path.abspath(\"../src\"))"
   ]
  },
  {
   "cell_type": "code",
   "execution_count": 2,
   "metadata": {},
   "outputs": [],
   "source": [
    "import numpy             as np\n",
    "import matplotlib.pyplot as pl\n",
    "import pandas            as pd\n",
    "import seaborn           as sb\n",
    "import tyche             as ty\n",
    "\n",
    "from copy            import deepcopy\n",
    "from IPython.display import Image "
   ]
  },
  {
   "cell_type": "markdown",
   "metadata": {},
   "source": [
    "## Load data."
   ]
  },
  {
   "cell_type": "markdown",
   "metadata": {},
   "source": [
    "### The data are stored in a set of tab-separated value files in a folder."
   ]
  },
  {
   "cell_type": "code",
   "execution_count": 110,
   "metadata": {},
   "outputs": [],
   "source": [
    "designs = ty.Designs(\"data\")"
   ]
  },
  {
   "cell_type": "code",
   "execution_count": 111,
   "metadata": {},
   "outputs": [],
   "source": [
    "investments = ty.Investments(\"data\")"
   ]
  },
  {
   "cell_type": "markdown",
   "metadata": {},
   "source": [
    "### Compile the production and metric functions for each technology in the dataset."
   ]
  },
  {
   "cell_type": "code",
   "execution_count": 112,
   "metadata": {},
   "outputs": [],
   "source": [
    "designs.compile()"
   ]
  },
  {
   "cell_type": "markdown",
   "metadata": {},
   "source": [
    "## Examine the data."
   ]
  },
  {
   "cell_type": "markdown",
   "metadata": {},
   "source": [
    "### The `functions` table specifies where the Python code for each technology resides."
   ]
  },
  {
   "cell_type": "code",
   "execution_count": 113,
   "metadata": {},
   "outputs": [
    {
     "data": {
      "text/html": [
       "<div>\n",
       "<style scoped>\n",
       "    .dataframe tbody tr th:only-of-type {\n",
       "        vertical-align: middle;\n",
       "    }\n",
       "\n",
       "    .dataframe tbody tr th {\n",
       "        vertical-align: top;\n",
       "    }\n",
       "\n",
       "    .dataframe thead th {\n",
       "        text-align: right;\n",
       "    }\n",
       "</style>\n",
       "<table border=\"1\" class=\"dataframe\">\n",
       "  <thead>\n",
       "    <tr style=\"text-align: right;\">\n",
       "      <th></th>\n",
       "      <th>Style</th>\n",
       "      <th>Module</th>\n",
       "      <th>Capital</th>\n",
       "      <th>Fixed</th>\n",
       "      <th>Production</th>\n",
       "      <th>Metrics</th>\n",
       "      <th>Notes</th>\n",
       "    </tr>\n",
       "    <tr>\n",
       "      <th>Technology</th>\n",
       "      <th></th>\n",
       "      <th></th>\n",
       "      <th></th>\n",
       "      <th></th>\n",
       "      <th></th>\n",
       "      <th></th>\n",
       "      <th></th>\n",
       "    </tr>\n",
       "  </thead>\n",
       "  <tbody>\n",
       "    <tr>\n",
       "      <th>PV Generic</th>\n",
       "      <td>numpy</td>\n",
       "      <td>pv_residential_generic</td>\n",
       "      <td>capital_cost</td>\n",
       "      <td>fixed_cost</td>\n",
       "      <td>production</td>\n",
       "      <td>metrics</td>\n",
       "      <td>generic residential PV</td>\n",
       "    </tr>\n",
       "  </tbody>\n",
       "</table>\n",
       "</div>"
      ],
      "text/plain": [
       "            Style                  Module       Capital       Fixed  \\\n",
       "Technology                                                            \n",
       "PV Generic  numpy  pv_residential_generic  capital_cost  fixed_cost   \n",
       "\n",
       "            Production  Metrics                   Notes  \n",
       "Technology                                               \n",
       "PV Generic  production  metrics  generic residential PV  "
      ]
     },
     "execution_count": 113,
     "metadata": {},
     "output_type": "execute_result"
    }
   ],
   "source": [
    "designs.functions"
   ]
  },
  {
   "cell_type": "markdown",
   "metadata": {},
   "source": [
    "### The `indices` table defines the subscripts for variables."
   ]
  },
  {
   "cell_type": "code",
   "execution_count": 114,
   "metadata": {},
   "outputs": [
    {
     "data": {
      "text/html": [
       "<div>\n",
       "<style scoped>\n",
       "    .dataframe tbody tr th:only-of-type {\n",
       "        vertical-align: middle;\n",
       "    }\n",
       "\n",
       "    .dataframe tbody tr th {\n",
       "        vertical-align: top;\n",
       "    }\n",
       "\n",
       "    .dataframe thead th {\n",
       "        text-align: right;\n",
       "    }\n",
       "</style>\n",
       "<table border=\"1\" class=\"dataframe\">\n",
       "  <thead>\n",
       "    <tr style=\"text-align: right;\">\n",
       "      <th></th>\n",
       "      <th></th>\n",
       "      <th></th>\n",
       "      <th>Description</th>\n",
       "      <th>Notes</th>\n",
       "    </tr>\n",
       "    <tr>\n",
       "      <th>Technology</th>\n",
       "      <th>Type</th>\n",
       "      <th>Index</th>\n",
       "      <th></th>\n",
       "      <th></th>\n",
       "    </tr>\n",
       "  </thead>\n",
       "  <tbody>\n",
       "    <tr>\n",
       "      <th rowspan=\"16\" valign=\"top\">PV Generic</th>\n",
       "      <th rowspan=\"3\" valign=\"top\">Capital</th>\n",
       "      <th>BoS</th>\n",
       "      <td>balance of system</td>\n",
       "      <td></td>\n",
       "    </tr>\n",
       "    <tr>\n",
       "      <th>Inverter</th>\n",
       "      <td>system inverters</td>\n",
       "      <td></td>\n",
       "    </tr>\n",
       "    <tr>\n",
       "      <th>Module</th>\n",
       "      <td>system module</td>\n",
       "      <td></td>\n",
       "    </tr>\n",
       "    <tr>\n",
       "      <th>Fixed</th>\n",
       "      <th>System</th>\n",
       "      <td>whole system</td>\n",
       "      <td></td>\n",
       "    </tr>\n",
       "    <tr>\n",
       "      <th>Input</th>\n",
       "      <th>Strategic</th>\n",
       "      <td>strategic materials</td>\n",
       "      <td></td>\n",
       "    </tr>\n",
       "    <tr>\n",
       "      <th rowspan=\"8\" valign=\"top\">Metric</th>\n",
       "      <th>Capital</th>\n",
       "      <td>capital cost</td>\n",
       "      <td></td>\n",
       "    </tr>\n",
       "    <tr>\n",
       "      <th>Efficiency</th>\n",
       "      <td>module efficiency</td>\n",
       "      <td></td>\n",
       "    </tr>\n",
       "    <tr>\n",
       "      <th>GHG</th>\n",
       "      <td>greenouse gas offset</td>\n",
       "      <td></td>\n",
       "    </tr>\n",
       "    <tr>\n",
       "      <th>Hazardous</th>\n",
       "      <td>hazardous waste produced</td>\n",
       "      <td></td>\n",
       "    </tr>\n",
       "    <tr>\n",
       "      <th>LCOE</th>\n",
       "      <td>levelized cost of energy</td>\n",
       "      <td></td>\n",
       "    </tr>\n",
       "    <tr>\n",
       "      <th>Lifetime</th>\n",
       "      <td>module lifetime</td>\n",
       "      <td></td>\n",
       "    </tr>\n",
       "    <tr>\n",
       "      <th>Strategic</th>\n",
       "      <td>strategic metal used</td>\n",
       "      <td></td>\n",
       "    </tr>\n",
       "    <tr>\n",
       "      <th>Yield</th>\n",
       "      <td>specific yield</td>\n",
       "      <td></td>\n",
       "    </tr>\n",
       "    <tr>\n",
       "      <th rowspan=\"3\" valign=\"top\">Output</th>\n",
       "      <th>Electricity</th>\n",
       "      <td>electricity generated</td>\n",
       "      <td></td>\n",
       "    </tr>\n",
       "    <tr>\n",
       "      <th>GHG</th>\n",
       "      <td>greenhouse gas offset</td>\n",
       "      <td></td>\n",
       "    </tr>\n",
       "    <tr>\n",
       "      <th>Hazardous</th>\n",
       "      <td>hazardous waste produced</td>\n",
       "      <td></td>\n",
       "    </tr>\n",
       "  </tbody>\n",
       "</table>\n",
       "</div>"
      ],
      "text/plain": [
       "                                             Description Notes\n",
       "Technology Type    Index                                      \n",
       "PV Generic Capital BoS                 balance of system      \n",
       "                   Inverter             system inverters      \n",
       "                   Module                  system module      \n",
       "           Fixed   System                   whole system      \n",
       "           Input   Strategic         strategic materials      \n",
       "           Metric  Capital                  capital cost      \n",
       "                   Efficiency          module efficiency      \n",
       "                   GHG              greenouse gas offset      \n",
       "                   Hazardous    hazardous waste produced      \n",
       "                   LCOE         levelized cost of energy      \n",
       "                   Lifetime              module lifetime      \n",
       "                   Strategic        strategic metal used      \n",
       "                   Yield                  specific yield      \n",
       "           Output  Electricity     electricity generated      \n",
       "                   GHG             greenhouse gas offset      \n",
       "                   Hazardous    hazardous waste produced      "
      ]
     },
     "execution_count": 114,
     "metadata": {},
     "output_type": "execute_result"
    }
   ],
   "source": [
    "designs.indices.drop(\"Offset\", axis = 1)"
   ]
  },
  {
   "cell_type": "markdown",
   "metadata": {},
   "source": [
    "### The `designs` table contains the cost, input, efficiency, and price data for a scenario."
   ]
  },
  {
   "cell_type": "code",
   "execution_count": 115,
   "metadata": {},
   "outputs": [
    {
     "data": {
      "text/html": [
       "<div>\n",
       "<style scoped>\n",
       "    .dataframe tbody tr th:only-of-type {\n",
       "        vertical-align: middle;\n",
       "    }\n",
       "\n",
       "    .dataframe tbody tr th {\n",
       "        vertical-align: top;\n",
       "    }\n",
       "\n",
       "    .dataframe thead th {\n",
       "        text-align: right;\n",
       "    }\n",
       "</style>\n",
       "<table border=\"1\" class=\"dataframe\">\n",
       "  <thead>\n",
       "    <tr style=\"text-align: right;\">\n",
       "      <th></th>\n",
       "      <th></th>\n",
       "      <th></th>\n",
       "      <th></th>\n",
       "      <th>Value</th>\n",
       "      <th>Units</th>\n",
       "      <th>Notes</th>\n",
       "    </tr>\n",
       "    <tr>\n",
       "      <th>Technology</th>\n",
       "      <th>Scenario</th>\n",
       "      <th>Variable</th>\n",
       "      <th>Index</th>\n",
       "      <th></th>\n",
       "      <th></th>\n",
       "      <th></th>\n",
       "    </tr>\n",
       "  </thead>\n",
       "  <tbody>\n",
       "    <tr>\n",
       "      <th rowspan=\"11\" valign=\"top\">PV Generic</th>\n",
       "      <th rowspan=\"5\" valign=\"top\">CIGS 0</th>\n",
       "      <th>Input</th>\n",
       "      <th>Strategic</th>\n",
       "      <td>st.triang(0.5, loc=2520, scale=500)</td>\n",
       "      <td>g/system</td>\n",
       "      <td>zero by default</td>\n",
       "    </tr>\n",
       "    <tr>\n",
       "      <th>Input efficiency</th>\n",
       "      <th>Strategic</th>\n",
       "      <td>st.triang(0.5, loc=0.70, scale=0.05)</td>\n",
       "      <td>%/100</td>\n",
       "      <td>no scaling</td>\n",
       "    </tr>\n",
       "    <tr>\n",
       "      <th>Input price</th>\n",
       "      <th>Stategic</th>\n",
       "      <td>0</td>\n",
       "      <td>$/g</td>\n",
       "      <td>zero by default</td>\n",
       "    </tr>\n",
       "    <tr>\n",
       "      <th rowspan=\"2\" valign=\"top\">Lifetime</th>\n",
       "      <th>BoS</th>\n",
       "      <td>1</td>\n",
       "      <td>system-lifetime</td>\n",
       "      <td>per-lifetime computations</td>\n",
       "    </tr>\n",
       "    <tr>\n",
       "      <th>Inverter</th>\n",
       "      <td>1</td>\n",
       "      <td>system-lifetime</td>\n",
       "      <td>per-lifetime computations</td>\n",
       "    </tr>\n",
       "    <tr>\n",
       "      <th>...</th>\n",
       "      <th>...</th>\n",
       "      <th>...</th>\n",
       "      <td>...</td>\n",
       "      <td>...</td>\n",
       "      <td>...</td>\n",
       "    </tr>\n",
       "    <tr>\n",
       "      <th rowspan=\"5\" valign=\"top\">Soft Costs 2</th>\n",
       "      <th>Output efficiency</th>\n",
       "      <th>Hazardous</th>\n",
       "      <td>1</td>\n",
       "      <td>%/100</td>\n",
       "      <td>see parameter table for individual efficiencies</td>\n",
       "    </tr>\n",
       "    <tr>\n",
       "      <th rowspan=\"3\" valign=\"top\">Output price</th>\n",
       "      <th>Electricity</th>\n",
       "      <td>0</td>\n",
       "      <td>$/kWh</td>\n",
       "      <td>not tracking electricity price</td>\n",
       "    </tr>\n",
       "    <tr>\n",
       "      <th>GHG</th>\n",
       "      <td>0</td>\n",
       "      <td>$/gCO2e</td>\n",
       "      <td>not tracking hazardous waste</td>\n",
       "    </tr>\n",
       "    <tr>\n",
       "      <th>Hazardous</th>\n",
       "      <td>0</td>\n",
       "      <td>$/g</td>\n",
       "      <td>not tracking hazardous waste</td>\n",
       "    </tr>\n",
       "    <tr>\n",
       "      <th>Scale</th>\n",
       "      <th>NaN</th>\n",
       "      <td>1</td>\n",
       "      <td>system/system</td>\n",
       "      <td>no scaling</td>\n",
       "    </tr>\n",
       "  </tbody>\n",
       "</table>\n",
       "<p>299 rows × 3 columns</p>\n",
       "</div>"
      ],
      "text/plain": [
       "                                                                                      Value  \\\n",
       "Technology Scenario     Variable          Index                                               \n",
       "PV Generic CIGS 0       Input             Strategic     st.triang(0.5, loc=2520, scale=500)   \n",
       "                        Input efficiency  Strategic    st.triang(0.5, loc=0.70, scale=0.05)   \n",
       "                        Input price       Stategic                                        0   \n",
       "                        Lifetime          BoS                                             1   \n",
       "                                          Inverter                                        1   \n",
       "...                                                                                     ...   \n",
       "           Soft Costs 2 Output efficiency Hazardous                                       1   \n",
       "                        Output price      Electricity                                     0   \n",
       "                                          GHG                                             0   \n",
       "                                          Hazardous                                       0   \n",
       "                        Scale             NaN                                             1   \n",
       "\n",
       "                                                                 Units  \\\n",
       "Technology Scenario     Variable          Index                          \n",
       "PV Generic CIGS 0       Input             Strategic           g/system   \n",
       "                        Input efficiency  Strategic              %/100   \n",
       "                        Input price       Stategic                 $/g   \n",
       "                        Lifetime          BoS          system-lifetime   \n",
       "                                          Inverter     system-lifetime   \n",
       "...                                                                ...   \n",
       "           Soft Costs 2 Output efficiency Hazardous              %/100   \n",
       "                        Output price      Electricity            $/kWh   \n",
       "                                          GHG                  $/gCO2e   \n",
       "                                          Hazardous                $/g   \n",
       "                        Scale             NaN            system/system   \n",
       "\n",
       "                                                                                                 Notes  \n",
       "Technology Scenario     Variable          Index                                                         \n",
       "PV Generic CIGS 0       Input             Strategic                                    zero by default  \n",
       "                        Input efficiency  Strategic                                         no scaling  \n",
       "                        Input price       Stategic                                     zero by default  \n",
       "                        Lifetime          BoS                                per-lifetime computations  \n",
       "                                          Inverter                           per-lifetime computations  \n",
       "...                                                                                                ...  \n",
       "           Soft Costs 2 Output efficiency Hazardous    see parameter table for individual efficiencies  \n",
       "                        Output price      Electricity                   not tracking electricity price  \n",
       "                                          GHG                             not tracking hazardous waste  \n",
       "                                          Hazardous                       not tracking hazardous waste  \n",
       "                        Scale             NaN                                               no scaling  \n",
       "\n",
       "[299 rows x 3 columns]"
      ]
     },
     "execution_count": 115,
     "metadata": {},
     "output_type": "execute_result"
    }
   ],
   "source": [
    "designs.designs"
   ]
  },
  {
   "cell_type": "markdown",
   "metadata": {},
   "source": [
    "### The `parameters` table contains additional techno-economic parameters for each technology."
   ]
  },
  {
   "cell_type": "code",
   "execution_count": 116,
   "metadata": {},
   "outputs": [
    {
     "data": {
      "text/html": [
       "<div>\n",
       "<style scoped>\n",
       "    .dataframe tbody tr th:only-of-type {\n",
       "        vertical-align: middle;\n",
       "    }\n",
       "\n",
       "    .dataframe tbody tr th {\n",
       "        vertical-align: top;\n",
       "    }\n",
       "\n",
       "    .dataframe thead th {\n",
       "        text-align: right;\n",
       "    }\n",
       "</style>\n",
       "<table border=\"1\" class=\"dataframe\">\n",
       "  <thead>\n",
       "    <tr style=\"text-align: right;\">\n",
       "      <th></th>\n",
       "      <th></th>\n",
       "      <th></th>\n",
       "      <th>Value</th>\n",
       "      <th>Units</th>\n",
       "      <th>Notes</th>\n",
       "    </tr>\n",
       "    <tr>\n",
       "      <th>Technology</th>\n",
       "      <th>Scenario</th>\n",
       "      <th>Parameter</th>\n",
       "      <th></th>\n",
       "      <th></th>\n",
       "      <th></th>\n",
       "    </tr>\n",
       "  </thead>\n",
       "  <tbody>\n",
       "    <tr>\n",
       "      <th rowspan=\"11\" valign=\"top\">PV Generic</th>\n",
       "      <th rowspan=\"5\" valign=\"top\">CIGS 0</th>\n",
       "      <th>Benchmark LCOC</th>\n",
       "      <td>2.51977</td>\n",
       "      <td>$/Wdc</td>\n",
       "      <td></td>\n",
       "    </tr>\n",
       "    <tr>\n",
       "      <th>Benchmark LCOE</th>\n",
       "      <td>0.086773</td>\n",
       "      <td>$/kWh</td>\n",
       "      <td></td>\n",
       "    </tr>\n",
       "    <tr>\n",
       "      <th>Customer Acquisition</th>\n",
       "      <td>st.triang(0.5, loc=2000, scale=0.2)</td>\n",
       "      <td>$/system</td>\n",
       "      <td>BCA</td>\n",
       "    </tr>\n",
       "    <tr>\n",
       "      <th>Direct Labor</th>\n",
       "      <td>st.triang(0.5, loc=2000, scale=0.2)</td>\n",
       "      <td>$/system</td>\n",
       "      <td>BLR</td>\n",
       "    </tr>\n",
       "    <tr>\n",
       "      <th>Discount Rate</th>\n",
       "      <td>0.07</td>\n",
       "      <td>1/year</td>\n",
       "      <td>DR</td>\n",
       "    </tr>\n",
       "    <tr>\n",
       "      <th>...</th>\n",
       "      <th>...</th>\n",
       "      <td>...</td>\n",
       "      <td>...</td>\n",
       "      <td>...</td>\n",
       "    </tr>\n",
       "    <tr>\n",
       "      <th rowspan=\"5\" valign=\"top\">Soft Costs 2</th>\n",
       "      <th>Module Lifetime</th>\n",
       "      <td>st.triang(0.5, loc=25, scale=0.0025)</td>\n",
       "      <td>yr</td>\n",
       "      <td>MLT</td>\n",
       "    </tr>\n",
       "    <tr>\n",
       "      <th>Module O&amp;M Fixed</th>\n",
       "      <td>st.triang(0.5, loc=20, scale=0.002)</td>\n",
       "      <td>$/kW/yr</td>\n",
       "      <td>MOM</td>\n",
       "    </tr>\n",
       "    <tr>\n",
       "      <th>Module Soiling Loss</th>\n",
       "      <td>st.triang(0.5, loc=0.05, scale=5e-6)</td>\n",
       "      <td>%/100</td>\n",
       "      <td>MSL</td>\n",
       "    </tr>\n",
       "    <tr>\n",
       "      <th>Permitting</th>\n",
       "      <td>st.triang(0.5, loc=400, scale=100)</td>\n",
       "      <td>$/system</td>\n",
       "      <td>BPR</td>\n",
       "    </tr>\n",
       "    <tr>\n",
       "      <th>System Size</th>\n",
       "      <td>36</td>\n",
       "      <td>m^2</td>\n",
       "      <td>SSZ</td>\n",
       "    </tr>\n",
       "  </tbody>\n",
       "</table>\n",
       "<p>552 rows × 3 columns</p>\n",
       "</div>"
      ],
      "text/plain": [
       "                                                                             Value  \\\n",
       "Technology Scenario     Parameter                                                    \n",
       "PV Generic CIGS 0       Benchmark LCOC                                     2.51977   \n",
       "                        Benchmark LCOE                                    0.086773   \n",
       "                        Customer Acquisition   st.triang(0.5, loc=2000, scale=0.2)   \n",
       "                        Direct Labor           st.triang(0.5, loc=2000, scale=0.2)   \n",
       "                        Discount Rate                                         0.07   \n",
       "...                                                                            ...   \n",
       "           Soft Costs 2 Module Lifetime       st.triang(0.5, loc=25, scale=0.0025)   \n",
       "                        Module O&M Fixed       st.triang(0.5, loc=20, scale=0.002)   \n",
       "                        Module Soiling Loss   st.triang(0.5, loc=0.05, scale=5e-6)   \n",
       "                        Permitting              st.triang(0.5, loc=400, scale=100)   \n",
       "                        System Size                                             36   \n",
       "\n",
       "                                                 Units Notes  \n",
       "Technology Scenario     Parameter                             \n",
       "PV Generic CIGS 0       Benchmark LCOC           $/Wdc        \n",
       "                        Benchmark LCOE           $/kWh        \n",
       "                        Customer Acquisition  $/system   BCA  \n",
       "                        Direct Labor          $/system   BLR  \n",
       "                        Discount Rate           1/year    DR  \n",
       "...                                                ...   ...  \n",
       "           Soft Costs 2 Module Lifetime             yr   MLT  \n",
       "                        Module O&M Fixed       $/kW/yr   MOM  \n",
       "                        Module Soiling Loss      %/100   MSL  \n",
       "                        Permitting            $/system   BPR  \n",
       "                        System Size                m^2   SSZ  \n",
       "\n",
       "[552 rows x 3 columns]"
      ]
     },
     "execution_count": 116,
     "metadata": {},
     "output_type": "execute_result"
    }
   ],
   "source": [
    "designs.parameters.drop(\"Offset\", axis = 1)"
   ]
  },
  {
   "cell_type": "markdown",
   "metadata": {},
   "source": [
    "### The `results` table specifies the units of measure for results of computations."
   ]
  },
  {
   "cell_type": "code",
   "execution_count": 117,
   "metadata": {},
   "outputs": [
    {
     "data": {
      "text/html": [
       "<div>\n",
       "<style scoped>\n",
       "    .dataframe tbody tr th:only-of-type {\n",
       "        vertical-align: middle;\n",
       "    }\n",
       "\n",
       "    .dataframe tbody tr th {\n",
       "        vertical-align: top;\n",
       "    }\n",
       "\n",
       "    .dataframe thead th {\n",
       "        text-align: right;\n",
       "    }\n",
       "</style>\n",
       "<table border=\"1\" class=\"dataframe\">\n",
       "  <thead>\n",
       "    <tr style=\"text-align: right;\">\n",
       "      <th></th>\n",
       "      <th></th>\n",
       "      <th></th>\n",
       "      <th>Units</th>\n",
       "      <th>Notes</th>\n",
       "    </tr>\n",
       "    <tr>\n",
       "      <th>Technology</th>\n",
       "      <th>Variable</th>\n",
       "      <th>Index</th>\n",
       "      <th></th>\n",
       "      <th></th>\n",
       "    </tr>\n",
       "  </thead>\n",
       "  <tbody>\n",
       "    <tr>\n",
       "      <th rowspan=\"12\" valign=\"top\">PV Generic</th>\n",
       "      <th>Cost</th>\n",
       "      <th>Cost</th>\n",
       "      <td>$/system</td>\n",
       "      <td></td>\n",
       "    </tr>\n",
       "    <tr>\n",
       "      <th rowspan=\"8\" valign=\"top\">Metric</th>\n",
       "      <th>Capital</th>\n",
       "      <td>Δ$/Wdc</td>\n",
       "      <td></td>\n",
       "    </tr>\n",
       "    <tr>\n",
       "      <th>Efficiency</th>\n",
       "      <td>%/100</td>\n",
       "      <td></td>\n",
       "    </tr>\n",
       "    <tr>\n",
       "      <th>GHG</th>\n",
       "      <td>ΔgCO2e/system</td>\n",
       "      <td></td>\n",
       "    </tr>\n",
       "    <tr>\n",
       "      <th>Hazardous</th>\n",
       "      <td>g/kWh</td>\n",
       "      <td></td>\n",
       "    </tr>\n",
       "    <tr>\n",
       "      <th>LCOE</th>\n",
       "      <td>Δ$/kWh</td>\n",
       "      <td></td>\n",
       "    </tr>\n",
       "    <tr>\n",
       "      <th>Lifetime</th>\n",
       "      <td>yr</td>\n",
       "      <td></td>\n",
       "    </tr>\n",
       "    <tr>\n",
       "      <th>Strategic</th>\n",
       "      <td>g/kWh</td>\n",
       "      <td></td>\n",
       "    </tr>\n",
       "    <tr>\n",
       "      <th>Yield</th>\n",
       "      <td>hr/yr</td>\n",
       "      <td></td>\n",
       "    </tr>\n",
       "    <tr>\n",
       "      <th rowspan=\"3\" valign=\"top\">Output</th>\n",
       "      <th>Electricity</th>\n",
       "      <td>kWh/system</td>\n",
       "      <td></td>\n",
       "    </tr>\n",
       "    <tr>\n",
       "      <th>GHG</th>\n",
       "      <td>ΔgCO2e/system</td>\n",
       "      <td></td>\n",
       "    </tr>\n",
       "    <tr>\n",
       "      <th>Hazardous</th>\n",
       "      <td>g/system</td>\n",
       "      <td></td>\n",
       "    </tr>\n",
       "  </tbody>\n",
       "</table>\n",
       "</div>"
      ],
      "text/plain": [
       "                                         Units Notes\n",
       "Technology Variable Index                           \n",
       "PV Generic Cost     Cost              $/system      \n",
       "           Metric   Capital             Δ$/Wdc      \n",
       "                    Efficiency           %/100      \n",
       "                    GHG          ΔgCO2e/system      \n",
       "                    Hazardous            g/kWh      \n",
       "                    LCOE                Δ$/kWh      \n",
       "                    Lifetime                yr      \n",
       "                    Strategic            g/kWh      \n",
       "                    Yield                hr/yr      \n",
       "           Output   Electricity     kWh/system      \n",
       "                    GHG          ΔgCO2e/system      \n",
       "                    Hazardous         g/system      "
      ]
     },
     "execution_count": 117,
     "metadata": {},
     "output_type": "execute_result"
    }
   ],
   "source": [
    "designs.results"
   ]
  },
  {
   "cell_type": "markdown",
   "metadata": {},
   "source": [
    "### The `tranches` table specifies multually exclusive possibilities for investments: only one `Tranch` may be selected for each `Category`."
   ]
  },
  {
   "cell_type": "code",
   "execution_count": 118,
   "metadata": {},
   "outputs": [
    {
     "data": {
      "text/html": [
       "<div>\n",
       "<style scoped>\n",
       "    .dataframe tbody tr th:only-of-type {\n",
       "        vertical-align: middle;\n",
       "    }\n",
       "\n",
       "    .dataframe tbody tr th {\n",
       "        vertical-align: top;\n",
       "    }\n",
       "\n",
       "    .dataframe thead th {\n",
       "        text-align: right;\n",
       "    }\n",
       "</style>\n",
       "<table border=\"1\" class=\"dataframe\">\n",
       "  <thead>\n",
       "    <tr style=\"text-align: right;\">\n",
       "      <th></th>\n",
       "      <th></th>\n",
       "      <th></th>\n",
       "      <th>Amount</th>\n",
       "      <th>Notes</th>\n",
       "    </tr>\n",
       "    <tr>\n",
       "      <th>Category</th>\n",
       "      <th>Tranche</th>\n",
       "      <th>Scenario</th>\n",
       "      <th></th>\n",
       "      <th></th>\n",
       "    </tr>\n",
       "  </thead>\n",
       "  <tbody>\n",
       "    <tr>\n",
       "      <th rowspan=\"3\" valign=\"top\">CIGS</th>\n",
       "      <th>CIGS 0</th>\n",
       "      <th>CIGS 0</th>\n",
       "      <td>0.0</td>\n",
       "      <td></td>\n",
       "    </tr>\n",
       "    <tr>\n",
       "      <th>CIGS 1</th>\n",
       "      <th>CIGS 1</th>\n",
       "      <td>1500000.0</td>\n",
       "      <td></td>\n",
       "    </tr>\n",
       "    <tr>\n",
       "      <th>CIGS 2</th>\n",
       "      <th>CIGS 2</th>\n",
       "      <td>3000000.0</td>\n",
       "      <td></td>\n",
       "    </tr>\n",
       "    <tr>\n",
       "      <th rowspan=\"3\" valign=\"top\">CdTe</th>\n",
       "      <th>CdTe 0</th>\n",
       "      <th>CdTe 0</th>\n",
       "      <td>0.0</td>\n",
       "      <td></td>\n",
       "    </tr>\n",
       "    <tr>\n",
       "      <th>CdTe 1</th>\n",
       "      <th>CdTe 1</th>\n",
       "      <td>3000000.0</td>\n",
       "      <td></td>\n",
       "    </tr>\n",
       "    <tr>\n",
       "      <th>CdTe 2</th>\n",
       "      <th>CdTe 2</th>\n",
       "      <td>6000000.0</td>\n",
       "      <td></td>\n",
       "    </tr>\n",
       "    <tr>\n",
       "      <th rowspan=\"3\" valign=\"top\">GaAs</th>\n",
       "      <th>GaAs 0</th>\n",
       "      <th>GaAs 0</th>\n",
       "      <td>0.0</td>\n",
       "      <td></td>\n",
       "    </tr>\n",
       "    <tr>\n",
       "      <th>GaAs 1</th>\n",
       "      <th>GaAs 1</th>\n",
       "      <td>5000000.0</td>\n",
       "      <td></td>\n",
       "    </tr>\n",
       "    <tr>\n",
       "      <th>GaAs 2</th>\n",
       "      <th>GaAs 2</th>\n",
       "      <td>7500000.0</td>\n",
       "      <td></td>\n",
       "    </tr>\n",
       "    <tr>\n",
       "      <th rowspan=\"3\" valign=\"top\">InGaP</th>\n",
       "      <th>InGaP 0</th>\n",
       "      <th>InGaP 0</th>\n",
       "      <td>0.0</td>\n",
       "      <td></td>\n",
       "    </tr>\n",
       "    <tr>\n",
       "      <th>InGaP 1</th>\n",
       "      <th>InGaP 1</th>\n",
       "      <td>3500000.0</td>\n",
       "      <td></td>\n",
       "    </tr>\n",
       "    <tr>\n",
       "      <th>InGaP 2</th>\n",
       "      <th>InGaP 2</th>\n",
       "      <td>9500000.0</td>\n",
       "      <td></td>\n",
       "    </tr>\n",
       "    <tr>\n",
       "      <th rowspan=\"3\" valign=\"top\">Perovskite</th>\n",
       "      <th>Perovskite 0</th>\n",
       "      <th>Perovskite 0</th>\n",
       "      <td>0.0</td>\n",
       "      <td></td>\n",
       "    </tr>\n",
       "    <tr>\n",
       "      <th>Perovskite 1</th>\n",
       "      <th>Perovskite 1</th>\n",
       "      <td>7500000.0</td>\n",
       "      <td></td>\n",
       "    </tr>\n",
       "    <tr>\n",
       "      <th>Perovskite 2</th>\n",
       "      <th>Perovskite 2</th>\n",
       "      <td>9500000.0</td>\n",
       "      <td></td>\n",
       "    </tr>\n",
       "    <tr>\n",
       "      <th rowspan=\"3\" valign=\"top\">Polysilicon</th>\n",
       "      <th>Polysilicon 0</th>\n",
       "      <th>Polysilicon 0</th>\n",
       "      <td>0.0</td>\n",
       "      <td></td>\n",
       "    </tr>\n",
       "    <tr>\n",
       "      <th>Polysilicon 1</th>\n",
       "      <th>Polysilicon 1</th>\n",
       "      <td>2500000.0</td>\n",
       "      <td></td>\n",
       "    </tr>\n",
       "    <tr>\n",
       "      <th>Polysilicon 2</th>\n",
       "      <th>Polysilicon 2</th>\n",
       "      <td>4500000.0</td>\n",
       "      <td></td>\n",
       "    </tr>\n",
       "    <tr>\n",
       "      <th rowspan=\"3\" valign=\"top\">Power Electronics</th>\n",
       "      <th>Power Electronics 0</th>\n",
       "      <th>Polysilicon 0</th>\n",
       "      <td>0.0</td>\n",
       "      <td></td>\n",
       "    </tr>\n",
       "    <tr>\n",
       "      <th>Power Electronics 1</th>\n",
       "      <th>Power Electronics 1</th>\n",
       "      <td>1000000.0</td>\n",
       "      <td></td>\n",
       "    </tr>\n",
       "    <tr>\n",
       "      <th>Power Electronics 2</th>\n",
       "      <th>Power Electronics 2</th>\n",
       "      <td>5000000.0</td>\n",
       "      <td></td>\n",
       "    </tr>\n",
       "    <tr>\n",
       "      <th rowspan=\"3\" valign=\"top\">Soft Costs</th>\n",
       "      <th>Soft Costs 0</th>\n",
       "      <th>Polysilicon 0</th>\n",
       "      <td>0.0</td>\n",
       "      <td></td>\n",
       "    </tr>\n",
       "    <tr>\n",
       "      <th>Soft Costs 1</th>\n",
       "      <th>Soft Costs 1</th>\n",
       "      <td>1000000.0</td>\n",
       "      <td></td>\n",
       "    </tr>\n",
       "    <tr>\n",
       "      <th>Soft Costs 2</th>\n",
       "      <th>Soft Costs 2</th>\n",
       "      <td>5000000.0</td>\n",
       "      <td></td>\n",
       "    </tr>\n",
       "  </tbody>\n",
       "</table>\n",
       "</div>"
      ],
      "text/plain": [
       "                                                              Amount Notes\n",
       "Category          Tranche             Scenario                            \n",
       "CIGS              CIGS 0              CIGS 0                     0.0      \n",
       "                  CIGS 1              CIGS 1               1500000.0      \n",
       "                  CIGS 2              CIGS 2               3000000.0      \n",
       "CdTe              CdTe 0              CdTe 0                     0.0      \n",
       "                  CdTe 1              CdTe 1               3000000.0      \n",
       "                  CdTe 2              CdTe 2               6000000.0      \n",
       "GaAs              GaAs 0              GaAs 0                     0.0      \n",
       "                  GaAs 1              GaAs 1               5000000.0      \n",
       "                  GaAs 2              GaAs 2               7500000.0      \n",
       "InGaP             InGaP 0             InGaP 0                    0.0      \n",
       "                  InGaP 1             InGaP 1              3500000.0      \n",
       "                  InGaP 2             InGaP 2              9500000.0      \n",
       "Perovskite        Perovskite 0        Perovskite 0               0.0      \n",
       "                  Perovskite 1        Perovskite 1         7500000.0      \n",
       "                  Perovskite 2        Perovskite 2         9500000.0      \n",
       "Polysilicon       Polysilicon 0       Polysilicon 0              0.0      \n",
       "                  Polysilicon 1       Polysilicon 1        2500000.0      \n",
       "                  Polysilicon 2       Polysilicon 2        4500000.0      \n",
       "Power Electronics Power Electronics 0 Polysilicon 0              0.0      \n",
       "                  Power Electronics 1 Power Electronics 1  1000000.0      \n",
       "                  Power Electronics 2 Power Electronics 2  5000000.0      \n",
       "Soft Costs        Soft Costs 0        Polysilicon 0              0.0      \n",
       "                  Soft Costs 1        Soft Costs 1         1000000.0      \n",
       "                  Soft Costs 2        Soft Costs 2         5000000.0      "
      ]
     },
     "execution_count": 118,
     "metadata": {},
     "output_type": "execute_result"
    }
   ],
   "source": [
    "investments.tranches"
   ]
  },
  {
   "cell_type": "markdown",
   "metadata": {},
   "source": [
    "### The `investments` table bundles a consistent set of tranches (one per category) into an overall investment."
   ]
  },
  {
   "cell_type": "code",
   "execution_count": 119,
   "metadata": {},
   "outputs": [
    {
     "data": {
      "text/html": [
       "<div>\n",
       "<style scoped>\n",
       "    .dataframe tbody tr th:only-of-type {\n",
       "        vertical-align: middle;\n",
       "    }\n",
       "\n",
       "    .dataframe tbody tr th {\n",
       "        vertical-align: top;\n",
       "    }\n",
       "\n",
       "    .dataframe thead th {\n",
       "        text-align: right;\n",
       "    }\n",
       "</style>\n",
       "<table border=\"1\" class=\"dataframe\">\n",
       "  <thead>\n",
       "    <tr style=\"text-align: right;\">\n",
       "      <th></th>\n",
       "      <th></th>\n",
       "      <th></th>\n",
       "      <th>Notes</th>\n",
       "    </tr>\n",
       "    <tr>\n",
       "      <th>Investment</th>\n",
       "      <th>Category</th>\n",
       "      <th>Tranche</th>\n",
       "      <th></th>\n",
       "    </tr>\n",
       "  </thead>\n",
       "  <tbody>\n",
       "  </tbody>\n",
       "</table>\n",
       "</div>"
      ],
      "text/plain": [
       "Empty DataFrame\n",
       "Columns: [Notes]\n",
       "Index: []"
      ]
     },
     "execution_count": 119,
     "metadata": {},
     "output_type": "execute_result"
    }
   ],
   "source": [
    "investments.investments"
   ]
  },
  {
   "cell_type": "markdown",
   "metadata": {},
   "source": [
    "## Evaluate the scenarios in the dataset."
   ]
  },
  {
   "cell_type": "code",
   "execution_count": 120,
   "metadata": {
    "scrolled": false
   },
   "outputs": [],
   "source": [
    "scenario_results = designs.evaluate_scenarios(sample_count=500)"
   ]
  },
  {
   "cell_type": "code",
   "execution_count": 121,
   "metadata": {},
   "outputs": [
    {
     "data": {
      "text/html": [
       "<div>\n",
       "<style scoped>\n",
       "    .dataframe tbody tr th:only-of-type {\n",
       "        vertical-align: middle;\n",
       "    }\n",
       "\n",
       "    .dataframe tbody tr th {\n",
       "        vertical-align: top;\n",
       "    }\n",
       "\n",
       "    .dataframe thead tr th {\n",
       "        text-align: left;\n",
       "    }\n",
       "\n",
       "    .dataframe thead tr:last-of-type th {\n",
       "        text-align: right;\n",
       "    }\n",
       "</style>\n",
       "<table border=\"1\" class=\"dataframe\">\n",
       "  <thead>\n",
       "    <tr>\n",
       "      <th></th>\n",
       "      <th colspan=\"8\" halign=\"left\">Value</th>\n",
       "    </tr>\n",
       "    <tr>\n",
       "      <th>Index</th>\n",
       "      <th>Capital</th>\n",
       "      <th>Efficiency</th>\n",
       "      <th>GHG</th>\n",
       "      <th>Hazardous</th>\n",
       "      <th>LCOE</th>\n",
       "      <th>Lifetime</th>\n",
       "      <th>Strategic</th>\n",
       "      <th>Yield</th>\n",
       "    </tr>\n",
       "    <tr>\n",
       "      <th>Scenario</th>\n",
       "      <th></th>\n",
       "      <th></th>\n",
       "      <th></th>\n",
       "      <th></th>\n",
       "      <th></th>\n",
       "      <th></th>\n",
       "      <th></th>\n",
       "      <th></th>\n",
       "    </tr>\n",
       "  </thead>\n",
       "  <tbody>\n",
       "    <tr>\n",
       "      <th>CIGS 0</th>\n",
       "      <td>-7.894838e-01</td>\n",
       "      <td>0.234880</td>\n",
       "      <td>-0.000449</td>\n",
       "      <td>0.055617</td>\n",
       "      <td>-6.306403e-02</td>\n",
       "      <td>25.001249</td>\n",
       "      <td>0.013825</td>\n",
       "      <td>963.334243</td>\n",
       "    </tr>\n",
       "    <tr>\n",
       "      <th>CIGS 1</th>\n",
       "      <td>-2.053988e-01</td>\n",
       "      <td>0.265220</td>\n",
       "      <td>-0.000449</td>\n",
       "      <td>0.044241</td>\n",
       "      <td>-3.785841e-02</td>\n",
       "      <td>25.001241</td>\n",
       "      <td>0.011637</td>\n",
       "      <td>969.499550</td>\n",
       "    </tr>\n",
       "    <tr>\n",
       "      <th>CIGS 2</th>\n",
       "      <td>1.162300e-01</td>\n",
       "      <td>0.274775</td>\n",
       "      <td>-0.000449</td>\n",
       "      <td>0.037959</td>\n",
       "      <td>-2.174859e-02</td>\n",
       "      <td>25.001265</td>\n",
       "      <td>0.010562</td>\n",
       "      <td>992.034518</td>\n",
       "    </tr>\n",
       "    <tr>\n",
       "      <th>CdTe 0</th>\n",
       "      <td>-4.350222e-01</td>\n",
       "      <td>0.234450</td>\n",
       "      <td>-0.000449</td>\n",
       "      <td>0.054182</td>\n",
       "      <td>-1.359586e-02</td>\n",
       "      <td>25.001236</td>\n",
       "      <td>0.031685</td>\n",
       "      <td>1278.373701</td>\n",
       "    </tr>\n",
       "    <tr>\n",
       "      <th>CdTe 1</th>\n",
       "      <td>-1.044040e-01</td>\n",
       "      <td>0.254844</td>\n",
       "      <td>-0.000449</td>\n",
       "      <td>0.045925</td>\n",
       "      <td>-5.415598e-04</td>\n",
       "      <td>25.001215</td>\n",
       "      <td>0.025668</td>\n",
       "      <td>1318.049577</td>\n",
       "    </tr>\n",
       "    <tr>\n",
       "      <th>CdTe 2</th>\n",
       "      <td>2.413545e-01</td>\n",
       "      <td>0.284414</td>\n",
       "      <td>-0.000449</td>\n",
       "      <td>0.037006</td>\n",
       "      <td>1.182150e-02</td>\n",
       "      <td>25.001294</td>\n",
       "      <td>0.021721</td>\n",
       "      <td>1350.939368</td>\n",
       "    </tr>\n",
       "    <tr>\n",
       "      <th>GaAs 0</th>\n",
       "      <td>-2.428062e-01</td>\n",
       "      <td>0.312296</td>\n",
       "      <td>-0.000449</td>\n",
       "      <td>0.075718</td>\n",
       "      <td>-7.581908e-03</td>\n",
       "      <td>25.001226</td>\n",
       "      <td>0.007312</td>\n",
       "      <td>1278.371851</td>\n",
       "    </tr>\n",
       "    <tr>\n",
       "      <th>GaAs 1</th>\n",
       "      <td>-1.363030e-02</td>\n",
       "      <td>0.314397</td>\n",
       "      <td>-0.000449</td>\n",
       "      <td>0.073980</td>\n",
       "      <td>-1.441918e-04</td>\n",
       "      <td>25.001266</td>\n",
       "      <td>0.006191</td>\n",
       "      <td>1282.303410</td>\n",
       "    </tr>\n",
       "    <tr>\n",
       "      <th>GaAs 2</th>\n",
       "      <td>4.640476e-01</td>\n",
       "      <td>0.344852</td>\n",
       "      <td>-0.000449</td>\n",
       "      <td>0.066145</td>\n",
       "      <td>1.518507e-02</td>\n",
       "      <td>25.001229</td>\n",
       "      <td>0.004878</td>\n",
       "      <td>1289.993391</td>\n",
       "    </tr>\n",
       "    <tr>\n",
       "      <th>InGaP 0</th>\n",
       "      <td>3.833736e-01</td>\n",
       "      <td>0.403722</td>\n",
       "      <td>-0.000449</td>\n",
       "      <td>0.023522</td>\n",
       "      <td>-1.481606e-03</td>\n",
       "      <td>20.498535</td>\n",
       "      <td>0.003091</td>\n",
       "      <td>1310.560055</td>\n",
       "    </tr>\n",
       "    <tr>\n",
       "      <th>InGaP 1</th>\n",
       "      <td>7.375983e-01</td>\n",
       "      <td>0.410066</td>\n",
       "      <td>-0.000449</td>\n",
       "      <td>0.018427</td>\n",
       "      <td>1.242066e-02</td>\n",
       "      <td>20.486901</td>\n",
       "      <td>0.002358</td>\n",
       "      <td>1323.880788</td>\n",
       "    </tr>\n",
       "    <tr>\n",
       "      <th>InGaP 2</th>\n",
       "      <td>9.518421e-01</td>\n",
       "      <td>0.397516</td>\n",
       "      <td>-0.000449</td>\n",
       "      <td>0.018078</td>\n",
       "      <td>2.037385e-02</td>\n",
       "      <td>20.506564</td>\n",
       "      <td>0.002380</td>\n",
       "      <td>1323.738071</td>\n",
       "    </tr>\n",
       "    <tr>\n",
       "      <th>Perovskite 0</th>\n",
       "      <td>-1.134395e+00</td>\n",
       "      <td>0.181374</td>\n",
       "      <td>-0.000449</td>\n",
       "      <td>0.024834</td>\n",
       "      <td>-7.886534e-02</td>\n",
       "      <td>17.555317</td>\n",
       "      <td>0.007610</td>\n",
       "      <td>1335.383717</td>\n",
       "    </tr>\n",
       "    <tr>\n",
       "      <th>Perovskite 1</th>\n",
       "      <td>-3.849125e-01</td>\n",
       "      <td>0.224214</td>\n",
       "      <td>-0.000449</td>\n",
       "      <td>0.017019</td>\n",
       "      <td>-4.545850e-02</td>\n",
       "      <td>17.419037</td>\n",
       "      <td>0.005280</td>\n",
       "      <td>1359.771907</td>\n",
       "    </tr>\n",
       "    <tr>\n",
       "      <th>Perovskite 2</th>\n",
       "      <td>3.451298e-01</td>\n",
       "      <td>0.294851</td>\n",
       "      <td>-0.000449</td>\n",
       "      <td>0.008638</td>\n",
       "      <td>-1.450781e-02</td>\n",
       "      <td>17.416189</td>\n",
       "      <td>0.003619</td>\n",
       "      <td>1359.763595</td>\n",
       "    </tr>\n",
       "    <tr>\n",
       "      <th>Polysilicon 0</th>\n",
       "      <td>2.140904e-01</td>\n",
       "      <td>0.232542</td>\n",
       "      <td>-0.000449</td>\n",
       "      <td>0.247307</td>\n",
       "      <td>6.713862e-03</td>\n",
       "      <td>25.001272</td>\n",
       "      <td>0.000000</td>\n",
       "      <td>1278.374264</td>\n",
       "    </tr>\n",
       "    <tr>\n",
       "      <th>Polysilicon 1</th>\n",
       "      <td>3.315448e-01</td>\n",
       "      <td>0.244430</td>\n",
       "      <td>-0.000449</td>\n",
       "      <td>0.205394</td>\n",
       "      <td>1.153258e-02</td>\n",
       "      <td>25.001226</td>\n",
       "      <td>0.000000</td>\n",
       "      <td>1297.869707</td>\n",
       "    </tr>\n",
       "    <tr>\n",
       "      <th>Polysilicon 2</th>\n",
       "      <td>5.745080e-01</td>\n",
       "      <td>0.275120</td>\n",
       "      <td>-0.000449</td>\n",
       "      <td>0.149557</td>\n",
       "      <td>2.109504e-02</td>\n",
       "      <td>25.001204</td>\n",
       "      <td>0.000000</td>\n",
       "      <td>1338.853594</td>\n",
       "    </tr>\n",
       "    <tr>\n",
       "      <th>Power Electronics 1</th>\n",
       "      <td>2.891479e-01</td>\n",
       "      <td>0.232824</td>\n",
       "      <td>-0.000449</td>\n",
       "      <td>0.235312</td>\n",
       "      <td>1.275730e-02</td>\n",
       "      <td>25.001269</td>\n",
       "      <td>0.000000</td>\n",
       "      <td>1342.237812</td>\n",
       "    </tr>\n",
       "    <tr>\n",
       "      <th>Power Electronics 2</th>\n",
       "      <td>3.649610e-01</td>\n",
       "      <td>0.232308</td>\n",
       "      <td>-0.000449</td>\n",
       "      <td>0.228535</td>\n",
       "      <td>1.724145e-02</td>\n",
       "      <td>25.001248</td>\n",
       "      <td>0.000000</td>\n",
       "      <td>1385.192305</td>\n",
       "    </tr>\n",
       "    <tr>\n",
       "      <th>Reference</th>\n",
       "      <td>-4.304827e-07</td>\n",
       "      <td>0.208000</td>\n",
       "      <td>-0.000449</td>\n",
       "      <td>0.275327</td>\n",
       "      <td>-1.946058e-07</td>\n",
       "      <td>25.000000</td>\n",
       "      <td>0.000000</td>\n",
       "      <td>1278.202148</td>\n",
       "    </tr>\n",
       "    <tr>\n",
       "      <th>Soft Costs 1</th>\n",
       "      <td>3.063810e-01</td>\n",
       "      <td>0.233618</td>\n",
       "      <td>-0.000449</td>\n",
       "      <td>0.246223</td>\n",
       "      <td>9.601346e-03</td>\n",
       "      <td>25.001290</td>\n",
       "      <td>0.000000</td>\n",
       "      <td>1278.371130</td>\n",
       "    </tr>\n",
       "    <tr>\n",
       "      <th>Soft Costs 2</th>\n",
       "      <td>4.711288e-01</td>\n",
       "      <td>0.233380</td>\n",
       "      <td>-0.000449</td>\n",
       "      <td>0.246483</td>\n",
       "      <td>1.475623e-02</td>\n",
       "      <td>25.001237</td>\n",
       "      <td>0.000000</td>\n",
       "      <td>1278.377702</td>\n",
       "    </tr>\n",
       "  </tbody>\n",
       "</table>\n",
       "</div>"
      ],
      "text/plain": [
       "                            Value                                 \\\n",
       "Index                     Capital Efficiency       GHG Hazardous   \n",
       "Scenario                                                           \n",
       "CIGS 0              -7.894838e-01   0.234880 -0.000449  0.055617   \n",
       "CIGS 1              -2.053988e-01   0.265220 -0.000449  0.044241   \n",
       "CIGS 2               1.162300e-01   0.274775 -0.000449  0.037959   \n",
       "CdTe 0              -4.350222e-01   0.234450 -0.000449  0.054182   \n",
       "CdTe 1              -1.044040e-01   0.254844 -0.000449  0.045925   \n",
       "CdTe 2               2.413545e-01   0.284414 -0.000449  0.037006   \n",
       "GaAs 0              -2.428062e-01   0.312296 -0.000449  0.075718   \n",
       "GaAs 1              -1.363030e-02   0.314397 -0.000449  0.073980   \n",
       "GaAs 2               4.640476e-01   0.344852 -0.000449  0.066145   \n",
       "InGaP 0              3.833736e-01   0.403722 -0.000449  0.023522   \n",
       "InGaP 1              7.375983e-01   0.410066 -0.000449  0.018427   \n",
       "InGaP 2              9.518421e-01   0.397516 -0.000449  0.018078   \n",
       "Perovskite 0        -1.134395e+00   0.181374 -0.000449  0.024834   \n",
       "Perovskite 1        -3.849125e-01   0.224214 -0.000449  0.017019   \n",
       "Perovskite 2         3.451298e-01   0.294851 -0.000449  0.008638   \n",
       "Polysilicon 0        2.140904e-01   0.232542 -0.000449  0.247307   \n",
       "Polysilicon 1        3.315448e-01   0.244430 -0.000449  0.205394   \n",
       "Polysilicon 2        5.745080e-01   0.275120 -0.000449  0.149557   \n",
       "Power Electronics 1  2.891479e-01   0.232824 -0.000449  0.235312   \n",
       "Power Electronics 2  3.649610e-01   0.232308 -0.000449  0.228535   \n",
       "Reference           -4.304827e-07   0.208000 -0.000449  0.275327   \n",
       "Soft Costs 1         3.063810e-01   0.233618 -0.000449  0.246223   \n",
       "Soft Costs 2         4.711288e-01   0.233380 -0.000449  0.246483   \n",
       "\n",
       "                                                                     \n",
       "Index                        LCOE   Lifetime Strategic        Yield  \n",
       "Scenario                                                             \n",
       "CIGS 0              -6.306403e-02  25.001249  0.013825   963.334243  \n",
       "CIGS 1              -3.785841e-02  25.001241  0.011637   969.499550  \n",
       "CIGS 2              -2.174859e-02  25.001265  0.010562   992.034518  \n",
       "CdTe 0              -1.359586e-02  25.001236  0.031685  1278.373701  \n",
       "CdTe 1              -5.415598e-04  25.001215  0.025668  1318.049577  \n",
       "CdTe 2               1.182150e-02  25.001294  0.021721  1350.939368  \n",
       "GaAs 0              -7.581908e-03  25.001226  0.007312  1278.371851  \n",
       "GaAs 1              -1.441918e-04  25.001266  0.006191  1282.303410  \n",
       "GaAs 2               1.518507e-02  25.001229  0.004878  1289.993391  \n",
       "InGaP 0             -1.481606e-03  20.498535  0.003091  1310.560055  \n",
       "InGaP 1              1.242066e-02  20.486901  0.002358  1323.880788  \n",
       "InGaP 2              2.037385e-02  20.506564  0.002380  1323.738071  \n",
       "Perovskite 0        -7.886534e-02  17.555317  0.007610  1335.383717  \n",
       "Perovskite 1        -4.545850e-02  17.419037  0.005280  1359.771907  \n",
       "Perovskite 2        -1.450781e-02  17.416189  0.003619  1359.763595  \n",
       "Polysilicon 0        6.713862e-03  25.001272  0.000000  1278.374264  \n",
       "Polysilicon 1        1.153258e-02  25.001226  0.000000  1297.869707  \n",
       "Polysilicon 2        2.109504e-02  25.001204  0.000000  1338.853594  \n",
       "Power Electronics 1  1.275730e-02  25.001269  0.000000  1342.237812  \n",
       "Power Electronics 2  1.724145e-02  25.001248  0.000000  1385.192305  \n",
       "Reference           -1.946058e-07  25.000000  0.000000  1278.202148  \n",
       "Soft Costs 1         9.601346e-03  25.001290  0.000000  1278.371130  \n",
       "Soft Costs 2         1.475623e-02  25.001237  0.000000  1278.377702  "
      ]
     },
     "execution_count": 121,
     "metadata": {},
     "output_type": "execute_result"
    }
   ],
   "source": [
    "scenario_results.xs(\n",
    "    \"PV Generic\"\n",
    ").groupby(\n",
    "    [\"Scenario\", \"Variable\", \"Index\"]\n",
    ").aggregate(\n",
    "    np.mean\n",
    ").xs(\n",
    "    \"Metric\", level = 1\n",
    ").pivot_table(\n",
    "    index = \"Scenario\", columns = \"Index\"\n",
    ")"
   ]
  },
  {
   "cell_type": "markdown",
   "metadata": {},
   "source": [
    "### Save results."
   ]
  },
  {
   "cell_type": "code",
   "execution_count": null,
   "metadata": {},
   "outputs": [],
   "source": [
    "scenario_results.to_csv(\"output/example-scenario.csv\")"
   ]
  },
  {
   "cell_type": "markdown",
   "metadata": {},
   "source": [
    "### Plot GHG metric."
   ]
  },
  {
   "cell_type": "code",
   "execution_count": null,
   "metadata": {
    "scrolled": true
   },
   "outputs": [],
   "source": [
    "g = sb.boxplot(\n",
    "    x=\"Scenario\",\n",
    "    y=\"Value\",\n",
    "    data=scenario_results.xs(\n",
    "        [\"Metric\", \"GHG\"],\n",
    "        level=[\"Variable\", \"Index\"]\n",
    "    ).reset_index()[[\"Scenario\", \"Value\"]],\n",
    "    order=[\n",
    "        \"2015 Actual\"              ,\n",
    "        \"Module Slow Progress\"      ,\n",
    "        \"Module Moderate Progress\"  ,\n",
    "        \"Module Fast Progress\"      ,\n",
    "        \"Inverter Slow Progress\"    ,\n",
    "        \"Inverter Moderate Progress\",\n",
    "        \"Inverter Fast Progress\"    ,\n",
    "        \"BoS Slow Progress\"         ,\n",
    "        \"BoS Moderate Progress\"     ,\n",
    "        \"BoS Fast Progress\"         ,\n",
    "    ]\n",
    ")\n",
    "g.set(ylabel=\"GHG Reduction [gCO2e / system]\")\n",
    "g.set_xticklabels(g.get_xticklabels(), rotation=30);"
   ]
  },
  {
   "cell_type": "markdown",
   "metadata": {},
   "source": [
    "### Plot LCOE metric."
   ]
  },
  {
   "cell_type": "code",
   "execution_count": null,
   "metadata": {},
   "outputs": [],
   "source": [
    "g = sb.boxplot(\n",
    "    x=\"Scenario\",\n",
    "    y=\"Value\",\n",
    "    data=scenario_results.xs(\n",
    "        [\"Metric\", \"LCOE\"],\n",
    "        level=[\"Variable\", \"Index\"]\n",
    "    ).reset_index()[[\"Scenario\", \"Value\"]],\n",
    "    order=[\n",
    "        \"2015 Actual\"              ,\n",
    "        \"Module Slow Progress\"      ,\n",
    "        \"Module Moderate Progress\"  ,\n",
    "        \"Module Fast Progress\"      ,\n",
    "        \"Inverter Slow Progress\"    ,\n",
    "        \"Inverter Moderate Progress\",\n",
    "        \"Inverter Fast Progress\"    ,\n",
    "        \"BoS Slow Progress\"         ,\n",
    "        \"BoS Moderate Progress\"     ,\n",
    "        \"BoS Fast Progress\"         ,\n",
    "    ]\n",
    ")\n",
    "g.set(ylabel=\"LCOE Reduction [USD / kWh]\")\n",
    "g.set_xticklabels(g.get_xticklabels(), rotation=30);"
   ]
  },
  {
   "cell_type": "markdown",
   "metadata": {},
   "source": [
    "### Plot labor metric."
   ]
  },
  {
   "cell_type": "code",
   "execution_count": null,
   "metadata": {},
   "outputs": [],
   "source": [
    "g = sb.boxplot(\n",
    "    x=\"Scenario\",\n",
    "    y=\"Value\",\n",
    "    data=scenario_results.xs(\n",
    "        [\"Metric\", \"Labor\"],\n",
    "        level=[\"Variable\", \"Index\"]\n",
    "    ).reset_index()[[\"Scenario\", \"Value\"]],\n",
    "    order=[\n",
    "        \"2015 Actual\"              ,\n",
    "        \"Module Slow Progress\"      ,\n",
    "        \"Module Moderate Progress\"  ,\n",
    "        \"Module Fast Progress\"      ,\n",
    "        \"Inverter Slow Progress\"    ,\n",
    "        \"Inverter Moderate Progress\",\n",
    "        \"Inverter Fast Progress\"    ,\n",
    "        \"BoS Slow Progress\"         ,\n",
    "        \"BoS Moderate Progress\"     ,\n",
    "        \"BoS Fast Progress\"         ,\n",
    "    ]\n",
    ")\n",
    "g.set(ylabel=\"Labor Increase [USD / system]\")\n",
    "g.set_xticklabels(g.get_xticklabels(), rotation=15);"
   ]
  },
  {
   "cell_type": "markdown",
   "metadata": {},
   "source": [
    "## Evaluate the investments in the dataset."
   ]
  },
  {
   "cell_type": "code",
   "execution_count": null,
   "metadata": {},
   "outputs": [],
   "source": [
    "investment_results = investments.evaluate_investments(designs, sample_count=50)"
   ]
  },
  {
   "cell_type": "markdown",
   "metadata": {},
   "source": [
    "### Costs of investments."
   ]
  },
  {
   "cell_type": "code",
   "execution_count": null,
   "metadata": {},
   "outputs": [],
   "source": [
    "investment_results.amounts"
   ]
  },
  {
   "cell_type": "markdown",
   "metadata": {},
   "source": [
    "### Benefits of investments."
   ]
  },
  {
   "cell_type": "code",
   "execution_count": null,
   "metadata": {},
   "outputs": [],
   "source": [
    "investment_results.metrics.xs(1, level=\"Sample\", drop_level=False)"
   ]
  },
  {
   "cell_type": "code",
   "execution_count": null,
   "metadata": {},
   "outputs": [],
   "source": [
    "investment_results.summary.xs(1, level=\"Sample\", drop_level=False)"
   ]
  },
  {
   "cell_type": "markdown",
   "metadata": {},
   "source": [
    "### Save results."
   ]
  },
  {
   "cell_type": "code",
   "execution_count": null,
   "metadata": {},
   "outputs": [],
   "source": [
    "investment_results.amounts.to_csv(\"output/residential_pv_multiobjective/example-investment-amounts.csv\")"
   ]
  },
  {
   "cell_type": "code",
   "execution_count": null,
   "metadata": {},
   "outputs": [],
   "source": [
    "investment_results.metrics.to_csv(\"output/residential_pv_multiobjective/example-investment-metrics.csv\")"
   ]
  },
  {
   "cell_type": "markdown",
   "metadata": {},
   "source": [
    "### Plot GHG metric."
   ]
  },
  {
   "cell_type": "code",
   "execution_count": null,
   "metadata": {
    "scrolled": false
   },
   "outputs": [],
   "source": [
    "g = sb.boxplot(\n",
    "    x=\"Investment\",\n",
    "    y=\"Value\",\n",
    "    data=investment_results.metrics.xs(\n",
    "        \"GHG\",\n",
    "        level=\"Index\"\n",
    "    ).reset_index()[[\"Investment\", \"Value\"]],\n",
    "    order=[\n",
    "        \"Low R&D\"   ,\n",
    "        \"Medium R&D\",\n",
    "        \"High R&D\"  ,\n",
    "    ]\n",
    ")\n",
    "g.set(ylabel=\"GHG Reduction [gCO2e / system]\")\n",
    "g.set_xticklabels(g.get_xticklabels(), rotation=15);"
   ]
  },
  {
   "cell_type": "markdown",
   "metadata": {},
   "source": [
    "### Plot LCOE metric."
   ]
  },
  {
   "cell_type": "code",
   "execution_count": null,
   "metadata": {},
   "outputs": [],
   "source": [
    "g = sb.boxplot(\n",
    "    x=\"Investment\",\n",
    "    y=\"Value\",\n",
    "    data=investment_results.metrics.xs(\n",
    "        \"LCOE\",\n",
    "        level=\"Index\"\n",
    "    ).reset_index()[[\"Investment\", \"Value\"]],\n",
    "    order=[\n",
    "        \"Low R&D\"   ,\n",
    "        \"Medium R&D\",\n",
    "        \"High R&D\"  ,\n",
    "    ]\n",
    ")\n",
    "g.set(ylabel=\"LCOE Reduction [USD / kWh]\")\n",
    "g.set_xticklabels(g.get_xticklabels(), rotation=15);"
   ]
  },
  {
   "cell_type": "markdown",
   "metadata": {},
   "source": [
    "### Plot labor metric."
   ]
  },
  {
   "cell_type": "code",
   "execution_count": null,
   "metadata": {},
   "outputs": [],
   "source": [
    "g = sb.boxplot(\n",
    "    x=\"Investment\",\n",
    "    y=\"Value\",\n",
    "    data=investment_results.metrics.xs(\n",
    "        \"Labor\",\n",
    "        level=\"Index\"\n",
    "    ).reset_index()[[\"Investment\", \"Value\"]],\n",
    "    order=[\n",
    "        \"Low R&D\"   ,\n",
    "        \"Medium R&D\",\n",
    "        \"High R&D\"  ,\n",
    "    ]\n",
    ")\n",
    "g.set(ylabel=\"Labor Increase [USD / system]\")\n",
    "g.set_xticklabels(g.get_xticklabels(), rotation=15);"
   ]
  },
  {
   "cell_type": "markdown",
   "metadata": {},
   "source": [
    "## Multi-objective decision analysis."
   ]
  },
  {
   "cell_type": "markdown",
   "metadata": {},
   "source": [
    "### Compute costs and metrics for tranches."
   ]
  },
  {
   "cell_type": "markdown",
   "metadata": {},
   "source": [
    "Tranches are atomic units for building investment portfolios. Evaluate all of the tranches, so we can assemble them into investments (portfolios)."
   ]
  },
  {
   "cell_type": "code",
   "execution_count": null,
   "metadata": {},
   "outputs": [],
   "source": [
    "tranche_results = investments.evaluate_tranches(designs, sample_count=50)"
   ]
  },
  {
   "cell_type": "markdown",
   "metadata": {},
   "source": [
    "Display the cost of each tranche."
   ]
  },
  {
   "cell_type": "code",
   "execution_count": null,
   "metadata": {},
   "outputs": [],
   "source": [
    "tranche_results.amounts"
   ]
  },
  {
   "cell_type": "markdown",
   "metadata": {},
   "source": [
    "Display the metrics for each tranche."
   ]
  },
  {
   "cell_type": "code",
   "execution_count": null,
   "metadata": {},
   "outputs": [],
   "source": [
    "tranche_results.summary"
   ]
  },
  {
   "cell_type": "markdown",
   "metadata": {},
   "source": [
    "Save the results."
   ]
  },
  {
   "cell_type": "code",
   "execution_count": null,
   "metadata": {},
   "outputs": [],
   "source": [
    "tranche_results.amounts.to_csv(\"output/residential_pv_multiobjective/example-tranche-amounts.csv\")\n",
    "tranche_results.summary.to_csv(\"output/residential_pv_multiobjective/example-tranche-summary.csv\")"
   ]
  },
  {
   "cell_type": "markdown",
   "metadata": {},
   "source": [
    "### Fit a response surface to the results."
   ]
  },
  {
   "cell_type": "markdown",
   "metadata": {},
   "source": [
    "The response surface interpolates between the discrete set of cases provided in the expert elicitation. This allows us to study funding levels intermediate between those scenarios."
   ]
  },
  {
   "cell_type": "code",
   "execution_count": null,
   "metadata": {},
   "outputs": [],
   "source": [
    "evaluator = ty.Evaluator(investments.tranches, tranche_results.summary)"
   ]
  },
  {
   "cell_type": "markdown",
   "metadata": {},
   "source": [
    "Here are the categories of investment and the maximum amount that could be invested in each:"
   ]
  },
  {
   "cell_type": "code",
   "execution_count": null,
   "metadata": {},
   "outputs": [],
   "source": [
    "evaluator.max_amount"
   ]
  },
  {
   "cell_type": "markdown",
   "metadata": {},
   "source": [
    "Here are the metrics and their units of measure:"
   ]
  },
  {
   "cell_type": "code",
   "execution_count": null,
   "metadata": {},
   "outputs": [],
   "source": [
    "evaluator.units"
   ]
  },
  {
   "cell_type": "markdown",
   "metadata": {},
   "source": [
    "#### Example interpolation."
   ]
  },
  {
   "cell_type": "markdown",
   "metadata": {},
   "source": [
    "Let's evaluate the case where each category is invested in at half of its maximum amount."
   ]
  },
  {
   "cell_type": "code",
   "execution_count": null,
   "metadata": {},
   "outputs": [],
   "source": [
    "example_investments = evaluator.max_amount / 2\n",
    "example_investments"
   ]
  },
  {
   "cell_type": "code",
   "execution_count": null,
   "metadata": {},
   "outputs": [],
   "source": [
    "evaluator.evaluate(example_investments)"
   ]
  },
  {
   "cell_type": "markdown",
   "metadata": {},
   "source": [
    "Let's evaluate the mean instead of outputing the whole distribution."
   ]
  },
  {
   "cell_type": "code",
   "execution_count": null,
   "metadata": {},
   "outputs": [],
   "source": [
    "evaluator.evaluate_statistic(example_investments, np.mean)"
   ]
  },
  {
   "cell_type": "markdown",
   "metadata": {},
   "source": [
    "Here is the standard deviation:"
   ]
  },
  {
   "cell_type": "code",
   "execution_count": null,
   "metadata": {},
   "outputs": [],
   "source": [
    "evaluator.evaluate_statistic(example_investments, np.std)"
   ]
  },
  {
   "cell_type": "markdown",
   "metadata": {},
   "source": [
    "A risk-averse decision maker might be interested in the 10% percentile:"
   ]
  },
  {
   "cell_type": "code",
   "execution_count": null,
   "metadata": {},
   "outputs": [],
   "source": [
    "evaluator.evaluate_statistic(example_investments, lambda x: np.quantile(x, 0.1))"
   ]
  },
  {
   "cell_type": "markdown",
   "metadata": {},
   "source": [
    "### ε-Constraint multiobjective optimization"
   ]
  },
  {
   "cell_type": "code",
   "execution_count": null,
   "metadata": {},
   "outputs": [],
   "source": [
    "optimizer = ty.EpsilonConstraintOptimizer(evaluator)"
   ]
  },
  {
   "cell_type": "markdown",
   "metadata": {},
   "source": [
    "In order to meaningfully map the decision space, we need to know the maximum values for each of the metrics."
   ]
  },
  {
   "cell_type": "code",
   "execution_count": null,
   "metadata": {},
   "outputs": [],
   "source": [
    "metric_max = optimizer.max_metrics()\n",
    "metric_max"
   ]
  },
  {
   "cell_type": "markdown",
   "metadata": {},
   "source": [
    "#### Example optimization."
   ]
  },
  {
   "cell_type": "markdown",
   "metadata": {},
   "source": [
    "Limit spending to $3M."
   ]
  },
  {
   "cell_type": "code",
   "execution_count": null,
   "metadata": {},
   "outputs": [],
   "source": [
    "investment_max = 3e6"
   ]
  },
  {
   "cell_type": "markdown",
   "metadata": {},
   "source": [
    "Require that the GHG reduction be at least 40 gCO2e/system and that the Labor wages not decrease."
   ]
  },
  {
   "cell_type": "code",
   "execution_count": null,
   "metadata": {},
   "outputs": [],
   "source": [
    "metric_min = pd.Series([40, 0], name = \"Value\", index = [\"GHG\", \"Labor\"])\n",
    "metric_min"
   ]
  },
  {
   "cell_type": "markdown",
   "metadata": {},
   "source": [
    "Compute the ε-constrained maximum for the LCOE."
   ]
  },
  {
   "cell_type": "code",
   "execution_count": null,
   "metadata": {},
   "outputs": [],
   "source": [
    "optimum = optimizer.maximize(\n",
    "    \"LCOE\"                       ,\n",
    "    total_amount = investment_max,\n",
    "    min_metric   = metric_min    ,\n",
    "    statistic    = np.mean       ,\n",
    ")\n",
    "optimum.exit_message"
   ]
  },
  {
   "cell_type": "markdown",
   "metadata": {},
   "source": [
    "Here are the optimal spending levels:"
   ]
  },
  {
   "cell_type": "code",
   "execution_count": null,
   "metadata": {},
   "outputs": [],
   "source": [
    "np.round(optimum.amounts)"
   ]
  },
  {
   "cell_type": "markdown",
   "metadata": {},
   "source": [
    "Here are the three metrics at that optimum:"
   ]
  },
  {
   "cell_type": "code",
   "execution_count": null,
   "metadata": {},
   "outputs": [],
   "source": [
    "optimum.metrics"
   ]
  },
  {
   "cell_type": "markdown",
   "metadata": {},
   "source": [
    "*Thus, by putting all of the investment into Module R&D, we can expected to achieve a mean 3.75 ¢/kWh reduction in LCOE under the GHG and Labor constraints.*"
   ]
  },
  {
   "cell_type": "markdown",
   "metadata": {},
   "source": [
    "It turns out that there is no solution for these constraints if we evaluate the 10th percentile of the metrics, for a risk-averse decision maker."
   ]
  },
  {
   "cell_type": "code",
   "execution_count": null,
   "metadata": {},
   "outputs": [],
   "source": [
    "optimum = optimizer.maximize(\n",
    "    \"LCOE\"                       ,\n",
    "    total_amount = investment_max,\n",
    "    min_metric   = metric_min    ,\n",
    "    statistic    = lambda x: np.quantile(x, 0.1),\n",
    ")\n",
    "optimum.exit_message"
   ]
  },
  {
   "cell_type": "markdown",
   "metadata": {},
   "source": [
    "Let's try again, but with a less stringent set of constraints, only constraining GHG somewhat  but not Labor at all."
   ]
  },
  {
   "cell_type": "code",
   "execution_count": null,
   "metadata": {},
   "outputs": [],
   "source": [
    "optimum = optimizer.maximize(\n",
    "    \"LCOE\"                                                         ,\n",
    "    total_amount = investment_max                                  ,\n",
    "    min_metric   = pd.Series([30], name = \"Value\", index = [\"GHG\"]),\n",
    "    statistic    = lambda x: np.quantile(x, 0.1)                   ,\n",
    ")\n",
    "optimum.exit_message"
   ]
  },
  {
   "cell_type": "code",
   "execution_count": null,
   "metadata": {},
   "outputs": [],
   "source": [
    "np.round(optimum.amounts)"
   ]
  },
  {
   "cell_type": "code",
   "execution_count": null,
   "metadata": {},
   "outputs": [],
   "source": [
    "optimum.metrics"
   ]
  },
  {
   "cell_type": "markdown",
   "metadata": {},
   "source": [
    "### Pareto surfaces."
   ]
  },
  {
   "cell_type": "markdown",
   "metadata": {},
   "source": [
    "##### Metrics constrained by total investment."
   ]
  },
  {
   "cell_type": "code",
   "execution_count": null,
   "metadata": {},
   "outputs": [],
   "source": [
    "pareto_amounts = None\n",
    "for investment_max in np.arange(1e6, 9e6, 0.5e6):\n",
    "    metrics = optimizer.max_metrics(total_amount = investment_max)\n",
    "    pareto_amounts = pd.DataFrame(\n",
    "        [metrics.values]                                         ,\n",
    "        columns = metrics.index.values                           ,\n",
    "        index   = pd.Index([investment_max / 1e6], name = \"Investment [M$]\"),\n",
    "    ).append(pareto_amounts)\n",
    "pareto_amounts"
   ]
  },
  {
   "cell_type": "code",
   "execution_count": null,
   "metadata": {},
   "outputs": [],
   "source": [
    "sb.relplot(\n",
    "    x         = \"Investment [M$]\",\n",
    "    y         = \"Value\"          ,\n",
    "    col       = \"Metric\"         ,\n",
    "    kind      = \"line\"           ,\n",
    "    facet_kws = {'sharey': False},\n",
    "    data      = pareto_amounts.reset_index().melt(id_vars = \"Investment [M$]\", var_name = \"Metric\", value_name = \"Value\")\n",
    ")"
   ]
  },
  {
   "cell_type": "markdown",
   "metadata": {},
   "source": [
    "*We see that the LCOE metric saturates more slowly than the GHG and Labor ones.*"
   ]
  },
  {
   "cell_type": "markdown",
   "metadata": {},
   "source": [
    "##### GHG vs LCOE, constrained by total investment."
   ]
  },
  {
   "cell_type": "code",
   "execution_count": null,
   "metadata": {
    "scrolled": false
   },
   "outputs": [],
   "source": [
    "investment_max = 3\n",
    "pareto_ghg_lcoe = None\n",
    "for lcoe_min in 0.95 * np.arange(0.5, 0.9, 0.05) * pareto_amounts.loc[investment_max, \"LCOE\"]:\n",
    "    optimum = optimizer.maximize(\n",
    "        \"GHG\",\n",
    "        max_amount   = pd.Series([0.9e6, 3.0e6, 1.0e6], name = \"Amount\", index = [\"BoS R&D\", \"Inverter R&D\", \"Module R&D\"]),\n",
    "        total_amount = investment_max * 1e6                                 ,\n",
    "        min_metric   = pd.Series([lcoe_min], name = \"Value\", index = [\"LCOE\"]),\n",
    "    )\n",
    "    pareto_ghg_lcoe = pd.DataFrame(\n",
    "        [[investment_max, lcoe_min, optimum.metrics[\"LCOE\"], optimum.metrics[\"GHG\"], optimum.exit_message]],\n",
    "        columns = [\"Investment [M$]\", \"LCOE (min)\", \"LCOE\", \"GHG\", \"Result\"]                               ,\n",
    "    ).append(pareto_ghg_lcoe)\n",
    "pareto_ghg_lcoe = pareto_ghg_lcoe.set_index([\"Investment [M$]\", \"LCOE (min)\"])\n",
    "pareto_ghg_lcoe"
   ]
  },
  {
   "cell_type": "code",
   "execution_count": null,
   "metadata": {},
   "outputs": [],
   "source": [
    "sb.relplot(\n",
    "    x = \"LCOE\",\n",
    "    y = \"GHG\",\n",
    "    kind = \"scatter\",\n",
    "    data = pareto_ghg_lcoe#[pareto_ghg_lcoe.Result == \"Optimization terminated successfully.\"]\n",
    ")"
   ]
  },
  {
   "cell_type": "markdown",
   "metadata": {},
   "source": [
    "*The three types of investment are too decoupled to make an interesting pareto frontier, and we also need a better solver if we want to push to lower right.*"
   ]
  },
  {
   "cell_type": "markdown",
   "metadata": {},
   "source": [
    "## Run the interactive explorer for the decision space."
   ]
  },
  {
   "cell_type": "markdown",
   "metadata": {},
   "source": [
    "<font color=\"red\">Make sure the the `tk` package is installed on your machine.</font> Here is the Anaconda link: https://anaconda.org/anaconda/tk."
   ]
  },
  {
   "cell_type": "code",
   "execution_count": null,
   "metadata": {},
   "outputs": [],
   "source": [
    "w = ty.DecisionWindow(evaluator)\n",
    "w.mainloop()"
   ]
  },
  {
   "cell_type": "markdown",
   "metadata": {},
   "source": [
    "A new window should open that looks like the image below. Moving the sliders will cause a recomputation of the boxplots."
   ]
  },
  {
   "cell_type": "code",
   "execution_count": null,
   "metadata": {},
   "outputs": [],
   "source": [
    "Image(\"residential_pv_multiobjective_gui.png\")"
   ]
  }
 ],
 "metadata": {
  "kernelspec": {
   "display_name": "Python 3",
   "language": "python",
   "name": "python3"
  },
  "language_info": {
   "codemirror_mode": {
    "name": "ipython",
    "version": 3
   },
   "file_extension": ".py",
   "mimetype": "text/x-python",
   "name": "python",
   "nbconvert_exporter": "python",
   "pygments_lexer": "ipython3",
   "version": "3.7.6"
  }
 },
 "nbformat": 4,
 "nbformat_minor": 2
}
