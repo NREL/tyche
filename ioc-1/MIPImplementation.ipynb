{
 "cells": [
  {
   "cell_type": "markdown",
   "metadata": {},
   "source": [
    "The goal of this notebook is to take the ad hoc implementation in `MIPExample1.ipynb` and vectorize the operations such that any size Tyche problem can be converted to a MIP and solved."
   ]
  },
  {
   "cell_type": "code",
   "execution_count": 1,
   "metadata": {},
   "outputs": [],
   "source": [
    "import os\n",
    "import sys\n",
    "sys.path.insert(0, os.path.abspath(\"../src\"))"
   ]
  },
  {
   "cell_type": "code",
   "execution_count": 2,
   "metadata": {},
   "outputs": [],
   "source": [
    "import numpy             as np\n",
    "import matplotlib.pyplot as pl\n",
    "import pandas            as pd\n",
    "import seaborn           as sb\n",
    "import tyche             as ty\n",
    "\n",
    "from copy            import deepcopy\n",
    "from IPython.display import Image "
   ]
  },
  {
   "cell_type": "code",
   "execution_count": 3,
   "metadata": {},
   "outputs": [],
   "source": [
    "import cProfile\n",
    "import timeit"
   ]
  },
  {
   "cell_type": "code",
   "execution_count": 4,
   "metadata": {},
   "outputs": [],
   "source": [
    "from mip import Model, minimize, BINARY, xsum"
   ]
  },
  {
   "cell_type": "code",
   "execution_count": 5,
   "metadata": {},
   "outputs": [],
   "source": [
    "designs = ty.Designs(\"data\")\n",
    "investments = ty.Investments(\"data\")\n",
    "designs.compile()\n",
    "tranche_results = investments.evaluate_tranches(designs, sample_count=250)\n",
    "results = investments.tranches.join(tranche_results.summary)\n",
    "evaluator = ty.Evaluator(investments.tranches, tranche_results.summary)"
   ]
  },
  {
   "cell_type": "markdown",
   "metadata": {},
   "source": [
    "Get the wide-format interpolated elicitation data from the Tyche Evaluator and reset the multi-level index."
   ]
  },
  {
   "cell_type": "code",
   "execution_count": 6,
   "metadata": {},
   "outputs": [],
   "source": [
    "wide = evaluator.evaluate_corners_wide().reset_index()"
   ]
  },
  {
   "cell_type": "code",
   "execution_count": 7,
   "metadata": {},
   "outputs": [
    {
     "data": {
      "text/html": [
       "<div>\n",
       "<style scoped>\n",
       "    .dataframe tbody tr th:only-of-type {\n",
       "        vertical-align: middle;\n",
       "    }\n",
       "\n",
       "    .dataframe tbody tr th {\n",
       "        vertical-align: top;\n",
       "    }\n",
       "\n",
       "    .dataframe thead th {\n",
       "        text-align: right;\n",
       "    }\n",
       "</style>\n",
       "<table border=\"1\" class=\"dataframe\">\n",
       "  <thead>\n",
       "    <tr style=\"text-align: right;\">\n",
       "      <th>Index</th>\n",
       "      <th>CIGS</th>\n",
       "      <th>CdTe</th>\n",
       "      <th>GaAs</th>\n",
       "      <th>InGaP</th>\n",
       "      <th>Perovskite</th>\n",
       "      <th>Polysilicon</th>\n",
       "      <th>Power Electronics</th>\n",
       "      <th>Soft Costs</th>\n",
       "      <th>Capital</th>\n",
       "      <th>Efficiency</th>\n",
       "      <th>GHG</th>\n",
       "      <th>Hazardous</th>\n",
       "      <th>LCOE</th>\n",
       "      <th>Lifetime</th>\n",
       "      <th>Strategic</th>\n",
       "      <th>Yield</th>\n",
       "    </tr>\n",
       "  </thead>\n",
       "  <tbody>\n",
       "    <tr>\n",
       "      <th>0</th>\n",
       "      <td>0.0</td>\n",
       "      <td>0.0</td>\n",
       "      <td>0.0</td>\n",
       "      <td>0.0</td>\n",
       "      <td>0.0</td>\n",
       "      <td>0.0</td>\n",
       "      <td>0.0</td>\n",
       "      <td>0.0</td>\n",
       "      <td>-1.530424</td>\n",
       "      <td>2.068725</td>\n",
       "      <td>-0.003592</td>\n",
       "      <td>0.972416</td>\n",
       "      <td>-0.144040</td>\n",
       "      <td>187.983314</td>\n",
       "      <td>0.063388</td>\n",
       "      <td>9999.033113</td>\n",
       "    </tr>\n",
       "    <tr>\n",
       "      <th>1</th>\n",
       "      <td>0.0</td>\n",
       "      <td>0.0</td>\n",
       "      <td>0.0</td>\n",
       "      <td>0.0</td>\n",
       "      <td>0.0</td>\n",
       "      <td>0.0</td>\n",
       "      <td>0.0</td>\n",
       "      <td>1000000.0</td>\n",
       "      <td>-1.450576</td>\n",
       "      <td>2.068036</td>\n",
       "      <td>-0.003592</td>\n",
       "      <td>0.973190</td>\n",
       "      <td>-0.141542</td>\n",
       "      <td>187.983324</td>\n",
       "      <td>0.063388</td>\n",
       "      <td>9999.031773</td>\n",
       "    </tr>\n",
       "    <tr>\n",
       "      <th>2</th>\n",
       "      <td>0.0</td>\n",
       "      <td>0.0</td>\n",
       "      <td>0.0</td>\n",
       "      <td>0.0</td>\n",
       "      <td>0.0</td>\n",
       "      <td>0.0</td>\n",
       "      <td>0.0</td>\n",
       "      <td>5000000.0</td>\n",
       "      <td>-1.280386</td>\n",
       "      <td>2.068401</td>\n",
       "      <td>-0.003592</td>\n",
       "      <td>0.972725</td>\n",
       "      <td>-0.136217</td>\n",
       "      <td>187.983370</td>\n",
       "      <td>0.063388</td>\n",
       "      <td>9999.036431</td>\n",
       "    </tr>\n",
       "    <tr>\n",
       "      <th>3</th>\n",
       "      <td>0.0</td>\n",
       "      <td>0.0</td>\n",
       "      <td>0.0</td>\n",
       "      <td>0.0</td>\n",
       "      <td>0.0</td>\n",
       "      <td>0.0</td>\n",
       "      <td>1000000.0</td>\n",
       "      <td>0.0</td>\n",
       "      <td>-1.465804</td>\n",
       "      <td>2.067513</td>\n",
       "      <td>-0.003592</td>\n",
       "      <td>0.961801</td>\n",
       "      <td>-0.138266</td>\n",
       "      <td>187.983293</td>\n",
       "      <td>0.063388</td>\n",
       "      <td>10063.916501</td>\n",
       "    </tr>\n",
       "    <tr>\n",
       "      <th>4</th>\n",
       "      <td>0.0</td>\n",
       "      <td>0.0</td>\n",
       "      <td>0.0</td>\n",
       "      <td>0.0</td>\n",
       "      <td>0.0</td>\n",
       "      <td>0.0</td>\n",
       "      <td>1000000.0</td>\n",
       "      <td>1000000.0</td>\n",
       "      <td>-1.385955</td>\n",
       "      <td>2.066823</td>\n",
       "      <td>-0.003592</td>\n",
       "      <td>0.962575</td>\n",
       "      <td>-0.135768</td>\n",
       "      <td>187.983303</td>\n",
       "      <td>0.063388</td>\n",
       "      <td>10063.915161</td>\n",
       "    </tr>\n",
       "    <tr>\n",
       "      <th>...</th>\n",
       "      <td>...</td>\n",
       "      <td>...</td>\n",
       "      <td>...</td>\n",
       "      <td>...</td>\n",
       "      <td>...</td>\n",
       "      <td>...</td>\n",
       "      <td>...</td>\n",
       "      <td>...</td>\n",
       "      <td>...</td>\n",
       "      <td>...</td>\n",
       "      <td>...</td>\n",
       "      <td>...</td>\n",
       "      <td>...</td>\n",
       "      <td>...</td>\n",
       "      <td>...</td>\n",
       "      <td>...</td>\n",
       "    </tr>\n",
       "    <tr>\n",
       "      <th>6556</th>\n",
       "      <td>3000000.0</td>\n",
       "      <td>6000000.0</td>\n",
       "      <td>7500000.0</td>\n",
       "      <td>9500000.0</td>\n",
       "      <td>9500000.0</td>\n",
       "      <td>4500000.0</td>\n",
       "      <td>1000000.0</td>\n",
       "      <td>1000000.0</td>\n",
       "      <td>3.272544</td>\n",
       "      <td>2.334725</td>\n",
       "      <td>-0.003592</td>\n",
       "      <td>0.799772</td>\n",
       "      <td>0.054470</td>\n",
       "      <td>187.979747</td>\n",
       "      <td>0.043162</td>\n",
       "      <td>10277.622035</td>\n",
       "    </tr>\n",
       "    <tr>\n",
       "      <th>6557</th>\n",
       "      <td>3000000.0</td>\n",
       "      <td>6000000.0</td>\n",
       "      <td>7500000.0</td>\n",
       "      <td>9500000.0</td>\n",
       "      <td>9500000.0</td>\n",
       "      <td>4500000.0</td>\n",
       "      <td>1000000.0</td>\n",
       "      <td>5000000.0</td>\n",
       "      <td>3.442734</td>\n",
       "      <td>2.335090</td>\n",
       "      <td>-0.003592</td>\n",
       "      <td>0.799307</td>\n",
       "      <td>0.059795</td>\n",
       "      <td>187.979793</td>\n",
       "      <td>0.043162</td>\n",
       "      <td>10277.626693</td>\n",
       "    </tr>\n",
       "    <tr>\n",
       "      <th>6558</th>\n",
       "      <td>3000000.0</td>\n",
       "      <td>6000000.0</td>\n",
       "      <td>7500000.0</td>\n",
       "      <td>9500000.0</td>\n",
       "      <td>9500000.0</td>\n",
       "      <td>4500000.0</td>\n",
       "      <td>5000000.0</td>\n",
       "      <td>0.0</td>\n",
       "      <td>3.278471</td>\n",
       "      <td>2.336357</td>\n",
       "      <td>-0.003592</td>\n",
       "      <td>0.790923</td>\n",
       "      <td>0.056700</td>\n",
       "      <td>187.979821</td>\n",
       "      <td>0.043162</td>\n",
       "      <td>10319.807406</td>\n",
       "    </tr>\n",
       "    <tr>\n",
       "      <th>6559</th>\n",
       "      <td>3000000.0</td>\n",
       "      <td>6000000.0</td>\n",
       "      <td>7500000.0</td>\n",
       "      <td>9500000.0</td>\n",
       "      <td>9500000.0</td>\n",
       "      <td>4500000.0</td>\n",
       "      <td>5000000.0</td>\n",
       "      <td>1000000.0</td>\n",
       "      <td>3.358319</td>\n",
       "      <td>2.335667</td>\n",
       "      <td>-0.003592</td>\n",
       "      <td>0.791697</td>\n",
       "      <td>0.059199</td>\n",
       "      <td>187.979831</td>\n",
       "      <td>0.043162</td>\n",
       "      <td>10319.806065</td>\n",
       "    </tr>\n",
       "    <tr>\n",
       "      <th>6560</th>\n",
       "      <td>3000000.0</td>\n",
       "      <td>6000000.0</td>\n",
       "      <td>7500000.0</td>\n",
       "      <td>9500000.0</td>\n",
       "      <td>9500000.0</td>\n",
       "      <td>4500000.0</td>\n",
       "      <td>5000000.0</td>\n",
       "      <td>5000000.0</td>\n",
       "      <td>3.528509</td>\n",
       "      <td>2.336032</td>\n",
       "      <td>-0.003592</td>\n",
       "      <td>0.791232</td>\n",
       "      <td>0.064524</td>\n",
       "      <td>187.979877</td>\n",
       "      <td>0.043162</td>\n",
       "      <td>10319.810723</td>\n",
       "    </tr>\n",
       "  </tbody>\n",
       "</table>\n",
       "<p>6561 rows × 16 columns</p>\n",
       "</div>"
      ],
      "text/plain": [
       "Index       CIGS       CdTe       GaAs      InGaP  Perovskite  Polysilicon  \\\n",
       "0            0.0        0.0        0.0        0.0         0.0          0.0   \n",
       "1            0.0        0.0        0.0        0.0         0.0          0.0   \n",
       "2            0.0        0.0        0.0        0.0         0.0          0.0   \n",
       "3            0.0        0.0        0.0        0.0         0.0          0.0   \n",
       "4            0.0        0.0        0.0        0.0         0.0          0.0   \n",
       "...          ...        ...        ...        ...         ...          ...   \n",
       "6556   3000000.0  6000000.0  7500000.0  9500000.0   9500000.0    4500000.0   \n",
       "6557   3000000.0  6000000.0  7500000.0  9500000.0   9500000.0    4500000.0   \n",
       "6558   3000000.0  6000000.0  7500000.0  9500000.0   9500000.0    4500000.0   \n",
       "6559   3000000.0  6000000.0  7500000.0  9500000.0   9500000.0    4500000.0   \n",
       "6560   3000000.0  6000000.0  7500000.0  9500000.0   9500000.0    4500000.0   \n",
       "\n",
       "Index  Power Electronics  Soft Costs   Capital  Efficiency       GHG  \\\n",
       "0                    0.0         0.0 -1.530424    2.068725 -0.003592   \n",
       "1                    0.0   1000000.0 -1.450576    2.068036 -0.003592   \n",
       "2                    0.0   5000000.0 -1.280386    2.068401 -0.003592   \n",
       "3              1000000.0         0.0 -1.465804    2.067513 -0.003592   \n",
       "4              1000000.0   1000000.0 -1.385955    2.066823 -0.003592   \n",
       "...                  ...         ...       ...         ...       ...   \n",
       "6556           1000000.0   1000000.0  3.272544    2.334725 -0.003592   \n",
       "6557           1000000.0   5000000.0  3.442734    2.335090 -0.003592   \n",
       "6558           5000000.0         0.0  3.278471    2.336357 -0.003592   \n",
       "6559           5000000.0   1000000.0  3.358319    2.335667 -0.003592   \n",
       "6560           5000000.0   5000000.0  3.528509    2.336032 -0.003592   \n",
       "\n",
       "Index  Hazardous      LCOE    Lifetime  Strategic         Yield  \n",
       "0       0.972416 -0.144040  187.983314   0.063388   9999.033113  \n",
       "1       0.973190 -0.141542  187.983324   0.063388   9999.031773  \n",
       "2       0.972725 -0.136217  187.983370   0.063388   9999.036431  \n",
       "3       0.961801 -0.138266  187.983293   0.063388  10063.916501  \n",
       "4       0.962575 -0.135768  187.983303   0.063388  10063.915161  \n",
       "...          ...       ...         ...        ...           ...  \n",
       "6556    0.799772  0.054470  187.979747   0.043162  10277.622035  \n",
       "6557    0.799307  0.059795  187.979793   0.043162  10277.626693  \n",
       "6558    0.790923  0.056700  187.979821   0.043162  10319.807406  \n",
       "6559    0.791697  0.059199  187.979831   0.043162  10319.806065  \n",
       "6560    0.791232  0.064524  187.979877   0.043162  10319.810723  \n",
       "\n",
       "[6561 rows x 16 columns]"
      ]
     },
     "execution_count": 7,
     "metadata": {},
     "output_type": "execute_result"
    }
   ],
   "source": [
    "wide"
   ]
  },
  {
   "cell_type": "markdown",
   "metadata": {},
   "source": [
    "**Input to MIP constructor needed**: List of investment categories\n",
    "\n",
    "**Input to MIP constructor needed**: List of metrics to optimize and/or constrain\n",
    "\n",
    "**Data check**: Confirm that all elements of both input lists match columns in the `evaluate_corners_wide()` data frame."
   ]
  },
  {
   "cell_type": "code",
   "execution_count": 8,
   "metadata": {},
   "outputs": [],
   "source": [
    "categories = ['Soft Costs', 'Perovskite', 'CIGS']\n",
    "\n",
    "metrics = ['Capital']"
   ]
  },
  {
   "cell_type": "markdown",
   "metadata": {},
   "source": [
    "Fill in the various index values for the one-by-one data set."
   ]
  },
  {
   "cell_type": "code",
   "execution_count": 9,
   "metadata": {},
   "outputs": [],
   "source": [
    "# Number of investment categories\n",
    "Inv = len(categories)\n",
    "\n",
    "# Number of metrics\n",
    "J = len(metrics)"
   ]
  },
  {
   "cell_type": "code",
   "execution_count": 10,
   "metadata": {},
   "outputs": [],
   "source": [
    "# Named series of the number of elicited funding levels in each investment category of interest\n",
    "l = pd.Series(data=wide.nunique(axis=0, dropna=True)[categories], index=categories)\n",
    "\n",
    "# Named series of the number of linear intervals in each investment category of interest\n",
    "n = pd.Series(data=[x - 1 for x in l], index=categories)\n",
    "\n",
    "# Named series of the number of new lambda variables in each investment category of interest\n",
    "k = l.copy()"
   ]
  },
  {
   "cell_type": "code",
   "execution_count": 57,
   "metadata": {},
   "outputs": [],
   "source": [
    "levels = pd.DataFrame(columns=categories)\n",
    "for i in categories:\n",
    "    levels.loc[:,i] = pd.Series(pd.unique(wide.loc[:,categories[0]]))"
   ]
  },
  {
   "cell_type": "code",
   "execution_count": 58,
   "metadata": {},
   "outputs": [
    {
     "data": {
      "text/html": [
       "<div>\n",
       "<style scoped>\n",
       "    .dataframe tbody tr th:only-of-type {\n",
       "        vertical-align: middle;\n",
       "    }\n",
       "\n",
       "    .dataframe tbody tr th {\n",
       "        vertical-align: top;\n",
       "    }\n",
       "\n",
       "    .dataframe thead th {\n",
       "        text-align: right;\n",
       "    }\n",
       "</style>\n",
       "<table border=\"1\" class=\"dataframe\">\n",
       "  <thead>\n",
       "    <tr style=\"text-align: right;\">\n",
       "      <th></th>\n",
       "      <th>Soft Costs</th>\n",
       "      <th>Perovskite</th>\n",
       "      <th>CIGS</th>\n",
       "    </tr>\n",
       "  </thead>\n",
       "  <tbody>\n",
       "    <tr>\n",
       "      <th>0</th>\n",
       "      <td>0.0</td>\n",
       "      <td>0.0</td>\n",
       "      <td>0.0</td>\n",
       "    </tr>\n",
       "    <tr>\n",
       "      <th>1</th>\n",
       "      <td>1000000.0</td>\n",
       "      <td>1000000.0</td>\n",
       "      <td>1000000.0</td>\n",
       "    </tr>\n",
       "    <tr>\n",
       "      <th>2</th>\n",
       "      <td>5000000.0</td>\n",
       "      <td>5000000.0</td>\n",
       "      <td>5000000.0</td>\n",
       "    </tr>\n",
       "  </tbody>\n",
       "</table>\n",
       "</div>"
      ],
      "text/plain": [
       "   Soft Costs  Perovskite       CIGS\n",
       "0         0.0         0.0        0.0\n",
       "1   1000000.0   1000000.0  1000000.0\n",
       "2   5000000.0   5000000.0  5000000.0"
      ]
     },
     "execution_count": 58,
     "metadata": {},
     "output_type": "execute_result"
    }
   ],
   "source": [
    "levels"
   ]
  },
  {
   "cell_type": "markdown",
   "metadata": {},
   "source": [
    "Pull out the investment values and metric values from the data set."
   ]
  },
  {
   "cell_type": "code",
   "execution_count": 11,
   "metadata": {},
   "outputs": [],
   "source": [
    "# Investment levels\n",
    "v = wide.loc[:,categories]\n",
    "\n",
    "# Elicited metric values\n",
    "m = wide.loc[:,metrics]"
   ]
  },
  {
   "cell_type": "code",
   "execution_count": 27,
   "metadata": {},
   "outputs": [
    {
     "data": {
      "text/html": [
       "<div>\n",
       "<style scoped>\n",
       "    .dataframe tbody tr th:only-of-type {\n",
       "        vertical-align: middle;\n",
       "    }\n",
       "\n",
       "    .dataframe tbody tr th {\n",
       "        vertical-align: top;\n",
       "    }\n",
       "\n",
       "    .dataframe thead th {\n",
       "        text-align: right;\n",
       "    }\n",
       "</style>\n",
       "<table border=\"1\" class=\"dataframe\">\n",
       "  <thead>\n",
       "    <tr style=\"text-align: right;\">\n",
       "      <th>Index</th>\n",
       "      <th>Soft Costs</th>\n",
       "      <th>Perovskite</th>\n",
       "      <th>CIGS</th>\n",
       "    </tr>\n",
       "  </thead>\n",
       "  <tbody>\n",
       "    <tr>\n",
       "      <th>0</th>\n",
       "      <td>0.0</td>\n",
       "      <td>0.0</td>\n",
       "      <td>0.0</td>\n",
       "    </tr>\n",
       "    <tr>\n",
       "      <th>1</th>\n",
       "      <td>1000000.0</td>\n",
       "      <td>0.0</td>\n",
       "      <td>0.0</td>\n",
       "    </tr>\n",
       "    <tr>\n",
       "      <th>2</th>\n",
       "      <td>5000000.0</td>\n",
       "      <td>0.0</td>\n",
       "      <td>0.0</td>\n",
       "    </tr>\n",
       "    <tr>\n",
       "      <th>3</th>\n",
       "      <td>0.0</td>\n",
       "      <td>0.0</td>\n",
       "      <td>0.0</td>\n",
       "    </tr>\n",
       "    <tr>\n",
       "      <th>4</th>\n",
       "      <td>1000000.0</td>\n",
       "      <td>0.0</td>\n",
       "      <td>0.0</td>\n",
       "    </tr>\n",
       "    <tr>\n",
       "      <th>...</th>\n",
       "      <td>...</td>\n",
       "      <td>...</td>\n",
       "      <td>...</td>\n",
       "    </tr>\n",
       "    <tr>\n",
       "      <th>6556</th>\n",
       "      <td>1000000.0</td>\n",
       "      <td>9500000.0</td>\n",
       "      <td>3000000.0</td>\n",
       "    </tr>\n",
       "    <tr>\n",
       "      <th>6557</th>\n",
       "      <td>5000000.0</td>\n",
       "      <td>9500000.0</td>\n",
       "      <td>3000000.0</td>\n",
       "    </tr>\n",
       "    <tr>\n",
       "      <th>6558</th>\n",
       "      <td>0.0</td>\n",
       "      <td>9500000.0</td>\n",
       "      <td>3000000.0</td>\n",
       "    </tr>\n",
       "    <tr>\n",
       "      <th>6559</th>\n",
       "      <td>1000000.0</td>\n",
       "      <td>9500000.0</td>\n",
       "      <td>3000000.0</td>\n",
       "    </tr>\n",
       "    <tr>\n",
       "      <th>6560</th>\n",
       "      <td>5000000.0</td>\n",
       "      <td>9500000.0</td>\n",
       "      <td>3000000.0</td>\n",
       "    </tr>\n",
       "  </tbody>\n",
       "</table>\n",
       "<p>6561 rows × 3 columns</p>\n",
       "</div>"
      ],
      "text/plain": [
       "Index  Soft Costs  Perovskite       CIGS\n",
       "0             0.0         0.0        0.0\n",
       "1       1000000.0         0.0        0.0\n",
       "2       5000000.0         0.0        0.0\n",
       "3             0.0         0.0        0.0\n",
       "4       1000000.0         0.0        0.0\n",
       "...           ...         ...        ...\n",
       "6556    1000000.0   9500000.0  3000000.0\n",
       "6557    5000000.0   9500000.0  3000000.0\n",
       "6558          0.0   9500000.0  3000000.0\n",
       "6559    1000000.0   9500000.0  3000000.0\n",
       "6560    5000000.0   9500000.0  3000000.0\n",
       "\n",
       "[6561 rows x 3 columns]"
      ]
     },
     "execution_count": 27,
     "metadata": {},
     "output_type": "execute_result"
    }
   ],
   "source": [
    "v"
   ]
  },
  {
   "cell_type": "code",
   "execution_count": 28,
   "metadata": {},
   "outputs": [
    {
     "data": {
      "text/html": [
       "<div>\n",
       "<style scoped>\n",
       "    .dataframe tbody tr th:only-of-type {\n",
       "        vertical-align: middle;\n",
       "    }\n",
       "\n",
       "    .dataframe tbody tr th {\n",
       "        vertical-align: top;\n",
       "    }\n",
       "\n",
       "    .dataframe thead th {\n",
       "        text-align: right;\n",
       "    }\n",
       "</style>\n",
       "<table border=\"1\" class=\"dataframe\">\n",
       "  <thead>\n",
       "    <tr style=\"text-align: right;\">\n",
       "      <th>Index</th>\n",
       "      <th>Capital</th>\n",
       "    </tr>\n",
       "  </thead>\n",
       "  <tbody>\n",
       "    <tr>\n",
       "      <th>0</th>\n",
       "      <td>-1.530424</td>\n",
       "    </tr>\n",
       "    <tr>\n",
       "      <th>1</th>\n",
       "      <td>-1.450576</td>\n",
       "    </tr>\n",
       "    <tr>\n",
       "      <th>2</th>\n",
       "      <td>-1.280386</td>\n",
       "    </tr>\n",
       "    <tr>\n",
       "      <th>3</th>\n",
       "      <td>-1.465804</td>\n",
       "    </tr>\n",
       "    <tr>\n",
       "      <th>4</th>\n",
       "      <td>-1.385955</td>\n",
       "    </tr>\n",
       "    <tr>\n",
       "      <th>...</th>\n",
       "      <td>...</td>\n",
       "    </tr>\n",
       "    <tr>\n",
       "      <th>6556</th>\n",
       "      <td>3.272544</td>\n",
       "    </tr>\n",
       "    <tr>\n",
       "      <th>6557</th>\n",
       "      <td>3.442734</td>\n",
       "    </tr>\n",
       "    <tr>\n",
       "      <th>6558</th>\n",
       "      <td>3.278471</td>\n",
       "    </tr>\n",
       "    <tr>\n",
       "      <th>6559</th>\n",
       "      <td>3.358319</td>\n",
       "    </tr>\n",
       "    <tr>\n",
       "      <th>6560</th>\n",
       "      <td>3.528509</td>\n",
       "    </tr>\n",
       "  </tbody>\n",
       "</table>\n",
       "<p>6561 rows × 1 columns</p>\n",
       "</div>"
      ],
      "text/plain": [
       "Index   Capital\n",
       "0     -1.530424\n",
       "1     -1.450576\n",
       "2     -1.280386\n",
       "3     -1.465804\n",
       "4     -1.385955\n",
       "...         ...\n",
       "6556   3.272544\n",
       "6557   3.442734\n",
       "6558   3.278471\n",
       "6559   3.358319\n",
       "6560   3.528509\n",
       "\n",
       "[6561 rows x 1 columns]"
      ]
     },
     "execution_count": 28,
     "metadata": {},
     "output_type": "execute_result"
    }
   ],
   "source": [
    "m"
   ]
  },
  {
   "cell_type": "markdown",
   "metadata": {},
   "source": [
    "**Question**: Is there a standard way we're setting up the budget constraint(s)? e.g. Will there always be as many budget constraints as there are investment categories or always only one budget constraint?\n",
    "\n",
    "Define upper bound(s) for budget constraint(s)."
   ]
  },
  {
   "cell_type": "code",
   "execution_count": 12,
   "metadata": {},
   "outputs": [],
   "source": [
    "B = 3000000.0"
   ]
  },
  {
   "cell_type": "markdown",
   "metadata": {},
   "source": [
    "Instantiate the MIP optimization problem."
   ]
  },
  {
   "cell_type": "code",
   "execution_count": 62,
   "metadata": {},
   "outputs": [],
   "source": [
    "example = Model()\n",
    "bin_vars = pd.DataFrame(columns=categories)\n",
    "lmbd_vars = pd.DataFrame(columns=categories)"
   ]
  },
  {
   "cell_type": "markdown",
   "metadata": {},
   "source": [
    "Create binary (integer) variables $y_{in_i}$."
   ]
  },
  {
   "cell_type": "code",
   "execution_count": 63,
   "metadata": {},
   "outputs": [],
   "source": [
    "for i in categories:\n",
    "    for n_i in range(n.loc[i]):\n",
    "        #_name = 'y' + '_' + str(i) + '_' + str(n_i)\n",
    "        bin_vars.loc[n_i, i] = example.add_var(var_type=BINARY)"
   ]
  },
  {
   "cell_type": "markdown",
   "metadata": {},
   "source": [
    "Look at structure of `bin_vars` data frame to verify correct variable creation."
   ]
  },
  {
   "cell_type": "code",
   "execution_count": 64,
   "metadata": {},
   "outputs": [
    {
     "data": {
      "text/html": [
       "<div>\n",
       "<style scoped>\n",
       "    .dataframe tbody tr th:only-of-type {\n",
       "        vertical-align: middle;\n",
       "    }\n",
       "\n",
       "    .dataframe tbody tr th {\n",
       "        vertical-align: top;\n",
       "    }\n",
       "\n",
       "    .dataframe thead th {\n",
       "        text-align: right;\n",
       "    }\n",
       "</style>\n",
       "<table border=\"1\" class=\"dataframe\">\n",
       "  <thead>\n",
       "    <tr style=\"text-align: right;\">\n",
       "      <th></th>\n",
       "      <th>Soft Costs</th>\n",
       "      <th>Perovskite</th>\n",
       "      <th>CIGS</th>\n",
       "    </tr>\n",
       "  </thead>\n",
       "  <tbody>\n",
       "    <tr>\n",
       "      <th>0</th>\n",
       "      <td>var(0)</td>\n",
       "      <td>var(2)</td>\n",
       "      <td>var(4)</td>\n",
       "    </tr>\n",
       "    <tr>\n",
       "      <th>1</th>\n",
       "      <td>var(1)</td>\n",
       "      <td>var(3)</td>\n",
       "      <td>var(5)</td>\n",
       "    </tr>\n",
       "  </tbody>\n",
       "</table>\n",
       "</div>"
      ],
      "text/plain": [
       "  Soft Costs Perovskite    CIGS\n",
       "0     var(0)     var(2)  var(4)\n",
       "1     var(1)     var(3)  var(5)"
      ]
     },
     "execution_count": 64,
     "metadata": {},
     "output_type": "execute_result"
    }
   ],
   "source": [
    "bin_vars"
   ]
  },
  {
   "cell_type": "markdown",
   "metadata": {},
   "source": [
    "Create continuous $\\lambda$ variables with lower bound 0.0 and upper bound 1.0"
   ]
  },
  {
   "cell_type": "code",
   "execution_count": 65,
   "metadata": {},
   "outputs": [],
   "source": [
    "for i in categories:\n",
    "    for k_i in range(k.loc[i]):\n",
    "        #_name = 'lmbd' + '_' + str(i) + '_' + str(k_i)\n",
    "        lmbd_vars.loc[k_i, i] = example.add_var(lb=0.0, ub=1.0)"
   ]
  },
  {
   "cell_type": "markdown",
   "metadata": {},
   "source": [
    "Check structure of `lmbd_vars`."
   ]
  },
  {
   "cell_type": "code",
   "execution_count": 93,
   "metadata": {},
   "outputs": [
    {
     "data": {
      "text/plain": [
       "<mip.entities.LinExpr at 0x1ba281ad148>"
      ]
     },
     "execution_count": 93,
     "metadata": {},
     "output_type": "execute_result"
    }
   ],
   "source": [
    "sum(sum(lmbd_vars.values))"
   ]
  },
  {
   "cell_type": "markdown",
   "metadata": {},
   "source": [
    "Ideally the $\\lambda$ and $y_{in_i}$ variables would not need to be defined with nested `for` loops. However, these loops will execute quite quickly for the foreseeable problem types, so vectorizing the operations is a low priority."
   ]
  },
  {
   "cell_type": "markdown",
   "metadata": {},
   "source": [
    "Create budget constraint as a function of the $\\lambda$ variables and the elicited investment levels from the data set."
   ]
  },
  {
   "cell_type": "code",
   "execution_count": 87,
   "metadata": {},
   "outputs": [],
   "source": [
    "example += xsum(lmbd_vars.loc[i][j] * levels.loc[i][j] for i in range(len(levels)) for j in categories) <= B, 'Budget'"
   ]
  },
  {
   "cell_type": "markdown",
   "metadata": {},
   "source": [
    "Convexity constraints on $\\lambda$ variables."
   ]
  },
  {
   "cell_type": "code",
   "execution_count": 19,
   "metadata": {},
   "outputs": [],
   "source": [
    "example += sum(sum(lmbd_vars.values)) == 1, 'Lambda convexity' "
   ]
  },
  {
   "cell_type": "markdown",
   "metadata": {},
   "source": [
    "**In progress/Not implemented from this point onward**\n",
    "\n",
    "Constrain binary $y$ variables within each category such that at most one of the $y$ variables per category can be equal to 1."
   ]
  },
  {
   "cell_type": "code",
   "execution_count": 20,
   "metadata": {},
   "outputs": [],
   "source": [
    "example += sum(y_1) == 1, 'Interval selection'"
   ]
  },
  {
   "cell_type": "markdown",
   "metadata": {},
   "source": [
    "Interval constraints on $y$ variables and $\\lambda$ variables."
   ]
  },
  {
   "cell_type": "code",
   "execution_count": 21,
   "metadata": {},
   "outputs": [],
   "source": [
    "example += y_1[0] <= lmbd_1[0] + lmbd_1[1]"
   ]
  },
  {
   "cell_type": "code",
   "execution_count": 22,
   "metadata": {},
   "outputs": [],
   "source": [
    "example += y_1[1] <= lmbd_1[1] + lmbd_1[2]"
   ]
  },
  {
   "cell_type": "markdown",
   "metadata": {},
   "source": [
    "Create objective function: Capital (metric) as a function of $\\lambda$s and $y$s."
   ]
  },
  {
   "cell_type": "code",
   "execution_count": 23,
   "metadata": {},
   "outputs": [],
   "source": [
    "example.objective = minimize(-1.0 * xsum(lmbd_1[i] * m_1[i] for i in range(k_1)))"
   ]
  },
  {
   "cell_type": "markdown",
   "metadata": {},
   "source": [
    "Optimize."
   ]
  },
  {
   "cell_type": "code",
   "execution_count": 24,
   "metadata": {},
   "outputs": [
    {
     "data": {
      "text/plain": [
       "<OptimizationStatus.OPTIMAL: 0>"
      ]
     },
     "execution_count": 24,
     "metadata": {},
     "output_type": "execute_result"
    }
   ],
   "source": [
    "example.optimize()"
   ]
  },
  {
   "cell_type": "markdown",
   "metadata": {},
   "source": [
    "Print optimal objective function value, with a negative applied to reverse the -1.0 in the objective function definition (minimizing a negative -> maximize a positive)."
   ]
  },
  {
   "cell_type": "code",
   "execution_count": 25,
   "metadata": {},
   "outputs": [
    {
     "data": {
      "text/plain": [
       "-1.3555357403466024"
      ]
     },
     "execution_count": 25,
     "metadata": {},
     "output_type": "execute_result"
    }
   ],
   "source": [
    "-1.0 * example.objective_value"
   ]
  },
  {
   "cell_type": "markdown",
   "metadata": {},
   "source": [
    "Get the optimal $\\lambda$ and $y$ values."
   ]
  },
  {
   "cell_type": "code",
   "execution_count": 26,
   "metadata": {},
   "outputs": [
    {
     "name": "stdout",
     "output_type": "stream",
     "text": [
      "y_1 : 0.0\n",
      "y_1 : 1.0\n",
      "lmbd_1 : 0.0\n",
      "lmbd_1 : 0.5\n",
      "lmbd_1 : 0.5\n"
     ]
    }
   ],
   "source": [
    "for v in example.vars:\n",
    "    print('{} : {}'.format(v.name, v.x))"
   ]
  },
  {
   "cell_type": "markdown",
   "metadata": {},
   "source": [
    "\\$3,000,000 is halfway between the second and third investment levels, so this solution is the correct optimum."
   ]
  }
 ],
 "metadata": {
  "kernelspec": {
   "display_name": "Python 3",
   "language": "python",
   "name": "python3"
  },
  "language_info": {
   "codemirror_mode": {
    "name": "ipython",
    "version": 3
   },
   "file_extension": ".py",
   "mimetype": "text/x-python",
   "name": "python",
   "nbconvert_exporter": "python",
   "pygments_lexer": "ipython3",
   "version": "3.7.8"
  }
 },
 "nbformat": 4,
 "nbformat_minor": 4
}
