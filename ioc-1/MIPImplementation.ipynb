{
 "cells": [
  {
   "cell_type": "markdown",
   "metadata": {},
   "source": [
    "The goal of this notebook is to take the ad hoc implementation in `MIPExample1.ipynb` and vectorize the operations such that any size Tyche problem can be converted to a MIP and solved."
   ]
  },
  {
   "cell_type": "code",
   "execution_count": 1,
   "metadata": {},
   "outputs": [],
   "source": [
    "import os\n",
    "import sys\n",
    "sys.path.insert(0, os.path.abspath(\"../src\"))"
   ]
  },
  {
   "cell_type": "code",
   "execution_count": 2,
   "metadata": {},
   "outputs": [],
   "source": [
    "import numpy             as np\n",
    "import matplotlib.pyplot as pl\n",
    "import pandas            as pd\n",
    "import seaborn           as sb\n",
    "import tyche             as ty\n",
    "\n",
    "from copy            import deepcopy\n",
    "from IPython.display import Image "
   ]
  },
  {
   "cell_type": "code",
   "execution_count": 3,
   "metadata": {},
   "outputs": [],
   "source": [
    "import cProfile\n",
    "import timeit"
   ]
  },
  {
   "cell_type": "code",
   "execution_count": 4,
   "metadata": {},
   "outputs": [],
   "source": [
    "from mip import Model, MINIMIZE, MAXIMIZE, BINARY, xsum\n",
    "from itertools import product"
   ]
  },
  {
   "cell_type": "code",
   "execution_count": 5,
   "metadata": {},
   "outputs": [],
   "source": [
    "designs = ty.Designs(\"data\")\n",
    "investments = ty.Investments(\"data\")\n",
    "designs.compile()\n",
    "tranche_results = investments.evaluate_tranches(designs, sample_count=250)\n",
    "results = investments.tranches.join(tranche_results.summary)\n",
    "evaluator = ty.Evaluator(investments.tranches, tranche_results.summary)"
   ]
  },
  {
   "cell_type": "markdown",
   "metadata": {},
   "source": [
    "Get the wide-format interpolated elicitation data from the Tyche Evaluator and reset the multi-level index."
   ]
  },
  {
   "cell_type": "code",
   "execution_count": 6,
   "metadata": {},
   "outputs": [],
   "source": [
    "wide = evaluator.evaluate_corners_wide().reset_index()"
   ]
  },
  {
   "cell_type": "code",
   "execution_count": 7,
   "metadata": {},
   "outputs": [
    {
     "data": {
      "text/html": [
       "<div>\n",
       "<style scoped>\n",
       "    .dataframe tbody tr th:only-of-type {\n",
       "        vertical-align: middle;\n",
       "    }\n",
       "\n",
       "    .dataframe tbody tr th {\n",
       "        vertical-align: top;\n",
       "    }\n",
       "\n",
       "    .dataframe thead th {\n",
       "        text-align: right;\n",
       "    }\n",
       "</style>\n",
       "<table border=\"1\" class=\"dataframe\">\n",
       "  <thead>\n",
       "    <tr style=\"text-align: right;\">\n",
       "      <th>Index</th>\n",
       "      <th>CIGS</th>\n",
       "      <th>CdTe</th>\n",
       "      <th>GaAs</th>\n",
       "      <th>InGaP</th>\n",
       "      <th>Perovskite</th>\n",
       "      <th>Polysilicon</th>\n",
       "      <th>Power Electronics</th>\n",
       "      <th>Soft Costs</th>\n",
       "      <th>Capital</th>\n",
       "      <th>Efficiency</th>\n",
       "      <th>GHG</th>\n",
       "      <th>Hazardous</th>\n",
       "      <th>LCOE</th>\n",
       "      <th>Lifetime</th>\n",
       "      <th>Strategic</th>\n",
       "      <th>Yield</th>\n",
       "    </tr>\n",
       "  </thead>\n",
       "  <tbody>\n",
       "    <tr>\n",
       "      <th>0</th>\n",
       "      <td>0.0</td>\n",
       "      <td>0.0</td>\n",
       "      <td>0.0</td>\n",
       "      <td>0.0</td>\n",
       "      <td>0.0</td>\n",
       "      <td>0.0</td>\n",
       "      <td>0.0</td>\n",
       "      <td>0.0</td>\n",
       "      <td>-1.540736</td>\n",
       "      <td>2.066534</td>\n",
       "      <td>-0.003592</td>\n",
       "      <td>0.975012</td>\n",
       "      <td>-0.144656</td>\n",
       "      <td>188.002094</td>\n",
       "      <td>0.06354</td>\n",
       "      <td>9994.488309</td>\n",
       "    </tr>\n",
       "    <tr>\n",
       "      <th>1</th>\n",
       "      <td>0.0</td>\n",
       "      <td>0.0</td>\n",
       "      <td>0.0</td>\n",
       "      <td>0.0</td>\n",
       "      <td>0.0</td>\n",
       "      <td>0.0</td>\n",
       "      <td>0.0</td>\n",
       "      <td>1000000.0</td>\n",
       "      <td>-1.457593</td>\n",
       "      <td>2.066306</td>\n",
       "      <td>-0.003592</td>\n",
       "      <td>0.975275</td>\n",
       "      <td>-0.142055</td>\n",
       "      <td>188.002155</td>\n",
       "      <td>0.06354</td>\n",
       "      <td>9994.488166</td>\n",
       "    </tr>\n",
       "    <tr>\n",
       "      <th>2</th>\n",
       "      <td>0.0</td>\n",
       "      <td>0.0</td>\n",
       "      <td>0.0</td>\n",
       "      <td>0.0</td>\n",
       "      <td>0.0</td>\n",
       "      <td>0.0</td>\n",
       "      <td>0.0</td>\n",
       "      <td>5000000.0</td>\n",
       "      <td>-1.287314</td>\n",
       "      <td>2.066872</td>\n",
       "      <td>-0.003592</td>\n",
       "      <td>0.974622</td>\n",
       "      <td>-0.136727</td>\n",
       "      <td>188.002058</td>\n",
       "      <td>0.06354</td>\n",
       "      <td>9994.491669</td>\n",
       "    </tr>\n",
       "    <tr>\n",
       "      <th>3</th>\n",
       "      <td>0.0</td>\n",
       "      <td>0.0</td>\n",
       "      <td>0.0</td>\n",
       "      <td>0.0</td>\n",
       "      <td>0.0</td>\n",
       "      <td>0.0</td>\n",
       "      <td>1000000.0</td>\n",
       "      <td>0.0</td>\n",
       "      <td>-1.469833</td>\n",
       "      <td>2.066220</td>\n",
       "      <td>-0.003592</td>\n",
       "      <td>0.963551</td>\n",
       "      <td>-0.138740</td>\n",
       "      <td>188.002163</td>\n",
       "      <td>0.06354</td>\n",
       "      <td>10058.378702</td>\n",
       "    </tr>\n",
       "    <tr>\n",
       "      <th>4</th>\n",
       "      <td>0.0</td>\n",
       "      <td>0.0</td>\n",
       "      <td>0.0</td>\n",
       "      <td>0.0</td>\n",
       "      <td>0.0</td>\n",
       "      <td>0.0</td>\n",
       "      <td>1000000.0</td>\n",
       "      <td>1000000.0</td>\n",
       "      <td>-1.386691</td>\n",
       "      <td>2.065993</td>\n",
       "      <td>-0.003592</td>\n",
       "      <td>0.963813</td>\n",
       "      <td>-0.136138</td>\n",
       "      <td>188.002223</td>\n",
       "      <td>0.06354</td>\n",
       "      <td>10058.378558</td>\n",
       "    </tr>\n",
       "    <tr>\n",
       "      <th>5</th>\n",
       "      <td>0.0</td>\n",
       "      <td>0.0</td>\n",
       "      <td>0.0</td>\n",
       "      <td>0.0</td>\n",
       "      <td>0.0</td>\n",
       "      <td>0.0</td>\n",
       "      <td>1000000.0</td>\n",
       "      <td>5000000.0</td>\n",
       "      <td>-1.216412</td>\n",
       "      <td>2.066558</td>\n",
       "      <td>-0.003592</td>\n",
       "      <td>0.963160</td>\n",
       "      <td>-0.130811</td>\n",
       "      <td>188.002126</td>\n",
       "      <td>0.06354</td>\n",
       "      <td>10058.382062</td>\n",
       "    </tr>\n",
       "    <tr>\n",
       "      <th>6</th>\n",
       "      <td>0.0</td>\n",
       "      <td>0.0</td>\n",
       "      <td>0.0</td>\n",
       "      <td>0.0</td>\n",
       "      <td>0.0</td>\n",
       "      <td>0.0</td>\n",
       "      <td>5000000.0</td>\n",
       "      <td>0.0</td>\n",
       "      <td>-1.373995</td>\n",
       "      <td>2.068111</td>\n",
       "      <td>-0.003592</td>\n",
       "      <td>0.954248</td>\n",
       "      <td>-0.133654</td>\n",
       "      <td>188.002106</td>\n",
       "      <td>0.06354</td>\n",
       "      <td>10101.813236</td>\n",
       "    </tr>\n",
       "    <tr>\n",
       "      <th>7</th>\n",
       "      <td>0.0</td>\n",
       "      <td>0.0</td>\n",
       "      <td>0.0</td>\n",
       "      <td>0.0</td>\n",
       "      <td>0.0</td>\n",
       "      <td>0.0</td>\n",
       "      <td>5000000.0</td>\n",
       "      <td>1000000.0</td>\n",
       "      <td>-1.290852</td>\n",
       "      <td>2.067883</td>\n",
       "      <td>-0.003592</td>\n",
       "      <td>0.954510</td>\n",
       "      <td>-0.131052</td>\n",
       "      <td>188.002167</td>\n",
       "      <td>0.06354</td>\n",
       "      <td>10101.813093</td>\n",
       "    </tr>\n",
       "    <tr>\n",
       "      <th>8</th>\n",
       "      <td>0.0</td>\n",
       "      <td>0.0</td>\n",
       "      <td>0.0</td>\n",
       "      <td>0.0</td>\n",
       "      <td>0.0</td>\n",
       "      <td>0.0</td>\n",
       "      <td>5000000.0</td>\n",
       "      <td>5000000.0</td>\n",
       "      <td>-1.120573</td>\n",
       "      <td>2.068449</td>\n",
       "      <td>-0.003592</td>\n",
       "      <td>0.953858</td>\n",
       "      <td>-0.125724</td>\n",
       "      <td>188.002070</td>\n",
       "      <td>0.06354</td>\n",
       "      <td>10101.816596</td>\n",
       "    </tr>\n",
       "  </tbody>\n",
       "</table>\n",
       "</div>"
      ],
      "text/plain": [
       "Index  CIGS  CdTe  GaAs  InGaP  Perovskite  Polysilicon  Power Electronics  \\\n",
       "0       0.0   0.0   0.0    0.0         0.0          0.0                0.0   \n",
       "1       0.0   0.0   0.0    0.0         0.0          0.0                0.0   \n",
       "2       0.0   0.0   0.0    0.0         0.0          0.0                0.0   \n",
       "3       0.0   0.0   0.0    0.0         0.0          0.0          1000000.0   \n",
       "4       0.0   0.0   0.0    0.0         0.0          0.0          1000000.0   \n",
       "5       0.0   0.0   0.0    0.0         0.0          0.0          1000000.0   \n",
       "6       0.0   0.0   0.0    0.0         0.0          0.0          5000000.0   \n",
       "7       0.0   0.0   0.0    0.0         0.0          0.0          5000000.0   \n",
       "8       0.0   0.0   0.0    0.0         0.0          0.0          5000000.0   \n",
       "\n",
       "Index  Soft Costs   Capital  Efficiency       GHG  Hazardous      LCOE  \\\n",
       "0             0.0 -1.540736    2.066534 -0.003592   0.975012 -0.144656   \n",
       "1       1000000.0 -1.457593    2.066306 -0.003592   0.975275 -0.142055   \n",
       "2       5000000.0 -1.287314    2.066872 -0.003592   0.974622 -0.136727   \n",
       "3             0.0 -1.469833    2.066220 -0.003592   0.963551 -0.138740   \n",
       "4       1000000.0 -1.386691    2.065993 -0.003592   0.963813 -0.136138   \n",
       "5       5000000.0 -1.216412    2.066558 -0.003592   0.963160 -0.130811   \n",
       "6             0.0 -1.373995    2.068111 -0.003592   0.954248 -0.133654   \n",
       "7       1000000.0 -1.290852    2.067883 -0.003592   0.954510 -0.131052   \n",
       "8       5000000.0 -1.120573    2.068449 -0.003592   0.953858 -0.125724   \n",
       "\n",
       "Index    Lifetime  Strategic         Yield  \n",
       "0      188.002094    0.06354   9994.488309  \n",
       "1      188.002155    0.06354   9994.488166  \n",
       "2      188.002058    0.06354   9994.491669  \n",
       "3      188.002163    0.06354  10058.378702  \n",
       "4      188.002223    0.06354  10058.378558  \n",
       "5      188.002126    0.06354  10058.382062  \n",
       "6      188.002106    0.06354  10101.813236  \n",
       "7      188.002167    0.06354  10101.813093  \n",
       "8      188.002070    0.06354  10101.816596  "
      ]
     },
     "execution_count": 7,
     "metadata": {},
     "output_type": "execute_result"
    }
   ],
   "source": [
    "wide.head(9)"
   ]
  },
  {
   "cell_type": "markdown",
   "metadata": {},
   "source": [
    "**Input to MIP constructor needed**: List of investment categories\n",
    "\n",
    "**Input to MIP constructor needed**: List of metrics to optimize and/or constrain\n",
    "\n",
    "**Data check**: Confirm that all elements of both input lists match columns in the `evaluate_corners_wide()` data frame."
   ]
  },
  {
   "cell_type": "code",
   "execution_count": 8,
   "metadata": {},
   "outputs": [],
   "source": [
    "categories = ['Polysilicon', 'Power Electronics', 'Soft Costs']\n",
    "\n",
    "metrics = ['Capital']"
   ]
  },
  {
   "cell_type": "markdown",
   "metadata": {},
   "source": [
    "Pull out the investment values and metric values from the data set."
   ]
  },
  {
   "cell_type": "code",
   "execution_count": 9,
   "metadata": {},
   "outputs": [],
   "source": [
    "# Investment levels\n",
    "inv_levels = wide.loc[:26,categories].values.tolist()\n",
    "\n",
    "# Elicited metric values\n",
    "m = wide.loc[:26,metrics].values.tolist()\n",
    "\n",
    "# Number of endpoints\n",
    "I = len(inv_levels)"
   ]
  },
  {
   "cell_type": "markdown",
   "metadata": {},
   "source": [
    "Instantiate the MIP optimization problem."
   ]
  },
  {
   "cell_type": "code",
   "execution_count": 10,
   "metadata": {},
   "outputs": [],
   "source": [
    "example = Model(sense=MAXIMIZE)"
   ]
  },
  {
   "cell_type": "markdown",
   "metadata": {},
   "source": [
    "Create binary (integer) variables $y_{in_i}$."
   ]
  },
  {
   "cell_type": "code",
   "execution_count": 11,
   "metadata": {},
   "outputs": [],
   "source": [
    "bin_vars = []\n",
    "\n",
    "for i in range(I-1):\n",
    "    _name = 'y' + '_' + str(i)\n",
    "    bin_vars += [example.add_var(name=_name, var_type=BINARY)]\n",
    "    del _name"
   ]
  },
  {
   "cell_type": "markdown",
   "metadata": {},
   "source": [
    "Create continuous $\\lambda$ variables with lower bound 0.0 and upper bound 1.0"
   ]
  },
  {
   "cell_type": "code",
   "execution_count": 12,
   "metadata": {},
   "outputs": [],
   "source": [
    "lmbd_vars = []\n",
    "\n",
    "for i in range(I):\n",
    "    _name = 'lmbd' + '_' + str(i)\n",
    "    lmbd_vars += [example.add_var(name=_name, lb=0.0, ub=1.0)]\n",
    "    del _name"
   ]
  },
  {
   "cell_type": "markdown",
   "metadata": {},
   "source": [
    "Define upper bound for total budget constraint and per-category upper bounds."
   ]
  },
  {
   "cell_type": "code",
   "execution_count": 13,
   "metadata": {},
   "outputs": [],
   "source": [
    "B = 3000000.0\n",
    "max_amount = [1000000.0, 2000000.0, 1500000.0]"
   ]
  },
  {
   "cell_type": "markdown",
   "metadata": {},
   "source": [
    "Create total budget constraint as a function of the $\\lambda$ variables and the elicited investment levels from the data set."
   ]
  },
  {
   "cell_type": "code",
   "execution_count": 14,
   "metadata": {},
   "outputs": [],
   "source": [
    "example += xsum(lmbd_vars[i] * inv_levels[i][j] \n",
    "                for i in range(I)\n",
    "                for j in range(len(inv_levels[i]))) <= B, 'Total Budget'"
   ]
  },
  {
   "cell_type": "markdown",
   "metadata": {},
   "source": [
    "Create constraints for budget within each investment category."
   ]
  },
  {
   "cell_type": "code",
   "execution_count": 15,
   "metadata": {},
   "outputs": [],
   "source": [
    "for j in range(len(categories)):\n",
    "    example += xsum(lmbd_vars[i] * [el[j] for el in inv_levels][i] \n",
    "                    for i in range(I)) <= max_amount[j], 'Budget for ' + categories[j]"
   ]
  },
  {
   "cell_type": "markdown",
   "metadata": {},
   "source": [
    "Create three sets of constraints:\n",
    "* Convexity constraints on $\\lambda$ variables: the $\\lambda$s must sum to 1.\n",
    "* Constrain binary $y$ variables within each category such that the decision variables lie within exactly one interval (also a sum-to-1 constraint).\n",
    "* Interval constraints on $y$ variables and $\\lambda$ variables. There will be as many interval constraints per investment category as there are linear intervals."
   ]
  },
  {
   "cell_type": "code",
   "execution_count": 16,
   "metadata": {},
   "outputs": [],
   "source": [
    "example += sum(lmbd_vars) == 1, 'Lambda Sum'\n",
    "example += sum(bin_vars) == 1, 'Binary Sum'"
   ]
  },
  {
   "cell_type": "code",
   "execution_count": 17,
   "metadata": {},
   "outputs": [],
   "source": [
    "for i in range(I-1):\n",
    "    example += bin_vars[i] <= lmbd_vars[i] + lmbd_vars[i+1], 'Interval Constraint' + str(i)"
   ]
  },
  {
   "cell_type": "markdown",
   "metadata": {},
   "source": [
    "Create objective function: Capital (metric) as a function of $\\lambda$s and $y$s.\n",
    "\n",
    "Create a data frame of $\\lambda$ variables by mapping every element in `v` to its corresponding $\\lambda$, using column name (investment category) and investment level."
   ]
  },
  {
   "cell_type": "code",
   "execution_count": 18,
   "metadata": {},
   "outputs": [],
   "source": [
    "example.objective = xsum(m[i][0] * lmbd_vars[i] for i in range(I))"
   ]
  },
  {
   "cell_type": "markdown",
   "metadata": {},
   "source": [
    "Save model to a `lp` file for manual examination."
   ]
  },
  {
   "cell_type": "code",
   "execution_count": 19,
   "metadata": {},
   "outputs": [],
   "source": [
    "example.write('example.lp')"
   ]
  },
  {
   "cell_type": "markdown",
   "metadata": {},
   "source": [
    "Optimize."
   ]
  },
  {
   "cell_type": "code",
   "execution_count": 20,
   "metadata": {},
   "outputs": [
    {
     "data": {
      "text/plain": [
       "<OptimizationStatus.OPTIMAL: 0>"
      ]
     },
     "execution_count": 20,
     "metadata": {},
     "output_type": "execute_result"
    }
   ],
   "source": [
    "example.optimize()"
   ]
  },
  {
   "cell_type": "markdown",
   "metadata": {},
   "source": [
    "Print optimal objective function value, with a negative applied to reverse the -1.0 in the objective function definition (minimizing a negative -> maximize a positive)."
   ]
  },
  {
   "cell_type": "code",
   "execution_count": 21,
   "metadata": {},
   "outputs": [
    {
     "data": {
      "text/plain": [
       "-1.3654058993756168"
      ]
     },
     "execution_count": 21,
     "metadata": {},
     "output_type": "execute_result"
    }
   ],
   "source": [
    "example.objective_value"
   ]
  },
  {
   "cell_type": "markdown",
   "metadata": {},
   "source": [
    "Get the optimal $\\lambda$ and $y$ values. Store as separate lists and also print out."
   ]
  },
  {
   "cell_type": "code",
   "execution_count": 31,
   "metadata": {},
   "outputs": [
    {
     "name": "stdout",
     "output_type": "stream",
     "text": [
      "y_0 : 0.0\n",
      "y_1 : 0.0\n",
      "y_2 : 0.0\n",
      "y_3 : 0.0\n",
      "y_4 : 1.0\n",
      "y_5 : 0.0\n",
      "y_6 : 0.0\n",
      "y_7 : 0.0\n",
      "y_8 : 0.0\n",
      "y_9 : 0.0\n",
      "y_10 : 0.0\n",
      "y_11 : 0.0\n",
      "y_12 : 0.0\n",
      "y_13 : 0.0\n",
      "y_14 : 0.0\n",
      "y_15 : 0.0\n",
      "y_16 : 0.0\n",
      "y_17 : 0.0\n",
      "y_18 : 0.0\n",
      "y_19 : 0.0\n",
      "y_20 : 0.0\n",
      "y_21 : 0.0\n",
      "y_22 : 0.0\n",
      "y_23 : 0.0\n",
      "y_24 : 0.0\n",
      "y_25 : 0.0\n",
      "lmbd_0 : 0.0\n",
      "lmbd_1 : 0.0\n",
      "lmbd_2 : 0.0\n",
      "lmbd_3 : 0.0\n",
      "lmbd_4 : 0.875\n",
      "lmbd_5 : 0.125\n",
      "lmbd_6 : 0.0\n",
      "lmbd_7 : 0.0\n",
      "lmbd_8 : 0.0\n",
      "lmbd_9 : 0.0\n",
      "lmbd_10 : 0.0\n",
      "lmbd_11 : 0.0\n",
      "lmbd_12 : 0.0\n",
      "lmbd_13 : 0.0\n",
      "lmbd_14 : 0.0\n",
      "lmbd_15 : 0.0\n",
      "lmbd_16 : 0.0\n",
      "lmbd_17 : 0.0\n",
      "lmbd_18 : 0.0\n",
      "lmbd_19 : 0.0\n",
      "lmbd_20 : 0.0\n",
      "lmbd_21 : 0.0\n",
      "lmbd_22 : 0.0\n",
      "lmbd_23 : 0.0\n",
      "lmbd_24 : 0.0\n",
      "lmbd_25 : 0.0\n",
      "lmbd_26 : 6.577832330824488e-17\n"
     ]
    }
   ],
   "source": [
    "lmbd_opt = []\n",
    "y_opt = []\n",
    "\n",
    "for v in example.vars:\n",
    "    if 'lmbd' in v.name:\n",
    "        lmbd_opt += [v.x]\n",
    "    elif 'y' in v.name:\n",
    "        y_opt += [v.x]\n",
    "    print('{} : {}'.format(v.name, v.x))"
   ]
  },
  {
   "cell_type": "markdown",
   "metadata": {},
   "source": [
    "Calculate the optimal investment levels."
   ]
  },
  {
   "cell_type": "code",
   "execution_count": 25,
   "metadata": {},
   "outputs": [
    {
     "data": {
      "text/plain": [
       "{'Polysilicon': 2.96002454887102e-10,\n",
       " 'Power Electronics': 1000000.0000000003,\n",
       " 'Soft Costs': 1500000.0000000002}"
      ]
     },
     "execution_count": 25,
     "metadata": {},
     "output_type": "execute_result"
    }
   ],
   "source": [
    "inv_levels_opt = {}\n",
    "\n",
    "for i in range(len(categories)):\n",
    "    inv_levels_opt[categories[i]] = sum([lmbd_opt[j] * [el[i] for el in inv_levels][j] \n",
    "                                         for j in range(len(lmbd_opt))])\n",
    "\n",
    "inv_levels_opt"
   ]
  },
  {
   "cell_type": "markdown",
   "metadata": {},
   "source": [
    "Calculate the optimal total investment."
   ]
  },
  {
   "cell_type": "code",
   "execution_count": 30,
   "metadata": {},
   "outputs": [
    {
     "data": {
      "text/plain": [
       "2500000.000000001"
      ]
     },
     "execution_count": 30,
     "metadata": {},
     "output_type": "execute_result"
    }
   ],
   "source": [
    "total_inv_levels_opt = sum(inv_levels_opt.values())\n",
    "total_inv_levels_opt"
   ]
  }
 ],
 "metadata": {
  "kernelspec": {
   "display_name": "Python 3",
   "language": "python",
   "name": "python3"
  },
  "language_info": {
   "codemirror_mode": {
    "name": "ipython",
    "version": 3
   },
   "file_extension": ".py",
   "mimetype": "text/x-python",
   "name": "python",
   "nbconvert_exporter": "python",
   "pygments_lexer": "ipython3",
   "version": "3.7.8"
  }
 },
 "nbformat": 4,
 "nbformat_minor": 4
}
