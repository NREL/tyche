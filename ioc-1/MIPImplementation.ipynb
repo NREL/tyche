{
 "cells": [
  {
   "cell_type": "markdown",
   "metadata": {},
   "source": [
    "The goal of this notebook is to take the ad hoc implementation in `MIPExample1.ipynb` and vectorize the operations such that any size Tyche problem can be converted to a MIP and solved."
   ]
  },
  {
   "cell_type": "code",
   "execution_count": 2,
   "metadata": {},
   "outputs": [],
   "source": [
    "import os\n",
    "import sys\n",
    "sys.path.insert(0, os.path.abspath(\"../src\"))"
   ]
  },
  {
   "cell_type": "code",
   "execution_count": 3,
   "metadata": {},
   "outputs": [],
   "source": [
    "import numpy             as np\n",
    "import matplotlib.pyplot as pl\n",
    "import pandas            as pd\n",
    "import seaborn           as sb\n",
    "import tyche             as ty\n",
    "\n",
    "from copy            import deepcopy\n",
    "from IPython.display import Image "
   ]
  },
  {
   "cell_type": "code",
   "execution_count": 4,
   "metadata": {},
   "outputs": [],
   "source": [
    "import cProfile\n",
    "import timeit"
   ]
  },
  {
   "cell_type": "code",
   "execution_count": 5,
   "metadata": {},
   "outputs": [],
   "source": [
    "from mip import Model, minimize, BINARY, xsum"
   ]
  },
  {
   "cell_type": "code",
   "execution_count": 6,
   "metadata": {},
   "outputs": [],
   "source": [
    "designs = ty.Designs(\"data\")\n",
    "investments = ty.Investments(\"data\")\n",
    "designs.compile()\n",
    "tranche_results = investments.evaluate_tranches(designs, sample_count=250)\n",
    "results = investments.tranches.join(tranche_results.summary)\n",
    "evaluator = ty.Evaluator(investments.tranches, tranche_results.summary)"
   ]
  },
  {
   "cell_type": "markdown",
   "metadata": {},
   "source": [
    "Get the wide-format interpolated elicitation data from the Tyche Evaluator and reset the multi-level index."
   ]
  },
  {
   "cell_type": "code",
   "execution_count": 112,
   "metadata": {},
   "outputs": [],
   "source": [
    "wide_multi = evaluator.evaluate_corners_wide()\n",
    "wide = evaluator.evaluate_corners_wide().reset_index()"
   ]
  },
  {
   "cell_type": "code",
   "execution_count": 113,
   "metadata": {},
   "outputs": [
    {
     "data": {
      "text/html": [
       "<div>\n",
       "<style scoped>\n",
       "    .dataframe tbody tr th:only-of-type {\n",
       "        vertical-align: middle;\n",
       "    }\n",
       "\n",
       "    .dataframe tbody tr th {\n",
       "        vertical-align: top;\n",
       "    }\n",
       "\n",
       "    .dataframe thead th {\n",
       "        text-align: right;\n",
       "    }\n",
       "</style>\n",
       "<table border=\"1\" class=\"dataframe\">\n",
       "  <thead>\n",
       "    <tr style=\"text-align: right;\">\n",
       "      <th></th>\n",
       "      <th></th>\n",
       "      <th></th>\n",
       "      <th></th>\n",
       "      <th></th>\n",
       "      <th></th>\n",
       "      <th></th>\n",
       "      <th>Index</th>\n",
       "      <th>Capital</th>\n",
       "      <th>Efficiency</th>\n",
       "      <th>GHG</th>\n",
       "      <th>Hazardous</th>\n",
       "      <th>LCOE</th>\n",
       "      <th>Lifetime</th>\n",
       "      <th>Strategic</th>\n",
       "      <th>Yield</th>\n",
       "    </tr>\n",
       "    <tr>\n",
       "      <th>CIGS</th>\n",
       "      <th>CdTe</th>\n",
       "      <th>GaAs</th>\n",
       "      <th>InGaP</th>\n",
       "      <th>Perovskite</th>\n",
       "      <th>Polysilicon</th>\n",
       "      <th>Power Electronics</th>\n",
       "      <th>Soft Costs</th>\n",
       "      <th></th>\n",
       "      <th></th>\n",
       "      <th></th>\n",
       "      <th></th>\n",
       "      <th></th>\n",
       "      <th></th>\n",
       "      <th></th>\n",
       "      <th></th>\n",
       "    </tr>\n",
       "  </thead>\n",
       "  <tbody>\n",
       "    <tr>\n",
       "      <th rowspan=\"5\" valign=\"top\">0.0</th>\n",
       "      <th rowspan=\"5\" valign=\"top\">0.0</th>\n",
       "      <th rowspan=\"5\" valign=\"top\">0.0</th>\n",
       "      <th rowspan=\"5\" valign=\"top\">0.0</th>\n",
       "      <th rowspan=\"5\" valign=\"top\">0.0</th>\n",
       "      <th rowspan=\"5\" valign=\"top\">0.0</th>\n",
       "      <th rowspan=\"3\" valign=\"top\">0.0</th>\n",
       "      <th>0.0</th>\n",
       "      <td>-1.575208</td>\n",
       "      <td>2.065006</td>\n",
       "      <td>-0.003592</td>\n",
       "      <td>0.975104</td>\n",
       "      <td>-0.143805</td>\n",
       "      <td>187.990992</td>\n",
       "      <td>0.063460</td>\n",
       "      <td>10010.621752</td>\n",
       "    </tr>\n",
       "    <tr>\n",
       "      <th>1000000.0</th>\n",
       "      <td>-1.486433</td>\n",
       "      <td>2.065172</td>\n",
       "      <td>-0.003592</td>\n",
       "      <td>0.974886</td>\n",
       "      <td>-0.141027</td>\n",
       "      <td>187.990984</td>\n",
       "      <td>0.063460</td>\n",
       "      <td>10010.620799</td>\n",
       "    </tr>\n",
       "    <tr>\n",
       "      <th>5000000.0</th>\n",
       "      <td>-1.319666</td>\n",
       "      <td>2.065531</td>\n",
       "      <td>-0.003592</td>\n",
       "      <td>0.974471</td>\n",
       "      <td>-0.135810</td>\n",
       "      <td>187.990989</td>\n",
       "      <td>0.063460</td>\n",
       "      <td>10010.619809</td>\n",
       "    </tr>\n",
       "    <tr>\n",
       "      <th rowspan=\"2\" valign=\"top\">1000000.0</th>\n",
       "      <th>0.0</th>\n",
       "      <td>-1.505137</td>\n",
       "      <td>2.064491</td>\n",
       "      <td>-0.003592</td>\n",
       "      <td>0.963859</td>\n",
       "      <td>-0.137940</td>\n",
       "      <td>187.990949</td>\n",
       "      <td>0.063460</td>\n",
       "      <td>10073.956309</td>\n",
       "    </tr>\n",
       "    <tr>\n",
       "      <th>1000000.0</th>\n",
       "      <td>-1.416362</td>\n",
       "      <td>2.064657</td>\n",
       "      <td>-0.003592</td>\n",
       "      <td>0.963641</td>\n",
       "      <td>-0.135162</td>\n",
       "      <td>187.990941</td>\n",
       "      <td>0.063460</td>\n",
       "      <td>10073.955357</td>\n",
       "    </tr>\n",
       "    <tr>\n",
       "      <th>...</th>\n",
       "      <th>...</th>\n",
       "      <th>...</th>\n",
       "      <th>...</th>\n",
       "      <th>...</th>\n",
       "      <th>...</th>\n",
       "      <th>...</th>\n",
       "      <th>...</th>\n",
       "      <td>...</td>\n",
       "      <td>...</td>\n",
       "      <td>...</td>\n",
       "      <td>...</td>\n",
       "      <td>...</td>\n",
       "      <td>...</td>\n",
       "      <td>...</td>\n",
       "      <td>...</td>\n",
       "    </tr>\n",
       "    <tr>\n",
       "      <th rowspan=\"5\" valign=\"top\">3000000.0</th>\n",
       "      <th rowspan=\"5\" valign=\"top\">6000000.0</th>\n",
       "      <th rowspan=\"5\" valign=\"top\">7500000.0</th>\n",
       "      <th rowspan=\"5\" valign=\"top\">9500000.0</th>\n",
       "      <th rowspan=\"5\" valign=\"top\">9500000.0</th>\n",
       "      <th rowspan=\"5\" valign=\"top\">4500000.0</th>\n",
       "      <th rowspan=\"2\" valign=\"top\">1000000.0</th>\n",
       "      <th>1000000.0</th>\n",
       "      <td>3.288859</td>\n",
       "      <td>2.336959</td>\n",
       "      <td>-0.003592</td>\n",
       "      <td>0.799984</td>\n",
       "      <td>0.055600</td>\n",
       "      <td>188.011181</td>\n",
       "      <td>0.042934</td>\n",
       "      <td>10282.652652</td>\n",
       "    </tr>\n",
       "    <tr>\n",
       "      <th>5000000.0</th>\n",
       "      <td>3.455626</td>\n",
       "      <td>2.337318</td>\n",
       "      <td>-0.003592</td>\n",
       "      <td>0.799569</td>\n",
       "      <td>0.060818</td>\n",
       "      <td>188.011186</td>\n",
       "      <td>0.042934</td>\n",
       "      <td>10282.651661</td>\n",
       "    </tr>\n",
       "    <tr>\n",
       "      <th rowspan=\"3\" valign=\"top\">5000000.0</th>\n",
       "      <th>0.0</th>\n",
       "      <td>3.290173</td>\n",
       "      <td>2.338137</td>\n",
       "      <td>-0.003592</td>\n",
       "      <td>0.791527</td>\n",
       "      <td>0.057757</td>\n",
       "      <td>188.011155</td>\n",
       "      <td>0.042934</td>\n",
       "      <td>10326.240255</td>\n",
       "    </tr>\n",
       "    <tr>\n",
       "      <th>1000000.0</th>\n",
       "      <td>3.378947</td>\n",
       "      <td>2.338304</td>\n",
       "      <td>-0.003592</td>\n",
       "      <td>0.791309</td>\n",
       "      <td>0.060534</td>\n",
       "      <td>188.011147</td>\n",
       "      <td>0.042934</td>\n",
       "      <td>10326.239303</td>\n",
       "    </tr>\n",
       "    <tr>\n",
       "      <th>5000000.0</th>\n",
       "      <td>3.545714</td>\n",
       "      <td>2.338663</td>\n",
       "      <td>-0.003592</td>\n",
       "      <td>0.790894</td>\n",
       "      <td>0.065752</td>\n",
       "      <td>188.011152</td>\n",
       "      <td>0.042934</td>\n",
       "      <td>10326.238312</td>\n",
       "    </tr>\n",
       "  </tbody>\n",
       "</table>\n",
       "<p>6561 rows × 8 columns</p>\n",
       "</div>"
      ],
      "text/plain": [
       "Index                                                                                         Capital  \\\n",
       "CIGS      CdTe      GaAs      InGaP     Perovskite Polysilicon Power Electronics Soft Costs             \n",
       "0.0       0.0       0.0       0.0       0.0        0.0         0.0               0.0        -1.575208   \n",
       "                                                                                 1000000.0  -1.486433   \n",
       "                                                                                 5000000.0  -1.319666   \n",
       "                                                               1000000.0         0.0        -1.505137   \n",
       "                                                                                 1000000.0  -1.416362   \n",
       "...                                                                                               ...   \n",
       "3000000.0 6000000.0 7500000.0 9500000.0 9500000.0  4500000.0   1000000.0         1000000.0   3.288859   \n",
       "                                                                                 5000000.0   3.455626   \n",
       "                                                               5000000.0         0.0         3.290173   \n",
       "                                                                                 1000000.0   3.378947   \n",
       "                                                                                 5000000.0   3.545714   \n",
       "\n",
       "Index                                                                                        Efficiency  \\\n",
       "CIGS      CdTe      GaAs      InGaP     Perovskite Polysilicon Power Electronics Soft Costs               \n",
       "0.0       0.0       0.0       0.0       0.0        0.0         0.0               0.0           2.065006   \n",
       "                                                                                 1000000.0     2.065172   \n",
       "                                                                                 5000000.0     2.065531   \n",
       "                                                               1000000.0         0.0           2.064491   \n",
       "                                                                                 1000000.0     2.064657   \n",
       "...                                                                                                 ...   \n",
       "3000000.0 6000000.0 7500000.0 9500000.0 9500000.0  4500000.0   1000000.0         1000000.0     2.336959   \n",
       "                                                                                 5000000.0     2.337318   \n",
       "                                                               5000000.0         0.0           2.338137   \n",
       "                                                                                 1000000.0     2.338304   \n",
       "                                                                                 5000000.0     2.338663   \n",
       "\n",
       "Index                                                                                             GHG  \\\n",
       "CIGS      CdTe      GaAs      InGaP     Perovskite Polysilicon Power Electronics Soft Costs             \n",
       "0.0       0.0       0.0       0.0       0.0        0.0         0.0               0.0        -0.003592   \n",
       "                                                                                 1000000.0  -0.003592   \n",
       "                                                                                 5000000.0  -0.003592   \n",
       "                                                               1000000.0         0.0        -0.003592   \n",
       "                                                                                 1000000.0  -0.003592   \n",
       "...                                                                                               ...   \n",
       "3000000.0 6000000.0 7500000.0 9500000.0 9500000.0  4500000.0   1000000.0         1000000.0  -0.003592   \n",
       "                                                                                 5000000.0  -0.003592   \n",
       "                                                               5000000.0         0.0        -0.003592   \n",
       "                                                                                 1000000.0  -0.003592   \n",
       "                                                                                 5000000.0  -0.003592   \n",
       "\n",
       "Index                                                                                        Hazardous  \\\n",
       "CIGS      CdTe      GaAs      InGaP     Perovskite Polysilicon Power Electronics Soft Costs              \n",
       "0.0       0.0       0.0       0.0       0.0        0.0         0.0               0.0          0.975104   \n",
       "                                                                                 1000000.0    0.974886   \n",
       "                                                                                 5000000.0    0.974471   \n",
       "                                                               1000000.0         0.0          0.963859   \n",
       "                                                                                 1000000.0    0.963641   \n",
       "...                                                                                                ...   \n",
       "3000000.0 6000000.0 7500000.0 9500000.0 9500000.0  4500000.0   1000000.0         1000000.0    0.799984   \n",
       "                                                                                 5000000.0    0.799569   \n",
       "                                                               5000000.0         0.0          0.791527   \n",
       "                                                                                 1000000.0    0.791309   \n",
       "                                                                                 5000000.0    0.790894   \n",
       "\n",
       "Index                                                                                            LCOE  \\\n",
       "CIGS      CdTe      GaAs      InGaP     Perovskite Polysilicon Power Electronics Soft Costs             \n",
       "0.0       0.0       0.0       0.0       0.0        0.0         0.0               0.0        -0.143805   \n",
       "                                                                                 1000000.0  -0.141027   \n",
       "                                                                                 5000000.0  -0.135810   \n",
       "                                                               1000000.0         0.0        -0.137940   \n",
       "                                                                                 1000000.0  -0.135162   \n",
       "...                                                                                               ...   \n",
       "3000000.0 6000000.0 7500000.0 9500000.0 9500000.0  4500000.0   1000000.0         1000000.0   0.055600   \n",
       "                                                                                 5000000.0   0.060818   \n",
       "                                                               5000000.0         0.0         0.057757   \n",
       "                                                                                 1000000.0   0.060534   \n",
       "                                                                                 5000000.0   0.065752   \n",
       "\n",
       "Index                                                                                          Lifetime  \\\n",
       "CIGS      CdTe      GaAs      InGaP     Perovskite Polysilicon Power Electronics Soft Costs               \n",
       "0.0       0.0       0.0       0.0       0.0        0.0         0.0               0.0         187.990992   \n",
       "                                                                                 1000000.0   187.990984   \n",
       "                                                                                 5000000.0   187.990989   \n",
       "                                                               1000000.0         0.0         187.990949   \n",
       "                                                                                 1000000.0   187.990941   \n",
       "...                                                                                                 ...   \n",
       "3000000.0 6000000.0 7500000.0 9500000.0 9500000.0  4500000.0   1000000.0         1000000.0   188.011181   \n",
       "                                                                                 5000000.0   188.011186   \n",
       "                                                               5000000.0         0.0         188.011155   \n",
       "                                                                                 1000000.0   188.011147   \n",
       "                                                                                 5000000.0   188.011152   \n",
       "\n",
       "Index                                                                                        Strategic  \\\n",
       "CIGS      CdTe      GaAs      InGaP     Perovskite Polysilicon Power Electronics Soft Costs              \n",
       "0.0       0.0       0.0       0.0       0.0        0.0         0.0               0.0          0.063460   \n",
       "                                                                                 1000000.0    0.063460   \n",
       "                                                                                 5000000.0    0.063460   \n",
       "                                                               1000000.0         0.0          0.063460   \n",
       "                                                                                 1000000.0    0.063460   \n",
       "...                                                                                                ...   \n",
       "3000000.0 6000000.0 7500000.0 9500000.0 9500000.0  4500000.0   1000000.0         1000000.0    0.042934   \n",
       "                                                                                 5000000.0    0.042934   \n",
       "                                                               5000000.0         0.0          0.042934   \n",
       "                                                                                 1000000.0    0.042934   \n",
       "                                                                                 5000000.0    0.042934   \n",
       "\n",
       "Index                                                                                               Yield  \n",
       "CIGS      CdTe      GaAs      InGaP     Perovskite Polysilicon Power Electronics Soft Costs                \n",
       "0.0       0.0       0.0       0.0       0.0        0.0         0.0               0.0         10010.621752  \n",
       "                                                                                 1000000.0   10010.620799  \n",
       "                                                                                 5000000.0   10010.619809  \n",
       "                                                               1000000.0         0.0         10073.956309  \n",
       "                                                                                 1000000.0   10073.955357  \n",
       "...                                                                                                   ...  \n",
       "3000000.0 6000000.0 7500000.0 9500000.0 9500000.0  4500000.0   1000000.0         1000000.0   10282.652652  \n",
       "                                                                                 5000000.0   10282.651661  \n",
       "                                                               5000000.0         0.0         10326.240255  \n",
       "                                                                                 1000000.0   10326.239303  \n",
       "                                                                                 5000000.0   10326.238312  \n",
       "\n",
       "[6561 rows x 8 columns]"
      ]
     },
     "execution_count": 113,
     "metadata": {},
     "output_type": "execute_result"
    }
   ],
   "source": [
    "wide_multi"
   ]
  },
  {
   "cell_type": "code",
   "execution_count": 126,
   "metadata": {},
   "outputs": [
    {
     "data": {
      "text/plain": [
       "MultiIndex([(      0.0,       0.0,       0.0,       0.0,       0.0, ...),\n",
       "            (      0.0,       0.0,       0.0,       0.0,       0.0, ...),\n",
       "            (      0.0,       0.0,       0.0,       0.0,       0.0, ...),\n",
       "            (      0.0,       0.0,       0.0,       0.0,       0.0, ...),\n",
       "            (      0.0,       0.0,       0.0,       0.0,       0.0, ...),\n",
       "            (      0.0,       0.0,       0.0,       0.0,       0.0, ...),\n",
       "            (      0.0,       0.0,       0.0,       0.0,       0.0, ...),\n",
       "            (      0.0,       0.0,       0.0,       0.0,       0.0, ...),\n",
       "            (      0.0,       0.0,       0.0,       0.0,       0.0, ...),\n",
       "            (      0.0,       0.0,       0.0,       0.0,       0.0, ...),\n",
       "            ...\n",
       "            (3000000.0, 6000000.0, 7500000.0, 9500000.0, 9500000.0, ...),\n",
       "            (3000000.0, 6000000.0, 7500000.0, 9500000.0, 9500000.0, ...),\n",
       "            (3000000.0, 6000000.0, 7500000.0, 9500000.0, 9500000.0, ...),\n",
       "            (3000000.0, 6000000.0, 7500000.0, 9500000.0, 9500000.0, ...),\n",
       "            (3000000.0, 6000000.0, 7500000.0, 9500000.0, 9500000.0, ...),\n",
       "            (3000000.0, 6000000.0, 7500000.0, 9500000.0, 9500000.0, ...),\n",
       "            (3000000.0, 6000000.0, 7500000.0, 9500000.0, 9500000.0, ...),\n",
       "            (3000000.0, 6000000.0, 7500000.0, 9500000.0, 9500000.0, ...),\n",
       "            (3000000.0, 6000000.0, 7500000.0, 9500000.0, 9500000.0, ...),\n",
       "            (3000000.0, 6000000.0, 7500000.0, 9500000.0, 9500000.0, ...)],\n",
       "           names=['CIGS', 'CdTe', 'GaAs', 'InGaP', 'Perovskite', 'Polysilicon', 'Power Electronics', 'Soft Costs'], length=6561)"
      ]
     },
     "execution_count": 126,
     "metadata": {},
     "output_type": "execute_result"
    }
   ],
   "source": [
    "wide_multi.index"
   ]
  },
  {
   "cell_type": "code",
   "execution_count": 114,
   "metadata": {},
   "outputs": [
    {
     "data": {
      "text/html": [
       "<div>\n",
       "<style scoped>\n",
       "    .dataframe tbody tr th:only-of-type {\n",
       "        vertical-align: middle;\n",
       "    }\n",
       "\n",
       "    .dataframe tbody tr th {\n",
       "        vertical-align: top;\n",
       "    }\n",
       "\n",
       "    .dataframe thead th {\n",
       "        text-align: right;\n",
       "    }\n",
       "</style>\n",
       "<table border=\"1\" class=\"dataframe\">\n",
       "  <thead>\n",
       "    <tr style=\"text-align: right;\">\n",
       "      <th>Index</th>\n",
       "      <th>CIGS</th>\n",
       "      <th>CdTe</th>\n",
       "      <th>GaAs</th>\n",
       "      <th>InGaP</th>\n",
       "      <th>Perovskite</th>\n",
       "      <th>Polysilicon</th>\n",
       "      <th>Power Electronics</th>\n",
       "      <th>Soft Costs</th>\n",
       "      <th>Capital</th>\n",
       "      <th>Efficiency</th>\n",
       "      <th>GHG</th>\n",
       "      <th>Hazardous</th>\n",
       "      <th>LCOE</th>\n",
       "      <th>Lifetime</th>\n",
       "      <th>Strategic</th>\n",
       "      <th>Yield</th>\n",
       "    </tr>\n",
       "  </thead>\n",
       "  <tbody>\n",
       "    <tr>\n",
       "      <th>0</th>\n",
       "      <td>0.0</td>\n",
       "      <td>0.0</td>\n",
       "      <td>0.0</td>\n",
       "      <td>0.0</td>\n",
       "      <td>0.0</td>\n",
       "      <td>0.0</td>\n",
       "      <td>0.0</td>\n",
       "      <td>0.0</td>\n",
       "      <td>-1.575208</td>\n",
       "      <td>2.065006</td>\n",
       "      <td>-0.003592</td>\n",
       "      <td>0.975104</td>\n",
       "      <td>-0.143805</td>\n",
       "      <td>187.990992</td>\n",
       "      <td>0.063460</td>\n",
       "      <td>10010.621752</td>\n",
       "    </tr>\n",
       "    <tr>\n",
       "      <th>1</th>\n",
       "      <td>0.0</td>\n",
       "      <td>0.0</td>\n",
       "      <td>0.0</td>\n",
       "      <td>0.0</td>\n",
       "      <td>0.0</td>\n",
       "      <td>0.0</td>\n",
       "      <td>0.0</td>\n",
       "      <td>1000000.0</td>\n",
       "      <td>-1.486433</td>\n",
       "      <td>2.065172</td>\n",
       "      <td>-0.003592</td>\n",
       "      <td>0.974886</td>\n",
       "      <td>-0.141027</td>\n",
       "      <td>187.990984</td>\n",
       "      <td>0.063460</td>\n",
       "      <td>10010.620799</td>\n",
       "    </tr>\n",
       "    <tr>\n",
       "      <th>2</th>\n",
       "      <td>0.0</td>\n",
       "      <td>0.0</td>\n",
       "      <td>0.0</td>\n",
       "      <td>0.0</td>\n",
       "      <td>0.0</td>\n",
       "      <td>0.0</td>\n",
       "      <td>0.0</td>\n",
       "      <td>5000000.0</td>\n",
       "      <td>-1.319666</td>\n",
       "      <td>2.065531</td>\n",
       "      <td>-0.003592</td>\n",
       "      <td>0.974471</td>\n",
       "      <td>-0.135810</td>\n",
       "      <td>187.990989</td>\n",
       "      <td>0.063460</td>\n",
       "      <td>10010.619809</td>\n",
       "    </tr>\n",
       "    <tr>\n",
       "      <th>3</th>\n",
       "      <td>0.0</td>\n",
       "      <td>0.0</td>\n",
       "      <td>0.0</td>\n",
       "      <td>0.0</td>\n",
       "      <td>0.0</td>\n",
       "      <td>0.0</td>\n",
       "      <td>1000000.0</td>\n",
       "      <td>0.0</td>\n",
       "      <td>-1.505137</td>\n",
       "      <td>2.064491</td>\n",
       "      <td>-0.003592</td>\n",
       "      <td>0.963859</td>\n",
       "      <td>-0.137940</td>\n",
       "      <td>187.990949</td>\n",
       "      <td>0.063460</td>\n",
       "      <td>10073.956309</td>\n",
       "    </tr>\n",
       "    <tr>\n",
       "      <th>4</th>\n",
       "      <td>0.0</td>\n",
       "      <td>0.0</td>\n",
       "      <td>0.0</td>\n",
       "      <td>0.0</td>\n",
       "      <td>0.0</td>\n",
       "      <td>0.0</td>\n",
       "      <td>1000000.0</td>\n",
       "      <td>1000000.0</td>\n",
       "      <td>-1.416362</td>\n",
       "      <td>2.064657</td>\n",
       "      <td>-0.003592</td>\n",
       "      <td>0.963641</td>\n",
       "      <td>-0.135162</td>\n",
       "      <td>187.990941</td>\n",
       "      <td>0.063460</td>\n",
       "      <td>10073.955357</td>\n",
       "    </tr>\n",
       "    <tr>\n",
       "      <th>...</th>\n",
       "      <td>...</td>\n",
       "      <td>...</td>\n",
       "      <td>...</td>\n",
       "      <td>...</td>\n",
       "      <td>...</td>\n",
       "      <td>...</td>\n",
       "      <td>...</td>\n",
       "      <td>...</td>\n",
       "      <td>...</td>\n",
       "      <td>...</td>\n",
       "      <td>...</td>\n",
       "      <td>...</td>\n",
       "      <td>...</td>\n",
       "      <td>...</td>\n",
       "      <td>...</td>\n",
       "      <td>...</td>\n",
       "    </tr>\n",
       "    <tr>\n",
       "      <th>6556</th>\n",
       "      <td>3000000.0</td>\n",
       "      <td>6000000.0</td>\n",
       "      <td>7500000.0</td>\n",
       "      <td>9500000.0</td>\n",
       "      <td>9500000.0</td>\n",
       "      <td>4500000.0</td>\n",
       "      <td>1000000.0</td>\n",
       "      <td>1000000.0</td>\n",
       "      <td>3.288859</td>\n",
       "      <td>2.336959</td>\n",
       "      <td>-0.003592</td>\n",
       "      <td>0.799984</td>\n",
       "      <td>0.055600</td>\n",
       "      <td>188.011181</td>\n",
       "      <td>0.042934</td>\n",
       "      <td>10282.652652</td>\n",
       "    </tr>\n",
       "    <tr>\n",
       "      <th>6557</th>\n",
       "      <td>3000000.0</td>\n",
       "      <td>6000000.0</td>\n",
       "      <td>7500000.0</td>\n",
       "      <td>9500000.0</td>\n",
       "      <td>9500000.0</td>\n",
       "      <td>4500000.0</td>\n",
       "      <td>1000000.0</td>\n",
       "      <td>5000000.0</td>\n",
       "      <td>3.455626</td>\n",
       "      <td>2.337318</td>\n",
       "      <td>-0.003592</td>\n",
       "      <td>0.799569</td>\n",
       "      <td>0.060818</td>\n",
       "      <td>188.011186</td>\n",
       "      <td>0.042934</td>\n",
       "      <td>10282.651661</td>\n",
       "    </tr>\n",
       "    <tr>\n",
       "      <th>6558</th>\n",
       "      <td>3000000.0</td>\n",
       "      <td>6000000.0</td>\n",
       "      <td>7500000.0</td>\n",
       "      <td>9500000.0</td>\n",
       "      <td>9500000.0</td>\n",
       "      <td>4500000.0</td>\n",
       "      <td>5000000.0</td>\n",
       "      <td>0.0</td>\n",
       "      <td>3.290173</td>\n",
       "      <td>2.338137</td>\n",
       "      <td>-0.003592</td>\n",
       "      <td>0.791527</td>\n",
       "      <td>0.057757</td>\n",
       "      <td>188.011155</td>\n",
       "      <td>0.042934</td>\n",
       "      <td>10326.240255</td>\n",
       "    </tr>\n",
       "    <tr>\n",
       "      <th>6559</th>\n",
       "      <td>3000000.0</td>\n",
       "      <td>6000000.0</td>\n",
       "      <td>7500000.0</td>\n",
       "      <td>9500000.0</td>\n",
       "      <td>9500000.0</td>\n",
       "      <td>4500000.0</td>\n",
       "      <td>5000000.0</td>\n",
       "      <td>1000000.0</td>\n",
       "      <td>3.378947</td>\n",
       "      <td>2.338304</td>\n",
       "      <td>-0.003592</td>\n",
       "      <td>0.791309</td>\n",
       "      <td>0.060534</td>\n",
       "      <td>188.011147</td>\n",
       "      <td>0.042934</td>\n",
       "      <td>10326.239303</td>\n",
       "    </tr>\n",
       "    <tr>\n",
       "      <th>6560</th>\n",
       "      <td>3000000.0</td>\n",
       "      <td>6000000.0</td>\n",
       "      <td>7500000.0</td>\n",
       "      <td>9500000.0</td>\n",
       "      <td>9500000.0</td>\n",
       "      <td>4500000.0</td>\n",
       "      <td>5000000.0</td>\n",
       "      <td>5000000.0</td>\n",
       "      <td>3.545714</td>\n",
       "      <td>2.338663</td>\n",
       "      <td>-0.003592</td>\n",
       "      <td>0.790894</td>\n",
       "      <td>0.065752</td>\n",
       "      <td>188.011152</td>\n",
       "      <td>0.042934</td>\n",
       "      <td>10326.238312</td>\n",
       "    </tr>\n",
       "  </tbody>\n",
       "</table>\n",
       "<p>6561 rows × 16 columns</p>\n",
       "</div>"
      ],
      "text/plain": [
       "Index       CIGS       CdTe       GaAs      InGaP  Perovskite  Polysilicon  \\\n",
       "0            0.0        0.0        0.0        0.0         0.0          0.0   \n",
       "1            0.0        0.0        0.0        0.0         0.0          0.0   \n",
       "2            0.0        0.0        0.0        0.0         0.0          0.0   \n",
       "3            0.0        0.0        0.0        0.0         0.0          0.0   \n",
       "4            0.0        0.0        0.0        0.0         0.0          0.0   \n",
       "...          ...        ...        ...        ...         ...          ...   \n",
       "6556   3000000.0  6000000.0  7500000.0  9500000.0   9500000.0    4500000.0   \n",
       "6557   3000000.0  6000000.0  7500000.0  9500000.0   9500000.0    4500000.0   \n",
       "6558   3000000.0  6000000.0  7500000.0  9500000.0   9500000.0    4500000.0   \n",
       "6559   3000000.0  6000000.0  7500000.0  9500000.0   9500000.0    4500000.0   \n",
       "6560   3000000.0  6000000.0  7500000.0  9500000.0   9500000.0    4500000.0   \n",
       "\n",
       "Index  Power Electronics  Soft Costs   Capital  Efficiency       GHG  \\\n",
       "0                    0.0         0.0 -1.575208    2.065006 -0.003592   \n",
       "1                    0.0   1000000.0 -1.486433    2.065172 -0.003592   \n",
       "2                    0.0   5000000.0 -1.319666    2.065531 -0.003592   \n",
       "3              1000000.0         0.0 -1.505137    2.064491 -0.003592   \n",
       "4              1000000.0   1000000.0 -1.416362    2.064657 -0.003592   \n",
       "...                  ...         ...       ...         ...       ...   \n",
       "6556           1000000.0   1000000.0  3.288859    2.336959 -0.003592   \n",
       "6557           1000000.0   5000000.0  3.455626    2.337318 -0.003592   \n",
       "6558           5000000.0         0.0  3.290173    2.338137 -0.003592   \n",
       "6559           5000000.0   1000000.0  3.378947    2.338304 -0.003592   \n",
       "6560           5000000.0   5000000.0  3.545714    2.338663 -0.003592   \n",
       "\n",
       "Index  Hazardous      LCOE    Lifetime  Strategic         Yield  \n",
       "0       0.975104 -0.143805  187.990992   0.063460  10010.621752  \n",
       "1       0.974886 -0.141027  187.990984   0.063460  10010.620799  \n",
       "2       0.974471 -0.135810  187.990989   0.063460  10010.619809  \n",
       "3       0.963859 -0.137940  187.990949   0.063460  10073.956309  \n",
       "4       0.963641 -0.135162  187.990941   0.063460  10073.955357  \n",
       "...          ...       ...         ...        ...           ...  \n",
       "6556    0.799984  0.055600  188.011181   0.042934  10282.652652  \n",
       "6557    0.799569  0.060818  188.011186   0.042934  10282.651661  \n",
       "6558    0.791527  0.057757  188.011155   0.042934  10326.240255  \n",
       "6559    0.791309  0.060534  188.011147   0.042934  10326.239303  \n",
       "6560    0.790894  0.065752  188.011152   0.042934  10326.238312  \n",
       "\n",
       "[6561 rows x 16 columns]"
      ]
     },
     "execution_count": 114,
     "metadata": {},
     "output_type": "execute_result"
    }
   ],
   "source": [
    "wide"
   ]
  },
  {
   "cell_type": "markdown",
   "metadata": {},
   "source": [
    "**Input to MIP constructor needed**: List of investment categories\n",
    "\n",
    "**Input to MIP constructor needed**: List of metrics to optimize and/or constrain\n",
    "\n",
    "**Data check**: Confirm that all elements of both input lists match columns in the `evaluate_corners_wide()` data frame."
   ]
  },
  {
   "cell_type": "code",
   "execution_count": 130,
   "metadata": {},
   "outputs": [],
   "source": [
    "categories = ['Soft Costs', 'Perovskite', 'CIGS']\n",
    "\n",
    "metrics = ['Capital']"
   ]
  },
  {
   "cell_type": "markdown",
   "metadata": {},
   "source": [
    "Fill in the various index values for the one-by-one data set."
   ]
  },
  {
   "cell_type": "code",
   "execution_count": 131,
   "metadata": {},
   "outputs": [],
   "source": [
    "# Number of investment categories\n",
    "Inv = len(categories)\n",
    "\n",
    "# Number of metrics\n",
    "J = len(metrics)"
   ]
  },
  {
   "cell_type": "code",
   "execution_count": 132,
   "metadata": {},
   "outputs": [],
   "source": [
    "# Named series of the number of elicited funding levels in each investment category of interest\n",
    "l = pd.Series(data=wide.nunique(axis=0, dropna=True)[categories], index=categories)\n",
    "\n",
    "# Named series of the number of linear intervals in each investment category of interest\n",
    "n = pd.Series(data=[x - 1 for x in l], index=categories)\n",
    "\n",
    "# Named series of the number of new lambda variables in each investment category of interest\n",
    "k = l.copy()"
   ]
  },
  {
   "cell_type": "markdown",
   "metadata": {},
   "source": [
    "Pull out the investment values and metric values from the data set."
   ]
  },
  {
   "cell_type": "code",
   "execution_count": 136,
   "metadata": {},
   "outputs": [],
   "source": [
    "# Investment values\n",
    "v = wide.loc[:,categories]\n",
    "\n",
    "# Elicited metric values\n",
    "m = wide.loc[:, metrics]"
   ]
  },
  {
   "cell_type": "markdown",
   "metadata": {},
   "source": [
    "**Question**: Is there a standard way we're setting up the budget constraint(s)? e.g. Will there always be as many budget constraints as there are investment categories or always only one budget constraint?\n",
    "\n",
    "Define upper bound(s) for budget constraint(s)."
   ]
  },
  {
   "cell_type": "code",
   "execution_count": 137,
   "metadata": {},
   "outputs": [],
   "source": [
    "B = 3000000.0"
   ]
  },
  {
   "cell_type": "markdown",
   "metadata": {},
   "source": [
    "Instantiate the MIP optimization problem."
   ]
  },
  {
   "cell_type": "code",
   "execution_count": 138,
   "metadata": {},
   "outputs": [],
   "source": [
    "example = Model()\n",
    "bin_vars = []\n",
    "lmbd_vars = []"
   ]
  },
  {
   "cell_type": "markdown",
   "metadata": {},
   "source": [
    "Create binary (integer) variables $y_{in_i}$."
   ]
  },
  {
   "cell_type": "code",
   "execution_count": 140,
   "metadata": {},
   "outputs": [],
   "source": [
    "for i in range(Inv):\n",
    "    for n_i in range(n[i]):\n",
    "        _name = 'y' + '_' + str(i) + '_' + str(n_i)\n",
    "        bin_vars += [_name]\n",
    "        example.add_var(name=_name, var_type=BINARY)"
   ]
  },
  {
   "cell_type": "markdown",
   "metadata": {},
   "source": [
    "Create continuous $\\lambda$ variables with lower bound 0.0 and upper bound 1.0"
   ]
  },
  {
   "cell_type": "code",
   "execution_count": 141,
   "metadata": {},
   "outputs": [],
   "source": [
    "for i in range(Inv):\n",
    "    for k_i in range(k[i]):\n",
    "        _name = 'lmbd' + '_' + str(i) + '_' + str(k_i)\n",
    "        lmbd_vars += [_name]\n",
    "        example.add_var(name=_name, lb=0.0, ub=1.0)"
   ]
  },
  {
   "cell_type": "markdown",
   "metadata": {},
   "source": [
    "**In progress/Not implemented from this point onward**\n",
    "\n",
    "Create budget constraint as a function of the $\\lambda$ variables and the elicited investment levels from the data set."
   ]
  },
  {
   "cell_type": "code",
   "execution_count": 66,
   "metadata": {},
   "outputs": [
    {
     "ename": "NameError",
     "evalue": "name 'lmbd' is not defined",
     "output_type": "error",
     "traceback": [
      "\u001b[1;31m---------------------------------------------------------------------------\u001b[0m",
      "\u001b[1;31mNameError\u001b[0m                                 Traceback (most recent call last)",
      "\u001b[1;32m<ipython-input-66-c84acd972a33>\u001b[0m in \u001b[0;36m<module>\u001b[1;34m\u001b[0m\n\u001b[1;32m----> 1\u001b[1;33m \u001b[0mexample\u001b[0m \u001b[1;33m+=\u001b[0m \u001b[0msum\u001b[0m\u001b[1;33m(\u001b[0m\u001b[0mxsum\u001b[0m\u001b[1;33m(\u001b[0m\u001b[0mlmbd\u001b[0m\u001b[1;33m[\u001b[0m\u001b[0mi\u001b[0m\u001b[1;33m]\u001b[0m \u001b[1;33m*\u001b[0m \u001b[0mv\u001b[0m\u001b[1;33m[\u001b[0m\u001b[0mi\u001b[0m\u001b[1;33m]\u001b[0m \u001b[1;32mfor\u001b[0m \u001b[0mi\u001b[0m \u001b[1;32min\u001b[0m \u001b[0mcategories\u001b[0m\u001b[1;33m)\u001b[0m\u001b[1;33m)\u001b[0m \u001b[1;33m<=\u001b[0m \u001b[0mB\u001b[0m\u001b[1;33m\u001b[0m\u001b[1;33m\u001b[0m\u001b[0m\n\u001b[0m",
      "\u001b[1;32m~\\AppData\\Local\\Continuum\\anaconda3\\envs\\tyche-mip\\lib\\site-packages\\mip\\model.py\u001b[0m in \u001b[0;36mxsum\u001b[1;34m(terms)\u001b[0m\n\u001b[0;32m   1546\u001b[0m     \"\"\"\n\u001b[0;32m   1547\u001b[0m     \u001b[0mresult\u001b[0m \u001b[1;33m=\u001b[0m \u001b[0mmip\u001b[0m\u001b[1;33m.\u001b[0m\u001b[0mLinExpr\u001b[0m\u001b[1;33m(\u001b[0m\u001b[1;33m)\u001b[0m\u001b[1;33m\u001b[0m\u001b[1;33m\u001b[0m\u001b[0m\n\u001b[1;32m-> 1548\u001b[1;33m     \u001b[1;32mfor\u001b[0m \u001b[0mterm\u001b[0m \u001b[1;32min\u001b[0m \u001b[0mterms\u001b[0m\u001b[1;33m:\u001b[0m\u001b[1;33m\u001b[0m\u001b[1;33m\u001b[0m\u001b[0m\n\u001b[0m\u001b[0;32m   1549\u001b[0m         \u001b[0mresult\u001b[0m\u001b[1;33m.\u001b[0m\u001b[0madd_term\u001b[0m\u001b[1;33m(\u001b[0m\u001b[0mterm\u001b[0m\u001b[1;33m)\u001b[0m\u001b[1;33m\u001b[0m\u001b[1;33m\u001b[0m\u001b[0m\n\u001b[0;32m   1550\u001b[0m     \u001b[1;32mreturn\u001b[0m \u001b[0mresult\u001b[0m\u001b[1;33m\u001b[0m\u001b[1;33m\u001b[0m\u001b[0m\n",
      "\u001b[1;32m<ipython-input-66-c84acd972a33>\u001b[0m in \u001b[0;36m<genexpr>\u001b[1;34m(.0)\u001b[0m\n\u001b[1;32m----> 1\u001b[1;33m \u001b[0mexample\u001b[0m \u001b[1;33m+=\u001b[0m \u001b[0msum\u001b[0m\u001b[1;33m(\u001b[0m\u001b[0mxsum\u001b[0m\u001b[1;33m(\u001b[0m\u001b[0mlmbd\u001b[0m\u001b[1;33m[\u001b[0m\u001b[0mi\u001b[0m\u001b[1;33m]\u001b[0m \u001b[1;33m*\u001b[0m \u001b[0mv\u001b[0m\u001b[1;33m[\u001b[0m\u001b[0mi\u001b[0m\u001b[1;33m]\u001b[0m \u001b[1;32mfor\u001b[0m \u001b[0mi\u001b[0m \u001b[1;32min\u001b[0m \u001b[0mcategories\u001b[0m\u001b[1;33m)\u001b[0m\u001b[1;33m)\u001b[0m \u001b[1;33m<=\u001b[0m \u001b[0mB\u001b[0m\u001b[1;33m\u001b[0m\u001b[1;33m\u001b[0m\u001b[0m\n\u001b[0m",
      "\u001b[1;31mNameError\u001b[0m: name 'lmbd' is not defined"
     ]
    }
   ],
   "source": [
    "example += sum(xsum(lmbd[i] * v[i] for i in categories)) <= B"
   ]
  },
  {
   "cell_type": "markdown",
   "metadata": {},
   "source": [
    "Convexity constraints on $\\lambda$ variables."
   ]
  },
  {
   "cell_type": "code",
   "execution_count": 19,
   "metadata": {},
   "outputs": [],
   "source": [
    "example += sum(lmbd_1) == 1"
   ]
  },
  {
   "cell_type": "markdown",
   "metadata": {},
   "source": [
    "Constrain binary $y$ variables such that at most one of the $y$ variables can be equal to 1."
   ]
  },
  {
   "cell_type": "code",
   "execution_count": 20,
   "metadata": {},
   "outputs": [],
   "source": [
    "example += sum(y_1) == 1"
   ]
  },
  {
   "cell_type": "markdown",
   "metadata": {},
   "source": [
    "Interval constraints on $y$ variables and $\\lambda$ variables."
   ]
  },
  {
   "cell_type": "code",
   "execution_count": 21,
   "metadata": {},
   "outputs": [],
   "source": [
    "example += y_1[0] <= lmbd_1[0] + lmbd_1[1]"
   ]
  },
  {
   "cell_type": "code",
   "execution_count": 22,
   "metadata": {},
   "outputs": [],
   "source": [
    "example += y_1[1] <= lmbd_1[1] + lmbd_1[2]"
   ]
  },
  {
   "cell_type": "markdown",
   "metadata": {},
   "source": [
    "Create objective function: Capital (metric) as a function of $\\lambda$s and $y$s."
   ]
  },
  {
   "cell_type": "code",
   "execution_count": 23,
   "metadata": {},
   "outputs": [],
   "source": [
    "example.objective = minimize(-1.0 * xsum(lmbd_1[i] * m_1[i] for i in range(k_1)))"
   ]
  },
  {
   "cell_type": "markdown",
   "metadata": {},
   "source": [
    "Optimize."
   ]
  },
  {
   "cell_type": "code",
   "execution_count": 24,
   "metadata": {},
   "outputs": [
    {
     "data": {
      "text/plain": [
       "<OptimizationStatus.OPTIMAL: 0>"
      ]
     },
     "execution_count": 24,
     "metadata": {},
     "output_type": "execute_result"
    }
   ],
   "source": [
    "example.optimize()"
   ]
  },
  {
   "cell_type": "markdown",
   "metadata": {},
   "source": [
    "Print optimal objective function value, with a negative applied to reverse the -1.0 in the objective function definition (minimizing a negative -> maximize a positive)."
   ]
  },
  {
   "cell_type": "code",
   "execution_count": 25,
   "metadata": {},
   "outputs": [
    {
     "data": {
      "text/plain": [
       "-1.3555357403466024"
      ]
     },
     "execution_count": 25,
     "metadata": {},
     "output_type": "execute_result"
    }
   ],
   "source": [
    "-1.0 * example.objective_value"
   ]
  },
  {
   "cell_type": "markdown",
   "metadata": {},
   "source": [
    "Get the optimal $\\lambda$ and $y$ values."
   ]
  },
  {
   "cell_type": "code",
   "execution_count": 26,
   "metadata": {},
   "outputs": [
    {
     "name": "stdout",
     "output_type": "stream",
     "text": [
      "y_1 : 0.0\n",
      "y_1 : 1.0\n",
      "lmbd_1 : 0.0\n",
      "lmbd_1 : 0.5\n",
      "lmbd_1 : 0.5\n"
     ]
    }
   ],
   "source": [
    "for v in example.vars:\n",
    "    print('{} : {}'.format(v.name, v.x))"
   ]
  },
  {
   "cell_type": "markdown",
   "metadata": {},
   "source": [
    "\\$3,000,000 is halfway between the second and third investment levels, so this solution is the correct optimum."
   ]
  }
 ],
 "metadata": {
  "kernelspec": {
   "display_name": "Python 3",
   "language": "python",
   "name": "python3"
  },
  "language_info": {
   "codemirror_mode": {
    "name": "ipython",
    "version": 3
   },
   "file_extension": ".py",
   "mimetype": "text/x-python",
   "name": "python",
   "nbconvert_exporter": "python",
   "pygments_lexer": "ipython3",
   "version": "3.7.8"
  }
 },
 "nbformat": 4,
 "nbformat_minor": 4
}
