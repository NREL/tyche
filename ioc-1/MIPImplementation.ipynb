{
 "cells": [
  {
   "cell_type": "markdown",
   "metadata": {},
   "source": [
    "The goal of this notebook is to take the ad hoc implementation in `MIPExample1.ipynb` and vectorize the operations such that any size Tyche problem can be converted to a MIP and solved."
   ]
  },
  {
   "cell_type": "code",
   "execution_count": 1,
   "metadata": {},
   "outputs": [],
   "source": [
    "import os\n",
    "import sys\n",
    "sys.path.insert(0, os.path.abspath(\"../src\"))"
   ]
  },
  {
   "cell_type": "code",
   "execution_count": 2,
   "metadata": {},
   "outputs": [],
   "source": [
    "import numpy             as np\n",
    "import matplotlib.pyplot as pl\n",
    "import pandas            as pd\n",
    "import seaborn           as sb\n",
    "import tyche             as ty\n",
    "\n",
    "from copy            import deepcopy\n",
    "from IPython.display import Image "
   ]
  },
  {
   "cell_type": "code",
   "execution_count": 3,
   "metadata": {},
   "outputs": [],
   "source": [
    "import cProfile\n",
    "import timeit"
   ]
  },
  {
   "cell_type": "code",
   "execution_count": 82,
   "metadata": {},
   "outputs": [],
   "source": [
    "from mip import Model, MINIMIZE, MAXIMIZE, BINARY, xsum\n",
    "from itertools import product"
   ]
  },
  {
   "cell_type": "code",
   "execution_count": 5,
   "metadata": {},
   "outputs": [],
   "source": [
    "designs = ty.Designs(\"data\")\n",
    "investments = ty.Investments(\"data\")\n",
    "designs.compile()\n",
    "tranche_results = investments.evaluate_tranches(designs, sample_count=250)\n",
    "results = investments.tranches.join(tranche_results.summary)\n",
    "evaluator = ty.Evaluator(investments.tranches, tranche_results.summary)"
   ]
  },
  {
   "cell_type": "markdown",
   "metadata": {},
   "source": [
    "Get the wide-format interpolated elicitation data from the Tyche Evaluator and reset the multi-level index."
   ]
  },
  {
   "cell_type": "code",
   "execution_count": 6,
   "metadata": {},
   "outputs": [],
   "source": [
    "wide = evaluator.evaluate_corners_wide().reset_index()"
   ]
  },
  {
   "cell_type": "code",
   "execution_count": 7,
   "metadata": {},
   "outputs": [
    {
     "data": {
      "text/html": [
       "<div>\n",
       "<style scoped>\n",
       "    .dataframe tbody tr th:only-of-type {\n",
       "        vertical-align: middle;\n",
       "    }\n",
       "\n",
       "    .dataframe tbody tr th {\n",
       "        vertical-align: top;\n",
       "    }\n",
       "\n",
       "    .dataframe thead th {\n",
       "        text-align: right;\n",
       "    }\n",
       "</style>\n",
       "<table border=\"1\" class=\"dataframe\">\n",
       "  <thead>\n",
       "    <tr style=\"text-align: right;\">\n",
       "      <th>Index</th>\n",
       "      <th>CIGS</th>\n",
       "      <th>CdTe</th>\n",
       "      <th>GaAs</th>\n",
       "      <th>InGaP</th>\n",
       "      <th>Perovskite</th>\n",
       "      <th>Polysilicon</th>\n",
       "      <th>Power Electronics</th>\n",
       "      <th>Soft Costs</th>\n",
       "      <th>Capital</th>\n",
       "      <th>Efficiency</th>\n",
       "      <th>GHG</th>\n",
       "      <th>Hazardous</th>\n",
       "      <th>LCOE</th>\n",
       "      <th>Lifetime</th>\n",
       "      <th>Strategic</th>\n",
       "      <th>Yield</th>\n",
       "    </tr>\n",
       "  </thead>\n",
       "  <tbody>\n",
       "    <tr>\n",
       "      <th>0</th>\n",
       "      <td>0.0</td>\n",
       "      <td>0.0</td>\n",
       "      <td>0.0</td>\n",
       "      <td>0.0</td>\n",
       "      <td>0.0</td>\n",
       "      <td>0.0</td>\n",
       "      <td>0.0</td>\n",
       "      <td>0.0</td>\n",
       "      <td>-1.547360</td>\n",
       "      <td>2.066883</td>\n",
       "      <td>-0.003592</td>\n",
       "      <td>0.973466</td>\n",
       "      <td>-0.143004</td>\n",
       "      <td>188.051752</td>\n",
       "      <td>0.063428</td>\n",
       "      <td>10006.828512</td>\n",
       "    </tr>\n",
       "    <tr>\n",
       "      <th>1</th>\n",
       "      <td>0.0</td>\n",
       "      <td>0.0</td>\n",
       "      <td>0.0</td>\n",
       "      <td>0.0</td>\n",
       "      <td>0.0</td>\n",
       "      <td>0.0</td>\n",
       "      <td>0.0</td>\n",
       "      <td>1000000.0</td>\n",
       "      <td>-1.465742</td>\n",
       "      <td>2.066316</td>\n",
       "      <td>-0.003592</td>\n",
       "      <td>0.974118</td>\n",
       "      <td>-0.140451</td>\n",
       "      <td>188.051661</td>\n",
       "      <td>0.063428</td>\n",
       "      <td>10006.832792</td>\n",
       "    </tr>\n",
       "    <tr>\n",
       "      <th>2</th>\n",
       "      <td>0.0</td>\n",
       "      <td>0.0</td>\n",
       "      <td>0.0</td>\n",
       "      <td>0.0</td>\n",
       "      <td>0.0</td>\n",
       "      <td>0.0</td>\n",
       "      <td>0.0</td>\n",
       "      <td>5000000.0</td>\n",
       "      <td>-1.295581</td>\n",
       "      <td>2.066924</td>\n",
       "      <td>-0.003592</td>\n",
       "      <td>0.973480</td>\n",
       "      <td>-0.135127</td>\n",
       "      <td>188.051679</td>\n",
       "      <td>0.063428</td>\n",
       "      <td>10006.827268</td>\n",
       "    </tr>\n",
       "    <tr>\n",
       "      <th>3</th>\n",
       "      <td>0.0</td>\n",
       "      <td>0.0</td>\n",
       "      <td>0.0</td>\n",
       "      <td>0.0</td>\n",
       "      <td>0.0</td>\n",
       "      <td>0.0</td>\n",
       "      <td>1000000.0</td>\n",
       "      <td>0.0</td>\n",
       "      <td>-1.473330</td>\n",
       "      <td>2.066936</td>\n",
       "      <td>-0.003592</td>\n",
       "      <td>0.961711</td>\n",
       "      <td>-0.136984</td>\n",
       "      <td>188.051696</td>\n",
       "      <td>0.063428</td>\n",
       "      <td>10070.983363</td>\n",
       "    </tr>\n",
       "    <tr>\n",
       "      <th>4</th>\n",
       "      <td>0.0</td>\n",
       "      <td>0.0</td>\n",
       "      <td>0.0</td>\n",
       "      <td>0.0</td>\n",
       "      <td>0.0</td>\n",
       "      <td>0.0</td>\n",
       "      <td>1000000.0</td>\n",
       "      <td>1000000.0</td>\n",
       "      <td>-1.391713</td>\n",
       "      <td>2.066369</td>\n",
       "      <td>-0.003592</td>\n",
       "      <td>0.962363</td>\n",
       "      <td>-0.134430</td>\n",
       "      <td>188.051605</td>\n",
       "      <td>0.063428</td>\n",
       "      <td>10070.987644</td>\n",
       "    </tr>\n",
       "    <tr>\n",
       "      <th>5</th>\n",
       "      <td>0.0</td>\n",
       "      <td>0.0</td>\n",
       "      <td>0.0</td>\n",
       "      <td>0.0</td>\n",
       "      <td>0.0</td>\n",
       "      <td>0.0</td>\n",
       "      <td>1000000.0</td>\n",
       "      <td>5000000.0</td>\n",
       "      <td>-1.221552</td>\n",
       "      <td>2.066978</td>\n",
       "      <td>-0.003592</td>\n",
       "      <td>0.961725</td>\n",
       "      <td>-0.129107</td>\n",
       "      <td>188.051623</td>\n",
       "      <td>0.063428</td>\n",
       "      <td>10070.982119</td>\n",
       "    </tr>\n",
       "    <tr>\n",
       "      <th>6</th>\n",
       "      <td>0.0</td>\n",
       "      <td>0.0</td>\n",
       "      <td>0.0</td>\n",
       "      <td>0.0</td>\n",
       "      <td>0.0</td>\n",
       "      <td>0.0</td>\n",
       "      <td>5000000.0</td>\n",
       "      <td>0.0</td>\n",
       "      <td>-1.400477</td>\n",
       "      <td>2.066152</td>\n",
       "      <td>-0.003592</td>\n",
       "      <td>0.955191</td>\n",
       "      <td>-0.132598</td>\n",
       "      <td>188.051757</td>\n",
       "      <td>0.063428</td>\n",
       "      <td>10113.752068</td>\n",
       "    </tr>\n",
       "    <tr>\n",
       "      <th>7</th>\n",
       "      <td>0.0</td>\n",
       "      <td>0.0</td>\n",
       "      <td>0.0</td>\n",
       "      <td>0.0</td>\n",
       "      <td>0.0</td>\n",
       "      <td>0.0</td>\n",
       "      <td>5000000.0</td>\n",
       "      <td>1000000.0</td>\n",
       "      <td>-1.318860</td>\n",
       "      <td>2.065585</td>\n",
       "      <td>-0.003592</td>\n",
       "      <td>0.955843</td>\n",
       "      <td>-0.130044</td>\n",
       "      <td>188.051665</td>\n",
       "      <td>0.063428</td>\n",
       "      <td>10113.756348</td>\n",
       "    </tr>\n",
       "    <tr>\n",
       "      <th>8</th>\n",
       "      <td>0.0</td>\n",
       "      <td>0.0</td>\n",
       "      <td>0.0</td>\n",
       "      <td>0.0</td>\n",
       "      <td>0.0</td>\n",
       "      <td>0.0</td>\n",
       "      <td>5000000.0</td>\n",
       "      <td>5000000.0</td>\n",
       "      <td>-1.148699</td>\n",
       "      <td>2.066194</td>\n",
       "      <td>-0.003592</td>\n",
       "      <td>0.955204</td>\n",
       "      <td>-0.124720</td>\n",
       "      <td>188.051684</td>\n",
       "      <td>0.063428</td>\n",
       "      <td>10113.750823</td>\n",
       "    </tr>\n",
       "  </tbody>\n",
       "</table>\n",
       "</div>"
      ],
      "text/plain": [
       "Index  CIGS  CdTe  GaAs  InGaP  Perovskite  Polysilicon  Power Electronics  \\\n",
       "0       0.0   0.0   0.0    0.0         0.0          0.0                0.0   \n",
       "1       0.0   0.0   0.0    0.0         0.0          0.0                0.0   \n",
       "2       0.0   0.0   0.0    0.0         0.0          0.0                0.0   \n",
       "3       0.0   0.0   0.0    0.0         0.0          0.0          1000000.0   \n",
       "4       0.0   0.0   0.0    0.0         0.0          0.0          1000000.0   \n",
       "5       0.0   0.0   0.0    0.0         0.0          0.0          1000000.0   \n",
       "6       0.0   0.0   0.0    0.0         0.0          0.0          5000000.0   \n",
       "7       0.0   0.0   0.0    0.0         0.0          0.0          5000000.0   \n",
       "8       0.0   0.0   0.0    0.0         0.0          0.0          5000000.0   \n",
       "\n",
       "Index  Soft Costs   Capital  Efficiency       GHG  Hazardous      LCOE  \\\n",
       "0             0.0 -1.547360    2.066883 -0.003592   0.973466 -0.143004   \n",
       "1       1000000.0 -1.465742    2.066316 -0.003592   0.974118 -0.140451   \n",
       "2       5000000.0 -1.295581    2.066924 -0.003592   0.973480 -0.135127   \n",
       "3             0.0 -1.473330    2.066936 -0.003592   0.961711 -0.136984   \n",
       "4       1000000.0 -1.391713    2.066369 -0.003592   0.962363 -0.134430   \n",
       "5       5000000.0 -1.221552    2.066978 -0.003592   0.961725 -0.129107   \n",
       "6             0.0 -1.400477    2.066152 -0.003592   0.955191 -0.132598   \n",
       "7       1000000.0 -1.318860    2.065585 -0.003592   0.955843 -0.130044   \n",
       "8       5000000.0 -1.148699    2.066194 -0.003592   0.955204 -0.124720   \n",
       "\n",
       "Index    Lifetime  Strategic         Yield  \n",
       "0      188.051752   0.063428  10006.828512  \n",
       "1      188.051661   0.063428  10006.832792  \n",
       "2      188.051679   0.063428  10006.827268  \n",
       "3      188.051696   0.063428  10070.983363  \n",
       "4      188.051605   0.063428  10070.987644  \n",
       "5      188.051623   0.063428  10070.982119  \n",
       "6      188.051757   0.063428  10113.752068  \n",
       "7      188.051665   0.063428  10113.756348  \n",
       "8      188.051684   0.063428  10113.750823  "
      ]
     },
     "execution_count": 7,
     "metadata": {},
     "output_type": "execute_result"
    }
   ],
   "source": [
    "wide.head(9)"
   ]
  },
  {
   "cell_type": "markdown",
   "metadata": {},
   "source": [
    "**Input to MIP constructor needed**: List of investment categories\n",
    "\n",
    "**Input to MIP constructor needed**: List of metrics to optimize and/or constrain\n",
    "\n",
    "**Data check**: Confirm that all elements of both input lists match columns in the `evaluate_corners_wide()` data frame."
   ]
  },
  {
   "cell_type": "code",
   "execution_count": 8,
   "metadata": {},
   "outputs": [],
   "source": [
    "categories = ['Polysilicon', 'Power Electronics', 'Soft Costs']\n",
    "\n",
    "metrics = ['Capital']"
   ]
  },
  {
   "cell_type": "markdown",
   "metadata": {},
   "source": [
    "Pull out the investment values and metric values from the data set."
   ]
  },
  {
   "cell_type": "code",
   "execution_count": 53,
   "metadata": {},
   "outputs": [],
   "source": [
    "# Investment levels\n",
    "inv_levels = wide.loc[:26,categories].values.tolist()\n",
    "\n",
    "# Elicited metric values\n",
    "m = wide.loc[:26,metrics].values.tolist()\n",
    "\n",
    "# Number of endpoints\n",
    "I = len(inv_levels)"
   ]
  },
  {
   "cell_type": "markdown",
   "metadata": {},
   "source": [
    "Instantiate the MIP optimization problem."
   ]
  },
  {
   "cell_type": "code",
   "execution_count": 134,
   "metadata": {},
   "outputs": [],
   "source": [
    "example = Model(sense=MAXIMIZE)"
   ]
  },
  {
   "cell_type": "markdown",
   "metadata": {},
   "source": [
    "Create binary (integer) variables $y_{in_i}$."
   ]
  },
  {
   "cell_type": "code",
   "execution_count": 135,
   "metadata": {},
   "outputs": [],
   "source": [
    "bin_vars = []\n",
    "\n",
    "for i in range(I-1):\n",
    "    _name = 'y' + '_' + str(i)\n",
    "    bin_vars += [example.add_var(name=_name, var_type=BINARY)]\n",
    "    del _name"
   ]
  },
  {
   "cell_type": "markdown",
   "metadata": {},
   "source": [
    "Create continuous $\\lambda$ variables with lower bound 0.0 and upper bound 1.0"
   ]
  },
  {
   "cell_type": "code",
   "execution_count": 136,
   "metadata": {},
   "outputs": [],
   "source": [
    "lmbd_vars = []\n",
    "\n",
    "for i in range(I):\n",
    "    _name = 'lmbd' + '_' + str(i)\n",
    "    lmbd_vars += [example.add_var(name=_name, lb=0.0, ub=1.0)]\n",
    "    del _name"
   ]
  },
  {
   "cell_type": "markdown",
   "metadata": {},
   "source": [
    "**Question**: Is there a standard way we're setting up the budget constraint(s)? e.g. Will there always be as many budget constraints as there are investment categories or always only one budget constraint?\n",
    "\n",
    "Define upper bound(s) for budget constraint(s)."
   ]
  },
  {
   "cell_type": "code",
   "execution_count": 137,
   "metadata": {},
   "outputs": [],
   "source": [
    "B = 3000000.0"
   ]
  },
  {
   "cell_type": "markdown",
   "metadata": {},
   "source": [
    "Create total budget constraint as a function of the $\\lambda$ variables and the elicited investment levels from the data set."
   ]
  },
  {
   "cell_type": "code",
   "execution_count": 138,
   "metadata": {},
   "outputs": [],
   "source": [
    "example += xsum(lmbd_vars[i] * inv_levels[i][j] \n",
    "                for i in range(I)\n",
    "                for j in range(len(inv_levels[i]))) <= B, 'Total Budget'"
   ]
  },
  {
   "cell_type": "markdown",
   "metadata": {},
   "source": [
    "Create three sets of constraints:\n",
    "* Convexity constraints on $\\lambda$ variables: the $\\lambda$s must sum to 1.\n",
    "* Constrain binary $y$ variables within each category such that the decision variables lie within exactly one interval (also a sum-to-1 constraint).\n",
    "* Interval constraints on $y$ variables and $\\lambda$ variables. There will be as many interval constraints per investment category as there are linear intervals."
   ]
  },
  {
   "cell_type": "code",
   "execution_count": 139,
   "metadata": {},
   "outputs": [],
   "source": [
    "example += sum(lmbd_vars) == 1, 'Lambda Sum'\n",
    "example += sum(bin_vars) == 1, 'Binary Sum'"
   ]
  },
  {
   "cell_type": "code",
   "execution_count": 140,
   "metadata": {},
   "outputs": [],
   "source": [
    "for i in range(I-1):\n",
    "    example += bin_vars[i] <= lmbd_vars[i] + lmbd_vars[i+1], 'Interval Constraint' + str(i)"
   ]
  },
  {
   "cell_type": "markdown",
   "metadata": {},
   "source": [
    "**In progress/Not implemented from this point onward**"
   ]
  },
  {
   "cell_type": "markdown",
   "metadata": {},
   "source": [
    "Create objective function: Capital (metric) as a function of $\\lambda$s and $y$s.\n",
    "\n",
    "Create a data frame of $\\lambda$ variables by mapping every element in `v` to its corresponding $\\lambda$, using column name (investment category) and investment level."
   ]
  },
  {
   "cell_type": "code",
   "execution_count": 141,
   "metadata": {},
   "outputs": [],
   "source": [
    "example.objective = xsum(m[i][0] * lmbd_vars[i] for i in range(I))"
   ]
  },
  {
   "cell_type": "markdown",
   "metadata": {},
   "source": [
    "Save model to a `lp` file for manual examination."
   ]
  },
  {
   "cell_type": "code",
   "execution_count": 142,
   "metadata": {},
   "outputs": [],
   "source": [
    "example.write('example.lp')"
   ]
  },
  {
   "cell_type": "markdown",
   "metadata": {},
   "source": [
    "Optimize."
   ]
  },
  {
   "cell_type": "code",
   "execution_count": 143,
   "metadata": {},
   "outputs": [
    {
     "data": {
      "text/plain": [
       "<OptimizationStatus.OPTIMAL: 0>"
      ]
     },
     "execution_count": 143,
     "metadata": {},
     "output_type": "execute_result"
    }
   ],
   "source": [
    "example.optimize()"
   ]
  },
  {
   "cell_type": "markdown",
   "metadata": {},
   "source": [
    "Print optimal objective function value, with a negative applied to reverse the -1.0 in the objective function definition (minimizing a negative -> maximize a positive)."
   ]
  },
  {
   "cell_type": "code",
   "execution_count": 144,
   "metadata": {},
   "outputs": [
    {
     "data": {
      "text/plain": [
       "-0.7975715496378262"
      ]
     },
     "execution_count": 144,
     "metadata": {},
     "output_type": "execute_result"
    }
   ],
   "source": [
    "example.objective_value"
   ]
  },
  {
   "cell_type": "markdown",
   "metadata": {},
   "source": [
    "Get the optimal $\\lambda$ and $y$ values."
   ]
  },
  {
   "cell_type": "code",
   "execution_count": 145,
   "metadata": {},
   "outputs": [
    {
     "name": "stdout",
     "output_type": "stream",
     "text": [
      "y_0 : 0.0\n",
      "y_1 : 0.0\n",
      "y_2 : 0.0\n",
      "y_3 : 0.0\n",
      "y_4 : 0.0\n",
      "y_5 : 0.0\n",
      "y_6 : 0.0\n",
      "y_7 : 0.0\n",
      "y_8 : 0.0\n",
      "y_9 : 0.0\n",
      "y_10 : 0.0\n",
      "y_11 : 0.0\n",
      "y_12 : 0.0\n",
      "y_13 : 0.0\n",
      "y_14 : 0.0\n",
      "y_15 : 0.0\n",
      "y_16 : 0.0\n",
      "y_17 : 0.0\n",
      "y_18 : 0.0\n",
      "y_19 : 0.0\n",
      "y_20 : 0.0\n",
      "y_21 : 0.0\n",
      "y_22 : 0.0\n",
      "y_23 : 0.0\n",
      "y_24 : 0.0\n",
      "y_25 : 1.0\n",
      "lmbd_0 : 0.0\n",
      "lmbd_1 : 0.0\n",
      "lmbd_2 : 0.0\n",
      "lmbd_3 : 0.0\n",
      "lmbd_4 : 0.0\n",
      "lmbd_5 : 0.0\n",
      "lmbd_6 : 0.0\n",
      "lmbd_7 : 0.0\n",
      "lmbd_8 : 0.0\n",
      "lmbd_9 : 0.0\n",
      "lmbd_10 : 0.0\n",
      "lmbd_11 : 0.0\n",
      "lmbd_12 : 0.0\n",
      "lmbd_13 : 0.0\n",
      "lmbd_14 : 0.0\n",
      "lmbd_15 : 0.0\n",
      "lmbd_16 : 0.0\n",
      "lmbd_17 : 0.0\n",
      "lmbd_18 : 0.0\n",
      "lmbd_19 : 0.0\n",
      "lmbd_20 : 0.0\n",
      "lmbd_21 : 0.0\n",
      "lmbd_22 : 0.0\n",
      "lmbd_23 : 0.0\n",
      "lmbd_24 : 0.0\n",
      "lmbd_25 : 0.0\n",
      "lmbd_26 : 1.0\n"
     ]
    }
   ],
   "source": [
    "for v in example.vars:\n",
    "    print('{} : {}'.format(v.name, v.x))"
   ]
  },
  {
   "cell_type": "markdown",
   "metadata": {},
   "source": [
    "Verify that budget constraint is met."
   ]
  },
  {
   "cell_type": "code",
   "execution_count": null,
   "metadata": {},
   "outputs": [],
   "source": []
  },
  {
   "cell_type": "markdown",
   "metadata": {},
   "source": [
    "Calculate the optimal investment levels."
   ]
  },
  {
   "cell_type": "code",
   "execution_count": null,
   "metadata": {},
   "outputs": [],
   "source": []
  }
 ],
 "metadata": {
  "kernelspec": {
   "display_name": "Python 3",
   "language": "python",
   "name": "python3"
  },
  "language_info": {
   "codemirror_mode": {
    "name": "ipython",
    "version": 3
   },
   "file_extension": ".py",
   "mimetype": "text/x-python",
   "name": "python",
   "nbconvert_exporter": "python",
   "pygments_lexer": "ipython3",
   "version": "3.7.8"
  }
 },
 "nbformat": 4,
 "nbformat_minor": 4
}
