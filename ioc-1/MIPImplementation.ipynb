{
 "cells": [
  {
   "cell_type": "markdown",
   "metadata": {},
   "source": [
    "The goal of this notebook is to take the ad hoc implementation in `MIPExample1.ipynb` and vectorize the operations such that any size Tyche problem can be converted to a MIP and solved."
   ]
  },
  {
   "cell_type": "code",
   "execution_count": 1,
   "metadata": {},
   "outputs": [],
   "source": [
    "import os\n",
    "import sys\n",
    "sys.path.insert(0, os.path.abspath(\"../src\"))"
   ]
  },
  {
   "cell_type": "code",
   "execution_count": 2,
   "metadata": {},
   "outputs": [],
   "source": [
    "import numpy             as np\n",
    "import matplotlib.pyplot as pl\n",
    "import pandas            as pd\n",
    "import seaborn           as sb\n",
    "import tyche             as ty\n",
    "\n",
    "from copy            import deepcopy\n",
    "from IPython.display import Image "
   ]
  },
  {
   "cell_type": "code",
   "execution_count": 3,
   "metadata": {},
   "outputs": [],
   "source": [
    "import cProfile\n",
    "import timeit"
   ]
  },
  {
   "cell_type": "code",
   "execution_count": 34,
   "metadata": {},
   "outputs": [],
   "source": [
    "from mip import Model, MINIMIZE, MAXIMIZE, BINARY, xsum, OptimizationStatus\n",
    "from itertools import product, combinations"
   ]
  },
  {
   "cell_type": "code",
   "execution_count": 5,
   "metadata": {},
   "outputs": [],
   "source": [
    "designs = ty.Designs(\"data\")\n",
    "investments = ty.Investments(\"data\")\n",
    "designs.compile()\n",
    "tranche_results = investments.evaluate_tranches(designs, sample_count=250)\n",
    "results = investments.tranches.join(tranche_results.summary)\n",
    "evaluator = ty.Evaluator(investments.tranches, tranche_results.summary)"
   ]
  },
  {
   "cell_type": "markdown",
   "metadata": {},
   "source": [
    "Get the wide-format interpolated elicitation data from the Tyche Evaluator and reset the multi-level index."
   ]
  },
  {
   "cell_type": "code",
   "execution_count": 6,
   "metadata": {},
   "outputs": [],
   "source": [
    "wide = evaluator.evaluate_corners_wide().reset_index()"
   ]
  },
  {
   "cell_type": "code",
   "execution_count": 7,
   "metadata": {
    "scrolled": true
   },
   "outputs": [
    {
     "data": {
      "text/html": [
       "<div>\n",
       "<style scoped>\n",
       "    .dataframe tbody tr th:only-of-type {\n",
       "        vertical-align: middle;\n",
       "    }\n",
       "\n",
       "    .dataframe tbody tr th {\n",
       "        vertical-align: top;\n",
       "    }\n",
       "\n",
       "    .dataframe thead th {\n",
       "        text-align: right;\n",
       "    }\n",
       "</style>\n",
       "<table border=\"1\" class=\"dataframe\">\n",
       "  <thead>\n",
       "    <tr style=\"text-align: right;\">\n",
       "      <th>Index</th>\n",
       "      <th>CIGS</th>\n",
       "      <th>CdTe</th>\n",
       "      <th>GaAs</th>\n",
       "      <th>InGaP</th>\n",
       "      <th>Perovskite</th>\n",
       "      <th>Polysilicon</th>\n",
       "      <th>Power Electronics</th>\n",
       "      <th>Soft Costs</th>\n",
       "      <th>Capital</th>\n",
       "      <th>Efficiency</th>\n",
       "      <th>GHG</th>\n",
       "      <th>Hazardous</th>\n",
       "      <th>LCOE</th>\n",
       "      <th>Lifetime</th>\n",
       "      <th>Strategic</th>\n",
       "      <th>Yield</th>\n",
       "    </tr>\n",
       "  </thead>\n",
       "  <tbody>\n",
       "    <tr>\n",
       "      <th>0</th>\n",
       "      <td>0.0</td>\n",
       "      <td>0.0</td>\n",
       "      <td>0.0</td>\n",
       "      <td>0.0</td>\n",
       "      <td>0.0</td>\n",
       "      <td>0.0</td>\n",
       "      <td>0.0</td>\n",
       "      <td>0.0</td>\n",
       "      <td>-1.552447</td>\n",
       "      <td>2.066952</td>\n",
       "      <td>-0.003592</td>\n",
       "      <td>0.974196</td>\n",
       "      <td>-0.142710</td>\n",
       "      <td>188.094932</td>\n",
       "      <td>0.063096</td>\n",
       "      <td>10003.881725</td>\n",
       "    </tr>\n",
       "    <tr>\n",
       "      <th>1</th>\n",
       "      <td>0.0</td>\n",
       "      <td>0.0</td>\n",
       "      <td>0.0</td>\n",
       "      <td>0.0</td>\n",
       "      <td>0.0</td>\n",
       "      <td>0.0</td>\n",
       "      <td>0.0</td>\n",
       "      <td>1000000.0</td>\n",
       "      <td>-1.472151</td>\n",
       "      <td>2.066167</td>\n",
       "      <td>-0.003592</td>\n",
       "      <td>0.975175</td>\n",
       "      <td>-0.140198</td>\n",
       "      <td>188.094879</td>\n",
       "      <td>0.063096</td>\n",
       "      <td>10003.883164</td>\n",
       "    </tr>\n",
       "    <tr>\n",
       "      <th>2</th>\n",
       "      <td>0.0</td>\n",
       "      <td>0.0</td>\n",
       "      <td>0.0</td>\n",
       "      <td>0.0</td>\n",
       "      <td>0.0</td>\n",
       "      <td>0.0</td>\n",
       "      <td>0.0</td>\n",
       "      <td>5000000.0</td>\n",
       "      <td>-1.301388</td>\n",
       "      <td>2.066841</td>\n",
       "      <td>-0.003592</td>\n",
       "      <td>0.974380</td>\n",
       "      <td>-0.134854</td>\n",
       "      <td>188.094949</td>\n",
       "      <td>0.063096</td>\n",
       "      <td>10003.884565</td>\n",
       "    </tr>\n",
       "    <tr>\n",
       "      <th>3</th>\n",
       "      <td>0.0</td>\n",
       "      <td>0.0</td>\n",
       "      <td>0.0</td>\n",
       "      <td>0.0</td>\n",
       "      <td>0.0</td>\n",
       "      <td>0.0</td>\n",
       "      <td>1000000.0</td>\n",
       "      <td>0.0</td>\n",
       "      <td>-1.475650</td>\n",
       "      <td>2.067201</td>\n",
       "      <td>-0.003592</td>\n",
       "      <td>0.962298</td>\n",
       "      <td>-0.136619</td>\n",
       "      <td>188.094947</td>\n",
       "      <td>0.063096</td>\n",
       "      <td>10067.675941</td>\n",
       "    </tr>\n",
       "    <tr>\n",
       "      <th>4</th>\n",
       "      <td>0.0</td>\n",
       "      <td>0.0</td>\n",
       "      <td>0.0</td>\n",
       "      <td>0.0</td>\n",
       "      <td>0.0</td>\n",
       "      <td>0.0</td>\n",
       "      <td>1000000.0</td>\n",
       "      <td>1000000.0</td>\n",
       "      <td>-1.395354</td>\n",
       "      <td>2.066415</td>\n",
       "      <td>-0.003592</td>\n",
       "      <td>0.963277</td>\n",
       "      <td>-0.134107</td>\n",
       "      <td>188.094893</td>\n",
       "      <td>0.063096</td>\n",
       "      <td>10067.677381</td>\n",
       "    </tr>\n",
       "    <tr>\n",
       "      <th>5</th>\n",
       "      <td>0.0</td>\n",
       "      <td>0.0</td>\n",
       "      <td>0.0</td>\n",
       "      <td>0.0</td>\n",
       "      <td>0.0</td>\n",
       "      <td>0.0</td>\n",
       "      <td>1000000.0</td>\n",
       "      <td>5000000.0</td>\n",
       "      <td>-1.224591</td>\n",
       "      <td>2.067089</td>\n",
       "      <td>-0.003592</td>\n",
       "      <td>0.962483</td>\n",
       "      <td>-0.128764</td>\n",
       "      <td>188.094964</td>\n",
       "      <td>0.063096</td>\n",
       "      <td>10067.678782</td>\n",
       "    </tr>\n",
       "    <tr>\n",
       "      <th>6</th>\n",
       "      <td>0.0</td>\n",
       "      <td>0.0</td>\n",
       "      <td>0.0</td>\n",
       "      <td>0.0</td>\n",
       "      <td>0.0</td>\n",
       "      <td>0.0</td>\n",
       "      <td>5000000.0</td>\n",
       "      <td>0.0</td>\n",
       "      <td>-1.395378</td>\n",
       "      <td>2.067584</td>\n",
       "      <td>-0.003592</td>\n",
       "      <td>0.954555</td>\n",
       "      <td>-0.131997</td>\n",
       "      <td>188.094893</td>\n",
       "      <td>0.063096</td>\n",
       "      <td>10110.860175</td>\n",
       "    </tr>\n",
       "    <tr>\n",
       "      <th>7</th>\n",
       "      <td>0.0</td>\n",
       "      <td>0.0</td>\n",
       "      <td>0.0</td>\n",
       "      <td>0.0</td>\n",
       "      <td>0.0</td>\n",
       "      <td>0.0</td>\n",
       "      <td>5000000.0</td>\n",
       "      <td>1000000.0</td>\n",
       "      <td>-1.315081</td>\n",
       "      <td>2.066798</td>\n",
       "      <td>-0.003592</td>\n",
       "      <td>0.955534</td>\n",
       "      <td>-0.129485</td>\n",
       "      <td>188.094839</td>\n",
       "      <td>0.063096</td>\n",
       "      <td>10110.861615</td>\n",
       "    </tr>\n",
       "    <tr>\n",
       "      <th>8</th>\n",
       "      <td>0.0</td>\n",
       "      <td>0.0</td>\n",
       "      <td>0.0</td>\n",
       "      <td>0.0</td>\n",
       "      <td>0.0</td>\n",
       "      <td>0.0</td>\n",
       "      <td>5000000.0</td>\n",
       "      <td>5000000.0</td>\n",
       "      <td>-1.144319</td>\n",
       "      <td>2.067472</td>\n",
       "      <td>-0.003592</td>\n",
       "      <td>0.954739</td>\n",
       "      <td>-0.124142</td>\n",
       "      <td>188.094910</td>\n",
       "      <td>0.063096</td>\n",
       "      <td>10110.863015</td>\n",
       "    </tr>\n",
       "    <tr>\n",
       "      <th>9</th>\n",
       "      <td>0.0</td>\n",
       "      <td>0.0</td>\n",
       "      <td>0.0</td>\n",
       "      <td>0.0</td>\n",
       "      <td>0.0</td>\n",
       "      <td>2500000.0</td>\n",
       "      <td>0.0</td>\n",
       "      <td>0.0</td>\n",
       "      <td>-1.437190</td>\n",
       "      <td>2.078564</td>\n",
       "      <td>-0.003592</td>\n",
       "      <td>0.932174</td>\n",
       "      <td>-0.137945</td>\n",
       "      <td>188.094914</td>\n",
       "      <td>0.063096</td>\n",
       "      <td>10023.619936</td>\n",
       "    </tr>\n",
       "    <tr>\n",
       "      <th>10</th>\n",
       "      <td>0.0</td>\n",
       "      <td>0.0</td>\n",
       "      <td>0.0</td>\n",
       "      <td>0.0</td>\n",
       "      <td>0.0</td>\n",
       "      <td>2500000.0</td>\n",
       "      <td>0.0</td>\n",
       "      <td>1000000.0</td>\n",
       "      <td>-1.356893</td>\n",
       "      <td>2.077778</td>\n",
       "      <td>-0.003592</td>\n",
       "      <td>0.933153</td>\n",
       "      <td>-0.135432</td>\n",
       "      <td>188.094860</td>\n",
       "      <td>0.063096</td>\n",
       "      <td>10023.621375</td>\n",
       "    </tr>\n",
       "    <tr>\n",
       "      <th>11</th>\n",
       "      <td>0.0</td>\n",
       "      <td>0.0</td>\n",
       "      <td>0.0</td>\n",
       "      <td>0.0</td>\n",
       "      <td>0.0</td>\n",
       "      <td>2500000.0</td>\n",
       "      <td>0.0</td>\n",
       "      <td>5000000.0</td>\n",
       "      <td>-1.186131</td>\n",
       "      <td>2.078452</td>\n",
       "      <td>-0.003592</td>\n",
       "      <td>0.932358</td>\n",
       "      <td>-0.130089</td>\n",
       "      <td>188.094931</td>\n",
       "      <td>0.063096</td>\n",
       "      <td>10023.622776</td>\n",
       "    </tr>\n",
       "    <tr>\n",
       "      <th>12</th>\n",
       "      <td>0.0</td>\n",
       "      <td>0.0</td>\n",
       "      <td>0.0</td>\n",
       "      <td>0.0</td>\n",
       "      <td>0.0</td>\n",
       "      <td>2500000.0</td>\n",
       "      <td>1000000.0</td>\n",
       "      <td>0.0</td>\n",
       "      <td>-1.360392</td>\n",
       "      <td>2.078813</td>\n",
       "      <td>-0.003592</td>\n",
       "      <td>0.920277</td>\n",
       "      <td>-0.131854</td>\n",
       "      <td>188.094928</td>\n",
       "      <td>0.063096</td>\n",
       "      <td>10087.414152</td>\n",
       "    </tr>\n",
       "    <tr>\n",
       "      <th>13</th>\n",
       "      <td>0.0</td>\n",
       "      <td>0.0</td>\n",
       "      <td>0.0</td>\n",
       "      <td>0.0</td>\n",
       "      <td>0.0</td>\n",
       "      <td>2500000.0</td>\n",
       "      <td>1000000.0</td>\n",
       "      <td>1000000.0</td>\n",
       "      <td>-1.280096</td>\n",
       "      <td>2.078027</td>\n",
       "      <td>-0.003592</td>\n",
       "      <td>0.921256</td>\n",
       "      <td>-0.129342</td>\n",
       "      <td>188.094874</td>\n",
       "      <td>0.063096</td>\n",
       "      <td>10087.415592</td>\n",
       "    </tr>\n",
       "    <tr>\n",
       "      <th>14</th>\n",
       "      <td>0.0</td>\n",
       "      <td>0.0</td>\n",
       "      <td>0.0</td>\n",
       "      <td>0.0</td>\n",
       "      <td>0.0</td>\n",
       "      <td>2500000.0</td>\n",
       "      <td>1000000.0</td>\n",
       "      <td>5000000.0</td>\n",
       "      <td>-1.109333</td>\n",
       "      <td>2.078701</td>\n",
       "      <td>-0.003592</td>\n",
       "      <td>0.920461</td>\n",
       "      <td>-0.123999</td>\n",
       "      <td>188.094945</td>\n",
       "      <td>0.063096</td>\n",
       "      <td>10087.416992</td>\n",
       "    </tr>\n",
       "    <tr>\n",
       "      <th>15</th>\n",
       "      <td>0.0</td>\n",
       "      <td>0.0</td>\n",
       "      <td>0.0</td>\n",
       "      <td>0.0</td>\n",
       "      <td>0.0</td>\n",
       "      <td>2500000.0</td>\n",
       "      <td>5000000.0</td>\n",
       "      <td>0.0</td>\n",
       "      <td>-1.280120</td>\n",
       "      <td>2.079196</td>\n",
       "      <td>-0.003592</td>\n",
       "      <td>0.912533</td>\n",
       "      <td>-0.127232</td>\n",
       "      <td>188.094874</td>\n",
       "      <td>0.063096</td>\n",
       "      <td>10130.598386</td>\n",
       "    </tr>\n",
       "    <tr>\n",
       "      <th>16</th>\n",
       "      <td>0.0</td>\n",
       "      <td>0.0</td>\n",
       "      <td>0.0</td>\n",
       "      <td>0.0</td>\n",
       "      <td>0.0</td>\n",
       "      <td>2500000.0</td>\n",
       "      <td>5000000.0</td>\n",
       "      <td>1000000.0</td>\n",
       "      <td>-1.199824</td>\n",
       "      <td>2.078410</td>\n",
       "      <td>-0.003592</td>\n",
       "      <td>0.913512</td>\n",
       "      <td>-0.124720</td>\n",
       "      <td>188.094820</td>\n",
       "      <td>0.063096</td>\n",
       "      <td>10130.599826</td>\n",
       "    </tr>\n",
       "    <tr>\n",
       "      <th>17</th>\n",
       "      <td>0.0</td>\n",
       "      <td>0.0</td>\n",
       "      <td>0.0</td>\n",
       "      <td>0.0</td>\n",
       "      <td>0.0</td>\n",
       "      <td>2500000.0</td>\n",
       "      <td>5000000.0</td>\n",
       "      <td>5000000.0</td>\n",
       "      <td>-1.029061</td>\n",
       "      <td>2.079084</td>\n",
       "      <td>-0.003592</td>\n",
       "      <td>0.912717</td>\n",
       "      <td>-0.119377</td>\n",
       "      <td>188.094891</td>\n",
       "      <td>0.063096</td>\n",
       "      <td>10130.601226</td>\n",
       "    </tr>\n",
       "    <tr>\n",
       "      <th>18</th>\n",
       "      <td>0.0</td>\n",
       "      <td>0.0</td>\n",
       "      <td>0.0</td>\n",
       "      <td>0.0</td>\n",
       "      <td>0.0</td>\n",
       "      <td>4500000.0</td>\n",
       "      <td>0.0</td>\n",
       "      <td>0.0</td>\n",
       "      <td>-1.195844</td>\n",
       "      <td>2.108872</td>\n",
       "      <td>-0.003592</td>\n",
       "      <td>0.877523</td>\n",
       "      <td>-0.128422</td>\n",
       "      <td>188.094856</td>\n",
       "      <td>0.063096</td>\n",
       "      <td>10064.809279</td>\n",
       "    </tr>\n",
       "    <tr>\n",
       "      <th>19</th>\n",
       "      <td>0.0</td>\n",
       "      <td>0.0</td>\n",
       "      <td>0.0</td>\n",
       "      <td>0.0</td>\n",
       "      <td>0.0</td>\n",
       "      <td>4500000.0</td>\n",
       "      <td>0.0</td>\n",
       "      <td>1000000.0</td>\n",
       "      <td>-1.115548</td>\n",
       "      <td>2.108087</td>\n",
       "      <td>-0.003592</td>\n",
       "      <td>0.878502</td>\n",
       "      <td>-0.125910</td>\n",
       "      <td>188.094803</td>\n",
       "      <td>0.063096</td>\n",
       "      <td>10064.810718</td>\n",
       "    </tr>\n",
       "    <tr>\n",
       "      <th>20</th>\n",
       "      <td>0.0</td>\n",
       "      <td>0.0</td>\n",
       "      <td>0.0</td>\n",
       "      <td>0.0</td>\n",
       "      <td>0.0</td>\n",
       "      <td>4500000.0</td>\n",
       "      <td>0.0</td>\n",
       "      <td>5000000.0</td>\n",
       "      <td>-0.944786</td>\n",
       "      <td>2.108761</td>\n",
       "      <td>-0.003592</td>\n",
       "      <td>0.877707</td>\n",
       "      <td>-0.120567</td>\n",
       "      <td>188.094873</td>\n",
       "      <td>0.063096</td>\n",
       "      <td>10064.812119</td>\n",
       "    </tr>\n",
       "    <tr>\n",
       "      <th>21</th>\n",
       "      <td>0.0</td>\n",
       "      <td>0.0</td>\n",
       "      <td>0.0</td>\n",
       "      <td>0.0</td>\n",
       "      <td>0.0</td>\n",
       "      <td>4500000.0</td>\n",
       "      <td>1000000.0</td>\n",
       "      <td>0.0</td>\n",
       "      <td>-1.119047</td>\n",
       "      <td>2.109121</td>\n",
       "      <td>-0.003592</td>\n",
       "      <td>0.865626</td>\n",
       "      <td>-0.122332</td>\n",
       "      <td>188.094870</td>\n",
       "      <td>0.063096</td>\n",
       "      <td>10128.603495</td>\n",
       "    </tr>\n",
       "    <tr>\n",
       "      <th>22</th>\n",
       "      <td>0.0</td>\n",
       "      <td>0.0</td>\n",
       "      <td>0.0</td>\n",
       "      <td>0.0</td>\n",
       "      <td>0.0</td>\n",
       "      <td>4500000.0</td>\n",
       "      <td>1000000.0</td>\n",
       "      <td>1000000.0</td>\n",
       "      <td>-1.038751</td>\n",
       "      <td>2.108335</td>\n",
       "      <td>-0.003592</td>\n",
       "      <td>0.866605</td>\n",
       "      <td>-0.119820</td>\n",
       "      <td>188.094817</td>\n",
       "      <td>0.063096</td>\n",
       "      <td>10128.604935</td>\n",
       "    </tr>\n",
       "    <tr>\n",
       "      <th>23</th>\n",
       "      <td>0.0</td>\n",
       "      <td>0.0</td>\n",
       "      <td>0.0</td>\n",
       "      <td>0.0</td>\n",
       "      <td>0.0</td>\n",
       "      <td>4500000.0</td>\n",
       "      <td>1000000.0</td>\n",
       "      <td>5000000.0</td>\n",
       "      <td>-0.867988</td>\n",
       "      <td>2.109009</td>\n",
       "      <td>-0.003592</td>\n",
       "      <td>0.865810</td>\n",
       "      <td>-0.114477</td>\n",
       "      <td>188.094887</td>\n",
       "      <td>0.063096</td>\n",
       "      <td>10128.606335</td>\n",
       "    </tr>\n",
       "    <tr>\n",
       "      <th>24</th>\n",
       "      <td>0.0</td>\n",
       "      <td>0.0</td>\n",
       "      <td>0.0</td>\n",
       "      <td>0.0</td>\n",
       "      <td>0.0</td>\n",
       "      <td>4500000.0</td>\n",
       "      <td>5000000.0</td>\n",
       "      <td>0.0</td>\n",
       "      <td>-1.038775</td>\n",
       "      <td>2.109504</td>\n",
       "      <td>-0.003592</td>\n",
       "      <td>0.857882</td>\n",
       "      <td>-0.117710</td>\n",
       "      <td>188.094816</td>\n",
       "      <td>0.063096</td>\n",
       "      <td>10171.787729</td>\n",
       "    </tr>\n",
       "    <tr>\n",
       "      <th>25</th>\n",
       "      <td>0.0</td>\n",
       "      <td>0.0</td>\n",
       "      <td>0.0</td>\n",
       "      <td>0.0</td>\n",
       "      <td>0.0</td>\n",
       "      <td>4500000.0</td>\n",
       "      <td>5000000.0</td>\n",
       "      <td>1000000.0</td>\n",
       "      <td>-0.958478</td>\n",
       "      <td>2.108718</td>\n",
       "      <td>-0.003592</td>\n",
       "      <td>0.858861</td>\n",
       "      <td>-0.115198</td>\n",
       "      <td>188.094763</td>\n",
       "      <td>0.063096</td>\n",
       "      <td>10171.789169</td>\n",
       "    </tr>\n",
       "  </tbody>\n",
       "</table>\n",
       "</div>"
      ],
      "text/plain": [
       "Index  CIGS  CdTe  GaAs  InGaP  Perovskite  Polysilicon  Power Electronics  \\\n",
       "0       0.0   0.0   0.0    0.0         0.0          0.0                0.0   \n",
       "1       0.0   0.0   0.0    0.0         0.0          0.0                0.0   \n",
       "2       0.0   0.0   0.0    0.0         0.0          0.0                0.0   \n",
       "3       0.0   0.0   0.0    0.0         0.0          0.0          1000000.0   \n",
       "4       0.0   0.0   0.0    0.0         0.0          0.0          1000000.0   \n",
       "5       0.0   0.0   0.0    0.0         0.0          0.0          1000000.0   \n",
       "6       0.0   0.0   0.0    0.0         0.0          0.0          5000000.0   \n",
       "7       0.0   0.0   0.0    0.0         0.0          0.0          5000000.0   \n",
       "8       0.0   0.0   0.0    0.0         0.0          0.0          5000000.0   \n",
       "9       0.0   0.0   0.0    0.0         0.0    2500000.0                0.0   \n",
       "10      0.0   0.0   0.0    0.0         0.0    2500000.0                0.0   \n",
       "11      0.0   0.0   0.0    0.0         0.0    2500000.0                0.0   \n",
       "12      0.0   0.0   0.0    0.0         0.0    2500000.0          1000000.0   \n",
       "13      0.0   0.0   0.0    0.0         0.0    2500000.0          1000000.0   \n",
       "14      0.0   0.0   0.0    0.0         0.0    2500000.0          1000000.0   \n",
       "15      0.0   0.0   0.0    0.0         0.0    2500000.0          5000000.0   \n",
       "16      0.0   0.0   0.0    0.0         0.0    2500000.0          5000000.0   \n",
       "17      0.0   0.0   0.0    0.0         0.0    2500000.0          5000000.0   \n",
       "18      0.0   0.0   0.0    0.0         0.0    4500000.0                0.0   \n",
       "19      0.0   0.0   0.0    0.0         0.0    4500000.0                0.0   \n",
       "20      0.0   0.0   0.0    0.0         0.0    4500000.0                0.0   \n",
       "21      0.0   0.0   0.0    0.0         0.0    4500000.0          1000000.0   \n",
       "22      0.0   0.0   0.0    0.0         0.0    4500000.0          1000000.0   \n",
       "23      0.0   0.0   0.0    0.0         0.0    4500000.0          1000000.0   \n",
       "24      0.0   0.0   0.0    0.0         0.0    4500000.0          5000000.0   \n",
       "25      0.0   0.0   0.0    0.0         0.0    4500000.0          5000000.0   \n",
       "\n",
       "Index  Soft Costs   Capital  Efficiency       GHG  Hazardous      LCOE  \\\n",
       "0             0.0 -1.552447    2.066952 -0.003592   0.974196 -0.142710   \n",
       "1       1000000.0 -1.472151    2.066167 -0.003592   0.975175 -0.140198   \n",
       "2       5000000.0 -1.301388    2.066841 -0.003592   0.974380 -0.134854   \n",
       "3             0.0 -1.475650    2.067201 -0.003592   0.962298 -0.136619   \n",
       "4       1000000.0 -1.395354    2.066415 -0.003592   0.963277 -0.134107   \n",
       "5       5000000.0 -1.224591    2.067089 -0.003592   0.962483 -0.128764   \n",
       "6             0.0 -1.395378    2.067584 -0.003592   0.954555 -0.131997   \n",
       "7       1000000.0 -1.315081    2.066798 -0.003592   0.955534 -0.129485   \n",
       "8       5000000.0 -1.144319    2.067472 -0.003592   0.954739 -0.124142   \n",
       "9             0.0 -1.437190    2.078564 -0.003592   0.932174 -0.137945   \n",
       "10      1000000.0 -1.356893    2.077778 -0.003592   0.933153 -0.135432   \n",
       "11      5000000.0 -1.186131    2.078452 -0.003592   0.932358 -0.130089   \n",
       "12            0.0 -1.360392    2.078813 -0.003592   0.920277 -0.131854   \n",
       "13      1000000.0 -1.280096    2.078027 -0.003592   0.921256 -0.129342   \n",
       "14      5000000.0 -1.109333    2.078701 -0.003592   0.920461 -0.123999   \n",
       "15            0.0 -1.280120    2.079196 -0.003592   0.912533 -0.127232   \n",
       "16      1000000.0 -1.199824    2.078410 -0.003592   0.913512 -0.124720   \n",
       "17      5000000.0 -1.029061    2.079084 -0.003592   0.912717 -0.119377   \n",
       "18            0.0 -1.195844    2.108872 -0.003592   0.877523 -0.128422   \n",
       "19      1000000.0 -1.115548    2.108087 -0.003592   0.878502 -0.125910   \n",
       "20      5000000.0 -0.944786    2.108761 -0.003592   0.877707 -0.120567   \n",
       "21            0.0 -1.119047    2.109121 -0.003592   0.865626 -0.122332   \n",
       "22      1000000.0 -1.038751    2.108335 -0.003592   0.866605 -0.119820   \n",
       "23      5000000.0 -0.867988    2.109009 -0.003592   0.865810 -0.114477   \n",
       "24            0.0 -1.038775    2.109504 -0.003592   0.857882 -0.117710   \n",
       "25      1000000.0 -0.958478    2.108718 -0.003592   0.858861 -0.115198   \n",
       "\n",
       "Index    Lifetime  Strategic         Yield  \n",
       "0      188.094932   0.063096  10003.881725  \n",
       "1      188.094879   0.063096  10003.883164  \n",
       "2      188.094949   0.063096  10003.884565  \n",
       "3      188.094947   0.063096  10067.675941  \n",
       "4      188.094893   0.063096  10067.677381  \n",
       "5      188.094964   0.063096  10067.678782  \n",
       "6      188.094893   0.063096  10110.860175  \n",
       "7      188.094839   0.063096  10110.861615  \n",
       "8      188.094910   0.063096  10110.863015  \n",
       "9      188.094914   0.063096  10023.619936  \n",
       "10     188.094860   0.063096  10023.621375  \n",
       "11     188.094931   0.063096  10023.622776  \n",
       "12     188.094928   0.063096  10087.414152  \n",
       "13     188.094874   0.063096  10087.415592  \n",
       "14     188.094945   0.063096  10087.416992  \n",
       "15     188.094874   0.063096  10130.598386  \n",
       "16     188.094820   0.063096  10130.599826  \n",
       "17     188.094891   0.063096  10130.601226  \n",
       "18     188.094856   0.063096  10064.809279  \n",
       "19     188.094803   0.063096  10064.810718  \n",
       "20     188.094873   0.063096  10064.812119  \n",
       "21     188.094870   0.063096  10128.603495  \n",
       "22     188.094817   0.063096  10128.604935  \n",
       "23     188.094887   0.063096  10128.606335  \n",
       "24     188.094816   0.063096  10171.787729  \n",
       "25     188.094763   0.063096  10171.789169  "
      ]
     },
     "execution_count": 7,
     "metadata": {},
     "output_type": "execute_result"
    }
   ],
   "source": [
    "wide.head(26)"
   ]
  },
  {
   "cell_type": "code",
   "execution_count": 8,
   "metadata": {},
   "outputs": [],
   "source": [
    "categories = ['Polysilicon', 'Power Electronics', 'Soft Costs']\n",
    "\n",
    "metric_obj = ['Efficiency']\n",
    "\n",
    "metric_constraint = ['Hazardous']"
   ]
  },
  {
   "cell_type": "markdown",
   "metadata": {},
   "source": [
    "Pull out the investment values and metric values from the data set."
   ]
  },
  {
   "cell_type": "code",
   "execution_count": 9,
   "metadata": {},
   "outputs": [],
   "source": [
    "# Investment levels = interval endpoints\n",
    "inv_levels = wide.loc[:26,categories].values.tolist()\n",
    "\n",
    "# Elicited metric values for objective function\n",
    "m = wide.loc[:26,metric_obj].values.tolist()\n",
    "\n",
    "# Elicited metric values for constraint\n",
    "const = wide.loc[:26, metric_constraint].values.tolist()\n",
    "\n",
    "# Number of endpoints\n",
    "I = len(inv_levels)"
   ]
  },
  {
   "cell_type": "markdown",
   "metadata": {},
   "source": [
    "Instantiate the MIP optimization problem."
   ]
  },
  {
   "cell_type": "code",
   "execution_count": 107,
   "metadata": {},
   "outputs": [],
   "source": [
    "example = Model(sense=MAXIMIZE)"
   ]
  },
  {
   "cell_type": "markdown",
   "metadata": {},
   "source": [
    "Create continuous $\\lambda$ variables with lower bound 0.0 and upper bound 1.0"
   ]
  },
  {
   "cell_type": "code",
   "execution_count": 108,
   "metadata": {},
   "outputs": [],
   "source": [
    "lmbd_vars = []\n",
    "\n",
    "for i in range(I):\n",
    "    lmbd_vars += [example.add_var(name='lmbd_' + str(i), lb=0.0, ub=1.0)]"
   ]
  },
  {
   "cell_type": "markdown",
   "metadata": {},
   "source": [
    "Create binary (integer) variables $y_{in_i}$ and constraints on $y$ and $\\lambda$ that restrict optimal solutions to the intervals between endpoints (elicited data)."
   ]
  },
  {
   "cell_type": "code",
   "execution_count": 109,
   "metadata": {},
   "outputs": [],
   "source": [
    "bin_vars = []\n",
    "bin_count = 0\n",
    "\n",
    "for i in range(I):\n",
    "    for j in range(i, I):\n",
    "        if j != i:\n",
    "            # create binary variable\n",
    "            bin_vars += [example.add_var(name='y_' + str(i) + str(j),\n",
    "                                         var_type=BINARY)]\n",
    "            # add binary/lambda variable constraint\n",
    "            example += bin_vars[bin_count] <= lmbd_vars[i] + lmbd_vars[j], 'Interval_Constraint_' + str(i) + str(j)\n",
    "            bin_count += 1"
   ]
  },
  {
   "cell_type": "markdown",
   "metadata": {},
   "source": [
    "Define upper bound for total budget constraint and per-category upper bounds."
   ]
  },
  {
   "cell_type": "code",
   "execution_count": 110,
   "metadata": {},
   "outputs": [],
   "source": [
    "B = 3000000.0\n",
    "max_amount = [3000000.0, 2300000.0, 3000000.0]\n",
    "const_amount = 0.95"
   ]
  },
  {
   "cell_type": "markdown",
   "metadata": {},
   "source": [
    "Create total budget constraint as a function of the $\\lambda$ variables and the elicited investment levels from the data set."
   ]
  },
  {
   "cell_type": "code",
   "execution_count": 111,
   "metadata": {},
   "outputs": [],
   "source": [
    "example += xsum(lmbd_vars[i] * inv_levels[i][j] \n",
    "                for i in range(I)\n",
    "                for j in range(len(inv_levels[i]))) <= B, 'Total_Budget'"
   ]
  },
  {
   "cell_type": "markdown",
   "metadata": {},
   "source": [
    "Create constraints for budget within each investment category."
   ]
  },
  {
   "cell_type": "code",
   "execution_count": 112,
   "metadata": {},
   "outputs": [],
   "source": [
    "for j in range(len(categories)):\n",
    "    example += xsum(lmbd_vars[i] * [el[j] for el in inv_levels][i] \n",
    "                    for i in range(I)) <= max_amount[j], 'Budget_for_' + categories[j].replace(' ', '')"
   ]
  },
  {
   "cell_type": "markdown",
   "metadata": {},
   "source": [
    "Create minimum-metric constraint on the lambda variables."
   ]
  },
  {
   "cell_type": "code",
   "execution_count": 113,
   "metadata": {},
   "outputs": [],
   "source": [
    "example += xsum(lmbd_vars[i] * const[i][0] for i in range(I)) <= const_amount"
   ]
  },
  {
   "cell_type": "markdown",
   "metadata": {},
   "source": [
    "Create two sets of constraints:\n",
    "* Convexity constraints on $\\lambda$ variables: the $\\lambda$s must sum to 1.\n",
    "* Constrain binary $y$ variables within each category such that the decision variables lie within exactly one interval."
   ]
  },
  {
   "cell_type": "code",
   "execution_count": 114,
   "metadata": {},
   "outputs": [],
   "source": [
    "example += sum(lmbd_vars) == 1, 'Lambda_Sum'"
   ]
  },
  {
   "cell_type": "markdown",
   "metadata": {},
   "source": [
    "The sum over all binary variables is constrained to be exactly 1 to restrict optimal solutions to the linear intervals between endpoints (elicited data)."
   ]
  },
  {
   "cell_type": "code",
   "execution_count": 115,
   "metadata": {},
   "outputs": [],
   "source": [
    "example += sum(bin_vars) == 1, 'Binary_Sum'"
   ]
  },
  {
   "cell_type": "markdown",
   "metadata": {},
   "source": [
    "Create objective function: Metric objective as a function of $\\lambda$s and elicited data."
   ]
  },
  {
   "cell_type": "code",
   "execution_count": 116,
   "metadata": {},
   "outputs": [],
   "source": [
    "example.objective = xsum(m[i][0] * lmbd_vars[i] for i in range(I))"
   ]
  },
  {
   "cell_type": "markdown",
   "metadata": {},
   "source": [
    "Save model to a `lp` file for manual examination (optional; un-comment to save)."
   ]
  },
  {
   "cell_type": "code",
   "execution_count": 20,
   "metadata": {},
   "outputs": [],
   "source": [
    "#example.write('example.lp')"
   ]
  },
  {
   "cell_type": "markdown",
   "metadata": {},
   "source": [
    "Optimize."
   ]
  },
  {
   "cell_type": "code",
   "execution_count": 117,
   "metadata": {},
   "outputs": [],
   "source": [
    "status = example.optimize()"
   ]
  },
  {
   "cell_type": "code",
   "execution_count": 118,
   "metadata": {},
   "outputs": [
    {
     "data": {
      "text/plain": [
       "<OptimizationStatus.OPTIMAL: 0>"
      ]
     },
     "execution_count": 118,
     "metadata": {},
     "output_type": "execute_result"
    }
   ],
   "source": [
    "status"
   ]
  },
  {
   "cell_type": "markdown",
   "metadata": {},
   "source": [
    "Print optimal objective function value, if a feasible solution was found, or an estimate for the objective function bound if no feasible solution was found."
   ]
  },
  {
   "cell_type": "code",
   "execution_count": 119,
   "metadata": {},
   "outputs": [
    {
     "name": "stdout",
     "output_type": "stream",
     "text": [
      "optimal objective function value:  2.0948990359828987\n"
     ]
    }
   ],
   "source": [
    "if status == OptimizationStatus.OPTIMAL:\n",
    "    print('optimal objective function value: ', example.objective_value)\n",
    "elif status == OptimizationStatus.NO_SOLUTION_FOUND:\n",
    "    print('objective function bound (estimate): ', example.objective_bound)\n",
    "else:\n",
    "    print('no solution found: ', status)"
   ]
  },
  {
   "cell_type": "markdown",
   "metadata": {},
   "source": [
    "Get the optimal $\\lambda$ and $y$ values. Store as separate lists and also print out."
   ]
  },
  {
   "cell_type": "code",
   "execution_count": 120,
   "metadata": {},
   "outputs": [
    {
     "name": "stdout",
     "output_type": "stream",
     "text": [
      "lmbd_0 : 0.33333333333333337\n",
      "lmbd_18 : 0.6666666666666666\n",
      "y_018 : 1.0\n"
     ]
    }
   ],
   "source": [
    "lmbd_opt = []\n",
    "y_opt = []\n",
    "\n",
    "for v in example.vars:\n",
    "    if 'lmbd' in v.name:\n",
    "        lmbd_opt += [v.x]\n",
    "    elif 'y' in v.name:\n",
    "        y_opt += [v.x]\n",
    "    if v.x > 1e-6:\n",
    "        print('{} : {}'.format(v.name, v.x))"
   ]
  },
  {
   "cell_type": "markdown",
   "metadata": {},
   "source": [
    "Calculate the optimal investment levels."
   ]
  },
  {
   "cell_type": "code",
   "execution_count": 121,
   "metadata": {},
   "outputs": [
    {
     "data": {
      "text/plain": [
       "{'Polysilicon': 3000000.0, 'Power Electronics': 0.0, 'Soft Costs': 0.0}"
      ]
     },
     "execution_count": 121,
     "metadata": {},
     "output_type": "execute_result"
    }
   ],
   "source": [
    "inv_levels_opt = {}\n",
    "\n",
    "for i in range(len(categories)):\n",
    "    inv_levels_opt[categories[i]] = sum([lmbd_opt[j] * [el[i] for el in inv_levels][j] \n",
    "                                         for j in range(len(lmbd_opt))])\n",
    "\n",
    "inv_levels_opt"
   ]
  },
  {
   "cell_type": "markdown",
   "metadata": {},
   "source": [
    "Calculate the optimal total investment."
   ]
  },
  {
   "cell_type": "code",
   "execution_count": 122,
   "metadata": {},
   "outputs": [
    {
     "data": {
      "text/plain": [
       "3000000.0"
      ]
     },
     "execution_count": 122,
     "metadata": {},
     "output_type": "execute_result"
    }
   ],
   "source": [
    "total_inv_levels_opt = sum(inv_levels_opt.values())\n",
    "total_inv_levels_opt"
   ]
  }
 ],
 "metadata": {
  "kernelspec": {
   "display_name": "Python 3",
   "language": "python",
   "name": "python3"
  },
  "language_info": {
   "codemirror_mode": {
    "name": "ipython",
    "version": 3
   },
   "file_extension": ".py",
   "mimetype": "text/x-python",
   "name": "python",
   "nbconvert_exporter": "python",
   "pygments_lexer": "ipython3",
   "version": "3.7.8"
  }
 },
 "nbformat": 4,
 "nbformat_minor": 4
}
