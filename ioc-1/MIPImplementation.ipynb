{
 "cells": [
  {
   "cell_type": "markdown",
   "metadata": {},
   "source": [
    "The goal of this notebook is to take the ad hoc implementation in `MIPExample1.ipynb` and vectorize the operations such that any size Tyche problem can be converted to a MIP and solved."
   ]
  },
  {
   "cell_type": "code",
   "execution_count": 2,
   "metadata": {},
   "outputs": [],
   "source": [
    "import os\n",
    "import sys\n",
    "sys.path.insert(0, os.path.abspath(\"../src\"))"
   ]
  },
  {
   "cell_type": "code",
   "execution_count": 3,
   "metadata": {},
   "outputs": [],
   "source": [
    "import numpy             as np\n",
    "import matplotlib.pyplot as pl\n",
    "import pandas            as pd\n",
    "import seaborn           as sb\n",
    "import tyche             as ty\n",
    "\n",
    "from copy            import deepcopy\n",
    "from IPython.display import Image "
   ]
  },
  {
   "cell_type": "code",
   "execution_count": 4,
   "metadata": {},
   "outputs": [],
   "source": [
    "import cProfile\n",
    "import timeit"
   ]
  },
  {
   "cell_type": "code",
   "execution_count": 5,
   "metadata": {},
   "outputs": [],
   "source": [
    "from mip import Model, MINIMIZE, MAXIMIZE, BINARY, xsum\n",
    "from itertools import product"
   ]
  },
  {
   "cell_type": "code",
   "execution_count": 6,
   "metadata": {},
   "outputs": [],
   "source": [
    "designs = ty.Designs(\"data\")\n",
    "investments = ty.Investments(\"data\")\n",
    "designs.compile()\n",
    "tranche_results = investments.evaluate_tranches(designs, sample_count=250)\n",
    "results = investments.tranches.join(tranche_results.summary)\n",
    "evaluator = ty.Evaluator(investments.tranches, tranche_results.summary)"
   ]
  },
  {
   "cell_type": "markdown",
   "metadata": {},
   "source": [
    "Get the wide-format interpolated elicitation data from the Tyche Evaluator and reset the multi-level index."
   ]
  },
  {
   "cell_type": "code",
   "execution_count": 7,
   "metadata": {},
   "outputs": [],
   "source": [
    "wide = evaluator.evaluate_corners_wide().reset_index()"
   ]
  },
  {
   "cell_type": "code",
   "execution_count": 8,
   "metadata": {},
   "outputs": [
    {
     "data": {
      "text/html": [
       "<div>\n",
       "<style scoped>\n",
       "    .dataframe tbody tr th:only-of-type {\n",
       "        vertical-align: middle;\n",
       "    }\n",
       "\n",
       "    .dataframe tbody tr th {\n",
       "        vertical-align: top;\n",
       "    }\n",
       "\n",
       "    .dataframe thead th {\n",
       "        text-align: right;\n",
       "    }\n",
       "</style>\n",
       "<table border=\"1\" class=\"dataframe\">\n",
       "  <thead>\n",
       "    <tr style=\"text-align: right;\">\n",
       "      <th>Index</th>\n",
       "      <th>CIGS</th>\n",
       "      <th>CdTe</th>\n",
       "      <th>GaAs</th>\n",
       "      <th>InGaP</th>\n",
       "      <th>Perovskite</th>\n",
       "      <th>Polysilicon</th>\n",
       "      <th>Power Electronics</th>\n",
       "      <th>Soft Costs</th>\n",
       "      <th>Capital</th>\n",
       "      <th>Efficiency</th>\n",
       "      <th>GHG</th>\n",
       "      <th>Hazardous</th>\n",
       "      <th>LCOE</th>\n",
       "      <th>Lifetime</th>\n",
       "      <th>Strategic</th>\n",
       "      <th>Yield</th>\n",
       "    </tr>\n",
       "  </thead>\n",
       "  <tbody>\n",
       "    <tr>\n",
       "      <th>0</th>\n",
       "      <td>0.0</td>\n",
       "      <td>0.0</td>\n",
       "      <td>0.0</td>\n",
       "      <td>0.0</td>\n",
       "      <td>0.0</td>\n",
       "      <td>0.0</td>\n",
       "      <td>0.0</td>\n",
       "      <td>0.0</td>\n",
       "      <td>-1.533367</td>\n",
       "      <td>2.068183</td>\n",
       "      <td>-0.003592</td>\n",
       "      <td>0.970873</td>\n",
       "      <td>-0.142394</td>\n",
       "      <td>188.038770</td>\n",
       "      <td>0.06331</td>\n",
       "      <td>10006.391847</td>\n",
       "    </tr>\n",
       "    <tr>\n",
       "      <th>1</th>\n",
       "      <td>0.0</td>\n",
       "      <td>0.0</td>\n",
       "      <td>0.0</td>\n",
       "      <td>0.0</td>\n",
       "      <td>0.0</td>\n",
       "      <td>0.0</td>\n",
       "      <td>0.0</td>\n",
       "      <td>1000000.0</td>\n",
       "      <td>-1.460104</td>\n",
       "      <td>2.066785</td>\n",
       "      <td>-0.003592</td>\n",
       "      <td>0.972178</td>\n",
       "      <td>-0.140102</td>\n",
       "      <td>188.038727</td>\n",
       "      <td>0.06331</td>\n",
       "      <td>10006.399569</td>\n",
       "    </tr>\n",
       "    <tr>\n",
       "      <th>2</th>\n",
       "      <td>0.0</td>\n",
       "      <td>0.0</td>\n",
       "      <td>0.0</td>\n",
       "      <td>0.0</td>\n",
       "      <td>0.0</td>\n",
       "      <td>0.0</td>\n",
       "      <td>0.0</td>\n",
       "      <td>5000000.0</td>\n",
       "      <td>-1.297255</td>\n",
       "      <td>2.066043</td>\n",
       "      <td>-0.003592</td>\n",
       "      <td>0.973011</td>\n",
       "      <td>-0.135007</td>\n",
       "      <td>188.038694</td>\n",
       "      <td>0.06331</td>\n",
       "      <td>10006.394123</td>\n",
       "    </tr>\n",
       "    <tr>\n",
       "      <th>3</th>\n",
       "      <td>0.0</td>\n",
       "      <td>0.0</td>\n",
       "      <td>0.0</td>\n",
       "      <td>0.0</td>\n",
       "      <td>0.0</td>\n",
       "      <td>0.0</td>\n",
       "      <td>1000000.0</td>\n",
       "      <td>0.0</td>\n",
       "      <td>-1.471028</td>\n",
       "      <td>2.066579</td>\n",
       "      <td>-0.003592</td>\n",
       "      <td>0.960608</td>\n",
       "      <td>-0.136723</td>\n",
       "      <td>188.038751</td>\n",
       "      <td>0.06331</td>\n",
       "      <td>10070.686287</td>\n",
       "    </tr>\n",
       "    <tr>\n",
       "      <th>4</th>\n",
       "      <td>0.0</td>\n",
       "      <td>0.0</td>\n",
       "      <td>0.0</td>\n",
       "      <td>0.0</td>\n",
       "      <td>0.0</td>\n",
       "      <td>0.0</td>\n",
       "      <td>1000000.0</td>\n",
       "      <td>1000000.0</td>\n",
       "      <td>-1.397766</td>\n",
       "      <td>2.065181</td>\n",
       "      <td>-0.003592</td>\n",
       "      <td>0.961913</td>\n",
       "      <td>-0.134431</td>\n",
       "      <td>188.038709</td>\n",
       "      <td>0.06331</td>\n",
       "      <td>10070.694009</td>\n",
       "    </tr>\n",
       "    <tr>\n",
       "      <th>5</th>\n",
       "      <td>0.0</td>\n",
       "      <td>0.0</td>\n",
       "      <td>0.0</td>\n",
       "      <td>0.0</td>\n",
       "      <td>0.0</td>\n",
       "      <td>0.0</td>\n",
       "      <td>1000000.0</td>\n",
       "      <td>5000000.0</td>\n",
       "      <td>-1.234917</td>\n",
       "      <td>2.064440</td>\n",
       "      <td>-0.003592</td>\n",
       "      <td>0.962746</td>\n",
       "      <td>-0.129336</td>\n",
       "      <td>188.038676</td>\n",
       "      <td>0.06331</td>\n",
       "      <td>10070.688563</td>\n",
       "    </tr>\n",
       "    <tr>\n",
       "      <th>6</th>\n",
       "      <td>0.0</td>\n",
       "      <td>0.0</td>\n",
       "      <td>0.0</td>\n",
       "      <td>0.0</td>\n",
       "      <td>0.0</td>\n",
       "      <td>0.0</td>\n",
       "      <td>5000000.0</td>\n",
       "      <td>0.0</td>\n",
       "      <td>-1.385462</td>\n",
       "      <td>2.067189</td>\n",
       "      <td>-0.003592</td>\n",
       "      <td>0.952804</td>\n",
       "      <td>-0.131992</td>\n",
       "      <td>188.038723</td>\n",
       "      <td>0.06331</td>\n",
       "      <td>10113.026230</td>\n",
       "    </tr>\n",
       "    <tr>\n",
       "      <th>7</th>\n",
       "      <td>0.0</td>\n",
       "      <td>0.0</td>\n",
       "      <td>0.0</td>\n",
       "      <td>0.0</td>\n",
       "      <td>0.0</td>\n",
       "      <td>0.0</td>\n",
       "      <td>5000000.0</td>\n",
       "      <td>1000000.0</td>\n",
       "      <td>-1.312200</td>\n",
       "      <td>2.065791</td>\n",
       "      <td>-0.003592</td>\n",
       "      <td>0.954109</td>\n",
       "      <td>-0.129699</td>\n",
       "      <td>188.038681</td>\n",
       "      <td>0.06331</td>\n",
       "      <td>10113.033952</td>\n",
       "    </tr>\n",
       "    <tr>\n",
       "      <th>8</th>\n",
       "      <td>0.0</td>\n",
       "      <td>0.0</td>\n",
       "      <td>0.0</td>\n",
       "      <td>0.0</td>\n",
       "      <td>0.0</td>\n",
       "      <td>0.0</td>\n",
       "      <td>5000000.0</td>\n",
       "      <td>5000000.0</td>\n",
       "      <td>-1.149351</td>\n",
       "      <td>2.065049</td>\n",
       "      <td>-0.003592</td>\n",
       "      <td>0.954942</td>\n",
       "      <td>-0.124605</td>\n",
       "      <td>188.038648</td>\n",
       "      <td>0.06331</td>\n",
       "      <td>10113.028506</td>\n",
       "    </tr>\n",
       "  </tbody>\n",
       "</table>\n",
       "</div>"
      ],
      "text/plain": [
       "Index  CIGS  CdTe  GaAs  InGaP  Perovskite  Polysilicon  Power Electronics  \\\n",
       "0       0.0   0.0   0.0    0.0         0.0          0.0                0.0   \n",
       "1       0.0   0.0   0.0    0.0         0.0          0.0                0.0   \n",
       "2       0.0   0.0   0.0    0.0         0.0          0.0                0.0   \n",
       "3       0.0   0.0   0.0    0.0         0.0          0.0          1000000.0   \n",
       "4       0.0   0.0   0.0    0.0         0.0          0.0          1000000.0   \n",
       "5       0.0   0.0   0.0    0.0         0.0          0.0          1000000.0   \n",
       "6       0.0   0.0   0.0    0.0         0.0          0.0          5000000.0   \n",
       "7       0.0   0.0   0.0    0.0         0.0          0.0          5000000.0   \n",
       "8       0.0   0.0   0.0    0.0         0.0          0.0          5000000.0   \n",
       "\n",
       "Index  Soft Costs   Capital  Efficiency       GHG  Hazardous      LCOE  \\\n",
       "0             0.0 -1.533367    2.068183 -0.003592   0.970873 -0.142394   \n",
       "1       1000000.0 -1.460104    2.066785 -0.003592   0.972178 -0.140102   \n",
       "2       5000000.0 -1.297255    2.066043 -0.003592   0.973011 -0.135007   \n",
       "3             0.0 -1.471028    2.066579 -0.003592   0.960608 -0.136723   \n",
       "4       1000000.0 -1.397766    2.065181 -0.003592   0.961913 -0.134431   \n",
       "5       5000000.0 -1.234917    2.064440 -0.003592   0.962746 -0.129336   \n",
       "6             0.0 -1.385462    2.067189 -0.003592   0.952804 -0.131992   \n",
       "7       1000000.0 -1.312200    2.065791 -0.003592   0.954109 -0.129699   \n",
       "8       5000000.0 -1.149351    2.065049 -0.003592   0.954942 -0.124605   \n",
       "\n",
       "Index    Lifetime  Strategic         Yield  \n",
       "0      188.038770    0.06331  10006.391847  \n",
       "1      188.038727    0.06331  10006.399569  \n",
       "2      188.038694    0.06331  10006.394123  \n",
       "3      188.038751    0.06331  10070.686287  \n",
       "4      188.038709    0.06331  10070.694009  \n",
       "5      188.038676    0.06331  10070.688563  \n",
       "6      188.038723    0.06331  10113.026230  \n",
       "7      188.038681    0.06331  10113.033952  \n",
       "8      188.038648    0.06331  10113.028506  "
      ]
     },
     "execution_count": 8,
     "metadata": {},
     "output_type": "execute_result"
    }
   ],
   "source": [
    "wide.head(9)"
   ]
  },
  {
   "cell_type": "markdown",
   "metadata": {},
   "source": [
    "**Input to MIP constructor needed**: List of investment categories\n",
    "\n",
    "**Input to MIP constructor needed**: List of metrics to optimize and/or constrain\n",
    "\n",
    "**Data check**: Confirm that all elements of both input lists match columns in the `evaluate_corners_wide()` data frame."
   ]
  },
  {
   "cell_type": "code",
   "execution_count": 9,
   "metadata": {},
   "outputs": [],
   "source": [
    "categories = ['Polysilicon', 'Power Electronics', 'Soft Costs']\n",
    "\n",
    "metrics = ['Capital']"
   ]
  },
  {
   "cell_type": "markdown",
   "metadata": {},
   "source": [
    "Pull out the investment values and metric values from the data set."
   ]
  },
  {
   "cell_type": "code",
   "execution_count": 10,
   "metadata": {},
   "outputs": [],
   "source": [
    "# Investment levels\n",
    "inv_levels = wide.loc[:26,categories].values.tolist()\n",
    "\n",
    "# Elicited metric values\n",
    "m = wide.loc[:26,metrics].values.tolist()\n",
    "\n",
    "# Number of endpoints\n",
    "I = len(inv_levels)"
   ]
  },
  {
   "cell_type": "markdown",
   "metadata": {},
   "source": [
    "Instantiate the MIP optimization problem."
   ]
  },
  {
   "cell_type": "code",
   "execution_count": 11,
   "metadata": {},
   "outputs": [],
   "source": [
    "example = Model(sense=MAXIMIZE)"
   ]
  },
  {
   "cell_type": "markdown",
   "metadata": {},
   "source": [
    "Create binary (integer) variables $y_{in_i}$."
   ]
  },
  {
   "cell_type": "code",
   "execution_count": 12,
   "metadata": {},
   "outputs": [],
   "source": [
    "bin_vars = []\n",
    "\n",
    "for i in range(I-1):\n",
    "    _name = 'y' + '_' + str(i)\n",
    "    bin_vars += [example.add_var(name=_name, var_type=BINARY)]\n",
    "    del _name"
   ]
  },
  {
   "cell_type": "markdown",
   "metadata": {},
   "source": [
    "Create continuous $\\lambda$ variables with lower bound 0.0 and upper bound 1.0"
   ]
  },
  {
   "cell_type": "code",
   "execution_count": 13,
   "metadata": {},
   "outputs": [],
   "source": [
    "lmbd_vars = []\n",
    "\n",
    "for i in range(I):\n",
    "    _name = 'lmbd' + '_' + str(i)\n",
    "    lmbd_vars += [example.add_var(name=_name, lb=0.0, ub=1.0)]\n",
    "    del _name"
   ]
  },
  {
   "cell_type": "markdown",
   "metadata": {},
   "source": [
    "Define upper bound for total budget constraint and per-category upper bounds."
   ]
  },
  {
   "cell_type": "code",
   "execution_count": 14,
   "metadata": {},
   "outputs": [],
   "source": [
    "B = 3000000.0\n",
    "max_amount = [1000000.0, 2000000.0, 1500000.0]"
   ]
  },
  {
   "cell_type": "markdown",
   "metadata": {},
   "source": [
    "Create total budget constraint as a function of the $\\lambda$ variables and the elicited investment levels from the data set."
   ]
  },
  {
   "cell_type": "code",
   "execution_count": 15,
   "metadata": {},
   "outputs": [],
   "source": [
    "example += xsum(lmbd_vars[i] * inv_levels[i][j] \n",
    "                for i in range(I)\n",
    "                for j in range(len(inv_levels[i]))) <= B, 'Total Budget'"
   ]
  },
  {
   "cell_type": "markdown",
   "metadata": {},
   "source": [
    "Create constraints for budget within each investment category."
   ]
  },
  {
   "cell_type": "code",
   "execution_count": 16,
   "metadata": {},
   "outputs": [],
   "source": [
    "for j in range(len(categories)):\n",
    "    example += xsum(lmbd_vars[i] * [el[j] for el in inv_levels][i] \n",
    "                    for i in range(I)) <= max_amount[j], 'Budget for ' + categories[j]"
   ]
  },
  {
   "cell_type": "markdown",
   "metadata": {},
   "source": [
    "Create three sets of constraints:\n",
    "* Convexity constraints on $\\lambda$ variables: the $\\lambda$s must sum to 1.\n",
    "* Constrain binary $y$ variables within each category such that the decision variables lie within exactly one interval (also a sum-to-1 constraint).\n",
    "* Interval constraints on $y$ variables and $\\lambda$ variables. There will be as many interval constraints per investment category as there are linear intervals."
   ]
  },
  {
   "cell_type": "code",
   "execution_count": 17,
   "metadata": {},
   "outputs": [],
   "source": [
    "example += sum(lmbd_vars) == 1, 'Lambda Sum'\n",
    "example += sum(bin_vars) == 1, 'Binary Sum'"
   ]
  },
  {
   "cell_type": "code",
   "execution_count": 18,
   "metadata": {},
   "outputs": [],
   "source": [
    "for i in range(I-1):\n",
    "    example += bin_vars[i] <= lmbd_vars[i] + lmbd_vars[i+1], 'Interval Constraint' + str(i)"
   ]
  },
  {
   "cell_type": "markdown",
   "metadata": {},
   "source": [
    "**In progress/Not implemented from this point onward**"
   ]
  },
  {
   "cell_type": "markdown",
   "metadata": {},
   "source": [
    "Create objective function: Capital (metric) as a function of $\\lambda$s and $y$s.\n",
    "\n",
    "Create a data frame of $\\lambda$ variables by mapping every element in `v` to its corresponding $\\lambda$, using column name (investment category) and investment level."
   ]
  },
  {
   "cell_type": "code",
   "execution_count": 19,
   "metadata": {},
   "outputs": [],
   "source": [
    "example.objective = xsum(m[i][0] * lmbd_vars[i] for i in range(I))"
   ]
  },
  {
   "cell_type": "markdown",
   "metadata": {},
   "source": [
    "Save model to a `lp` file for manual examination."
   ]
  },
  {
   "cell_type": "code",
   "execution_count": 20,
   "metadata": {},
   "outputs": [],
   "source": [
    "example.write('example.lp')"
   ]
  },
  {
   "cell_type": "markdown",
   "metadata": {},
   "source": [
    "Optimize."
   ]
  },
  {
   "cell_type": "code",
   "execution_count": 21,
   "metadata": {},
   "outputs": [
    {
     "data": {
      "text/plain": [
       "<OptimizationStatus.OPTIMAL: 0>"
      ]
     },
     "execution_count": 21,
     "metadata": {},
     "output_type": "execute_result"
    }
   ],
   "source": [
    "example.optimize()"
   ]
  },
  {
   "cell_type": "markdown",
   "metadata": {},
   "source": [
    "Print optimal objective function value, with a negative applied to reverse the -1.0 in the objective function definition (minimizing a negative -> maximize a positive)."
   ]
  },
  {
   "cell_type": "code",
   "execution_count": 22,
   "metadata": {},
   "outputs": [
    {
     "data": {
      "text/plain": [
       "-1.377409806638312"
      ]
     },
     "execution_count": 22,
     "metadata": {},
     "output_type": "execute_result"
    }
   ],
   "source": [
    "example.objective_value"
   ]
  },
  {
   "cell_type": "markdown",
   "metadata": {},
   "source": [
    "Get the optimal $\\lambda$ and $y$ values."
   ]
  },
  {
   "cell_type": "code",
   "execution_count": 27,
   "metadata": {},
   "outputs": [],
   "source": [
    "lmbd_opt = []\n",
    "y_opt = []\n",
    "\n",
    "for v in example.vars:\n",
    "    if 'lmbd' in v.name:\n",
    "        lmbd_opt += [v.x]\n",
    "    elif 'y' in v.name:\n",
    "        y_opt += [v.x]"
   ]
  },
  {
   "cell_type": "markdown",
   "metadata": {},
   "source": [
    "**Optional** Print the optimal variable values."
   ]
  },
  {
   "cell_type": "code",
   "execution_count": null,
   "metadata": {},
   "outputs": [],
   "source": [
    "print('{} : {}'.format(v.name, v.x))"
   ]
  },
  {
   "cell_type": "markdown",
   "metadata": {},
   "source": [
    "Calculate the optimal investment levels."
   ]
  },
  {
   "cell_type": "code",
   "execution_count": 26,
   "metadata": {},
   "outputs": [
    {
     "name": "stdout",
     "output_type": "stream",
     "text": [
      "Polysilicon 2.96002454887102e-10\n",
      "Power Electronics 1000000.0000000003\n",
      "Soft Costs 1500000.0000000002\n"
     ]
    }
   ],
   "source": [
    "for i in range(len(categories)):\n",
    "    print(categories[i], \n",
    "          sum([lmbd_opt[j] * [el[i] for el in inv_levels][j] for j in range(len(lmbd_opt))]))"
   ]
  }
 ],
 "metadata": {
  "kernelspec": {
   "display_name": "Python 3",
   "language": "python",
   "name": "python3"
  },
  "language_info": {
   "codemirror_mode": {
    "name": "ipython",
    "version": 3
   },
   "file_extension": ".py",
   "mimetype": "text/x-python",
   "name": "python",
   "nbconvert_exporter": "python",
   "pygments_lexer": "ipython3",
   "version": "3.7.8"
  }
 },
 "nbformat": 4,
 "nbformat_minor": 4
}
