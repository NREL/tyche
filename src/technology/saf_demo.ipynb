{
 "cells": [
  {
   "cell_type": "markdown",
   "metadata": {},
   "source": [
    "# Sustainable Aviation Fuel Case Study"
   ]
  },
  {
   "cell_type": "markdown",
   "metadata": {},
   "source": [
    "This case study examines five pathways for sustainable aviation fuel production from a hydroprocessed esters and fatty acids (HEFA) biorefinery. The five pathways use different feedstocks:\n",
    "\n",
    "* HEFA Camelina\n",
    "* HEFA Castor\n",
    "* HEFA Jatropha\n",
    "* HEFA Pennycress\n",
    "* HEFA Yellow Grease\n",
    "\n",
    "and produce different quantities of jet blendstock along with gasoline, diesel, and propane co-products.\n",
    "\n",
    "We examine how these biorefinery technologies might respond to investment in co-product revenue (CPR), overall process efficiency (OPE), and fatty acid composition (FAC). All technologies are modeled under a default scenario that includes no additional investment, called *State of Technology*. Then there are three levels of investments possible in each research category, resulting in the *Incremental Progress*, *Moderate Progress*, and *Leap Forward* investment scenarios."
   ]
  },
  {
   "cell_type": "markdown",
   "metadata": {
    "slideshow": {
     "slide_type": "slide"
    }
   },
   "source": [
    "### Dimensions and indices.\n",
    "\n",
    "1.  Types of capital costs. \n",
    "    * For this study all capital costs are treated as one lump sum.\n",
    "2.  Types of fixed cost. \n",
    "    * For this study all fixed (non-input-related) costs are treated as one lump sum.\n",
    "3.  Inputs to the process. \n",
    "    * Feedstock *(feedstock type varies by technology)*\n",
    "    * Raw Material *(includes all chemical, material, and energy inputs other than feedstock)*\n",
    "4.  Outputs from the process. Not all technologies produce all outputs.\n",
    "    * Jet (SAF)\n",
    "    * Gasoline\n",
    "    * Diesel\n",
    "    * Propane\n",
    "5.  Metrics. \n",
    "    * Jet GHG (kg CO2eq/gal)\n",
    "    * Minimum jet selling price (MJSP)\n",
    "6.  Parameters. \n",
    "    * Annual GHG (kg CO2eq)\n",
    "    * Jet LHV (MJ/gal)\n",
    "    * Discount Rate (unitless)\n",
    "    * Depreciation Period (years)\n",
    "    * Income Tax Rate (unitless)\n",
    "    * All Capital (USD)\n",
    "    * All Fixed (USD/year)\n",
    "    * Diesel (gal/year)\n",
    "    * Gasoline (gal/year)\n",
    "    * Propane (gal/year)\n",
    "    * Jet (gal/year)\n",
    "    * Diesel Price (USD/gal)\n",
    "    * Gasoline Price (USD/gal)\n",
    "    * Propane Price (USD/gal)\n",
    "    * Feedstock Price (USD/dry metric ton biomass or USD/dry ton oil)\n",
    "    * Raw Material Price (USD/kg)"
   ]
  },
  {
   "cell_type": "markdown",
   "metadata": {},
   "source": [
    "## Implement the technology model.\n",
    "\n",
    "The implementation of a technology model consists of a capital cost function, a fixed cost function, a production function, and a metrics function.\n",
    "\n",
    "See the [model](https://tyche.live/doc-src/formulation.html) documentation for more details.\n",
    "\n",
    "The [src/technology/](../src/technology/) folder has examples of several technology models."
   ]
  },
  {
   "cell_type": "markdown",
   "metadata": {
    "slideshow": {
     "slide_type": "slide"
    }
   },
   "source": [
    "### Capital cost function.\n",
    "\n",
    "The capital cost function takes the scale of the operations and the array of technology parameters as arguments and it returns the capital costs for the technology.\n",
    "\n",
    "Implement the capital cost function for your technology in the file [tutorial/my_technology.py](./)."
   ]
  },
  {
   "cell_type": "code",
   "execution_count": null,
   "metadata": {
    "slideshow": {
     "slide_type": "subslide"
    }
   },
   "outputs": [],
   "source": [
    "def capital_cost(scale, parameter):\n",
    "    \"\"\"\n",
    "    Capital cost function.\n",
    "\n",
    "    Parameters\n",
    "    ----------\n",
    "    scale : float\n",
    "      The scale of operation.\n",
    "    parameter : array\n",
    "      The technological parameterization.\n",
    "    \"\"\"\n",
    "    _cap = parameter[5]\n",
    "\n",
    "    # Stack the costs for each category into a single array that we return.\n",
    "    return np.stack([_cap\n",
    "    ])"
   ]
  },
  {
   "cell_type": "markdown",
   "metadata": {
    "slideshow": {
     "slide_type": "slide"
    }
   },
   "source": [
    "### Fixed cost function.\n",
    "\n",
    "The fixed cost function takes the scale of the operations and the array of technology parameters as arguments and it returns the fixed costs for the technology.\n",
    "\n",
    "Implement the fixed cost function for your technology in the file [tutorial/my_technology.py](./)."
   ]
  },
  {
   "cell_type": "code",
   "execution_count": null,
   "metadata": {
    "slideshow": {
     "slide_type": "subslide"
    }
   },
   "outputs": [],
   "source": [
    "def fixed_cost(scale, parameter):\n",
    "  \"\"\"\n",
    "  Fixed cost function.\n",
    "\n",
    "  Parameters\n",
    "  ----------\n",
    "  scale : float\n",
    "    The scale of operation.\n",
    "  parameter : array\n",
    "    The technological parameterization.\n",
    "  \"\"\"\n",
    "  _fix = parameter[6]\n",
    "\n",
    "  # Stack the costs for each category into a single array that we return.\n",
    "  return np.stack([_fix\n",
    "  ])"
   ]
  },
  {
   "cell_type": "markdown",
   "metadata": {
    "slideshow": {
     "slide_type": "slide"
    }
   },
   "source": [
    "### Production function.\n",
    "\n",
    "The production function takes the scale of the operations, the capital costs, the lifetime, the fixed costs, and the array of technology parameters as arguments and it returns the production (outputs) for the technology.\n",
    "\n",
    "Implement the production function for your technology in the file [tutorial/my_technology.py](./)."
   ]
  },
  {
   "cell_type": "code",
   "execution_count": null,
   "metadata": {
    "slideshow": {
     "slide_type": "subslide"
    }
   },
   "outputs": [],
   "source": [
    "def production(scale, capital, lifetime, fixed, input, parameter):\n",
    "  \"\"\"\n",
    "  Production function.\n",
    "\n",
    "  Parameters\n",
    "  ----------\n",
    "  scale : float\n",
    "    The scale of operation.\n",
    "  capital : array\n",
    "    Capital costs.\n",
    "  lifetime : float\n",
    "    Technology lifetime.\n",
    "  fixed : array\n",
    "    Fixed costs.\n",
    "  input : array\n",
    "    Input quantities.\n",
    "  parameter : array\n",
    "    The technological parameterization.\n",
    "  \"\"\"\n",
    "\n",
    "  _out = parameter[12]\n",
    "\n",
    "  # Stack the output for each category into a single array that we return.\n",
    "  return np.stack([_out\n",
    "  ])"
   ]
  },
  {
   "cell_type": "markdown",
   "metadata": {
    "slideshow": {
     "slide_type": "slide"
    }
   },
   "source": [
    "### Metric function.\n",
    "\n",
    "The metric function takes information on costs, inputs, outputs, and parameters and it returns the metrics for the technology.\n",
    "\n",
    "Implement the metrics function for your technology in the file [tutorial/my_technology.py](./)."
   ]
  },
  {
   "cell_type": "code",
   "execution_count": null,
   "metadata": {
    "slideshow": {
     "slide_type": "subslide"
    }
   },
   "outputs": [],
   "source": [
    "def metrics(scale, capital, lifetime, fixed, input_raw, input, output_raw, output, cost, parameter):\n",
    "  \"\"\"\n",
    "  Metrics function.\n",
    "\n",
    "  Parameters\n",
    "  ----------\n",
    "  scale : float\n",
    "    The scale of operation.\n",
    "  capital : array\n",
    "    Capital costs.\n",
    "  lifetime : float\n",
    "    Technology lifetime.\n",
    "  fixed : array\n",
    "    Fixed costs.\n",
    "  input_raw : array\n",
    "    Raw input quantities (before losses).\n",
    "  input : array\n",
    "    Input quantities.\n",
    "  output_raw : array\n",
    "    Raw output quantities (before losses).\n",
    "  output : array\n",
    "    Output quantities.\n",
    "  cost : array\n",
    "    Costs.\n",
    "  parameter : array\n",
    "    The technological parameterization.\n",
    "  \"\"\"\n",
    "\n",
    "  # annual fossil GHG emissions, Units: kg CO2-eq/year\n",
    "  ghg_foss_ann = parameter[0]\n",
    "\n",
    "  # jet fuel LHV (MJ/gal)\n",
    "  lhv = parameter[1]\n",
    "\n",
    "  # Discount rate, Unitless\n",
    "  dr = parameter[2]\n",
    "  # Depreciation period for all equipment except utilities, Units: years\n",
    "  dp = parameter[3]\n",
    "  # Income tax rate, Units: years\n",
    "  tr = parameter[4]\n",
    "  # total capital cost, Units: USD\n",
    "  cap = parameter[5]\n",
    "  # Annual fixed (non-input) costs, Units: USD/year\n",
    "  fix = parameter[6]\n",
    "\n",
    "  # co-product amounts\n",
    "  ddgs = parameter[7]\n",
    "  elec = parameter[8]\n",
    "  dsl = parameter[9]\n",
    "  gas = parameter[10]\n",
    "  ppn = parameter[11]\n",
    "  jet = parameter[12]\n",
    "\n",
    "  # co-product prices\n",
    "  ddgs_p = parameter[13]\n",
    "  elec_p = parameter[14]\n",
    "  dsl_p = parameter[15]\n",
    "  gas_p = parameter[16]\n",
    "  ppn_p = parameter[17]\n",
    "\n",
    "  # input prices\n",
    "  fd_p = parameter[18]\n",
    "  mat_p = parameter[19]\n",
    "\n",
    "  # input amounts\n",
    "  fd = input_raw[0]\n",
    "  mat = input_raw[1]\n",
    "\n",
    "  # equipment lifetime\n",
    "  els = lifetime[0]\n",
    "\n",
    "  mjsp_bench = parameter[20]\n",
    "  ghg_bench = parameter[21]\n",
    "\n",
    "  # FOSSIL GHG: kg CO2-eq/gal SAF\n",
    "  ghg_foss = ghg_foss_ann / (jet * lhv)\n",
    "\n",
    "  # MINIMUM FUEL SELLING PRICE: USD/gal SAF\n",
    "\n",
    "  # total project investment, Units: USD\n",
    "  tpi = cap\n",
    "\n",
    "  # depreciation costs, units: USD/year\n",
    "  dc = cap / dp\n",
    "\n",
    "  # operating costs, units: USD/year\n",
    "  oc = fd * fd_p + mat * mat_p + fix\n",
    "\n",
    "  # tpi discount factor, Units: unitless\n",
    "  df_tpi = (dr * (1 + dr) ** els) / ((1 + dr) ** els - 1)\n",
    "\n",
    "  # total revenue from SAF sales, Units: USD/year\n",
    "  br = ((1 - tr) * oc - tr * dc + df_tpi * tpi) / (1 - tr)\n",
    "\n",
    "  # revenue from co-product sales, Units: USD/year\n",
    "  cr = ddgs * ddgs_p + elec * elec_p + dsl * dsl_p + gas * gas_p + ppn * ppn_p\n",
    "\n",
    "  # MJSP, Units: USD/gal SAF\n",
    "  mjsp = (br + cr) / output[0]\n",
    "\n",
    "  # Package results.\n",
    "  return np.stack([ghg_bench - ghg_foss,\n",
    "                   mjsp_bench - mjsp\n",
    "  ])"
   ]
  },
  {
   "cell_type": "markdown",
   "metadata": {
    "slideshow": {
     "slide_type": "slide"
    }
   },
   "source": [
    "## Simulate the base case or reference scenario.\n",
    "\n",
    "Load the data. Compile the production and metric functions for each technology in the dataset. Compute an ensemble of 1000 simulations for the State of Technology (no investment) case."
   ]
  },
  {
   "cell_type": "code",
   "execution_count": null,
   "metadata": {},
   "outputs": [],
   "source": [
    "import os\n",
    "import sys\n",
    "\n",
    "sys.path.insert(1, os.path.abspath(\"../../src\"))\n",
    "\n",
    "import numpy             as np\n",
    "import matplotlib.pyplot as pl\n",
    "import pandas            as pd\n",
    "import seaborn           as sb\n",
    "import tyche             as ty\n",
    "\n",
    "saf_loc = \"../../tutorial/data/saf\"\n",
    "\n",
    "designs = ty.Designs(saf_loc)\n",
    "designs.compile()"
   ]
  },
  {
   "cell_type": "code",
   "execution_count": null,
   "metadata": {},
   "outputs": [],
   "source": [
    "designs.evaluate_scenarios(sample_count=1)"
   ]
  },
  {
   "cell_type": "code",
   "execution_count": null,
   "metadata": {
    "slideshow": {
     "slide_type": "skip"
    }
   },
   "outputs": [],
   "source": [
    "saf_sot = designs.evaluate_scenarios(\n",
    "    sample_count=1\n",
    ").xs(\n",
    "    \"State of Technology\",\n",
    "    level = \"Scenario\",\n",
    "    drop_level = False\n",
    ")\n",
    "saf_sot"
   ]
  },
  {
   "cell_type": "markdown",
   "metadata": {},
   "source": [
    "## Simulate effects of R&D."
   ]
  },
  {
   "cell_type": "markdown",
   "metadata": {},
   "source": [
    "### Simulating implications of expert elicitation."
   ]
  },
  {
   "cell_type": "code",
   "execution_count": null,
   "metadata": {},
   "outputs": [],
   "source": [
    "saf_experts = designs.evaluate_scenarios(sample_count=1000)\n",
    "saf_experts"
   ]
  },
  {
   "cell_type": "code",
   "execution_count": null,
   "metadata": {},
   "outputs": [],
   "source": [
    "saf_experts.xs(\n",
    "    (\"Metric\", \"Reduction in MJSP\"),\n",
    "    level=(\"Variable\",\"Index\")\n",
    ").reset_index(\n",
    ").replace(\n",
    "    \"State of Technology\",\n",
    "    \"State of\\nTechnology\"\n",
    ").replace(\n",
    "    \"Incremental Progress\",\n",
    "    \"Incremental\\nProgress\"\n",
    ").replace(\n",
    "    \"Moderate Progress\",\n",
    "    \"Moderate\\nProgress\"\n",
    ").replace(\n",
    "    \"Leap Forward\",\n",
    "    \"Leap\\nForward\"\n",
    ")\n",
    "\n",
    "#.replace(\n",
    "#    to_replace=[\"State of Technology\",\"Incremental Progress\",\"Moderate Progress\",\"Leap Forward\"],\n",
    "#    value=[\"State of\\nTechnology\",\"Incremental\\nProgress\",\"Moderate\\nProgress\",\"Leap\\nForward\"],\n",
    "#    inplace=True\n",
    "#)\n",
    "\n"
   ]
  },
  {
   "cell_type": "code",
   "execution_count": null,
   "metadata": {
    "scrolled": false
   },
   "outputs": [],
   "source": [
    "sb.catplot(\n",
    "    x = \"Scenario\",\n",
    "    y = \"Value\",\n",
    "    col =\"Technology\",\n",
    "    order = [\"Incremental\\nProgress\",\n",
    "             \"Moderate\\nProgress\",\n",
    "             \"Leap\\nForward\"],\n",
    "    data = saf_experts.xs(\n",
    "        (\"Metric\", \"Reduction in MJSP\"),\n",
    "        level=(\"Variable\",\"Index\")\n",
    "    ).reset_index(\n",
    "    ).replace(\n",
    "        \"State of Technology\",\n",
    "        \"State of\\nTechnology\"\n",
    "    ).replace(\n",
    "        \"Incremental Progress\",\n",
    "        \"Incremental\\nProgress\"\n",
    "    ).replace(\n",
    "        \"Moderate Progress\",\n",
    "        \"Moderate\\nProgress\"\n",
    "    ).replace(\n",
    "        \"Leap Forward\",\n",
    "        \"Leap\\nForward\"\n",
    "    ),\n",
    "    kind=\"violin\",\n",
    "    split=True\n",
    ").set(\n",
    "    xlabel = None,\n",
    "    title = None\n",
    ").set_xticklabels(\n",
    "    rotation=20,\n",
    "    size=20\n",
    ").set_ylabels(\n",
    "    \"MJSP Reduction\\n(USD/gal)\",\n",
    "    size=20\n",
    ");\n",
    "pl.tight_layout()\n",
    "pl.savefig('mjsp-sot-violin-alltechs.png')"
   ]
  },
  {
   "cell_type": "code",
   "execution_count": null,
   "metadata": {},
   "outputs": [],
   "source": [
    "sb.catplot(\n",
    "    x = \"Scenario\",\n",
    "    y = \"Value\",\n",
    "    col =\"Technology\",\n",
    "    order = [\"Incremental\\nProgress\",\n",
    "             \"Moderate\\nProgress\",\n",
    "             \"Leap\\nForward\"],\n",
    "    data = saf_experts.xs(\n",
    "        (\"Metric\", \"Reduction in Jet GHG\"),\n",
    "        level=(\"Variable\",\"Index\")\n",
    "    ).reset_index(\n",
    "    ).replace(\n",
    "        \"State of Technology\",\n",
    "        \"State of\\nTechnology\"\n",
    "    ).replace(\n",
    "        \"Incremental Progress\",\n",
    "        \"Incremental\\nProgress\"\n",
    "    ).replace(\n",
    "        \"Moderate Progress\",\n",
    "        \"Moderate\\nProgress\"\n",
    "    ).replace(\n",
    "        \"Leap Forward\",\n",
    "        \"Leap\\nForward\"\n",
    "    ),\n",
    "    kind=\"violin\",\n",
    "    split=True\n",
    ").set(\n",
    "    xlabel = None,\n",
    "    title = None\n",
    ").set_xticklabels(\n",
    "    rotation=20,\n",
    "    size=20\n",
    ").set_ylabels(\n",
    "    \"GHG Reduction\\n(gCO2eq/gal)\",\n",
    "    size=20\n",
    ");\n",
    "pl.tight_layout()\n",
    "pl.savefig('ghg-sot-violin-alltechs.png')"
   ]
  },
  {
   "cell_type": "markdown",
   "metadata": {},
   "source": [
    "## Analyzing investments."
   ]
  },
  {
   "cell_type": "code",
   "execution_count": null,
   "metadata": {},
   "outputs": [],
   "source": [
    "saf_designs = ty.Designs(saf_loc)\n",
    "saf_investments = ty.Investments(saf_loc)\n",
    "saf_designs.compile()\n",
    "tranche_results = saf_investments.evaluate_tranches(saf_designs,\n",
    "                                                    sample_count=1000)"
   ]
  },
  {
   "cell_type": "markdown",
   "metadata": {},
   "source": [
    "Filter down to one technology, since the dataset has seven and the functions aren't written to handle more than one at a time. Then step through and optimize each technology individually for MJSP."
   ]
  },
  {
   "cell_type": "code",
   "execution_count": null,
   "metadata": {},
   "outputs": [],
   "source": [
    "opt_results = []\n",
    "\n",
    "techs = tranche_results.summary.index.get_level_values('Technology').unique()\n",
    "\n",
    "for i in techs:\n",
    "    tranche_tech_results = tranche_results.summary[\n",
    "        tranche_results.summary.index.get_level_values('Technology') == i\n",
    "    ]\n",
    "    evaluator = ty.Evaluator(\n",
    "        saf_investments.tranches, tranche_tech_results\n",
    "    )\n",
    "    optimizer = ty.EpsilonConstraintOptimizer(\n",
    "        evaluator,\n",
    "        sense = 'min',\n",
    "    )\n",
    "    metric_max = optimizer.max_metrics()\n",
    "    w = optimizer.opt_slsqp(\n",
    "        \"MJSP\",\n",
    "        total_amount = 5000000\n",
    "    )\n",
    "    print(f\"{i} - {w[1]}\")\n",
    "    opt_dict = {\n",
    "        'Technology': i,\n",
    "        'Optimizer status': w[1],\n",
    "        'Investment amounts': w[2],\n",
    "        'Optimum metrics': w[3],\n",
    "        'Optimization sense' : w[5]\n",
    "    }\n",
    "    opt_results.append(\n",
    "        opt_dict\n",
    "    )\n",
    "    del tranche_tech_results, evaluator, optimizer, metric_max, w\n",
    "opt_results"
   ]
  },
  {
   "cell_type": "markdown",
   "metadata": {},
   "source": [
    "#### Find the largest reduction in MJSP if only 5M USD can be spent and only 2M USD can be spent in each category."
   ]
  },
  {
   "cell_type": "code",
   "execution_count": null,
   "metadata": {},
   "outputs": [],
   "source": [
    "opt_results = []\n",
    "\n",
    "techs = tranche_results.summary.index.get_level_values('Technology').unique()\n",
    "\n",
    "for i in techs:\n",
    "    tranche_tech_results = tranche_results.summary[\n",
    "        tranche_results.summary.index.get_level_values('Technology') == i\n",
    "    ]\n",
    "    evaluator = ty.Evaluator(\n",
    "        saf_investments.tranches, tranche_tech_results\n",
    "    )\n",
    "    optimizer = ty.EpsilonConstraintOptimizer(\n",
    "        evaluator\n",
    "    )\n",
    "    metric_max = optimizer.max_metrics()\n",
    "    w = optimizer.maximize_slsqp(\n",
    "        \"Reduction in MJSP\",\n",
    "        total_amount = 5000000,\n",
    "        max_amount = pd.Series(\n",
    "            [2000000, 2000000, 2000000],\n",
    "            index=[\"OPE Investment Only\", \"CPR Investment Only\", \"FAC Investment Only\"]\n",
    "        )\n",
    "    )\n",
    "    print(f\"{i} - {w[1]}\")\n",
    "    opt_dict = {\n",
    "        'Technology': i,\n",
    "        'Optimizer status': w[1],\n",
    "        'Investment amounts': w[2],\n",
    "        'Optimum metrics': w[3],\n",
    "        'Maximum metrics': metric_max\n",
    "    }\n",
    "    opt_results.append(\n",
    "        opt_dict\n",
    "    )\n",
    "opt_results"
   ]
  },
  {
   "cell_type": "code",
   "execution_count": null,
   "metadata": {},
   "outputs": [],
   "source": [
    "opt_results = []\n",
    "\n",
    "i = 'HEFA Camelina'\n",
    "\n",
    "tranche_tech_results = tranche_results.summary[\n",
    "    tranche_results.summary.index.get_level_values('Technology') == i\n",
    "]\n",
    "evaluator = ty.Evaluator(\n",
    "    saf_investments.tranches, tranche_tech_results\n",
    ")\n",
    "optimizer = ty.EpsilonConstraintOptimizer(\n",
    "    evaluator\n",
    ")\n",
    "metric_max = optimizer.max_metrics()\n",
    "\n",
    "w = optimizer.maximize_slsqp(\n",
    "    \"Reduction in Jet GHG\",\n",
    "    total_amount = 5000000,\n",
    "    max_amount = pd.Series(\n",
    "        [2000000, 2000000, 2000000],\n",
    "        index=[\"OPE Investment Only\",\n",
    "               \"CPR Investment Only\",\n",
    "               \"FAC Investment Only\"]\n",
    "    )\n",
    ")\n",
    "print(f\"{i} - {w[1]}\")\n",
    "opt_dict = {\n",
    "    'Technology': i,\n",
    "    'Optimizer status': w[1],\n",
    "    'Investment amounts': w[2],\n",
    "    'Optimum metrics': w[3],\n",
    "    'Maximum metrics': metric_max\n",
    "}\n",
    "\n",
    "opt_dict"
   ]
  },
  {
   "cell_type": "markdown",
   "metadata": {},
   "source": [
    "Use the epsilon constraint method to explore the trade-off between reducing MJSP and reducing jet GHG for the HEFA castor technology. For this demonstration, the \\\\$2M cap on funding for each research area is removed, leaving only the \\\\$5M total funding cap."
   ]
  },
  {
   "cell_type": "code",
   "execution_count": null,
   "metadata": {},
   "outputs": [],
   "source": [
    "opt_results = []\n",
    "\n",
    "i = 'HEFA Castor'\n",
    "\n",
    "tranche_tech_results = tranche_results.summary[\n",
    "    tranche_results.summary.index.get_level_values('Technology') == i\n",
    "]\n",
    "evaluator = ty.Evaluator(\n",
    "    saf_investments.tranches, tranche_tech_results\n",
    ")\n",
    "optimizer = ty.EpsilonConstraintOptimizer(\n",
    "    evaluator\n",
    ")\n",
    "metric_max = optimizer.max_metrics()\n",
    "\n",
    "ghg = optimizer.maximize_slsqp(\n",
    "    \"Reduction in Jet GHG\",\n",
    "    total_amount = 5000000\n",
    ")\n",
    "print(f\"{ghg[1]}\")\n",
    "opt_results = [\n",
    "    {\n",
    "        'Optimum metrics': ghg[3]\n",
    "    }\n",
    "]\n",
    "mjsp = optimizer.maximize_slsqp(\n",
    "    \"Reduction in MJSP\",\n",
    "    total_amount = 5000000\n",
    ")\n",
    "print(f\"{mjsp[1]}\")\n",
    "opt_results.append([\n",
    "    {\n",
    "        'Optimum metrics': mjsp[3]\n",
    "    }\n",
    "])\n",
    "\n",
    "opt_results"
   ]
  },
  {
   "cell_type": "code",
   "execution_count": null,
   "metadata": {},
   "outputs": [],
   "source": [
    "optimizer._max_metrics"
   ]
  },
  {
   "cell_type": "code",
   "execution_count": null,
   "metadata": {},
   "outputs": [],
   "source": [
    "w_ghg = ty.Waterfall(\n",
    "    amounts = ghg.amounts,\n",
    "    evaluator = evaluator,\n",
    "    data = saf_loc,\n",
    "    metric = 'Reduction in Jet GHG',\n",
    ")\n",
    "w_ghg.cascade_permutations()\n",
    "\n",
    "w_mjsp = ty.Waterfall(\n",
    "    amounts = mjsp.amounts,\n",
    "    evaluator = evaluator,\n",
    "    data = saf_loc,\n",
    "    metric = 'Reduction in MJSP',\n",
    ")\n",
    "w_mjsp.cascade_permutations()"
   ]
  },
  {
   "cell_type": "code",
   "execution_count": null,
   "metadata": {},
   "outputs": [],
   "source": [
    "def pct_diff(bench, reduction):\n",
    "    return 100.0 * (bench - reduction) / bench\n",
    "\n",
    "def find_const(bench, pct_diff):\n",
    "    return bench * (1 - pct_diff/100.0)"
   ]
  },
  {
   "cell_type": "code",
   "execution_count": null,
   "metadata": {},
   "outputs": [],
   "source": [
    "mjsp_bench = 10.32857\n",
    "ghg_bench = 0.053\n",
    "\n",
    "maxmjsp_mjsp = pct_diff(mjsp_bench, mjsp[3]['Reduction in MJSP'])\n",
    "maxmjsp_ghg = pct_diff(ghg_bench, mjsp[3]['Reduction in Jet GHG'])\n",
    "maxghg_mjsp = pct_diff(mjsp_bench, ghg[3]['Reduction in MJSP'])\n",
    "maxghg_ghg = pct_diff(ghg_bench, ghg[3]['Reduction in Jet GHG'])"
   ]
  },
  {
   "cell_type": "code",
   "execution_count": null,
   "metadata": {},
   "outputs": [],
   "source": [
    "maxmjsp_ghg"
   ]
  },
  {
   "cell_type": "code",
   "execution_count": null,
   "metadata": {},
   "outputs": [],
   "source": [
    "maxmjsp_mjsp"
   ]
  },
  {
   "cell_type": "code",
   "execution_count": null,
   "metadata": {},
   "outputs": [],
   "source": [
    "maxghg_mjsp"
   ]
  },
  {
   "cell_type": "code",
   "execution_count": null,
   "metadata": {},
   "outputs": [],
   "source": [
    "maxghg_ghg"
   ]
  },
  {
   "cell_type": "code",
   "execution_count": null,
   "metadata": {},
   "outputs": [],
   "source": [
    "eps_results = []\n",
    "\n",
    "i = 'HEFA Castor'\n",
    "\n",
    "tranche_tech_results = tranche_results.summary[\n",
    "    tranche_results.summary.index.get_level_values('Technology') == i\n",
    "]\n",
    "evaluator = ty.Evaluator(\n",
    "    saf_investments.tranches, tranche_tech_results\n",
    ")\n",
    "optimizer = ty.EpsilonConstraintOptimizer(\n",
    "    evaluator\n",
    ")\n",
    "\n",
    "for j in np.arange(100, 320, 20):\n",
    "\n",
    "    w = optimizer.maximize_slsqp(\n",
    "        \"Reduction in MJSP\",\n",
    "        total_amount = 5000000,\n",
    "        min_metric   = pd.Series(\n",
    "            [find_const(ghg_bench, j)],\n",
    "            name=\"Value\",\n",
    "            index = [\"Reduction in Jet GHG\"]\n",
    "        ),\n",
    "    )\n",
    "    print(f\"{j}, {find_const(ghg_bench, j)}: {w[1]}\")\n",
    "    \n",
    "    if w[1] == 'Optimization terminated successfully':\n",
    "        eps_results.append({\n",
    "            'GHG Percentage of Bench': j,\n",
    "            'MJSP Percentage of Bench': pct_diff(mjsp_bench, w[3][3]),\n",
    "            'Jet GHG Reduction': find_const(ghg_bench, j),\n",
    "            'Optimum MJSP Reduction': w[3][3]\n",
    "        })\n",
    "\n",
    "eps_results"
   ]
  }
 ],
 "metadata": {
  "@webio": {
   "lastCommId": null,
   "lastKernelId": null
  },
  "kernelspec": {
   "display_name": "Python 3",
   "language": "python",
   "name": "python3"
  },
  "language_info": {
   "codemirror_mode": {
    "name": "ipython",
    "version": 3
   },
   "file_extension": ".py",
   "mimetype": "text/x-python",
   "name": "python",
   "nbconvert_exporter": "python",
   "pygments_lexer": "ipython3",
   "version": "3.7.3-final"
  }
 },
 "nbformat": 4,
 "nbformat_minor": 2
}