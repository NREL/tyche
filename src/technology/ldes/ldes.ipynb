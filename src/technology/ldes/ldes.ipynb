{
 "cells": [
  {
   "cell_type": "markdown",
   "metadata": {},
   "source": [
    "# Tyche Example for LDES"
   ]
  },
  {
   "cell_type": "markdown",
   "metadata": {},
   "source": [
    "## Set up."
   ]
  },
  {
   "cell_type": "markdown",
   "metadata": {},
   "source": [
    "### One only needs to execute the following line once, in order to make sure recent enough packages are installed."
   ]
  },
  {
   "cell_type": "markdown",
   "metadata": {},
   "source": [
    "### Import packages."
   ]
  },
  {
   "cell_type": "code",
   "execution_count": 5,
   "metadata": {},
   "outputs": [],
   "source": [
    "import os\n",
    "import sys\n",
    "sys.path.insert(0, os.path.abspath(\"../../../src\"))"
   ]
  },
  {
   "cell_type": "code",
   "execution_count": 6,
   "metadata": {},
   "outputs": [],
   "source": [
    "import numpy             as np\n",
    "import matplotlib.pyplot as pl\n",
    "import pandas            as pd\n",
    "import re                as re\n",
    "import scipy.stats       as st\n",
    "import seaborn           as sb\n",
    "\n",
    "# The `tyche` package is located at <https://github.com/NREL/portfolio/tree/master/production-function/framework/src/tyche/>.\n",
    "import tyche             as ty\n",
    "\n",
    "from copy import deepcopy"
   ]
  },
  {
   "cell_type": "markdown",
   "metadata": {},
   "source": [
    "## Load data."
   ]
  },
  {
   "cell_type": "markdown",
   "metadata": {},
   "source": [
    "### The data are stored in a set of tab-separated value files in a folder."
   ]
  },
  {
   "cell_type": "code",
   "execution_count": 7,
   "metadata": {},
   "outputs": [],
   "source": [
    "designs = ty.Designs(path = \".\",\n",
    "                     name = 'ldes.xlsx')"
   ]
  },
  {
   "cell_type": "code",
   "execution_count": 8,
   "metadata": {},
   "outputs": [],
   "source": [
    "investments = ty.Investments(path = \".\",\n",
    "                             name = 'ldes.xlsx')"
   ]
  },
  {
   "cell_type": "markdown",
   "metadata": {},
   "source": [
    "### Compile the production and metric functions for each technology in the dataset."
   ]
  },
  {
   "cell_type": "code",
   "execution_count": 9,
   "metadata": {},
   "outputs": [],
   "source": [
    "designs.compile()"
   ]
  },
  {
   "cell_type": "markdown",
   "metadata": {},
   "source": [
    "## Examine the data."
   ]
  },
  {
   "cell_type": "markdown",
   "metadata": {},
   "source": [
    "### The `functions` table specifies where the Python code for each technology resides."
   ]
  },
  {
   "cell_type": "code",
   "execution_count": 10,
   "metadata": {},
   "outputs": [
    {
     "data": {
      "text/html": [
       "<div>\n",
       "<style scoped>\n",
       "    .dataframe tbody tr th:only-of-type {\n",
       "        vertical-align: middle;\n",
       "    }\n",
       "\n",
       "    .dataframe tbody tr th {\n",
       "        vertical-align: top;\n",
       "    }\n",
       "\n",
       "    .dataframe thead th {\n",
       "        text-align: right;\n",
       "    }\n",
       "</style>\n",
       "<table border=\"1\" class=\"dataframe\">\n",
       "  <thead>\n",
       "    <tr style=\"text-align: right;\">\n",
       "      <th></th>\n",
       "      <th>Style</th>\n",
       "      <th>Model</th>\n",
       "      <th>Capital</th>\n",
       "      <th>Fixed</th>\n",
       "      <th>Production</th>\n",
       "      <th>Metrics</th>\n",
       "      <th>Notes</th>\n",
       "    </tr>\n",
       "    <tr>\n",
       "      <th>Technology</th>\n",
       "      <th></th>\n",
       "      <th></th>\n",
       "      <th></th>\n",
       "      <th></th>\n",
       "      <th></th>\n",
       "      <th></th>\n",
       "      <th></th>\n",
       "    </tr>\n",
       "  </thead>\n",
       "  <tbody>\n",
       "    <tr>\n",
       "      <th>LDES</th>\n",
       "      <td>numpy</td>\n",
       "      <td>ldes</td>\n",
       "      <td>capital_cost</td>\n",
       "      <td>fixed_cost</td>\n",
       "      <td>production</td>\n",
       "      <td>metrics</td>\n",
       "      <td>NaN</td>\n",
       "    </tr>\n",
       "  </tbody>\n",
       "</table>\n",
       "</div>"
      ],
      "text/plain": [
       "            Style Model       Capital       Fixed  Production  Metrics Notes\n",
       "Technology                                                                  \n",
       "LDES        numpy  ldes  capital_cost  fixed_cost  production  metrics   NaN"
      ]
     },
     "execution_count": 10,
     "metadata": {},
     "output_type": "execute_result"
    }
   ],
   "source": [
    "designs.functions"
   ]
  },
  {
   "cell_type": "markdown",
   "metadata": {},
   "source": [
    "Right now, only the style `numpy` is supported."
   ]
  },
  {
   "cell_type": "markdown",
   "metadata": {},
   "source": [
    "### The `indices` table defines the subscripts for variables."
   ]
  },
  {
   "cell_type": "code",
   "execution_count": 11,
   "metadata": {},
   "outputs": [
    {
     "data": {
      "text/html": [
       "<div>\n",
       "<style scoped>\n",
       "    .dataframe tbody tr th:only-of-type {\n",
       "        vertical-align: middle;\n",
       "    }\n",
       "\n",
       "    .dataframe tbody tr th {\n",
       "        vertical-align: top;\n",
       "    }\n",
       "\n",
       "    .dataframe thead th {\n",
       "        text-align: right;\n",
       "    }\n",
       "</style>\n",
       "<table border=\"1\" class=\"dataframe\">\n",
       "  <thead>\n",
       "    <tr style=\"text-align: right;\">\n",
       "      <th></th>\n",
       "      <th></th>\n",
       "      <th></th>\n",
       "      <th>Offset</th>\n",
       "      <th>Description</th>\n",
       "      <th>Notes</th>\n",
       "    </tr>\n",
       "    <tr>\n",
       "      <th>Technology</th>\n",
       "      <th>Type</th>\n",
       "      <th>Index</th>\n",
       "      <th></th>\n",
       "      <th></th>\n",
       "      <th></th>\n",
       "    </tr>\n",
       "  </thead>\n",
       "  <tbody>\n",
       "    <tr>\n",
       "      <th rowspan=\"14\" valign=\"top\">LDES</th>\n",
       "      <th rowspan=\"9\" valign=\"top\">Capital</th>\n",
       "      <th>BoS 1</th>\n",
       "      <td>2</td>\n",
       "      <td>NaN</td>\n",
       "      <td>NaN</td>\n",
       "    </tr>\n",
       "    <tr>\n",
       "      <th>BoS 2</th>\n",
       "      <td>5</td>\n",
       "      <td>NaN</td>\n",
       "      <td>NaN</td>\n",
       "    </tr>\n",
       "    <tr>\n",
       "      <th>BoS 3</th>\n",
       "      <td>8</td>\n",
       "      <td>NaN</td>\n",
       "      <td>NaN</td>\n",
       "    </tr>\n",
       "    <tr>\n",
       "      <th>Cavern</th>\n",
       "      <td>4</td>\n",
       "      <td>NaN</td>\n",
       "      <td>NaN</td>\n",
       "    </tr>\n",
       "    <tr>\n",
       "      <th>Compress</th>\n",
       "      <td>3</td>\n",
       "      <td>NaN</td>\n",
       "      <td>NaN</td>\n",
       "    </tr>\n",
       "    <tr>\n",
       "      <th>Electrolysis</th>\n",
       "      <td>1</td>\n",
       "      <td>NaN</td>\n",
       "      <td>NaN</td>\n",
       "    </tr>\n",
       "    <tr>\n",
       "      <th>Fuel Cell</th>\n",
       "      <td>6</td>\n",
       "      <td>NaN</td>\n",
       "      <td>NaN</td>\n",
       "    </tr>\n",
       "    <tr>\n",
       "      <th>Inverter</th>\n",
       "      <td>7</td>\n",
       "      <td>NaN</td>\n",
       "      <td>NaN</td>\n",
       "    </tr>\n",
       "    <tr>\n",
       "      <th>Rectifier</th>\n",
       "      <td>0</td>\n",
       "      <td>NaN</td>\n",
       "      <td>NaN</td>\n",
       "    </tr>\n",
       "    <tr>\n",
       "      <th>Input</th>\n",
       "      <th>AC Electricity</th>\n",
       "      <td>0</td>\n",
       "      <td>NaN</td>\n",
       "      <td>NaN</td>\n",
       "    </tr>\n",
       "    <tr>\n",
       "      <th rowspan=\"3\" valign=\"top\">Metric</th>\n",
       "      <th>GHG</th>\n",
       "      <td>2</td>\n",
       "      <td>Greenhouse gas emissions</td>\n",
       "      <td>NaN</td>\n",
       "    </tr>\n",
       "    <tr>\n",
       "      <th>Jobs</th>\n",
       "      <td>1</td>\n",
       "      <td>Jobs</td>\n",
       "      <td>NaN</td>\n",
       "    </tr>\n",
       "    <tr>\n",
       "      <th>LCOS</th>\n",
       "      <td>0</td>\n",
       "      <td>Cost</td>\n",
       "      <td>NaN</td>\n",
       "    </tr>\n",
       "    <tr>\n",
       "      <th>Output</th>\n",
       "      <th>AC Electricity</th>\n",
       "      <td>0</td>\n",
       "      <td>NaN</td>\n",
       "      <td>NaN</td>\n",
       "    </tr>\n",
       "  </tbody>\n",
       "</table>\n",
       "</div>"
      ],
      "text/plain": [
       "                                   Offset               Description Notes\n",
       "Technology Type    Index                                                 \n",
       "LDES       Capital BoS 1                2                       NaN   NaN\n",
       "                   BoS 2                5                       NaN   NaN\n",
       "                   BoS 3                8                       NaN   NaN\n",
       "                   Cavern               4                       NaN   NaN\n",
       "                   Compress             3                       NaN   NaN\n",
       "                   Electrolysis         1                       NaN   NaN\n",
       "                   Fuel Cell            6                       NaN   NaN\n",
       "                   Inverter             7                       NaN   NaN\n",
       "                   Rectifier            0                       NaN   NaN\n",
       "           Input   AC Electricity       0                       NaN   NaN\n",
       "           Metric  GHG                  2  Greenhouse gas emissions   NaN\n",
       "                   Jobs                 1                      Jobs   NaN\n",
       "                   LCOS                 0                      Cost   NaN\n",
       "           Output  AC Electricity       0                       NaN   NaN"
      ]
     },
     "execution_count": 11,
     "metadata": {},
     "output_type": "execute_result"
    }
   ],
   "source": [
    "designs.indices"
   ]
  },
  {
   "cell_type": "markdown",
   "metadata": {},
   "source": [
    "### The `designs` table contains the cost, input, efficiency, and price data for a scenario."
   ]
  },
  {
   "cell_type": "code",
   "execution_count": 12,
   "metadata": {},
   "outputs": [
    {
     "data": {
      "text/html": [
       "<div>\n",
       "<style scoped>\n",
       "    .dataframe tbody tr th:only-of-type {\n",
       "        vertical-align: middle;\n",
       "    }\n",
       "\n",
       "    .dataframe tbody tr th {\n",
       "        vertical-align: top;\n",
       "    }\n",
       "\n",
       "    .dataframe thead th {\n",
       "        text-align: right;\n",
       "    }\n",
       "</style>\n",
       "<table border=\"1\" class=\"dataframe\">\n",
       "  <thead>\n",
       "    <tr style=\"text-align: right;\">\n",
       "      <th></th>\n",
       "      <th></th>\n",
       "      <th></th>\n",
       "      <th></th>\n",
       "      <th>Value</th>\n",
       "      <th>Units</th>\n",
       "      <th>Notes</th>\n",
       "    </tr>\n",
       "    <tr>\n",
       "      <th>Technology</th>\n",
       "      <th>Scenario</th>\n",
       "      <th>Variable</th>\n",
       "      <th>Index</th>\n",
       "      <th></th>\n",
       "      <th></th>\n",
       "      <th></th>\n",
       "    </tr>\n",
       "  </thead>\n",
       "  <tbody>\n",
       "    <tr>\n",
       "      <th rowspan=\"45\" valign=\"top\">LDES</th>\n",
       "      <th rowspan=\"15\" valign=\"top\">Base</th>\n",
       "      <th>Input</th>\n",
       "      <th>AC Electricity</th>\n",
       "      <td>100000</td>\n",
       "      <td>kilowatt hour</td>\n",
       "      <td>NaN</td>\n",
       "    </tr>\n",
       "    <tr>\n",
       "      <th>Input efficiency</th>\n",
       "      <th>AC Electricity</th>\n",
       "      <td>1</td>\n",
       "      <td>NaN</td>\n",
       "      <td>NaN</td>\n",
       "    </tr>\n",
       "    <tr>\n",
       "      <th>Input price</th>\n",
       "      <th>AC Electricity</th>\n",
       "      <td>0.15</td>\n",
       "      <td>NaN</td>\n",
       "      <td>NaN</td>\n",
       "    </tr>\n",
       "    <tr>\n",
       "      <th rowspan=\"9\" valign=\"top\">Lifetime</th>\n",
       "      <th>BoS 1</th>\n",
       "      <td>1</td>\n",
       "      <td>NaN</td>\n",
       "      <td>NaN</td>\n",
       "    </tr>\n",
       "    <tr>\n",
       "      <th>BoS 2</th>\n",
       "      <td>1</td>\n",
       "      <td>NaN</td>\n",
       "      <td>NaN</td>\n",
       "    </tr>\n",
       "    <tr>\n",
       "      <th>BoS 3</th>\n",
       "      <td>1</td>\n",
       "      <td>NaN</td>\n",
       "      <td>NaN</td>\n",
       "    </tr>\n",
       "    <tr>\n",
       "      <th>Cavern</th>\n",
       "      <td>1</td>\n",
       "      <td>NaN</td>\n",
       "      <td>NaN</td>\n",
       "    </tr>\n",
       "    <tr>\n",
       "      <th>Compress</th>\n",
       "      <td>1</td>\n",
       "      <td>NaN</td>\n",
       "      <td>NaN</td>\n",
       "    </tr>\n",
       "    <tr>\n",
       "      <th>Electrolysis</th>\n",
       "      <td>1</td>\n",
       "      <td>NaN</td>\n",
       "      <td>NaN</td>\n",
       "    </tr>\n",
       "    <tr>\n",
       "      <th>Fuel Cell</th>\n",
       "      <td>1</td>\n",
       "      <td>NaN</td>\n",
       "      <td>NaN</td>\n",
       "    </tr>\n",
       "    <tr>\n",
       "      <th>Inverter</th>\n",
       "      <td>1</td>\n",
       "      <td>NaN</td>\n",
       "      <td>NaN</td>\n",
       "    </tr>\n",
       "    <tr>\n",
       "      <th>Rectifier</th>\n",
       "      <td>1</td>\n",
       "      <td>NaN</td>\n",
       "      <td>NaN</td>\n",
       "    </tr>\n",
       "    <tr>\n",
       "      <th>Output efficiency</th>\n",
       "      <th>AC Electricity</th>\n",
       "      <td>1</td>\n",
       "      <td>NaN</td>\n",
       "      <td>NaN</td>\n",
       "    </tr>\n",
       "    <tr>\n",
       "      <th>Output price</th>\n",
       "      <th>AC Electricity</th>\n",
       "      <td>0.16</td>\n",
       "      <td>NaN</td>\n",
       "      <td>NaN</td>\n",
       "    </tr>\n",
       "    <tr>\n",
       "      <th>Scale</th>\n",
       "      <th>system</th>\n",
       "      <td>1</td>\n",
       "      <td>NaN</td>\n",
       "      <td>NaN</td>\n",
       "    </tr>\n",
       "    <tr>\n",
       "      <th rowspan=\"15\" valign=\"top\">High R&amp;D LDES</th>\n",
       "      <th>Input</th>\n",
       "      <th>AC Electricity</th>\n",
       "      <td>100000</td>\n",
       "      <td>NaN</td>\n",
       "      <td>NaN</td>\n",
       "    </tr>\n",
       "    <tr>\n",
       "      <th>Input efficiency</th>\n",
       "      <th>AC Electricity</th>\n",
       "      <td>1</td>\n",
       "      <td>NaN</td>\n",
       "      <td>NaN</td>\n",
       "    </tr>\n",
       "    <tr>\n",
       "      <th>Input price</th>\n",
       "      <th>AC Electricity</th>\n",
       "      <td>0.15</td>\n",
       "      <td>NaN</td>\n",
       "      <td>NaN</td>\n",
       "    </tr>\n",
       "    <tr>\n",
       "      <th rowspan=\"9\" valign=\"top\">Lifetime</th>\n",
       "      <th>BoS 1</th>\n",
       "      <td>1</td>\n",
       "      <td>NaN</td>\n",
       "      <td>NaN</td>\n",
       "    </tr>\n",
       "    <tr>\n",
       "      <th>BoS 2</th>\n",
       "      <td>1</td>\n",
       "      <td>NaN</td>\n",
       "      <td>NaN</td>\n",
       "    </tr>\n",
       "    <tr>\n",
       "      <th>BoS 3</th>\n",
       "      <td>1</td>\n",
       "      <td>NaN</td>\n",
       "      <td>NaN</td>\n",
       "    </tr>\n",
       "    <tr>\n",
       "      <th>Cavern</th>\n",
       "      <td>1</td>\n",
       "      <td>NaN</td>\n",
       "      <td>NaN</td>\n",
       "    </tr>\n",
       "    <tr>\n",
       "      <th>Compress</th>\n",
       "      <td>1</td>\n",
       "      <td>NaN</td>\n",
       "      <td>NaN</td>\n",
       "    </tr>\n",
       "    <tr>\n",
       "      <th>Electrolysis</th>\n",
       "      <td>1</td>\n",
       "      <td>NaN</td>\n",
       "      <td>NaN</td>\n",
       "    </tr>\n",
       "    <tr>\n",
       "      <th>Fuel Cell</th>\n",
       "      <td>1</td>\n",
       "      <td>NaN</td>\n",
       "      <td>NaN</td>\n",
       "    </tr>\n",
       "    <tr>\n",
       "      <th>Inverter</th>\n",
       "      <td>1</td>\n",
       "      <td>NaN</td>\n",
       "      <td>NaN</td>\n",
       "    </tr>\n",
       "    <tr>\n",
       "      <th>Rectifier</th>\n",
       "      <td>1</td>\n",
       "      <td>NaN</td>\n",
       "      <td>NaN</td>\n",
       "    </tr>\n",
       "    <tr>\n",
       "      <th>Output efficiency</th>\n",
       "      <th>AC Electricity</th>\n",
       "      <td>1</td>\n",
       "      <td>NaN</td>\n",
       "      <td>NaN</td>\n",
       "    </tr>\n",
       "    <tr>\n",
       "      <th>Output price</th>\n",
       "      <th>AC Electricity</th>\n",
       "      <td>0.16</td>\n",
       "      <td>NaN</td>\n",
       "      <td>NaN</td>\n",
       "    </tr>\n",
       "    <tr>\n",
       "      <th>Scale</th>\n",
       "      <th>system</th>\n",
       "      <td>1</td>\n",
       "      <td>NaN</td>\n",
       "      <td>NaN</td>\n",
       "    </tr>\n",
       "    <tr>\n",
       "      <th rowspan=\"15\" valign=\"top\">Slow R&amp;D LDES</th>\n",
       "      <th>Input</th>\n",
       "      <th>AC Electricity</th>\n",
       "      <td>100000</td>\n",
       "      <td>NaN</td>\n",
       "      <td>NaN</td>\n",
       "    </tr>\n",
       "    <tr>\n",
       "      <th>Input efficiency</th>\n",
       "      <th>AC Electricity</th>\n",
       "      <td>1</td>\n",
       "      <td>NaN</td>\n",
       "      <td>NaN</td>\n",
       "    </tr>\n",
       "    <tr>\n",
       "      <th>Input price</th>\n",
       "      <th>AC Electricity</th>\n",
       "      <td>0.15</td>\n",
       "      <td>NaN</td>\n",
       "      <td>NaN</td>\n",
       "    </tr>\n",
       "    <tr>\n",
       "      <th rowspan=\"9\" valign=\"top\">Lifetime</th>\n",
       "      <th>BoS 1</th>\n",
       "      <td>1</td>\n",
       "      <td>NaN</td>\n",
       "      <td>NaN</td>\n",
       "    </tr>\n",
       "    <tr>\n",
       "      <th>BoS 2</th>\n",
       "      <td>1</td>\n",
       "      <td>NaN</td>\n",
       "      <td>NaN</td>\n",
       "    </tr>\n",
       "    <tr>\n",
       "      <th>BoS 3</th>\n",
       "      <td>1</td>\n",
       "      <td>NaN</td>\n",
       "      <td>NaN</td>\n",
       "    </tr>\n",
       "    <tr>\n",
       "      <th>Cavern</th>\n",
       "      <td>1</td>\n",
       "      <td>NaN</td>\n",
       "      <td>NaN</td>\n",
       "    </tr>\n",
       "    <tr>\n",
       "      <th>Compress</th>\n",
       "      <td>1</td>\n",
       "      <td>NaN</td>\n",
       "      <td>NaN</td>\n",
       "    </tr>\n",
       "    <tr>\n",
       "      <th>Electrolysis</th>\n",
       "      <td>1</td>\n",
       "      <td>NaN</td>\n",
       "      <td>NaN</td>\n",
       "    </tr>\n",
       "    <tr>\n",
       "      <th>Fuel Cell</th>\n",
       "      <td>1</td>\n",
       "      <td>NaN</td>\n",
       "      <td>NaN</td>\n",
       "    </tr>\n",
       "    <tr>\n",
       "      <th>Inverter</th>\n",
       "      <td>1</td>\n",
       "      <td>NaN</td>\n",
       "      <td>NaN</td>\n",
       "    </tr>\n",
       "    <tr>\n",
       "      <th>Rectifier</th>\n",
       "      <td>1</td>\n",
       "      <td>NaN</td>\n",
       "      <td>NaN</td>\n",
       "    </tr>\n",
       "    <tr>\n",
       "      <th>Output efficiency</th>\n",
       "      <th>AC Electricity</th>\n",
       "      <td>1</td>\n",
       "      <td>NaN</td>\n",
       "      <td>NaN</td>\n",
       "    </tr>\n",
       "    <tr>\n",
       "      <th>Output price</th>\n",
       "      <th>AC Electricity</th>\n",
       "      <td>0.16</td>\n",
       "      <td>NaN</td>\n",
       "      <td>NaN</td>\n",
       "    </tr>\n",
       "    <tr>\n",
       "      <th>Scale</th>\n",
       "      <th>system</th>\n",
       "      <td>1</td>\n",
       "      <td>NaN</td>\n",
       "      <td>NaN</td>\n",
       "    </tr>\n",
       "  </tbody>\n",
       "</table>\n",
       "</div>"
      ],
      "text/plain": [
       "                                                            Value  \\\n",
       "Technology Scenario      Variable          Index                    \n",
       "LDES       Base          Input             AC Electricity  100000   \n",
       "                         Input efficiency  AC Electricity       1   \n",
       "                         Input price       AC Electricity    0.15   \n",
       "                         Lifetime          BoS 1                1   \n",
       "                                           BoS 2                1   \n",
       "                                           BoS 3                1   \n",
       "                                           Cavern               1   \n",
       "                                           Compress             1   \n",
       "                                           Electrolysis         1   \n",
       "                                           Fuel Cell            1   \n",
       "                                           Inverter             1   \n",
       "                                           Rectifier            1   \n",
       "                         Output efficiency AC Electricity       1   \n",
       "                         Output price      AC Electricity    0.16   \n",
       "                         Scale             system               1   \n",
       "           High R&D LDES Input             AC Electricity  100000   \n",
       "                         Input efficiency  AC Electricity       1   \n",
       "                         Input price       AC Electricity    0.15   \n",
       "                         Lifetime          BoS 1                1   \n",
       "                                           BoS 2                1   \n",
       "                                           BoS 3                1   \n",
       "                                           Cavern               1   \n",
       "                                           Compress             1   \n",
       "                                           Electrolysis         1   \n",
       "                                           Fuel Cell            1   \n",
       "                                           Inverter             1   \n",
       "                                           Rectifier            1   \n",
       "                         Output efficiency AC Electricity       1   \n",
       "                         Output price      AC Electricity    0.16   \n",
       "                         Scale             system               1   \n",
       "           Slow R&D LDES Input             AC Electricity  100000   \n",
       "                         Input efficiency  AC Electricity       1   \n",
       "                         Input price       AC Electricity    0.15   \n",
       "                         Lifetime          BoS 1                1   \n",
       "                                           BoS 2                1   \n",
       "                                           BoS 3                1   \n",
       "                                           Cavern               1   \n",
       "                                           Compress             1   \n",
       "                                           Electrolysis         1   \n",
       "                                           Fuel Cell            1   \n",
       "                                           Inverter             1   \n",
       "                                           Rectifier            1   \n",
       "                         Output efficiency AC Electricity       1   \n",
       "                         Output price      AC Electricity    0.16   \n",
       "                         Scale             system               1   \n",
       "\n",
       "                                                                   Units Notes  \n",
       "Technology Scenario      Variable          Index                                \n",
       "LDES       Base          Input             AC Electricity  kilowatt hour   NaN  \n",
       "                         Input efficiency  AC Electricity            NaN   NaN  \n",
       "                         Input price       AC Electricity            NaN   NaN  \n",
       "                         Lifetime          BoS 1                     NaN   NaN  \n",
       "                                           BoS 2                     NaN   NaN  \n",
       "                                           BoS 3                     NaN   NaN  \n",
       "                                           Cavern                    NaN   NaN  \n",
       "                                           Compress                  NaN   NaN  \n",
       "                                           Electrolysis              NaN   NaN  \n",
       "                                           Fuel Cell                 NaN   NaN  \n",
       "                                           Inverter                  NaN   NaN  \n",
       "                                           Rectifier                 NaN   NaN  \n",
       "                         Output efficiency AC Electricity            NaN   NaN  \n",
       "                         Output price      AC Electricity            NaN   NaN  \n",
       "                         Scale             system                    NaN   NaN  \n",
       "           High R&D LDES Input             AC Electricity            NaN   NaN  \n",
       "                         Input efficiency  AC Electricity            NaN   NaN  \n",
       "                         Input price       AC Electricity            NaN   NaN  \n",
       "                         Lifetime          BoS 1                     NaN   NaN  \n",
       "                                           BoS 2                     NaN   NaN  \n",
       "                                           BoS 3                     NaN   NaN  \n",
       "                                           Cavern                    NaN   NaN  \n",
       "                                           Compress                  NaN   NaN  \n",
       "                                           Electrolysis              NaN   NaN  \n",
       "                                           Fuel Cell                 NaN   NaN  \n",
       "                                           Inverter                  NaN   NaN  \n",
       "                                           Rectifier                 NaN   NaN  \n",
       "                         Output efficiency AC Electricity            NaN   NaN  \n",
       "                         Output price      AC Electricity            NaN   NaN  \n",
       "                         Scale             system                    NaN   NaN  \n",
       "           Slow R&D LDES Input             AC Electricity            NaN   NaN  \n",
       "                         Input efficiency  AC Electricity            NaN   NaN  \n",
       "                         Input price       AC Electricity            NaN   NaN  \n",
       "                         Lifetime          BoS 1                     NaN   NaN  \n",
       "                                           BoS 2                     NaN   NaN  \n",
       "                                           BoS 3                     NaN   NaN  \n",
       "                                           Cavern                    NaN   NaN  \n",
       "                                           Compress                  NaN   NaN  \n",
       "                                           Electrolysis              NaN   NaN  \n",
       "                                           Fuel Cell                 NaN   NaN  \n",
       "                                           Inverter                  NaN   NaN  \n",
       "                                           Rectifier                 NaN   NaN  \n",
       "                         Output efficiency AC Electricity            NaN   NaN  \n",
       "                         Output price      AC Electricity            NaN   NaN  \n",
       "                         Scale             system                    NaN   NaN  "
      ]
     },
     "execution_count": 12,
     "metadata": {},
     "output_type": "execute_result"
    }
   ],
   "source": [
    "designs.designs"
   ]
  },
  {
   "cell_type": "markdown",
   "metadata": {},
   "source": [
    "### The `parameters` table contains additional techno-economic parameters for each technology."
   ]
  },
  {
   "cell_type": "code",
   "execution_count": 13,
   "metadata": {},
   "outputs": [
    {
     "data": {
      "text/html": [
       "<div>\n",
       "<style scoped>\n",
       "    .dataframe tbody tr th:only-of-type {\n",
       "        vertical-align: middle;\n",
       "    }\n",
       "\n",
       "    .dataframe tbody tr th {\n",
       "        vertical-align: top;\n",
       "    }\n",
       "\n",
       "    .dataframe thead th {\n",
       "        text-align: right;\n",
       "    }\n",
       "</style>\n",
       "<table border=\"1\" class=\"dataframe\">\n",
       "  <thead>\n",
       "    <tr style=\"text-align: right;\">\n",
       "      <th></th>\n",
       "      <th></th>\n",
       "      <th></th>\n",
       "      <th>Offset</th>\n",
       "      <th>Value</th>\n",
       "      <th>Units</th>\n",
       "      <th>Notes</th>\n",
       "    </tr>\n",
       "    <tr>\n",
       "      <th>Technology</th>\n",
       "      <th>Scenario</th>\n",
       "      <th>Parameter</th>\n",
       "      <th></th>\n",
       "      <th></th>\n",
       "      <th></th>\n",
       "      <th></th>\n",
       "    </tr>\n",
       "  </thead>\n",
       "  <tbody>\n",
       "    <tr>\n",
       "      <th rowspan=\"11\" valign=\"top\">LDES</th>\n",
       "      <th rowspan=\"5\" valign=\"top\">Base</th>\n",
       "      <th>CF Electrolysis</th>\n",
       "      <td>1</td>\n",
       "      <td>st.triang(0.5,loc=0.50,scale=0.1)</td>\n",
       "      <td>NaN</td>\n",
       "      <td>NaN</td>\n",
       "    </tr>\n",
       "    <tr>\n",
       "      <th>CF Fuel Cell</th>\n",
       "      <td>5</td>\n",
       "      <td>st.triang(0.5,loc=0.50,scale=0.1)</td>\n",
       "      <td>NaN</td>\n",
       "      <td>NaN</td>\n",
       "    </tr>\n",
       "    <tr>\n",
       "      <th>Capital cost BOS 1</th>\n",
       "      <td>12</td>\n",
       "      <td>2710479</td>\n",
       "      <td>NaN</td>\n",
       "      <td>NaN</td>\n",
       "    </tr>\n",
       "    <tr>\n",
       "      <th>Capital cost BoS 2</th>\n",
       "      <td>15</td>\n",
       "      <td>5313837</td>\n",
       "      <td>NaN</td>\n",
       "      <td>NaN</td>\n",
       "    </tr>\n",
       "    <tr>\n",
       "      <th>Capital cost BoS 3</th>\n",
       "      <td>18</td>\n",
       "      <td>2869.933</td>\n",
       "      <td>NaN</td>\n",
       "      <td>NaN</td>\n",
       "    </tr>\n",
       "    <tr>\n",
       "      <th>...</th>\n",
       "      <th>...</th>\n",
       "      <td>...</td>\n",
       "      <td>...</td>\n",
       "      <td>...</td>\n",
       "      <td>...</td>\n",
       "    </tr>\n",
       "    <tr>\n",
       "      <th rowspan=\"5\" valign=\"top\">Slow R&amp;D LDES</th>\n",
       "      <th>Fixed cost Fuel Cell</th>\n",
       "      <td>25</td>\n",
       "      <td>5681.41</td>\n",
       "      <td>NaN</td>\n",
       "      <td>NaN</td>\n",
       "    </tr>\n",
       "    <tr>\n",
       "      <th>Fixed cost Inverter</th>\n",
       "      <td>26</td>\n",
       "      <td>3119.361</td>\n",
       "      <td>NaN</td>\n",
       "      <td>NaN</td>\n",
       "    </tr>\n",
       "    <tr>\n",
       "      <th>Fixed cost rectifier</th>\n",
       "      <td>19</td>\n",
       "      <td>3067.868</td>\n",
       "      <td>NaN</td>\n",
       "      <td>NaN</td>\n",
       "    </tr>\n",
       "    <tr>\n",
       "      <th>GHG_BOS</th>\n",
       "      <td>8</td>\n",
       "      <td>st.triang(0.8, loc=25, scale=5)</td>\n",
       "      <td>NaN</td>\n",
       "      <td>NaN</td>\n",
       "    </tr>\n",
       "    <tr>\n",
       "      <th>Jobs</th>\n",
       "      <td>9</td>\n",
       "      <td>st.triang(0.8, loc=35, scale=5)</td>\n",
       "      <td>NaN</td>\n",
       "      <td>NaN</td>\n",
       "    </tr>\n",
       "  </tbody>\n",
       "</table>\n",
       "<p>84 rows × 4 columns</p>\n",
       "</div>"
      ],
      "text/plain": [
       "                                               Offset  \\\n",
       "Technology Scenario      Parameter                      \n",
       "LDES       Base          CF Electrolysis            1   \n",
       "                         CF Fuel Cell               5   \n",
       "                         Capital cost BOS 1        12   \n",
       "                         Capital cost BoS 2        15   \n",
       "                         Capital cost BoS 3        18   \n",
       "...                                               ...   \n",
       "           Slow R&D LDES Fixed cost Fuel Cell      25   \n",
       "                         Fixed cost Inverter       26   \n",
       "                         Fixed cost rectifier      19   \n",
       "                         GHG_BOS                    8   \n",
       "                         Jobs                       9   \n",
       "\n",
       "                                                                           Value  \\\n",
       "Technology Scenario      Parameter                                                 \n",
       "LDES       Base          CF Electrolysis       st.triang(0.5,loc=0.50,scale=0.1)   \n",
       "                         CF Fuel Cell          st.triang(0.5,loc=0.50,scale=0.1)   \n",
       "                         Capital cost BOS 1                              2710479   \n",
       "                         Capital cost BoS 2                              5313837   \n",
       "                         Capital cost BoS 3                             2869.933   \n",
       "...                                                                          ...   \n",
       "           Slow R&D LDES Fixed cost Fuel Cell                            5681.41   \n",
       "                         Fixed cost Inverter                            3119.361   \n",
       "                         Fixed cost rectifier                           3067.868   \n",
       "                         GHG_BOS                 st.triang(0.8, loc=25, scale=5)   \n",
       "                         Jobs                    st.triang(0.8, loc=35, scale=5)   \n",
       "\n",
       "                                              Units Notes  \n",
       "Technology Scenario      Parameter                         \n",
       "LDES       Base          CF Electrolysis        NaN   NaN  \n",
       "                         CF Fuel Cell           NaN   NaN  \n",
       "                         Capital cost BOS 1     NaN   NaN  \n",
       "                         Capital cost BoS 2     NaN   NaN  \n",
       "                         Capital cost BoS 3     NaN   NaN  \n",
       "...                                             ...   ...  \n",
       "           Slow R&D LDES Fixed cost Fuel Cell   NaN   NaN  \n",
       "                         Fixed cost Inverter    NaN   NaN  \n",
       "                         Fixed cost rectifier   NaN   NaN  \n",
       "                         GHG_BOS                NaN   NaN  \n",
       "                         Jobs                   NaN   NaN  \n",
       "\n",
       "[84 rows x 4 columns]"
      ]
     },
     "execution_count": 13,
     "metadata": {},
     "output_type": "execute_result"
    }
   ],
   "source": [
    "designs.parameters"
   ]
  },
  {
   "cell_type": "markdown",
   "metadata": {},
   "source": [
    "### The `results` table specifies the units of measure for results of computations."
   ]
  },
  {
   "cell_type": "code",
   "execution_count": 14,
   "metadata": {},
   "outputs": [
    {
     "data": {
      "text/html": [
       "<div>\n",
       "<style scoped>\n",
       "    .dataframe tbody tr th:only-of-type {\n",
       "        vertical-align: middle;\n",
       "    }\n",
       "\n",
       "    .dataframe tbody tr th {\n",
       "        vertical-align: top;\n",
       "    }\n",
       "\n",
       "    .dataframe thead th {\n",
       "        text-align: right;\n",
       "    }\n",
       "</style>\n",
       "<table border=\"1\" class=\"dataframe\">\n",
       "  <thead>\n",
       "    <tr style=\"text-align: right;\">\n",
       "      <th></th>\n",
       "      <th></th>\n",
       "      <th></th>\n",
       "      <th>Units</th>\n",
       "      <th>Notes</th>\n",
       "    </tr>\n",
       "    <tr>\n",
       "      <th>Technology</th>\n",
       "      <th>Variable</th>\n",
       "      <th>Index</th>\n",
       "      <th></th>\n",
       "      <th></th>\n",
       "    </tr>\n",
       "  </thead>\n",
       "  <tbody>\n",
       "    <tr>\n",
       "      <th rowspan=\"5\" valign=\"top\">LDES</th>\n",
       "      <th>Cost</th>\n",
       "      <th>Cost</th>\n",
       "      <td>USD/kilowatt hour</td>\n",
       "      <td>NaN</td>\n",
       "    </tr>\n",
       "    <tr>\n",
       "      <th rowspan=\"3\" valign=\"top\">Metric</th>\n",
       "      <th>GHG</th>\n",
       "      <td>gCO2e/kilowatt hour</td>\n",
       "      <td>NaN</td>\n",
       "    </tr>\n",
       "    <tr>\n",
       "      <th>Jobs</th>\n",
       "      <td>job/kilowatt hour</td>\n",
       "      <td>NaN</td>\n",
       "    </tr>\n",
       "    <tr>\n",
       "      <th>LCOS</th>\n",
       "      <td>USD/kilowatt hour</td>\n",
       "      <td>NaN</td>\n",
       "    </tr>\n",
       "    <tr>\n",
       "      <th>Output</th>\n",
       "      <th>AC Electricity</th>\n",
       "      <td>kilowatt hour</td>\n",
       "      <td>NaN</td>\n",
       "    </tr>\n",
       "  </tbody>\n",
       "</table>\n",
       "</div>"
      ],
      "text/plain": [
       "                                                  Units Notes\n",
       "Technology Variable Index                                    \n",
       "LDES       Cost     Cost              USD/kilowatt hour   NaN\n",
       "           Metric   GHG             gCO2e/kilowatt hour   NaN\n",
       "                    Jobs              job/kilowatt hour   NaN\n",
       "                    LCOS              USD/kilowatt hour   NaN\n",
       "           Output   AC Electricity        kilowatt hour   NaN"
      ]
     },
     "execution_count": 14,
     "metadata": {},
     "output_type": "execute_result"
    }
   ],
   "source": [
    "designs.results"
   ]
  },
  {
   "cell_type": "markdown",
   "metadata": {},
   "source": [
    "### The `tranches` table specifies multually exclusive possibilities for investments: only one `Tranch` may be selected for each `Cateogry`."
   ]
  },
  {
   "cell_type": "code",
   "execution_count": 15,
   "metadata": {},
   "outputs": [
    {
     "data": {
      "text/html": [
       "<div>\n",
       "<style scoped>\n",
       "    .dataframe tbody tr th:only-of-type {\n",
       "        vertical-align: middle;\n",
       "    }\n",
       "\n",
       "    .dataframe tbody tr th {\n",
       "        vertical-align: top;\n",
       "    }\n",
       "\n",
       "    .dataframe thead th {\n",
       "        text-align: right;\n",
       "    }\n",
       "</style>\n",
       "<table border=\"1\" class=\"dataframe\">\n",
       "  <thead>\n",
       "    <tr style=\"text-align: right;\">\n",
       "      <th></th>\n",
       "      <th></th>\n",
       "      <th></th>\n",
       "      <th>Amount</th>\n",
       "      <th>Notes</th>\n",
       "    </tr>\n",
       "    <tr>\n",
       "      <th>Category</th>\n",
       "      <th>Tranche</th>\n",
       "      <th>Scenario</th>\n",
       "      <th></th>\n",
       "      <th></th>\n",
       "    </tr>\n",
       "  </thead>\n",
       "  <tbody>\n",
       "    <tr>\n",
       "      <th rowspan=\"3\" valign=\"top\">R&amp;D LDES</th>\n",
       "      <th>High R&amp;D LDES</th>\n",
       "      <th>High R&amp;D LDES</th>\n",
       "      <td>1000000</td>\n",
       "      <td>NaN</td>\n",
       "    </tr>\n",
       "    <tr>\n",
       "      <th>R&amp;D LDES Base</th>\n",
       "      <th>Base</th>\n",
       "      <td>0</td>\n",
       "      <td>NaN</td>\n",
       "    </tr>\n",
       "    <tr>\n",
       "      <th>Slow R&amp;D LDES</th>\n",
       "      <th>Slow R&amp;D LDES</th>\n",
       "      <td>100000</td>\n",
       "      <td>NaN</td>\n",
       "    </tr>\n",
       "  </tbody>\n",
       "</table>\n",
       "</div>"
      ],
      "text/plain": [
       "                                       Amount Notes\n",
       "Category Tranche       Scenario                    \n",
       "R&D LDES High R&D LDES High R&D LDES  1000000   NaN\n",
       "         R&D LDES Base Base                 0   NaN\n",
       "         Slow R&D LDES Slow R&D LDES   100000   NaN"
      ]
     },
     "execution_count": 15,
     "metadata": {},
     "output_type": "execute_result"
    }
   ],
   "source": [
    "investments.tranches"
   ]
  },
  {
   "cell_type": "markdown",
   "metadata": {},
   "source": [
    "### The `investments` table bundles a consistent set of tranches (one per category) into an overall investment."
   ]
  },
  {
   "cell_type": "code",
   "execution_count": 16,
   "metadata": {},
   "outputs": [
    {
     "data": {
      "text/html": [
       "<div>\n",
       "<style scoped>\n",
       "    .dataframe tbody tr th:only-of-type {\n",
       "        vertical-align: middle;\n",
       "    }\n",
       "\n",
       "    .dataframe tbody tr th {\n",
       "        vertical-align: top;\n",
       "    }\n",
       "\n",
       "    .dataframe thead th {\n",
       "        text-align: right;\n",
       "    }\n",
       "</style>\n",
       "<table border=\"1\" class=\"dataframe\">\n",
       "  <thead>\n",
       "    <tr style=\"text-align: right;\">\n",
       "      <th></th>\n",
       "      <th></th>\n",
       "      <th></th>\n",
       "      <th>Notes</th>\n",
       "    </tr>\n",
       "    <tr>\n",
       "      <th>Investment</th>\n",
       "      <th>Category</th>\n",
       "      <th>Tranche</th>\n",
       "      <th></th>\n",
       "    </tr>\n",
       "  </thead>\n",
       "  <tbody>\n",
       "    <tr>\n",
       "      <th>Fast Progress</th>\n",
       "      <th>R&amp;D LDES</th>\n",
       "      <th>High R&amp;D LDES</th>\n",
       "      <td>NaN</td>\n",
       "    </tr>\n",
       "    <tr>\n",
       "      <th>No progress</th>\n",
       "      <th>R&amp;D LDES</th>\n",
       "      <th>R&amp;D LDES Base</th>\n",
       "      <td>NaN</td>\n",
       "    </tr>\n",
       "    <tr>\n",
       "      <th>Slow Progress</th>\n",
       "      <th>R&amp;D LDES</th>\n",
       "      <th>Slow R&amp;D LDES</th>\n",
       "      <td>NaN</td>\n",
       "    </tr>\n",
       "  </tbody>\n",
       "</table>\n",
       "</div>"
      ],
      "text/plain": [
       "                                     Notes\n",
       "Investment    Category Tranche            \n",
       "Fast Progress R&D LDES High R&D LDES   NaN\n",
       "No progress   R&D LDES R&D LDES Base   NaN\n",
       "Slow Progress R&D LDES Slow R&D LDES   NaN"
      ]
     },
     "execution_count": 16,
     "metadata": {},
     "output_type": "execute_result"
    }
   ],
   "source": [
    "investments.investments"
   ]
  },
  {
   "cell_type": "markdown",
   "metadata": {},
   "source": [
    "## Evaluate the scenarios in the dataset."
   ]
  },
  {
   "cell_type": "code",
   "execution_count": 17,
   "metadata": {
    "scrolled": false
   },
   "outputs": [
    {
     "name": "stdout",
     "output_type": "stream",
     "text": [
      "Evaluating LDES\n"
     ]
    }
   ],
   "source": [
    "scenario_results = designs.evaluate_scenarios(sample_count=50)"
   ]
  },
  {
   "cell_type": "code",
   "execution_count": 18,
   "metadata": {},
   "outputs": [
    {
     "data": {
      "text/html": [
       "<div>\n",
       "<style scoped>\n",
       "    .dataframe tbody tr th:only-of-type {\n",
       "        vertical-align: middle;\n",
       "    }\n",
       "\n",
       "    .dataframe tbody tr th {\n",
       "        vertical-align: top;\n",
       "    }\n",
       "\n",
       "    .dataframe thead th {\n",
       "        text-align: right;\n",
       "    }\n",
       "</style>\n",
       "<table border=\"1\" class=\"dataframe\">\n",
       "  <thead>\n",
       "    <tr style=\"text-align: right;\">\n",
       "      <th></th>\n",
       "      <th></th>\n",
       "      <th></th>\n",
       "      <th></th>\n",
       "      <th></th>\n",
       "      <th>Value</th>\n",
       "      <th>Units</th>\n",
       "    </tr>\n",
       "    <tr>\n",
       "      <th>Technology</th>\n",
       "      <th>Scenario</th>\n",
       "      <th>Sample</th>\n",
       "      <th>Variable</th>\n",
       "      <th>Index</th>\n",
       "      <th></th>\n",
       "      <th></th>\n",
       "    </tr>\n",
       "  </thead>\n",
       "  <tbody>\n",
       "    <tr>\n",
       "      <th rowspan=\"15\" valign=\"top\">LDES</th>\n",
       "      <th rowspan=\"5\" valign=\"top\">Base</th>\n",
       "      <th rowspan=\"5\" valign=\"top\">1</th>\n",
       "      <th>Cost</th>\n",
       "      <th>Cost</th>\n",
       "      <td>3.556817e+08</td>\n",
       "      <td>USD/kilowatt hour</td>\n",
       "    </tr>\n",
       "    <tr>\n",
       "      <th rowspan=\"3\" valign=\"top\">Metric</th>\n",
       "      <th>GHG</th>\n",
       "      <td>1.288043e+04</td>\n",
       "      <td>gCO2e/kilowatt hour</td>\n",
       "    </tr>\n",
       "    <tr>\n",
       "      <th>Jobs</th>\n",
       "      <td>3.171547e+01</td>\n",
       "      <td>job/kilowatt hour</td>\n",
       "    </tr>\n",
       "    <tr>\n",
       "      <th>LCOS</th>\n",
       "      <td>6.162556e+05</td>\n",
       "      <td>USD/kilowatt hour</td>\n",
       "    </tr>\n",
       "    <tr>\n",
       "      <th>Output</th>\n",
       "      <th>AC Electricity</th>\n",
       "      <td>5.771659e+02</td>\n",
       "      <td>kilowatt hour</td>\n",
       "    </tr>\n",
       "    <tr>\n",
       "      <th rowspan=\"5\" valign=\"top\">High R&amp;D LDES</th>\n",
       "      <th rowspan=\"5\" valign=\"top\">1</th>\n",
       "      <th>Cost</th>\n",
       "      <th>Cost</th>\n",
       "      <td>3.556810e+08</td>\n",
       "      <td>USD/kilowatt hour</td>\n",
       "    </tr>\n",
       "    <tr>\n",
       "      <th rowspan=\"3\" valign=\"top\">Metric</th>\n",
       "      <th>GHG</th>\n",
       "      <td>6.508856e+04</td>\n",
       "      <td>gCO2e/kilowatt hour</td>\n",
       "    </tr>\n",
       "    <tr>\n",
       "      <th>Jobs</th>\n",
       "      <td>3.147265e+01</td>\n",
       "      <td>job/kilowatt hour</td>\n",
       "    </tr>\n",
       "    <tr>\n",
       "      <th>LCOS</th>\n",
       "      <td>7.506309e+04</td>\n",
       "      <td>USD/kilowatt hour</td>\n",
       "    </tr>\n",
       "    <tr>\n",
       "      <th>Output</th>\n",
       "      <th>AC Electricity</th>\n",
       "      <td>4.738428e+03</td>\n",
       "      <td>kilowatt hour</td>\n",
       "    </tr>\n",
       "    <tr>\n",
       "      <th rowspan=\"5\" valign=\"top\">Slow R&amp;D LDES</th>\n",
       "      <th rowspan=\"5\" valign=\"top\">1</th>\n",
       "      <th>Cost</th>\n",
       "      <th>Cost</th>\n",
       "      <td>3.556816e+08</td>\n",
       "      <td>USD/kilowatt hour</td>\n",
       "    </tr>\n",
       "    <tr>\n",
       "      <th rowspan=\"3\" valign=\"top\">Metric</th>\n",
       "      <th>GHG</th>\n",
       "      <td>3.201216e+04</td>\n",
       "      <td>gCO2e/kilowatt hour</td>\n",
       "    </tr>\n",
       "    <tr>\n",
       "      <th>Jobs</th>\n",
       "      <td>3.842585e+01</td>\n",
       "      <td>job/kilowatt hour</td>\n",
       "    </tr>\n",
       "    <tr>\n",
       "      <th>LCOS</th>\n",
       "      <td>3.313079e+05</td>\n",
       "      <td>USD/kilowatt hour</td>\n",
       "    </tr>\n",
       "    <tr>\n",
       "      <th>Output</th>\n",
       "      <th>AC Electricity</th>\n",
       "      <td>1.073568e+03</td>\n",
       "      <td>kilowatt hour</td>\n",
       "    </tr>\n",
       "  </tbody>\n",
       "</table>\n",
       "</div>"
      ],
      "text/plain": [
       "                                                                Value  \\\n",
       "Technology Scenario      Sample Variable Index                          \n",
       "LDES       Base          1      Cost     Cost            3.556817e+08   \n",
       "                                Metric   GHG             1.288043e+04   \n",
       "                                         Jobs            3.171547e+01   \n",
       "                                         LCOS            6.162556e+05   \n",
       "                                Output   AC Electricity  5.771659e+02   \n",
       "           High R&D LDES 1      Cost     Cost            3.556810e+08   \n",
       "                                Metric   GHG             6.508856e+04   \n",
       "                                         Jobs            3.147265e+01   \n",
       "                                         LCOS            7.506309e+04   \n",
       "                                Output   AC Electricity  4.738428e+03   \n",
       "           Slow R&D LDES 1      Cost     Cost            3.556816e+08   \n",
       "                                Metric   GHG             3.201216e+04   \n",
       "                                         Jobs            3.842585e+01   \n",
       "                                         LCOS            3.313079e+05   \n",
       "                                Output   AC Electricity  1.073568e+03   \n",
       "\n",
       "                                                                       Units  \n",
       "Technology Scenario      Sample Variable Index                                \n",
       "LDES       Base          1      Cost     Cost              USD/kilowatt hour  \n",
       "                                Metric   GHG             gCO2e/kilowatt hour  \n",
       "                                         Jobs              job/kilowatt hour  \n",
       "                                         LCOS              USD/kilowatt hour  \n",
       "                                Output   AC Electricity        kilowatt hour  \n",
       "           High R&D LDES 1      Cost     Cost              USD/kilowatt hour  \n",
       "                                Metric   GHG             gCO2e/kilowatt hour  \n",
       "                                         Jobs              job/kilowatt hour  \n",
       "                                         LCOS              USD/kilowatt hour  \n",
       "                                Output   AC Electricity        kilowatt hour  \n",
       "           Slow R&D LDES 1      Cost     Cost              USD/kilowatt hour  \n",
       "                                Metric   GHG             gCO2e/kilowatt hour  \n",
       "                                         Jobs              job/kilowatt hour  \n",
       "                                         LCOS              USD/kilowatt hour  \n",
       "                                Output   AC Electricity        kilowatt hour  "
      ]
     },
     "execution_count": 18,
     "metadata": {},
     "output_type": "execute_result"
    }
   ],
   "source": [
    "scenario_results.xs(1, level=\"Sample\", drop_level=False)"
   ]
  },
  {
   "cell_type": "markdown",
   "metadata": {},
   "source": [
    "### Save results."
   ]
  },
  {
   "cell_type": "code",
   "execution_count": null,
   "metadata": {},
   "outputs": [],
   "source": [
    "scenario_results.to_csv(\"ldes-scenario.csv\")"
   ]
  },
  {
   "cell_type": "markdown",
   "metadata": {},
   "source": [
    "### Plot GHG metric."
   ]
  },
  {
   "cell_type": "code",
   "execution_count": 19,
   "metadata": {
    "scrolled": false
   },
   "outputs": [
    {
     "data": {
      "image/png": "[encoded data removed]",
      "text/plain": [
       "<Figure size 640x480 with 1 Axes>"
      ]
     },
     "metadata": {},
     "output_type": "display_data"
    }
   ],
   "source": [
    "g = sb.boxplot(\n",
    "    x=\"Scenario\",\n",
    "    y=\"Value\",\n",
    "    data=scenario_results.xs(\n",
    "        (\"Metric\", \"GHG\"),\n",
    "        level=[\"Variable\", \"Index\"]\n",
    "    ).reset_index()[[\"Scenario\", \"Value\"]])\n",
    "g.set(ylabel=\"GHG Footprint [gCO2e / kwh]\")\n",
    "g.set_xticklabels(g.get_xticklabels(), rotation=90);"
   ]
  },
  {
   "cell_type": "markdown",
   "metadata": {},
   "source": [
    "### Plot cost metric."
   ]
  },
  {
   "cell_type": "code",
   "execution_count": 20,
   "metadata": {},
   "outputs": [
    {
     "data": {
      "image/png": "[encoded data removed]",
      "text/plain": [
       "<Figure size 640x480 with 1 Axes>"
      ]
     },
     "metadata": {},
     "output_type": "display_data"
    }
   ],
   "source": [
    "g = sb.boxplot(\n",
    "    x=\"Scenario\",\n",
    "    y=\"Value\",\n",
    "    data=scenario_results.xs(\n",
    "        (\"Metric\", \"LCOS\"),\n",
    "        level=[\"Variable\", \"Index\"]\n",
    "    ).reset_index()[[\"Scenario\", \"Value\"]])\n",
    "g.set(ylabel=\"Dollars\")\n",
    "g.set_xticklabels(g.get_xticklabels(), rotation=90);"
   ]
  },
  {
   "cell_type": "markdown",
   "metadata": {},
   "source": [
    "### Plot employment metric."
   ]
  },
  {
   "cell_type": "code",
   "execution_count": 21,
   "metadata": {},
   "outputs": [
    {
     "data": {
      "image/png": "[encoded data removed]",
      "text/plain": [
       "<Figure size 640x480 with 1 Axes>"
      ]
     },
     "metadata": {},
     "output_type": "display_data"
    }
   ],
   "source": [
    "g = sb.boxplot(\n",
    "    x=\"Scenario\",\n",
    "    y=\"Value\",\n",
    "    data=scenario_results.xs(\n",
    "        (\"Metric\", \"Jobs\"),\n",
    "        level=[\"Variable\", \"Index\"]\n",
    "    ).reset_index()[[\"Scenario\", \"Value\"]])\n",
    "g.set(ylabel=\"Jobs\")\n",
    "g.set_xticklabels(g.get_xticklabels(), rotation=90);"
   ]
  },
  {
   "cell_type": "markdown",
   "metadata": {},
   "source": [
    "## Evaluate the investments in the dataset."
   ]
  },
  {
   "cell_type": "code",
   "execution_count": 22,
   "metadata": {},
   "outputs": [
    {
     "name": "stdout",
     "output_type": "stream",
     "text": [
      "Evaluating LDES\n",
      "Evaluating LDES\n"
     ]
    }
   ],
   "source": [
    "investment_results = investments.evaluate_investments(designs, sample_count=50)"
   ]
  },
  {
   "cell_type": "markdown",
   "metadata": {},
   "source": [
    "### Costs of investments."
   ]
  },
  {
   "cell_type": "code",
   "execution_count": 23,
   "metadata": {},
   "outputs": [
    {
     "data": {
      "text/html": [
       "<div>\n",
       "<style scoped>\n",
       "    .dataframe tbody tr th:only-of-type {\n",
       "        vertical-align: middle;\n",
       "    }\n",
       "\n",
       "    .dataframe tbody tr th {\n",
       "        vertical-align: top;\n",
       "    }\n",
       "\n",
       "    .dataframe thead th {\n",
       "        text-align: right;\n",
       "    }\n",
       "</style>\n",
       "<table border=\"1\" class=\"dataframe\">\n",
       "  <thead>\n",
       "    <tr style=\"text-align: right;\">\n",
       "      <th></th>\n",
       "      <th>Amount</th>\n",
       "    </tr>\n",
       "    <tr>\n",
       "      <th>Investment</th>\n",
       "      <th></th>\n",
       "    </tr>\n",
       "  </thead>\n",
       "  <tbody>\n",
       "    <tr>\n",
       "      <th>Fast Progress</th>\n",
       "      <td>1000000</td>\n",
       "    </tr>\n",
       "    <tr>\n",
       "      <th>No progress</th>\n",
       "      <td>0</td>\n",
       "    </tr>\n",
       "    <tr>\n",
       "      <th>Slow Progress</th>\n",
       "      <td>100000</td>\n",
       "    </tr>\n",
       "  </tbody>\n",
       "</table>\n",
       "</div>"
      ],
      "text/plain": [
       "                Amount\n",
       "Investment            \n",
       "Fast Progress  1000000\n",
       "No progress          0\n",
       "Slow Progress   100000"
      ]
     },
     "execution_count": 23,
     "metadata": {},
     "output_type": "execute_result"
    }
   ],
   "source": [
    "investment_results.amounts"
   ]
  },
  {
   "cell_type": "markdown",
   "metadata": {},
   "source": [
    "### Benefits of investments."
   ]
  },
  {
   "cell_type": "code",
   "execution_count": null,
   "metadata": {},
   "outputs": [],
   "source": [
    "investment_results.metrics.xs(1, level=\"Sample\", drop_level=False)"
   ]
  },
  {
   "cell_type": "code",
   "execution_count": null,
   "metadata": {},
   "outputs": [],
   "source": [
    "investment_results.summary.xs(1, level=\"Sample\", drop_level=False)"
   ]
  },
  {
   "cell_type": "markdown",
   "metadata": {},
   "source": [
    "### Save results."
   ]
  },
  {
   "cell_type": "code",
   "execution_count": null,
   "metadata": {},
   "outputs": [],
   "source": [
    "#investment_results.amounts.to_csv(\"example-investment-amounts.csv\")"
   ]
  },
  {
   "cell_type": "code",
   "execution_count": null,
   "metadata": {},
   "outputs": [],
   "source": [
    "#investment_results.metrics.to_csv(\"example-investment-metrics.csv\")"
   ]
  },
  {
   "cell_type": "markdown",
   "metadata": {},
   "source": [
    "### Plot GHG metric."
   ]
  },
  {
   "cell_type": "code",
   "execution_count": null,
   "metadata": {
    "scrolled": false
   },
   "outputs": [],
   "source": [
    "g = sb.boxplot(\n",
    "    x=\"Investment\",\n",
    "    y=\"Value\",\n",
    "    data=investment_results.metrics.xs(\n",
    "        \"GHG\",\n",
    "        level=\"Index\"\n",
    "    ).reset_index()[[\"Investment\", \"Value\"]])\n",
    "g.set(ylabel=\"GHG Footprint [gCO2e / gH2]\")\n",
    "g.set_xticklabels(g.get_xticklabels(), rotation=90);"
   ]
  },
  {
   "cell_type": "markdown",
   "metadata": {},
   "source": [
    "### Plot cost metric."
   ]
  },
  {
   "cell_type": "code",
   "execution_count": null,
   "metadata": {},
   "outputs": [],
   "source": [
    "g = sb.boxplot(\n",
    "    x=\"Investment\",\n",
    "    y=\"Value\",\n",
    "    data=investment_results.metrics.xs(\n",
    "        \"Cost\",\n",
    "        level=\"Index\"\n",
    "    ).reset_index()[[\"Investment\", \"Value\"]]\n",
    ")\n",
    "g.set(ylabel=\"Cost [USD / gH2]\")\n",
    "g.set_xticklabels(g.get_xticklabels(), rotation=90);"
   ]
  },
  {
   "cell_type": "markdown",
   "metadata": {},
   "source": [
    "### Plot employment metric."
   ]
  },
  {
   "cell_type": "code",
   "execution_count": null,
   "metadata": {},
   "outputs": [],
   "source": [
    "g = sb.boxplot(\n",
    "    x=\"Investment\",\n",
    "    y=\"Value\",\n",
    "    data=investment_results.metrics.xs(\n",
    "        \"Jobs\",\n",
    "        level=\"Index\"\n",
    "    ).reset_index()[[\"Investment\", \"Value\"]])\n",
    "g.set(ylabel=\"Employment [job / gH2]\")\n",
    "g.set_xticklabels(g.get_xticklabels(), rotation=90);"
   ]
  },
  {
   "cell_type": "markdown",
   "metadata": {},
   "source": [
    "## Sensitity analysis."
   ]
  },
  {
   "cell_type": "markdown",
   "metadata": {},
   "source": [
    "### Vary the four efficiencies in the design."
   ]
  },
  {
   "cell_type": "code",
   "execution_count": null,
   "metadata": {},
   "outputs": [],
   "source": [
    "# Four variables are involved.\n",
    "variables = [\n",
    "    (\"Input efficiency\" , \"Water\"      ),\n",
    "    (\"Input efficiency\" , \"Electricity\"),\n",
    "    (\"Output efficiency\", \"Oxygen\"     ),\n",
    "    (\"Output efficiency\", \"Hydrogen\"   ),\n",
    "]"
   ]
  },
  {
   "cell_type": "code",
   "execution_count": null,
   "metadata": {},
   "outputs": [],
   "source": [
    "# Let efficiencies range from 0.75 to 0.975.\n",
    "efficiencies = np.arange(0.750, 1.000, 0.025)\n",
    "efficiencies"
   ]
  },
  {
   "cell_type": "markdown",
   "metadata": {},
   "source": [
    "### Start from the base case."
   ]
  },
  {
   "cell_type": "code",
   "execution_count": null,
   "metadata": {},
   "outputs": [],
   "source": [
    "base_design = designs.designs.xs(\"Base Electrolysis\", level=1, drop_level=False)\n",
    "base_design"
   ]
  },
  {
   "cell_type": "code",
   "execution_count": null,
   "metadata": {},
   "outputs": [],
   "source": [
    "base_parameters = designs.parameters.xs(\"Base Electrolysis\", level=1, drop_level=False)\n",
    "base_parameters"
   ]
  },
  {
   "cell_type": "markdown",
   "metadata": {},
   "source": [
    "### Generate the new scenarios and append them to the previous ones."
   ]
  },
  {
   "cell_type": "code",
   "execution_count": null,
   "metadata": {},
   "outputs": [],
   "source": [
    "sensitivities = deepcopy(designs)\n",
    "sensitivities.designs = sensitivities.designs[0:0]\n",
    "sensitivities.parameters = sensitivities.parameters[0:0]"
   ]
  },
  {
   "cell_type": "code",
   "execution_count": null,
   "metadata": {
    "scrolled": false
   },
   "outputs": [],
   "source": [
    "# Iterate over variables and efficiencies.\n",
    "for variable, index in variables:\n",
    "    for efficiency in efficiencies:\n",
    "\n",
    "        # Name the scenario.\n",
    "        scenario = \"Let \" + variable + \" @ \" + index + \" = \" + str(round(efficiency, 3))\n",
    "        \n",
    "        # Alter the base case.\n",
    "        vary_design = base_design.rename(index={\"Base Electrolysis\" : scenario}, level=1)\n",
    "        vary_design.loc[(\"Simple electrolysis\", scenario, variable, index), \"Value\"] = efficiency\n",
    "        \n",
    "        # Keep the parameters the same.\n",
    "        vary_parameters = base_parameters.rename(index={\"Base Electrolysis\" : scenario}, level=1)\n",
    "        \n",
    "        # Append the results to the existing table of scenarios.\n",
    "        sensitivities.designs = pd.concat([sensitivities.designs, vary_design])\n",
    "        sensitivities.parameters = pd.concat([sensitivities.parameters, vary_parameters])"
   ]
  },
  {
   "cell_type": "markdown",
   "metadata": {},
   "source": [
    "#### Remember to compile the design, since we've added scenarios."
   ]
  },
  {
   "cell_type": "code",
   "execution_count": null,
   "metadata": {},
   "outputs": [],
   "source": [
    "sensitivities.compile()"
   ]
  },
  {
   "cell_type": "markdown",
   "metadata": {},
   "source": [
    "#### See how many rows there are in the tables now."
   ]
  },
  {
   "cell_type": "code",
   "execution_count": null,
   "metadata": {},
   "outputs": [],
   "source": [
    "sensitivities.designs.shape"
   ]
  },
  {
   "cell_type": "code",
   "execution_count": null,
   "metadata": {},
   "outputs": [],
   "source": [
    "sensitivities.parameters.shape"
   ]
  },
  {
   "cell_type": "code",
   "execution_count": null,
   "metadata": {},
   "outputs": [],
   "source": [
    "sensitivities.designs"
   ]
  },
  {
   "cell_type": "markdown",
   "metadata": {},
   "source": [
    "### Compute the results."
   ]
  },
  {
   "cell_type": "code",
   "execution_count": null,
   "metadata": {},
   "outputs": [],
   "source": [
    "results = sensitivities.evaluate_scenarios(1)\n",
    "results"
   ]
  },
  {
   "cell_type": "markdown",
   "metadata": {},
   "source": [
    "### Plot the cost results."
   ]
  },
  {
   "cell_type": "code",
   "execution_count": null,
   "metadata": {},
   "outputs": [],
   "source": [
    "cost_results = results.xs(\"Cost\", level=\"Variable\").reset_index()[[\"Scenario\", \"Value\"]]"
   ]
  },
  {
   "cell_type": "code",
   "execution_count": null,
   "metadata": {},
   "outputs": [],
   "source": [
    "cost_results[0:10]"
   ]
  },
  {
   "cell_type": "code",
   "execution_count": null,
   "metadata": {},
   "outputs": [],
   "source": [
    "cost_results[\"Variable\"  ] = cost_results[\"Scenario\"].apply(lambda x: re.sub(r'^Let (.*) @ (.*) =.*$', '\\\\1[\\\\2]', x))\n",
    "cost_results[\"Efficiency\"] = cost_results[\"Scenario\"].apply(lambda x: float(re.sub(r'^.*= (.*)$', '\\\\1', x)))\n",
    "cost_results[\"Cost [USD/mole]\"] = cost_results[\"Value\"]"
   ]
  },
  {
   "cell_type": "code",
   "execution_count": null,
   "metadata": {},
   "outputs": [],
   "source": [
    "cost_results = cost_results[[\"Variable\", \"Efficiency\", \"Cost [USD/mole]\"]]\n",
    "cost_results[0:10]"
   ]
  },
  {
   "cell_type": "code",
   "execution_count": null,
   "metadata": {
    "scrolled": false
   },
   "outputs": [],
   "source": [
    "# Here is a really simple plot.\n",
    "cost_results.plot(\n",
    "    x=\"Efficiency\",\n",
    "    y=\"Cost [USD/mole]\",\n",
    "    c=cost_results[\"Variable\"].apply(lambda v: {\n",
    "        \"Input efficiency[Water]\"       : \"blue\"  ,\n",
    "        \"Input efficiency[Electricity]\" : \"orange\",\n",
    "        \"Output efficiency[Oxygen]\"     : \"green\" ,\n",
    "        \"Output efficiency[Hydrogen]\"   : \"red\"   ,\n",
    "    }[v]),\n",
    "    kind=\"scatter\"\n",
    ")"
   ]
  }
 ],
 "metadata": {
  "kernelspec": {
   "display_name": "Python 3 (ipykernel)",
   "language": "python",
   "name": "python3"
  },
  "language_info": {
   "codemirror_mode": {
    "name": "ipython",
    "version": 3
   },
   "file_extension": ".py",
   "mimetype": "text/x-python",
   "name": "python",
   "nbconvert_exporter": "python",
   "pygments_lexer": "ipython3",
   "version": "3.9.16"
  }
 },
 "nbformat": 4,
 "nbformat_minor": 2
}
