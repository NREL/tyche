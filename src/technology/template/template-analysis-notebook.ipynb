{
 "cells": [
  {
   "cell_type": "markdown",
   "metadata": {},
   "source": [
    "# Analysis Notebook for Template Technology"
   ]
  },
  {
   "cell_type": "code",
   "execution_count": null,
   "metadata": {},
   "outputs": [],
   "source": [
    "import os\n",
    "import sys\n",
    "\n",
    "import numpy             as np\n",
    "import matplotlib.pyplot as pl\n",
    "import pandas            as pd\n",
    "import seaborn           as sb\n",
    "\n",
    "sys.path.insert(0, os.path.abspath(\"../../../src\"))\n",
    "\n",
    "import tyche             as ty"
   ]
  },
  {
   "cell_type": "markdown",
   "metadata": {},
   "source": [
    "## Load data and compile technology models\n",
    "\n",
    "Every decision context analysis in Tyche will begin with three commands: instantiate the `Designs` class, instantiate the `Investments` class, and compile the technology model functions and data in the `Designs` class. These commands read in and validate the necessary datasets, locate and verify the technology models, and prepare the technology models and data for use in further analyses.\n",
    "\n",
    "Every decision context has a single Excel workbook containing seven datasets, one per sheet. In no particular order, these datasets are *indices*, *functions*, *designs*, *parameters*, *results*, *tranches*, and *investments*. When the `Designs` and `Investments` classes are instantiated in the code block immediately below, these datasets are automatically checked for internal consistency and completeness. If any of the datasets contain errors or are missing information, the code block below will fail with error messages detailing what data needs to be corrected and in which datasets.\n",
    "\n",
    "After instantiating the `Designs` class, the `compile` method further processes the numerical datasets to identify any probability distributions in the data and ready them for use in ensemble simulations."
   ]
  },
  {
   "cell_type": "code",
   "execution_count": null,
   "metadata": {
    "scrolled": false
   },
   "outputs": [],
   "source": [
    "designs = ty.Designs(path = '.',\n",
    "                     name = 'template.xlsx')\n",
    "\n",
    "investments = ty.Investments(path = '.',\n",
    "                             name = 'template.xlsx')\n",
    "\n",
    "designs.compile()"
   ]
  },
  {
   "cell_type": "markdown",
   "metadata": {},
   "source": [
    "## Evaluate the Scenarios\n",
    "\n",
    "The `evaluate_scenarios` method in the code block below performs ensemble simulation (Monte Carlo) with the number of simulations defined with the `sample_count` parameter. For every simulation, values are sampled from all probability distributions present in the input datasets and are used to calculate corresponding Metric values as well as the built-in Cost. Results of these simulations are returned as shown in the second code block below."
   ]
  },
  {
   "cell_type": "code",
   "execution_count": null,
   "metadata": {
    "scrolled": false
   },
   "outputs": [],
   "source": [
    "scenario_results = designs.evaluate_scenarios(sample_count=100)"
   ]
  },
  {
   "cell_type": "code",
   "execution_count": null,
   "metadata": {},
   "outputs": [],
   "source": [
    "scenario_results.xs(1, level=\"Sample\", drop_level=False)"
   ]
  },
  {
   "cell_type": "markdown",
   "metadata": {},
   "source": [
    "Ensemble simulation results can be further filtered down to show only aggregate results for a single Scenario. This is done in the code block below, in which the complete set of results is filtered down to only the Current State scenario and then average (mean) values are calculated for every Index."
   ]
  },
  {
   "cell_type": "code",
   "execution_count": null,
   "metadata": {},
   "outputs": [],
   "source": [
    "scenario_results.xs(\n",
    "    'Current State',\n",
    "    level='Scenario',\n",
    "    drop_level=False\n",
    ").groupby(\n",
    "    ['Technology', 'Index']\n",
    ").mean(\n",
    "    numeric_only=True\n",
    ")"
   ]
  },
  {
   "cell_type": "markdown",
   "metadata": {},
   "source": [
    "Here we demonstrate use of the Seaborn visualization package to compare the metric outcomes of each Scenario. Each of the four plots below shows a different metric, quantified as the difference between the Scenario's metric values (one value per simulation) and the average Current State metric value. The plots are put in order of increasing complexity of information presented."
   ]
  },
  {
   "cell_type": "code",
   "execution_count": null,
   "metadata": {},
   "outputs": [],
   "source": [
    "g = sb.boxplot(\n",
    "    x=\"Scenario\",\n",
    "    y=\"Value\",\n",
    "    hue=\"Technology\",\n",
    "    data=scenario_results.xs(\n",
    "        (\"Metric\", \"Delta Labor\"),\n",
    "        level=[\"Variable\", \"Index\"]\n",
    "    ).reset_index()[[\"Technology\", \"Scenario\", \"Value\"]],\n",
    "\n",
    "    order=[\n",
    "        \"All Components Slow Progress\"      ,\n",
    "        \"All Components Moderate Progress\"  ,\n",
    "        \"All Components Fast Progress\"      ,\n",
    "        \"Efficiency Slow Progress\"    ,\n",
    "        \"Efficiency Moderate Progress\",\n",
    "        \"Efficiency Fast Progress\"    ,\n",
    "        \"Peripherals Slow Progress\"         ,\n",
    "        \"Peripherals Moderate Progress\"     ,\n",
    "        \"Peripherals Fast Progress\"         ,\n",
    "    ]\n",
    ")\n",
    "g.set(ylabel=\"Change in Labor per Unit F\\nRelative to Current State\")\n",
    "g.set_xticklabels(g.get_xticklabels(), rotation=30, ha='right', rotation_mode='anchor')\n",
    "g.axhline(y=0, linestyle=\":\", label='Current State')\n",
    "g.legend()"
   ]
  },
  {
   "cell_type": "code",
   "execution_count": null,
   "metadata": {},
   "outputs": [],
   "source": [
    "g = sb.boxenplot(\n",
    "    x=\"Scenario\",\n",
    "    y=\"Value\",\n",
    "    hue=\"Technology\",\n",
    "    scale=\"area\",\n",
    "    data=scenario_results.xs(\n",
    "        (\"Metric\", \"Delta System Cost\"),\n",
    "        level=[\"Variable\", \"Index\"]\n",
    "    ).reset_index()[[\"Technology\", \"Scenario\", \"Value\"]],\n",
    "    order=[\n",
    "        \"All Components Slow Progress\"      ,\n",
    "        \"All Components Moderate Progress\"  ,\n",
    "        \"All Components Fast Progress\"      ,\n",
    "        \"Efficiency Slow Progress\"    ,\n",
    "        \"Efficiency Moderate Progress\",\n",
    "        \"Efficiency Fast Progress\"    ,\n",
    "        \"Peripherals Slow Progress\"         ,\n",
    "        \"Peripherals Moderate Progress\"     ,\n",
    "        \"Peripherals Fast Progress\"         ,\n",
    "    ]\n",
    ")\n",
    "g.set(ylabel=\"Change in Annualized System Cost per Unit F\\nRelative to Current State\")\n",
    "g.set_xticklabels(g.get_xticklabels(), rotation=30, ha='right', rotation_mode='anchor')\n",
    "g.axhline(y=0, linestyle=\":\", label='Current State')\n",
    "g.legend()"
   ]
  },
  {
   "cell_type": "code",
   "execution_count": null,
   "metadata": {
    "scrolled": false
   },
   "outputs": [],
   "source": [
    "g = sb.violinplot(\n",
    "    x=\"Scenario\",\n",
    "    y=\"Value\",\n",
    "    hue=\"Technology\",\n",
    "    dodge=True,\n",
    "    cut=0,\n",
    "    data=scenario_results.xs(\n",
    "        (\"Metric\", \"Delta Overall Efficiency\"),\n",
    "        level=[\"Variable\", \"Index\"]\n",
    "    ).reset_index()[[\"Technology\", \"Scenario\", \"Value\"]],\n",
    "    order=[\n",
    "        \"All Components Slow Progress\"      ,\n",
    "        \"All Components Moderate Progress\"  ,\n",
    "        \"All Components Fast Progress\"      ,\n",
    "        \"Efficiency Slow Progress\"    ,\n",
    "        \"Efficiency Moderate Progress\",\n",
    "        \"Efficiency Fast Progress\"    ,\n",
    "        \"Peripherals Slow Progress\"         ,\n",
    "        \"Peripherals Moderate Progress\"     ,\n",
    "        \"Peripherals Fast Progress\"         ,\n",
    "    ]\n",
    ")\n",
    "g.set(ylabel=\"Change in Overall Efficiency\\nRelative to Current State\")\n",
    "g.set_xticklabels(g.get_xticklabels(), rotation=30, ha='right', rotation_mode='anchor')\n",
    "g.axhline(y=0, linestyle=\":\", label='Current State')\n",
    "g.legend()"
   ]
  },
  {
   "cell_type": "code",
   "execution_count": null,
   "metadata": {
    "scrolled": false
   },
   "outputs": [],
   "source": [
    "g = sb.swarmplot(\n",
    "    x=\"Scenario\",\n",
    "    y=\"Value\",\n",
    "    hue=\"Technology\",\n",
    "    data=scenario_results.xs(\n",
    "        (\"Metric\", \"Delta Environment\"),\n",
    "        level=[\"Variable\", \"Index\"]\n",
    "    ).reset_index()[[\"Technology\", \"Scenario\", \"Value\"]],\n",
    "    dodge=True,\n",
    "    size=1.5,\n",
    "    order=[\n",
    "        \"All Components Slow Progress\"      ,\n",
    "        \"All Components Moderate Progress\"  ,\n",
    "        \"All Components Fast Progress\"      ,\n",
    "        \"Efficiency Slow Progress\"    ,\n",
    "        \"Efficiency Moderate Progress\",\n",
    "        \"Efficiency Fast Progress\"    ,\n",
    "        \"Peripherals Slow Progress\"         ,\n",
    "        \"Peripherals Moderate Progress\"     ,\n",
    "        \"Peripherals Fast Progress\"         ,\n",
    "    ]\n",
    ")\n",
    "g.set(ylabel=\"Change in Environmental Impact per Unit F\\nRelative to Current State\")\n",
    "g.set_xticklabels(g.get_xticklabels(), rotation=30, ha='right', rotation_mode='anchor')\n",
    "g.axhline(y=0, linestyle=\":\", label='Current State')\n",
    "g.legend()"
   ]
  },
  {
   "cell_type": "markdown",
   "metadata": {},
   "source": [
    "## Evaluate the Investments"
   ]
  },
  {
   "cell_type": "code",
   "execution_count": null,
   "metadata": {},
   "outputs": [],
   "source": [
    "investment_results = investments.evaluate_investments(designs, sample_count=100)"
   ]
  },
  {
   "cell_type": "markdown",
   "metadata": {},
   "source": [
    "### Costs of investments"
   ]
  },
  {
   "cell_type": "code",
   "execution_count": null,
   "metadata": {},
   "outputs": [],
   "source": [
    "investment_results.amounts"
   ]
  },
  {
   "cell_type": "code",
   "execution_count": null,
   "metadata": {},
   "outputs": [],
   "source": [
    "investment_results.summary.xs(1, level=\"Sample\", drop_level=False)"
   ]
  },
  {
   "cell_type": "code",
   "execution_count": null,
   "metadata": {
    "scrolled": false
   },
   "outputs": [],
   "source": [
    "g = sb.boxplot(\n",
    "    x=\"Investment\",\n",
    "    y=\"Value\",\n",
    "    hue=\"Technology\",\n",
    "    data=investment_results.metrics.xs(\n",
    "        \"Delta Overall Efficiency\",\n",
    "        level=\"Index\"\n",
    "    ).groupby(\n",
    "        [\"Technology\",\"Investment\", \"Sample\"]\n",
    "    ).sum(\n",
    "        numeric_only=True\n",
    "    ).reset_index()[[\"Technology\",\"Investment\", \"Value\"]],\n",
    "    order=[\n",
    "        \"Low Budget, All Categories\"      ,\n",
    "        \"Low Budget, Components Only\"  ,\n",
    "        \"Medium Budget, All Categories\"      ,\n",
    "        \"Medium Budget, Components Only\"    ,\n",
    "        \"High Budget, All Categories\",\n",
    "        \"High Budget, Components Only\"\n",
    "    ]\n",
    ")\n",
    "g.set(ylabel=\"Overall Efficiency\")\n",
    "g.set_xticklabels(g.get_xticklabels(), rotation=30, ha='right', rotation_mode='anchor')\n",
    "g.axhline(y=0, linestyle=\":\", label='Current State')\n",
    "g.legend()"
   ]
  },
  {
   "cell_type": "code",
   "execution_count": null,
   "metadata": {},
   "outputs": [],
   "source": [
    "g = sb.boxenplot(\n",
    "    x=\"Investment\",\n",
    "    y=\"Value\",\n",
    "    hue=\"Technology\",\n",
    "    data=investment_results.metrics.xs(\n",
    "        \"Delta Environment\",\n",
    "        level=\"Index\"\n",
    "    ).groupby(\n",
    "        [\"Technology\",\"Investment\", \"Sample\"]\n",
    "    ).sum(\n",
    "        numeric_only=True\n",
    "    ).reset_index()[[\"Technology\",\"Investment\", \"Value\"]],\n",
    "    order=[\n",
    "        \"Low Budget, All Categories\"      ,\n",
    "        \"Low Budget, Components Only\"  ,\n",
    "        \"Medium Budget, All Categories\"      ,\n",
    "        \"Medium Budget, Components Only\"    ,\n",
    "        \"High Budget, All Categories\",\n",
    "        \"High Budget, Components Only\"\n",
    "    ]\n",
    ")\n",
    "g.set(ylabel=\"Environmental Impact per Unit F\")\n",
    "g.set_xticklabels(g.get_xticklabels(), rotation=30, ha='right', rotation_mode='anchor')\n",
    "g.axhline(y=0, linestyle=\":\", label='Current State')\n",
    "g.legend()"
   ]
  },
  {
   "cell_type": "code",
   "execution_count": null,
   "metadata": {},
   "outputs": [],
   "source": [
    "g = sb.violinplot(\n",
    "    x=\"Investment\",\n",
    "    y=\"Value\",\n",
    "    hue=\"Technology\",\n",
    "    cut=0,\n",
    "    data=investment_results.metrics.xs(\n",
    "        \"Delta Labor\",\n",
    "        level=\"Index\"\n",
    "    ).groupby(\n",
    "        [\"Technology\",\"Investment\", \"Sample\"]\n",
    "    ).sum(\n",
    "        numeric_only=True\n",
    "    ).reset_index()[[\"Technology\",\"Investment\", \"Value\"]],\n",
    "    order=[\n",
    "        \"Low Budget, All Categories\"      ,\n",
    "        \"Low Budget, Components Only\"  ,\n",
    "        \"Medium Budget, All Categories\"      ,\n",
    "        \"Medium Budget, Components Only\"    ,\n",
    "        \"High Budget, All Categories\",\n",
    "        \"High Budget, Components Only\"\n",
    "    ]\n",
    ")\n",
    "g.set(ylabel=\"Labor per Unit F\")\n",
    "g.set_xticklabels(g.get_xticklabels(), rotation=30, ha='right', rotation_mode='anchor')\n",
    "g.axhline(y=0, linestyle=\":\", label='Current State')\n",
    "g.legend()"
   ]
  },
  {
   "cell_type": "code",
   "execution_count": null,
   "metadata": {},
   "outputs": [],
   "source": [
    "g = sb.swarmplot(\n",
    "    x=\"Investment\",\n",
    "    y=\"Value\",\n",
    "    hue=\"Technology\",\n",
    "    size=2,\n",
    "    dodge=True,\n",
    "    data=investment_results.metrics.xs(\n",
    "        \"Delta System Cost\",\n",
    "        level=\"Index\"\n",
    "    ).groupby(\n",
    "        [\"Technology\",\"Investment\", \"Sample\"]\n",
    "    ).sum(\n",
    "        numeric_only=True\n",
    "    ).reset_index()[[\"Technology\",\"Investment\", \"Value\"]],\n",
    "    order=[\n",
    "        \"Low Budget, All Categories\"      ,\n",
    "        \"Low Budget, Components Only\"  ,\n",
    "        \"Medium Budget, All Categories\"      ,\n",
    "        \"Medium Budget, Components Only\"    ,\n",
    "        \"High Budget, All Categories\",\n",
    "        \"High Budget, Components Only\"\n",
    "    ]\n",
    ")\n",
    "g.set(ylabel=\"Annualized System Cost per Unit F\")\n",
    "g.set_xticklabels(g.get_xticklabels(), rotation=30, ha='right', rotation_mode='anchor')\n",
    "g.axhline(y=0, linestyle=\":\", label='Current State')\n",
    "g.legend()"
   ]
  },
  {
   "cell_type": "markdown",
   "metadata": {},
   "source": [
    "## Multi-objective decision analysis."
   ]
  },
  {
   "cell_type": "markdown",
   "metadata": {},
   "source": [
    "### Compute costs and metrics for tranches."
   ]
  },
  {
   "cell_type": "markdown",
   "metadata": {},
   "source": [
    "Tranches are atomic units for building investment portfolios. Evaluate all of the tranches, so we can assemble them into investments (portfolios)."
   ]
  },
  {
   "cell_type": "code",
   "execution_count": null,
   "metadata": {},
   "outputs": [],
   "source": [
    "tranche_results = investments.evaluate_tranches(designs, sample_count=100)"
   ]
  },
  {
   "cell_type": "markdown",
   "metadata": {},
   "source": [
    "Display the cost of each tranche."
   ]
  },
  {
   "cell_type": "code",
   "execution_count": null,
   "metadata": {},
   "outputs": [],
   "source": [
    "tranche_results.amounts"
   ]
  },
  {
   "cell_type": "markdown",
   "metadata": {},
   "source": [
    "Display the metrics for each tranche."
   ]
  },
  {
   "cell_type": "code",
   "execution_count": null,
   "metadata": {},
   "outputs": [],
   "source": [
    "tranche_results.summary"
   ]
  },
  {
   "cell_type": "markdown",
   "metadata": {},
   "source": [
    "### Fit a response surface to the results."
   ]
  },
  {
   "cell_type": "markdown",
   "metadata": {},
   "source": [
    "The response surface interpolates between the discrete set of cases provided in the expert elicitation. This allows us to study funding levels intermediate between those scenarios."
   ]
  },
  {
   "cell_type": "code",
   "execution_count": null,
   "metadata": {},
   "outputs": [],
   "source": [
    "evaluator = ty.Evaluator(tranche_results)"
   ]
  },
  {
   "cell_type": "markdown",
   "metadata": {},
   "source": [
    "Here are the categories of investment and the maximum amount that could be invested in each:"
   ]
  },
  {
   "cell_type": "code",
   "execution_count": null,
   "metadata": {},
   "outputs": [],
   "source": [
    "evaluator.max_amount"
   ]
  },
  {
   "cell_type": "markdown",
   "metadata": {},
   "source": [
    "#### Example interpolation."
   ]
  },
  {
   "cell_type": "markdown",
   "metadata": {},
   "source": [
    "Let's evaluate the case where each category is invested in at half of its maximum amount."
   ]
  },
  {
   "cell_type": "code",
   "execution_count": null,
   "metadata": {},
   "outputs": [],
   "source": [
    "example_investments = evaluator.max_amount / 2\n",
    "example_investments"
   ]
  },
  {
   "cell_type": "code",
   "execution_count": null,
   "metadata": {},
   "outputs": [],
   "source": [
    "evaluator.evaluate(example_investments)"
   ]
  },
  {
   "cell_type": "markdown",
   "metadata": {},
   "source": [
    "Let's evaluate the mean instead of outputing the whole distribution."
   ]
  },
  {
   "cell_type": "code",
   "execution_count": null,
   "metadata": {},
   "outputs": [],
   "source": [
    "evaluator.evaluate_statistic(example_investments, np.mean)"
   ]
  },
  {
   "cell_type": "markdown",
   "metadata": {},
   "source": [
    "Here is the standard deviation:"
   ]
  },
  {
   "cell_type": "code",
   "execution_count": null,
   "metadata": {},
   "outputs": [],
   "source": [
    "evaluator.evaluate_statistic(example_investments, np.std)"
   ]
  },
  {
   "cell_type": "markdown",
   "metadata": {},
   "source": [
    "A risk-averse decision maker might be interested in the 10% percentile:"
   ]
  },
  {
   "cell_type": "code",
   "execution_count": null,
   "metadata": {},
   "outputs": [],
   "source": [
    "evaluator.evaluate_statistic(example_investments, lambda x: np.quantile(x, 0.1))"
   ]
  }
 ],
 "metadata": {
  "kernelspec": {
   "display_name": "Python 3 (ipykernel)",
   "language": "python",
   "name": "python3"
  },
  "language_info": {
   "codemirror_mode": {
    "name": "ipython",
    "version": 3
   },
   "file_extension": ".py",
   "mimetype": "text/x-python",
   "name": "python",
   "nbconvert_exporter": "python",
   "pygments_lexer": "ipython3",
   "version": "3.10.4"
  }
 },
 "nbformat": 4,
 "nbformat_minor": 2
}
