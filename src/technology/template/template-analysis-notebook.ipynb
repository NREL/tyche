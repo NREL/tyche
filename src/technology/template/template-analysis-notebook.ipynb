{
 "cells": [
  {
   "cell_type": "markdown",
   "metadata": {},
   "source": [
    "# Analysis Notebook for Template Technology"
   ]
  },
  {
   "cell_type": "code",
   "execution_count": null,
   "metadata": {},
   "outputs": [],
   "source": [
    "import os\n",
    "import sys\n",
    "\n",
    "import numpy             as np\n",
    "import matplotlib.pyplot as pl\n",
    "import pandas            as pd\n",
    "import seaborn           as sb\n",
    "\n",
    "sys.path.insert(0, os.path.abspath(\"../../../src\"))\n",
    "\n",
    "import tyche             as ty"
   ]
  },
  {
   "cell_type": "markdown",
   "metadata": {},
   "source": [
    "## Load data"
   ]
  },
  {
   "cell_type": "code",
   "execution_count": null,
   "metadata": {
    "scrolled": false
   },
   "outputs": [],
   "source": [
    "designs = ty.Designs(path = '.',\n",
    "                     name = 'template.xlsx')\n",
    "investments = ty.Investments(path = '.',\n",
    "                             name = 'template.xlsx')"
   ]
  },
  {
   "cell_type": "markdown",
   "metadata": {},
   "source": [
    "### Compile the production and metric functions for each technology in the dataset."
   ]
  },
  {
   "cell_type": "code",
   "execution_count": null,
   "metadata": {},
   "outputs": [],
   "source": [
    "designs.compile()"
   ]
  },
  {
   "cell_type": "markdown",
   "metadata": {},
   "source": [
    "## Evaluate the scenarios in the dataset."
   ]
  },
  {
   "cell_type": "code",
   "execution_count": null,
   "metadata": {
    "scrolled": false
   },
   "outputs": [],
   "source": [
    "scenario_results = designs.evaluate_scenarios(sample_count=10)"
   ]
  },
  {
   "cell_type": "code",
   "execution_count": null,
   "metadata": {},
   "outputs": [],
   "source": [
    "scenario_results.xs(1, level=\"Sample\", drop_level=False)"
   ]
  },
  {
   "cell_type": "code",
   "execution_count": null,
   "metadata": {
    "scrolled": false
   },
   "outputs": [],
   "source": [
    "g = sb.violinplot(\n",
    "    x=\"Scenario\",\n",
    "    y=\"Value\",\n",
    "    hue=\"Technology\",\n",
    "    data=scenario_results.xs(\n",
    "        (\"Metric\", \"Overall Efficiency\"),\n",
    "        level=[\"Variable\", \"Index\"]\n",
    "    ).reset_index()[[\"Technology\", \"Scenario\", \"Value\"]],\n",
    "    dodge=False,\n",
    "    order=[\n",
    "        \"Current State\"              ,\n",
    "        \"All Components Slow Progress\"      ,\n",
    "        \"All Components Moderate Progress\"  ,\n",
    "        \"All Components Fast Progress\"      ,\n",
    "        \"Efficiency Slow Progress\"    ,\n",
    "        \"Efficiency Moderate Progress\",\n",
    "        \"Efficiency Fast Progress\"    ,\n",
    "        \"Peripherals Slow Progress\"         ,\n",
    "        \"Peripherals Moderate Progress\"     ,\n",
    "        \"Peripherals Fast Progress\"         ,\n",
    "    ]\n",
    ")\n",
    "g.set(ylabel=\"Overall Efficiency\")\n",
    "g.set_xticklabels(g.get_xticklabels(), rotation=30, ha='right', rotation_mode='anchor')"
   ]
  },
  {
   "cell_type": "code",
   "execution_count": null,
   "metadata": {},
   "outputs": [],
   "source": [
    "g = sb.catplot(\n",
    "    data=scenario_results.xs(\n",
    "        (\"Metric\", \"Overall Efficiency\"),\n",
    "        level=[\"Variable\", \"Index\"]\n",
    "    ).reset_index(\n",
    "    )[[\"Technology\", \"Scenario\", \"Value\"]],    \n",
    "    x=\"Scenario\",\n",
    "    y=\"Value\",\n",
    "    col=\"Technology\",\n",
    "    kind=\"violin\",    \n",
    "    order=[\n",
    "        \"Current State\"              ,\n",
    "        \"All Components Slow Progress\"      ,\n",
    "        \"All Components Moderate Progress\"  ,\n",
    "        \"All Components Fast Progress\"      ,\n",
    "        \"Efficiency Slow Progress\"    ,\n",
    "        \"Efficiency Moderate Progress\",\n",
    "        \"Efficiency Fast Progress\"    ,\n",
    "        \"Peripherals Slow Progress\"         ,\n",
    "        \"Peripherals Moderate Progress\"     ,\n",
    "        \"Peripherals Fast Progress\"         ,\n",
    "    ]\n",
    ")\n",
    "g.set(ylabel=\"Overall Efficiency\")\n",
    "g.set_xticklabels(rotation=30, ha='right', rotation_mode='anchor')"
   ]
  },
  {
   "cell_type": "code",
   "execution_count": null,
   "metadata": {},
   "outputs": [],
   "source": [
    "g = sb.violinplot(\n",
    "    x=\"Scenario\",\n",
    "    y=\"Value\",\n",
    "    hue=\"Technology\",\n",
    "    data=scenario_results.xs(\n",
    "        (\"Metric\", \"Labor\"),\n",
    "        level=[\"Variable\", \"Index\"]\n",
    "    ).reset_index()[[\"Technology\", \"Scenario\", \"Value\"]],\n",
    "    dodge=False,\n",
    "    order=[\n",
    "        \"Current State\"              ,\n",
    "        \"All Components Slow Progress\"      ,\n",
    "        \"All Components Moderate Progress\"  ,\n",
    "        \"All Components Fast Progress\"      ,\n",
    "        \"Efficiency Slow Progress\"    ,\n",
    "        \"Efficiency Moderate Progress\",\n",
    "        \"Efficiency Fast Progress\"    ,\n",
    "        \"Peripherals Slow Progress\"         ,\n",
    "        \"Peripherals Moderate Progress\"     ,\n",
    "        \"Peripherals Fast Progress\"         ,\n",
    "    ]\n",
    ")\n",
    "g.set(ylabel=\"Labor per Unit F\")\n",
    "g.set_xticklabels(g.get_xticklabels(), rotation=30, ha='right', rotation_mode='anchor')"
   ]
  },
  {
   "cell_type": "code",
   "execution_count": null,
   "metadata": {},
   "outputs": [],
   "source": [
    "g = sb.violinplot(\n",
    "    x=\"Scenario\",\n",
    "    y=\"Value\",\n",
    "    hue=\"Technology\",\n",
    "    data=scenario_results.xs(\n",
    "        (\"Metric\", \"System Cost\"),\n",
    "        level=[\"Variable\", \"Index\"]\n",
    "    ).reset_index()[[\"Technology\", \"Scenario\", \"Value\"]],\n",
    "    dodge=False,\n",
    "    order=[\n",
    "        \"Current State\"              ,\n",
    "        \"All Components Slow Progress\"      ,\n",
    "        \"All Components Moderate Progress\"  ,\n",
    "        \"All Components Fast Progress\"      ,\n",
    "        \"Efficiency Slow Progress\"    ,\n",
    "        \"Efficiency Moderate Progress\",\n",
    "        \"Efficiency Fast Progress\"    ,\n",
    "        \"Peripherals Slow Progress\"         ,\n",
    "        \"Peripherals Moderate Progress\"     ,\n",
    "        \"Peripherals Fast Progress\"         ,\n",
    "    ]\n",
    ")\n",
    "g.set(ylabel=\"Annualized System Cost per Unit F\")\n",
    "g.set_xticklabels(g.get_xticklabels(), rotation=30, ha='right', rotation_mode='anchor')"
   ]
  },
  {
   "cell_type": "code",
   "execution_count": null,
   "metadata": {},
   "outputs": [],
   "source": [
    "g = sb.violinplot(\n",
    "    x=\"Scenario\",\n",
    "    y=\"Value\",\n",
    "    hue=\"Technology\",\n",
    "    data=scenario_results.xs(\n",
    "        (\"Metric\", \"Environment\"),\n",
    "        level=[\"Variable\", \"Index\"]\n",
    "    ).reset_index()[[\"Technology\", \"Scenario\", \"Value\"]],\n",
    "    dodge=False,\n",
    "    order=[\n",
    "        \"Current State\"              ,\n",
    "        \"All Components Slow Progress\"      ,\n",
    "        \"All Components Moderate Progress\"  ,\n",
    "        \"All Components Fast Progress\"      ,\n",
    "        \"Efficiency Slow Progress\"    ,\n",
    "        \"Efficiency Moderate Progress\",\n",
    "        \"Efficiency Fast Progress\"    ,\n",
    "        \"Peripherals Slow Progress\"         ,\n",
    "        \"Peripherals Moderate Progress\"     ,\n",
    "        \"Peripherals Fast Progress\"         ,\n",
    "    ]\n",
    ")\n",
    "g.set(ylabel=\"Environmental Impact per Unit F\")\n",
    "g.set_xticklabels(g.get_xticklabels(), rotation=30, ha='right', rotation_mode='anchor')"
   ]
  },
  {
   "cell_type": "markdown",
   "metadata": {},
   "source": [
    "## Evaluate the investments in the dataset."
   ]
  },
  {
   "cell_type": "code",
   "execution_count": null,
   "metadata": {},
   "outputs": [],
   "source": [
    "investment_results = investments.evaluate_investments(designs, sample_count=100)"
   ]
  },
  {
   "cell_type": "markdown",
   "metadata": {},
   "source": [
    "### Costs of investments - these calculations are not set up correctly"
   ]
  },
  {
   "cell_type": "code",
   "execution_count": null,
   "metadata": {},
   "outputs": [],
   "source": [
    "investment_results.amounts"
   ]
  },
  {
   "cell_type": "markdown",
   "metadata": {},
   "source": [
    "### Benefits of investments."
   ]
  },
  {
   "cell_type": "code",
   "execution_count": null,
   "metadata": {},
   "outputs": [],
   "source": [
    "investment_results.metrics.xs(1, level=\"Sample\", drop_level=False)"
   ]
  },
  {
   "cell_type": "code",
   "execution_count": null,
   "metadata": {},
   "outputs": [],
   "source": [
    "investment_results.summary.xs(1, level=\"Sample\", drop_level=False)"
   ]
  },
  {
   "cell_type": "code",
   "execution_count": null,
   "metadata": {
    "scrolled": false
   },
   "outputs": [],
   "source": [
    "g = sb.boxplot(\n",
    "    x=\"Investment\",\n",
    "    y=\"Value\",\n",
    "    data=investment_results.metrics.xs(\n",
    "        \"Overall Efficiency\",\n",
    "        level=\"Index\"\n",
    "    ).groupby([\"Investment\", \"Sample\"]).sum(numeric_only=True).reset_index()[[\"Investment\", \"Value\"]],\n",
    "    order=[\n",
    "        \"Low Budget, All Categories\"      ,\n",
    "        \"Low Budget, Components Only\"  ,\n",
    "        \"Medium Budget, All Categories\"      ,\n",
    "        \"Medium Budget, Components Only\"    ,\n",
    "        \"High Budget, All Categories\",\n",
    "        \"High Budget, Components Only\"\n",
    "    ]\n",
    ")\n",
    "g.set(ylabel=\"Overall Efficiency\")\n",
    "g.set_xticklabels(g.get_xticklabels(), rotation=30, ha='right', rotation_mode='anchor');"
   ]
  },
  {
   "cell_type": "code",
   "execution_count": null,
   "metadata": {},
   "outputs": [],
   "source": [
    "g = sb.boxplot(\n",
    "    x=\"Investment\",\n",
    "    y=\"Value\",\n",
    "    data=investment_results.metrics.xs(\n",
    "        \"Environment\",\n",
    "        level=\"Index\"\n",
    "    ).groupby([\"Investment\", \"Sample\"]).sum(numeric_only=True).reset_index()[[\"Investment\", \"Value\"]],\n",
    "    order=[\n",
    "        \"Low Budget, All Categories\"      ,\n",
    "        \"Low Budget, Components Only\"  ,\n",
    "        \"Medium Budget, All Categories\"      ,\n",
    "        \"Medium Budget, Components Only\"    ,\n",
    "        \"High Budget, All Categories\",\n",
    "        \"High Budget, Components Only\"\n",
    "    ]\n",
    ")\n",
    "g.set(ylabel=\"Environmental Impact per Unit F\")\n",
    "g.set_xticklabels(g.get_xticklabels(), rotation=30, ha='right', rotation_mode='anchor');"
   ]
  },
  {
   "cell_type": "code",
   "execution_count": null,
   "metadata": {},
   "outputs": [],
   "source": [
    "g = sb.boxplot(\n",
    "    x=\"Investment\",\n",
    "    y=\"Value\",\n",
    "    data=investment_results.metrics.xs(\n",
    "        \"Labor\",\n",
    "        level=\"Index\"\n",
    "    ).groupby([\"Investment\", \"Sample\"]).sum(numeric_only=True).reset_index()[[\"Investment\", \"Value\"]],\n",
    "    order=[\n",
    "        \"Low Budget, All Categories\"      ,\n",
    "        \"Low Budget, Components Only\"  ,\n",
    "        \"Medium Budget, All Categories\"      ,\n",
    "        \"Medium Budget, Components Only\"    ,\n",
    "        \"High Budget, All Categories\",\n",
    "        \"High Budget, Components Only\"\n",
    "    ]\n",
    ")\n",
    "g.set(ylabel=\"Labor per Unit F\")\n",
    "g.set_xticklabels(g.get_xticklabels(), rotation=30, ha='right', rotation_mode='anchor');"
   ]
  },
  {
   "cell_type": "code",
   "execution_count": null,
   "metadata": {},
   "outputs": [],
   "source": [
    "g = sb.boxplot(\n",
    "    x=\"Investment\",\n",
    "    y=\"Value\",\n",
    "    data=investment_results.metrics.xs(\n",
    "        \"System Cost\",\n",
    "        level=\"Index\"\n",
    "    ).groupby([\"Investment\", \"Sample\"]).sum(numeric_only=True).reset_index()[[\"Investment\", \"Value\"]],\n",
    "    order=[\n",
    "        \"Low Budget, All Categories\"      ,\n",
    "        \"Low Budget, Components Only\"  ,\n",
    "        \"Medium Budget, All Categories\"      ,\n",
    "        \"Medium Budget, Components Only\"    ,\n",
    "        \"High Budget, All Categories\",\n",
    "        \"High Budget, Components Only\"\n",
    "    ]\n",
    ")\n",
    "g.set(ylabel=\"Annualized System Cost per Unit F\")\n",
    "g.set_xticklabels(g.get_xticklabels(), rotation=30, ha='right', rotation_mode='anchor');"
   ]
  },
  {
   "cell_type": "markdown",
   "metadata": {},
   "source": [
    "## Multi-objective decision analysis."
   ]
  },
  {
   "cell_type": "markdown",
   "metadata": {},
   "source": [
    "### Compute costs and metrics for tranches."
   ]
  },
  {
   "cell_type": "markdown",
   "metadata": {},
   "source": [
    "Tranches are atomic units for building investment portfolios. Evaluate all of the tranches, so we can assemble them into investments (portfolios)."
   ]
  },
  {
   "cell_type": "code",
   "execution_count": null,
   "metadata": {},
   "outputs": [],
   "source": [
    "tranche_results = investments.evaluate_tranches(designs, sample_count=50)"
   ]
  },
  {
   "cell_type": "markdown",
   "metadata": {},
   "source": [
    "Display the cost of each tranche."
   ]
  },
  {
   "cell_type": "code",
   "execution_count": null,
   "metadata": {},
   "outputs": [],
   "source": [
    "tranche_results.amounts"
   ]
  },
  {
   "cell_type": "markdown",
   "metadata": {},
   "source": [
    "Display the metrics for each tranche."
   ]
  },
  {
   "cell_type": "code",
   "execution_count": null,
   "metadata": {},
   "outputs": [],
   "source": [
    "tranche_results.summary"
   ]
  },
  {
   "cell_type": "markdown",
   "metadata": {},
   "source": [
    "Save the results."
   ]
  },
  {
   "cell_type": "code",
   "execution_count": null,
   "metadata": {},
   "outputs": [],
   "source": [
    "#tranche_results.amounts.to_csv(\"example-tranche-amounts.csv\")\n",
    "#tranche_results.summary.to_csv(\"example-tranche-summary.csv\")"
   ]
  },
  {
   "cell_type": "markdown",
   "metadata": {},
   "source": [
    "### Fit a response surface to the results."
   ]
  },
  {
   "cell_type": "markdown",
   "metadata": {},
   "source": [
    "The response surface interpolates between the discrete set of cases provided in the expert elicitation. This allows us to study funding levels intermediate between those scenarios."
   ]
  },
  {
   "cell_type": "code",
   "execution_count": null,
   "metadata": {},
   "outputs": [],
   "source": [
    "evaluator = ty.Evaluator(tranche_results)"
   ]
  },
  {
   "cell_type": "markdown",
   "metadata": {},
   "source": [
    "Here are the categories of investment and the maximum amount that could be invested in each:"
   ]
  },
  {
   "cell_type": "code",
   "execution_count": null,
   "metadata": {},
   "outputs": [],
   "source": [
    "evaluator.max_amount"
   ]
  },
  {
   "cell_type": "markdown",
   "metadata": {},
   "source": [
    "Here are the metrics and their units of measure:"
   ]
  },
  {
   "cell_type": "code",
   "execution_count": null,
   "metadata": {},
   "outputs": [],
   "source": [
    "evaluator.units"
   ]
  },
  {
   "cell_type": "markdown",
   "metadata": {},
   "source": [
    "#### Example interpolation."
   ]
  },
  {
   "cell_type": "markdown",
   "metadata": {},
   "source": [
    "Let's evaluate the case where each category is invested in at half of its maximum amount."
   ]
  },
  {
   "cell_type": "code",
   "execution_count": null,
   "metadata": {},
   "outputs": [],
   "source": [
    "example_investments = evaluator.max_amount / 2\n",
    "example_investments"
   ]
  },
  {
   "cell_type": "code",
   "execution_count": null,
   "metadata": {},
   "outputs": [],
   "source": [
    "evaluator.evaluate(example_investments)"
   ]
  },
  {
   "cell_type": "markdown",
   "metadata": {},
   "source": [
    "Let's evaluate the mean instead of outputing the whole distribution."
   ]
  },
  {
   "cell_type": "code",
   "execution_count": null,
   "metadata": {},
   "outputs": [],
   "source": [
    "evaluator.evaluate_statistic(example_investments, np.mean)"
   ]
  },
  {
   "cell_type": "markdown",
   "metadata": {},
   "source": [
    "Here is the standard deviation:"
   ]
  },
  {
   "cell_type": "code",
   "execution_count": null,
   "metadata": {},
   "outputs": [],
   "source": [
    "evaluator.evaluate_statistic(example_investments, np.std)"
   ]
  },
  {
   "cell_type": "markdown",
   "metadata": {},
   "source": [
    "A risk-averse decision maker might be interested in the 10% percentile:"
   ]
  },
  {
   "cell_type": "code",
   "execution_count": null,
   "metadata": {},
   "outputs": [],
   "source": [
    "evaluator.evaluate_statistic(example_investments, lambda x: np.quantile(x, 0.1))"
   ]
  },
  {
   "cell_type": "markdown",
   "metadata": {},
   "source": [
    "### ε-Constraint multiobjective optimization"
   ]
  },
  {
   "cell_type": "code",
   "execution_count": null,
   "metadata": {},
   "outputs": [],
   "source": [
    "optimizer = ty.EpsilonConstraintOptimizer(evaluator)"
   ]
  },
  {
   "cell_type": "markdown",
   "metadata": {},
   "source": [
    "In order to meaningfully map the decision space, we need to know the maximum values for each of the metrics."
   ]
  },
  {
   "cell_type": "markdown",
   "metadata": {},
   "source": [
    "#### Example optimization."
   ]
  },
  {
   "cell_type": "markdown",
   "metadata": {},
   "source": [
    "Limit spending to $3M."
   ]
  },
  {
   "cell_type": "code",
   "execution_count": null,
   "metadata": {},
   "outputs": [],
   "source": [
    "investment_max = 3e6"
   ]
  },
  {
   "cell_type": "markdown",
   "metadata": {},
   "source": [
    "Require that the GHG reduction be at least 40 gCO2e/system and that the Labor wages not decrease."
   ]
  },
  {
   "cell_type": "code",
   "execution_count": null,
   "metadata": {},
   "outputs": [],
   "source": [
    "metric_min = pd.Series([40, 0], name = \"Value\", index = [\"GHG\", \"Labor\"])\n",
    "metric_min"
   ]
  },
  {
   "cell_type": "markdown",
   "metadata": {},
   "source": [
    "Compute the ε-constrained maximum for the LCOE."
   ]
  },
  {
   "cell_type": "code",
   "execution_count": null,
   "metadata": {
    "scrolled": false
   },
   "outputs": [],
   "source": [
    "optimum = optimizer.opt_slsqp(\n",
    "    \"LCOE\"                       ,\n",
    "    sense = 'max',\n",
    "    total_amount = investment_max,\n",
    "    statistic    = np.mean       ,\n",
    ")\n",
    "optimum.exit_message"
   ]
  },
  {
   "cell_type": "markdown",
   "metadata": {},
   "source": [
    "Here are the optimal spending levels:"
   ]
  },
  {
   "cell_type": "code",
   "execution_count": null,
   "metadata": {},
   "outputs": [],
   "source": [
    "np.round(optimum.amounts)"
   ]
  },
  {
   "cell_type": "markdown",
   "metadata": {},
   "source": [
    "Here are the three metrics at that optimum:"
   ]
  },
  {
   "cell_type": "code",
   "execution_count": null,
   "metadata": {},
   "outputs": [],
   "source": [
    "optimum.metrics"
   ]
  },
  {
   "cell_type": "markdown",
   "metadata": {},
   "source": [
    "*Thus, by putting all of the investment into Module R&D, we can expected to achieve a mean 3.75 ¢/kWh reduction in LCOE under the GHG and Labor constraints.*"
   ]
  },
  {
   "cell_type": "markdown",
   "metadata": {},
   "source": [
    "It turns out that there is no solution for these constraints if we evaluate the 10th percentile of the metrics, for a risk-averse decision maker."
   ]
  },
  {
   "cell_type": "code",
   "execution_count": null,
   "metadata": {},
   "outputs": [],
   "source": [
    "optimum = optimizer.opt_slsqp(\n",
    "    \"LCOE\"                       ,\n",
    "    sense = 'max',\n",
    "    total_amount = investment_max,\n",
    "    statistic    = lambda x: np.quantile(x, 0.1),\n",
    ")\n",
    "optimum.exit_message"
   ]
  },
  {
   "cell_type": "markdown",
   "metadata": {},
   "source": [
    "Let's try again, but with a less stringent set of constraints, only constraining GHG somewhat  but not Labor at all."
   ]
  },
  {
   "cell_type": "code",
   "execution_count": null,
   "metadata": {},
   "outputs": [],
   "source": [
    "optimum = optimizer.opt_slsqp(\n",
    "    \"LCOE\"                                                         ,\n",
    "    sense = 'max',\n",
    "    total_amount = investment_max                                  ,\n",
    "    statistic    = lambda x: np.quantile(x, 0.1)                  ,\n",
    ")\n",
    "optimum.exit_message"
   ]
  },
  {
   "cell_type": "code",
   "execution_count": null,
   "metadata": {},
   "outputs": [],
   "source": [
    "np.round(optimum.amounts)"
   ]
  },
  {
   "cell_type": "code",
   "execution_count": null,
   "metadata": {},
   "outputs": [],
   "source": [
    "optimum.metrics"
   ]
  },
  {
   "cell_type": "markdown",
   "metadata": {},
   "source": [
    "## Reproducing GUI optimization for Git issue 99\n",
    "See: https://github.com/NREL/tyche/issues/99"
   ]
  },
  {
   "cell_type": "code",
   "execution_count": null,
   "metadata": {},
   "outputs": [],
   "source": []
  },
  {
   "cell_type": "markdown",
   "metadata": {},
   "source": [
    "### Example MILP optimization\n",
    "\n",
    "This formulation converts the original non-linear optimization into a piecewise linear, mixed-integer optimization, and then attempts to solve the same problem.\n",
    "\n",
    "~~As written, the MILP formulation is infeasible.~~"
   ]
  },
  {
   "cell_type": "code",
   "execution_count": null,
   "metadata": {},
   "outputs": [],
   "source": [
    "investment_max = 3e6\n",
    "metric_min = pd.Series([40, 0], name = \"Value\", index = [\"GHG\", \"Labor\"])\n",
    "\n",
    "optimum = optimizer.opt_milp(\n",
    "    \"LCOE\"                       ,\n",
    "    sense = 'max',\n",
    "    total_amount = investment_max,\n",
    "    statistic    = np.mean       ,\n",
    ")\n",
    "\n",
    "optimum.exit_message"
   ]
  },
  {
   "cell_type": "markdown",
   "metadata": {},
   "source": [
    "Let's determine if the problem is truly infeasible or if the solver is failing by examining the underlying data."
   ]
  },
  {
   "cell_type": "code",
   "execution_count": null,
   "metadata": {},
   "outputs": [],
   "source": [
    "_wide = evaluator.evaluate_corners_wide(np.mean).reset_index()\n",
    "_wide"
   ]
  },
  {
   "cell_type": "markdown",
   "metadata": {},
   "source": [
    "Add a column to the above data with the total investment amount."
   ]
  },
  {
   "cell_type": "code",
   "execution_count": null,
   "metadata": {},
   "outputs": [],
   "source": [
    "_wide['total R&D'] = _wide.loc[:,'BoS R&D'] + _wide.loc[:, 'Inverter R&D'] + _wide.loc[:, 'Module R&D']\n",
    "_wide"
   ]
  },
  {
   "cell_type": "markdown",
   "metadata": {},
   "source": [
    "Look for entries that meet the total investment constraint of less than $3 MM."
   ]
  },
  {
   "cell_type": "code",
   "execution_count": null,
   "metadata": {},
   "outputs": [],
   "source": [
    "_wide.loc[_wide['total R&D'] <= 3e6,:]"
   ]
  },
  {
   "cell_type": "markdown",
   "metadata": {},
   "source": [
    "~~This entry does not meet the GHG constraint, which is why the MILP formulation is infeasible.~~"
   ]
  }
 ],
 "metadata": {
  "kernelspec": {
   "display_name": "Python 3 (ipykernel)",
   "language": "python",
   "name": "python3"
  },
  "language_info": {
   "codemirror_mode": {
    "name": "ipython",
    "version": 3
   },
   "file_extension": ".py",
   "mimetype": "text/x-python",
   "name": "python",
   "nbconvert_exporter": "python",
   "pygments_lexer": "ipython3",
   "version": "3.10.4"
  }
 },
 "nbformat": 4,
 "nbformat_minor": 2
}
