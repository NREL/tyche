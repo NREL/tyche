{
 "cells": [
  {
   "cell_type": "markdown",
   "metadata": {},
   "source": [
    "# Analysis Notebook for Template Technology"
   ]
  },
  {
   "cell_type": "code",
   "execution_count": null,
   "metadata": {},
   "outputs": [
    {
     "name": "stderr",
     "output_type": "stream",
     "text": [
      "C:\\Users\\rhanes\\AppData\\Local\\anaconda3\\envs\\tyche2\\lib\\site-packages\\scipy\\__init__.py:155: UserWarning: A NumPy version >=1.18.5 and <1.25.0 is required for this version of SciPy (detected version 1.26.0\n",
      "  warnings.warn(f\"A NumPy version >={np_minversion} and <{np_maxversion}\"\n"
     ]
    }
   ],
   "source": [
    "import os\n",
    "import sys\n",
    "\n",
    "import numpy             as np\n",
    "import matplotlib.pyplot as pl\n",
    "import pandas            as pd\n",
    "import seaborn           as sb\n",
    "\n",
    "sys.path.insert(0, os.path.abspath(\"../../../src\"))\n",
    "\n",
    "import tyche             as ty"
   ]
  },
  {
   "cell_type": "markdown",
   "metadata": {},
   "source": [
    "## Load data and compile technology models\n",
    "\n",
    "Every decision context analysis in Tyche will begin with three commands: instantiate the `Designs` class, instantiate the `Investments` class, and compile the technology model functions and data in the `Designs` class. These commands read in and validate the necessary datasets, locate and verify the technology models, and prepare the technology models and data for use in further analyses.\n",
    "\n",
    "Every decision context has a single Excel workbook containing seven datasets, one per sheet. In no particular order, these datasets are *indices*, *functions*, *designs*, *parameters*, *results*, *tranches*, and *investments*. When the `Designs` and `Investments` classes are instantiated in the code block immediately below, these datasets are automatically checked for internal consistency and completeness. If any of the datasets contain errors or are missing information, the code block below will fail with error messages detailing what data needs to be corrected and in which datasets.\n",
    "\n",
    "After instantiating the `Designs` class, the `compile` method further processes the numerical datasets to identify any probability distributions in the data and ready them for use in ensemble simulations."
   ]
  },
  {
   "cell_type": "code",
   "execution_count": null,
   "metadata": {
    "scrolled": false
   },
   "outputs": [
    {
     "name": "stderr",
     "output_type": "stream",
     "text": [
      "C:\\Users\\rhanes\\GitHub\\tyche\\src\\tyche\\IO.py:341: FutureWarning: Series.__getitem__ treating keys as positions is deprecated. In a future version, integer keys will always be treated as labels (consistent with DataFrame behavior). To access a value by position, use `ser.iloc[pos]`\n",
      "  tranches.groupby('Category').Amount.count()[i] != tranches.groupby('Category').Amount.nunique()[i]\n",
      "C:\\Users\\rhanes\\GitHub\\tyche\\src\\tyche\\IO.py:341: FutureWarning: Series.__getitem__ treating keys as positions is deprecated. In a future version, integer keys will always be treated as labels (consistent with DataFrame behavior). To access a value by position, use `ser.iloc[pos]`\n",
      "  tranches.groupby('Category').Amount.count()[i] != tranches.groupby('Category').Amount.nunique()[i]\n",
      "C:\\Users\\rhanes\\GitHub\\tyche\\src\\tyche\\IO.py:341: FutureWarning: Series.__getitem__ treating keys as positions is deprecated. In a future version, integer keys will always be treated as labels (consistent with DataFrame behavior). To access a value by position, use `ser.iloc[pos]`\n",
      "  tranches.groupby('Category').Amount.count()[i] != tranches.groupby('Category').Amount.nunique()[i]\n",
      "C:\\Users\\rhanes\\GitHub\\tyche\\src\\tyche\\IO.py:341: FutureWarning: Series.__getitem__ treating keys as positions is deprecated. In a future version, integer keys will always be treated as labels (consistent with DataFrame behavior). To access a value by position, use `ser.iloc[pos]`\n",
      "  tranches.groupby('Category').Amount.count()[i] != tranches.groupby('Category').Amount.nunique()[i]\n",
      "C:\\Users\\rhanes\\GitHub\\tyche\\src\\tyche\\IO.py:341: FutureWarning: Series.__getitem__ treating keys as positions is deprecated. In a future version, integer keys will always be treated as labels (consistent with DataFrame behavior). To access a value by position, use `ser.iloc[pos]`\n",
      "  tranches.groupby('Category').Amount.count()[i] != tranches.groupby('Category').Amount.nunique()[i]\n",
      "C:\\Users\\rhanes\\GitHub\\tyche\\src\\tyche\\IO.py:341: FutureWarning: Series.__getitem__ treating keys as positions is deprecated. In a future version, integer keys will always be treated as labels (consistent with DataFrame behavior). To access a value by position, use `ser.iloc[pos]`\n",
      "  tranches.groupby('Category').Amount.count()[i] != tranches.groupby('Category').Amount.nunique()[i]\n",
      "C:\\Users\\rhanes\\GitHub\\tyche\\src\\tyche\\IO.py:341: FutureWarning: Series.__getitem__ treating keys as positions is deprecated. In a future version, integer keys will always be treated as labels (consistent with DataFrame behavior). To access a value by position, use `ser.iloc[pos]`\n",
      "  tranches.groupby('Category').Amount.count()[i] != tranches.groupby('Category').Amount.nunique()[i]\n",
      "C:\\Users\\rhanes\\GitHub\\tyche\\src\\tyche\\IO.py:341: FutureWarning: Series.__getitem__ treating keys as positions is deprecated. In a future version, integer keys will always be treated as labels (consistent with DataFrame behavior). To access a value by position, use `ser.iloc[pos]`\n",
      "  tranches.groupby('Category').Amount.count()[i] != tranches.groupby('Category').Amount.nunique()[i]\n",
      "C:\\Users\\rhanes\\GitHub\\tyche\\src\\tyche\\IO.py:341: FutureWarning: Series.__getitem__ treating keys as positions is deprecated. In a future version, integer keys will always be treated as labels (consistent with DataFrame behavior). To access a value by position, use `ser.iloc[pos]`\n",
      "  tranches.groupby('Category').Amount.count()[i] != tranches.groupby('Category').Amount.nunique()[i]\n",
      "C:\\Users\\rhanes\\GitHub\\tyche\\src\\tyche\\IO.py:341: FutureWarning: Series.__getitem__ treating keys as positions is deprecated. In a future version, integer keys will always be treated as labels (consistent with DataFrame behavior). To access a value by position, use `ser.iloc[pos]`\n",
      "  tranches.groupby('Category').Amount.count()[i] != tranches.groupby('Category').Amount.nunique()[i]\n",
      "C:\\Users\\rhanes\\GitHub\\tyche\\src\\tyche\\IO.py:341: FutureWarning: Series.__getitem__ treating keys as positions is deprecated. In a future version, integer keys will always be treated as labels (consistent with DataFrame behavior). To access a value by position, use `ser.iloc[pos]`\n",
      "  tranches.groupby('Category').Amount.count()[i] != tranches.groupby('Category').Amount.nunique()[i]\n",
      "C:\\Users\\rhanes\\GitHub\\tyche\\src\\tyche\\IO.py:341: FutureWarning: Series.__getitem__ treating keys as positions is deprecated. In a future version, integer keys will always be treated as labels (consistent with DataFrame behavior). To access a value by position, use `ser.iloc[pos]`\n",
      "  tranches.groupby('Category').Amount.count()[i] != tranches.groupby('Category').Amount.nunique()[i]\n",
      "C:\\Users\\rhanes\\GitHub\\tyche\\src\\tyche\\IO.py:341: FutureWarning: Series.__getitem__ treating keys as positions is deprecated. In a future version, integer keys will always be treated as labels (consistent with DataFrame behavior). To access a value by position, use `ser.iloc[pos]`\n",
      "  tranches.groupby('Category').Amount.count()[i] != tranches.groupby('Category').Amount.nunique()[i]\n",
      "C:\\Users\\rhanes\\GitHub\\tyche\\src\\tyche\\IO.py:341: FutureWarning: Series.__getitem__ treating keys as positions is deprecated. In a future version, integer keys will always be treated as labels (consistent with DataFrame behavior). To access a value by position, use `ser.iloc[pos]`\n",
      "  tranches.groupby('Category').Amount.count()[i] != tranches.groupby('Category').Amount.nunique()[i]\n",
      "C:\\Users\\rhanes\\GitHub\\tyche\\src\\tyche\\IO.py:341: FutureWarning: Series.__getitem__ treating keys as positions is deprecated. In a future version, integer keys will always be treated as labels (consistent with DataFrame behavior). To access a value by position, use `ser.iloc[pos]`\n",
      "  tranches.groupby('Category').Amount.count()[i] != tranches.groupby('Category').Amount.nunique()[i]\n",
      "C:\\Users\\rhanes\\GitHub\\tyche\\src\\tyche\\IO.py:341: FutureWarning: Series.__getitem__ treating keys as positions is deprecated. In a future version, integer keys will always be treated as labels (consistent with DataFrame behavior). To access a value by position, use `ser.iloc[pos]`\n",
      "  tranches.groupby('Category').Amount.count()[i] != tranches.groupby('Category').Amount.nunique()[i]\n",
      "C:\\Users\\rhanes\\GitHub\\tyche\\src\\tyche\\IO.py:341: FutureWarning: Series.__getitem__ treating keys as positions is deprecated. In a future version, integer keys will always be treated as labels (consistent with DataFrame behavior). To access a value by position, use `ser.iloc[pos]`\n",
      "  tranches.groupby('Category').Amount.count()[i] != tranches.groupby('Category').Amount.nunique()[i]\n",
      "C:\\Users\\rhanes\\GitHub\\tyche\\src\\tyche\\IO.py:341: FutureWarning: Series.__getitem__ treating keys as positions is deprecated. In a future version, integer keys will always be treated as labels (consistent with DataFrame behavior). To access a value by position, use `ser.iloc[pos]`\n",
      "  tranches.groupby('Category').Amount.count()[i] != tranches.groupby('Category').Amount.nunique()[i]\n",
      "C:\\Users\\rhanes\\GitHub\\tyche\\src\\tyche\\IO.py:341: FutureWarning: Series.__getitem__ treating keys as positions is deprecated. In a future version, integer keys will always be treated as labels (consistent with DataFrame behavior). To access a value by position, use `ser.iloc[pos]`\n",
      "  tranches.groupby('Category').Amount.count()[i] != tranches.groupby('Category').Amount.nunique()[i]\n",
      "C:\\Users\\rhanes\\GitHub\\tyche\\src\\tyche\\IO.py:341: FutureWarning: Series.__getitem__ treating keys as positions is deprecated. In a future version, integer keys will always be treated as labels (consistent with DataFrame behavior). To access a value by position, use `ser.iloc[pos]`\n",
      "  tranches.groupby('Category').Amount.count()[i] != tranches.groupby('Category').Amount.nunique()[i]\n",
      "C:\\Users\\rhanes\\GitHub\\tyche\\src\\tyche\\IO.py:341: FutureWarning: Series.__getitem__ treating keys as positions is deprecated. In a future version, integer keys will always be treated as labels (consistent with DataFrame behavior). To access a value by position, use `ser.iloc[pos]`\n",
      "  tranches.groupby('Category').Amount.count()[i] != tranches.groupby('Category').Amount.nunique()[i]\n",
      "C:\\Users\\rhanes\\GitHub\\tyche\\src\\tyche\\IO.py:341: FutureWarning: Series.__getitem__ treating keys as positions is deprecated. In a future version, integer keys will always be treated as labels (consistent with DataFrame behavior). To access a value by position, use `ser.iloc[pos]`\n",
      "  tranches.groupby('Category').Amount.count()[i] != tranches.groupby('Category').Amount.nunique()[i]\n",
      "C:\\Users\\rhanes\\GitHub\\tyche\\src\\tyche\\IO.py:341: FutureWarning: Series.__getitem__ treating keys as positions is deprecated. In a future version, integer keys will always be treated as labels (consistent with DataFrame behavior). To access a value by position, use `ser.iloc[pos]`\n",
      "  tranches.groupby('Category').Amount.count()[i] != tranches.groupby('Category').Amount.nunique()[i]\n",
      "C:\\Users\\rhanes\\GitHub\\tyche\\src\\tyche\\IO.py:341: FutureWarning: Series.__getitem__ treating keys as positions is deprecated. In a future version, integer keys will always be treated as labels (consistent with DataFrame behavior). To access a value by position, use `ser.iloc[pos]`\n",
      "  tranches.groupby('Category').Amount.count()[i] != tranches.groupby('Category').Amount.nunique()[i]\n",
      "C:\\Users\\rhanes\\GitHub\\tyche\\src\\tyche\\IO.py:341: FutureWarning: Series.__getitem__ treating keys as positions is deprecated. In a future version, integer keys will always be treated as labels (consistent with DataFrame behavior). To access a value by position, use `ser.iloc[pos]`\n",
      "  tranches.groupby('Category').Amount.count()[i] != tranches.groupby('Category').Amount.nunique()[i]\n",
      "C:\\Users\\rhanes\\GitHub\\tyche\\src\\tyche\\IO.py:341: FutureWarning: Series.__getitem__ treating keys as positions is deprecated. In a future version, integer keys will always be treated as labels (consistent with DataFrame behavior). To access a value by position, use `ser.iloc[pos]`\n",
      "  tranches.groupby('Category').Amount.count()[i] != tranches.groupby('Category').Amount.nunique()[i]\n",
      "C:\\Users\\rhanes\\GitHub\\tyche\\src\\tyche\\IO.py:341: FutureWarning: Series.__getitem__ treating keys as positions is deprecated. In a future version, integer keys will always be treated as labels (consistent with DataFrame behavior). To access a value by position, use `ser.iloc[pos]`\n",
      "  tranches.groupby('Category').Amount.count()[i] != tranches.groupby('Category').Amount.nunique()[i]\n",
      "C:\\Users\\rhanes\\GitHub\\tyche\\src\\tyche\\IO.py:341: FutureWarning: Series.__getitem__ treating keys as positions is deprecated. In a future version, integer keys will always be treated as labels (consistent with DataFrame behavior). To access a value by position, use `ser.iloc[pos]`\n",
      "  tranches.groupby('Category').Amount.count()[i] != tranches.groupby('Category').Amount.nunique()[i]\n"
     ]
    }
   ],
   "source": [
    "designs = ty.Designs(path = '.',\n",
    "                     name = 'template.xlsx')\n",
    "\n",
    "investments = ty.Investments(path = '.',\n",
    "                             name = 'template.xlsx')\n",
    "\n",
    "designs.compile()"
   ]
  },
  {
   "cell_type": "markdown",
   "metadata": {},
   "source": [
    "## Evaluate Funding Tranches\n",
    "\n",
    "The `evaluate_tranches` method in the code block below performs ensemble simulation (Monte Carlo) with the number of simulations defined with the `sample_count` parameter. For every simulation, values are sampled from all probability distributions present in the input datasets and are used to calculate corresponding Metric values as well as the built-in Cost. Results of these simulations are returned as shown in the second code block below."
   ]
  },
  {
   "cell_type": "code",
   "execution_count": null,
   "metadata": {},
   "outputs": [],
   "source": [
    "tranche_results = investments.evaluate_tranches(designs, sample_count=100).metrics"
   ]
  },
  {
   "cell_type": "code",
   "execution_count": null,
   "metadata": {},
   "outputs": [],
   "source": [
    "tranche_results.xs(1, level=\"Sample\", drop_level=False)"
   ]
  },
  {
   "cell_type": "markdown",
   "metadata": {},
   "source": [
    "Ensemble simulation results can be further filtered down to show only aggregate results for a single Scenario. This is done in the code block below, in which the complete set of results is filtered down to only the Current State scenario and then average (mean) values are calculated for every Index."
   ]
  },
  {
   "cell_type": "code",
   "execution_count": null,
   "metadata": {},
   "outputs": [],
   "source": [
    "tranche_results.xs(\n",
    "    'Component B0 Low Funding',\n",
    "    level='Tranche',\n",
    "    drop_level=False\n",
    ").groupby(\n",
    "    ['Technology', 'Index']\n",
    ").mean(\n",
    "    numeric_only=True\n",
    ")"
   ]
  },
  {
   "cell_type": "markdown",
   "metadata": {},
   "source": [
    "Here we demonstrate use of the Seaborn visualization package to compare the metric outcomes of each Scenario. Each of the four plots below shows a different metric, quantified as the difference between the Scenario's metric values (one value per simulation) and the average Current State metric value. The plots are put in order of increasing complexity of information presented."
   ]
  },
  {
   "cell_type": "code",
   "execution_count": null,
   "metadata": {},
   "outputs": [],
   "source": [
    "g = sb.boxplot(\n",
    "    x=\"Tranche\",\n",
    "    y=\"Value\",\n",
    "    hue=\"Technology\",\n",
    "    data=tranche_results.xs(\n",
    "        \"Delta Labor\",\n",
    "        level=\"Index\"\n",
    "    ).reset_index(\n",
    "    )[[\"Technology\", \"Category\", \"Tranche\", \"Value\"]],\n",
    "    order=[\n",
    "        \"Efficiency Low Funding\"    ,\n",
    "        \"Efficiency Medium Funding\",\n",
    "        \"Efficiency High Funding\"    ,\n",
    "        \"Peripherals Low Funding\"         ,\n",
    "        \"Peripherals Medium Funding\"     ,\n",
    "        \"Peripherals High Funding\"         ,\n",
    "    ]\n",
    ")\n",
    "g.set(ylabel=\"Change in Labor per Unit F\\nRelative to Current State\",\n",
    "      title=\"Labor Progress with R&D in Efficiency and Peripherals\")\n",
    "g.set_xticklabels(g.get_xticklabels(), rotation=30, ha='right', rotation_mode='anchor')\n",
    "g.axhline(y=0, linestyle=\":\", label='Current State')\n",
    "g.legend()"
   ]
  },
  {
   "cell_type": "code",
   "execution_count": null,
   "metadata": {
    "scrolled": false
   },
   "outputs": [],
   "source": [
    "g = sb.violinplot(\n",
    "    x=\"Tranche\",\n",
    "    y=\"Value\",\n",
    "    hue=\"Technology\",\n",
    "    data=tranche_results.xs(\n",
    "        \"Delta System Cost\",\n",
    "        level=\"Index\"\n",
    "    ).reset_index(\n",
    "    )[[\"Technology\", \"Category\", \"Tranche\", \"Value\"]],\n",
    "    order=[\n",
    "        \"Component N Low Funding\",\n",
    "        \"Component N Medium Funding\",\n",
    "        \"Component N High Funding\",\n",
    "        \"Component C Low Funding\",\n",
    "        \"Component C Medium Funding\",\n",
    "        \"Component C High Funding\",\n",
    "    ]\n",
    ")\n",
    "g.set(ylabel=\"Change in Annualized System Cost per Unit F\\nRelative to Current State\",\n",
    "     title=\"System Cost Progress with Component C and N R&D\")\n",
    "g.set_xticklabels(g.get_xticklabels(), rotation=30, ha='right', rotation_mode='anchor')\n",
    "g.axhline(y=0, linestyle=\":\", label='Current State')\n",
    "g.legend()"
   ]
  },
  {
   "cell_type": "code",
   "execution_count": null,
   "metadata": {
    "scrolled": false
   },
   "outputs": [],
   "source": [
    "diamonds = sb.load_dataset('diamonds', cache=True, data_home=None)\n",
    "sb.boxenplot(x=diamonds[\"price\"])"
   ]
  },
  {
   "cell_type": "code",
   "execution_count": 10,
   "metadata": {
    "scrolled": false
   },
   "outputs": [
    {
     "ename": "AttributeError",
     "evalue": "'NoneType' object has no attribute 'index'",
     "output_type": "error",
     "traceback": [
      "\u001b[1;31m---------------------------------------------------------------------------\u001b[0m",
      "\u001b[1;31mAttributeError\u001b[0m                            Traceback (most recent call last)",
      "Cell \u001b[1;32mIn[10], line 1\u001b[0m\n\u001b[1;32m----> 1\u001b[0m g \u001b[38;5;241m=\u001b[39m \u001b[43msb\u001b[49m\u001b[38;5;241;43m.\u001b[39;49m\u001b[43mboxenplot\u001b[49m\u001b[43m(\u001b[49m\n\u001b[0;32m      2\u001b[0m \u001b[43m    \u001b[49m\u001b[43mx\u001b[49m\u001b[38;5;241;43m=\u001b[39;49m\u001b[38;5;124;43m\"\u001b[39;49m\u001b[38;5;124;43mTranche\u001b[39;49m\u001b[38;5;124;43m\"\u001b[39;49m\u001b[43m,\u001b[49m\n\u001b[0;32m      3\u001b[0m \u001b[43m    \u001b[49m\u001b[43my\u001b[49m\u001b[38;5;241;43m=\u001b[39;49m\u001b[38;5;124;43m\"\u001b[39;49m\u001b[38;5;124;43mValue\u001b[39;49m\u001b[38;5;124;43m\"\u001b[39;49m\u001b[43m,\u001b[49m\n\u001b[0;32m      4\u001b[0m \u001b[43m    \u001b[49m\u001b[43mdodge\u001b[49m\u001b[38;5;241;43m=\u001b[39;49m\u001b[38;5;28;43;01mTrue\u001b[39;49;00m\u001b[43m,\u001b[49m\n\u001b[0;32m      5\u001b[0m \u001b[43m    \u001b[49m\u001b[43mcut\u001b[49m\u001b[38;5;241;43m=\u001b[39;49m\u001b[38;5;241;43m0\u001b[39;49m\u001b[43m,\u001b[49m\n\u001b[0;32m      6\u001b[0m \u001b[43m    \u001b[49m\u001b[43mdata\u001b[49m\u001b[38;5;241;43m=\u001b[39;49m\u001b[43mtranche_results\u001b[49m\u001b[38;5;241;43m.\u001b[39;49m\u001b[43mxs\u001b[49m\u001b[43m(\u001b[49m\n\u001b[0;32m      7\u001b[0m \u001b[43m        \u001b[49m\u001b[43m(\u001b[49m\u001b[38;5;124;43m\"\u001b[39;49m\u001b[38;5;124;43mDelta Overall Efficiency\u001b[39;49m\u001b[38;5;124;43m\"\u001b[39;49m\u001b[43m,\u001b[49m\u001b[43m \u001b[49m\u001b[38;5;124;43m\"\u001b[39;49m\u001b[38;5;124;43mTechnology A\u001b[39;49m\u001b[38;5;124;43m\"\u001b[39;49m\u001b[43m)\u001b[49m\u001b[43m,\u001b[49m\n\u001b[0;32m      8\u001b[0m \u001b[43m        \u001b[49m\u001b[43mlevel\u001b[49m\u001b[38;5;241;43m=\u001b[39;49m\u001b[43m[\u001b[49m\u001b[38;5;124;43m\"\u001b[39;49m\u001b[38;5;124;43mIndex\u001b[39;49m\u001b[38;5;124;43m\"\u001b[39;49m\u001b[43m,\u001b[49m\u001b[43m \u001b[49m\u001b[38;5;124;43m\"\u001b[39;49m\u001b[38;5;124;43mTechnology\u001b[39;49m\u001b[38;5;124;43m\"\u001b[39;49m\u001b[43m]\u001b[49m\n\u001b[0;32m      9\u001b[0m \u001b[43m    \u001b[49m\u001b[43m)\u001b[49m\u001b[38;5;241;43m.\u001b[39;49m\u001b[43mreset_index\u001b[49m\u001b[43m(\u001b[49m\n\u001b[0;32m     10\u001b[0m \u001b[43m    \u001b[49m\u001b[43m)\u001b[49m\u001b[43m[\u001b[49m\u001b[43m[\u001b[49m\u001b[38;5;124;43m\"\u001b[39;49m\u001b[38;5;124;43mTranche\u001b[39;49m\u001b[38;5;124;43m\"\u001b[39;49m\u001b[43m,\u001b[49m\u001b[43m \u001b[49m\u001b[38;5;124;43m\"\u001b[39;49m\u001b[38;5;124;43mValue\u001b[39;49m\u001b[38;5;124;43m\"\u001b[39;49m\u001b[43m]\u001b[49m\u001b[43m]\u001b[49m\u001b[43m,\u001b[49m\n\u001b[0;32m     11\u001b[0m \u001b[43m    \u001b[49m\u001b[43morder\u001b[49m\u001b[38;5;241;43m=\u001b[39;49m\u001b[43m[\u001b[49m\n\u001b[0;32m     12\u001b[0m \u001b[43m        \u001b[49m\u001b[38;5;124;43m'\u001b[39;49m\u001b[38;5;124;43mComponent B0 Low Funding\u001b[39;49m\u001b[38;5;124;43m'\u001b[39;49m\u001b[43m,\u001b[49m\n\u001b[0;32m     13\u001b[0m \u001b[43m        \u001b[49m\u001b[38;5;124;43m'\u001b[39;49m\u001b[38;5;124;43mComponent B0 Medium Funding\u001b[39;49m\u001b[38;5;124;43m'\u001b[39;49m\u001b[43m,\u001b[49m\n\u001b[0;32m     14\u001b[0m \u001b[43m        \u001b[49m\u001b[38;5;124;43m'\u001b[39;49m\u001b[38;5;124;43mComponent B0 High Funding\u001b[39;49m\u001b[38;5;124;43m'\u001b[39;49m\u001b[43m,\u001b[49m\n\u001b[0;32m     15\u001b[0m \u001b[43m        \u001b[49m\u001b[38;5;124;43m'\u001b[39;49m\u001b[38;5;124;43mComponent B1 Low Funding\u001b[39;49m\u001b[38;5;124;43m'\u001b[39;49m\u001b[43m,\u001b[49m\n\u001b[0;32m     16\u001b[0m \u001b[43m        \u001b[49m\u001b[38;5;124;43m'\u001b[39;49m\u001b[38;5;124;43mComponent B1 Medium Funding\u001b[39;49m\u001b[38;5;124;43m'\u001b[39;49m\u001b[43m,\u001b[49m\n\u001b[0;32m     17\u001b[0m \u001b[43m        \u001b[49m\u001b[38;5;124;43m'\u001b[39;49m\u001b[38;5;124;43mComponent B1 High Funding\u001b[39;49m\u001b[38;5;124;43m'\u001b[39;49m\u001b[43m,\u001b[49m\n\u001b[0;32m     18\u001b[0m \u001b[43m        \u001b[49m\u001b[38;5;124;43m'\u001b[39;49m\u001b[38;5;124;43mComponent B2 Low Funding\u001b[39;49m\u001b[38;5;124;43m'\u001b[39;49m\u001b[43m,\u001b[49m\n\u001b[0;32m     19\u001b[0m \u001b[43m        \u001b[49m\u001b[38;5;124;43m'\u001b[39;49m\u001b[38;5;124;43mComponent B2 Medium Funding\u001b[39;49m\u001b[38;5;124;43m'\u001b[39;49m\u001b[43m,\u001b[49m\n\u001b[0;32m     20\u001b[0m \u001b[43m        \u001b[49m\u001b[38;5;124;43m'\u001b[39;49m\u001b[38;5;124;43mComponent B2 High Funding\u001b[39;49m\u001b[38;5;124;43m'\u001b[39;49m\u001b[43m,\u001b[49m\n\u001b[0;32m     21\u001b[0m \u001b[43m    \u001b[49m\u001b[43m]\u001b[49m\n\u001b[0;32m     22\u001b[0m \u001b[43m)\u001b[49m\n\u001b[0;32m     23\u001b[0m g\u001b[38;5;241m.\u001b[39mset(ylabel\u001b[38;5;241m=\u001b[39m\u001b[38;5;124m\"\u001b[39m\u001b[38;5;124mChange in Overall Efficiency\u001b[39m\u001b[38;5;130;01m\\n\u001b[39;00m\u001b[38;5;124mRelative to Current State\u001b[39m\u001b[38;5;124m\"\u001b[39m,\n\u001b[0;32m     24\u001b[0m      title\u001b[38;5;241m=\u001b[39m\u001b[38;5;124m\"\u001b[39m\u001b[38;5;124mOverall Efficiency Progress (Technology A Only)\u001b[39m\u001b[38;5;130;01m\\n\u001b[39;00m\u001b[38;5;124m with Component B0, B1, B2 R&D\u001b[39m\u001b[38;5;124m\"\u001b[39m)\n\u001b[0;32m     25\u001b[0m g\u001b[38;5;241m.\u001b[39mset_xticklabels(g\u001b[38;5;241m.\u001b[39mget_xticklabels(), rotation\u001b[38;5;241m=\u001b[39m\u001b[38;5;241m30\u001b[39m, ha\u001b[38;5;241m=\u001b[39m\u001b[38;5;124m'\u001b[39m\u001b[38;5;124mright\u001b[39m\u001b[38;5;124m'\u001b[39m, rotation_mode\u001b[38;5;241m=\u001b[39m\u001b[38;5;124m'\u001b[39m\u001b[38;5;124manchor\u001b[39m\u001b[38;5;124m'\u001b[39m)\n",
      "File \u001b[1;32m~\\AppData\\Local\\anaconda3\\envs\\tyche2\\lib\\site-packages\\seaborn\\categorical.py:1940\u001b[0m, in \u001b[0;36mboxenplot\u001b[1;34m(data, x, y, hue, order, hue_order, orient, color, palette, saturation, fill, dodge, width, gap, linewidth, linecolor, width_method, k_depth, outlier_prop, trust_alpha, showfliers, hue_norm, log_scale, native_scale, formatter, legend, scale, box_kws, flier_kws, line_kws, ax, **kwargs)\u001b[0m\n\u001b[0;32m   1932\u001b[0m color \u001b[38;5;241m=\u001b[39m _default_color(\n\u001b[0;32m   1933\u001b[0m     ax\u001b[38;5;241m.\u001b[39mfill_between, hue, color,\n\u001b[0;32m   1934\u001b[0m     {},  \u001b[38;5;66;03m# TODO how to get default color?\u001b[39;00m\n\u001b[0;32m   1935\u001b[0m     \u001b[38;5;66;03m# {k: v for k, v in kwargs.items() if k in [\"c\", \"color\", \"fc\", \"facecolor\"]},\u001b[39;00m\n\u001b[0;32m   1936\u001b[0m     saturation\u001b[38;5;241m=\u001b[39msaturation,\n\u001b[0;32m   1937\u001b[0m )\n\u001b[0;32m   1938\u001b[0m linecolor \u001b[38;5;241m=\u001b[39m p\u001b[38;5;241m.\u001b[39m_complement_color(linecolor, color, p\u001b[38;5;241m.\u001b[39m_hue_map)\n\u001b[1;32m-> 1940\u001b[0m \u001b[43mp\u001b[49m\u001b[38;5;241;43m.\u001b[39;49m\u001b[43mplot_boxens\u001b[49m\u001b[43m(\u001b[49m\n\u001b[0;32m   1941\u001b[0m \u001b[43m    \u001b[49m\u001b[43mwidth\u001b[49m\u001b[38;5;241;43m=\u001b[39;49m\u001b[43mwidth\u001b[49m\u001b[43m,\u001b[49m\n\u001b[0;32m   1942\u001b[0m \u001b[43m    \u001b[49m\u001b[43mdodge\u001b[49m\u001b[38;5;241;43m=\u001b[39;49m\u001b[43mdodge\u001b[49m\u001b[43m,\u001b[49m\n\u001b[0;32m   1943\u001b[0m \u001b[43m    \u001b[49m\u001b[43mgap\u001b[49m\u001b[38;5;241;43m=\u001b[39;49m\u001b[43mgap\u001b[49m\u001b[43m,\u001b[49m\n\u001b[0;32m   1944\u001b[0m \u001b[43m    \u001b[49m\u001b[43mfill\u001b[49m\u001b[38;5;241;43m=\u001b[39;49m\u001b[43mfill\u001b[49m\u001b[43m,\u001b[49m\n\u001b[0;32m   1945\u001b[0m \u001b[43m    \u001b[49m\u001b[43mcolor\u001b[49m\u001b[38;5;241;43m=\u001b[39;49m\u001b[43mcolor\u001b[49m\u001b[43m,\u001b[49m\n\u001b[0;32m   1946\u001b[0m \u001b[43m    \u001b[49m\u001b[43mlinecolor\u001b[49m\u001b[38;5;241;43m=\u001b[39;49m\u001b[43mlinecolor\u001b[49m\u001b[43m,\u001b[49m\n\u001b[0;32m   1947\u001b[0m \u001b[43m    \u001b[49m\u001b[43mlinewidth\u001b[49m\u001b[38;5;241;43m=\u001b[39;49m\u001b[43mlinewidth\u001b[49m\u001b[43m,\u001b[49m\n\u001b[0;32m   1948\u001b[0m \u001b[43m    \u001b[49m\u001b[43mwidth_method\u001b[49m\u001b[38;5;241;43m=\u001b[39;49m\u001b[43mwidth_method\u001b[49m\u001b[43m,\u001b[49m\n\u001b[0;32m   1949\u001b[0m \u001b[43m    \u001b[49m\u001b[43mk_depth\u001b[49m\u001b[38;5;241;43m=\u001b[39;49m\u001b[43mk_depth\u001b[49m\u001b[43m,\u001b[49m\n\u001b[0;32m   1950\u001b[0m \u001b[43m    \u001b[49m\u001b[43moutlier_prop\u001b[49m\u001b[38;5;241;43m=\u001b[39;49m\u001b[43moutlier_prop\u001b[49m\u001b[43m,\u001b[49m\n\u001b[0;32m   1951\u001b[0m \u001b[43m    \u001b[49m\u001b[43mtrust_alpha\u001b[49m\u001b[38;5;241;43m=\u001b[39;49m\u001b[43mtrust_alpha\u001b[49m\u001b[43m,\u001b[49m\n\u001b[0;32m   1952\u001b[0m \u001b[43m    \u001b[49m\u001b[43mshowfliers\u001b[49m\u001b[38;5;241;43m=\u001b[39;49m\u001b[43mshowfliers\u001b[49m\u001b[43m,\u001b[49m\n\u001b[0;32m   1953\u001b[0m \u001b[43m    \u001b[49m\u001b[43mbox_kws\u001b[49m\u001b[38;5;241;43m=\u001b[39;49m\u001b[43mbox_kws\u001b[49m\u001b[43m,\u001b[49m\n\u001b[0;32m   1954\u001b[0m \u001b[43m    \u001b[49m\u001b[43mflier_kws\u001b[49m\u001b[38;5;241;43m=\u001b[39;49m\u001b[43mflier_kws\u001b[49m\u001b[43m,\u001b[49m\n\u001b[0;32m   1955\u001b[0m \u001b[43m    \u001b[49m\u001b[43mline_kws\u001b[49m\u001b[38;5;241;43m=\u001b[39;49m\u001b[43mline_kws\u001b[49m\u001b[43m,\u001b[49m\n\u001b[0;32m   1956\u001b[0m \u001b[43m    \u001b[49m\u001b[43mplot_kws\u001b[49m\u001b[38;5;241;43m=\u001b[39;49m\u001b[43mkwargs\u001b[49m\u001b[43m,\u001b[49m\n\u001b[0;32m   1957\u001b[0m \u001b[43m\u001b[49m\u001b[43m)\u001b[49m\n\u001b[0;32m   1959\u001b[0m p\u001b[38;5;241m.\u001b[39m_add_axis_labels(ax)\n\u001b[0;32m   1960\u001b[0m p\u001b[38;5;241m.\u001b[39m_adjust_cat_axis(ax, axis\u001b[38;5;241m=\u001b[39mp\u001b[38;5;241m.\u001b[39morient)\n",
      "File \u001b[1;32m~\\AppData\\Local\\anaconda3\\envs\\tyche2\\lib\\site-packages\\seaborn\\categorical.py:796\u001b[0m, in \u001b[0;36m_CategoricalPlotter.plot_boxens\u001b[1;34m(self, width, dodge, gap, fill, color, linecolor, linewidth, width_method, k_depth, outlier_prop, trust_alpha, showfliers, box_kws, flier_kws, line_kws, plot_kws)\u001b[0m\n\u001b[0;32m    791\u001b[0m pos_data \u001b[38;5;241m=\u001b[39m pd\u001b[38;5;241m.\u001b[39mDataFrame({\n\u001b[0;32m    792\u001b[0m     \u001b[38;5;28mself\u001b[39m\u001b[38;5;241m.\u001b[39morient: [sub_vars[\u001b[38;5;28mself\u001b[39m\u001b[38;5;241m.\u001b[39morient]],\n\u001b[0;32m    793\u001b[0m     \u001b[38;5;124m\"\u001b[39m\u001b[38;5;124mwidth\u001b[39m\u001b[38;5;124m\"\u001b[39m: [width \u001b[38;5;241m*\u001b[39m \u001b[38;5;28mself\u001b[39m\u001b[38;5;241m.\u001b[39m_native_width],\n\u001b[0;32m    794\u001b[0m })\n\u001b[0;32m    795\u001b[0m \u001b[38;5;28;01mif\u001b[39;00m dodge:\n\u001b[1;32m--> 796\u001b[0m     \u001b[38;5;28;43mself\u001b[39;49m\u001b[38;5;241;43m.\u001b[39;49m\u001b[43m_dodge\u001b[49m\u001b[43m(\u001b[49m\u001b[43msub_vars\u001b[49m\u001b[43m,\u001b[49m\u001b[43m \u001b[49m\u001b[43mpos_data\u001b[49m\u001b[43m)\u001b[49m\n\u001b[0;32m    797\u001b[0m \u001b[38;5;28;01mif\u001b[39;00m gap:\n\u001b[0;32m    798\u001b[0m     pos_data[\u001b[38;5;124m\"\u001b[39m\u001b[38;5;124mwidth\u001b[39m\u001b[38;5;124m\"\u001b[39m] \u001b[38;5;241m*\u001b[39m\u001b[38;5;241m=\u001b[39m \u001b[38;5;241m1\u001b[39m \u001b[38;5;241m-\u001b[39m gap\n",
      "File \u001b[1;32m~\\AppData\\Local\\anaconda3\\envs\\tyche2\\lib\\site-packages\\seaborn\\categorical.py:391\u001b[0m, in \u001b[0;36m_CategoricalPlotter._dodge\u001b[1;34m(self, keys, data)\u001b[0m\n\u001b[0;32m    389\u001b[0m \u001b[38;5;28;01mdef\u001b[39;00m \u001b[38;5;21m_dodge\u001b[39m(\u001b[38;5;28mself\u001b[39m, keys, data):\n\u001b[0;32m    390\u001b[0m \u001b[38;5;250m    \u001b[39m\u001b[38;5;124;03m\"\"\"Apply a dodge transform to coordinates in place.\"\"\"\u001b[39;00m\n\u001b[1;32m--> 391\u001b[0m     hue_idx \u001b[38;5;241m=\u001b[39m \u001b[38;5;28;43mself\u001b[39;49m\u001b[38;5;241;43m.\u001b[39;49m\u001b[43m_hue_map\u001b[49m\u001b[38;5;241;43m.\u001b[39;49m\u001b[43mlevels\u001b[49m\u001b[38;5;241;43m.\u001b[39;49m\u001b[43mindex\u001b[49m(keys[\u001b[38;5;124m\"\u001b[39m\u001b[38;5;124mhue\u001b[39m\u001b[38;5;124m\"\u001b[39m])\n\u001b[0;32m    392\u001b[0m     n \u001b[38;5;241m=\u001b[39m \u001b[38;5;28mlen\u001b[39m(\u001b[38;5;28mself\u001b[39m\u001b[38;5;241m.\u001b[39m_hue_map\u001b[38;5;241m.\u001b[39mlevels)\n\u001b[0;32m    393\u001b[0m     data[\u001b[38;5;124m\"\u001b[39m\u001b[38;5;124mwidth\u001b[39m\u001b[38;5;124m\"\u001b[39m] \u001b[38;5;241m/\u001b[39m\u001b[38;5;241m=\u001b[39m n\n",
      "\u001b[1;31mAttributeError\u001b[0m: 'NoneType' object has no attribute 'index'"
     ]
    },
    {
     "data": {
      "image/png": "[encoded data removed]",
      "text/plain": [
       "<Figure size 640x480 with 1 Axes>"
      ]
     },
     "metadata": {},
     "output_type": "display_data"
    }
   ],
   "source": [
    "g = sb.boxenplot(\n",
    "    x=\"Tranche\",\n",
    "    y=\"Value\",\n",
    "    dodge=True,\n",
    "    cut=0,\n",
    "    data=tranche_results.xs(\n",
    "        (\"Delta Overall Efficiency\", \"Technology A\"),\n",
    "        level=[\"Index\", \"Technology\"]\n",
    "    ).reset_index(\n",
    "    )[[\"Tranche\", \"Value\"]],\n",
    "    order=[\n",
    "        'Component B0 Low Funding',\n",
    "        'Component B0 Medium Funding',\n",
    "        'Component B0 High Funding',\n",
    "        'Component B1 Low Funding',\n",
    "        'Component B1 Medium Funding',\n",
    "        'Component B1 High Funding',\n",
    "        'Component B2 Low Funding',\n",
    "        'Component B2 Medium Funding',\n",
    "        'Component B2 High Funding',\n",
    "    ]\n",
    ")\n",
    "g.set(ylabel=\"Change in Overall Efficiency\\nRelative to Current State\",\n",
    "     title=\"Overall Efficiency Progress (Technology A Only)\\n with Component B0, B1, B2 R&D\")\n",
    "g.set_xticklabels(g.get_xticklabels(), rotation=30, ha='right', rotation_mode='anchor')\n",
    "g.axhline(y=0, linestyle=\":\", label='Current State')\n",
    "g.legend()"
   ]
  },
  {
   "cell_type": "code",
   "execution_count": null,
   "metadata": {
    "scrolled": false
   },
   "outputs": [],
   "source": [
    "g = sb.swarmplot(\n",
    "    x=\"Tranche\",\n",
    "    y=\"Value\",\n",
    "    hue=\"Technology\",\n",
    "    data=tranche_results.xs(\n",
    "        \"Delta Environment\",\n",
    "        level=\"Index\"\n",
    "    ).reset_index()[[\"Technology\", \"Category\", \"Tranche\", \"Value\"]],\n",
    "    dodge=True,\n",
    "    size=1.5,\n",
    "    order=[\n",
    "        \"Efficiency Low Funding\"    ,\n",
    "        \"Efficiency Medium Funding\",\n",
    "        \"Efficiency High Funding\"    ,\n",
    "        \"Peripherals Low Funding\"         ,\n",
    "        \"Peripherals Medium Funding\"     ,\n",
    "        \"Peripherals High Funding\"         ,\n",
    "    ]\n",
    ")\n",
    "g.set(ylabel=\"Change in Environmental Impact per Unit F\\nRelative to Current State\",\n",
    "     title=\"Environmental Impact Progress with Efficiency and Peripherals R&D\")\n",
    "g.set_xticklabels(g.get_xticklabels(), rotation=30, ha='right', rotation_mode='anchor')\n",
    "g.axhline(y=0, linestyle=\":\", label='Current State')\n",
    "g.legend()"
   ]
  },
  {
   "cell_type": "markdown",
   "metadata": {},
   "source": [
    "## Evaluate the Investments\n",
    "\n",
    "Each Investment is a combination of one or more Tranches, and as such represent the progress possible when invesments are made across multiple research Categories."
   ]
  },
  {
   "cell_type": "code",
   "execution_count": null,
   "metadata": {},
   "outputs": [],
   "source": [
    "investment_results = investments.evaluate_investments(designs, sample_count=100)"
   ]
  },
  {
   "cell_type": "markdown",
   "metadata": {},
   "source": [
    "### Costs of investments"
   ]
  },
  {
   "cell_type": "code",
   "execution_count": null,
   "metadata": {},
   "outputs": [],
   "source": [
    "investment_results.amounts"
   ]
  },
  {
   "cell_type": "code",
   "execution_count": null,
   "metadata": {},
   "outputs": [],
   "source": [
    "investment_results.summary.xs(1, level=\"Sample\", drop_level=False)"
   ]
  },
  {
   "cell_type": "code",
   "execution_count": null,
   "metadata": {
    "scrolled": false
   },
   "outputs": [],
   "source": [
    "g = sb.boxplot(\n",
    "    x=\"Investment\",\n",
    "    y=\"Value\",\n",
    "    hue=\"Technology\",\n",
    "    data=investment_results.metrics.xs(\n",
    "        \"Delta Overall Efficiency\",\n",
    "        level=\"Index\"\n",
    "    ).groupby(\n",
    "        [\"Technology\",\"Investment\", \"Sample\"]\n",
    "    ).sum(\n",
    "        numeric_only=True\n",
    "    ).reset_index()[[\"Technology\",\"Investment\", \"Value\"]],\n",
    "    order=[\n",
    "        \"Low Budget, All Categories\"      ,\n",
    "        \"Medium Budget, All Categories\"      ,\n",
    "        \"High Budget, All Categories\",\n",
    "        \"Low Budget, Components Only\"  ,\n",
    "        \"Medium Budget, Components Only\"    ,\n",
    "        \"High Budget, Components Only\"\n",
    "    ]\n",
    ")\n",
    "g.set(ylabel=\"Overall Efficiency\")\n",
    "g.set_xticklabels(g.get_xticklabels(), rotation=30, ha='right', rotation_mode='anchor')\n",
    "g.axhline(y=0, linestyle=\":\", label='Current State')\n",
    "g.legend()"
   ]
  },
  {
   "cell_type": "code",
   "execution_count": null,
   "metadata": {},
   "outputs": [],
   "source": [
    "g = sb.boxenplot(\n",
    "    x=\"Investment\",\n",
    "    y=\"Value\",\n",
    "    hue=\"Technology\",\n",
    "    data=investment_results.metrics.xs(\n",
    "        \"Delta Environment\",\n",
    "        level=\"Index\"\n",
    "    ).groupby(\n",
    "        [\"Technology\",\"Investment\", \"Sample\"]\n",
    "    ).sum(\n",
    "        numeric_only=True\n",
    "    ).reset_index()[[\"Technology\",\"Investment\", \"Value\"]],\n",
    "    order=[\n",
    "        \"Low Budget, All Categories\"      ,\n",
    "        \"Medium Budget, All Categories\"      ,\n",
    "        \"High Budget, All Categories\",\n",
    "        \"Low Budget, Components Only\"  ,\n",
    "        \"Medium Budget, Components Only\"    ,\n",
    "        \"High Budget, Components Only\"\n",
    "    ]\n",
    ")\n",
    "g.set(ylabel=\"Environmental Impact per Unit F\")\n",
    "g.set_xticklabels(g.get_xticklabels(), rotation=30, ha='right', rotation_mode='anchor')\n",
    "g.axhline(y=0, linestyle=\":\", label='Current State')\n",
    "g.legend()"
   ]
  },
  {
   "cell_type": "code",
   "execution_count": null,
   "metadata": {},
   "outputs": [],
   "source": [
    "g = sb.violinplot(\n",
    "    x=\"Investment\",\n",
    "    y=\"Value\",\n",
    "    hue=\"Technology\",\n",
    "    cut=0,\n",
    "    data=investment_results.metrics.xs(\n",
    "        \"Delta Labor\",\n",
    "        level=\"Index\"\n",
    "    ).groupby(\n",
    "        [\"Technology\",\"Investment\", \"Sample\"]\n",
    "    ).sum(\n",
    "        numeric_only=True\n",
    "    ).reset_index()[[\"Technology\",\"Investment\", \"Value\"]],\n",
    "    order=[\n",
    "        \"Low Budget, All Categories\"      ,\n",
    "        \"Medium Budget, All Categories\"      ,\n",
    "        \"High Budget, All Categories\",\n",
    "        \"Low Budget, Components Only\"  ,\n",
    "        \"Medium Budget, Components Only\"    ,\n",
    "        \"High Budget, Components Only\"\n",
    "    ]\n",
    ")\n",
    "g.set(ylabel=\"Labor per Unit F\")\n",
    "g.set_xticklabels(g.get_xticklabels(), rotation=30, ha='right', rotation_mode='anchor')\n",
    "g.axhline(y=0, linestyle=\":\", label='Current State')\n",
    "g.legend()"
   ]
  },
  {
   "cell_type": "code",
   "execution_count": null,
   "metadata": {},
   "outputs": [],
   "source": [
    "g = sb.swarmplot(\n",
    "    x=\"Investment\",\n",
    "    y=\"Value\",\n",
    "    hue=\"Technology\",\n",
    "    size=2,\n",
    "    dodge=True,\n",
    "    data=investment_results.metrics.xs(\n",
    "        \"Delta System Cost\",\n",
    "        level=\"Index\"\n",
    "    ).groupby(\n",
    "        [\"Technology\",\"Investment\", \"Sample\"]\n",
    "    ).sum(\n",
    "        numeric_only=True\n",
    "    ).reset_index()[[\"Technology\",\"Investment\", \"Value\"]],\n",
    "    order=[\n",
    "        \"Low Budget, All Categories\"      ,\n",
    "        \"Medium Budget, All Categories\"      ,\n",
    "        \"High Budget, All Categories\",\n",
    "        \"Low Budget, Components Only\"  ,\n",
    "        \"Medium Budget, Components Only\"    ,\n",
    "        \"High Budget, Components Only\"\n",
    "    ]\n",
    ")\n",
    "g.set(ylabel=\"Change in Annualized System Cost\")\n",
    "g.set_xticklabels(g.get_xticklabels(), rotation=30, ha='right', rotation_mode='anchor')\n",
    "g.axhline(y=0, linestyle=\":\", label='Current State')\n",
    "g.legend()\n",
    "pl.savefig('change-system-cost.svg')"
   ]
  },
  {
   "cell_type": "markdown",
   "metadata": {},
   "source": [
    "## Multi-objective decision analysis."
   ]
  },
  {
   "cell_type": "markdown",
   "metadata": {},
   "source": [
    "### Compute costs and metrics for tranches."
   ]
  },
  {
   "cell_type": "markdown",
   "metadata": {},
   "source": [
    "Tranches are atomic units for building investment portfolios. Evaluate all of the tranches, so we can assemble them into investments (portfolios)."
   ]
  },
  {
   "cell_type": "code",
   "execution_count": null,
   "metadata": {},
   "outputs": [],
   "source": [
    "tranche_results = investments.evaluate_tranches(designs, sample_count=100)"
   ]
  },
  {
   "cell_type": "markdown",
   "metadata": {},
   "source": [
    "Display the cost of each tranche."
   ]
  },
  {
   "cell_type": "code",
   "execution_count": null,
   "metadata": {},
   "outputs": [],
   "source": [
    "tranche_results.amounts"
   ]
  },
  {
   "cell_type": "markdown",
   "metadata": {},
   "source": [
    "Display the metrics for each tranche."
   ]
  },
  {
   "cell_type": "code",
   "execution_count": null,
   "metadata": {},
   "outputs": [],
   "source": [
    "tranche_results.summary"
   ]
  },
  {
   "cell_type": "markdown",
   "metadata": {},
   "source": [
    "## Optimization: Setup\n",
    "\n",
    "Fit a response surface to the results."
   ]
  },
  {
   "cell_type": "markdown",
   "metadata": {},
   "source": [
    "The response surface interpolates between the discrete set of cases provided in the expert elicitation. This allows us to study funding levels intermediate between those scenarios."
   ]
  },
  {
   "cell_type": "code",
   "execution_count": null,
   "metadata": {},
   "outputs": [],
   "source": [
    "evaluator = ty.Evaluator(tranche_results)"
   ]
  },
  {
   "cell_type": "markdown",
   "metadata": {},
   "source": [
    "Here are the categories of investment and the maximum amount that could be invested in each:"
   ]
  },
  {
   "cell_type": "code",
   "execution_count": null,
   "metadata": {},
   "outputs": [],
   "source": [
    "evaluator.max_amount"
   ]
  },
  {
   "cell_type": "markdown",
   "metadata": {},
   "source": [
    "Create an `optimizer` object to define and solve single- and multi-objective optimization problems."
   ]
  },
  {
   "cell_type": "code",
   "execution_count": null,
   "metadata": {},
   "outputs": [],
   "source": [
    "optimizer = ty.EpsilonConstraintOptimizer(evaluator)"
   ]
  },
  {
   "cell_type": "markdown",
   "metadata": {},
   "source": [
    "## Optimization: Single Objective"
   ]
  },
  {
   "cell_type": "markdown",
   "metadata": {},
   "source": [
    "Given a budget of \\\\$5M USD, what's the highest possible increase in overall efficiency?"
   ]
  },
  {
   "cell_type": "code",
   "execution_count": null,
   "metadata": {
    "scrolled": false
   },
   "outputs": [],
   "source": [
    "efficiency_5M = optimizer.opt_slsqp(\n",
    "    'Delta Overall Efficiency', # Name of the metric to be optimized\n",
    "    sense = 'max'             , # Should the metric be minimized or maximized?\n",
    "    total_amount = 5e6        , # What's the budget (USD)?\n",
    "    statistic    = 'mean'     , # What statistic should be used in the optimization?\n",
    ")\n",
    "print(efficiency_5M.exit_message)\n",
    "if efficiency_5M.exit_code == 0:\n",
    "    print('\\nInvestment by Category:')\n",
    "    print(np.round(efficiency_5M.amounts))\n",
    "    print('\\nImpact on Metrics:')\n",
    "    print(efficiency_5M.metrics.apply(np.round, decimals=2))"
   ]
  },
  {
   "cell_type": "markdown",
   "metadata": {},
   "source": [
    "Looking under Impact on Metrics, we see that the highest possible increase in overall efficiency with a budget of \\\\$5M is 0.10. To achieve this increase, funding is allocated as shown under Investment by Category: Component B1 and Efficiency are funded equally. No funding is allocated to any other category."
   ]
  },
  {
   "cell_type": "markdown",
   "metadata": {},
   "source": [
    "Can we achieve a higher increase in overall efficiency if we increase the budget from \\\\$5M to \\\\$8M?"
   ]
  },
  {
   "cell_type": "code",
   "execution_count": null,
   "metadata": {},
   "outputs": [],
   "source": [
    "efficiency_8M = optimizer.opt_slsqp(\n",
    "    'Delta Overall Efficiency', # Name of the metric to be optimized\n",
    "    sense = 'max'             , # Should the metric be minimized or maximized?\n",
    "    total_amount = 8e6        , # What's the budget (USD)?\n",
    "    statistic    = 'mean'     , # What statistic should be used in the optimization?\n",
    "    maxiter=100,\n",
    ")\n",
    "print(efficiency_8M.exit_message)\n",
    "if efficiency_8M.exit_code == 0:\n",
    "    print('\\nInvestment by Category:')\n",
    "    print(np.round(efficiency_8M.amounts))\n",
    "    print('\\nImpact on Metrics:')\n",
    "    print(efficiency_8M.metrics.apply(np.round, decimals=2))"
   ]
  },
  {
   "cell_type": "markdown",
   "metadata": {},
   "source": [
    "With an additional \\\\$3M in the budget, the increase in overall efficiency is 0.13 (compare to 0.10 with the lower budget). The funding allocation has also changed: Component B1 now has the highest funding allocation, followed by Efficiency, Peripherals, and finally Component B. No other category receives funding.\n",
    "\n",
    "Note that in the code block above, an additional optimization parameter was added: `maxiter` was set to 100. This parameter sets the number of iterations that the algorithm is allowed to perform before terminating, in the case that an optimum is not found. By default, `maxiter` is 50, but this problem cannot solve within 50 iterations. By allowing for 100 iterations, the algorithm was able to find an optimum.\n",
    "\n",
    "Returning to the \\\\$5M budget, what's the largest possible decrease in environmental impacts?\n",
    "\n",
    "Note we are now interested in minimizing the metric being optimized. In the previous two problems, we were interested in increasing efficiency and so we maximized the metric."
   ]
  },
  {
   "cell_type": "code",
   "execution_count": null,
   "metadata": {},
   "outputs": [],
   "source": [
    "env_5M = optimizer.opt_slsqp(\n",
    "    'Delta Environment', # Name of the metric to be optimized\n",
    "    sense = 'min'      , # Minimize the environmental impact metric\n",
    "    total_amount = 5e6 , # Set the budget at 5 million USD\n",
    "    statistic = 'mean' , # Use the neutral mean statistic\n",
    ")\n",
    "print(env_5M.exit_message)\n",
    "if env_5M.exit_code == 0:\n",
    "    print('\\nInvestment by Category:')\n",
    "    print(np.round(env_5M.amounts))\n",
    "    print('\\nImpact on Metrics:')\n",
    "    print(env_5M.metrics.apply(np.round, decimals=2))"
   ]
  },
  {
   "cell_type": "markdown",
   "metadata": {},
   "source": [
    "This is the same optimum that was found when efficiency was maximized, indicating that this funding allocation represents the best possible performance in both metrics."
   ]
  },
  {
   "cell_type": "code",
   "execution_count": null,
   "metadata": {},
   "outputs": [],
   "source": [
    "lab_5M = optimizer.opt_slsqp(\n",
    "    'Delta Labor', # Name of the metric to be optimized\n",
    "    sense = 'min'      , # Minimize the environmental impact metric\n",
    "    total_amount = 5e6 , # Set the budget at 5 million USD\n",
    "    statistic = 'mean' , # Use the neutral mean statistic\n",
    ")\n",
    "print(lab_5M.exit_message)\n",
    "if lab_5M.exit_code == 0:\n",
    "    print('\\nInvestment by Category:')\n",
    "    print(np.round(lab_5M.amounts))\n",
    "    print('\\nImpact on Metrics:')\n",
    "    print(lab_5M.metrics.apply(np.round, decimals=2))"
   ]
  },
  {
   "cell_type": "code",
   "execution_count": null,
   "metadata": {},
   "outputs": [],
   "source": [
    "cos_5M = optimizer.opt_slsqp(\n",
    "    'Delta System Cost', # Name of the metric to be optimized\n",
    "    sense = 'min'      , # Minimize the environmental impact metric\n",
    "    total_amount = 4.85e6 , # Set the budget at 5 million USD\n",
    "    statistic = 'mean' , # Use the neutral mean statistic\n",
    ")\n",
    "print(cos_5M.exit_message)\n",
    "if cos_5M.exit_code == 0:\n",
    "    print('\\nInvestment by Category:')\n",
    "    print(np.round(cos_5M.amounts))\n",
    "    print('\\nImpact on Metrics:')\n",
    "    print(cos_5M.metrics.apply(np.round, decimals=2))"
   ]
  },
  {
   "cell_type": "markdown",
   "metadata": {},
   "source": [
    "## Optimization: Multi-Objective via $\\epsilon$ constraint method\n",
    "\n",
    "Virtually all decision contexts analyzed with Tyche will involve multiple, probably competing or conflicting, objectives (metrics). The $\\epsilon$ constraint method is one way to include multiple metrics in a single objective problem, instead of the single-objective problems demonstrated above. In the $\\epsilon$ constraint method, a single metric is chosen to be maximized or minimized subject to constraints on one or more additional metrics that represent desired progress.\n",
    "\n",
    "For instance, suppose we want to find out how much we can increase efficiency with a \\\\$5M budget, but we simultaneously want to reduce the environmental impact by at least 5 units per unit of output F. Using the $\\epsilon$ constraint method built into Tyche, this problem is set up and solved in the code block below."
   ]
  },
  {
   "cell_type": "code",
   "execution_count": null,
   "metadata": {
    "scrolled": false
   },
   "outputs": [],
   "source": [
    "lab_env_5M = optimizer.opt_slsqp(\n",
    "    metric = 'Delta Labor',\n",
    "    sense = 'min', \n",
    "    total_amount = 5e6,\n",
    "    eps_metric = {'Delta Environment': \n",
    "                  {'limit': -4.45,\n",
    "                   'sense': 'upper'}},\n",
    ")\n",
    "\n",
    "print(lab_env_5M.exit_message)\n",
    "if lab_env_5M.exit_code == 0:\n",
    "    print('\\nInvestment by Category:')\n",
    "    print(np.round(lab_env_5M.amounts))\n",
    "    print('\\nImpact on Metrics:')\n",
    "    print(lab_env_5M.metrics.apply(np.round, decimals=2))"
   ]
  }
 ],
 "metadata": {
  "kernelspec": {
   "display_name": "Python 3 (ipykernel)",
   "language": "python",
   "name": "python3"
  },
  "language_info": {
   "codemirror_mode": {
    "name": "ipython",
    "version": 3
   },
   "file_extension": ".py",
   "mimetype": "text/x-python",
   "name": "python",
   "nbconvert_exporter": "python",
   "pygments_lexer": "ipython3",
   "version": "3.10.4"
  }
 },
 "nbformat": 4,
 "nbformat_minor": 2
}
