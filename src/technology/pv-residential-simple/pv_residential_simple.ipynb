{
 "cells": [
  {
   "cell_type": "markdown",
   "metadata": {},
   "source": [
    "# Multiple Objectives for Residential PV"
   ]
  },
  {
   "cell_type": "markdown",
   "metadata": {},
   "source": [
    "## Set up."
   ]
  },
  {
   "cell_type": "markdown",
   "metadata": {},
   "source": [
    "### One only needs to execute the following line once, in order to make sure recent enough packages are installed."
   ]
  },
  {
   "cell_type": "code",
   "execution_count": 1,
   "metadata": {},
   "outputs": [],
   "source": [
    "#!pip install 'numpy>=1.17.2' 'pandas>=0.25.1'"
   ]
  },
  {
   "cell_type": "markdown",
   "metadata": {},
   "source": [
    "### Import packages."
   ]
  },
  {
   "cell_type": "code",
   "execution_count": 2,
   "metadata": {},
   "outputs": [],
   "source": [
    "import os\n",
    "import sys\n",
    "sys.path.insert(0, os.path.abspath(\"../../../src\"))"
   ]
  },
  {
   "cell_type": "code",
   "execution_count": 3,
   "metadata": {},
   "outputs": [],
   "source": [
    "import numpy             as np\n",
    "import matplotlib.pyplot as pl\n",
    "import pandas            as pd\n",
    "import seaborn           as sb\n",
    "\n",
    "# The `tyche` package is located at <https://github.com/NREL/portfolio/tree/master/production-function/src/tyche/>.\n",
    "import tyche             as ty\n",
    "\n",
    "from copy            import deepcopy\n",
    "from IPython.display import Image "
   ]
  },
  {
   "cell_type": "markdown",
   "metadata": {},
   "source": [
    "## Load data."
   ]
  },
  {
   "cell_type": "markdown",
   "metadata": {},
   "source": [
    "### The data are stored in a set of tab-separated value files in a folder."
   ]
  },
  {
   "cell_type": "code",
   "execution_count": 4,
   "metadata": {
    "scrolled": false
   },
   "outputs": [],
   "source": [
    "designs = ty.Designs(path = '.',\n",
    "                     name = 'pv-residential-simple.xlsx')"
   ]
  },
  {
   "cell_type": "code",
   "execution_count": 5,
   "metadata": {},
   "outputs": [],
   "source": [
    "investments = ty.Investments(path = '.',\n",
    "                             name = 'pv-residential-simple.xlsx')"
   ]
  },
  {
   "cell_type": "markdown",
   "metadata": {},
   "source": [
    "### Compile the production and metric functions for each technology in the dataset."
   ]
  },
  {
   "cell_type": "code",
   "execution_count": 6,
   "metadata": {},
   "outputs": [],
   "source": [
    "designs.compile()"
   ]
  },
  {
   "cell_type": "markdown",
   "metadata": {},
   "source": [
    "## Examine the data."
   ]
  },
  {
   "cell_type": "markdown",
   "metadata": {},
   "source": [
    "### The `functions` table specifies where the Python code for each technology resides."
   ]
  },
  {
   "cell_type": "code",
   "execution_count": 7,
   "metadata": {},
   "outputs": [
    {
     "data": {
      "text/html": [
       "<div>\n",
       "<style scoped>\n",
       "    .dataframe tbody tr th:only-of-type {\n",
       "        vertical-align: middle;\n",
       "    }\n",
       "\n",
       "    .dataframe tbody tr th {\n",
       "        vertical-align: top;\n",
       "    }\n",
       "\n",
       "    .dataframe thead th {\n",
       "        text-align: right;\n",
       "    }\n",
       "</style>\n",
       "<table border=\"1\" class=\"dataframe\">\n",
       "  <thead>\n",
       "    <tr style=\"text-align: right;\">\n",
       "      <th></th>\n",
       "      <th>Style</th>\n",
       "      <th>Model</th>\n",
       "      <th>Capital</th>\n",
       "      <th>Fixed</th>\n",
       "      <th>Production</th>\n",
       "      <th>Metrics</th>\n",
       "      <th>Notes</th>\n",
       "    </tr>\n",
       "    <tr>\n",
       "      <th>Technology</th>\n",
       "      <th></th>\n",
       "      <th></th>\n",
       "      <th></th>\n",
       "      <th></th>\n",
       "      <th></th>\n",
       "      <th></th>\n",
       "      <th></th>\n",
       "    </tr>\n",
       "  </thead>\n",
       "  <tbody>\n",
       "    <tr>\n",
       "      <th>Residential PV</th>\n",
       "      <td>numpy</td>\n",
       "      <td>pv_residential_simple</td>\n",
       "      <td>capital_cost</td>\n",
       "      <td>fixed_cost</td>\n",
       "      <td>production</td>\n",
       "      <td>metrics</td>\n",
       "      <td>NaN</td>\n",
       "    </tr>\n",
       "  </tbody>\n",
       "</table>\n",
       "</div>"
      ],
      "text/plain": [
       "                Style                  Model       Capital       Fixed  \\\n",
       "Technology                                                               \n",
       "Residential PV  numpy  pv_residential_simple  capital_cost  fixed_cost   \n",
       "\n",
       "                Production  Metrics Notes  \n",
       "Technology                                 \n",
       "Residential PV  production  metrics   NaN  "
      ]
     },
     "execution_count": 7,
     "metadata": {},
     "output_type": "execute_result"
    }
   ],
   "source": [
    "designs.functions"
   ]
  },
  {
   "cell_type": "markdown",
   "metadata": {},
   "source": [
    "Right now, only the style `numpy` is supported."
   ]
  },
  {
   "cell_type": "markdown",
   "metadata": {},
   "source": [
    "### The `indices` table defines the subscripts for variables."
   ]
  },
  {
   "cell_type": "code",
   "execution_count": 8,
   "metadata": {},
   "outputs": [
    {
     "data": {
      "text/html": [
       "<div>\n",
       "<style scoped>\n",
       "    .dataframe tbody tr th:only-of-type {\n",
       "        vertical-align: middle;\n",
       "    }\n",
       "\n",
       "    .dataframe tbody tr th {\n",
       "        vertical-align: top;\n",
       "    }\n",
       "\n",
       "    .dataframe thead th {\n",
       "        text-align: right;\n",
       "    }\n",
       "</style>\n",
       "<table border=\"1\" class=\"dataframe\">\n",
       "  <thead>\n",
       "    <tr style=\"text-align: right;\">\n",
       "      <th></th>\n",
       "      <th></th>\n",
       "      <th></th>\n",
       "      <th>Offset</th>\n",
       "      <th>Description</th>\n",
       "      <th>Notes</th>\n",
       "    </tr>\n",
       "    <tr>\n",
       "      <th>Technology</th>\n",
       "      <th>Type</th>\n",
       "      <th>Index</th>\n",
       "      <th></th>\n",
       "      <th></th>\n",
       "      <th></th>\n",
       "    </tr>\n",
       "  </thead>\n",
       "  <tbody>\n",
       "    <tr>\n",
       "      <th rowspan=\"8\" valign=\"top\">Residential PV</th>\n",
       "      <th rowspan=\"3\" valign=\"top\">Capital</th>\n",
       "      <th>BoS</th>\n",
       "      <td>2</td>\n",
       "      <td>balance of system</td>\n",
       "      <td>NaN</td>\n",
       "    </tr>\n",
       "    <tr>\n",
       "      <th>Inverter</th>\n",
       "      <td>1</td>\n",
       "      <td>system inverters</td>\n",
       "      <td>NaN</td>\n",
       "    </tr>\n",
       "    <tr>\n",
       "      <th>Module</th>\n",
       "      <td>0</td>\n",
       "      <td>system module</td>\n",
       "      <td>NaN</td>\n",
       "    </tr>\n",
       "    <tr>\n",
       "      <th>Input</th>\n",
       "      <th>NaN</th>\n",
       "      <td>0</td>\n",
       "      <td>no inputs</td>\n",
       "      <td>NaN</td>\n",
       "    </tr>\n",
       "    <tr>\n",
       "      <th rowspan=\"3\" valign=\"top\">Metric</th>\n",
       "      <th>GHG</th>\n",
       "      <td>2</td>\n",
       "      <td>reduction in GHGs</td>\n",
       "      <td>NaN</td>\n",
       "    </tr>\n",
       "    <tr>\n",
       "      <th>LCOE</th>\n",
       "      <td>0</td>\n",
       "      <td>reduction in levelized cost of energy</td>\n",
       "      <td>NaN</td>\n",
       "    </tr>\n",
       "    <tr>\n",
       "      <th>Labor</th>\n",
       "      <td>1</td>\n",
       "      <td>increase in spending on wages</td>\n",
       "      <td>NaN</td>\n",
       "    </tr>\n",
       "    <tr>\n",
       "      <th>Output</th>\n",
       "      <th>Electricity</th>\n",
       "      <td>0</td>\n",
       "      <td>electricity generated</td>\n",
       "      <td>NaN</td>\n",
       "    </tr>\n",
       "  </tbody>\n",
       "</table>\n",
       "</div>"
      ],
      "text/plain": [
       "                                    Offset  \\\n",
       "Technology     Type    Index                 \n",
       "Residential PV Capital BoS               2   \n",
       "                       Inverter          1   \n",
       "                       Module            0   \n",
       "               Input   NaN               0   \n",
       "               Metric  GHG               2   \n",
       "                       LCOE              0   \n",
       "                       Labor             1   \n",
       "               Output  Electricity       0   \n",
       "\n",
       "                                                              Description  \\\n",
       "Technology     Type    Index                                                \n",
       "Residential PV Capital BoS                              balance of system   \n",
       "                       Inverter                          system inverters   \n",
       "                       Module                               system module   \n",
       "               Input   NaN                                      no inputs   \n",
       "               Metric  GHG                              reduction in GHGs   \n",
       "                       LCOE         reduction in levelized cost of energy   \n",
       "                       Labor                increase in spending on wages   \n",
       "               Output  Electricity                  electricity generated   \n",
       "\n",
       "                                   Notes  \n",
       "Technology     Type    Index              \n",
       "Residential PV Capital BoS           NaN  \n",
       "                       Inverter      NaN  \n",
       "                       Module        NaN  \n",
       "               Input   NaN           NaN  \n",
       "               Metric  GHG           NaN  \n",
       "                       LCOE          NaN  \n",
       "                       Labor         NaN  \n",
       "               Output  Electricity   NaN  "
      ]
     },
     "execution_count": 8,
     "metadata": {},
     "output_type": "execute_result"
    }
   ],
   "source": [
    "designs.indices"
   ]
  },
  {
   "cell_type": "markdown",
   "metadata": {},
   "source": [
    "### The `designs` table contains the cost, input, efficiency, and price data for a scenario."
   ]
  },
  {
   "cell_type": "code",
   "execution_count": 9,
   "metadata": {},
   "outputs": [
    {
     "data": {
      "text/html": [
       "<div>\n",
       "<style scoped>\n",
       "    .dataframe tbody tr th:only-of-type {\n",
       "        vertical-align: middle;\n",
       "    }\n",
       "\n",
       "    .dataframe tbody tr th {\n",
       "        vertical-align: top;\n",
       "    }\n",
       "\n",
       "    .dataframe thead th {\n",
       "        text-align: right;\n",
       "    }\n",
       "</style>\n",
       "<table border=\"1\" class=\"dataframe\">\n",
       "  <thead>\n",
       "    <tr style=\"text-align: right;\">\n",
       "      <th></th>\n",
       "      <th></th>\n",
       "      <th></th>\n",
       "      <th></th>\n",
       "      <th>Value</th>\n",
       "      <th>Units</th>\n",
       "      <th>Notes</th>\n",
       "    </tr>\n",
       "    <tr>\n",
       "      <th>Technology</th>\n",
       "      <th>Scenario</th>\n",
       "      <th>Variable</th>\n",
       "      <th>Index</th>\n",
       "      <th></th>\n",
       "      <th></th>\n",
       "      <th></th>\n",
       "    </tr>\n",
       "  </thead>\n",
       "  <tbody>\n",
       "    <tr>\n",
       "      <th rowspan=\"11\" valign=\"top\">Residential PV</th>\n",
       "      <th rowspan=\"5\" valign=\"top\">2015 Actual</th>\n",
       "      <th>Input</th>\n",
       "      <th>NaN</th>\n",
       "      <td>0</td>\n",
       "      <td>1</td>\n",
       "      <td>no inputs</td>\n",
       "    </tr>\n",
       "    <tr>\n",
       "      <th>Input efficiency</th>\n",
       "      <th>NaN</th>\n",
       "      <td>1</td>\n",
       "      <td>1</td>\n",
       "      <td>no inputs</td>\n",
       "    </tr>\n",
       "    <tr>\n",
       "      <th>Input price</th>\n",
       "      <th>NaN</th>\n",
       "      <td>0</td>\n",
       "      <td>1</td>\n",
       "      <td>no inputs</td>\n",
       "    </tr>\n",
       "    <tr>\n",
       "      <th rowspan=\"2\" valign=\"top\">Lifetime</th>\n",
       "      <th>BoS</th>\n",
       "      <td>1</td>\n",
       "      <td>system-lifetime</td>\n",
       "      <td>per-lifetime computations</td>\n",
       "    </tr>\n",
       "    <tr>\n",
       "      <th>Inverter</th>\n",
       "      <td>1</td>\n",
       "      <td>system-lifetime</td>\n",
       "      <td>per-lifetime computations</td>\n",
       "    </tr>\n",
       "    <tr>\n",
       "      <th>...</th>\n",
       "      <th>...</th>\n",
       "      <th>...</th>\n",
       "      <td>...</td>\n",
       "      <td>...</td>\n",
       "      <td>...</td>\n",
       "    </tr>\n",
       "    <tr>\n",
       "      <th rowspan=\"5\" valign=\"top\">Module Slow Progress</th>\n",
       "      <th rowspan=\"2\" valign=\"top\">Lifetime</th>\n",
       "      <th>Inverter</th>\n",
       "      <td>1</td>\n",
       "      <td>system-lifetime</td>\n",
       "      <td>per-lifetime computations</td>\n",
       "    </tr>\n",
       "    <tr>\n",
       "      <th>Module</th>\n",
       "      <td>1</td>\n",
       "      <td>system-lifetime</td>\n",
       "      <td>per-lifetime computations</td>\n",
       "    </tr>\n",
       "    <tr>\n",
       "      <th>Output efficiency</th>\n",
       "      <th>Electricity</th>\n",
       "      <td>1</td>\n",
       "      <td>W/W</td>\n",
       "      <td>see parameter table for individual efficiencies</td>\n",
       "    </tr>\n",
       "    <tr>\n",
       "      <th>Output price</th>\n",
       "      <th>Electricity</th>\n",
       "      <td>0</td>\n",
       "      <td>$/kWh</td>\n",
       "      <td>not tracking electricity price</td>\n",
       "    </tr>\n",
       "    <tr>\n",
       "      <th>Scale</th>\n",
       "      <th>Electricity</th>\n",
       "      <td>1</td>\n",
       "      <td>system/system</td>\n",
       "      <td>no scaling</td>\n",
       "    </tr>\n",
       "  </tbody>\n",
       "</table>\n",
       "<p>90 rows × 3 columns</p>\n",
       "</div>"
      ],
      "text/plain": [
       "                                                                  Value  \\\n",
       "Technology     Scenario             Variable          Index               \n",
       "Residential PV 2015 Actual          Input             NaN             0   \n",
       "                                    Input efficiency  NaN             1   \n",
       "                                    Input price       NaN             0   \n",
       "                                    Lifetime          BoS             1   \n",
       "                                                      Inverter        1   \n",
       "...                                                                 ...   \n",
       "               Module Slow Progress Lifetime          Inverter        1   \n",
       "                                                      Module          1   \n",
       "                                    Output efficiency Electricity     1   \n",
       "                                    Output price      Electricity     0   \n",
       "                                    Scale             Electricity     1   \n",
       "\n",
       "                                                                             Units  \\\n",
       "Technology     Scenario             Variable          Index                          \n",
       "Residential PV 2015 Actual          Input             NaN                        1   \n",
       "                                    Input efficiency  NaN                        1   \n",
       "                                    Input price       NaN                        1   \n",
       "                                    Lifetime          BoS          system-lifetime   \n",
       "                                                      Inverter     system-lifetime   \n",
       "...                                                                            ...   \n",
       "               Module Slow Progress Lifetime          Inverter     system-lifetime   \n",
       "                                                      Module       system-lifetime   \n",
       "                                    Output efficiency Electricity              W/W   \n",
       "                                    Output price      Electricity            $/kWh   \n",
       "                                    Scale             Electricity    system/system   \n",
       "\n",
       "                                                                                                             Notes  \n",
       "Technology     Scenario             Variable          Index                                                         \n",
       "Residential PV 2015 Actual          Input             NaN                                                no inputs  \n",
       "                                    Input efficiency  NaN                                                no inputs  \n",
       "                                    Input price       NaN                                                no inputs  \n",
       "                                    Lifetime          BoS                                per-lifetime computations  \n",
       "                                                      Inverter                           per-lifetime computations  \n",
       "...                                                                                                            ...  \n",
       "               Module Slow Progress Lifetime          Inverter                           per-lifetime computations  \n",
       "                                                      Module                             per-lifetime computations  \n",
       "                                    Output efficiency Electricity  see parameter table for individual efficiencies  \n",
       "                                    Output price      Electricity                   not tracking electricity price  \n",
       "                                    Scale             Electricity                                       no scaling  \n",
       "\n",
       "[90 rows x 3 columns]"
      ]
     },
     "execution_count": 9,
     "metadata": {},
     "output_type": "execute_result"
    }
   ],
   "source": [
    "designs.designs"
   ]
  },
  {
   "cell_type": "markdown",
   "metadata": {},
   "source": [
    "### The `parameters` table contains additional techno-economic parameters for each technology."
   ]
  },
  {
   "cell_type": "code",
   "execution_count": 10,
   "metadata": {},
   "outputs": [
    {
     "data": {
      "text/html": [
       "<div>\n",
       "<style scoped>\n",
       "    .dataframe tbody tr th:only-of-type {\n",
       "        vertical-align: middle;\n",
       "    }\n",
       "\n",
       "    .dataframe tbody tr th {\n",
       "        vertical-align: top;\n",
       "    }\n",
       "\n",
       "    .dataframe thead th {\n",
       "        text-align: right;\n",
       "    }\n",
       "</style>\n",
       "<table border=\"1\" class=\"dataframe\">\n",
       "  <thead>\n",
       "    <tr style=\"text-align: right;\">\n",
       "      <th></th>\n",
       "      <th></th>\n",
       "      <th></th>\n",
       "      <th>Offset</th>\n",
       "      <th>Value</th>\n",
       "      <th>Units</th>\n",
       "      <th>Notes</th>\n",
       "    </tr>\n",
       "    <tr>\n",
       "      <th>Technology</th>\n",
       "      <th>Scenario</th>\n",
       "      <th>Parameter</th>\n",
       "      <th></th>\n",
       "      <th></th>\n",
       "      <th></th>\n",
       "      <th></th>\n",
       "    </tr>\n",
       "  </thead>\n",
       "  <tbody>\n",
       "    <tr>\n",
       "      <th rowspan=\"11\" valign=\"top\">Residential PV</th>\n",
       "      <th rowspan=\"5\" valign=\"top\">2015 Actual</th>\n",
       "      <th>Customer Acquisition</th>\n",
       "      <td>19</td>\n",
       "      <td>st.triang(0.5, loc=2000, scale=0.2)</td>\n",
       "      <td>$/system</td>\n",
       "      <td>BCA</td>\n",
       "    </tr>\n",
       "    <tr>\n",
       "      <th>DC-to-AC Ratio</th>\n",
       "      <td>15</td>\n",
       "      <td>st.triang(0.5, loc=1.4, scale=0.00014)</td>\n",
       "      <td>1</td>\n",
       "      <td>IDC</td>\n",
       "    </tr>\n",
       "    <tr>\n",
       "      <th>Direct Labor</th>\n",
       "      <td>17</td>\n",
       "      <td>st.triang(0.5, loc=2000, scale=0.2)</td>\n",
       "      <td>$/system</td>\n",
       "      <td>BLR</td>\n",
       "    </tr>\n",
       "    <tr>\n",
       "      <th>Discount Rate</th>\n",
       "      <td>0</td>\n",
       "      <td>0.07</td>\n",
       "      <td>1/year</td>\n",
       "      <td>DR</td>\n",
       "    </tr>\n",
       "    <tr>\n",
       "      <th>Hardware Capital</th>\n",
       "      <td>16</td>\n",
       "      <td>st.triang(0.5, loc=80, scale=0.008)</td>\n",
       "      <td>$/m^2</td>\n",
       "      <td>BCC</td>\n",
       "    </tr>\n",
       "    <tr>\n",
       "      <th>...</th>\n",
       "      <th>...</th>\n",
       "      <td>...</td>\n",
       "      <td>...</td>\n",
       "      <td>...</td>\n",
       "      <td>...</td>\n",
       "    </tr>\n",
       "    <tr>\n",
       "      <th rowspan=\"5\" valign=\"top\">Module Slow Progress</th>\n",
       "      <th>Module Lifetime</th>\n",
       "      <td>4</td>\n",
       "      <td>st.triang(0.5, loc=26, scale=1)</td>\n",
       "      <td>yr</td>\n",
       "      <td>MLT</td>\n",
       "    </tr>\n",
       "    <tr>\n",
       "      <th>Module O&amp;M Fixed</th>\n",
       "      <td>7</td>\n",
       "      <td>st.triang(0.5, loc=19, scale=0.5)</td>\n",
       "      <td>$/kWyr</td>\n",
       "      <td>MOM</td>\n",
       "    </tr>\n",
       "    <tr>\n",
       "      <th>Module Soiling Loss</th>\n",
       "      <td>10</td>\n",
       "      <td>st.triang(0.5, loc=0.05, scale=10E-06)</td>\n",
       "      <td>1</td>\n",
       "      <td>MSL</td>\n",
       "    </tr>\n",
       "    <tr>\n",
       "      <th>Permitting</th>\n",
       "      <td>18</td>\n",
       "      <td>st.triang(0.5, loc=600, scale=0.06)</td>\n",
       "      <td>$/system</td>\n",
       "      <td>BPR</td>\n",
       "    </tr>\n",
       "    <tr>\n",
       "      <th>System Size</th>\n",
       "      <td>2</td>\n",
       "      <td>36</td>\n",
       "      <td>m^2</td>\n",
       "      <td>SSZ</td>\n",
       "    </tr>\n",
       "  </tbody>\n",
       "</table>\n",
       "<p>210 rows × 4 columns</p>\n",
       "</div>"
      ],
      "text/plain": [
       "                                                          Offset  \\\n",
       "Technology     Scenario             Parameter                      \n",
       "Residential PV 2015 Actual          Customer Acquisition      19   \n",
       "                                    DC-to-AC Ratio            15   \n",
       "                                    Direct Labor              17   \n",
       "                                    Discount Rate              0   \n",
       "                                    Hardware Capital          16   \n",
       "...                                                          ...   \n",
       "               Module Slow Progress Module Lifetime            4   \n",
       "                                    Module O&M Fixed           7   \n",
       "                                    Module Soiling Loss       10   \n",
       "                                    Permitting                18   \n",
       "                                    System Size                2   \n",
       "\n",
       "                                                                                           Value  \\\n",
       "Technology     Scenario             Parameter                                                      \n",
       "Residential PV 2015 Actual          Customer Acquisition     st.triang(0.5, loc=2000, scale=0.2)   \n",
       "                                    DC-to-AC Ratio        st.triang(0.5, loc=1.4, scale=0.00014)   \n",
       "                                    Direct Labor             st.triang(0.5, loc=2000, scale=0.2)   \n",
       "                                    Discount Rate                                           0.07   \n",
       "                                    Hardware Capital         st.triang(0.5, loc=80, scale=0.008)   \n",
       "...                                                                                          ...   \n",
       "               Module Slow Progress Module Lifetime              st.triang(0.5, loc=26, scale=1)   \n",
       "                                    Module O&M Fixed           st.triang(0.5, loc=19, scale=0.5)   \n",
       "                                    Module Soiling Loss   st.triang(0.5, loc=0.05, scale=10E-06)   \n",
       "                                    Permitting               st.triang(0.5, loc=600, scale=0.06)   \n",
       "                                    System Size                                               36   \n",
       "\n",
       "                                                             Units Notes  \n",
       "Technology     Scenario             Parameter                             \n",
       "Residential PV 2015 Actual          Customer Acquisition  $/system   BCA  \n",
       "                                    DC-to-AC Ratio               1   IDC  \n",
       "                                    Direct Labor          $/system   BLR  \n",
       "                                    Discount Rate           1/year    DR  \n",
       "                                    Hardware Capital         $/m^2   BCC  \n",
       "...                                                            ...   ...  \n",
       "               Module Slow Progress Module Lifetime             yr   MLT  \n",
       "                                    Module O&M Fixed        $/kWyr   MOM  \n",
       "                                    Module Soiling Loss          1   MSL  \n",
       "                                    Permitting            $/system   BPR  \n",
       "                                    System Size                m^2   SSZ  \n",
       "\n",
       "[210 rows x 4 columns]"
      ]
     },
     "execution_count": 10,
     "metadata": {},
     "output_type": "execute_result"
    }
   ],
   "source": [
    "designs.parameters"
   ]
  },
  {
   "cell_type": "markdown",
   "metadata": {},
   "source": [
    "### The `results` table specifies the units of measure for results of computations."
   ]
  },
  {
   "cell_type": "code",
   "execution_count": 11,
   "metadata": {},
   "outputs": [
    {
     "data": {
      "text/html": [
       "<div>\n",
       "<style scoped>\n",
       "    .dataframe tbody tr th:only-of-type {\n",
       "        vertical-align: middle;\n",
       "    }\n",
       "\n",
       "    .dataframe tbody tr th {\n",
       "        vertical-align: top;\n",
       "    }\n",
       "\n",
       "    .dataframe thead th {\n",
       "        text-align: right;\n",
       "    }\n",
       "</style>\n",
       "<table border=\"1\" class=\"dataframe\">\n",
       "  <thead>\n",
       "    <tr style=\"text-align: right;\">\n",
       "      <th></th>\n",
       "      <th></th>\n",
       "      <th></th>\n",
       "      <th>Units</th>\n",
       "      <th>Notes</th>\n",
       "    </tr>\n",
       "    <tr>\n",
       "      <th>Technology</th>\n",
       "      <th>Variable</th>\n",
       "      <th>Index</th>\n",
       "      <th></th>\n",
       "      <th></th>\n",
       "    </tr>\n",
       "  </thead>\n",
       "  <tbody>\n",
       "    <tr>\n",
       "      <th rowspan=\"5\" valign=\"top\">Residential PV</th>\n",
       "      <th>Cost</th>\n",
       "      <th>Cost</th>\n",
       "      <td>$/system</td>\n",
       "      <td>NaN</td>\n",
       "    </tr>\n",
       "    <tr>\n",
       "      <th rowspan=\"3\" valign=\"top\">Metric</th>\n",
       "      <th>GHG</th>\n",
       "      <td>delta gCO2e/system</td>\n",
       "      <td>Quantified as a reduction from a base case: ma...</td>\n",
       "    </tr>\n",
       "    <tr>\n",
       "      <th>LCOE</th>\n",
       "      <td>delta $/kWh</td>\n",
       "      <td>Quantified as a reduction from a base case: ma...</td>\n",
       "    </tr>\n",
       "    <tr>\n",
       "      <th>Labor</th>\n",
       "      <td>delta $/system</td>\n",
       "      <td>Quantified as a reduction from a base case: mi...</td>\n",
       "    </tr>\n",
       "    <tr>\n",
       "      <th>Output</th>\n",
       "      <th>Electricity</th>\n",
       "      <td>kWh</td>\n",
       "      <td>NaN</td>\n",
       "    </tr>\n",
       "  </tbody>\n",
       "</table>\n",
       "</div>"
      ],
      "text/plain": [
       "                                                  Units  \\\n",
       "Technology     Variable Index                             \n",
       "Residential PV Cost     Cost                   $/system   \n",
       "               Metric   GHG          delta gCO2e/system   \n",
       "                        LCOE                delta $/kWh   \n",
       "                        Labor            delta $/system   \n",
       "               Output   Electricity                 kWh   \n",
       "\n",
       "                                                                                 Notes  \n",
       "Technology     Variable Index                                                           \n",
       "Residential PV Cost     Cost                                                       NaN  \n",
       "               Metric   GHG          Quantified as a reduction from a base case: ma...  \n",
       "                        LCOE         Quantified as a reduction from a base case: ma...  \n",
       "                        Labor        Quantified as a reduction from a base case: mi...  \n",
       "               Output   Electricity                                                NaN  "
      ]
     },
     "execution_count": 11,
     "metadata": {},
     "output_type": "execute_result"
    }
   ],
   "source": [
    "designs.results"
   ]
  },
  {
   "cell_type": "markdown",
   "metadata": {},
   "source": [
    "### The `tranches` table specifies multually exclusive possibilities for investments: only one `Tranch` may be selected for each `Category`."
   ]
  },
  {
   "cell_type": "code",
   "execution_count": 12,
   "metadata": {},
   "outputs": [
    {
     "data": {
      "text/html": [
       "<div>\n",
       "<style scoped>\n",
       "    .dataframe tbody tr th:only-of-type {\n",
       "        vertical-align: middle;\n",
       "    }\n",
       "\n",
       "    .dataframe tbody tr th {\n",
       "        vertical-align: top;\n",
       "    }\n",
       "\n",
       "    .dataframe thead th {\n",
       "        text-align: right;\n",
       "    }\n",
       "</style>\n",
       "<table border=\"1\" class=\"dataframe\">\n",
       "  <thead>\n",
       "    <tr style=\"text-align: right;\">\n",
       "      <th></th>\n",
       "      <th></th>\n",
       "      <th></th>\n",
       "      <th>Amount</th>\n",
       "      <th>Notes</th>\n",
       "    </tr>\n",
       "    <tr>\n",
       "      <th>Category</th>\n",
       "      <th>Tranche</th>\n",
       "      <th>Scenario</th>\n",
       "      <th></th>\n",
       "      <th></th>\n",
       "    </tr>\n",
       "  </thead>\n",
       "  <tbody>\n",
       "    <tr>\n",
       "      <th rowspan=\"3\" valign=\"top\">BoS R&amp;D</th>\n",
       "      <th>BoS High R&amp;D</th>\n",
       "      <th>BoS Fast Progress</th>\n",
       "      <td>900000</td>\n",
       "      <td>NaN</td>\n",
       "    </tr>\n",
       "    <tr>\n",
       "      <th>BoS Low R&amp;D</th>\n",
       "      <th>BoS Slow Progress</th>\n",
       "      <td>300000</td>\n",
       "      <td>NaN</td>\n",
       "    </tr>\n",
       "    <tr>\n",
       "      <th>BoS Medium R&amp;D</th>\n",
       "      <th>BoS Moderate Progress</th>\n",
       "      <td>600000</td>\n",
       "      <td>NaN</td>\n",
       "    </tr>\n",
       "    <tr>\n",
       "      <th rowspan=\"3\" valign=\"top\">Inverter R&amp;D</th>\n",
       "      <th>Inverter High R&amp;D</th>\n",
       "      <th>Inverter Fast Progress</th>\n",
       "      <td>3000000</td>\n",
       "      <td>NaN</td>\n",
       "    </tr>\n",
       "    <tr>\n",
       "      <th>Inverter Low R&amp;D</th>\n",
       "      <th>Inverter Slow Progress</th>\n",
       "      <td>1000000</td>\n",
       "      <td>NaN</td>\n",
       "    </tr>\n",
       "    <tr>\n",
       "      <th>Inverter Medium R&amp;D</th>\n",
       "      <th>Inverter Moderate Progress</th>\n",
       "      <td>2000000</td>\n",
       "      <td>NaN</td>\n",
       "    </tr>\n",
       "    <tr>\n",
       "      <th rowspan=\"3\" valign=\"top\">Module R&amp;D</th>\n",
       "      <th>Module High R&amp;D</th>\n",
       "      <th>Module Fast Progress</th>\n",
       "      <td>4500000</td>\n",
       "      <td>NaN</td>\n",
       "    </tr>\n",
       "    <tr>\n",
       "      <th>Module Low R&amp;D</th>\n",
       "      <th>Module Slow Progress</th>\n",
       "      <td>1500000</td>\n",
       "      <td>NaN</td>\n",
       "    </tr>\n",
       "    <tr>\n",
       "      <th>Module Medium R&amp;D</th>\n",
       "      <th>Module Moderate Progress</th>\n",
       "      <td>3000000</td>\n",
       "      <td>NaN</td>\n",
       "    </tr>\n",
       "  </tbody>\n",
       "</table>\n",
       "</div>"
      ],
      "text/plain": [
       "                                                              Amount Notes\n",
       "Category     Tranche             Scenario                                 \n",
       "BoS R&D      BoS High R&D        BoS Fast Progress            900000   NaN\n",
       "             BoS Low R&D         BoS Slow Progress            300000   NaN\n",
       "             BoS Medium R&D      BoS Moderate Progress        600000   NaN\n",
       "Inverter R&D Inverter High R&D   Inverter Fast Progress      3000000   NaN\n",
       "             Inverter Low R&D    Inverter Slow Progress      1000000   NaN\n",
       "             Inverter Medium R&D Inverter Moderate Progress  2000000   NaN\n",
       "Module R&D   Module High R&D     Module Fast Progress        4500000   NaN\n",
       "             Module Low R&D      Module Slow Progress        1500000   NaN\n",
       "             Module Medium R&D   Module Moderate Progress    3000000   NaN"
      ]
     },
     "execution_count": 12,
     "metadata": {},
     "output_type": "execute_result"
    }
   ],
   "source": [
    "investments.tranches"
   ]
  },
  {
   "cell_type": "markdown",
   "metadata": {},
   "source": [
    "### The `investments` table bundles a consistent set of tranches (one per category) into an overall investment."
   ]
  },
  {
   "cell_type": "code",
   "execution_count": 13,
   "metadata": {},
   "outputs": [
    {
     "data": {
      "text/html": [
       "<div>\n",
       "<style scoped>\n",
       "    .dataframe tbody tr th:only-of-type {\n",
       "        vertical-align: middle;\n",
       "    }\n",
       "\n",
       "    .dataframe tbody tr th {\n",
       "        vertical-align: top;\n",
       "    }\n",
       "\n",
       "    .dataframe thead th {\n",
       "        text-align: right;\n",
       "    }\n",
       "</style>\n",
       "<table border=\"1\" class=\"dataframe\">\n",
       "  <thead>\n",
       "    <tr style=\"text-align: right;\">\n",
       "      <th></th>\n",
       "      <th></th>\n",
       "      <th></th>\n",
       "      <th>Notes</th>\n",
       "    </tr>\n",
       "    <tr>\n",
       "      <th>Investment</th>\n",
       "      <th>Category</th>\n",
       "      <th>Tranche</th>\n",
       "      <th></th>\n",
       "    </tr>\n",
       "  </thead>\n",
       "  <tbody>\n",
       "    <tr>\n",
       "      <th rowspan=\"3\" valign=\"top\">High R&amp;D</th>\n",
       "      <th>BoS R&amp;D</th>\n",
       "      <th>BoS High R&amp;D</th>\n",
       "      <td>NaN</td>\n",
       "    </tr>\n",
       "    <tr>\n",
       "      <th>Inverter R&amp;D</th>\n",
       "      <th>Inverter High R&amp;D</th>\n",
       "      <td>NaN</td>\n",
       "    </tr>\n",
       "    <tr>\n",
       "      <th>Module R&amp;D</th>\n",
       "      <th>Module High R&amp;D</th>\n",
       "      <td>NaN</td>\n",
       "    </tr>\n",
       "    <tr>\n",
       "      <th rowspan=\"3\" valign=\"top\">Low R&amp;D</th>\n",
       "      <th>BoS R&amp;D</th>\n",
       "      <th>BoS Low R&amp;D</th>\n",
       "      <td>NaN</td>\n",
       "    </tr>\n",
       "    <tr>\n",
       "      <th>Inverter R&amp;D</th>\n",
       "      <th>Inverter Low R&amp;D</th>\n",
       "      <td>NaN</td>\n",
       "    </tr>\n",
       "    <tr>\n",
       "      <th>Module R&amp;D</th>\n",
       "      <th>Module Low R&amp;D</th>\n",
       "      <td>NaN</td>\n",
       "    </tr>\n",
       "    <tr>\n",
       "      <th rowspan=\"3\" valign=\"top\">Medium R&amp;D</th>\n",
       "      <th>BoS R&amp;D</th>\n",
       "      <th>BoS Medium R&amp;D</th>\n",
       "      <td>NaN</td>\n",
       "    </tr>\n",
       "    <tr>\n",
       "      <th>Inverter R&amp;D</th>\n",
       "      <th>Inverter Medium R&amp;D</th>\n",
       "      <td>NaN</td>\n",
       "    </tr>\n",
       "    <tr>\n",
       "      <th>Module R&amp;D</th>\n",
       "      <th>Module Medium R&amp;D</th>\n",
       "      <td>NaN</td>\n",
       "    </tr>\n",
       "  </tbody>\n",
       "</table>\n",
       "</div>"
      ],
      "text/plain": [
       "                                            Notes\n",
       "Investment Category     Tranche                  \n",
       "High R&D   BoS R&D      BoS High R&D          NaN\n",
       "           Inverter R&D Inverter High R&D     NaN\n",
       "           Module R&D   Module High R&D       NaN\n",
       "Low R&D    BoS R&D      BoS Low R&D           NaN\n",
       "           Inverter R&D Inverter Low R&D      NaN\n",
       "           Module R&D   Module Low R&D        NaN\n",
       "Medium R&D BoS R&D      BoS Medium R&D        NaN\n",
       "           Inverter R&D Inverter Medium R&D   NaN\n",
       "           Module R&D   Module Medium R&D     NaN"
      ]
     },
     "execution_count": 13,
     "metadata": {},
     "output_type": "execute_result"
    }
   ],
   "source": [
    "investments.investments"
   ]
  },
  {
   "cell_type": "markdown",
   "metadata": {},
   "source": [
    "## Evaluate the tranches in the dataset."
   ]
  },
  {
   "cell_type": "code",
   "execution_count": 14,
   "metadata": {
    "scrolled": false
   },
   "outputs": [
    {
     "name": "stdout",
     "output_type": "stream",
     "text": [
      "Evaluating Residential PV\n"
     ]
    }
   ],
   "source": [
    "tranche_results = investments.evaluate_tranches(designs, sample_count=50)"
   ]
  },
  {
   "cell_type": "code",
   "execution_count": 15,
   "metadata": {},
   "outputs": [
    {
     "data": {
      "text/html": [
       "<div>\n",
       "<style scoped>\n",
       "    .dataframe tbody tr th:only-of-type {\n",
       "        vertical-align: middle;\n",
       "    }\n",
       "\n",
       "    .dataframe tbody tr th {\n",
       "        vertical-align: top;\n",
       "    }\n",
       "\n",
       "    .dataframe thead th {\n",
       "        text-align: right;\n",
       "    }\n",
       "</style>\n",
       "<table border=\"1\" class=\"dataframe\">\n",
       "  <thead>\n",
       "    <tr style=\"text-align: right;\">\n",
       "      <th></th>\n",
       "      <th></th>\n",
       "      <th></th>\n",
       "      <th></th>\n",
       "      <th></th>\n",
       "      <th>Value</th>\n",
       "      <th>Units</th>\n",
       "    </tr>\n",
       "    <tr>\n",
       "      <th>Technology</th>\n",
       "      <th>Scenario</th>\n",
       "      <th>Sample</th>\n",
       "      <th>Variable</th>\n",
       "      <th>Index</th>\n",
       "      <th></th>\n",
       "      <th></th>\n",
       "    </tr>\n",
       "  </thead>\n",
       "  <tbody>\n",
       "    <tr>\n",
       "      <th rowspan=\"50\" valign=\"top\">Residential PV</th>\n",
       "      <th rowspan=\"5\" valign=\"top\">2015 Actual</th>\n",
       "      <th rowspan=\"5\" valign=\"top\">1</th>\n",
       "      <th>Cost</th>\n",
       "      <th>Cost</th>\n",
       "      <td>19540.879640</td>\n",
       "      <td>$/system</td>\n",
       "    </tr>\n",
       "    <tr>\n",
       "      <th rowspan=\"3\" valign=\"top\">Metric</th>\n",
       "      <th>GHG</th>\n",
       "      <td>-0.009874</td>\n",
       "      <td>delta gCO2e/system</td>\n",
       "    </tr>\n",
       "    <tr>\n",
       "      <th>LCOE</th>\n",
       "      <td>-0.000024</td>\n",
       "      <td>delta $/kWh</td>\n",
       "    </tr>\n",
       "    <tr>\n",
       "      <th>Labor</th>\n",
       "      <td>-0.027451</td>\n",
       "      <td>delta $/system</td>\n",
       "    </tr>\n",
       "    <tr>\n",
       "      <th>Output</th>\n",
       "      <th>Electricity</th>\n",
       "      <td>184088.965782</td>\n",
       "      <td>kWh</td>\n",
       "    </tr>\n",
       "    <tr>\n",
       "      <th rowspan=\"5\" valign=\"top\">BoS Fast Progress</th>\n",
       "      <th rowspan=\"5\" valign=\"top\">1</th>\n",
       "      <th>Cost</th>\n",
       "      <th>Cost</th>\n",
       "      <td>17562.483089</td>\n",
       "      <td>$/system</td>\n",
       "    </tr>\n",
       "    <tr>\n",
       "      <th rowspan=\"3\" valign=\"top\">Metric</th>\n",
       "      <th>GHG</th>\n",
       "      <td>-0.003392</td>\n",
       "      <td>delta gCO2e/system</td>\n",
       "    </tr>\n",
       "    <tr>\n",
       "      <th>LCOE</th>\n",
       "      <td>0.010730</td>\n",
       "      <td>delta $/kWh</td>\n",
       "    </tr>\n",
       "    <tr>\n",
       "      <th>Labor</th>\n",
       "      <td>-554.070614</td>\n",
       "      <td>delta $/system</td>\n",
       "    </tr>\n",
       "    <tr>\n",
       "      <th>Output</th>\n",
       "      <th>Electricity</th>\n",
       "      <td>184103.400647</td>\n",
       "      <td>kWh</td>\n",
       "    </tr>\n",
       "    <tr>\n",
       "      <th rowspan=\"5\" valign=\"top\">BoS Moderate Progress</th>\n",
       "      <th rowspan=\"5\" valign=\"top\">1</th>\n",
       "      <th>Cost</th>\n",
       "      <th>Cost</th>\n",
       "      <td>17845.478895</td>\n",
       "      <td>$/system</td>\n",
       "    </tr>\n",
       "    <tr>\n",
       "      <th rowspan=\"3\" valign=\"top\">Metric</th>\n",
       "      <th>GHG</th>\n",
       "      <td>-0.008622</td>\n",
       "      <td>delta gCO2e/system</td>\n",
       "    </tr>\n",
       "    <tr>\n",
       "      <th>LCOE</th>\n",
       "      <td>0.009187</td>\n",
       "      <td>delta $/kWh</td>\n",
       "    </tr>\n",
       "    <tr>\n",
       "      <th>Labor</th>\n",
       "      <td>-350.052033</td>\n",
       "      <td>delta $/system</td>\n",
       "    </tr>\n",
       "    <tr>\n",
       "      <th>Output</th>\n",
       "      <th>Electricity</th>\n",
       "      <td>184091.752874</td>\n",
       "      <td>kWh</td>\n",
       "    </tr>\n",
       "    <tr>\n",
       "      <th rowspan=\"5\" valign=\"top\">BoS Slow Progress</th>\n",
       "      <th rowspan=\"5\" valign=\"top\">1</th>\n",
       "      <th>Cost</th>\n",
       "      <th>Cost</th>\n",
       "      <td>19019.395238</td>\n",
       "      <td>$/system</td>\n",
       "    </tr>\n",
       "    <tr>\n",
       "      <th rowspan=\"3\" valign=\"top\">Metric</th>\n",
       "      <th>GHG</th>\n",
       "      <td>0.003206</td>\n",
       "      <td>delta gCO2e/system</td>\n",
       "    </tr>\n",
       "    <tr>\n",
       "      <th>LCOE</th>\n",
       "      <td>0.002825</td>\n",
       "      <td>delta $/kWh</td>\n",
       "    </tr>\n",
       "    <tr>\n",
       "      <th>Labor</th>\n",
       "      <td>-172.479378</td>\n",
       "      <td>delta $/system</td>\n",
       "    </tr>\n",
       "    <tr>\n",
       "      <th>Output</th>\n",
       "      <th>Electricity</th>\n",
       "      <td>184118.092551</td>\n",
       "      <td>kWh</td>\n",
       "    </tr>\n",
       "    <tr>\n",
       "      <th rowspan=\"5\" valign=\"top\">Inverter Fast Progress</th>\n",
       "      <th rowspan=\"5\" valign=\"top\">1</th>\n",
       "      <th>Cost</th>\n",
       "      <th>Cost</th>\n",
       "      <td>17826.704433</td>\n",
       "      <td>$/system</td>\n",
       "    </tr>\n",
       "    <tr>\n",
       "      <th rowspan=\"3\" valign=\"top\">Metric</th>\n",
       "      <th>GHG</th>\n",
       "      <td>1.944002</td>\n",
       "      <td>delta gCO2e/system</td>\n",
       "    </tr>\n",
       "    <tr>\n",
       "      <th>LCOE</th>\n",
       "      <td>0.011524</td>\n",
       "      <td>delta $/kWh</td>\n",
       "    </tr>\n",
       "    <tr>\n",
       "      <th>Labor</th>\n",
       "      <td>-0.025162</td>\n",
       "      <td>delta $/system</td>\n",
       "    </tr>\n",
       "    <tr>\n",
       "      <th>Output</th>\n",
       "      <th>Electricity</th>\n",
       "      <td>188440.035418</td>\n",
       "      <td>kWh</td>\n",
       "    </tr>\n",
       "    <tr>\n",
       "      <th rowspan=\"5\" valign=\"top\">Inverter Moderate Progress</th>\n",
       "      <th rowspan=\"5\" valign=\"top\">1</th>\n",
       "      <th>Cost</th>\n",
       "      <th>Cost</th>\n",
       "      <td>18577.552379</td>\n",
       "      <td>$/system</td>\n",
       "    </tr>\n",
       "    <tr>\n",
       "      <th rowspan=\"3\" valign=\"top\">Metric</th>\n",
       "      <th>GHG</th>\n",
       "      <td>2.342062</td>\n",
       "      <td>delta gCO2e/system</td>\n",
       "    </tr>\n",
       "    <tr>\n",
       "      <th>LCOE</th>\n",
       "      <td>0.008001</td>\n",
       "      <td>delta $/kWh</td>\n",
       "    </tr>\n",
       "    <tr>\n",
       "      <th>Labor</th>\n",
       "      <td>0.018449</td>\n",
       "      <td>delta $/system</td>\n",
       "    </tr>\n",
       "    <tr>\n",
       "      <th>Output</th>\n",
       "      <th>Electricity</th>\n",
       "      <td>189326.473505</td>\n",
       "      <td>kWh</td>\n",
       "    </tr>\n",
       "    <tr>\n",
       "      <th rowspan=\"5\" valign=\"top\">Inverter Slow Progress</th>\n",
       "      <th rowspan=\"5\" valign=\"top\">1</th>\n",
       "      <th>Cost</th>\n",
       "      <th>Cost</th>\n",
       "      <td>19247.553605</td>\n",
       "      <td>$/system</td>\n",
       "    </tr>\n",
       "    <tr>\n",
       "      <th rowspan=\"3\" valign=\"top\">Metric</th>\n",
       "      <th>GHG</th>\n",
       "      <td>2.313997</td>\n",
       "      <td>delta gCO2e/system</td>\n",
       "    </tr>\n",
       "    <tr>\n",
       "      <th>LCOE</th>\n",
       "      <td>0.004428</td>\n",
       "      <td>delta $/kWh</td>\n",
       "    </tr>\n",
       "    <tr>\n",
       "      <th>Labor</th>\n",
       "      <td>-0.065192</td>\n",
       "      <td>delta $/system</td>\n",
       "    </tr>\n",
       "    <tr>\n",
       "      <th>Output</th>\n",
       "      <th>Electricity</th>\n",
       "      <td>189263.974279</td>\n",
       "      <td>kWh</td>\n",
       "    </tr>\n",
       "    <tr>\n",
       "      <th rowspan=\"5\" valign=\"top\">Module Fast Progress</th>\n",
       "      <th rowspan=\"5\" valign=\"top\">1</th>\n",
       "      <th>Cost</th>\n",
       "      <th>Cost</th>\n",
       "      <td>18889.689863</td>\n",
       "      <td>$/system</td>\n",
       "    </tr>\n",
       "    <tr>\n",
       "      <th rowspan=\"3\" valign=\"top\">Metric</th>\n",
       "      <th>GHG</th>\n",
       "      <td>48.280551</td>\n",
       "      <td>delta gCO2e/system</td>\n",
       "    </tr>\n",
       "    <tr>\n",
       "      <th>LCOE</th>\n",
       "      <td>0.041351</td>\n",
       "      <td>delta $/kWh</td>\n",
       "    </tr>\n",
       "    <tr>\n",
       "      <th>Labor</th>\n",
       "      <td>-0.000315</td>\n",
       "      <td>delta $/system</td>\n",
       "    </tr>\n",
       "    <tr>\n",
       "      <th>Output</th>\n",
       "      <th>Electricity</th>\n",
       "      <td>291626.515164</td>\n",
       "      <td>kWh</td>\n",
       "    </tr>\n",
       "    <tr>\n",
       "      <th rowspan=\"5\" valign=\"top\">Module Moderate Progress</th>\n",
       "      <th rowspan=\"5\" valign=\"top\">1</th>\n",
       "      <th>Cost</th>\n",
       "      <th>Cost</th>\n",
       "      <td>19088.651836</td>\n",
       "      <td>$/system</td>\n",
       "    </tr>\n",
       "    <tr>\n",
       "      <th rowspan=\"3\" valign=\"top\">Metric</th>\n",
       "      <th>GHG</th>\n",
       "      <td>42.590275</td>\n",
       "      <td>delta gCO2e/system</td>\n",
       "    </tr>\n",
       "    <tr>\n",
       "      <th>LCOE</th>\n",
       "      <td>0.037696</td>\n",
       "      <td>delta $/kWh</td>\n",
       "    </tr>\n",
       "    <tr>\n",
       "      <th>Labor</th>\n",
       "      <td>-0.046368</td>\n",
       "      <td>delta $/system</td>\n",
       "    </tr>\n",
       "    <tr>\n",
       "      <th>Output</th>\n",
       "      <th>Electricity</th>\n",
       "      <td>278954.887564</td>\n",
       "      <td>kWh</td>\n",
       "    </tr>\n",
       "    <tr>\n",
       "      <th rowspan=\"5\" valign=\"top\">Module Slow Progress</th>\n",
       "      <th rowspan=\"5\" valign=\"top\">1</th>\n",
       "      <th>Cost</th>\n",
       "      <th>Cost</th>\n",
       "      <td>19730.336365</td>\n",
       "      <td>$/system</td>\n",
       "    </tr>\n",
       "    <tr>\n",
       "      <th rowspan=\"3\" valign=\"top\">Metric</th>\n",
       "      <th>GHG</th>\n",
       "      <td>17.328910</td>\n",
       "      <td>delta gCO2e/system</td>\n",
       "    </tr>\n",
       "    <tr>\n",
       "      <th>LCOE</th>\n",
       "      <td>0.017529</td>\n",
       "      <td>delta $/kWh</td>\n",
       "    </tr>\n",
       "    <tr>\n",
       "      <th>Labor</th>\n",
       "      <td>0.084535</td>\n",
       "      <td>delta $/system</td>\n",
       "    </tr>\n",
       "    <tr>\n",
       "      <th>Output</th>\n",
       "      <th>Electricity</th>\n",
       "      <td>222700.561936</td>\n",
       "      <td>kWh</td>\n",
       "    </tr>\n",
       "  </tbody>\n",
       "</table>\n",
       "</div>"
      ],
      "text/plain": [
       "                                                                               Value  \\\n",
       "Technology     Scenario                   Sample Variable Index                        \n",
       "Residential PV 2015 Actual                1      Cost     Cost          19540.879640   \n",
       "                                                 Metric   GHG              -0.009874   \n",
       "                                                          LCOE             -0.000024   \n",
       "                                                          Labor            -0.027451   \n",
       "                                                 Output   Electricity  184088.965782   \n",
       "               BoS Fast Progress          1      Cost     Cost          17562.483089   \n",
       "                                                 Metric   GHG              -0.003392   \n",
       "                                                          LCOE              0.010730   \n",
       "                                                          Labor          -554.070614   \n",
       "                                                 Output   Electricity  184103.400647   \n",
       "               BoS Moderate Progress      1      Cost     Cost          17845.478895   \n",
       "                                                 Metric   GHG              -0.008622   \n",
       "                                                          LCOE              0.009187   \n",
       "                                                          Labor          -350.052033   \n",
       "                                                 Output   Electricity  184091.752874   \n",
       "               BoS Slow Progress          1      Cost     Cost          19019.395238   \n",
       "                                                 Metric   GHG               0.003206   \n",
       "                                                          LCOE              0.002825   \n",
       "                                                          Labor          -172.479378   \n",
       "                                                 Output   Electricity  184118.092551   \n",
       "               Inverter Fast Progress     1      Cost     Cost          17826.704433   \n",
       "                                                 Metric   GHG               1.944002   \n",
       "                                                          LCOE              0.011524   \n",
       "                                                          Labor            -0.025162   \n",
       "                                                 Output   Electricity  188440.035418   \n",
       "               Inverter Moderate Progress 1      Cost     Cost          18577.552379   \n",
       "                                                 Metric   GHG               2.342062   \n",
       "                                                          LCOE              0.008001   \n",
       "                                                          Labor             0.018449   \n",
       "                                                 Output   Electricity  189326.473505   \n",
       "               Inverter Slow Progress     1      Cost     Cost          19247.553605   \n",
       "                                                 Metric   GHG               2.313997   \n",
       "                                                          LCOE              0.004428   \n",
       "                                                          Labor            -0.065192   \n",
       "                                                 Output   Electricity  189263.974279   \n",
       "               Module Fast Progress       1      Cost     Cost          18889.689863   \n",
       "                                                 Metric   GHG              48.280551   \n",
       "                                                          LCOE              0.041351   \n",
       "                                                          Labor            -0.000315   \n",
       "                                                 Output   Electricity  291626.515164   \n",
       "               Module Moderate Progress   1      Cost     Cost          19088.651836   \n",
       "                                                 Metric   GHG              42.590275   \n",
       "                                                          LCOE              0.037696   \n",
       "                                                          Labor            -0.046368   \n",
       "                                                 Output   Electricity  278954.887564   \n",
       "               Module Slow Progress       1      Cost     Cost          19730.336365   \n",
       "                                                 Metric   GHG              17.328910   \n",
       "                                                          LCOE              0.017529   \n",
       "                                                          Labor             0.084535   \n",
       "                                                 Output   Electricity  222700.561936   \n",
       "\n",
       "                                                                                    Units  \n",
       "Technology     Scenario                   Sample Variable Index                            \n",
       "Residential PV 2015 Actual                1      Cost     Cost                   $/system  \n",
       "                                                 Metric   GHG          delta gCO2e/system  \n",
       "                                                          LCOE                delta $/kWh  \n",
       "                                                          Labor            delta $/system  \n",
       "                                                 Output   Electricity                 kWh  \n",
       "               BoS Fast Progress          1      Cost     Cost                   $/system  \n",
       "                                                 Metric   GHG          delta gCO2e/system  \n",
       "                                                          LCOE                delta $/kWh  \n",
       "                                                          Labor            delta $/system  \n",
       "                                                 Output   Electricity                 kWh  \n",
       "               BoS Moderate Progress      1      Cost     Cost                   $/system  \n",
       "                                                 Metric   GHG          delta gCO2e/system  \n",
       "                                                          LCOE                delta $/kWh  \n",
       "                                                          Labor            delta $/system  \n",
       "                                                 Output   Electricity                 kWh  \n",
       "               BoS Slow Progress          1      Cost     Cost                   $/system  \n",
       "                                                 Metric   GHG          delta gCO2e/system  \n",
       "                                                          LCOE                delta $/kWh  \n",
       "                                                          Labor            delta $/system  \n",
       "                                                 Output   Electricity                 kWh  \n",
       "               Inverter Fast Progress     1      Cost     Cost                   $/system  \n",
       "                                                 Metric   GHG          delta gCO2e/system  \n",
       "                                                          LCOE                delta $/kWh  \n",
       "                                                          Labor            delta $/system  \n",
       "                                                 Output   Electricity                 kWh  \n",
       "               Inverter Moderate Progress 1      Cost     Cost                   $/system  \n",
       "                                                 Metric   GHG          delta gCO2e/system  \n",
       "                                                          LCOE                delta $/kWh  \n",
       "                                                          Labor            delta $/system  \n",
       "                                                 Output   Electricity                 kWh  \n",
       "               Inverter Slow Progress     1      Cost     Cost                   $/system  \n",
       "                                                 Metric   GHG          delta gCO2e/system  \n",
       "                                                          LCOE                delta $/kWh  \n",
       "                                                          Labor            delta $/system  \n",
       "                                                 Output   Electricity                 kWh  \n",
       "               Module Fast Progress       1      Cost     Cost                   $/system  \n",
       "                                                 Metric   GHG          delta gCO2e/system  \n",
       "                                                          LCOE                delta $/kWh  \n",
       "                                                          Labor            delta $/system  \n",
       "                                                 Output   Electricity                 kWh  \n",
       "               Module Moderate Progress   1      Cost     Cost                   $/system  \n",
       "                                                 Metric   GHG          delta gCO2e/system  \n",
       "                                                          LCOE                delta $/kWh  \n",
       "                                                          Labor            delta $/system  \n",
       "                                                 Output   Electricity                 kWh  \n",
       "               Module Slow Progress       1      Cost     Cost                   $/system  \n",
       "                                                 Metric   GHG          delta gCO2e/system  \n",
       "                                                          LCOE                delta $/kWh  \n",
       "                                                          Labor            delta $/system  \n",
       "                                                 Output   Electricity                 kWh  "
      ]
     },
     "execution_count": 15,
     "metadata": {},
     "output_type": "execute_result"
    }
   ],
   "source": [
    "tranche_results.metrics.xs(1, level=\"Sample\", drop_level=False)"
   ]
  },
  {
   "cell_type": "markdown",
   "metadata": {},
   "source": [
    "### Save results."
   ]
  },
  {
   "cell_type": "code",
   "execution_count": 16,
   "metadata": {},
   "outputs": [],
   "source": [
    "#tranche_results.metrics.to_csv(\"example-tranches.csv\")"
   ]
  },
  {
   "cell_type": "markdown",
   "metadata": {},
   "source": [
    "### Plot GHG metric."
   ]
  },
  {
   "cell_type": "code",
   "execution_count": 17,
   "metadata": {
    "scrolled": false
   },
   "outputs": [
    {
     "data": {
      "image/png": "[encoded data removed]",
      "text/plain": [
       "<Figure size 640x480 with 1 Axes>"
      ]
     },
     "metadata": {},
     "output_type": "display_data"
    }
   ],
   "source": [
    "g = sb.boxplot(\n",
    "    x=\"Tranche\",\n",
    "    y=\"Value\",\n",
    "    data=tranche_results.metrics.xs(\n",
    "        \"GHG\",\n",
    "        level=\"Index\"\n",
    "    ).reset_index()[[\"Tranche\", \"Value\"]],\n",
    "    order=[\n",
    "        \"Module No R&D\",\n",
    "        \"Module Low R&D\",\n",
    "        \"Module Medium R&D\",\n",
    "        \"Module High R&D\",\n",
    "        \"Inverter Low R&D\",\n",
    "        \"Inverter Medium R&D\",\n",
    "        \"Inverter High R&D\",\n",
    "        \"BoS Low R&D\",\n",
    "        \"BoS Medium R&D\",\n",
    "        \"BoS High R&D\",\n",
    "    ]\n",
    ")\n",
    "g.set(ylabel=\"GHG Reduction [gCO2e / system]\")\n",
    "g.set_xticklabels(g.get_xticklabels(), rotation=30, ha='right', rotation_mode='anchor');"
   ]
  },
  {
   "cell_type": "markdown",
   "metadata": {},
   "source": [
    "### Plot LCOE metric."
   ]
  },
  {
   "cell_type": "code",
   "execution_count": 18,
   "metadata": {},
   "outputs": [
    {
     "data": {
      "image/png": "[encoded data removed]",
      "text/plain": [
       "<Figure size 640x480 with 1 Axes>"
      ]
     },
     "metadata": {},
     "output_type": "display_data"
    }
   ],
   "source": [
    "g = sb.boxplot(\n",
    "    x=\"Tranche\",\n",
    "    y=\"Value\",\n",
    "    data=tranche_results.metrics.xs(\n",
    "        \"LCOE\",\n",
    "        level=\"Index\"\n",
    "    ).reset_index()[[\"Tranche\", \"Value\"]],\n",
    "    order=[\n",
    "        \"Module No R&D\",\n",
    "        \"Module Low R&D\",\n",
    "        \"Module Medium R&D\",\n",
    "        \"Module High R&D\",\n",
    "        \"Inverter Low R&D\",\n",
    "        \"Inverter Medium R&D\",\n",
    "        \"Inverter High R&D\",\n",
    "        \"BoS Low R&D\",\n",
    "        \"BoS Medium R&D\",\n",
    "        \"BoS High R&D\",\n",
    "    ]\n",
    ")\n",
    "g.set(ylabel=\"LCOE Reduction [USD / kWh]\")\n",
    "g.set_xticklabels(g.get_xticklabels(), rotation=30, ha='right', rotation_mode='anchor');"
   ]
  },
  {
   "cell_type": "markdown",
   "metadata": {},
   "source": [
    "### Plot labor metric."
   ]
  },
  {
   "cell_type": "code",
   "execution_count": 19,
   "metadata": {},
   "outputs": [
    {
     "data": {
      "image/png": "[encoded data removed]",
      "text/plain": [
       "<Figure size 640x480 with 1 Axes>"
      ]
     },
     "metadata": {},
     "output_type": "display_data"
    }
   ],
   "source": [
    "g = sb.boxplot(\n",
    "    x=\"Tranche\",\n",
    "    y=\"Value\",\n",
    "    data=tranche_results.metrics.xs(\n",
    "        \"Labor\",\n",
    "        level=\"Index\"\n",
    "    ).reset_index()[[\"Tranche\", \"Value\"]],\n",
    "    order=[\n",
    "        \"Module No R&D\",\n",
    "        \"Module Low R&D\",\n",
    "        \"Module Medium R&D\",\n",
    "        \"Module High R&D\",\n",
    "        \"Inverter Low R&D\",\n",
    "        \"Inverter Medium R&D\",\n",
    "        \"Inverter High R&D\",\n",
    "        \"BoS Low R&D\",\n",
    "        \"BoS Medium R&D\",\n",
    "        \"BoS High R&D\",\n",
    "    ]\n",
    ")\n",
    "g.set(ylabel=\"Labor Increase [USD / system]\")\n",
    "g.set_xticklabels(g.get_xticklabels(), rotation=30, ha='right', rotation_mode='anchor');"
   ]
  },
  {
   "cell_type": "markdown",
   "metadata": {},
   "source": [
    "## Evaluate the investments in the dataset."
   ]
  },
  {
   "cell_type": "code",
   "execution_count": 20,
   "metadata": {},
   "outputs": [
    {
     "name": "stdout",
     "output_type": "stream",
     "text": [
      "Evaluating Residential PV\n",
      "Evaluating Residential PV\n"
     ]
    }
   ],
   "source": [
    "investment_results = investments.evaluate_investments(designs, sample_count=50)"
   ]
  },
  {
   "cell_type": "markdown",
   "metadata": {},
   "source": [
    "### Costs of investments."
   ]
  },
  {
   "cell_type": "code",
   "execution_count": 21,
   "metadata": {},
   "outputs": [
    {
     "data": {
      "text/html": [
       "<div>\n",
       "<style scoped>\n",
       "    .dataframe tbody tr th:only-of-type {\n",
       "        vertical-align: middle;\n",
       "    }\n",
       "\n",
       "    .dataframe tbody tr th {\n",
       "        vertical-align: top;\n",
       "    }\n",
       "\n",
       "    .dataframe thead th {\n",
       "        text-align: right;\n",
       "    }\n",
       "</style>\n",
       "<table border=\"1\" class=\"dataframe\">\n",
       "  <thead>\n",
       "    <tr style=\"text-align: right;\">\n",
       "      <th></th>\n",
       "      <th>Amount</th>\n",
       "    </tr>\n",
       "    <tr>\n",
       "      <th>Investment</th>\n",
       "      <th></th>\n",
       "    </tr>\n",
       "  </thead>\n",
       "  <tbody>\n",
       "    <tr>\n",
       "      <th>High R&amp;D</th>\n",
       "      <td>90000030000004500000</td>\n",
       "    </tr>\n",
       "    <tr>\n",
       "      <th>Low R&amp;D</th>\n",
       "      <td>30000010000001500000</td>\n",
       "    </tr>\n",
       "    <tr>\n",
       "      <th>Medium R&amp;D</th>\n",
       "      <td>60000020000003000000</td>\n",
       "    </tr>\n",
       "  </tbody>\n",
       "</table>\n",
       "</div>"
      ],
      "text/plain": [
       "                          Amount\n",
       "Investment                      \n",
       "High R&D    90000030000004500000\n",
       "Low R&D     30000010000001500000\n",
       "Medium R&D  60000020000003000000"
      ]
     },
     "execution_count": 21,
     "metadata": {},
     "output_type": "execute_result"
    }
   ],
   "source": [
    "investment_results.amounts"
   ]
  },
  {
   "cell_type": "markdown",
   "metadata": {},
   "source": [
    "### Benefits of investments."
   ]
  },
  {
   "cell_type": "code",
   "execution_count": 22,
   "metadata": {},
   "outputs": [
    {
     "data": {
      "text/html": [
       "<div>\n",
       "<style scoped>\n",
       "    .dataframe tbody tr th:only-of-type {\n",
       "        vertical-align: middle;\n",
       "    }\n",
       "\n",
       "    .dataframe tbody tr th {\n",
       "        vertical-align: top;\n",
       "    }\n",
       "\n",
       "    .dataframe thead th {\n",
       "        text-align: right;\n",
       "    }\n",
       "</style>\n",
       "<table border=\"1\" class=\"dataframe\">\n",
       "  <thead>\n",
       "    <tr style=\"text-align: right;\">\n",
       "      <th></th>\n",
       "      <th></th>\n",
       "      <th></th>\n",
       "      <th></th>\n",
       "      <th></th>\n",
       "      <th></th>\n",
       "      <th></th>\n",
       "      <th>Value</th>\n",
       "      <th>Units</th>\n",
       "    </tr>\n",
       "    <tr>\n",
       "      <th>Investment</th>\n",
       "      <th>Category</th>\n",
       "      <th>Tranche</th>\n",
       "      <th>Scenario</th>\n",
       "      <th>Sample</th>\n",
       "      <th>Technology</th>\n",
       "      <th>Index</th>\n",
       "      <th></th>\n",
       "      <th></th>\n",
       "    </tr>\n",
       "  </thead>\n",
       "  <tbody>\n",
       "    <tr>\n",
       "      <th rowspan=\"3\" valign=\"top\">High R&amp;D</th>\n",
       "      <th rowspan=\"3\" valign=\"top\">BoS R&amp;D</th>\n",
       "      <th rowspan=\"3\" valign=\"top\">BoS High R&amp;D</th>\n",
       "      <th rowspan=\"3\" valign=\"top\">BoS Fast Progress</th>\n",
       "      <th rowspan=\"3\" valign=\"top\">1</th>\n",
       "      <th rowspan=\"3\" valign=\"top\">Residential PV</th>\n",
       "      <th>GHG</th>\n",
       "      <td>-0.005981</td>\n",
       "      <td>delta gCO2e/system</td>\n",
       "    </tr>\n",
       "    <tr>\n",
       "      <th>LCOE</th>\n",
       "      <td>0.010638</td>\n",
       "      <td>delta $/kWh</td>\n",
       "    </tr>\n",
       "    <tr>\n",
       "      <th>Labor</th>\n",
       "      <td>-557.226466</td>\n",
       "      <td>delta $/system</td>\n",
       "    </tr>\n",
       "    <tr>\n",
       "      <th rowspan=\"3\" valign=\"top\">Medium R&amp;D</th>\n",
       "      <th rowspan=\"3\" valign=\"top\">BoS R&amp;D</th>\n",
       "      <th rowspan=\"3\" valign=\"top\">BoS Medium R&amp;D</th>\n",
       "      <th rowspan=\"3\" valign=\"top\">BoS Moderate Progress</th>\n",
       "      <th rowspan=\"3\" valign=\"top\">1</th>\n",
       "      <th rowspan=\"3\" valign=\"top\">Residential PV</th>\n",
       "      <th>GHG</th>\n",
       "      <td>-0.001994</td>\n",
       "      <td>delta gCO2e/system</td>\n",
       "    </tr>\n",
       "    <tr>\n",
       "      <th>LCOE</th>\n",
       "      <td>0.009472</td>\n",
       "      <td>delta $/kWh</td>\n",
       "    </tr>\n",
       "    <tr>\n",
       "      <th>Labor</th>\n",
       "      <td>-327.703298</td>\n",
       "      <td>delta $/system</td>\n",
       "    </tr>\n",
       "    <tr>\n",
       "      <th rowspan=\"3\" valign=\"top\">Low R&amp;D</th>\n",
       "      <th rowspan=\"3\" valign=\"top\">BoS R&amp;D</th>\n",
       "      <th rowspan=\"3\" valign=\"top\">BoS Low R&amp;D</th>\n",
       "      <th rowspan=\"3\" valign=\"top\">BoS Slow Progress</th>\n",
       "      <th rowspan=\"3\" valign=\"top\">1</th>\n",
       "      <th rowspan=\"3\" valign=\"top\">Residential PV</th>\n",
       "      <th>GHG</th>\n",
       "      <td>-0.005780</td>\n",
       "      <td>delta gCO2e/system</td>\n",
       "    </tr>\n",
       "    <tr>\n",
       "      <th>LCOE</th>\n",
       "      <td>0.002579</td>\n",
       "      <td>delta $/kWh</td>\n",
       "    </tr>\n",
       "    <tr>\n",
       "      <th>Labor</th>\n",
       "      <td>-163.158631</td>\n",
       "      <td>delta $/system</td>\n",
       "    </tr>\n",
       "    <tr>\n",
       "      <th rowspan=\"3\" valign=\"top\">High R&amp;D</th>\n",
       "      <th rowspan=\"3\" valign=\"top\">Inverter R&amp;D</th>\n",
       "      <th rowspan=\"3\" valign=\"top\">Inverter High R&amp;D</th>\n",
       "      <th rowspan=\"3\" valign=\"top\">Inverter Fast Progress</th>\n",
       "      <th rowspan=\"3\" valign=\"top\">1</th>\n",
       "      <th rowspan=\"3\" valign=\"top\">Residential PV</th>\n",
       "      <th>GHG</th>\n",
       "      <td>2.020205</td>\n",
       "      <td>delta gCO2e/system</td>\n",
       "    </tr>\n",
       "    <tr>\n",
       "      <th>LCOE</th>\n",
       "      <td>0.010384</td>\n",
       "      <td>delta $/kWh</td>\n",
       "    </tr>\n",
       "    <tr>\n",
       "      <th>Labor</th>\n",
       "      <td>0.000490</td>\n",
       "      <td>delta $/system</td>\n",
       "    </tr>\n",
       "    <tr>\n",
       "      <th rowspan=\"3\" valign=\"top\">Medium R&amp;D</th>\n",
       "      <th rowspan=\"3\" valign=\"top\">Inverter R&amp;D</th>\n",
       "      <th rowspan=\"3\" valign=\"top\">Inverter Medium R&amp;D</th>\n",
       "      <th rowspan=\"3\" valign=\"top\">Inverter Moderate Progress</th>\n",
       "      <th rowspan=\"3\" valign=\"top\">1</th>\n",
       "      <th rowspan=\"3\" valign=\"top\">Residential PV</th>\n",
       "      <th>GHG</th>\n",
       "      <td>2.376189</td>\n",
       "      <td>delta gCO2e/system</td>\n",
       "    </tr>\n",
       "    <tr>\n",
       "      <th>LCOE</th>\n",
       "      <td>0.007254</td>\n",
       "      <td>delta $/kWh</td>\n",
       "    </tr>\n",
       "    <tr>\n",
       "      <th>Labor</th>\n",
       "      <td>0.060580</td>\n",
       "      <td>delta $/system</td>\n",
       "    </tr>\n",
       "    <tr>\n",
       "      <th rowspan=\"3\" valign=\"top\">Low R&amp;D</th>\n",
       "      <th rowspan=\"3\" valign=\"top\">Inverter R&amp;D</th>\n",
       "      <th rowspan=\"3\" valign=\"top\">Inverter Low R&amp;D</th>\n",
       "      <th rowspan=\"3\" valign=\"top\">Inverter Slow Progress</th>\n",
       "      <th rowspan=\"3\" valign=\"top\">1</th>\n",
       "      <th rowspan=\"3\" valign=\"top\">Residential PV</th>\n",
       "      <th>GHG</th>\n",
       "      <td>2.395318</td>\n",
       "      <td>delta gCO2e/system</td>\n",
       "    </tr>\n",
       "    <tr>\n",
       "      <th>LCOE</th>\n",
       "      <td>0.004417</td>\n",
       "      <td>delta $/kWh</td>\n",
       "    </tr>\n",
       "    <tr>\n",
       "      <th>Labor</th>\n",
       "      <td>0.025669</td>\n",
       "      <td>delta $/system</td>\n",
       "    </tr>\n",
       "    <tr>\n",
       "      <th rowspan=\"3\" valign=\"top\">High R&amp;D</th>\n",
       "      <th rowspan=\"3\" valign=\"top\">Module R&amp;D</th>\n",
       "      <th rowspan=\"3\" valign=\"top\">Module High R&amp;D</th>\n",
       "      <th rowspan=\"3\" valign=\"top\">Module Fast Progress</th>\n",
       "      <th rowspan=\"3\" valign=\"top\">1</th>\n",
       "      <th rowspan=\"3\" valign=\"top\">Residential PV</th>\n",
       "      <th>GHG</th>\n",
       "      <td>52.247427</td>\n",
       "      <td>delta gCO2e/system</td>\n",
       "    </tr>\n",
       "    <tr>\n",
       "      <th>LCOE</th>\n",
       "      <td>0.044012</td>\n",
       "      <td>delta $/kWh</td>\n",
       "    </tr>\n",
       "    <tr>\n",
       "      <th>Labor</th>\n",
       "      <td>0.077091</td>\n",
       "      <td>delta $/system</td>\n",
       "    </tr>\n",
       "    <tr>\n",
       "      <th rowspan=\"3\" valign=\"top\">Medium R&amp;D</th>\n",
       "      <th rowspan=\"3\" valign=\"top\">Module R&amp;D</th>\n",
       "      <th rowspan=\"3\" valign=\"top\">Module Medium R&amp;D</th>\n",
       "      <th rowspan=\"3\" valign=\"top\">Module Moderate Progress</th>\n",
       "      <th rowspan=\"3\" valign=\"top\">1</th>\n",
       "      <th rowspan=\"3\" valign=\"top\">Residential PV</th>\n",
       "      <th>GHG</th>\n",
       "      <td>42.598410</td>\n",
       "      <td>delta gCO2e/system</td>\n",
       "    </tr>\n",
       "    <tr>\n",
       "      <th>LCOE</th>\n",
       "      <td>0.037809</td>\n",
       "      <td>delta $/kWh</td>\n",
       "    </tr>\n",
       "    <tr>\n",
       "      <th>Labor</th>\n",
       "      <td>0.072191</td>\n",
       "      <td>delta $/system</td>\n",
       "    </tr>\n",
       "    <tr>\n",
       "      <th rowspan=\"3\" valign=\"top\">Low R&amp;D</th>\n",
       "      <th rowspan=\"3\" valign=\"top\">Module R&amp;D</th>\n",
       "      <th rowspan=\"3\" valign=\"top\">Module Low R&amp;D</th>\n",
       "      <th rowspan=\"3\" valign=\"top\">Module Slow Progress</th>\n",
       "      <th rowspan=\"3\" valign=\"top\">1</th>\n",
       "      <th rowspan=\"3\" valign=\"top\">Residential PV</th>\n",
       "      <th>GHG</th>\n",
       "      <td>14.861316</td>\n",
       "      <td>delta gCO2e/system</td>\n",
       "    </tr>\n",
       "    <tr>\n",
       "      <th>LCOE</th>\n",
       "      <td>0.015697</td>\n",
       "      <td>delta $/kWh</td>\n",
       "    </tr>\n",
       "    <tr>\n",
       "      <th>Labor</th>\n",
       "      <td>0.092416</td>\n",
       "      <td>delta $/system</td>\n",
       "    </tr>\n",
       "  </tbody>\n",
       "</table>\n",
       "</div>"
      ],
      "text/plain": [
       "                                                                                                         Value  \\\n",
       "Investment Category     Tranche             Scenario                   Sample Technology     Index               \n",
       "High R&D   BoS R&D      BoS High R&D        BoS Fast Progress          1      Residential PV GHG     -0.005981   \n",
       "                                                                                             LCOE     0.010638   \n",
       "                                                                                             Labor -557.226466   \n",
       "Medium R&D BoS R&D      BoS Medium R&D      BoS Moderate Progress      1      Residential PV GHG     -0.001994   \n",
       "                                                                                             LCOE     0.009472   \n",
       "                                                                                             Labor -327.703298   \n",
       "Low R&D    BoS R&D      BoS Low R&D         BoS Slow Progress          1      Residential PV GHG     -0.005780   \n",
       "                                                                                             LCOE     0.002579   \n",
       "                                                                                             Labor -163.158631   \n",
       "High R&D   Inverter R&D Inverter High R&D   Inverter Fast Progress     1      Residential PV GHG      2.020205   \n",
       "                                                                                             LCOE     0.010384   \n",
       "                                                                                             Labor    0.000490   \n",
       "Medium R&D Inverter R&D Inverter Medium R&D Inverter Moderate Progress 1      Residential PV GHG      2.376189   \n",
       "                                                                                             LCOE     0.007254   \n",
       "                                                                                             Labor    0.060580   \n",
       "Low R&D    Inverter R&D Inverter Low R&D    Inverter Slow Progress     1      Residential PV GHG      2.395318   \n",
       "                                                                                             LCOE     0.004417   \n",
       "                                                                                             Labor    0.025669   \n",
       "High R&D   Module R&D   Module High R&D     Module Fast Progress       1      Residential PV GHG     52.247427   \n",
       "                                                                                             LCOE     0.044012   \n",
       "                                                                                             Labor    0.077091   \n",
       "Medium R&D Module R&D   Module Medium R&D   Module Moderate Progress   1      Residential PV GHG     42.598410   \n",
       "                                                                                             LCOE     0.037809   \n",
       "                                                                                             Labor    0.072191   \n",
       "Low R&D    Module R&D   Module Low R&D      Module Slow Progress       1      Residential PV GHG     14.861316   \n",
       "                                                                                             LCOE     0.015697   \n",
       "                                                                                             Labor    0.092416   \n",
       "\n",
       "                                                                                                                 Units  \n",
       "Investment Category     Tranche             Scenario                   Sample Technology     Index                      \n",
       "High R&D   BoS R&D      BoS High R&D        BoS Fast Progress          1      Residential PV GHG    delta gCO2e/system  \n",
       "                                                                                             LCOE          delta $/kWh  \n",
       "                                                                                             Labor      delta $/system  \n",
       "Medium R&D BoS R&D      BoS Medium R&D      BoS Moderate Progress      1      Residential PV GHG    delta gCO2e/system  \n",
       "                                                                                             LCOE          delta $/kWh  \n",
       "                                                                                             Labor      delta $/system  \n",
       "Low R&D    BoS R&D      BoS Low R&D         BoS Slow Progress          1      Residential PV GHG    delta gCO2e/system  \n",
       "                                                                                             LCOE          delta $/kWh  \n",
       "                                                                                             Labor      delta $/system  \n",
       "High R&D   Inverter R&D Inverter High R&D   Inverter Fast Progress     1      Residential PV GHG    delta gCO2e/system  \n",
       "                                                                                             LCOE          delta $/kWh  \n",
       "                                                                                             Labor      delta $/system  \n",
       "Medium R&D Inverter R&D Inverter Medium R&D Inverter Moderate Progress 1      Residential PV GHG    delta gCO2e/system  \n",
       "                                                                                             LCOE          delta $/kWh  \n",
       "                                                                                             Labor      delta $/system  \n",
       "Low R&D    Inverter R&D Inverter Low R&D    Inverter Slow Progress     1      Residential PV GHG    delta gCO2e/system  \n",
       "                                                                                             LCOE          delta $/kWh  \n",
       "                                                                                             Labor      delta $/system  \n",
       "High R&D   Module R&D   Module High R&D     Module Fast Progress       1      Residential PV GHG    delta gCO2e/system  \n",
       "                                                                                             LCOE          delta $/kWh  \n",
       "                                                                                             Labor      delta $/system  \n",
       "Medium R&D Module R&D   Module Medium R&D   Module Moderate Progress   1      Residential PV GHG    delta gCO2e/system  \n",
       "                                                                                             LCOE          delta $/kWh  \n",
       "                                                                                             Labor      delta $/system  \n",
       "Low R&D    Module R&D   Module Low R&D      Module Slow Progress       1      Residential PV GHG    delta gCO2e/system  \n",
       "                                                                                             LCOE          delta $/kWh  \n",
       "                                                                                             Labor      delta $/system  "
      ]
     },
     "execution_count": 22,
     "metadata": {},
     "output_type": "execute_result"
    }
   ],
   "source": [
    "investment_results.metrics.xs(1, level=\"Sample\", drop_level=False)"
   ]
  },
  {
   "cell_type": "code",
   "execution_count": 23,
   "metadata": {},
   "outputs": [
    {
     "data": {
      "text/html": [
       "<div>\n",
       "<style scoped>\n",
       "    .dataframe tbody tr th:only-of-type {\n",
       "        vertical-align: middle;\n",
       "    }\n",
       "\n",
       "    .dataframe tbody tr th {\n",
       "        vertical-align: top;\n",
       "    }\n",
       "\n",
       "    .dataframe thead th {\n",
       "        text-align: right;\n",
       "    }\n",
       "</style>\n",
       "<table border=\"1\" class=\"dataframe\">\n",
       "  <thead>\n",
       "    <tr style=\"text-align: right;\">\n",
       "      <th></th>\n",
       "      <th></th>\n",
       "      <th></th>\n",
       "      <th></th>\n",
       "      <th>Value</th>\n",
       "      <th>Units</th>\n",
       "    </tr>\n",
       "    <tr>\n",
       "      <th>Investment</th>\n",
       "      <th>Technology</th>\n",
       "      <th>Sample</th>\n",
       "      <th>Index</th>\n",
       "      <th></th>\n",
       "      <th></th>\n",
       "    </tr>\n",
       "  </thead>\n",
       "  <tbody>\n",
       "    <tr>\n",
       "      <th rowspan=\"3\" valign=\"top\">High R&amp;D</th>\n",
       "      <th rowspan=\"3\" valign=\"top\">Residential PV</th>\n",
       "      <th rowspan=\"3\" valign=\"top\">1</th>\n",
       "      <th>GHG</th>\n",
       "      <td>54.261650</td>\n",
       "      <td>delta gCO2e/system</td>\n",
       "    </tr>\n",
       "    <tr>\n",
       "      <th>LCOE</th>\n",
       "      <td>0.065034</td>\n",
       "      <td>delta $/kWh</td>\n",
       "    </tr>\n",
       "    <tr>\n",
       "      <th>Labor</th>\n",
       "      <td>-557.148884</td>\n",
       "      <td>delta $/system</td>\n",
       "    </tr>\n",
       "    <tr>\n",
       "      <th rowspan=\"3\" valign=\"top\">Low R&amp;D</th>\n",
       "      <th rowspan=\"3\" valign=\"top\">Residential PV</th>\n",
       "      <th rowspan=\"3\" valign=\"top\">1</th>\n",
       "      <th>GHG</th>\n",
       "      <td>17.250853</td>\n",
       "      <td>delta gCO2e/system</td>\n",
       "    </tr>\n",
       "    <tr>\n",
       "      <th>LCOE</th>\n",
       "      <td>0.022693</td>\n",
       "      <td>delta $/kWh</td>\n",
       "    </tr>\n",
       "    <tr>\n",
       "      <th>Labor</th>\n",
       "      <td>-163.040546</td>\n",
       "      <td>delta $/system</td>\n",
       "    </tr>\n",
       "    <tr>\n",
       "      <th rowspan=\"3\" valign=\"top\">Medium R&amp;D</th>\n",
       "      <th rowspan=\"3\" valign=\"top\">Residential PV</th>\n",
       "      <th rowspan=\"3\" valign=\"top\">1</th>\n",
       "      <th>GHG</th>\n",
       "      <td>44.972606</td>\n",
       "      <td>delta gCO2e/system</td>\n",
       "    </tr>\n",
       "    <tr>\n",
       "      <th>LCOE</th>\n",
       "      <td>0.054535</td>\n",
       "      <td>delta $/kWh</td>\n",
       "    </tr>\n",
       "    <tr>\n",
       "      <th>Labor</th>\n",
       "      <td>-327.570527</td>\n",
       "      <td>delta $/system</td>\n",
       "    </tr>\n",
       "  </tbody>\n",
       "</table>\n",
       "</div>"
      ],
      "text/plain": [
       "                                             Value               Units\n",
       "Investment Technology     Sample Index                                \n",
       "High R&D   Residential PV 1      GHG     54.261650  delta gCO2e/system\n",
       "                                 LCOE     0.065034         delta $/kWh\n",
       "                                 Labor -557.148884      delta $/system\n",
       "Low R&D    Residential PV 1      GHG     17.250853  delta gCO2e/system\n",
       "                                 LCOE     0.022693         delta $/kWh\n",
       "                                 Labor -163.040546      delta $/system\n",
       "Medium R&D Residential PV 1      GHG     44.972606  delta gCO2e/system\n",
       "                                 LCOE     0.054535         delta $/kWh\n",
       "                                 Labor -327.570527      delta $/system"
      ]
     },
     "execution_count": 23,
     "metadata": {},
     "output_type": "execute_result"
    }
   ],
   "source": [
    "investment_results.summary.xs(1, level=\"Sample\", drop_level=False)"
   ]
  },
  {
   "cell_type": "markdown",
   "metadata": {},
   "source": [
    "### Save results."
   ]
  },
  {
   "cell_type": "code",
   "execution_count": 24,
   "metadata": {},
   "outputs": [],
   "source": [
    "#investment_results.amounts.to_csv(\"example-investment-amounts.csv\")"
   ]
  },
  {
   "cell_type": "code",
   "execution_count": 25,
   "metadata": {},
   "outputs": [],
   "source": [
    "#investment_results.metrics.to_csv(\"example-investment-metrics.csv\")"
   ]
  },
  {
   "cell_type": "markdown",
   "metadata": {},
   "source": [
    "### Plot GHG metric."
   ]
  },
  {
   "cell_type": "code",
   "execution_count": 26,
   "metadata": {
    "scrolled": false
   },
   "outputs": [
    {
     "data": {
      "image/png": "[encoded data removed]",
      "text/plain": [
       "<Figure size 640x480 with 1 Axes>"
      ]
     },
     "metadata": {},
     "output_type": "display_data"
    }
   ],
   "source": [
    "g = sb.boxplot(\n",
    "    x=\"Investment\",\n",
    "    y=\"Value\",\n",
    "    data=investment_results.metrics.xs(\n",
    "        \"GHG\",\n",
    "        level=\"Index\"\n",
    "    ).groupby([\"Investment\", \"Sample\"]).sum(numeric_only=True).reset_index()[[\"Investment\", \"Value\"]],\n",
    "    order=[\n",
    "        \"Low R&D\"   ,\n",
    "        \"Medium R&D\",\n",
    "        \"High R&D\"  ,\n",
    "    ]\n",
    ")\n",
    "g.set(ylabel=\"GHG Reduction [gCO2e / system]\")\n",
    "g.set_xticklabels(g.get_xticklabels());"
   ]
  },
  {
   "cell_type": "markdown",
   "metadata": {},
   "source": [
    "### Plot LCOE metric."
   ]
  },
  {
   "cell_type": "code",
   "execution_count": 27,
   "metadata": {},
   "outputs": [
    {
     "data": {
      "image/png": "[encoded data removed]",
      "text/plain": [
       "<Figure size 640x480 with 1 Axes>"
      ]
     },
     "metadata": {},
     "output_type": "display_data"
    }
   ],
   "source": [
    "g = sb.boxplot(\n",
    "    x=\"Investment\",\n",
    "    y=\"Value\",\n",
    "    data=investment_results.metrics.xs(\n",
    "        \"LCOE\",\n",
    "        level=\"Index\"\n",
    "    ).groupby([\"Investment\", \"Sample\"]).sum(numeric_only=True).reset_index()[[\"Investment\", \"Value\"]],\n",
    "    order=[\n",
    "        \"Low R&D\"   ,\n",
    "        \"Medium R&D\",\n",
    "        \"High R&D\"  ,\n",
    "    ]\n",
    ")\n",
    "g.set(ylabel=\"LCOE Reduction [USD / kWh]\")\n",
    "g.set_xticklabels(g.get_xticklabels());"
   ]
  },
  {
   "cell_type": "markdown",
   "metadata": {},
   "source": [
    "### Plot labor metric."
   ]
  },
  {
   "cell_type": "code",
   "execution_count": 28,
   "metadata": {},
   "outputs": [
    {
     "data": {
      "image/png": "[encoded data removed]",
      "text/plain": [
       "<Figure size 640x480 with 1 Axes>"
      ]
     },
     "metadata": {},
     "output_type": "display_data"
    }
   ],
   "source": [
    "g = sb.boxplot(\n",
    "    x=\"Investment\",\n",
    "    y=\"Value\",\n",
    "    data=investment_results.metrics.xs(\n",
    "        \"Labor\",\n",
    "        level=\"Index\"\n",
    "    ).reset_index()[[\"Investment\", \"Value\"]],\n",
    "    order=[\n",
    "        \"Low R&D\"   ,\n",
    "        \"Medium R&D\",\n",
    "        \"High R&D\"  ,\n",
    "    ]\n",
    ")\n",
    "g.set(ylabel=\"Labor Increase [USD / system]\")\n",
    "g.set_xticklabels(g.get_xticklabels());"
   ]
  },
  {
   "cell_type": "markdown",
   "metadata": {},
   "source": [
    "## Multi-objective decision analysis."
   ]
  },
  {
   "cell_type": "markdown",
   "metadata": {},
   "source": [
    "### Compute costs and metrics for tranches."
   ]
  },
  {
   "cell_type": "markdown",
   "metadata": {},
   "source": [
    "Tranches are atomic units for building investment portfolios. Evaluate all of the tranches, so we can assemble them into investments (portfolios)."
   ]
  },
  {
   "cell_type": "code",
   "execution_count": 29,
   "metadata": {},
   "outputs": [
    {
     "name": "stdout",
     "output_type": "stream",
     "text": [
      "Evaluating Residential PV\n"
     ]
    }
   ],
   "source": [
    "tranche_results = investments.evaluate_tranches(designs, sample_count=50)"
   ]
  },
  {
   "cell_type": "markdown",
   "metadata": {},
   "source": [
    "Display the cost of each tranche."
   ]
  },
  {
   "cell_type": "code",
   "execution_count": 30,
   "metadata": {},
   "outputs": [
    {
     "data": {
      "text/html": [
       "<div>\n",
       "<style scoped>\n",
       "    .dataframe tbody tr th:only-of-type {\n",
       "        vertical-align: middle;\n",
       "    }\n",
       "\n",
       "    .dataframe tbody tr th {\n",
       "        vertical-align: top;\n",
       "    }\n",
       "\n",
       "    .dataframe thead th {\n",
       "        text-align: right;\n",
       "    }\n",
       "</style>\n",
       "<table border=\"1\" class=\"dataframe\">\n",
       "  <thead>\n",
       "    <tr style=\"text-align: right;\">\n",
       "      <th></th>\n",
       "      <th></th>\n",
       "      <th>Amount</th>\n",
       "    </tr>\n",
       "    <tr>\n",
       "      <th>Category</th>\n",
       "      <th>Tranche</th>\n",
       "      <th></th>\n",
       "    </tr>\n",
       "  </thead>\n",
       "  <tbody>\n",
       "    <tr>\n",
       "      <th rowspan=\"3\" valign=\"top\">BoS R&amp;D</th>\n",
       "      <th>BoS High R&amp;D</th>\n",
       "      <td>900000.0</td>\n",
       "    </tr>\n",
       "    <tr>\n",
       "      <th>BoS Low R&amp;D</th>\n",
       "      <td>300000.0</td>\n",
       "    </tr>\n",
       "    <tr>\n",
       "      <th>BoS Medium R&amp;D</th>\n",
       "      <td>600000.0</td>\n",
       "    </tr>\n",
       "    <tr>\n",
       "      <th rowspan=\"3\" valign=\"top\">Inverter R&amp;D</th>\n",
       "      <th>Inverter High R&amp;D</th>\n",
       "      <td>3000000.0</td>\n",
       "    </tr>\n",
       "    <tr>\n",
       "      <th>Inverter Low R&amp;D</th>\n",
       "      <td>1000000.0</td>\n",
       "    </tr>\n",
       "    <tr>\n",
       "      <th>Inverter Medium R&amp;D</th>\n",
       "      <td>2000000.0</td>\n",
       "    </tr>\n",
       "    <tr>\n",
       "      <th rowspan=\"3\" valign=\"top\">Module R&amp;D</th>\n",
       "      <th>Module High R&amp;D</th>\n",
       "      <td>4500000.0</td>\n",
       "    </tr>\n",
       "    <tr>\n",
       "      <th>Module Low R&amp;D</th>\n",
       "      <td>1500000.0</td>\n",
       "    </tr>\n",
       "    <tr>\n",
       "      <th>Module Medium R&amp;D</th>\n",
       "      <td>3000000.0</td>\n",
       "    </tr>\n",
       "  </tbody>\n",
       "</table>\n",
       "</div>"
      ],
      "text/plain": [
       "                                     Amount\n",
       "Category     Tranche                       \n",
       "BoS R&D      BoS High R&D          900000.0\n",
       "             BoS Low R&D           300000.0\n",
       "             BoS Medium R&D        600000.0\n",
       "Inverter R&D Inverter High R&D    3000000.0\n",
       "             Inverter Low R&D     1000000.0\n",
       "             Inverter Medium R&D  2000000.0\n",
       "Module R&D   Module High R&D      4500000.0\n",
       "             Module Low R&D       1500000.0\n",
       "             Module Medium R&D    3000000.0"
      ]
     },
     "execution_count": 30,
     "metadata": {},
     "output_type": "execute_result"
    }
   ],
   "source": [
    "tranche_results.amounts"
   ]
  },
  {
   "cell_type": "markdown",
   "metadata": {},
   "source": [
    "Display the metrics for each tranche."
   ]
  },
  {
   "cell_type": "code",
   "execution_count": 31,
   "metadata": {},
   "outputs": [
    {
     "data": {
      "text/html": [
       "<div>\n",
       "<style scoped>\n",
       "    .dataframe tbody tr th:only-of-type {\n",
       "        vertical-align: middle;\n",
       "    }\n",
       "\n",
       "    .dataframe tbody tr th {\n",
       "        vertical-align: top;\n",
       "    }\n",
       "\n",
       "    .dataframe thead th {\n",
       "        text-align: right;\n",
       "    }\n",
       "</style>\n",
       "<table border=\"1\" class=\"dataframe\">\n",
       "  <thead>\n",
       "    <tr style=\"text-align: right;\">\n",
       "      <th></th>\n",
       "      <th></th>\n",
       "      <th></th>\n",
       "      <th></th>\n",
       "      <th></th>\n",
       "      <th>Value</th>\n",
       "      <th>Units</th>\n",
       "    </tr>\n",
       "    <tr>\n",
       "      <th>Category</th>\n",
       "      <th>Technology</th>\n",
       "      <th>Tranche</th>\n",
       "      <th>Sample</th>\n",
       "      <th>Index</th>\n",
       "      <th></th>\n",
       "      <th></th>\n",
       "    </tr>\n",
       "  </thead>\n",
       "  <tbody>\n",
       "    <tr>\n",
       "      <th rowspan=\"5\" valign=\"top\">BoS R&amp;D</th>\n",
       "      <th rowspan=\"5\" valign=\"top\">Residential PV</th>\n",
       "      <th rowspan=\"5\" valign=\"top\">BoS High R&amp;D</th>\n",
       "      <th rowspan=\"3\" valign=\"top\">1</th>\n",
       "      <th>GHG</th>\n",
       "      <td>-0.005075</td>\n",
       "      <td>delta gCO2e/system</td>\n",
       "    </tr>\n",
       "    <tr>\n",
       "      <th>LCOE</th>\n",
       "      <td>0.009841</td>\n",
       "      <td>delta $/kWh</td>\n",
       "    </tr>\n",
       "    <tr>\n",
       "      <th>Labor</th>\n",
       "      <td>-500.418449</td>\n",
       "      <td>delta $/system</td>\n",
       "    </tr>\n",
       "    <tr>\n",
       "      <th rowspan=\"2\" valign=\"top\">2</th>\n",
       "      <th>GHG</th>\n",
       "      <td>-0.003232</td>\n",
       "      <td>delta gCO2e/system</td>\n",
       "    </tr>\n",
       "    <tr>\n",
       "      <th>LCOE</th>\n",
       "      <td>0.009866</td>\n",
       "      <td>delta $/kWh</td>\n",
       "    </tr>\n",
       "    <tr>\n",
       "      <th>...</th>\n",
       "      <th>...</th>\n",
       "      <th>...</th>\n",
       "      <th>...</th>\n",
       "      <th>...</th>\n",
       "      <td>...</td>\n",
       "      <td>...</td>\n",
       "    </tr>\n",
       "    <tr>\n",
       "      <th rowspan=\"5\" valign=\"top\">Module R&amp;D</th>\n",
       "      <th rowspan=\"5\" valign=\"top\">Residential PV</th>\n",
       "      <th rowspan=\"5\" valign=\"top\">Module Medium R&amp;D</th>\n",
       "      <th rowspan=\"2\" valign=\"top\">49</th>\n",
       "      <th>LCOE</th>\n",
       "      <td>0.035325</td>\n",
       "      <td>delta $/kWh</td>\n",
       "    </tr>\n",
       "    <tr>\n",
       "      <th>Labor</th>\n",
       "      <td>0.006741</td>\n",
       "      <td>delta $/system</td>\n",
       "    </tr>\n",
       "    <tr>\n",
       "      <th rowspan=\"3\" valign=\"top\">50</th>\n",
       "      <th>GHG</th>\n",
       "      <td>38.825571</td>\n",
       "      <td>delta gCO2e/system</td>\n",
       "    </tr>\n",
       "    <tr>\n",
       "      <th>LCOE</th>\n",
       "      <td>0.036609</td>\n",
       "      <td>delta $/kWh</td>\n",
       "    </tr>\n",
       "    <tr>\n",
       "      <th>Labor</th>\n",
       "      <td>0.037232</td>\n",
       "      <td>delta $/system</td>\n",
       "    </tr>\n",
       "  </tbody>\n",
       "</table>\n",
       "<p>1350 rows × 2 columns</p>\n",
       "</div>"
      ],
      "text/plain": [
       "                                                               Value  \\\n",
       "Category   Technology     Tranche           Sample Index               \n",
       "BoS R&D    Residential PV BoS High R&D      1      GHG     -0.005075   \n",
       "                                                   LCOE     0.009841   \n",
       "                                                   Labor -500.418449   \n",
       "                                            2      GHG     -0.003232   \n",
       "                                                   LCOE     0.009866   \n",
       "...                                                              ...   \n",
       "Module R&D Residential PV Module Medium R&D 49     LCOE     0.035325   \n",
       "                                                   Labor    0.006741   \n",
       "                                            50     GHG     38.825571   \n",
       "                                                   LCOE     0.036609   \n",
       "                                                   Labor    0.037232   \n",
       "\n",
       "                                                                       Units  \n",
       "Category   Technology     Tranche           Sample Index                      \n",
       "BoS R&D    Residential PV BoS High R&D      1      GHG    delta gCO2e/system  \n",
       "                                                   LCOE          delta $/kWh  \n",
       "                                                   Labor      delta $/system  \n",
       "                                            2      GHG    delta gCO2e/system  \n",
       "                                                   LCOE          delta $/kWh  \n",
       "...                                                                      ...  \n",
       "Module R&D Residential PV Module Medium R&D 49     LCOE          delta $/kWh  \n",
       "                                                   Labor      delta $/system  \n",
       "                                            50     GHG    delta gCO2e/system  \n",
       "                                                   LCOE          delta $/kWh  \n",
       "                                                   Labor      delta $/system  \n",
       "\n",
       "[1350 rows x 2 columns]"
      ]
     },
     "execution_count": 31,
     "metadata": {},
     "output_type": "execute_result"
    }
   ],
   "source": [
    "tranche_results.summary"
   ]
  },
  {
   "cell_type": "markdown",
   "metadata": {},
   "source": [
    "Save the results."
   ]
  },
  {
   "cell_type": "code",
   "execution_count": 32,
   "metadata": {},
   "outputs": [],
   "source": [
    "#tranche_results.amounts.to_csv(\"example-tranche-amounts.csv\")\n",
    "#tranche_results.summary.to_csv(\"example-tranche-summary.csv\")"
   ]
  },
  {
   "cell_type": "markdown",
   "metadata": {},
   "source": [
    "### Fit a response surface to the results."
   ]
  },
  {
   "cell_type": "markdown",
   "metadata": {},
   "source": [
    "The response surface interpolates between the discrete set of cases provided in the expert elicitation. This allows us to study funding levels intermediate between those scenarios."
   ]
  },
  {
   "cell_type": "code",
   "execution_count": 33,
   "metadata": {},
   "outputs": [],
   "source": [
    "evaluator = ty.Evaluator(tranche_results)"
   ]
  },
  {
   "cell_type": "markdown",
   "metadata": {},
   "source": [
    "Here are the categories of investment and the maximum amount that could be invested in each:"
   ]
  },
  {
   "cell_type": "code",
   "execution_count": 34,
   "metadata": {},
   "outputs": [
    {
     "data": {
      "text/html": [
       "<div>\n",
       "<style scoped>\n",
       "    .dataframe tbody tr th:only-of-type {\n",
       "        vertical-align: middle;\n",
       "    }\n",
       "\n",
       "    .dataframe tbody tr th {\n",
       "        vertical-align: top;\n",
       "    }\n",
       "\n",
       "    .dataframe thead th {\n",
       "        text-align: right;\n",
       "    }\n",
       "</style>\n",
       "<table border=\"1\" class=\"dataframe\">\n",
       "  <thead>\n",
       "    <tr style=\"text-align: right;\">\n",
       "      <th></th>\n",
       "      <th>Amount</th>\n",
       "    </tr>\n",
       "    <tr>\n",
       "      <th>Category</th>\n",
       "      <th></th>\n",
       "    </tr>\n",
       "  </thead>\n",
       "  <tbody>\n",
       "    <tr>\n",
       "      <th>BoS R&amp;D</th>\n",
       "      <td>900000.0</td>\n",
       "    </tr>\n",
       "    <tr>\n",
       "      <th>Inverter R&amp;D</th>\n",
       "      <td>3000000.0</td>\n",
       "    </tr>\n",
       "    <tr>\n",
       "      <th>Module R&amp;D</th>\n",
       "      <td>4500000.0</td>\n",
       "    </tr>\n",
       "  </tbody>\n",
       "</table>\n",
       "</div>"
      ],
      "text/plain": [
       "                 Amount\n",
       "Category               \n",
       "BoS R&D        900000.0\n",
       "Inverter R&D  3000000.0\n",
       "Module R&D    4500000.0"
      ]
     },
     "execution_count": 34,
     "metadata": {},
     "output_type": "execute_result"
    }
   ],
   "source": [
    "evaluator.max_amount"
   ]
  },
  {
   "cell_type": "markdown",
   "metadata": {},
   "source": [
    "Here are the metrics and their units of measure:"
   ]
  },
  {
   "cell_type": "code",
   "execution_count": 35,
   "metadata": {},
   "outputs": [
    {
     "data": {
      "text/html": [
       "<div>\n",
       "<style scoped>\n",
       "    .dataframe tbody tr th:only-of-type {\n",
       "        vertical-align: middle;\n",
       "    }\n",
       "\n",
       "    .dataframe tbody tr th {\n",
       "        vertical-align: top;\n",
       "    }\n",
       "\n",
       "    .dataframe thead th {\n",
       "        text-align: right;\n",
       "    }\n",
       "</style>\n",
       "<table border=\"1\" class=\"dataframe\">\n",
       "  <thead>\n",
       "    <tr style=\"text-align: right;\">\n",
       "      <th></th>\n",
       "      <th>Units</th>\n",
       "    </tr>\n",
       "    <tr>\n",
       "      <th>Index</th>\n",
       "      <th></th>\n",
       "    </tr>\n",
       "  </thead>\n",
       "  <tbody>\n",
       "    <tr>\n",
       "      <th>GHG</th>\n",
       "      <td>delta gCO2e/system</td>\n",
       "    </tr>\n",
       "    <tr>\n",
       "      <th>LCOE</th>\n",
       "      <td>delta $/kWh</td>\n",
       "    </tr>\n",
       "    <tr>\n",
       "      <th>Labor</th>\n",
       "      <td>delta $/system</td>\n",
       "    </tr>\n",
       "  </tbody>\n",
       "</table>\n",
       "</div>"
      ],
      "text/plain": [
       "                    Units\n",
       "Index                    \n",
       "GHG    delta gCO2e/system\n",
       "LCOE          delta $/kWh\n",
       "Labor      delta $/system"
      ]
     },
     "execution_count": 35,
     "metadata": {},
     "output_type": "execute_result"
    }
   ],
   "source": [
    "evaluator.units"
   ]
  },
  {
   "cell_type": "markdown",
   "metadata": {},
   "source": [
    "#### Example interpolation."
   ]
  },
  {
   "cell_type": "markdown",
   "metadata": {},
   "source": [
    "Let's evaluate the case where each category is invested in at half of its maximum amount."
   ]
  },
  {
   "cell_type": "code",
   "execution_count": 36,
   "metadata": {},
   "outputs": [
    {
     "data": {
      "text/html": [
       "<div>\n",
       "<style scoped>\n",
       "    .dataframe tbody tr th:only-of-type {\n",
       "        vertical-align: middle;\n",
       "    }\n",
       "\n",
       "    .dataframe tbody tr th {\n",
       "        vertical-align: top;\n",
       "    }\n",
       "\n",
       "    .dataframe thead th {\n",
       "        text-align: right;\n",
       "    }\n",
       "</style>\n",
       "<table border=\"1\" class=\"dataframe\">\n",
       "  <thead>\n",
       "    <tr style=\"text-align: right;\">\n",
       "      <th></th>\n",
       "      <th>Amount</th>\n",
       "    </tr>\n",
       "    <tr>\n",
       "      <th>Category</th>\n",
       "      <th></th>\n",
       "    </tr>\n",
       "  </thead>\n",
       "  <tbody>\n",
       "    <tr>\n",
       "      <th>BoS R&amp;D</th>\n",
       "      <td>450000.0</td>\n",
       "    </tr>\n",
       "    <tr>\n",
       "      <th>Inverter R&amp;D</th>\n",
       "      <td>1500000.0</td>\n",
       "    </tr>\n",
       "    <tr>\n",
       "      <th>Module R&amp;D</th>\n",
       "      <td>2250000.0</td>\n",
       "    </tr>\n",
       "  </tbody>\n",
       "</table>\n",
       "</div>"
      ],
      "text/plain": [
       "                 Amount\n",
       "Category               \n",
       "BoS R&D        450000.0\n",
       "Inverter R&D  1500000.0\n",
       "Module R&D    2250000.0"
      ]
     },
     "execution_count": 36,
     "metadata": {},
     "output_type": "execute_result"
    }
   ],
   "source": [
    "example_investments = evaluator.max_amount / 2\n",
    "example_investments"
   ]
  },
  {
   "cell_type": "code",
   "execution_count": 37,
   "metadata": {},
   "outputs": [
    {
     "data": {
      "text/plain": [
       "Category    Index  Sample\n",
       "BoS R&D     GHG    1         -0.0018845843191854783\n",
       "                   2          -0.002485584851406486\n",
       "                   3          -0.002832928377920041\n",
       "                   4          0.0013937966856687467\n",
       "                   5          -0.002351347475425314\n",
       "                                      ...          \n",
       "Module R&D  Labor  46           0.03421064839835708\n",
       "                   47          0.025304806005010505\n",
       "                   48           0.05468647241400504\n",
       "                   49          0.014244829080894306\n",
       "                   50          0.016914375190481223\n",
       "Name: Value, Length: 450, dtype: object"
      ]
     },
     "execution_count": 37,
     "metadata": {},
     "output_type": "execute_result"
    }
   ],
   "source": [
    "evaluator.evaluate(example_investments)"
   ]
  },
  {
   "cell_type": "markdown",
   "metadata": {},
   "source": [
    "Let's evaluate the mean instead of outputing the whole distribution."
   ]
  },
  {
   "cell_type": "code",
   "execution_count": 38,
   "metadata": {},
   "outputs": [
    {
     "data": {
      "text/html": [
       "<div>\n",
       "<style scoped>\n",
       "    .dataframe tbody tr th:only-of-type {\n",
       "        vertical-align: middle;\n",
       "    }\n",
       "\n",
       "    .dataframe tbody tr th {\n",
       "        vertical-align: top;\n",
       "    }\n",
       "\n",
       "    .dataframe thead th {\n",
       "        text-align: right;\n",
       "    }\n",
       "</style>\n",
       "<table border=\"1\" class=\"dataframe\">\n",
       "  <thead>\n",
       "    <tr style=\"text-align: right;\">\n",
       "      <th></th>\n",
       "      <th>Value</th>\n",
       "    </tr>\n",
       "    <tr>\n",
       "      <th>Index</th>\n",
       "      <th></th>\n",
       "    </tr>\n",
       "  </thead>\n",
       "  <tbody>\n",
       "    <tr>\n",
       "      <th>GHG</th>\n",
       "      <td>29.708393</td>\n",
       "    </tr>\n",
       "    <tr>\n",
       "      <th>LCOE</th>\n",
       "      <td>0.037985</td>\n",
       "    </tr>\n",
       "    <tr>\n",
       "      <th>Labor</th>\n",
       "      <td>-244.278439</td>\n",
       "    </tr>\n",
       "  </tbody>\n",
       "</table>\n",
       "</div>"
      ],
      "text/plain": [
       "            Value\n",
       "Index            \n",
       "GHG     29.708393\n",
       "LCOE     0.037985\n",
       "Labor -244.278439"
      ]
     },
     "execution_count": 38,
     "metadata": {},
     "output_type": "execute_result"
    }
   ],
   "source": [
    "evaluator.evaluate_statistic(example_investments, np.mean)"
   ]
  },
  {
   "cell_type": "markdown",
   "metadata": {},
   "source": [
    "Here is the standard deviation:"
   ]
  },
  {
   "cell_type": "code",
   "execution_count": 39,
   "metadata": {},
   "outputs": [
    {
     "data": {
      "text/html": [
       "<div>\n",
       "<style scoped>\n",
       "    .dataframe tbody tr th:only-of-type {\n",
       "        vertical-align: middle;\n",
       "    }\n",
       "\n",
       "    .dataframe tbody tr th {\n",
       "        vertical-align: top;\n",
       "    }\n",
       "\n",
       "    .dataframe thead th {\n",
       "        text-align: right;\n",
       "    }\n",
       "</style>\n",
       "<table border=\"1\" class=\"dataframe\">\n",
       "  <thead>\n",
       "    <tr style=\"text-align: right;\">\n",
       "      <th></th>\n",
       "      <th>Value</th>\n",
       "    </tr>\n",
       "    <tr>\n",
       "      <th>Index</th>\n",
       "      <th></th>\n",
       "    </tr>\n",
       "  </thead>\n",
       "  <tbody>\n",
       "    <tr>\n",
       "      <th>GHG</th>\n",
       "      <td>1.787736</td>\n",
       "    </tr>\n",
       "    <tr>\n",
       "      <th>LCOE</th>\n",
       "      <td>0.001066</td>\n",
       "    </tr>\n",
       "    <tr>\n",
       "      <th>Labor</th>\n",
       "      <td>13.600041</td>\n",
       "    </tr>\n",
       "  </tbody>\n",
       "</table>\n",
       "</div>"
      ],
      "text/plain": [
       "           Value\n",
       "Index           \n",
       "GHG     1.787736\n",
       "LCOE    0.001066\n",
       "Labor  13.600041"
      ]
     },
     "execution_count": 39,
     "metadata": {},
     "output_type": "execute_result"
    }
   ],
   "source": [
    "evaluator.evaluate_statistic(example_investments, np.std)"
   ]
  },
  {
   "cell_type": "markdown",
   "metadata": {},
   "source": [
    "A risk-averse decision maker might be interested in the 10% percentile:"
   ]
  },
  {
   "cell_type": "code",
   "execution_count": 40,
   "metadata": {},
   "outputs": [
    {
     "data": {
      "text/html": [
       "<div>\n",
       "<style scoped>\n",
       "    .dataframe tbody tr th:only-of-type {\n",
       "        vertical-align: middle;\n",
       "    }\n",
       "\n",
       "    .dataframe tbody tr th {\n",
       "        vertical-align: top;\n",
       "    }\n",
       "\n",
       "    .dataframe thead th {\n",
       "        text-align: right;\n",
       "    }\n",
       "</style>\n",
       "<table border=\"1\" class=\"dataframe\">\n",
       "  <thead>\n",
       "    <tr style=\"text-align: right;\">\n",
       "      <th></th>\n",
       "      <th>Value</th>\n",
       "    </tr>\n",
       "    <tr>\n",
       "      <th>Index</th>\n",
       "      <th></th>\n",
       "    </tr>\n",
       "  </thead>\n",
       "  <tbody>\n",
       "    <tr>\n",
       "      <th>GHG</th>\n",
       "      <td>27.430082</td>\n",
       "    </tr>\n",
       "    <tr>\n",
       "      <th>LCOE</th>\n",
       "      <td>0.036415</td>\n",
       "    </tr>\n",
       "    <tr>\n",
       "      <th>Labor</th>\n",
       "      <td>-260.372945</td>\n",
       "    </tr>\n",
       "  </tbody>\n",
       "</table>\n",
       "</div>"
      ],
      "text/plain": [
       "            Value\n",
       "Index            \n",
       "GHG     27.430082\n",
       "LCOE     0.036415\n",
       "Labor -260.372945"
      ]
     },
     "execution_count": 40,
     "metadata": {},
     "output_type": "execute_result"
    }
   ],
   "source": [
    "evaluator.evaluate_statistic(example_investments, lambda x: np.quantile(x, 0.1))"
   ]
  },
  {
   "cell_type": "markdown",
   "metadata": {},
   "source": [
    "### ε-Constraint multiobjective optimization"
   ]
  },
  {
   "cell_type": "code",
   "execution_count": 41,
   "metadata": {},
   "outputs": [],
   "source": [
    "optimizer = ty.EpsilonConstraintOptimizer(evaluator)"
   ]
  },
  {
   "cell_type": "markdown",
   "metadata": {},
   "source": [
    "In order to meaningfully map the decision space, we need to know the maximum values for each of the metrics."
   ]
  },
  {
   "cell_type": "markdown",
   "metadata": {},
   "source": [
    "#### Example optimization."
   ]
  },
  {
   "cell_type": "markdown",
   "metadata": {},
   "source": [
    "Limit spending to $3M."
   ]
  },
  {
   "cell_type": "code",
   "execution_count": 42,
   "metadata": {},
   "outputs": [],
   "source": [
    "investment_max = 3e6"
   ]
  },
  {
   "cell_type": "markdown",
   "metadata": {},
   "source": [
    "Require that the GHG reduction be at least 40 gCO2e/system and that the Labor wages not decrease."
   ]
  },
  {
   "cell_type": "code",
   "execution_count": 43,
   "metadata": {},
   "outputs": [
    {
     "data": {
      "text/plain": [
       "GHG      40\n",
       "Labor     0\n",
       "Name: Value, dtype: int64"
      ]
     },
     "execution_count": 43,
     "metadata": {},
     "output_type": "execute_result"
    }
   ],
   "source": [
    "metric_min = pd.Series([40, 0], name = \"Value\", index = [\"GHG\", \"Labor\"])\n",
    "metric_min"
   ]
  },
  {
   "cell_type": "markdown",
   "metadata": {},
   "source": [
    "Compute the ε-constrained maximum for the LCOE."
   ]
  },
  {
   "cell_type": "code",
   "execution_count": 44,
   "metadata": {
    "scrolled": false
   },
   "outputs": [
    {
     "data": {
      "text/plain": [
       "'Optimization terminated successfully'"
      ]
     },
     "execution_count": 44,
     "metadata": {},
     "output_type": "execute_result"
    }
   ],
   "source": [
    "optimum = optimizer.opt_slsqp(\n",
    "    \"LCOE\"                       ,\n",
    "    sense = 'max',\n",
    "    total_amount = investment_max,\n",
    "    statistic    = np.mean       ,\n",
    ")\n",
    "optimum.exit_message"
   ]
  },
  {
   "cell_type": "markdown",
   "metadata": {},
   "source": [
    "Here are the optimal spending levels:"
   ]
  },
  {
   "cell_type": "code",
   "execution_count": 45,
   "metadata": {},
   "outputs": [
    {
     "data": {
      "text/plain": [
       "Category\n",
       "BoS R&D          600000.0\n",
       "Inverter R&D          0.0\n",
       "Module R&D      2400000.0\n",
       "Name: Amount, dtype: float64"
      ]
     },
     "execution_count": 45,
     "metadata": {},
     "output_type": "execute_result"
    }
   ],
   "source": [
    "np.round(optimum.amounts)"
   ]
  },
  {
   "cell_type": "markdown",
   "metadata": {},
   "source": [
    "Here are the three metrics at that optimum:"
   ]
  },
  {
   "cell_type": "code",
   "execution_count": 46,
   "metadata": {},
   "outputs": [
    {
     "data": {
      "text/plain": [
       "Index\n",
       "GHG         32.4015\n",
       "LCOE       0.038861\n",
       "Labor   -342.072969\n",
       "Name: Value, dtype: object"
      ]
     },
     "execution_count": 46,
     "metadata": {},
     "output_type": "execute_result"
    }
   ],
   "source": [
    "optimum.metrics"
   ]
  },
  {
   "cell_type": "markdown",
   "metadata": {},
   "source": [
    "*Thus, by putting all of the investment into Module R&D, we can expected to achieve a mean 3.75 ¢/kWh reduction in LCOE under the GHG and Labor constraints.*"
   ]
  },
  {
   "cell_type": "markdown",
   "metadata": {},
   "source": [
    "It turns out that there is no solution for these constraints if we evaluate the 10th percentile of the metrics, for a risk-averse decision maker."
   ]
  },
  {
   "cell_type": "code",
   "execution_count": 47,
   "metadata": {},
   "outputs": [
    {
     "data": {
      "text/plain": [
       "'Optimization terminated successfully'"
      ]
     },
     "execution_count": 47,
     "metadata": {},
     "output_type": "execute_result"
    }
   ],
   "source": [
    "optimum = optimizer.opt_slsqp(\n",
    "    \"LCOE\"                       ,\n",
    "    sense = 'max',\n",
    "    total_amount = investment_max,\n",
    "    statistic    = lambda x: np.quantile(x, 0.1),\n",
    ")\n",
    "optimum.exit_message"
   ]
  },
  {
   "cell_type": "markdown",
   "metadata": {},
   "source": [
    "Let's try again, but with a less stringent set of constraints, only constraining GHG somewhat  but not Labor at all."
   ]
  },
  {
   "cell_type": "code",
   "execution_count": 48,
   "metadata": {},
   "outputs": [
    {
     "data": {
      "text/plain": [
       "'Optimization terminated successfully'"
      ]
     },
     "execution_count": 48,
     "metadata": {},
     "output_type": "execute_result"
    }
   ],
   "source": [
    "optimum = optimizer.opt_slsqp(\n",
    "    \"LCOE\"                                                         ,\n",
    "    sense = 'max',\n",
    "    total_amount = investment_max                                  ,\n",
    "    statistic    = lambda x: np.quantile(x, 0.1)                  ,\n",
    ")\n",
    "optimum.exit_message"
   ]
  },
  {
   "cell_type": "code",
   "execution_count": 49,
   "metadata": {},
   "outputs": [
    {
     "data": {
      "text/plain": [
       "Category\n",
       "BoS R&D          600001.0\n",
       "Inverter R&D          0.0\n",
       "Module R&D      2399999.0\n",
       "Name: Amount, dtype: float64"
      ]
     },
     "execution_count": 49,
     "metadata": {},
     "output_type": "execute_result"
    }
   ],
   "source": [
    "np.round(optimum.amounts)"
   ]
  },
  {
   "cell_type": "code",
   "execution_count": 50,
   "metadata": {},
   "outputs": [
    {
     "data": {
      "text/plain": [
       "Index\n",
       "GHG       29.133497\n",
       "LCOE       0.036786\n",
       "Labor   -367.280795\n",
       "Name: Value, dtype: object"
      ]
     },
     "execution_count": 50,
     "metadata": {},
     "output_type": "execute_result"
    }
   ],
   "source": [
    "optimum.metrics"
   ]
  },
  {
   "cell_type": "markdown",
   "metadata": {},
   "source": [
    "### Example MILP optimization\n",
    "\n",
    "This formulation converts the original non-linear optimization into a piecewise linear, mixed-integer optimization, and then attempts to solve the same problem.\n",
    "\n",
    "~~As written, the MILP formulation is infeasible.~~"
   ]
  },
  {
   "cell_type": "code",
   "execution_count": 51,
   "metadata": {},
   "outputs": [
    {
     "name": "stderr",
     "output_type": "stream",
     "text": [
      "An error occurred while loading the CBC library:\t cannot load library '/Users/tghosh/miniconda3/envs/tyche/lib/python3.10/site-packages/mip/libraries/cbc-c-darwin-x86-64.dylib': dlopen(/Users/tghosh/miniconda3/envs/tyche/lib/python3.10/site-packages/mip/libraries/cbc-c-darwin-x86-64.dylib, 0x0002): tried: '/Users/tghosh/miniconda3/envs/tyche/lib/python3.10/site-packages/mip/libraries/cbc-c-darwin-x86-64.dylib' (mach-o file, but is an incompatible architecture (have (x86_64), need (arm64e))).  Additionally, ctypes.util.find_library() did not manage to locate a library called '/Users/tghosh/miniconda3/envs/tyche/lib/python3.10/site-packages/mip/libraries/cbc-c-darwin-x86-64.dylib'\n",
      "\n"
     ]
    },
    {
     "ename": "NameError",
     "evalue": "name 'cbclib' is not defined",
     "output_type": "error",
     "traceback": [
      "\u001b[0;31m---------------------------------------------------------------------------\u001b[0m",
      "\u001b[0;31mNameError\u001b[0m                                 Traceback (most recent call last)",
      "Cell \u001b[0;32mIn[51], line 4\u001b[0m\n\u001b[1;32m      1\u001b[0m investment_max \u001b[38;5;241m=\u001b[39m \u001b[38;5;241m3e6\u001b[39m\n\u001b[1;32m      2\u001b[0m metric_min \u001b[38;5;241m=\u001b[39m pd\u001b[38;5;241m.\u001b[39mSeries([\u001b[38;5;241m40\u001b[39m, \u001b[38;5;241m0\u001b[39m], name \u001b[38;5;241m=\u001b[39m \u001b[38;5;124m\"\u001b[39m\u001b[38;5;124mValue\u001b[39m\u001b[38;5;124m\"\u001b[39m, index \u001b[38;5;241m=\u001b[39m [\u001b[38;5;124m\"\u001b[39m\u001b[38;5;124mGHG\u001b[39m\u001b[38;5;124m\"\u001b[39m, \u001b[38;5;124m\"\u001b[39m\u001b[38;5;124mLabor\u001b[39m\u001b[38;5;124m\"\u001b[39m])\n\u001b[0;32m----> 4\u001b[0m optimum \u001b[38;5;241m=\u001b[39m \u001b[43moptimizer\u001b[49m\u001b[38;5;241;43m.\u001b[39;49m\u001b[43mopt_milp\u001b[49m\u001b[43m(\u001b[49m\n\u001b[1;32m      5\u001b[0m \u001b[43m    \u001b[49m\u001b[38;5;124;43m\"\u001b[39;49m\u001b[38;5;124;43mLCOE\u001b[39;49m\u001b[38;5;124;43m\"\u001b[39;49m\u001b[43m                       \u001b[49m\u001b[43m,\u001b[49m\n\u001b[1;32m      6\u001b[0m \u001b[43m    \u001b[49m\u001b[43msense\u001b[49m\u001b[43m \u001b[49m\u001b[38;5;241;43m=\u001b[39;49m\u001b[43m \u001b[49m\u001b[38;5;124;43m'\u001b[39;49m\u001b[38;5;124;43mmax\u001b[39;49m\u001b[38;5;124;43m'\u001b[39;49m\u001b[43m,\u001b[49m\n\u001b[1;32m      7\u001b[0m \u001b[43m    \u001b[49m\u001b[43mtotal_amount\u001b[49m\u001b[43m \u001b[49m\u001b[38;5;241;43m=\u001b[39;49m\u001b[43m \u001b[49m\u001b[43minvestment_max\u001b[49m\u001b[43m,\u001b[49m\n\u001b[1;32m      8\u001b[0m \u001b[43m    \u001b[49m\u001b[43mstatistic\u001b[49m\u001b[43m    \u001b[49m\u001b[38;5;241;43m=\u001b[39;49m\u001b[43m \u001b[49m\u001b[43mnp\u001b[49m\u001b[38;5;241;43m.\u001b[39;49m\u001b[43mmean\u001b[49m\u001b[43m       \u001b[49m\u001b[43m,\u001b[49m\n\u001b[1;32m      9\u001b[0m \u001b[43m)\u001b[49m\n\u001b[1;32m     11\u001b[0m optimum\u001b[38;5;241m.\u001b[39mexit_message\n",
      "File \u001b[0;32m~/Library/CloudStorage/OneDrive-NREL/work_NREL/tyche/src/tyche/EpsilonConstraints.py:902\u001b[0m, in \u001b[0;36mEpsilonConstraintOptimizer.opt_milp\u001b[0;34m(self, metric, sense, max_amount, total_amount, eps_metric, statistic, sizelimit, verbose)\u001b[0m\n\u001b[1;32m    900\u001b[0m \u001b[38;5;66;03m# instantiate MILP model\u001b[39;00m\n\u001b[1;32m    901\u001b[0m \u001b[38;5;28;01mif\u001b[39;00m sense \u001b[38;5;241m==\u001b[39m \u001b[38;5;124m'\u001b[39m\u001b[38;5;124mmax\u001b[39m\u001b[38;5;124m'\u001b[39m:\n\u001b[0;32m--> 902\u001b[0m   _model \u001b[38;5;241m=\u001b[39m \u001b[43mModel\u001b[49m\u001b[43m(\u001b[49m\u001b[43msense\u001b[49m\u001b[38;5;241;43m=\u001b[39;49m\u001b[43mMAXIMIZE\u001b[49m\u001b[43m)\u001b[49m\n\u001b[1;32m    903\u001b[0m \u001b[38;5;28;01melse\u001b[39;00m:\n\u001b[1;32m    904\u001b[0m   _model \u001b[38;5;241m=\u001b[39m Model(sense\u001b[38;5;241m=\u001b[39mMINIMIZE)\n",
      "File \u001b[0;32m~/miniconda3/envs/tyche/lib/python3.10/site-packages/mip/model.py:98\u001b[0m, in \u001b[0;36mModel.__init__\u001b[0;34m(self, name, sense, solver_name, solver)\u001b[0m\n\u001b[1;32m     96\u001b[0m     \u001b[38;5;28mself\u001b[39m\u001b[38;5;241m.\u001b[39msolver_name \u001b[38;5;241m=\u001b[39m mip\u001b[38;5;241m.\u001b[39mGUROBI\n\u001b[1;32m     97\u001b[0m \u001b[38;5;28;01melse\u001b[39;00m:\n\u001b[0;32m---> 98\u001b[0m     \u001b[38;5;28;01mimport\u001b[39;00m \u001b[38;5;21;01mmip\u001b[39;00m\u001b[38;5;21;01m.\u001b[39;00m\u001b[38;5;21;01mcbc\u001b[39;00m\n\u001b[1;32m    100\u001b[0m     \u001b[38;5;28mself\u001b[39m\u001b[38;5;241m.\u001b[39msolver \u001b[38;5;241m=\u001b[39m mip\u001b[38;5;241m.\u001b[39mcbc\u001b[38;5;241m.\u001b[39mSolverCbc(\u001b[38;5;28mself\u001b[39m, name, sense)\n\u001b[1;32m    101\u001b[0m     \u001b[38;5;28mself\u001b[39m\u001b[38;5;241m.\u001b[39msolver_name \u001b[38;5;241m=\u001b[39m mip\u001b[38;5;241m.\u001b[39mCBC\n",
      "File \u001b[0;32m~/miniconda3/envs/tyche/lib/python3.10/site-packages/mip/cbc.py:603\u001b[0m\n\u001b[1;32m    599\u001b[0m INT_PARAM_CLIQUE_MERGING \u001b[38;5;241m=\u001b[39m \u001b[38;5;241m18\u001b[39m\n\u001b[1;32m    600\u001b[0m INT_PARAM_MAX_NODES_NOT_IMPROV_FS \u001b[38;5;241m=\u001b[39m \u001b[38;5;241m19\u001b[39m\n\u001b[0;32m--> 603\u001b[0m Osi_getNumCols \u001b[38;5;241m=\u001b[39m \u001b[43mcbclib\u001b[49m\u001b[38;5;241m.\u001b[39mOsi_getNumCols\n\u001b[1;32m    604\u001b[0m Osi_getColSolution \u001b[38;5;241m=\u001b[39m cbclib\u001b[38;5;241m.\u001b[39mOsi_getColSolution\n\u001b[1;32m    605\u001b[0m Osi_getIntegerTolerance \u001b[38;5;241m=\u001b[39m cbclib\u001b[38;5;241m.\u001b[39mOsi_getIntegerTolerance\n",
      "\u001b[0;31mNameError\u001b[0m: name 'cbclib' is not defined"
     ]
    }
   ],
   "source": [
    "investment_max = 3e6\n",
    "metric_min = pd.Series([40, 0], name = \"Value\", index = [\"GHG\", \"Labor\"])\n",
    "\n",
    "optimum = optimizer.opt_milp(\n",
    "    \"LCOE\"                       ,\n",
    "    sense = 'max',\n",
    "    total_amount = investment_max,\n",
    "    statistic    = np.mean       ,\n",
    ")\n",
    "\n",
    "optimum.exit_message"
   ]
  },
  {
   "cell_type": "markdown",
   "metadata": {},
   "source": [
    "Let's determine if the problem is truly infeasible or if the solver is failing by examining the underlying data."
   ]
  },
  {
   "cell_type": "code",
   "execution_count": null,
   "metadata": {},
   "outputs": [],
   "source": [
    "_wide = evaluator.evaluate_corners_wide(np.mean).reset_index()\n",
    "_wide"
   ]
  },
  {
   "cell_type": "markdown",
   "metadata": {},
   "source": [
    "Add a column to the above data with the total investment amount."
   ]
  },
  {
   "cell_type": "code",
   "execution_count": null,
   "metadata": {},
   "outputs": [],
   "source": [
    "_wide['total R&D'] = _wide.loc[:,'BoS R&D'] + _wide.loc[:, 'Inverter R&D'] + _wide.loc[:, 'Module R&D']\n",
    "_wide"
   ]
  },
  {
   "cell_type": "markdown",
   "metadata": {},
   "source": [
    "Look for entries that meet the total investment constraint of less than $3 MM."
   ]
  },
  {
   "cell_type": "code",
   "execution_count": null,
   "metadata": {},
   "outputs": [],
   "source": [
    "_wide.loc[_wide['total R&D'] <= 3e6,:]"
   ]
  },
  {
   "cell_type": "markdown",
   "metadata": {},
   "source": [
    "~~This entry does not meet the GHG constraint, which is why the MILP formulation is infeasible.~~"
   ]
  }
 ],
 "metadata": {
  "kernelspec": {
   "display_name": "Python 3 (ipykernel)",
   "language": "python",
   "name": "python3"
  },
  "language_info": {
   "codemirror_mode": {
    "name": "ipython",
    "version": 3
   },
   "file_extension": ".py",
   "mimetype": "text/x-python",
   "name": "python",
   "nbconvert_exporter": "python",
   "pygments_lexer": "ipython3",
   "version": "3.10.9"
  }
 },
 "nbformat": 4,
 "nbformat_minor": 2
}
