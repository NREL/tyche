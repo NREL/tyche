{
 "cells": [
  {
   "cell_type": "markdown",
   "metadata": {},
   "source": [
    "# Issue 46: add functionality to choose minimizing or maximizing for each metric in a dataset\n",
    "\n",
    "[See issue progress on GitHub here.](https://github.com/NREL/tyche/issues/46)"
   ]
  },
  {
   "cell_type": "code",
   "execution_count": 1,
   "metadata": {},
   "outputs": [],
   "source": [
    "import os\n",
    "import sys\n",
    "\n",
    "sys.path.insert(1, os.path.abspath(\"../../src\"))\n",
    "\n",
    "import numpy             as np\n",
    "import matplotlib.pyplot as pl\n",
    "import pandas            as pd\n",
    "import seaborn           as sb\n",
    "import tyche             as ty"
   ]
  },
  {
   "cell_type": "markdown",
   "metadata": {},
   "source": [
    "# Sustainable Aviation Fuel"
   ]
  },
  {
   "cell_type": "code",
   "execution_count": 2,
   "metadata": {},
   "outputs": [
    {
     "name": "stdout",
     "output_type": "stream",
     "text": [
      "Evaluating HEFA Camelina\n",
      "Evaluating HEFA Castor\n",
      "Evaluating HEFA Jatropha\n",
      "Evaluating HEFA Pennycress\n",
      "Evaluating HEFA Yellow Grease\n"
     ]
    }
   ],
   "source": [
    "saf_loc = \"../../tutorial/data/saf\"\n",
    "\n",
    "saf_designs = ty.Designs(saf_loc)\n",
    "saf_investments = ty.Investments(saf_loc)\n",
    "saf_designs.compile()\n",
    "tranche_results = saf_investments.evaluate_tranches(saf_designs,\n",
    "                                                    sample_count=1000)\n",
    "\n",
    "techs = tranche_results.summary.index.get_level_values('Technology').unique()"
   ]
  },
  {
   "cell_type": "markdown",
   "metadata": {},
   "source": [
    "## Using the `opt_slsqp` (formerly `min_slsqp`) method\n",
    "\n",
    "Evaluate the maximum metric values using the `optimum_metrics` method (formerly the `max_metrics` method). After refactoring, the method can take either a `Dict` of optimization senses, one per metric, or a `str` specifying one optimization sense to be used across all metrics. If no sense is provided, then the optimization sense used to instantiate the `EpsilonConstraintOptimizer` class object is used for all metrics.\n",
    "\n",
    "First demonstrate the use of an optimization sense dictionary, with one sense per metric."
   ]
  },
  {
   "cell_type": "code",
   "execution_count": null,
   "metadata": {},
   "outputs": [],
   "source": [
    "sense_dict = {'Reduction in MJSP' : 'max',\n",
    "              'Reduction in Jet GHG': 'max',\n",
    "              'MJSP': 'min',\n",
    "              'Jet GHG': 'min'}\n",
    "\n",
    "opt_metric_values = {}\n",
    "\n",
    "for i in techs:\n",
    "    tranche_tech_results = tranche_results.summary[\n",
    "        tranche_results.summary.index.get_level_values('Technology') == i\n",
    "    ]\n",
    "    evaluator = ty.Evaluator(\n",
    "        saf_investments.tranches, tranche_tech_results\n",
    "    )\n",
    "    optimizer = ty.EpsilonConstraintOptimizer(\n",
    "        evaluator,\n",
    "    )\n",
    "    opt_metric_values[i] = optimizer.optimum_metrics(\n",
    "        sense = sense_dict,\n",
    "        total_amount = 5000000\n",
    "    )\n",
    "\n",
    "opt_metric_values"
   ]
  },
  {
   "cell_type": "markdown",
   "metadata": {},
   "source": [
    "Next, provide a sense (max) as a string to `optimum_metrics` that overrides the sense provided to the `EpsilonConstraintOptimizer` object."
   ]
  },
  {
   "cell_type": "code",
   "execution_count": null,
   "metadata": {},
   "outputs": [],
   "source": [
    "max_metric_values = {}\n",
    "\n",
    "for i in techs:\n",
    "    tranche_tech_results = tranche_results.summary[\n",
    "        tranche_results.summary.index.get_level_values('Technology') == i\n",
    "    ]\n",
    "    evaluator = ty.Evaluator(\n",
    "        saf_investments.tranches, tranche_tech_results\n",
    "    )\n",
    "    optimizer = ty.EpsilonConstraintOptimizer(\n",
    "        evaluator,\n",
    "    )\n",
    "    max_metric_values[i] = optimizer.optimum_metrics(\n",
    "        sense = 'max',\n",
    "        total_amount = 5000000\n",
    "    )\n",
    "\n",
    "max_metric_values"
   ]
  },
  {
   "cell_type": "markdown",
   "metadata": {},
   "source": [
    "Optimize for minimum jet selling price (MJSP) by minimizing MJSP directly."
   ]
  },
  {
   "cell_type": "code",
   "execution_count": null,
   "metadata": {},
   "outputs": [],
   "source": [
    "min_results = []\n",
    "\n",
    "for i in techs:\n",
    "    tranche_tech_results = tranche_results.summary[\n",
    "        tranche_results.summary.index.get_level_values('Technology') == i\n",
    "    ]\n",
    "    evaluator = ty.Evaluator(\n",
    "        saf_investments.tranches, tranche_tech_results\n",
    "    )\n",
    "    optimizer = ty.EpsilonConstraintOptimizer(\n",
    "        evaluator\n",
    "    )\n",
    "    w = optimizer.opt_slsqp(\n",
    "        \"MJSP\",\n",
    "        sense = 'min',\n",
    "        total_amount = 5000000\n",
    "    )\n",
    "    print(f\"{i} - {w[1]}\")\n",
    "    min_dict = {\n",
    "        'Technology': i,\n",
    "        'Optimizer status': w[1],\n",
    "        'Investment amounts': w[2],\n",
    "        'Optimum metrics': w[3]\n",
    "    }\n",
    "    min_results.append(\n",
    "        min_dict\n",
    "    )\n",
    "    del tranche_tech_results, evaluator, optimizer, min_dict, w\n",
    "\n",
    "min_results"
   ]
  },
  {
   "cell_type": "markdown",
   "metadata": {},
   "source": [
    "Now optimize for MJSP by maximizing the reduction in MSJP from the state of technology value. This will determine if the same solutions are found when minimizing MJSP versus maximizing the reduction in MJSP."
   ]
  },
  {
   "cell_type": "code",
   "execution_count": null,
   "metadata": {},
   "outputs": [],
   "source": [
    "max_results = []\n",
    "\n",
    "for i in techs:\n",
    "    tranche_tech_results = tranche_results.summary[\n",
    "        tranche_results.summary.index.get_level_values('Technology') == i\n",
    "    ]\n",
    "    evaluator = ty.Evaluator(\n",
    "        saf_investments.tranches, tranche_tech_results\n",
    "    )\n",
    "    optimizer = ty.EpsilonConstraintOptimizer(\n",
    "        evaluator\n",
    "    )\n",
    "    w = optimizer.opt_slsqp(\n",
    "        \"Reduction in MJSP\",\n",
    "        sense = 'max',\n",
    "        total_amount = 5000000        \n",
    "    )\n",
    "    print(f\"{i} - {w[1]}\")\n",
    "    max_dict = {\n",
    "        'Technology': i,\n",
    "        'Optimizer status': w[1],\n",
    "        'Investment amounts': w[2],\n",
    "        'Optimum metrics': w[3]\n",
    "    }\n",
    "    max_results.append(\n",
    "        max_dict\n",
    "    )\n",
    "    del tranche_tech_results, evaluator, optimizer, max_dict, w\n",
    "\n",
    "max_results"
   ]
  },
  {
   "cell_type": "markdown",
   "metadata": {},
   "source": [
    "The MJSP values match when MJSP is minimized or when the reduction in MJSP is maximized.\n",
    "\n",
    "Now perform the same test on the GHG metrics. First, minimize jet GHG."
   ]
  },
  {
   "cell_type": "code",
   "execution_count": null,
   "metadata": {},
   "outputs": [],
   "source": [
    "min_ghg = []\n",
    "\n",
    "for i in techs:\n",
    "    tranche_tech_results = tranche_results.summary[\n",
    "        tranche_results.summary.index.get_level_values('Technology') == i\n",
    "    ]\n",
    "    evaluator = ty.Evaluator(\n",
    "        saf_investments.tranches, tranche_tech_results\n",
    "    )\n",
    "    optimizer = ty.EpsilonConstraintOptimizer(\n",
    "        evaluator\n",
    "    )\n",
    "    w = optimizer.opt_slsqp(\n",
    "        \"Jet GHG\",\n",
    "        sense = 'min',\n",
    "        total_amount = 5000000\n",
    "    )\n",
    "    print(f\"{i} - {w[1]}\")\n",
    "    min_dict = {\n",
    "        'Technology': i,\n",
    "        'Optimizer status': w[1],\n",
    "        'Investment amounts': w[2],\n",
    "        'Optimum metrics': w[3]\n",
    "    }\n",
    "    min_ghg.append(\n",
    "        min_dict\n",
    "    )\n",
    "    del tranche_tech_results, evaluator, optimizer, min_dict, w\n",
    "\n",
    "min_ghg"
   ]
  },
  {
   "cell_type": "markdown",
   "metadata": {},
   "source": [
    "Now, maximize the reduction in jet GHG."
   ]
  },
  {
   "cell_type": "code",
   "execution_count": null,
   "metadata": {},
   "outputs": [],
   "source": [
    "max_red_ghg = []\n",
    "\n",
    "for i in techs:\n",
    "    tranche_tech_results = tranche_results.summary[\n",
    "        tranche_results.summary.index.get_level_values('Technology') == i\n",
    "    ]\n",
    "    evaluator = ty.Evaluator(\n",
    "        saf_investments.tranches, tranche_tech_results\n",
    "    )\n",
    "    optimizer = ty.EpsilonConstraintOptimizer(\n",
    "        evaluator\n",
    "    )\n",
    "    w = optimizer.opt_slsqp(\n",
    "        \"Reduction in Jet GHG\",\n",
    "        sense = 'max',\n",
    "        total_amount = 5000000\n",
    "    )\n",
    "    print(f\"{i} - {w[1]}\")\n",
    "    max_dict = {\n",
    "        'Technology': i,\n",
    "        'Optimizer status': w[1],\n",
    "        'Investment amounts': w[2],\n",
    "        'Optimum metrics': w[3]\n",
    "    }\n",
    "    max_red_ghg.append(\n",
    "        max_dict\n",
    "    )\n",
    "    del tranche_tech_results, evaluator, optimizer, max_dict, w\n",
    "\n",
    "max_red_ghg"
   ]
  },
  {
   "cell_type": "markdown",
   "metadata": {},
   "source": [
    "These optimal values match as well when jet GHG is minimized versus when the reduction in jet GHG is maximized.\n",
    "\n",
    "## Using the `opt_milp` (formerly `pwlinear_milp`) method"
   ]
  },
  {
   "cell_type": "code",
   "execution_count": null,
   "metadata": {},
   "outputs": [],
   "source": [
    "min_mjsp = []\n",
    "\n",
    "for i in techs:\n",
    "    tranche_tech_results = tranche_results.summary[\n",
    "        tranche_results.summary.index.get_level_values('Technology') == i\n",
    "    ]\n",
    "    evaluator = ty.Evaluator(\n",
    "        saf_investments.tranches, tranche_tech_results\n",
    "    )\n",
    "    optimizer = ty.EpsilonConstraintOptimizer(\n",
    "        evaluator\n",
    "    )\n",
    "    w = optimizer.opt_milp(\n",
    "        \"MJSP\",\n",
    "        sense = 'min',\n",
    "        total_amount = 5000000\n",
    "    )\n",
    "    print(f\"{i} - {w[1]}\")\n",
    "    min_dict = {\n",
    "        'Technology': i,\n",
    "        'Optimizer status': w[1],\n",
    "        'Investment amounts': w[2],\n",
    "        'Optimum metrics': w[3]\n",
    "    }\n",
    "    min_mjsp.append(\n",
    "        min_dict\n",
    "    )\n",
    "    del tranche_tech_results, evaluator, optimizer, min_dict, w\n",
    "\n",
    "min_mjsp"
   ]
  },
  {
   "cell_type": "code",
   "execution_count": null,
   "metadata": {},
   "outputs": [],
   "source": [
    "max_red_mjsp = []\n",
    "\n",
    "for i in techs:\n",
    "    tranche_tech_results = tranche_results.summary[\n",
    "        tranche_results.summary.index.get_level_values('Technology') == i\n",
    "    ]\n",
    "    evaluator = ty.Evaluator(\n",
    "        saf_investments.tranches, tranche_tech_results\n",
    "    )\n",
    "    optimizer = ty.EpsilonConstraintOptimizer(\n",
    "        evaluator\n",
    "    )\n",
    "    w = optimizer.opt_milp(\n",
    "        \"Reduction in MJSP\",\n",
    "        sense = 'max',\n",
    "        total_amount = 5000000\n",
    "    )\n",
    "    print(f\"{i} - {w[1]}\")\n",
    "    max_dict = {\n",
    "        'Technology': i,\n",
    "        'Optimizer status': w[1],\n",
    "        'Investment amounts': w[2],\n",
    "        'Optimum metrics': w[3]\n",
    "    }\n",
    "    max_red_mjsp.append(\n",
    "        max_dict\n",
    "    )\n",
    "    del tranche_tech_results, evaluator, optimizer, max_dict, w\n",
    "\n",
    "max_red_mjsp"
   ]
  },
  {
   "cell_type": "markdown",
   "metadata": {},
   "source": [
    "## Epsilon constraint formulation using optimization sense\n",
    "\n",
    "All epsilon constraints are formulated as value - limit >= 0, hence LHS >= RHS. There is already a sense parameter in the method used to construct the \"value\" or LHS of the constraint, that applies a negative to the value when the sense is \"maximum\" and does not apply a negative when the sense is \"minimum\". (Actual parameter values are 'min' and 'max' respectively.) \n",
    "\n",
    "To construct a lower-bound epsilon constraint, no negative is applied to the \"value\" and the constraint is formulated as value - limit >= 0 --> value >= limit. This happens when the `eps_sense` parameter on the optimization method (`opt_slsqp` or `opt_milp`) is set to 'min'.\n",
    "\n",
    "To construct an upper-bound epsilon constraint, the constraint is formulated as -1 * value - limit >= 0 --> value <= limit. This happens when `eps_sense` is set to 'max'.\n",
    "\n",
    "`eps_sense` defaults to 'min', thus by default epsilon constraints are constructed as lower bounds on the metrics.\n",
    "\n",
    "Demonstrate this functionality by minimizing MJSP (sense = 'min') while constraining the reduction in jet GHG emissions to be greater than zero (eps_sense = 'min')."
   ]
  },
  {
   "cell_type": "code",
   "execution_count": null,
   "metadata": {},
   "outputs": [],
   "source": [
    "i = techs[0]\n",
    "\n",
    "tranche_tech_results = tranche_results.summary[\n",
    "    tranche_results.summary.index.get_level_values('Technology') == i\n",
    "]\n",
    "evaluator = ty.Evaluator(\n",
    "    saf_investments.tranches, tranche_tech_results\n",
    ")\n",
    "optimizer = ty.EpsilonConstraintOptimizer(\n",
    "    evaluator\n",
    ")\n",
    "w = optimizer.opt_slsqp(\n",
    "    \"MJSP\",\n",
    "    sense = 'min',\n",
    "    total_amount = 5000000,\n",
    "    eps_metric = pd.Series([0.0], name=\"Value\", index = [\"Reduction in Jet GHG\"])\n",
    ")"
   ]
  },
  {
   "cell_type": "code",
   "execution_count": null,
   "metadata": {},
   "outputs": [],
   "source": [
    "eps_results = []\n",
    "\n",
    "for i in techs:\n",
    "    tranche_tech_results = tranche_results.summary[\n",
    "        tranche_results.summary.index.get_level_values('Technology') == i\n",
    "    ]\n",
    "    evaluator = ty.Evaluator(\n",
    "        saf_investments.tranches, tranche_tech_results\n",
    "    )\n",
    "    optimizer = ty.EpsilonConstraintOptimizer(\n",
    "        evaluator\n",
    "    )\n",
    "    w = optimizer.opt_slsqp(\n",
    "        \"MJSP\",\n",
    "        sense = 'min',\n",
    "        total_amount = 5000000,\n",
    "        eps_metric = pd.Series([0.0], name=\"Value\", index = [\"Reduction in Jet GHG\"]),\n",
    "        eps_sense = pd.Series(['min'], name=\"Value\", index = [\"Reduction in Jet GHG\"])\n",
    "    )\n",
    "    print(f\"{i} - {w[1]}\")\n",
    "    eps_dict = {\n",
    "        'Technology': i,\n",
    "        'Optimizer status': w[1],\n",
    "        'Investment amounts': w[2],\n",
    "        'Optimum metrics': w[3]\n",
    "    }\n",
    "    eps_results.append(\n",
    "        eps_dict\n",
    "    )\n",
    "    del tranche_tech_results, evaluator, optimizer, eps_dict, w\n",
    "\n",
    "eps_results"
   ]
  },
  {
   "cell_type": "markdown",
   "metadata": {},
   "source": [
    "The reduction in jet GHG values in the optimal solutions are within the tolerance value."
   ]
  }
 ],
 "metadata": {
  "kernelspec": {
   "display_name": "Python 3",
   "language": "python",
   "name": "python3"
  },
  "language_info": {
   "codemirror_mode": {
    "name": "ipython",
    "version": 3
   },
   "file_extension": ".py",
   "mimetype": "text/x-python",
   "name": "python",
   "nbconvert_exporter": "python",
   "pygments_lexer": "ipython3",
   "version": "3.7.8"
  }
 },
 "nbformat": 4,
 "nbformat_minor": 4
}
