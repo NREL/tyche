{
 "cells": [
  {
   "cell_type": "markdown",
   "metadata": {},
   "source": [
    "# Issue 46: add functionality to choose minimizing or maximizing for each metric in a dataset\n",
    "\n",
    "[See issue progress on GitHub here.](https://github.com/NREL/tyche/issues/46)"
   ]
  },
  {
   "cell_type": "code",
   "execution_count": 1,
   "metadata": {},
   "outputs": [],
   "source": [
    "import os\n",
    "import sys\n",
    "\n",
    "sys.path.insert(1, os.path.abspath(\"../../src\"))\n",
    "\n",
    "import numpy             as np\n",
    "import matplotlib.pyplot as pl\n",
    "import pandas            as pd\n",
    "import seaborn           as sb\n",
    "import tyche             as ty"
   ]
  },
  {
   "cell_type": "markdown",
   "metadata": {},
   "source": [
    "# Sustainable Aviation Fuel"
   ]
  },
  {
   "cell_type": "code",
   "execution_count": 2,
   "metadata": {},
   "outputs": [
    {
     "name": "stdout",
     "output_type": "stream",
     "text": [
      "Evaluating HEFA Camelina\n",
      "Evaluating HEFA Castor\n",
      "Evaluating HEFA Jatropha\n",
      "Evaluating HEFA Pennycress\n",
      "Evaluating HEFA Yellow Grease\n"
     ]
    }
   ],
   "source": [
    "saf_loc = \"../../tutorial/data/saf\"\n",
    "\n",
    "saf_designs = ty.Designs(saf_loc)\n",
    "saf_investments = ty.Investments(saf_loc)\n",
    "saf_designs.compile()\n",
    "tranche_results = saf_investments.evaluate_tranches(saf_designs,\n",
    "                                                    sample_count=1000)\n",
    "\n",
    "techs = tranche_results.summary.index.get_level_values('Technology').unique()"
   ]
  },
  {
   "cell_type": "markdown",
   "metadata": {},
   "source": [
    "Evaluate the maximum metric values using the `optimum_metrics` method (formerly the `max_metrics` method). After refactoring, the method can take either a `Dict` of optimization senses, one per metric, or a `str` specifying one optimization sense to be used across all metrics. If no sense is provided, then the optimization sense used to instantiate the `EpsilonConstraintOptimizer` class object is used for all metrics.\n",
    "\n",
    "First demonstrate the use of an optimization sense dictionary, with one sense per metric."
   ]
  },
  {
   "cell_type": "code",
   "execution_count": 3,
   "metadata": {},
   "outputs": [
    {
     "data": {
      "text/plain": [
       "{'HEFA Camelina': Jet GHG                  0.086806\n",
       " MJSP                    26.558133\n",
       " Reduction in Jet GHG     0.054194\n",
       " Reduction in MJSP        2.457708\n",
       " Name: Value, dtype: float64,\n",
       " 'HEFA Castor': Jet GHG                 1.590000e-01\n",
       " MJSP                    2.864583e+01\n",
       " Reduction in Jet GHG   -9.912778e-18\n",
       " Reduction in MJSP       2.339883e+00\n",
       " Name: Value, dtype: float64,\n",
       " 'HEFA Jatropha': Jet GHG                 1.650000e-01\n",
       " MJSP                    1.389508e+01\n",
       " Reduction in Jet GHG   -1.859212e-17\n",
       " Reduction in MJSP       1.131671e+00\n",
       " Name: Value, dtype: float64,\n",
       " 'HEFA Pennycress': Jet GHG                 9.810000e-02\n",
       " MJSP                    2.349886e+01\n",
       " Reduction in Jet GHG   -5.859814e-18\n",
       " Reduction in MJSP       1.354039e+00\n",
       " Name: Value, dtype: float64,\n",
       " 'HEFA Yellow Grease': Jet GHG                  0.041724\n",
       " MJSP                    14.452646\n",
       " Reduction in Jet GHG     0.009876\n",
       " Reduction in MJSP        1.409284\n",
       " Name: Value, dtype: float64}"
      ]
     },
     "execution_count": 3,
     "metadata": {},
     "output_type": "execute_result"
    }
   ],
   "source": [
    "sense_dict = {'Reduction in MJSP' : 'max',\n",
    "              'Reduction in Jet GHG': 'max',\n",
    "              'MJSP': 'min',\n",
    "              'Jet GHG': 'min'}\n",
    "\n",
    "opt_metric_values = {}\n",
    "\n",
    "for i in techs:\n",
    "    tranche_tech_results = tranche_results.summary[\n",
    "        tranche_results.summary.index.get_level_values('Technology') == i\n",
    "    ]\n",
    "    evaluator = ty.Evaluator(\n",
    "        saf_investments.tranches, tranche_tech_results\n",
    "    )\n",
    "    optimizer = ty.EpsilonConstraintOptimizer(\n",
    "        evaluator,\n",
    "        sense = 'min'\n",
    "    )\n",
    "    opt_metric_values[i] = optimizer.optimum_metrics(\n",
    "        metric_sense = sense_dict,\n",
    "        total_amount = 5000000\n",
    "    )\n",
    "\n",
    "opt_metric_values"
   ]
  },
  {
   "cell_type": "markdown",
   "metadata": {},
   "source": [
    "Next, provide a sense (max) as a string to `optimum_metrics` that overrides the sense provided to the `EpsilonConstraintOptimizer` object."
   ]
  },
  {
   "cell_type": "code",
   "execution_count": 4,
   "metadata": {},
   "outputs": [
    {
     "data": {
      "text/plain": [
       "{}"
      ]
     },
     "execution_count": 4,
     "metadata": {},
     "output_type": "execute_result"
    }
   ],
   "source": [
    "max_metric_values = {}\n",
    "\n",
    "for i in techs:\n",
    "    tranche_tech_results = tranche_results.summary[\n",
    "        tranche_results.summary.index.get_level_values('Technology') == i\n",
    "    ]\n",
    "    evaluator = ty.Evaluator(\n",
    "        saf_investments.tranches, tranche_tech_results\n",
    "    )\n",
    "    optimizer = ty.EpsilonConstraintOptimizer(\n",
    "        evaluator,\n",
    "        sense = 'min',\n",
    "    )\n",
    "    max_metric_values[i] = optimizer.optimum_metrics(\n",
    "        metric_sense = 'max',\n",
    "        total_amount = 5000000\n",
    "    )\n",
    "\n",
    "max_metric_values"
   ]
  },
  {
   "cell_type": "markdown",
   "metadata": {},
   "source": [
    "Optimize for minimum jet selling price (MJSP) by minimizing MJSP directly."
   ]
  },
  {
   "cell_type": "code",
   "execution_count": 3,
   "metadata": {},
   "outputs": [
    {
     "name": "stdout",
     "output_type": "stream",
     "text": [
      "HEFA Camelina - Optimization terminated successfully\n",
      "HEFA Castor - Optimization terminated successfully\n",
      "HEFA Jatropha - Optimization terminated successfully\n",
      "HEFA Pennycress - Optimization terminated successfully\n",
      "HEFA Yellow Grease - Optimization terminated successfully\n"
     ]
    },
    {
     "data": {
      "text/plain": [
       "[{'Technology': 'HEFA Camelina',\n",
       "  'Optimizer status': 'Optimization terminated successfully',\n",
       "  'Investment amounts': Category\n",
       "  Co-Product Revenue            1.523678e-04\n",
       "  Fatty Acid Composition        2.600000e+06\n",
       "  Overall Process Efficiency    2.400000e+06\n",
       "  Name: Amount, dtype: float64,\n",
       "  'Optimum metrics': Index\n",
       "  Jet GHG                  0.090830\n",
       "  MJSP                    26.542196\n",
       "  Reduction in Jet GHG     0.050170\n",
       "  Reduction in MJSP        2.473645\n",
       "  Name: Value, dtype: float64,\n",
       "  'Optimization sense': 'min'},\n",
       " {'Technology': 'HEFA Castor',\n",
       "  'Optimizer status': 'Optimization terminated successfully',\n",
       "  'Investment amounts': Category\n",
       "  Co-Product Revenue            5.500000e+05\n",
       "  Fatty Acid Composition        1.750000e+06\n",
       "  Overall Process Efficiency    2.700000e+06\n",
       "  Name: Amount, dtype: float64,\n",
       "  'Optimum metrics': Index\n",
       "  Jet GHG                  0.178390\n",
       "  MJSP                    28.634955\n",
       "  Reduction in Jet GHG    -0.019390\n",
       "  Reduction in MJSP        2.350755\n",
       "  Name: Value, dtype: float64,\n",
       "  'Optimization sense': 'min'},\n",
       " {'Technology': 'HEFA Jatropha',\n",
       "  'Optimizer status': 'Optimization terminated successfully',\n",
       "  'Investment amounts': Category\n",
       "  Co-Product Revenue            4500000.0\n",
       "  Fatty Acid Composition              0.0\n",
       "  Overall Process Efficiency     500000.0\n",
       "  Name: Amount, dtype: float64,\n",
       "  'Optimum metrics': Index\n",
       "  Jet GHG                  0.156858\n",
       "  MJSP                    14.113057\n",
       "  Reduction in Jet GHG     0.008142\n",
       "  Reduction in MJSP        0.913697\n",
       "  Name: Value, dtype: float64,\n",
       "  'Optimization sense': 'min'},\n",
       " {'Technology': 'HEFA Pennycress',\n",
       "  'Optimizer status': 'Optimization terminated successfully',\n",
       "  'Investment amounts': Category\n",
       "  Co-Product Revenue            0.000000e+00\n",
       "  Fatty Acid Composition        5.000000e+06\n",
       "  Overall Process Efficiency    7.771561e-10\n",
       "  Name: Amount, dtype: float64,\n",
       "  'Optimum metrics': Index\n",
       "  Jet GHG                  0.099238\n",
       "  MJSP                    23.480112\n",
       "  Reduction in Jet GHG    -0.001138\n",
       "  Reduction in MJSP        1.372785\n",
       "  Name: Value, dtype: float64,\n",
       "  'Optimization sense': 'min'},\n",
       " {'Technology': 'HEFA Yellow Grease',\n",
       "  'Optimizer status': 'Optimization terminated successfully',\n",
       "  'Investment amounts': Category\n",
       "  Co-Product Revenue            5.999960e+05\n",
       "  Fatty Acid Composition        2.600003e+06\n",
       "  Overall Process Efficiency    1.800000e+06\n",
       "  Name: Amount, dtype: float64,\n",
       "  'Optimum metrics': Index\n",
       "  Jet GHG                  0.058243\n",
       "  MJSP                    14.428773\n",
       "  Reduction in Jet GHG    -0.006643\n",
       "  Reduction in MJSP        1.433157\n",
       "  Name: Value, dtype: float64,\n",
       "  'Optimization sense': 'min'}]"
      ]
     },
     "execution_count": 3,
     "metadata": {},
     "output_type": "execute_result"
    }
   ],
   "source": [
    "min_results = []\n",
    "\n",
    "for i in techs:\n",
    "    tranche_tech_results = tranche_results.summary[\n",
    "        tranche_results.summary.index.get_level_values('Technology') == i\n",
    "    ]\n",
    "    evaluator = ty.Evaluator(\n",
    "        saf_investments.tranches, tranche_tech_results\n",
    "    )\n",
    "    optimizer = ty.EpsilonConstraintOptimizer(\n",
    "        evaluator,\n",
    "        sense = 'min',\n",
    "    )\n",
    "    w = optimizer.opt_slsqp(\n",
    "        \"MJSP\",\n",
    "        total_amount = 5000000\n",
    "    )\n",
    "    print(f\"{i} - {w[1]}\")\n",
    "    min_dict = {\n",
    "        'Technology': i,\n",
    "        'Optimizer status': w[1],\n",
    "        'Investment amounts': w[2],\n",
    "        'Optimum metrics': w[3],\n",
    "        'Optimization sense' : w[5]\n",
    "    }\n",
    "    min_results.append(\n",
    "        min_dict\n",
    "    )\n",
    "    del tranche_tech_results, evaluator, optimizer, min_dict, w\n",
    "\n",
    "min_results"
   ]
  },
  {
   "cell_type": "markdown",
   "metadata": {},
   "source": [
    "Now optimize for MJSP by maximizing the reduction in MSJP from the state of technology value."
   ]
  },
  {
   "cell_type": "code",
   "execution_count": 5,
   "metadata": {},
   "outputs": [
    {
     "name": "stdout",
     "output_type": "stream",
     "text": [
      "HEFA Camelina - Optimization terminated successfully\n",
      "HEFA Castor - Optimization terminated successfully\n",
      "HEFA Jatropha - Optimization terminated successfully\n",
      "HEFA Pennycress - Optimization terminated successfully\n",
      "HEFA Yellow Grease - Optimization terminated successfully\n"
     ]
    },
    {
     "data": {
      "text/plain": [
       "[{'Technology': 'HEFA Camelina',\n",
       "  'Optimizer status': 'Optimization terminated successfully',\n",
       "  'Investment amounts': Category\n",
       "  Co-Product Revenue            4.912108e-04\n",
       "  Fatty Acid Composition        2.600000e+06\n",
       "  Overall Process Efficiency    2.400000e+06\n",
       "  Name: Amount, dtype: float64,\n",
       "  'Optimum metrics': Index\n",
       "  Jet GHG                  0.090892\n",
       "  MJSP                    26.583685\n",
       "  Reduction in Jet GHG     0.050108\n",
       "  Reduction in MJSP        2.432156\n",
       "  Name: Value, dtype: float64,\n",
       "  'Maximum metrics': Jet GHG                  0.141000\n",
       "  MJSP                    29.015842\n",
       "  Reduction in Jet GHG     0.078079\n",
       "  Reduction in MJSP        4.764545\n",
       "  Name: Value, dtype: float64,\n",
       "  'Optimization sense': 'max'},\n",
       " {'Technology': 'HEFA Castor',\n",
       "  'Optimizer status': 'Optimization terminated successfully',\n",
       "  'Investment amounts': Category\n",
       "  Co-Product Revenue            1.750016e+06\n",
       "  Fatty Acid Composition        1.749999e+06\n",
       "  Overall Process Efficiency    1.499985e+06\n",
       "  Name: Amount, dtype: float64,\n",
       "  'Optimum metrics': Index\n",
       "  Jet GHG                  0.232342\n",
       "  MJSP                    29.034373\n",
       "  Reduction in Jet GHG    -0.073342\n",
       "  Reduction in MJSP        1.951337\n",
       "  Name: Value, dtype: float64,\n",
       "  'Maximum metrics': Jet GHG                 2.343224e-01\n",
       "  MJSP                    3.098572e+01\n",
       "  Reduction in Jet GHG   -3.653294e-18\n",
       "  Reduction in MJSP       4.545675e+00\n",
       "  Name: Value, dtype: float64,\n",
       "  'Optimization sense': 'max'},\n",
       " {'Technology': 'HEFA Jatropha',\n",
       "  'Optimizer status': 'Optimization terminated successfully',\n",
       "  'Investment amounts': Category\n",
       "  Co-Product Revenue            5.500011e+05\n",
       "  Fatty Acid Composition        1.749999e+06\n",
       "  Overall Process Efficiency    2.700000e+06\n",
       "  Name: Amount, dtype: float64,\n",
       "  'Optimum metrics': Index\n",
       "  Jet GHG                  0.205934\n",
       "  MJSP                    13.888369\n",
       "  Reduction in Jet GHG    -0.040934\n",
       "  Reduction in MJSP        1.138385\n",
       "  Name: Value, dtype: float64,\n",
       "  'Maximum metrics': Jet GHG                  0.319051\n",
       "  MJSP                    15.026753\n",
       "  Reduction in Jet GHG     0.000000\n",
       "  Reduction in MJSP        2.492126\n",
       "  Name: Value, dtype: float64,\n",
       "  'Optimization sense': 'max'},\n",
       " {'Technology': 'HEFA Pennycress',\n",
       "  'Optimizer status': 'Optimization terminated successfully',\n",
       "  'Investment amounts': Category\n",
       "  Co-Product Revenue            5.500003e+05\n",
       "  Fatty Acid Composition        1.750000e+06\n",
       "  Overall Process Efficiency    2.700000e+06\n",
       "  Name: Amount, dtype: float64,\n",
       "  'Optimum metrics': Index\n",
       "  Jet GHG                  0.113577\n",
       "  MJSP                    22.994412\n",
       "  Reduction in Jet GHG    -0.015477\n",
       "  Reduction in MJSP        1.858485\n",
       "  Name: Value, dtype: float64,\n",
       "  'Maximum metrics': Jet GHG                  0.131745\n",
       "  MJSP                    24.852897\n",
       "  Reduction in Jet GHG     0.000000\n",
       "  Reduction in MJSP        3.170917\n",
       "  Name: Value, dtype: float64,\n",
       "  'Optimization sense': 'max'},\n",
       " {'Technology': 'HEFA Yellow Grease',\n",
       "  'Optimizer status': 'Optimization terminated successfully',\n",
       "  'Investment amounts': Category\n",
       "  Co-Product Revenue            5.999999e+05\n",
       "  Fatty Acid Composition        2.600000e+06\n",
       "  Overall Process Efficiency    1.800000e+06\n",
       "  Name: Amount, dtype: float64,\n",
       "  'Optimum metrics': Index\n",
       "  Jet GHG                  0.058109\n",
       "  MJSP                    14.433371\n",
       "  Reduction in Jet GHG    -0.006509\n",
       "  Reduction in MJSP        1.428559\n",
       "  Name: Value, dtype: float64,\n",
       "  'Maximum metrics': Jet GHG                  0.051600\n",
       "  MJSP                    15.861930\n",
       "  Reduction in Jet GHG     0.010113\n",
       "  Reduction in MJSP        2.070489\n",
       "  Name: Value, dtype: float64,\n",
       "  'Optimization sense': 'max'}]"
      ]
     },
     "execution_count": 5,
     "metadata": {},
     "output_type": "execute_result"
    }
   ],
   "source": [
    "max_results = []\n",
    "\n",
    "for i in techs:\n",
    "    tranche_tech_results = tranche_results.summary[\n",
    "        tranche_results.summary.index.get_level_values('Technology') == i\n",
    "    ]\n",
    "    evaluator = ty.Evaluator(\n",
    "        saf_investments.tranches, tranche_tech_results\n",
    "    )\n",
    "    optimizer = ty.EpsilonConstraintOptimizer(\n",
    "        evaluator,\n",
    "        sense = 'max',\n",
    "    )\n",
    "    metric_max = optimizer.max_metrics()\n",
    "    w = optimizer.opt_slsqp(\n",
    "        \"Reduction in MJSP\",\n",
    "        total_amount = 5000000\n",
    "    )\n",
    "    print(f\"{i} - {w[1]}\")\n",
    "    max_dict = {\n",
    "        'Technology': i,\n",
    "        'Optimizer status': w[1],\n",
    "        'Investment amounts': w[2],\n",
    "        'Optimum metrics': w[3],\n",
    "        'Maximum metrics': metric_max,\n",
    "        'Optimization sense' : w[5]\n",
    "    }\n",
    "    max_results.append(\n",
    "        max_dict\n",
    "    )\n",
    "    del tranche_tech_results, evaluator, optimizer, metric_max, max_dict, w\n",
    "\n",
    "max_results"
   ]
  },
  {
   "cell_type": "markdown",
   "metadata": {},
   "source": [
    "The metric values found from `optimizer.max_metrics()` consistently out-perform the metric values found through `opt_slsqp`."
   ]
  }
 ],
 "metadata": {
  "kernelspec": {
   "display_name": "Python 3",
   "language": "python",
   "name": "python3"
  },
  "language_info": {
   "codemirror_mode": {
    "name": "ipython",
    "version": 3
   },
   "file_extension": ".py",
   "mimetype": "text/x-python",
   "name": "python",
   "nbconvert_exporter": "python",
   "pygments_lexer": "ipython3",
   "version": "3.7.8"
  }
 },
 "nbformat": 4,
 "nbformat_minor": 4
}
