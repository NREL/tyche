{
 "cells": [
  {
   "cell_type": "markdown",
   "metadata": {},
   "source": [
    "# Residential Rooftop PV Example"
   ]
  },
  {
   "cell_type": "markdown",
   "metadata": {},
   "source": [
    "## Set up."
   ]
  },
  {
   "cell_type": "markdown",
   "metadata": {},
   "source": [
    "### Import packages."
   ]
  },
  {
   "cell_type": "code",
   "execution_count": 1,
   "metadata": {},
   "outputs": [],
   "source": [
    "import os\n",
    "import sys\n",
    "sys.path.insert(0, os.path.abspath(\"../../../src\"))"
   ]
  },
  {
   "cell_type": "code",
   "execution_count": 2,
   "metadata": {},
   "outputs": [],
   "source": [
    "import numpy             as np\n",
    "import matplotlib.pyplot as pl\n",
    "import pandas            as pd\n",
    "import re                as re\n",
    "import scipy.stats       as st\n",
    "import seaborn           as sb\n",
    "import tyche             as ty\n",
    "\n",
    "from copy import deepcopy"
   ]
  },
  {
   "cell_type": "markdown",
   "metadata": {},
   "source": [
    "## Scenario analyses."
   ]
  },
  {
   "cell_type": "markdown",
   "metadata": {},
   "source": [
    "### Load data."
   ]
  },
  {
   "cell_type": "markdown",
   "metadata": {},
   "source": [
    "#### The data are stored in a set of tab-separated value files in a folder."
   ]
  },
  {
   "cell_type": "code",
   "execution_count": 16,
   "metadata": {},
   "outputs": [],
   "source": [
    "designs = ty.Designs(\".\")"
   ]
  },
  {
   "cell_type": "markdown",
   "metadata": {},
   "source": [
    "#### Compile the production and metric functions for each technology in the dataset."
   ]
  },
  {
   "cell_type": "code",
   "execution_count": 17,
   "metadata": {},
   "outputs": [],
   "source": [
    "designs.compile()"
   ]
  },
  {
   "cell_type": "markdown",
   "metadata": {},
   "source": [
    "### Examine the data."
   ]
  },
  {
   "cell_type": "markdown",
   "metadata": {},
   "source": [
    "#### The `functions` table specifies where the Python code for each technology resides."
   ]
  },
  {
   "cell_type": "code",
   "execution_count": 18,
   "metadata": {},
   "outputs": [
    {
     "data": {
      "text/html": [
       "<div>\n",
       "<style scoped>\n",
       "    .dataframe tbody tr th:only-of-type {\n",
       "        vertical-align: middle;\n",
       "    }\n",
       "\n",
       "    .dataframe tbody tr th {\n",
       "        vertical-align: top;\n",
       "    }\n",
       "\n",
       "    .dataframe thead th {\n",
       "        text-align: right;\n",
       "    }\n",
       "</style>\n",
       "<table border=\"1\" class=\"dataframe\">\n",
       "  <thead>\n",
       "    <tr style=\"text-align: right;\">\n",
       "      <th></th>\n",
       "      <th>Style</th>\n",
       "      <th>Module</th>\n",
       "      <th>Capital</th>\n",
       "      <th>Fixed</th>\n",
       "      <th>Production</th>\n",
       "      <th>Metrics</th>\n",
       "      <th>Notes</th>\n",
       "    </tr>\n",
       "    <tr>\n",
       "      <th>Technology</th>\n",
       "      <th></th>\n",
       "      <th></th>\n",
       "      <th></th>\n",
       "      <th></th>\n",
       "      <th></th>\n",
       "      <th></th>\n",
       "      <th></th>\n",
       "    </tr>\n",
       "  </thead>\n",
       "  <tbody>\n",
       "    <tr>\n",
       "      <th>PV Generic</th>\n",
       "      <td>numpy</td>\n",
       "      <td>pv_residential_large</td>\n",
       "      <td>capital_cost</td>\n",
       "      <td>fixed_cost</td>\n",
       "      <td>production</td>\n",
       "      <td>metrics</td>\n",
       "      <td>generic residential PV</td>\n",
       "    </tr>\n",
       "  </tbody>\n",
       "</table>\n",
       "</div>"
      ],
      "text/plain": [
       "            Style                Module       Capital       Fixed  Production  \\\n",
       "Technology                                                                      \n",
       "PV Generic  numpy  pv_residential_large  capital_cost  fixed_cost  production   \n",
       "\n",
       "            Metrics                   Notes  \n",
       "Technology                                   \n",
       "PV Generic  metrics  generic residential PV  "
      ]
     },
     "execution_count": 18,
     "metadata": {},
     "output_type": "execute_result"
    }
   ],
   "source": [
    "designs.functions"
   ]
  },
  {
   "cell_type": "markdown",
   "metadata": {},
   "source": [
    "Right now, only the style `numpy` is supported."
   ]
  },
  {
   "cell_type": "markdown",
   "metadata": {},
   "source": [
    "#### The `indices` table defines the subscripts for variables."
   ]
  },
  {
   "cell_type": "code",
   "execution_count": 19,
   "metadata": {},
   "outputs": [
    {
     "data": {
      "text/html": [
       "<div>\n",
       "<style scoped>\n",
       "    .dataframe tbody tr th:only-of-type {\n",
       "        vertical-align: middle;\n",
       "    }\n",
       "\n",
       "    .dataframe tbody tr th {\n",
       "        vertical-align: top;\n",
       "    }\n",
       "\n",
       "    .dataframe thead th {\n",
       "        text-align: right;\n",
       "    }\n",
       "</style>\n",
       "<table border=\"1\" class=\"dataframe\">\n",
       "  <thead>\n",
       "    <tr style=\"text-align: right;\">\n",
       "      <th></th>\n",
       "      <th></th>\n",
       "      <th></th>\n",
       "      <th>Offset</th>\n",
       "      <th>Description</th>\n",
       "      <th>Notes</th>\n",
       "    </tr>\n",
       "    <tr>\n",
       "      <th>Technology</th>\n",
       "      <th>Type</th>\n",
       "      <th>Index</th>\n",
       "      <th></th>\n",
       "      <th></th>\n",
       "      <th></th>\n",
       "    </tr>\n",
       "  </thead>\n",
       "  <tbody>\n",
       "    <tr>\n",
       "      <th rowspan=\"15\" valign=\"top\">PV Generic</th>\n",
       "      <th rowspan=\"3\" valign=\"top\">Capital</th>\n",
       "      <th>Module</th>\n",
       "      <td>0</td>\n",
       "      <td>system module</td>\n",
       "      <td></td>\n",
       "    </tr>\n",
       "    <tr>\n",
       "      <th>Inverter</th>\n",
       "      <td>1</td>\n",
       "      <td>system inverters</td>\n",
       "      <td></td>\n",
       "    </tr>\n",
       "    <tr>\n",
       "      <th>BoS</th>\n",
       "      <td>2</td>\n",
       "      <td>balance of system</td>\n",
       "      <td></td>\n",
       "    </tr>\n",
       "    <tr>\n",
       "      <th>Input</th>\n",
       "      <th>Strategic</th>\n",
       "      <td>0</td>\n",
       "      <td>strategic materials</td>\n",
       "      <td></td>\n",
       "    </tr>\n",
       "    <tr>\n",
       "      <th rowspan=\"8\" valign=\"top\">Metric</th>\n",
       "      <th>Capital</th>\n",
       "      <td>0</td>\n",
       "      <td>capital cost</td>\n",
       "      <td></td>\n",
       "    </tr>\n",
       "    <tr>\n",
       "      <th>LCOE</th>\n",
       "      <td>1</td>\n",
       "      <td>levelized cost of energy</td>\n",
       "      <td></td>\n",
       "    </tr>\n",
       "    <tr>\n",
       "      <th>GHG</th>\n",
       "      <td>2</td>\n",
       "      <td>greenouse gas offset</td>\n",
       "      <td></td>\n",
       "    </tr>\n",
       "    <tr>\n",
       "      <th>Strategic</th>\n",
       "      <td>3</td>\n",
       "      <td>strategic metal used</td>\n",
       "      <td></td>\n",
       "    </tr>\n",
       "    <tr>\n",
       "      <th>Hazardous</th>\n",
       "      <td>4</td>\n",
       "      <td>hazardous waste produced</td>\n",
       "      <td></td>\n",
       "    </tr>\n",
       "    <tr>\n",
       "      <th>Yield</th>\n",
       "      <td>5</td>\n",
       "      <td>specific yield</td>\n",
       "      <td></td>\n",
       "    </tr>\n",
       "    <tr>\n",
       "      <th>Efficiency</th>\n",
       "      <td>6</td>\n",
       "      <td>module efficiency</td>\n",
       "      <td></td>\n",
       "    </tr>\n",
       "    <tr>\n",
       "      <th>Lifetime</th>\n",
       "      <td>7</td>\n",
       "      <td>module lifetime</td>\n",
       "      <td></td>\n",
       "    </tr>\n",
       "    <tr>\n",
       "      <th rowspan=\"3\" valign=\"top\">Output</th>\n",
       "      <th>Electricity</th>\n",
       "      <td>0</td>\n",
       "      <td>electricity generated</td>\n",
       "      <td></td>\n",
       "    </tr>\n",
       "    <tr>\n",
       "      <th>Hazardous</th>\n",
       "      <td>1</td>\n",
       "      <td>hazardous waste produced</td>\n",
       "      <td></td>\n",
       "    </tr>\n",
       "    <tr>\n",
       "      <th>GHG</th>\n",
       "      <td>2</td>\n",
       "      <td>greenhouse gas offset</td>\n",
       "      <td></td>\n",
       "    </tr>\n",
       "  </tbody>\n",
       "</table>\n",
       "</div>"
      ],
      "text/plain": [
       "                                Offset               Description Notes\n",
       "Technology Type    Index                                              \n",
       "PV Generic Capital Module            0             system module      \n",
       "                   Inverter          1          system inverters      \n",
       "                   BoS               2         balance of system      \n",
       "           Input   Strategic         0       strategic materials      \n",
       "           Metric  Capital           0              capital cost      \n",
       "                   LCOE              1  levelized cost of energy      \n",
       "                   GHG               2      greenouse gas offset      \n",
       "                   Strategic         3      strategic metal used      \n",
       "                   Hazardous         4  hazardous waste produced      \n",
       "                   Yield             5            specific yield      \n",
       "                   Efficiency        6         module efficiency      \n",
       "                   Lifetime          7           module lifetime      \n",
       "           Output  Electricity       0     electricity generated      \n",
       "                   Hazardous         1  hazardous waste produced      \n",
       "                   GHG               2     greenhouse gas offset      "
      ]
     },
     "execution_count": 19,
     "metadata": {},
     "output_type": "execute_result"
    }
   ],
   "source": [
    "designs.indices.sort_values([\"Technology\", \"Type\", \"Offset\"])"
   ]
  },
  {
   "cell_type": "markdown",
   "metadata": {},
   "source": [
    "#### The `designs` table contains the cost, input, efficiency, and price data for a scenario."
   ]
  },
  {
   "cell_type": "code",
   "execution_count": 20,
   "metadata": {},
   "outputs": [
    {
     "name": "stdout",
     "output_type": "stream",
     "text": [
      "                                                                                      Value  \\\n",
      "Technology Scenario     Variable          Index                                               \n",
      "PV Generic CIGS 0       Input             Strategic     st.triang(0.5, loc=2520, scale=500)   \n",
      "                        Input efficiency  Strategic    st.triang(0.5, loc=0.70, scale=0.05)   \n",
      "                        Input price       Stategic                                        0   \n",
      "                        Lifetime          BoS                                             1   \n",
      "                                          Inverter                                        1   \n",
      "...                                                                                     ...   \n",
      "           Soft Costs 2 Output efficiency Hazardous                                       1   \n",
      "                        Output price      Electricity                                     0   \n",
      "                                          GHG                                             0   \n",
      "                                          Hazardous                                       0   \n",
      "                        Scale             NaN                                             1   \n",
      "\n",
      "                                                                 Units  \\\n",
      "Technology Scenario     Variable          Index                          \n",
      "PV Generic CIGS 0       Input             Strategic           g/system   \n",
      "                        Input efficiency  Strategic              %/100   \n",
      "                        Input price       Stategic                 $/g   \n",
      "                        Lifetime          BoS          system-lifetime   \n",
      "                                          Inverter     system-lifetime   \n",
      "...                                                                ...   \n",
      "           Soft Costs 2 Output efficiency Hazardous              %/100   \n",
      "                        Output price      Electricity            $/kWh   \n",
      "                                          GHG                  $/gCO2e   \n",
      "                                          Hazardous                $/g   \n",
      "                        Scale             NaN            system/system   \n",
      "\n",
      "                                                                                                 Notes  \n",
      "Technology Scenario     Variable          Index                                                         \n",
      "PV Generic CIGS 0       Input             Strategic                                    zero by default  \n",
      "                        Input efficiency  Strategic                                         no scaling  \n",
      "                        Input price       Stategic                                     zero by default  \n",
      "                        Lifetime          BoS                                per-lifetime computations  \n",
      "                                          Inverter                           per-lifetime computations  \n",
      "...                                                                                                ...  \n",
      "           Soft Costs 2 Output efficiency Hazardous    see parameter table for individual efficiencies  \n",
      "                        Output price      Electricity                   not tracking electricity price  \n",
      "                                          GHG                             not tracking hazardous waste  \n",
      "                                          Hazardous                       not tracking hazardous waste  \n",
      "                        Scale             NaN                                               no scaling  \n",
      "\n",
      "[299 rows x 3 columns]\n"
     ]
    }
   ],
   "source": [
    "print(designs.designs)"
   ]
  },
  {
   "cell_type": "code",
   "execution_count": 21,
   "metadata": {},
   "outputs": [
    {
     "data": {
      "text/html": [
       "<div>\n",
       "<style scoped>\n",
       "    .dataframe tbody tr th:only-of-type {\n",
       "        vertical-align: middle;\n",
       "    }\n",
       "\n",
       "    .dataframe tbody tr th {\n",
       "        vertical-align: top;\n",
       "    }\n",
       "\n",
       "    .dataframe thead th {\n",
       "        text-align: right;\n",
       "    }\n",
       "</style>\n",
       "<table border=\"1\" class=\"dataframe\">\n",
       "  <thead>\n",
       "    <tr style=\"text-align: right;\">\n",
       "      <th></th>\n",
       "      <th></th>\n",
       "      <th></th>\n",
       "      <th></th>\n",
       "      <th>Value</th>\n",
       "      <th>Units</th>\n",
       "      <th>Notes</th>\n",
       "    </tr>\n",
       "    <tr>\n",
       "      <th>Technology</th>\n",
       "      <th>Scenario</th>\n",
       "      <th>Variable</th>\n",
       "      <th>Index</th>\n",
       "      <th></th>\n",
       "      <th></th>\n",
       "      <th></th>\n",
       "    </tr>\n",
       "  </thead>\n",
       "  <tbody>\n",
       "    <tr>\n",
       "      <th rowspan=\"13\" valign=\"top\">PV Generic</th>\n",
       "      <th rowspan=\"13\" valign=\"top\">CIGS 0</th>\n",
       "      <th>Input</th>\n",
       "      <th>Strategic</th>\n",
       "      <td>st.triang(0.5, loc=2520, scale=500)</td>\n",
       "      <td>g/system</td>\n",
       "      <td>zero by default</td>\n",
       "    </tr>\n",
       "    <tr>\n",
       "      <th>Input efficiency</th>\n",
       "      <th>Strategic</th>\n",
       "      <td>st.triang(0.5, loc=0.70, scale=0.05)</td>\n",
       "      <td>%/100</td>\n",
       "      <td>no scaling</td>\n",
       "    </tr>\n",
       "    <tr>\n",
       "      <th>Input price</th>\n",
       "      <th>Stategic</th>\n",
       "      <td>0</td>\n",
       "      <td>$/g</td>\n",
       "      <td>zero by default</td>\n",
       "    </tr>\n",
       "    <tr>\n",
       "      <th rowspan=\"3\" valign=\"top\">Lifetime</th>\n",
       "      <th>BoS</th>\n",
       "      <td>1</td>\n",
       "      <td>system-lifetime</td>\n",
       "      <td>per-lifetime computations</td>\n",
       "    </tr>\n",
       "    <tr>\n",
       "      <th>Inverter</th>\n",
       "      <td>1</td>\n",
       "      <td>system-lifetime</td>\n",
       "      <td>per-lifetime computations</td>\n",
       "    </tr>\n",
       "    <tr>\n",
       "      <th>Module</th>\n",
       "      <td>1</td>\n",
       "      <td>system-lifetime</td>\n",
       "      <td>per-lifetime computations</td>\n",
       "    </tr>\n",
       "    <tr>\n",
       "      <th rowspan=\"3\" valign=\"top\">Output efficiency</th>\n",
       "      <th>Electricity</th>\n",
       "      <td>1</td>\n",
       "      <td>%/100</td>\n",
       "      <td>see parameter table for individual efficiencies</td>\n",
       "    </tr>\n",
       "    <tr>\n",
       "      <th>GHG</th>\n",
       "      <td>1</td>\n",
       "      <td>%/100</td>\n",
       "      <td>see parameter table for individual efficiencies</td>\n",
       "    </tr>\n",
       "    <tr>\n",
       "      <th>Hazardous</th>\n",
       "      <td>1</td>\n",
       "      <td>%/100</td>\n",
       "      <td>see parameter table for individual efficiencies</td>\n",
       "    </tr>\n",
       "    <tr>\n",
       "      <th rowspan=\"3\" valign=\"top\">Output price</th>\n",
       "      <th>Electricity</th>\n",
       "      <td>0</td>\n",
       "      <td>$/kWh</td>\n",
       "      <td>not tracking electricity price</td>\n",
       "    </tr>\n",
       "    <tr>\n",
       "      <th>GHG</th>\n",
       "      <td>0</td>\n",
       "      <td>$/gCO2e</td>\n",
       "      <td>not tracking hazardous waste</td>\n",
       "    </tr>\n",
       "    <tr>\n",
       "      <th>Hazardous</th>\n",
       "      <td>0</td>\n",
       "      <td>$/g</td>\n",
       "      <td>not tracking hazardous waste</td>\n",
       "    </tr>\n",
       "    <tr>\n",
       "      <th>Scale</th>\n",
       "      <th>NaN</th>\n",
       "      <td>1</td>\n",
       "      <td>system/system</td>\n",
       "      <td>no scaling</td>\n",
       "    </tr>\n",
       "  </tbody>\n",
       "</table>\n",
       "</div>"
      ],
      "text/plain": [
       "                                                                                  Value  \\\n",
       "Technology Scenario Variable          Index                                               \n",
       "PV Generic CIGS 0   Input             Strategic     st.triang(0.5, loc=2520, scale=500)   \n",
       "                    Input efficiency  Strategic    st.triang(0.5, loc=0.70, scale=0.05)   \n",
       "                    Input price       Stategic                                        0   \n",
       "                    Lifetime          BoS                                             1   \n",
       "                                      Inverter                                        1   \n",
       "                                      Module                                          1   \n",
       "                    Output efficiency Electricity                                     1   \n",
       "                                      GHG                                             1   \n",
       "                                      Hazardous                                       1   \n",
       "                    Output price      Electricity                                     0   \n",
       "                                      GHG                                             0   \n",
       "                                      Hazardous                                       0   \n",
       "                    Scale             NaN                                             1   \n",
       "\n",
       "                                                             Units  \\\n",
       "Technology Scenario Variable          Index                          \n",
       "PV Generic CIGS 0   Input             Strategic           g/system   \n",
       "                    Input efficiency  Strategic              %/100   \n",
       "                    Input price       Stategic                 $/g   \n",
       "                    Lifetime          BoS          system-lifetime   \n",
       "                                      Inverter     system-lifetime   \n",
       "                                      Module       system-lifetime   \n",
       "                    Output efficiency Electricity            %/100   \n",
       "                                      GHG                    %/100   \n",
       "                                      Hazardous              %/100   \n",
       "                    Output price      Electricity            $/kWh   \n",
       "                                      GHG                  $/gCO2e   \n",
       "                                      Hazardous                $/g   \n",
       "                    Scale             NaN            system/system   \n",
       "\n",
       "                                                                                             Notes  \n",
       "Technology Scenario Variable          Index                                                         \n",
       "PV Generic CIGS 0   Input             Strategic                                    zero by default  \n",
       "                    Input efficiency  Strategic                                         no scaling  \n",
       "                    Input price       Stategic                                     zero by default  \n",
       "                    Lifetime          BoS                                per-lifetime computations  \n",
       "                                      Inverter                           per-lifetime computations  \n",
       "                                      Module                             per-lifetime computations  \n",
       "                    Output efficiency Electricity  see parameter table for individual efficiencies  \n",
       "                                      GHG          see parameter table for individual efficiencies  \n",
       "                                      Hazardous    see parameter table for individual efficiencies  \n",
       "                    Output price      Electricity                   not tracking electricity price  \n",
       "                                      GHG                             not tracking hazardous waste  \n",
       "                                      Hazardous                       not tracking hazardous waste  \n",
       "                    Scale             NaN                                               no scaling  "
      ]
     },
     "execution_count": 21,
     "metadata": {},
     "output_type": "execute_result"
    }
   ],
   "source": [
    "designs.designs.xs(\"CIGS 0\", level=\"Scenario\", drop_level=False)"
   ]
  },
  {
   "cell_type": "markdown",
   "metadata": {},
   "source": [
    "#### The `parameters` table contains additional techno-economic parameters for each technology."
   ]
  },
  {
   "cell_type": "code",
   "execution_count": 22,
   "metadata": {},
   "outputs": [
    {
     "data": {
      "text/html": [
       "<div>\n",
       "<style scoped>\n",
       "    .dataframe tbody tr th:only-of-type {\n",
       "        vertical-align: middle;\n",
       "    }\n",
       "\n",
       "    .dataframe tbody tr th {\n",
       "        vertical-align: top;\n",
       "    }\n",
       "\n",
       "    .dataframe thead th {\n",
       "        text-align: right;\n",
       "    }\n",
       "</style>\n",
       "<table border=\"1\" class=\"dataframe\">\n",
       "  <thead>\n",
       "    <tr style=\"text-align: right;\">\n",
       "      <th></th>\n",
       "      <th></th>\n",
       "      <th></th>\n",
       "      <th>Offset</th>\n",
       "      <th>Value</th>\n",
       "      <th>Units</th>\n",
       "      <th>Notes</th>\n",
       "    </tr>\n",
       "    <tr>\n",
       "      <th>Technology</th>\n",
       "      <th>Scenario</th>\n",
       "      <th>Parameter</th>\n",
       "      <th></th>\n",
       "      <th></th>\n",
       "      <th></th>\n",
       "      <th></th>\n",
       "    </tr>\n",
       "  </thead>\n",
       "  <tbody>\n",
       "    <tr>\n",
       "      <th rowspan=\"24\" valign=\"top\">PV Generic</th>\n",
       "      <th rowspan=\"24\" valign=\"top\">CIGS 0</th>\n",
       "      <th>Discount Rate</th>\n",
       "      <td>0</td>\n",
       "      <td>0.07</td>\n",
       "      <td>1/year</td>\n",
       "      <td>DR</td>\n",
       "    </tr>\n",
       "    <tr>\n",
       "      <th>Insolation</th>\n",
       "      <td>1</td>\n",
       "      <td>1000</td>\n",
       "      <td>W/m^2</td>\n",
       "      <td>INS</td>\n",
       "    </tr>\n",
       "    <tr>\n",
       "      <th>System Size</th>\n",
       "      <td>2</td>\n",
       "      <td>36</td>\n",
       "      <td>m^2</td>\n",
       "      <td>SSZ</td>\n",
       "    </tr>\n",
       "    <tr>\n",
       "      <th>Module Capital</th>\n",
       "      <td>3</td>\n",
       "      <td>st.triang(0.5, loc=250, scale=75)</td>\n",
       "      <td>$/m^2</td>\n",
       "      <td>MCC</td>\n",
       "    </tr>\n",
       "    <tr>\n",
       "      <th>Module Lifetime</th>\n",
       "      <td>4</td>\n",
       "      <td>st.triang(0.5, loc=25, scale=0.0025)</td>\n",
       "      <td>yr</td>\n",
       "      <td>MLT</td>\n",
       "    </tr>\n",
       "    <tr>\n",
       "      <th>Module Efficiency</th>\n",
       "      <td>5</td>\n",
       "      <td>st.triang(0.5, loc=0.210, scale=0.05)</td>\n",
       "      <td>%/100</td>\n",
       "      <td>MEF</td>\n",
       "    </tr>\n",
       "    <tr>\n",
       "      <th>Module Aperture</th>\n",
       "      <td>6</td>\n",
       "      <td>st.triang(0.5, loc=0.9, scale=9e-5)</td>\n",
       "      <td>%/100</td>\n",
       "      <td>MAP</td>\n",
       "    </tr>\n",
       "    <tr>\n",
       "      <th>Module O&amp;M Fixed</th>\n",
       "      <td>7</td>\n",
       "      <td>st.triang(0.5, loc=20, scale=0.002)</td>\n",
       "      <td>$/kW/yr</td>\n",
       "      <td>MOM</td>\n",
       "    </tr>\n",
       "    <tr>\n",
       "      <th>Module Degradation</th>\n",
       "      <td>8</td>\n",
       "      <td>st.triang(0.5, loc=0.0075, scale=0.05)</td>\n",
       "      <td>1/yr</td>\n",
       "      <td>MDR</td>\n",
       "    </tr>\n",
       "    <tr>\n",
       "      <th>Location Capacity Factor</th>\n",
       "      <td>9</td>\n",
       "      <td>st.triang(0.5, loc=0.2, scale=2e-5)</td>\n",
       "      <td>%/100</td>\n",
       "      <td>MCF</td>\n",
       "    </tr>\n",
       "    <tr>\n",
       "      <th>Module Soiling Loss</th>\n",
       "      <td>10</td>\n",
       "      <td>st.triang(0.5, loc=0.05, scale=5e-6)</td>\n",
       "      <td>%/100</td>\n",
       "      <td>MSL</td>\n",
       "    </tr>\n",
       "    <tr>\n",
       "      <th>Inverter Capital</th>\n",
       "      <td>11</td>\n",
       "      <td>st.triang(0.5, loc=0.3, scale=3e-5)</td>\n",
       "      <td>$/W</td>\n",
       "      <td>ICC</td>\n",
       "    </tr>\n",
       "    <tr>\n",
       "      <th>Inverter Lifetime</th>\n",
       "      <td>12</td>\n",
       "      <td>st.triang(0.5, loc=16, scale=0.0016)</td>\n",
       "      <td>yr</td>\n",
       "      <td>ILT</td>\n",
       "    </tr>\n",
       "    <tr>\n",
       "      <th>Inverter Replacement</th>\n",
       "      <td>13</td>\n",
       "      <td>st.triang(0.5, loc=0.5, scale=5e-5)</td>\n",
       "      <td>%/100</td>\n",
       "      <td>IRC</td>\n",
       "    </tr>\n",
       "    <tr>\n",
       "      <th>Inverter Efficiency</th>\n",
       "      <td>14</td>\n",
       "      <td>st.triang(0.5, loc=0.9, scale=9e-5)</td>\n",
       "      <td>%/100</td>\n",
       "      <td>IEF</td>\n",
       "    </tr>\n",
       "    <tr>\n",
       "      <th>Hardware Capital</th>\n",
       "      <td>15</td>\n",
       "      <td>st.triang(0.5, loc=80, scale=0.008)</td>\n",
       "      <td>$/m^2</td>\n",
       "      <td>BCC</td>\n",
       "    </tr>\n",
       "    <tr>\n",
       "      <th>Direct Labor</th>\n",
       "      <td>16</td>\n",
       "      <td>st.triang(0.5, loc=2000, scale=0.2)</td>\n",
       "      <td>$/system</td>\n",
       "      <td>BLR</td>\n",
       "    </tr>\n",
       "    <tr>\n",
       "      <th>Permitting</th>\n",
       "      <td>17</td>\n",
       "      <td>st.triang(0.5, loc=600, scale=0.06)</td>\n",
       "      <td>$/system</td>\n",
       "      <td>BPR</td>\n",
       "    </tr>\n",
       "    <tr>\n",
       "      <th>Customer Acquisition</th>\n",
       "      <td>18</td>\n",
       "      <td>st.triang(0.5, loc=2000, scale=0.2)</td>\n",
       "      <td>$/system</td>\n",
       "      <td>BCA</td>\n",
       "    </tr>\n",
       "    <tr>\n",
       "      <th>Installer Overhead &amp; Profit</th>\n",
       "      <td>19</td>\n",
       "      <td>st.triang(0.5, loc=0.35, scale=3.5e-5)</td>\n",
       "      <td>1</td>\n",
       "      <td>BOH</td>\n",
       "    </tr>\n",
       "    <tr>\n",
       "      <th>Hazardous Waste Content</th>\n",
       "      <td>20</td>\n",
       "      <td>st.triang(0.5, loc=305, scale=10)</td>\n",
       "      <td>g/m^2</td>\n",
       "      <td></td>\n",
       "    </tr>\n",
       "    <tr>\n",
       "      <th>Greenhouse Gas Offset</th>\n",
       "      <td>21</td>\n",
       "      <td>4.49E-04</td>\n",
       "      <td>gCO2e/kWh</td>\n",
       "      <td></td>\n",
       "    </tr>\n",
       "    <tr>\n",
       "      <th>Benchmark LCOC</th>\n",
       "      <td>22</td>\n",
       "      <td>2.51977</td>\n",
       "      <td>$/Wdc</td>\n",
       "      <td></td>\n",
       "    </tr>\n",
       "    <tr>\n",
       "      <th>Benchmark LCOE</th>\n",
       "      <td>23</td>\n",
       "      <td>0.086773</td>\n",
       "      <td>$/kWh</td>\n",
       "      <td></td>\n",
       "    </tr>\n",
       "  </tbody>\n",
       "</table>\n",
       "</div>"
      ],
      "text/plain": [
       "                                                 Offset  \\\n",
       "Technology Scenario Parameter                             \n",
       "PV Generic CIGS 0   Discount Rate                     0   \n",
       "                    Insolation                        1   \n",
       "                    System Size                       2   \n",
       "                    Module Capital                    3   \n",
       "                    Module Lifetime                   4   \n",
       "                    Module Efficiency                 5   \n",
       "                    Module Aperture                   6   \n",
       "                    Module O&M Fixed                  7   \n",
       "                    Module Degradation                8   \n",
       "                    Location Capacity Factor          9   \n",
       "                    Module Soiling Loss              10   \n",
       "                    Inverter Capital                 11   \n",
       "                    Inverter Lifetime                12   \n",
       "                    Inverter Replacement             13   \n",
       "                    Inverter Efficiency              14   \n",
       "                    Hardware Capital                 15   \n",
       "                    Direct Labor                     16   \n",
       "                    Permitting                       17   \n",
       "                    Customer Acquisition             18   \n",
       "                    Installer Overhead & Profit      19   \n",
       "                    Hazardous Waste Content          20   \n",
       "                    Greenhouse Gas Offset            21   \n",
       "                    Benchmark LCOC                   22   \n",
       "                    Benchmark LCOE                   23   \n",
       "\n",
       "                                                                                  Value  \\\n",
       "Technology Scenario Parameter                                                             \n",
       "PV Generic CIGS 0   Discount Rate                                                  0.07   \n",
       "                    Insolation                                                     1000   \n",
       "                    System Size                                                      36   \n",
       "                    Module Capital                    st.triang(0.5, loc=250, scale=75)   \n",
       "                    Module Lifetime                st.triang(0.5, loc=25, scale=0.0025)   \n",
       "                    Module Efficiency             st.triang(0.5, loc=0.210, scale=0.05)   \n",
       "                    Module Aperture                 st.triang(0.5, loc=0.9, scale=9e-5)   \n",
       "                    Module O&M Fixed                st.triang(0.5, loc=20, scale=0.002)   \n",
       "                    Module Degradation           st.triang(0.5, loc=0.0075, scale=0.05)   \n",
       "                    Location Capacity Factor        st.triang(0.5, loc=0.2, scale=2e-5)   \n",
       "                    Module Soiling Loss            st.triang(0.5, loc=0.05, scale=5e-6)   \n",
       "                    Inverter Capital                st.triang(0.5, loc=0.3, scale=3e-5)   \n",
       "                    Inverter Lifetime              st.triang(0.5, loc=16, scale=0.0016)   \n",
       "                    Inverter Replacement            st.triang(0.5, loc=0.5, scale=5e-5)   \n",
       "                    Inverter Efficiency             st.triang(0.5, loc=0.9, scale=9e-5)   \n",
       "                    Hardware Capital                st.triang(0.5, loc=80, scale=0.008)   \n",
       "                    Direct Labor                    st.triang(0.5, loc=2000, scale=0.2)   \n",
       "                    Permitting                      st.triang(0.5, loc=600, scale=0.06)   \n",
       "                    Customer Acquisition            st.triang(0.5, loc=2000, scale=0.2)   \n",
       "                    Installer Overhead & Profit  st.triang(0.5, loc=0.35, scale=3.5e-5)   \n",
       "                    Hazardous Waste Content           st.triang(0.5, loc=305, scale=10)   \n",
       "                    Greenhouse Gas Offset                                      4.49E-04   \n",
       "                    Benchmark LCOC                                              2.51977   \n",
       "                    Benchmark LCOE                                             0.086773   \n",
       "\n",
       "                                                     Units Notes  \n",
       "Technology Scenario Parameter                                     \n",
       "PV Generic CIGS 0   Discount Rate                   1/year    DR  \n",
       "                    Insolation                       W/m^2   INS  \n",
       "                    System Size                        m^2   SSZ  \n",
       "                    Module Capital                   $/m^2   MCC  \n",
       "                    Module Lifetime                     yr   MLT  \n",
       "                    Module Efficiency                %/100   MEF  \n",
       "                    Module Aperture                  %/100   MAP  \n",
       "                    Module O&M Fixed               $/kW/yr   MOM  \n",
       "                    Module Degradation                1/yr   MDR  \n",
       "                    Location Capacity Factor         %/100   MCF  \n",
       "                    Module Soiling Loss              %/100   MSL  \n",
       "                    Inverter Capital                   $/W   ICC  \n",
       "                    Inverter Lifetime                   yr   ILT  \n",
       "                    Inverter Replacement             %/100   IRC  \n",
       "                    Inverter Efficiency              %/100   IEF  \n",
       "                    Hardware Capital                 $/m^2   BCC  \n",
       "                    Direct Labor                  $/system   BLR  \n",
       "                    Permitting                    $/system   BPR  \n",
       "                    Customer Acquisition          $/system   BCA  \n",
       "                    Installer Overhead & Profit          1   BOH  \n",
       "                    Hazardous Waste Content          g/m^2        \n",
       "                    Greenhouse Gas Offset        gCO2e/kWh        \n",
       "                    Benchmark LCOC                   $/Wdc        \n",
       "                    Benchmark LCOE                   $/kWh        "
      ]
     },
     "execution_count": 22,
     "metadata": {},
     "output_type": "execute_result"
    }
   ],
   "source": [
    "designs.parameters.xs(\"CIGS 0\", level=\"Scenario\", drop_level=False).sort_values([\"Technology\", \"Scenario\", \"Offset\"])"
   ]
  },
  {
   "cell_type": "markdown",
   "metadata": {},
   "source": [
    "#### The `results` table specifies the units of measure for results of computations."
   ]
  },
  {
   "cell_type": "code",
   "execution_count": 23,
   "metadata": {},
   "outputs": [
    {
     "data": {
      "text/html": [
       "<div>\n",
       "<style scoped>\n",
       "    .dataframe tbody tr th:only-of-type {\n",
       "        vertical-align: middle;\n",
       "    }\n",
       "\n",
       "    .dataframe tbody tr th {\n",
       "        vertical-align: top;\n",
       "    }\n",
       "\n",
       "    .dataframe thead th {\n",
       "        text-align: right;\n",
       "    }\n",
       "</style>\n",
       "<table border=\"1\" class=\"dataframe\">\n",
       "  <thead>\n",
       "    <tr style=\"text-align: right;\">\n",
       "      <th></th>\n",
       "      <th></th>\n",
       "      <th></th>\n",
       "      <th>Units</th>\n",
       "      <th>Notes</th>\n",
       "    </tr>\n",
       "    <tr>\n",
       "      <th>Technology</th>\n",
       "      <th>Variable</th>\n",
       "      <th>Index</th>\n",
       "      <th></th>\n",
       "      <th></th>\n",
       "    </tr>\n",
       "  </thead>\n",
       "  <tbody>\n",
       "    <tr>\n",
       "      <th rowspan=\"12\" valign=\"top\">PV Generic</th>\n",
       "      <th>Cost</th>\n",
       "      <th>Cost</th>\n",
       "      <td>$/system</td>\n",
       "      <td></td>\n",
       "    </tr>\n",
       "    <tr>\n",
       "      <th rowspan=\"8\" valign=\"top\">Metric</th>\n",
       "      <th>Capital</th>\n",
       "      <td>Œî$/Wdc</td>\n",
       "      <td></td>\n",
       "    </tr>\n",
       "    <tr>\n",
       "      <th>Efficiency</th>\n",
       "      <td>%/100</td>\n",
       "      <td></td>\n",
       "    </tr>\n",
       "    <tr>\n",
       "      <th>GHG</th>\n",
       "      <td>ŒîgCO2e/system</td>\n",
       "      <td></td>\n",
       "    </tr>\n",
       "    <tr>\n",
       "      <th>Hazardous</th>\n",
       "      <td>g/kWh</td>\n",
       "      <td></td>\n",
       "    </tr>\n",
       "    <tr>\n",
       "      <th>LCOE</th>\n",
       "      <td>Œî$/kWh</td>\n",
       "      <td></td>\n",
       "    </tr>\n",
       "    <tr>\n",
       "      <th>Lifetime</th>\n",
       "      <td>yr</td>\n",
       "      <td></td>\n",
       "    </tr>\n",
       "    <tr>\n",
       "      <th>Strategic</th>\n",
       "      <td>g/kWh</td>\n",
       "      <td></td>\n",
       "    </tr>\n",
       "    <tr>\n",
       "      <th>Yield</th>\n",
       "      <td>hr/yr</td>\n",
       "      <td></td>\n",
       "    </tr>\n",
       "    <tr>\n",
       "      <th rowspan=\"3\" valign=\"top\">Output</th>\n",
       "      <th>Electricity</th>\n",
       "      <td>kWh/system</td>\n",
       "      <td></td>\n",
       "    </tr>\n",
       "    <tr>\n",
       "      <th>GHG</th>\n",
       "      <td>ŒîgCO2e/system</td>\n",
       "      <td></td>\n",
       "    </tr>\n",
       "    <tr>\n",
       "      <th>Hazardous</th>\n",
       "      <td>g/system</td>\n",
       "      <td></td>\n",
       "    </tr>\n",
       "  </tbody>\n",
       "</table>\n",
       "</div>"
      ],
      "text/plain": [
       "                                          Units Notes\n",
       "Technology Variable Index                            \n",
       "PV Generic Cost     Cost               $/system      \n",
       "           Metric   Capital             Œî$/Wdc      \n",
       "                    Efficiency            %/100      \n",
       "                    GHG          ŒîgCO2e/system      \n",
       "                    Hazardous             g/kWh      \n",
       "                    LCOE                Œî$/kWh      \n",
       "                    Lifetime                 yr      \n",
       "                    Strategic             g/kWh      \n",
       "                    Yield                 hr/yr      \n",
       "           Output   Electricity      kWh/system      \n",
       "                    GHG          ŒîgCO2e/system      \n",
       "                    Hazardous          g/system      "
      ]
     },
     "execution_count": 23,
     "metadata": {},
     "output_type": "execute_result"
    }
   ],
   "source": [
    "designs.results"
   ]
  },
  {
   "cell_type": "markdown",
   "metadata": {},
   "source": [
    "### Evaluate the scenarios in the dataset."
   ]
  },
  {
   "cell_type": "code",
   "execution_count": 24,
   "metadata": {
    "scrolled": false
   },
   "outputs": [
    {
     "name": "stdout",
     "output_type": "stream",
     "text": [
      "Evaluating PV Generic\n"
     ]
    }
   ],
   "source": [
    "scenario_results = designs.evaluate_scenarios(sample_count=500)"
   ]
  },
  {
   "cell_type": "code",
   "execution_count": 25,
   "metadata": {},
   "outputs": [
    {
     "data": {
      "text/html": [
       "<div>\n",
       "<style scoped>\n",
       "    .dataframe tbody tr th:only-of-type {\n",
       "        vertical-align: middle;\n",
       "    }\n",
       "\n",
       "    .dataframe tbody tr th {\n",
       "        vertical-align: top;\n",
       "    }\n",
       "\n",
       "    .dataframe thead th {\n",
       "        text-align: right;\n",
       "    }\n",
       "</style>\n",
       "<table border=\"1\" class=\"dataframe\">\n",
       "  <thead>\n",
       "    <tr style=\"text-align: right;\">\n",
       "      <th></th>\n",
       "      <th></th>\n",
       "      <th></th>\n",
       "      <th></th>\n",
       "      <th></th>\n",
       "      <th>Value</th>\n",
       "      <th>Units</th>\n",
       "    </tr>\n",
       "    <tr>\n",
       "      <th>Technology</th>\n",
       "      <th>Scenario</th>\n",
       "      <th>Sample</th>\n",
       "      <th>Variable</th>\n",
       "      <th>Index</th>\n",
       "      <th></th>\n",
       "      <th></th>\n",
       "    </tr>\n",
       "  </thead>\n",
       "  <tbody>\n",
       "    <tr>\n",
       "      <th rowspan=\"11\" valign=\"top\">PV Generic</th>\n",
       "      <th rowspan=\"5\" valign=\"top\">CIGS 0</th>\n",
       "      <th rowspan=\"5\" valign=\"top\">1</th>\n",
       "      <th>Cost</th>\n",
       "      <th>Cost</th>\n",
       "      <td>30678.281540</td>\n",
       "      <td>$/system</td>\n",
       "    </tr>\n",
       "    <tr>\n",
       "      <th rowspan=\"4\" valign=\"top\">Metric</th>\n",
       "      <th>Capital</th>\n",
       "      <td>-1.215755</td>\n",
       "      <td>Œî$/Wdc</td>\n",
       "    </tr>\n",
       "    <tr>\n",
       "      <th>Efficiency</th>\n",
       "      <td>0.213652</td>\n",
       "      <td>%/100</td>\n",
       "    </tr>\n",
       "    <tr>\n",
       "      <th>GHG</th>\n",
       "      <td>-0.000449</td>\n",
       "      <td>ŒîgCO2e/system</td>\n",
       "    </tr>\n",
       "    <tr>\n",
       "      <th>Hazardous</th>\n",
       "      <td>0.073665</td>\n",
       "      <td>g/kWh</td>\n",
       "    </tr>\n",
       "    <tr>\n",
       "      <th>...</th>\n",
       "      <th>...</th>\n",
       "      <th>...</th>\n",
       "      <th>...</th>\n",
       "      <td>...</td>\n",
       "      <td>...</td>\n",
       "    </tr>\n",
       "    <tr>\n",
       "      <th rowspan=\"5\" valign=\"top\">Soft Costs 2</th>\n",
       "      <th rowspan=\"5\" valign=\"top\">500</th>\n",
       "      <th rowspan=\"2\" valign=\"top\">Metric</th>\n",
       "      <th>Strategic</th>\n",
       "      <td>0.000000</td>\n",
       "      <td>g/kWh</td>\n",
       "    </tr>\n",
       "    <tr>\n",
       "      <th>Yield</th>\n",
       "      <td>1278.358631</td>\n",
       "      <td>hr/yr</td>\n",
       "    </tr>\n",
       "    <tr>\n",
       "      <th rowspan=\"3\" valign=\"top\">Output</th>\n",
       "      <th>Electricity</th>\n",
       "      <td>264295.870861</td>\n",
       "      <td>kWh/system</td>\n",
       "    </tr>\n",
       "    <tr>\n",
       "      <th>GHG</th>\n",
       "      <td>118.668846</td>\n",
       "      <td>ŒîgCO2e/system</td>\n",
       "    </tr>\n",
       "    <tr>\n",
       "      <th>Hazardous</th>\n",
       "      <td>66030.762310</td>\n",
       "      <td>g/system</td>\n",
       "    </tr>\n",
       "  </tbody>\n",
       "</table>\n",
       "<p>138000 rows × 2 columns</p>\n",
       "</div>"
      ],
      "text/plain": [
       "                                                             Value  \\\n",
       "Technology Scenario     Sample Variable Index                        \n",
       "PV Generic CIGS 0       1      Cost     Cost          30678.281540   \n",
       "                               Metric   Capital          -1.215755   \n",
       "                                        Efficiency        0.213652   \n",
       "                                        GHG              -0.000449   \n",
       "                                        Hazardous         0.073665   \n",
       "...                                                            ...   \n",
       "           Soft Costs 2 500    Metric   Strategic         0.000000   \n",
       "                                        Yield          1278.358631   \n",
       "                               Output   Electricity  264295.870861   \n",
       "                                        GHG             118.668846   \n",
       "                                        Hazardous     66030.762310   \n",
       "\n",
       "                                                              Units  \n",
       "Technology Scenario     Sample Variable Index                        \n",
       "PV Generic CIGS 0       1      Cost     Cost               $/system  \n",
       "                               Metric   Capital             Œî$/Wdc  \n",
       "                                        Efficiency            %/100  \n",
       "                                        GHG          ŒîgCO2e/system  \n",
       "                                        Hazardous             g/kWh  \n",
       "...                                                             ...  \n",
       "           Soft Costs 2 500    Metric   Strategic             g/kWh  \n",
       "                                        Yield                 hr/yr  \n",
       "                               Output   Electricity      kWh/system  \n",
       "                                        GHG          ŒîgCO2e/system  \n",
       "                                        Hazardous          g/system  \n",
       "\n",
       "[138000 rows x 2 columns]"
      ]
     },
     "execution_count": 25,
     "metadata": {},
     "output_type": "execute_result"
    }
   ],
   "source": [
    "scenario_results"
   ]
  },
  {
   "cell_type": "markdown",
   "metadata": {},
   "source": [
    "#### Plot the results."
   ]
  },
  {
   "cell_type": "code",
   "execution_count": 26,
   "metadata": {},
   "outputs": [
    {
     "data": {
      "text/plain": [
       "<AxesSubplot:ylabel='Frequency'>"
      ]
     },
     "execution_count": 26,
     "metadata": {},
     "output_type": "execute_result"
    },
    {
     "data": {
      "image/png": "[encoded data removed]",
      "text/plain": [
       "<Figure size 432x288 with 1 Axes>"
      ]
     },
     "metadata": {
      "needs_background": "light"
     },
     "output_type": "display_data"
    }
   ],
   "source": [
    "expert_results = scenario_results[[\"Value\"]].xs(\n",
    "    \"LCOE\", level=\"Index\"\n",
    ").rename(\n",
    "    columns={\"Value\" : \"LCOE [Δ$/kWh]\"}\n",
    ").unstack(\n",
    "    [\"Scenario\"]\n",
    ").xs(\"LCOE [Δ$/kWh]\", axis=1, drop_level=True).reset_index(drop=True)\n",
    "expert_results.plot.hist(bins=30)"
   ]
  },
  {
   "cell_type": "markdown",
   "metadata": {},
   "source": [
    "### Make tornado plots for Expert A."
   ]
  },
  {
   "cell_type": "markdown",
   "metadata": {},
   "source": [
    "#### Remember base case LCOE."
   ]
  },
  {
   "cell_type": "code",
   "execution_count": 27,
   "metadata": {},
   "outputs": [],
   "source": [
    "base_lcoe = 0.10613269974604357"
   ]
  },
  {
   "cell_type": "markdown",
   "metadata": {},
   "source": [
    "#### Define the factors."
   ]
  },
  {
   "cell_type": "code",
   "execution_count": 28,
   "metadata": {},
   "outputs": [],
   "source": [
    "tornado_factors = [\n",
    "    \"MCC\", \"MLT\", \"MEF\", \"MAP\", \"MOM\",\n",
    "    \"MDR\", \"ICC\", \"ILT\", \"IRC\", \"IEF\",\n",
    "    \"BCC\", \"BLR\", \"BPR\", \"BCA\", \"BOH\",\n",
    "]"
   ]
  },
  {
   "cell_type": "markdown",
   "metadata": {},
   "source": [
    "#### Add the scenarios to the design."
   ]
  },
  {
   "cell_type": "code",
   "execution_count": 29,
   "metadata": {},
   "outputs": [
    {
     "data": {
      "text/html": [
       "<div>\n",
       "<style scoped>\n",
       "    .dataframe tbody tr th:only-of-type {\n",
       "        vertical-align: middle;\n",
       "    }\n",
       "\n",
       "    .dataframe tbody tr th {\n",
       "        vertical-align: top;\n",
       "    }\n",
       "\n",
       "    .dataframe thead th {\n",
       "        text-align: right;\n",
       "    }\n",
       "</style>\n",
       "<table border=\"1\" class=\"dataframe\">\n",
       "  <thead>\n",
       "    <tr style=\"text-align: right;\">\n",
       "      <th></th>\n",
       "      <th></th>\n",
       "      <th></th>\n",
       "      <th>Offset</th>\n",
       "      <th>Value</th>\n",
       "      <th>Units</th>\n",
       "      <th>Notes</th>\n",
       "    </tr>\n",
       "    <tr>\n",
       "      <th>Technology</th>\n",
       "      <th>Scenario</th>\n",
       "      <th>Parameter</th>\n",
       "      <th></th>\n",
       "      <th></th>\n",
       "      <th></th>\n",
       "      <th></th>\n",
       "    </tr>\n",
       "  </thead>\n",
       "  <tbody>\n",
       "    <tr>\n",
       "      <th rowspan=\"11\" valign=\"top\">PV Generic</th>\n",
       "      <th rowspan=\"5\" valign=\"top\">CIGS 0</th>\n",
       "      <th>Benchmark LCOC</th>\n",
       "      <td>22</td>\n",
       "      <td>2.51977</td>\n",
       "      <td>$/Wdc</td>\n",
       "      <td></td>\n",
       "    </tr>\n",
       "    <tr>\n",
       "      <th>Benchmark LCOE</th>\n",
       "      <td>23</td>\n",
       "      <td>0.086773</td>\n",
       "      <td>$/kWh</td>\n",
       "      <td></td>\n",
       "    </tr>\n",
       "    <tr>\n",
       "      <th>Customer Acquisition</th>\n",
       "      <td>18</td>\n",
       "      <td>st.triang(0.5, loc=2000, scale=0.2)</td>\n",
       "      <td>$/system</td>\n",
       "      <td>BCA</td>\n",
       "    </tr>\n",
       "    <tr>\n",
       "      <th>Direct Labor</th>\n",
       "      <td>16</td>\n",
       "      <td>st.triang(0.5, loc=2000, scale=0.2)</td>\n",
       "      <td>$/system</td>\n",
       "      <td>BLR</td>\n",
       "    </tr>\n",
       "    <tr>\n",
       "      <th>Discount Rate</th>\n",
       "      <td>0</td>\n",
       "      <td>0.07</td>\n",
       "      <td>1/year</td>\n",
       "      <td>DR</td>\n",
       "    </tr>\n",
       "    <tr>\n",
       "      <th>...</th>\n",
       "      <th>...</th>\n",
       "      <td>...</td>\n",
       "      <td>...</td>\n",
       "      <td>...</td>\n",
       "      <td>...</td>\n",
       "    </tr>\n",
       "    <tr>\n",
       "      <th rowspan=\"5\" valign=\"top\">Soft Costs 2</th>\n",
       "      <th>Module Lifetime</th>\n",
       "      <td>4</td>\n",
       "      <td>st.triang(0.5, loc=25, scale=0.0025)</td>\n",
       "      <td>yr</td>\n",
       "      <td>MLT</td>\n",
       "    </tr>\n",
       "    <tr>\n",
       "      <th>Module O&amp;M Fixed</th>\n",
       "      <td>7</td>\n",
       "      <td>st.triang(0.5, loc=20, scale=0.002)</td>\n",
       "      <td>$/kW/yr</td>\n",
       "      <td>MOM</td>\n",
       "    </tr>\n",
       "    <tr>\n",
       "      <th>Module Soiling Loss</th>\n",
       "      <td>10</td>\n",
       "      <td>st.triang(0.5, loc=0.05, scale=5e-6)</td>\n",
       "      <td>%/100</td>\n",
       "      <td>MSL</td>\n",
       "    </tr>\n",
       "    <tr>\n",
       "      <th>Permitting</th>\n",
       "      <td>17</td>\n",
       "      <td>st.triang(0.5, loc=400, scale=100)</td>\n",
       "      <td>$/system</td>\n",
       "      <td>BPR</td>\n",
       "    </tr>\n",
       "    <tr>\n",
       "      <th>System Size</th>\n",
       "      <td>2</td>\n",
       "      <td>36</td>\n",
       "      <td>m^2</td>\n",
       "      <td>SSZ</td>\n",
       "    </tr>\n",
       "  </tbody>\n",
       "</table>\n",
       "<p>552 rows × 4 columns</p>\n",
       "</div>"
      ],
      "text/plain": [
       "                                              Offset  \\\n",
       "Technology Scenario     Parameter                      \n",
       "PV Generic CIGS 0       Benchmark LCOC            22   \n",
       "                        Benchmark LCOE            23   \n",
       "                        Customer Acquisition      18   \n",
       "                        Direct Labor              16   \n",
       "                        Discount Rate              0   \n",
       "...                                              ...   \n",
       "           Soft Costs 2 Module Lifetime            4   \n",
       "                        Module O&M Fixed           7   \n",
       "                        Module Soiling Loss       10   \n",
       "                        Permitting                17   \n",
       "                        System Size                2   \n",
       "\n",
       "                                                                             Value  \\\n",
       "Technology Scenario     Parameter                                                    \n",
       "PV Generic CIGS 0       Benchmark LCOC                                     2.51977   \n",
       "                        Benchmark LCOE                                    0.086773   \n",
       "                        Customer Acquisition   st.triang(0.5, loc=2000, scale=0.2)   \n",
       "                        Direct Labor           st.triang(0.5, loc=2000, scale=0.2)   \n",
       "                        Discount Rate                                         0.07   \n",
       "...                                                                            ...   \n",
       "           Soft Costs 2 Module Lifetime       st.triang(0.5, loc=25, scale=0.0025)   \n",
       "                        Module O&M Fixed       st.triang(0.5, loc=20, scale=0.002)   \n",
       "                        Module Soiling Loss   st.triang(0.5, loc=0.05, scale=5e-6)   \n",
       "                        Permitting              st.triang(0.5, loc=400, scale=100)   \n",
       "                        System Size                                             36   \n",
       "\n",
       "                                                 Units Notes  \n",
       "Technology Scenario     Parameter                             \n",
       "PV Generic CIGS 0       Benchmark LCOC           $/Wdc        \n",
       "                        Benchmark LCOE           $/kWh        \n",
       "                        Customer Acquisition  $/system   BCA  \n",
       "                        Direct Labor          $/system   BLR  \n",
       "                        Discount Rate           1/year    DR  \n",
       "...                                                ...   ...  \n",
       "           Soft Costs 2 Module Lifetime             yr   MLT  \n",
       "                        Module O&M Fixed       $/kW/yr   MOM  \n",
       "                        Module Soiling Loss      %/100   MSL  \n",
       "                        Permitting            $/system   BPR  \n",
       "                        System Size                m^2   SSZ  \n",
       "\n",
       "[552 rows x 4 columns]"
      ]
     },
     "execution_count": 29,
     "metadata": {},
     "output_type": "execute_result"
    }
   ],
   "source": [
    "designs.parameters"
   ]
  },
  {
   "cell_type": "code",
   "execution_count": 30,
   "metadata": {},
   "outputs": [],
   "source": [
    "design_2015_actual    = designs.designs.xs   (\"CIGS 0\", level=\"Scenario\")\n",
    "parameter_2015_actual = designs.parameters.xs(\"CIGS 0\", level=\"Scenario\")\n",
    "parameter_expert_a    = designs.parameters.xs(\"CIGS 1\"   , level=\"Scenario\")\n",
    "for factor in tornado_factors:\n",
    "    scenario_new = factor\n",
    "    design_new = design_2015_actual.copy()\n",
    "    design_new[\"Scenario\"] = scenario_new\n",
    "    designs.designs = designs.designs.append(design_new.reset_index().set_index([\"Technology\", \"Scenario\", \"Variable\", \"Index\"]))\n",
    "    parameter_new = pd.concat([\n",
    "        parameter_2015_actual[parameter_2015_actual[\"Notes\"] != factor],\n",
    "        parameter_expert_a   [parameter_expert_a   [\"Notes\"] == factor],\n",
    "    ])\n",
    "    parameter_new[\"Scenario\"] = factor\n",
    "    designs.parameters = designs.parameters.append(parameter_new.reset_index().set_index([\"Technology\", \"Scenario\", \"Parameter\"]))"
   ]
  },
  {
   "cell_type": "markdown",
   "metadata": {},
   "source": [
    "#### Recompile the design."
   ]
  },
  {
   "cell_type": "code",
   "execution_count": 31,
   "metadata": {},
   "outputs": [],
   "source": [
    "designs.compile()"
   ]
  },
  {
   "cell_type": "markdown",
   "metadata": {},
   "source": [
    "#### Compute the results."
   ]
  },
  {
   "cell_type": "code",
   "execution_count": 32,
   "metadata": {
    "scrolled": false
   },
   "outputs": [
    {
     "name": "stdout",
     "output_type": "stream",
     "text": [
      "Evaluating PV Generic\n"
     ]
    },
    {
     "data": {
      "text/plain": [
       "(228000, 2)"
      ]
     },
     "execution_count": 32,
     "metadata": {},
     "output_type": "execute_result"
    }
   ],
   "source": [
    "scenario_results = designs.evaluate_scenarios(sample_count=500)\n",
    "scenario_results.shape"
   ]
  },
  {
   "cell_type": "markdown",
   "metadata": {},
   "source": [
    "#### Make the tornado plot."
   ]
  },
  {
   "cell_type": "code",
   "execution_count": 33,
   "metadata": {},
   "outputs": [],
   "source": [
    "tornado_results =scenario_results[[\n",
    "    \"Value\"\n",
    "]].xs(\n",
    "    \"LCOE\", level=\"Index\"\n",
    ").rename(\n",
    "    columns={\"Value\" : \"LCOE [$/kWh]\"}\n",
    ").reset_index(\n",
    "    [\"Technology\", \"Sample\", \"Variable\"], drop=True\n",
    ").drop(\n",
    "    [\"CIGS 0\", \"CIGS 1\", \"CIGS 2\"]\n",
    ").reset_index(\n",
    ").sort_values(\n",
    "    \"LCOE [$/kWh]\", ascending = False\n",
    ")\n",
    "tornado_results[\"LCOE Reduction [%]\"] = 100 * tornado_results[\"LCOE [$/kWh]\"] / 0.106125"
   ]
  },
  {
   "cell_type": "code",
   "execution_count": 34,
   "metadata": {},
   "outputs": [
    {
     "data": {
      "text/plain": [
       "<Figure size 2400x1800 with 0 Axes>"
      ]
     },
     "execution_count": 34,
     "metadata": {},
     "output_type": "execute_result"
    },
    {
     "data": {
      "text/plain": [
       "<Figure size 2400x1800 with 0 Axes>"
      ]
     },
     "metadata": {},
     "output_type": "display_data"
    }
   ],
   "source": [
    "pl.figure(figsize=(8, 6), dpi = 300)"
   ]
  },
  {
   "cell_type": "code",
   "execution_count": 35,
   "metadata": {},
   "outputs": [],
   "source": [
    "sb.set(font_scale = 1)"
   ]
  },
  {
   "cell_type": "code",
   "execution_count": 36,
   "metadata": {},
   "outputs": [
    {
     "data": {
      "image/png": "[encoded data removed]",
      "text/plain": [
       "<Figure size 432x288 with 1 Axes>"
      ]
     },
     "metadata": {},
     "output_type": "display_data"
    }
   ],
   "source": [
    "ax = sb.boxplot(\n",
    "    data = tornado_results,\n",
    "    y = \"Scenario\",\n",
    "    x = \"LCOE Reduction [%]\"\n",
    ")\n",
    "for i,box in enumerate(ax.artists):\n",
    "    box.set_edgecolor('black')\n",
    "    box.set_facecolor('none')\n",
    "    for j in range(6*i,6*(i+1)):\n",
    "         ax.lines[j].set_color('black')"
   ]
  },
  {
   "cell_type": "code",
   "execution_count": 37,
   "metadata": {},
   "outputs": [],
   "source": [
    "z = list(ax.get_children())"
   ]
  },
  {
   "cell_type": "code",
   "execution_count": 38,
   "metadata": {},
   "outputs": [
    {
     "data": {
      "text/plain": [
       "<AxesSubplot:xlabel='LCOE Reduction [%]', ylabel='Scenario'>"
      ]
     },
     "execution_count": 38,
     "metadata": {},
     "output_type": "execute_result"
    }
   ],
   "source": [
    "sb.barplot(\n",
    "    data = tornado_results.groupby(\"Scenario\").agg(np.mean).reset_index().sort_values(\n",
    "    \"LCOE [$/kWh]\", ascending = False,\n",
    "),\n",
    "    y = \"Scenario\",\n",
    "    x = \"LCOE Reduction [%]\",\n",
    "    color = \"lightblue\",\n",
    "    ax = ax,\n",
    ")"
   ]
  },
  {
   "cell_type": "code",
   "execution_count": 39,
   "metadata": {},
   "outputs": [],
   "source": [
    "for zi in z:\n",
    "    zi.set_zorder(1000)"
   ]
  },
  {
   "cell_type": "code",
   "execution_count": 40,
   "metadata": {},
   "outputs": [],
   "source": [
    "ax.set_xlabel(\"LCOE Reduction [%]\",fontsize=15)\n",
    "ax.set_ylabel(\"Scenario\",fontsize=15)\n",
    "ax.tick_params(labelsize=15)"
   ]
  },
  {
   "cell_type": "code",
   "execution_count": 41,
   "metadata": {},
   "outputs": [
    {
     "data": {
      "image/png": "[encoded data removed]",
      "text/plain": [
       "<Figure size 432x288 with 1 Axes>"
      ]
     },
     "execution_count": 41,
     "metadata": {},
     "output_type": "execute_result"
    }
   ],
   "source": [
    "ax.figure"
   ]
  },
  {
   "cell_type": "code",
   "execution_count": 42,
   "metadata": {
    "scrolled": true
   },
   "outputs": [],
   "source": [
    "#ax.figure.savefig(\"pv_residential_validation.png\", dpi = 300, bbox_inches = \"tight\")"
   ]
  }
 ],
 "metadata": {
  "kernelspec": {
   "display_name": "Python 3",
   "language": "python",
   "name": "python3"
  },
  "language_info": {
   "codemirror_mode": {
    "name": "ipython",
    "version": 3
   },
   "file_extension": ".py",
   "mimetype": "text/x-python",
   "name": "python",
   "nbconvert_exporter": "python",
   "pygments_lexer": "ipython3",
   "version": "3.7.8"
  }
 },
 "nbformat": 4,
 "nbformat_minor": 2
}
