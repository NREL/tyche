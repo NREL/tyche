{
 "cells": [
  {
   "cell_type": "markdown",
   "metadata": {},
   "source": [
    "# Tyche Example with Simple PV Model"
   ]
  },
  {
   "cell_type": "markdown",
   "metadata": {},
   "source": [
    "## Set up."
   ]
  },
  {
   "cell_type": "markdown",
   "metadata": {},
   "source": [
    "### One only needs to execute the following line once, in order to make sure recent enough packages are installed."
   ]
  },
  {
   "cell_type": "code",
   "execution_count": 1,
   "metadata": {},
   "outputs": [],
   "source": [
    "#pip install numpy>=1.17.2 pandas>=0.25.1"
   ]
  },
  {
   "cell_type": "markdown",
   "metadata": {},
   "source": [
    "### Import packages."
   ]
  },
  {
   "cell_type": "code",
   "execution_count": 2,
   "metadata": {},
   "outputs": [],
   "source": [
    "import os\n",
    "import sys\n",
    "sys.path.insert(0, os.path.abspath(\"../../../src\"))"
   ]
  },
  {
   "cell_type": "code",
   "execution_count": 3,
   "metadata": {},
   "outputs": [],
   "source": [
    "import numpy             as np\n",
    "import matplotlib.pyplot as pl\n",
    "import pandas            as pd\n",
    "import re                as re\n",
    "import scipy.stats       as st\n",
    "import seaborn           as sb\n",
    "\n",
    "# The `tyche` package is located at <https://github.com/NREL/portfolio/tree/master/production-function/framework/src/tyche/>.\n",
    "import tyche             as ty\n",
    "\n",
    "from copy import deepcopy"
   ]
  },
  {
   "cell_type": "markdown",
   "metadata": {},
   "source": [
    "## Load data."
   ]
  },
  {
   "cell_type": "markdown",
   "metadata": {},
   "source": [
    "### The data are stored in a set of tab-separated value files in a folder."
   ]
  },
  {
   "cell_type": "code",
   "execution_count": 4,
   "metadata": {},
   "outputs": [],
   "source": [
    "designs = ty.Designs(path = \".\",\n",
    "                     name = 'utility-pv.xlsx')"
   ]
  },
  {
   "cell_type": "code",
   "execution_count": 5,
   "metadata": {},
   "outputs": [],
   "source": [
    "investments = ty.Investments(path = \".\",\n",
    "                             name = 'utility-pv.xlsx')"
   ]
  },
  {
   "cell_type": "markdown",
   "metadata": {},
   "source": [
    "### Compile the production and metric functions for each technology in the dataset."
   ]
  },
  {
   "cell_type": "code",
   "execution_count": 6,
   "metadata": {},
   "outputs": [],
   "source": [
    "designs.compile()"
   ]
  },
  {
   "cell_type": "markdown",
   "metadata": {},
   "source": [
    "## Examine the data."
   ]
  },
  {
   "cell_type": "markdown",
   "metadata": {},
   "source": [
    "### The `functions` table specifies where the Python code for each technology resides."
   ]
  },
  {
   "cell_type": "code",
   "execution_count": 7,
   "metadata": {},
   "outputs": [
    {
     "data": {
      "text/html": [
       "<div>\n",
       "<style scoped>\n",
       "    .dataframe tbody tr th:only-of-type {\n",
       "        vertical-align: middle;\n",
       "    }\n",
       "\n",
       "    .dataframe tbody tr th {\n",
       "        vertical-align: top;\n",
       "    }\n",
       "\n",
       "    .dataframe thead th {\n",
       "        text-align: right;\n",
       "    }\n",
       "</style>\n",
       "<table border=\"1\" class=\"dataframe\">\n",
       "  <thead>\n",
       "    <tr style=\"text-align: right;\">\n",
       "      <th></th>\n",
       "      <th>Style</th>\n",
       "      <th>Model</th>\n",
       "      <th>Capital</th>\n",
       "      <th>Fixed</th>\n",
       "      <th>Production</th>\n",
       "      <th>Metrics</th>\n",
       "      <th>Notes</th>\n",
       "    </tr>\n",
       "    <tr>\n",
       "      <th>Technology</th>\n",
       "      <th></th>\n",
       "      <th></th>\n",
       "      <th></th>\n",
       "      <th></th>\n",
       "      <th></th>\n",
       "      <th></th>\n",
       "      <th></th>\n",
       "    </tr>\n",
       "  </thead>\n",
       "  <tbody>\n",
       "    <tr>\n",
       "      <th>Simple pv</th>\n",
       "      <td>numpy</td>\n",
       "      <td>utility_pv</td>\n",
       "      <td>capital_cost</td>\n",
       "      <td>fixed_cost</td>\n",
       "      <td>production</td>\n",
       "      <td>metrics</td>\n",
       "      <td>NaN</td>\n",
       "    </tr>\n",
       "  </tbody>\n",
       "</table>\n",
       "</div>"
      ],
      "text/plain": [
       "            Style       Model       Capital       Fixed  Production  Metrics  \\\n",
       "Technology                                                                     \n",
       "Simple pv   numpy  utility_pv  capital_cost  fixed_cost  production  metrics   \n",
       "\n",
       "           Notes  \n",
       "Technology        \n",
       "Simple pv    NaN  "
      ]
     },
     "execution_count": 7,
     "metadata": {},
     "output_type": "execute_result"
    }
   ],
   "source": [
    "designs.functions"
   ]
  },
  {
   "cell_type": "markdown",
   "metadata": {},
   "source": [
    "Right now, only the style `numpy` is supported."
   ]
  },
  {
   "cell_type": "markdown",
   "metadata": {},
   "source": [
    "### The `indices` table defines the subscripts for variables."
   ]
  },
  {
   "cell_type": "code",
   "execution_count": 8,
   "metadata": {},
   "outputs": [
    {
     "data": {
      "text/html": [
       "<div>\n",
       "<style scoped>\n",
       "    .dataframe tbody tr th:only-of-type {\n",
       "        vertical-align: middle;\n",
       "    }\n",
       "\n",
       "    .dataframe tbody tr th {\n",
       "        vertical-align: top;\n",
       "    }\n",
       "\n",
       "    .dataframe thead th {\n",
       "        text-align: right;\n",
       "    }\n",
       "</style>\n",
       "<table border=\"1\" class=\"dataframe\">\n",
       "  <thead>\n",
       "    <tr style=\"text-align: right;\">\n",
       "      <th></th>\n",
       "      <th></th>\n",
       "      <th></th>\n",
       "      <th>Offset</th>\n",
       "      <th>Description</th>\n",
       "      <th>Notes</th>\n",
       "    </tr>\n",
       "    <tr>\n",
       "      <th>Technology</th>\n",
       "      <th>Type</th>\n",
       "      <th>Index</th>\n",
       "      <th></th>\n",
       "      <th></th>\n",
       "      <th></th>\n",
       "    </tr>\n",
       "  </thead>\n",
       "  <tbody>\n",
       "    <tr>\n",
       "      <th rowspan=\"5\" valign=\"top\">Simple pv</th>\n",
       "      <th>Capital</th>\n",
       "      <th>Other Capital Cost</th>\n",
       "      <td>0</td>\n",
       "      <td>Other Capital Cost</td>\n",
       "      <td>Placeholder in case other capital costs are ne...</td>\n",
       "    </tr>\n",
       "    <tr>\n",
       "      <th>Input</th>\n",
       "      <th>Solar Radiation</th>\n",
       "      <td>0</td>\n",
       "      <td>Solar Radiation</td>\n",
       "      <td>NaN</td>\n",
       "    </tr>\n",
       "    <tr>\n",
       "      <th rowspan=\"2\" valign=\"top\">Metric</th>\n",
       "      <th>GHG</th>\n",
       "      <td>1</td>\n",
       "      <td>Greenhouse gas emissions</td>\n",
       "      <td>NaN</td>\n",
       "    </tr>\n",
       "    <tr>\n",
       "      <th>LCOE</th>\n",
       "      <td>0</td>\n",
       "      <td>Cost</td>\n",
       "      <td>NaN</td>\n",
       "    </tr>\n",
       "    <tr>\n",
       "      <th>Output</th>\n",
       "      <th>Electricity</th>\n",
       "      <td>0</td>\n",
       "      <td>Electricity</td>\n",
       "      <td>NaN</td>\n",
       "    </tr>\n",
       "  </tbody>\n",
       "</table>\n",
       "</div>"
      ],
      "text/plain": [
       "                                       Offset               Description  \\\n",
       "Technology Type    Index                                                  \n",
       "Simple pv  Capital Other Capital Cost       0        Other Capital Cost   \n",
       "           Input   Solar Radiation          0           Solar Radiation   \n",
       "           Metric  GHG                      1  Greenhouse gas emissions   \n",
       "                   LCOE                     0                      Cost   \n",
       "           Output  Electricity              0               Electricity   \n",
       "\n",
       "                                                                                   Notes  \n",
       "Technology Type    Index                                                                  \n",
       "Simple pv  Capital Other Capital Cost  Placeholder in case other capital costs are ne...  \n",
       "           Input   Solar Radiation                                                   NaN  \n",
       "           Metric  GHG                                                               NaN  \n",
       "                   LCOE                                                              NaN  \n",
       "           Output  Electricity                                                       NaN  "
      ]
     },
     "execution_count": 8,
     "metadata": {},
     "output_type": "execute_result"
    }
   ],
   "source": [
    "designs.indices"
   ]
  },
  {
   "cell_type": "markdown",
   "metadata": {},
   "source": [
    "### The `designs` table contains the cost, input, efficiency, and price data for a scenario."
   ]
  },
  {
   "cell_type": "code",
   "execution_count": 9,
   "metadata": {},
   "outputs": [
    {
     "data": {
      "text/html": [
       "<div>\n",
       "<style scoped>\n",
       "    .dataframe tbody tr th:only-of-type {\n",
       "        vertical-align: middle;\n",
       "    }\n",
       "\n",
       "    .dataframe tbody tr th {\n",
       "        vertical-align: top;\n",
       "    }\n",
       "\n",
       "    .dataframe thead th {\n",
       "        text-align: right;\n",
       "    }\n",
       "</style>\n",
       "<table border=\"1\" class=\"dataframe\">\n",
       "  <thead>\n",
       "    <tr style=\"text-align: right;\">\n",
       "      <th></th>\n",
       "      <th></th>\n",
       "      <th></th>\n",
       "      <th></th>\n",
       "      <th>Value</th>\n",
       "      <th>Units</th>\n",
       "      <th>Notes</th>\n",
       "    </tr>\n",
       "    <tr>\n",
       "      <th>Technology</th>\n",
       "      <th>Scenario</th>\n",
       "      <th>Variable</th>\n",
       "      <th>Index</th>\n",
       "      <th></th>\n",
       "      <th></th>\n",
       "      <th></th>\n",
       "    </tr>\n",
       "  </thead>\n",
       "  <tbody>\n",
       "    <tr>\n",
       "      <th rowspan=\"28\" valign=\"top\">Simple pv</th>\n",
       "      <th rowspan=\"7\" valign=\"top\">Base PV</th>\n",
       "      <th>Input</th>\n",
       "      <th>Solar Radiation</th>\n",
       "      <td>5.5</td>\n",
       "      <td>kWh/m2/day</td>\n",
       "      <td>NaN</td>\n",
       "    </tr>\n",
       "    <tr>\n",
       "      <th>Input efficiency</th>\n",
       "      <th>Solar Radiation</th>\n",
       "      <td>0.152</td>\n",
       "      <td>1</td>\n",
       "      <td>From Kavlak et al. (2018)</td>\n",
       "    </tr>\n",
       "    <tr>\n",
       "      <th>Input price</th>\n",
       "      <th>Solar Radiation</th>\n",
       "      <td>0</td>\n",
       "      <td>USD/kWh/m2/day</td>\n",
       "      <td>NaN</td>\n",
       "    </tr>\n",
       "    <tr>\n",
       "      <th>Lifetime</th>\n",
       "      <th>Other Capital Cost</th>\n",
       "      <td>20</td>\n",
       "      <td>yr</td>\n",
       "      <td>Assumed, Kavlak et al. (2019) do not provide a...</td>\n",
       "    </tr>\n",
       "    <tr>\n",
       "      <th>Output efficiency</th>\n",
       "      <th>Electricity</th>\n",
       "      <td>1</td>\n",
       "      <td>1</td>\n",
       "      <td>No output inverter losses assumed</td>\n",
       "    </tr>\n",
       "    <tr>\n",
       "      <th>Output price</th>\n",
       "      <th>Electricity</th>\n",
       "      <td>0.092</td>\n",
       "      <td>USD/kWh</td>\n",
       "      <td>Average commercial rate in Denver, CO</td>\n",
       "    </tr>\n",
       "    <tr>\n",
       "      <th>Scale</th>\n",
       "      <th>NaN</th>\n",
       "      <td>0.05</td>\n",
       "      <td>module/yr</td>\n",
       "      <td>Inverse of lifetime. Constant needed to leveli...</td>\n",
       "    </tr>\n",
       "    <tr>\n",
       "      <th rowspan=\"7\" valign=\"top\">Fast Progress on PV</th>\n",
       "      <th>Input</th>\n",
       "      <th>Solar Radiation</th>\n",
       "      <td>5.5</td>\n",
       "      <td>kWh/m2/day</td>\n",
       "      <td>NaN</td>\n",
       "    </tr>\n",
       "    <tr>\n",
       "      <th>Input efficiency</th>\n",
       "      <th>Solar Radiation</th>\n",
       "      <td>0.152</td>\n",
       "      <td>1</td>\n",
       "      <td>From Kavlak et al. (2018)</td>\n",
       "    </tr>\n",
       "    <tr>\n",
       "      <th>Input price</th>\n",
       "      <th>Solar Radiation</th>\n",
       "      <td>0</td>\n",
       "      <td>USD/kWh/m2/day</td>\n",
       "      <td>NaN</td>\n",
       "    </tr>\n",
       "    <tr>\n",
       "      <th>Lifetime</th>\n",
       "      <th>Other Capital Cost</th>\n",
       "      <td>20</td>\n",
       "      <td>yr</td>\n",
       "      <td>Assumed, Kavlak et al. (2019) do not provide a...</td>\n",
       "    </tr>\n",
       "    <tr>\n",
       "      <th>Output efficiency</th>\n",
       "      <th>Electricity</th>\n",
       "      <td>1</td>\n",
       "      <td>1</td>\n",
       "      <td>No output inverter losses assumed</td>\n",
       "    </tr>\n",
       "    <tr>\n",
       "      <th>Output price</th>\n",
       "      <th>Electricity</th>\n",
       "      <td>0.092</td>\n",
       "      <td>USD/kWh</td>\n",
       "      <td>Average commercial rate in Denver, CO</td>\n",
       "    </tr>\n",
       "    <tr>\n",
       "      <th>Scale</th>\n",
       "      <th>NaN</th>\n",
       "      <td>0.05</td>\n",
       "      <td>module/yr</td>\n",
       "      <td>Inverse of lifetime. Constant needed to leveli...</td>\n",
       "    </tr>\n",
       "    <tr>\n",
       "      <th rowspan=\"7\" valign=\"top\">Moderate Progress on PV</th>\n",
       "      <th>Input</th>\n",
       "      <th>Solar Radiation</th>\n",
       "      <td>5.5</td>\n",
       "      <td>kWh/m2/day</td>\n",
       "      <td>NaN</td>\n",
       "    </tr>\n",
       "    <tr>\n",
       "      <th>Input efficiency</th>\n",
       "      <th>Solar Radiation</th>\n",
       "      <td>0.152</td>\n",
       "      <td>1</td>\n",
       "      <td>From Kavlak et al. (2018)</td>\n",
       "    </tr>\n",
       "    <tr>\n",
       "      <th>Input price</th>\n",
       "      <th>Solar Radiation</th>\n",
       "      <td>0</td>\n",
       "      <td>USD/kWh/m2/day</td>\n",
       "      <td>NaN</td>\n",
       "    </tr>\n",
       "    <tr>\n",
       "      <th>Lifetime</th>\n",
       "      <th>Other Capital Cost</th>\n",
       "      <td>20</td>\n",
       "      <td>yr</td>\n",
       "      <td>Assumed, Kavlak et al. (2019) do not provide a...</td>\n",
       "    </tr>\n",
       "    <tr>\n",
       "      <th>Output efficiency</th>\n",
       "      <th>Electricity</th>\n",
       "      <td>1</td>\n",
       "      <td>1</td>\n",
       "      <td>No output inverter losses assumed</td>\n",
       "    </tr>\n",
       "    <tr>\n",
       "      <th>Output price</th>\n",
       "      <th>Electricity</th>\n",
       "      <td>0.092</td>\n",
       "      <td>USD/kWh</td>\n",
       "      <td>Average commercial rate in Denver, CO</td>\n",
       "    </tr>\n",
       "    <tr>\n",
       "      <th>Scale</th>\n",
       "      <th>NaN</th>\n",
       "      <td>0.05</td>\n",
       "      <td>module/yr</td>\n",
       "      <td>Inverse of lifetime. Constant needed to leveli...</td>\n",
       "    </tr>\n",
       "    <tr>\n",
       "      <th rowspan=\"7\" valign=\"top\">Slow Progress on PV</th>\n",
       "      <th>Input</th>\n",
       "      <th>Solar Radiation</th>\n",
       "      <td>5.5</td>\n",
       "      <td>kWh/m2/day</td>\n",
       "      <td>NaN</td>\n",
       "    </tr>\n",
       "    <tr>\n",
       "      <th>Input efficiency</th>\n",
       "      <th>Solar Radiation</th>\n",
       "      <td>0.152</td>\n",
       "      <td>1</td>\n",
       "      <td>From Kavlak et al. (2018)</td>\n",
       "    </tr>\n",
       "    <tr>\n",
       "      <th>Input price</th>\n",
       "      <th>Solar Radiation</th>\n",
       "      <td>0</td>\n",
       "      <td>USD/kWh/m2/day</td>\n",
       "      <td>NaN</td>\n",
       "    </tr>\n",
       "    <tr>\n",
       "      <th>Lifetime</th>\n",
       "      <th>Other Capital Cost</th>\n",
       "      <td>20</td>\n",
       "      <td>yr</td>\n",
       "      <td>Assumed, Kavlak et al. (2019) do not provide a...</td>\n",
       "    </tr>\n",
       "    <tr>\n",
       "      <th>Output efficiency</th>\n",
       "      <th>Electricity</th>\n",
       "      <td>1</td>\n",
       "      <td>1</td>\n",
       "      <td>No output inverter losses assumed</td>\n",
       "    </tr>\n",
       "    <tr>\n",
       "      <th>Output price</th>\n",
       "      <th>Electricity</th>\n",
       "      <td>0.092</td>\n",
       "      <td>USD/kWh</td>\n",
       "      <td>Average commercial rate in Denver, CO</td>\n",
       "    </tr>\n",
       "    <tr>\n",
       "      <th>Scale</th>\n",
       "      <th>NaN</th>\n",
       "      <td>0.05</td>\n",
       "      <td>module/yr</td>\n",
       "      <td>Inverse of lifetime. Constant needed to leveli...</td>\n",
       "    </tr>\n",
       "  </tbody>\n",
       "</table>\n",
       "</div>"
      ],
      "text/plain": [
       "                                                                         Value  \\\n",
       "Technology Scenario                Variable          Index                       \n",
       "Simple pv  Base PV                 Input             Solar Radiation       5.5   \n",
       "                                   Input efficiency  Solar Radiation     0.152   \n",
       "                                   Input price       Solar Radiation         0   \n",
       "                                   Lifetime          Other Capital Cost     20   \n",
       "                                   Output efficiency Electricity             1   \n",
       "                                   Output price      Electricity         0.092   \n",
       "                                   Scale             NaN                  0.05   \n",
       "           Fast Progress on PV     Input             Solar Radiation       5.5   \n",
       "                                   Input efficiency  Solar Radiation     0.152   \n",
       "                                   Input price       Solar Radiation         0   \n",
       "                                   Lifetime          Other Capital Cost     20   \n",
       "                                   Output efficiency Electricity             1   \n",
       "                                   Output price      Electricity         0.092   \n",
       "                                   Scale             NaN                  0.05   \n",
       "           Moderate Progress on PV Input             Solar Radiation       5.5   \n",
       "                                   Input efficiency  Solar Radiation     0.152   \n",
       "                                   Input price       Solar Radiation         0   \n",
       "                                   Lifetime          Other Capital Cost     20   \n",
       "                                   Output efficiency Electricity             1   \n",
       "                                   Output price      Electricity         0.092   \n",
       "                                   Scale             NaN                  0.05   \n",
       "           Slow Progress on PV     Input             Solar Radiation       5.5   \n",
       "                                   Input efficiency  Solar Radiation     0.152   \n",
       "                                   Input price       Solar Radiation         0   \n",
       "                                   Lifetime          Other Capital Cost     20   \n",
       "                                   Output efficiency Electricity             1   \n",
       "                                   Output price      Electricity         0.092   \n",
       "                                   Scale             NaN                  0.05   \n",
       "\n",
       "                                                                                  Units  \\\n",
       "Technology Scenario                Variable          Index                                \n",
       "Simple pv  Base PV                 Input             Solar Radiation         kWh/m2/day   \n",
       "                                   Input efficiency  Solar Radiation                  1   \n",
       "                                   Input price       Solar Radiation     USD/kWh/m2/day   \n",
       "                                   Lifetime          Other Capital Cost              yr   \n",
       "                                   Output efficiency Electricity                      1   \n",
       "                                   Output price      Electricity                USD/kWh   \n",
       "                                   Scale             NaN                      module/yr   \n",
       "           Fast Progress on PV     Input             Solar Radiation         kWh/m2/day   \n",
       "                                   Input efficiency  Solar Radiation                  1   \n",
       "                                   Input price       Solar Radiation     USD/kWh/m2/day   \n",
       "                                   Lifetime          Other Capital Cost              yr   \n",
       "                                   Output efficiency Electricity                      1   \n",
       "                                   Output price      Electricity                USD/kWh   \n",
       "                                   Scale             NaN                      module/yr   \n",
       "           Moderate Progress on PV Input             Solar Radiation         kWh/m2/day   \n",
       "                                   Input efficiency  Solar Radiation                  1   \n",
       "                                   Input price       Solar Radiation     USD/kWh/m2/day   \n",
       "                                   Lifetime          Other Capital Cost              yr   \n",
       "                                   Output efficiency Electricity                      1   \n",
       "                                   Output price      Electricity                USD/kWh   \n",
       "                                   Scale             NaN                      module/yr   \n",
       "           Slow Progress on PV     Input             Solar Radiation         kWh/m2/day   \n",
       "                                   Input efficiency  Solar Radiation                  1   \n",
       "                                   Input price       Solar Radiation     USD/kWh/m2/day   \n",
       "                                   Lifetime          Other Capital Cost              yr   \n",
       "                                   Output efficiency Electricity                      1   \n",
       "                                   Output price      Electricity                USD/kWh   \n",
       "                                   Scale             NaN                      module/yr   \n",
       "\n",
       "                                                                                                                     Notes  \n",
       "Technology Scenario                Variable          Index                                                                  \n",
       "Simple pv  Base PV                 Input             Solar Radiation                                                   NaN  \n",
       "                                   Input efficiency  Solar Radiation                             From Kavlak et al. (2018)  \n",
       "                                   Input price       Solar Radiation                                                   NaN  \n",
       "                                   Lifetime          Other Capital Cost  Assumed, Kavlak et al. (2019) do not provide a...  \n",
       "                                   Output efficiency Electricity                         No output inverter losses assumed  \n",
       "                                   Output price      Electricity                     Average commercial rate in Denver, CO  \n",
       "                                   Scale             NaN                 Inverse of lifetime. Constant needed to leveli...  \n",
       "           Fast Progress on PV     Input             Solar Radiation                                                   NaN  \n",
       "                                   Input efficiency  Solar Radiation                             From Kavlak et al. (2018)  \n",
       "                                   Input price       Solar Radiation                                                   NaN  \n",
       "                                   Lifetime          Other Capital Cost  Assumed, Kavlak et al. (2019) do not provide a...  \n",
       "                                   Output efficiency Electricity                         No output inverter losses assumed  \n",
       "                                   Output price      Electricity                     Average commercial rate in Denver, CO  \n",
       "                                   Scale             NaN                 Inverse of lifetime. Constant needed to leveli...  \n",
       "           Moderate Progress on PV Input             Solar Radiation                                                   NaN  \n",
       "                                   Input efficiency  Solar Radiation                             From Kavlak et al. (2018)  \n",
       "                                   Input price       Solar Radiation                                                   NaN  \n",
       "                                   Lifetime          Other Capital Cost  Assumed, Kavlak et al. (2019) do not provide a...  \n",
       "                                   Output efficiency Electricity                         No output inverter losses assumed  \n",
       "                                   Output price      Electricity                     Average commercial rate in Denver, CO  \n",
       "                                   Scale             NaN                 Inverse of lifetime. Constant needed to leveli...  \n",
       "           Slow Progress on PV     Input             Solar Radiation                                                   NaN  \n",
       "                                   Input efficiency  Solar Radiation                             From Kavlak et al. (2018)  \n",
       "                                   Input price       Solar Radiation                                                   NaN  \n",
       "                                   Lifetime          Other Capital Cost  Assumed, Kavlak et al. (2019) do not provide a...  \n",
       "                                   Output efficiency Electricity                         No output inverter losses assumed  \n",
       "                                   Output price      Electricity                     Average commercial rate in Denver, CO  \n",
       "                                   Scale             NaN                 Inverse of lifetime. Constant needed to leveli...  "
      ]
     },
     "execution_count": 9,
     "metadata": {},
     "output_type": "execute_result"
    }
   ],
   "source": [
    "designs.designs"
   ]
  },
  {
   "cell_type": "markdown",
   "metadata": {},
   "source": [
    "### The `parameters` table contains additional techno-economic parameters for each technology."
   ]
  },
  {
   "cell_type": "code",
   "execution_count": 10,
   "metadata": {},
   "outputs": [
    {
     "data": {
      "text/html": [
       "<div>\n",
       "<style scoped>\n",
       "    .dataframe tbody tr th:only-of-type {\n",
       "        vertical-align: middle;\n",
       "    }\n",
       "\n",
       "    .dataframe tbody tr th {\n",
       "        vertical-align: top;\n",
       "    }\n",
       "\n",
       "    .dataframe thead th {\n",
       "        text-align: right;\n",
       "    }\n",
       "</style>\n",
       "<table border=\"1\" class=\"dataframe\">\n",
       "  <thead>\n",
       "    <tr style=\"text-align: right;\">\n",
       "      <th></th>\n",
       "      <th></th>\n",
       "      <th></th>\n",
       "      <th>Offset</th>\n",
       "      <th>Value</th>\n",
       "      <th>Units</th>\n",
       "      <th>Notes</th>\n",
       "    </tr>\n",
       "    <tr>\n",
       "      <th>Technology</th>\n",
       "      <th>Scenario</th>\n",
       "      <th>Parameter</th>\n",
       "      <th></th>\n",
       "      <th></th>\n",
       "      <th></th>\n",
       "      <th></th>\n",
       "    </tr>\n",
       "  </thead>\n",
       "  <tbody>\n",
       "    <tr>\n",
       "      <th rowspan=\"56\" valign=\"top\">Simple pv</th>\n",
       "      <th rowspan=\"14\" valign=\"top\">Base PV</th>\n",
       "      <th>Cells per module</th>\n",
       "      <td>0</td>\n",
       "      <td>72</td>\n",
       "      <td>cell/module</td>\n",
       "      <td>From Kavlak et al. (2018)</td>\n",
       "    </tr>\n",
       "    <tr>\n",
       "      <th>GHG factor for electricity</th>\n",
       "      <td>13</td>\n",
       "      <td>400</td>\n",
       "      <td>gCO2e/kWh</td>\n",
       "      <td>Rough approximation for US Grid</td>\n",
       "    </tr>\n",
       "    <tr>\n",
       "      <th>Module area utilization</th>\n",
       "      <td>12</td>\n",
       "      <td>0.9</td>\n",
       "      <td>unitless</td>\n",
       "      <td>From Kavlak et al. (2018)</td>\n",
       "    </tr>\n",
       "    <tr>\n",
       "      <th>Non-silicon materials cost</th>\n",
       "      <td>6</td>\n",
       "      <td>0.009433</td>\n",
       "      <td>$/cm2/cell</td>\n",
       "      <td>Calculated based on data from Kavlak et al. (2...</td>\n",
       "    </tr>\n",
       "    <tr>\n",
       "      <th>Plant size</th>\n",
       "      <td>8</td>\n",
       "      <td>1000</td>\n",
       "      <td>MW/yr</td>\n",
       "      <td>From Kavlak et al. (2018). Equivalent to 3.35E...</td>\n",
       "    </tr>\n",
       "    <tr>\n",
       "      <th>Polysilicon price</th>\n",
       "      <td>4</td>\n",
       "      <td>26</td>\n",
       "      <td>$/kg</td>\n",
       "      <td>2015$. From Kavlak et al. (2018)</td>\n",
       "    </tr>\n",
       "    <tr>\n",
       "      <th>Production yield</th>\n",
       "      <td>11</td>\n",
       "      <td>0.95</td>\n",
       "      <td>unitless</td>\n",
       "      <td>Production waste parameter. Include as an outp...</td>\n",
       "    </tr>\n",
       "    <tr>\n",
       "      <th>Reference plant cost</th>\n",
       "      <td>7</td>\n",
       "      <td>1.5513</td>\n",
       "      <td>$/cell</td>\n",
       "      <td>Calculated based on data from Kavlak et al. (2...</td>\n",
       "    </tr>\n",
       "    <tr>\n",
       "      <th>Reference plant size</th>\n",
       "      <td>9</td>\n",
       "      <td>1000</td>\n",
       "      <td>MW/yr</td>\n",
       "      <td>From Kavlak et al. (2018). Equivalent to 3.35E...</td>\n",
       "    </tr>\n",
       "    <tr>\n",
       "      <th>Scaling factor</th>\n",
       "      <td>10</td>\n",
       "      <td>0.27</td>\n",
       "      <td>unitless</td>\n",
       "      <td>From Kavlak et al. (2018)</td>\n",
       "    </tr>\n",
       "    <tr>\n",
       "      <th>Silicon utilization</th>\n",
       "      <td>5</td>\n",
       "      <td>0.45</td>\n",
       "      <td>unitless</td>\n",
       "      <td>From Kavlak et al. (2018)</td>\n",
       "    </tr>\n",
       "    <tr>\n",
       "      <th>Wafer area</th>\n",
       "      <td>1</td>\n",
       "      <td>243</td>\n",
       "      <td>cm2</td>\n",
       "      <td>From Kavlak et al. (2018)</td>\n",
       "    </tr>\n",
       "    <tr>\n",
       "      <th>Wafer density</th>\n",
       "      <td>3</td>\n",
       "      <td>2.33</td>\n",
       "      <td>g/cm3</td>\n",
       "      <td>From Kavlak et al. (2018)</td>\n",
       "    </tr>\n",
       "    <tr>\n",
       "      <th>Wafer thickness</th>\n",
       "      <td>2</td>\n",
       "      <td>180</td>\n",
       "      <td>um</td>\n",
       "      <td>From Kavlak et al. (2018)</td>\n",
       "    </tr>\n",
       "    <tr>\n",
       "      <th rowspan=\"14\" valign=\"top\">Fast Progress on PV</th>\n",
       "      <th>Cells per module</th>\n",
       "      <td>0</td>\n",
       "      <td>72</td>\n",
       "      <td>cell/module</td>\n",
       "      <td>From Kavlak et al. (2018)</td>\n",
       "    </tr>\n",
       "    <tr>\n",
       "      <th>GHG factor for electricity</th>\n",
       "      <td>13</td>\n",
       "      <td>400</td>\n",
       "      <td>gCO2e/kWh</td>\n",
       "      <td>Rough approximation for US Grid</td>\n",
       "    </tr>\n",
       "    <tr>\n",
       "      <th>Module area utilization</th>\n",
       "      <td>12</td>\n",
       "      <td>0.9</td>\n",
       "      <td>unitless</td>\n",
       "      <td>From Kavlak et al. (2018)</td>\n",
       "    </tr>\n",
       "    <tr>\n",
       "      <th>Non-silicon materials cost</th>\n",
       "      <td>6</td>\n",
       "      <td>0.009433</td>\n",
       "      <td>$/cm2/cell</td>\n",
       "      <td>Calculated based on data from Kavlak et al. (2...</td>\n",
       "    </tr>\n",
       "    <tr>\n",
       "      <th>Plant size</th>\n",
       "      <td>8</td>\n",
       "      <td>1000</td>\n",
       "      <td>MW/yr</td>\n",
       "      <td>From Kavlak et al. (2018). Equivalent to 3.35E...</td>\n",
       "    </tr>\n",
       "    <tr>\n",
       "      <th>Polysilicon price</th>\n",
       "      <td>4</td>\n",
       "      <td>26</td>\n",
       "      <td>$/kg</td>\n",
       "      <td>2015$. From Kavlak et al. (2018)</td>\n",
       "    </tr>\n",
       "    <tr>\n",
       "      <th>Production yield</th>\n",
       "      <td>11</td>\n",
       "      <td>0.95</td>\n",
       "      <td>unitless</td>\n",
       "      <td>Production waste parameter. Include as an outp...</td>\n",
       "    </tr>\n",
       "    <tr>\n",
       "      <th>Reference plant cost</th>\n",
       "      <td>7</td>\n",
       "      <td>1.5513</td>\n",
       "      <td>$/cell</td>\n",
       "      <td>Calculated based on data from Kavlak et al. (2...</td>\n",
       "    </tr>\n",
       "    <tr>\n",
       "      <th>Reference plant size</th>\n",
       "      <td>9</td>\n",
       "      <td>1000</td>\n",
       "      <td>MW/yr</td>\n",
       "      <td>From Kavlak et al. (2018). Equivalent to 3.35E...</td>\n",
       "    </tr>\n",
       "    <tr>\n",
       "      <th>Scaling factor</th>\n",
       "      <td>10</td>\n",
       "      <td>0.27</td>\n",
       "      <td>unitless</td>\n",
       "      <td>From Kavlak et al. (2018)</td>\n",
       "    </tr>\n",
       "    <tr>\n",
       "      <th>Silicon utilization</th>\n",
       "      <td>5</td>\n",
       "      <td>0.45</td>\n",
       "      <td>unitless</td>\n",
       "      <td>From Kavlak et al. (2018)</td>\n",
       "    </tr>\n",
       "    <tr>\n",
       "      <th>Wafer area</th>\n",
       "      <td>1</td>\n",
       "      <td>243</td>\n",
       "      <td>cm2</td>\n",
       "      <td>From Kavlak et al. (2018)</td>\n",
       "    </tr>\n",
       "    <tr>\n",
       "      <th>Wafer density</th>\n",
       "      <td>3</td>\n",
       "      <td>2.33</td>\n",
       "      <td>g/cm3</td>\n",
       "      <td>From Kavlak et al. (2018)</td>\n",
       "    </tr>\n",
       "    <tr>\n",
       "      <th>Wafer thickness</th>\n",
       "      <td>2</td>\n",
       "      <td>180</td>\n",
       "      <td>um</td>\n",
       "      <td>From Kavlak et al. (2018)</td>\n",
       "    </tr>\n",
       "    <tr>\n",
       "      <th rowspan=\"14\" valign=\"top\">Moderate Progress on PV</th>\n",
       "      <th>Cells per module</th>\n",
       "      <td>0</td>\n",
       "      <td>72</td>\n",
       "      <td>cell/module</td>\n",
       "      <td>From Kavlak et al. (2018)</td>\n",
       "    </tr>\n",
       "    <tr>\n",
       "      <th>GHG factor for electricity</th>\n",
       "      <td>13</td>\n",
       "      <td>400</td>\n",
       "      <td>gCO2e/kWh</td>\n",
       "      <td>Rough approximation for US Grid</td>\n",
       "    </tr>\n",
       "    <tr>\n",
       "      <th>Module area utilization</th>\n",
       "      <td>12</td>\n",
       "      <td>0.9</td>\n",
       "      <td>unitless</td>\n",
       "      <td>From Kavlak et al. (2018)</td>\n",
       "    </tr>\n",
       "    <tr>\n",
       "      <th>Non-silicon materials cost</th>\n",
       "      <td>6</td>\n",
       "      <td>0.009433</td>\n",
       "      <td>$/cm2/cell</td>\n",
       "      <td>Calculated based on data from Kavlak et al. (2...</td>\n",
       "    </tr>\n",
       "    <tr>\n",
       "      <th>Plant size</th>\n",
       "      <td>8</td>\n",
       "      <td>1000</td>\n",
       "      <td>MW/yr</td>\n",
       "      <td>From Kavlak et al. (2018). Equivalent to 3.35E...</td>\n",
       "    </tr>\n",
       "    <tr>\n",
       "      <th>Polysilicon price</th>\n",
       "      <td>4</td>\n",
       "      <td>26</td>\n",
       "      <td>$/kg</td>\n",
       "      <td>2015$. From Kavlak et al. (2018)</td>\n",
       "    </tr>\n",
       "    <tr>\n",
       "      <th>Production yield</th>\n",
       "      <td>11</td>\n",
       "      <td>0.95</td>\n",
       "      <td>unitless</td>\n",
       "      <td>Production waste parameter. Include as an outp...</td>\n",
       "    </tr>\n",
       "    <tr>\n",
       "      <th>Reference plant cost</th>\n",
       "      <td>7</td>\n",
       "      <td>1.5513</td>\n",
       "      <td>$/cell</td>\n",
       "      <td>Calculated based on data from Kavlak et al. (2...</td>\n",
       "    </tr>\n",
       "    <tr>\n",
       "      <th>Reference plant size</th>\n",
       "      <td>9</td>\n",
       "      <td>1000</td>\n",
       "      <td>MW/yr</td>\n",
       "      <td>From Kavlak et al. (2018). Equivalent to 3.35E...</td>\n",
       "    </tr>\n",
       "    <tr>\n",
       "      <th>Scaling factor</th>\n",
       "      <td>10</td>\n",
       "      <td>0.27</td>\n",
       "      <td>unitless</td>\n",
       "      <td>From Kavlak et al. (2018)</td>\n",
       "    </tr>\n",
       "    <tr>\n",
       "      <th>Silicon utilization</th>\n",
       "      <td>5</td>\n",
       "      <td>0.45</td>\n",
       "      <td>unitless</td>\n",
       "      <td>From Kavlak et al. (2018)</td>\n",
       "    </tr>\n",
       "    <tr>\n",
       "      <th>Wafer area</th>\n",
       "      <td>1</td>\n",
       "      <td>243</td>\n",
       "      <td>cm2</td>\n",
       "      <td>From Kavlak et al. (2018)</td>\n",
       "    </tr>\n",
       "    <tr>\n",
       "      <th>Wafer density</th>\n",
       "      <td>3</td>\n",
       "      <td>2.33</td>\n",
       "      <td>g/cm3</td>\n",
       "      <td>From Kavlak et al. (2018)</td>\n",
       "    </tr>\n",
       "    <tr>\n",
       "      <th>Wafer thickness</th>\n",
       "      <td>2</td>\n",
       "      <td>180</td>\n",
       "      <td>um</td>\n",
       "      <td>From Kavlak et al. (2018)</td>\n",
       "    </tr>\n",
       "    <tr>\n",
       "      <th rowspan=\"14\" valign=\"top\">Slow Progress on PV</th>\n",
       "      <th>Cells per module</th>\n",
       "      <td>0</td>\n",
       "      <td>72</td>\n",
       "      <td>cell/module</td>\n",
       "      <td>From Kavlak et al. (2018)</td>\n",
       "    </tr>\n",
       "    <tr>\n",
       "      <th>GHG factor for electricity</th>\n",
       "      <td>13</td>\n",
       "      <td>400</td>\n",
       "      <td>gCO2e/kWh</td>\n",
       "      <td>Rough approximation for US Grid</td>\n",
       "    </tr>\n",
       "    <tr>\n",
       "      <th>Module area utilization</th>\n",
       "      <td>12</td>\n",
       "      <td>0.9</td>\n",
       "      <td>unitless</td>\n",
       "      <td>From Kavlak et al. (2018)</td>\n",
       "    </tr>\n",
       "    <tr>\n",
       "      <th>Non-silicon materials cost</th>\n",
       "      <td>6</td>\n",
       "      <td>0.009433</td>\n",
       "      <td>$/cm2/cell</td>\n",
       "      <td>Calculated based on data from Kavlak et al. (2...</td>\n",
       "    </tr>\n",
       "    <tr>\n",
       "      <th>Plant size</th>\n",
       "      <td>8</td>\n",
       "      <td>1000</td>\n",
       "      <td>MW/yr</td>\n",
       "      <td>From Kavlak et al. (2018). Equivalent to 3.35E...</td>\n",
       "    </tr>\n",
       "    <tr>\n",
       "      <th>Polysilicon price</th>\n",
       "      <td>4</td>\n",
       "      <td>26</td>\n",
       "      <td>$/kg</td>\n",
       "      <td>2015$. From Kavlak et al. (2018)</td>\n",
       "    </tr>\n",
       "    <tr>\n",
       "      <th>Production yield</th>\n",
       "      <td>11</td>\n",
       "      <td>0.95</td>\n",
       "      <td>unitless</td>\n",
       "      <td>Production waste parameter. Include as an outp...</td>\n",
       "    </tr>\n",
       "    <tr>\n",
       "      <th>Reference plant cost</th>\n",
       "      <td>7</td>\n",
       "      <td>1.5513</td>\n",
       "      <td>$/cell</td>\n",
       "      <td>Calculated based on data from Kavlak et al. (2...</td>\n",
       "    </tr>\n",
       "    <tr>\n",
       "      <th>Reference plant size</th>\n",
       "      <td>9</td>\n",
       "      <td>1000</td>\n",
       "      <td>MW/yr</td>\n",
       "      <td>From Kavlak et al. (2018). Equivalent to 3.35E...</td>\n",
       "    </tr>\n",
       "    <tr>\n",
       "      <th>Scaling factor</th>\n",
       "      <td>10</td>\n",
       "      <td>0.27</td>\n",
       "      <td>unitless</td>\n",
       "      <td>From Kavlak et al. (2018)</td>\n",
       "    </tr>\n",
       "    <tr>\n",
       "      <th>Silicon utilization</th>\n",
       "      <td>5</td>\n",
       "      <td>0.45</td>\n",
       "      <td>unitless</td>\n",
       "      <td>From Kavlak et al. (2018)</td>\n",
       "    </tr>\n",
       "    <tr>\n",
       "      <th>Wafer area</th>\n",
       "      <td>1</td>\n",
       "      <td>243</td>\n",
       "      <td>cm2</td>\n",
       "      <td>From Kavlak et al. (2018)</td>\n",
       "    </tr>\n",
       "    <tr>\n",
       "      <th>Wafer density</th>\n",
       "      <td>3</td>\n",
       "      <td>2.33</td>\n",
       "      <td>g/cm3</td>\n",
       "      <td>From Kavlak et al. (2018)</td>\n",
       "    </tr>\n",
       "    <tr>\n",
       "      <th>Wafer thickness</th>\n",
       "      <td>2</td>\n",
       "      <td>180</td>\n",
       "      <td>um</td>\n",
       "      <td>From Kavlak et al. (2018)</td>\n",
       "    </tr>\n",
       "  </tbody>\n",
       "</table>\n",
       "</div>"
      ],
      "text/plain": [
       "                                                               Offset  \\\n",
       "Technology Scenario                Parameter                            \n",
       "Simple pv  Base PV                 Cells per module                 0   \n",
       "                                   GHG factor for electricity      13   \n",
       "                                   Module area utilization         12   \n",
       "                                   Non-silicon materials cost       6   \n",
       "                                   Plant size                       8   \n",
       "                                   Polysilicon price                4   \n",
       "                                   Production yield                11   \n",
       "                                   Reference plant cost             7   \n",
       "                                   Reference plant size             9   \n",
       "                                   Scaling factor                  10   \n",
       "                                   Silicon utilization              5   \n",
       "                                   Wafer area                       1   \n",
       "                                   Wafer density                    3   \n",
       "                                   Wafer thickness                  2   \n",
       "           Fast Progress on PV     Cells per module                 0   \n",
       "                                   GHG factor for electricity      13   \n",
       "                                   Module area utilization         12   \n",
       "                                   Non-silicon materials cost       6   \n",
       "                                   Plant size                       8   \n",
       "                                   Polysilicon price                4   \n",
       "                                   Production yield                11   \n",
       "                                   Reference plant cost             7   \n",
       "                                   Reference plant size             9   \n",
       "                                   Scaling factor                  10   \n",
       "                                   Silicon utilization              5   \n",
       "                                   Wafer area                       1   \n",
       "                                   Wafer density                    3   \n",
       "                                   Wafer thickness                  2   \n",
       "           Moderate Progress on PV Cells per module                 0   \n",
       "                                   GHG factor for electricity      13   \n",
       "                                   Module area utilization         12   \n",
       "                                   Non-silicon materials cost       6   \n",
       "                                   Plant size                       8   \n",
       "                                   Polysilicon price                4   \n",
       "                                   Production yield                11   \n",
       "                                   Reference plant cost             7   \n",
       "                                   Reference plant size             9   \n",
       "                                   Scaling factor                  10   \n",
       "                                   Silicon utilization              5   \n",
       "                                   Wafer area                       1   \n",
       "                                   Wafer density                    3   \n",
       "                                   Wafer thickness                  2   \n",
       "           Slow Progress on PV     Cells per module                 0   \n",
       "                                   GHG factor for electricity      13   \n",
       "                                   Module area utilization         12   \n",
       "                                   Non-silicon materials cost       6   \n",
       "                                   Plant size                       8   \n",
       "                                   Polysilicon price                4   \n",
       "                                   Production yield                11   \n",
       "                                   Reference plant cost             7   \n",
       "                                   Reference plant size             9   \n",
       "                                   Scaling factor                  10   \n",
       "                                   Silicon utilization              5   \n",
       "                                   Wafer area                       1   \n",
       "                                   Wafer density                    3   \n",
       "                                   Wafer thickness                  2   \n",
       "\n",
       "                                                                  Value  \\\n",
       "Technology Scenario                Parameter                              \n",
       "Simple pv  Base PV                 Cells per module                  72   \n",
       "                                   GHG factor for electricity       400   \n",
       "                                   Module area utilization          0.9   \n",
       "                                   Non-silicon materials cost  0.009433   \n",
       "                                   Plant size                      1000   \n",
       "                                   Polysilicon price                 26   \n",
       "                                   Production yield                0.95   \n",
       "                                   Reference plant cost          1.5513   \n",
       "                                   Reference plant size            1000   \n",
       "                                   Scaling factor                  0.27   \n",
       "                                   Silicon utilization             0.45   \n",
       "                                   Wafer area                       243   \n",
       "                                   Wafer density                   2.33   \n",
       "                                   Wafer thickness                  180   \n",
       "           Fast Progress on PV     Cells per module                  72   \n",
       "                                   GHG factor for electricity       400   \n",
       "                                   Module area utilization          0.9   \n",
       "                                   Non-silicon materials cost  0.009433   \n",
       "                                   Plant size                      1000   \n",
       "                                   Polysilicon price                 26   \n",
       "                                   Production yield                0.95   \n",
       "                                   Reference plant cost          1.5513   \n",
       "                                   Reference plant size            1000   \n",
       "                                   Scaling factor                  0.27   \n",
       "                                   Silicon utilization             0.45   \n",
       "                                   Wafer area                       243   \n",
       "                                   Wafer density                   2.33   \n",
       "                                   Wafer thickness                  180   \n",
       "           Moderate Progress on PV Cells per module                  72   \n",
       "                                   GHG factor for electricity       400   \n",
       "                                   Module area utilization          0.9   \n",
       "                                   Non-silicon materials cost  0.009433   \n",
       "                                   Plant size                      1000   \n",
       "                                   Polysilicon price                 26   \n",
       "                                   Production yield                0.95   \n",
       "                                   Reference plant cost          1.5513   \n",
       "                                   Reference plant size            1000   \n",
       "                                   Scaling factor                  0.27   \n",
       "                                   Silicon utilization             0.45   \n",
       "                                   Wafer area                       243   \n",
       "                                   Wafer density                   2.33   \n",
       "                                   Wafer thickness                  180   \n",
       "           Slow Progress on PV     Cells per module                  72   \n",
       "                                   GHG factor for electricity       400   \n",
       "                                   Module area utilization          0.9   \n",
       "                                   Non-silicon materials cost  0.009433   \n",
       "                                   Plant size                      1000   \n",
       "                                   Polysilicon price                 26   \n",
       "                                   Production yield                0.95   \n",
       "                                   Reference plant cost          1.5513   \n",
       "                                   Reference plant size            1000   \n",
       "                                   Scaling factor                  0.27   \n",
       "                                   Silicon utilization             0.45   \n",
       "                                   Wafer area                       243   \n",
       "                                   Wafer density                   2.33   \n",
       "                                   Wafer thickness                  180   \n",
       "\n",
       "                                                                     Units  \\\n",
       "Technology Scenario                Parameter                                 \n",
       "Simple pv  Base PV                 Cells per module            cell/module   \n",
       "                                   GHG factor for electricity    gCO2e/kWh   \n",
       "                                   Module area utilization        unitless   \n",
       "                                   Non-silicon materials cost   $/cm2/cell   \n",
       "                                   Plant size                        MW/yr   \n",
       "                                   Polysilicon price                  $/kg   \n",
       "                                   Production yield               unitless   \n",
       "                                   Reference plant cost             $/cell   \n",
       "                                   Reference plant size              MW/yr   \n",
       "                                   Scaling factor                 unitless   \n",
       "                                   Silicon utilization            unitless   \n",
       "                                   Wafer area                          cm2   \n",
       "                                   Wafer density                     g/cm3   \n",
       "                                   Wafer thickness                      um   \n",
       "           Fast Progress on PV     Cells per module            cell/module   \n",
       "                                   GHG factor for electricity    gCO2e/kWh   \n",
       "                                   Module area utilization        unitless   \n",
       "                                   Non-silicon materials cost   $/cm2/cell   \n",
       "                                   Plant size                        MW/yr   \n",
       "                                   Polysilicon price                  $/kg   \n",
       "                                   Production yield               unitless   \n",
       "                                   Reference plant cost             $/cell   \n",
       "                                   Reference plant size              MW/yr   \n",
       "                                   Scaling factor                 unitless   \n",
       "                                   Silicon utilization            unitless   \n",
       "                                   Wafer area                          cm2   \n",
       "                                   Wafer density                     g/cm3   \n",
       "                                   Wafer thickness                      um   \n",
       "           Moderate Progress on PV Cells per module            cell/module   \n",
       "                                   GHG factor for electricity    gCO2e/kWh   \n",
       "                                   Module area utilization        unitless   \n",
       "                                   Non-silicon materials cost   $/cm2/cell   \n",
       "                                   Plant size                        MW/yr   \n",
       "                                   Polysilicon price                  $/kg   \n",
       "                                   Production yield               unitless   \n",
       "                                   Reference plant cost             $/cell   \n",
       "                                   Reference plant size              MW/yr   \n",
       "                                   Scaling factor                 unitless   \n",
       "                                   Silicon utilization            unitless   \n",
       "                                   Wafer area                          cm2   \n",
       "                                   Wafer density                     g/cm3   \n",
       "                                   Wafer thickness                      um   \n",
       "           Slow Progress on PV     Cells per module            cell/module   \n",
       "                                   GHG factor for electricity    gCO2e/kWh   \n",
       "                                   Module area utilization        unitless   \n",
       "                                   Non-silicon materials cost   $/cm2/cell   \n",
       "                                   Plant size                        MW/yr   \n",
       "                                   Polysilicon price                  $/kg   \n",
       "                                   Production yield               unitless   \n",
       "                                   Reference plant cost             $/cell   \n",
       "                                   Reference plant size              MW/yr   \n",
       "                                   Scaling factor                 unitless   \n",
       "                                   Silicon utilization            unitless   \n",
       "                                   Wafer area                          cm2   \n",
       "                                   Wafer density                     g/cm3   \n",
       "                                   Wafer thickness                      um   \n",
       "\n",
       "                                                                                                           Notes  \n",
       "Technology Scenario                Parameter                                                                      \n",
       "Simple pv  Base PV                 Cells per module                                    From Kavlak et al. (2018)  \n",
       "                                   GHG factor for electricity                    Rough approximation for US Grid  \n",
       "                                   Module area utilization                             From Kavlak et al. (2018)  \n",
       "                                   Non-silicon materials cost  Calculated based on data from Kavlak et al. (2...  \n",
       "                                   Plant size                  From Kavlak et al. (2018). Equivalent to 3.35E...  \n",
       "                                   Polysilicon price                            2015$. From Kavlak et al. (2018)  \n",
       "                                   Production yield            Production waste parameter. Include as an outp...  \n",
       "                                   Reference plant cost        Calculated based on data from Kavlak et al. (2...  \n",
       "                                   Reference plant size        From Kavlak et al. (2018). Equivalent to 3.35E...  \n",
       "                                   Scaling factor                                      From Kavlak et al. (2018)  \n",
       "                                   Silicon utilization                                 From Kavlak et al. (2018)  \n",
       "                                   Wafer area                                          From Kavlak et al. (2018)  \n",
       "                                   Wafer density                                       From Kavlak et al. (2018)  \n",
       "                                   Wafer thickness                                     From Kavlak et al. (2018)  \n",
       "           Fast Progress on PV     Cells per module                                    From Kavlak et al. (2018)  \n",
       "                                   GHG factor for electricity                    Rough approximation for US Grid  \n",
       "                                   Module area utilization                             From Kavlak et al. (2018)  \n",
       "                                   Non-silicon materials cost  Calculated based on data from Kavlak et al. (2...  \n",
       "                                   Plant size                  From Kavlak et al. (2018). Equivalent to 3.35E...  \n",
       "                                   Polysilicon price                            2015$. From Kavlak et al. (2018)  \n",
       "                                   Production yield            Production waste parameter. Include as an outp...  \n",
       "                                   Reference plant cost        Calculated based on data from Kavlak et al. (2...  \n",
       "                                   Reference plant size        From Kavlak et al. (2018). Equivalent to 3.35E...  \n",
       "                                   Scaling factor                                      From Kavlak et al. (2018)  \n",
       "                                   Silicon utilization                                 From Kavlak et al. (2018)  \n",
       "                                   Wafer area                                          From Kavlak et al. (2018)  \n",
       "                                   Wafer density                                       From Kavlak et al. (2018)  \n",
       "                                   Wafer thickness                                     From Kavlak et al. (2018)  \n",
       "           Moderate Progress on PV Cells per module                                    From Kavlak et al. (2018)  \n",
       "                                   GHG factor for electricity                    Rough approximation for US Grid  \n",
       "                                   Module area utilization                             From Kavlak et al. (2018)  \n",
       "                                   Non-silicon materials cost  Calculated based on data from Kavlak et al. (2...  \n",
       "                                   Plant size                  From Kavlak et al. (2018). Equivalent to 3.35E...  \n",
       "                                   Polysilicon price                            2015$. From Kavlak et al. (2018)  \n",
       "                                   Production yield            Production waste parameter. Include as an outp...  \n",
       "                                   Reference plant cost        Calculated based on data from Kavlak et al. (2...  \n",
       "                                   Reference plant size        From Kavlak et al. (2018). Equivalent to 3.35E...  \n",
       "                                   Scaling factor                                      From Kavlak et al. (2018)  \n",
       "                                   Silicon utilization                                 From Kavlak et al. (2018)  \n",
       "                                   Wafer area                                          From Kavlak et al. (2018)  \n",
       "                                   Wafer density                                       From Kavlak et al. (2018)  \n",
       "                                   Wafer thickness                                     From Kavlak et al. (2018)  \n",
       "           Slow Progress on PV     Cells per module                                    From Kavlak et al. (2018)  \n",
       "                                   GHG factor for electricity                    Rough approximation for US Grid  \n",
       "                                   Module area utilization                             From Kavlak et al. (2018)  \n",
       "                                   Non-silicon materials cost  Calculated based on data from Kavlak et al. (2...  \n",
       "                                   Plant size                  From Kavlak et al. (2018). Equivalent to 3.35E...  \n",
       "                                   Polysilicon price                            2015$. From Kavlak et al. (2018)  \n",
       "                                   Production yield            Production waste parameter. Include as an outp...  \n",
       "                                   Reference plant cost        Calculated based on data from Kavlak et al. (2...  \n",
       "                                   Reference plant size        From Kavlak et al. (2018). Equivalent to 3.35E...  \n",
       "                                   Scaling factor                                      From Kavlak et al. (2018)  \n",
       "                                   Silicon utilization                                 From Kavlak et al. (2018)  \n",
       "                                   Wafer area                                          From Kavlak et al. (2018)  \n",
       "                                   Wafer density                                       From Kavlak et al. (2018)  \n",
       "                                   Wafer thickness                                     From Kavlak et al. (2018)  "
      ]
     },
     "execution_count": 10,
     "metadata": {},
     "output_type": "execute_result"
    }
   ],
   "source": [
    "designs.parameters"
   ]
  },
  {
   "cell_type": "markdown",
   "metadata": {},
   "source": [
    "### The `results` table specifies the units of measure for results of computations."
   ]
  },
  {
   "cell_type": "code",
   "execution_count": 11,
   "metadata": {},
   "outputs": [
    {
     "data": {
      "text/html": [
       "<div>\n",
       "<style scoped>\n",
       "    .dataframe tbody tr th:only-of-type {\n",
       "        vertical-align: middle;\n",
       "    }\n",
       "\n",
       "    .dataframe tbody tr th {\n",
       "        vertical-align: top;\n",
       "    }\n",
       "\n",
       "    .dataframe thead th {\n",
       "        text-align: right;\n",
       "    }\n",
       "</style>\n",
       "<table border=\"1\" class=\"dataframe\">\n",
       "  <thead>\n",
       "    <tr style=\"text-align: right;\">\n",
       "      <th></th>\n",
       "      <th></th>\n",
       "      <th></th>\n",
       "      <th>Units</th>\n",
       "      <th>Notes</th>\n",
       "    </tr>\n",
       "    <tr>\n",
       "      <th>Technology</th>\n",
       "      <th>Variable</th>\n",
       "      <th>Index</th>\n",
       "      <th></th>\n",
       "      <th></th>\n",
       "    </tr>\n",
       "  </thead>\n",
       "  <tbody>\n",
       "    <tr>\n",
       "      <th rowspan=\"4\" valign=\"top\">Simple pv</th>\n",
       "      <th>Cost</th>\n",
       "      <th>Cost</th>\n",
       "      <td>USD/module</td>\n",
       "      <td>NaN</td>\n",
       "    </tr>\n",
       "    <tr>\n",
       "      <th rowspan=\"2\" valign=\"top\">Metric</th>\n",
       "      <th>GHG</th>\n",
       "      <td>gCO2e/module</td>\n",
       "      <td>NaN</td>\n",
       "    </tr>\n",
       "    <tr>\n",
       "      <th>LCOE</th>\n",
       "      <td>USD/kWh</td>\n",
       "      <td>NaN</td>\n",
       "    </tr>\n",
       "    <tr>\n",
       "      <th>Output</th>\n",
       "      <th>Electricity</th>\n",
       "      <td>kWh/module</td>\n",
       "      <td>NaN</td>\n",
       "    </tr>\n",
       "  </tbody>\n",
       "</table>\n",
       "</div>"
      ],
      "text/plain": [
       "                                        Units Notes\n",
       "Technology Variable Index                          \n",
       "Simple pv  Cost     Cost           USD/module   NaN\n",
       "           Metric   GHG          gCO2e/module   NaN\n",
       "                    LCOE              USD/kWh   NaN\n",
       "           Output   Electricity    kWh/module   NaN"
      ]
     },
     "execution_count": 11,
     "metadata": {},
     "output_type": "execute_result"
    }
   ],
   "source": [
    "designs.results"
   ]
  },
  {
   "cell_type": "markdown",
   "metadata": {},
   "source": [
    "### The `tranches` table specifies multually exclusive possibilities for investments: only one `Tranch` may be selected for each `Cateogry`."
   ]
  },
  {
   "cell_type": "code",
   "execution_count": 12,
   "metadata": {},
   "outputs": [
    {
     "data": {
      "text/html": [
       "<div>\n",
       "<style scoped>\n",
       "    .dataframe tbody tr th:only-of-type {\n",
       "        vertical-align: middle;\n",
       "    }\n",
       "\n",
       "    .dataframe tbody tr th {\n",
       "        vertical-align: top;\n",
       "    }\n",
       "\n",
       "    .dataframe thead th {\n",
       "        text-align: right;\n",
       "    }\n",
       "</style>\n",
       "<table border=\"1\" class=\"dataframe\">\n",
       "  <thead>\n",
       "    <tr style=\"text-align: right;\">\n",
       "      <th></th>\n",
       "      <th></th>\n",
       "      <th></th>\n",
       "      <th>Amount</th>\n",
       "      <th>Notes</th>\n",
       "    </tr>\n",
       "    <tr>\n",
       "      <th>Category</th>\n",
       "      <th>Tranche</th>\n",
       "      <th>Scenario</th>\n",
       "      <th></th>\n",
       "      <th></th>\n",
       "    </tr>\n",
       "  </thead>\n",
       "  <tbody>\n",
       "    <tr>\n",
       "      <th rowspan=\"4\" valign=\"top\">PV R&amp;D</th>\n",
       "      <th>High PV R&amp;D</th>\n",
       "      <th>Fast Progress on PV</th>\n",
       "      <td>1000000</td>\n",
       "      <td>NaN</td>\n",
       "    </tr>\n",
       "    <tr>\n",
       "      <th>Low PV R&amp;D</th>\n",
       "      <th>Slow Progress on PV</th>\n",
       "      <td>3000000</td>\n",
       "      <td>NaN</td>\n",
       "    </tr>\n",
       "    <tr>\n",
       "      <th>Medium PV R&amp;D</th>\n",
       "      <th>Moderate Progress on PV</th>\n",
       "      <td>4500000</td>\n",
       "      <td>NaN</td>\n",
       "    </tr>\n",
       "    <tr>\n",
       "      <th>No PV R&amp;D</th>\n",
       "      <th>Base PV</th>\n",
       "      <td>1500000</td>\n",
       "      <td>NaN</td>\n",
       "    </tr>\n",
       "  </tbody>\n",
       "</table>\n",
       "</div>"
      ],
      "text/plain": [
       "                                                 Amount Notes\n",
       "Category Tranche       Scenario                              \n",
       "PV R&D   High PV R&D   Fast Progress on PV      1000000   NaN\n",
       "         Low PV R&D    Slow Progress on PV      3000000   NaN\n",
       "         Medium PV R&D Moderate Progress on PV  4500000   NaN\n",
       "         No PV R&D     Base PV                  1500000   NaN"
      ]
     },
     "execution_count": 12,
     "metadata": {},
     "output_type": "execute_result"
    }
   ],
   "source": [
    "investments.tranches"
   ]
  },
  {
   "cell_type": "markdown",
   "metadata": {},
   "source": [
    "### The `investments` table bundles a consistent set of tranches (one per category) into an overall investment."
   ]
  },
  {
   "cell_type": "code",
   "execution_count": 13,
   "metadata": {},
   "outputs": [
    {
     "data": {
      "text/html": [
       "<div>\n",
       "<style scoped>\n",
       "    .dataframe tbody tr th:only-of-type {\n",
       "        vertical-align: middle;\n",
       "    }\n",
       "\n",
       "    .dataframe tbody tr th {\n",
       "        vertical-align: top;\n",
       "    }\n",
       "\n",
       "    .dataframe thead th {\n",
       "        text-align: right;\n",
       "    }\n",
       "</style>\n",
       "<table border=\"1\" class=\"dataframe\">\n",
       "  <thead>\n",
       "    <tr style=\"text-align: right;\">\n",
       "      <th></th>\n",
       "      <th></th>\n",
       "      <th></th>\n",
       "      <th>Notes</th>\n",
       "    </tr>\n",
       "    <tr>\n",
       "      <th>Investment</th>\n",
       "      <th>Category</th>\n",
       "      <th>Tranche</th>\n",
       "      <th></th>\n",
       "    </tr>\n",
       "  </thead>\n",
       "  <tbody>\n",
       "    <tr>\n",
       "      <th>High R&amp;D Spending</th>\n",
       "      <th>PV R&amp;D</th>\n",
       "      <th>High PV R&amp;D</th>\n",
       "      <td>NaN</td>\n",
       "    </tr>\n",
       "    <tr>\n",
       "      <th>Low R&amp;D Spending</th>\n",
       "      <th>PV R&amp;D</th>\n",
       "      <th>Low PV R&amp;D</th>\n",
       "      <td>NaN</td>\n",
       "    </tr>\n",
       "    <tr>\n",
       "      <th>Medium R&amp;D Spending</th>\n",
       "      <th>PV R&amp;D</th>\n",
       "      <th>Medium PV R&amp;D</th>\n",
       "      <td>NaN</td>\n",
       "    </tr>\n",
       "    <tr>\n",
       "      <th>No R&amp;D Spending</th>\n",
       "      <th>PV R&amp;D</th>\n",
       "      <th>No PV R&amp;D</th>\n",
       "      <td>NaN</td>\n",
       "    </tr>\n",
       "  </tbody>\n",
       "</table>\n",
       "</div>"
      ],
      "text/plain": [
       "                                           Notes\n",
       "Investment          Category Tranche            \n",
       "High R&D Spending   PV R&D   High PV R&D     NaN\n",
       "Low R&D Spending    PV R&D   Low PV R&D      NaN\n",
       "Medium R&D Spending PV R&D   Medium PV R&D   NaN\n",
       "No R&D Spending     PV R&D   No PV R&D       NaN"
      ]
     },
     "execution_count": 13,
     "metadata": {},
     "output_type": "execute_result"
    }
   ],
   "source": [
    "investments.investments"
   ]
  },
  {
   "cell_type": "markdown",
   "metadata": {},
   "source": [
    "## Evaluate the scenarios in the dataset."
   ]
  },
  {
   "cell_type": "code",
   "execution_count": 14,
   "metadata": {
    "scrolled": false
   },
   "outputs": [
    {
     "name": "stdout",
     "output_type": "stream",
     "text": [
      "Evaluating Simple pv\n"
     ]
    },
    {
     "name": "stderr",
     "output_type": "stream",
     "text": [
      "/Users/tghosh/miniconda3/envs/tyche/lib/python3.8/site-packages/numpy/core/fromnumeric.py:86: VisibleDeprecationWarning: Creating an ndarray from ragged nested sequences (which is a list-or-tuple of lists-or-tuples-or ndarrays with different lengths or shapes) is deprecated. If you meant to do this, you must specify 'dtype=object' when creating the ndarray.\n",
      "  return ufunc.reduce(obj, axis, dtype, out, **passkwargs)\n",
      "/Users/tghosh/Library/CloudStorage/OneDrive-NREL/work_NREL/tyche/src/tyche/Designs.py:393: FutureWarning: The frame.append method is deprecated and will be removed from pandas in a future version. Use pandas.concat instead.\n",
      "  costs   = costs.append(  result.cost  )\n",
      "/Users/tghosh/Library/CloudStorage/OneDrive-NREL/work_NREL/tyche/src/tyche/Designs.py:394: FutureWarning: The frame.append method is deprecated and will be removed from pandas in a future version. Use pandas.concat instead.\n",
      "  outputs = outputs.append(result.output)\n",
      "/Users/tghosh/Library/CloudStorage/OneDrive-NREL/work_NREL/tyche/src/tyche/Designs.py:395: FutureWarning: The frame.append method is deprecated and will be removed from pandas in a future version. Use pandas.concat instead.\n",
      "  metrics = metrics.append(result.metric)\n",
      "/Users/tghosh/Library/CloudStorage/OneDrive-NREL/work_NREL/tyche/src/tyche/Designs.py:408: FutureWarning: The frame.append method is deprecated and will be removed from pandas in a future version. Use pandas.concat instead.\n",
      "  return organize(\"Cost\", costs).append(\n",
      "/Users/tghosh/Library/CloudStorage/OneDrive-NREL/work_NREL/tyche/src/tyche/Designs.py:408: FutureWarning: The frame.append method is deprecated and will be removed from pandas in a future version. Use pandas.concat instead.\n",
      "  return organize(\"Cost\", costs).append(\n"
     ]
    }
   ],
   "source": [
    "scenario_results = designs.evaluate_scenarios(sample_count=1)"
   ]
  },
  {
   "cell_type": "code",
   "execution_count": 15,
   "metadata": {},
   "outputs": [
    {
     "data": {
      "text/html": [
       "<div>\n",
       "<style scoped>\n",
       "    .dataframe tbody tr th:only-of-type {\n",
       "        vertical-align: middle;\n",
       "    }\n",
       "\n",
       "    .dataframe tbody tr th {\n",
       "        vertical-align: top;\n",
       "    }\n",
       "\n",
       "    .dataframe thead th {\n",
       "        text-align: right;\n",
       "    }\n",
       "</style>\n",
       "<table border=\"1\" class=\"dataframe\">\n",
       "  <thead>\n",
       "    <tr style=\"text-align: right;\">\n",
       "      <th></th>\n",
       "      <th></th>\n",
       "      <th></th>\n",
       "      <th></th>\n",
       "      <th></th>\n",
       "      <th>Value</th>\n",
       "      <th>Units</th>\n",
       "    </tr>\n",
       "    <tr>\n",
       "      <th>Technology</th>\n",
       "      <th>Scenario</th>\n",
       "      <th>Sample</th>\n",
       "      <th>Variable</th>\n",
       "      <th>Index</th>\n",
       "      <th></th>\n",
       "      <th></th>\n",
       "    </tr>\n",
       "  </thead>\n",
       "  <tbody>\n",
       "    <tr>\n",
       "      <th rowspan=\"16\" valign=\"top\">Simple pv</th>\n",
       "      <th rowspan=\"4\" valign=\"top\">Base PV</th>\n",
       "      <th rowspan=\"4\" valign=\"top\">1</th>\n",
       "      <th>Cost</th>\n",
       "      <th>Cost</th>\n",
       "      <td>2.396188e+02</td>\n",
       "      <td>USD/module</td>\n",
       "    </tr>\n",
       "    <tr>\n",
       "      <th rowspan=\"2\" valign=\"top\">Metric</th>\n",
       "      <th>GHG</th>\n",
       "      <td>4.508260e+06</td>\n",
       "      <td>gCO2e/module</td>\n",
       "    </tr>\n",
       "    <tr>\n",
       "      <th>LCOE</th>\n",
       "      <td>2.126042e-02</td>\n",
       "      <td>USD/kWh</td>\n",
       "    </tr>\n",
       "    <tr>\n",
       "      <th>Output</th>\n",
       "      <th>Electricity</th>\n",
       "      <td>1.127065e+04</td>\n",
       "      <td>kWh/module</td>\n",
       "    </tr>\n",
       "    <tr>\n",
       "      <th rowspan=\"4\" valign=\"top\">Fast Progress on PV</th>\n",
       "      <th rowspan=\"4\" valign=\"top\">1</th>\n",
       "      <th>Cost</th>\n",
       "      <th>Cost</th>\n",
       "      <td>2.396188e+02</td>\n",
       "      <td>USD/module</td>\n",
       "    </tr>\n",
       "    <tr>\n",
       "      <th rowspan=\"2\" valign=\"top\">Metric</th>\n",
       "      <th>GHG</th>\n",
       "      <td>4.508260e+06</td>\n",
       "      <td>gCO2e/module</td>\n",
       "    </tr>\n",
       "    <tr>\n",
       "      <th>LCOE</th>\n",
       "      <td>2.126042e-02</td>\n",
       "      <td>USD/kWh</td>\n",
       "    </tr>\n",
       "    <tr>\n",
       "      <th>Output</th>\n",
       "      <th>Electricity</th>\n",
       "      <td>1.127065e+04</td>\n",
       "      <td>kWh/module</td>\n",
       "    </tr>\n",
       "    <tr>\n",
       "      <th rowspan=\"4\" valign=\"top\">Moderate Progress on PV</th>\n",
       "      <th rowspan=\"4\" valign=\"top\">1</th>\n",
       "      <th>Cost</th>\n",
       "      <th>Cost</th>\n",
       "      <td>2.396188e+02</td>\n",
       "      <td>USD/module</td>\n",
       "    </tr>\n",
       "    <tr>\n",
       "      <th rowspan=\"2\" valign=\"top\">Metric</th>\n",
       "      <th>GHG</th>\n",
       "      <td>4.508260e+06</td>\n",
       "      <td>gCO2e/module</td>\n",
       "    </tr>\n",
       "    <tr>\n",
       "      <th>LCOE</th>\n",
       "      <td>2.126042e-02</td>\n",
       "      <td>USD/kWh</td>\n",
       "    </tr>\n",
       "    <tr>\n",
       "      <th>Output</th>\n",
       "      <th>Electricity</th>\n",
       "      <td>1.127065e+04</td>\n",
       "      <td>kWh/module</td>\n",
       "    </tr>\n",
       "    <tr>\n",
       "      <th rowspan=\"4\" valign=\"top\">Slow Progress on PV</th>\n",
       "      <th rowspan=\"4\" valign=\"top\">1</th>\n",
       "      <th>Cost</th>\n",
       "      <th>Cost</th>\n",
       "      <td>2.396188e+02</td>\n",
       "      <td>USD/module</td>\n",
       "    </tr>\n",
       "    <tr>\n",
       "      <th rowspan=\"2\" valign=\"top\">Metric</th>\n",
       "      <th>GHG</th>\n",
       "      <td>4.508260e+06</td>\n",
       "      <td>gCO2e/module</td>\n",
       "    </tr>\n",
       "    <tr>\n",
       "      <th>LCOE</th>\n",
       "      <td>2.126042e-02</td>\n",
       "      <td>USD/kWh</td>\n",
       "    </tr>\n",
       "    <tr>\n",
       "      <th>Output</th>\n",
       "      <th>Electricity</th>\n",
       "      <td>1.127065e+04</td>\n",
       "      <td>kWh/module</td>\n",
       "    </tr>\n",
       "  </tbody>\n",
       "</table>\n",
       "</div>"
      ],
      "text/plain": [
       "                                                                       Value  \\\n",
       "Technology Scenario                Sample Variable Index                       \n",
       "Simple pv  Base PV                 1      Cost     Cost         2.396188e+02   \n",
       "                                          Metric   GHG          4.508260e+06   \n",
       "                                                   LCOE         2.126042e-02   \n",
       "                                          Output   Electricity  1.127065e+04   \n",
       "           Fast Progress on PV     1      Cost     Cost         2.396188e+02   \n",
       "                                          Metric   GHG          4.508260e+06   \n",
       "                                                   LCOE         2.126042e-02   \n",
       "                                          Output   Electricity  1.127065e+04   \n",
       "           Moderate Progress on PV 1      Cost     Cost         2.396188e+02   \n",
       "                                          Metric   GHG          4.508260e+06   \n",
       "                                                   LCOE         2.126042e-02   \n",
       "                                          Output   Electricity  1.127065e+04   \n",
       "           Slow Progress on PV     1      Cost     Cost         2.396188e+02   \n",
       "                                          Metric   GHG          4.508260e+06   \n",
       "                                                   LCOE         2.126042e-02   \n",
       "                                          Output   Electricity  1.127065e+04   \n",
       "\n",
       "                                                                       Units  \n",
       "Technology Scenario                Sample Variable Index                      \n",
       "Simple pv  Base PV                 1      Cost     Cost           USD/module  \n",
       "                                          Metric   GHG          gCO2e/module  \n",
       "                                                   LCOE              USD/kWh  \n",
       "                                          Output   Electricity    kWh/module  \n",
       "           Fast Progress on PV     1      Cost     Cost           USD/module  \n",
       "                                          Metric   GHG          gCO2e/module  \n",
       "                                                   LCOE              USD/kWh  \n",
       "                                          Output   Electricity    kWh/module  \n",
       "           Moderate Progress on PV 1      Cost     Cost           USD/module  \n",
       "                                          Metric   GHG          gCO2e/module  \n",
       "                                                   LCOE              USD/kWh  \n",
       "                                          Output   Electricity    kWh/module  \n",
       "           Slow Progress on PV     1      Cost     Cost           USD/module  \n",
       "                                          Metric   GHG          gCO2e/module  \n",
       "                                                   LCOE              USD/kWh  \n",
       "                                          Output   Electricity    kWh/module  "
      ]
     },
     "execution_count": 15,
     "metadata": {},
     "output_type": "execute_result"
    }
   ],
   "source": [
    "scenario_results.xs(1, level=\"Sample\", drop_level=False)"
   ]
  },
  {
   "cell_type": "markdown",
   "metadata": {},
   "source": [
    "### Save results."
   ]
  },
  {
   "cell_type": "markdown",
   "metadata": {},
   "source": [
    "#scenario_results.to_csv(\"output/utility_pv/results.csv\")"
   ]
  },
  {
   "cell_type": "markdown",
   "metadata": {},
   "source": [
    "### Plot GHG Metric"
   ]
  },
  {
   "cell_type": "code",
   "execution_count": 16,
   "metadata": {},
   "outputs": [
    {
     "name": "stderr",
     "output_type": "stream",
     "text": [
      "/var/folders/sm/spdh5zkx26v6vh_fk8w7p8456l6sp0/T/ipykernel_45099/2739126723.py:4: FutureWarning: Passing lists as key for xs is deprecated and will be removed in a future version. Pass key as a tuple instead.\n",
      "  data=scenario_results.xs(\n"
     ]
    },
    {
     "data": {
      "image/png": "[encoded data removed]",
      "text/plain": [
       "<Figure size 432x288 with 1 Axes>"
      ]
     },
     "metadata": {
      "needs_background": "light"
     },
     "output_type": "display_data"
    }
   ],
   "source": [
    "g = sb.boxplot(\n",
    "    x=\"Scenario\",\n",
    "    y=\"Value\",\n",
    "    data=scenario_results.xs(\n",
    "        [\"Metric\", \"GHG\"],\n",
    "        level=[\"Variable\", \"Index\"]\n",
    "    ).reset_index()[[\"Scenario\", \"Value\"]],\n",
    "    order=[\n",
    "        \"Base PV\"              ,\n",
    "        \"Slow Progress on PV\"      ,\n",
    "        \"Moderate Progress on PV\"  ,\n",
    "        \"Fast Progress on PV\"      ,\n",
    "    ]\n",
    ")\n",
    "g.set(ylabel=\"GHG [gCO2e / module]\")\n",
    "g.set_xticklabels(g.get_xticklabels(), rotation=30);"
   ]
  },
  {
   "cell_type": "markdown",
   "metadata": {},
   "source": [
    "### Plot LCOE Metric"
   ]
  },
  {
   "cell_type": "code",
   "execution_count": 17,
   "metadata": {},
   "outputs": [
    {
     "name": "stderr",
     "output_type": "stream",
     "text": [
      "/var/folders/sm/spdh5zkx26v6vh_fk8w7p8456l6sp0/T/ipykernel_45099/2076551106.py:4: FutureWarning: Passing lists as key for xs is deprecated and will be removed in a future version. Pass key as a tuple instead.\n",
      "  data=scenario_results.xs(\n"
     ]
    },
    {
     "data": {
      "image/png": "[encoded data removed]",
      "text/plain": [
       "<Figure size 432x288 with 1 Axes>"
      ]
     },
     "metadata": {
      "needs_background": "light"
     },
     "output_type": "display_data"
    }
   ],
   "source": [
    "g = sb.boxplot(\n",
    "    x=\"Scenario\",\n",
    "    y=\"Value\",\n",
    "    data=scenario_results.xs(\n",
    "        [\"Metric\", \"LCOE\"],\n",
    "        level=[\"Variable\", \"Index\"]\n",
    "    ).reset_index()[[\"Scenario\", \"Value\"]],\n",
    "    order=[\n",
    "        \"Base PV\"              ,\n",
    "        \"Slow Progress on PV\"      ,\n",
    "        \"Moderate Progress on PV\"  ,\n",
    "        \"Fast Progress on PV\"      ,\n",
    "    ]\n",
    ")\n",
    "g.set(ylabel=\"LCOE [USD / kWh]\")\n",
    "g.set_xticklabels(g.get_xticklabels(), rotation=30);"
   ]
  },
  {
   "cell_type": "markdown",
   "metadata": {},
   "source": [
    "### Plot cost metric"
   ]
  },
  {
   "cell_type": "code",
   "execution_count": 18,
   "metadata": {},
   "outputs": [
    {
     "name": "stderr",
     "output_type": "stream",
     "text": [
      "/var/folders/sm/spdh5zkx26v6vh_fk8w7p8456l6sp0/T/ipykernel_45099/1905123244.py:4: FutureWarning: Passing lists as key for xs is deprecated and will be removed in a future version. Pass key as a tuple instead.\n",
      "  data=scenario_results.xs(\n"
     ]
    },
    {
     "data": {
      "image/png": "[encoded data removed]",
      "text/plain": [
       "<Figure size 432x288 with 1 Axes>"
      ]
     },
     "metadata": {
      "needs_background": "light"
     },
     "output_type": "display_data"
    }
   ],
   "source": [
    "g = sb.boxplot(\n",
    "    x=\"Scenario\",\n",
    "    y=\"Value\",\n",
    "    data=scenario_results.xs(\n",
    "        [\"Metric\", \"Cost\"],\n",
    "        level=[\"Variable\", \"Index\"]\n",
    "    ).reset_index()[[\"Scenario\", \"Value\"]],\n",
    "    order=[\n",
    "        \"Base PV\"              ,\n",
    "        \"Slow Progress on PV\"      ,\n",
    "        \"Moderate Progress on PV\"  ,\n",
    "        \"Fast Progress on PV\"      ,\n",
    "    ]\n",
    ")\n",
    "g.set(ylabel=\"LCOE[USD / kWh]\")\n",
    "g.set_xticklabels(g.get_xticklabels(), rotation=30);"
   ]
  },
  {
   "cell_type": "markdown",
   "metadata": {},
   "source": [
    "### Evaluate the investments in the dataset."
   ]
  },
  {
   "cell_type": "code",
   "execution_count": 19,
   "metadata": {},
   "outputs": [
    {
     "name": "stderr",
     "output_type": "stream",
     "text": [
      "/Users/tghosh/Library/CloudStorage/OneDrive-NREL/work_NREL/tyche/src/tyche/Investments.py:148: FutureWarning: Using the level keyword in DataFrame and Series aggregations is deprecated and will be removed in a future version. Use groupby instead. df.sum(level=1) should use df.groupby(level=1).sum().\n",
      "  amounts = self.compiled_tranches.drop(\n",
      "/Users/tghosh/miniconda3/envs/tyche/lib/python3.8/site-packages/numpy/core/fromnumeric.py:86: RuntimeWarning: overflow encountered in reduce\n",
      "  return ufunc.reduce(obj, axis, dtype, out, **passkwargs)\n",
      "/Users/tghosh/miniconda3/envs/tyche/lib/python3.8/site-packages/numpy/core/fromnumeric.py:86: VisibleDeprecationWarning: Creating an ndarray from ragged nested sequences (which is a list-or-tuple of lists-or-tuples-or ndarrays with different lengths or shapes) is deprecated. If you meant to do this, you must specify 'dtype=object' when creating the ndarray.\n",
      "  return ufunc.reduce(obj, axis, dtype, out, **passkwargs)\n",
      "/Users/tghosh/Library/CloudStorage/OneDrive-NREL/work_NREL/tyche/src/tyche/Designs.py:393: FutureWarning: The frame.append method is deprecated and will be removed from pandas in a future version. Use pandas.concat instead.\n",
      "  costs   = costs.append(  result.cost  )\n",
      "/Users/tghosh/Library/CloudStorage/OneDrive-NREL/work_NREL/tyche/src/tyche/Designs.py:394: FutureWarning: The frame.append method is deprecated and will be removed from pandas in a future version. Use pandas.concat instead.\n",
      "  outputs = outputs.append(result.output)\n",
      "/Users/tghosh/Library/CloudStorage/OneDrive-NREL/work_NREL/tyche/src/tyche/Designs.py:395: FutureWarning: The frame.append method is deprecated and will be removed from pandas in a future version. Use pandas.concat instead.\n",
      "  metrics = metrics.append(result.metric)\n",
      "/Users/tghosh/Library/CloudStorage/OneDrive-NREL/work_NREL/tyche/src/tyche/Designs.py:408: FutureWarning: The frame.append method is deprecated and will be removed from pandas in a future version. Use pandas.concat instead.\n",
      "  return organize(\"Cost\", costs).append(\n",
      "/Users/tghosh/Library/CloudStorage/OneDrive-NREL/work_NREL/tyche/src/tyche/Designs.py:408: FutureWarning: The frame.append method is deprecated and will be removed from pandas in a future version. Use pandas.concat instead.\n",
      "  return organize(\"Cost\", costs).append(\n",
      "/Users/tghosh/Library/CloudStorage/OneDrive-NREL/work_NREL/tyche/src/tyche/Investments.py:164: FutureWarning: Using the level keyword in DataFrame and Series aggregations is deprecated and will be removed in a future version. Use groupby instead. df.sum(level=1) should use df.groupby(level=1).sum().\n",
      "  summary = metrics.set_index(\n",
      "/Users/tghosh/Library/CloudStorage/OneDrive-NREL/work_NREL/tyche/src/tyche/Investments.py:214: FutureWarning: Using the level keyword in DataFrame and Series aggregations is deprecated and will be removed in a future version. Use groupby instead. df.sum(level=1) should use df.groupby(level=1).sum().\n",
      "  amounts = self.investments.drop(\n",
      "/Users/tghosh/miniconda3/envs/tyche/lib/python3.8/site-packages/numpy/core/fromnumeric.py:86: RuntimeWarning: overflow encountered in reduce\n",
      "  return ufunc.reduce(obj, axis, dtype, out, **passkwargs)\n"
     ]
    },
    {
     "name": "stdout",
     "output_type": "stream",
     "text": [
      "Evaluating Simple pv\n",
      "Evaluating Simple pv\n"
     ]
    },
    {
     "name": "stderr",
     "output_type": "stream",
     "text": [
      "/Users/tghosh/miniconda3/envs/tyche/lib/python3.8/site-packages/numpy/core/fromnumeric.py:86: VisibleDeprecationWarning: Creating an ndarray from ragged nested sequences (which is a list-or-tuple of lists-or-tuples-or ndarrays with different lengths or shapes) is deprecated. If you meant to do this, you must specify 'dtype=object' when creating the ndarray.\n",
      "  return ufunc.reduce(obj, axis, dtype, out, **passkwargs)\n",
      "/Users/tghosh/Library/CloudStorage/OneDrive-NREL/work_NREL/tyche/src/tyche/Designs.py:393: FutureWarning: The frame.append method is deprecated and will be removed from pandas in a future version. Use pandas.concat instead.\n",
      "  costs   = costs.append(  result.cost  )\n",
      "/Users/tghosh/Library/CloudStorage/OneDrive-NREL/work_NREL/tyche/src/tyche/Designs.py:394: FutureWarning: The frame.append method is deprecated and will be removed from pandas in a future version. Use pandas.concat instead.\n",
      "  outputs = outputs.append(result.output)\n",
      "/Users/tghosh/Library/CloudStorage/OneDrive-NREL/work_NREL/tyche/src/tyche/Designs.py:395: FutureWarning: The frame.append method is deprecated and will be removed from pandas in a future version. Use pandas.concat instead.\n",
      "  metrics = metrics.append(result.metric)\n",
      "/Users/tghosh/Library/CloudStorage/OneDrive-NREL/work_NREL/tyche/src/tyche/Designs.py:408: FutureWarning: The frame.append method is deprecated and will be removed from pandas in a future version. Use pandas.concat instead.\n",
      "  return organize(\"Cost\", costs).append(\n",
      "/Users/tghosh/Library/CloudStorage/OneDrive-NREL/work_NREL/tyche/src/tyche/Designs.py:408: FutureWarning: The frame.append method is deprecated and will be removed from pandas in a future version. Use pandas.concat instead.\n",
      "  return organize(\"Cost\", costs).append(\n",
      "/Users/tghosh/Library/CloudStorage/OneDrive-NREL/work_NREL/tyche/src/tyche/Investments.py:239: FutureWarning: Using the level keyword in DataFrame and Series aggregations is deprecated and will be removed in a future version. Use groupby instead. df.sum(level=1) should use df.groupby(level=1).sum().\n",
      "  summary = metrics.set_index(\n"
     ]
    }
   ],
   "source": [
    "investment_results = investments.evaluate_investments(designs, sample_count=50)"
   ]
  },
  {
   "cell_type": "markdown",
   "metadata": {},
   "source": [
    "### Cost of investments"
   ]
  },
  {
   "cell_type": "code",
   "execution_count": 20,
   "metadata": {},
   "outputs": [
    {
     "data": {
      "text/html": [
       "<div>\n",
       "<style scoped>\n",
       "    .dataframe tbody tr th:only-of-type {\n",
       "        vertical-align: middle;\n",
       "    }\n",
       "\n",
       "    .dataframe tbody tr th {\n",
       "        vertical-align: top;\n",
       "    }\n",
       "\n",
       "    .dataframe thead th {\n",
       "        text-align: right;\n",
       "    }\n",
       "</style>\n",
       "<table border=\"1\" class=\"dataframe\">\n",
       "  <thead>\n",
       "    <tr style=\"text-align: right;\">\n",
       "      <th></th>\n",
       "      <th>Amount</th>\n",
       "    </tr>\n",
       "    <tr>\n",
       "      <th>Investment</th>\n",
       "      <th></th>\n",
       "    </tr>\n",
       "  </thead>\n",
       "  <tbody>\n",
       "    <tr>\n",
       "      <th>High R&amp;D Spending</th>\n",
       "      <td>1000000.0</td>\n",
       "    </tr>\n",
       "    <tr>\n",
       "      <th>Low R&amp;D Spending</th>\n",
       "      <td>3000000.0</td>\n",
       "    </tr>\n",
       "    <tr>\n",
       "      <th>Medium R&amp;D Spending</th>\n",
       "      <td>4500000.0</td>\n",
       "    </tr>\n",
       "    <tr>\n",
       "      <th>No R&amp;D Spending</th>\n",
       "      <td>1500000.0</td>\n",
       "    </tr>\n",
       "  </tbody>\n",
       "</table>\n",
       "</div>"
      ],
      "text/plain": [
       "                        Amount\n",
       "Investment                    \n",
       "High R&D Spending    1000000.0\n",
       "Low R&D Spending     3000000.0\n",
       "Medium R&D Spending  4500000.0\n",
       "No R&D Spending      1500000.0"
      ]
     },
     "execution_count": 20,
     "metadata": {},
     "output_type": "execute_result"
    }
   ],
   "source": [
    "investment_results.amounts"
   ]
  },
  {
   "cell_type": "markdown",
   "metadata": {},
   "source": [
    "### Benefits of investments"
   ]
  },
  {
   "cell_type": "code",
   "execution_count": 21,
   "metadata": {},
   "outputs": [
    {
     "data": {
      "text/html": [
       "<div>\n",
       "<style scoped>\n",
       "    .dataframe tbody tr th:only-of-type {\n",
       "        vertical-align: middle;\n",
       "    }\n",
       "\n",
       "    .dataframe tbody tr th {\n",
       "        vertical-align: top;\n",
       "    }\n",
       "\n",
       "    .dataframe thead th {\n",
       "        text-align: right;\n",
       "    }\n",
       "</style>\n",
       "<table border=\"1\" class=\"dataframe\">\n",
       "  <thead>\n",
       "    <tr style=\"text-align: right;\">\n",
       "      <th></th>\n",
       "      <th></th>\n",
       "      <th></th>\n",
       "      <th></th>\n",
       "      <th></th>\n",
       "      <th></th>\n",
       "      <th></th>\n",
       "      <th>Value</th>\n",
       "      <th>Units</th>\n",
       "    </tr>\n",
       "    <tr>\n",
       "      <th>Investment</th>\n",
       "      <th>Category</th>\n",
       "      <th>Tranche</th>\n",
       "      <th>Scenario</th>\n",
       "      <th>Sample</th>\n",
       "      <th>Technology</th>\n",
       "      <th>Index</th>\n",
       "      <th></th>\n",
       "      <th></th>\n",
       "    </tr>\n",
       "  </thead>\n",
       "  <tbody>\n",
       "    <tr>\n",
       "      <th rowspan=\"2\" valign=\"top\">No R&amp;D Spending</th>\n",
       "      <th rowspan=\"2\" valign=\"top\">PV R&amp;D</th>\n",
       "      <th rowspan=\"2\" valign=\"top\">No PV R&amp;D</th>\n",
       "      <th rowspan=\"2\" valign=\"top\">Base PV</th>\n",
       "      <th rowspan=\"2\" valign=\"top\">1</th>\n",
       "      <th rowspan=\"2\" valign=\"top\">Simple pv</th>\n",
       "      <th>GHG</th>\n",
       "      <td>4.508260e+06</td>\n",
       "      <td>gCO2e/module</td>\n",
       "    </tr>\n",
       "    <tr>\n",
       "      <th>LCOE</th>\n",
       "      <td>5.571021e+00</td>\n",
       "      <td>USD/kWh</td>\n",
       "    </tr>\n",
       "    <tr>\n",
       "      <th rowspan=\"2\" valign=\"top\">High R&amp;D Spending</th>\n",
       "      <th rowspan=\"2\" valign=\"top\">PV R&amp;D</th>\n",
       "      <th rowspan=\"2\" valign=\"top\">High PV R&amp;D</th>\n",
       "      <th rowspan=\"2\" valign=\"top\">Fast Progress on PV</th>\n",
       "      <th rowspan=\"2\" valign=\"top\">1</th>\n",
       "      <th rowspan=\"2\" valign=\"top\">Simple pv</th>\n",
       "      <th>GHG</th>\n",
       "      <td>4.508260e+06</td>\n",
       "      <td>gCO2e/module</td>\n",
       "    </tr>\n",
       "    <tr>\n",
       "      <th>LCOE</th>\n",
       "      <td>5.571021e+00</td>\n",
       "      <td>USD/kWh</td>\n",
       "    </tr>\n",
       "    <tr>\n",
       "      <th rowspan=\"2\" valign=\"top\">Medium R&amp;D Spending</th>\n",
       "      <th rowspan=\"2\" valign=\"top\">PV R&amp;D</th>\n",
       "      <th rowspan=\"2\" valign=\"top\">Medium PV R&amp;D</th>\n",
       "      <th rowspan=\"2\" valign=\"top\">Moderate Progress on PV</th>\n",
       "      <th rowspan=\"2\" valign=\"top\">1</th>\n",
       "      <th rowspan=\"2\" valign=\"top\">Simple pv</th>\n",
       "      <th>GHG</th>\n",
       "      <td>4.508260e+06</td>\n",
       "      <td>gCO2e/module</td>\n",
       "    </tr>\n",
       "    <tr>\n",
       "      <th>LCOE</th>\n",
       "      <td>5.571021e+00</td>\n",
       "      <td>USD/kWh</td>\n",
       "    </tr>\n",
       "    <tr>\n",
       "      <th rowspan=\"2\" valign=\"top\">Low R&amp;D Spending</th>\n",
       "      <th rowspan=\"2\" valign=\"top\">PV R&amp;D</th>\n",
       "      <th rowspan=\"2\" valign=\"top\">Low PV R&amp;D</th>\n",
       "      <th rowspan=\"2\" valign=\"top\">Slow Progress on PV</th>\n",
       "      <th rowspan=\"2\" valign=\"top\">1</th>\n",
       "      <th rowspan=\"2\" valign=\"top\">Simple pv</th>\n",
       "      <th>GHG</th>\n",
       "      <td>4.508260e+06</td>\n",
       "      <td>gCO2e/module</td>\n",
       "    </tr>\n",
       "    <tr>\n",
       "      <th>LCOE</th>\n",
       "      <td>5.571021e+00</td>\n",
       "      <td>USD/kWh</td>\n",
       "    </tr>\n",
       "  </tbody>\n",
       "</table>\n",
       "</div>"
      ],
      "text/plain": [
       "                                                                                                   Value  \\\n",
       "Investment          Category Tranche       Scenario                Sample Technology Index                 \n",
       "No R&D Spending     PV R&D   No PV R&D     Base PV                 1      Simple pv  GHG    4.508260e+06   \n",
       "                                                                                     LCOE   5.571021e+00   \n",
       "High R&D Spending   PV R&D   High PV R&D   Fast Progress on PV     1      Simple pv  GHG    4.508260e+06   \n",
       "                                                                                     LCOE   5.571021e+00   \n",
       "Medium R&D Spending PV R&D   Medium PV R&D Moderate Progress on PV 1      Simple pv  GHG    4.508260e+06   \n",
       "                                                                                     LCOE   5.571021e+00   \n",
       "Low R&D Spending    PV R&D   Low PV R&D    Slow Progress on PV     1      Simple pv  GHG    4.508260e+06   \n",
       "                                                                                     LCOE   5.571021e+00   \n",
       "\n",
       "                                                                                                   Units  \n",
       "Investment          Category Tranche       Scenario                Sample Technology Index                \n",
       "No R&D Spending     PV R&D   No PV R&D     Base PV                 1      Simple pv  GHG    gCO2e/module  \n",
       "                                                                                     LCOE        USD/kWh  \n",
       "High R&D Spending   PV R&D   High PV R&D   Fast Progress on PV     1      Simple pv  GHG    gCO2e/module  \n",
       "                                                                                     LCOE        USD/kWh  \n",
       "Medium R&D Spending PV R&D   Medium PV R&D Moderate Progress on PV 1      Simple pv  GHG    gCO2e/module  \n",
       "                                                                                     LCOE        USD/kWh  \n",
       "Low R&D Spending    PV R&D   Low PV R&D    Slow Progress on PV     1      Simple pv  GHG    gCO2e/module  \n",
       "                                                                                     LCOE        USD/kWh  "
      ]
     },
     "execution_count": 21,
     "metadata": {},
     "output_type": "execute_result"
    }
   ],
   "source": [
    "investment_results.metrics.xs(1, level=\"Sample\", drop_level=False)"
   ]
  },
  {
   "cell_type": "code",
   "execution_count": 22,
   "metadata": {},
   "outputs": [
    {
     "data": {
      "text/html": [
       "<div>\n",
       "<style scoped>\n",
       "    .dataframe tbody tr th:only-of-type {\n",
       "        vertical-align: middle;\n",
       "    }\n",
       "\n",
       "    .dataframe tbody tr th {\n",
       "        vertical-align: top;\n",
       "    }\n",
       "\n",
       "    .dataframe thead th {\n",
       "        text-align: right;\n",
       "    }\n",
       "</style>\n",
       "<table border=\"1\" class=\"dataframe\">\n",
       "  <thead>\n",
       "    <tr style=\"text-align: right;\">\n",
       "      <th></th>\n",
       "      <th></th>\n",
       "      <th></th>\n",
       "      <th></th>\n",
       "      <th>Value</th>\n",
       "      <th>Units</th>\n",
       "    </tr>\n",
       "    <tr>\n",
       "      <th>Investment</th>\n",
       "      <th>Technology</th>\n",
       "      <th>Sample</th>\n",
       "      <th>Index</th>\n",
       "      <th></th>\n",
       "      <th></th>\n",
       "    </tr>\n",
       "  </thead>\n",
       "  <tbody>\n",
       "    <tr>\n",
       "      <th rowspan=\"2\" valign=\"top\">No R&amp;D Spending</th>\n",
       "      <th rowspan=\"2\" valign=\"top\">Simple pv</th>\n",
       "      <th rowspan=\"2\" valign=\"top\">1</th>\n",
       "      <th>GHG</th>\n",
       "      <td>4.508260e+06</td>\n",
       "      <td>gCO2e/module</td>\n",
       "    </tr>\n",
       "    <tr>\n",
       "      <th>LCOE</th>\n",
       "      <td>5.571021e+00</td>\n",
       "      <td>USD/kWh</td>\n",
       "    </tr>\n",
       "    <tr>\n",
       "      <th rowspan=\"2\" valign=\"top\">High R&amp;D Spending</th>\n",
       "      <th rowspan=\"2\" valign=\"top\">Simple pv</th>\n",
       "      <th rowspan=\"2\" valign=\"top\">1</th>\n",
       "      <th>GHG</th>\n",
       "      <td>4.508260e+06</td>\n",
       "      <td>gCO2e/module</td>\n",
       "    </tr>\n",
       "    <tr>\n",
       "      <th>LCOE</th>\n",
       "      <td>5.571021e+00</td>\n",
       "      <td>USD/kWh</td>\n",
       "    </tr>\n",
       "    <tr>\n",
       "      <th rowspan=\"2\" valign=\"top\">Medium R&amp;D Spending</th>\n",
       "      <th rowspan=\"2\" valign=\"top\">Simple pv</th>\n",
       "      <th rowspan=\"2\" valign=\"top\">1</th>\n",
       "      <th>GHG</th>\n",
       "      <td>4.508260e+06</td>\n",
       "      <td>gCO2e/module</td>\n",
       "    </tr>\n",
       "    <tr>\n",
       "      <th>LCOE</th>\n",
       "      <td>5.571021e+00</td>\n",
       "      <td>USD/kWh</td>\n",
       "    </tr>\n",
       "    <tr>\n",
       "      <th rowspan=\"2\" valign=\"top\">Low R&amp;D Spending</th>\n",
       "      <th rowspan=\"2\" valign=\"top\">Simple pv</th>\n",
       "      <th rowspan=\"2\" valign=\"top\">1</th>\n",
       "      <th>GHG</th>\n",
       "      <td>4.508260e+06</td>\n",
       "      <td>gCO2e/module</td>\n",
       "    </tr>\n",
       "    <tr>\n",
       "      <th>LCOE</th>\n",
       "      <td>5.571021e+00</td>\n",
       "      <td>USD/kWh</td>\n",
       "    </tr>\n",
       "  </tbody>\n",
       "</table>\n",
       "</div>"
      ],
      "text/plain": [
       "                                                    Value         Units\n",
       "Investment          Technology Sample Index                            \n",
       "No R&D Spending     Simple pv  1      GHG    4.508260e+06  gCO2e/module\n",
       "                                      LCOE   5.571021e+00       USD/kWh\n",
       "High R&D Spending   Simple pv  1      GHG    4.508260e+06  gCO2e/module\n",
       "                                      LCOE   5.571021e+00       USD/kWh\n",
       "Medium R&D Spending Simple pv  1      GHG    4.508260e+06  gCO2e/module\n",
       "                                      LCOE   5.571021e+00       USD/kWh\n",
       "Low R&D Spending    Simple pv  1      GHG    4.508260e+06  gCO2e/module\n",
       "                                      LCOE   5.571021e+00       USD/kWh"
      ]
     },
     "execution_count": 22,
     "metadata": {},
     "output_type": "execute_result"
    }
   ],
   "source": [
    "investment_results.summary.xs(1, level=\"Sample\", drop_level=False)"
   ]
  },
  {
   "cell_type": "markdown",
   "metadata": {},
   "source": [
    "### Plot GHG metric"
   ]
  },
  {
   "cell_type": "code",
   "execution_count": 25,
   "metadata": {},
   "outputs": [
    {
     "data": {
      "image/png": "[encoded data removed]",
      "text/plain": [
       "<Figure size 432x288 with 1 Axes>"
      ]
     },
     "metadata": {
      "needs_background": "light"
     },
     "output_type": "display_data"
    }
   ],
   "source": [
    "g = sb.boxplot(\n",
    "    x=\"Investment\",\n",
    "    y=\"Value\",\n",
    "    data=investment_results.metrics.xs(\n",
    "        \"GHG\",\n",
    "        level=\"Index\"\n",
    "    ).groupby([\"Investment\", \"Sample\"]).aggregate(np.sum).reset_index()[[\"Investment\", \"Value\"]],\n",
    "    order=[\n",
    "        \"No R&D Spending\",\n",
    "        \"Low R&D Spending\"   ,\n",
    "        \"Medium R&D Spending\",\n",
    "        \"High R&D Spending\"  ,\n",
    "    ]\n",
    ")\n",
    "g.set(ylabel=\"GHG[gCO2e/system]\")\n",
    "g.set_xticklabels(g.get_xticklabels(), rotation=15);"
   ]
  },
  {
   "cell_type": "markdown",
   "metadata": {},
   "source": [
    "### Plot LCOE Metric"
   ]
  },
  {
   "cell_type": "code",
   "execution_count": 26,
   "metadata": {
    "scrolled": false
   },
   "outputs": [
    {
     "data": {
      "image/png": "[encoded data removed]",
      "text/plain": [
       "<Figure size 432x288 with 1 Axes>"
      ]
     },
     "metadata": {
      "needs_background": "light"
     },
     "output_type": "display_data"
    }
   ],
   "source": [
    "g = sb.boxplot(\n",
    "    x=\"Investment\",\n",
    "    y=\"Value\",\n",
    "    data=investment_results.metrics.xs(\n",
    "        \"LCOE\",\n",
    "        level=\"Index\"\n",
    "    ).groupby([\"Investment\", \"Sample\"]).aggregate(np.sum).reset_index()[[\"Investment\", \"Value\"]],\n",
    "    order=[\n",
    "        \"No R&D Spending\",\n",
    "        \"Low R&D Spending\"   ,\n",
    "        \"Medium R&D Spending\",\n",
    "        \"High R&D Spending\"  ,\n",
    "    ]\n",
    ")\n",
    "g.set(ylabel=\"LCOE[USD/kWh]\")\n",
    "g.set_xticklabels(g.get_xticklabels(), rotation=15);"
   ]
  },
  {
   "cell_type": "markdown",
   "metadata": {},
   "source": [
    "## Multi-objective decision analysis"
   ]
  },
  {
   "cell_type": "markdown",
   "metadata": {},
   "source": [
    "### Compute costs and metrics for tranches."
   ]
  },
  {
   "cell_type": "code",
   "execution_count": 27,
   "metadata": {
    "scrolled": true
   },
   "outputs": [
    {
     "name": "stdout",
     "output_type": "stream",
     "text": [
      "Evaluating Simple pv\n"
     ]
    },
    {
     "name": "stderr",
     "output_type": "stream",
     "text": [
      "/Users/tghosh/Library/CloudStorage/OneDrive-NREL/work_NREL/tyche/src/tyche/Investments.py:148: FutureWarning: Using the level keyword in DataFrame and Series aggregations is deprecated and will be removed in a future version. Use groupby instead. df.sum(level=1) should use df.groupby(level=1).sum().\n",
      "  amounts = self.compiled_tranches.drop(\n",
      "/Users/tghosh/miniconda3/envs/tyche/lib/python3.8/site-packages/numpy/core/fromnumeric.py:86: RuntimeWarning: overflow encountered in reduce\n",
      "  return ufunc.reduce(obj, axis, dtype, out, **passkwargs)\n",
      "/Users/tghosh/miniconda3/envs/tyche/lib/python3.8/site-packages/numpy/core/fromnumeric.py:86: VisibleDeprecationWarning: Creating an ndarray from ragged nested sequences (which is a list-or-tuple of lists-or-tuples-or ndarrays with different lengths or shapes) is deprecated. If you meant to do this, you must specify 'dtype=object' when creating the ndarray.\n",
      "  return ufunc.reduce(obj, axis, dtype, out, **passkwargs)\n",
      "/Users/tghosh/Library/CloudStorage/OneDrive-NREL/work_NREL/tyche/src/tyche/Designs.py:393: FutureWarning: The frame.append method is deprecated and will be removed from pandas in a future version. Use pandas.concat instead.\n",
      "  costs   = costs.append(  result.cost  )\n",
      "/Users/tghosh/Library/CloudStorage/OneDrive-NREL/work_NREL/tyche/src/tyche/Designs.py:394: FutureWarning: The frame.append method is deprecated and will be removed from pandas in a future version. Use pandas.concat instead.\n",
      "  outputs = outputs.append(result.output)\n",
      "/Users/tghosh/Library/CloudStorage/OneDrive-NREL/work_NREL/tyche/src/tyche/Designs.py:395: FutureWarning: The frame.append method is deprecated and will be removed from pandas in a future version. Use pandas.concat instead.\n",
      "  metrics = metrics.append(result.metric)\n",
      "/Users/tghosh/Library/CloudStorage/OneDrive-NREL/work_NREL/tyche/src/tyche/Designs.py:408: FutureWarning: The frame.append method is deprecated and will be removed from pandas in a future version. Use pandas.concat instead.\n",
      "  return organize(\"Cost\", costs).append(\n",
      "/Users/tghosh/Library/CloudStorage/OneDrive-NREL/work_NREL/tyche/src/tyche/Designs.py:408: FutureWarning: The frame.append method is deprecated and will be removed from pandas in a future version. Use pandas.concat instead.\n",
      "  return organize(\"Cost\", costs).append(\n",
      "/Users/tghosh/Library/CloudStorage/OneDrive-NREL/work_NREL/tyche/src/tyche/Investments.py:164: FutureWarning: Using the level keyword in DataFrame and Series aggregations is deprecated and will be removed in a future version. Use groupby instead. df.sum(level=1) should use df.groupby(level=1).sum().\n",
      "  summary = metrics.set_index(\n"
     ]
    }
   ],
   "source": [
    "tranche_results = investments.evaluate_tranches(designs, sample_count=50)"
   ]
  },
  {
   "cell_type": "markdown",
   "metadata": {},
   "source": [
    "### Display the cost of each tranche."
   ]
  },
  {
   "cell_type": "code",
   "execution_count": 28,
   "metadata": {
    "scrolled": true
   },
   "outputs": [
    {
     "data": {
      "text/html": [
       "<div>\n",
       "<style scoped>\n",
       "    .dataframe tbody tr th:only-of-type {\n",
       "        vertical-align: middle;\n",
       "    }\n",
       "\n",
       "    .dataframe tbody tr th {\n",
       "        vertical-align: top;\n",
       "    }\n",
       "\n",
       "    .dataframe thead th {\n",
       "        text-align: right;\n",
       "    }\n",
       "</style>\n",
       "<table border=\"1\" class=\"dataframe\">\n",
       "  <thead>\n",
       "    <tr style=\"text-align: right;\">\n",
       "      <th></th>\n",
       "      <th></th>\n",
       "      <th>Amount</th>\n",
       "    </tr>\n",
       "    <tr>\n",
       "      <th>Category</th>\n",
       "      <th>Tranche</th>\n",
       "      <th></th>\n",
       "    </tr>\n",
       "  </thead>\n",
       "  <tbody>\n",
       "    <tr>\n",
       "      <th rowspan=\"4\" valign=\"top\">PV R&amp;D</th>\n",
       "      <th>High PV R&amp;D</th>\n",
       "      <td>1000000.0</td>\n",
       "    </tr>\n",
       "    <tr>\n",
       "      <th>Low PV R&amp;D</th>\n",
       "      <td>3000000.0</td>\n",
       "    </tr>\n",
       "    <tr>\n",
       "      <th>Medium PV R&amp;D</th>\n",
       "      <td>4500000.0</td>\n",
       "    </tr>\n",
       "    <tr>\n",
       "      <th>No PV R&amp;D</th>\n",
       "      <td>1500000.0</td>\n",
       "    </tr>\n",
       "  </tbody>\n",
       "</table>\n",
       "</div>"
      ],
      "text/plain": [
       "                           Amount\n",
       "Category Tranche                 \n",
       "PV R&D   High PV R&D    1000000.0\n",
       "         Low PV R&D     3000000.0\n",
       "         Medium PV R&D  4500000.0\n",
       "         No PV R&D      1500000.0"
      ]
     },
     "execution_count": 28,
     "metadata": {},
     "output_type": "execute_result"
    }
   ],
   "source": [
    "tranche_results.amounts"
   ]
  },
  {
   "cell_type": "markdown",
   "metadata": {},
   "source": [
    "### Display the metrics for each tranche."
   ]
  },
  {
   "cell_type": "code",
   "execution_count": 29,
   "metadata": {
    "scrolled": false
   },
   "outputs": [
    {
     "data": {
      "text/html": [
       "<div>\n",
       "<style scoped>\n",
       "    .dataframe tbody tr th:only-of-type {\n",
       "        vertical-align: middle;\n",
       "    }\n",
       "\n",
       "    .dataframe tbody tr th {\n",
       "        vertical-align: top;\n",
       "    }\n",
       "\n",
       "    .dataframe thead th {\n",
       "        text-align: right;\n",
       "    }\n",
       "</style>\n",
       "<table border=\"1\" class=\"dataframe\">\n",
       "  <thead>\n",
       "    <tr style=\"text-align: right;\">\n",
       "      <th></th>\n",
       "      <th></th>\n",
       "      <th></th>\n",
       "      <th></th>\n",
       "      <th></th>\n",
       "      <th>Value</th>\n",
       "      <th>Units</th>\n",
       "    </tr>\n",
       "    <tr>\n",
       "      <th>Category</th>\n",
       "      <th>Technology</th>\n",
       "      <th>Tranche</th>\n",
       "      <th>Sample</th>\n",
       "      <th>Index</th>\n",
       "      <th></th>\n",
       "      <th></th>\n",
       "    </tr>\n",
       "  </thead>\n",
       "  <tbody>\n",
       "    <tr>\n",
       "      <th rowspan=\"11\" valign=\"top\">PV R&amp;D</th>\n",
       "      <th rowspan=\"11\" valign=\"top\">Simple pv</th>\n",
       "      <th rowspan=\"5\" valign=\"top\">No PV R&amp;D</th>\n",
       "      <th rowspan=\"2\" valign=\"top\">1</th>\n",
       "      <th>GHG</th>\n",
       "      <td>4.508260e+06</td>\n",
       "      <td>gCO2e/module</td>\n",
       "    </tr>\n",
       "    <tr>\n",
       "      <th>LCOE</th>\n",
       "      <td>5.571021e+00</td>\n",
       "      <td>USD/kWh</td>\n",
       "    </tr>\n",
       "    <tr>\n",
       "      <th rowspan=\"2\" valign=\"top\">2</th>\n",
       "      <th>GHG</th>\n",
       "      <td>4.508260e+06</td>\n",
       "      <td>gCO2e/module</td>\n",
       "    </tr>\n",
       "    <tr>\n",
       "      <th>LCOE</th>\n",
       "      <td>5.571021e+00</td>\n",
       "      <td>USD/kWh</td>\n",
       "    </tr>\n",
       "    <tr>\n",
       "      <th>3</th>\n",
       "      <th>GHG</th>\n",
       "      <td>4.508260e+06</td>\n",
       "      <td>gCO2e/module</td>\n",
       "    </tr>\n",
       "    <tr>\n",
       "      <th>...</th>\n",
       "      <th>...</th>\n",
       "      <th>...</th>\n",
       "      <td>...</td>\n",
       "      <td>...</td>\n",
       "    </tr>\n",
       "    <tr>\n",
       "      <th rowspan=\"5\" valign=\"top\">Low PV R&amp;D</th>\n",
       "      <th>48</th>\n",
       "      <th>LCOE</th>\n",
       "      <td>5.571021e+00</td>\n",
       "      <td>USD/kWh</td>\n",
       "    </tr>\n",
       "    <tr>\n",
       "      <th rowspan=\"2\" valign=\"top\">49</th>\n",
       "      <th>GHG</th>\n",
       "      <td>4.508260e+06</td>\n",
       "      <td>gCO2e/module</td>\n",
       "    </tr>\n",
       "    <tr>\n",
       "      <th>LCOE</th>\n",
       "      <td>5.571021e+00</td>\n",
       "      <td>USD/kWh</td>\n",
       "    </tr>\n",
       "    <tr>\n",
       "      <th rowspan=\"2\" valign=\"top\">50</th>\n",
       "      <th>GHG</th>\n",
       "      <td>4.508260e+06</td>\n",
       "      <td>gCO2e/module</td>\n",
       "    </tr>\n",
       "    <tr>\n",
       "      <th>LCOE</th>\n",
       "      <td>5.571021e+00</td>\n",
       "      <td>USD/kWh</td>\n",
       "    </tr>\n",
       "  </tbody>\n",
       "</table>\n",
       "<p>400 rows × 2 columns</p>\n",
       "</div>"
      ],
      "text/plain": [
       "                                                    Value         Units\n",
       "Category Technology Tranche    Sample Index                            \n",
       "PV R&D   Simple pv  No PV R&D  1      GHG    4.508260e+06  gCO2e/module\n",
       "                                      LCOE   5.571021e+00       USD/kWh\n",
       "                               2      GHG    4.508260e+06  gCO2e/module\n",
       "                                      LCOE   5.571021e+00       USD/kWh\n",
       "                               3      GHG    4.508260e+06  gCO2e/module\n",
       "...                                                   ...           ...\n",
       "                    Low PV R&D 48     LCOE   5.571021e+00       USD/kWh\n",
       "                               49     GHG    4.508260e+06  gCO2e/module\n",
       "                                      LCOE   5.571021e+00       USD/kWh\n",
       "                               50     GHG    4.508260e+06  gCO2e/module\n",
       "                                      LCOE   5.571021e+00       USD/kWh\n",
       "\n",
       "[400 rows x 2 columns]"
      ]
     },
     "execution_count": 29,
     "metadata": {},
     "output_type": "execute_result"
    }
   ],
   "source": [
    "tranche_results.summary"
   ]
  },
  {
   "cell_type": "markdown",
   "metadata": {},
   "source": [
    "### Fit a response surface to the results.¶"
   ]
  },
  {
   "cell_type": "markdown",
   "metadata": {},
   "source": [
    "The response surface interpolates between the discrete set of cases provided in the expert elicitation. This allows us to study funding levels intermediate between those scenarios."
   ]
  },
  {
   "cell_type": "code",
   "execution_count": 30,
   "metadata": {},
   "outputs": [],
   "source": [
    "evaluator = ty.Evaluator(tranche_results)"
   ]
  },
  {
   "cell_type": "markdown",
   "metadata": {},
   "source": [
    "Here are the categories of investment and the maximum amount that could be invested in each:"
   ]
  },
  {
   "cell_type": "code",
   "execution_count": 31,
   "metadata": {
    "scrolled": false
   },
   "outputs": [
    {
     "data": {
      "text/html": [
       "<div>\n",
       "<style scoped>\n",
       "    .dataframe tbody tr th:only-of-type {\n",
       "        vertical-align: middle;\n",
       "    }\n",
       "\n",
       "    .dataframe tbody tr th {\n",
       "        vertical-align: top;\n",
       "    }\n",
       "\n",
       "    .dataframe thead th {\n",
       "        text-align: right;\n",
       "    }\n",
       "</style>\n",
       "<table border=\"1\" class=\"dataframe\">\n",
       "  <thead>\n",
       "    <tr style=\"text-align: right;\">\n",
       "      <th></th>\n",
       "      <th>Amount</th>\n",
       "    </tr>\n",
       "    <tr>\n",
       "      <th>Category</th>\n",
       "      <th></th>\n",
       "    </tr>\n",
       "  </thead>\n",
       "  <tbody>\n",
       "    <tr>\n",
       "      <th>PV R&amp;D</th>\n",
       "      <td>4500000.0</td>\n",
       "    </tr>\n",
       "  </tbody>\n",
       "</table>\n",
       "</div>"
      ],
      "text/plain": [
       "             Amount\n",
       "Category           \n",
       "PV R&D    4500000.0"
      ]
     },
     "execution_count": 31,
     "metadata": {},
     "output_type": "execute_result"
    }
   ],
   "source": [
    "evaluator.max_amount"
   ]
  },
  {
   "cell_type": "code",
   "execution_count": 32,
   "metadata": {},
   "outputs": [
    {
     "data": {
      "text/html": [
       "<div>\n",
       "<style scoped>\n",
       "    .dataframe tbody tr th:only-of-type {\n",
       "        vertical-align: middle;\n",
       "    }\n",
       "\n",
       "    .dataframe tbody tr th {\n",
       "        vertical-align: top;\n",
       "    }\n",
       "\n",
       "    .dataframe thead th {\n",
       "        text-align: right;\n",
       "    }\n",
       "</style>\n",
       "<table border=\"1\" class=\"dataframe\">\n",
       "  <thead>\n",
       "    <tr style=\"text-align: right;\">\n",
       "      <th></th>\n",
       "      <th>Units</th>\n",
       "    </tr>\n",
       "    <tr>\n",
       "      <th>Index</th>\n",
       "      <th></th>\n",
       "    </tr>\n",
       "  </thead>\n",
       "  <tbody>\n",
       "    <tr>\n",
       "      <th>GHG</th>\n",
       "      <td>gCO2e/module</td>\n",
       "    </tr>\n",
       "    <tr>\n",
       "      <th>LCOE</th>\n",
       "      <td>USD/kWh</td>\n",
       "    </tr>\n",
       "  </tbody>\n",
       "</table>\n",
       "</div>"
      ],
      "text/plain": [
       "              Units\n",
       "Index              \n",
       "GHG    gCO2e/module\n",
       "LCOE        USD/kWh"
      ]
     },
     "execution_count": 32,
     "metadata": {},
     "output_type": "execute_result"
    }
   ],
   "source": [
    "evaluator.units"
   ]
  },
  {
   "cell_type": "markdown",
   "metadata": {},
   "source": [
    "### Example interpolation.\n",
    "#### Let's evaluate the case where each category is invested in at half of its maximum amount."
   ]
  },
  {
   "cell_type": "code",
   "execution_count": 33,
   "metadata": {},
   "outputs": [
    {
     "data": {
      "text/html": [
       "<div>\n",
       "<style scoped>\n",
       "    .dataframe tbody tr th:only-of-type {\n",
       "        vertical-align: middle;\n",
       "    }\n",
       "\n",
       "    .dataframe tbody tr th {\n",
       "        vertical-align: top;\n",
       "    }\n",
       "\n",
       "    .dataframe thead th {\n",
       "        text-align: right;\n",
       "    }\n",
       "</style>\n",
       "<table border=\"1\" class=\"dataframe\">\n",
       "  <thead>\n",
       "    <tr style=\"text-align: right;\">\n",
       "      <th></th>\n",
       "      <th>Amount</th>\n",
       "    </tr>\n",
       "    <tr>\n",
       "      <th>Category</th>\n",
       "      <th></th>\n",
       "    </tr>\n",
       "  </thead>\n",
       "  <tbody>\n",
       "    <tr>\n",
       "      <th>PV R&amp;D</th>\n",
       "      <td>2250000.0</td>\n",
       "    </tr>\n",
       "  </tbody>\n",
       "</table>\n",
       "</div>"
      ],
      "text/plain": [
       "             Amount\n",
       "Category           \n",
       "PV R&D    2250000.0"
      ]
     },
     "execution_count": 33,
     "metadata": {},
     "output_type": "execute_result"
    }
   ],
   "source": [
    "example_investments = evaluator.max_amount / 2\n",
    "example_investments"
   ]
  },
  {
   "cell_type": "code",
   "execution_count": 34,
   "metadata": {},
   "outputs": [
    {
     "data": {
      "text/plain": [
       "Category  Index  Sample\n",
       "PV R&D    GHG    1              4508260.416\n",
       "                 2              4508260.416\n",
       "                 3              4508260.416\n",
       "                 4              4508260.416\n",
       "                 5              4508260.416\n",
       "                                 ...       \n",
       "          LCOE   46        5.57102113458035\n",
       "                 47        5.57102113458035\n",
       "                 48        5.57102113458035\n",
       "                 49        5.57102113458035\n",
       "                 50        5.57102113458035\n",
       "Name: Value, Length: 100, dtype: object"
      ]
     },
     "execution_count": 34,
     "metadata": {},
     "output_type": "execute_result"
    }
   ],
   "source": [
    "evaluator.evaluate(example_investments)"
   ]
  },
  {
   "cell_type": "code",
   "execution_count": 35,
   "metadata": {},
   "outputs": [
    {
     "data": {
      "text/plain": [
       "Index\n",
       "GHG     4.508260e+06\n",
       "LCOE    5.571021e+00\n",
       "Name: Value, dtype: float64"
      ]
     },
     "execution_count": 35,
     "metadata": {},
     "output_type": "execute_result"
    }
   ],
   "source": [
    "evaluator.evaluate_statistic(example_investments, np.mean)"
   ]
  },
  {
   "cell_type": "code",
   "execution_count": 36,
   "metadata": {},
   "outputs": [
    {
     "data": {
      "text/plain": [
       "Index\n",
       "GHG     0.0\n",
       "LCOE    0.0\n",
       "Name: Value, dtype: float64"
      ]
     },
     "execution_count": 36,
     "metadata": {},
     "output_type": "execute_result"
    }
   ],
   "source": [
    "evaluator.evaluate_statistic(example_investments, np.std)"
   ]
  },
  {
   "cell_type": "code",
   "execution_count": 37,
   "metadata": {
    "scrolled": true
   },
   "outputs": [
    {
     "data": {
      "text/plain": [
       "Index\n",
       "GHG     4.508260e+06\n",
       "LCOE    5.571021e+00\n",
       "Name: Value, dtype: float64"
      ]
     },
     "execution_count": 37,
     "metadata": {},
     "output_type": "execute_result"
    }
   ],
   "source": [
    "evaluator.evaluate_statistic(example_investments, lambda x: np.quantile(x, 0.1))"
   ]
  },
  {
   "cell_type": "markdown",
   "metadata": {},
   "source": [
    "### ε-Constraint multiobjective optimization"
   ]
  },
  {
   "cell_type": "markdown",
   "metadata": {},
   "source": [
    "### Example optimization.\n",
    "\n",
    "#### Limit spending to $3M."
   ]
  },
  {
   "cell_type": "code",
   "execution_count": 41,
   "metadata": {},
   "outputs": [],
   "source": [
    "investment_max = 3e6"
   ]
  },
  {
   "cell_type": "code",
   "execution_count": 42,
   "metadata": {},
   "outputs": [],
   "source": [
    "optimizer = ty.EpsilonConstraintOptimizer(evaluator)"
   ]
  },
  {
   "cell_type": "markdown",
   "metadata": {},
   "source": [
    "### Require that the GHG reduction be at least 40 gCO2e/system and that the Labor wages not decrease."
   ]
  },
  {
   "cell_type": "code",
   "execution_count": 43,
   "metadata": {},
   "outputs": [],
   "source": [
    "metric_min = pd.Series([40, 0], name = \"Value\", index = [\"GHG\", \"Labor\"])"
   ]
  },
  {
   "cell_type": "markdown",
   "metadata": {},
   "source": [
    "### Compute the ε-constrained maximum for the LCOE."
   ]
  },
  {
   "cell_type": "code",
   "execution_count": 45,
   "metadata": {},
   "outputs": [
    {
     "data": {
      "text/plain": [
       "'Optimization terminated successfully'"
      ]
     },
     "execution_count": 45,
     "metadata": {},
     "output_type": "execute_result"
    }
   ],
   "source": [
    "optimum = optimizer.opt_slsqp(\n",
    "    \"LCOE\"                       ,\n",
    "    sense = 'max',\n",
    "    total_amount = investment_max,\n",
    "    statistic    = np.mean       ,\n",
    ")\n",
    "optimum.exit_message"
   ]
  },
  {
   "cell_type": "code",
   "execution_count": 46,
   "metadata": {},
   "outputs": [
    {
     "data": {
      "text/plain": [
       "Category\n",
       "PV R&D    450000.0\n",
       "Name: Amount, dtype: float64"
      ]
     },
     "execution_count": 46,
     "metadata": {},
     "output_type": "execute_result"
    }
   ],
   "source": [
    "np.round(optimum.amounts)"
   ]
  },
  {
   "cell_type": "code",
   "execution_count": 47,
   "metadata": {},
   "outputs": [
    {
     "data": {
      "text/plain": [
       "Index\n",
       "GHG           4508260.416\n",
       "LCOE    5.571021134580351\n",
       "Name: Value, dtype: object"
      ]
     },
     "execution_count": 47,
     "metadata": {},
     "output_type": "execute_result"
    }
   ],
   "source": [
    "optimum.metrics"
   ]
  },
  {
   "cell_type": "code",
   "execution_count": 48,
   "metadata": {},
   "outputs": [
    {
     "data": {
      "text/plain": [
       "Category\n",
       "PV R&D    450000.0\n",
       "Name: Amount, dtype: float64"
      ]
     },
     "execution_count": 48,
     "metadata": {},
     "output_type": "execute_result"
    }
   ],
   "source": [
    "np.round(optimum.amounts)"
   ]
  },
  {
   "cell_type": "code",
   "execution_count": 49,
   "metadata": {},
   "outputs": [
    {
     "data": {
      "text/plain": [
       "Index\n",
       "GHG           4508260.416\n",
       "LCOE    5.571021134580351\n",
       "Name: Value, dtype: object"
      ]
     },
     "execution_count": 49,
     "metadata": {},
     "output_type": "execute_result"
    }
   ],
   "source": [
    "optimum.metrics"
   ]
  }
 ],
 "metadata": {
  "kernelspec": {
   "display_name": "Python 3 (ipykernel)",
   "language": "python",
   "name": "python3"
  },
  "language_info": {
   "codemirror_mode": {
    "name": "ipython",
    "version": 3
   },
   "file_extension": ".py",
   "mimetype": "text/x-python",
   "name": "python",
   "nbconvert_exporter": "python",
   "pygments_lexer": "ipython3",
   "version": "3.8.13"
  }
 },
 "nbformat": 4,
 "nbformat_minor": 2
}
