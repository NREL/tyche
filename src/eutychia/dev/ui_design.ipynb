{
 "cells": [
  {
   "cell_type": "markdown",
   "metadata": {},
   "source": [
    "# Multiple Objectives for Residential PV"
   ]
  },
  {
   "cell_type": "markdown",
   "metadata": {},
   "source": [
    "## Set up."
   ]
  },
  {
   "cell_type": "markdown",
   "metadata": {},
   "source": [
    "### Import packages."
   ]
  },
  {
   "cell_type": "code",
   "execution_count": null,
   "metadata": {},
   "outputs": [],
   "source": [
    "import os\n",
    "import sys\n",
    "sys.path.insert(0, os.path.abspath(\"../..\"))"
   ]
  },
  {
   "cell_type": "code",
   "execution_count": null,
   "metadata": {},
   "outputs": [],
   "source": [
    "import numpy             as np\n",
    "import matplotlib.pyplot as pl\n",
    "import pandas            as pd\n",
    "import seaborn           as sb\n",
    "import tyche             as ty"
   ]
  },
  {
   "cell_type": "code",
   "execution_count": null,
   "metadata": {},
   "outputs": [],
   "source": [
    "print(sb.__version__)"
   ]
  },
  {
   "source": [
    "# Seaborn Examples"
   ],
   "cell_type": "markdown",
   "metadata": {}
  },
  {
   "cell_type": "code",
   "execution_count": null,
   "metadata": {},
   "outputs": [],
   "source": [
    "tips = sb.load_dataset(\"tips\")\n",
    "sb.violinplot(data=tips, x=\"day\", y=\"total_bill\")"
   ]
  },
  {
   "cell_type": "code",
   "execution_count": null,
   "metadata": {},
   "outputs": [],
   "source": [
    "# (fig,axes) = pl.subplots(1,3,sharey=True,figsize=(6,2))\n",
    "\n",
    "penguins = sb.load_dataset(\"penguins\")\n",
    "# sb.displot(penguins, x=\"flipper_length_mm\")\n",
    "# sb.displot(penguins, x=\"flipper_length_mm\", hue=\"species\", stat=\"probability\")\n",
    "# sb.displot(penguins, x=\"flipper_length_mm\", hue=\"species\", kind=\"kde\")\n",
    "sb.displot(penguins, x=\"flipper_length_mm\", hue=\"species\", kind=\"hist\", multiple=\"stack\")\n",
    "# sb.displot(penguins, x=\"flipper_length_mm\", hue=\"species\", kind=\"hist\", multiple=\"stack\")\n",
    "# penguins"
   ]
  },
  {
   "cell_type": "markdown",
   "metadata": {},
   "source": [
    "## Prepare data."
   ]
  },
  {
   "cell_type": "code",
   "execution_count": null,
   "metadata": {},
   "outputs": [],
   "source": [
    "# Prepare data.\n",
    "# The data are stored in a set of tab-separated value files in a folder.\n",
    "# Compile the production and metric functions for each technology in the dataset.\n",
    "designs = ty.Designs(\"../../../data/residential_pv_multiobjective\")\n",
    "investments = ty.Investments(\"../../../data/residential_pv_multiobjective\")\n",
    "designs.compile()\n",
    "\n",
    "# Multi-objective decision analysis.\n",
    "\n",
    "# Compute costs and metrics for tranches.\n",
    "# Tranches are atomic units for building investment portfolios. Evaluate all of the tranches,\n",
    "# so we can assemble them into investments (portfolios).\n",
    "tranche_results = investments.evaluate_tranches(designs, sample_count=50)\n",
    "\n",
    "# Fit a response surface to the results.\n",
    "# The response surface interpolates between the discrete set of cases provided in the expert elicitation.\n",
    "# This allows us to study f\n",
    "# unding levels intermediate between those scenarios.\n",
    "evaluator = ty.Evaluator(investments.tranches, tranche_results.summary)\n",
    "\n",
    "# Example investment.\n",
    "# Let's evaluate the case where each category is invested in at half of its maximum amount.\n",
    "example_investments = evaluator.max_amount / 2\n",
    "evaluation = evaluator.evaluate(example_investments)"
   ]
  },
  {
   "source": [
    "### Functions\n",
    "- Aggregate over a given index\n",
    "- Normalize to the maximum sample taken or to the maximum *mean sample*. This will be used to color heat maps"
   ],
   "cell_type": "markdown",
   "metadata": {}
  },
  {
   "cell_type": "code",
   "execution_count": null,
   "metadata": {},
   "outputs": [],
   "source": [
    "def aggregate_over(ser, idx, statistic = np.mean):\n",
    "    ser = ser.astype(\"float64\")\n",
    "    idx_res = list(set(ser.index.names.copy()) - set(idx))\n",
    "    return ser.groupby(idx_res).aggregate(statistic)\n",
    "\n",
    "def normalize_to_metric(x):\n",
    "    x_mean = aggregate_over(x, ['Sample'])\n",
    "    met_diff = (metric_range['Value Max'] - metric_range['Value Min'])\n",
    "    return x_mean / met_diff\n",
    "\n",
    "    \n",
    "def normalize_to_max_sample(x):\n",
    "    x_mean = aggregate_over(x, ['Sample'])\n",
    "    x_max = aggregate_over(abs(x), ['Sample','Category'], np.max)\n",
    "    return x_mean / x_max\n",
    "\n",
    "def normalize_to_max_mean(x):\n",
    "    x_mean = aggregate_over(evaluation, ['Sample'])\n",
    "    x_max = aggregate_over(abs(x_mean), ['Category'], np.max)\n",
    "    return x_mean / x_max"
   ]
  },
  {
   "cell_type": "code",
   "execution_count": null,
   "metadata": {},
   "outputs": [],
   "source": [
    "def label_metric(evaluator, met):\n",
    "    return str(met + \"\\n\" + label_units(evaluator,met))\n",
    "def label_units(evaluator, met):\n",
    "    return str(evaluator.units.loc[met][0]).replace(\"CO2\", \"CO$_2$\")"
   ]
  },
  {
   "cell_type": "code",
   "execution_count": null,
   "metadata": {},
   "outputs": [],
   "source": [
    "met='GHG'\n",
    "label_units(evaluator, met)\n",
    "# \"CO2\" in label_units(evaluator, met)\n"
   ]
  },
  {
   "source": [
    "# Plots"
   ],
   "cell_type": "markdown",
   "metadata": {}
  },
  {
   "cell_type": "code",
   "execution_count": null,
   "metadata": {},
   "outputs": [],
   "source": [
    "pl.rcParams.update({\n",
    "    'font.size': 20,\n",
    "    'mathtext.default': 'regular',\n",
    "})\n",
    "SCALE=1.5\n",
    "LINEWIDTH=1\n",
    "\n",
    "mets = list(evaluator.metrics);          M = len(mets)\n",
    "cats = list(example_investments.index);  C = len(cats)\n",
    "\n",
    "eere_color_lst = [\"#6ABC45\", \"#FFCB06\", \"#00A8DF\"]\n",
    "eere_color = dict(zip(cats, eere_color_lst))"
   ]
  },
  {
   "cell_type": "code",
   "execution_count": null,
   "metadata": {},
   "outputs": [],
   "source": [
    "example_investments.index"
   ]
  },
  {
   "cell_type": "code",
   "execution_count": null,
   "metadata": {},
   "outputs": [],
   "source": [
    "ser_norm = normalize_to_max_sample(evaluation)\n",
    "ser_norm = ser_norm.unstack(level = 'Index')\n",
    "\n",
    "ser_mean = aggregate_over(evaluation, ['Sample'])\n",
    "ser_mean = ser_mean.unstack(level = 'Index')\n",
    "\n",
    "(fig,ax) = pl.subplots(1,1,figsize=(9,6))\n",
    "\n",
    "ax = sb.heatmap(ser_norm, linewidths=0.5,\n",
    "    vmax=1.0, vmin=-1.0,\n",
    "    cmap=\"coolwarm_r\")\n",
    "\n",
    "ax.xaxis.set_ticks_position('top')\n",
    "pl.yticks(rotation=0)\n",
    "pl.ylabel('')\n",
    "pl.xlabel('')\n",
    "\n",
    "fig.set_tight_layout(True)\n",
    "\n",
    "pl.savefig(\"../assets/heatmap.png\")"
   ]
  },
  {
   "cell_type": "code",
   "execution_count": null,
   "metadata": {},
   "outputs": [],
   "source": [
    "ser_norm = normalize_to_max_sample(evaluation)\n",
    "ser_norm = ser_norm.unstack(level = 'Index')\n",
    "\n",
    "ser_mean = aggregate_over(evaluation, ['Sample'])\n",
    "ser_mean = ser_mean.unstack(level = 'Index')\n",
    "\n",
    "(fig,ax) = pl.subplots(1,1,figsize=(9,6))\n",
    "ax = sb.heatmap(\n",
    "    ser_norm,\n",
    "    linewidths=0.5,\n",
    "    vmax=1.0,\n",
    "    vmin=-1.0,\n",
    "    annot=ser_mean,\n",
    "    fmt=\".4g\",\n",
    "    cmap=\"coolwarm_r\",\n",
    "    ax=ax,\n",
    ")\n",
    "\n",
    "# ax.set(\n",
    "#     xlabel=\"\", ylabel=\"\", yticks=[], yticklabels=[], xticks=[], xticklabels=[],\n",
    "# )\n",
    "\n",
    "ax.xaxis.set_ticks_position('top')\n",
    "pl.yticks(rotation=0)\n",
    "pl.ylabel('')\n",
    "pl.xlabel('')\n",
    "\n",
    "fig.set_tight_layout(True)\n",
    "pl.savefig(\"../assets/heatmap_annotated.png\")"
   ]
  },
  {
   "cell_type": "code",
   "execution_count": null,
   "metadata": {},
   "outputs": [],
   "source": [
    "(fig,ax) = pl.subplots(1,M,sharey=False,figsize=(2*(C+1),M*0.75))\n",
    "for ii in range(M):\n",
    "    data = evaluation.xs(mets[ii], level = \"Index\"\n",
    "            ).astype(\"float64\").reset_index()\n",
    "\n",
    "    sb.kdeplot(data=data, x=\"Value\", hue=\"Category\", multiple=\"stack\", ax=ax[ii], palette=eere_color_lst)\n",
    "    ax[ii].set(\n",
    "        title = mets[ii],\n",
    "        xlabel = label_units(evaluator, mets[ii]),\n",
    "        ylabel = \"\",\n",
    "        yticklabels = [],\n",
    "    )\n",
    "    # handles, labels = myax.get_legend_handles_labels()\n",
    "    # ax[ii].legend(loc='upper-left')\n",
    "    # print(labels)\n",
    "\n",
    "# h,l = ax[0].get_legend_handles_labels\n",
    "\n",
    "# fig.legend(labels=cats, loc='lower center')\n",
    "# labels\n",
    "# pl.rcParams['axes.prop_cycle'] = pl.cycler(color=[\"#6ABC45\", \"#FFCB06\", \"#00A8DF\"])"
   ]
  },
  {
   "cell_type": "code",
   "execution_count": null,
   "metadata": {},
   "outputs": [],
   "source": [
    "SIZE = (SCALE*2*(C+1), SCALE*M*0.75)\n",
    "\n",
    "for typ in [\"box\"]:\n",
    "    if typ == \"kde\": (fig,ax) = pl.subplots(1,M, figsize=SIZE)\n",
    "    else:            (fig,ax) = pl.subplots(1,M, figsize=SIZE, sharey=True)\n",
    "\n",
    "    for ii in range(M):\n",
    "        data = evaluation.xs(mets[ii], level = \"Index\"\n",
    "            ).astype(\"float64\").reset_index()\n",
    "        if typ == \"box\":\n",
    "            sb.boxplot(y = 'Category', x = 'Value', data = data, ax = ax[ii], palette=eere_color_lst, linewidth=LINEWIDTH)\n",
    "        elif typ == \"violin\":\n",
    "            sb.violinplot(y = 'Category', x = 'Value', data = data, ax = ax[ii], palette=eere_color_lst, linewidth=LINEWIDTH)\n",
    "        elif typ == \"kde\":\n",
    "            sb.kdeplot(data=data, x=\"Value\", hue=\"Category\", multiple=\"stack\", ax=ax[ii], legend=False, fill=True, linewidth=LINEWIDTH, alpha=0.5, palette=eere_color_lst)\n",
    "            ax[ii].set(\n",
    "                # title = mets[ii],\n",
    "                # xlabel = label_units(evaluator, mets[ii]),\n",
    "                # ylabel = \"\",\n",
    "                yticks=[0],\n",
    "                yticklabels = [],\n",
    "            )\n",
    "            ax[0].set(yticks=[0], yticklabels=[\"Inverter R&D\"])\n",
    "            # ax[0].set(yticks=[])\n",
    "\n",
    "        ax[ii].set(\n",
    "            title = mets[ii],\n",
    "            xlabel = label_units(evaluator, mets[ii]),\n",
    "            ylabel = \"\",\n",
    "        )\n",
    "    fig.set_tight_layout(True)\n",
    "    # if typ == \"kde\": ax[0].set(yticklabels=[])\n",
    "\n",
    "    fig.savefig(\"../assets/col_\" + typ + \".png\")"
   ]
  },
  {
   "cell_type": "code",
   "execution_count": null,
   "metadata": {},
   "outputs": [],
   "source": [
    "typ = \"box\"\n",
    "typ in [\"box\",\"distribution\",\"violin\"]"
   ]
  },
  {
   "cell_type": "code",
   "execution_count": null,
   "metadata": {},
   "outputs": [],
   "source": [
    "metric_range = evaluator.min_metric.apply(lambda x: np.minimum(0, x)).join(\n",
    "    evaluator.max_metric.apply(lambda x: np.maximum(0, x)),\n",
    "    lsuffix=\" Min\",\n",
    "    rsuffix=\" Max\",\n",
    ")\n",
    "\n",
    "m = evaluator.metrics[0]\n",
    "c = evaluator.categories[0]\n",
    "\n",
    "summary = evaluation.xs(m, level='Index').astype('float64')\n",
    "values = summary.xs(c, level='Category').reset_index()\n",
    "values_sum = summary.groupby(\"Sample\").sum().reset_index()\n",
    "\n",
    "y0 = min(0, metric_range.loc[m, \"Value Min\"])\n",
    "y1 = max(0, metric_range.loc[m, \"Value Max\"])\n",
    "dy = (y1 - y0) / 20\n",
    "\n",
    "# sb.boxplot(data=values, x='Value')\n",
    "# sb.violinplot(x='Value', data=values)\n",
    "# sb.kdeplot(x='Value', data=values)"
   ]
  },
  {
   "cell_type": "code",
   "execution_count": null,
   "metadata": {},
   "outputs": [],
   "source": [
    "typ = \"violin\"\n",
    "\n",
    "LINEWIDTH=1\n",
    "SCALE=1.5\n",
    "SIZE=(SCALE*2*(C+1), SCALE*M)\n",
    "\n",
    "if typ == \"kde\": (fig,ax) = pl.subplots(C,M, figsize=SIZE, sharex='col', sharey='col')\n",
    "else:            (fig,ax) = pl.subplots(C,M, figsize=SIZE, sharex='col')\n",
    "\n",
    "for mm in range(M):\n",
    "    data_metric = evaluation.xs(mets[mm], level = \"Index\"\n",
    "        ).astype(\"float64\")\n",
    "\n",
    "    for cc in range(C):\n",
    "        data = data_metric.xs(cats[cc], level = \"Category\").reset_index()\n",
    "        ax[cc,mm].set(xlabel=label_units(evaluator, mets[mm]))\n",
    "        ax[cc,mm].set_ylabel(cats[cc],rotation=0,ha='right')\n",
    "\n",
    "        if typ == \"box\":\n",
    "            sb.boxplot(\n",
    "                x='Value',\n",
    "                data=data,\n",
    "                ax=ax[cc,mm],\n",
    "                # linewidth=LINEWIDTH,\n",
    "                )\n",
    "        elif typ == \"violin\":\n",
    "            sb.violinplot(\n",
    "                x='Value',\n",
    "                data=data,\n",
    "                ax=ax[cc,mm],\n",
    "                # linewidth=LINEWITH,\n",
    "                )\n",
    "        elif typ == \"kde\":\n",
    "            sb.kdeplot(\n",
    "                x='Value',\n",
    "                data=data,\n",
    "                ax=ax[cc,mm],\n",
    "                legend=False,\n",
    "                fill=True,\n",
    "                linewidth=LINEWIDTH,\n",
    "                color=eere_color[cats[cc]],\n",
    "                alpha=0.5,\n",
    "                edgecolor='k')\n",
    "            # ax[cc,mm].set(yticks=[0], yticklabels=[\"Inverter R&D\"])\n",
    "\n",
    "        ax[cc,mm].label_outer()\n",
    "    ax[0,mm].set(title=mets[mm])\n",
    "\n",
    "fig.savefig(\"../assets/grid_\" + typ + \".png\")"
   ]
  }
 ],
 "metadata": {
  "kernelspec": {
   "name": "python3",
   "display_name": "Python 3.7.2 64-bit ('tyche': conda)",
   "metadata": {
    "interpreter": {
     "hash": "ebdfde22bcdb77c9a806ca22aa604cfc04f787c8cffecd2c43099b5120947b36"
    }
   }
  },
  "language_info": {
   "codemirror_mode": {
    "name": "ipython",
    "version": 3
   },
   "file_extension": ".py",
   "mimetype": "text/x-python",
   "name": "python",
   "nbconvert_exporter": "python",
   "pygments_lexer": "ipython3",
   "version": "3.7.2-final"
  }
 },
 "nbformat": 4,
 "nbformat_minor": 2
}