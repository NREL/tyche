{
 "cells": [
  {
   "cell_type": "markdown",
   "metadata": {},
   "source": [
    "# Waterfall Plots"
   ]
  },
  {
   "cell_type": "markdown",
   "metadata": {},
   "source": [
    "## Set up."
   ]
  },
  {
   "cell_type": "code",
   "execution_count": null,
   "metadata": {},
   "outputs": [],
   "source": [
    "import os\n",
    "import sys\n",
    "sys.path.insert(0, os.path.abspath(\"../..\"))"
   ]
  },
  {
   "cell_type": "code",
   "execution_count": null,
   "metadata": {},
   "outputs": [],
   "source": [
    "import numpy             as np\n",
    "import matplotlib.pyplot as pl\n",
    "import pandas            as pd\n",
    "import seaborn           as sb\n",
    "import tyche             as ty\n",
    "\n",
    "# From StackOverflow\n",
    "import matplotlib.pyplot as plt\n",
    "import matplotlib.gridspec as gridspec\n",
    "import numpy as np; np.random.seed(42)"
   ]
  },
  {
   "cell_type": "code",
   "execution_count": null,
   "metadata": {},
   "outputs": [],
   "source": [
    "# Prepare data.\n",
    "# The data are stored in a set of tab-separated value files in a folder.\n",
    "# Compile the production and metric functions for each technology in the dataset.\n",
    "designs = ty.Designs(\"../../../data/residential_pv_multiobjective\")\n",
    "investments = ty.Investments(\"../../../data/residential_pv_multiobjective\")\n",
    "designs.compile()\n",
    "\n",
    "# Multi-objective decision analysis.\n",
    "\n",
    "# Compute costs and metrics for tranches.\n",
    "# Tranches are atomic units for building investment portfolios. Evaluate all of the tranches,\n",
    "# so we can assemble them into investments (portfolios).\n",
    "tranche_results = investments.evaluate_tranches(designs, sample_count=50)\n",
    "\n",
    "# Fit a response surface to the results.\n",
    "# The response surface interpolates between the discrete set of cases provided in the expert elicitation.\n",
    "# This allows us to study f\n",
    "# unding levels intermediate between those scenarios.\n",
    "evaluator = ty.Evaluator(investments.tranches, tranche_results.summary)\n",
    "\n",
    "# Example investment.\n",
    "# Let's evaluate the case where each category is invested in at half of its maximum amount.\n",
    "example_investments = evaluator.max_amount / 2\n",
    "evaluation = evaluator.evaluate(example_investments)"
   ]
  },
  {
   "cell_type": "code",
   "execution_count": null,
   "metadata": {},
   "outputs": [],
   "source": [
    "def aggregate_over(ser, idx, statistic=np.mean):\n",
    "    ser = ser.astype(\"float64\")\n",
    "    idx_res = list(set(ser.index.names.copy()) - set(idx))\n",
    "    return ser.groupby(idx_res).aggregate(statistic)\n",
    "\n",
    "def normalize_to_metric(x):\n",
    "    x_mean = aggregate_over(x, ['Sample'])\n",
    "    met_diff = (metric_range['Value Max'] - metric_range['Value Min'])\n",
    "    return x_mean / met_diff"
   ]
  },
  {
   "cell_type": "code",
   "execution_count": null,
   "metadata": {},
   "outputs": [],
   "source": [
    "imgs = []\n",
    "shapes = [(550,200), ( 550,205), (1100,274) ]\n",
    "for shape in shapes:\n",
    "    imgs.append(np.random.random(shape))\n",
    "\n",
    "# calculate inverse aspect(width/height) for all images\n",
    "inva = np.array([ img.shape[1]/float(img.shape[0]) for img in imgs])\n",
    "# set width of empty column used to stretch layout\n",
    "emptycol = 0.00\n",
    "r = np.array([inva[0],inva[1], emptycol, inva[2], 3*emptycol, emptycol])\n",
    "# set a figure width in inch\n",
    "figw = 8\n",
    "# border, can be set independently of all other quantities\n",
    "left = 0.1; right=1-left\n",
    "bottom=0.1; top=1-bottom\n",
    "# wspace (=average relative space between subplots)\n",
    "wspace = 0.1\n",
    "#calculate scale\n",
    "s = figw*(right-left)/(len(r)+(len(r)-1)*wspace) \n",
    "# mean aspect\n",
    "masp = len(r)/np.sum(r)\n",
    "#calculate figheight\n",
    "figh = s*masp/float(top-bottom)\n",
    "\n",
    "gs = gridspec.GridSpec(3,len(r), width_ratios=r)\n",
    "\n",
    "fig = plt.figure(figsize=(figw,figh))\n",
    "plt.subplots_adjust(left, bottom, right, top, wspace)\n",
    "\n",
    "ax1 = plt.subplot(gs[:,0])\n",
    "ax2 = plt.subplot(gs[:,1])\n",
    "ax2.set_yticks([])\n",
    "\n",
    "ax3 = plt.subplot(gs[:,3])\n",
    "ax3.yaxis.tick_right()\n",
    "ax3.yaxis.set_label_position(\"right\")\n",
    "\n",
    "cax1 = plt.subplot(gs[0,5])\n",
    "cax2 = plt.subplot(gs[1,5])\n",
    "cax3 = plt.subplot(gs[2,5])\n",
    "\n",
    "\n",
    "im1 = ax1.imshow(imgs[0], cmap=\"viridis\")\n",
    "im2 = ax2.imshow(imgs[1], cmap=\"plasma\")\n",
    "im3 = ax3.imshow(imgs[2], cmap=\"RdBu\")\n",
    "\n",
    "fig.colorbar(im1, ax=ax1, cax=cax1)\n",
    "fig.colorbar(im2, ax=ax2, cax=cax2)\n",
    "fig.colorbar(im3, ax=ax3, cax=cax3)\n",
    "\n",
    "ax1.set_title(\"image title\")\n",
    "ax1.set_xlabel(\"xlabel\")\n",
    "ax1.set_ylabel(\"ylabel\")\n",
    "\n",
    "plt.show()"
   ]
  },
  {
   "cell_type": "code",
   "execution_count": null,
   "metadata": {},
   "outputs": [],
   "source": [
    "met = \"GHG\"\n",
    "\n",
    "investment = example_investments.astype(\"float64\").rename({\"Amount\": \"Value\"}, axis='columns')\n",
    "# evaluation.xs(mets[ii], level = \"Index\"\n",
    "#         ).astype(\"float64\")\n",
    "y = pd.DataFrame(aggregate_over(evaluation, ['Sample']).xs(met, level=\"Index\"))\n",
    "x = abs(investment / y)\n",
    "\n",
    "data = pd.merge(\n",
    "    x.reset_index().rename({\"Value\": \"width\"}, axis='columns'),\n",
    "    y.reset_index().rename({\"Value\": \"height\"}, axis='columns'), on=['Category'])\n",
    "\n",
    "data['log_width'] = np.log(data['width'])\n",
    "\n",
    "data.sort_values(['height'], ascending=False)\n",
    "\n",
    "def calc_position(df, siz, pos):\n",
    "    df[pos] = [0] + [x for x in df.cumsum().loc[range(len(df)-1),siz].values]\n",
    "    return df\n",
    "\n",
    "\n",
    "\n",
    "\n",
    "\n",
    "# data['x'] = 0\n",
    "# # data['y'] = [0] + [data.loc[ii,\"height\"] + data.loc[ii-1,\"height\"] for ii in range(1,len(data))]\n",
    "# # data['x'] = [0] + [data.loc[ii,\"width\"] + data.loc[ii-1,\"x\"] for ii in range(1,len(data))]\n",
    "# calc_position(data, 'width', 'x')\n",
    "# pos='x'\n",
    "# siz='width'\n",
    "# df=data\n",
    "# df[pos] = 0\n",
    "# ii=1\n",
    "# [df.at[ii,pos]=1 for ii in r\n",
    "# df[pos]\n",
    "# [df.loc[ii,pos]+df.loc[ii,siz] for ii in range(len(df)-1)]\n",
    "\n",
    "# np.concatenate(array([0.0]), df.cumsum().loc[1:len(df),'log_width'].values)\n",
    "data = calc_position(data, 'height', 'y')\n",
    "data = calc_position(data, 'log_width', 'log_x')\n",
    "data.sort_values(['height'], ascending=False)"
   ]
  }
 ],
 "metadata": {
  "kernelspec": {
   "name": "python3",
   "display_name": "Python 3.7.2 64-bit ('tyche': conda)",
   "metadata": {
    "interpreter": {
     "hash": "ebdfde22bcdb77c9a806ca22aa604cfc04f787c8cffecd2c43099b5120947b36"
    }
   }
  },
  "language_info": {
   "codemirror_mode": {
    "name": "ipython",
    "version": 3
   },
   "file_extension": ".py",
   "mimetype": "text/x-python",
   "name": "python",
   "nbconvert_exporter": "python",
   "pygments_lexer": "ipython3",
   "version": "3.7.2-final"
  }
 },
 "nbformat": 4,
 "nbformat_minor": 2
}