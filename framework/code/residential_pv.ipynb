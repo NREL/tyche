{
 "cells": [
  {
   "cell_type": "markdown",
   "metadata": {},
   "source": [
    "# Residential PV Example"
   ]
  },
  {
   "cell_type": "markdown",
   "metadata": {},
   "source": [
    "## Set up."
   ]
  },
  {
   "cell_type": "markdown",
   "metadata": {},
   "source": [
    "### One only needs to execute the following line once, in order to make sure recent enough packages are installed."
   ]
  },
  {
   "cell_type": "code",
   "execution_count": 1,
   "metadata": {},
   "outputs": [
    {
     "name": "stdout",
     "output_type": "stream",
     "text": [
      "Requirement already satisfied: numpy>=1.17.2 in /nix/store/dzwf9j2jbx9ni062xs6332pnvpi2hs9b-python3.6-numpy-1.17.2/lib/python3.6/site-packages (1.17.2)\n",
      "Requirement already satisfied: pandas>=0.25.1 in /nix/store/3wbm7ccg4j0mb176dhd03hbjx7gi63f6-python3.6-pandas-0.25.1/lib/python3.6/site-packages (0.25.1)\n",
      "Requirement already satisfied: pytz>=2017.2 in /nix/store/08wn8f3gi4v06q9g52hnz9cs2mf886pd-python3.6-pytz-2019.1/lib/python3.6/site-packages (from pandas>=0.25.1) (2019.1)\n",
      "Requirement already satisfied: python-dateutil>=2.6.1 in /nix/store/z1jw45rv1x5l6vd7v8xxmh7hdfwbnkrv-python3.6-python-dateutil-2.8.0/lib/python3.6/site-packages (from pandas>=0.25.1) (2.8.0)\n",
      "Requirement already satisfied: six>=1.5 in /nix/store/xhckxc7p7b20z2av7745rgxj8h8msw1w-python3.6-six-1.12.0/lib/python3.6/site-packages (from python-dateutil>=2.6.1->pandas>=0.25.1) (1.12.0)\n"
     ]
    }
   ],
   "source": [
    "!pip install 'numpy>=1.17.2' 'pandas>=0.25.1'"
   ]
  },
  {
   "cell_type": "markdown",
   "metadata": {},
   "source": [
    "### Import packages."
   ]
  },
  {
   "cell_type": "code",
   "execution_count": 2,
   "metadata": {},
   "outputs": [],
   "source": [
    "import numpy             as np\n",
    "import matplotlib.pyplot as pl\n",
    "import pandas            as pd\n",
    "import re                as re\n",
    "import scipy.stats       as st\n",
    "import seaborn           as sb\n",
    "\n",
    "# The `tyche` package is located at <https://github.com/NREL/portfolio/tree/master/production-function/framework/code/tyche/>.\n",
    "import tyche             as ty\n",
    "\n",
    "from copy import deepcopy"
   ]
  },
  {
   "cell_type": "markdown",
   "metadata": {},
   "source": [
    "## Scenario analyses."
   ]
  },
  {
   "cell_type": "markdown",
   "metadata": {},
   "source": [
    "### Load data."
   ]
  },
  {
   "cell_type": "markdown",
   "metadata": {},
   "source": [
    "#### The data are stored in a set of tab-separated value files in a folder."
   ]
  },
  {
   "cell_type": "code",
   "execution_count": 3,
   "metadata": {},
   "outputs": [],
   "source": [
    "designs = ty.Designs(\"../data/residential_pv\")"
   ]
  },
  {
   "cell_type": "markdown",
   "metadata": {},
   "source": [
    "#### Compile the production and metric functions for each technology in the dataset."
   ]
  },
  {
   "cell_type": "code",
   "execution_count": 4,
   "metadata": {},
   "outputs": [],
   "source": [
    "designs.compile()"
   ]
  },
  {
   "cell_type": "markdown",
   "metadata": {},
   "source": [
    "### Examine the data."
   ]
  },
  {
   "cell_type": "markdown",
   "metadata": {},
   "source": [
    "#### The `functions` table specifies where the Python code for each technology resides."
   ]
  },
  {
   "cell_type": "code",
   "execution_count": 5,
   "metadata": {},
   "outputs": [
    {
     "data": {
      "text/html": [
       "<div>\n",
       "<style scoped>\n",
       "    .dataframe tbody tr th:only-of-type {\n",
       "        vertical-align: middle;\n",
       "    }\n",
       "\n",
       "    .dataframe tbody tr th {\n",
       "        vertical-align: top;\n",
       "    }\n",
       "\n",
       "    .dataframe thead th {\n",
       "        text-align: right;\n",
       "    }\n",
       "</style>\n",
       "<table border=\"1\" class=\"dataframe\">\n",
       "  <thead>\n",
       "    <tr style=\"text-align: right;\">\n",
       "      <th></th>\n",
       "      <th>Style</th>\n",
       "      <th>Module</th>\n",
       "      <th>Capital</th>\n",
       "      <th>Fixed</th>\n",
       "      <th>Production</th>\n",
       "      <th>Metrics</th>\n",
       "      <th>Notes</th>\n",
       "    </tr>\n",
       "    <tr>\n",
       "      <th>Technology</th>\n",
       "      <th></th>\n",
       "      <th></th>\n",
       "      <th></th>\n",
       "      <th></th>\n",
       "      <th></th>\n",
       "      <th></th>\n",
       "      <th></th>\n",
       "    </tr>\n",
       "  </thead>\n",
       "  <tbody>\n",
       "    <tr>\n",
       "      <td>Residential PV</td>\n",
       "      <td>numpy</td>\n",
       "      <td>residential_pv</td>\n",
       "      <td>capital_cost</td>\n",
       "      <td>fixed_cost</td>\n",
       "      <td>production</td>\n",
       "      <td>metrics</td>\n",
       "      <td></td>\n",
       "    </tr>\n",
       "  </tbody>\n",
       "</table>\n",
       "</div>"
      ],
      "text/plain": [
       "                Style          Module       Capital       Fixed  Production  \\\n",
       "Technology                                                                    \n",
       "Residential PV  numpy  residential_pv  capital_cost  fixed_cost  production   \n",
       "\n",
       "                Metrics Notes  \n",
       "Technology                     \n",
       "Residential PV  metrics        "
      ]
     },
     "execution_count": 5,
     "metadata": {},
     "output_type": "execute_result"
    }
   ],
   "source": [
    "designs.functions"
   ]
  },
  {
   "cell_type": "markdown",
   "metadata": {},
   "source": [
    "Right now, only the style `numpy` is supported."
   ]
  },
  {
   "cell_type": "markdown",
   "metadata": {},
   "source": [
    "#### The `indices` table defines the subscripts for variables."
   ]
  },
  {
   "cell_type": "code",
   "execution_count": 6,
   "metadata": {},
   "outputs": [
    {
     "data": {
      "text/html": [
       "<div>\n",
       "<style scoped>\n",
       "    .dataframe tbody tr th:only-of-type {\n",
       "        vertical-align: middle;\n",
       "    }\n",
       "\n",
       "    .dataframe tbody tr th {\n",
       "        vertical-align: top;\n",
       "    }\n",
       "\n",
       "    .dataframe thead th {\n",
       "        text-align: right;\n",
       "    }\n",
       "</style>\n",
       "<table border=\"1\" class=\"dataframe\">\n",
       "  <thead>\n",
       "    <tr style=\"text-align: right;\">\n",
       "      <th></th>\n",
       "      <th></th>\n",
       "      <th></th>\n",
       "      <th>Offset</th>\n",
       "      <th>Description</th>\n",
       "      <th>Notes</th>\n",
       "    </tr>\n",
       "    <tr>\n",
       "      <th>Technology</th>\n",
       "      <th>Type</th>\n",
       "      <th>Index</th>\n",
       "      <th></th>\n",
       "      <th></th>\n",
       "      <th></th>\n",
       "    </tr>\n",
       "  </thead>\n",
       "  <tbody>\n",
       "    <tr>\n",
       "      <td rowspan=\"7\" valign=\"top\">Residential PV</td>\n",
       "      <td rowspan=\"3\" valign=\"top\">Capital</td>\n",
       "      <td>Module</td>\n",
       "      <td>0</td>\n",
       "      <td>system module</td>\n",
       "      <td></td>\n",
       "    </tr>\n",
       "    <tr>\n",
       "      <td>Inverter</td>\n",
       "      <td>1</td>\n",
       "      <td>system inverters</td>\n",
       "      <td></td>\n",
       "    </tr>\n",
       "    <tr>\n",
       "      <td>BoS</td>\n",
       "      <td>2</td>\n",
       "      <td>balance of system</td>\n",
       "      <td></td>\n",
       "    </tr>\n",
       "    <tr>\n",
       "      <td>Fixed</td>\n",
       "      <td>System</td>\n",
       "      <td>0</td>\n",
       "      <td>whole system</td>\n",
       "      <td></td>\n",
       "    </tr>\n",
       "    <tr>\n",
       "      <td>Input</td>\n",
       "      <td>NaN</td>\n",
       "      <td>0</td>\n",
       "      <td>no inputs</td>\n",
       "      <td></td>\n",
       "    </tr>\n",
       "    <tr>\n",
       "      <td>Metric</td>\n",
       "      <td>LCOE</td>\n",
       "      <td>0</td>\n",
       "      <td>levelized cost of energy</td>\n",
       "      <td></td>\n",
       "    </tr>\n",
       "    <tr>\n",
       "      <td>Output</td>\n",
       "      <td>Electricity</td>\n",
       "      <td>0</td>\n",
       "      <td>electricity generated</td>\n",
       "      <td></td>\n",
       "    </tr>\n",
       "  </tbody>\n",
       "</table>\n",
       "</div>"
      ],
      "text/plain": [
       "                                    Offset               Description Notes\n",
       "Technology     Type    Index                                              \n",
       "Residential PV Capital Module            0             system module      \n",
       "                       Inverter          1          system inverters      \n",
       "                       BoS               2         balance of system      \n",
       "               Fixed   System            0              whole system      \n",
       "               Input   NaN               0                 no inputs      \n",
       "               Metric  LCOE              0  levelized cost of energy      \n",
       "               Output  Electricity       0     electricity generated      "
      ]
     },
     "execution_count": 6,
     "metadata": {},
     "output_type": "execute_result"
    }
   ],
   "source": [
    "designs.indices.sort_values([\"Technology\", \"Type\", \"Offset\"])"
   ]
  },
  {
   "cell_type": "markdown",
   "metadata": {},
   "source": [
    "#### The `designs` table contains the cost, input, efficiency, and price data for a scenario."
   ]
  },
  {
   "cell_type": "code",
   "execution_count": 7,
   "metadata": {},
   "outputs": [
    {
     "data": {
      "text/html": [
       "<div>\n",
       "<style scoped>\n",
       "    .dataframe tbody tr th:only-of-type {\n",
       "        vertical-align: middle;\n",
       "    }\n",
       "\n",
       "    .dataframe tbody tr th {\n",
       "        vertical-align: top;\n",
       "    }\n",
       "\n",
       "    .dataframe thead th {\n",
       "        text-align: right;\n",
       "    }\n",
       "</style>\n",
       "<table border=\"1\" class=\"dataframe\">\n",
       "  <thead>\n",
       "    <tr style=\"text-align: right;\">\n",
       "      <th></th>\n",
       "      <th></th>\n",
       "      <th></th>\n",
       "      <th></th>\n",
       "      <th>Value</th>\n",
       "      <th>Units</th>\n",
       "      <th>Notes</th>\n",
       "    </tr>\n",
       "    <tr>\n",
       "      <th>Technology</th>\n",
       "      <th>Scenario</th>\n",
       "      <th>Variable</th>\n",
       "      <th>Index</th>\n",
       "      <th></th>\n",
       "      <th></th>\n",
       "      <th></th>\n",
       "    </tr>\n",
       "  </thead>\n",
       "  <tbody>\n",
       "    <tr>\n",
       "      <td rowspan=\"9\" valign=\"top\">Residential PV</td>\n",
       "      <td rowspan=\"9\" valign=\"top\">2015 Actual</td>\n",
       "      <td>Input</td>\n",
       "      <td>NaN</td>\n",
       "      <td>0</td>\n",
       "      <td>1</td>\n",
       "      <td>no inputs</td>\n",
       "    </tr>\n",
       "    <tr>\n",
       "      <td>Input efficiency</td>\n",
       "      <td>NaN</td>\n",
       "      <td>1</td>\n",
       "      <td>1</td>\n",
       "      <td>no inputs</td>\n",
       "    </tr>\n",
       "    <tr>\n",
       "      <td>Input price</td>\n",
       "      <td>NaN</td>\n",
       "      <td>0</td>\n",
       "      <td>1</td>\n",
       "      <td>no inputs</td>\n",
       "    </tr>\n",
       "    <tr>\n",
       "      <td rowspan=\"3\" valign=\"top\">Lifetime</td>\n",
       "      <td>BoS</td>\n",
       "      <td>1</td>\n",
       "      <td>system-lifetime</td>\n",
       "      <td>per-lifetime computations</td>\n",
       "    </tr>\n",
       "    <tr>\n",
       "      <td>Inverter</td>\n",
       "      <td>1</td>\n",
       "      <td>system-lifetime</td>\n",
       "      <td>per-lifetime computations</td>\n",
       "    </tr>\n",
       "    <tr>\n",
       "      <td>Module</td>\n",
       "      <td>1</td>\n",
       "      <td>system-lifetime</td>\n",
       "      <td>per-lifetime computations</td>\n",
       "    </tr>\n",
       "    <tr>\n",
       "      <td>Output efficiency</td>\n",
       "      <td>Electricity</td>\n",
       "      <td>1</td>\n",
       "      <td>W/W</td>\n",
       "      <td>see parameter table for individual efficiencies</td>\n",
       "    </tr>\n",
       "    <tr>\n",
       "      <td>Output price</td>\n",
       "      <td>Electricity</td>\n",
       "      <td>0</td>\n",
       "      <td>$/kWh</td>\n",
       "      <td>not tracking electricity price</td>\n",
       "    </tr>\n",
       "    <tr>\n",
       "      <td>Scale</td>\n",
       "      <td>NaN</td>\n",
       "      <td>1</td>\n",
       "      <td>system/system</td>\n",
       "      <td>no scaling</td>\n",
       "    </tr>\n",
       "  </tbody>\n",
       "</table>\n",
       "</div>"
      ],
      "text/plain": [
       "                                                         Value  \\\n",
       "Technology     Scenario    Variable          Index               \n",
       "Residential PV 2015 Actual Input             NaN             0   \n",
       "                           Input efficiency  NaN             1   \n",
       "                           Input price       NaN             0   \n",
       "                           Lifetime          BoS             1   \n",
       "                                             Inverter        1   \n",
       "                                             Module          1   \n",
       "                           Output efficiency Electricity     1   \n",
       "                           Output price      Electricity     0   \n",
       "                           Scale             NaN             1   \n",
       "\n",
       "                                                                    Units  \\\n",
       "Technology     Scenario    Variable          Index                          \n",
       "Residential PV 2015 Actual Input             NaN                        1   \n",
       "                           Input efficiency  NaN                        1   \n",
       "                           Input price       NaN                        1   \n",
       "                           Lifetime          BoS          system-lifetime   \n",
       "                                             Inverter     system-lifetime   \n",
       "                                             Module       system-lifetime   \n",
       "                           Output efficiency Electricity              W/W   \n",
       "                           Output price      Electricity            $/kWh   \n",
       "                           Scale             NaN            system/system   \n",
       "\n",
       "                                                                                                    Notes  \n",
       "Technology     Scenario    Variable          Index                                                         \n",
       "Residential PV 2015 Actual Input             NaN                                                no inputs  \n",
       "                           Input efficiency  NaN                                                no inputs  \n",
       "                           Input price       NaN                                                no inputs  \n",
       "                           Lifetime          BoS                                per-lifetime computations  \n",
       "                                             Inverter                           per-lifetime computations  \n",
       "                                             Module                             per-lifetime computations  \n",
       "                           Output efficiency Electricity  see parameter table for individual efficiencies  \n",
       "                           Output price      Electricity                   not tracking electricity price  \n",
       "                           Scale             NaN                                               no scaling  "
      ]
     },
     "execution_count": 7,
     "metadata": {},
     "output_type": "execute_result"
    }
   ],
   "source": [
    "designs.designs.xs(\"2015 Actual\", level=\"Scenario\", drop_level=False)"
   ]
  },
  {
   "cell_type": "markdown",
   "metadata": {},
   "source": [
    "#### The `parameters` table contains additional techno-economic parameters for each technology."
   ]
  },
  {
   "cell_type": "code",
   "execution_count": 8,
   "metadata": {},
   "outputs": [
    {
     "data": {
      "text/html": [
       "<div>\n",
       "<style scoped>\n",
       "    .dataframe tbody tr th:only-of-type {\n",
       "        vertical-align: middle;\n",
       "    }\n",
       "\n",
       "    .dataframe tbody tr th {\n",
       "        vertical-align: top;\n",
       "    }\n",
       "\n",
       "    .dataframe thead th {\n",
       "        text-align: right;\n",
       "    }\n",
       "</style>\n",
       "<table border=\"1\" class=\"dataframe\">\n",
       "  <thead>\n",
       "    <tr style=\"text-align: right;\">\n",
       "      <th></th>\n",
       "      <th></th>\n",
       "      <th></th>\n",
       "      <th>Offset</th>\n",
       "      <th>Value</th>\n",
       "      <th>Units</th>\n",
       "      <th>Notes</th>\n",
       "    </tr>\n",
       "    <tr>\n",
       "      <th>Technology</th>\n",
       "      <th>Scenario</th>\n",
       "      <th>Parameter</th>\n",
       "      <th></th>\n",
       "      <th></th>\n",
       "      <th></th>\n",
       "      <th></th>\n",
       "    </tr>\n",
       "  </thead>\n",
       "  <tbody>\n",
       "    <tr>\n",
       "      <td rowspan=\"21\" valign=\"top\">Residential PV</td>\n",
       "      <td rowspan=\"21\" valign=\"top\">2015 Actual</td>\n",
       "      <td>Discount Rate</td>\n",
       "      <td>0</td>\n",
       "      <td>0.07</td>\n",
       "      <td>1/year</td>\n",
       "      <td>DR</td>\n",
       "    </tr>\n",
       "    <tr>\n",
       "      <td>Insolation</td>\n",
       "      <td>1</td>\n",
       "      <td>1000</td>\n",
       "      <td>W/m^2</td>\n",
       "      <td>INS</td>\n",
       "    </tr>\n",
       "    <tr>\n",
       "      <td>System Size</td>\n",
       "      <td>2</td>\n",
       "      <td>36</td>\n",
       "      <td>m^2</td>\n",
       "      <td>SSZ</td>\n",
       "    </tr>\n",
       "    <tr>\n",
       "      <td>Module Capital</td>\n",
       "      <td>3</td>\n",
       "      <td>st.triang(0.5, loc=110, scale=0.11)</td>\n",
       "      <td>$/m^2</td>\n",
       "      <td>MCC</td>\n",
       "    </tr>\n",
       "    <tr>\n",
       "      <td>Module Lifetime</td>\n",
       "      <td>4</td>\n",
       "      <td>st.triang(0.5, loc=25, scale=0.0025)</td>\n",
       "      <td>yr</td>\n",
       "      <td>MLT</td>\n",
       "    </tr>\n",
       "    <tr>\n",
       "      <td>Module Efficiency</td>\n",
       "      <td>5</td>\n",
       "      <td>st.triang(0.5, loc=0.16, scale=1.6e-5)</td>\n",
       "      <td>1</td>\n",
       "      <td>MEF</td>\n",
       "    </tr>\n",
       "    <tr>\n",
       "      <td>Module Aperture</td>\n",
       "      <td>6</td>\n",
       "      <td>st.triang(0.5, loc=0.9, scale=9e-5)</td>\n",
       "      <td>1</td>\n",
       "      <td>MAP</td>\n",
       "    </tr>\n",
       "    <tr>\n",
       "      <td>Module O&amp;M Fixed</td>\n",
       "      <td>7</td>\n",
       "      <td>st.triang(0.5, loc=20, scale=0.002)</td>\n",
       "      <td>$/kWyr</td>\n",
       "      <td>MOM</td>\n",
       "    </tr>\n",
       "    <tr>\n",
       "      <td>Module Degradation</td>\n",
       "      <td>8</td>\n",
       "      <td>st.triang(0.5, loc=0.0075, scale=7.5e-7)</td>\n",
       "      <td>1/yr</td>\n",
       "      <td>MDR</td>\n",
       "    </tr>\n",
       "    <tr>\n",
       "      <td>Location Capacity Factor</td>\n",
       "      <td>9</td>\n",
       "      <td>st.triang(0.5, loc=0.2, scale=2e-5)</td>\n",
       "      <td>1</td>\n",
       "      <td>MCF</td>\n",
       "    </tr>\n",
       "    <tr>\n",
       "      <td>Module Soiling Loss</td>\n",
       "      <td>10</td>\n",
       "      <td>st.triang(0.5, loc=0.05, scale=5e-6)</td>\n",
       "      <td>1</td>\n",
       "      <td>MSL</td>\n",
       "    </tr>\n",
       "    <tr>\n",
       "      <td>Inverter Capital</td>\n",
       "      <td>11</td>\n",
       "      <td>st.triang(0.5, loc=0.3, scale=3e-5)</td>\n",
       "      <td>$/W</td>\n",
       "      <td>ICC</td>\n",
       "    </tr>\n",
       "    <tr>\n",
       "      <td>Inverter Lifetime</td>\n",
       "      <td>12</td>\n",
       "      <td>st.triang(0.5, loc=16, scale=0.0016)</td>\n",
       "      <td>yr</td>\n",
       "      <td>ILT</td>\n",
       "    </tr>\n",
       "    <tr>\n",
       "      <td>Inverter Replacement</td>\n",
       "      <td>13</td>\n",
       "      <td>st.triang(0.5, loc=0.5, scale=5e-5)</td>\n",
       "      <td>1</td>\n",
       "      <td>IRC</td>\n",
       "    </tr>\n",
       "    <tr>\n",
       "      <td>Inverter Efficiency</td>\n",
       "      <td>14</td>\n",
       "      <td>st.triang(0.5, loc=0.9, scale=9e-5)</td>\n",
       "      <td>1</td>\n",
       "      <td>IEF</td>\n",
       "    </tr>\n",
       "    <tr>\n",
       "      <td>DC-to-AC Ratio</td>\n",
       "      <td>15</td>\n",
       "      <td>st.triang(0.5, loc=1.4, scale=0.00014)</td>\n",
       "      <td>1</td>\n",
       "      <td>IDC</td>\n",
       "    </tr>\n",
       "    <tr>\n",
       "      <td>Hardware Capital</td>\n",
       "      <td>16</td>\n",
       "      <td>st.triang(0.5, loc=80, scale=0.008)</td>\n",
       "      <td>$/m^2</td>\n",
       "      <td>BCC</td>\n",
       "    </tr>\n",
       "    <tr>\n",
       "      <td>Direct Labor</td>\n",
       "      <td>17</td>\n",
       "      <td>st.triang(0.5, loc=2000, scale=0.2)</td>\n",
       "      <td>$/system</td>\n",
       "      <td>BLR</td>\n",
       "    </tr>\n",
       "    <tr>\n",
       "      <td>Permitting</td>\n",
       "      <td>18</td>\n",
       "      <td>st.triang(0.5, loc=600, scale=0.06)</td>\n",
       "      <td>$/system</td>\n",
       "      <td>BPR</td>\n",
       "    </tr>\n",
       "    <tr>\n",
       "      <td>Customer Acquisition</td>\n",
       "      <td>19</td>\n",
       "      <td>st.triang(0.5, loc=2000, scale=0.2)</td>\n",
       "      <td>$/system</td>\n",
       "      <td>BCA</td>\n",
       "    </tr>\n",
       "    <tr>\n",
       "      <td>Installer Overhead &amp; Profit</td>\n",
       "      <td>20</td>\n",
       "      <td>st.triang(0.5, loc=0.35, scale=3.5e-5)</td>\n",
       "      <td>1</td>\n",
       "      <td>BOH</td>\n",
       "    </tr>\n",
       "  </tbody>\n",
       "</table>\n",
       "</div>"
      ],
      "text/plain": [
       "                                                        Offset  \\\n",
       "Technology     Scenario    Parameter                             \n",
       "Residential PV 2015 Actual Discount Rate                     0   \n",
       "                           Insolation                        1   \n",
       "                           System Size                       2   \n",
       "                           Module Capital                    3   \n",
       "                           Module Lifetime                   4   \n",
       "                           Module Efficiency                 5   \n",
       "                           Module Aperture                   6   \n",
       "                           Module O&M Fixed                  7   \n",
       "                           Module Degradation                8   \n",
       "                           Location Capacity Factor          9   \n",
       "                           Module Soiling Loss              10   \n",
       "                           Inverter Capital                 11   \n",
       "                           Inverter Lifetime                12   \n",
       "                           Inverter Replacement             13   \n",
       "                           Inverter Efficiency              14   \n",
       "                           DC-to-AC Ratio                   15   \n",
       "                           Hardware Capital                 16   \n",
       "                           Direct Labor                     17   \n",
       "                           Permitting                       18   \n",
       "                           Customer Acquisition             19   \n",
       "                           Installer Overhead & Profit      20   \n",
       "\n",
       "                                                                                           Value  \\\n",
       "Technology     Scenario    Parameter                                                               \n",
       "Residential PV 2015 Actual Discount Rate                                                    0.07   \n",
       "                           Insolation                                                       1000   \n",
       "                           System Size                                                        36   \n",
       "                           Module Capital                    st.triang(0.5, loc=110, scale=0.11)   \n",
       "                           Module Lifetime                  st.triang(0.5, loc=25, scale=0.0025)   \n",
       "                           Module Efficiency              st.triang(0.5, loc=0.16, scale=1.6e-5)   \n",
       "                           Module Aperture                   st.triang(0.5, loc=0.9, scale=9e-5)   \n",
       "                           Module O&M Fixed                  st.triang(0.5, loc=20, scale=0.002)   \n",
       "                           Module Degradation           st.triang(0.5, loc=0.0075, scale=7.5e-7)   \n",
       "                           Location Capacity Factor          st.triang(0.5, loc=0.2, scale=2e-5)   \n",
       "                           Module Soiling Loss              st.triang(0.5, loc=0.05, scale=5e-6)   \n",
       "                           Inverter Capital                  st.triang(0.5, loc=0.3, scale=3e-5)   \n",
       "                           Inverter Lifetime                st.triang(0.5, loc=16, scale=0.0016)   \n",
       "                           Inverter Replacement              st.triang(0.5, loc=0.5, scale=5e-5)   \n",
       "                           Inverter Efficiency               st.triang(0.5, loc=0.9, scale=9e-5)   \n",
       "                           DC-to-AC Ratio                 st.triang(0.5, loc=1.4, scale=0.00014)   \n",
       "                           Hardware Capital                  st.triang(0.5, loc=80, scale=0.008)   \n",
       "                           Direct Labor                      st.triang(0.5, loc=2000, scale=0.2)   \n",
       "                           Permitting                        st.triang(0.5, loc=600, scale=0.06)   \n",
       "                           Customer Acquisition              st.triang(0.5, loc=2000, scale=0.2)   \n",
       "                           Installer Overhead & Profit    st.triang(0.5, loc=0.35, scale=3.5e-5)   \n",
       "\n",
       "                                                           Units Notes  \n",
       "Technology     Scenario    Parameter                                    \n",
       "Residential PV 2015 Actual Discount Rate                  1/year    DR  \n",
       "                           Insolation                      W/m^2   INS  \n",
       "                           System Size                       m^2   SSZ  \n",
       "                           Module Capital                  $/m^2   MCC  \n",
       "                           Module Lifetime                    yr   MLT  \n",
       "                           Module Efficiency                   1   MEF  \n",
       "                           Module Aperture                     1   MAP  \n",
       "                           Module O&M Fixed               $/kWyr   MOM  \n",
       "                           Module Degradation               1/yr   MDR  \n",
       "                           Location Capacity Factor            1   MCF  \n",
       "                           Module Soiling Loss                 1   MSL  \n",
       "                           Inverter Capital                  $/W   ICC  \n",
       "                           Inverter Lifetime                  yr   ILT  \n",
       "                           Inverter Replacement                1   IRC  \n",
       "                           Inverter Efficiency                 1   IEF  \n",
       "                           DC-to-AC Ratio                      1   IDC  \n",
       "                           Hardware Capital                $/m^2   BCC  \n",
       "                           Direct Labor                 $/system   BLR  \n",
       "                           Permitting                   $/system   BPR  \n",
       "                           Customer Acquisition         $/system   BCA  \n",
       "                           Installer Overhead & Profit         1   BOH  "
      ]
     },
     "execution_count": 8,
     "metadata": {},
     "output_type": "execute_result"
    }
   ],
   "source": [
    "designs.parameters.xs(\"2015 Actual\", level=\"Scenario\", drop_level=False).sort_values([\"Technology\", \"Scenario\", \"Offset\"])"
   ]
  },
  {
   "cell_type": "markdown",
   "metadata": {},
   "source": [
    "#### The `results` table specifies the units of measure for results of computations."
   ]
  },
  {
   "cell_type": "code",
   "execution_count": 9,
   "metadata": {},
   "outputs": [
    {
     "data": {
      "text/html": [
       "<div>\n",
       "<style scoped>\n",
       "    .dataframe tbody tr th:only-of-type {\n",
       "        vertical-align: middle;\n",
       "    }\n",
       "\n",
       "    .dataframe tbody tr th {\n",
       "        vertical-align: top;\n",
       "    }\n",
       "\n",
       "    .dataframe thead th {\n",
       "        text-align: right;\n",
       "    }\n",
       "</style>\n",
       "<table border=\"1\" class=\"dataframe\">\n",
       "  <thead>\n",
       "    <tr style=\"text-align: right;\">\n",
       "      <th></th>\n",
       "      <th></th>\n",
       "      <th></th>\n",
       "      <th>Units</th>\n",
       "      <th>Notes</th>\n",
       "    </tr>\n",
       "    <tr>\n",
       "      <th>Technology</th>\n",
       "      <th>Variable</th>\n",
       "      <th>Index</th>\n",
       "      <th></th>\n",
       "      <th></th>\n",
       "    </tr>\n",
       "  </thead>\n",
       "  <tbody>\n",
       "    <tr>\n",
       "      <td rowspan=\"3\" valign=\"top\">Residential PV</td>\n",
       "      <td>Cost</td>\n",
       "      <td>Cost</td>\n",
       "      <td>$/system</td>\n",
       "      <td></td>\n",
       "    </tr>\n",
       "    <tr>\n",
       "      <td>Metric</td>\n",
       "      <td>LCOE</td>\n",
       "      <td>$/kWh</td>\n",
       "      <td></td>\n",
       "    </tr>\n",
       "    <tr>\n",
       "      <td>Output</td>\n",
       "      <td>Electricity</td>\n",
       "      <td>kWh</td>\n",
       "      <td></td>\n",
       "    </tr>\n",
       "  </tbody>\n",
       "</table>\n",
       "</div>"
      ],
      "text/plain": [
       "                                        Units Notes\n",
       "Technology     Variable Index                      \n",
       "Residential PV Cost     Cost         $/system      \n",
       "               Metric   LCOE            $/kWh      \n",
       "               Output   Electricity       kWh      "
      ]
     },
     "execution_count": 9,
     "metadata": {},
     "output_type": "execute_result"
    }
   ],
   "source": [
    "designs.results"
   ]
  },
  {
   "cell_type": "markdown",
   "metadata": {},
   "source": [
    "#### Here is the source code for the computations."
   ]
  },
  {
   "cell_type": "code",
   "execution_count": 10,
   "metadata": {
    "scrolled": false
   },
   "outputs": [
    {
     "name": "stdout",
     "output_type": "stream",
     "text": [
      "# Residential PV\r\n",
      "\r\n",
      "# All of the computations must be vectorized, so use `numpy`.\r\n",
      "import numpy as np\r\n",
      "\r\n",
      "\r\n",
      "# Discount at a rate for a time.\r\n",
      "def discount(rate, time):\r\n",
      "  return 1 / (1 + rate)**time\r\n",
      "\r\n",
      "\r\n",
      "# Net present value of constant cash flow.\r\n",
      "def npv(rate, time):\r\n",
      "  return (1 - 1 / (1 + rate)**(time + 1)) / (1 - 1 / (1 + rate))\r\n",
      "\r\n",
      "\r\n",
      "# Capital-cost function.\r\n",
      "def capital_cost(scale, parameter):\r\n",
      "\r\n",
      "  # For readability, copy the parameter vectors to named variables.\r\n",
      "  dr  = parameter[ 0]\r\n",
      "  ins = parameter[ 1]\r\n",
      "  ssz = parameter[ 2]\r\n",
      "  mcc = parameter[ 3]\r\n",
      "  mlt = parameter[ 4]\r\n",
      "  mef = parameter[ 5]\r\n",
      "  icc = parameter[11]\r\n",
      "  ilt = parameter[12]\r\n",
      "  irc = parameter[13]\r\n",
      "  bcc = parameter[16]\r\n",
      "  blr = parameter[17]\r\n",
      "  bpr = parameter[18]\r\n",
      "  bca = parameter[19]\r\n",
      "  boh = parameter[20]\r\n",
      "\r\n",
      "  # System module capital cost. \r\n",
      "  smcxa = ssz * mcc \r\n",
      "\r\n",
      "  # System inverter capital cost.\r\n",
      "  sicxa = ins * ssz * mef * icc\r\n",
      "\r\n",
      "  # One inverter replacement.\r\n",
      "  rsicxa1 = (mlt > ilt) * (mlt < 2 * ilt) * \\\r\n",
      "            (discount(dr, ilt) - (2 * ilt - mlt) / ilt * discount(dr, mlt))\r\n",
      "\r\n",
      "  # Two inverter replacements.\r\n",
      "  rsicxa2 = (mlt > 2 * ilt) * (mlt < 3 * ilt) * \\\r\n",
      "            (discount(dr, ilt) + discount(dr, 2 * ilt) - (3 * ilt - mlt) / ilt * discount(dr, mlt))\r\n",
      "\r\n",
      "  # Capital cost of all inverters.\r\n",
      "  # FIXME: Generalize to an arbitrary number of inverter replacements.\r\n",
      "  sicxa = sicxa * (1 + irc * (rsicxa1 + rsicxa2))\r\n",
      "\r\n",
      "  # System BOS hardware cost.\r\n",
      "  sbh = bcc * ssz\r\n",
      "\r\n",
      "  # System BOS soft costs for labor, permitting, and customers.\r\n",
      "  sbs = blr + bpr + bca\r\n",
      "\r\n",
      "  # System overhead costs.\r\n",
      "  soh = boh * (smcxa + sicxa + sbh + sbs)\r\n",
      "\r\n",
      "  # Return the capital costs.\r\n",
      "  return np.stack([\r\n",
      "    smcxa          , # module\r\n",
      "    sicxa          , # inverters\r\n",
      "    sbh + sbs + soh, # balance of system\r\n",
      "  ])\r\n",
      "\r\n",
      "\r\n",
      "# Fixed-cost function.\r\n",
      "def fixed_cost(scale, parameter):\r\n",
      "\r\n",
      "  # For readability, copy the parameter vectors to named variables.\r\n",
      "  dr  = parameter[ 0]\r\n",
      "  ins = parameter[ 1]\r\n",
      "  ssz = parameter[ 2]\r\n",
      "  mlt = parameter[ 4]\r\n",
      "  mef = parameter[ 5]\r\n",
      "  mom = parameter[ 7]\r\n",
      "\r\n",
      "  # System lifetime overhead costs.\r\n",
      "  return np.stack([\r\n",
      "    mom * ins / 1000 * ssz * mef * npv(dr, mlt)\r\n",
      "  ])\r\n",
      "\r\n",
      "\r\n",
      "# Production function.\r\n",
      "def production(scale, capital, lifetime, fixed, input, parameter):\r\n",
      "\r\n",
      "  # For readability, copy the parameter vectors to named variables.\r\n",
      "  ins = parameter[ 1]\r\n",
      "  ssz = parameter[ 2]\r\n",
      "  mlt = parameter[ 4]\r\n",
      "  mef = parameter[ 5]\r\n",
      "  map = parameter[ 6]\r\n",
      "  mdr = parameter[ 8]\r\n",
      "  mcf = parameter[ 9]\r\n",
      "  msl = parameter[10]\r\n",
      "  ief = parameter[14]\r\n",
      "\r\n",
      "  # System lifetime energy conversion.\r\n",
      "  return np.stack([\r\n",
      "    ins / 1000 * 24 * 365 * ssz * map * mcf * mef * ief * (1 - msl) * npv(mdr / (1 - mdr), mlt)\r\n",
      "  ])\r\n",
      "\r\n",
      "\r\n",
      "# Metrics function.\r\n",
      "def metrics(scale, capital, lifetime, fixed, input_raw, input, output_raw, output, cost, parameter):\r\n",
      "\r\n",
      "  # Levelized cost of energy.\r\n",
      "  return np.stack([\r\n",
      "    cost / output[0]\r\n",
      "  ])\r\n"
     ]
    }
   ],
   "source": [
    "!cat technology/residential_pv.py"
   ]
  },
  {
   "cell_type": "markdown",
   "metadata": {},
   "source": [
    "### Evaluate the scenarios in the dataset."
   ]
  },
  {
   "cell_type": "code",
   "execution_count": 11,
   "metadata": {
    "scrolled": false
   },
   "outputs": [],
   "source": [
    "scenario_results = designs.evaluate_scenarios(sample_count=500)"
   ]
  },
  {
   "cell_type": "code",
   "execution_count": 12,
   "metadata": {},
   "outputs": [
    {
     "data": {
      "text/html": [
       "<div>\n",
       "<style scoped>\n",
       "    .dataframe tbody tr th:only-of-type {\n",
       "        vertical-align: middle;\n",
       "    }\n",
       "\n",
       "    .dataframe tbody tr th {\n",
       "        vertical-align: top;\n",
       "    }\n",
       "\n",
       "    .dataframe thead th {\n",
       "        text-align: right;\n",
       "    }\n",
       "</style>\n",
       "<table border=\"1\" class=\"dataframe\">\n",
       "  <thead>\n",
       "    <tr style=\"text-align: right;\">\n",
       "      <th></th>\n",
       "      <th></th>\n",
       "      <th></th>\n",
       "      <th></th>\n",
       "      <th></th>\n",
       "      <th>Value</th>\n",
       "      <th>Units</th>\n",
       "    </tr>\n",
       "    <tr>\n",
       "      <th>Technology</th>\n",
       "      <th>Scenario</th>\n",
       "      <th>Sample</th>\n",
       "      <th>Variable</th>\n",
       "      <th>Index</th>\n",
       "      <th></th>\n",
       "      <th></th>\n",
       "    </tr>\n",
       "  </thead>\n",
       "  <tbody>\n",
       "    <tr>\n",
       "      <td rowspan=\"11\" valign=\"top\">Residential PV</td>\n",
       "      <td rowspan=\"5\" valign=\"top\">2015 Actual</td>\n",
       "      <td rowspan=\"3\" valign=\"top\">1</td>\n",
       "      <td>Cost</td>\n",
       "      <td>Cost</td>\n",
       "      <td>19539.159852</td>\n",
       "      <td>$/system</td>\n",
       "    </tr>\n",
       "    <tr>\n",
       "      <td>Metric</td>\n",
       "      <td>LCOE</td>\n",
       "      <td>0.106128</td>\n",
       "      <td>$/kWh</td>\n",
       "    </tr>\n",
       "    <tr>\n",
       "      <td>Output</td>\n",
       "      <td>Electricity</td>\n",
       "      <td>184109.603504</td>\n",
       "      <td>kWh</td>\n",
       "    </tr>\n",
       "    <tr>\n",
       "      <td rowspan=\"2\" valign=\"top\">2</td>\n",
       "      <td>Cost</td>\n",
       "      <td>Cost</td>\n",
       "      <td>19537.776814</td>\n",
       "      <td>$/system</td>\n",
       "    </tr>\n",
       "    <tr>\n",
       "      <td>Metric</td>\n",
       "      <td>LCOE</td>\n",
       "      <td>0.106124</td>\n",
       "      <td>$/kWh</td>\n",
       "    </tr>\n",
       "    <tr>\n",
       "      <td>...</td>\n",
       "      <td>...</td>\n",
       "      <td>...</td>\n",
       "      <td>...</td>\n",
       "      <td>...</td>\n",
       "      <td>...</td>\n",
       "    </tr>\n",
       "    <tr>\n",
       "      <td rowspan=\"5\" valign=\"top\">Expert C</td>\n",
       "      <td rowspan=\"2\" valign=\"top\">499</td>\n",
       "      <td>Metric</td>\n",
       "      <td>LCOE</td>\n",
       "      <td>0.048069</td>\n",
       "      <td>$/kWh</td>\n",
       "    </tr>\n",
       "    <tr>\n",
       "      <td>Output</td>\n",
       "      <td>Electricity</td>\n",
       "      <td>305471.691244</td>\n",
       "      <td>kWh</td>\n",
       "    </tr>\n",
       "    <tr>\n",
       "      <td rowspan=\"3\" valign=\"top\">500</td>\n",
       "      <td>Cost</td>\n",
       "      <td>Cost</td>\n",
       "      <td>14741.652350</td>\n",
       "      <td>$/system</td>\n",
       "    </tr>\n",
       "    <tr>\n",
       "      <td>Metric</td>\n",
       "      <td>LCOE</td>\n",
       "      <td>0.049040</td>\n",
       "      <td>$/kWh</td>\n",
       "    </tr>\n",
       "    <tr>\n",
       "      <td>Output</td>\n",
       "      <td>Electricity</td>\n",
       "      <td>300607.155580</td>\n",
       "      <td>kWh</td>\n",
       "    </tr>\n",
       "  </tbody>\n",
       "</table>\n",
       "<p>6000 rows × 2 columns</p>\n",
       "</div>"
      ],
      "text/plain": [
       "                                                                Value  \\\n",
       "Technology     Scenario    Sample Variable Index                        \n",
       "Residential PV 2015 Actual 1      Cost     Cost          19539.159852   \n",
       "                                  Metric   LCOE              0.106128   \n",
       "                                  Output   Electricity  184109.603504   \n",
       "                           2      Cost     Cost          19537.776814   \n",
       "                                  Metric   LCOE              0.106124   \n",
       "...                                                               ...   \n",
       "               Expert C    499    Metric   LCOE              0.048069   \n",
       "                                  Output   Electricity  305471.691244   \n",
       "                           500    Cost     Cost          14741.652350   \n",
       "                                  Metric   LCOE              0.049040   \n",
       "                                  Output   Electricity  300607.155580   \n",
       "\n",
       "                                                           Units  \n",
       "Technology     Scenario    Sample Variable Index                  \n",
       "Residential PV 2015 Actual 1      Cost     Cost         $/system  \n",
       "                                  Metric   LCOE            $/kWh  \n",
       "                                  Output   Electricity       kWh  \n",
       "                           2      Cost     Cost         $/system  \n",
       "                                  Metric   LCOE            $/kWh  \n",
       "...                                                          ...  \n",
       "               Expert C    499    Metric   LCOE            $/kWh  \n",
       "                                  Output   Electricity       kWh  \n",
       "                           500    Cost     Cost         $/system  \n",
       "                                  Metric   LCOE            $/kWh  \n",
       "                                  Output   Electricity       kWh  \n",
       "\n",
       "[6000 rows x 2 columns]"
      ]
     },
     "execution_count": 12,
     "metadata": {},
     "output_type": "execute_result"
    }
   ],
   "source": [
    "scenario_results"
   ]
  },
  {
   "cell_type": "markdown",
   "metadata": {},
   "source": [
    "#### Plot the results."
   ]
  },
  {
   "cell_type": "code",
   "execution_count": 13,
   "metadata": {},
   "outputs": [
    {
     "data": {
      "text/plain": [
       "<matplotlib.axes._subplots.AxesSubplot at 0x7fcdee579908>"
      ]
     },
     "execution_count": 13,
     "metadata": {},
     "output_type": "execute_result"
    },
    {
     "data": {
      "image/png": "[encoded data removed]",
      "text/plain": [
       "<Figure size 432x288 with 1 Axes>"
      ]
     },
     "metadata": {
      "needs_background": "light"
     },
     "output_type": "display_data"
    }
   ],
   "source": [
    "expert_results = scenario_results[[\"Value\"]].xs(\n",
    "    \"LCOE\", level=\"Index\"\n",
    ").rename(\n",
    "    columns={\"Value\" : \"LCOE [$/kWh]\"}\n",
    ").unstack(\n",
    "    [\"Scenario\"]\n",
    ").xs(\"LCOE [$/kWh]\", axis=1, drop_level=True).reset_index(drop=True)\n",
    "expert_results.plot.hist(bins=30)"
   ]
  },
  {
   "cell_type": "markdown",
   "metadata": {},
   "source": [
    "### Make tornado plots for Expert A."
   ]
  },
  {
   "cell_type": "markdown",
   "metadata": {},
   "source": [
    "#### Remember base case LCOE."
   ]
  },
  {
   "cell_type": "code",
   "execution_count": 14,
   "metadata": {},
   "outputs": [
    {
     "data": {
      "text/plain": [
       "0.10613187687931984"
      ]
     },
     "execution_count": 14,
     "metadata": {},
     "output_type": "execute_result"
    }
   ],
   "source": [
    "base_lcoe = scenario_results.xs([\"2015 Actual\", \"LCOE\"], level=[\"Scenario\", \"Index\"])[[\"Value\"]].agg(np.mean)[0]\n",
    "base_lcoe"
   ]
  },
  {
   "cell_type": "markdown",
   "metadata": {},
   "source": [
    "#### Define the factors."
   ]
  },
  {
   "cell_type": "code",
   "execution_count": 15,
   "metadata": {},
   "outputs": [],
   "source": [
    "tornado_factors = [\n",
    "    \"MCC\", \"MLT\", \"MEF\", \"MAP\", \"MOM\",\n",
    "    \"MDR\", \"ICC\", \"ILT\", \"IRC\", \"IEF\",\n",
    "    \"BCC\", \"BLR\", \"BPR\", \"BCA\", \"BOH\",\n",
    "]"
   ]
  },
  {
   "cell_type": "markdown",
   "metadata": {},
   "source": [
    "#### Add the scenarios to the design."
   ]
  },
  {
   "cell_type": "code",
   "execution_count": 16,
   "metadata": {},
   "outputs": [],
   "source": [
    "design_2015_actual    = designs.designs.xs   (\"2015 Actual\", level=\"Scenario\")\n",
    "parameter_2015_actual = designs.parameters.xs(\"2015 Actual\", level=\"Scenario\")\n",
    "parameter_expert_a    = designs.parameters.xs(\"Expert A\"   , level=\"Scenario\")\n",
    "for factor in tornado_factors:\n",
    "    scenario_new = factor\n",
    "    design_new = design_2015_actual.copy()\n",
    "    design_new[\"Scenario\"] = scenario_new\n",
    "    designs.designs = designs.designs.append(design_new.reset_index().set_index([\"Technology\", \"Scenario\", \"Variable\", \"Index\"]))\n",
    "    parameter_new = pd.concat([\n",
    "        parameter_2015_actual[parameter_2015_actual[\"Notes\"] != factor],\n",
    "        parameter_expert_a   [parameter_expert_a   [\"Notes\"] == factor],\n",
    "    ])\n",
    "    parameter_new[\"Scenario\"] = factor\n",
    "    designs.parameters = designs.parameters.append(parameter_new.reset_index().set_index([\"Technology\", \"Scenario\", \"Parameter\"]))"
   ]
  },
  {
   "cell_type": "markdown",
   "metadata": {},
   "source": [
    "#### Recompile the design."
   ]
  },
  {
   "cell_type": "code",
   "execution_count": 17,
   "metadata": {},
   "outputs": [],
   "source": [
    "designs.compile()"
   ]
  },
  {
   "cell_type": "markdown",
   "metadata": {},
   "source": [
    "#### Compute the results."
   ]
  },
  {
   "cell_type": "code",
   "execution_count": 18,
   "metadata": {
    "scrolled": false
   },
   "outputs": [
    {
     "data": {
      "text/plain": [
       "(28500, 2)"
      ]
     },
     "execution_count": 18,
     "metadata": {},
     "output_type": "execute_result"
    }
   ],
   "source": [
    "scenario_results = designs.evaluate_scenarios(sample_count=500)\n",
    "scenario_results.shape"
   ]
  },
  {
   "cell_type": "markdown",
   "metadata": {},
   "source": [
    "#### Make the tornado plot."
   ]
  },
  {
   "cell_type": "code",
   "execution_count": 19,
   "metadata": {},
   "outputs": [
    {
     "data": {
      "text/plain": [
       "<matplotlib.axes._subplots.AxesSubplot at 0x7fcdee61fef0>"
      ]
     },
     "execution_count": 19,
     "metadata": {},
     "output_type": "execute_result"
    },
    {
     "data": {
      "image/png": "[encoded data removed]",
      "text/plain": [
       "<Figure size 432x288 with 1 Axes>"
      ]
     },
     "metadata": {
      "needs_background": "light"
     },
     "output_type": "display_data"
    }
   ],
   "source": [
    "tornado_results = scenario_results[[\"Value\"]].xs(\n",
    "    \"LCOE\", level=\"Index\"\n",
    ").rename(\n",
    "    columns={\"Value\" : \"LCOE [$/kWh]\"}\n",
    ").reset_index(\n",
    "    [\"Technology\", \"Sample\", \"Variable\"], drop=True\n",
    ").groupby(\"Scenario\").agg(np.min).drop([\"2015 Actual\", \"Expert A\", \"Expert B\", \"Expert C\"])\n",
    "tornado_results[\"LCOE Reduction[%]\"] = 1 - tornado_results[\"LCOE [$/kWh]\"] / base_lcoe\n",
    "tornado_results[[\"LCOE Reduction[%]\"]].sort_values(\"LCOE Reduction[%]\", ascending=True).plot.barh()"
   ]
  },
  {
   "cell_type": "markdown",
   "metadata": {},
   "source": [
    "#### Look at the uncertainties."
   ]
  },
  {
   "cell_type": "code",
   "execution_count": 20,
   "metadata": {},
   "outputs": [
    {
     "data": {
      "text/plain": [
       "<matplotlib.axes._subplots.AxesSubplot at 0x7fcdedea76a0>"
      ]
     },
     "execution_count": 20,
     "metadata": {},
     "output_type": "execute_result"
    },
    {
     "data": {
      "image/png": "[encoded data removed]",
      "text/plain": [
       "<Figure size 432x288 with 1 Axes>"
      ]
     },
     "metadata": {
      "needs_background": "light"
     },
     "output_type": "display_data"
    }
   ],
   "source": [
    "sb.boxplot(\n",
    "    data = scenario_results[[\"Value\"]].xs(\n",
    "        \"LCOE\", level=\"Index\"\n",
    "    ).rename(\n",
    "        columns={\"Value\" : \"LCOE [$/kWh]\"}\n",
    "    ).reset_index(\n",
    "        [\"Technology\", \"Sample\", \"Variable\"], drop=True\n",
    "    ).drop([\"2015 Actual\", \"Expert A\", \"Expert B\", \"Expert C\"]).reset_index().sort_values(\"LCOE [$/kWh]\"),\n",
    "    x = \"Scenario\",\n",
    "    y = \"LCOE [$/kWh]\"\n",
    ")"
   ]
  }
 ],
 "metadata": {
  "kernelspec": {
   "display_name": "Python 3",
   "language": "python",
   "name": "python3"
  },
  "language_info": {
   "codemirror_mode": {
    "name": "ipython",
    "version": 3
   },
   "file_extension": ".py",
   "mimetype": "text/x-python",
   "name": "python",
   "nbconvert_exporter": "python",
   "pygments_lexer": "ipython3",
   "version": "3.6.9"
  }
 },
 "nbformat": 4,
 "nbformat_minor": 2
}
