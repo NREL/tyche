{
 "cells": [
  {
   "cell_type": "markdown",
   "metadata": {},
   "source": [
    "# Tyche Example with Simple PV Model"
   ]
  },
  {
   "cell_type": "markdown",
   "metadata": {},
   "source": [
    "## Set up."
   ]
  },
  {
   "cell_type": "markdown",
   "metadata": {},
   "source": [
    "### One only needs to execute the following line once, in order to make sure recent enough packages are installed."
   ]
  },
  {
   "cell_type": "code",
   "execution_count": 1,
   "metadata": {},
   "outputs": [],
   "source": [
    "#pip install numpy>=1.17.2 pandas>=0.25.1"
   ]
  },
  {
   "cell_type": "markdown",
   "metadata": {},
   "source": [
    "### Import packages."
   ]
  },
  {
   "cell_type": "code",
   "execution_count": 2,
   "metadata": {},
   "outputs": [],
   "source": [
    "import numpy             as np\n",
    "import matplotlib.pyplot as pl\n",
    "import pandas            as pd\n",
    "import re                as re\n",
    "import scipy.stats       as st\n",
    "import seaborn           as sb\n",
    "\n",
    "# The `tyche` package is located at <https://github.com/NREL/portfolio/tree/master/production-function/framework/code/tyche/>.\n",
    "import tyche             as ty\n",
    "\n",
    "from copy import deepcopy"
   ]
  },
  {
   "cell_type": "markdown",
   "metadata": {},
   "source": [
    "## Load data."
   ]
  },
  {
   "cell_type": "markdown",
   "metadata": {},
   "source": [
    "### The data are stored in a set of tab-separated value files in a folder."
   ]
  },
  {
   "cell_type": "code",
   "execution_count": 3,
   "metadata": {},
   "outputs": [],
   "source": [
    "designs = ty.Designs(\"../data-pv\")"
   ]
  },
  {
   "cell_type": "code",
   "execution_count": 4,
   "metadata": {},
   "outputs": [],
   "source": [
    "investments = ty.Investments(\"../data-pv\")"
   ]
  },
  {
   "cell_type": "markdown",
   "metadata": {},
   "source": [
    "### Compile the production and metric functions for each technology in the dataset."
   ]
  },
  {
   "cell_type": "code",
   "execution_count": 5,
   "metadata": {},
   "outputs": [],
   "source": [
    "designs.compile()"
   ]
  },
  {
   "cell_type": "markdown",
   "metadata": {},
   "source": [
    "## Examine the data."
   ]
  },
  {
   "cell_type": "markdown",
   "metadata": {},
   "source": [
    "### The `functions` table specifies where the Python code for each technology resides."
   ]
  },
  {
   "cell_type": "code",
   "execution_count": 6,
   "metadata": {},
   "outputs": [
    {
     "data": {
      "text/html": [
       "<div>\n",
       "<style scoped>\n",
       "    .dataframe tbody tr th:only-of-type {\n",
       "        vertical-align: middle;\n",
       "    }\n",
       "\n",
       "    .dataframe tbody tr th {\n",
       "        vertical-align: top;\n",
       "    }\n",
       "\n",
       "    .dataframe thead th {\n",
       "        text-align: right;\n",
       "    }\n",
       "</style>\n",
       "<table border=\"1\" class=\"dataframe\">\n",
       "  <thead>\n",
       "    <tr style=\"text-align: right;\">\n",
       "      <th></th>\n",
       "      <th>Style</th>\n",
       "      <th>Module</th>\n",
       "      <th>Capital</th>\n",
       "      <th>Fixed</th>\n",
       "      <th>Production</th>\n",
       "      <th>Metrics</th>\n",
       "      <th>Notes</th>\n",
       "    </tr>\n",
       "    <tr>\n",
       "      <th>Technology</th>\n",
       "      <th></th>\n",
       "      <th></th>\n",
       "      <th></th>\n",
       "      <th></th>\n",
       "      <th></th>\n",
       "      <th></th>\n",
       "      <th></th>\n",
       "    </tr>\n",
       "  </thead>\n",
       "  <tbody>\n",
       "    <tr>\n",
       "      <th>Simple pv</th>\n",
       "      <td>numpy</td>\n",
       "      <td>simple_pv</td>\n",
       "      <td>capital_cost</td>\n",
       "      <td>fixed_cost</td>\n",
       "      <td>production</td>\n",
       "      <td>metrics</td>\n",
       "      <td></td>\n",
       "    </tr>\n",
       "  </tbody>\n",
       "</table>\n",
       "</div>"
      ],
      "text/plain": [
       "            Style     Module       Capital       Fixed  Production  Metrics  \\\n",
       "Technology                                                                    \n",
       "Simple pv   numpy  simple_pv  capital_cost  fixed_cost  production  metrics   \n",
       "\n",
       "           Notes  \n",
       "Technology        \n",
       "Simple pv         "
      ]
     },
     "execution_count": 6,
     "metadata": {},
     "output_type": "execute_result"
    }
   ],
   "source": [
    "designs.functions"
   ]
  },
  {
   "cell_type": "markdown",
   "metadata": {},
   "source": [
    "Right now, only the style `numpy` is supported."
   ]
  },
  {
   "cell_type": "markdown",
   "metadata": {},
   "source": [
    "### The `indices` table defines the subscripts for variables."
   ]
  },
  {
   "cell_type": "code",
   "execution_count": 7,
   "metadata": {},
   "outputs": [
    {
     "data": {
      "text/html": [
       "<div>\n",
       "<style scoped>\n",
       "    .dataframe tbody tr th:only-of-type {\n",
       "        vertical-align: middle;\n",
       "    }\n",
       "\n",
       "    .dataframe tbody tr th {\n",
       "        vertical-align: top;\n",
       "    }\n",
       "\n",
       "    .dataframe thead th {\n",
       "        text-align: right;\n",
       "    }\n",
       "</style>\n",
       "<table border=\"1\" class=\"dataframe\">\n",
       "  <thead>\n",
       "    <tr style=\"text-align: right;\">\n",
       "      <th></th>\n",
       "      <th></th>\n",
       "      <th></th>\n",
       "      <th>Offset</th>\n",
       "      <th>Description</th>\n",
       "      <th>Notes</th>\n",
       "    </tr>\n",
       "    <tr>\n",
       "      <th>Technology</th>\n",
       "      <th>Type</th>\n",
       "      <th>Index</th>\n",
       "      <th></th>\n",
       "      <th></th>\n",
       "      <th></th>\n",
       "    </tr>\n",
       "  </thead>\n",
       "  <tbody>\n",
       "    <tr>\n",
       "      <th rowspan=\"6\" valign=\"top\">Simple pv</th>\n",
       "      <th>Capital</th>\n",
       "      <th>Other Capital Cost</th>\n",
       "      <td>0</td>\n",
       "      <td>Other Capital Cost</td>\n",
       "      <td>Placeholder in case other capital costs are ne...</td>\n",
       "    </tr>\n",
       "    <tr>\n",
       "      <th>Fixed</th>\n",
       "      <th>Other Fixed Cost</th>\n",
       "      <td>0</td>\n",
       "      <td>Other Fixed Cost</td>\n",
       "      <td>Placeholder in case other fixed costs are need...</td>\n",
       "    </tr>\n",
       "    <tr>\n",
       "      <th>Input</th>\n",
       "      <th>Solar Radiation</th>\n",
       "      <td>0</td>\n",
       "      <td>Solar Radiation</td>\n",
       "      <td></td>\n",
       "    </tr>\n",
       "    <tr>\n",
       "      <th rowspan=\"2\" valign=\"top\">Metric</th>\n",
       "      <th>GHG</th>\n",
       "      <td>1</td>\n",
       "      <td>Greenhouse gas emissions</td>\n",
       "      <td></td>\n",
       "    </tr>\n",
       "    <tr>\n",
       "      <th>LCOE</th>\n",
       "      <td>0</td>\n",
       "      <td>Cost</td>\n",
       "      <td></td>\n",
       "    </tr>\n",
       "    <tr>\n",
       "      <th>Output</th>\n",
       "      <th>Electricity</th>\n",
       "      <td>0</td>\n",
       "      <td>Electricity</td>\n",
       "      <td></td>\n",
       "    </tr>\n",
       "  </tbody>\n",
       "</table>\n",
       "</div>"
      ],
      "text/plain": [
       "                                       Offset               Description  \\\n",
       "Technology Type    Index                                                  \n",
       "Simple pv  Capital Other Capital Cost       0        Other Capital Cost   \n",
       "           Fixed   Other Fixed Cost         0          Other Fixed Cost   \n",
       "           Input   Solar Radiation          0           Solar Radiation   \n",
       "           Metric  GHG                      1  Greenhouse gas emissions   \n",
       "                   LCOE                     0                      Cost   \n",
       "           Output  Electricity              0               Electricity   \n",
       "\n",
       "                                                                                   Notes  \n",
       "Technology Type    Index                                                                  \n",
       "Simple pv  Capital Other Capital Cost  Placeholder in case other capital costs are ne...  \n",
       "           Fixed   Other Fixed Cost    Placeholder in case other fixed costs are need...  \n",
       "           Input   Solar Radiation                                                        \n",
       "           Metric  GHG                                                                    \n",
       "                   LCOE                                                                   \n",
       "           Output  Electricity                                                            "
      ]
     },
     "execution_count": 7,
     "metadata": {},
     "output_type": "execute_result"
    }
   ],
   "source": [
    "designs.indices"
   ]
  },
  {
   "cell_type": "markdown",
   "metadata": {},
   "source": [
    "### The `designs` table contains the cost, input, efficiency, and price data for a scenario."
   ]
  },
  {
   "cell_type": "code",
   "execution_count": 8,
   "metadata": {},
   "outputs": [
    {
     "data": {
      "text/html": [
       "<div>\n",
       "<style scoped>\n",
       "    .dataframe tbody tr th:only-of-type {\n",
       "        vertical-align: middle;\n",
       "    }\n",
       "\n",
       "    .dataframe tbody tr th {\n",
       "        vertical-align: top;\n",
       "    }\n",
       "\n",
       "    .dataframe thead th {\n",
       "        text-align: right;\n",
       "    }\n",
       "</style>\n",
       "<table border=\"1\" class=\"dataframe\">\n",
       "  <thead>\n",
       "    <tr style=\"text-align: right;\">\n",
       "      <th></th>\n",
       "      <th></th>\n",
       "      <th></th>\n",
       "      <th></th>\n",
       "      <th>Value</th>\n",
       "      <th>Units</th>\n",
       "      <th>Notes</th>\n",
       "    </tr>\n",
       "    <tr>\n",
       "      <th>Technology</th>\n",
       "      <th>Scenario</th>\n",
       "      <th>Variable</th>\n",
       "      <th>Index</th>\n",
       "      <th></th>\n",
       "      <th></th>\n",
       "      <th></th>\n",
       "    </tr>\n",
       "  </thead>\n",
       "  <tbody>\n",
       "    <tr>\n",
       "      <th rowspan=\"7\" valign=\"top\">Simple pv</th>\n",
       "      <th rowspan=\"7\" valign=\"top\">Base PV</th>\n",
       "      <th>Input</th>\n",
       "      <th>Solar Radiation</th>\n",
       "      <td>5.5</td>\n",
       "      <td>kWh/m2/day</td>\n",
       "      <td></td>\n",
       "    </tr>\n",
       "    <tr>\n",
       "      <th>Input efficiency</th>\n",
       "      <th>Solar Radiation</th>\n",
       "      <td>0.152</td>\n",
       "      <td>1</td>\n",
       "      <td>From Kavlak et al. (2018)</td>\n",
       "    </tr>\n",
       "    <tr>\n",
       "      <th>Input price</th>\n",
       "      <th>Solar Radiation</th>\n",
       "      <td>0</td>\n",
       "      <td>USD/kWh/m2/day</td>\n",
       "      <td></td>\n",
       "    </tr>\n",
       "    <tr>\n",
       "      <th>Lifetime</th>\n",
       "      <th>Other Capital Cost</th>\n",
       "      <td>20</td>\n",
       "      <td>yr</td>\n",
       "      <td>Assumed, Kavlak et al. (2019) do not provide a...</td>\n",
       "    </tr>\n",
       "    <tr>\n",
       "      <th>Output efficiency</th>\n",
       "      <th>Electricity</th>\n",
       "      <td>1</td>\n",
       "      <td>1</td>\n",
       "      <td>No output inverter losses assumed</td>\n",
       "    </tr>\n",
       "    <tr>\n",
       "      <th>Output price</th>\n",
       "      <th>Electricity</th>\n",
       "      <td>0.092</td>\n",
       "      <td>USD/kWh</td>\n",
       "      <td>Average commercial rate in Denver, CO</td>\n",
       "    </tr>\n",
       "    <tr>\n",
       "      <th>Scale</th>\n",
       "      <th>NaN</th>\n",
       "      <td>0.05</td>\n",
       "      <td>module/yr</td>\n",
       "      <td>Inverse of lifetime. Constant needed to leveli...</td>\n",
       "    </tr>\n",
       "  </tbody>\n",
       "</table>\n",
       "</div>"
      ],
      "text/plain": [
       "                                                          Value  \\\n",
       "Technology Scenario Variable          Index                       \n",
       "Simple pv  Base PV  Input             Solar Radiation       5.5   \n",
       "                    Input efficiency  Solar Radiation     0.152   \n",
       "                    Input price       Solar Radiation         0   \n",
       "                    Lifetime          Other Capital Cost     20   \n",
       "                    Output efficiency Electricity             1   \n",
       "                    Output price      Electricity         0.092   \n",
       "                    Scale             NaN                  0.05   \n",
       "\n",
       "                                                                   Units  \\\n",
       "Technology Scenario Variable          Index                                \n",
       "Simple pv  Base PV  Input             Solar Radiation         kWh/m2/day   \n",
       "                    Input efficiency  Solar Radiation                  1   \n",
       "                    Input price       Solar Radiation     USD/kWh/m2/day   \n",
       "                    Lifetime          Other Capital Cost              yr   \n",
       "                    Output efficiency Electricity                      1   \n",
       "                    Output price      Electricity                USD/kWh   \n",
       "                    Scale             NaN                      module/yr   \n",
       "\n",
       "                                                                                                      Notes  \n",
       "Technology Scenario Variable          Index                                                                  \n",
       "Simple pv  Base PV  Input             Solar Radiation                                                        \n",
       "                    Input efficiency  Solar Radiation                             From Kavlak et al. (2018)  \n",
       "                    Input price       Solar Radiation                                                        \n",
       "                    Lifetime          Other Capital Cost  Assumed, Kavlak et al. (2019) do not provide a...  \n",
       "                    Output efficiency Electricity                         No output inverter losses assumed  \n",
       "                    Output price      Electricity                     Average commercial rate in Denver, CO  \n",
       "                    Scale             NaN                 Inverse of lifetime. Constant needed to leveli...  "
      ]
     },
     "execution_count": 8,
     "metadata": {},
     "output_type": "execute_result"
    }
   ],
   "source": [
    "designs.designs"
   ]
  },
  {
   "cell_type": "markdown",
   "metadata": {},
   "source": [
    "### The `parameters` table contains additional techno-economic parameters for each technology."
   ]
  },
  {
   "cell_type": "code",
   "execution_count": 9,
   "metadata": {},
   "outputs": [
    {
     "data": {
      "text/html": [
       "<div>\n",
       "<style scoped>\n",
       "    .dataframe tbody tr th:only-of-type {\n",
       "        vertical-align: middle;\n",
       "    }\n",
       "\n",
       "    .dataframe tbody tr th {\n",
       "        vertical-align: top;\n",
       "    }\n",
       "\n",
       "    .dataframe thead th {\n",
       "        text-align: right;\n",
       "    }\n",
       "</style>\n",
       "<table border=\"1\" class=\"dataframe\">\n",
       "  <thead>\n",
       "    <tr style=\"text-align: right;\">\n",
       "      <th></th>\n",
       "      <th></th>\n",
       "      <th></th>\n",
       "      <th>Offset</th>\n",
       "      <th>Value</th>\n",
       "      <th>Units</th>\n",
       "      <th>Notes</th>\n",
       "    </tr>\n",
       "    <tr>\n",
       "      <th>Technology</th>\n",
       "      <th>Scenario</th>\n",
       "      <th>Parameter</th>\n",
       "      <th></th>\n",
       "      <th></th>\n",
       "      <th></th>\n",
       "      <th></th>\n",
       "    </tr>\n",
       "  </thead>\n",
       "  <tbody>\n",
       "    <tr>\n",
       "      <th rowspan=\"14\" valign=\"top\">Simple pv</th>\n",
       "      <th rowspan=\"14\" valign=\"top\">Base PV</th>\n",
       "      <th>Cells per module</th>\n",
       "      <td>0</td>\n",
       "      <td>72</td>\n",
       "      <td>cell/module</td>\n",
       "      <td>From Kavlak et al. (2018)</td>\n",
       "    </tr>\n",
       "    <tr>\n",
       "      <th>GHG factor for electricity</th>\n",
       "      <td>13</td>\n",
       "      <td>400</td>\n",
       "      <td>gCO2e/kWh</td>\n",
       "      <td>Rough approximation for US Grid</td>\n",
       "    </tr>\n",
       "    <tr>\n",
       "      <th>Module area utilization</th>\n",
       "      <td>12</td>\n",
       "      <td>0.9</td>\n",
       "      <td>unitless</td>\n",
       "      <td>From Kavlak et al. (2018)</td>\n",
       "    </tr>\n",
       "    <tr>\n",
       "      <th>Non-silicon materials cost</th>\n",
       "      <td>6</td>\n",
       "      <td>0.009433</td>\n",
       "      <td>$/cm2/cell</td>\n",
       "      <td>Calculated based on data from Kavlak et al. (2...</td>\n",
       "    </tr>\n",
       "    <tr>\n",
       "      <th>Plant size</th>\n",
       "      <td>8</td>\n",
       "      <td>1000</td>\n",
       "      <td>MW/yr</td>\n",
       "      <td>From Kavlak et al. (2018). Equivalent to 3.35E...</td>\n",
       "    </tr>\n",
       "    <tr>\n",
       "      <th>Polysilicon price</th>\n",
       "      <td>4</td>\n",
       "      <td>26</td>\n",
       "      <td>$/kg</td>\n",
       "      <td>2015$. From Kavlak et al. (2018)</td>\n",
       "    </tr>\n",
       "    <tr>\n",
       "      <th>Production yield</th>\n",
       "      <td>11</td>\n",
       "      <td>0.95</td>\n",
       "      <td>unitless</td>\n",
       "      <td>Production waste parameter. Include as an outp...</td>\n",
       "    </tr>\n",
       "    <tr>\n",
       "      <th>Reference plant cost</th>\n",
       "      <td>7</td>\n",
       "      <td>1.5513</td>\n",
       "      <td>$/cell</td>\n",
       "      <td>Calculated based on data from Kavlak et al. (2...</td>\n",
       "    </tr>\n",
       "    <tr>\n",
       "      <th>Reference plant size</th>\n",
       "      <td>9</td>\n",
       "      <td>1000</td>\n",
       "      <td>MW/yr</td>\n",
       "      <td>From Kavlak et al. (2018). Equivalent to 3.35E...</td>\n",
       "    </tr>\n",
       "    <tr>\n",
       "      <th>Scaling factor</th>\n",
       "      <td>10</td>\n",
       "      <td>0.27</td>\n",
       "      <td>unitless</td>\n",
       "      <td>From Kavlak et al. (2018)</td>\n",
       "    </tr>\n",
       "    <tr>\n",
       "      <th>Silicon utilization</th>\n",
       "      <td>5</td>\n",
       "      <td>0.45</td>\n",
       "      <td>unitless</td>\n",
       "      <td>From Kavlak et al. (2018)</td>\n",
       "    </tr>\n",
       "    <tr>\n",
       "      <th>Wafer area</th>\n",
       "      <td>1</td>\n",
       "      <td>243</td>\n",
       "      <td>cm2</td>\n",
       "      <td>From Kavlak et al. (2018)</td>\n",
       "    </tr>\n",
       "    <tr>\n",
       "      <th>Wafer density</th>\n",
       "      <td>3</td>\n",
       "      <td>2.33</td>\n",
       "      <td>g/cm3</td>\n",
       "      <td>From Kavlak et al. (2018)</td>\n",
       "    </tr>\n",
       "    <tr>\n",
       "      <th>Wafer thickness</th>\n",
       "      <td>2</td>\n",
       "      <td>180</td>\n",
       "      <td>um</td>\n",
       "      <td>From Kavlak et al. (2018)</td>\n",
       "    </tr>\n",
       "  </tbody>\n",
       "</table>\n",
       "</div>"
      ],
      "text/plain": [
       "                                                Offset     Value        Units  \\\n",
       "Technology Scenario Parameter                                                   \n",
       "Simple pv  Base PV  Cells per module                 0        72  cell/module   \n",
       "                    GHG factor for electricity      13       400    gCO2e/kWh   \n",
       "                    Module area utilization         12       0.9     unitless   \n",
       "                    Non-silicon materials cost       6  0.009433   $/cm2/cell   \n",
       "                    Plant size                       8      1000        MW/yr   \n",
       "                    Polysilicon price                4        26         $/kg   \n",
       "                    Production yield                11      0.95     unitless   \n",
       "                    Reference plant cost             7    1.5513       $/cell   \n",
       "                    Reference plant size             9      1000        MW/yr   \n",
       "                    Scaling factor                  10      0.27     unitless   \n",
       "                    Silicon utilization              5      0.45     unitless   \n",
       "                    Wafer area                       1       243          cm2   \n",
       "                    Wafer density                    3      2.33        g/cm3   \n",
       "                    Wafer thickness                  2       180           um   \n",
       "\n",
       "                                                                                            Notes  \n",
       "Technology Scenario Parameter                                                                      \n",
       "Simple pv  Base PV  Cells per module                                    From Kavlak et al. (2018)  \n",
       "                    GHG factor for electricity                    Rough approximation for US Grid  \n",
       "                    Module area utilization                             From Kavlak et al. (2018)  \n",
       "                    Non-silicon materials cost  Calculated based on data from Kavlak et al. (2...  \n",
       "                    Plant size                  From Kavlak et al. (2018). Equivalent to 3.35E...  \n",
       "                    Polysilicon price                            2015$. From Kavlak et al. (2018)  \n",
       "                    Production yield            Production waste parameter. Include as an outp...  \n",
       "                    Reference plant cost        Calculated based on data from Kavlak et al. (2...  \n",
       "                    Reference plant size        From Kavlak et al. (2018). Equivalent to 3.35E...  \n",
       "                    Scaling factor                                      From Kavlak et al. (2018)  \n",
       "                    Silicon utilization                                 From Kavlak et al. (2018)  \n",
       "                    Wafer area                                          From Kavlak et al. (2018)  \n",
       "                    Wafer density                                       From Kavlak et al. (2018)  \n",
       "                    Wafer thickness                                     From Kavlak et al. (2018)  "
      ]
     },
     "execution_count": 9,
     "metadata": {},
     "output_type": "execute_result"
    }
   ],
   "source": [
    "designs.parameters"
   ]
  },
  {
   "cell_type": "markdown",
   "metadata": {},
   "source": [
    "### The `results` table specifies the units of measure for results of computations."
   ]
  },
  {
   "cell_type": "code",
   "execution_count": 10,
   "metadata": {},
   "outputs": [
    {
     "data": {
      "text/html": [
       "<div>\n",
       "<style scoped>\n",
       "    .dataframe tbody tr th:only-of-type {\n",
       "        vertical-align: middle;\n",
       "    }\n",
       "\n",
       "    .dataframe tbody tr th {\n",
       "        vertical-align: top;\n",
       "    }\n",
       "\n",
       "    .dataframe thead th {\n",
       "        text-align: right;\n",
       "    }\n",
       "</style>\n",
       "<table border=\"1\" class=\"dataframe\">\n",
       "  <thead>\n",
       "    <tr style=\"text-align: right;\">\n",
       "      <th></th>\n",
       "      <th></th>\n",
       "      <th></th>\n",
       "      <th>Units</th>\n",
       "      <th>Notes</th>\n",
       "    </tr>\n",
       "    <tr>\n",
       "      <th>Technology</th>\n",
       "      <th>Variable</th>\n",
       "      <th>Index</th>\n",
       "      <th></th>\n",
       "      <th></th>\n",
       "    </tr>\n",
       "  </thead>\n",
       "  <tbody>\n",
       "    <tr>\n",
       "      <th rowspan=\"4\" valign=\"top\">Simple pv</th>\n",
       "      <th>Cost</th>\n",
       "      <th>Cost</th>\n",
       "      <td>USD/module</td>\n",
       "      <td></td>\n",
       "    </tr>\n",
       "    <tr>\n",
       "      <th rowspan=\"2\" valign=\"top\">Metric</th>\n",
       "      <th>GHG</th>\n",
       "      <td>gCO2e/module</td>\n",
       "      <td></td>\n",
       "    </tr>\n",
       "    <tr>\n",
       "      <th>LCOE</th>\n",
       "      <td>USD/kWh</td>\n",
       "      <td></td>\n",
       "    </tr>\n",
       "    <tr>\n",
       "      <th>Output</th>\n",
       "      <th>Electricity</th>\n",
       "      <td>kWh/module</td>\n",
       "      <td></td>\n",
       "    </tr>\n",
       "  </tbody>\n",
       "</table>\n",
       "</div>"
      ],
      "text/plain": [
       "                                        Units Notes\n",
       "Technology Variable Index                          \n",
       "Simple pv  Cost     Cost           USD/module      \n",
       "           Metric   GHG          gCO2e/module      \n",
       "                    LCOE              USD/kWh      \n",
       "           Output   Electricity    kWh/module      "
      ]
     },
     "execution_count": 10,
     "metadata": {},
     "output_type": "execute_result"
    }
   ],
   "source": [
    "designs.results"
   ]
  },
  {
   "cell_type": "markdown",
   "metadata": {},
   "source": [
    "### The `tranches` table specifies multually exclusive possibilities for investments: only one `Tranch` may be selected for each `Cateogry`."
   ]
  },
  {
   "cell_type": "code",
   "execution_count": 11,
   "metadata": {},
   "outputs": [
    {
     "data": {
      "text/html": [
       "<div>\n",
       "<style scoped>\n",
       "    .dataframe tbody tr th:only-of-type {\n",
       "        vertical-align: middle;\n",
       "    }\n",
       "\n",
       "    .dataframe tbody tr th {\n",
       "        vertical-align: top;\n",
       "    }\n",
       "\n",
       "    .dataframe thead th {\n",
       "        text-align: right;\n",
       "    }\n",
       "</style>\n",
       "<table border=\"1\" class=\"dataframe\">\n",
       "  <thead>\n",
       "    <tr style=\"text-align: right;\">\n",
       "      <th></th>\n",
       "      <th></th>\n",
       "      <th></th>\n",
       "      <th>Notes</th>\n",
       "    </tr>\n",
       "    <tr>\n",
       "      <th>Category</th>\n",
       "      <th>Tranche</th>\n",
       "      <th>Scenario</th>\n",
       "      <th></th>\n",
       "    </tr>\n",
       "  </thead>\n",
       "  <tbody>\n",
       "    <tr>\n",
       "      <th rowspan=\"4\" valign=\"top\">PV R&amp;D</th>\n",
       "      <th>High PV R&amp;D</th>\n",
       "      <th>Fast Progress on PV</th>\n",
       "      <td></td>\n",
       "    </tr>\n",
       "    <tr>\n",
       "      <th>Low PV R&amp;D</th>\n",
       "      <th>Slow Progress on PV</th>\n",
       "      <td></td>\n",
       "    </tr>\n",
       "    <tr>\n",
       "      <th>Medium PV R&amp;D</th>\n",
       "      <th>Moderate Progress on PV</th>\n",
       "      <td></td>\n",
       "    </tr>\n",
       "    <tr>\n",
       "      <th>No PV R&amp;D</th>\n",
       "      <th>Base PV</th>\n",
       "      <td></td>\n",
       "    </tr>\n",
       "  </tbody>\n",
       "</table>\n",
       "</div>"
      ],
      "text/plain": [
       "                                               Notes\n",
       "Category Tranche       Scenario                     \n",
       "PV R&D   High PV R&D   Fast Progress on PV          \n",
       "         Low PV R&D    Slow Progress on PV          \n",
       "         Medium PV R&D Moderate Progress on PV      \n",
       "         No PV R&D     Base PV                      "
      ]
     },
     "execution_count": 11,
     "metadata": {},
     "output_type": "execute_result"
    }
   ],
   "source": [
    "investments.tranches"
   ]
  },
  {
   "cell_type": "markdown",
   "metadata": {},
   "source": [
    "### The `investments` table bundles a consistent set of tranches (one per category) into an overall investment."
   ]
  },
  {
   "cell_type": "code",
   "execution_count": 12,
   "metadata": {},
   "outputs": [
    {
     "data": {
      "text/html": [
       "<div>\n",
       "<style scoped>\n",
       "    .dataframe tbody tr th:only-of-type {\n",
       "        vertical-align: middle;\n",
       "    }\n",
       "\n",
       "    .dataframe tbody tr th {\n",
       "        vertical-align: top;\n",
       "    }\n",
       "\n",
       "    .dataframe thead th {\n",
       "        text-align: right;\n",
       "    }\n",
       "</style>\n",
       "<table border=\"1\" class=\"dataframe\">\n",
       "  <thead>\n",
       "    <tr style=\"text-align: right;\">\n",
       "      <th></th>\n",
       "      <th></th>\n",
       "      <th></th>\n",
       "      <th>Amount</th>\n",
       "      <th>Notes</th>\n",
       "    </tr>\n",
       "    <tr>\n",
       "      <th>Investment</th>\n",
       "      <th>Category</th>\n",
       "      <th>Tranche</th>\n",
       "      <th></th>\n",
       "      <th></th>\n",
       "    </tr>\n",
       "  </thead>\n",
       "  <tbody>\n",
       "    <tr>\n",
       "      <th>No R&amp;D Spending</th>\n",
       "      <th>PV R&amp;D</th>\n",
       "      <th>No PV R&amp;D</th>\n",
       "      <td>0.0</td>\n",
       "      <td></td>\n",
       "    </tr>\n",
       "  </tbody>\n",
       "</table>\n",
       "</div>"
      ],
      "text/plain": [
       "                                    Amount Notes\n",
       "Investment      Category Tranche                \n",
       "No R&D Spending PV R&D   No PV R&D     0.0      "
      ]
     },
     "execution_count": 12,
     "metadata": {},
     "output_type": "execute_result"
    }
   ],
   "source": [
    "investments.investments"
   ]
  },
  {
   "cell_type": "markdown",
   "metadata": {},
   "source": [
    "## Evaluate the scenarios in the dataset."
   ]
  },
  {
   "cell_type": "code",
   "execution_count": 13,
   "metadata": {
    "scrolled": false
   },
   "outputs": [],
   "source": [
    "scenario_results = designs.evaluate_scenarios()"
   ]
  },
  {
   "cell_type": "code",
   "execution_count": 14,
   "metadata": {},
   "outputs": [
    {
     "data": {
      "text/html": [
       "<div>\n",
       "<style scoped>\n",
       "    .dataframe tbody tr th:only-of-type {\n",
       "        vertical-align: middle;\n",
       "    }\n",
       "\n",
       "    .dataframe tbody tr th {\n",
       "        vertical-align: top;\n",
       "    }\n",
       "\n",
       "    .dataframe thead th {\n",
       "        text-align: right;\n",
       "    }\n",
       "</style>\n",
       "<table border=\"1\" class=\"dataframe\">\n",
       "  <thead>\n",
       "    <tr style=\"text-align: right;\">\n",
       "      <th></th>\n",
       "      <th></th>\n",
       "      <th></th>\n",
       "      <th></th>\n",
       "      <th></th>\n",
       "      <th>Value</th>\n",
       "      <th>Units</th>\n",
       "    </tr>\n",
       "    <tr>\n",
       "      <th>Technology</th>\n",
       "      <th>Scenario</th>\n",
       "      <th>Sample</th>\n",
       "      <th>Variable</th>\n",
       "      <th>Index</th>\n",
       "      <th></th>\n",
       "      <th></th>\n",
       "    </tr>\n",
       "  </thead>\n",
       "  <tbody>\n",
       "    <tr>\n",
       "      <th rowspan=\"4\" valign=\"top\">Simple pv</th>\n",
       "      <th rowspan=\"4\" valign=\"top\">Base PV</th>\n",
       "      <th rowspan=\"4\" valign=\"top\">1</th>\n",
       "      <th>Cost</th>\n",
       "      <th>Cost</th>\n",
       "      <td>-7.177702e+02</td>\n",
       "      <td>USD/module</td>\n",
       "    </tr>\n",
       "    <tr>\n",
       "      <th rowspan=\"2\" valign=\"top\">Metric</th>\n",
       "      <th>GHG</th>\n",
       "      <td>4.508260e+06</td>\n",
       "      <td>gCO2e/module</td>\n",
       "    </tr>\n",
       "    <tr>\n",
       "      <th>LCOE</th>\n",
       "      <td>-6.368489e-02</td>\n",
       "      <td>USD/kWh</td>\n",
       "    </tr>\n",
       "    <tr>\n",
       "      <th>Output</th>\n",
       "      <th>Electricity</th>\n",
       "      <td>1.127065e+04</td>\n",
       "      <td>kWh/module</td>\n",
       "    </tr>\n",
       "  </tbody>\n",
       "</table>\n",
       "</div>"
      ],
      "text/plain": [
       "                                                        Value         Units\n",
       "Technology Scenario Sample Variable Index                                  \n",
       "Simple pv  Base PV  1      Cost     Cost        -7.177702e+02    USD/module\n",
       "                           Metric   GHG          4.508260e+06  gCO2e/module\n",
       "                                    LCOE        -6.368489e-02       USD/kWh\n",
       "                           Output   Electricity  1.127065e+04    kWh/module"
      ]
     },
     "execution_count": 14,
     "metadata": {},
     "output_type": "execute_result"
    }
   ],
   "source": [
    "scenario_results.xs(1, level=\"Sample\", drop_level=False)"
   ]
  },
  {
   "cell_type": "markdown",
   "metadata": {},
   "source": [
    "### Save results."
   ]
  },
  {
   "cell_type": "code",
   "execution_count": 15,
   "metadata": {},
   "outputs": [],
   "source": [
    "scenario_results.to_csv(\"simple-pv-results.csv\")"
   ]
  },
  {
   "cell_type": "markdown",
   "metadata": {},
   "source": [
    "# NOTE: Items below have not been updated for simple PV module..."
   ]
  },
  {
   "cell_type": "markdown",
   "metadata": {},
   "source": [
    "### Plot GHG metric."
   ]
  },
  {
   "cell_type": "code",
   "execution_count": null,
   "metadata": {
    "scrolled": true
   },
   "outputs": [],
   "source": [
    "g = sb.boxplot(\n",
    "    x=\"Scenario\",\n",
    "    y=\"Value\",\n",
    "    data=scenario_results.xs(\n",
    "        [\"Metric\", \"GHG\"],\n",
    "        level=[\"Variable\", \"Index\"]\n",
    "    ).reset_index()[[\"Scenario\", \"Value\"]],\n",
    "    order=[\"Base Electrolysis\", \"Slow Progress on Electrolysis\", \"Moderate Progress on Electrolysis\", \"Fast Progress on Electrolysis\"]\n",
    ")\n",
    "g.set(ylabel=\"GHG Footprint [gCO2e / gH2]\")\n",
    "g.set_xticklabels(g.get_xticklabels(), rotation=15);"
   ]
  },
  {
   "cell_type": "markdown",
   "metadata": {},
   "source": [
    "### Plot cost metric."
   ]
  },
  {
   "cell_type": "code",
   "execution_count": null,
   "metadata": {},
   "outputs": [],
   "source": [
    "g = sb.boxplot(\n",
    "    x=\"Scenario\",\n",
    "    y=\"Value\",\n",
    "    data=scenario_results.xs(\n",
    "        [\"Metric\", \"Cost\"],\n",
    "        level=[\"Variable\", \"Index\"]\n",
    "    ).reset_index()[[\"Scenario\", \"Value\"]],\n",
    "    order=[\"Base Electrolysis\", \"Slow Progress on Electrolysis\", \"Moderate Progress on Electrolysis\", \"Fast Progress on Electrolysis\"]\n",
    ")\n",
    "g.set(ylabel=\"Cost [USD / gH2]\")\n",
    "g.set_xticklabels(g.get_xticklabels(), rotation=15);"
   ]
  },
  {
   "cell_type": "markdown",
   "metadata": {},
   "source": [
    "### Plot employment metric."
   ]
  },
  {
   "cell_type": "code",
   "execution_count": null,
   "metadata": {},
   "outputs": [],
   "source": [
    "g = sb.boxplot(\n",
    "    x=\"Scenario\",\n",
    "    y=\"Value\",\n",
    "    data=scenario_results.xs(\n",
    "        [\"Metric\", \"Jobs\"],\n",
    "        level=[\"Variable\", \"Index\"]\n",
    "    ).reset_index()[[\"Scenario\", \"Value\"]],\n",
    "    order=[\"Base Electrolysis\", \"Slow Progress on Electrolysis\", \"Moderate Progress on Electrolysis\", \"Fast Progress on Electrolysis\"]\n",
    ")\n",
    "g.set(ylabel=\"Employment [job / gH2]\")\n",
    "g.set_xticklabels(g.get_xticklabels(), rotation=15);"
   ]
  },
  {
   "cell_type": "markdown",
   "metadata": {},
   "source": [
    "## Evaluate the investments in the dataset."
   ]
  },
  {
   "cell_type": "code",
   "execution_count": null,
   "metadata": {},
   "outputs": [],
   "source": [
    "investment_results = investments.evaluate_investments(designs, sample_count=50)"
   ]
  },
  {
   "cell_type": "markdown",
   "metadata": {},
   "source": [
    "### Costs of investments."
   ]
  },
  {
   "cell_type": "code",
   "execution_count": null,
   "metadata": {},
   "outputs": [],
   "source": [
    "investment_results.amounts"
   ]
  },
  {
   "cell_type": "markdown",
   "metadata": {},
   "source": [
    "### Benefits of investments."
   ]
  },
  {
   "cell_type": "code",
   "execution_count": null,
   "metadata": {},
   "outputs": [],
   "source": [
    "investment_results.metrics.xs(1, level=\"Sample\", drop_level=False)"
   ]
  },
  {
   "cell_type": "code",
   "execution_count": null,
   "metadata": {},
   "outputs": [],
   "source": [
    "investment_results.summary.xs(1, level=\"Sample\", drop_level=False)"
   ]
  },
  {
   "cell_type": "markdown",
   "metadata": {},
   "source": [
    "### Save results."
   ]
  },
  {
   "cell_type": "code",
   "execution_count": null,
   "metadata": {},
   "outputs": [],
   "source": [
    "investment_results.amounts.to_csv(\"example-investment-amounts.csv\")"
   ]
  },
  {
   "cell_type": "code",
   "execution_count": null,
   "metadata": {},
   "outputs": [],
   "source": [
    "investment_results.metrics.to_csv(\"example-investment-metrics.csv\")"
   ]
  },
  {
   "cell_type": "markdown",
   "metadata": {},
   "source": [
    "### Plot GHG metric."
   ]
  },
  {
   "cell_type": "code",
   "execution_count": null,
   "metadata": {
    "scrolled": false
   },
   "outputs": [],
   "source": [
    "g = sb.boxplot(\n",
    "    x=\"Investment\",\n",
    "    y=\"Value\",\n",
    "    data=investment_results.metrics.xs(\n",
    "        \"GHG\",\n",
    "        level=\"Index\"\n",
    "    ).reset_index()[[\"Investment\", \"Value\"]],\n",
    "    order=[\"No R&D Spending\", \"Low R&D Spending\", \"Medium R&D Spending\", \"High R&D Spending\"]\n",
    ")\n",
    "g.set(ylabel=\"GHG Footprint [gCO2e / gH2]\")\n",
    "g.set_xticklabels(g.get_xticklabels(), rotation=15);"
   ]
  },
  {
   "cell_type": "markdown",
   "metadata": {},
   "source": [
    "### Plot cost metric."
   ]
  },
  {
   "cell_type": "code",
   "execution_count": null,
   "metadata": {},
   "outputs": [],
   "source": [
    "g = sb.boxplot(\n",
    "    x=\"Investment\",\n",
    "    y=\"Value\",\n",
    "    data=investment_results.metrics.xs(\n",
    "        \"Cost\",\n",
    "        level=\"Index\"\n",
    "    ).reset_index()[[\"Investment\", \"Value\"]],\n",
    "    order=[\"No R&D Spending\", \"Low R&D Spending\", \"Medium R&D Spending\", \"High R&D Spending\"]\n",
    ")\n",
    "g.set(ylabel=\"Cost [USD / gH2]\")\n",
    "g.set_xticklabels(g.get_xticklabels(), rotation=15);"
   ]
  },
  {
   "cell_type": "markdown",
   "metadata": {},
   "source": [
    "### Plot employment metric."
   ]
  },
  {
   "cell_type": "code",
   "execution_count": null,
   "metadata": {},
   "outputs": [],
   "source": [
    "g = sb.boxplot(\n",
    "    x=\"Investment\",\n",
    "    y=\"Value\",\n",
    "    data=investment_results.metrics.xs(\n",
    "        \"Jobs\",\n",
    "        level=\"Index\"\n",
    "    ).reset_index()[[\"Investment\", \"Value\"]],\n",
    "    order=[\"No R&D Spending\", \"Low R&D Spending\", \"Medium R&D Spending\", \"High R&D Spending\"]\n",
    ")\n",
    "g.set(ylabel=\"Employment [job / gH2]\")\n",
    "g.set_xticklabels(g.get_xticklabels(), rotation=15);"
   ]
  },
  {
   "cell_type": "markdown",
   "metadata": {},
   "source": [
    "## Sensitity analysis."
   ]
  },
  {
   "cell_type": "markdown",
   "metadata": {},
   "source": [
    "### Vary the four efficiencies in the design."
   ]
  },
  {
   "cell_type": "code",
   "execution_count": null,
   "metadata": {},
   "outputs": [],
   "source": [
    "# Four variables are involved.\n",
    "variables = [\n",
    "    (\"Input efficiency\" , \"Water\"      ),\n",
    "    (\"Input efficiency\" , \"Electricity\"),\n",
    "    (\"Output efficiency\", \"Oxygen\"     ),\n",
    "    (\"Output efficiency\", \"Hydrogen\"   ),\n",
    "]"
   ]
  },
  {
   "cell_type": "code",
   "execution_count": null,
   "metadata": {},
   "outputs": [],
   "source": [
    "# Let efficiencies range from 0.75 to 0.975.\n",
    "efficiencies = np.arange(0.750, 1.000, 0.025)\n",
    "efficiencies"
   ]
  },
  {
   "cell_type": "markdown",
   "metadata": {},
   "source": [
    "### Start from the base case."
   ]
  },
  {
   "cell_type": "code",
   "execution_count": null,
   "metadata": {},
   "outputs": [],
   "source": [
    "base_design = designs.designs.xs(\"Base Electrolysis\", level=1, drop_level=False)\n",
    "base_design"
   ]
  },
  {
   "cell_type": "code",
   "execution_count": null,
   "metadata": {},
   "outputs": [],
   "source": [
    "base_parameters = designs.parameters.xs(\"Base Electrolysis\", level=1, drop_level=False)\n",
    "base_parameters"
   ]
  },
  {
   "cell_type": "markdown",
   "metadata": {},
   "source": [
    "### Generate the new scenarios and append them to the previous ones."
   ]
  },
  {
   "cell_type": "code",
   "execution_count": null,
   "metadata": {},
   "outputs": [],
   "source": [
    "sensitivities = deepcopy(designs)\n",
    "sensitivities.designs = sensitivities.designs[0:0]\n",
    "sensitivities.parameters = sensitivities.parameters[0:0]"
   ]
  },
  {
   "cell_type": "code",
   "execution_count": null,
   "metadata": {},
   "outputs": [],
   "source": [
    "# Iterate over variables and efficiencies.\n",
    "for variable, index in variables:\n",
    "    for efficiency in efficiencies:\n",
    "\n",
    "        # Name the scenario.\n",
    "        scenario = \"Let \" + variable + \" @ \" + index + \" = \" + str(round(efficiency, 3))\n",
    "        \n",
    "        # Alter the base case.\n",
    "        vary_design = base_design.rename(index={\"Base Electrolysis\" : scenario}, level=1)\n",
    "        vary_design.loc[(\"Simple electrolysis\", scenario, variable, index), \"Value\"] = efficiency\n",
    "        \n",
    "        # Keep the parameters the same.\n",
    "        vary_parameters = base_parameters.rename(index={\"Base Electrolysis\" : scenario}, level=1)\n",
    "        \n",
    "        # Append the results to the existing table of scenarios.\n",
    "        sensitivities.designs = sensitivities.designs.append(vary_design)\n",
    "        sensitivities.parameters = sensitivities.parameters.append(vary_parameters)"
   ]
  },
  {
   "cell_type": "markdown",
   "metadata": {},
   "source": [
    "#### Remember to compile the design, since we've added scenarios."
   ]
  },
  {
   "cell_type": "code",
   "execution_count": null,
   "metadata": {},
   "outputs": [],
   "source": [
    "sensitivities.compile()"
   ]
  },
  {
   "cell_type": "markdown",
   "metadata": {},
   "source": [
    "#### See how many rows there are in the tables now."
   ]
  },
  {
   "cell_type": "code",
   "execution_count": null,
   "metadata": {},
   "outputs": [],
   "source": [
    "sensitivities.designs.shape"
   ]
  },
  {
   "cell_type": "code",
   "execution_count": null,
   "metadata": {},
   "outputs": [],
   "source": [
    "sensitivities.parameters.shape"
   ]
  },
  {
   "cell_type": "code",
   "execution_count": null,
   "metadata": {},
   "outputs": [],
   "source": [
    "sensitivities.designs"
   ]
  },
  {
   "cell_type": "markdown",
   "metadata": {},
   "source": [
    "### Compute the results."
   ]
  },
  {
   "cell_type": "code",
   "execution_count": null,
   "metadata": {},
   "outputs": [],
   "source": [
    "results = sensitivities.evaluate_scenarios(1)\n",
    "results"
   ]
  },
  {
   "cell_type": "markdown",
   "metadata": {},
   "source": [
    "### Plot the cost results."
   ]
  },
  {
   "cell_type": "code",
   "execution_count": null,
   "metadata": {},
   "outputs": [],
   "source": [
    "cost_results = results.xs(\"Cost\", level=\"Variable\").reset_index()[[\"Scenario\", \"Value\"]]"
   ]
  },
  {
   "cell_type": "code",
   "execution_count": null,
   "metadata": {},
   "outputs": [],
   "source": [
    "cost_results[0:10]"
   ]
  },
  {
   "cell_type": "code",
   "execution_count": null,
   "metadata": {},
   "outputs": [],
   "source": [
    "cost_results[\"Variable\"  ] = cost_results[\"Scenario\"].apply(lambda x: re.sub(r'^Let (.*) @ (.*) =.*$', '\\\\1[\\\\2]', x))\n",
    "cost_results[\"Efficiency\"] = cost_results[\"Scenario\"].apply(lambda x: float(re.sub(r'^.*= (.*)$', '\\\\1', x)))\n",
    "cost_results[\"Cost [USD/mole]\"] = cost_results[\"Value\"]"
   ]
  },
  {
   "cell_type": "code",
   "execution_count": null,
   "metadata": {},
   "outputs": [],
   "source": [
    "cost_results = cost_results[[\"Variable\", \"Efficiency\", \"Cost [USD/mole]\"]]\n",
    "cost_results[0:10]"
   ]
  },
  {
   "cell_type": "code",
   "execution_count": null,
   "metadata": {
    "scrolled": false
   },
   "outputs": [],
   "source": [
    "# Here is a really simple plot.\n",
    "cost_results.plot(\n",
    "    x=\"Efficiency\",\n",
    "    y=\"Cost [USD/mole]\",\n",
    "    c=cost_results[\"Variable\"].apply(lambda v: {\n",
    "        \"Input efficiency[Water]\"       : \"blue\"  ,\n",
    "        \"Input efficiency[Electricity]\" : \"orange\",\n",
    "        \"Output efficiency[Oxygen]\"     : \"green\" ,\n",
    "        \"Output efficiency[Hydrogen]\"   : \"red\"   ,\n",
    "    }[v]),\n",
    "    kind=\"scatter\"\n",
    ")"
   ]
  }
 ],
 "metadata": {
  "kernelspec": {
   "display_name": "Python 3",
   "language": "python",
   "name": "python3"
  },
  "language_info": {
   "codemirror_mode": {
    "name": "ipython",
    "version": 3
   },
   "file_extension": ".py",
   "mimetype": "text/x-python",
   "name": "python",
   "nbconvert_exporter": "python",
   "pygments_lexer": "ipython3",
   "version": "3.7.6"
  }
 },
 "nbformat": 4,
 "nbformat_minor": 2
}
