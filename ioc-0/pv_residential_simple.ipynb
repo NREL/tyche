{
 "cells": [
  {
   "cell_type": "markdown",
   "metadata": {},
   "source": [
    "# Multiple Objectives for Residential PV"
   ]
  },
  {
   "cell_type": "markdown",
   "metadata": {},
   "source": [
    "## Set up."
   ]
  },
  {
   "cell_type": "markdown",
   "metadata": {},
   "source": [
    "### One only needs to execute the following line once, in order to make sure recent enough packages are installed."
   ]
  },
  {
   "cell_type": "code",
   "execution_count": 1,
   "metadata": {},
   "outputs": [],
   "source": [
    "#!pip install 'numpy>=1.17.2' 'pandas>=0.25.1'"
   ]
  },
  {
   "cell_type": "markdown",
   "metadata": {},
   "source": [
    "### Import packages."
   ]
  },
  {
   "cell_type": "code",
   "execution_count": 2,
   "metadata": {},
   "outputs": [],
   "source": [
    "import os\n",
    "import sys\n",
    "sys.path.insert(0, os.path.abspath(\"../src\"))"
   ]
  },
  {
   "cell_type": "code",
   "execution_count": 3,
   "metadata": {},
   "outputs": [],
   "source": [
    "import numpy             as np\n",
    "import matplotlib.pyplot as pl\n",
    "import pandas            as pd\n",
    "import seaborn           as sb\n",
    "\n",
    "# The `tyche` package is located at <https://github.com/NREL/portfolio/tree/master/production-function/src/tyche/>.\n",
    "import tyche             as ty\n",
    "\n",
    "from copy            import deepcopy\n",
    "from IPython.display import Image "
   ]
  },
  {
   "cell_type": "markdown",
   "metadata": {},
   "source": [
    "## Load data."
   ]
  },
  {
   "cell_type": "markdown",
   "metadata": {},
   "source": [
    "### The data are stored in a set of tab-separated value files in a folder."
   ]
  },
  {
   "cell_type": "code",
   "execution_count": 4,
   "metadata": {},
   "outputs": [],
   "source": [
    "designs = ty.Designs(\"data/pv_residential_simple\")"
   ]
  },
  {
   "cell_type": "code",
   "execution_count": 5,
   "metadata": {},
   "outputs": [],
   "source": [
    "investments = ty.Investments(\"data/pv_residential_simple\")"
   ]
  },
  {
   "cell_type": "markdown",
   "metadata": {},
   "source": [
    "### Compile the production and metric functions for each technology in the dataset."
   ]
  },
  {
   "cell_type": "code",
   "execution_count": 6,
   "metadata": {},
   "outputs": [],
   "source": [
    "designs.compile()"
   ]
  },
  {
   "cell_type": "markdown",
   "metadata": {},
   "source": [
    "## Examine the data."
   ]
  },
  {
   "cell_type": "markdown",
   "metadata": {},
   "source": [
    "### The `functions` table specifies where the Python code for each technology resides."
   ]
  },
  {
   "cell_type": "code",
   "execution_count": 7,
   "metadata": {},
   "outputs": [
    {
     "data": {
      "text/html": [
       "<div>\n",
       "<style scoped>\n",
       "    .dataframe tbody tr th:only-of-type {\n",
       "        vertical-align: middle;\n",
       "    }\n",
       "\n",
       "    .dataframe tbody tr th {\n",
       "        vertical-align: top;\n",
       "    }\n",
       "\n",
       "    .dataframe thead th {\n",
       "        text-align: right;\n",
       "    }\n",
       "</style>\n",
       "<table border=\"1\" class=\"dataframe\">\n",
       "  <thead>\n",
       "    <tr style=\"text-align: right;\">\n",
       "      <th></th>\n",
       "      <th>Style</th>\n",
       "      <th>Module</th>\n",
       "      <th>Capital</th>\n",
       "      <th>Fixed</th>\n",
       "      <th>Production</th>\n",
       "      <th>Metrics</th>\n",
       "      <th>Notes</th>\n",
       "    </tr>\n",
       "    <tr>\n",
       "      <th>Technology</th>\n",
       "      <th></th>\n",
       "      <th></th>\n",
       "      <th></th>\n",
       "      <th></th>\n",
       "      <th></th>\n",
       "      <th></th>\n",
       "      <th></th>\n",
       "    </tr>\n",
       "  </thead>\n",
       "  <tbody>\n",
       "    <tr>\n",
       "      <td>Residential PV</td>\n",
       "      <td>numpy</td>\n",
       "      <td>pv_residential_simple</td>\n",
       "      <td>capital_cost</td>\n",
       "      <td>fixed_cost</td>\n",
       "      <td>production</td>\n",
       "      <td>metrics</td>\n",
       "      <td></td>\n",
       "    </tr>\n",
       "  </tbody>\n",
       "</table>\n",
       "</div>"
      ],
      "text/plain": [
       "                Style                         Module       Capital  \\\n",
       "Technology                                                           \n",
       "Residential PV  numpy  pv_residential_simple  capital_cost   \n",
       "\n",
       "                     Fixed  Production  Metrics Notes  \n",
       "Technology                                             \n",
       "Residential PV  fixed_cost  production  metrics        "
      ]
     },
     "execution_count": 7,
     "metadata": {},
     "output_type": "execute_result"
    }
   ],
   "source": [
    "designs.functions"
   ]
  },
  {
   "cell_type": "markdown",
   "metadata": {},
   "source": [
    "Right now, only the style `numpy` is supported."
   ]
  },
  {
   "cell_type": "markdown",
   "metadata": {},
   "source": [
    "### The `indices` table defines the subscripts for variables."
   ]
  },
  {
   "cell_type": "code",
   "execution_count": 8,
   "metadata": {},
   "outputs": [
    {
     "data": {
      "text/html": [
       "<div>\n",
       "<style scoped>\n",
       "    .dataframe tbody tr th:only-of-type {\n",
       "        vertical-align: middle;\n",
       "    }\n",
       "\n",
       "    .dataframe tbody tr th {\n",
       "        vertical-align: top;\n",
       "    }\n",
       "\n",
       "    .dataframe thead th {\n",
       "        text-align: right;\n",
       "    }\n",
       "</style>\n",
       "<table border=\"1\" class=\"dataframe\">\n",
       "  <thead>\n",
       "    <tr style=\"text-align: right;\">\n",
       "      <th></th>\n",
       "      <th></th>\n",
       "      <th></th>\n",
       "      <th>Offset</th>\n",
       "      <th>Description</th>\n",
       "      <th>Notes</th>\n",
       "    </tr>\n",
       "    <tr>\n",
       "      <th>Technology</th>\n",
       "      <th>Type</th>\n",
       "      <th>Index</th>\n",
       "      <th></th>\n",
       "      <th></th>\n",
       "      <th></th>\n",
       "    </tr>\n",
       "  </thead>\n",
       "  <tbody>\n",
       "    <tr>\n",
       "      <td rowspan=\"9\" valign=\"top\">Residential PV</td>\n",
       "      <td rowspan=\"3\" valign=\"top\">Capital</td>\n",
       "      <td>BoS</td>\n",
       "      <td>2</td>\n",
       "      <td>balance of system</td>\n",
       "      <td></td>\n",
       "    </tr>\n",
       "    <tr>\n",
       "      <td>Inverter</td>\n",
       "      <td>1</td>\n",
       "      <td>system inverters</td>\n",
       "      <td></td>\n",
       "    </tr>\n",
       "    <tr>\n",
       "      <td>Module</td>\n",
       "      <td>0</td>\n",
       "      <td>system module</td>\n",
       "      <td></td>\n",
       "    </tr>\n",
       "    <tr>\n",
       "      <td>Fixed</td>\n",
       "      <td>System</td>\n",
       "      <td>0</td>\n",
       "      <td>whole system</td>\n",
       "      <td></td>\n",
       "    </tr>\n",
       "    <tr>\n",
       "      <td>Input</td>\n",
       "      <td>NaN</td>\n",
       "      <td>0</td>\n",
       "      <td>no inputs</td>\n",
       "      <td></td>\n",
       "    </tr>\n",
       "    <tr>\n",
       "      <td rowspan=\"3\" valign=\"top\">Metric</td>\n",
       "      <td>GHG</td>\n",
       "      <td>2</td>\n",
       "      <td>reduction in GHGs</td>\n",
       "      <td></td>\n",
       "    </tr>\n",
       "    <tr>\n",
       "      <td>LCOE</td>\n",
       "      <td>0</td>\n",
       "      <td>reduction in levelized cost of energy</td>\n",
       "      <td></td>\n",
       "    </tr>\n",
       "    <tr>\n",
       "      <td>Labor</td>\n",
       "      <td>1</td>\n",
       "      <td>increase in spending on wages</td>\n",
       "      <td></td>\n",
       "    </tr>\n",
       "    <tr>\n",
       "      <td>Output</td>\n",
       "      <td>Electricity</td>\n",
       "      <td>0</td>\n",
       "      <td>electricity generated</td>\n",
       "      <td></td>\n",
       "    </tr>\n",
       "  </tbody>\n",
       "</table>\n",
       "</div>"
      ],
      "text/plain": [
       "                                    Offset  \\\n",
       "Technology     Type    Index                 \n",
       "Residential PV Capital BoS               2   \n",
       "                       Inverter          1   \n",
       "                       Module            0   \n",
       "               Fixed   System            0   \n",
       "               Input   NaN               0   \n",
       "               Metric  GHG               2   \n",
       "                       LCOE              0   \n",
       "                       Labor             1   \n",
       "               Output  Electricity       0   \n",
       "\n",
       "                                                              Description  \\\n",
       "Technology     Type    Index                                                \n",
       "Residential PV Capital BoS                              balance of system   \n",
       "                       Inverter                          system inverters   \n",
       "                       Module                               system module   \n",
       "               Fixed   System                                whole system   \n",
       "               Input   NaN                                      no inputs   \n",
       "               Metric  GHG                              reduction in GHGs   \n",
       "                       LCOE         reduction in levelized cost of energy   \n",
       "                       Labor                increase in spending on wages   \n",
       "               Output  Electricity                  electricity generated   \n",
       "\n",
       "                                   Notes  \n",
       "Technology     Type    Index              \n",
       "Residential PV Capital BoS                \n",
       "                       Inverter           \n",
       "                       Module             \n",
       "               Fixed   System             \n",
       "               Input   NaN                \n",
       "               Metric  GHG                \n",
       "                       LCOE               \n",
       "                       Labor              \n",
       "               Output  Electricity        "
      ]
     },
     "execution_count": 8,
     "metadata": {},
     "output_type": "execute_result"
    }
   ],
   "source": [
    "designs.indices"
   ]
  },
  {
   "cell_type": "markdown",
   "metadata": {},
   "source": [
    "### The `designs` table contains the cost, input, efficiency, and price data for a scenario."
   ]
  },
  {
   "cell_type": "code",
   "execution_count": 9,
   "metadata": {},
   "outputs": [
    {
     "data": {
      "text/html": [
       "<div>\n",
       "<style scoped>\n",
       "    .dataframe tbody tr th:only-of-type {\n",
       "        vertical-align: middle;\n",
       "    }\n",
       "\n",
       "    .dataframe tbody tr th {\n",
       "        vertical-align: top;\n",
       "    }\n",
       "\n",
       "    .dataframe thead th {\n",
       "        text-align: right;\n",
       "    }\n",
       "</style>\n",
       "<table border=\"1\" class=\"dataframe\">\n",
       "  <thead>\n",
       "    <tr style=\"text-align: right;\">\n",
       "      <th></th>\n",
       "      <th></th>\n",
       "      <th></th>\n",
       "      <th></th>\n",
       "      <th>Value</th>\n",
       "      <th>Units</th>\n",
       "      <th>Notes</th>\n",
       "    </tr>\n",
       "    <tr>\n",
       "      <th>Technology</th>\n",
       "      <th>Scenario</th>\n",
       "      <th>Variable</th>\n",
       "      <th>Index</th>\n",
       "      <th></th>\n",
       "      <th></th>\n",
       "      <th></th>\n",
       "    </tr>\n",
       "  </thead>\n",
       "  <tbody>\n",
       "    <tr>\n",
       "      <td rowspan=\"11\" valign=\"top\">Residential PV</td>\n",
       "      <td rowspan=\"5\" valign=\"top\">2015 Actual</td>\n",
       "      <td>Input</td>\n",
       "      <td>NaN</td>\n",
       "      <td>0</td>\n",
       "      <td>1</td>\n",
       "      <td>no inputs</td>\n",
       "    </tr>\n",
       "    <tr>\n",
       "      <td>Input efficiency</td>\n",
       "      <td>NaN</td>\n",
       "      <td>1</td>\n",
       "      <td>1</td>\n",
       "      <td>no inputs</td>\n",
       "    </tr>\n",
       "    <tr>\n",
       "      <td>Input price</td>\n",
       "      <td>NaN</td>\n",
       "      <td>0</td>\n",
       "      <td>1</td>\n",
       "      <td>no inputs</td>\n",
       "    </tr>\n",
       "    <tr>\n",
       "      <td rowspan=\"2\" valign=\"top\">Lifetime</td>\n",
       "      <td>BoS</td>\n",
       "      <td>1</td>\n",
       "      <td>system-lifetime</td>\n",
       "      <td>per-lifetime computations</td>\n",
       "    </tr>\n",
       "    <tr>\n",
       "      <td>Inverter</td>\n",
       "      <td>1</td>\n",
       "      <td>system-lifetime</td>\n",
       "      <td>per-lifetime computations</td>\n",
       "    </tr>\n",
       "    <tr>\n",
       "      <td>...</td>\n",
       "      <td>...</td>\n",
       "      <td>...</td>\n",
       "      <td>...</td>\n",
       "      <td>...</td>\n",
       "      <td>...</td>\n",
       "    </tr>\n",
       "    <tr>\n",
       "      <td rowspan=\"5\" valign=\"top\">Module Slow Progress</td>\n",
       "      <td rowspan=\"2\" valign=\"top\">Lifetime</td>\n",
       "      <td>Inverter</td>\n",
       "      <td>1</td>\n",
       "      <td>system-lifetime</td>\n",
       "      <td>per-lifetime computations</td>\n",
       "    </tr>\n",
       "    <tr>\n",
       "      <td>Module</td>\n",
       "      <td>1</td>\n",
       "      <td>system-lifetime</td>\n",
       "      <td>per-lifetime computations</td>\n",
       "    </tr>\n",
       "    <tr>\n",
       "      <td>Output efficiency</td>\n",
       "      <td>Electricity</td>\n",
       "      <td>1</td>\n",
       "      <td>W/W</td>\n",
       "      <td>see parameter table for individual efficiencies</td>\n",
       "    </tr>\n",
       "    <tr>\n",
       "      <td>Output price</td>\n",
       "      <td>Electricity</td>\n",
       "      <td>0</td>\n",
       "      <td>$/kWh</td>\n",
       "      <td>not tracking electricity price</td>\n",
       "    </tr>\n",
       "    <tr>\n",
       "      <td>Scale</td>\n",
       "      <td>NaN</td>\n",
       "      <td>1</td>\n",
       "      <td>system/system</td>\n",
       "      <td>no scaling</td>\n",
       "    </tr>\n",
       "  </tbody>\n",
       "</table>\n",
       "<p>90 rows × 3 columns</p>\n",
       "</div>"
      ],
      "text/plain": [
       "                                                                  Value  \\\n",
       "Technology     Scenario             Variable          Index               \n",
       "Residential PV 2015 Actual          Input             NaN             0   \n",
       "                                    Input efficiency  NaN             1   \n",
       "                                    Input price       NaN             0   \n",
       "                                    Lifetime          BoS             1   \n",
       "                                                      Inverter        1   \n",
       "...                                                                 ...   \n",
       "               Module Slow Progress Lifetime          Inverter        1   \n",
       "                                                      Module          1   \n",
       "                                    Output efficiency Electricity     1   \n",
       "                                    Output price      Electricity     0   \n",
       "                                    Scale             NaN             1   \n",
       "\n",
       "                                                                             Units  \\\n",
       "Technology     Scenario             Variable          Index                          \n",
       "Residential PV 2015 Actual          Input             NaN                        1   \n",
       "                                    Input efficiency  NaN                        1   \n",
       "                                    Input price       NaN                        1   \n",
       "                                    Lifetime          BoS          system-lifetime   \n",
       "                                                      Inverter     system-lifetime   \n",
       "...                                                                            ...   \n",
       "               Module Slow Progress Lifetime          Inverter     system-lifetime   \n",
       "                                                      Module       system-lifetime   \n",
       "                                    Output efficiency Electricity              W/W   \n",
       "                                    Output price      Electricity            $/kWh   \n",
       "                                    Scale             NaN            system/system   \n",
       "\n",
       "                                                                                                             Notes  \n",
       "Technology     Scenario             Variable          Index                                                         \n",
       "Residential PV 2015 Actual          Input             NaN                                                no inputs  \n",
       "                                    Input efficiency  NaN                                                no inputs  \n",
       "                                    Input price       NaN                                                no inputs  \n",
       "                                    Lifetime          BoS                                per-lifetime computations  \n",
       "                                                      Inverter                           per-lifetime computations  \n",
       "...                                                                                                            ...  \n",
       "               Module Slow Progress Lifetime          Inverter                           per-lifetime computations  \n",
       "                                                      Module                             per-lifetime computations  \n",
       "                                    Output efficiency Electricity  see parameter table for individual efficiencies  \n",
       "                                    Output price      Electricity                   not tracking electricity price  \n",
       "                                    Scale             NaN                                               no scaling  \n",
       "\n",
       "[90 rows x 3 columns]"
      ]
     },
     "execution_count": 9,
     "metadata": {},
     "output_type": "execute_result"
    }
   ],
   "source": [
    "designs.designs"
   ]
  },
  {
   "cell_type": "markdown",
   "metadata": {},
   "source": [
    "### The `parameters` table contains additional techno-economic parameters for each technology."
   ]
  },
  {
   "cell_type": "code",
   "execution_count": 10,
   "metadata": {},
   "outputs": [
    {
     "data": {
      "text/html": [
       "<div>\n",
       "<style scoped>\n",
       "    .dataframe tbody tr th:only-of-type {\n",
       "        vertical-align: middle;\n",
       "    }\n",
       "\n",
       "    .dataframe tbody tr th {\n",
       "        vertical-align: top;\n",
       "    }\n",
       "\n",
       "    .dataframe thead th {\n",
       "        text-align: right;\n",
       "    }\n",
       "</style>\n",
       "<table border=\"1\" class=\"dataframe\">\n",
       "  <thead>\n",
       "    <tr style=\"text-align: right;\">\n",
       "      <th></th>\n",
       "      <th></th>\n",
       "      <th></th>\n",
       "      <th>Offset</th>\n",
       "      <th>Value</th>\n",
       "      <th>Units</th>\n",
       "      <th>Notes</th>\n",
       "    </tr>\n",
       "    <tr>\n",
       "      <th>Technology</th>\n",
       "      <th>Scenario</th>\n",
       "      <th>Parameter</th>\n",
       "      <th></th>\n",
       "      <th></th>\n",
       "      <th></th>\n",
       "      <th></th>\n",
       "    </tr>\n",
       "  </thead>\n",
       "  <tbody>\n",
       "    <tr>\n",
       "      <td rowspan=\"11\" valign=\"top\">Residential PV</td>\n",
       "      <td rowspan=\"5\" valign=\"top\">2015 Actual</td>\n",
       "      <td>Customer Acquisition</td>\n",
       "      <td>19</td>\n",
       "      <td>st.triang(0.5, loc=2000, scale=0.2)</td>\n",
       "      <td>$/system</td>\n",
       "      <td>BCA</td>\n",
       "    </tr>\n",
       "    <tr>\n",
       "      <td>DC-to-AC Ratio</td>\n",
       "      <td>15</td>\n",
       "      <td>st.triang(0.5, loc=1.4, scale=0.00014)</td>\n",
       "      <td>1</td>\n",
       "      <td>IDC</td>\n",
       "    </tr>\n",
       "    <tr>\n",
       "      <td>Direct Labor</td>\n",
       "      <td>17</td>\n",
       "      <td>st.triang(0.5, loc=2000, scale=0.2)</td>\n",
       "      <td>$/system</td>\n",
       "      <td>BLR</td>\n",
       "    </tr>\n",
       "    <tr>\n",
       "      <td>Discount Rate</td>\n",
       "      <td>0</td>\n",
       "      <td>0.07</td>\n",
       "      <td>1/year</td>\n",
       "      <td>DR</td>\n",
       "    </tr>\n",
       "    <tr>\n",
       "      <td>Hardware Capital</td>\n",
       "      <td>16</td>\n",
       "      <td>st.triang(0.5, loc=80, scale=0.008)</td>\n",
       "      <td>$/m^2</td>\n",
       "      <td>BCC</td>\n",
       "    </tr>\n",
       "    <tr>\n",
       "      <td>...</td>\n",
       "      <td>...</td>\n",
       "      <td>...</td>\n",
       "      <td>...</td>\n",
       "      <td>...</td>\n",
       "      <td>...</td>\n",
       "    </tr>\n",
       "    <tr>\n",
       "      <td rowspan=\"5\" valign=\"top\">Module Slow Progress</td>\n",
       "      <td>Module Lifetime</td>\n",
       "      <td>4</td>\n",
       "      <td>st.triang(0.5, loc=26, scale=1)</td>\n",
       "      <td>yr</td>\n",
       "      <td>MLT</td>\n",
       "    </tr>\n",
       "    <tr>\n",
       "      <td>Module O&amp;M Fixed</td>\n",
       "      <td>7</td>\n",
       "      <td>st.triang(0.5, loc=19, scale=0.5)</td>\n",
       "      <td>$/kWyr</td>\n",
       "      <td>MOM</td>\n",
       "    </tr>\n",
       "    <tr>\n",
       "      <td>Module Soiling Loss</td>\n",
       "      <td>10</td>\n",
       "      <td>st.triang(0.5, loc=0.05, scale=10E-06)</td>\n",
       "      <td>1</td>\n",
       "      <td>MSL</td>\n",
       "    </tr>\n",
       "    <tr>\n",
       "      <td>Permitting</td>\n",
       "      <td>18</td>\n",
       "      <td>st.triang(0.5, loc=600, scale=0.06)</td>\n",
       "      <td>$/system</td>\n",
       "      <td>BPR</td>\n",
       "    </tr>\n",
       "    <tr>\n",
       "      <td>System Size</td>\n",
       "      <td>2</td>\n",
       "      <td>36</td>\n",
       "      <td>m^2</td>\n",
       "      <td>SSZ</td>\n",
       "    </tr>\n",
       "  </tbody>\n",
       "</table>\n",
       "<p>210 rows × 4 columns</p>\n",
       "</div>"
      ],
      "text/plain": [
       "                                                          Offset  \\\n",
       "Technology     Scenario             Parameter                      \n",
       "Residential PV 2015 Actual          Customer Acquisition      19   \n",
       "                                    DC-to-AC Ratio            15   \n",
       "                                    Direct Labor              17   \n",
       "                                    Discount Rate              0   \n",
       "                                    Hardware Capital          16   \n",
       "...                                                          ...   \n",
       "               Module Slow Progress Module Lifetime            4   \n",
       "                                    Module O&M Fixed           7   \n",
       "                                    Module Soiling Loss       10   \n",
       "                                    Permitting                18   \n",
       "                                    System Size                2   \n",
       "\n",
       "                                                                                           Value  \\\n",
       "Technology     Scenario             Parameter                                                      \n",
       "Residential PV 2015 Actual          Customer Acquisition     st.triang(0.5, loc=2000, scale=0.2)   \n",
       "                                    DC-to-AC Ratio        st.triang(0.5, loc=1.4, scale=0.00014)   \n",
       "                                    Direct Labor             st.triang(0.5, loc=2000, scale=0.2)   \n",
       "                                    Discount Rate                                           0.07   \n",
       "                                    Hardware Capital         st.triang(0.5, loc=80, scale=0.008)   \n",
       "...                                                                                          ...   \n",
       "               Module Slow Progress Module Lifetime              st.triang(0.5, loc=26, scale=1)   \n",
       "                                    Module O&M Fixed           st.triang(0.5, loc=19, scale=0.5)   \n",
       "                                    Module Soiling Loss   st.triang(0.5, loc=0.05, scale=10E-06)   \n",
       "                                    Permitting               st.triang(0.5, loc=600, scale=0.06)   \n",
       "                                    System Size                                               36   \n",
       "\n",
       "                                                             Units Notes  \n",
       "Technology     Scenario             Parameter                             \n",
       "Residential PV 2015 Actual          Customer Acquisition  $/system   BCA  \n",
       "                                    DC-to-AC Ratio               1   IDC  \n",
       "                                    Direct Labor          $/system   BLR  \n",
       "                                    Discount Rate           1/year    DR  \n",
       "                                    Hardware Capital         $/m^2   BCC  \n",
       "...                                                            ...   ...  \n",
       "               Module Slow Progress Module Lifetime             yr   MLT  \n",
       "                                    Module O&M Fixed        $/kWyr   MOM  \n",
       "                                    Module Soiling Loss          1   MSL  \n",
       "                                    Permitting            $/system   BPR  \n",
       "                                    System Size                m^2   SSZ  \n",
       "\n",
       "[210 rows x 4 columns]"
      ]
     },
     "execution_count": 10,
     "metadata": {},
     "output_type": "execute_result"
    }
   ],
   "source": [
    "designs.parameters"
   ]
  },
  {
   "cell_type": "markdown",
   "metadata": {},
   "source": [
    "### The `results` table specifies the units of measure for results of computations."
   ]
  },
  {
   "cell_type": "code",
   "execution_count": 11,
   "metadata": {},
   "outputs": [
    {
     "data": {
      "text/html": [
       "<div>\n",
       "<style scoped>\n",
       "    .dataframe tbody tr th:only-of-type {\n",
       "        vertical-align: middle;\n",
       "    }\n",
       "\n",
       "    .dataframe tbody tr th {\n",
       "        vertical-align: top;\n",
       "    }\n",
       "\n",
       "    .dataframe thead th {\n",
       "        text-align: right;\n",
       "    }\n",
       "</style>\n",
       "<table border=\"1\" class=\"dataframe\">\n",
       "  <thead>\n",
       "    <tr style=\"text-align: right;\">\n",
       "      <th></th>\n",
       "      <th></th>\n",
       "      <th></th>\n",
       "      <th>Units</th>\n",
       "      <th>Notes</th>\n",
       "    </tr>\n",
       "    <tr>\n",
       "      <th>Technology</th>\n",
       "      <th>Variable</th>\n",
       "      <th>Index</th>\n",
       "      <th></th>\n",
       "      <th></th>\n",
       "    </tr>\n",
       "  </thead>\n",
       "  <tbody>\n",
       "    <tr>\n",
       "      <td rowspan=\"5\" valign=\"top\">Residential PV</td>\n",
       "      <td>Cost</td>\n",
       "      <td>Cost</td>\n",
       "      <td>$/system</td>\n",
       "      <td></td>\n",
       "    </tr>\n",
       "    <tr>\n",
       "      <td rowspan=\"3\" valign=\"top\">Metric</td>\n",
       "      <td>GHG</td>\n",
       "      <td>ΔgCO2e/system</td>\n",
       "      <td></td>\n",
       "    </tr>\n",
       "    <tr>\n",
       "      <td>LCOE</td>\n",
       "      <td>Δ$/kWh</td>\n",
       "      <td></td>\n",
       "    </tr>\n",
       "    <tr>\n",
       "      <td>Labor</td>\n",
       "      <td>Δ$/system</td>\n",
       "      <td></td>\n",
       "    </tr>\n",
       "    <tr>\n",
       "      <td>Output</td>\n",
       "      <td>Electricity</td>\n",
       "      <td>kWh</td>\n",
       "      <td></td>\n",
       "    </tr>\n",
       "  </tbody>\n",
       "</table>\n",
       "</div>"
      ],
      "text/plain": [
       "                                             Units Notes\n",
       "Technology     Variable Index                           \n",
       "Residential PV Cost     Cost              $/system      \n",
       "               Metric   GHG          ΔgCO2e/system      \n",
       "                        LCOE                Δ$/kWh      \n",
       "                        Labor            Δ$/system      \n",
       "               Output   Electricity            kWh      "
      ]
     },
     "execution_count": 11,
     "metadata": {},
     "output_type": "execute_result"
    }
   ],
   "source": [
    "designs.results"
   ]
  },
  {
   "cell_type": "markdown",
   "metadata": {},
   "source": [
    "### The `tranches` table specifies multually exclusive possibilities for investments: only one `Tranch` may be selected for each `Category`."
   ]
  },
  {
   "cell_type": "code",
   "execution_count": 12,
   "metadata": {},
   "outputs": [
    {
     "data": {
      "text/html": [
       "<div>\n",
       "<style scoped>\n",
       "    .dataframe tbody tr th:only-of-type {\n",
       "        vertical-align: middle;\n",
       "    }\n",
       "\n",
       "    .dataframe tbody tr th {\n",
       "        vertical-align: top;\n",
       "    }\n",
       "\n",
       "    .dataframe thead th {\n",
       "        text-align: right;\n",
       "    }\n",
       "</style>\n",
       "<table border=\"1\" class=\"dataframe\">\n",
       "  <thead>\n",
       "    <tr style=\"text-align: right;\">\n",
       "      <th></th>\n",
       "      <th></th>\n",
       "      <th></th>\n",
       "      <th>Amount</th>\n",
       "      <th>Notes</th>\n",
       "    </tr>\n",
       "    <tr>\n",
       "      <th>Category</th>\n",
       "      <th>Tranche</th>\n",
       "      <th>Scenario</th>\n",
       "      <th></th>\n",
       "      <th></th>\n",
       "    </tr>\n",
       "  </thead>\n",
       "  <tbody>\n",
       "    <tr>\n",
       "      <td rowspan=\"3\" valign=\"top\">BoS R&amp;D</td>\n",
       "      <td>BoS High R&amp;D</td>\n",
       "      <td>BoS Fast Progress</td>\n",
       "      <td>900000.0</td>\n",
       "      <td></td>\n",
       "    </tr>\n",
       "    <tr>\n",
       "      <td>BoS Low R&amp;D</td>\n",
       "      <td>BoS Slow Progress</td>\n",
       "      <td>300000.0</td>\n",
       "      <td></td>\n",
       "    </tr>\n",
       "    <tr>\n",
       "      <td>BoS Medium R&amp;D</td>\n",
       "      <td>BoS Moderate Progress</td>\n",
       "      <td>600000.0</td>\n",
       "      <td></td>\n",
       "    </tr>\n",
       "    <tr>\n",
       "      <td rowspan=\"3\" valign=\"top\">Inverter R&amp;D</td>\n",
       "      <td>Inverter High R&amp;D</td>\n",
       "      <td>Inverter Fast Progress</td>\n",
       "      <td>3000000.0</td>\n",
       "      <td></td>\n",
       "    </tr>\n",
       "    <tr>\n",
       "      <td>Inverter Low R&amp;D</td>\n",
       "      <td>Inverter Slow Progress</td>\n",
       "      <td>1000000.0</td>\n",
       "      <td></td>\n",
       "    </tr>\n",
       "    <tr>\n",
       "      <td>Inverter Medium R&amp;D</td>\n",
       "      <td>Inverter Moderate Progress</td>\n",
       "      <td>2000000.0</td>\n",
       "      <td></td>\n",
       "    </tr>\n",
       "    <tr>\n",
       "      <td rowspan=\"3\" valign=\"top\">Module R&amp;D</td>\n",
       "      <td>Module High R&amp;D</td>\n",
       "      <td>Module Fast Progress</td>\n",
       "      <td>4500000.0</td>\n",
       "      <td></td>\n",
       "    </tr>\n",
       "    <tr>\n",
       "      <td>Module Low R&amp;D</td>\n",
       "      <td>Module Slow Progress</td>\n",
       "      <td>1500000.0</td>\n",
       "      <td></td>\n",
       "    </tr>\n",
       "    <tr>\n",
       "      <td>Module Medium R&amp;D</td>\n",
       "      <td>Module Moderate Progress</td>\n",
       "      <td>3000000.0</td>\n",
       "      <td></td>\n",
       "    </tr>\n",
       "  </tbody>\n",
       "</table>\n",
       "</div>"
      ],
      "text/plain": [
       "                                                                Amount Notes\n",
       "Category     Tranche             Scenario                                   \n",
       "BoS R&D      BoS High R&D        BoS Fast Progress            900000.0      \n",
       "             BoS Low R&D         BoS Slow Progress            300000.0      \n",
       "             BoS Medium R&D      BoS Moderate Progress        600000.0      \n",
       "Inverter R&D Inverter High R&D   Inverter Fast Progress      3000000.0      \n",
       "             Inverter Low R&D    Inverter Slow Progress      1000000.0      \n",
       "             Inverter Medium R&D Inverter Moderate Progress  2000000.0      \n",
       "Module R&D   Module High R&D     Module Fast Progress        4500000.0      \n",
       "             Module Low R&D      Module Slow Progress        1500000.0      \n",
       "             Module Medium R&D   Module Moderate Progress    3000000.0      "
      ]
     },
     "execution_count": 12,
     "metadata": {},
     "output_type": "execute_result"
    }
   ],
   "source": [
    "investments.tranches"
   ]
  },
  {
   "cell_type": "markdown",
   "metadata": {},
   "source": [
    "### The `investments` table bundles a consistent set of tranches (one per category) into an overall investment."
   ]
  },
  {
   "cell_type": "code",
   "execution_count": 13,
   "metadata": {},
   "outputs": [
    {
     "data": {
      "text/html": [
       "<div>\n",
       "<style scoped>\n",
       "    .dataframe tbody tr th:only-of-type {\n",
       "        vertical-align: middle;\n",
       "    }\n",
       "\n",
       "    .dataframe tbody tr th {\n",
       "        vertical-align: top;\n",
       "    }\n",
       "\n",
       "    .dataframe thead th {\n",
       "        text-align: right;\n",
       "    }\n",
       "</style>\n",
       "<table border=\"1\" class=\"dataframe\">\n",
       "  <thead>\n",
       "    <tr style=\"text-align: right;\">\n",
       "      <th></th>\n",
       "      <th></th>\n",
       "      <th></th>\n",
       "      <th>Notes</th>\n",
       "    </tr>\n",
       "    <tr>\n",
       "      <th>Investment</th>\n",
       "      <th>Category</th>\n",
       "      <th>Tranche</th>\n",
       "      <th></th>\n",
       "    </tr>\n",
       "  </thead>\n",
       "  <tbody>\n",
       "    <tr>\n",
       "      <td rowspan=\"3\" valign=\"top\">High R&amp;D</td>\n",
       "      <td>BoS R&amp;D</td>\n",
       "      <td>BoS High R&amp;D</td>\n",
       "      <td></td>\n",
       "    </tr>\n",
       "    <tr>\n",
       "      <td>Inverter R&amp;D</td>\n",
       "      <td>Inverter High R&amp;D</td>\n",
       "      <td></td>\n",
       "    </tr>\n",
       "    <tr>\n",
       "      <td>Module R&amp;D</td>\n",
       "      <td>Module High R&amp;D</td>\n",
       "      <td></td>\n",
       "    </tr>\n",
       "    <tr>\n",
       "      <td rowspan=\"3\" valign=\"top\">Low R&amp;D</td>\n",
       "      <td>BoS R&amp;D</td>\n",
       "      <td>BoS Low R&amp;D</td>\n",
       "      <td></td>\n",
       "    </tr>\n",
       "    <tr>\n",
       "      <td>Inverter R&amp;D</td>\n",
       "      <td>Inverter Low R&amp;D</td>\n",
       "      <td></td>\n",
       "    </tr>\n",
       "    <tr>\n",
       "      <td>Module R&amp;D</td>\n",
       "      <td>Module Low R&amp;D</td>\n",
       "      <td></td>\n",
       "    </tr>\n",
       "    <tr>\n",
       "      <td rowspan=\"3\" valign=\"top\">Medium R&amp;D</td>\n",
       "      <td>BoS R&amp;D</td>\n",
       "      <td>BoS Medium R&amp;D</td>\n",
       "      <td></td>\n",
       "    </tr>\n",
       "    <tr>\n",
       "      <td>Inverter R&amp;D</td>\n",
       "      <td>Inverter Medium R&amp;D</td>\n",
       "      <td></td>\n",
       "    </tr>\n",
       "    <tr>\n",
       "      <td>Module R&amp;D</td>\n",
       "      <td>Module Medium R&amp;D</td>\n",
       "      <td></td>\n",
       "    </tr>\n",
       "  </tbody>\n",
       "</table>\n",
       "</div>"
      ],
      "text/plain": [
       "                                            Notes\n",
       "Investment Category     Tranche                  \n",
       "High R&D   BoS R&D      BoS High R&D             \n",
       "           Inverter R&D Inverter High R&D        \n",
       "           Module R&D   Module High R&D          \n",
       "Low R&D    BoS R&D      BoS Low R&D              \n",
       "           Inverter R&D Inverter Low R&D         \n",
       "           Module R&D   Module Low R&D           \n",
       "Medium R&D BoS R&D      BoS Medium R&D           \n",
       "           Inverter R&D Inverter Medium R&D      \n",
       "           Module R&D   Module Medium R&D        "
      ]
     },
     "execution_count": 13,
     "metadata": {},
     "output_type": "execute_result"
    }
   ],
   "source": [
    "investments.investments"
   ]
  },
  {
   "cell_type": "markdown",
   "metadata": {},
   "source": [
    "## Evaluate the scenarios in the dataset."
   ]
  },
  {
   "cell_type": "code",
   "execution_count": 14,
   "metadata": {
    "scrolled": false
   },
   "outputs": [],
   "source": [
    "scenario_results = designs.evaluate_scenarios(sample_count=50)"
   ]
  },
  {
   "cell_type": "code",
   "execution_count": 15,
   "metadata": {},
   "outputs": [
    {
     "data": {
      "text/html": [
       "<div>\n",
       "<style scoped>\n",
       "    .dataframe tbody tr th:only-of-type {\n",
       "        vertical-align: middle;\n",
       "    }\n",
       "\n",
       "    .dataframe tbody tr th {\n",
       "        vertical-align: top;\n",
       "    }\n",
       "\n",
       "    .dataframe thead th {\n",
       "        text-align: right;\n",
       "    }\n",
       "</style>\n",
       "<table border=\"1\" class=\"dataframe\">\n",
       "  <thead>\n",
       "    <tr style=\"text-align: right;\">\n",
       "      <th></th>\n",
       "      <th></th>\n",
       "      <th></th>\n",
       "      <th></th>\n",
       "      <th></th>\n",
       "      <th>Value</th>\n",
       "      <th>Units</th>\n",
       "    </tr>\n",
       "    <tr>\n",
       "      <th>Technology</th>\n",
       "      <th>Scenario</th>\n",
       "      <th>Sample</th>\n",
       "      <th>Variable</th>\n",
       "      <th>Index</th>\n",
       "      <th></th>\n",
       "      <th></th>\n",
       "    </tr>\n",
       "  </thead>\n",
       "  <tbody>\n",
       "    <tr>\n",
       "      <td rowspan=\"50\" valign=\"top\">Residential PV</td>\n",
       "      <td rowspan=\"5\" valign=\"top\">2015 Actual</td>\n",
       "      <td rowspan=\"5\" valign=\"top\">1</td>\n",
       "      <td>Cost</td>\n",
       "      <td>Cost</td>\n",
       "      <td>19541.835826</td>\n",
       "      <td>$/system</td>\n",
       "    </tr>\n",
       "    <tr>\n",
       "      <td rowspan=\"3\" valign=\"top\">Metric</td>\n",
       "      <td>GHG</td>\n",
       "      <td>-0.001761</td>\n",
       "      <td>ΔgCO2e/system</td>\n",
       "    </tr>\n",
       "    <tr>\n",
       "      <td>LCOE</td>\n",
       "      <td>-0.000019</td>\n",
       "      <td>Δ$/kWh</td>\n",
       "    </tr>\n",
       "    <tr>\n",
       "      <td>Labor</td>\n",
       "      <td>-0.001281</td>\n",
       "      <td>Δ$/system</td>\n",
       "    </tr>\n",
       "    <tr>\n",
       "      <td>Output</td>\n",
       "      <td>Electricity</td>\n",
       "      <td>184107.032791</td>\n",
       "      <td>kWh</td>\n",
       "    </tr>\n",
       "    <tr>\n",
       "      <td rowspan=\"5\" valign=\"top\">BoS Fast Progress</td>\n",
       "      <td rowspan=\"5\" valign=\"top\">1</td>\n",
       "      <td>Cost</td>\n",
       "      <td>Cost</td>\n",
       "      <td>17524.525245</td>\n",
       "      <td>$/system</td>\n",
       "    </tr>\n",
       "    <tr>\n",
       "      <td rowspan=\"3\" valign=\"top\">Metric</td>\n",
       "      <td>GHG</td>\n",
       "      <td>-0.004254</td>\n",
       "      <td>ΔgCO2e/system</td>\n",
       "    </tr>\n",
       "    <tr>\n",
       "      <td>LCOE</td>\n",
       "      <td>0.010936</td>\n",
       "      <td>Δ$/kWh</td>\n",
       "    </tr>\n",
       "    <tr>\n",
       "      <td>Labor</td>\n",
       "      <td>-545.200985</td>\n",
       "      <td>Δ$/system</td>\n",
       "    </tr>\n",
       "    <tr>\n",
       "      <td>Output</td>\n",
       "      <td>Electricity</td>\n",
       "      <td>184101.481909</td>\n",
       "      <td>kWh</td>\n",
       "    </tr>\n",
       "    <tr>\n",
       "      <td rowspan=\"5\" valign=\"top\">BoS Moderate Progress</td>\n",
       "      <td rowspan=\"5\" valign=\"top\">1</td>\n",
       "      <td>Cost</td>\n",
       "      <td>Cost</td>\n",
       "      <td>17960.467902</td>\n",
       "      <td>$/system</td>\n",
       "    </tr>\n",
       "    <tr>\n",
       "      <td rowspan=\"3\" valign=\"top\">Metric</td>\n",
       "      <td>GHG</td>\n",
       "      <td>-0.001253</td>\n",
       "      <td>ΔgCO2e/system</td>\n",
       "    </tr>\n",
       "    <tr>\n",
       "      <td>LCOE</td>\n",
       "      <td>0.008571</td>\n",
       "      <td>Δ$/kWh</td>\n",
       "    </tr>\n",
       "    <tr>\n",
       "      <td>Labor</td>\n",
       "      <td>-331.852654</td>\n",
       "      <td>Δ$/system</td>\n",
       "    </tr>\n",
       "    <tr>\n",
       "      <td>Output</td>\n",
       "      <td>Electricity</td>\n",
       "      <td>184108.162865</td>\n",
       "      <td>kWh</td>\n",
       "    </tr>\n",
       "    <tr>\n",
       "      <td rowspan=\"5\" valign=\"top\">BoS Slow Progress</td>\n",
       "      <td rowspan=\"5\" valign=\"top\">1</td>\n",
       "      <td>Cost</td>\n",
       "      <td>Cost</td>\n",
       "      <td>19022.884313</td>\n",
       "      <td>$/system</td>\n",
       "    </tr>\n",
       "    <tr>\n",
       "      <td rowspan=\"3\" valign=\"top\">Metric</td>\n",
       "      <td>GHG</td>\n",
       "      <td>0.000327</td>\n",
       "      <td>ΔgCO2e/system</td>\n",
       "    </tr>\n",
       "    <tr>\n",
       "      <td>LCOE</td>\n",
       "      <td>0.002802</td>\n",
       "      <td>Δ$/kWh</td>\n",
       "    </tr>\n",
       "    <tr>\n",
       "      <td>Labor</td>\n",
       "      <td>-148.230849</td>\n",
       "      <td>Δ$/system</td>\n",
       "    </tr>\n",
       "    <tr>\n",
       "      <td>Output</td>\n",
       "      <td>Electricity</td>\n",
       "      <td>184111.682213</td>\n",
       "      <td>kWh</td>\n",
       "    </tr>\n",
       "    <tr>\n",
       "      <td rowspan=\"5\" valign=\"top\">Inverter Fast Progress</td>\n",
       "      <td rowspan=\"5\" valign=\"top\">1</td>\n",
       "      <td>Cost</td>\n",
       "      <td>Cost</td>\n",
       "      <td>18059.997438</td>\n",
       "      <td>$/system</td>\n",
       "    </tr>\n",
       "    <tr>\n",
       "      <td rowspan=\"3\" valign=\"top\">Metric</td>\n",
       "      <td>GHG</td>\n",
       "      <td>2.601021</td>\n",
       "      <td>ΔgCO2e/system</td>\n",
       "    </tr>\n",
       "    <tr>\n",
       "      <td>LCOE</td>\n",
       "      <td>0.011024</td>\n",
       "      <td>Δ$/kWh</td>\n",
       "    </tr>\n",
       "    <tr>\n",
       "      <td>Labor</td>\n",
       "      <td>-0.031111</td>\n",
       "      <td>Δ$/system</td>\n",
       "    </tr>\n",
       "    <tr>\n",
       "      <td>Output</td>\n",
       "      <td>Electricity</td>\n",
       "      <td>189903.145647</td>\n",
       "      <td>kWh</td>\n",
       "    </tr>\n",
       "    <tr>\n",
       "      <td rowspan=\"5\" valign=\"top\">Inverter Moderate Progress</td>\n",
       "      <td rowspan=\"5\" valign=\"top\">1</td>\n",
       "      <td>Cost</td>\n",
       "      <td>Cost</td>\n",
       "      <td>18713.047656</td>\n",
       "      <td>$/system</td>\n",
       "    </tr>\n",
       "    <tr>\n",
       "      <td rowspan=\"3\" valign=\"top\">Metric</td>\n",
       "      <td>GHG</td>\n",
       "      <td>2.537671</td>\n",
       "      <td>ΔgCO2e/system</td>\n",
       "    </tr>\n",
       "    <tr>\n",
       "      <td>LCOE</td>\n",
       "      <td>0.007512</td>\n",
       "      <td>Δ$/kWh</td>\n",
       "    </tr>\n",
       "    <tr>\n",
       "      <td>Labor</td>\n",
       "      <td>-0.034240</td>\n",
       "      <td>Δ$/system</td>\n",
       "    </tr>\n",
       "    <tr>\n",
       "      <td>Output</td>\n",
       "      <td>Electricity</td>\n",
       "      <td>189762.072909</td>\n",
       "      <td>kWh</td>\n",
       "    </tr>\n",
       "    <tr>\n",
       "      <td rowspan=\"5\" valign=\"top\">Inverter Slow Progress</td>\n",
       "      <td rowspan=\"5\" valign=\"top\">1</td>\n",
       "      <td>Cost</td>\n",
       "      <td>Cost</td>\n",
       "      <td>19224.862899</td>\n",
       "      <td>$/system</td>\n",
       "    </tr>\n",
       "    <tr>\n",
       "      <td rowspan=\"3\" valign=\"top\">Metric</td>\n",
       "      <td>GHG</td>\n",
       "      <td>2.435100</td>\n",
       "      <td>ΔgCO2e/system</td>\n",
       "    </tr>\n",
       "    <tr>\n",
       "      <td>LCOE</td>\n",
       "      <td>0.004693</td>\n",
       "      <td>Δ$/kWh</td>\n",
       "    </tr>\n",
       "    <tr>\n",
       "      <td>Labor</td>\n",
       "      <td>0.056486</td>\n",
       "      <td>Δ$/system</td>\n",
       "    </tr>\n",
       "    <tr>\n",
       "      <td>Output</td>\n",
       "      <td>Electricity</td>\n",
       "      <td>189533.659025</td>\n",
       "      <td>kWh</td>\n",
       "    </tr>\n",
       "    <tr>\n",
       "      <td rowspan=\"5\" valign=\"top\">Module Fast Progress</td>\n",
       "      <td rowspan=\"5\" valign=\"top\">1</td>\n",
       "      <td>Cost</td>\n",
       "      <td>Cost</td>\n",
       "      <td>18935.973204</td>\n",
       "      <td>$/system</td>\n",
       "    </tr>\n",
       "    <tr>\n",
       "      <td rowspan=\"3\" valign=\"top\">Metric</td>\n",
       "      <td>GHG</td>\n",
       "      <td>51.490235</td>\n",
       "      <td>ΔgCO2e/system</td>\n",
       "    </tr>\n",
       "    <tr>\n",
       "      <td>LCOE</td>\n",
       "      <td>0.042746</td>\n",
       "      <td>Δ$/kWh</td>\n",
       "    </tr>\n",
       "    <tr>\n",
       "      <td>Labor</td>\n",
       "      <td>0.013583</td>\n",
       "      <td>Δ$/system</td>\n",
       "    </tr>\n",
       "    <tr>\n",
       "      <td>Output</td>\n",
       "      <td>Electricity</td>\n",
       "      <td>298774.134685</td>\n",
       "      <td>kWh</td>\n",
       "    </tr>\n",
       "    <tr>\n",
       "      <td rowspan=\"5\" valign=\"top\">Module Moderate Progress</td>\n",
       "      <td rowspan=\"5\" valign=\"top\">1</td>\n",
       "      <td>Cost</td>\n",
       "      <td>Cost</td>\n",
       "      <td>18952.058689</td>\n",
       "      <td>$/system</td>\n",
       "    </tr>\n",
       "    <tr>\n",
       "      <td rowspan=\"3\" valign=\"top\">Metric</td>\n",
       "      <td>GHG</td>\n",
       "      <td>41.216046</td>\n",
       "      <td>ΔgCO2e/system</td>\n",
       "    </tr>\n",
       "    <tr>\n",
       "      <td>LCOE</td>\n",
       "      <td>0.037432</td>\n",
       "      <td>Δ$/kWh</td>\n",
       "    </tr>\n",
       "    <tr>\n",
       "      <td>Labor</td>\n",
       "      <td>0.029792</td>\n",
       "      <td>Δ$/system</td>\n",
       "    </tr>\n",
       "    <tr>\n",
       "      <td>Output</td>\n",
       "      <td>Electricity</td>\n",
       "      <td>275894.626758</td>\n",
       "      <td>kWh</td>\n",
       "    </tr>\n",
       "    <tr>\n",
       "      <td rowspan=\"5\" valign=\"top\">Module Slow Progress</td>\n",
       "      <td rowspan=\"5\" valign=\"top\">1</td>\n",
       "      <td>Cost</td>\n",
       "      <td>Cost</td>\n",
       "      <td>19656.198525</td>\n",
       "      <td>$/system</td>\n",
       "    </tr>\n",
       "    <tr>\n",
       "      <td rowspan=\"3\" valign=\"top\">Metric</td>\n",
       "      <td>GHG</td>\n",
       "      <td>14.794693</td>\n",
       "      <td>ΔgCO2e/system</td>\n",
       "    </tr>\n",
       "    <tr>\n",
       "      <td>LCOE</td>\n",
       "      <td>0.015567</td>\n",
       "      <td>Δ$/kWh</td>\n",
       "    </tr>\n",
       "    <tr>\n",
       "      <td>Labor</td>\n",
       "      <td>-0.007250</td>\n",
       "      <td>Δ$/system</td>\n",
       "    </tr>\n",
       "    <tr>\n",
       "      <td>Output</td>\n",
       "      <td>Electricity</td>\n",
       "      <td>217057.134731</td>\n",
       "      <td>kWh</td>\n",
       "    </tr>\n",
       "  </tbody>\n",
       "</table>\n",
       "</div>"
      ],
      "text/plain": [
       "                                                                               Value  \\\n",
       "Technology     Scenario                   Sample Variable Index                        \n",
       "Residential PV 2015 Actual                1      Cost     Cost          19541.835826   \n",
       "                                                 Metric   GHG              -0.001761   \n",
       "                                                          LCOE             -0.000019   \n",
       "                                                          Labor            -0.001281   \n",
       "                                                 Output   Electricity  184107.032791   \n",
       "               BoS Fast Progress          1      Cost     Cost          17524.525245   \n",
       "                                                 Metric   GHG              -0.004254   \n",
       "                                                          LCOE              0.010936   \n",
       "                                                          Labor          -545.200985   \n",
       "                                                 Output   Electricity  184101.481909   \n",
       "               BoS Moderate Progress      1      Cost     Cost          17960.467902   \n",
       "                                                 Metric   GHG              -0.001253   \n",
       "                                                          LCOE              0.008571   \n",
       "                                                          Labor          -331.852654   \n",
       "                                                 Output   Electricity  184108.162865   \n",
       "               BoS Slow Progress          1      Cost     Cost          19022.884313   \n",
       "                                                 Metric   GHG               0.000327   \n",
       "                                                          LCOE              0.002802   \n",
       "                                                          Labor          -148.230849   \n",
       "                                                 Output   Electricity  184111.682213   \n",
       "               Inverter Fast Progress     1      Cost     Cost          18059.997438   \n",
       "                                                 Metric   GHG               2.601021   \n",
       "                                                          LCOE              0.011024   \n",
       "                                                          Labor            -0.031111   \n",
       "                                                 Output   Electricity  189903.145647   \n",
       "               Inverter Moderate Progress 1      Cost     Cost          18713.047656   \n",
       "                                                 Metric   GHG               2.537671   \n",
       "                                                          LCOE              0.007512   \n",
       "                                                          Labor            -0.034240   \n",
       "                                                 Output   Electricity  189762.072909   \n",
       "               Inverter Slow Progress     1      Cost     Cost          19224.862899   \n",
       "                                                 Metric   GHG               2.435100   \n",
       "                                                          LCOE              0.004693   \n",
       "                                                          Labor             0.056486   \n",
       "                                                 Output   Electricity  189533.659025   \n",
       "               Module Fast Progress       1      Cost     Cost          18935.973204   \n",
       "                                                 Metric   GHG              51.490235   \n",
       "                                                          LCOE              0.042746   \n",
       "                                                          Labor             0.013583   \n",
       "                                                 Output   Electricity  298774.134685   \n",
       "               Module Moderate Progress   1      Cost     Cost          18952.058689   \n",
       "                                                 Metric   GHG              41.216046   \n",
       "                                                          LCOE              0.037432   \n",
       "                                                          Labor             0.029792   \n",
       "                                                 Output   Electricity  275894.626758   \n",
       "               Module Slow Progress       1      Cost     Cost          19656.198525   \n",
       "                                                 Metric   GHG              14.794693   \n",
       "                                                          LCOE              0.015567   \n",
       "                                                          Labor            -0.007250   \n",
       "                                                 Output   Electricity  217057.134731   \n",
       "\n",
       "                                                                               Units  \n",
       "Technology     Scenario                   Sample Variable Index                       \n",
       "Residential PV 2015 Actual                1      Cost     Cost              $/system  \n",
       "                                                 Metric   GHG          ΔgCO2e/system  \n",
       "                                                          LCOE                Δ$/kWh  \n",
       "                                                          Labor            Δ$/system  \n",
       "                                                 Output   Electricity            kWh  \n",
       "               BoS Fast Progress          1      Cost     Cost              $/system  \n",
       "                                                 Metric   GHG          ΔgCO2e/system  \n",
       "                                                          LCOE                Δ$/kWh  \n",
       "                                                          Labor            Δ$/system  \n",
       "                                                 Output   Electricity            kWh  \n",
       "               BoS Moderate Progress      1      Cost     Cost              $/system  \n",
       "                                                 Metric   GHG          ΔgCO2e/system  \n",
       "                                                          LCOE                Δ$/kWh  \n",
       "                                                          Labor            Δ$/system  \n",
       "                                                 Output   Electricity            kWh  \n",
       "               BoS Slow Progress          1      Cost     Cost              $/system  \n",
       "                                                 Metric   GHG          ΔgCO2e/system  \n",
       "                                                          LCOE                Δ$/kWh  \n",
       "                                                          Labor            Δ$/system  \n",
       "                                                 Output   Electricity            kWh  \n",
       "               Inverter Fast Progress     1      Cost     Cost              $/system  \n",
       "                                                 Metric   GHG          ΔgCO2e/system  \n",
       "                                                          LCOE                Δ$/kWh  \n",
       "                                                          Labor            Δ$/system  \n",
       "                                                 Output   Electricity            kWh  \n",
       "               Inverter Moderate Progress 1      Cost     Cost              $/system  \n",
       "                                                 Metric   GHG          ΔgCO2e/system  \n",
       "                                                          LCOE                Δ$/kWh  \n",
       "                                                          Labor            Δ$/system  \n",
       "                                                 Output   Electricity            kWh  \n",
       "               Inverter Slow Progress     1      Cost     Cost              $/system  \n",
       "                                                 Metric   GHG          ΔgCO2e/system  \n",
       "                                                          LCOE                Δ$/kWh  \n",
       "                                                          Labor            Δ$/system  \n",
       "                                                 Output   Electricity            kWh  \n",
       "               Module Fast Progress       1      Cost     Cost              $/system  \n",
       "                                                 Metric   GHG          ΔgCO2e/system  \n",
       "                                                          LCOE                Δ$/kWh  \n",
       "                                                          Labor            Δ$/system  \n",
       "                                                 Output   Electricity            kWh  \n",
       "               Module Moderate Progress   1      Cost     Cost              $/system  \n",
       "                                                 Metric   GHG          ΔgCO2e/system  \n",
       "                                                          LCOE                Δ$/kWh  \n",
       "                                                          Labor            Δ$/system  \n",
       "                                                 Output   Electricity            kWh  \n",
       "               Module Slow Progress       1      Cost     Cost              $/system  \n",
       "                                                 Metric   GHG          ΔgCO2e/system  \n",
       "                                                          LCOE                Δ$/kWh  \n",
       "                                                          Labor            Δ$/system  \n",
       "                                                 Output   Electricity            kWh  "
      ]
     },
     "execution_count": 15,
     "metadata": {},
     "output_type": "execute_result"
    }
   ],
   "source": [
    "scenario_results.xs(1, level=\"Sample\", drop_level=False)"
   ]
  },
  {
   "cell_type": "markdown",
   "metadata": {},
   "source": [
    "### Save results."
   ]
  },
  {
   "cell_type": "code",
   "execution_count": 16,
   "metadata": {},
   "outputs": [],
   "source": [
    "scenario_results.to_csv(\"output/pv_residential_simple/example-scenario.csv\")"
   ]
  },
  {
   "cell_type": "markdown",
   "metadata": {},
   "source": [
    "### Plot GHG metric."
   ]
  },
  {
   "cell_type": "code",
   "execution_count": 17,
   "metadata": {
    "scrolled": true
   },
   "outputs": [
    {
     "data": {
      "image/png": "[encoded data removed]",
      "text/plain": [
       "<Figure size 432x288 with 1 Axes>"
      ]
     },
     "metadata": {
      "needs_background": "light"
     },
     "output_type": "display_data"
    }
   ],
   "source": [
    "g = sb.boxplot(\n",
    "    x=\"Scenario\",\n",
    "    y=\"Value\",\n",
    "    data=scenario_results.xs(\n",
    "        [\"Metric\", \"GHG\"],\n",
    "        level=[\"Variable\", \"Index\"]\n",
    "    ).reset_index()[[\"Scenario\", \"Value\"]],\n",
    "    order=[\n",
    "        \"2015 Actual\"              ,\n",
    "        \"Module Slow Progress\"      ,\n",
    "        \"Module Moderate Progress\"  ,\n",
    "        \"Module Fast Progress\"      ,\n",
    "        \"Inverter Slow Progress\"    ,\n",
    "        \"Inverter Moderate Progress\",\n",
    "        \"Inverter Fast Progress\"    ,\n",
    "        \"BoS Slow Progress\"         ,\n",
    "        \"BoS Moderate Progress\"     ,\n",
    "        \"BoS Fast Progress\"         ,\n",
    "    ]\n",
    ")\n",
    "g.set(ylabel=\"GHG Reduction [gCO2e / system]\")\n",
    "g.set_xticklabels(g.get_xticklabels(), rotation=30);"
   ]
  },
  {
   "cell_type": "markdown",
   "metadata": {},
   "source": [
    "### Plot LCOE metric."
   ]
  },
  {
   "cell_type": "code",
   "execution_count": 18,
   "metadata": {},
   "outputs": [
    {
     "data": {
      "image/png": "[encoded data removed]",
      "text/plain": [
       "<Figure size 432x288 with 1 Axes>"
      ]
     },
     "metadata": {
      "needs_background": "light"
     },
     "output_type": "display_data"
    }
   ],
   "source": [
    "g = sb.boxplot(\n",
    "    x=\"Scenario\",\n",
    "    y=\"Value\",\n",
    "    data=scenario_results.xs(\n",
    "        [\"Metric\", \"LCOE\"],\n",
    "        level=[\"Variable\", \"Index\"]\n",
    "    ).reset_index()[[\"Scenario\", \"Value\"]],\n",
    "    order=[\n",
    "        \"2015 Actual\"              ,\n",
    "        \"Module Slow Progress\"      ,\n",
    "        \"Module Moderate Progress\"  ,\n",
    "        \"Module Fast Progress\"      ,\n",
    "        \"Inverter Slow Progress\"    ,\n",
    "        \"Inverter Moderate Progress\",\n",
    "        \"Inverter Fast Progress\"    ,\n",
    "        \"BoS Slow Progress\"         ,\n",
    "        \"BoS Moderate Progress\"     ,\n",
    "        \"BoS Fast Progress\"         ,\n",
    "    ]\n",
    ")\n",
    "g.set(ylabel=\"LCOE Reduction [USD / kWh]\")\n",
    "g.set_xticklabels(g.get_xticklabels(), rotation=30);"
   ]
  },
  {
   "cell_type": "markdown",
   "metadata": {},
   "source": [
    "### Plot labor metric."
   ]
  },
  {
   "cell_type": "code",
   "execution_count": 19,
   "metadata": {},
   "outputs": [
    {
     "data": {
      "image/png": "[encoded data removed]",
      "text/plain": [
       "<Figure size 432x288 with 1 Axes>"
      ]
     },
     "metadata": {
      "needs_background": "light"
     },
     "output_type": "display_data"
    }
   ],
   "source": [
    "g = sb.boxplot(\n",
    "    x=\"Scenario\",\n",
    "    y=\"Value\",\n",
    "    data=scenario_results.xs(\n",
    "        [\"Metric\", \"Labor\"],\n",
    "        level=[\"Variable\", \"Index\"]\n",
    "    ).reset_index()[[\"Scenario\", \"Value\"]],\n",
    "    order=[\n",
    "        \"2015 Actual\"              ,\n",
    "        \"Module Slow Progress\"      ,\n",
    "        \"Module Moderate Progress\"  ,\n",
    "        \"Module Fast Progress\"      ,\n",
    "        \"Inverter Slow Progress\"    ,\n",
    "        \"Inverter Moderate Progress\",\n",
    "        \"Inverter Fast Progress\"    ,\n",
    "        \"BoS Slow Progress\"         ,\n",
    "        \"BoS Moderate Progress\"     ,\n",
    "        \"BoS Fast Progress\"         ,\n",
    "    ]\n",
    ")\n",
    "g.set(ylabel=\"Labor Increase [USD / system]\")\n",
    "g.set_xticklabels(g.get_xticklabels(), rotation=15);"
   ]
  },
  {
   "cell_type": "markdown",
   "metadata": {},
   "source": [
    "## Evaluate the investments in the dataset."
   ]
  },
  {
   "cell_type": "code",
   "execution_count": 20,
   "metadata": {},
   "outputs": [],
   "source": [
    "investment_results = investments.evaluate_investments(designs, sample_count=50)"
   ]
  },
  {
   "cell_type": "markdown",
   "metadata": {},
   "source": [
    "### Costs of investments."
   ]
  },
  {
   "cell_type": "code",
   "execution_count": 21,
   "metadata": {},
   "outputs": [
    {
     "data": {
      "text/html": [
       "<div>\n",
       "<style scoped>\n",
       "    .dataframe tbody tr th:only-of-type {\n",
       "        vertical-align: middle;\n",
       "    }\n",
       "\n",
       "    .dataframe tbody tr th {\n",
       "        vertical-align: top;\n",
       "    }\n",
       "\n",
       "    .dataframe thead th {\n",
       "        text-align: right;\n",
       "    }\n",
       "</style>\n",
       "<table border=\"1\" class=\"dataframe\">\n",
       "  <thead>\n",
       "    <tr style=\"text-align: right;\">\n",
       "      <th></th>\n",
       "      <th>Amount</th>\n",
       "    </tr>\n",
       "    <tr>\n",
       "      <th>Investment</th>\n",
       "      <th></th>\n",
       "    </tr>\n",
       "  </thead>\n",
       "  <tbody>\n",
       "    <tr>\n",
       "      <td>High R&amp;D</td>\n",
       "      <td>8400000.0</td>\n",
       "    </tr>\n",
       "    <tr>\n",
       "      <td>Low R&amp;D</td>\n",
       "      <td>2800000.0</td>\n",
       "    </tr>\n",
       "    <tr>\n",
       "      <td>Medium R&amp;D</td>\n",
       "      <td>5600000.0</td>\n",
       "    </tr>\n",
       "  </tbody>\n",
       "</table>\n",
       "</div>"
      ],
      "text/plain": [
       "               Amount\n",
       "Investment           \n",
       "High R&D    8400000.0\n",
       "Low R&D     2800000.0\n",
       "Medium R&D  5600000.0"
      ]
     },
     "execution_count": 21,
     "metadata": {},
     "output_type": "execute_result"
    }
   ],
   "source": [
    "investment_results.amounts"
   ]
  },
  {
   "cell_type": "markdown",
   "metadata": {},
   "source": [
    "### Benefits of investments."
   ]
  },
  {
   "cell_type": "code",
   "execution_count": 22,
   "metadata": {},
   "outputs": [
    {
     "data": {
      "text/html": [
       "<div>\n",
       "<style scoped>\n",
       "    .dataframe tbody tr th:only-of-type {\n",
       "        vertical-align: middle;\n",
       "    }\n",
       "\n",
       "    .dataframe tbody tr th {\n",
       "        vertical-align: top;\n",
       "    }\n",
       "\n",
       "    .dataframe thead th {\n",
       "        text-align: right;\n",
       "    }\n",
       "</style>\n",
       "<table border=\"1\" class=\"dataframe\">\n",
       "  <thead>\n",
       "    <tr style=\"text-align: right;\">\n",
       "      <th></th>\n",
       "      <th></th>\n",
       "      <th></th>\n",
       "      <th></th>\n",
       "      <th></th>\n",
       "      <th></th>\n",
       "      <th></th>\n",
       "      <th>Value</th>\n",
       "      <th>Units</th>\n",
       "    </tr>\n",
       "    <tr>\n",
       "      <th>Investment</th>\n",
       "      <th>Category</th>\n",
       "      <th>Tranche</th>\n",
       "      <th>Scenario</th>\n",
       "      <th>Sample</th>\n",
       "      <th>Technology</th>\n",
       "      <th>Index</th>\n",
       "      <th></th>\n",
       "      <th></th>\n",
       "    </tr>\n",
       "  </thead>\n",
       "  <tbody>\n",
       "    <tr>\n",
       "      <td rowspan=\"3\" valign=\"top\">High R&amp;D</td>\n",
       "      <td rowspan=\"3\" valign=\"top\">BoS R&amp;D</td>\n",
       "      <td rowspan=\"3\" valign=\"top\">BoS High R&amp;D</td>\n",
       "      <td rowspan=\"3\" valign=\"top\">BoS Fast Progress</td>\n",
       "      <td rowspan=\"3\" valign=\"top\">1</td>\n",
       "      <td rowspan=\"3\" valign=\"top\">Residential PV</td>\n",
       "      <td>GHG</td>\n",
       "      <td>0.001646</td>\n",
       "      <td>ΔgCO2e/system</td>\n",
       "    </tr>\n",
       "    <tr>\n",
       "      <td>LCOE</td>\n",
       "      <td>0.009871</td>\n",
       "      <td>Δ$/kWh</td>\n",
       "    </tr>\n",
       "    <tr>\n",
       "      <td>Labor</td>\n",
       "      <td>-484.675917</td>\n",
       "      <td>Δ$/system</td>\n",
       "    </tr>\n",
       "    <tr>\n",
       "      <td rowspan=\"3\" valign=\"top\">Medium R&amp;D</td>\n",
       "      <td rowspan=\"3\" valign=\"top\">BoS R&amp;D</td>\n",
       "      <td rowspan=\"3\" valign=\"top\">BoS Medium R&amp;D</td>\n",
       "      <td rowspan=\"3\" valign=\"top\">BoS Moderate Progress</td>\n",
       "      <td rowspan=\"3\" valign=\"top\">1</td>\n",
       "      <td rowspan=\"3\" valign=\"top\">Residential PV</td>\n",
       "      <td>GHG</td>\n",
       "      <td>-0.005431</td>\n",
       "      <td>ΔgCO2e/system</td>\n",
       "    </tr>\n",
       "    <tr>\n",
       "      <td>LCOE</td>\n",
       "      <td>0.009181</td>\n",
       "      <td>Δ$/kWh</td>\n",
       "    </tr>\n",
       "    <tr>\n",
       "      <td>Labor</td>\n",
       "      <td>-350.111301</td>\n",
       "      <td>Δ$/system</td>\n",
       "    </tr>\n",
       "    <tr>\n",
       "      <td rowspan=\"3\" valign=\"top\">Low R&amp;D</td>\n",
       "      <td rowspan=\"3\" valign=\"top\">BoS R&amp;D</td>\n",
       "      <td rowspan=\"3\" valign=\"top\">BoS Low R&amp;D</td>\n",
       "      <td rowspan=\"3\" valign=\"top\">BoS Slow Progress</td>\n",
       "      <td rowspan=\"3\" valign=\"top\">1</td>\n",
       "      <td rowspan=\"3\" valign=\"top\">Residential PV</td>\n",
       "      <td>GHG</td>\n",
       "      <td>-0.000623</td>\n",
       "      <td>ΔgCO2e/system</td>\n",
       "    </tr>\n",
       "    <tr>\n",
       "      <td>LCOE</td>\n",
       "      <td>0.002863</td>\n",
       "      <td>Δ$/kWh</td>\n",
       "    </tr>\n",
       "    <tr>\n",
       "      <td>Labor</td>\n",
       "      <td>-165.967402</td>\n",
       "      <td>Δ$/system</td>\n",
       "    </tr>\n",
       "    <tr>\n",
       "      <td rowspan=\"3\" valign=\"top\">High R&amp;D</td>\n",
       "      <td rowspan=\"3\" valign=\"top\">Inverter R&amp;D</td>\n",
       "      <td rowspan=\"3\" valign=\"top\">Inverter High R&amp;D</td>\n",
       "      <td rowspan=\"3\" valign=\"top\">Inverter Fast Progress</td>\n",
       "      <td rowspan=\"3\" valign=\"top\">1</td>\n",
       "      <td rowspan=\"3\" valign=\"top\">Residential PV</td>\n",
       "      <td>GHG</td>\n",
       "      <td>2.366737</td>\n",
       "      <td>ΔgCO2e/system</td>\n",
       "    </tr>\n",
       "    <tr>\n",
       "      <td>LCOE</td>\n",
       "      <td>0.011084</td>\n",
       "      <td>Δ$/kWh</td>\n",
       "    </tr>\n",
       "    <tr>\n",
       "      <td>Labor</td>\n",
       "      <td>0.034014</td>\n",
       "      <td>Δ$/system</td>\n",
       "    </tr>\n",
       "    <tr>\n",
       "      <td rowspan=\"3\" valign=\"top\">Medium R&amp;D</td>\n",
       "      <td rowspan=\"3\" valign=\"top\">Inverter R&amp;D</td>\n",
       "      <td rowspan=\"3\" valign=\"top\">Inverter Medium R&amp;D</td>\n",
       "      <td rowspan=\"3\" valign=\"top\">Inverter Moderate Progress</td>\n",
       "      <td rowspan=\"3\" valign=\"top\">1</td>\n",
       "      <td rowspan=\"3\" valign=\"top\">Residential PV</td>\n",
       "      <td>GHG</td>\n",
       "      <td>2.385654</td>\n",
       "      <td>ΔgCO2e/system</td>\n",
       "    </tr>\n",
       "    <tr>\n",
       "      <td>LCOE</td>\n",
       "      <td>0.007551</td>\n",
       "      <td>Δ$/kWh</td>\n",
       "    </tr>\n",
       "    <tr>\n",
       "      <td>Labor</td>\n",
       "      <td>0.016533</td>\n",
       "      <td>Δ$/system</td>\n",
       "    </tr>\n",
       "    <tr>\n",
       "      <td rowspan=\"3\" valign=\"top\">Low R&amp;D</td>\n",
       "      <td rowspan=\"3\" valign=\"top\">Inverter R&amp;D</td>\n",
       "      <td rowspan=\"3\" valign=\"top\">Inverter Low R&amp;D</td>\n",
       "      <td rowspan=\"3\" valign=\"top\">Inverter Slow Progress</td>\n",
       "      <td rowspan=\"3\" valign=\"top\">1</td>\n",
       "      <td rowspan=\"3\" valign=\"top\">Residential PV</td>\n",
       "      <td>GHG</td>\n",
       "      <td>2.562178</td>\n",
       "      <td>ΔgCO2e/system</td>\n",
       "    </tr>\n",
       "    <tr>\n",
       "      <td>LCOE</td>\n",
       "      <td>0.004598</td>\n",
       "      <td>Δ$/kWh</td>\n",
       "    </tr>\n",
       "    <tr>\n",
       "      <td>Labor</td>\n",
       "      <td>0.081408</td>\n",
       "      <td>Δ$/system</td>\n",
       "    </tr>\n",
       "    <tr>\n",
       "      <td rowspan=\"3\" valign=\"top\">High R&amp;D</td>\n",
       "      <td rowspan=\"3\" valign=\"top\">Module R&amp;D</td>\n",
       "      <td rowspan=\"3\" valign=\"top\">Module High R&amp;D</td>\n",
       "      <td rowspan=\"3\" valign=\"top\">Module Fast Progress</td>\n",
       "      <td rowspan=\"3\" valign=\"top\">1</td>\n",
       "      <td rowspan=\"3\" valign=\"top\">Residential PV</td>\n",
       "      <td>GHG</td>\n",
       "      <td>50.680545</td>\n",
       "      <td>ΔgCO2e/system</td>\n",
       "    </tr>\n",
       "    <tr>\n",
       "      <td>LCOE</td>\n",
       "      <td>0.043544</td>\n",
       "      <td>Δ$/kWh</td>\n",
       "    </tr>\n",
       "    <tr>\n",
       "      <td>Labor</td>\n",
       "      <td>-0.014162</td>\n",
       "      <td>Δ$/system</td>\n",
       "    </tr>\n",
       "    <tr>\n",
       "      <td rowspan=\"3\" valign=\"top\">Medium R&amp;D</td>\n",
       "      <td rowspan=\"3\" valign=\"top\">Module R&amp;D</td>\n",
       "      <td rowspan=\"3\" valign=\"top\">Module Medium R&amp;D</td>\n",
       "      <td rowspan=\"3\" valign=\"top\">Module Moderate Progress</td>\n",
       "      <td rowspan=\"3\" valign=\"top\">1</td>\n",
       "      <td rowspan=\"3\" valign=\"top\">Residential PV</td>\n",
       "      <td>GHG</td>\n",
       "      <td>41.065128</td>\n",
       "      <td>ΔgCO2e/system</td>\n",
       "    </tr>\n",
       "    <tr>\n",
       "      <td>LCOE</td>\n",
       "      <td>0.037053</td>\n",
       "      <td>Δ$/kWh</td>\n",
       "    </tr>\n",
       "    <tr>\n",
       "      <td>Labor</td>\n",
       "      <td>-0.010921</td>\n",
       "      <td>Δ$/system</td>\n",
       "    </tr>\n",
       "    <tr>\n",
       "      <td rowspan=\"3\" valign=\"top\">Low R&amp;D</td>\n",
       "      <td rowspan=\"3\" valign=\"top\">Module R&amp;D</td>\n",
       "      <td rowspan=\"3\" valign=\"top\">Module Low R&amp;D</td>\n",
       "      <td rowspan=\"3\" valign=\"top\">Module Slow Progress</td>\n",
       "      <td rowspan=\"3\" valign=\"top\">1</td>\n",
       "      <td rowspan=\"3\" valign=\"top\">Residential PV</td>\n",
       "      <td>GHG</td>\n",
       "      <td>12.916316</td>\n",
       "      <td>ΔgCO2e/system</td>\n",
       "    </tr>\n",
       "    <tr>\n",
       "      <td>LCOE</td>\n",
       "      <td>0.013848</td>\n",
       "      <td>Δ$/kWh</td>\n",
       "    </tr>\n",
       "    <tr>\n",
       "      <td>Labor</td>\n",
       "      <td>0.057653</td>\n",
       "      <td>Δ$/system</td>\n",
       "    </tr>\n",
       "  </tbody>\n",
       "</table>\n",
       "</div>"
      ],
      "text/plain": [
       "                                                                                                         Value  \\\n",
       "Investment Category     Tranche             Scenario                   Sample Technology     Index               \n",
       "High R&D   BoS R&D      BoS High R&D        BoS Fast Progress          1      Residential PV GHG      0.001646   \n",
       "                                                                                             LCOE     0.009871   \n",
       "                                                                                             Labor -484.675917   \n",
       "Medium R&D BoS R&D      BoS Medium R&D      BoS Moderate Progress      1      Residential PV GHG     -0.005431   \n",
       "                                                                                             LCOE     0.009181   \n",
       "                                                                                             Labor -350.111301   \n",
       "Low R&D    BoS R&D      BoS Low R&D         BoS Slow Progress          1      Residential PV GHG     -0.000623   \n",
       "                                                                                             LCOE     0.002863   \n",
       "                                                                                             Labor -165.967402   \n",
       "High R&D   Inverter R&D Inverter High R&D   Inverter Fast Progress     1      Residential PV GHG      2.366737   \n",
       "                                                                                             LCOE     0.011084   \n",
       "                                                                                             Labor    0.034014   \n",
       "Medium R&D Inverter R&D Inverter Medium R&D Inverter Moderate Progress 1      Residential PV GHG      2.385654   \n",
       "                                                                                             LCOE     0.007551   \n",
       "                                                                                             Labor    0.016533   \n",
       "Low R&D    Inverter R&D Inverter Low R&D    Inverter Slow Progress     1      Residential PV GHG      2.562178   \n",
       "                                                                                             LCOE     0.004598   \n",
       "                                                                                             Labor    0.081408   \n",
       "High R&D   Module R&D   Module High R&D     Module Fast Progress       1      Residential PV GHG     50.680545   \n",
       "                                                                                             LCOE     0.043544   \n",
       "                                                                                             Labor   -0.014162   \n",
       "Medium R&D Module R&D   Module Medium R&D   Module Moderate Progress   1      Residential PV GHG     41.065128   \n",
       "                                                                                             LCOE     0.037053   \n",
       "                                                                                             Labor   -0.010921   \n",
       "Low R&D    Module R&D   Module Low R&D      Module Slow Progress       1      Residential PV GHG     12.916316   \n",
       "                                                                                             LCOE     0.013848   \n",
       "                                                                                             Labor    0.057653   \n",
       "\n",
       "                                                                                                            Units  \n",
       "Investment Category     Tranche             Scenario                   Sample Technology     Index                 \n",
       "High R&D   BoS R&D      BoS High R&D        BoS Fast Progress          1      Residential PV GHG    ΔgCO2e/system  \n",
       "                                                                                             LCOE          Δ$/kWh  \n",
       "                                                                                             Labor      Δ$/system  \n",
       "Medium R&D BoS R&D      BoS Medium R&D      BoS Moderate Progress      1      Residential PV GHG    ΔgCO2e/system  \n",
       "                                                                                             LCOE          Δ$/kWh  \n",
       "                                                                                             Labor      Δ$/system  \n",
       "Low R&D    BoS R&D      BoS Low R&D         BoS Slow Progress          1      Residential PV GHG    ΔgCO2e/system  \n",
       "                                                                                             LCOE          Δ$/kWh  \n",
       "                                                                                             Labor      Δ$/system  \n",
       "High R&D   Inverter R&D Inverter High R&D   Inverter Fast Progress     1      Residential PV GHG    ΔgCO2e/system  \n",
       "                                                                                             LCOE          Δ$/kWh  \n",
       "                                                                                             Labor      Δ$/system  \n",
       "Medium R&D Inverter R&D Inverter Medium R&D Inverter Moderate Progress 1      Residential PV GHG    ΔgCO2e/system  \n",
       "                                                                                             LCOE          Δ$/kWh  \n",
       "                                                                                             Labor      Δ$/system  \n",
       "Low R&D    Inverter R&D Inverter Low R&D    Inverter Slow Progress     1      Residential PV GHG    ΔgCO2e/system  \n",
       "                                                                                             LCOE          Δ$/kWh  \n",
       "                                                                                             Labor      Δ$/system  \n",
       "High R&D   Module R&D   Module High R&D     Module Fast Progress       1      Residential PV GHG    ΔgCO2e/system  \n",
       "                                                                                             LCOE          Δ$/kWh  \n",
       "                                                                                             Labor      Δ$/system  \n",
       "Medium R&D Module R&D   Module Medium R&D   Module Moderate Progress   1      Residential PV GHG    ΔgCO2e/system  \n",
       "                                                                                             LCOE          Δ$/kWh  \n",
       "                                                                                             Labor      Δ$/system  \n",
       "Low R&D    Module R&D   Module Low R&D      Module Slow Progress       1      Residential PV GHG    ΔgCO2e/system  \n",
       "                                                                                             LCOE          Δ$/kWh  \n",
       "                                                                                             Labor      Δ$/system  "
      ]
     },
     "execution_count": 22,
     "metadata": {},
     "output_type": "execute_result"
    }
   ],
   "source": [
    "investment_results.metrics.xs(1, level=\"Sample\", drop_level=False)"
   ]
  },
  {
   "cell_type": "code",
   "execution_count": 23,
   "metadata": {},
   "outputs": [
    {
     "data": {
      "text/html": [
       "<div>\n",
       "<style scoped>\n",
       "    .dataframe tbody tr th:only-of-type {\n",
       "        vertical-align: middle;\n",
       "    }\n",
       "\n",
       "    .dataframe tbody tr th {\n",
       "        vertical-align: top;\n",
       "    }\n",
       "\n",
       "    .dataframe thead th {\n",
       "        text-align: right;\n",
       "    }\n",
       "</style>\n",
       "<table border=\"1\" class=\"dataframe\">\n",
       "  <thead>\n",
       "    <tr style=\"text-align: right;\">\n",
       "      <th></th>\n",
       "      <th></th>\n",
       "      <th></th>\n",
       "      <th>Value</th>\n",
       "      <th>Units</th>\n",
       "    </tr>\n",
       "    <tr>\n",
       "      <th>Investment</th>\n",
       "      <th>Sample</th>\n",
       "      <th>Index</th>\n",
       "      <th></th>\n",
       "      <th></th>\n",
       "    </tr>\n",
       "  </thead>\n",
       "  <tbody>\n",
       "    <tr>\n",
       "      <td rowspan=\"3\" valign=\"top\">High R&amp;D</td>\n",
       "      <td rowspan=\"3\" valign=\"top\">1</td>\n",
       "      <td>GHG</td>\n",
       "      <td>53.048928</td>\n",
       "      <td>ΔgCO2e/system</td>\n",
       "    </tr>\n",
       "    <tr>\n",
       "      <td>LCOE</td>\n",
       "      <td>0.064500</td>\n",
       "      <td>Δ$/kWh</td>\n",
       "    </tr>\n",
       "    <tr>\n",
       "      <td>Labor</td>\n",
       "      <td>-484.656066</td>\n",
       "      <td>Δ$/system</td>\n",
       "    </tr>\n",
       "    <tr>\n",
       "      <td rowspan=\"3\" valign=\"top\">Medium R&amp;D</td>\n",
       "      <td rowspan=\"3\" valign=\"top\">1</td>\n",
       "      <td>GHG</td>\n",
       "      <td>43.445350</td>\n",
       "      <td>ΔgCO2e/system</td>\n",
       "    </tr>\n",
       "    <tr>\n",
       "      <td>LCOE</td>\n",
       "      <td>0.053785</td>\n",
       "      <td>Δ$/kWh</td>\n",
       "    </tr>\n",
       "    <tr>\n",
       "      <td>Labor</td>\n",
       "      <td>-350.105690</td>\n",
       "      <td>Δ$/system</td>\n",
       "    </tr>\n",
       "    <tr>\n",
       "      <td rowspan=\"3\" valign=\"top\">Low R&amp;D</td>\n",
       "      <td rowspan=\"3\" valign=\"top\">1</td>\n",
       "      <td>GHG</td>\n",
       "      <td>15.477872</td>\n",
       "      <td>ΔgCO2e/system</td>\n",
       "    </tr>\n",
       "    <tr>\n",
       "      <td>LCOE</td>\n",
       "      <td>0.021309</td>\n",
       "      <td>Δ$/kWh</td>\n",
       "    </tr>\n",
       "    <tr>\n",
       "      <td>Labor</td>\n",
       "      <td>-165.828341</td>\n",
       "      <td>Δ$/system</td>\n",
       "    </tr>\n",
       "  </tbody>\n",
       "</table>\n",
       "</div>"
      ],
      "text/plain": [
       "                              Value          Units\n",
       "Investment Sample Index                           \n",
       "High R&D   1      GHG     53.048928  ΔgCO2e/system\n",
       "                  LCOE     0.064500         Δ$/kWh\n",
       "                  Labor -484.656066      Δ$/system\n",
       "Medium R&D 1      GHG     43.445350  ΔgCO2e/system\n",
       "                  LCOE     0.053785         Δ$/kWh\n",
       "                  Labor -350.105690      Δ$/system\n",
       "Low R&D    1      GHG     15.477872  ΔgCO2e/system\n",
       "                  LCOE     0.021309         Δ$/kWh\n",
       "                  Labor -165.828341      Δ$/system"
      ]
     },
     "execution_count": 23,
     "metadata": {},
     "output_type": "execute_result"
    }
   ],
   "source": [
    "investment_results.summary.xs(1, level=\"Sample\", drop_level=False)"
   ]
  },
  {
   "cell_type": "markdown",
   "metadata": {},
   "source": [
    "### Save results."
   ]
  },
  {
   "cell_type": "code",
   "execution_count": 24,
   "metadata": {},
   "outputs": [],
   "source": [
    "investment_results.amounts.to_csv(\"output/pv_residential_simple/example-investment-amounts.csv\")"
   ]
  },
  {
   "cell_type": "code",
   "execution_count": 25,
   "metadata": {},
   "outputs": [],
   "source": [
    "investment_results.metrics.to_csv(\"output/pv_residential_simple/example-investment-metrics.csv\")"
   ]
  },
  {
   "cell_type": "markdown",
   "metadata": {},
   "source": [
    "### Plot GHG metric."
   ]
  },
  {
   "cell_type": "code",
   "execution_count": 26,
   "metadata": {
    "scrolled": false
   },
   "outputs": [
    {
     "data": {
      "image/png": "[encoded data removed]",
      "text/plain": [
       "<Figure size 432x288 with 1 Axes>"
      ]
     },
     "metadata": {
      "needs_background": "light"
     },
     "output_type": "display_data"
    }
   ],
   "source": [
    "g = sb.boxplot(\n",
    "    x=\"Investment\",\n",
    "    y=\"Value\",\n",
    "    data=investment_results.metrics.xs(\n",
    "        \"GHG\",\n",
    "        level=\"Index\"\n",
    "    ).reset_index()[[\"Investment\", \"Value\"]],\n",
    "    order=[\n",
    "        \"Low R&D\"   ,\n",
    "        \"Medium R&D\",\n",
    "        \"High R&D\"  ,\n",
    "    ]\n",
    ")\n",
    "g.set(ylabel=\"GHG Reduction [gCO2e / system]\")\n",
    "g.set_xticklabels(g.get_xticklabels(), rotation=15);"
   ]
  },
  {
   "cell_type": "markdown",
   "metadata": {},
   "source": [
    "### Plot LCOE metric."
   ]
  },
  {
   "cell_type": "code",
   "execution_count": 27,
   "metadata": {},
   "outputs": [
    {
     "data": {
      "image/png": "[encoded data removed]",
      "text/plain": [
       "<Figure size 432x288 with 1 Axes>"
      ]
     },
     "metadata": {
      "needs_background": "light"
     },
     "output_type": "display_data"
    }
   ],
   "source": [
    "g = sb.boxplot(\n",
    "    x=\"Investment\",\n",
    "    y=\"Value\",\n",
    "    data=investment_results.metrics.xs(\n",
    "        \"LCOE\",\n",
    "        level=\"Index\"\n",
    "    ).reset_index()[[\"Investment\", \"Value\"]],\n",
    "    order=[\n",
    "        \"Low R&D\"   ,\n",
    "        \"Medium R&D\",\n",
    "        \"High R&D\"  ,\n",
    "    ]\n",
    ")\n",
    "g.set(ylabel=\"LCOE Reduction [USD / kWh]\")\n",
    "g.set_xticklabels(g.get_xticklabels(), rotation=15);"
   ]
  },
  {
   "cell_type": "markdown",
   "metadata": {},
   "source": [
    "### Plot labor metric."
   ]
  },
  {
   "cell_type": "code",
   "execution_count": 28,
   "metadata": {},
   "outputs": [
    {
     "data": {
      "image/png": "[encoded data removed]",
      "text/plain": [
       "<Figure size 432x288 with 1 Axes>"
      ]
     },
     "metadata": {
      "needs_background": "light"
     },
     "output_type": "display_data"
    }
   ],
   "source": [
    "g = sb.boxplot(\n",
    "    x=\"Investment\",\n",
    "    y=\"Value\",\n",
    "    data=investment_results.metrics.xs(\n",
    "        \"Labor\",\n",
    "        level=\"Index\"\n",
    "    ).reset_index()[[\"Investment\", \"Value\"]],\n",
    "    order=[\n",
    "        \"Low R&D\"   ,\n",
    "        \"Medium R&D\",\n",
    "        \"High R&D\"  ,\n",
    "    ]\n",
    ")\n",
    "g.set(ylabel=\"Labor Increase [USD / system]\")\n",
    "g.set_xticklabels(g.get_xticklabels(), rotation=15);"
   ]
  },
  {
   "cell_type": "markdown",
   "metadata": {},
   "source": [
    "## Multi-objective decision analysis."
   ]
  },
  {
   "cell_type": "markdown",
   "metadata": {},
   "source": [
    "### Compute costs and metrics for tranches."
   ]
  },
  {
   "cell_type": "markdown",
   "metadata": {},
   "source": [
    "Tranches are atomic units for building investment portfolios. Evaluate all of the tranches, so we can assemble them into investments (portfolios)."
   ]
  },
  {
   "cell_type": "code",
   "execution_count": 29,
   "metadata": {},
   "outputs": [],
   "source": [
    "tranche_results = investments.evaluate_tranches(designs, sample_count=50)"
   ]
  },
  {
   "cell_type": "markdown",
   "metadata": {},
   "source": [
    "Display the cost of each tranche."
   ]
  },
  {
   "cell_type": "code",
   "execution_count": 30,
   "metadata": {},
   "outputs": [
    {
     "data": {
      "text/html": [
       "<div>\n",
       "<style scoped>\n",
       "    .dataframe tbody tr th:only-of-type {\n",
       "        vertical-align: middle;\n",
       "    }\n",
       "\n",
       "    .dataframe tbody tr th {\n",
       "        vertical-align: top;\n",
       "    }\n",
       "\n",
       "    .dataframe thead th {\n",
       "        text-align: right;\n",
       "    }\n",
       "</style>\n",
       "<table border=\"1\" class=\"dataframe\">\n",
       "  <thead>\n",
       "    <tr style=\"text-align: right;\">\n",
       "      <th></th>\n",
       "      <th></th>\n",
       "      <th>Amount</th>\n",
       "    </tr>\n",
       "    <tr>\n",
       "      <th>Category</th>\n",
       "      <th>Tranche</th>\n",
       "      <th></th>\n",
       "    </tr>\n",
       "  </thead>\n",
       "  <tbody>\n",
       "    <tr>\n",
       "      <td rowspan=\"3\" valign=\"top\">BoS R&amp;D</td>\n",
       "      <td>BoS High R&amp;D</td>\n",
       "      <td>900000.0</td>\n",
       "    </tr>\n",
       "    <tr>\n",
       "      <td>BoS Low R&amp;D</td>\n",
       "      <td>300000.0</td>\n",
       "    </tr>\n",
       "    <tr>\n",
       "      <td>BoS Medium R&amp;D</td>\n",
       "      <td>600000.0</td>\n",
       "    </tr>\n",
       "    <tr>\n",
       "      <td rowspan=\"3\" valign=\"top\">Inverter R&amp;D</td>\n",
       "      <td>Inverter High R&amp;D</td>\n",
       "      <td>3000000.0</td>\n",
       "    </tr>\n",
       "    <tr>\n",
       "      <td>Inverter Low R&amp;D</td>\n",
       "      <td>1000000.0</td>\n",
       "    </tr>\n",
       "    <tr>\n",
       "      <td>Inverter Medium R&amp;D</td>\n",
       "      <td>2000000.0</td>\n",
       "    </tr>\n",
       "    <tr>\n",
       "      <td rowspan=\"3\" valign=\"top\">Module R&amp;D</td>\n",
       "      <td>Module High R&amp;D</td>\n",
       "      <td>4500000.0</td>\n",
       "    </tr>\n",
       "    <tr>\n",
       "      <td>Module Low R&amp;D</td>\n",
       "      <td>1500000.0</td>\n",
       "    </tr>\n",
       "    <tr>\n",
       "      <td>Module Medium R&amp;D</td>\n",
       "      <td>3000000.0</td>\n",
       "    </tr>\n",
       "  </tbody>\n",
       "</table>\n",
       "</div>"
      ],
      "text/plain": [
       "                                     Amount\n",
       "Category     Tranche                       \n",
       "BoS R&D      BoS High R&D          900000.0\n",
       "             BoS Low R&D           300000.0\n",
       "             BoS Medium R&D        600000.0\n",
       "Inverter R&D Inverter High R&D    3000000.0\n",
       "             Inverter Low R&D     1000000.0\n",
       "             Inverter Medium R&D  2000000.0\n",
       "Module R&D   Module High R&D      4500000.0\n",
       "             Module Low R&D       1500000.0\n",
       "             Module Medium R&D    3000000.0"
      ]
     },
     "execution_count": 30,
     "metadata": {},
     "output_type": "execute_result"
    }
   ],
   "source": [
    "tranche_results.amounts"
   ]
  },
  {
   "cell_type": "markdown",
   "metadata": {},
   "source": [
    "Display the metrics for each tranche."
   ]
  },
  {
   "cell_type": "code",
   "execution_count": 31,
   "metadata": {},
   "outputs": [
    {
     "data": {
      "text/html": [
       "<div>\n",
       "<style scoped>\n",
       "    .dataframe tbody tr th:only-of-type {\n",
       "        vertical-align: middle;\n",
       "    }\n",
       "\n",
       "    .dataframe tbody tr th {\n",
       "        vertical-align: top;\n",
       "    }\n",
       "\n",
       "    .dataframe thead th {\n",
       "        text-align: right;\n",
       "    }\n",
       "</style>\n",
       "<table border=\"1\" class=\"dataframe\">\n",
       "  <thead>\n",
       "    <tr style=\"text-align: right;\">\n",
       "      <th></th>\n",
       "      <th></th>\n",
       "      <th></th>\n",
       "      <th></th>\n",
       "      <th>Value</th>\n",
       "      <th>Units</th>\n",
       "    </tr>\n",
       "    <tr>\n",
       "      <th>Category</th>\n",
       "      <th>Tranche</th>\n",
       "      <th>Sample</th>\n",
       "      <th>Index</th>\n",
       "      <th></th>\n",
       "      <th></th>\n",
       "    </tr>\n",
       "  </thead>\n",
       "  <tbody>\n",
       "    <tr>\n",
       "      <td rowspan=\"5\" valign=\"top\">BoS R&amp;D</td>\n",
       "      <td rowspan=\"5\" valign=\"top\">BoS High R&amp;D</td>\n",
       "      <td rowspan=\"3\" valign=\"top\">1</td>\n",
       "      <td>GHG</td>\n",
       "      <td>-0.004062</td>\n",
       "      <td>ΔgCO2e/system</td>\n",
       "    </tr>\n",
       "    <tr>\n",
       "      <td>LCOE</td>\n",
       "      <td>0.009967</td>\n",
       "      <td>Δ$/kWh</td>\n",
       "    </tr>\n",
       "    <tr>\n",
       "      <td>Labor</td>\n",
       "      <td>-490.859314</td>\n",
       "      <td>Δ$/system</td>\n",
       "    </tr>\n",
       "    <tr>\n",
       "      <td rowspan=\"2\" valign=\"top\">2</td>\n",
       "      <td>GHG</td>\n",
       "      <td>0.001960</td>\n",
       "      <td>ΔgCO2e/system</td>\n",
       "    </tr>\n",
       "    <tr>\n",
       "      <td>LCOE</td>\n",
       "      <td>0.010154</td>\n",
       "      <td>Δ$/kWh</td>\n",
       "    </tr>\n",
       "    <tr>\n",
       "      <td>...</td>\n",
       "      <td>...</td>\n",
       "      <td>...</td>\n",
       "      <td>...</td>\n",
       "      <td>...</td>\n",
       "      <td>...</td>\n",
       "    </tr>\n",
       "    <tr>\n",
       "      <td rowspan=\"5\" valign=\"top\">Module R&amp;D</td>\n",
       "      <td rowspan=\"5\" valign=\"top\">Module Low R&amp;D</td>\n",
       "      <td rowspan=\"2\" valign=\"top\">49</td>\n",
       "      <td>LCOE</td>\n",
       "      <td>0.016198</td>\n",
       "      <td>Δ$/kWh</td>\n",
       "    </tr>\n",
       "    <tr>\n",
       "      <td>Labor</td>\n",
       "      <td>0.039788</td>\n",
       "      <td>Δ$/system</td>\n",
       "    </tr>\n",
       "    <tr>\n",
       "      <td rowspan=\"3\" valign=\"top\">50</td>\n",
       "      <td>GHG</td>\n",
       "      <td>13.654483</td>\n",
       "      <td>ΔgCO2e/system</td>\n",
       "    </tr>\n",
       "    <tr>\n",
       "      <td>LCOE</td>\n",
       "      <td>0.014910</td>\n",
       "      <td>Δ$/kWh</td>\n",
       "    </tr>\n",
       "    <tr>\n",
       "      <td>Labor</td>\n",
       "      <td>-0.015539</td>\n",
       "      <td>Δ$/system</td>\n",
       "    </tr>\n",
       "  </tbody>\n",
       "</table>\n",
       "<p>1350 rows × 2 columns</p>\n",
       "</div>"
      ],
      "text/plain": [
       "                                             Value          Units\n",
       "Category   Tranche        Sample Index                           \n",
       "BoS R&D    BoS High R&D   1      GHG     -0.004062  ΔgCO2e/system\n",
       "                                 LCOE     0.009967         Δ$/kWh\n",
       "                                 Labor -490.859314      Δ$/system\n",
       "                          2      GHG      0.001960  ΔgCO2e/system\n",
       "                                 LCOE     0.010154         Δ$/kWh\n",
       "...                                            ...            ...\n",
       "Module R&D Module Low R&D 49     LCOE     0.016198         Δ$/kWh\n",
       "                                 Labor    0.039788      Δ$/system\n",
       "                          50     GHG     13.654483  ΔgCO2e/system\n",
       "                                 LCOE     0.014910         Δ$/kWh\n",
       "                                 Labor   -0.015539      Δ$/system\n",
       "\n",
       "[1350 rows x 2 columns]"
      ]
     },
     "execution_count": 31,
     "metadata": {},
     "output_type": "execute_result"
    }
   ],
   "source": [
    "tranche_results.summary"
   ]
  },
  {
   "cell_type": "markdown",
   "metadata": {},
   "source": [
    "Save the results."
   ]
  },
  {
   "cell_type": "code",
   "execution_count": 32,
   "metadata": {},
   "outputs": [],
   "source": [
    "tranche_results.amounts.to_csv(\"output/pv_residential_simple/example-tranche-amounts.csv\")\n",
    "tranche_results.summary.to_csv(\"output/pv_residential_simple/example-tranche-summary.csv\")"
   ]
  },
  {
   "cell_type": "markdown",
   "metadata": {},
   "source": [
    "### Fit a response surface to the results."
   ]
  },
  {
   "cell_type": "markdown",
   "metadata": {},
   "source": [
    "The response surface interpolates between the discrete set of cases provided in the expert elicitation. This allows us to study funding levels intermediate between those scenarios."
   ]
  },
  {
   "cell_type": "code",
   "execution_count": 33,
   "metadata": {},
   "outputs": [],
   "source": [
    "evaluator = ty.Evaluator(investments.tranches, tranche_results.summary)"
   ]
  },
  {
   "cell_type": "markdown",
   "metadata": {},
   "source": [
    "Here are the categories of investment and the maximum amount that could be invested in each:"
   ]
  },
  {
   "cell_type": "code",
   "execution_count": 34,
   "metadata": {},
   "outputs": [
    {
     "data": {
      "text/html": [
       "<div>\n",
       "<style scoped>\n",
       "    .dataframe tbody tr th:only-of-type {\n",
       "        vertical-align: middle;\n",
       "    }\n",
       "\n",
       "    .dataframe tbody tr th {\n",
       "        vertical-align: top;\n",
       "    }\n",
       "\n",
       "    .dataframe thead th {\n",
       "        text-align: right;\n",
       "    }\n",
       "</style>\n",
       "<table border=\"1\" class=\"dataframe\">\n",
       "  <thead>\n",
       "    <tr style=\"text-align: right;\">\n",
       "      <th></th>\n",
       "      <th>Amount</th>\n",
       "    </tr>\n",
       "    <tr>\n",
       "      <th>Category</th>\n",
       "      <th></th>\n",
       "    </tr>\n",
       "  </thead>\n",
       "  <tbody>\n",
       "    <tr>\n",
       "      <td>BoS R&amp;D</td>\n",
       "      <td>900000.0</td>\n",
       "    </tr>\n",
       "    <tr>\n",
       "      <td>Inverter R&amp;D</td>\n",
       "      <td>3000000.0</td>\n",
       "    </tr>\n",
       "    <tr>\n",
       "      <td>Module R&amp;D</td>\n",
       "      <td>4500000.0</td>\n",
       "    </tr>\n",
       "  </tbody>\n",
       "</table>\n",
       "</div>"
      ],
      "text/plain": [
       "                 Amount\n",
       "Category               \n",
       "BoS R&D        900000.0\n",
       "Inverter R&D  3000000.0\n",
       "Module R&D    4500000.0"
      ]
     },
     "execution_count": 34,
     "metadata": {},
     "output_type": "execute_result"
    }
   ],
   "source": [
    "evaluator.max_amount"
   ]
  },
  {
   "cell_type": "markdown",
   "metadata": {},
   "source": [
    "Here are the metrics and their units of measure:"
   ]
  },
  {
   "cell_type": "code",
   "execution_count": 35,
   "metadata": {},
   "outputs": [
    {
     "data": {
      "text/html": [
       "<div>\n",
       "<style scoped>\n",
       "    .dataframe tbody tr th:only-of-type {\n",
       "        vertical-align: middle;\n",
       "    }\n",
       "\n",
       "    .dataframe tbody tr th {\n",
       "        vertical-align: top;\n",
       "    }\n",
       "\n",
       "    .dataframe thead th {\n",
       "        text-align: right;\n",
       "    }\n",
       "</style>\n",
       "<table border=\"1\" class=\"dataframe\">\n",
       "  <thead>\n",
       "    <tr style=\"text-align: right;\">\n",
       "      <th></th>\n",
       "      <th>Units</th>\n",
       "    </tr>\n",
       "    <tr>\n",
       "      <th>Index</th>\n",
       "      <th></th>\n",
       "    </tr>\n",
       "  </thead>\n",
       "  <tbody>\n",
       "    <tr>\n",
       "      <td>GHG</td>\n",
       "      <td>ΔgCO2e/system</td>\n",
       "    </tr>\n",
       "    <tr>\n",
       "      <td>LCOE</td>\n",
       "      <td>Δ$/kWh</td>\n",
       "    </tr>\n",
       "    <tr>\n",
       "      <td>Labor</td>\n",
       "      <td>Δ$/system</td>\n",
       "    </tr>\n",
       "  </tbody>\n",
       "</table>\n",
       "</div>"
      ],
      "text/plain": [
       "               Units\n",
       "Index               \n",
       "GHG    ΔgCO2e/system\n",
       "LCOE          Δ$/kWh\n",
       "Labor      Δ$/system"
      ]
     },
     "execution_count": 35,
     "metadata": {},
     "output_type": "execute_result"
    }
   ],
   "source": [
    "evaluator.units"
   ]
  },
  {
   "cell_type": "markdown",
   "metadata": {},
   "source": [
    "#### Example interpolation."
   ]
  },
  {
   "cell_type": "markdown",
   "metadata": {},
   "source": [
    "Let's evaluate the case where each category is invested in at half of its maximum amount."
   ]
  },
  {
   "cell_type": "code",
   "execution_count": 36,
   "metadata": {},
   "outputs": [
    {
     "data": {
      "text/html": [
       "<div>\n",
       "<style scoped>\n",
       "    .dataframe tbody tr th:only-of-type {\n",
       "        vertical-align: middle;\n",
       "    }\n",
       "\n",
       "    .dataframe tbody tr th {\n",
       "        vertical-align: top;\n",
       "    }\n",
       "\n",
       "    .dataframe thead th {\n",
       "        text-align: right;\n",
       "    }\n",
       "</style>\n",
       "<table border=\"1\" class=\"dataframe\">\n",
       "  <thead>\n",
       "    <tr style=\"text-align: right;\">\n",
       "      <th></th>\n",
       "      <th>Amount</th>\n",
       "    </tr>\n",
       "    <tr>\n",
       "      <th>Category</th>\n",
       "      <th></th>\n",
       "    </tr>\n",
       "  </thead>\n",
       "  <tbody>\n",
       "    <tr>\n",
       "      <td>BoS R&amp;D</td>\n",
       "      <td>450000.0</td>\n",
       "    </tr>\n",
       "    <tr>\n",
       "      <td>Inverter R&amp;D</td>\n",
       "      <td>1500000.0</td>\n",
       "    </tr>\n",
       "    <tr>\n",
       "      <td>Module R&amp;D</td>\n",
       "      <td>2250000.0</td>\n",
       "    </tr>\n",
       "  </tbody>\n",
       "</table>\n",
       "</div>"
      ],
      "text/plain": [
       "                 Amount\n",
       "Category               \n",
       "BoS R&D        450000.0\n",
       "Inverter R&D  1500000.0\n",
       "Module R&D    2250000.0"
      ]
     },
     "execution_count": 36,
     "metadata": {},
     "output_type": "execute_result"
    }
   ],
   "source": [
    "example_investments = evaluator.max_amount / 2\n",
    "example_investments"
   ]
  },
  {
   "cell_type": "code",
   "execution_count": 37,
   "metadata": {},
   "outputs": [
    {
     "data": {
      "text/plain": [
       "Category    Index  Sample\n",
       "BoS R&D     GHG    1         -0.0010586097518157094\n",
       "                   2          7.493162517135921e-05\n",
       "                   3           0.001253893601450784\n",
       "                   4           -0.00398626797827717\n",
       "                   5          -0.005572343870333896\n",
       "                                      ...          \n",
       "Module R&D  Labor  46          0.014371009324918305\n",
       "                   47          0.011128728287076228\n",
       "                   48         0.0039832773605894545\n",
       "                   49          0.006026680267950724\n",
       "                   50          0.028844695933457842\n",
       "Name: Value, Length: 450, dtype: object"
      ]
     },
     "execution_count": 37,
     "metadata": {},
     "output_type": "execute_result"
    }
   ],
   "source": [
    "evaluator.evaluate(example_investments)"
   ]
  },
  {
   "cell_type": "markdown",
   "metadata": {},
   "source": [
    "Let's evaluate the mean instead of outputing the whole distribution."
   ]
  },
  {
   "cell_type": "code",
   "execution_count": 38,
   "metadata": {},
   "outputs": [
    {
     "data": {
      "text/plain": [
       "Index\n",
       "GHG       30.156830\n",
       "LCOE       0.038160\n",
       "Labor   -246.843027\n",
       "Name: Value, dtype: float64"
      ]
     },
     "execution_count": 38,
     "metadata": {},
     "output_type": "execute_result"
    }
   ],
   "source": [
    "evaluator.evaluate_statistic(example_investments, np.mean)"
   ]
  },
  {
   "cell_type": "markdown",
   "metadata": {},
   "source": [
    "Here is the standard deviation:"
   ]
  },
  {
   "cell_type": "code",
   "execution_count": 39,
   "metadata": {},
   "outputs": [
    {
     "data": {
      "text/plain": [
       "Index\n",
       "GHG       1.410956\n",
       "LCOE      0.000850\n",
       "Labor    16.070395\n",
       "Name: Value, dtype: float64"
      ]
     },
     "execution_count": 39,
     "metadata": {},
     "output_type": "execute_result"
    }
   ],
   "source": [
    "evaluator.evaluate_statistic(example_investments, np.std)"
   ]
  },
  {
   "cell_type": "markdown",
   "metadata": {},
   "source": [
    "A risk-averse decision maker might be interested in the 10% percentile:"
   ]
  },
  {
   "cell_type": "code",
   "execution_count": 40,
   "metadata": {},
   "outputs": [
    {
     "data": {
      "text/plain": [
       "Index\n",
       "GHG       28.573627\n",
       "LCOE       0.037140\n",
       "Labor   -268.059699\n",
       "Name: Value, dtype: float64"
      ]
     },
     "execution_count": 40,
     "metadata": {},
     "output_type": "execute_result"
    }
   ],
   "source": [
    "evaluator.evaluate_statistic(example_investments, lambda x: np.quantile(x, 0.1))"
   ]
  },
  {
   "cell_type": "markdown",
   "metadata": {},
   "source": [
    "### ε-Constraint multiobjective optimization"
   ]
  },
  {
   "cell_type": "code",
   "execution_count": 41,
   "metadata": {},
   "outputs": [],
   "source": [
    "optimizer = ty.EpsilonConstraintOptimizer(evaluator)"
   ]
  },
  {
   "cell_type": "markdown",
   "metadata": {},
   "source": [
    "In order to meaningfully map the decision space, we need to know the maximum values for each of the metrics."
   ]
  },
  {
   "cell_type": "code",
   "execution_count": 42,
   "metadata": {},
   "outputs": [
    {
     "data": {
      "text/plain": [
       "GHG      49.429976\n",
       "LCOE      0.062818\n",
       "Labor     0.049555\n",
       "Name: Value, dtype: float64"
      ]
     },
     "execution_count": 42,
     "metadata": {},
     "output_type": "execute_result"
    }
   ],
   "source": [
    "metric_max = optimizer.max_metrics()\n",
    "metric_max"
   ]
  },
  {
   "cell_type": "markdown",
   "metadata": {},
   "source": [
    "#### Example optimization."
   ]
  },
  {
   "cell_type": "markdown",
   "metadata": {},
   "source": [
    "Limit spending to $3M."
   ]
  },
  {
   "cell_type": "code",
   "execution_count": 43,
   "metadata": {},
   "outputs": [],
   "source": [
    "investment_max = 3e6"
   ]
  },
  {
   "cell_type": "markdown",
   "metadata": {},
   "source": [
    "Require that the GHG reduction be at least 40 gCO2e/system and that the Labor wages not decrease."
   ]
  },
  {
   "cell_type": "code",
   "execution_count": 44,
   "metadata": {},
   "outputs": [
    {
     "data": {
      "text/plain": [
       "GHG      40\n",
       "Labor     0\n",
       "Name: Value, dtype: int64"
      ]
     },
     "execution_count": 44,
     "metadata": {},
     "output_type": "execute_result"
    }
   ],
   "source": [
    "metric_min = pd.Series([40, 0], name = \"Value\", index = [\"GHG\", \"Labor\"])\n",
    "metric_min"
   ]
  },
  {
   "cell_type": "markdown",
   "metadata": {},
   "source": [
    "Compute the ε-constrained maximum for the LCOE."
   ]
  },
  {
   "cell_type": "code",
   "execution_count": 45,
   "metadata": {},
   "outputs": [
    {
     "data": {
      "text/plain": [
       "'Optimization terminated successfully.'"
      ]
     },
     "execution_count": 45,
     "metadata": {},
     "output_type": "execute_result"
    }
   ],
   "source": [
    "optimum = optimizer.maximize(\n",
    "    \"LCOE\"                       ,\n",
    "    total_amount = investment_max,\n",
    "    min_metric   = metric_min    ,\n",
    "    statistic    = np.mean       ,\n",
    ")\n",
    "optimum.exit_message"
   ]
  },
  {
   "cell_type": "markdown",
   "metadata": {},
   "source": [
    "Here are the optimal spending levels:"
   ]
  },
  {
   "cell_type": "code",
   "execution_count": 46,
   "metadata": {},
   "outputs": [
    {
     "data": {
      "text/plain": [
       "Category\n",
       "BoS R&D               0.0\n",
       "Inverter R&D          0.0\n",
       "Module R&D      3000000.0\n",
       "Name: Amount, dtype: float64"
      ]
     },
     "execution_count": 46,
     "metadata": {},
     "output_type": "execute_result"
    }
   ],
   "source": [
    "np.round(optimum.amounts)"
   ]
  },
  {
   "cell_type": "markdown",
   "metadata": {},
   "source": [
    "Here are the three metrics at that optimum:"
   ]
  },
  {
   "cell_type": "code",
   "execution_count": 47,
   "metadata": {},
   "outputs": [
    {
     "data": {
      "text/plain": [
       "Index\n",
       "GHG      41.627691\n",
       "LCOE      0.037566\n",
       "Labor     0.028691\n",
       "Name: Value, dtype: float64"
      ]
     },
     "execution_count": 47,
     "metadata": {},
     "output_type": "execute_result"
    }
   ],
   "source": [
    "optimum.metrics"
   ]
  },
  {
   "cell_type": "markdown",
   "metadata": {},
   "source": [
    "*Thus, by putting all of the investment into Module R&D, we can expected to achieve a mean 3.75 ¢/kWh reduction in LCOE under the GHG and Labor constraints.*"
   ]
  },
  {
   "cell_type": "markdown",
   "metadata": {},
   "source": [
    "It turns out that there is no solution for these constraints if we evaluate the 10th percentile of the metrics, for a risk-averse decision maker."
   ]
  },
  {
   "cell_type": "code",
   "execution_count": 48,
   "metadata": {},
   "outputs": [
    {
     "data": {
      "text/plain": [
       "'Iteration limit exceeded'"
      ]
     },
     "execution_count": 48,
     "metadata": {},
     "output_type": "execute_result"
    }
   ],
   "source": [
    "optimum = optimizer.maximize(\n",
    "    \"LCOE\"                       ,\n",
    "    total_amount = investment_max,\n",
    "    min_metric   = metric_min    ,\n",
    "    statistic    = lambda x: np.quantile(x, 0.1),\n",
    ")\n",
    "optimum.exit_message"
   ]
  },
  {
   "cell_type": "markdown",
   "metadata": {},
   "source": [
    "Let's try again, but with a less stringent set of constraints, only constraining GHG somewhat  but not Labor at all."
   ]
  },
  {
   "cell_type": "code",
   "execution_count": 49,
   "metadata": {},
   "outputs": [
    {
     "data": {
      "text/plain": [
       "'Optimization terminated successfully.'"
      ]
     },
     "execution_count": 49,
     "metadata": {},
     "output_type": "execute_result"
    }
   ],
   "source": [
    "optimum = optimizer.maximize(\n",
    "    \"LCOE\"                                                         ,\n",
    "    total_amount = investment_max                                  ,\n",
    "    min_metric   = pd.Series([30], name = \"Value\", index = [\"GHG\"]),\n",
    "    statistic    = lambda x: np.quantile(x, 0.1)                   ,\n",
    ")\n",
    "optimum.exit_message"
   ]
  },
  {
   "cell_type": "code",
   "execution_count": 50,
   "metadata": {},
   "outputs": [
    {
     "data": {
      "text/plain": [
       "Category\n",
       "BoS R&D               0.0\n",
       "Inverter R&D          0.0\n",
       "Module R&D      3000000.0\n",
       "Name: Amount, dtype: float64"
      ]
     },
     "execution_count": 50,
     "metadata": {},
     "output_type": "execute_result"
    }
   ],
   "source": [
    "np.round(optimum.amounts)"
   ]
  },
  {
   "cell_type": "code",
   "execution_count": 51,
   "metadata": {},
   "outputs": [
    {
     "data": {
      "text/plain": [
       "Index\n",
       "GHG      39.046988\n",
       "LCOE      0.036463\n",
       "Labor    -0.019725\n",
       "Name: Value, dtype: float64"
      ]
     },
     "execution_count": 51,
     "metadata": {},
     "output_type": "execute_result"
    }
   ],
   "source": [
    "optimum.metrics"
   ]
  },
  {
   "cell_type": "markdown",
   "metadata": {},
   "source": [
    "### Pareto surfaces."
   ]
  },
  {
   "cell_type": "markdown",
   "metadata": {},
   "source": [
    "##### Metrics constrained by total investment."
   ]
  },
  {
   "cell_type": "code",
   "execution_count": 52,
   "metadata": {},
   "outputs": [
    {
     "data": {
      "text/html": [
       "<div>\n",
       "<style scoped>\n",
       "    .dataframe tbody tr th:only-of-type {\n",
       "        vertical-align: middle;\n",
       "    }\n",
       "\n",
       "    .dataframe tbody tr th {\n",
       "        vertical-align: top;\n",
       "    }\n",
       "\n",
       "    .dataframe thead th {\n",
       "        text-align: right;\n",
       "    }\n",
       "</style>\n",
       "<table border=\"1\" class=\"dataframe\">\n",
       "  <thead>\n",
       "    <tr style=\"text-align: right;\">\n",
       "      <th></th>\n",
       "      <th>GHG</th>\n",
       "      <th>LCOE</th>\n",
       "      <th>Labor</th>\n",
       "    </tr>\n",
       "    <tr>\n",
       "      <th>Investment [M$]</th>\n",
       "      <th></th>\n",
       "      <th></th>\n",
       "      <th></th>\n",
       "    </tr>\n",
       "  </thead>\n",
       "  <tbody>\n",
       "    <tr>\n",
       "      <td>8.5</td>\n",
       "      <td>49.429976</td>\n",
       "      <td>0.062818</td>\n",
       "      <td>0.049555</td>\n",
       "    </tr>\n",
       "    <tr>\n",
       "      <td>8.0</td>\n",
       "      <td>49.429976</td>\n",
       "      <td>0.061848</td>\n",
       "      <td>0.049555</td>\n",
       "    </tr>\n",
       "    <tr>\n",
       "      <td>7.5</td>\n",
       "      <td>49.429976</td>\n",
       "      <td>0.060635</td>\n",
       "      <td>0.049555</td>\n",
       "    </tr>\n",
       "    <tr>\n",
       "      <td>7.0</td>\n",
       "      <td>49.429976</td>\n",
       "      <td>0.059423</td>\n",
       "      <td>0.049555</td>\n",
       "    </tr>\n",
       "    <tr>\n",
       "      <td>6.5</td>\n",
       "      <td>49.429976</td>\n",
       "      <td>0.057592</td>\n",
       "      <td>0.049560</td>\n",
       "    </tr>\n",
       "    <tr>\n",
       "      <td>6.0</td>\n",
       "      <td>49.426992</td>\n",
       "      <td>0.055608</td>\n",
       "      <td>0.049545</td>\n",
       "    </tr>\n",
       "    <tr>\n",
       "      <td>5.5</td>\n",
       "      <td>49.424007</td>\n",
       "      <td>0.053976</td>\n",
       "      <td>0.049104</td>\n",
       "    </tr>\n",
       "    <tr>\n",
       "      <td>5.0</td>\n",
       "      <td>48.278589</td>\n",
       "      <td>0.052171</td>\n",
       "      <td>0.048930</td>\n",
       "    </tr>\n",
       "    <tr>\n",
       "      <td>4.5</td>\n",
       "      <td>47.133172</td>\n",
       "      <td>0.050431</td>\n",
       "      <td>0.047878</td>\n",
       "    </tr>\n",
       "    <tr>\n",
       "      <td>4.0</td>\n",
       "      <td>45.298011</td>\n",
       "      <td>0.048243</td>\n",
       "      <td>0.046810</td>\n",
       "    </tr>\n",
       "    <tr>\n",
       "      <td>3.5</td>\n",
       "      <td>43.462851</td>\n",
       "      <td>0.045006</td>\n",
       "      <td>0.042130</td>\n",
       "    </tr>\n",
       "    <tr>\n",
       "      <td>3.0</td>\n",
       "      <td>41.627691</td>\n",
       "      <td>0.037569</td>\n",
       "      <td>0.037450</td>\n",
       "    </tr>\n",
       "    <tr>\n",
       "      <td>2.5</td>\n",
       "      <td>32.453455</td>\n",
       "      <td>0.030129</td>\n",
       "      <td>0.032769</td>\n",
       "    </tr>\n",
       "    <tr>\n",
       "      <td>2.0</td>\n",
       "      <td>23.279219</td>\n",
       "      <td>0.023166</td>\n",
       "      <td>0.027886</td>\n",
       "    </tr>\n",
       "    <tr>\n",
       "      <td>1.5</td>\n",
       "      <td>14.104983</td>\n",
       "      <td>0.018081</td>\n",
       "      <td>0.023003</td>\n",
       "    </tr>\n",
       "    <tr>\n",
       "      <td>1.0</td>\n",
       "      <td>9.403322</td>\n",
       "      <td>0.010170</td>\n",
       "      <td>0.018119</td>\n",
       "    </tr>\n",
       "  </tbody>\n",
       "</table>\n",
       "</div>"
      ],
      "text/plain": [
       "                       GHG      LCOE     Labor\n",
       "Investment [M$]                               \n",
       "8.5              49.429976  0.062818  0.049555\n",
       "8.0              49.429976  0.061848  0.049555\n",
       "7.5              49.429976  0.060635  0.049555\n",
       "7.0              49.429976  0.059423  0.049555\n",
       "6.5              49.429976  0.057592  0.049560\n",
       "6.0              49.426992  0.055608  0.049545\n",
       "5.5              49.424007  0.053976  0.049104\n",
       "5.0              48.278589  0.052171  0.048930\n",
       "4.5              47.133172  0.050431  0.047878\n",
       "4.0              45.298011  0.048243  0.046810\n",
       "3.5              43.462851  0.045006  0.042130\n",
       "3.0              41.627691  0.037569  0.037450\n",
       "2.5              32.453455  0.030129  0.032769\n",
       "2.0              23.279219  0.023166  0.027886\n",
       "1.5              14.104983  0.018081  0.023003\n",
       "1.0               9.403322  0.010170  0.018119"
      ]
     },
     "execution_count": 52,
     "metadata": {},
     "output_type": "execute_result"
    }
   ],
   "source": [
    "pareto_amounts = None\n",
    "for investment_max in np.arange(1e6, 9e6, 0.5e6):\n",
    "    metrics = optimizer.max_metrics(total_amount = investment_max)\n",
    "    pareto_amounts = pd.DataFrame(\n",
    "        [metrics.values]                                         ,\n",
    "        columns = metrics.index.values                           ,\n",
    "        index   = pd.Index([investment_max / 1e6], name = \"Investment [M$]\"),\n",
    "    ).append(pareto_amounts)\n",
    "pareto_amounts"
   ]
  },
  {
   "cell_type": "code",
   "execution_count": 53,
   "metadata": {},
   "outputs": [
    {
     "data": {
      "text/plain": [
       "<seaborn.axisgrid.FacetGrid at 0x7f9da11752b0>"
      ]
     },
     "execution_count": 53,
     "metadata": {},
     "output_type": "execute_result"
    },
    {
     "data": {
      "image/png": "[encoded data removed]",
      "text/plain": [
       "<Figure size 1080x360 with 3 Axes>"
      ]
     },
     "metadata": {
      "needs_background": "light"
     },
     "output_type": "display_data"
    }
   ],
   "source": [
    "sb.relplot(\n",
    "    x         = \"Investment [M$]\",\n",
    "    y         = \"Value\"          ,\n",
    "    col       = \"Metric\"         ,\n",
    "    kind      = \"line\"           ,\n",
    "    facet_kws = {'sharey': False},\n",
    "    data      = pareto_amounts.reset_index().melt(id_vars = \"Investment [M$]\", var_name = \"Metric\", value_name = \"Value\")\n",
    ")"
   ]
  },
  {
   "cell_type": "markdown",
   "metadata": {},
   "source": [
    "*We see that the LCOE metric saturates more slowly than the GHG and Labor ones.*"
   ]
  },
  {
   "cell_type": "markdown",
   "metadata": {},
   "source": [
    "##### GHG vs LCOE, constrained by total investment."
   ]
  },
  {
   "cell_type": "code",
   "execution_count": 54,
   "metadata": {
    "scrolled": false
   },
   "outputs": [
    {
     "data": {
      "text/html": [
       "<div>\n",
       "<style scoped>\n",
       "    .dataframe tbody tr th:only-of-type {\n",
       "        vertical-align: middle;\n",
       "    }\n",
       "\n",
       "    .dataframe tbody tr th {\n",
       "        vertical-align: top;\n",
       "    }\n",
       "\n",
       "    .dataframe thead th {\n",
       "        text-align: right;\n",
       "    }\n",
       "</style>\n",
       "<table border=\"1\" class=\"dataframe\">\n",
       "  <thead>\n",
       "    <tr style=\"text-align: right;\">\n",
       "      <th></th>\n",
       "      <th></th>\n",
       "      <th>LCOE</th>\n",
       "      <th>GHG</th>\n",
       "      <th>Result</th>\n",
       "    </tr>\n",
       "    <tr>\n",
       "      <th>Investment [M$]</th>\n",
       "      <th>LCOE (min)</th>\n",
       "      <th></th>\n",
       "      <th></th>\n",
       "      <th></th>\n",
       "    </tr>\n",
       "  </thead>\n",
       "  <tbody>\n",
       "    <tr>\n",
       "      <td rowspan=\"8\" valign=\"top\">3</td>\n",
       "      <td>0.030337</td>\n",
       "      <td>0.025037</td>\n",
       "      <td>11.691901</td>\n",
       "      <td>Positive directional derivative for linesearch</td>\n",
       "    </tr>\n",
       "    <tr>\n",
       "      <td>0.028553</td>\n",
       "      <td>0.025037</td>\n",
       "      <td>11.691901</td>\n",
       "      <td>Positive directional derivative for linesearch</td>\n",
       "    </tr>\n",
       "    <tr>\n",
       "      <td>0.026768</td>\n",
       "      <td>0.025037</td>\n",
       "      <td>11.691901</td>\n",
       "      <td>Positive directional derivative for linesearch</td>\n",
       "    </tr>\n",
       "    <tr>\n",
       "      <td>0.024983</td>\n",
       "      <td>0.024983</td>\n",
       "      <td>11.692188</td>\n",
       "      <td>Optimization terminated successfully.</td>\n",
       "    </tr>\n",
       "    <tr>\n",
       "      <td>0.023199</td>\n",
       "      <td>0.023199</td>\n",
       "      <td>11.693916</td>\n",
       "      <td>Optimization terminated successfully.</td>\n",
       "    </tr>\n",
       "    <tr>\n",
       "      <td>0.021414</td>\n",
       "      <td>0.021414</td>\n",
       "      <td>11.694230</td>\n",
       "      <td>Optimization terminated successfully.</td>\n",
       "    </tr>\n",
       "    <tr>\n",
       "      <td>0.019630</td>\n",
       "      <td>0.019630</td>\n",
       "      <td>11.694544</td>\n",
       "      <td>Optimization terminated successfully.</td>\n",
       "    </tr>\n",
       "    <tr>\n",
       "      <td>0.017845</td>\n",
       "      <td>0.017845</td>\n",
       "      <td>11.699478</td>\n",
       "      <td>Optimization terminated successfully.</td>\n",
       "    </tr>\n",
       "  </tbody>\n",
       "</table>\n",
       "</div>"
      ],
      "text/plain": [
       "                                LCOE        GHG  \\\n",
       "Investment [M$] LCOE (min)                        \n",
       "3               0.030337    0.025037  11.691901   \n",
       "                0.028553    0.025037  11.691901   \n",
       "                0.026768    0.025037  11.691901   \n",
       "                0.024983    0.024983  11.692188   \n",
       "                0.023199    0.023199  11.693916   \n",
       "                0.021414    0.021414  11.694230   \n",
       "                0.019630    0.019630  11.694544   \n",
       "                0.017845    0.017845  11.699478   \n",
       "\n",
       "                                                                    Result  \n",
       "Investment [M$] LCOE (min)                                                  \n",
       "3               0.030337    Positive directional derivative for linesearch  \n",
       "                0.028553    Positive directional derivative for linesearch  \n",
       "                0.026768    Positive directional derivative for linesearch  \n",
       "                0.024983             Optimization terminated successfully.  \n",
       "                0.023199             Optimization terminated successfully.  \n",
       "                0.021414             Optimization terminated successfully.  \n",
       "                0.019630             Optimization terminated successfully.  \n",
       "                0.017845             Optimization terminated successfully.  "
      ]
     },
     "execution_count": 54,
     "metadata": {},
     "output_type": "execute_result"
    }
   ],
   "source": [
    "investment_max = 3\n",
    "pareto_ghg_lcoe = None\n",
    "for lcoe_min in 0.95 * np.arange(0.5, 0.9, 0.05) * pareto_amounts.loc[investment_max, \"LCOE\"]:\n",
    "    optimum = optimizer.maximize(\n",
    "        \"GHG\",\n",
    "        max_amount   = pd.Series([0.9e6, 3.0e6, 1.0e6], name = \"Amount\", index = [\"BoS R&D\", \"Inverter R&D\", \"Module R&D\"]),\n",
    "        total_amount = investment_max * 1e6                                 ,\n",
    "        min_metric   = pd.Series([lcoe_min], name = \"Value\", index = [\"LCOE\"]),\n",
    "    )\n",
    "    pareto_ghg_lcoe = pd.DataFrame(\n",
    "        [[investment_max, lcoe_min, optimum.metrics[\"LCOE\"], optimum.metrics[\"GHG\"], optimum.exit_message]],\n",
    "        columns = [\"Investment [M$]\", \"LCOE (min)\", \"LCOE\", \"GHG\", \"Result\"]                               ,\n",
    "    ).append(pareto_ghg_lcoe)\n",
    "pareto_ghg_lcoe = pareto_ghg_lcoe.set_index([\"Investment [M$]\", \"LCOE (min)\"])\n",
    "pareto_ghg_lcoe"
   ]
  },
  {
   "cell_type": "code",
   "execution_count": 56,
   "metadata": {},
   "outputs": [
    {
     "data": {
      "text/plain": [
       "<seaborn.axisgrid.FacetGrid at 0x7f9da13ae630>"
      ]
     },
     "execution_count": 56,
     "metadata": {},
     "output_type": "execute_result"
    },
    {
     "data": {
      "image/png": "[encoded data removed]",
      "text/plain": [
       "<Figure size 360x360 with 1 Axes>"
      ]
     },
     "metadata": {
      "needs_background": "light"
     },
     "output_type": "display_data"
    }
   ],
   "source": [
    "sb.relplot(\n",
    "    x = \"LCOE\",\n",
    "    y = \"GHG\",\n",
    "    kind = \"scatter\",\n",
    "    data = pareto_ghg_lcoe#[pareto_ghg_lcoe.Result == \"Optimization terminated successfully.\"]\n",
    ")"
   ]
  },
  {
   "cell_type": "markdown",
   "metadata": {},
   "source": [
    "*The three types of investment are too decoupled to make an interesting pareto frontier, and we also need a better solver if we want to push to lower right.*"
   ]
  },
  {
   "cell_type": "markdown",
   "metadata": {},
   "source": [
    "## Run the interactive explorer for the decision space."
   ]
  },
  {
   "cell_type": "markdown",
   "metadata": {},
   "source": [
    "<font color=\"red\">Make sure the the `tk` package is installed on your machine.</font> Here is the Anaconda link: https://anaconda.org/anaconda/tk."
   ]
  },
  {
   "cell_type": "code",
   "execution_count": 60,
   "metadata": {},
   "outputs": [],
   "source": [
    "w = ty.DecisionWindow(evaluator)\n",
    "w.mainloop()"
   ]
  },
  {
   "cell_type": "markdown",
   "metadata": {},
   "source": [
    "A new window should open that looks like the image below. Moving the sliders will cause a recomputation of the boxplots."
   ]
  },
  {
   "cell_type": "code",
   "execution_count": 61,
   "metadata": {},
   "outputs": [
    {
     "data": {
      "image/png": "[encoded data removed]",
      "text/plain": [
       "<IPython.core.display.Image object>"
      ]
     },
     "execution_count": 61,
     "metadata": {},
     "output_type": "execute_result"
    }
   ],
   "source": [
    "Image(\"pv_residential_simple_gui.png\")"
   ]
  }
 ],
 "metadata": {
  "kernelspec": {
   "display_name": "Python 3",
   "language": "python",
   "name": "python3"
  },
  "language_info": {
   "codemirror_mode": {
    "name": "ipython",
    "version": 3
   },
   "file_extension": ".py",
   "mimetype": "text/x-python",
   "name": "python",
   "nbconvert_exporter": "python",
   "pygments_lexer": "ipython3",
   "version": "3.6.9"
  }
 },
 "nbformat": 4,
 "nbformat_minor": 2
}
