{
 "cells": [
  {
   "cell_type": "markdown",
   "metadata": {},
   "source": [
    "# Tutorial"
   ]
  },
  {
   "cell_type": "markdown",
   "metadata": {},
   "source": [
    "*All cells executed on tsv-to-csv branch, 4/5/2022*"
   ]
  },
  {
   "cell_type": "markdown",
   "metadata": {},
   "source": [
    "## Prerequisites."
   ]
  },
  {
   "cell_type": "markdown",
   "metadata": {},
   "source": [
    "#### Download and install Miniconda, Anaconda, or Conda."
   ]
  },
  {
   "cell_type": "markdown",
   "metadata": {},
   "source": [
    "https://docs.conda.io/en/latest/miniconda.html"
   ]
  },
  {
   "cell_type": "markdown",
   "metadata": {},
   "source": [
    "### Create the Conda environment."
   ]
  },
  {
   "cell_type": "markdown",
   "metadata": {},
   "source": [
    "```\n",
    "conda env create --file conda\\win.yml\n",
    "conda activate tyche\n",
    "pip install mip\n",
    "```"
   ]
  },
  {
   "cell_type": "markdown",
   "metadata": {},
   "source": [
    "#### Activate the Tyche environment."
   ]
  },
  {
   "cell_type": "markdown",
   "metadata": {},
   "source": [
    "```\n",
    "conda activate tyche\n",
    "```"
   ]
  },
  {
   "cell_type": "markdown",
   "metadata": {},
   "source": [
    "## Set up."
   ]
  },
  {
   "cell_type": "markdown",
   "metadata": {},
   "source": [
    "### Import packages."
   ]
  },
  {
   "cell_type": "markdown",
   "metadata": {},
   "source": [
    "#### Import the system packages."
   ]
  },
  {
   "cell_type": "code",
   "execution_count": 59,
   "metadata": {},
   "outputs": [],
   "source": [
    "import os\n",
    "import sys"
   ]
  },
  {
   "cell_type": "markdown",
   "metadata": {},
   "source": [
    "#### Add the main Tyche packages to the search path."
   ]
  },
  {
   "cell_type": "code",
   "execution_count": 60,
   "metadata": {},
   "outputs": [],
   "source": [
    "sys.path.insert(1, os.path.abspath(\"../src\"))"
   ]
  },
  {
   "cell_type": "markdown",
   "metadata": {},
   "source": [
    "#### Import tyche and related packages."
   ]
  },
  {
   "cell_type": "code",
   "execution_count": 61,
   "metadata": {},
   "outputs": [],
   "source": [
    "import numpy             as np\n",
    "import matplotlib.pyplot as pl\n",
    "import pandas            as pd\n",
    "import seaborn           as sb\n",
    "import tyche             as ty"
   ]
  },
  {
   "cell_type": "markdown",
   "metadata": {},
   "source": [
    "## Example problem: wind turbines."
   ]
  },
  {
   "cell_type": "markdown",
   "metadata": {},
   "source": [
    "Here is a highly simplified and approximate model for a wind turbine."
   ]
  },
  {
   "cell_type": "markdown",
   "metadata": {},
   "source": [
    "### Environmental constants.\n",
    "\n",
    "*   Wind sheer exponent: $\\alpha = 0.16$\n",
    "\n",
    "### Scale of operations.\n",
    "\n",
    "*   Project scale: $S$.\n",
    "*   Rotor diameter: $R = 70 \\cdot S^\\frac{1}{2+3\\alpha} ~\\textrm{m}$.\n",
    "*   Hub height: $H = 65 \\cdot S^\\frac{1}{2+3\\alpha} ~\\textrm{m}$.\n",
    "*   Machine rating: $M = 1500 \\cdot S ~\\textrm{kW}$. \n",
    "\n",
    "### Production.\n",
    "\n",
    "*   Annual energy production: $4312 \\cdot S ~\\textrm{MWh}$\n",
    "\n",
    "### Design parameters.\n",
    "\n",
    "*   Rotor design: $\\rho \\in [0, 1]$, with $\\rho_0 = 0$.\n",
    "*   Drive design: $\\delta \\in [0.8, 0.90]$, with $\\delta_0 = 0.90$.\n",
    "*   Tower design: $\\tau \\in [0.5, 1.0]$, with $\\tau_0 = 1.0$.\n",
    "*   BOS factor: $\\beta \\in [0.5, 1.0]$, with $\\beta_0 = 1.0$.\n",
    "*   O&M factor: $\\mu \\in [0.5, 1.0]$, with $\\mu_0 = 1.0$.\n",
    "\n",
    "### Costs.\n",
    "\n",
    "*   Rotor: $1.6 \\cdot R^{2.8} - 60000 \\cdot \\rho ~\\textrm{USD}$.\n",
    "*   Drive, nacelle, systems: $900 \\cdot M^\\delta ~\\textrm{USD}$.\n",
    "*   Tower: $0.015 \\cdot R^{2.8} \\cdot H^\\tau ~\\textrm{USD}$.\n",
    "*   Balance of system: $250 \\cdot \\beta \\cdot M ~\\textrm{USD}$.\n",
    "*   Replacements: $10.6 \\cdot M ~\\textrm{USD}$.\n",
    "*   O&M: $20 \\cdot \\mu \\cdot M ~\\textrm{USD}$.\n",
    "*   Land lease: $3.5 \\cdot M ~\\textrm{USD}$.\n",
    "\n",
    "### Metrics.\n",
    "\n",
    "*   Capacity factor: $32.82~\\%$"
   ]
  },
  {
   "cell_type": "markdown",
   "metadata": {},
   "source": [
    "## Design the technology model."
   ]
  },
  {
   "cell_type": "markdown",
   "metadata": {},
   "source": [
    "### Technology name."
   ]
  },
  {
   "cell_type": "markdown",
   "metadata": {},
   "source": [
    "Choose a unique name for the technology being modeled. *In this example we'll call the technology `Wind Turbine`.*\n",
    "\n",
    "Also choose a unique name for the default, reference, or base-case scenario. *In this example, we'll call the default scenario `Reference`.*"
   ]
  },
  {
   "cell_type": "markdown",
   "metadata": {},
   "source": [
    "### Dimensions and indices."
   ]
  },
  {
   "cell_type": "markdown",
   "metadata": {},
   "source": [
    "Decide which quantities will be tracked as indices in the model, and settle on their units of measurment and default values:\n",
    "1.  Types of capital costs. *In this example we have . . .*\n",
    "    *   Rotor\n",
    "    *   Drive\n",
    "    *   Tower\n",
    "    *   BOS\n",
    "2.  Types of fixed cost. *In this example we have . . .*\n",
    "    *   Replacements\n",
    "    *   O&M\n",
    "    *   Land\n",
    "3.  Inputs to the process. *In this example we have . . .*\n",
    "    *   Wind\n",
    "4.  Outputs from the process. *In this example we have . . .*\n",
    "    *   Electricity\n",
    "5.  Metrics. *In this example we have . . .*\n",
    "    *   Cost\n",
    "    *   LCOE\n",
    "    *   CF\n",
    "    *   AEP\n",
    "6.  Parameters. *In this example we have . . .*\n",
    "    *   Rotor design ($\\rho$)\n",
    "    *   Drive design ($\\delta$)\n",
    "    *   Tower design ($\\tau$)\n",
    "    *   BOS factor ($\\beta$)\n",
    "    *   O&M factor ($\\mu$)\n",
    "\n",
    "Note that in each category, the numeric indices for each item are numbered with integers starting from zero.\n",
    "\n",
    "See the [model](https://tyche.live/doc-src/formulation.html) and [database](https://tyche.live/doc-src/database.html) documentation for more details."
   ]
  },
  {
   "cell_type": "markdown",
   "metadata": {},
   "source": [
    "### Create the `indices` table."
   ]
  },
  {
   "cell_type": "markdown",
   "metadata": {},
   "source": [
    "Enter the data for your model in the comma-delimited-value file [tutorial/data/indices.csv](data/)."
   ]
  },
  {
   "cell_type": "markdown",
   "metadata": {},
   "source": [
    "Check to see that the data file reads correctly:"
   ]
  },
  {
   "cell_type": "code",
   "execution_count": 62,
   "metadata": {},
   "outputs": [
    {
     "data": {
      "text/html": [
       "<div>\n",
       "<style scoped>\n",
       "    .dataframe tbody tr th:only-of-type {\n",
       "        vertical-align: middle;\n",
       "    }\n",
       "\n",
       "    .dataframe tbody tr th {\n",
       "        vertical-align: top;\n",
       "    }\n",
       "\n",
       "    .dataframe thead th {\n",
       "        text-align: right;\n",
       "    }\n",
       "</style>\n",
       "<table border=\"1\" class=\"dataframe\">\n",
       "  <thead>\n",
       "    <tr style=\"text-align: right;\">\n",
       "      <th></th>\n",
       "      <th></th>\n",
       "      <th>Index</th>\n",
       "      <th>Offset</th>\n",
       "      <th>Description</th>\n",
       "      <th>Notes</th>\n",
       "    </tr>\n",
       "    <tr>\n",
       "      <th>Technology</th>\n",
       "      <th>Type</th>\n",
       "      <th></th>\n",
       "      <th></th>\n",
       "      <th></th>\n",
       "      <th></th>\n",
       "    </tr>\n",
       "  </thead>\n",
       "  <tbody>\n",
       "  </tbody>\n",
       "</table>\n",
       "</div>"
      ],
      "text/plain": [
       "Empty DataFrame\n",
       "Columns: [Index, Offset, Description, Notes]\n",
       "Index: []"
      ]
     },
     "execution_count": 62,
     "metadata": {},
     "output_type": "execute_result"
    }
   ],
   "source": [
    "my_designs = ty.Designs(\"data\")\n",
    "my_designs.indices.reset_index(\"Index\").sort_values([\"Type\", \"Offset\"])"
   ]
  },
  {
   "cell_type": "markdown",
   "metadata": {},
   "source": [
    "Check your `indices` table against the following:"
   ]
  },
  {
   "cell_type": "code",
   "execution_count": 63,
   "metadata": {},
   "outputs": [
    {
     "data": {
      "text/html": [
       "<div>\n",
       "<style scoped>\n",
       "    .dataframe tbody tr th:only-of-type {\n",
       "        vertical-align: middle;\n",
       "    }\n",
       "\n",
       "    .dataframe tbody tr th {\n",
       "        vertical-align: top;\n",
       "    }\n",
       "\n",
       "    .dataframe thead th {\n",
       "        text-align: right;\n",
       "    }\n",
       "</style>\n",
       "<table border=\"1\" class=\"dataframe\">\n",
       "  <thead>\n",
       "    <tr style=\"text-align: right;\">\n",
       "      <th></th>\n",
       "      <th></th>\n",
       "      <th>Index</th>\n",
       "      <th>Offset</th>\n",
       "      <th>Description</th>\n",
       "      <th>Notes</th>\n",
       "    </tr>\n",
       "    <tr>\n",
       "      <th>Technology</th>\n",
       "      <th>Type</th>\n",
       "      <th></th>\n",
       "      <th></th>\n",
       "      <th></th>\n",
       "      <th></th>\n",
       "    </tr>\n",
       "  </thead>\n",
       "  <tbody>\n",
       "    <tr>\n",
       "      <th rowspan=\"13\" valign=\"top\">Wind Turbine</th>\n",
       "      <th>Capital</th>\n",
       "      <td>Rotor</td>\n",
       "      <td>0</td>\n",
       "      <td>Rotor blades, hub, bearings, spinner, nose.</td>\n",
       "      <td></td>\n",
       "    </tr>\n",
       "    <tr>\n",
       "      <th>Capital</th>\n",
       "      <td>Drive</td>\n",
       "      <td>1</td>\n",
       "      <td>Drive, gearbox, bearings, electronics, frame, ...</td>\n",
       "      <td></td>\n",
       "    </tr>\n",
       "    <tr>\n",
       "      <th>Capital</th>\n",
       "      <td>Tower</td>\n",
       "      <td>2</td>\n",
       "      <td>The tower.</td>\n",
       "      <td></td>\n",
       "    </tr>\n",
       "    <tr>\n",
       "      <th>Capital</th>\n",
       "      <td>BOS</td>\n",
       "      <td>3</td>\n",
       "      <td>Foundations, roads, civil work.</td>\n",
       "      <td></td>\n",
       "    </tr>\n",
       "    <tr>\n",
       "      <th>Fixed</th>\n",
       "      <td>Replacements</td>\n",
       "      <td>0</td>\n",
       "      <td>Replacement components.</td>\n",
       "      <td></td>\n",
       "    </tr>\n",
       "    <tr>\n",
       "      <th>Fixed</th>\n",
       "      <td>O&amp;M</td>\n",
       "      <td>1</td>\n",
       "      <td>Operations and maintenance.</td>\n",
       "      <td></td>\n",
       "    </tr>\n",
       "    <tr>\n",
       "      <th>Fixed</th>\n",
       "      <td>Land</td>\n",
       "      <td>2</td>\n",
       "      <td>Land lease.</td>\n",
       "      <td></td>\n",
       "    </tr>\n",
       "    <tr>\n",
       "      <th>Input</th>\n",
       "      <td>Wind</td>\n",
       "      <td>0</td>\n",
       "      <td>Just a placeholder because at least one input ...</td>\n",
       "      <td></td>\n",
       "    </tr>\n",
       "    <tr>\n",
       "      <th>Metric</th>\n",
       "      <td>Cost</td>\n",
       "      <td>0</td>\n",
       "      <td>Cost of the wind turbine.</td>\n",
       "      <td></td>\n",
       "    </tr>\n",
       "    <tr>\n",
       "      <th>Metric</th>\n",
       "      <td>LCOE</td>\n",
       "      <td>1</td>\n",
       "      <td>Levelized cost of energy.</td>\n",
       "      <td></td>\n",
       "    </tr>\n",
       "    <tr>\n",
       "      <th>Metric</th>\n",
       "      <td>CF</td>\n",
       "      <td>2</td>\n",
       "      <td>Capacity factor.</td>\n",
       "      <td></td>\n",
       "    </tr>\n",
       "    <tr>\n",
       "      <th>Metric</th>\n",
       "      <td>AEP</td>\n",
       "      <td>3</td>\n",
       "      <td>Annual energy production.</td>\n",
       "      <td></td>\n",
       "    </tr>\n",
       "    <tr>\n",
       "      <th>Output</th>\n",
       "      <td>Electricity</td>\n",
       "      <td>0</td>\n",
       "      <td>Annual energy output.</td>\n",
       "      <td></td>\n",
       "    </tr>\n",
       "  </tbody>\n",
       "</table>\n",
       "</div>"
      ],
      "text/plain": [
       "                             Index  Offset  \\\n",
       "Technology   Type                            \n",
       "Wind Turbine Capital         Rotor       0   \n",
       "             Capital         Drive       1   \n",
       "             Capital         Tower       2   \n",
       "             Capital           BOS       3   \n",
       "             Fixed    Replacements       0   \n",
       "             Fixed             O&M       1   \n",
       "             Fixed            Land       2   \n",
       "             Input            Wind       0   \n",
       "             Metric           Cost       0   \n",
       "             Metric           LCOE       1   \n",
       "             Metric             CF       2   \n",
       "             Metric            AEP       3   \n",
       "             Output    Electricity       0   \n",
       "\n",
       "                                                            Description Notes  \n",
       "Technology   Type                                                              \n",
       "Wind Turbine Capital        Rotor blades, hub, bearings, spinner, nose.        \n",
       "             Capital  Drive, gearbox, bearings, electronics, frame, ...        \n",
       "             Capital                                         The tower.        \n",
       "             Capital                    Foundations, roads, civil work.        \n",
       "             Fixed                              Replacement components.        \n",
       "             Fixed                          Operations and maintenance.        \n",
       "             Fixed                                          Land lease.        \n",
       "             Input    Just a placeholder because at least one input ...        \n",
       "             Metric                           Cost of the wind turbine.        \n",
       "             Metric                           Levelized cost of energy.        \n",
       "             Metric                                    Capacity factor.        \n",
       "             Metric                           Annual energy production.        \n",
       "             Output                               Annual energy output.        "
      ]
     },
     "execution_count": 63,
     "metadata": {},
     "output_type": "execute_result"
    }
   ],
   "source": [
    "answers_designs = ty.Designs(\"answers\")\n",
    "answers_designs.indices.reset_index(\"Index\").sort_values([\"Type\", \"Offset\"])"
   ]
  },
  {
   "cell_type": "markdown",
   "metadata": {},
   "source": [
    "### Create the `results` table."
   ]
  },
  {
   "cell_type": "markdown",
   "metadata": {},
   "source": [
    "Enter the data for the units of measure in your model in the comma-delimited-value file [tutorial/data/results.csv](data/)."
   ]
  },
  {
   "cell_type": "markdown",
   "metadata": {},
   "source": [
    "Check to see that the data file reads correctly:"
   ]
  },
  {
   "cell_type": "code",
   "execution_count": 64,
   "metadata": {},
   "outputs": [
    {
     "data": {
      "text/html": [
       "<div>\n",
       "<style scoped>\n",
       "    .dataframe tbody tr th:only-of-type {\n",
       "        vertical-align: middle;\n",
       "    }\n",
       "\n",
       "    .dataframe tbody tr th {\n",
       "        vertical-align: top;\n",
       "    }\n",
       "\n",
       "    .dataframe thead th {\n",
       "        text-align: right;\n",
       "    }\n",
       "</style>\n",
       "<table border=\"1\" class=\"dataframe\">\n",
       "  <thead>\n",
       "    <tr style=\"text-align: right;\">\n",
       "      <th></th>\n",
       "      <th></th>\n",
       "      <th></th>\n",
       "      <th>Units</th>\n",
       "      <th>Notes</th>\n",
       "    </tr>\n",
       "    <tr>\n",
       "      <th>Technology</th>\n",
       "      <th>Variable</th>\n",
       "      <th>Index</th>\n",
       "      <th></th>\n",
       "      <th></th>\n",
       "    </tr>\n",
       "  </thead>\n",
       "  <tbody>\n",
       "  </tbody>\n",
       "</table>\n",
       "</div>"
      ],
      "text/plain": [
       "Empty DataFrame\n",
       "Columns: [Units, Notes]\n",
       "Index: []"
      ]
     },
     "execution_count": 64,
     "metadata": {},
     "output_type": "execute_result"
    }
   ],
   "source": [
    "my_designs = ty.Designs(\"data\")\n",
    "my_designs.results"
   ]
  },
  {
   "cell_type": "markdown",
   "metadata": {},
   "source": [
    "Check your `results` table against the following:"
   ]
  },
  {
   "cell_type": "code",
   "execution_count": 65,
   "metadata": {},
   "outputs": [
    {
     "data": {
      "text/html": [
       "<div>\n",
       "<style scoped>\n",
       "    .dataframe tbody tr th:only-of-type {\n",
       "        vertical-align: middle;\n",
       "    }\n",
       "\n",
       "    .dataframe tbody tr th {\n",
       "        vertical-align: top;\n",
       "    }\n",
       "\n",
       "    .dataframe thead th {\n",
       "        text-align: right;\n",
       "    }\n",
       "</style>\n",
       "<table border=\"1\" class=\"dataframe\">\n",
       "  <thead>\n",
       "    <tr style=\"text-align: right;\">\n",
       "      <th></th>\n",
       "      <th></th>\n",
       "      <th></th>\n",
       "      <th>Units</th>\n",
       "      <th>Notes</th>\n",
       "    </tr>\n",
       "    <tr>\n",
       "      <th>Technology</th>\n",
       "      <th>Variable</th>\n",
       "      <th>Index</th>\n",
       "      <th></th>\n",
       "      <th></th>\n",
       "    </tr>\n",
       "  </thead>\n",
       "  <tbody>\n",
       "    <tr>\n",
       "      <th rowspan=\"6\" valign=\"top\">Wind Turbine</th>\n",
       "      <th>Cost</th>\n",
       "      <th>Cost</th>\n",
       "      <td>$/turbine</td>\n",
       "      <td></td>\n",
       "    </tr>\n",
       "    <tr>\n",
       "      <th rowspan=\"4\" valign=\"top\">Metric</th>\n",
       "      <th>AEP</th>\n",
       "      <td>MWh/turbine/year</td>\n",
       "      <td></td>\n",
       "    </tr>\n",
       "    <tr>\n",
       "      <th>CF</th>\n",
       "      <td>%/100</td>\n",
       "      <td></td>\n",
       "    </tr>\n",
       "    <tr>\n",
       "      <th>Cost</th>\n",
       "      <td>$/turbine/year</td>\n",
       "      <td></td>\n",
       "    </tr>\n",
       "    <tr>\n",
       "      <th>LCOE</th>\n",
       "      <td>$/kWh</td>\n",
       "      <td></td>\n",
       "    </tr>\n",
       "    <tr>\n",
       "      <th>Output</th>\n",
       "      <th>Electricity</th>\n",
       "      <td>kWh/turbine</td>\n",
       "      <td></td>\n",
       "    </tr>\n",
       "  </tbody>\n",
       "</table>\n",
       "</div>"
      ],
      "text/plain": [
       "                                              Units Notes\n",
       "Technology   Variable Index                              \n",
       "Wind Turbine Cost     Cost                $/turbine      \n",
       "             Metric   AEP          MWh/turbine/year      \n",
       "                      CF                      %/100      \n",
       "                      Cost           $/turbine/year      \n",
       "                      LCOE                    $/kWh      \n",
       "             Output   Electricity       kWh/turbine      "
      ]
     },
     "execution_count": 65,
     "metadata": {},
     "output_type": "execute_result"
    }
   ],
   "source": [
    "answers_designs = ty.Designs(\"answers\")\n",
    "answers_designs.results"
   ]
  },
  {
   "cell_type": "markdown",
   "metadata": {},
   "source": [
    "### Create the `designs` table."
   ]
  },
  {
   "cell_type": "markdown",
   "metadata": {},
   "source": [
    "In order to introduce stochasticity into the reference case, let's assume that the turbine lifetime is a triangular distribution from 8 years to 10 years, with a mode of 8.6 years. We use [scipy.stats](https://docs.scipy.org/doc/scipy/reference/stats.html) for probability distributions and the function `triang` is described [here](https://docs.scipy.org/doc/scipy/reference/generated/scipy.stats.triang.html#scipy.stats.triang). Prefix calls to `scipy.stats` with `st.`, to this triangular distribution is entered into the design table as `st.triang(0.3, 8.0, 2.0)`."
   ]
  },
  {
   "cell_type": "markdown",
   "metadata": {},
   "source": [
    "Enter the data for your model in the comma-delimited-value file [tutorial/data/designs.csv](data/)."
   ]
  },
  {
   "cell_type": "markdown",
   "metadata": {},
   "source": [
    "Check to see that the data file reads correctly:"
   ]
  },
  {
   "cell_type": "code",
   "execution_count": 66,
   "metadata": {},
   "outputs": [
    {
     "data": {
      "text/html": [
       "<div>\n",
       "<style scoped>\n",
       "    .dataframe tbody tr th:only-of-type {\n",
       "        vertical-align: middle;\n",
       "    }\n",
       "\n",
       "    .dataframe tbody tr th {\n",
       "        vertical-align: top;\n",
       "    }\n",
       "\n",
       "    .dataframe thead th {\n",
       "        text-align: right;\n",
       "    }\n",
       "</style>\n",
       "<table border=\"1\" class=\"dataframe\">\n",
       "  <thead>\n",
       "    <tr style=\"text-align: right;\">\n",
       "      <th></th>\n",
       "      <th></th>\n",
       "      <th>Variable</th>\n",
       "      <th>Index</th>\n",
       "      <th>Value</th>\n",
       "      <th>Units</th>\n",
       "      <th>Notes</th>\n",
       "    </tr>\n",
       "    <tr>\n",
       "      <th>Technology</th>\n",
       "      <th>Scenario</th>\n",
       "      <th></th>\n",
       "      <th></th>\n",
       "      <th></th>\n",
       "      <th></th>\n",
       "      <th></th>\n",
       "    </tr>\n",
       "  </thead>\n",
       "  <tbody>\n",
       "  </tbody>\n",
       "</table>\n",
       "</div>"
      ],
      "text/plain": [
       "Empty DataFrame\n",
       "Columns: [Variable, Index, Value, Units, Notes]\n",
       "Index: []"
      ]
     },
     "execution_count": 66,
     "metadata": {},
     "output_type": "execute_result"
    }
   ],
   "source": [
    "my_designs = ty.Designs(\"data\")\n",
    "my_designs.designs.reset_index([\"Variable\", \"Index\"]).sort_values([\"Variable\", \"Index\"])"
   ]
  },
  {
   "cell_type": "markdown",
   "metadata": {},
   "source": [
    "Check your `designs` table against the following:"
   ]
  },
  {
   "cell_type": "code",
   "execution_count": 67,
   "metadata": {
    "scrolled": false
   },
   "outputs": [
    {
     "data": {
      "text/html": [
       "<div>\n",
       "<style scoped>\n",
       "    .dataframe tbody tr th:only-of-type {\n",
       "        vertical-align: middle;\n",
       "    }\n",
       "\n",
       "    .dataframe tbody tr th {\n",
       "        vertical-align: top;\n",
       "    }\n",
       "\n",
       "    .dataframe thead th {\n",
       "        text-align: right;\n",
       "    }\n",
       "</style>\n",
       "<table border=\"1\" class=\"dataframe\">\n",
       "  <thead>\n",
       "    <tr style=\"text-align: right;\">\n",
       "      <th></th>\n",
       "      <th></th>\n",
       "      <th>Variable</th>\n",
       "      <th>Index</th>\n",
       "      <th>Value</th>\n",
       "      <th>Units</th>\n",
       "      <th>Notes</th>\n",
       "    </tr>\n",
       "    <tr>\n",
       "      <th>Technology</th>\n",
       "      <th>Scenario</th>\n",
       "      <th></th>\n",
       "      <th></th>\n",
       "      <th></th>\n",
       "      <th></th>\n",
       "      <th></th>\n",
       "    </tr>\n",
       "  </thead>\n",
       "  <tbody>\n",
       "    <tr>\n",
       "      <th rowspan=\"10\" valign=\"top\">Wind Turbine</th>\n",
       "      <th>Reference</th>\n",
       "      <td>Input</td>\n",
       "      <td>Wind</td>\n",
       "      <td>10</td>\n",
       "      <td>m/s</td>\n",
       "      <td>Wind speed at 50 meters.</td>\n",
       "    </tr>\n",
       "    <tr>\n",
       "      <th>Reference</th>\n",
       "      <td>Input efficiency</td>\n",
       "      <td>Wind</td>\n",
       "      <td>0.593</td>\n",
       "      <td>%/100</td>\n",
       "      <td>Betz law.</td>\n",
       "    </tr>\n",
       "    <tr>\n",
       "      <th>Reference</th>\n",
       "      <td>Input price</td>\n",
       "      <td>Wind</td>\n",
       "      <td>0</td>\n",
       "      <td>n/a</td>\n",
       "      <td>Wind is free.</td>\n",
       "    </tr>\n",
       "    <tr>\n",
       "      <th>Reference</th>\n",
       "      <td>Lifetime</td>\n",
       "      <td>BOS</td>\n",
       "      <td>st.triang(0.3, 8.0, 2.0)</td>\n",
       "      <td>year</td>\n",
       "      <td>Reciprocal of the capital-recovery factor.</td>\n",
       "    </tr>\n",
       "    <tr>\n",
       "      <th>Reference</th>\n",
       "      <td>Lifetime</td>\n",
       "      <td>Drive</td>\n",
       "      <td>st.triang(0.3, 8.0, 2.0)</td>\n",
       "      <td>year</td>\n",
       "      <td>Reciprocal of the capital-recovery factor.</td>\n",
       "    </tr>\n",
       "    <tr>\n",
       "      <th>Reference</th>\n",
       "      <td>Lifetime</td>\n",
       "      <td>Rotor</td>\n",
       "      <td>st.triang(0.3, 8.0, 2.0)</td>\n",
       "      <td>year</td>\n",
       "      <td>Reciprocal of the capital-recovery factor.</td>\n",
       "    </tr>\n",
       "    <tr>\n",
       "      <th>Reference</th>\n",
       "      <td>Lifetime</td>\n",
       "      <td>Tower</td>\n",
       "      <td>st.triang(0.3, 8.0, 2.0)</td>\n",
       "      <td>year</td>\n",
       "      <td>Reciprocal of the capital-recovery factor.</td>\n",
       "    </tr>\n",
       "    <tr>\n",
       "      <th>Reference</th>\n",
       "      <td>Output efficiency</td>\n",
       "      <td>Electricity</td>\n",
       "      <td>0.3282</td>\n",
       "      <td>%/100</td>\n",
       "      <td>Capacity factor.</td>\n",
       "    </tr>\n",
       "    <tr>\n",
       "      <th>Reference</th>\n",
       "      <td>Output price</td>\n",
       "      <td>Electricity</td>\n",
       "      <td>0</td>\n",
       "      <td>$/kWh</td>\n",
       "      <td>Not tracking revenue.</td>\n",
       "    </tr>\n",
       "    <tr>\n",
       "      <th>Reference</th>\n",
       "      <td>Scale</td>\n",
       "      <td>NaN</td>\n",
       "      <td>1</td>\n",
       "      <td>%/100</td>\n",
       "      <td>Scale of operations, relative to a 1.5MW turbine.</td>\n",
       "    </tr>\n",
       "  </tbody>\n",
       "</table>\n",
       "</div>"
      ],
      "text/plain": [
       "                                 Variable        Index  \\\n",
       "Technology   Scenario                                    \n",
       "Wind Turbine Reference              Input         Wind   \n",
       "             Reference   Input efficiency         Wind   \n",
       "             Reference        Input price         Wind   \n",
       "             Reference           Lifetime          BOS   \n",
       "             Reference           Lifetime        Drive   \n",
       "             Reference           Lifetime        Rotor   \n",
       "             Reference           Lifetime        Tower   \n",
       "             Reference  Output efficiency  Electricity   \n",
       "             Reference       Output price  Electricity   \n",
       "             Reference              Scale          NaN   \n",
       "\n",
       "                                           Value  Units  \\\n",
       "Technology   Scenario                                     \n",
       "Wind Turbine Reference                        10    m/s   \n",
       "             Reference                     0.593  %/100   \n",
       "             Reference                         0    n/a   \n",
       "             Reference  st.triang(0.3, 8.0, 2.0)   year   \n",
       "             Reference  st.triang(0.3, 8.0, 2.0)   year   \n",
       "             Reference  st.triang(0.3, 8.0, 2.0)   year   \n",
       "             Reference  st.triang(0.3, 8.0, 2.0)   year   \n",
       "             Reference                    0.3282  %/100   \n",
       "             Reference                         0  $/kWh   \n",
       "             Reference                         1  %/100   \n",
       "\n",
       "                                                                    Notes  \n",
       "Technology   Scenario                                                      \n",
       "Wind Turbine Reference                           Wind speed at 50 meters.  \n",
       "             Reference                                          Betz law.  \n",
       "             Reference                                      Wind is free.  \n",
       "             Reference         Reciprocal of the capital-recovery factor.  \n",
       "             Reference         Reciprocal of the capital-recovery factor.  \n",
       "             Reference         Reciprocal of the capital-recovery factor.  \n",
       "             Reference         Reciprocal of the capital-recovery factor.  \n",
       "             Reference                                   Capacity factor.  \n",
       "             Reference                              Not tracking revenue.  \n",
       "             Reference  Scale of operations, relative to a 1.5MW turbine.  "
      ]
     },
     "execution_count": 67,
     "metadata": {},
     "output_type": "execute_result"
    }
   ],
   "source": [
    "answers_designs = ty.Designs(\"answers\")\n",
    "answers_designs.designs.xs(\"Reference\", level = \"Scenario\", drop_level = False).reset_index([\"Variable\", \"Index\"]).sort_values([\"Variable\", \"Index\"])"
   ]
  },
  {
   "cell_type": "markdown",
   "metadata": {},
   "source": [
    "### Create the `parameters` table."
   ]
  },
  {
   "cell_type": "markdown",
   "metadata": {},
   "source": [
    "Enter the data for your model in the comma-delimited-value file [tutorial/data/parameters.csv](data/)."
   ]
  },
  {
   "cell_type": "markdown",
   "metadata": {},
   "source": [
    "Check to see that the data file reads correctly:"
   ]
  },
  {
   "cell_type": "code",
   "execution_count": 68,
   "metadata": {},
   "outputs": [
    {
     "data": {
      "text/html": [
       "<div>\n",
       "<style scoped>\n",
       "    .dataframe tbody tr th:only-of-type {\n",
       "        vertical-align: middle;\n",
       "    }\n",
       "\n",
       "    .dataframe tbody tr th {\n",
       "        vertical-align: top;\n",
       "    }\n",
       "\n",
       "    .dataframe thead th {\n",
       "        text-align: right;\n",
       "    }\n",
       "</style>\n",
       "<table border=\"1\" class=\"dataframe\">\n",
       "  <thead>\n",
       "    <tr style=\"text-align: right;\">\n",
       "      <th></th>\n",
       "      <th></th>\n",
       "      <th>Parameter</th>\n",
       "      <th>Offset</th>\n",
       "      <th>Value</th>\n",
       "      <th>Units</th>\n",
       "      <th>Notes</th>\n",
       "    </tr>\n",
       "    <tr>\n",
       "      <th>Technology</th>\n",
       "      <th>Scenario</th>\n",
       "      <th></th>\n",
       "      <th></th>\n",
       "      <th></th>\n",
       "      <th></th>\n",
       "      <th></th>\n",
       "    </tr>\n",
       "  </thead>\n",
       "  <tbody>\n",
       "  </tbody>\n",
       "</table>\n",
       "</div>"
      ],
      "text/plain": [
       "Empty DataFrame\n",
       "Columns: [Parameter, Offset, Value, Units, Notes]\n",
       "Index: []"
      ]
     },
     "execution_count": 68,
     "metadata": {},
     "output_type": "execute_result"
    }
   ],
   "source": [
    "my_designs = ty.Designs(\"data\")\n",
    "my_designs.parameters.reset_index(\"Parameter\").sort_values(\"Offset\")"
   ]
  },
  {
   "cell_type": "markdown",
   "metadata": {},
   "source": [
    "Check your `parameters` table against the following:"
   ]
  },
  {
   "cell_type": "code",
   "execution_count": 69,
   "metadata": {},
   "outputs": [
    {
     "data": {
      "text/html": [
       "<div>\n",
       "<style scoped>\n",
       "    .dataframe tbody tr th:only-of-type {\n",
       "        vertical-align: middle;\n",
       "    }\n",
       "\n",
       "    .dataframe tbody tr th {\n",
       "        vertical-align: top;\n",
       "    }\n",
       "\n",
       "    .dataframe thead th {\n",
       "        text-align: right;\n",
       "    }\n",
       "</style>\n",
       "<table border=\"1\" class=\"dataframe\">\n",
       "  <thead>\n",
       "    <tr style=\"text-align: right;\">\n",
       "      <th></th>\n",
       "      <th></th>\n",
       "      <th>Parameter</th>\n",
       "      <th>Offset</th>\n",
       "      <th>Value</th>\n",
       "      <th>Units</th>\n",
       "      <th>Notes</th>\n",
       "    </tr>\n",
       "    <tr>\n",
       "      <th>Technology</th>\n",
       "      <th>Scenario</th>\n",
       "      <th></th>\n",
       "      <th></th>\n",
       "      <th></th>\n",
       "      <th></th>\n",
       "      <th></th>\n",
       "    </tr>\n",
       "  </thead>\n",
       "  <tbody>\n",
       "    <tr>\n",
       "      <th rowspan=\"5\" valign=\"top\">Wind Turbine</th>\n",
       "      <th>Reference</th>\n",
       "      <td>Rotor design</td>\n",
       "      <td>0</td>\n",
       "      <td>0</td>\n",
       "      <td>1</td>\n",
       "      <td>rho</td>\n",
       "    </tr>\n",
       "    <tr>\n",
       "      <th>Reference</th>\n",
       "      <td>Drive design</td>\n",
       "      <td>1</td>\n",
       "      <td>0.9</td>\n",
       "      <td>1</td>\n",
       "      <td>delta</td>\n",
       "    </tr>\n",
       "    <tr>\n",
       "      <th>Reference</th>\n",
       "      <td>Tower design</td>\n",
       "      <td>2</td>\n",
       "      <td>1</td>\n",
       "      <td>1</td>\n",
       "      <td>tau</td>\n",
       "    </tr>\n",
       "    <tr>\n",
       "      <th>Reference</th>\n",
       "      <td>BOS factor</td>\n",
       "      <td>3</td>\n",
       "      <td>1</td>\n",
       "      <td>1</td>\n",
       "      <td>beta</td>\n",
       "    </tr>\n",
       "    <tr>\n",
       "      <th>Reference</th>\n",
       "      <td>O&amp;M factor</td>\n",
       "      <td>4</td>\n",
       "      <td>1</td>\n",
       "      <td>1</td>\n",
       "      <td>mu</td>\n",
       "    </tr>\n",
       "  </tbody>\n",
       "</table>\n",
       "</div>"
      ],
      "text/plain": [
       "                           Parameter  Offset Value Units  Notes\n",
       "Technology   Scenario                                          \n",
       "Wind Turbine Reference  Rotor design       0     0     1    rho\n",
       "             Reference  Drive design       1   0.9     1  delta\n",
       "             Reference  Tower design       2     1     1    tau\n",
       "             Reference    BOS factor       3     1     1   beta\n",
       "             Reference    O&M factor       4     1     1     mu"
      ]
     },
     "execution_count": 69,
     "metadata": {},
     "output_type": "execute_result"
    }
   ],
   "source": [
    "answers_designs = ty.Designs(\"answers\")\n",
    "answers_designs.parameters.xs(\"Reference\", level = \"Scenario\", drop_level = False).reset_index(\"Parameter\").sort_values(\"Offset\")"
   ]
  },
  {
   "cell_type": "markdown",
   "metadata": {},
   "source": [
    "## Implement the technology model."
   ]
  },
  {
   "cell_type": "markdown",
   "metadata": {},
   "source": [
    "The implementation of a technology model consists of a capital cost function, a fixed cost function, a production function, and a metrics function.\n",
    "\n",
    "See the [model](https://tyche.live/doc-src/formulation.html) documentation for more details."
   ]
  },
  {
   "cell_type": "markdown",
   "metadata": {},
   "source": [
    "The [src/technology/](../src/technology/) folder has examples of several technology models."
   ]
  },
  {
   "cell_type": "markdown",
   "metadata": {},
   "source": [
    "#### Capital cost function."
   ]
  },
  {
   "cell_type": "markdown",
   "metadata": {},
   "source": [
    "The capital cost function takes the scale of the operations and the array of technology parameters as arguments and it returns the capital costs for the technology."
   ]
  },
  {
   "cell_type": "markdown",
   "metadata": {},
   "source": [
    "Implement the capital cost function for your technology in the file [tutorial/my_technology.py](./)."
   ]
  },
  {
   "cell_type": "code",
   "execution_count": 70,
   "metadata": {},
   "outputs": [],
   "source": [
    "def capital_cost(scale, parameter):\n",
    "  \"\"\"\n",
    "  Capital cost function.\n",
    "\n",
    "  Parameters\n",
    "  ----------\n",
    "  scale : float\n",
    "    The scale of operation.\n",
    "  parameter : array\n",
    "    The technological parameterization.\n",
    "  \"\"\"\n",
    "\n",
    "  # Stack the costs for each category into a single array that we return.\n",
    "  return np.stack([\n",
    "      \n",
    "  ])"
   ]
  },
  {
   "cell_type": "markdown",
   "metadata": {},
   "source": [
    "Compare your function to the following:"
   ]
  },
  {
   "cell_type": "code",
   "execution_count": 71,
   "metadata": {},
   "outputs": [],
   "source": [
    "def answers_capital_cost(scale, parameter):\n",
    "  \"\"\"\n",
    "  Capital cost function.\n",
    "\n",
    "  Parameters\n",
    "  ----------\n",
    "  scale : float\n",
    "    The scale of operation.\n",
    "  parameter : array\n",
    "    The technological parameterization.\n",
    "  \"\"\"\n",
    "\n",
    "  # We aren't varying the wind sheer exponent.\n",
    "  alpha = 0.16\n",
    "\n",
    "  # It is handy to copy the elements of the parameter array into meaningful variable names.\n",
    "  # Not all of these parameters are used in the calculations, but they are read in here for\n",
    "  # demonstration purposes.\n",
    "  # There can be as many or as few parameters as needed to implement the technology-specific\n",
    "  # calculations.\n",
    "  rho   = parameter[0]\n",
    "  delta = parameter[1]\n",
    "  tau   = parameter[2]\n",
    "  beta  = parameter[3]\n",
    "  mu    = parameter[4]\n",
    "\n",
    "  # Compute the rotor diamter, hub height, and machine rating.\n",
    "  r = 70 * scale**(1 / (2 + 3 * alpha))\n",
    "  h = 65 * scale**(1 / (2 + 3 * alpha))\n",
    "  m = 1500 * scale\n",
    "\n",
    "  # Compute the components of capital cost.\n",
    "  rotor = 1.6 * r**2.8 - 60000 * rho\n",
    "  drive = 900 * m**delta\n",
    "  tower = 0.015 * r**2.8 * h**tau\n",
    "  bos   = 250 * beta * m\n",
    "\n",
    "  # Stack the costs for each category into a single array that we return.\n",
    "  return np.stack([\n",
    "      rotor,\n",
    "      drive,\n",
    "      tower,\n",
    "      bos,\n",
    "  ])"
   ]
  },
  {
   "cell_type": "markdown",
   "metadata": {},
   "source": [
    "Test this for the reference case:"
   ]
  },
  {
   "cell_type": "code",
   "execution_count": 72,
   "metadata": {
    "scrolled": true
   },
   "outputs": [
    {
     "data": {
      "text/plain": [
       "array([234635.91808147, 649717.61674841, 142981.2625809 , 375000.        ])"
      ]
     },
     "execution_count": 72,
     "metadata": {},
     "output_type": "execute_result"
    }
   ],
   "source": [
    "example_capital = answers_capital_cost(1, [0, 0.9, 1, 1, 1])\n",
    "example_capital"
   ]
  },
  {
   "cell_type": "markdown",
   "metadata": {},
   "source": [
    "Interpretation:\n",
    "*   Rotor: \\$235k\n",
    "*   Drive: \\$649k\n",
    "*   Tower: \\$143k\n",
    "*   BOS: \\$375k"
   ]
  },
  {
   "cell_type": "markdown",
   "metadata": {},
   "source": [
    "#### Fixed cost function."
   ]
  },
  {
   "cell_type": "markdown",
   "metadata": {},
   "source": [
    "The fixed cost function takes the scale of the operations and the array of technology parameters as arguments and it returns the fixed costs for the technology."
   ]
  },
  {
   "cell_type": "markdown",
   "metadata": {},
   "source": [
    "Implement the fixed cost function for your technology in the file [tutorial/my_technology.py](./)."
   ]
  },
  {
   "cell_type": "code",
   "execution_count": 73,
   "metadata": {},
   "outputs": [],
   "source": [
    "def fixed_cost(scale, parameter):\n",
    "  \"\"\"\n",
    "  Capital cost function.\n",
    "\n",
    "  Parameters\n",
    "  ----------\n",
    "  scale : float\n",
    "    The scale of operation.\n",
    "  parameter : array\n",
    "    The technological parameterization.\n",
    "  \"\"\"\n",
    "  # Stack the costs for each category into a single array that we return.\n",
    "  return np.stack([\n",
    "\n",
    "  ])"
   ]
  },
  {
   "cell_type": "markdown",
   "metadata": {},
   "source": [
    "Compare your function to the following:"
   ]
  },
  {
   "cell_type": "code",
   "execution_count": 74,
   "metadata": {},
   "outputs": [],
   "source": [
    "def answers_fixed_cost(scale, parameter):\n",
    "  \"\"\"\n",
    "  Capital cost function.\n",
    "\n",
    "  Parameters\n",
    "  ----------\n",
    "  scale : float\n",
    "    The scale of operation.\n",
    "  parameter : array\n",
    "    The technological parameterization.\n",
    "  \"\"\"\n",
    "\n",
    "  # We aren't varying the wind sheer exponent.\n",
    "  alpha = 0.16\n",
    "\n",
    "  # It is handy to copy the elements of the parameter array into meaningful variable names.\n",
    "  rho   = parameter[0]\n",
    "  delta = parameter[1]\n",
    "  tau   = parameter[2]\n",
    "  beta  = parameter[3]\n",
    "  mu    = parameter[4]\n",
    "\n",
    "  # Compute the rotor diamter, hub height, and machine rating.\n",
    "  r = 70 * scale**(1 / (2 + 3 * alpha))\n",
    "  h = 65 * scale**(1 / (2 + 3 * alpha))\n",
    "  m = 1500 * scale\n",
    "\n",
    "  # Compute the components of fixed cost.\n",
    "  replacement            = 10.6 * m\n",
    "  operations_maintenance = 20 * mu * m\n",
    "  land_lease             = 3.5 * m\n",
    "\n",
    "  # Stack the costs for each category into a single array that we return.\n",
    "  return np.stack([\n",
    "      replacement,\n",
    "      operations_maintenance,\n",
    "      land_lease\n",
    "  ])"
   ]
  },
  {
   "cell_type": "markdown",
   "metadata": {},
   "source": [
    "Test this for the reference case:"
   ]
  },
  {
   "cell_type": "code",
   "execution_count": 75,
   "metadata": {},
   "outputs": [
    {
     "data": {
      "text/plain": [
       "array([15900., 30000.,  5250.])"
      ]
     },
     "execution_count": 75,
     "metadata": {},
     "output_type": "execute_result"
    }
   ],
   "source": [
    "example_fixed = answers_fixed_cost(1, [0, 0.9, 1, 1, 1])\n",
    "example_fixed"
   ]
  },
  {
   "cell_type": "markdown",
   "metadata": {},
   "source": [
    "Interpretation:\n",
    "*   Replacement: \\$16k/yr\n",
    "*   O&M: \\$30k/yr\n",
    "*   Land: \\$5k/yr"
   ]
  },
  {
   "cell_type": "markdown",
   "metadata": {},
   "source": [
    "#### Production function."
   ]
  },
  {
   "cell_type": "markdown",
   "metadata": {},
   "source": [
    "The production function takes the scale of the operations, the capital costs, the lifetime, the fixed costs, and the array of technology parameters as arguments and it returns the production (outputs) for the technology."
   ]
  },
  {
   "cell_type": "markdown",
   "metadata": {},
   "source": [
    "Implement the production function for your technology in the file [tutorial/my_technology.py](./)."
   ]
  },
  {
   "cell_type": "code",
   "execution_count": 76,
   "metadata": {},
   "outputs": [],
   "source": [
    "def production(scale, capital, lifetime, fixed, input, parameter):\n",
    "  \"\"\"\n",
    "  Production function.\n",
    "\n",
    "  Parameters\n",
    "  ----------\n",
    "  scale : float\n",
    "    The scale of operation.\n",
    "  capital : array\n",
    "    Capital costs.\n",
    "  lifetime : float\n",
    "    Technology lifetime.\n",
    "  fixed : array\n",
    "    Fixed costs.\n",
    "  input : array\n",
    "    Input quantities. \n",
    "  parameter : array\n",
    "    The technological parameterization.\n",
    "  \"\"\"\n",
    "\n",
    "  # Stack the output for each category into a single array that we return.\n",
    "  return np.stack([\n",
    "\n",
    "  ])"
   ]
  },
  {
   "cell_type": "markdown",
   "metadata": {},
   "source": [
    "Compare your function to the following:"
   ]
  },
  {
   "cell_type": "code",
   "execution_count": 77,
   "metadata": {},
   "outputs": [],
   "source": [
    "def answers_production(scale, capital, lifetime, fixed, input, parameter):\n",
    "  \"\"\"\n",
    "  Production function.\n",
    "\n",
    "  Parameters\n",
    "  ----------\n",
    "  scale : float\n",
    "    The scale of operation.\n",
    "  capital : array\n",
    "    Capital costs.\n",
    "  lifetime : float\n",
    "    Technology lifetime.\n",
    "  fixed : array\n",
    "    Fixed costs.\n",
    "  input : array\n",
    "    Input quantities. \n",
    "  parameter : array\n",
    "    The technological parameterization.\n",
    "  \"\"\"\n",
    "\n",
    "  # We aren't varying the wind sheer exponent.\n",
    "  alpha = 0.16\n",
    "\n",
    "  # It is handy to copy the elements of the parameter array into meaningful variable names.\n",
    "  rho   = parameter[0]\n",
    "  delta = parameter[1]\n",
    "  tau   = parameter[2]\n",
    "  beta  = parameter[3]\n",
    "  mu    = parameter[4]\n",
    "\n",
    "  # Compute the production of electricity.\n",
    "  electricity = 4312 * scale / 0.3282\n",
    "\n",
    "  # Stack the output for each category into a single array that we return.\n",
    "  return np.stack([\n",
    "      electricity,\n",
    "  ])"
   ]
  },
  {
   "cell_type": "markdown",
   "metadata": {},
   "source": [
    "Test this for the reference case:"
   ]
  },
  {
   "cell_type": "code",
   "execution_count": 78,
   "metadata": {},
   "outputs": [
    {
     "data": {
      "text/plain": [
       "array([13138.33028641])"
      ]
     },
     "execution_count": 78,
     "metadata": {},
     "output_type": "execute_result"
    }
   ],
   "source": [
    "example_production = answers_production(\n",
    "    1,                  # Scale\n",
    "    example_capital,    # Capital\n",
    "    [8.6, 8.6, 8.6],    # Lifetimes\n",
    "    example_fixed,      # Fixed costs\n",
    "    [0],                # Inputs\n",
    "    [0, 0.9, 1, 1, 1],  # Parameters\n",
    ")\n",
    "example_production"
   ]
  },
  {
   "cell_type": "markdown",
   "metadata": {},
   "source": [
    "Interpretation:\n",
    "*   Rated annual production: 13 GW"
   ]
  },
  {
   "cell_type": "markdown",
   "metadata": {},
   "source": [
    "#### Metric function."
   ]
  },
  {
   "cell_type": "markdown",
   "metadata": {},
   "source": [
    "The metric function takes information on costs, inputs, outputs, and parameters and it returns the metrics for the technology."
   ]
  },
  {
   "cell_type": "markdown",
   "metadata": {},
   "source": [
    "Implement the metrics function for your technology in the file [tutorial/my_technology.py](./)."
   ]
  },
  {
   "cell_type": "code",
   "execution_count": 79,
   "metadata": {},
   "outputs": [],
   "source": [
    "def metrics(scale, capital, lifetime, fixed, input_raw, input, input_price, output_raw, output, cost, parameter):\n",
    "  \"\"\"\n",
    "  Metrics function.\n",
    "\n",
    "  Parameters\n",
    "  ----------\n",
    "  scale : float\n",
    "    The scale of operation.\n",
    "  capital : array\n",
    "    Capital costs.\n",
    "  lifetime : float\n",
    "    Technology lifetime.\n",
    "  fixed : array\n",
    "    Fixed costs.\n",
    "  input_raw : array\n",
    "    Raw input quantities (before losses).\n",
    "  input : array\n",
    "    Input quantities. \n",
    "  output_raw : array\n",
    "    Raw output quantities (before losses).\n",
    "  output : array\n",
    "    Output quantities. \n",
    "  cost : array\n",
    "    Costs.\n",
    "  parameter : array\n",
    "    The technological parameterization.\n",
    "  \"\"\"\n",
    "\n",
    "  # Package results.\n",
    "  return np.stack([\n",
    "\n",
    "  ])"
   ]
  },
  {
   "cell_type": "markdown",
   "metadata": {},
   "source": [
    "Compare your function to the following:"
   ]
  },
  {
   "cell_type": "code",
   "execution_count": 80,
   "metadata": {},
   "outputs": [],
   "source": [
    "def answers_metrics(scale, capital, lifetime, fixed, input_raw, input,input_price, output_raw, output, cost, parameter):\n",
    "  \"\"\"\n",
    "  Metrics function.\n",
    "\n",
    "  Parameters\n",
    "  ----------\n",
    "  scale : float\n",
    "    The scale of operation.\n",
    "  capital : array\n",
    "    Capital costs.\n",
    "  lifetime : float\n",
    "    Technology lifetime.\n",
    "  fixed : array\n",
    "    Fixed costs.\n",
    "  input_raw : array\n",
    "    Raw input quantities (before losses).\n",
    "  input : array\n",
    "    Input quantities. \n",
    "  output_raw : array\n",
    "    Raw output quantities (before losses).\n",
    "  output : array\n",
    "    Output quantities. \n",
    "  cost : array\n",
    "    Costs.\n",
    "  parameter : array\n",
    "    The technological parameterization.\n",
    "  \"\"\"\n",
    "\n",
    "  # We aren't varying the wind sheer exponent.\n",
    "  alpha = 0.16\n",
    "\n",
    "  # It is handy to copy the elements of the parameter array into meaningful variable names.\n",
    "  rho   = parameter[0]\n",
    "  delta = parameter[1]\n",
    "  tau   = parameter[2]\n",
    "  beta  = parameter[3]\n",
    "  mu    = parameter[4]\n",
    "\n",
    "  # Compute the metrics.\n",
    "  lcoe = cost / output[0] / 1000\n",
    "  cf = output[0] / output_raw[0]\n",
    "  aep = output[0]\n",
    "\n",
    "  # Package results.\n",
    "  return np.stack([\n",
    "    cost,\n",
    "    lcoe,\n",
    "    cf  ,\n",
    "    aep ,\n",
    "  ])"
   ]
  },
  {
   "cell_type": "markdown",
   "metadata": {},
   "source": [
    "Test this for the reference case:"
   ]
  },
  {
   "cell_type": "code",
   "execution_count": 81,
   "metadata": {},
   "outputs": [
    {
     "data": {
      "text/plain": [
       "array([2.14212186e+05, 4.96781507e-02, 3.28200000e-01, 4.31200000e+03])"
      ]
     },
     "execution_count": 81,
     "metadata": {},
     "output_type": "execute_result"
    }
   ],
   "source": [
    "example_metrics = answers_metrics(\n",
    "    1,                 # Scale\n",
    "    example_capital,   # Capital\n",
    "    [8.6, 8.6, 8.6],   # Lifetimes\n",
    "    example_fixed,     # Fixed costs\n",
    "    [0],               # Input_raw (idealized amount)\n",
    "    [0],               # Input (accounting for losses)\n",
    "    [0],               # Input price (wind is free)\n",
    "    example_production,                              # Output_raw (idealized amount)\n",
    "    example_production * 0.3282,                     # Output (accounting for losses)\n",
    "    sum(example_capital / 8.6) + sum(example_fixed), # Cost\n",
    "    [0, 0.9, 1, 1, 1], # Parameters\n",
    ")\n",
    "example_metrics"
   ]
  },
  {
   "cell_type": "markdown",
   "metadata": {},
   "source": [
    "Interpretation:\n",
    "*   Levelized cost: \\$214k/yr\n",
    "*   LCOE: \\$0.05/kWh\n",
    "*   Capacity factor: 32.82%\n",
    "*   Annual energy production: 4312 MWh/yr"
   ]
  },
  {
   "cell_type": "markdown",
   "metadata": {},
   "source": [
    "### Create the `functions` table."
   ]
  },
  {
   "cell_type": "markdown",
   "metadata": {},
   "source": [
    "Enter the technology name and any notes for your model in the comma-delimited-value file [tutorial/data/functions.csv](data/). You can also edit the module or function names in this table, if you changed them."
   ]
  },
  {
   "cell_type": "markdown",
   "metadata": {},
   "source": [
    "Check to see that the data file reads correctly:"
   ]
  },
  {
   "cell_type": "code",
   "execution_count": 82,
   "metadata": {
    "scrolled": true
   },
   "outputs": [
    {
     "data": {
      "text/html": [
       "<div>\n",
       "<style scoped>\n",
       "    .dataframe tbody tr th:only-of-type {\n",
       "        vertical-align: middle;\n",
       "    }\n",
       "\n",
       "    .dataframe tbody tr th {\n",
       "        vertical-align: top;\n",
       "    }\n",
       "\n",
       "    .dataframe thead th {\n",
       "        text-align: right;\n",
       "    }\n",
       "</style>\n",
       "<table border=\"1\" class=\"dataframe\">\n",
       "  <thead>\n",
       "    <tr style=\"text-align: right;\">\n",
       "      <th></th>\n",
       "      <th>Style</th>\n",
       "      <th>Module</th>\n",
       "      <th>Capital</th>\n",
       "      <th>Fixed</th>\n",
       "      <th>Production</th>\n",
       "      <th>Metrics</th>\n",
       "      <th>Notes</th>\n",
       "    </tr>\n",
       "    <tr>\n",
       "      <th>Technology</th>\n",
       "      <th></th>\n",
       "      <th></th>\n",
       "      <th></th>\n",
       "      <th></th>\n",
       "      <th></th>\n",
       "      <th></th>\n",
       "      <th></th>\n",
       "    </tr>\n",
       "  </thead>\n",
       "  <tbody>\n",
       "    <tr>\n",
       "      <th>My Technology</th>\n",
       "      <td>numpy</td>\n",
       "      <td>my_technology</td>\n",
       "      <td>capital_cost</td>\n",
       "      <td>fixed_cost</td>\n",
       "      <td>production</td>\n",
       "      <td>metrics</td>\n",
       "      <td>my notes</td>\n",
       "    </tr>\n",
       "  </tbody>\n",
       "</table>\n",
       "</div>"
      ],
      "text/plain": [
       "               Style         Module       Capital       Fixed  Production  \\\n",
       "Technology                                                                  \n",
       "My Technology  numpy  my_technology  capital_cost  fixed_cost  production   \n",
       "\n",
       "               Metrics     Notes  \n",
       "Technology                        \n",
       "My Technology  metrics  my notes  "
      ]
     },
     "execution_count": 82,
     "metadata": {},
     "output_type": "execute_result"
    }
   ],
   "source": [
    "my_designs = ty.Designs(\"data\")\n",
    "my_designs.functions"
   ]
  },
  {
   "cell_type": "markdown",
   "metadata": {},
   "source": [
    "Compare your `functions` table to the following:"
   ]
  },
  {
   "cell_type": "code",
   "execution_count": 83,
   "metadata": {},
   "outputs": [
    {
     "data": {
      "text/html": [
       "<div>\n",
       "<style scoped>\n",
       "    .dataframe tbody tr th:only-of-type {\n",
       "        vertical-align: middle;\n",
       "    }\n",
       "\n",
       "    .dataframe tbody tr th {\n",
       "        vertical-align: top;\n",
       "    }\n",
       "\n",
       "    .dataframe thead th {\n",
       "        text-align: right;\n",
       "    }\n",
       "</style>\n",
       "<table border=\"1\" class=\"dataframe\">\n",
       "  <thead>\n",
       "    <tr style=\"text-align: right;\">\n",
       "      <th></th>\n",
       "      <th>Style</th>\n",
       "      <th>Module</th>\n",
       "      <th>Capital</th>\n",
       "      <th>Fixed</th>\n",
       "      <th>Production</th>\n",
       "      <th>Metrics</th>\n",
       "      <th>Notes</th>\n",
       "    </tr>\n",
       "    <tr>\n",
       "      <th>Technology</th>\n",
       "      <th></th>\n",
       "      <th></th>\n",
       "      <th></th>\n",
       "      <th></th>\n",
       "      <th></th>\n",
       "      <th></th>\n",
       "      <th></th>\n",
       "    </tr>\n",
       "  </thead>\n",
       "  <tbody>\n",
       "    <tr>\n",
       "      <th>Wind Turbine</th>\n",
       "      <td>numpy</td>\n",
       "      <td>answers_technology</td>\n",
       "      <td>capital_cost</td>\n",
       "      <td>fixed_cost</td>\n",
       "      <td>production</td>\n",
       "      <td>metrics</td>\n",
       "      <td></td>\n",
       "    </tr>\n",
       "  </tbody>\n",
       "</table>\n",
       "</div>"
      ],
      "text/plain": [
       "              Style              Module       Capital       Fixed  Production  \\\n",
       "Technology                                                                      \n",
       "Wind Turbine  numpy  answers_technology  capital_cost  fixed_cost  production   \n",
       "\n",
       "              Metrics Notes  \n",
       "Technology                   \n",
       "Wind Turbine  metrics        "
      ]
     },
     "execution_count": 83,
     "metadata": {},
     "output_type": "execute_result"
    }
   ],
   "source": [
    "answers_designs = ty.Designs(\"answers\")\n",
    "answers_designs.functions"
   ]
  },
  {
   "cell_type": "markdown",
   "metadata": {},
   "source": [
    "## Simulate the base case or reference scenario."
   ]
  },
  {
   "cell_type": "markdown",
   "metadata": {},
   "source": [
    "### Load the data."
   ]
  },
  {
   "cell_type": "code",
   "execution_count": 84,
   "metadata": {},
   "outputs": [],
   "source": [
    "answers_designs = ty.Designs(\"answers\")"
   ]
  },
  {
   "cell_type": "markdown",
   "metadata": {},
   "source": [
    "### Compile the production and metric functions for each technology in the dataset."
   ]
  },
  {
   "cell_type": "code",
   "execution_count": 85,
   "metadata": {},
   "outputs": [],
   "source": [
    "answers_designs.compile()"
   ]
  },
  {
   "cell_type": "markdown",
   "metadata": {},
   "source": [
    "Recall that the lifetime of the wind turbine is a random variable. Let's compute an ensemble of 1000 simulations for the reference case."
   ]
  },
  {
   "cell_type": "code",
   "execution_count": 86,
   "metadata": {
    "scrolled": false
   },
   "outputs": [
    {
     "name": "stdout",
     "output_type": "stream",
     "text": [
      "Evaluating Wind Turbine\n"
     ]
    },
    {
     "data": {
      "text/html": [
       "<div>\n",
       "<style scoped>\n",
       "    .dataframe tbody tr th:only-of-type {\n",
       "        vertical-align: middle;\n",
       "    }\n",
       "\n",
       "    .dataframe tbody tr th {\n",
       "        vertical-align: top;\n",
       "    }\n",
       "\n",
       "    .dataframe thead th {\n",
       "        text-align: right;\n",
       "    }\n",
       "</style>\n",
       "<table border=\"1\" class=\"dataframe\">\n",
       "  <thead>\n",
       "    <tr style=\"text-align: right;\">\n",
       "      <th></th>\n",
       "      <th></th>\n",
       "      <th></th>\n",
       "      <th></th>\n",
       "      <th></th>\n",
       "      <th>Value</th>\n",
       "      <th>Units</th>\n",
       "    </tr>\n",
       "    <tr>\n",
       "      <th>Technology</th>\n",
       "      <th>Scenario</th>\n",
       "      <th>Sample</th>\n",
       "      <th>Variable</th>\n",
       "      <th>Index</th>\n",
       "      <th></th>\n",
       "      <th></th>\n",
       "    </tr>\n",
       "  </thead>\n",
       "  <tbody>\n",
       "    <tr>\n",
       "      <th rowspan=\"11\" valign=\"top\">Wind Turbine</th>\n",
       "      <th rowspan=\"11\" valign=\"top\">Reference</th>\n",
       "      <th rowspan=\"5\" valign=\"top\">1</th>\n",
       "      <th>Cost</th>\n",
       "      <th>Cost</th>\n",
       "      <td>204495.849976</td>\n",
       "      <td>$/turbine</td>\n",
       "    </tr>\n",
       "    <tr>\n",
       "      <th rowspan=\"4\" valign=\"top\">Metric</th>\n",
       "      <th>AEP</th>\n",
       "      <td>4312.000000</td>\n",
       "      <td>MWh/turbine/year</td>\n",
       "    </tr>\n",
       "    <tr>\n",
       "      <th>CF</th>\n",
       "      <td>0.328200</td>\n",
       "      <td>%/100</td>\n",
       "    </tr>\n",
       "    <tr>\n",
       "      <th>Cost</th>\n",
       "      <td>204495.849976</td>\n",
       "      <td>$/turbine/year</td>\n",
       "    </tr>\n",
       "    <tr>\n",
       "      <th>LCOE</th>\n",
       "      <td>0.047425</td>\n",
       "      <td>$/kWh</td>\n",
       "    </tr>\n",
       "    <tr>\n",
       "      <th>...</th>\n",
       "      <th>...</th>\n",
       "      <th>...</th>\n",
       "      <td>...</td>\n",
       "      <td>...</td>\n",
       "    </tr>\n",
       "    <tr>\n",
       "      <th rowspan=\"5\" valign=\"top\">1000</th>\n",
       "      <th rowspan=\"4\" valign=\"top\">Metric</th>\n",
       "      <th>AEP</th>\n",
       "      <td>4312.000000</td>\n",
       "      <td>MWh/turbine/year</td>\n",
       "    </tr>\n",
       "    <tr>\n",
       "      <th>CF</th>\n",
       "      <td>0.328200</td>\n",
       "      <td>%/100</td>\n",
       "    </tr>\n",
       "    <tr>\n",
       "      <th>Cost</th>\n",
       "      <td>206774.146448</td>\n",
       "      <td>$/turbine/year</td>\n",
       "    </tr>\n",
       "    <tr>\n",
       "      <th>LCOE</th>\n",
       "      <td>0.047953</td>\n",
       "      <td>$/kWh</td>\n",
       "    </tr>\n",
       "    <tr>\n",
       "      <th>Output</th>\n",
       "      <th>Electricity</th>\n",
       "      <td>4312.000000</td>\n",
       "      <td>kWh/turbine</td>\n",
       "    </tr>\n",
       "  </tbody>\n",
       "</table>\n",
       "<p>6000 rows × 2 columns</p>\n",
       "</div>"
      ],
      "text/plain": [
       "                                                            Value  \\\n",
       "Technology   Scenario  Sample Variable Index                        \n",
       "Wind Turbine Reference 1      Cost     Cost         204495.849976   \n",
       "                              Metric   AEP            4312.000000   \n",
       "                                       CF                0.328200   \n",
       "                                       Cost         204495.849976   \n",
       "                                       LCOE              0.047425   \n",
       "...                                                           ...   \n",
       "                       1000   Metric   AEP            4312.000000   \n",
       "                                       CF                0.328200   \n",
       "                                       Cost         206774.146448   \n",
       "                                       LCOE              0.047953   \n",
       "                              Output   Electricity    4312.000000   \n",
       "\n",
       "                                                               Units  \n",
       "Technology   Scenario  Sample Variable Index                          \n",
       "Wind Turbine Reference 1      Cost     Cost                $/turbine  \n",
       "                              Metric   AEP          MWh/turbine/year  \n",
       "                                       CF                      %/100  \n",
       "                                       Cost           $/turbine/year  \n",
       "                                       LCOE                    $/kWh  \n",
       "...                                                              ...  \n",
       "                       1000   Metric   AEP          MWh/turbine/year  \n",
       "                                       CF                      %/100  \n",
       "                                       Cost           $/turbine/year  \n",
       "                                       LCOE                    $/kWh  \n",
       "                              Output   Electricity       kWh/turbine  \n",
       "\n",
       "[6000 rows x 2 columns]"
      ]
     },
     "execution_count": 86,
     "metadata": {},
     "output_type": "execute_result"
    }
   ],
   "source": [
    "answers_reference = answers_designs.evaluate_scenarios(\n",
    "    sample_count=1000\n",
    ").xs(\n",
    "    \"Reference\",\n",
    "    level = \"Scenario\",\n",
    "    drop_level = False\n",
    ")\n",
    "answers_reference"
   ]
  },
  {
   "cell_type": "markdown",
   "metadata": {},
   "source": [
    "Here is a violin plot for the LCOE:"
   ]
  },
  {
   "cell_type": "code",
   "execution_count": 87,
   "metadata": {},
   "outputs": [
    {
     "data": {
      "image/png": "[encoded data removed]",
      "text/plain": [
       "<Figure size 432x288 with 1 Axes>"
      ]
     },
     "metadata": {
      "needs_background": "light"
     },
     "output_type": "display_data"
    }
   ],
   "source": [
    "sb.violinplot(\n",
    "    answers_reference.xs(\n",
    "        (\"Wind Turbine\", \"Reference\", \"Metric\", \"LCOE\"),\n",
    "        level = (\"Technology\", \"Scenario\", \"Variable\", \"Index\")\n",
    "    )[\"Value\"]\n",
    ").set(xlabel = \"LCOE [%/kWh]\");"
   ]
  },
  {
   "cell_type": "markdown",
   "metadata": {},
   "source": [
    "## Simulate effects of R&D."
   ]
  },
  {
   "cell_type": "markdown",
   "metadata": {},
   "source": [
    "### Expert elicitation"
   ]
  },
  {
   "cell_type": "markdown",
   "metadata": {},
   "source": [
    "Let's say that we interview experts about three intensities of R&D investment in each of rotor, drive, and tower design. They provide us with triangular probability distributions for the $\\rho$, $\\delta$, and $\\tau$ parameters. Furthermore, let's say that they disagree on the results of intense R&D on tower design, where 70% of the experts provide a more optimistic assessment."
   ]
  },
  {
   "cell_type": "code",
   "execution_count": 88,
   "metadata": {},
   "outputs": [
    {
     "data": {
      "text/html": [
       "<div>\n",
       "<style scoped>\n",
       "    .dataframe tbody tr th:only-of-type {\n",
       "        vertical-align: middle;\n",
       "    }\n",
       "\n",
       "    .dataframe tbody tr th {\n",
       "        vertical-align: top;\n",
       "    }\n",
       "\n",
       "    .dataframe thead th {\n",
       "        text-align: right;\n",
       "    }\n",
       "</style>\n",
       "<table border=\"1\" class=\"dataframe\">\n",
       "  <thead>\n",
       "    <tr style=\"text-align: right;\">\n",
       "      <th></th>\n",
       "      <th></th>\n",
       "      <th></th>\n",
       "      <th>Offset</th>\n",
       "      <th>Value</th>\n",
       "      <th>Units</th>\n",
       "      <th>Notes</th>\n",
       "    </tr>\n",
       "    <tr>\n",
       "      <th>Technology</th>\n",
       "      <th>Scenario</th>\n",
       "      <th>Parameter</th>\n",
       "      <th></th>\n",
       "      <th></th>\n",
       "      <th></th>\n",
       "      <th></th>\n",
       "    </tr>\n",
       "  </thead>\n",
       "  <tbody>\n",
       "    <tr>\n",
       "      <th rowspan=\"30\" valign=\"top\">Wind Turbine</th>\n",
       "      <th rowspan=\"3\" valign=\"top\">Casual Drive R&amp;D</th>\n",
       "      <th>Drive design</th>\n",
       "      <td>1</td>\n",
       "      <td>st.triang(0.5, 0.87, 0.03)</td>\n",
       "      <td>1</td>\n",
       "      <td>delta</td>\n",
       "    </tr>\n",
       "    <tr>\n",
       "      <th>Rotor design</th>\n",
       "      <td>0</td>\n",
       "      <td>0</td>\n",
       "      <td>1</td>\n",
       "      <td>rho</td>\n",
       "    </tr>\n",
       "    <tr>\n",
       "      <th>Tower design</th>\n",
       "      <td>2</td>\n",
       "      <td>1</td>\n",
       "      <td>1</td>\n",
       "      <td>tau</td>\n",
       "    </tr>\n",
       "    <tr>\n",
       "      <th rowspan=\"3\" valign=\"top\">Casual Rotor R&amp;D</th>\n",
       "      <th>Drive design</th>\n",
       "      <td>1</td>\n",
       "      <td>0.9</td>\n",
       "      <td>1</td>\n",
       "      <td>delta</td>\n",
       "    </tr>\n",
       "    <tr>\n",
       "      <th>Rotor design</th>\n",
       "      <td>0</td>\n",
       "      <td>st.triang(0.5, 0.0, 0.4)</td>\n",
       "      <td>1</td>\n",
       "      <td>rho</td>\n",
       "    </tr>\n",
       "    <tr>\n",
       "      <th>Tower design</th>\n",
       "      <td>2</td>\n",
       "      <td>1</td>\n",
       "      <td>1</td>\n",
       "      <td>tau</td>\n",
       "    </tr>\n",
       "    <tr>\n",
       "      <th rowspan=\"3\" valign=\"top\">Casual Tower R&amp;D</th>\n",
       "      <th>Drive design</th>\n",
       "      <td>1</td>\n",
       "      <td>0.9</td>\n",
       "      <td>1</td>\n",
       "      <td>delta</td>\n",
       "    </tr>\n",
       "    <tr>\n",
       "      <th>Rotor design</th>\n",
       "      <td>0</td>\n",
       "      <td>0</td>\n",
       "      <td>1</td>\n",
       "      <td>rho</td>\n",
       "    </tr>\n",
       "    <tr>\n",
       "      <th>Tower design</th>\n",
       "      <td>2</td>\n",
       "      <td>st.triang(0.5, 0.8, 0.2)</td>\n",
       "      <td>1</td>\n",
       "      <td>tau</td>\n",
       "    </tr>\n",
       "    <tr>\n",
       "      <th rowspan=\"3\" valign=\"top\">Focused Drive R&amp;D</th>\n",
       "      <th>Drive design</th>\n",
       "      <td>1</td>\n",
       "      <td>st.triang(0.5, 0.84, 0.06)</td>\n",
       "      <td>1</td>\n",
       "      <td>delta</td>\n",
       "    </tr>\n",
       "    <tr>\n",
       "      <th>Rotor design</th>\n",
       "      <td>0</td>\n",
       "      <td>0</td>\n",
       "      <td>1</td>\n",
       "      <td>rho</td>\n",
       "    </tr>\n",
       "    <tr>\n",
       "      <th>Tower design</th>\n",
       "      <td>2</td>\n",
       "      <td>1</td>\n",
       "      <td>1</td>\n",
       "      <td>tau</td>\n",
       "    </tr>\n",
       "    <tr>\n",
       "      <th rowspan=\"3\" valign=\"top\">Focused Rotor R&amp;D</th>\n",
       "      <th>Drive design</th>\n",
       "      <td>1</td>\n",
       "      <td>0.9</td>\n",
       "      <td>1</td>\n",
       "      <td>delta</td>\n",
       "    </tr>\n",
       "    <tr>\n",
       "      <th>Rotor design</th>\n",
       "      <td>0</td>\n",
       "      <td>st.triang(0.5, 0.3, 0.4)</td>\n",
       "      <td>1</td>\n",
       "      <td>rho</td>\n",
       "    </tr>\n",
       "    <tr>\n",
       "      <th>Tower design</th>\n",
       "      <td>2</td>\n",
       "      <td>1</td>\n",
       "      <td>1</td>\n",
       "      <td>tau</td>\n",
       "    </tr>\n",
       "    <tr>\n",
       "      <th rowspan=\"3\" valign=\"top\">Focused Tower R&amp;D</th>\n",
       "      <th>Drive design</th>\n",
       "      <td>1</td>\n",
       "      <td>0.9</td>\n",
       "      <td>1</td>\n",
       "      <td>delta</td>\n",
       "    </tr>\n",
       "    <tr>\n",
       "      <th>Rotor design</th>\n",
       "      <td>0</td>\n",
       "      <td>0</td>\n",
       "      <td>1</td>\n",
       "      <td>rho</td>\n",
       "    </tr>\n",
       "    <tr>\n",
       "      <th>Tower design</th>\n",
       "      <td>2</td>\n",
       "      <td>st.triang(0.5, 0.6, 0.4)</td>\n",
       "      <td>1</td>\n",
       "      <td>tau</td>\n",
       "    </tr>\n",
       "    <tr>\n",
       "      <th rowspan=\"3\" valign=\"top\">Intense Drive R&amp;D</th>\n",
       "      <th>Drive design</th>\n",
       "      <td>1</td>\n",
       "      <td>st.triang(0.5, 0.80, 0.10)</td>\n",
       "      <td>1</td>\n",
       "      <td>delta</td>\n",
       "    </tr>\n",
       "    <tr>\n",
       "      <th>Rotor design</th>\n",
       "      <td>0</td>\n",
       "      <td>0</td>\n",
       "      <td>1</td>\n",
       "      <td>rho</td>\n",
       "    </tr>\n",
       "    <tr>\n",
       "      <th>Tower design</th>\n",
       "      <td>2</td>\n",
       "      <td>1</td>\n",
       "      <td>1</td>\n",
       "      <td>tau</td>\n",
       "    </tr>\n",
       "    <tr>\n",
       "      <th rowspan=\"3\" valign=\"top\">Intense Rotor R&amp;D</th>\n",
       "      <th>Drive design</th>\n",
       "      <td>1</td>\n",
       "      <td>0.9</td>\n",
       "      <td>1</td>\n",
       "      <td>delta</td>\n",
       "    </tr>\n",
       "    <tr>\n",
       "      <th>Rotor design</th>\n",
       "      <td>0</td>\n",
       "      <td>st.triang(0.5, 0.6, 0.4)</td>\n",
       "      <td>1</td>\n",
       "      <td>rho</td>\n",
       "    </tr>\n",
       "    <tr>\n",
       "      <th>Tower design</th>\n",
       "      <td>2</td>\n",
       "      <td>1</td>\n",
       "      <td>1</td>\n",
       "      <td>tau</td>\n",
       "    </tr>\n",
       "    <tr>\n",
       "      <th rowspan=\"3\" valign=\"top\">Intense Tower R&amp;D</th>\n",
       "      <th>Drive design</th>\n",
       "      <td>1</td>\n",
       "      <td>0.9</td>\n",
       "      <td>1</td>\n",
       "      <td>delta</td>\n",
       "    </tr>\n",
       "    <tr>\n",
       "      <th>Rotor design</th>\n",
       "      <td>0</td>\n",
       "      <td>0</td>\n",
       "      <td>1</td>\n",
       "      <td>rho</td>\n",
       "    </tr>\n",
       "    <tr>\n",
       "      <th>Tower design</th>\n",
       "      <td>2</td>\n",
       "      <td>mixture([0.7, 0.3], [st.triang(0.1, 0.5, 0.1),...</td>\n",
       "      <td>1</td>\n",
       "      <td>tau</td>\n",
       "    </tr>\n",
       "    <tr>\n",
       "      <th rowspan=\"3\" valign=\"top\">Reference</th>\n",
       "      <th>Drive design</th>\n",
       "      <td>1</td>\n",
       "      <td>0.9</td>\n",
       "      <td>1</td>\n",
       "      <td>delta</td>\n",
       "    </tr>\n",
       "    <tr>\n",
       "      <th>Rotor design</th>\n",
       "      <td>0</td>\n",
       "      <td>0</td>\n",
       "      <td>1</td>\n",
       "      <td>rho</td>\n",
       "    </tr>\n",
       "    <tr>\n",
       "      <th>Tower design</th>\n",
       "      <td>2</td>\n",
       "      <td>1</td>\n",
       "      <td>1</td>\n",
       "      <td>tau</td>\n",
       "    </tr>\n",
       "  </tbody>\n",
       "</table>\n",
       "</div>"
      ],
      "text/plain": [
       "                                             Offset  \\\n",
       "Technology   Scenario          Parameter              \n",
       "Wind Turbine Casual Drive R&D  Drive design       1   \n",
       "                               Rotor design       0   \n",
       "                               Tower design       2   \n",
       "             Casual Rotor R&D  Drive design       1   \n",
       "                               Rotor design       0   \n",
       "                               Tower design       2   \n",
       "             Casual Tower R&D  Drive design       1   \n",
       "                               Rotor design       0   \n",
       "                               Tower design       2   \n",
       "             Focused Drive R&D Drive design       1   \n",
       "                               Rotor design       0   \n",
       "                               Tower design       2   \n",
       "             Focused Rotor R&D Drive design       1   \n",
       "                               Rotor design       0   \n",
       "                               Tower design       2   \n",
       "             Focused Tower R&D Drive design       1   \n",
       "                               Rotor design       0   \n",
       "                               Tower design       2   \n",
       "             Intense Drive R&D Drive design       1   \n",
       "                               Rotor design       0   \n",
       "                               Tower design       2   \n",
       "             Intense Rotor R&D Drive design       1   \n",
       "                               Rotor design       0   \n",
       "                               Tower design       2   \n",
       "             Intense Tower R&D Drive design       1   \n",
       "                               Rotor design       0   \n",
       "                               Tower design       2   \n",
       "             Reference         Drive design       1   \n",
       "                               Rotor design       0   \n",
       "                               Tower design       2   \n",
       "\n",
       "                                                                                         Value  \\\n",
       "Technology   Scenario          Parameter                                                         \n",
       "Wind Turbine Casual Drive R&D  Drive design                         st.triang(0.5, 0.87, 0.03)   \n",
       "                               Rotor design                                                  0   \n",
       "                               Tower design                                                  1   \n",
       "             Casual Rotor R&D  Drive design                                                0.9   \n",
       "                               Rotor design                           st.triang(0.5, 0.0, 0.4)   \n",
       "                               Tower design                                                  1   \n",
       "             Casual Tower R&D  Drive design                                                0.9   \n",
       "                               Rotor design                                                  0   \n",
       "                               Tower design                           st.triang(0.5, 0.8, 0.2)   \n",
       "             Focused Drive R&D Drive design                         st.triang(0.5, 0.84, 0.06)   \n",
       "                               Rotor design                                                  0   \n",
       "                               Tower design                                                  1   \n",
       "             Focused Rotor R&D Drive design                                                0.9   \n",
       "                               Rotor design                           st.triang(0.5, 0.3, 0.4)   \n",
       "                               Tower design                                                  1   \n",
       "             Focused Tower R&D Drive design                                                0.9   \n",
       "                               Rotor design                                                  0   \n",
       "                               Tower design                           st.triang(0.5, 0.6, 0.4)   \n",
       "             Intense Drive R&D Drive design                         st.triang(0.5, 0.80, 0.10)   \n",
       "                               Rotor design                                                  0   \n",
       "                               Tower design                                                  1   \n",
       "             Intense Rotor R&D Drive design                                                0.9   \n",
       "                               Rotor design                           st.triang(0.5, 0.6, 0.4)   \n",
       "                               Tower design                                                  1   \n",
       "             Intense Tower R&D Drive design                                                0.9   \n",
       "                               Rotor design                                                  0   \n",
       "                               Tower design  mixture([0.7, 0.3], [st.triang(0.1, 0.5, 0.1),...   \n",
       "             Reference         Drive design                                                0.9   \n",
       "                               Rotor design                                                  0   \n",
       "                               Tower design                                                  1   \n",
       "\n",
       "                                            Units  Notes  \n",
       "Technology   Scenario          Parameter                  \n",
       "Wind Turbine Casual Drive R&D  Drive design     1  delta  \n",
       "                               Rotor design     1    rho  \n",
       "                               Tower design     1    tau  \n",
       "             Casual Rotor R&D  Drive design     1  delta  \n",
       "                               Rotor design     1    rho  \n",
       "                               Tower design     1    tau  \n",
       "             Casual Tower R&D  Drive design     1  delta  \n",
       "                               Rotor design     1    rho  \n",
       "                               Tower design     1    tau  \n",
       "             Focused Drive R&D Drive design     1  delta  \n",
       "                               Rotor design     1    rho  \n",
       "                               Tower design     1    tau  \n",
       "             Focused Rotor R&D Drive design     1  delta  \n",
       "                               Rotor design     1    rho  \n",
       "                               Tower design     1    tau  \n",
       "             Focused Tower R&D Drive design     1  delta  \n",
       "                               Rotor design     1    rho  \n",
       "                               Tower design     1    tau  \n",
       "             Intense Drive R&D Drive design     1  delta  \n",
       "                               Rotor design     1    rho  \n",
       "                               Tower design     1    tau  \n",
       "             Intense Rotor R&D Drive design     1  delta  \n",
       "                               Rotor design     1    rho  \n",
       "                               Tower design     1    tau  \n",
       "             Intense Tower R&D Drive design     1  delta  \n",
       "                               Rotor design     1    rho  \n",
       "                               Tower design     1    tau  \n",
       "             Reference         Drive design     1  delta  \n",
       "                               Rotor design     1    rho  \n",
       "                               Tower design     1    tau  "
      ]
     },
     "execution_count": 88,
     "metadata": {},
     "output_type": "execute_result"
    }
   ],
   "source": [
    "answers_designs.parameters.iloc[\n",
    "    answers_designs.parameters.index.get_level_values(2).isin(\n",
    "        [\"Rotor design\", \"Drive design\", \"Tower design\"]\n",
    "    )\n",
    "]"
   ]
  },
  {
   "cell_type": "markdown",
   "metadata": {},
   "source": [
    "### Simulating implications of expert elicitation."
   ]
  },
  {
   "cell_type": "code",
   "execution_count": 89,
   "metadata": {
    "scrolled": false
   },
   "outputs": [
    {
     "name": "stdout",
     "output_type": "stream",
     "text": [
      "Evaluating Wind Turbine\n"
     ]
    },
    {
     "data": {
      "text/html": [
       "<div>\n",
       "<style scoped>\n",
       "    .dataframe tbody tr th:only-of-type {\n",
       "        vertical-align: middle;\n",
       "    }\n",
       "\n",
       "    .dataframe tbody tr th {\n",
       "        vertical-align: top;\n",
       "    }\n",
       "\n",
       "    .dataframe thead th {\n",
       "        text-align: right;\n",
       "    }\n",
       "</style>\n",
       "<table border=\"1\" class=\"dataframe\">\n",
       "  <thead>\n",
       "    <tr style=\"text-align: right;\">\n",
       "      <th></th>\n",
       "      <th></th>\n",
       "      <th></th>\n",
       "      <th></th>\n",
       "      <th></th>\n",
       "      <th>Value</th>\n",
       "      <th>Units</th>\n",
       "    </tr>\n",
       "    <tr>\n",
       "      <th>Technology</th>\n",
       "      <th>Scenario</th>\n",
       "      <th>Sample</th>\n",
       "      <th>Variable</th>\n",
       "      <th>Index</th>\n",
       "      <th></th>\n",
       "      <th></th>\n",
       "    </tr>\n",
       "  </thead>\n",
       "  <tbody>\n",
       "    <tr>\n",
       "      <th rowspan=\"11\" valign=\"top\">Wind Turbine</th>\n",
       "      <th rowspan=\"5\" valign=\"top\">Casual Drive R&amp;D</th>\n",
       "      <th rowspan=\"5\" valign=\"top\">1</th>\n",
       "      <th>Cost</th>\n",
       "      <th>Cost</th>\n",
       "      <td>206044.032360</td>\n",
       "      <td>$/turbine</td>\n",
       "    </tr>\n",
       "    <tr>\n",
       "      <th rowspan=\"4\" valign=\"top\">Metric</th>\n",
       "      <th>AEP</th>\n",
       "      <td>4312.000000</td>\n",
       "      <td>MWh/turbine/year</td>\n",
       "    </tr>\n",
       "    <tr>\n",
       "      <th>CF</th>\n",
       "      <td>0.328200</td>\n",
       "      <td>%/100</td>\n",
       "    </tr>\n",
       "    <tr>\n",
       "      <th>Cost</th>\n",
       "      <td>206044.032360</td>\n",
       "      <td>$/turbine/year</td>\n",
       "    </tr>\n",
       "    <tr>\n",
       "      <th>LCOE</th>\n",
       "      <td>0.047784</td>\n",
       "      <td>$/kWh</td>\n",
       "    </tr>\n",
       "    <tr>\n",
       "      <th>...</th>\n",
       "      <th>...</th>\n",
       "      <th>...</th>\n",
       "      <th>...</th>\n",
       "      <td>...</td>\n",
       "      <td>...</td>\n",
       "    </tr>\n",
       "    <tr>\n",
       "      <th rowspan=\"5\" valign=\"top\">Reference</th>\n",
       "      <th rowspan=\"5\" valign=\"top\">1000</th>\n",
       "      <th rowspan=\"4\" valign=\"top\">Metric</th>\n",
       "      <th>AEP</th>\n",
       "      <td>4312.000000</td>\n",
       "      <td>MWh/turbine/year</td>\n",
       "    </tr>\n",
       "    <tr>\n",
       "      <th>CF</th>\n",
       "      <td>0.328200</td>\n",
       "      <td>%/100</td>\n",
       "    </tr>\n",
       "    <tr>\n",
       "      <th>Cost</th>\n",
       "      <td>213886.384948</td>\n",
       "      <td>$/turbine/year</td>\n",
       "    </tr>\n",
       "    <tr>\n",
       "      <th>LCOE</th>\n",
       "      <td>0.049603</td>\n",
       "      <td>$/kWh</td>\n",
       "    </tr>\n",
       "    <tr>\n",
       "      <th>Output</th>\n",
       "      <th>Electricity</th>\n",
       "      <td>4312.000000</td>\n",
       "      <td>kWh/turbine</td>\n",
       "    </tr>\n",
       "  </tbody>\n",
       "</table>\n",
       "<p>60000 rows × 2 columns</p>\n",
       "</div>"
      ],
      "text/plain": [
       "                                                                   Value  \\\n",
       "Technology   Scenario         Sample Variable Index                        \n",
       "Wind Turbine Casual Drive R&D 1      Cost     Cost         206044.032360   \n",
       "                                     Metric   AEP            4312.000000   \n",
       "                                              CF                0.328200   \n",
       "                                              Cost         206044.032360   \n",
       "                                              LCOE              0.047784   \n",
       "...                                                                  ...   \n",
       "             Reference        1000   Metric   AEP            4312.000000   \n",
       "                                              CF                0.328200   \n",
       "                                              Cost         213886.384948   \n",
       "                                              LCOE              0.049603   \n",
       "                                     Output   Electricity    4312.000000   \n",
       "\n",
       "                                                                      Units  \n",
       "Technology   Scenario         Sample Variable Index                          \n",
       "Wind Turbine Casual Drive R&D 1      Cost     Cost                $/turbine  \n",
       "                                     Metric   AEP          MWh/turbine/year  \n",
       "                                              CF                      %/100  \n",
       "                                              Cost           $/turbine/year  \n",
       "                                              LCOE                    $/kWh  \n",
       "...                                                                     ...  \n",
       "             Reference        1000   Metric   AEP          MWh/turbine/year  \n",
       "                                              CF                      %/100  \n",
       "                                              Cost           $/turbine/year  \n",
       "                                              LCOE                    $/kWh  \n",
       "                                     Output   Electricity       kWh/turbine  \n",
       "\n",
       "[60000 rows x 2 columns]"
      ]
     },
     "execution_count": 89,
     "metadata": {},
     "output_type": "execute_result"
    }
   ],
   "source": [
    "answers_experts = answers_designs.evaluate_scenarios(sample_count=1000)\n",
    "answers_experts"
   ]
  },
  {
   "cell_type": "markdown",
   "metadata": {},
   "source": [
    "Make violin plots showing the implications of the expert opinions"
   ]
  },
  {
   "cell_type": "code",
   "execution_count": 90,
   "metadata": {},
   "outputs": [
    {
     "data": {
      "image/png": "[encoded data removed]",
      "text/plain": [
       "<Figure size 432x288 with 1 Axes>"
      ]
     },
     "metadata": {
      "needs_background": "light"
     },
     "output_type": "display_data"
    }
   ],
   "source": [
    "sb.violinplot(\n",
    "    y = \"Scenario\",\n",
    "    x = \"Value\",\n",
    "    data = answers_experts.xs(\n",
    "        (\"Wind Turbine\", \"Metric\", \"LCOE\"),\n",
    "        level = (\"Technology\", \"Variable\", \"Index\")\n",
    "    ).reset_index()\n",
    ").set(xlabel = \"LCOE [%/kWh]\");"
   ]
  },
  {
   "cell_type": "markdown",
   "metadata": {},
   "source": [
    "## Analyzing investments."
   ]
  },
  {
   "cell_type": "markdown",
   "metadata": {},
   "source": [
    "### Base case."
   ]
  },
  {
   "cell_type": "markdown",
   "metadata": {},
   "source": [
    "#### Create the `tranches` table."
   ]
  },
  {
   "cell_type": "markdown",
   "metadata": {},
   "source": [
    "To get started, we just want to create on tranche and one category for the base case or reference scenario."
   ]
  },
  {
   "cell_type": "markdown",
   "metadata": {},
   "source": [
    "Edit the name of the reference case for your model in the comma-delimited-value file [tutorial/data/tranches.csv](data/)."
   ]
  },
  {
   "cell_type": "markdown",
   "metadata": {},
   "source": [
    "Check to see that the data file reads correctly:"
   ]
  },
  {
   "cell_type": "code",
   "execution_count": 91,
   "metadata": {
    "scrolled": true
   },
   "outputs": [
    {
     "data": {
      "text/html": [
       "<div>\n",
       "<style scoped>\n",
       "    .dataframe tbody tr th:only-of-type {\n",
       "        vertical-align: middle;\n",
       "    }\n",
       "\n",
       "    .dataframe tbody tr th {\n",
       "        vertical-align: top;\n",
       "    }\n",
       "\n",
       "    .dataframe thead th {\n",
       "        text-align: right;\n",
       "    }\n",
       "</style>\n",
       "<table border=\"1\" class=\"dataframe\">\n",
       "  <thead>\n",
       "    <tr style=\"text-align: right;\">\n",
       "      <th></th>\n",
       "      <th></th>\n",
       "      <th></th>\n",
       "      <th>Amount</th>\n",
       "      <th>Notes</th>\n",
       "    </tr>\n",
       "    <tr>\n",
       "      <th>Category</th>\n",
       "      <th>Tranche</th>\n",
       "      <th>Scenario</th>\n",
       "      <th></th>\n",
       "      <th></th>\n",
       "    </tr>\n",
       "  </thead>\n",
       "  <tbody>\n",
       "    <tr>\n",
       "      <th>Example Category</th>\n",
       "      <th>Example Tranche</th>\n",
       "      <th>Base Case</th>\n",
       "      <td>0.0</td>\n",
       "      <td></td>\n",
       "    </tr>\n",
       "  </tbody>\n",
       "</table>\n",
       "</div>"
      ],
      "text/plain": [
       "                                            Amount Notes\n",
       "Category         Tranche         Scenario               \n",
       "Example Category Example Tranche Base Case     0.0      "
      ]
     },
     "execution_count": 91,
     "metadata": {},
     "output_type": "execute_result"
    }
   ],
   "source": [
    "my_investments = ty.Investments(\"data\")\n",
    "my_investments.tranches"
   ]
  },
  {
   "cell_type": "markdown",
   "metadata": {},
   "source": [
    "Compare your `tranches` table to the following:"
   ]
  },
  {
   "cell_type": "code",
   "execution_count": 92,
   "metadata": {},
   "outputs": [
    {
     "data": {
      "text/html": [
       "<div>\n",
       "<style scoped>\n",
       "    .dataframe tbody tr th:only-of-type {\n",
       "        vertical-align: middle;\n",
       "    }\n",
       "\n",
       "    .dataframe tbody tr th {\n",
       "        vertical-align: top;\n",
       "    }\n",
       "\n",
       "    .dataframe thead th {\n",
       "        text-align: right;\n",
       "    }\n",
       "</style>\n",
       "<table border=\"1\" class=\"dataframe\">\n",
       "  <thead>\n",
       "    <tr style=\"text-align: right;\">\n",
       "      <th></th>\n",
       "      <th></th>\n",
       "      <th>Scenario</th>\n",
       "      <th>Amount</th>\n",
       "      <th>Notes</th>\n",
       "    </tr>\n",
       "    <tr>\n",
       "      <th>Category</th>\n",
       "      <th>Tranche</th>\n",
       "      <th></th>\n",
       "      <th></th>\n",
       "      <th></th>\n",
       "    </tr>\n",
       "  </thead>\n",
       "  <tbody>\n",
       "    <tr>\n",
       "      <th>Base Case</th>\n",
       "      <th>Business as Usual</th>\n",
       "      <td>Reference</td>\n",
       "      <td>0.0</td>\n",
       "      <td>base case</td>\n",
       "    </tr>\n",
       "  </tbody>\n",
       "</table>\n",
       "</div>"
      ],
      "text/plain": [
       "                              Scenario  Amount      Notes\n",
       "Category  Tranche                                        \n",
       "Base Case Business as Usual  Reference     0.0  base case"
      ]
     },
     "execution_count": 92,
     "metadata": {},
     "output_type": "execute_result"
    }
   ],
   "source": [
    "answers_investments = ty.Investments(\"answers\")\n",
    "answers_investments.tranches.xs(\n",
    "    \"Base Case\",\n",
    "    drop_level = False\n",
    ").reset_index(\n",
    ").sort_values(\n",
    "    [\"Category\", \"Amount\"]\n",
    ").set_index(\n",
    "    [\"Category\", \"Tranche\"]\n",
    ")"
   ]
  },
  {
   "cell_type": "markdown",
   "metadata": {},
   "source": [
    "### Create the `investments` table."
   ]
  },
  {
   "cell_type": "markdown",
   "metadata": {},
   "source": [
    "To get started, we just want to create one investment for the base case or reference scenario."
   ]
  },
  {
   "cell_type": "markdown",
   "metadata": {},
   "source": [
    "Edit the name of the reference case for your model in the comma-delimited-value file [tutorial/data/investments.csv](data/)."
   ]
  },
  {
   "cell_type": "markdown",
   "metadata": {},
   "source": [
    "Check to see that the data file reads correctly:"
   ]
  },
  {
   "cell_type": "code",
   "execution_count": 93,
   "metadata": {
    "scrolled": true
   },
   "outputs": [
    {
     "data": {
      "text/html": [
       "<div>\n",
       "<style scoped>\n",
       "    .dataframe tbody tr th:only-of-type {\n",
       "        vertical-align: middle;\n",
       "    }\n",
       "\n",
       "    .dataframe tbody tr th {\n",
       "        vertical-align: top;\n",
       "    }\n",
       "\n",
       "    .dataframe thead th {\n",
       "        text-align: right;\n",
       "    }\n",
       "</style>\n",
       "<table border=\"1\" class=\"dataframe\">\n",
       "  <thead>\n",
       "    <tr style=\"text-align: right;\">\n",
       "      <th></th>\n",
       "      <th></th>\n",
       "      <th></th>\n",
       "      <th>Notes</th>\n",
       "    </tr>\n",
       "    <tr>\n",
       "      <th>Investment</th>\n",
       "      <th>Category</th>\n",
       "      <th>Tranche</th>\n",
       "      <th></th>\n",
       "    </tr>\n",
       "  </thead>\n",
       "  <tbody>\n",
       "    <tr>\n",
       "      <th>Example Investment</th>\n",
       "      <th>Example Category</th>\n",
       "      <th>Example Tranche</th>\n",
       "      <td></td>\n",
       "    </tr>\n",
       "  </tbody>\n",
       "</table>\n",
       "</div>"
      ],
      "text/plain": [
       "                                                    Notes\n",
       "Investment         Category         Tranche              \n",
       "Example Investment Example Category Example Tranche      "
      ]
     },
     "execution_count": 93,
     "metadata": {},
     "output_type": "execute_result"
    }
   ],
   "source": [
    "my_investments = ty.Investments(\"data\")\n",
    "my_investments.investments"
   ]
  },
  {
   "cell_type": "markdown",
   "metadata": {},
   "source": [
    "Compare your `investments` table to the following:"
   ]
  },
  {
   "cell_type": "code",
   "execution_count": 94,
   "metadata": {},
   "outputs": [
    {
     "data": {
      "text/html": [
       "<div>\n",
       "<style scoped>\n",
       "    .dataframe tbody tr th:only-of-type {\n",
       "        vertical-align: middle;\n",
       "    }\n",
       "\n",
       "    .dataframe tbody tr th {\n",
       "        vertical-align: top;\n",
       "    }\n",
       "\n",
       "    .dataframe thead th {\n",
       "        text-align: right;\n",
       "    }\n",
       "</style>\n",
       "<table border=\"1\" class=\"dataframe\">\n",
       "  <thead>\n",
       "    <tr style=\"text-align: right;\">\n",
       "      <th></th>\n",
       "      <th></th>\n",
       "      <th></th>\n",
       "      <th>Notes</th>\n",
       "    </tr>\n",
       "    <tr>\n",
       "      <th>Investment</th>\n",
       "      <th>Category</th>\n",
       "      <th>Tranche</th>\n",
       "      <th></th>\n",
       "    </tr>\n",
       "  </thead>\n",
       "  <tbody>\n",
       "    <tr>\n",
       "      <th>No Investment</th>\n",
       "      <th>Base Case</th>\n",
       "      <th>Business as Usual</th>\n",
       "      <td></td>\n",
       "    </tr>\n",
       "  </tbody>\n",
       "</table>\n",
       "</div>"
      ],
      "text/plain": [
       "                                          Notes\n",
       "Investment    Category  Tranche                \n",
       "No Investment Base Case Business as Usual      "
      ]
     },
     "execution_count": 94,
     "metadata": {},
     "output_type": "execute_result"
    }
   ],
   "source": [
    "answers_investments = ty.Investments(\"answers\")\n",
    "answers_investments.investments"
   ]
  },
  {
   "cell_type": "markdown",
   "metadata": {},
   "source": [
    "### Simulate the base case or reference scenario."
   ]
  },
  {
   "cell_type": "markdown",
   "metadata": {},
   "source": [
    "#### Load the data."
   ]
  },
  {
   "cell_type": "code",
   "execution_count": 95,
   "metadata": {},
   "outputs": [],
   "source": [
    "answers_designs = ty.Designs(\"answers\")"
   ]
  },
  {
   "cell_type": "code",
   "execution_count": 96,
   "metadata": {},
   "outputs": [],
   "source": [
    "answers_investments = ty.Investments(\"answers\")"
   ]
  },
  {
   "cell_type": "markdown",
   "metadata": {},
   "source": [
    "#### Compile the production and metric functions for each technology in the dataset."
   ]
  },
  {
   "cell_type": "code",
   "execution_count": 97,
   "metadata": {},
   "outputs": [],
   "source": [
    "answers_designs.compile()"
   ]
  },
  {
   "cell_type": "markdown",
   "metadata": {},
   "source": [
    "#### Simulate the base case."
   ]
  },
  {
   "cell_type": "code",
   "execution_count": 98,
   "metadata": {},
   "outputs": [
    {
     "name": "stdout",
     "output_type": "stream",
     "text": [
      "Evaluating Wind Turbine\n"
     ]
    }
   ],
   "source": [
    "answers_investment_results = answers_investments.evaluate_investments(answers_designs, sample_count=1000)"
   ]
  },
  {
   "cell_type": "markdown",
   "metadata": {},
   "source": [
    "Here are the metrics for the base case:"
   ]
  },
  {
   "cell_type": "code",
   "execution_count": 99,
   "metadata": {},
   "outputs": [
    {
     "data": {
      "text/html": [
       "<div>\n",
       "<style scoped>\n",
       "    .dataframe tbody tr th:only-of-type {\n",
       "        vertical-align: middle;\n",
       "    }\n",
       "\n",
       "    .dataframe tbody tr th {\n",
       "        vertical-align: top;\n",
       "    }\n",
       "\n",
       "    .dataframe thead th {\n",
       "        text-align: right;\n",
       "    }\n",
       "</style>\n",
       "<table border=\"1\" class=\"dataframe\">\n",
       "  <thead>\n",
       "    <tr style=\"text-align: right;\">\n",
       "      <th></th>\n",
       "      <th></th>\n",
       "      <th></th>\n",
       "      <th></th>\n",
       "      <th>Value</th>\n",
       "      <th>Units</th>\n",
       "    </tr>\n",
       "    <tr>\n",
       "      <th>Investment</th>\n",
       "      <th>Technology</th>\n",
       "      <th>Sample</th>\n",
       "      <th>Index</th>\n",
       "      <th></th>\n",
       "      <th></th>\n",
       "    </tr>\n",
       "  </thead>\n",
       "  <tbody>\n",
       "    <tr>\n",
       "      <th rowspan=\"11\" valign=\"top\">No Investment</th>\n",
       "      <th rowspan=\"11\" valign=\"top\">Wind Turbine</th>\n",
       "      <th rowspan=\"4\" valign=\"top\">1</th>\n",
       "      <th>AEP</th>\n",
       "      <td>4312.000000</td>\n",
       "      <td>MWh/turbine/year</td>\n",
       "    </tr>\n",
       "    <tr>\n",
       "      <th>CF</th>\n",
       "      <td>0.328200</td>\n",
       "      <td>%/100</td>\n",
       "    </tr>\n",
       "    <tr>\n",
       "      <th>Cost</th>\n",
       "      <td>205653.350406</td>\n",
       "      <td>$/turbine/year</td>\n",
       "    </tr>\n",
       "    <tr>\n",
       "      <th>LCOE</th>\n",
       "      <td>0.047693</td>\n",
       "      <td>$/kWh</td>\n",
       "    </tr>\n",
       "    <tr>\n",
       "      <th>2</th>\n",
       "      <th>AEP</th>\n",
       "      <td>4312.000000</td>\n",
       "      <td>MWh/turbine/year</td>\n",
       "    </tr>\n",
       "    <tr>\n",
       "      <th>...</th>\n",
       "      <th>...</th>\n",
       "      <td>...</td>\n",
       "      <td>...</td>\n",
       "    </tr>\n",
       "    <tr>\n",
       "      <th>999</th>\n",
       "      <th>LCOE</th>\n",
       "      <td>0.047489</td>\n",
       "      <td>$/kWh</td>\n",
       "    </tr>\n",
       "    <tr>\n",
       "      <th rowspan=\"4\" valign=\"top\">1000</th>\n",
       "      <th>AEP</th>\n",
       "      <td>4312.000000</td>\n",
       "      <td>MWh/turbine/year</td>\n",
       "    </tr>\n",
       "    <tr>\n",
       "      <th>CF</th>\n",
       "      <td>0.328200</td>\n",
       "      <td>%/100</td>\n",
       "    </tr>\n",
       "    <tr>\n",
       "      <th>Cost</th>\n",
       "      <td>208651.756601</td>\n",
       "      <td>$/turbine/year</td>\n",
       "    </tr>\n",
       "    <tr>\n",
       "      <th>LCOE</th>\n",
       "      <td>0.048389</td>\n",
       "      <td>$/kWh</td>\n",
       "    </tr>\n",
       "  </tbody>\n",
       "</table>\n",
       "<p>4000 rows × 2 columns</p>\n",
       "</div>"
      ],
      "text/plain": [
       "                                                 Value             Units\n",
       "Investment    Technology   Sample Index                                 \n",
       "No Investment Wind Turbine 1      AEP      4312.000000  MWh/turbine/year\n",
       "                                  CF          0.328200             %/100\n",
       "                                  Cost   205653.350406    $/turbine/year\n",
       "                                  LCOE        0.047693             $/kWh\n",
       "                           2      AEP      4312.000000  MWh/turbine/year\n",
       "...                                                ...               ...\n",
       "                           999    LCOE        0.047489             $/kWh\n",
       "                           1000   AEP      4312.000000  MWh/turbine/year\n",
       "                                  CF          0.328200             %/100\n",
       "                                  Cost   208651.756601    $/turbine/year\n",
       "                                  LCOE        0.048389             $/kWh\n",
       "\n",
       "[4000 rows x 2 columns]"
      ]
     },
     "execution_count": 99,
     "metadata": {},
     "output_type": "execute_result"
    }
   ],
   "source": [
    "answers_investment_results.summary"
   ]
  },
  {
   "cell_type": "markdown",
   "metadata": {},
   "source": [
    "Here is the cost for the base case:"
   ]
  },
  {
   "cell_type": "code",
   "execution_count": 100,
   "metadata": {},
   "outputs": [
    {
     "data": {
      "text/html": [
       "<div>\n",
       "<style scoped>\n",
       "    .dataframe tbody tr th:only-of-type {\n",
       "        vertical-align: middle;\n",
       "    }\n",
       "\n",
       "    .dataframe tbody tr th {\n",
       "        vertical-align: top;\n",
       "    }\n",
       "\n",
       "    .dataframe thead th {\n",
       "        text-align: right;\n",
       "    }\n",
       "</style>\n",
       "<table border=\"1\" class=\"dataframe\">\n",
       "  <thead>\n",
       "    <tr style=\"text-align: right;\">\n",
       "      <th></th>\n",
       "      <th>Amount</th>\n",
       "    </tr>\n",
       "    <tr>\n",
       "      <th>Investment</th>\n",
       "      <th></th>\n",
       "    </tr>\n",
       "  </thead>\n",
       "  <tbody>\n",
       "    <tr>\n",
       "      <th>No Investment</th>\n",
       "      <td>0.0</td>\n",
       "    </tr>\n",
       "  </tbody>\n",
       "</table>\n",
       "</div>"
      ],
      "text/plain": [
       "               Amount\n",
       "Investment           \n",
       "No Investment     0.0"
      ]
     },
     "execution_count": 100,
     "metadata": {},
     "output_type": "execute_result"
    }
   ],
   "source": [
    "answers_investment_results.amounts"
   ]
  },
  {
   "cell_type": "markdown",
   "metadata": {},
   "source": [
    "### Investment cases."
   ]
  },
  {
   "cell_type": "markdown",
   "metadata": {},
   "source": [
    "Now we create investment cases corresponding to the scenarios that were the focus of the expert elicitation:"
   ]
  },
  {
   "cell_type": "code",
   "execution_count": 101,
   "metadata": {},
   "outputs": [
    {
     "data": {
      "text/html": [
       "<div>\n",
       "<style scoped>\n",
       "    .dataframe tbody tr th:only-of-type {\n",
       "        vertical-align: middle;\n",
       "    }\n",
       "\n",
       "    .dataframe tbody tr th {\n",
       "        vertical-align: top;\n",
       "    }\n",
       "\n",
       "    .dataframe thead th {\n",
       "        text-align: right;\n",
       "    }\n",
       "</style>\n",
       "<table border=\"1\" class=\"dataframe\">\n",
       "  <thead>\n",
       "    <tr style=\"text-align: right;\">\n",
       "      <th></th>\n",
       "      <th></th>\n",
       "      <th></th>\n",
       "      <th>Amount</th>\n",
       "      <th>Notes</th>\n",
       "    </tr>\n",
       "    <tr>\n",
       "      <th>Category</th>\n",
       "      <th>Tranche</th>\n",
       "      <th>Scenario</th>\n",
       "      <th></th>\n",
       "      <th></th>\n",
       "    </tr>\n",
       "  </thead>\n",
       "  <tbody>\n",
       "    <tr>\n",
       "      <th>Base Case</th>\n",
       "      <th>Business as Usual</th>\n",
       "      <th>Reference</th>\n",
       "      <td>0.0</td>\n",
       "      <td>base case</td>\n",
       "    </tr>\n",
       "    <tr>\n",
       "      <th rowspan=\"4\" valign=\"top\">Drive Investment Only</th>\n",
       "      <th>Large Investment in Drive R&amp;D</th>\n",
       "      <th>Intense Drive R&amp;D</th>\n",
       "      <td>7000000.0</td>\n",
       "      <td></td>\n",
       "    </tr>\n",
       "    <tr>\n",
       "      <th>Medium Investment in Drive R&amp;D</th>\n",
       "      <th>Focused Drive R&amp;D</th>\n",
       "      <td>3000000.0</td>\n",
       "      <td></td>\n",
       "    </tr>\n",
       "    <tr>\n",
       "      <th>No Drive Investment</th>\n",
       "      <th>Reference</th>\n",
       "      <td>0.0</td>\n",
       "      <td></td>\n",
       "    </tr>\n",
       "    <tr>\n",
       "      <th>Small Investment in Drive R&amp;D</th>\n",
       "      <th>Casual Drive R&amp;D</th>\n",
       "      <td>2000000.0</td>\n",
       "      <td></td>\n",
       "    </tr>\n",
       "    <tr>\n",
       "      <th rowspan=\"4\" valign=\"top\">Rotor Investment Only</th>\n",
       "      <th>Large Investment in Rotor R&amp;D</th>\n",
       "      <th>Intense Rotor R&amp;D</th>\n",
       "      <td>9000000.0</td>\n",
       "      <td></td>\n",
       "    </tr>\n",
       "    <tr>\n",
       "      <th>Medium Investment in Rotor R&amp;D</th>\n",
       "      <th>Focused Rotor R&amp;D</th>\n",
       "      <td>3000000.0</td>\n",
       "      <td></td>\n",
       "    </tr>\n",
       "    <tr>\n",
       "      <th>No Rotor Investment</th>\n",
       "      <th>Reference</th>\n",
       "      <td>0.0</td>\n",
       "      <td></td>\n",
       "    </tr>\n",
       "    <tr>\n",
       "      <th>Small Investment in Rotor R&amp;D</th>\n",
       "      <th>Casual Rotor R&amp;D</th>\n",
       "      <td>1000000.0</td>\n",
       "      <td></td>\n",
       "    </tr>\n",
       "    <tr>\n",
       "      <th rowspan=\"4\" valign=\"top\">Tower Investment Only</th>\n",
       "      <th>Large Investment in Tower R&amp;D</th>\n",
       "      <th>Intense Tower R&amp;D</th>\n",
       "      <td>6000000.0</td>\n",
       "      <td></td>\n",
       "    </tr>\n",
       "    <tr>\n",
       "      <th>Medium Investment in Tower R&amp;D</th>\n",
       "      <th>Focused Tower R&amp;D</th>\n",
       "      <td>4000000.0</td>\n",
       "      <td></td>\n",
       "    </tr>\n",
       "    <tr>\n",
       "      <th>No Tower Investment</th>\n",
       "      <th>Reference</th>\n",
       "      <td>0.0</td>\n",
       "      <td></td>\n",
       "    </tr>\n",
       "    <tr>\n",
       "      <th>Small Investment in Tower R&amp;D</th>\n",
       "      <th>Casual Tower R&amp;D</th>\n",
       "      <td>2000000.0</td>\n",
       "      <td></td>\n",
       "    </tr>\n",
       "  </tbody>\n",
       "</table>\n",
       "</div>"
      ],
      "text/plain": [
       "                                                                           Amount  \\\n",
       "Category              Tranche                        Scenario                       \n",
       "Base Case             Business as Usual              Reference                0.0   \n",
       "Drive Investment Only Large Investment in Drive R&D  Intense Drive R&D  7000000.0   \n",
       "                      Medium Investment in Drive R&D Focused Drive R&D  3000000.0   \n",
       "                      No Drive Investment            Reference                0.0   \n",
       "                      Small Investment in Drive R&D  Casual Drive R&D   2000000.0   \n",
       "Rotor Investment Only Large Investment in Rotor R&D  Intense Rotor R&D  9000000.0   \n",
       "                      Medium Investment in Rotor R&D Focused Rotor R&D  3000000.0   \n",
       "                      No Rotor Investment            Reference                0.0   \n",
       "                      Small Investment in Rotor R&D  Casual Rotor R&D   1000000.0   \n",
       "Tower Investment Only Large Investment in Tower R&D  Intense Tower R&D  6000000.0   \n",
       "                      Medium Investment in Tower R&D Focused Tower R&D  4000000.0   \n",
       "                      No Tower Investment            Reference                0.0   \n",
       "                      Small Investment in Tower R&D  Casual Tower R&D   2000000.0   \n",
       "\n",
       "                                                                            Notes  \n",
       "Category              Tranche                        Scenario                      \n",
       "Base Case             Business as Usual              Reference          base case  \n",
       "Drive Investment Only Large Investment in Drive R&D  Intense Drive R&D             \n",
       "                      Medium Investment in Drive R&D Focused Drive R&D             \n",
       "                      No Drive Investment            Reference                     \n",
       "                      Small Investment in Drive R&D  Casual Drive R&D              \n",
       "Rotor Investment Only Large Investment in Rotor R&D  Intense Rotor R&D             \n",
       "                      Medium Investment in Rotor R&D Focused Rotor R&D             \n",
       "                      No Rotor Investment            Reference                     \n",
       "                      Small Investment in Rotor R&D  Casual Rotor R&D              \n",
       "Tower Investment Only Large Investment in Tower R&D  Intense Tower R&D             \n",
       "                      Medium Investment in Tower R&D Focused Tower R&D             \n",
       "                      No Tower Investment            Reference                     \n",
       "                      Small Investment in Tower R&D  Casual Tower R&D              "
      ]
     },
     "execution_count": 101,
     "metadata": {},
     "output_type": "execute_result"
    }
   ],
   "source": [
    "answers_investments.tranches"
   ]
  },
  {
   "cell_type": "markdown",
   "metadata": {},
   "source": [
    "#### Compute costs and metrics for tranches."
   ]
  },
  {
   "cell_type": "markdown",
   "metadata": {},
   "source": [
    "Tranches are atomic units for building investment portfolios. Evaluate all of the tranches, so we can assemble them into investments (portfolios)."
   ]
  },
  {
   "cell_type": "code",
   "execution_count": 102,
   "metadata": {},
   "outputs": [
    {
     "name": "stdout",
     "output_type": "stream",
     "text": [
      "Evaluating Wind Turbine\n"
     ]
    }
   ],
   "source": [
    "tranche_results = answers_investments.evaluate_tranches(answers_designs, sample_count=1000)"
   ]
  },
  {
   "cell_type": "markdown",
   "metadata": {},
   "source": [
    "The tranche amounts are simple how much each tranche costs."
   ]
  },
  {
   "cell_type": "code",
   "execution_count": 103,
   "metadata": {},
   "outputs": [
    {
     "data": {
      "text/html": [
       "<div>\n",
       "<style scoped>\n",
       "    .dataframe tbody tr th:only-of-type {\n",
       "        vertical-align: middle;\n",
       "    }\n",
       "\n",
       "    .dataframe tbody tr th {\n",
       "        vertical-align: top;\n",
       "    }\n",
       "\n",
       "    .dataframe thead th {\n",
       "        text-align: right;\n",
       "    }\n",
       "</style>\n",
       "<table border=\"1\" class=\"dataframe\">\n",
       "  <thead>\n",
       "    <tr style=\"text-align: right;\">\n",
       "      <th></th>\n",
       "      <th></th>\n",
       "      <th>Amount</th>\n",
       "    </tr>\n",
       "    <tr>\n",
       "      <th>Category</th>\n",
       "      <th>Tranche</th>\n",
       "      <th></th>\n",
       "    </tr>\n",
       "  </thead>\n",
       "  <tbody>\n",
       "    <tr>\n",
       "      <th>Base Case</th>\n",
       "      <th>Business as Usual</th>\n",
       "      <td>0.0</td>\n",
       "    </tr>\n",
       "    <tr>\n",
       "      <th rowspan=\"4\" valign=\"top\">Drive Investment Only</th>\n",
       "      <th>No Drive Investment</th>\n",
       "      <td>0.0</td>\n",
       "    </tr>\n",
       "    <tr>\n",
       "      <th>Small Investment in Drive R&amp;D</th>\n",
       "      <td>2000000.0</td>\n",
       "    </tr>\n",
       "    <tr>\n",
       "      <th>Medium Investment in Drive R&amp;D</th>\n",
       "      <td>3000000.0</td>\n",
       "    </tr>\n",
       "    <tr>\n",
       "      <th>Large Investment in Drive R&amp;D</th>\n",
       "      <td>7000000.0</td>\n",
       "    </tr>\n",
       "    <tr>\n",
       "      <th rowspan=\"4\" valign=\"top\">Rotor Investment Only</th>\n",
       "      <th>No Rotor Investment</th>\n",
       "      <td>0.0</td>\n",
       "    </tr>\n",
       "    <tr>\n",
       "      <th>Small Investment in Rotor R&amp;D</th>\n",
       "      <td>1000000.0</td>\n",
       "    </tr>\n",
       "    <tr>\n",
       "      <th>Medium Investment in Rotor R&amp;D</th>\n",
       "      <td>3000000.0</td>\n",
       "    </tr>\n",
       "    <tr>\n",
       "      <th>Large Investment in Rotor R&amp;D</th>\n",
       "      <td>9000000.0</td>\n",
       "    </tr>\n",
       "    <tr>\n",
       "      <th rowspan=\"4\" valign=\"top\">Tower Investment Only</th>\n",
       "      <th>No Tower Investment</th>\n",
       "      <td>0.0</td>\n",
       "    </tr>\n",
       "    <tr>\n",
       "      <th>Small Investment in Tower R&amp;D</th>\n",
       "      <td>2000000.0</td>\n",
       "    </tr>\n",
       "    <tr>\n",
       "      <th>Medium Investment in Tower R&amp;D</th>\n",
       "      <td>4000000.0</td>\n",
       "    </tr>\n",
       "    <tr>\n",
       "      <th>Large Investment in Tower R&amp;D</th>\n",
       "      <td>6000000.0</td>\n",
       "    </tr>\n",
       "  </tbody>\n",
       "</table>\n",
       "</div>"
      ],
      "text/plain": [
       "                                                         Amount\n",
       "Category              Tranche                                  \n",
       "Base Case             Business as Usual                     0.0\n",
       "Drive Investment Only No Drive Investment                   0.0\n",
       "                      Small Investment in Drive R&D   2000000.0\n",
       "                      Medium Investment in Drive R&D  3000000.0\n",
       "                      Large Investment in Drive R&D   7000000.0\n",
       "Rotor Investment Only No Rotor Investment                   0.0\n",
       "                      Small Investment in Rotor R&D   1000000.0\n",
       "                      Medium Investment in Rotor R&D  3000000.0\n",
       "                      Large Investment in Rotor R&D   9000000.0\n",
       "Tower Investment Only No Tower Investment                   0.0\n",
       "                      Small Investment in Tower R&D   2000000.0\n",
       "                      Medium Investment in Tower R&D  4000000.0\n",
       "                      Large Investment in Tower R&D   6000000.0"
      ]
     },
     "execution_count": 103,
     "metadata": {},
     "output_type": "execute_result"
    }
   ],
   "source": [
    "tranche_results.amounts.reset_index().sort_values([\"Category\", \"Amount\"]).set_index([\"Category\", \"Tranche\"])"
   ]
  },
  {
   "cell_type": "markdown",
   "metadata": {},
   "source": [
    "The tranch metrics show the values of each metric for each member of the ensemble of simulations."
   ]
  },
  {
   "cell_type": "code",
   "execution_count": 104,
   "metadata": {},
   "outputs": [
    {
     "data": {
      "text/html": [
       "<div>\n",
       "<style scoped>\n",
       "    .dataframe tbody tr th:only-of-type {\n",
       "        vertical-align: middle;\n",
       "    }\n",
       "\n",
       "    .dataframe tbody tr th {\n",
       "        vertical-align: top;\n",
       "    }\n",
       "\n",
       "    .dataframe thead th {\n",
       "        text-align: right;\n",
       "    }\n",
       "</style>\n",
       "<table border=\"1\" class=\"dataframe\">\n",
       "  <thead>\n",
       "    <tr style=\"text-align: right;\">\n",
       "      <th></th>\n",
       "      <th></th>\n",
       "      <th></th>\n",
       "      <th></th>\n",
       "      <th></th>\n",
       "      <th></th>\n",
       "      <th>Value</th>\n",
       "      <th>Units</th>\n",
       "    </tr>\n",
       "    <tr>\n",
       "      <th>Category</th>\n",
       "      <th>Tranche</th>\n",
       "      <th>Scenario</th>\n",
       "      <th>Sample</th>\n",
       "      <th>Technology</th>\n",
       "      <th>Index</th>\n",
       "      <th></th>\n",
       "      <th></th>\n",
       "    </tr>\n",
       "  </thead>\n",
       "  <tbody>\n",
       "    <tr>\n",
       "      <th rowspan=\"5\" valign=\"top\">Drive Investment Only</th>\n",
       "      <th rowspan=\"5\" valign=\"top\">Small Investment in Drive R&amp;D</th>\n",
       "      <th rowspan=\"5\" valign=\"top\">Casual Drive R&amp;D</th>\n",
       "      <th rowspan=\"4\" valign=\"top\">1</th>\n",
       "      <th rowspan=\"4\" valign=\"top\">Wind Turbine</th>\n",
       "      <th>AEP</th>\n",
       "      <td>4312.000000</td>\n",
       "      <td>MWh/turbine/year</td>\n",
       "    </tr>\n",
       "    <tr>\n",
       "      <th>CF</th>\n",
       "      <td>0.328200</td>\n",
       "      <td>%/100</td>\n",
       "    </tr>\n",
       "    <tr>\n",
       "      <th>Cost</th>\n",
       "      <td>205148.763469</td>\n",
       "      <td>$/turbine/year</td>\n",
       "    </tr>\n",
       "    <tr>\n",
       "      <th>LCOE</th>\n",
       "      <td>0.047576</td>\n",
       "      <td>$/kWh</td>\n",
       "    </tr>\n",
       "    <tr>\n",
       "      <th>2</th>\n",
       "      <th>Wind Turbine</th>\n",
       "      <th>AEP</th>\n",
       "      <td>4312.000000</td>\n",
       "      <td>MWh/turbine/year</td>\n",
       "    </tr>\n",
       "    <tr>\n",
       "      <th>...</th>\n",
       "      <th>...</th>\n",
       "      <th>...</th>\n",
       "      <th>...</th>\n",
       "      <th>...</th>\n",
       "      <th>...</th>\n",
       "      <td>...</td>\n",
       "      <td>...</td>\n",
       "    </tr>\n",
       "    <tr>\n",
       "      <th rowspan=\"5\" valign=\"top\">Tower Investment Only</th>\n",
       "      <th rowspan=\"5\" valign=\"top\">No Tower Investment</th>\n",
       "      <th rowspan=\"5\" valign=\"top\">Reference</th>\n",
       "      <th>999</th>\n",
       "      <th>Wind Turbine</th>\n",
       "      <th>LCOE</th>\n",
       "      <td>0.049303</td>\n",
       "      <td>$/kWh</td>\n",
       "    </tr>\n",
       "    <tr>\n",
       "      <th rowspan=\"4\" valign=\"top\">1000</th>\n",
       "      <th rowspan=\"4\" valign=\"top\">Wind Turbine</th>\n",
       "      <th>AEP</th>\n",
       "      <td>4312.000000</td>\n",
       "      <td>MWh/turbine/year</td>\n",
       "    </tr>\n",
       "    <tr>\n",
       "      <th>CF</th>\n",
       "      <td>0.328200</td>\n",
       "      <td>%/100</td>\n",
       "    </tr>\n",
       "    <tr>\n",
       "      <th>Cost</th>\n",
       "      <td>210965.660850</td>\n",
       "      <td>$/turbine/year</td>\n",
       "    </tr>\n",
       "    <tr>\n",
       "      <th>LCOE</th>\n",
       "      <td>0.048925</td>\n",
       "      <td>$/kWh</td>\n",
       "    </tr>\n",
       "  </tbody>\n",
       "</table>\n",
       "<p>52000 rows × 2 columns</p>\n",
       "</div>"
      ],
      "text/plain": [
       "                                                                                                        Value  \\\n",
       "Category              Tranche                       Scenario         Sample Technology   Index                  \n",
       "Drive Investment Only Small Investment in Drive R&D Casual Drive R&D 1      Wind Turbine AEP      4312.000000   \n",
       "                                                                                         CF          0.328200   \n",
       "                                                                                         Cost   205148.763469   \n",
       "                                                                                         LCOE        0.047576   \n",
       "                                                                     2      Wind Turbine AEP      4312.000000   \n",
       "...                                                                                                       ...   \n",
       "Tower Investment Only No Tower Investment           Reference        999    Wind Turbine LCOE        0.049303   \n",
       "                                                                     1000   Wind Turbine AEP      4312.000000   \n",
       "                                                                                         CF          0.328200   \n",
       "                                                                                         Cost   210965.660850   \n",
       "                                                                                         LCOE        0.048925   \n",
       "\n",
       "                                                                                                           Units  \n",
       "Category              Tranche                       Scenario         Sample Technology   Index                    \n",
       "Drive Investment Only Small Investment in Drive R&D Casual Drive R&D 1      Wind Turbine AEP    MWh/turbine/year  \n",
       "                                                                                         CF                %/100  \n",
       "                                                                                         Cost     $/turbine/year  \n",
       "                                                                                         LCOE              $/kWh  \n",
       "                                                                     2      Wind Turbine AEP    MWh/turbine/year  \n",
       "...                                                                                                          ...  \n",
       "Tower Investment Only No Tower Investment           Reference        999    Wind Turbine LCOE              $/kWh  \n",
       "                                                                     1000   Wind Turbine AEP    MWh/turbine/year  \n",
       "                                                                                         CF                %/100  \n",
       "                                                                                         Cost     $/turbine/year  \n",
       "                                                                                         LCOE              $/kWh  \n",
       "\n",
       "[52000 rows x 2 columns]"
      ]
     },
     "execution_count": 104,
     "metadata": {},
     "output_type": "execute_result"
    }
   ],
   "source": [
    "tranche_results.metrics"
   ]
  },
  {
   "cell_type": "markdown",
   "metadata": {},
   "source": [
    "#### Prepare results for optimization."
   ]
  },
  {
   "cell_type": "markdown",
   "metadata": {},
   "source": [
    "The following will be automated, so we won't go into details here."
   ]
  },
  {
   "cell_type": "code",
   "execution_count": 105,
   "metadata": {},
   "outputs": [],
   "source": [
    "z = tranche_results.summary.xs(\"LCOE\", level = \"Index\", drop_level = False)\n",
    "z_reference = np.mean(z.xs(\"Base Case\")[\"Value\"])\n",
    "z = z[z.index.get_level_values(0) != \"Base Case\"]"
   ]
  },
  {
   "cell_type": "markdown",
   "metadata": {},
   "source": [
    "#### The `Evaluator` object provides convenient access to the simulation results."
   ]
  },
  {
   "cell_type": "code",
   "execution_count": 106,
   "metadata": {},
   "outputs": [],
   "source": [
    "evaluator = ty.Evaluator(\n",
    "    answers_investments.tranches[\n",
    "        answers_investments.tranches.index.get_level_values(0) != \"Base Case\"\n",
    "    ],\n",
    "    z\n",
    ")"
   ]
  },
  {
   "cell_type": "markdown",
   "metadata": {},
   "source": [
    "#### Query the maximum investments possible in each category."
   ]
  },
  {
   "cell_type": "code",
   "execution_count": 107,
   "metadata": {},
   "outputs": [
    {
     "data": {
      "text/html": [
       "<div>\n",
       "<style scoped>\n",
       "    .dataframe tbody tr th:only-of-type {\n",
       "        vertical-align: middle;\n",
       "    }\n",
       "\n",
       "    .dataframe tbody tr th {\n",
       "        vertical-align: top;\n",
       "    }\n",
       "\n",
       "    .dataframe thead th {\n",
       "        text-align: right;\n",
       "    }\n",
       "</style>\n",
       "<table border=\"1\" class=\"dataframe\">\n",
       "  <thead>\n",
       "    <tr style=\"text-align: right;\">\n",
       "      <th></th>\n",
       "      <th>Amount</th>\n",
       "    </tr>\n",
       "    <tr>\n",
       "      <th>Category</th>\n",
       "      <th></th>\n",
       "    </tr>\n",
       "  </thead>\n",
       "  <tbody>\n",
       "    <tr>\n",
       "      <th>Drive Investment Only</th>\n",
       "      <td>7000000.0</td>\n",
       "    </tr>\n",
       "    <tr>\n",
       "      <th>Rotor Investment Only</th>\n",
       "      <td>9000000.0</td>\n",
       "    </tr>\n",
       "    <tr>\n",
       "      <th>Tower Investment Only</th>\n",
       "      <td>6000000.0</td>\n",
       "    </tr>\n",
       "  </tbody>\n",
       "</table>\n",
       "</div>"
      ],
      "text/plain": [
       "                          Amount\n",
       "Category                        \n",
       "Drive Investment Only  7000000.0\n",
       "Rotor Investment Only  9000000.0\n",
       "Tower Investment Only  6000000.0"
      ]
     },
     "execution_count": 107,
     "metadata": {},
     "output_type": "execute_result"
    }
   ],
   "source": [
    "evaluator.max_amount"
   ]
  },
  {
   "cell_type": "markdown",
   "metadata": {},
   "source": [
    "Query the units of measure for each metric."
   ]
  },
  {
   "cell_type": "code",
   "execution_count": 108,
   "metadata": {},
   "outputs": [
    {
     "data": {
      "text/html": [
       "<div>\n",
       "<style scoped>\n",
       "    .dataframe tbody tr th:only-of-type {\n",
       "        vertical-align: middle;\n",
       "    }\n",
       "\n",
       "    .dataframe tbody tr th {\n",
       "        vertical-align: top;\n",
       "    }\n",
       "\n",
       "    .dataframe thead th {\n",
       "        text-align: right;\n",
       "    }\n",
       "</style>\n",
       "<table border=\"1\" class=\"dataframe\">\n",
       "  <thead>\n",
       "    <tr style=\"text-align: right;\">\n",
       "      <th></th>\n",
       "      <th>Units</th>\n",
       "    </tr>\n",
       "    <tr>\n",
       "      <th>Index</th>\n",
       "      <th></th>\n",
       "    </tr>\n",
       "  </thead>\n",
       "  <tbody>\n",
       "    <tr>\n",
       "      <th>LCOE</th>\n",
       "      <td>$/kWh</td>\n",
       "    </tr>\n",
       "  </tbody>\n",
       "</table>\n",
       "</div>"
      ],
      "text/plain": [
       "       Units\n",
       "Index       \n",
       "LCOE   $/kWh"
      ]
     },
     "execution_count": 108,
     "metadata": {},
     "output_type": "execute_result"
    }
   ],
   "source": [
    "evaluator.units"
   ]
  },
  {
   "cell_type": "markdown",
   "metadata": {},
   "source": [
    "#### Create the optimizer."
   ]
  },
  {
   "cell_type": "code",
   "execution_count": 109,
   "metadata": {},
   "outputs": [],
   "source": [
    "optimizer = ty.EpsilonConstraintOptimizer(evaluator)"
   ]
  },
  {
   "cell_type": "markdown",
   "metadata": {},
   "source": [
    "#### Query the optimum values attainable for each metric.\n",
    "\n",
    "Because we are using levelized cost of electricity, the optimum value will be the minimum."
   ]
  },
  {
   "cell_type": "code",
   "execution_count": 110,
   "metadata": {},
   "outputs": [
    {
     "data": {
      "text/plain": [
       "LCOE    0.137083\n",
       "Name: Value, dtype: float64"
      ]
     },
     "execution_count": 110,
     "metadata": {},
     "output_type": "execute_result"
    }
   ],
   "source": [
    "metric_max = optimizer.optimum_metrics(sense='min')\n",
    "metric_max"
   ]
  },
  {
   "cell_type": "markdown",
   "metadata": {},
   "source": [
    "#### Find the lowest LCOE if only \\$5M can be spent."
   ]
  },
  {
   "cell_type": "code",
   "execution_count": 111,
   "metadata": {},
   "outputs": [
    {
     "data": {
      "text/plain": [
       "'Optimization terminated successfully'"
      ]
     },
     "execution_count": 111,
     "metadata": {},
     "output_type": "execute_result"
    }
   ],
   "source": [
    "w = optimizer.opt_slsqp(\n",
    "    \"LCOE\",\n",
    "    sense='min',\n",
    "    total_amount = 5000000,\n",
    ")\n",
    "w[1]"
   ]
  },
  {
   "cell_type": "markdown",
   "metadata": {},
   "source": [
    "Investment amounts"
   ]
  },
  {
   "cell_type": "code",
   "execution_count": 112,
   "metadata": {},
   "outputs": [
    {
     "data": {
      "text/plain": [
       "Category\n",
       "Drive Investment Only    3.000058e+06\n",
       "Rotor Investment Only    0.000000e+00\n",
       "Tower Investment Only    1.999942e+06\n",
       "Name: Amount, dtype: float64"
      ]
     },
     "execution_count": 112,
     "metadata": {},
     "output_type": "execute_result"
    }
   ],
   "source": [
    "w[2]"
   ]
  },
  {
   "cell_type": "markdown",
   "metadata": {},
   "source": [
    "Reduction in metric relative to the base case metric value."
   ]
  },
  {
   "cell_type": "code",
   "execution_count": 113,
   "metadata": {},
   "outputs": [
    {
     "data": {
      "text/plain": [
       "Index\n",
       "LCOE   -0.092691\n",
       "Name: Value, dtype: float64"
      ]
     },
     "execution_count": 113,
     "metadata": {},
     "output_type": "execute_result"
    }
   ],
   "source": [
    "z_reference - w[3]"
   ]
  },
  {
   "cell_type": "markdown",
   "metadata": {},
   "source": [
    "#### Find the lowest LCOE if only 5M USD can be spent and only 2M USD can be spent in each category."
   ]
  },
  {
   "cell_type": "code",
   "execution_count": 114,
   "metadata": {},
   "outputs": [
    {
     "data": {
      "text/plain": [
       "'Optimization terminated successfully'"
      ]
     },
     "execution_count": 114,
     "metadata": {},
     "output_type": "execute_result"
    }
   ],
   "source": [
    "w = optimizer.opt_slsqp(\n",
    "    \"LCOE\",\n",
    "    sense='min',\n",
    "    total_amount = 5000000,\n",
    "    max_amount = pd.Series(\n",
    "        [2000000, 2000000, 2000000],\n",
    "        index=[\"Rotor Investment Only\", \"Drive Investment Only\", \"Tower Investment Only\"]\n",
    "    )\n",
    ")\n",
    "w[1]"
   ]
  },
  {
   "cell_type": "markdown",
   "metadata": {},
   "source": [
    "Investment amounts"
   ]
  },
  {
   "cell_type": "code",
   "execution_count": 115,
   "metadata": {},
   "outputs": [
    {
     "data": {
      "text/plain": [
       "Category\n",
       "Drive Investment Only    2000000.0\n",
       "Rotor Investment Only    1000000.0\n",
       "Tower Investment Only    2000000.0\n",
       "Name: Amount, dtype: float64"
      ]
     },
     "execution_count": 115,
     "metadata": {},
     "output_type": "execute_result"
    }
   ],
   "source": [
    "w[2]"
   ]
  },
  {
   "cell_type": "markdown",
   "metadata": {},
   "source": [
    "Resulting metric."
   ]
  },
  {
   "cell_type": "code",
   "execution_count": 116,
   "metadata": {},
   "outputs": [
    {
     "data": {
      "text/plain": [
       "Index\n",
       "LCOE   -0.093981\n",
       "Name: Value, dtype: float64"
      ]
     },
     "execution_count": 116,
     "metadata": {},
     "output_type": "execute_result"
    }
   ],
   "source": [
    "z_reference - w[3]"
   ]
  }
 ],
 "metadata": {
  "@webio": {
   "lastCommId": null,
   "lastKernelId": null
  },
  "kernelspec": {
   "display_name": "Python 3",
   "language": "python",
   "name": "python3"
  },
  "language_info": {
   "codemirror_mode": {
    "name": "ipython",
    "version": 3
   },
   "file_extension": ".py",
   "mimetype": "text/x-python",
   "name": "python",
   "nbconvert_exporter": "python",
   "pygments_lexer": "ipython3",
   "version": "3.7.8"
  }
 },
 "nbformat": 4,
 "nbformat_minor": 2
}
