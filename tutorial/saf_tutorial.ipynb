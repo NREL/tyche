{
 "cells": [
  {
   "cell_type": "markdown",
   "metadata": {},
   "source": [
    "# Sustainable Aviation Fuel Case Study"
   ]
  },
  {
   "cell_type": "markdown",
   "metadata": {},
   "source": [
    "## Set up."
   ]
  },
  {
   "cell_type": "markdown",
   "metadata": {},
   "source": [
    "### Import packages."
   ]
  },
  {
   "cell_type": "markdown",
   "metadata": {},
   "source": [
    "#### Import the system packages."
   ]
  },
  {
   "cell_type": "code",
   "execution_count": 1,
   "metadata": {},
   "outputs": [],
   "source": [
    "import os\n",
    "import sys"
   ]
  },
  {
   "cell_type": "markdown",
   "metadata": {},
   "source": [
    "#### Add the main Tyche packages to the search path."
   ]
  },
  {
   "cell_type": "code",
   "execution_count": 2,
   "metadata": {},
   "outputs": [],
   "source": [
    "sys.path.insert(1, os.path.abspath(\"../src\"))"
   ]
  },
  {
   "cell_type": "markdown",
   "metadata": {},
   "source": [
    "#### Import tyche and related packages."
   ]
  },
  {
   "cell_type": "code",
   "execution_count": 3,
   "metadata": {},
   "outputs": [],
   "source": [
    "import numpy             as np\n",
    "import matplotlib.pyplot as pl\n",
    "import pandas            as pd\n",
    "import seaborn           as sb\n",
    "import tyche             as ty"
   ]
  },
  {
   "cell_type": "markdown",
   "metadata": {},
   "source": [
    "## Design the technology model."
   ]
  },
  {
   "cell_type": "markdown",
   "metadata": {},
   "source": [
    "### Technology name."
   ]
  },
  {
   "cell_type": "markdown",
   "metadata": {},
   "source": [
    "Seven pathways for sustainable aviation fuel production are modeled, five pathways using a hydroprocessed esters and fatty acids (HEFA) biorefinery with various feedstocks and two pathways using alcohol-to-jet from ethanol. Technology names are:\n",
    "\n",
    "* HEFA Camelina\n",
    "* HEFA Castor\n",
    "* HEFA Jatropha\n",
    "* HEFA Pennycress\n",
    "* HEFA Yellow Grease\n",
    "* ATJ Corn Dry Mill\n",
    "* ATJ Stover Thermochem\n",
    "\n",
    "The default scenario is called *State of Technology*. The other scenarios, in increasing order of funding, are *Incremental*, *Moderate*, and *Leap*."
   ]
  },
  {
   "cell_type": "markdown",
   "metadata": {},
   "source": [
    "### Dimensions and indices."
   ]
  },
  {
   "cell_type": "markdown",
   "metadata": {},
   "source": [
    "Decide which quantities will be tracked as indices in the model, and settle on their units of measurment and default values:\n",
    "1.  Types of capital costs. For this study all capital costs are treated as one lump sum.\n",
    "2.  Types of fixed cost. For this study all fixed (non-input-related) costs are treated as one lump sum.\n",
    "3.  Inputs to the process. \n",
    "    * Feedstock\n",
    "    * Raw Material *(includes all chemical, material, and energy inputs other than feedstock)*\n",
    "4.  Outputs from the process. Not all technologies produce all outputs.\n",
    "    * Jet (SAF)\n",
    "    * Gasoline\n",
    "    * Diesel\n",
    "    * Propane\n",
    "    * Dried distillers' grains and solubles (DDGS)\n",
    "    * Electricity\n",
    "5.  Metrics. \n",
    "    * Jet GHG (kg CO2eq/gal)\n",
    "    * Minimum jet selling price (MJSP)\n",
    "6.  Parameters. \n",
    "    * Annual GHG (kg CO2eq)\n",
    "    * Jet LHV (MJ/gal)\n",
    "    * Discount Rate (unitless)\n",
    "    * Depreciation Period (years)\n",
    "    * Income Tax Rate (unitless)\n",
    "    * All Capital (USD)\n",
    "    * All Fixed (USD/year)\n",
    "    * DDGS (kg/year)\n",
    "    * Electricity (kWh/year)\n",
    "    * Diesel (gal/year)\n",
    "    * Gasoline (gal/year)\n",
    "    * Propane (gal/year)\n",
    "    * Jet (gal/year)\n",
    "    * DDGS Price (USD/kg)\n",
    "    * Electricity Price (USD/kWh)\n",
    "    * Diesel Price (USD/gal)\n",
    "    * Gasoline Price (USD/gal)\n",
    "    * Propane Price (USD/gal)\n",
    "    * Feedstock Price (USD/dry metric ton biomass or USD/dry ton oil)\n",
    "    * Raw Material Price (USD/kg)\n",
    "\n",
    "Note that in each category, the numeric indices for each item are numbered with integers starting from zero.\n",
    "\n",
    "See the [model](https://tyche.live/doc-src/formulation.html) and [database](https://tyche.live/doc-src/database.html) documentation for more details."
   ]
  },
  {
   "cell_type": "markdown",
   "metadata": {},
   "source": [
    "## Implement the technology model."
   ]
  },
  {
   "cell_type": "markdown",
   "metadata": {},
   "source": [
    "The implementation of a technology model consists of a capital cost function, a fixed cost function, a production function, and a metrics function.\n",
    "\n",
    "See the [model](https://tyche.live/doc-src/formulation.html) documentation for more details."
   ]
  },
  {
   "cell_type": "markdown",
   "metadata": {},
   "source": [
    "The [src/technology/](../src/technology/) folder has examples of several technology models."
   ]
  },
  {
   "cell_type": "markdown",
   "metadata": {},
   "source": [
    "#### Capital cost function."
   ]
  },
  {
   "cell_type": "markdown",
   "metadata": {},
   "source": [
    "The capital cost function takes the scale of the operations and the array of technology parameters as arguments and it returns the capital costs for the technology."
   ]
  },
  {
   "cell_type": "markdown",
   "metadata": {},
   "source": [
    "Implement the capital cost function for your technology in the file [tutorial/my_technology.py](./)."
   ]
  },
  {
   "cell_type": "code",
   "execution_count": 4,
   "metadata": {},
   "outputs": [],
   "source": [
    "def capital_cost(scale, parameter):\n",
    "    \"\"\"\n",
    "    Capital cost function.\n",
    "\n",
    "    Parameters\n",
    "    ----------\n",
    "    scale : float\n",
    "      The scale of operation.\n",
    "    parameter : array\n",
    "      The technological parameterization.\n",
    "    \"\"\"\n",
    "    _cap = parameter[5]\n",
    "\n",
    "    # Stack the costs for each category into a single array that we return.\n",
    "    return np.stack([_cap\n",
    "    ])"
   ]
  },
  {
   "cell_type": "markdown",
   "metadata": {},
   "source": [
    "#### Fixed cost function."
   ]
  },
  {
   "cell_type": "markdown",
   "metadata": {},
   "source": [
    "The fixed cost function takes the scale of the operations and the array of technology parameters as arguments and it returns the fixed costs for the technology."
   ]
  },
  {
   "cell_type": "markdown",
   "metadata": {},
   "source": [
    "Implement the fixed cost function for your technology in the file [tutorial/my_technology.py](./)."
   ]
  },
  {
   "cell_type": "code",
   "execution_count": 5,
   "metadata": {},
   "outputs": [],
   "source": [
    "def fixed_cost(scale, parameter):\n",
    "  \"\"\"\n",
    "  Fixed cost function.\n",
    "\n",
    "  Parameters\n",
    "  ----------\n",
    "  scale : float\n",
    "    The scale of operation.\n",
    "  parameter : array\n",
    "    The technological parameterization.\n",
    "  \"\"\"\n",
    "  _fix = parameter[6]\n",
    "\n",
    "  # Stack the costs for each category into a single array that we return.\n",
    "  return np.stack([_fix\n",
    "  ])"
   ]
  },
  {
   "cell_type": "markdown",
   "metadata": {},
   "source": [
    "#### Production function."
   ]
  },
  {
   "cell_type": "markdown",
   "metadata": {},
   "source": [
    "The production function takes the scale of the operations, the capital costs, the lifetime, the fixed costs, and the array of technology parameters as arguments and it returns the production (outputs) for the technology."
   ]
  },
  {
   "cell_type": "markdown",
   "metadata": {},
   "source": [
    "Implement the production function for your technology in the file [tutorial/my_technology.py](./)."
   ]
  },
  {
   "cell_type": "code",
   "execution_count": 6,
   "metadata": {},
   "outputs": [],
   "source": [
    "def production(scale, capital, lifetime, fixed, input, parameter):\n",
    "  \"\"\"\n",
    "  Production function.\n",
    "\n",
    "  Parameters\n",
    "  ----------\n",
    "  scale : float\n",
    "    The scale of operation.\n",
    "  capital : array\n",
    "    Capital costs.\n",
    "  lifetime : float\n",
    "    Technology lifetime.\n",
    "  fixed : array\n",
    "    Fixed costs.\n",
    "  input : array\n",
    "    Input quantities.\n",
    "  parameter : array\n",
    "    The technological parameterization.\n",
    "  \"\"\"\n",
    "\n",
    "  _out = parameter[12]\n",
    "\n",
    "  # Stack the output for each category into a single array that we return.\n",
    "  return np.stack([_out\n",
    "  ])"
   ]
  },
  {
   "cell_type": "markdown",
   "metadata": {},
   "source": [
    "#### Metric function."
   ]
  },
  {
   "cell_type": "markdown",
   "metadata": {},
   "source": [
    "The metric function takes information on costs, inputs, outputs, and parameters and it returns the metrics for the technology."
   ]
  },
  {
   "cell_type": "markdown",
   "metadata": {},
   "source": [
    "Implement the metrics function for your technology in the file [tutorial/my_technology.py](./)."
   ]
  },
  {
   "cell_type": "code",
   "execution_count": 7,
   "metadata": {},
   "outputs": [],
   "source": [
    "def metrics(scale, capital, lifetime, fixed, input_raw, input, output_raw, output, cost, parameter):\n",
    "  \"\"\"\n",
    "  Metrics function.\n",
    "\n",
    "  Parameters\n",
    "  ----------\n",
    "  scale : float\n",
    "    The scale of operation.\n",
    "  capital : array\n",
    "    Capital costs.\n",
    "  lifetime : float\n",
    "    Technology lifetime.\n",
    "  fixed : array\n",
    "    Fixed costs.\n",
    "  input_raw : array\n",
    "    Raw input quantities (before losses).\n",
    "  input : array\n",
    "    Input quantities.\n",
    "  output_raw : array\n",
    "    Raw output quantities (before losses).\n",
    "  output : array\n",
    "    Output quantities.\n",
    "  cost : array\n",
    "    Costs.\n",
    "  parameter : array\n",
    "    The technological parameterization.\n",
    "  \"\"\"\n",
    "\n",
    "  # annual fossil GHG emissions, Units: kg CO2-eq/year\n",
    "  ghg_foss_ann = parameter[0]\n",
    "\n",
    "  # jet fuel LHV (MJ/gal)\n",
    "  lhv = parameter[1]\n",
    "\n",
    "  # Discount rate, Unitless\n",
    "  dr = parameter[2]\n",
    "  # Depreciation period for all equipment except utilities, Units: years\n",
    "  dp = parameter[3]\n",
    "  # Income tax rate, Units: years\n",
    "  tr = parameter[4]\n",
    "  # total capital cost, Units: USD\n",
    "  cap = parameter[5]\n",
    "  # Annual fixed (non-input) costs, Units: USD/year\n",
    "  fix = parameter[6]\n",
    "\n",
    "  # co-product amounts\n",
    "  ddgs = parameter[7]\n",
    "  elec = parameter[8]\n",
    "  dsl = parameter[9]\n",
    "  gas = parameter[10]\n",
    "  ppn = parameter[11]\n",
    "  jet = parameter[12]\n",
    "\n",
    "  # co-product prices\n",
    "  ddgs_p = parameter[13]\n",
    "  elec_p = parameter[14]\n",
    "  dsl_p = parameter[15]\n",
    "  gas_p = parameter[16]\n",
    "  ppn_p = parameter[17]\n",
    "\n",
    "  # input prices\n",
    "  fd_p = parameter[18]\n",
    "  mat_p = parameter[19]\n",
    "\n",
    "  # input amounts\n",
    "  fd = input_raw[0]\n",
    "  mat = input_raw[1]\n",
    "\n",
    "  # equipment lifetime\n",
    "  els = lifetime[0]\n",
    "\n",
    "  # FOSSIL GHG: kg CO2-eq/gal SAF\n",
    "  ghg_foss = ghg_foss_ann / (jet * lhv)\n",
    "\n",
    "  # MINIMUM FUEL SELLING PRICE: USD/gal SAF\n",
    "\n",
    "  # total project investment, Units: USD\n",
    "  tpi = cap\n",
    "\n",
    "  # depreciation costs, units: USD/year\n",
    "  dc = cap / dp\n",
    "\n",
    "  # operating costs, units: USD/year\n",
    "  oc = fd * fd_p + mat * mat_p + fix\n",
    "\n",
    "  # tpi discount factor, Units: unitless\n",
    "  df_tpi = (dr * (1 + dr) ** els) / ((1 + dr) ** els - 1)\n",
    "\n",
    "  # total revenue from SAF sales, Units: USD/year\n",
    "  br = ((1 - tr) * oc - tr * dc + df_tpi * tpi) / (1 - tr)\n",
    "\n",
    "  # revenue from co-product sales, Units: USD/year\n",
    "  cr = ddgs * ddgs_p + elec * elec_p + dsl * dsl_p + gas * gas_p + ppn * ppn_p\n",
    "\n",
    "  # MJSP, Units: USD/gal SAF\n",
    "  mjsp = (br + cr) / output\n",
    "\n",
    "  # Package results.\n",
    "  return np.stack([ghg_foss,\n",
    "                   mjsp\n",
    "  ])"
   ]
  },
  {
   "cell_type": "markdown",
   "metadata": {},
   "source": [
    "## Simulate the base case or reference scenario."
   ]
  },
  {
   "cell_type": "markdown",
   "metadata": {},
   "source": [
    "### Load the data."
   ]
  },
  {
   "cell_type": "code",
   "execution_count": 4,
   "metadata": {},
   "outputs": [],
   "source": [
    "designs = ty.Designs(\"data/saf\")"
   ]
  },
  {
   "cell_type": "markdown",
   "metadata": {},
   "source": [
    "### Compile the production and metric functions for each technology in the dataset."
   ]
  },
  {
   "cell_type": "code",
   "execution_count": 5,
   "metadata": {},
   "outputs": [],
   "source": [
    "designs.compile()"
   ]
  },
  {
   "cell_type": "markdown",
   "metadata": {},
   "source": [
    "Compute an ensemble of 1000 simulations for the State of Technology case."
   ]
  },
  {
   "cell_type": "code",
   "execution_count": 6,
   "metadata": {
    "scrolled": false
   },
   "outputs": [
    {
     "data": {
      "text/html": [
       "<div>\n",
       "<style scoped>\n",
       "    .dataframe tbody tr th:only-of-type {\n",
       "        vertical-align: middle;\n",
       "    }\n",
       "\n",
       "    .dataframe tbody tr th {\n",
       "        vertical-align: top;\n",
       "    }\n",
       "\n",
       "    .dataframe thead th {\n",
       "        text-align: right;\n",
       "    }\n",
       "</style>\n",
       "<table border=\"1\" class=\"dataframe\">\n",
       "  <thead>\n",
       "    <tr style=\"text-align: right;\">\n",
       "      <th></th>\n",
       "      <th></th>\n",
       "      <th></th>\n",
       "      <th></th>\n",
       "      <th></th>\n",
       "      <th>Value</th>\n",
       "      <th>Units</th>\n",
       "    </tr>\n",
       "    <tr>\n",
       "      <th>Technology</th>\n",
       "      <th>Scenario</th>\n",
       "      <th>Sample</th>\n",
       "      <th>Variable</th>\n",
       "      <th>Index</th>\n",
       "      <th></th>\n",
       "      <th></th>\n",
       "    </tr>\n",
       "  </thead>\n",
       "  <tbody>\n",
       "    <tr>\n",
       "      <th rowspan=\"5\" valign=\"top\">ATJ Corn Dry Mill</th>\n",
       "      <th rowspan=\"5\" valign=\"top\">State of Technology</th>\n",
       "      <th rowspan=\"5\" valign=\"top\">1</th>\n",
       "      <th>Cost</th>\n",
       "      <th>Cost</th>\n",
       "      <td>2.807367e+07</td>\n",
       "      <td>USD/year</td>\n",
       "    </tr>\n",
       "    <tr>\n",
       "      <th rowspan=\"2\" valign=\"top\">Metric</th>\n",
       "      <th>Jet GHG</th>\n",
       "      <td>7.652702e-02</td>\n",
       "      <td>kg CO2eq/MJ</td>\n",
       "    </tr>\n",
       "    <tr>\n",
       "      <th>MJSP</th>\n",
       "      <td>9.554561e+00</td>\n",
       "      <td>USD/gal</td>\n",
       "    </tr>\n",
       "    <tr>\n",
       "      <th rowspan=\"2\" valign=\"top\">Output</th>\n",
       "      <th>DDGS</th>\n",
       "      <td>3.728717e+07</td>\n",
       "      <td>kg/year</td>\n",
       "    </tr>\n",
       "    <tr>\n",
       "      <th>Diesel</th>\n",
       "      <td>3.728717e+07</td>\n",
       "      <td>gal/year</td>\n",
       "    </tr>\n",
       "    <tr>\n",
       "      <th>...</th>\n",
       "      <th>...</th>\n",
       "      <th>...</th>\n",
       "      <th>...</th>\n",
       "      <th>...</th>\n",
       "      <td>...</td>\n",
       "      <td>...</td>\n",
       "    </tr>\n",
       "    <tr>\n",
       "      <th rowspan=\"5\" valign=\"top\">HEFA Yellow Grease</th>\n",
       "      <th rowspan=\"5\" valign=\"top\">State of Technology</th>\n",
       "      <th rowspan=\"5\" valign=\"top\">1000</th>\n",
       "      <th rowspan=\"5\" valign=\"top\">Output</th>\n",
       "      <th>Diesel</th>\n",
       "      <td>5.128330e+07</td>\n",
       "      <td>gal/year</td>\n",
       "    </tr>\n",
       "    <tr>\n",
       "      <th>Electricity</th>\n",
       "      <td>5.128330e+07</td>\n",
       "      <td>kWh/year</td>\n",
       "    </tr>\n",
       "    <tr>\n",
       "      <th>Gasoline</th>\n",
       "      <td>5.128330e+07</td>\n",
       "      <td>gal/year</td>\n",
       "    </tr>\n",
       "    <tr>\n",
       "      <th>Jet</th>\n",
       "      <td>5.128330e+07</td>\n",
       "      <td>gal/year</td>\n",
       "    </tr>\n",
       "    <tr>\n",
       "      <th>Propane</th>\n",
       "      <td>5.128330e+07</td>\n",
       "      <td>gal/year</td>\n",
       "    </tr>\n",
       "  </tbody>\n",
       "</table>\n",
       "<p>63000 rows × 2 columns</p>\n",
       "</div>"
      ],
      "text/plain": [
       "                                                                           Value  \\\n",
       "Technology         Scenario            Sample Variable Index                       \n",
       "ATJ Corn Dry Mill  State of Technology 1      Cost     Cost         2.807367e+07   \n",
       "                                              Metric   Jet GHG      7.652702e-02   \n",
       "                                                       MJSP         9.554561e+00   \n",
       "                                              Output   DDGS         3.728717e+07   \n",
       "                                                       Diesel       3.728717e+07   \n",
       "...                                                                          ...   \n",
       "HEFA Yellow Grease State of Technology 1000   Output   Diesel       5.128330e+07   \n",
       "                                                       Electricity  5.128330e+07   \n",
       "                                                       Gasoline     5.128330e+07   \n",
       "                                                       Jet          5.128330e+07   \n",
       "                                                       Propane      5.128330e+07   \n",
       "\n",
       "                                                                          Units  \n",
       "Technology         Scenario            Sample Variable Index                     \n",
       "ATJ Corn Dry Mill  State of Technology 1      Cost     Cost            USD/year  \n",
       "                                              Metric   Jet GHG      kg CO2eq/MJ  \n",
       "                                                       MJSP             USD/gal  \n",
       "                                              Output   DDGS             kg/year  \n",
       "                                                       Diesel          gal/year  \n",
       "...                                                                         ...  \n",
       "HEFA Yellow Grease State of Technology 1000   Output   Diesel          gal/year  \n",
       "                                                       Electricity     kWh/year  \n",
       "                                                       Gasoline        gal/year  \n",
       "                                                       Jet             gal/year  \n",
       "                                                       Propane         gal/year  \n",
       "\n",
       "[63000 rows x 2 columns]"
      ]
     },
     "execution_count": 6,
     "metadata": {},
     "output_type": "execute_result"
    }
   ],
   "source": [
    "saf_sot = designs.evaluate_scenarios(\n",
    "    sample_count=1000\n",
    ").xs(\n",
    "    \"State of Technology\",\n",
    "    level = \"Scenario\",\n",
    "    drop_level = False\n",
    ")\n",
    "saf_sot"
   ]
  },
  {
   "cell_type": "markdown",
   "metadata": {},
   "source": [
    "Here is a violin plot for the MJSP of jet produced from HEFA Camelina:"
   ]
  },
  {
   "cell_type": "code",
   "execution_count": 7,
   "metadata": {},
   "outputs": [
    {
     "data": {
      "image/png": "[encoded data removed]",
      "text/plain": [
       "<Figure size 432x288 with 1 Axes>"
      ]
     },
     "metadata": {
      "needs_background": "light"
     },
     "output_type": "display_data"
    }
   ],
   "source": [
    "sb.violinplot(\n",
    "    saf_sot.xs(\n",
    "        (\"HEFA Camelina\", \"State of Technology\", \"Metric\", \"MJSP\"),\n",
    "        level = (\"Technology\", \"Scenario\", \"Variable\", \"Index\")\n",
    "    )[\"Value\"]\n",
    ").set(xlabel = \"MJSP (USD/gal)\");"
   ]
  },
  {
   "cell_type": "markdown",
   "metadata": {},
   "source": [
    "And another violin plot for the same metric and the ATJ Corn Dry Mill technology:"
   ]
  },
  {
   "cell_type": "code",
   "execution_count": 8,
   "metadata": {},
   "outputs": [
    {
     "data": {
      "image/png": "[encoded data removed]",
      "text/plain": [
       "<Figure size 432x288 with 1 Axes>"
      ]
     },
     "metadata": {
      "needs_background": "light"
     },
     "output_type": "display_data"
    }
   ],
   "source": [
    "sb.violinplot(\n",
    "    saf_sot.xs(\n",
    "        (\"ATJ Corn Dry Mill\", \"State of Technology\", \"Metric\", \"MJSP\"),\n",
    "        level = (\"Technology\", \"Scenario\", \"Variable\", \"Index\")\n",
    "    )[\"Value\"]\n",
    ").set(xlabel = \"MJSP (USD/gal)\");"
   ]
  },
  {
   "cell_type": "markdown",
   "metadata": {},
   "source": [
    "## Simulate effects of R&D."
   ]
  },
  {
   "cell_type": "markdown",
   "metadata": {},
   "source": [
    "### Simulating implications of expert elicitation."
   ]
  },
  {
   "cell_type": "code",
   "execution_count": 9,
   "metadata": {
    "scrolled": false
   },
   "outputs": [
    {
     "data": {
      "text/html": [
       "<div>\n",
       "<style scoped>\n",
       "    .dataframe tbody tr th:only-of-type {\n",
       "        vertical-align: middle;\n",
       "    }\n",
       "\n",
       "    .dataframe tbody tr th {\n",
       "        vertical-align: top;\n",
       "    }\n",
       "\n",
       "    .dataframe thead th {\n",
       "        text-align: right;\n",
       "    }\n",
       "</style>\n",
       "<table border=\"1\" class=\"dataframe\">\n",
       "  <thead>\n",
       "    <tr style=\"text-align: right;\">\n",
       "      <th></th>\n",
       "      <th></th>\n",
       "      <th></th>\n",
       "      <th></th>\n",
       "      <th></th>\n",
       "      <th>Value</th>\n",
       "      <th>Units</th>\n",
       "    </tr>\n",
       "    <tr>\n",
       "      <th>Technology</th>\n",
       "      <th>Scenario</th>\n",
       "      <th>Sample</th>\n",
       "      <th>Variable</th>\n",
       "      <th>Index</th>\n",
       "      <th></th>\n",
       "      <th></th>\n",
       "    </tr>\n",
       "  </thead>\n",
       "  <tbody>\n",
       "    <tr>\n",
       "      <th rowspan=\"5\" valign=\"top\">ATJ Corn Dry Mill</th>\n",
       "      <th rowspan=\"5\" valign=\"top\">Incremental</th>\n",
       "      <th rowspan=\"5\" valign=\"top\">1</th>\n",
       "      <th>Cost</th>\n",
       "      <th>Cost</th>\n",
       "      <td>8.261330e+06</td>\n",
       "      <td>USD/year</td>\n",
       "    </tr>\n",
       "    <tr>\n",
       "      <th rowspan=\"2\" valign=\"top\">Metric</th>\n",
       "      <th>Jet GHG</th>\n",
       "      <td>7.582725e-02</td>\n",
       "      <td>kg CO2eq/MJ</td>\n",
       "    </tr>\n",
       "    <tr>\n",
       "      <th>MJSP</th>\n",
       "      <td>8.932826e+00</td>\n",
       "      <td>USD/gal</td>\n",
       "    </tr>\n",
       "    <tr>\n",
       "      <th rowspan=\"2\" valign=\"top\">Output</th>\n",
       "      <th>DDGS</th>\n",
       "      <td>4.011863e+07</td>\n",
       "      <td>kg/year</td>\n",
       "    </tr>\n",
       "    <tr>\n",
       "      <th>Diesel</th>\n",
       "      <td>4.011863e+07</td>\n",
       "      <td>gal/year</td>\n",
       "    </tr>\n",
       "    <tr>\n",
       "      <th>...</th>\n",
       "      <th>...</th>\n",
       "      <th>...</th>\n",
       "      <th>...</th>\n",
       "      <th>...</th>\n",
       "      <td>...</td>\n",
       "      <td>...</td>\n",
       "    </tr>\n",
       "    <tr>\n",
       "      <th rowspan=\"5\" valign=\"top\">HEFA Yellow Grease</th>\n",
       "      <th rowspan=\"5\" valign=\"top\">State of Technology</th>\n",
       "      <th rowspan=\"5\" valign=\"top\">1000</th>\n",
       "      <th rowspan=\"5\" valign=\"top\">Output</th>\n",
       "      <th>Diesel</th>\n",
       "      <td>4.860644e+07</td>\n",
       "      <td>gal/year</td>\n",
       "    </tr>\n",
       "    <tr>\n",
       "      <th>Electricity</th>\n",
       "      <td>4.860644e+07</td>\n",
       "      <td>kWh/year</td>\n",
       "    </tr>\n",
       "    <tr>\n",
       "      <th>Gasoline</th>\n",
       "      <td>4.860644e+07</td>\n",
       "      <td>gal/year</td>\n",
       "    </tr>\n",
       "    <tr>\n",
       "      <th>Jet</th>\n",
       "      <td>4.860644e+07</td>\n",
       "      <td>gal/year</td>\n",
       "    </tr>\n",
       "    <tr>\n",
       "      <th>Propane</th>\n",
       "      <td>4.860644e+07</td>\n",
       "      <td>gal/year</td>\n",
       "    </tr>\n",
       "  </tbody>\n",
       "</table>\n",
       "<p>252000 rows × 2 columns</p>\n",
       "</div>"
      ],
      "text/plain": [
       "                                                                           Value  \\\n",
       "Technology         Scenario            Sample Variable Index                       \n",
       "ATJ Corn Dry Mill  Incremental         1      Cost     Cost         8.261330e+06   \n",
       "                                              Metric   Jet GHG      7.582725e-02   \n",
       "                                                       MJSP         8.932826e+00   \n",
       "                                              Output   DDGS         4.011863e+07   \n",
       "                                                       Diesel       4.011863e+07   \n",
       "...                                                                          ...   \n",
       "HEFA Yellow Grease State of Technology 1000   Output   Diesel       4.860644e+07   \n",
       "                                                       Electricity  4.860644e+07   \n",
       "                                                       Gasoline     4.860644e+07   \n",
       "                                                       Jet          4.860644e+07   \n",
       "                                                       Propane      4.860644e+07   \n",
       "\n",
       "                                                                          Units  \n",
       "Technology         Scenario            Sample Variable Index                     \n",
       "ATJ Corn Dry Mill  Incremental         1      Cost     Cost            USD/year  \n",
       "                                              Metric   Jet GHG      kg CO2eq/MJ  \n",
       "                                                       MJSP             USD/gal  \n",
       "                                              Output   DDGS             kg/year  \n",
       "                                                       Diesel          gal/year  \n",
       "...                                                                         ...  \n",
       "HEFA Yellow Grease State of Technology 1000   Output   Diesel          gal/year  \n",
       "                                                       Electricity     kWh/year  \n",
       "                                                       Gasoline        gal/year  \n",
       "                                                       Jet             gal/year  \n",
       "                                                       Propane         gal/year  \n",
       "\n",
       "[252000 rows x 2 columns]"
      ]
     },
     "execution_count": 9,
     "metadata": {},
     "output_type": "execute_result"
    }
   ],
   "source": [
    "saf_experts = designs.evaluate_scenarios(sample_count=1000)\n",
    "saf_experts"
   ]
  },
  {
   "cell_type": "markdown",
   "metadata": {},
   "source": [
    "Make violin plots showing the implications of the expert opinions"
   ]
  },
  {
   "cell_type": "code",
   "execution_count": 10,
   "metadata": {},
   "outputs": [
    {
     "data": {
      "image/png": "[encoded data removed]",
      "text/plain": [
       "<Figure size 432x288 with 1 Axes>"
      ]
     },
     "metadata": {
      "needs_background": "light"
     },
     "output_type": "display_data"
    }
   ],
   "source": [
    "sb.violinplot(\n",
    "    y = \"Scenario\",\n",
    "    x = \"Value\",\n",
    "    data = saf_experts.xs(\n",
    "        (\"HEFA Camelina\", \"Metric\", \"MJSP\"),\n",
    "        level = (\"Technology\", \"Variable\", \"Index\")\n",
    "    ).reset_index()\n",
    ").set(xlabel = \"MJSP (USD/gal)\");"
   ]
  },
  {
   "cell_type": "code",
   "execution_count": 11,
   "metadata": {},
   "outputs": [
    {
     "data": {
      "image/png": "[encoded data removed]",
      "text/plain": [
       "<Figure size 432x288 with 1 Axes>"
      ]
     },
     "metadata": {
      "needs_background": "light"
     },
     "output_type": "display_data"
    }
   ],
   "source": [
    "sb.violinplot(\n",
    "    y = \"Scenario\",\n",
    "    x = \"Value\",\n",
    "    data = saf_experts.xs(\n",
    "        (\"ATJ Corn Dry Mill\", \"Metric\", \"MJSP\"),\n",
    "        level = (\"Technology\", \"Variable\", \"Index\")\n",
    "    ).reset_index()\n",
    ").set(xlabel = \"MJSP (USD/gal)\");"
   ]
  },
  {
   "cell_type": "code",
   "execution_count": 12,
   "metadata": {},
   "outputs": [
    {
     "data": {
      "image/png": "[encoded data removed]",
      "text/plain": [
       "<Figure size 432x288 with 1 Axes>"
      ]
     },
     "metadata": {
      "needs_background": "light"
     },
     "output_type": "display_data"
    }
   ],
   "source": [
    "sb.violinplot(\n",
    "    y = \"Scenario\",\n",
    "    x = \"Value\",\n",
    "    data = saf_experts.xs(\n",
    "        (\"HEFA Yellow Grease\", \"Metric\", \"MJSP\"),\n",
    "        level = (\"Technology\", \"Variable\", \"Index\")\n",
    "    ).reset_index()\n",
    ").set(xlabel = \"MJSP (USD/gal)\");"
   ]
  },
  {
   "cell_type": "markdown",
   "metadata": {},
   "source": [
    "## Analyzing investments."
   ]
  },
  {
   "cell_type": "markdown",
   "metadata": {},
   "source": [
    "### Simulate the base case or reference scenario."
   ]
  },
  {
   "cell_type": "markdown",
   "metadata": {},
   "source": [
    "#### Load the data."
   ]
  },
  {
   "cell_type": "code",
   "execution_count": 90,
   "metadata": {},
   "outputs": [],
   "source": [
    "saf_designs = ty.Designs(\"data/saf\")"
   ]
  },
  {
   "cell_type": "code",
   "execution_count": 91,
   "metadata": {},
   "outputs": [],
   "source": [
    "saf_investments = ty.Investments(\"data/saf\")"
   ]
  },
  {
   "cell_type": "markdown",
   "metadata": {},
   "source": [
    "#### Compile the production and metric functions for each technology in the dataset."
   ]
  },
  {
   "cell_type": "code",
   "execution_count": 92,
   "metadata": {},
   "outputs": [],
   "source": [
    "saf_designs.compile()"
   ]
  },
  {
   "cell_type": "markdown",
   "metadata": {},
   "source": [
    "#### Simulate the base case."
   ]
  },
  {
   "cell_type": "code",
   "execution_count": 93,
   "metadata": {},
   "outputs": [],
   "source": [
    "saf_investment_results = saf_investments.evaluate_investments(saf_designs,\n",
    "                                                              sample_count=1000)"
   ]
  },
  {
   "cell_type": "markdown",
   "metadata": {},
   "source": [
    "Here are the metrics for the base case:"
   ]
  },
  {
   "cell_type": "code",
   "execution_count": 98,
   "metadata": {},
   "outputs": [
    {
     "data": {
      "text/html": [
       "<div>\n",
       "<style scoped>\n",
       "    .dataframe tbody tr th:only-of-type {\n",
       "        vertical-align: middle;\n",
       "    }\n",
       "\n",
       "    .dataframe tbody tr th {\n",
       "        vertical-align: top;\n",
       "    }\n",
       "\n",
       "    .dataframe thead th {\n",
       "        text-align: right;\n",
       "    }\n",
       "</style>\n",
       "<table border=\"1\" class=\"dataframe\">\n",
       "  <thead>\n",
       "    <tr style=\"text-align: right;\">\n",
       "      <th></th>\n",
       "      <th></th>\n",
       "      <th></th>\n",
       "      <th></th>\n",
       "      <th></th>\n",
       "      <th></th>\n",
       "      <th></th>\n",
       "      <th>Value</th>\n",
       "      <th>Units</th>\n",
       "    </tr>\n",
       "    <tr>\n",
       "      <th>Investment</th>\n",
       "      <th>Category</th>\n",
       "      <th>Tranche</th>\n",
       "      <th>Scenario</th>\n",
       "      <th>Sample</th>\n",
       "      <th>Technology</th>\n",
       "      <th>Index</th>\n",
       "      <th></th>\n",
       "      <th></th>\n",
       "    </tr>\n",
       "  </thead>\n",
       "  <tbody>\n",
       "    <tr>\n",
       "      <th rowspan=\"5\" valign=\"top\">Low R&amp;D</th>\n",
       "      <th rowspan=\"5\" valign=\"top\">Co-Product Revenue</th>\n",
       "      <th rowspan=\"5\" valign=\"top\">CPR In</th>\n",
       "      <th rowspan=\"5\" valign=\"top\">Incremental</th>\n",
       "      <th rowspan=\"2\" valign=\"top\">1.0</th>\n",
       "      <th rowspan=\"2\" valign=\"top\">ATJ Corn Dry Mill</th>\n",
       "      <th>Jet GHG</th>\n",
       "      <td>0.076217</td>\n",
       "      <td>kg CO2eq/MJ</td>\n",
       "    </tr>\n",
       "    <tr>\n",
       "      <th>MJSP</th>\n",
       "      <td>9.856628</td>\n",
       "      <td>USD/gal</td>\n",
       "    </tr>\n",
       "    <tr>\n",
       "      <th rowspan=\"2\" valign=\"top\">2.0</th>\n",
       "      <th rowspan=\"2\" valign=\"top\">ATJ Corn Dry Mill</th>\n",
       "      <th>Jet GHG</th>\n",
       "      <td>0.079412</td>\n",
       "      <td>kg CO2eq/MJ</td>\n",
       "    </tr>\n",
       "    <tr>\n",
       "      <th>MJSP</th>\n",
       "      <td>9.533981</td>\n",
       "      <td>USD/gal</td>\n",
       "    </tr>\n",
       "    <tr>\n",
       "      <th>3.0</th>\n",
       "      <th>ATJ Corn Dry Mill</th>\n",
       "      <th>Jet GHG</th>\n",
       "      <td>0.080796</td>\n",
       "      <td>kg CO2eq/MJ</td>\n",
       "    </tr>\n",
       "    <tr>\n",
       "      <th>...</th>\n",
       "      <th>...</th>\n",
       "      <th>...</th>\n",
       "      <th>...</th>\n",
       "      <th>...</th>\n",
       "      <th>...</th>\n",
       "      <th>...</th>\n",
       "      <td>...</td>\n",
       "      <td>...</td>\n",
       "    </tr>\n",
       "    <tr>\n",
       "      <th rowspan=\"5\" valign=\"top\">No R&amp;D</th>\n",
       "      <th rowspan=\"4\" valign=\"top\">Fatty Acid Composition</th>\n",
       "      <th rowspan=\"4\" valign=\"top\">FAC SoT</th>\n",
       "      <th rowspan=\"4\" valign=\"top\">State of Technology</th>\n",
       "      <th rowspan=\"2\" valign=\"top\">999.0</th>\n",
       "      <th rowspan=\"2\" valign=\"top\">HEFA Yellow Grease</th>\n",
       "      <th>Jet GHG</th>\n",
       "      <td>0.017493</td>\n",
       "      <td>kg CO2eq/MJ</td>\n",
       "    </tr>\n",
       "    <tr>\n",
       "      <th>MJSP</th>\n",
       "      <td>5.412197</td>\n",
       "      <td>USD/gal</td>\n",
       "    </tr>\n",
       "    <tr>\n",
       "      <th rowspan=\"2\" valign=\"top\">1000.0</th>\n",
       "      <th rowspan=\"2\" valign=\"top\">HEFA Yellow Grease</th>\n",
       "      <th>Jet GHG</th>\n",
       "      <td>0.017336</td>\n",
       "      <td>kg CO2eq/MJ</td>\n",
       "    </tr>\n",
       "    <tr>\n",
       "      <th>MJSP</th>\n",
       "      <td>5.313773</td>\n",
       "      <td>USD/gal</td>\n",
       "    </tr>\n",
       "    <tr>\n",
       "      <th>Overall Process Efficiency</th>\n",
       "      <th>OpE SoT</th>\n",
       "      <th>NaN</th>\n",
       "      <th>NaN</th>\n",
       "      <th>NaN</th>\n",
       "      <th>NaN</th>\n",
       "      <td>NaN</td>\n",
       "      <td>NaN</td>\n",
       "    </tr>\n",
       "  </tbody>\n",
       "</table>\n",
       "<p>154001 rows × 2 columns</p>\n",
       "</div>"
      ],
      "text/plain": [
       "                                                                                                        Value  \\\n",
       "Investment Category                   Tranche Scenario            Sample Technology         Index               \n",
       "Low R&D    Co-Product Revenue         CPR In  Incremental         1.0    ATJ Corn Dry Mill  Jet GHG  0.076217   \n",
       "                                                                                            MJSP     9.856628   \n",
       "                                                                  2.0    ATJ Corn Dry Mill  Jet GHG  0.079412   \n",
       "                                                                                            MJSP     9.533981   \n",
       "                                                                  3.0    ATJ Corn Dry Mill  Jet GHG  0.080796   \n",
       "...                                                                                                       ...   \n",
       "No R&D     Fatty Acid Composition     FAC SoT State of Technology 999.0  HEFA Yellow Grease Jet GHG  0.017493   \n",
       "                                                                                            MJSP     5.412197   \n",
       "                                                                  1000.0 HEFA Yellow Grease Jet GHG  0.017336   \n",
       "                                                                                            MJSP     5.313773   \n",
       "           Overall Process Efficiency OpE SoT NaN                 NaN    NaN                NaN           NaN   \n",
       "\n",
       "                                                                                                           Units  \n",
       "Investment Category                   Tranche Scenario            Sample Technology         Index                 \n",
       "Low R&D    Co-Product Revenue         CPR In  Incremental         1.0    ATJ Corn Dry Mill  Jet GHG  kg CO2eq/MJ  \n",
       "                                                                                            MJSP         USD/gal  \n",
       "                                                                  2.0    ATJ Corn Dry Mill  Jet GHG  kg CO2eq/MJ  \n",
       "                                                                                            MJSP         USD/gal  \n",
       "                                                                  3.0    ATJ Corn Dry Mill  Jet GHG  kg CO2eq/MJ  \n",
       "...                                                                                                          ...  \n",
       "No R&D     Fatty Acid Composition     FAC SoT State of Technology 999.0  HEFA Yellow Grease Jet GHG  kg CO2eq/MJ  \n",
       "                                                                                            MJSP         USD/gal  \n",
       "                                                                  1000.0 HEFA Yellow Grease Jet GHG  kg CO2eq/MJ  \n",
       "                                                                                            MJSP         USD/gal  \n",
       "           Overall Process Efficiency OpE SoT NaN                 NaN    NaN                NaN              NaN  \n",
       "\n",
       "[154001 rows x 2 columns]"
      ]
     },
     "execution_count": 98,
     "metadata": {},
     "output_type": "execute_result"
    }
   ],
   "source": [
    "saf_investment_results.metrics"
   ]
  },
  {
   "cell_type": "markdown",
   "metadata": {},
   "source": [
    "Here is the cost for the base case:"
   ]
  },
  {
   "cell_type": "code",
   "execution_count": 63,
   "metadata": {},
   "outputs": [
    {
     "data": {
      "text/html": [
       "<div>\n",
       "<style scoped>\n",
       "    .dataframe tbody tr th:only-of-type {\n",
       "        vertical-align: middle;\n",
       "    }\n",
       "\n",
       "    .dataframe tbody tr th {\n",
       "        vertical-align: top;\n",
       "    }\n",
       "\n",
       "    .dataframe thead th {\n",
       "        text-align: right;\n",
       "    }\n",
       "</style>\n",
       "<table border=\"1\" class=\"dataframe\">\n",
       "  <thead>\n",
       "    <tr style=\"text-align: right;\">\n",
       "      <th></th>\n",
       "      <th>Amount</th>\n",
       "    </tr>\n",
       "    <tr>\n",
       "      <th>Investment</th>\n",
       "      <th></th>\n",
       "    </tr>\n",
       "  </thead>\n",
       "  <tbody>\n",
       "    <tr>\n",
       "      <th>High R&amp;D</th>\n",
       "      <td>102000000.0</td>\n",
       "    </tr>\n",
       "    <tr>\n",
       "      <th>Low R&amp;D</th>\n",
       "      <td>53000000.0</td>\n",
       "    </tr>\n",
       "    <tr>\n",
       "      <th>Moderate R&amp;D</th>\n",
       "      <td>74000000.0</td>\n",
       "    </tr>\n",
       "    <tr>\n",
       "      <th>No R&amp;D</th>\n",
       "      <td>0.0</td>\n",
       "    </tr>\n",
       "  </tbody>\n",
       "</table>\n",
       "</div>"
      ],
      "text/plain": [
       "                   Amount\n",
       "Investment               \n",
       "High R&D      102000000.0\n",
       "Low R&D        53000000.0\n",
       "Moderate R&D   74000000.0\n",
       "No R&D                0.0"
      ]
     },
     "execution_count": 63,
     "metadata": {},
     "output_type": "execute_result"
    }
   ],
   "source": [
    "saf_investment_results.amounts"
   ]
  },
  {
   "cell_type": "markdown",
   "metadata": {},
   "source": [
    "### Investment cases."
   ]
  },
  {
   "cell_type": "markdown",
   "metadata": {},
   "source": [
    "Now we create investment cases corresponding to the scenarios that were the focus of the expert elicitation:"
   ]
  },
  {
   "cell_type": "code",
   "execution_count": 95,
   "metadata": {},
   "outputs": [
    {
     "data": {
      "text/html": [
       "<div>\n",
       "<style scoped>\n",
       "    .dataframe tbody tr th:only-of-type {\n",
       "        vertical-align: middle;\n",
       "    }\n",
       "\n",
       "    .dataframe tbody tr th {\n",
       "        vertical-align: top;\n",
       "    }\n",
       "\n",
       "    .dataframe thead th {\n",
       "        text-align: right;\n",
       "    }\n",
       "</style>\n",
       "<table border=\"1\" class=\"dataframe\">\n",
       "  <thead>\n",
       "    <tr style=\"text-align: right;\">\n",
       "      <th></th>\n",
       "      <th></th>\n",
       "      <th></th>\n",
       "      <th>Amount</th>\n",
       "      <th>Notes</th>\n",
       "    </tr>\n",
       "    <tr>\n",
       "      <th>Category</th>\n",
       "      <th>Tranche</th>\n",
       "      <th>Scenario</th>\n",
       "      <th></th>\n",
       "      <th></th>\n",
       "    </tr>\n",
       "  </thead>\n",
       "  <tbody>\n",
       "    <tr>\n",
       "      <th rowspan=\"4\" valign=\"top\">Co-Product Revenue</th>\n",
       "      <th>CPR In</th>\n",
       "      <th>Incremental</th>\n",
       "      <td>18000000.0</td>\n",
       "      <td></td>\n",
       "    </tr>\n",
       "    <tr>\n",
       "      <th>CPR Le</th>\n",
       "      <th>Leap</th>\n",
       "      <td>28000000.0</td>\n",
       "      <td></td>\n",
       "    </tr>\n",
       "    <tr>\n",
       "      <th>CPR Mo</th>\n",
       "      <th>Moderate</th>\n",
       "      <td>22000000.0</td>\n",
       "      <td></td>\n",
       "    </tr>\n",
       "    <tr>\n",
       "      <th>CPR SoT</th>\n",
       "      <th>State of Technology</th>\n",
       "      <td>0.0</td>\n",
       "      <td></td>\n",
       "    </tr>\n",
       "    <tr>\n",
       "      <th rowspan=\"4\" valign=\"top\">Fatty Acid Composition</th>\n",
       "      <th>FAC In</th>\n",
       "      <th>Incremental</th>\n",
       "      <td>20000000.0</td>\n",
       "      <td></td>\n",
       "    </tr>\n",
       "    <tr>\n",
       "      <th>FAC Le</th>\n",
       "      <th>Leap</th>\n",
       "      <td>39000000.0</td>\n",
       "      <td></td>\n",
       "    </tr>\n",
       "    <tr>\n",
       "      <th>FAC Mo</th>\n",
       "      <th>Moderate</th>\n",
       "      <td>27000000.0</td>\n",
       "      <td></td>\n",
       "    </tr>\n",
       "    <tr>\n",
       "      <th>FAC SoT</th>\n",
       "      <th>State of Technology</th>\n",
       "      <td>0.0</td>\n",
       "      <td></td>\n",
       "    </tr>\n",
       "    <tr>\n",
       "      <th rowspan=\"4\" valign=\"top\">Overall Process Efficiency</th>\n",
       "      <th>OPE In</th>\n",
       "      <th>Incremental</th>\n",
       "      <td>15000000.0</td>\n",
       "      <td></td>\n",
       "    </tr>\n",
       "    <tr>\n",
       "      <th>OPE Le</th>\n",
       "      <th>Leap</th>\n",
       "      <td>35000000.0</td>\n",
       "      <td></td>\n",
       "    </tr>\n",
       "    <tr>\n",
       "      <th>OPE Mo</th>\n",
       "      <th>Moderate</th>\n",
       "      <td>25000000.0</td>\n",
       "      <td></td>\n",
       "    </tr>\n",
       "    <tr>\n",
       "      <th>OPE SoT</th>\n",
       "      <th>State of Technology</th>\n",
       "      <td>0.0</td>\n",
       "      <td></td>\n",
       "    </tr>\n",
       "  </tbody>\n",
       "</table>\n",
       "</div>"
      ],
      "text/plain": [
       "                                                            Amount Notes\n",
       "Category                   Tranche Scenario                             \n",
       "Co-Product Revenue         CPR In  Incremental          18000000.0      \n",
       "                           CPR Le  Leap                 28000000.0      \n",
       "                           CPR Mo  Moderate             22000000.0      \n",
       "                           CPR SoT State of Technology         0.0      \n",
       "Fatty Acid Composition     FAC In  Incremental          20000000.0      \n",
       "                           FAC Le  Leap                 39000000.0      \n",
       "                           FAC Mo  Moderate             27000000.0      \n",
       "                           FAC SoT State of Technology         0.0      \n",
       "Overall Process Efficiency OPE In  Incremental          15000000.0      \n",
       "                           OPE Le  Leap                 35000000.0      \n",
       "                           OPE Mo  Moderate             25000000.0      \n",
       "                           OPE SoT State of Technology         0.0      "
      ]
     },
     "execution_count": 95,
     "metadata": {},
     "output_type": "execute_result"
    }
   ],
   "source": [
    "saf_investments.tranches"
   ]
  },
  {
   "cell_type": "markdown",
   "metadata": {},
   "source": [
    "#### Compute costs and metrics for tranches."
   ]
  },
  {
   "cell_type": "markdown",
   "metadata": {},
   "source": [
    "Tranches are atomic units for building investment portfolios. Evaluate all of the tranches, so we can assemble them into investments (portfolios)."
   ]
  },
  {
   "cell_type": "code",
   "execution_count": 99,
   "metadata": {},
   "outputs": [],
   "source": [
    "tranche_results = saf_investments.evaluate_tranches(saf_designs,\n",
    "                                                    sample_count=1000)"
   ]
  },
  {
   "cell_type": "markdown",
   "metadata": {},
   "source": [
    "The tranche amounts are simple how much each tranche costs."
   ]
  },
  {
   "cell_type": "code",
   "execution_count": 101,
   "metadata": {},
   "outputs": [
    {
     "data": {
      "text/html": [
       "<div>\n",
       "<style scoped>\n",
       "    .dataframe tbody tr th:only-of-type {\n",
       "        vertical-align: middle;\n",
       "    }\n",
       "\n",
       "    .dataframe tbody tr th {\n",
       "        vertical-align: top;\n",
       "    }\n",
       "\n",
       "    .dataframe thead th {\n",
       "        text-align: right;\n",
       "    }\n",
       "</style>\n",
       "<table border=\"1\" class=\"dataframe\">\n",
       "  <thead>\n",
       "    <tr style=\"text-align: right;\">\n",
       "      <th></th>\n",
       "      <th></th>\n",
       "      <th>Amount</th>\n",
       "    </tr>\n",
       "    <tr>\n",
       "      <th>Category</th>\n",
       "      <th>Tranche</th>\n",
       "      <th></th>\n",
       "    </tr>\n",
       "  </thead>\n",
       "  <tbody>\n",
       "    <tr>\n",
       "      <th rowspan=\"4\" valign=\"top\">Co-Product Revenue</th>\n",
       "      <th>CPR SoT</th>\n",
       "      <td>0.0</td>\n",
       "    </tr>\n",
       "    <tr>\n",
       "      <th>CPR In</th>\n",
       "      <td>18000000.0</td>\n",
       "    </tr>\n",
       "    <tr>\n",
       "      <th>CPR Mo</th>\n",
       "      <td>22000000.0</td>\n",
       "    </tr>\n",
       "    <tr>\n",
       "      <th>CPR Le</th>\n",
       "      <td>28000000.0</td>\n",
       "    </tr>\n",
       "    <tr>\n",
       "      <th rowspan=\"4\" valign=\"top\">Fatty Acid Composition</th>\n",
       "      <th>FAC SoT</th>\n",
       "      <td>0.0</td>\n",
       "    </tr>\n",
       "    <tr>\n",
       "      <th>FAC In</th>\n",
       "      <td>20000000.0</td>\n",
       "    </tr>\n",
       "    <tr>\n",
       "      <th>FAC Mo</th>\n",
       "      <td>27000000.0</td>\n",
       "    </tr>\n",
       "    <tr>\n",
       "      <th>FAC Le</th>\n",
       "      <td>39000000.0</td>\n",
       "    </tr>\n",
       "    <tr>\n",
       "      <th rowspan=\"4\" valign=\"top\">Overall Process Efficiency</th>\n",
       "      <th>OPE SoT</th>\n",
       "      <td>0.0</td>\n",
       "    </tr>\n",
       "    <tr>\n",
       "      <th>OPE In</th>\n",
       "      <td>15000000.0</td>\n",
       "    </tr>\n",
       "    <tr>\n",
       "      <th>OPE Mo</th>\n",
       "      <td>25000000.0</td>\n",
       "    </tr>\n",
       "    <tr>\n",
       "      <th>OPE Le</th>\n",
       "      <td>35000000.0</td>\n",
       "    </tr>\n",
       "  </tbody>\n",
       "</table>\n",
       "</div>"
      ],
      "text/plain": [
       "                                        Amount\n",
       "Category                   Tranche            \n",
       "Co-Product Revenue         CPR SoT         0.0\n",
       "                           CPR In   18000000.0\n",
       "                           CPR Mo   22000000.0\n",
       "                           CPR Le   28000000.0\n",
       "Fatty Acid Composition     FAC SoT         0.0\n",
       "                           FAC In   20000000.0\n",
       "                           FAC Mo   27000000.0\n",
       "                           FAC Le   39000000.0\n",
       "Overall Process Efficiency OPE SoT         0.0\n",
       "                           OPE In   15000000.0\n",
       "                           OPE Mo   25000000.0\n",
       "                           OPE Le   35000000.0"
      ]
     },
     "execution_count": 101,
     "metadata": {},
     "output_type": "execute_result"
    }
   ],
   "source": [
    "tranche_results.amounts.reset_index().sort_values([\"Category\", \"Amount\"]).set_index([\"Category\", \"Tranche\"])"
   ]
  },
  {
   "cell_type": "markdown",
   "metadata": {},
   "source": [
    "The tranch metrics show the values of each metric for each member of the ensemble of simulations."
   ]
  },
  {
   "cell_type": "code",
   "execution_count": 103,
   "metadata": {},
   "outputs": [
    {
     "data": {
      "text/html": [
       "<div>\n",
       "<style scoped>\n",
       "    .dataframe tbody tr th:only-of-type {\n",
       "        vertical-align: middle;\n",
       "    }\n",
       "\n",
       "    .dataframe tbody tr th {\n",
       "        vertical-align: top;\n",
       "    }\n",
       "\n",
       "    .dataframe thead th {\n",
       "        text-align: right;\n",
       "    }\n",
       "</style>\n",
       "<table border=\"1\" class=\"dataframe\">\n",
       "  <thead>\n",
       "    <tr style=\"text-align: right;\">\n",
       "      <th></th>\n",
       "      <th></th>\n",
       "      <th></th>\n",
       "      <th></th>\n",
       "      <th></th>\n",
       "      <th></th>\n",
       "      <th>Value</th>\n",
       "      <th>Units</th>\n",
       "    </tr>\n",
       "    <tr>\n",
       "      <th>Category</th>\n",
       "      <th>Tranche</th>\n",
       "      <th>Scenario</th>\n",
       "      <th>Sample</th>\n",
       "      <th>Technology</th>\n",
       "      <th>Index</th>\n",
       "      <th></th>\n",
       "      <th></th>\n",
       "    </tr>\n",
       "  </thead>\n",
       "  <tbody>\n",
       "    <tr>\n",
       "      <th rowspan=\"5\" valign=\"top\">Co-Product Revenue</th>\n",
       "      <th rowspan=\"5\" valign=\"top\">CPR In</th>\n",
       "      <th rowspan=\"5\" valign=\"top\">Incremental</th>\n",
       "      <th rowspan=\"2\" valign=\"top\">1</th>\n",
       "      <th rowspan=\"2\" valign=\"top\">ATJ Corn Dry Mill</th>\n",
       "      <th>Jet GHG</th>\n",
       "      <td>0.079735</td>\n",
       "      <td>kg CO2eq/MJ</td>\n",
       "    </tr>\n",
       "    <tr>\n",
       "      <th>MJSP</th>\n",
       "      <td>9.324083</td>\n",
       "      <td>USD/gal</td>\n",
       "    </tr>\n",
       "    <tr>\n",
       "      <th rowspan=\"2\" valign=\"top\">2</th>\n",
       "      <th rowspan=\"2\" valign=\"top\">ATJ Corn Dry Mill</th>\n",
       "      <th>Jet GHG</th>\n",
       "      <td>0.076482</td>\n",
       "      <td>kg CO2eq/MJ</td>\n",
       "    </tr>\n",
       "    <tr>\n",
       "      <th>MJSP</th>\n",
       "      <td>9.336694</td>\n",
       "      <td>USD/gal</td>\n",
       "    </tr>\n",
       "    <tr>\n",
       "      <th>3</th>\n",
       "      <th>ATJ Corn Dry Mill</th>\n",
       "      <th>Jet GHG</th>\n",
       "      <td>0.082207</td>\n",
       "      <td>kg CO2eq/MJ</td>\n",
       "    </tr>\n",
       "    <tr>\n",
       "      <th>...</th>\n",
       "      <th>...</th>\n",
       "      <th>...</th>\n",
       "      <th>...</th>\n",
       "      <th>...</th>\n",
       "      <th>...</th>\n",
       "      <td>...</td>\n",
       "      <td>...</td>\n",
       "    </tr>\n",
       "    <tr>\n",
       "      <th rowspan=\"5\" valign=\"top\">Overall Process Efficiency</th>\n",
       "      <th rowspan=\"5\" valign=\"top\">OPE SoT</th>\n",
       "      <th rowspan=\"5\" valign=\"top\">State of Technology</th>\n",
       "      <th>998</th>\n",
       "      <th>HEFA Yellow Grease</th>\n",
       "      <th>MJSP</th>\n",
       "      <td>5.326286</td>\n",
       "      <td>USD/gal</td>\n",
       "    </tr>\n",
       "    <tr>\n",
       "      <th rowspan=\"2\" valign=\"top\">999</th>\n",
       "      <th rowspan=\"2\" valign=\"top\">HEFA Yellow Grease</th>\n",
       "      <th>Jet GHG</th>\n",
       "      <td>0.017047</td>\n",
       "      <td>kg CO2eq/MJ</td>\n",
       "    </tr>\n",
       "    <tr>\n",
       "      <th>MJSP</th>\n",
       "      <td>5.272752</td>\n",
       "      <td>USD/gal</td>\n",
       "    </tr>\n",
       "    <tr>\n",
       "      <th rowspan=\"2\" valign=\"top\">1000</th>\n",
       "      <th rowspan=\"2\" valign=\"top\">HEFA Yellow Grease</th>\n",
       "      <th>Jet GHG</th>\n",
       "      <td>0.016348</td>\n",
       "      <td>kg CO2eq/MJ</td>\n",
       "    </tr>\n",
       "    <tr>\n",
       "      <th>MJSP</th>\n",
       "      <td>5.068966</td>\n",
       "      <td>USD/gal</td>\n",
       "    </tr>\n",
       "  </tbody>\n",
       "</table>\n",
       "<p>168000 rows × 2 columns</p>\n",
       "</div>"
      ],
      "text/plain": [
       "                                                                                             Value  \\\n",
       "Category                   Tranche Scenario            Sample Technology         Index               \n",
       "Co-Product Revenue         CPR In  Incremental         1      ATJ Corn Dry Mill  Jet GHG  0.079735   \n",
       "                                                                                 MJSP     9.324083   \n",
       "                                                       2      ATJ Corn Dry Mill  Jet GHG  0.076482   \n",
       "                                                                                 MJSP     9.336694   \n",
       "                                                       3      ATJ Corn Dry Mill  Jet GHG  0.082207   \n",
       "...                                                                                            ...   \n",
       "Overall Process Efficiency OPE SoT State of Technology 998    HEFA Yellow Grease MJSP     5.326286   \n",
       "                                                       999    HEFA Yellow Grease Jet GHG  0.017047   \n",
       "                                                                                 MJSP     5.272752   \n",
       "                                                       1000   HEFA Yellow Grease Jet GHG  0.016348   \n",
       "                                                                                 MJSP     5.068966   \n",
       "\n",
       "                                                                                                Units  \n",
       "Category                   Tranche Scenario            Sample Technology         Index                 \n",
       "Co-Product Revenue         CPR In  Incremental         1      ATJ Corn Dry Mill  Jet GHG  kg CO2eq/MJ  \n",
       "                                                                                 MJSP         USD/gal  \n",
       "                                                       2      ATJ Corn Dry Mill  Jet GHG  kg CO2eq/MJ  \n",
       "                                                                                 MJSP         USD/gal  \n",
       "                                                       3      ATJ Corn Dry Mill  Jet GHG  kg CO2eq/MJ  \n",
       "...                                                                                               ...  \n",
       "Overall Process Efficiency OPE SoT State of Technology 998    HEFA Yellow Grease MJSP         USD/gal  \n",
       "                                                       999    HEFA Yellow Grease Jet GHG  kg CO2eq/MJ  \n",
       "                                                                                 MJSP         USD/gal  \n",
       "                                                       1000   HEFA Yellow Grease Jet GHG  kg CO2eq/MJ  \n",
       "                                                                                 MJSP         USD/gal  \n",
       "\n",
       "[168000 rows x 2 columns]"
      ]
     },
     "execution_count": 103,
     "metadata": {},
     "output_type": "execute_result"
    }
   ],
   "source": [
    "tranche_results.metrics"
   ]
  },
  {
   "cell_type": "markdown",
   "metadata": {},
   "source": [
    "#### Prepare results for optimization."
   ]
  },
  {
   "cell_type": "markdown",
   "metadata": {},
   "source": [
    "The following will be automated, so we won't go into details here."
   ]
  },
  {
   "cell_type": "code",
   "execution_count": 104,
   "metadata": {},
   "outputs": [],
   "source": [
    "z_mjsp = tranche_results.metrics.xs(\"MJSP\", level = \"Index\", drop_level = False)"
   ]
  },
  {
   "cell_type": "code",
   "execution_count": 105,
   "metadata": {},
   "outputs": [],
   "source": [
    "z_ghg = tranche_results.metrics.xs(\"Jet GHG\", level = \"Index\", drop_level = False)"
   ]
  },
  {
   "cell_type": "code",
   "execution_count": 106,
   "metadata": {},
   "outputs": [
    {
     "data": {
      "text/plain": [
       "<AxesSubplot:>"
      ]
     },
     "execution_count": 106,
     "metadata": {},
     "output_type": "execute_result"
    },
    {
     "data": {
      "image/png": "[encoded data removed]",
      "text/plain": [
       "<Figure size 432x288 with 1 Axes>"
      ]
     },
     "metadata": {
      "needs_background": "light"
     },
     "output_type": "display_data"
    }
   ],
   "source": [
    "z_mjsp.Value.hist()"
   ]
  },
  {
   "cell_type": "code",
   "execution_count": 107,
   "metadata": {},
   "outputs": [
    {
     "data": {
      "text/plain": [
       "<AxesSubplot:>"
      ]
     },
     "execution_count": 107,
     "metadata": {},
     "output_type": "execute_result"
    },
    {
     "data": {
      "image/png": "[encoded data removed]",
      "text/plain": [
       "<Figure size 432x288 with 1 Axes>"
      ]
     },
     "metadata": {
      "needs_background": "light"
     },
     "output_type": "display_data"
    }
   ],
   "source": [
    "z_ghg.Value.hist()"
   ]
  },
  {
   "cell_type": "code",
   "execution_count": 35,
   "metadata": {},
   "outputs": [
    {
     "ename": "KeyError",
     "evalue": "'State of Technology'",
     "output_type": "error",
     "traceback": [
      "\u001b[1;31m----------------------------------------------------------\u001b[0m",
      "\u001b[1;31mKeyError\u001b[0m                 Traceback (most recent call last)",
      "\u001b[1;32m~\\AppData\\Local\\Continuum\\anaconda3\\envs\\tyche\\lib\\site-packages\\pandas\\core\\indexes\\base.py\u001b[0m in \u001b[0;36mget_loc\u001b[1;34m(self, key, method, tolerance)\u001b[0m\n\u001b[0;32m   2894\u001b[0m             \u001b[1;32mtry\u001b[0m\u001b[1;33m:\u001b[0m\u001b[1;33m\u001b[0m\u001b[1;33m\u001b[0m\u001b[0m\n\u001b[1;32m-> 2895\u001b[1;33m                 \u001b[1;32mreturn\u001b[0m \u001b[0mself\u001b[0m\u001b[1;33m.\u001b[0m\u001b[0m_engine\u001b[0m\u001b[1;33m.\u001b[0m\u001b[0mget_loc\u001b[0m\u001b[1;33m(\u001b[0m\u001b[0mcasted_key\u001b[0m\u001b[1;33m)\u001b[0m\u001b[1;33m\u001b[0m\u001b[1;33m\u001b[0m\u001b[0m\n\u001b[0m\u001b[0;32m   2896\u001b[0m             \u001b[1;32mexcept\u001b[0m \u001b[0mKeyError\u001b[0m \u001b[1;32mas\u001b[0m \u001b[0merr\u001b[0m\u001b[1;33m:\u001b[0m\u001b[1;33m\u001b[0m\u001b[1;33m\u001b[0m\u001b[0m\n",
      "\u001b[1;32mpandas\\_libs\\index.pyx\u001b[0m in \u001b[0;36mpandas._libs.index.IndexEngine.get_loc\u001b[1;34m()\u001b[0m\n",
      "\u001b[1;32mpandas\\_libs\\index.pyx\u001b[0m in \u001b[0;36mpandas._libs.index.IndexEngine.get_loc\u001b[1;34m()\u001b[0m\n",
      "\u001b[1;32mpandas\\_libs\\hashtable_class_helper.pxi\u001b[0m in \u001b[0;36mpandas._libs.hashtable.PyObjectHashTable.get_item\u001b[1;34m()\u001b[0m\n",
      "\u001b[1;32mpandas\\_libs\\hashtable_class_helper.pxi\u001b[0m in \u001b[0;36mpandas._libs.hashtable.PyObjectHashTable.get_item\u001b[1;34m()\u001b[0m\n",
      "\u001b[1;31mKeyError\u001b[0m: 'State of Technology'",
      "\nThe above exception was the direct cause of the following exception:\n",
      "\u001b[1;31mKeyError\u001b[0m                 Traceback (most recent call last)",
      "\u001b[1;32m<ipython-input-35-592c2341085d>\u001b[0m in \u001b[0;36m<module>\u001b[1;34m\u001b[0m\n\u001b[1;32m----> 1\u001b[1;33m \u001b[0mz_reference\u001b[0m \u001b[1;33m=\u001b[0m \u001b[0mnp\u001b[0m\u001b[1;33m.\u001b[0m\u001b[0mmean\u001b[0m\u001b[1;33m(\u001b[0m\u001b[0mz\u001b[0m\u001b[1;33m.\u001b[0m\u001b[0mxs\u001b[0m\u001b[1;33m(\u001b[0m\u001b[1;34m\"State of Technology\"\u001b[0m\u001b[1;33m)\u001b[0m\u001b[1;33m[\u001b[0m\u001b[1;34m\"Value\"\u001b[0m\u001b[1;33m]\u001b[0m\u001b[1;33m)\u001b[0m\u001b[1;33m\u001b[0m\u001b[1;33m\u001b[0m\u001b[0m\n\u001b[0m\u001b[0;32m      2\u001b[0m \u001b[0mz_reference\u001b[0m\u001b[1;33m\u001b[0m\u001b[1;33m\u001b[0m\u001b[0m\n",
      "\u001b[1;32m~\\AppData\\Local\\Continuum\\anaconda3\\envs\\tyche\\lib\\site-packages\\pandas\\core\\generic.py\u001b[0m in \u001b[0;36mxs\u001b[1;34m(self, key, axis, level, drop_level)\u001b[0m\n\u001b[0;32m   3487\u001b[0m         \u001b[0mindex\u001b[0m \u001b[1;33m=\u001b[0m \u001b[0mself\u001b[0m\u001b[1;33m.\u001b[0m\u001b[0mindex\u001b[0m\u001b[1;33m\u001b[0m\u001b[1;33m\u001b[0m\u001b[0m\n\u001b[0;32m   3488\u001b[0m         \u001b[1;32mif\u001b[0m \u001b[0misinstance\u001b[0m\u001b[1;33m(\u001b[0m\u001b[0mindex\u001b[0m\u001b[1;33m,\u001b[0m \u001b[0mMultiIndex\u001b[0m\u001b[1;33m)\u001b[0m\u001b[1;33m:\u001b[0m\u001b[1;33m\u001b[0m\u001b[1;33m\u001b[0m\u001b[0m\n\u001b[1;32m-> 3489\u001b[1;33m             \u001b[0mloc\u001b[0m\u001b[1;33m,\u001b[0m \u001b[0mnew_index\u001b[0m \u001b[1;33m=\u001b[0m \u001b[0mself\u001b[0m\u001b[1;33m.\u001b[0m\u001b[0mindex\u001b[0m\u001b[1;33m.\u001b[0m\u001b[0mget_loc_level\u001b[0m\u001b[1;33m(\u001b[0m\u001b[0mkey\u001b[0m\u001b[1;33m,\u001b[0m \u001b[0mdrop_level\u001b[0m\u001b[1;33m=\u001b[0m\u001b[0mdrop_level\u001b[0m\u001b[1;33m)\u001b[0m\u001b[1;33m\u001b[0m\u001b[1;33m\u001b[0m\u001b[0m\n\u001b[0m\u001b[0;32m   3490\u001b[0m         \u001b[1;32melse\u001b[0m\u001b[1;33m:\u001b[0m\u001b[1;33m\u001b[0m\u001b[1;33m\u001b[0m\u001b[0m\n\u001b[0;32m   3491\u001b[0m             \u001b[0mloc\u001b[0m \u001b[1;33m=\u001b[0m \u001b[0mself\u001b[0m\u001b[1;33m.\u001b[0m\u001b[0mindex\u001b[0m\u001b[1;33m.\u001b[0m\u001b[0mget_loc\u001b[0m\u001b[1;33m(\u001b[0m\u001b[0mkey\u001b[0m\u001b[1;33m)\u001b[0m\u001b[1;33m\u001b[0m\u001b[1;33m\u001b[0m\u001b[0m\n",
      "\u001b[1;32m~\\AppData\\Local\\Continuum\\anaconda3\\envs\\tyche\\lib\\site-packages\\pandas\\core\\indexes\\multi.py\u001b[0m in \u001b[0;36mget_loc_level\u001b[1;34m(self, key, level, drop_level)\u001b[0m\n\u001b[0;32m   2883\u001b[0m                 \u001b[1;32mreturn\u001b[0m \u001b[0mindexer\u001b[0m\u001b[1;33m,\u001b[0m \u001b[0mmaybe_mi_droplevels\u001b[0m\u001b[1;33m(\u001b[0m\u001b[0mindexer\u001b[0m\u001b[1;33m,\u001b[0m \u001b[0milevels\u001b[0m\u001b[1;33m,\u001b[0m \u001b[0mdrop_level\u001b[0m\u001b[1;33m)\u001b[0m\u001b[1;33m\u001b[0m\u001b[1;33m\u001b[0m\u001b[0m\n\u001b[0;32m   2884\u001b[0m         \u001b[1;32melse\u001b[0m\u001b[1;33m:\u001b[0m\u001b[1;33m\u001b[0m\u001b[1;33m\u001b[0m\u001b[0m\n\u001b[1;32m-> 2885\u001b[1;33m             \u001b[0mindexer\u001b[0m \u001b[1;33m=\u001b[0m \u001b[0mself\u001b[0m\u001b[1;33m.\u001b[0m\u001b[0m_get_level_indexer\u001b[0m\u001b[1;33m(\u001b[0m\u001b[0mkey\u001b[0m\u001b[1;33m,\u001b[0m \u001b[0mlevel\u001b[0m\u001b[1;33m=\u001b[0m\u001b[0mlevel\u001b[0m\u001b[1;33m)\u001b[0m\u001b[1;33m\u001b[0m\u001b[1;33m\u001b[0m\u001b[0m\n\u001b[0m\u001b[0;32m   2886\u001b[0m             \u001b[1;32mreturn\u001b[0m \u001b[0mindexer\u001b[0m\u001b[1;33m,\u001b[0m \u001b[0mmaybe_mi_droplevels\u001b[0m\u001b[1;33m(\u001b[0m\u001b[0mindexer\u001b[0m\u001b[1;33m,\u001b[0m \u001b[1;33m[\u001b[0m\u001b[0mlevel\u001b[0m\u001b[1;33m]\u001b[0m\u001b[1;33m,\u001b[0m \u001b[0mdrop_level\u001b[0m\u001b[1;33m)\u001b[0m\u001b[1;33m\u001b[0m\u001b[1;33m\u001b[0m\u001b[0m\n\u001b[0;32m   2887\u001b[0m \u001b[1;33m\u001b[0m\u001b[0m\n",
      "\u001b[1;32m~\\AppData\\Local\\Continuum\\anaconda3\\envs\\tyche\\lib\\site-packages\\pandas\\core\\indexes\\multi.py\u001b[0m in \u001b[0;36m_get_level_indexer\u001b[1;34m(self, key, level, indexer)\u001b[0m\n\u001b[0;32m   2967\u001b[0m         \u001b[1;32melse\u001b[0m\u001b[1;33m:\u001b[0m\u001b[1;33m\u001b[0m\u001b[1;33m\u001b[0m\u001b[0m\n\u001b[0;32m   2968\u001b[0m \u001b[1;33m\u001b[0m\u001b[0m\n\u001b[1;32m-> 2969\u001b[1;33m             \u001b[0mcode\u001b[0m \u001b[1;33m=\u001b[0m \u001b[0mself\u001b[0m\u001b[1;33m.\u001b[0m\u001b[0m_get_loc_single_level_index\u001b[0m\u001b[1;33m(\u001b[0m\u001b[0mlevel_index\u001b[0m\u001b[1;33m,\u001b[0m \u001b[0mkey\u001b[0m\u001b[1;33m)\u001b[0m\u001b[1;33m\u001b[0m\u001b[1;33m\u001b[0m\u001b[0m\n\u001b[0m\u001b[0;32m   2970\u001b[0m \u001b[1;33m\u001b[0m\u001b[0m\n\u001b[0;32m   2971\u001b[0m             \u001b[1;32mif\u001b[0m \u001b[0mlevel\u001b[0m \u001b[1;33m>\u001b[0m \u001b[1;36m0\u001b[0m \u001b[1;32mor\u001b[0m \u001b[0mself\u001b[0m\u001b[1;33m.\u001b[0m\u001b[0mlexsort_depth\u001b[0m \u001b[1;33m==\u001b[0m \u001b[1;36m0\u001b[0m\u001b[1;33m:\u001b[0m\u001b[1;33m\u001b[0m\u001b[1;33m\u001b[0m\u001b[0m\n",
      "\u001b[1;32m~\\AppData\\Local\\Continuum\\anaconda3\\envs\\tyche\\lib\\site-packages\\pandas\\core\\indexes\\multi.py\u001b[0m in \u001b[0;36m_get_loc_single_level_index\u001b[1;34m(self, level_index, key)\u001b[0m\n\u001b[0;32m   2635\u001b[0m             \u001b[1;32mreturn\u001b[0m \u001b[1;33m-\u001b[0m\u001b[1;36m1\u001b[0m\u001b[1;33m\u001b[0m\u001b[1;33m\u001b[0m\u001b[0m\n\u001b[0;32m   2636\u001b[0m         \u001b[1;32melse\u001b[0m\u001b[1;33m:\u001b[0m\u001b[1;33m\u001b[0m\u001b[1;33m\u001b[0m\u001b[0m\n\u001b[1;32m-> 2637\u001b[1;33m             \u001b[1;32mreturn\u001b[0m \u001b[0mlevel_index\u001b[0m\u001b[1;33m.\u001b[0m\u001b[0mget_loc\u001b[0m\u001b[1;33m(\u001b[0m\u001b[0mkey\u001b[0m\u001b[1;33m)\u001b[0m\u001b[1;33m\u001b[0m\u001b[1;33m\u001b[0m\u001b[0m\n\u001b[0m\u001b[0;32m   2638\u001b[0m \u001b[1;33m\u001b[0m\u001b[0m\n\u001b[0;32m   2639\u001b[0m     \u001b[1;32mdef\u001b[0m \u001b[0mget_loc\u001b[0m\u001b[1;33m(\u001b[0m\u001b[0mself\u001b[0m\u001b[1;33m,\u001b[0m \u001b[0mkey\u001b[0m\u001b[1;33m,\u001b[0m \u001b[0mmethod\u001b[0m\u001b[1;33m=\u001b[0m\u001b[1;32mNone\u001b[0m\u001b[1;33m)\u001b[0m\u001b[1;33m:\u001b[0m\u001b[1;33m\u001b[0m\u001b[1;33m\u001b[0m\u001b[0m\n",
      "\u001b[1;32m~\\AppData\\Local\\Continuum\\anaconda3\\envs\\tyche\\lib\\site-packages\\pandas\\core\\indexes\\base.py\u001b[0m in \u001b[0;36mget_loc\u001b[1;34m(self, key, method, tolerance)\u001b[0m\n\u001b[0;32m   2895\u001b[0m                 \u001b[1;32mreturn\u001b[0m \u001b[0mself\u001b[0m\u001b[1;33m.\u001b[0m\u001b[0m_engine\u001b[0m\u001b[1;33m.\u001b[0m\u001b[0mget_loc\u001b[0m\u001b[1;33m(\u001b[0m\u001b[0mcasted_key\u001b[0m\u001b[1;33m)\u001b[0m\u001b[1;33m\u001b[0m\u001b[1;33m\u001b[0m\u001b[0m\n\u001b[0;32m   2896\u001b[0m             \u001b[1;32mexcept\u001b[0m \u001b[0mKeyError\u001b[0m \u001b[1;32mas\u001b[0m \u001b[0merr\u001b[0m\u001b[1;33m:\u001b[0m\u001b[1;33m\u001b[0m\u001b[1;33m\u001b[0m\u001b[0m\n\u001b[1;32m-> 2897\u001b[1;33m                 \u001b[1;32mraise\u001b[0m \u001b[0mKeyError\u001b[0m\u001b[1;33m(\u001b[0m\u001b[0mkey\u001b[0m\u001b[1;33m)\u001b[0m \u001b[1;32mfrom\u001b[0m \u001b[0merr\u001b[0m\u001b[1;33m\u001b[0m\u001b[1;33m\u001b[0m\u001b[0m\n\u001b[0m\u001b[0;32m   2898\u001b[0m \u001b[1;33m\u001b[0m\u001b[0m\n\u001b[0;32m   2899\u001b[0m         \u001b[1;32mif\u001b[0m \u001b[0mtolerance\u001b[0m \u001b[1;32mis\u001b[0m \u001b[1;32mnot\u001b[0m \u001b[1;32mNone\u001b[0m\u001b[1;33m:\u001b[0m\u001b[1;33m\u001b[0m\u001b[1;33m\u001b[0m\u001b[0m\n",
      "\u001b[1;31mKeyError\u001b[0m: 'State of Technology'"
     ]
    }
   ],
   "source": [
    "z_reference = np.mean(z.xs(\"Base Case\")[\"Value\"])\n",
    "z_reference"
   ]
  },
  {
   "cell_type": "code",
   "execution_count": 49,
   "metadata": {},
   "outputs": [
    {
     "name": "stderr",
     "output_type": "stream",
     "text": [
      "/nix/store/h4fw31iyvnvyvfcfx4p5lxs6z78hq67g-python3-3.7.6-env/lib/python3.7/site-packages/ipykernel_launcher.py:1: SettingWithCopyWarning: \n",
      "A value is trying to be set on a copy of a slice from a DataFrame.\n",
      "Try using .loc[row_indexer,col_indexer] = value instead\n",
      "\n",
      "See the caveats in the documentation: https://pandas.pydata.org/pandas-docs/stable/user_guide/indexing.html#returning-a-view-versus-a-copy\n",
      "  \"\"\"Entry point for launching an IPython kernel.\n"
     ]
    }
   ],
   "source": [
    "z[\"Value\"] = z_reference - z[\"Value\"]"
   ]
  },
  {
   "cell_type": "code",
   "execution_count": 33,
   "metadata": {},
   "outputs": [],
   "source": [
    "z = z[z.index.get_level_values(0) != \"Base Case\"]"
   ]
  },
  {
   "cell_type": "markdown",
   "metadata": {},
   "source": [
    "#### The `Evaluator` object provides convenient access to the simulation results."
   ]
  },
  {
   "cell_type": "code",
   "execution_count": 111,
   "metadata": {},
   "outputs": [],
   "source": [
    "evaluator = ty.Evaluator(saf_investments.tranches, tranche_results.metrics)"
   ]
  },
  {
   "cell_type": "markdown",
   "metadata": {},
   "source": [
    "#### Query the maximum investments possible in each category."
   ]
  },
  {
   "cell_type": "code",
   "execution_count": 112,
   "metadata": {},
   "outputs": [
    {
     "data": {
      "text/html": [
       "<div>\n",
       "<style scoped>\n",
       "    .dataframe tbody tr th:only-of-type {\n",
       "        vertical-align: middle;\n",
       "    }\n",
       "\n",
       "    .dataframe tbody tr th {\n",
       "        vertical-align: top;\n",
       "    }\n",
       "\n",
       "    .dataframe thead th {\n",
       "        text-align: right;\n",
       "    }\n",
       "</style>\n",
       "<table border=\"1\" class=\"dataframe\">\n",
       "  <thead>\n",
       "    <tr style=\"text-align: right;\">\n",
       "      <th></th>\n",
       "      <th>Amount</th>\n",
       "    </tr>\n",
       "    <tr>\n",
       "      <th>Category</th>\n",
       "      <th></th>\n",
       "    </tr>\n",
       "  </thead>\n",
       "  <tbody>\n",
       "    <tr>\n",
       "      <th>Co-Product Revenue</th>\n",
       "      <td>28000000.0</td>\n",
       "    </tr>\n",
       "    <tr>\n",
       "      <th>Fatty Acid Composition</th>\n",
       "      <td>39000000.0</td>\n",
       "    </tr>\n",
       "    <tr>\n",
       "      <th>Overall Process Efficiency</th>\n",
       "      <td>35000000.0</td>\n",
       "    </tr>\n",
       "  </tbody>\n",
       "</table>\n",
       "</div>"
      ],
      "text/plain": [
       "                                Amount\n",
       "Category                              \n",
       "Co-Product Revenue          28000000.0\n",
       "Fatty Acid Composition      39000000.0\n",
       "Overall Process Efficiency  35000000.0"
      ]
     },
     "execution_count": 112,
     "metadata": {},
     "output_type": "execute_result"
    }
   ],
   "source": [
    "evaluator.max_amount"
   ]
  },
  {
   "cell_type": "markdown",
   "metadata": {},
   "source": [
    "Query the units of measure for each metric."
   ]
  },
  {
   "cell_type": "code",
   "execution_count": 113,
   "metadata": {},
   "outputs": [
    {
     "data": {
      "text/html": [
       "<div>\n",
       "<style scoped>\n",
       "    .dataframe tbody tr th:only-of-type {\n",
       "        vertical-align: middle;\n",
       "    }\n",
       "\n",
       "    .dataframe tbody tr th {\n",
       "        vertical-align: top;\n",
       "    }\n",
       "\n",
       "    .dataframe thead th {\n",
       "        text-align: right;\n",
       "    }\n",
       "</style>\n",
       "<table border=\"1\" class=\"dataframe\">\n",
       "  <thead>\n",
       "    <tr style=\"text-align: right;\">\n",
       "      <th></th>\n",
       "      <th>Units</th>\n",
       "    </tr>\n",
       "    <tr>\n",
       "      <th>Index</th>\n",
       "      <th></th>\n",
       "    </tr>\n",
       "  </thead>\n",
       "  <tbody>\n",
       "    <tr>\n",
       "      <th>Jet GHG</th>\n",
       "      <td>kg CO2eq/MJ</td>\n",
       "    </tr>\n",
       "    <tr>\n",
       "      <th>MJSP</th>\n",
       "      <td>USD/gal</td>\n",
       "    </tr>\n",
       "  </tbody>\n",
       "</table>\n",
       "</div>"
      ],
      "text/plain": [
       "               Units\n",
       "Index               \n",
       "Jet GHG  kg CO2eq/MJ\n",
       "MJSP         USD/gal"
      ]
     },
     "execution_count": 113,
     "metadata": {},
     "output_type": "execute_result"
    }
   ],
   "source": [
    "evaluator.units"
   ]
  },
  {
   "cell_type": "code",
   "execution_count": 114,
   "metadata": {},
   "outputs": [
    {
     "data": {
      "text/plain": [
       "array(['Jet GHG', 'MJSP'], dtype=object)"
      ]
     },
     "execution_count": 114,
     "metadata": {},
     "output_type": "execute_result"
    }
   ],
   "source": [
    "evaluator.metrics"
   ]
  },
  {
   "cell_type": "markdown",
   "metadata": {},
   "source": [
    "#### Create the optimizer."
   ]
  },
  {
   "cell_type": "code",
   "execution_count": 115,
   "metadata": {},
   "outputs": [],
   "source": [
    "optimizer = ty.EpsilonConstraintOptimizer(evaluator)"
   ]
  },
  {
   "cell_type": "markdown",
   "metadata": {},
   "source": [
    "#### Query the maximum values attainable for each metric."
   ]
  },
  {
   "cell_type": "code",
   "execution_count": 116,
   "metadata": {},
   "outputs": [
    {
     "data": {
      "text/plain": [
       "Jet GHG     0.164076\n",
       "MJSP       23.999682\n",
       "Name: Value, dtype: float64"
      ]
     },
     "execution_count": 116,
     "metadata": {},
     "output_type": "execute_result"
    }
   ],
   "source": [
    "metric_max = optimizer.max_metrics()\n",
    "#z_reference - metric_max\n",
    "metric_max"
   ]
  },
  {
   "cell_type": "markdown",
   "metadata": {},
   "source": [
    "#### Find the lowest LCOE if only \\$5M can be spent."
   ]
  },
  {
   "cell_type": "code",
   "execution_count": 117,
   "metadata": {},
   "outputs": [
    {
     "data": {
      "text/plain": [
       "'Optimization terminated successfully'"
      ]
     },
     "execution_count": 117,
     "metadata": {},
     "output_type": "execute_result"
    }
   ],
   "source": [
    "w = optimizer.maximize_slsqp(\n",
    "    \"MJSP\",\n",
    "    total_amount = 102000000,\n",
    ")\n",
    "w[1]"
   ]
  },
  {
   "cell_type": "markdown",
   "metadata": {},
   "source": [
    "Investment amounts"
   ]
  },
  {
   "cell_type": "code",
   "execution_count": 118,
   "metadata": {},
   "outputs": [
    {
     "data": {
      "text/plain": [
       "Category\n",
       "Co-Product Revenue            0.0\n",
       "Fatty Acid Composition        0.0\n",
       "Overall Process Efficiency    0.0\n",
       "Name: Amount, dtype: float64"
      ]
     },
     "execution_count": 118,
     "metadata": {},
     "output_type": "execute_result"
    }
   ],
   "source": [
    "w[2]"
   ]
  },
  {
   "cell_type": "markdown",
   "metadata": {},
   "source": [
    "Resulting metric."
   ]
  },
  {
   "cell_type": "code",
   "execution_count": 119,
   "metadata": {},
   "outputs": [
    {
     "data": {
      "text/plain": [
       "Index\n",
       "Jet GHG     0.130669\n",
       "MJSP       23.999682\n",
       "Name: Value, dtype: float64"
      ]
     },
     "execution_count": 119,
     "metadata": {},
     "output_type": "execute_result"
    }
   ],
   "source": [
    "w[3]"
   ]
  },
  {
   "cell_type": "markdown",
   "metadata": {},
   "source": [
    "#### Find the lowest LCOE if only 5M USD can be spent and only 2M USD can be spent in each category."
   ]
  },
  {
   "cell_type": "code",
   "execution_count": 55,
   "metadata": {},
   "outputs": [
    {
     "data": {
      "text/plain": [
       "'Optimization terminated successfully'"
      ]
     },
     "execution_count": 55,
     "metadata": {},
     "output_type": "execute_result"
    }
   ],
   "source": [
    "w = optimizer.maximize_slsqp(\n",
    "    \"MJSP\",\n",
    "    total_amount = 5000000,\n",
    "    max_amount = pd.Series(\n",
    "        [2000000, 2000000, 2000000],\n",
    "        index=[\"Rotor Investment Only\", \"Drive Investment Only\", \"Tower Investment Only\"]\n",
    "    )\n",
    ")\n",
    "w[1]"
   ]
  },
  {
   "cell_type": "markdown",
   "metadata": {},
   "source": [
    "Investment amounts"
   ]
  },
  {
   "cell_type": "code",
   "execution_count": 56,
   "metadata": {},
   "outputs": [
    {
     "data": {
      "text/plain": [
       "Category\n",
       "Co-Product Revenue            0.0\n",
       "Fatty Acid Composition        0.0\n",
       "Overall Process Efficiency    0.0\n",
       "Name: Amount, dtype: float64"
      ]
     },
     "execution_count": 56,
     "metadata": {},
     "output_type": "execute_result"
    }
   ],
   "source": [
    "w[2]"
   ]
  },
  {
   "cell_type": "markdown",
   "metadata": {},
   "source": [
    "Resulting metric."
   ]
  },
  {
   "cell_type": "code",
   "execution_count": 57,
   "metadata": {},
   "outputs": [
    {
     "data": {
      "text/plain": [
       "Index\n",
       "MJSP    167.903639\n",
       "Name: Value, dtype: float64"
      ]
     },
     "execution_count": 57,
     "metadata": {},
     "output_type": "execute_result"
    }
   ],
   "source": [
    "w[3]"
   ]
  }
 ],
 "metadata": {
  "@webio": {
   "lastCommId": null,
   "lastKernelId": null
  },
  "kernelspec": {
   "display_name": "Python 3",
   "language": "python",
   "name": "python3"
  },
  "language_info": {
   "codemirror_mode": {
    "name": "ipython",
    "version": 3
   },
   "file_extension": ".py",
   "mimetype": "text/x-python",
   "name": "python",
   "nbconvert_exporter": "python",
   "pygments_lexer": "ipython3",
   "version": "3.7.8"
  }
 },
 "nbformat": 4,
 "nbformat_minor": 2
}
